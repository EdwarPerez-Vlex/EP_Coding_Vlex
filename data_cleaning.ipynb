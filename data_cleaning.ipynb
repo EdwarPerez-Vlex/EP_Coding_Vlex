{
 "cells": [
  {
   "cell_type": "code",
   "execution_count": 16,
   "id": "2c923910",
   "metadata": {},
   "outputs": [],
   "source": [
    "import pandas as pd"
   ]
  },
  {
   "cell_type": "code",
   "execution_count": 17,
   "id": "a98aa28c",
   "metadata": {},
   "outputs": [
    {
     "data": {
      "text/plain": [
       "0                                     Civil Litigation\n",
       "1                                                  NaN\n",
       "2              Civil Litigation, Commercial Litigation\n",
       "3                            Real Estate, Notarial Law\n",
       "4                           Tax Law, Tax Exemption Law\n",
       "5                 Labor and Employment Law, Notary Law\n",
       "6    Litigation, Distribution and Franchise Law, Co...\n",
       "7    Torts, Personal Injury, Banking Law, Construct...\n",
       "8            Litigation, Insurance Regulation, Tax Law\n",
       "9                                       Civil Practice\n",
       "Name: Areas of Practice, dtype: object"
      ]
     },
     "execution_count": 17,
     "metadata": {},
     "output_type": "execute_result"
    }
   ],
   "source": [
    "### Carga df \n",
    "path_xlsx = \"/Users/mac2/Library/CloudStorage/GoogleDrive-edwar.perez@vlex.com/Mi unidad/EP_Coding_Vlex/Martindale/datos_abogados.xlsx\"\n",
    "df = pd.read_excel(path_xlsx)\n",
    "df = df.dropna(axis=1, how='all')\n",
    "#df.iloc[:,6:].head()\n",
    "df[\"Areas of Practice\"].head(10)\n"
   ]
  },
  {
   "cell_type": "code",
   "execution_count": 14,
   "id": "e63812cf",
   "metadata": {},
   "outputs": [
    {
     "data": {
      "text/plain": [
       "0    ;Taxation; Health Care; Regulatory Law; Transp...\n",
       "1                                                 ;nan\n",
       "2    ;Workers Compensation; Alternative Dispute Res...\n",
       "3    ;Property Law; Internet Law; Construction Law;...\n",
       "4    ;Military Law; Health Care; Property Law; Work...\n",
       "5    ;Zoning; Planning and Land Use; Insurance Defe...\n",
       "6    ;Workers Compensation; Mergers; Acquisitions a...\n",
       "7    ;Insurance Defense; Social Security; Products ...\n",
       "8    ;Military Law; Animal Law; Agency and Distribu...\n",
       "9    ;Investments; White Collar Crime; Corporate La...\n",
       "Name: Areas of Practice, dtype: object"
      ]
     },
     "execution_count": 14,
     "metadata": {},
     "output_type": "execute_result"
    }
   ],
   "source": [
    "practice_cols = [col for col in df.columns if \"practice area\" in col.lower()]\n",
    "df['Areas of Practice'] = df[practice_cols].astype(str).agg(', '.join, axis=1)\n",
    "df['Areas of Practice'] = df['Areas of Practice'].str.replace(r'(\\s*,\\s*)+', ', ', regex=True)\n",
    "df['Areas of Practice'] = df['Areas of Practice'].str.replace(r'^(nan, )+|(, nan)+$', '', regex=True)\n",
    "df['Areas of Practice'] = df['Areas of Practice'].str.strip(', ')\n",
    "df['Areas of Practice'] = df['Areas of Practice'].str.replace(',', ';').str.replace(r'\\s*;\\s*', '; ', regex=True).str.strip()\n",
    "# Agregar punto y coma al inicio, si no está vacío\n",
    "df['Areas of Practice'] = df['Areas of Practice'].apply(\n",
    "    lambda x: ';' + x if pd.notnull(x) and not x.startswith(';') else x)\n",
    "df.drop(columns=practice_cols, inplace=True)\n",
    "df[\"Areas of Practice\"].head(10)\n"
   ]
  },
  {
   "cell_type": "code",
   "execution_count": 18,
   "id": "e779d4fc",
   "metadata": {},
   "outputs": [],
   "source": [
    "df.to_excel(\"Martindale_attorneys_clean.xlsx\",index=False)"
   ]
  }
 ],
 "metadata": {
  "kernelspec": {
   "display_name": ".venv",
   "language": "python",
   "name": "python3"
  },
  "language_info": {
   "codemirror_mode": {
    "name": "ipython",
    "version": 3
   },
   "file_extension": ".py",
   "mimetype": "text/x-python",
   "name": "python",
   "nbconvert_exporter": "python",
   "pygments_lexer": "ipython3",
   "version": "3.13.5"
  }
 },
 "nbformat": 4,
 "nbformat_minor": 5
}
