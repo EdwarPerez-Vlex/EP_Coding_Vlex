{
 "cells": [
  {
   "cell_type": "code",
   "execution_count": 13,
   "id": "7913cf85",
   "metadata": {},
   "outputs": [],
   "source": [
    "### Import necessary libraries\n",
    "import time\n",
    "import random\n",
    "import tqdm\n",
    "import pandas as pd\n",
    "from bs4 import BeautifulSoup\n",
    "from selenium import webdriver\n",
    "from selenium.webdriver.common.by import By\n",
    "from selenium.common.exceptions import TimeoutException, NoSuchElementException, StaleElementReferenceException, WebDriverException\n",
    "from selenium.webdriver.support.ui import WebDriverWait\n",
    "from selenium.webdriver.support import expected_conditions as EC\n",
    "from selenium.webdriver.firefox.options import Options\n",
    "from selenium.webdriver.firefox.firefox_profile import FirefoxProfile\n",
    "from selenium.webdriver.common.by import By\n",
    "from selenium.webdriver import Firefox\n",
    "from urllib.parse import urlparse, parse_qsl, urlencode, urlunparse\n",
    "import json\n",
    "import pickle\n"
   ]
  },
  {
   "cell_type": "markdown",
   "id": "902073c4",
   "metadata": {},
   "source": [
    "# Funciones para el proyecto"
   ]
  },
  {
   "cell_type": "code",
   "execution_count": 45,
   "id": "2249ef42",
   "metadata": {},
   "outputs": [],
   "source": [
    "def get_random_user_agent():\n",
    "    HEADERS_LIST = [\n",
    "        {\n",
    "            \"User-Agent\": \"Mozilla/5.0 (Windows NT 10.0; Win64; x64) AppleWebKit/537.36 (KHTML, like Gecko) Chrome/123.0.6312.86 Safari/537.36\",\n",
    "            \"Accept\": \"text/html,application/xhtml+xml,application/xml;q=0.9,image/avif,image/webp,/;q=0.8\",\n",
    "            \"Accept-Language\": \"en-US,en;q=0.9\",\n",
    "            \"Referer\": \"https://www.google.com/\",\n",
    "            \"Connection\": \"keep-alive\",\n",
    "            \"Cookie\": \"CONSENT=YES+1; NID=511=exampleSessionId123abc\"\n",
    "        },\n",
    "        {\n",
    "            \"User-Agent\": \"Mozilla/5.0 (Macintosh; Intel Mac OS X 13_5) AppleWebKit/605.1.15 (KHTML, like Gecko) Version/17.3 Safari/605.1.15\",\n",
    "            \"Accept\": \"text/html,application/xhtml+xml,application/xml;q=0.9,/;q=0.8\",\n",
    "            \"Accept-Language\": \"en-US,en;q=0.8\",\n",
    "            \"Referer\": \"https://duckduckgo.com/\",\n",
    "            \"Connection\": \"keep-alive\",\n",
    "            \"Cookie\": \"D=do_not_track; example_cookie_id=macSafariSession987\"\n",
    "        },\n",
    "        {\n",
    "            \"User-Agent\": \"Mozilla/5.0 (X11; Linux x86_64) AppleWebKit/537.36 (KHTML, like Gecko) Chrome/122.0.0.0 Safari/537.36\",\n",
    "            \"Accept\": \"text/html,application/xhtml+xml,application/xml;q=0.9\",\n",
    "            \"Accept-Language\": \"en-GB,en;q=0.8\",\n",
    "            \"Referer\": \"https://www.bing.com/\",\n",
    "            \"Connection\": \"keep-alive\",\n",
    "            \"Cookie\": \"session=linux_session_xyz789; logged_in=true\"\n",
    "        },\n",
    "        {\n",
    "            \"User-Agent\": \"Mozilla/5.0 (iPhone; CPU iPhone OS 17_0 like Mac OS X) AppleWebKit/605.1.15 (KHTML, like Gecko) Version/17.0 Mobile/15E148 Safari/604.1\",\n",
    "            \"Accept\": \"text/html,application/xhtml+xml,application/xml;q=0.9,/;q=0.8\",\n",
    "            \"Accept-Language\": \"en-US,en;q=0.9\",\n",
    "            \"Referer\": \"https://m.facebook.com/\",\n",
    "            \"Connection\": \"keep-alive\",\n",
    "            \"Cookie\": \"fb_locale=en_US; datr=mobileSafariFakeSession123\"\n",
    "        }\n",
    "    ]\n",
    "    return random.choice(HEADERS_LIST)"
   ]
  },
  {
   "cell_type": "code",
   "execution_count": 57,
   "id": "7ffc9293",
   "metadata": {},
   "outputs": [],
   "source": [
    "### Set del driver y lista de user-agents\n",
    "USER_AGENTS = [\n",
    "        {\n",
    "            \"User-Agent\": \"Mozilla/5.0 (Windows NT 10.0; Win64; x64) AppleWebKit/537.36 (KHTML, like Gecko) Chrome/123.0.6312.86 Safari/537.36\",\n",
    "            \"Accept\": \"text/html,application/xhtml+xml,application/xml;q=0.9,image/avif,image/webp,/;q=0.8\",\n",
    "            \"Accept-Language\": \"en-US,en;q=0.9\",\n",
    "            \"Referer\": \"https://www.google.com/\",\n",
    "            \"Connection\": \"keep-alive\",\n",
    "            \"Cookie\": \"CONSENT=YES+1; NID=511=exampleSessionId123abc\"\n",
    "        },\n",
    "        {\n",
    "            \"User-Agent\": \"Mozilla/5.0 (Macintosh; Intel Mac OS X 13_5) AppleWebKit/605.1.15 (KHTML, like Gecko) Version/17.3 Safari/605.1.15\",\n",
    "            \"Accept\": \"text/html,application/xhtml+xml,application/xml;q=0.9,/;q=0.8\",\n",
    "            \"Accept-Language\": \"en-US,en;q=0.8\",\n",
    "            \"Referer\": \"https://duckduckgo.com/\",\n",
    "            \"Connection\": \"keep-alive\",\n",
    "            \"Cookie\": \"D=do_not_track; example_cookie_id=macSafariSession987\"\n",
    "        },\n",
    "        {\n",
    "            \"User-Agent\": \"Mozilla/5.0 (X11; Linux x86_64) AppleWebKit/537.36 (KHTML, like Gecko) Chrome/122.0.0.0 Safari/537.36\",\n",
    "            \"Accept\": \"text/html,application/xhtml+xml,application/xml;q=0.9\",\n",
    "            \"Accept-Language\": \"en-GB,en;q=0.8\",\n",
    "            \"Referer\": \"https://www.bing.com/\",\n",
    "            \"Connection\": \"keep-alive\",\n",
    "            \"Cookie\": \"session=linux_session_xyz789; logged_in=true\"\n",
    "        },\n",
    "        {\n",
    "            \"User-Agent\": \"Mozilla/5.0 (iPhone; CPU iPhone OS 17_0 like Mac OS X) AppleWebKit/605.1.15 (KHTML, like Gecko) Version/17.0 Mobile/15E148 Safari/604.1\",\n",
    "            \"Accept\": \"text/html,application/xhtml+xml,application/xml;q=0.9,/;q=0.8\",\n",
    "            \"Accept-Language\": \"en-US,en;q=0.9\",\n",
    "            \"Referer\": \"https://m.facebook.com/\",\n",
    "            \"Connection\": \"keep-alive\",\n",
    "            \"Cookie\": \"fb_locale=en_US; datr=mobileSafariFakeSession123\"\n",
    "        }\n",
    "    ]\n",
    "\n",
    "def setup_driver(headless=False):\n",
    "    \"\"\"Inicializa el WebDriver de Selenium con configuración de Firefox en modo headless.\"\"\"\n",
    "    profile = FirefoxProfile()\n",
    "    profile.set_preference(\"general.useragent.override\", get_random_user_agent())\n",
    "    profile.set_preference(\"intl.accept_languages\", \"es-ES,es\")\n",
    "    firefox_options = Options()\n",
    "    firefox_options.profile = profile\n",
    "    if headless:\n",
    "        firefox_options.add_argument(\"--headless\")  # Run in headleßss mode\n",
    "    driver = Firefox(options=firefox_options)\n",
    "    driver.set_page_load_timeout(10)\n",
    "    return driver\n"
   ]
  },
  {
   "cell_type": "code",
   "execution_count": 81,
   "id": "1ebe94b7",
   "metadata": {},
   "outputs": [],
   "source": [
    "def setup_driver(headless=False):\n",
    "    headers = get_random_user_agent()\n",
    "\n",
    "    profile = FirefoxProfile()\n",
    "    profile.set_preference(\"general.useragent.override\", headers[\"User-Agent\"])\n",
    "    profile.set_preference(\"intl.accept_languages\", headers[\"Accept-Language\"])\n",
    "\n",
    "    options = Options()\n",
    "    options.profile = profile\n",
    "    if headless:\n",
    "        options.add_argument(\"--headless\")\n",
    "\n",
    "    driver = Firefox(options=options)\n",
    "    driver.set_page_load_timeout(10)\n",
    "    \n",
    "    # Navegar desde un referer simulado\n",
    "    driver.execute_script(f\"window.location.href = '{headers['Referer']}';\")\n",
    "\n",
    "    return driver"
   ]
  },
  {
   "cell_type": "code",
   "execution_count": 49,
   "id": "fc9fc519",
   "metadata": {},
   "outputs": [],
   "source": [
    "### Sistema anti-bot (comportamiento humano)\n",
    "def simulate_human_behavior(min_delay=1, max_delay=3, verbose=False):\n",
    "    \"\"\"Simula comportamiento humano con sleeps aleatorios.\"\"\"\n",
    "    delay = round(random.uniform(min_delay, max_delay), 2)\n",
    "    if verbose:\n",
    "        print(f\"Esperando {delay}s...\")\n",
    "    time.sleep(delay)\n"
   ]
  },
  {
   "cell_type": "code",
   "execution_count": 51,
   "id": "0ac11d0f",
   "metadata": {},
   "outputs": [],
   "source": [
    "### Obtener lista de practice areas para aplicar filtros\n",
    "def extract_trimmed_set(series):\n",
    "    \"\"\"\n",
    "    Recibe una Serie de pandas con valores separados por comas,\n",
    "    elimina NaN, divide por ',' y devuelve un set de elementos únicos y limpios.\n",
    "    \"\"\"\n",
    "    values = series.dropna().astype(str)\n",
    "    trimmed_set = set()\n",
    "    for val in values:\n",
    "        items = [item.strip() for item in val.split(',')]\n",
    "        trimmed_set.update(items)\n",
    "    return trimmed_set\n"
   ]
  },
  {
   "cell_type": "code",
   "execution_count": 52,
   "id": "709d8267",
   "metadata": {},
   "outputs": [],
   "source": [
    "### Obtener paginas totales por cada busqueda una vez aplicado el filtro \n",
    "def generate_paginated_urls(url,driver,verbose=False):\n",
    "    # Encontrar numero de paginas \n",
    "    try:\n",
    "        WebDriverWait(driver, 15).until(EC.presence_of_element_located((By.CSS_SELECTOR,'ul.right')))\n",
    "        simulate_human_behavior(1,2,verbose=False)\n",
    "        pages_tab = driver.find_element(By.CSS_SELECTOR,'ul.right')       \n",
    "        if pages_tab:\n",
    "            pages = pages_tab.find_elements(By.TAG_NAME,\"li\")\n",
    "            pages = pages[1].text\n",
    "            pages = int(pages.split()[-1])\n",
    "    except Exception as e: \n",
    "        #print(f\"Solo hay una pagina\")\n",
    "        pages = 1\n",
    "\n",
    "    #print(f\"total pages:{pages}\")\n",
    "    if verbose:\n",
    "        print(f\"paginas en esta url: {pages}\")\n",
    "    parsed = urlparse(url)\n",
    "    query_list = parse_qsl(parsed.query)  # esto mantiene el orden de los parámetros\n",
    "\n",
    "    urls = []\n",
    "    for i in range(1, pages + 1):\n",
    "        # Creamos una nueva lista sin el parámetro page\n",
    "        new_query = [(k, v) for (k, v) in query_list if k != \"page\"]\n",
    "        # Si no es la primera página, agregamos page=N\n",
    "        if i != 1:\n",
    "            new_query.append((\"page\", str(i)))\n",
    "        # Reconstruimos la query string manteniendo el orden\n",
    "        new_query_string = urlencode(new_query)\n",
    "        # Reconstruimos la URL\n",
    "        new_url = urlunparse((parsed.scheme, parsed.netloc, parsed.path, '', new_query_string, ''))\n",
    "        urls.append(new_url)\n",
    "\n",
    "    return urls\n"
   ]
  },
  {
   "cell_type": "code",
   "execution_count": 53,
   "id": "c035a9df",
   "metadata": {},
   "outputs": [],
   "source": [
    "### crawler\n",
    "def crawler(url, driver,verbose=False,get_driver=True):   \n",
    "    try:\n",
    "        list_urls = []\n",
    "        urls_unicos = set()  # Usar un set para almacenar URLs únicas\n",
    "        if get_driver:\n",
    "            driver.get(url)\n",
    "        time.sleep(1)\n",
    "        # buscar contenedor con info\n",
    "        WebDriverWait(driver, 25).until(\n",
    "            EC.presence_of_element_located((By.CSS_SELECTOR, '.results__title')))\n",
    "        result_title = driver.find_element(By.CSS_SELECTOR, '.results__title')\n",
    "        if result_title:\n",
    "            WebDriverWait(driver, 25).until(\n",
    "                EC.presence_of_element_located((By.CSS_SELECTOR, '.results__result-row'))) \n",
    "            attorney_table = driver.find_element(By.CSS_SELECTOR, '.results__result-row')\n",
    "            abogados = attorney_table.find_elements(By.XPATH, '(//div[@class=\"row collapse card__content\"])')\n",
    "            if verbose:\n",
    "                print(\"se encontro la tabla de abogados\")\n",
    "                print(len(abogados))\n",
    "                print(abogados[0])\n",
    "\n",
    "            for ul in abogados:\n",
    "                try:\n",
    "                    WebDriverWait(driver, 25).until(EC.presence_of_element_located((By.TAG_NAME, 'ul')))\n",
    "                    enlaces = ul.find_elements(By.TAG_NAME, 'a')\n",
    "                    href_attorney = enlaces[1].get_attribute('href')         # Obtiene el atributo href\n",
    "                    if verbose:\n",
    "                            print(href_attorney)\n",
    "                    if href_attorney not in urls_unicos:\n",
    "                        urls_unicos.add(href_attorney)\n",
    "                        list_urls.append(href_attorney)\n",
    "                except:\n",
    "                    print(\"No se encontró <a> en este <li>\")\n",
    "                    pass\n",
    "        if verbose:\n",
    "            print(driver.current_url)\n",
    "            print(len(list_urls))\n",
    "    except:\n",
    "        print(\"problemas con el crawler\")\n",
    "    return list_urls \n"
   ]
  },
  {
   "cell_type": "code",
   "execution_count": 54,
   "id": "28cb9edb",
   "metadata": {},
   "outputs": [],
   "source": [
    "### función para obtener el HTML\n",
    "def get_html(driver,url,verbose=False):\n",
    "    driver.get(url)\n",
    "    time.sleep(random.uniform(3, 5))\n",
    "    if verbose:\n",
    "        print(f\"accediendo a: {url}\")\n",
    "    WebDriverWait(driver, 20).until(EC.presence_of_element_located(\n",
    "        (By.CSS_SELECTOR, 'body > div.off-canvas-wrap > div > div.attorney-profile-content.profile-content')))\n",
    "    simulate_human_behavior(1, 2, verbose=False)\n",
    "    html = driver.page_source\n",
    "    return html\n"
   ]
  },
  {
   "cell_type": "code",
   "execution_count": 114,
   "id": "8a867ebb",
   "metadata": {},
   "outputs": [],
   "source": [
    "### funcion Scraper pagina por pagina abogados\n",
    "def scrape_abogados(lista_urls):\n",
    "    resultados = []\n",
    "    count = 902 ### CAMBIAR LUEGO\n",
    "    for url in lista_urls:\n",
    "        driver = setup_driver(headless=True)\n",
    "        info_attorney = {}\n",
    "        try:\n",
    "            print(f\"accediendo a {count}: {url}\")\n",
    "            html = get_html(driver,url)\n",
    "            soup = BeautifulSoup(html, 'html.parser')\n",
    "\n",
    "            profile_content = soup.select_one('div.attorney-profile-content.profile-content')\n",
    "            if not profile_content:\n",
    "                print(f\"Perfil no encontrado para {url}\")\n",
    "                pass\n",
    "\n",
    "            # Obtencion de elementos princiaples de cada pagina\n",
    "            attorney_card = profile_content.select_one(\".masthead-content\")\n",
    "            firm = attorney_card.find(\"span\")\n",
    "            if firm:\n",
    "                firm = firm.get_text(strip=True)\n",
    "            url_martindale_firm = attorney_card.find(\"a\")[\"href\"]\n",
    "\n",
    "            # En caso de que no haya un link de firma, el primer link sera la caja de rewiew que redirige a la misma pagina, por eso el #\n",
    "            if \"#\" in url_martindale_firm:\n",
    "                url_martindale_firm = None\n",
    "\n",
    "            # Estructura del diccionario\n",
    "            info_attorney[\"url_martindale\"] = url #URL interna de martindale para cada abogado\n",
    "            info_attorney[\"name\"] = profile_content.find('h1').get_text(strip=True) #Nombre del abogado\n",
    "            info_attorney[\"firm\"] = firm\n",
    "            info_attorney[\"url_firm_martindale\"] = url_martindale_firm\n",
    "\n",
    "            # Busqueda de la sección de links de contacto, no todas las paginas tienen esta sección. por eso se usa try/except \n",
    "            try: \n",
    "                web_bar = profile_content.select_one(\"section.sticky-menu-all:nth-child(2) > nav:nth-child(1)\")\n",
    "                website_firm = web_bar.select('a')[1][\"href\"]\n",
    "                info_attorney[\"website_firm\"] = website_firm if website_firm else None\n",
    "            except Exception as e:\n",
    "                #print(f\"Error al extraer website: {e}\")\n",
    "                info_attorney[\"website\"] = \"\"\n",
    "\n",
    "            #Extraccion de los tags relevantes de cada pagina\n",
    "            main_content_table = soup.find_all(\"div\", class_=\"small-12 columns\")[0]\n",
    "            for section_div in main_content_table.find_all(\"div\", recursive=False):\n",
    "                content_div = section_div.find(\"div\", class_=\"toggle-area__content\")\n",
    "                h2_key = section_div.find(\"h2\") #Titulo de sección por separado\n",
    "                if h2_key and content_div:\n",
    "                    h2_key = h2_key.get_text(strip=True)\n",
    "                    if \"Areas of Practice\" in h2_key:\n",
    "                        h2_key = \"Areas of Practice\"\n",
    "                    #print(h2_key)\n",
    "                    info_attorney[h2_key] = \"\" #inicializar keys que se encuentran\n",
    "\n",
    "                    # Biography and practice areas \n",
    "                    child_text = content_div.find('div', class_='truncate-text')\n",
    "                    if child_text:\n",
    "                        info_attorney[h2_key] = child_text.get_text(strip=True)\n",
    "                    Aoe_area = content_div.find('div', class_='row collapse')\n",
    "                    if Aoe_area:\n",
    "                        ul_info = Aoe_area.find('ul')\n",
    "                        if ul_info:\n",
    "                            items = [li.get_text(strip=True) for li in ul_info.find_all('li')]\n",
    "                            info_attorney[h2_key] = ', '.join(items)\n",
    "\n",
    "                    # Education and credentials\n",
    "                    EnC_area = content_div.find_all(\n",
    "                        lambda tag: tag.name == 'div' and \n",
    "                        all(cls in tag.get('class', []) for cls in ['row', 'collapse', 'experience-section', 'clearfix'])\n",
    "                    )\n",
    "                    for text in EnC_area:\n",
    "                        text_info = text.get_text(strip=True)\n",
    "                        for line in text_info.split('\\n'):\n",
    "                            if ':' in line:\n",
    "                                k, v = map(str.strip, line.split(\":\", 1))\n",
    "                                info_attorney[k] = v\n",
    "                            else:\n",
    "                                info_attorney[h2_key] = line.strip()\n",
    "\n",
    "                    # Peer rewiew - Pendiente\n",
    "                    PrA_section = content_div.find(\"section\", class_=\"profile-peer-reviews\")\n",
    "                    if PrA_section: \n",
    "                        rewiew_area = PrA_section.find('div', class_=\"review-top review-top-peer-reviews\")\n",
    "                        rewiew_list = PrA_section.find('div', class_=\"attorney-reviews-list attorney-peer-reviews-list\")\n",
    "                        if rewiew_area and rewiew_list:\n",
    "                            text_rewiew_area = rewiew_area.find_all('span')[2].get_text().strip().splitlines()\n",
    "                            stars = text_rewiew_area[0].split(\"/\")[0].strip()   \n",
    "                            reviews = text_rewiew_area[1].strip(\"()\").split()[0]\n",
    "                            info_attorney[\"profile_peer_review_star\"] = stars\n",
    "                            info_attorney[\"profile_peer_review_count\"] = reviews\n",
    "\n",
    "                    # Location\n",
    "                    firm_offices = content_div.find('ul', id='firmOffices')\n",
    "                    if firm_offices:\n",
    "                        location_items = firm_offices.find_all('div', class_='office-address')\n",
    "                        if location_items:\n",
    "                            info_attorney[\"Location\"] = location_items[0].get_text(strip=True)\n",
    "            if info_attorney:\n",
    "                resultados.append(info_attorney)\n",
    "            count += 1 \n",
    "            driver.quit()\n",
    "        except TimeoutException:\n",
    "            print(\"Loading took too much time!\")\n",
    "            print(f\"error en iter {count}\")\n",
    "            driver.quit()\n",
    "            return resultados\n",
    "        except Exception as e:\n",
    "            print(f\"Failed to load page due to error: {e}\")\n",
    "            print(f\"error en iter {count}\")\n",
    "            driver.quit()\n",
    "            return resultados\n",
    "        except NoSuchElementException:\n",
    "            driver.quit()\n",
    "            print(f\"error en iter {count}\")\n",
    "            return resultados\n",
    "        driver.quit()\n",
    "    # Resultado ya es una lista de diccionarios\n",
    "    return resultados\n"
   ]
  },
  {
   "cell_type": "markdown",
   "id": "153d1543",
   "metadata": {},
   "source": [
    "## Primera iteración - Obtención lista \"practice areas\""
   ]
  },
  {
   "cell_type": "code",
   "execution_count": 159,
   "id": "5978e9cd",
   "metadata": {},
   "outputs": [],
   "source": [
    "#all_info = pd.DataFrame() # Data frame para almacenar información\n",
    "url_inicial = 'https://www.martindale.com/search/attorneys-law-firms-articles/?term=Puerto%20Rico%2C%20USA'\n",
    "lista_urls = []\n"
   ]
  },
  {
   "cell_type": "code",
   "execution_count": null,
   "id": "a2566bed",
   "metadata": {},
   "outputs": [],
   "source": [
    "urls_per_filter = []  # se inicializa los links que hay por filtro o busqueda. \n",
    "datos_preliminares = []\n"
   ]
  },
  {
   "cell_type": "code",
   "execution_count": 261,
   "id": "28be26f6",
   "metadata": {},
   "outputs": [
    {
     "name": "stdout",
     "output_type": "stream",
     "text": [
      "Failed to load page due to error: Message: Browsing context has been discarded\n",
      "Stacktrace:\n",
      "RemoteError@chrome://remote/content/shared/RemoteError.sys.mjs:8:8\n",
      "WebDriverError@chrome://remote/content/shared/webdriver/Errors.sys.mjs:199:5\n",
      "NoSuchWindowError@chrome://remote/content/shared/webdriver/Errors.sys.mjs:747:5\n",
      "assert.that/<@chrome://remote/content/shared/webdriver/Assert.sys.mjs:559:13\n",
      "assert.open@chrome://remote/content/shared/webdriver/Assert.sys.mjs:147:4\n",
      "GeckoDriver.prototype.navigateTo@chrome://remote/content/marionette/driver.sys.mjs:1071:39\n",
      "despatch@chrome://remote/content/marionette/server.sys.mjs:318:40\n",
      "execute@chrome://remote/content/marionette/server.sys.mjs:289:16\n",
      "onPacket/<@chrome://remote/content/marionette/server.sys.mjs:262:20\n",
      "onPacket@chrome://remote/content/marionette/server.sys.mjs:263:9\n",
      "_onJSONObjectReady/<@chrome://remote/content/marionette/transport.sys.mjs:494:20\n",
      "\n"
     ]
    }
   ],
   "source": [
    "### Lista de Areas of Practice para emplear en filtros \n",
    "try:\n",
    "    # Setup del driver\n",
    "    driver = setup_driver()\n",
    "    driver.get(url_inicial)\n",
    "    pages = generate_paginated_urls(url_inicial,driver)\n",
    "    # Crawler inicial para obtener los urls de abogados de la primera pagina\n",
    "    for url in pages: #se obtiene el numero de paginas en cada busqueda\n",
    "        simulate_human_behavior(1,2,verbose=False)\n",
    "        links_per_page = crawler(url,driver,verbose=False) #deberian ser 25 links de abogados por cada pagina de busqueda\n",
    "        if len(links_per_page) == 0:\n",
    "            urls_per_page = crawler(url,driver,verbose=False)\n",
    "            time.sleep(2)\n",
    "        else:\n",
    "            urls_per_filter = urls_per_filter + links_per_page\n",
    "except TimeoutException:\n",
    "    print(\"Loading took too much time!\")\n",
    "    driver.quit()\n",
    "except Exception as e:\n",
    "    print(f\"Failed to load page due to error: {e}\")\n",
    "    driver.quit()\n",
    "except NoSuchElementException:\n",
    "    driver.quit()\n",
    "driver.quit()\n"
   ]
  },
  {
   "cell_type": "code",
   "execution_count": null,
   "id": "621be955",
   "metadata": {},
   "outputs": [],
   "source": [
    "urls_per_filter\n",
    "#len(urls_per_filter)\n",
    "with open(\"urls.pkl\", \"wb\") as f:\n",
    "    pickle.dump(urls_per_filter, f) #Primera pagina \"sin filtros de practice area aplicados\"\n"
   ]
  },
  {
   "cell_type": "code",
   "execution_count": 253,
   "id": "ed37c40a",
   "metadata": {},
   "outputs": [
    {
     "data": {
      "text/plain": [
       "['https://www.martindale.com/attorney/tessie-leal-garabis-esq-169104324/',\n",
       " 'https://www.martindale.com/attorney/ramon-mellado-gonzalez-1572913/',\n",
       " 'https://www.martindale.com/attorney/edgardo-j-hernandez-oharriz-esq-158870123/',\n",
       " 'https://www.martindale.com/attorney/jaime-j-aponte-parsi-1573642/',\n",
       " 'https://www.martindale.com/attorney/vicente-a-sequeda-torres-1572418/',\n",
       " 'https://www.martindale.com/attorney/ross-alan-miller-300844400/',\n",
       " 'https://www.martindale.com/attorney/david-j-fernandez-esteves-1571798/',\n",
       " 'https://www.martindale.com/attorney/carlos-villegas-del-valle-301593670/',\n",
       " 'https://www.martindale.com/attorney/hector-pedrosa-41531869/',\n",
       " 'https://www.martindale.com/attorney/karla-m-rodriguez-morales-157447904/',\n",
       " 'https://www.martindale.com/attorney/ms-helaine-a-gregory-321442/',\n",
       " 'https://www.martindale.com/attorney/joseph-d-lento-168969230/',\n",
       " 'https://www.martindale.com/attorney/glenn-carl-james-1573988/',\n",
       " 'https://www.martindale.com/attorney/benjamin-acosta-jr-1571792/',\n",
       " 'https://www.martindale.com/attorney/jennie-marielle-espada-ocasio-esq-167698736/',\n",
       " 'https://www.martindale.com/attorney/patrick-d-o-neill-1572140/',\n",
       " 'https://www.martindale.com/attorney/alexis-x-garcia-rivera-4671778/',\n",
       " 'https://www.martindale.com/attorney/hector-j-orejuela-davila-168566822/',\n",
       " 'https://www.martindale.com/attorney/raed-gonzalez-1667237/',\n",
       " 'https://www.martindale.com/attorney/juan-m-surillo-pumarada-1571261/',\n",
       " 'https://www.martindale.com/attorney/robert-t-collins-viera-1571688/',\n",
       " 'https://www.martindale.com/attorney/rafael-l-rovira-arbona-301593668/',\n",
       " 'https://www.martindale.com/attorney/francisco-fernandez-alvarez-1571687/',\n",
       " 'https://www.martindale.com/attorney/laura-a-dahdah-de-surillo-1571262/',\n",
       " 'https://www.martindale.com/attorney/carlos-a-bobonis-gonzalez-1571905/',\n",
       " 'https://www.martindale.com/attorney/leonardo-m-aldridge-300301298/',\n",
       " 'https://www.martindale.com/attorney/evelyn-rosa-morel-1571797/',\n",
       " 'https://www.martindale.com/attorney/enrique-g-figueroa-llinas-1571907/',\n",
       " 'https://www.martindale.com/attorney/roberto-c-rodriguez-poventud-1571906/',\n",
       " 'https://www.martindale.com/attorney/jairo-jay-mellado-villarreal-1572914/',\n",
       " 'https://www.martindale.com/attorney/gilberto-j-santiago-martinez-esq-158870533/',\n",
       " 'https://www.martindale.com/attorney/alexandre-a-afanassiev-3711880/',\n",
       " 'https://www.martindale.com/attorney/guillermo-j-bobonis-1571904/',\n",
       " 'https://www.martindale.com/attorney/juan-a-cuyar-cobb-1571691/',\n",
       " 'https://www.martindale.com/attorney/federico-calaf-legrand-1573871/',\n",
       " 'https://www.martindale.com/attorney/luis-e-minana-25007752/',\n",
       " 'https://www.martindale.com/attorney/charles-p-gilmore-1572180/',\n",
       " 'https://www.martindale.com/attorney/nelson-r-garayua-vazquez-1571795/',\n",
       " 'https://www.martindale.com/attorney/maximiliano-a-pla-mendez-25744746/',\n",
       " 'https://www.martindale.com/attorney/jennifer-odell-gonzalez-1572184/',\n",
       " 'https://www.martindale.com/attorney/sara-e-colon-301568200/',\n",
       " 'https://www.martindale.com/attorney/oronte-oliveras-sifre-1571828/',\n",
       " 'https://www.martindale.com/attorney/mr-carlos-a-garcia-3253153/',\n",
       " 'https://www.martindale.com/attorney/jesus-hernandez-sanchez-169019240/',\n",
       " 'https://www.martindale.com/attorney/yum-e-ramos-perales-6926753/',\n",
       " 'https://www.martindale.com/attorney/karolee-garcia-1573430/',\n",
       " 'https://www.martindale.com/attorney/ada-nurie-pagan-isona-2092200/',\n",
       " 'https://www.martindale.com/attorney/jose-r-quinones-coll-1573098/',\n",
       " 'https://www.martindale.com/attorney/jose-david-medina-rivera-1572164/',\n",
       " 'https://www.martindale.com/attorney/angel-m-rivera-munich-1571882/',\n",
       " 'https://www.martindale.com/attorney/salomon-chiquiar-rabinovich-1573376/',\n",
       " 'https://www.martindale.com/attorney/carmen-m-cotto-2347855/',\n",
       " 'https://www.martindale.com/attorney/c-heydee-pagani-padro-1571937/',\n",
       " 'https://www.martindale.com/attorney/jely-a-cedeno-richiez-3173241/',\n",
       " 'https://www.martindale.com/attorney/consuelo-m-sifre-garcia-1573527/',\n",
       " 'https://www.martindale.com/attorney/carlos-f-ramirez-de-arellano-1572791/',\n",
       " 'https://www.martindale.com/attorney/luis-baerga-duprey-1571858/',\n",
       " 'https://www.martindale.com/attorney/maria-i-de-mier-1572157/',\n",
       " 'https://www.martindale.com/attorney/eda-mariel-ayala-morales-2107605/',\n",
       " 'https://www.martindale.com/attorney/jorge-r-gonzalez-1573217/',\n",
       " 'https://www.martindale.com/attorney/agustin-fortuno-fas-1573307/',\n",
       " 'https://www.martindale.com/attorney/zelma-davilla-carrasquillo-2529680/',\n",
       " 'https://www.martindale.com/attorney/maarja-tiganik-luhtaru-168649806/',\n",
       " 'https://www.martindale.com/attorney/madeline-marie-mas-saavedra-301268888/',\n",
       " 'https://www.martindale.com/attorney/michel-rachid-pineiro-1573844/',\n",
       " 'https://www.martindale.com/attorney/mr-eliseo-roques-301072782/',\n",
       " 'https://www.martindale.com/attorney/edilberto-berrios-davila-1572406/',\n",
       " 'https://www.martindale.com/attorney/rosario-morales-seneriz-1571124/',\n",
       " 'https://www.martindale.com/attorney/benito-i-rodriguez-masso-1571126/',\n",
       " 'https://www.martindale.com/attorney/israel-melendez-4294122/',\n",
       " 'https://www.martindale.com/attorney/maria-isabelle-ramos-artunduaga-44858943/',\n",
       " 'https://www.martindale.com/attorney/ramon-a-cancio-sifre-1571952/',\n",
       " 'https://www.martindale.com/attorney/gabriel-maldonado-158002721/',\n",
       " 'https://www.martindale.com/attorney/magdalena-s-revuelta-1571590/',\n",
       " 'https://www.martindale.com/attorney/griselle-bermudez-43428566/',\n",
       " 'https://www.martindale.com/attorney/risa-tobin-1571692/',\n",
       " 'https://www.martindale.com/attorney/victoria-d-pierce-king-1572001/',\n",
       " 'https://www.martindale.com/attorney/orlin-p-goble-rosales-1572307/',\n",
       " 'https://www.martindale.com/attorney/cristina-mullan-davila-3918234/',\n",
       " 'https://www.martindale.com/attorney/angel-l-morales-rodriguez-1572006/',\n",
       " 'https://www.martindale.com/attorney/lynette-algarin-otero-1571234/',\n",
       " 'https://www.martindale.com/attorney/mr-luis-alberto-plaza-mariota-301054346/',\n",
       " 'https://www.martindale.com/attorney/rogelio-i-guzman-lloveras-1572308/',\n",
       " 'https://www.martindale.com/attorney/atty-antonio-l-roig-300189516/',\n",
       " 'https://www.martindale.com/attorney/cristina-m-fernandez-neumann-1573349/',\n",
       " 'https://www.martindale.com/attorney/david-a-beckerleg-1574182/',\n",
       " 'https://www.martindale.com/attorney/benicio-sanchez-1571721/',\n",
       " 'https://www.martindale.com/attorney/jose-a-iguina-de-la-rosa-1571402/',\n",
       " 'https://www.martindale.com/attorney/isabel-pena-rodriguez-1573727/',\n",
       " 'https://www.martindale.com/attorney/federico-delgado-torres-1572046/',\n",
       " 'https://www.martindale.com/attorney/luis-l-torres-marrero-1572533/',\n",
       " 'https://www.martindale.com/attorney/angel-munoz-noya-1573039/',\n",
       " 'https://www.martindale.com/attorney/miguel-d-lausell-1572301/',\n",
       " 'https://www.martindale.com/attorney/william-nadal-jr-1571400/',\n",
       " 'https://www.martindale.com/attorney/rebeca-f-rojas-1573713/',\n",
       " 'https://www.martindale.com/attorney/carlos-martin-sanchez-300562186/',\n",
       " 'https://www.martindale.com/attorney/jeannette-ramos-de-toro-1573866/',\n",
       " 'https://www.martindale.com/attorney/miguel-hernandez-colon-1571280/',\n",
       " 'https://www.martindale.com/attorney/jorge-p-silva-puras-1573652/',\n",
       " 'https://www.martindale.com/attorney/juan-carlos-toro-sepulveda-300751834/',\n",
       " 'https://www.martindale.com/attorney/jose-a-bague-soto-1573923/',\n",
       " 'https://www.martindale.com/attorney/yarliz-a-rios-portela-13792232/',\n",
       " 'https://www.martindale.com/attorney/w-stephen-muldrow-1571583/',\n",
       " 'https://www.martindale.com/attorney/malu-muniz-nieves-1571630/',\n",
       " 'https://www.martindale.com/attorney/arturo-v-bauermeister-169155024/',\n",
       " 'https://www.martindale.com/attorney/ramon-lloveras-san-miguel-1572458/',\n",
       " 'https://www.martindale.com/attorney/rebeca-caquias-mejias-2525483/',\n",
       " 'https://www.martindale.com/attorney/edwin-l-bello-rivera-1573135/',\n",
       " 'https://www.martindale.com/attorney/neville-ortiz-soto-1573973/',\n",
       " 'https://www.martindale.com/attorney/amarilis-l-gonzalez-2225544/',\n",
       " 'https://www.martindale.com/attorney/rolando-emmanuelli-jimenez-1571319/',\n",
       " 'https://www.martindale.com/attorney/rafeal-a-oliveras-1573577/',\n",
       " 'https://www.martindale.com/attorney/jesus-r-rabell-mendez-4432086/',\n",
       " 'https://www.martindale.com/attorney/jorge-de-la-cruz-figueroa-1572335/',\n",
       " 'https://www.martindale.com/attorney/jose-enrique-amadeo-1571836/',\n",
       " 'https://www.martindale.com/attorney/dana-michelle-waller-15678/',\n",
       " 'https://www.martindale.com/attorney/maria-de-los-angeles-1572296/',\n",
       " 'https://www.martindale.com/attorney/alice-m-velazquez-aponte-395765/',\n",
       " 'https://www.martindale.com/attorney/ina-r-aponte-de-aviles-1574083/',\n",
       " 'https://www.martindale.com/attorney/virgilio-a-ramos-gonzalez-1573867/',\n",
       " 'https://www.martindale.com/attorney/yadira-rivera-cintron-11857132/',\n",
       " 'https://www.martindale.com/attorney/keyla-gandara-umpierre-44858880/',\n",
       " 'https://www.martindale.com/attorney/brian-k-tester-94518/',\n",
       " 'https://www.martindale.com/attorney/wilmer-j-camacho-caraballo-1572889/',\n",
       " 'https://www.martindale.com/attorney/valerie-maldonado-rivera-3655960/',\n",
       " 'https://www.martindale.com/attorney/olga-isabel-nigaglioni-cruz-2277901/',\n",
       " 'https://www.martindale.com/attorney/edgardo-perez-gutierrez-300744872/',\n",
       " 'https://www.martindale.com/attorney/wendel-h-mercado-perez-5995750/',\n",
       " 'https://www.martindale.com/attorney/mari-carmen-bosch-1573270/',\n",
       " 'https://www.martindale.com/attorney/pedro-antonio-barcelo-lugo-300803598/',\n",
       " 'https://www.martindale.com/attorney/carlos-e-george-2007226/',\n",
       " 'https://www.martindale.com/attorney/jose-t-silva-cuetara-1574064/',\n",
       " 'https://www.martindale.com/attorney/ramon-lomba-miranda-46132649/',\n",
       " 'https://www.martindale.com/attorney/carlos-e-jimenez-1573656/',\n",
       " 'https://www.martindale.com/attorney/jocelyn-grafals-300716040/',\n",
       " 'https://www.martindale.com/attorney/julio-a-diaz-valdes-1573044/',\n",
       " 'https://www.martindale.com/attorney/maricarmen-almodovar-1574232/',\n",
       " 'https://www.martindale.com/attorney/yelitza-r-lopez-rivera-3209802/',\n",
       " 'https://www.martindale.com/attorney/david-rive-power-1573578/',\n",
       " 'https://www.martindale.com/attorney/jose-irizarry-castro-301224208/',\n",
       " 'https://www.martindale.com/attorney/graciela-j-belaval-1572141/',\n",
       " 'https://www.martindale.com/attorney/suzanne-marie-dubon-willmore-300388382/',\n",
       " 'https://www.martindale.com/attorney/carlos-e-siverio-orta-1571071/',\n",
       " 'https://www.martindale.com/attorney/rafael-ortiz-carrion-1571878/',\n",
       " 'https://www.martindale.com/attorney/maria-de-lourdes-rivera-sostre-3355294/',\n",
       " 'https://www.martindale.com/attorney/jorge-bauermeister-1572735/',\n",
       " 'https://www.martindale.com/attorney/gricelle-lugo-santiago-1573729/',\n",
       " 'https://www.martindale.com/attorney/jose-e-naveira-san-miguel-1571175/',\n",
       " 'https://www.martindale.com/attorney/nilda-m-gonzalez-cordero-1573850/',\n",
       " 'https://www.martindale.com/attorney/ramon-muniz-santiago-908753/',\n",
       " 'https://www.martindale.com/attorney/jaime-brugueras-1572612/',\n",
       " 'https://www.martindale.com/attorney/luis-marrero-padilla-1571152/',\n",
       " 'https://www.martindale.com/attorney/waldemar-fabery-300795290/',\n",
       " 'https://www.martindale.com/attorney/jose-l-barrios-ramos-46210559/',\n",
       " 'https://www.martindale.com/attorney/mari-carmen-colon-diaz-1573981/',\n",
       " 'https://www.martindale.com/attorney/maria-teresa-pombo-300369998/',\n",
       " 'https://www.martindale.com/attorney/marimar-alberty-oller-3717032/',\n",
       " 'https://www.martindale.com/attorney/jorge-l-mendin-1572709/',\n",
       " 'https://www.martindale.com/attorney/eduardo-tamargo-motroni-1573195/',\n",
       " 'https://www.martindale.com/attorney/mr-hugo-quilichini-169116918/',\n",
       " 'https://www.martindale.com/attorney/orlando-marrero-sanchez-5148763/',\n",
       " 'https://www.martindale.com/attorney/federico-tilen-1572566/',\n",
       " 'https://www.martindale.com/attorney/cristina-l-alcaraz-emmanuelli-1991088/',\n",
       " 'https://www.martindale.com/attorney/maria-luisa-gonzalez-hernandez-1572515/',\n",
       " 'https://www.martindale.com/attorney/isabel-torres-sastre-157641325/',\n",
       " 'https://www.martindale.com/attorney/lizette-ortiz-bonilla-1572130/',\n",
       " 'https://www.martindale.com/attorney/mr-andrew-thomas-kagan-168798166/',\n",
       " 'https://www.martindale.com/attorney/jose-luis-novas-dueno-1572936/',\n",
       " 'https://www.martindale.com/attorney/carmen-irizarry-de-dominguez-1572559/',\n",
       " 'https://www.martindale.com/attorney/fernando-delgado-kuinlam-1571960/',\n",
       " 'https://www.martindale.com/attorney/marta-del-pilar-santiago-ramos-1573435/',\n",
       " 'https://www.martindale.com/attorney/miguel-r-ortiz-calero-1571923/',\n",
       " 'https://www.martindale.com/attorney/janice-richardson-4685267/',\n",
       " 'https://www.martindale.com/attorney/eric-alvarez-feliciano-1572433/',\n",
       " 'https://www.martindale.com/attorney/luis-f-del-valle-emmanuelli-1571467/',\n",
       " 'https://www.martindale.com/attorney/maryvette-velazquez-torres-1572723/',\n",
       " 'https://www.martindale.com/attorney/maria-e-juarbe-168756684/',\n",
       " 'https://www.martindale.com/attorney/paul-hammer-168616428/',\n",
       " 'https://www.martindale.com/attorney/jose-javier-santos-mimoso-1573856/',\n",
       " 'https://www.martindale.com/attorney/sylkia-carballo-nogueras-1573977/',\n",
       " 'https://www.martindale.com/attorney/maricely-blaimayar-sanchez-5138060/',\n",
       " 'https://www.martindale.com/attorney/astrid-castro-franceschi-1571151/',\n",
       " 'https://www.martindale.com/attorney/sarah-delgado-40603874/',\n",
       " 'https://www.martindale.com/attorney/felix-r-figueroa-caban-1572283/',\n",
       " 'https://www.martindale.com/attorney/thomas-f-klumper-1571415/',\n",
       " 'https://www.martindale.com/attorney/carlos-j-micames-montalvo-301090624/',\n",
       " 'https://www.martindale.com/attorney/clotilde-rexach-beniitez-1572545/',\n",
       " 'https://www.martindale.com/attorney/ivan-rios-mena-46617616/',\n",
       " 'https://www.martindale.com/attorney/brunilda-rodriguez-velez-1572162/',\n",
       " 'https://www.martindale.com/attorney/fernando-ortiz-melendez-301064888/',\n",
       " 'https://www.martindale.com/attorney/gustavo-torres-viera-300531608/',\n",
       " 'https://www.martindale.com/attorney/vicente-zayas-puig-1571860/',\n",
       " 'https://www.martindale.com/attorney/maria-teresa-szendrey-ramos-1572525/',\n",
       " 'https://www.martindale.com/attorney/yammir-samalot-rodriguez-1573929/',\n",
       " 'https://www.martindale.com/attorney/luis-r-mellado-gonzalez-1572926/',\n",
       " 'https://www.martindale.com/attorney/erin-elizabeth-martens-125069/',\n",
       " 'https://www.martindale.com/attorney/maria-e-santori-aymat-3817913/',\n",
       " 'https://www.martindale.com/attorney/jose-b-aponte-colon-1571058/',\n",
       " 'https://www.martindale.com/attorney/luis-m-rodriguez-lopez-1572558/',\n",
       " 'https://www.martindale.com/attorney/victor-quinones-martinez-33975880/',\n",
       " 'https://www.martindale.com/attorney/ramon-vega-dorticos-4705152/',\n",
       " 'https://www.martindale.com/attorney/felix-m-roman-1574104/',\n",
       " 'https://www.martindale.com/attorney/alys-m-collazo-bougeois-1571386/',\n",
       " 'https://www.martindale.com/attorney/maritza-candelaria-bonet-2298496/',\n",
       " 'https://www.martindale.com/attorney/sarah-delgado-40603874/',\n",
       " 'https://www.martindale.com/attorney/manuel-correa-calzada-1572275/',\n",
       " 'https://www.martindale.com/attorney/roberto-gonzalez-rivera-1572904/',\n",
       " 'https://www.martindale.com/attorney/alejandro-valderrabano-300311226/',\n",
       " 'https://www.martindale.com/attorney/gregory-m-demel-2613625/',\n",
       " 'https://www.martindale.com/attorney/juan-a-hernandez-rivera-11784995/',\n",
       " 'https://www.martindale.com/attorney/samuel-peter-carrion-301208024/',\n",
       " 'https://www.martindale.com/attorney/eddie-lopez-alonso-1572584/',\n",
       " 'https://www.martindale.com/attorney/aixa-perez-mink-168870086/',\n",
       " 'https://www.martindale.com/attorney/fernando-ortiz-300855468/',\n",
       " 'https://www.martindale.com/attorney/francisco-rios-rivera-13993080/',\n",
       " 'https://www.martindale.com/attorney/marco-antonio-rigau-1573891/',\n",
       " 'https://www.martindale.com/attorney/alberto-j-rodriguez-ramos-4450141/',\n",
       " 'https://www.martindale.com/attorney/pedro-jose-nieves-miranda-300778772/',\n",
       " 'https://www.martindale.com/attorney/diego-murgia-doaz-158583553/',\n",
       " 'https://www.martindale.com/attorney/yahaida-diana-zabala-169087718/',\n",
       " 'https://www.martindale.com/attorney/fausto-ramos-quiros-1574162/',\n",
       " 'https://www.martindale.com/attorney/roberto-f-nater-lebron-1573009/',\n",
       " 'https://www.martindale.com/attorney/rafael-alonso-alonso-1573715/',\n",
       " 'https://www.martindale.com/attorney/roberto-berrios-falcon-5128154/',\n",
       " 'https://www.martindale.com/attorney/maria-de-lourdes-martinez-lamadriz-1572616/',\n",
       " 'https://www.martindale.com/attorney/peter-w-miller-1571813/',\n",
       " 'https://www.martindale.com/attorney/cathleen-feliciano-torres-1572588/',\n",
       " 'https://www.martindale.com/attorney/luis-morales-steinmann-1572142/',\n",
       " 'https://www.martindale.com/attorney/maria-e-pico-1574100/',\n",
       " 'https://www.martindale.com/attorney/lourdes-aguirrechu-1573920/',\n",
       " 'https://www.martindale.com/attorney/peter-anthony-hull-1736992/',\n",
       " 'https://www.martindale.com/attorney/anabel-rodriguez-alonso-1573158/',\n",
       " 'https://www.martindale.com/attorney/f-ariel-aviles-rodriguez-1574080/',\n",
       " 'https://www.martindale.com/attorney/jorge-calero-blanco-1573297/',\n",
       " 'https://www.martindale.com/attorney/ramon-a-rosado-vila-1571180/',\n",
       " 'https://www.martindale.com/attorney/francisco-fernandez-chiques-4217631/',\n",
       " 'https://www.martindale.com/attorney/omar-a-barroso-rosario-5128114/',\n",
       " 'https://www.martindale.com/attorney/martin-gonzalez-vazquez-1571348/',\n",
       " 'https://www.martindale.com/attorney/wilbert-mendez-marrero-300998632/',\n",
       " 'https://www.martindale.com/attorney/manuel-f-villalon-1573556/',\n",
       " 'https://www.martindale.com/attorney/hernan-francisco-ayala-rubio-44592968/',\n",
       " 'https://www.martindale.com/attorney/maria-de-lourdes-rivera-sostre-300843926/',\n",
       " 'https://www.martindale.com/attorney/james-m-christian-sr-356377/',\n",
       " 'https://www.martindale.com/attorney/raul-davila-rivera-1571865/',\n",
       " 'https://www.martindale.com/attorney/marielisa-font-rodriguez-1572272/',\n",
       " 'https://www.martindale.com/attorney/salvador-f-rovira-rodriguez-1573728/',\n",
       " 'https://www.martindale.com/attorney/gary-l-leonard-1572204/',\n",
       " 'https://www.martindale.com/attorney/manuel-h-dubon-1572373/',\n",
       " 'https://www.martindale.com/attorney/marie-christine-amy-2144269/',\n",
       " 'https://www.martindale.com/attorney/luis-ortiz-alvarado-13789401/',\n",
       " 'https://www.martindale.com/attorney/luisa-m-vela-gutierrez-1574072/',\n",
       " 'https://www.martindale.com/attorney/manuel-r-pietrantoni-1573399/',\n",
       " 'https://www.martindale.com/attorney/ramon-l-vinas-bueso-1573918/',\n",
       " 'https://www.martindale.com/attorney/jaime-sifre-rodriguez-1572079/',\n",
       " 'https://www.martindale.com/attorney/ms-luz-m-ramos-301066778/',\n",
       " 'https://www.martindale.com/attorney/edward-a-godoy-1572440/',\n",
       " 'https://www.martindale.com/attorney/victor-m-hernandez-gonzalez-esq-1571327/',\n",
       " 'https://www.martindale.com/attorney/mr-andrew-stell-mccutcheon-168801826/',\n",
       " 'https://www.martindale.com/attorney/modesto-bigas-mendez-2862192/',\n",
       " 'https://www.martindale.com/attorney/georgette-rodriguez-1572388/',\n",
       " 'https://www.martindale.com/attorney/emma-marie-lozada-ramirez-1572042/',\n",
       " 'https://www.martindale.com/attorney/jeannette-m-lopez-de-victoria-1572255/',\n",
       " 'https://www.martindale.com/attorney/maria-m-pabon-1573138/',\n",
       " 'https://www.martindale.com/attorney/brandon-kurtis-jaycox-168778594/',\n",
       " 'https://www.martindale.com/attorney/omar-a-jimenez-2057202/',\n",
       " 'https://www.martindale.com/attorney/mr-david-killian-rodriguez-encarnacion-300225508/',\n",
       " 'https://www.martindale.com/attorney/maura-santiago-ducos-1572850/',\n",
       " 'https://www.martindale.com/attorney/ramon-j-abarca-schwartz-1573202/',\n",
       " 'https://www.martindale.com/attorney/eric-perez-ochoa-11440767/',\n",
       " 'https://www.martindale.com/attorney/ms-kendys-pimentel-soto-301519088/',\n",
       " 'https://www.martindale.com/attorney/juan-massa-diaz-1573119/',\n",
       " 'https://www.martindale.com/attorney/zelma-b-davila-carrasquillo-301315234/',\n",
       " 'https://www.martindale.com/attorney/rafael-j-velazquez-villares-1572324/',\n",
       " 'https://www.martindale.com/attorney/maria-del-carmen-martinez-1572920/',\n",
       " 'https://www.martindale.com/attorney/robert-b-washington-jr-300550654/',\n",
       " 'https://www.martindale.com/attorney/jorge-e-vega-pacheco-1571054/',\n",
       " 'https://www.martindale.com/attorney/noel-colon-martinez-1572126/',\n",
       " 'https://www.martindale.com/attorney/jose-m-couto-llinas-11857126/',\n",
       " 'https://www.martindale.com/attorney/sara-l-velez-santiago-3807360/',\n",
       " 'https://www.martindale.com/attorney/rosangela-sanfilippo-resumil-2854083/',\n",
       " 'https://www.martindale.com/attorney/sonsire-ramos-soler-1572230/',\n",
       " 'https://www.martindale.com/attorney/robert-r-munoz-arill-1573508/',\n",
       " 'https://www.martindale.com/attorney/reinaldo-jaime-1571162/',\n",
       " 'https://www.martindale.com/attorney/luis-r-rivera-gonzalez-1571706/',\n",
       " 'https://www.martindale.com/attorney/rafael-kodesh-baragano-1572158/',\n",
       " 'https://www.martindale.com/attorney/angel-m-villamil-rodriguez-mr-1571102/',\n",
       " 'https://www.martindale.com/attorney/louise-shaw-livingston-231132/',\n",
       " 'https://www.martindale.com/attorney/eugene-p-scott-24179045/',\n",
       " 'https://www.martindale.com/attorney/tomas-a-roman-santos-28828280/',\n",
       " 'https://www.martindale.com/attorney/hilda-rodriguez-forteza-1574009/',\n",
       " 'https://www.martindale.com/attorney/karen-morales-ramirez-1573338/',\n",
       " 'https://www.martindale.com/attorney/jaime-e-toro-monserrate-1573239/',\n",
       " 'https://www.martindale.com/attorney/ms-heidi-teresa-lichtenstein-168534332/',\n",
       " 'https://www.martindale.com/attorney/francisco-a-ojeda-diez-1573369/',\n",
       " 'https://www.martindale.com/attorney/rafael-e-silva-almeyda-1574004/',\n",
       " 'https://www.martindale.com/attorney/lynn-m-carey-felix-2420825/',\n",
       " 'https://www.martindale.com/attorney/carlos-m-maldonado-casillas-1573649/',\n",
       " 'https://www.martindale.com/attorney/griselle-m-robles-ortiz-1573815/',\n",
       " 'https://www.martindale.com/attorney/harold-d-vicente-1573758/',\n",
       " 'https://www.martindale.com/attorney/edgar-rios-mendez-34219145/',\n",
       " 'https://www.martindale.com/attorney/mariluz-rivera-ortiz-1573546/',\n",
       " 'https://www.martindale.com/attorney/richard-a-lee-1573032/',\n",
       " 'https://www.martindale.com/attorney/iris-jannette-cabrera-2483645/',\n",
       " 'https://www.martindale.com/attorney/jose-o-sepulveda-4644050/',\n",
       " 'https://www.martindale.com/attorney/mary-yvette-esquilin-cordero-300751752/',\n",
       " 'https://www.martindale.com/attorney/manuel-rivera-santiago-1573947/',\n",
       " 'https://www.martindale.com/attorney/reinaldo-ramos-collazo-1573388/',\n",
       " 'https://www.martindale.com/attorney/ivonne-de-feria-molini-1571534/',\n",
       " 'https://www.martindale.com/attorney/carmen-t-torre-1574088/',\n",
       " 'https://www.martindale.com/attorney/rafael-mullet-sanchez-1573352/',\n",
       " 'https://www.martindale.com/attorney/gilberto-j-marxuach-torros-1573245/',\n",
       " 'https://www.martindale.com/attorney/david-maldonado-sanchez-2849209/',\n",
       " 'https://www.martindale.com/attorney/patricia-a-biaggi-trigo-1571268/',\n",
       " 'https://www.martindale.com/attorney/vanessa-i-soto-bober-1572585/',\n",
       " 'https://www.martindale.com/attorney/j-santiago-semidey-1574040/',\n",
       " 'https://www.martindale.com/attorney/george-l-weasler-157865845/',\n",
       " 'https://www.martindale.com/attorney/ricardo-r-pavia-cabanillas-1571975/',\n",
       " 'https://www.martindale.com/attorney/hector-e-pabon-vega-1572719/',\n",
       " 'https://www.martindale.com/attorney/veronica-ferraiuoli-hornedo-1573310/',\n",
       " 'https://www.martindale.com/attorney/ramon-l-ramos-aponte-169079732/',\n",
       " 'https://www.martindale.com/attorney/elisa-figueroa-baez-1571495/',\n",
       " 'https://www.martindale.com/attorney/desiree-laborde-sanfiorenzo-1573180/',\n",
       " 'https://www.martindale.com/attorney/emanuel-resto-marcano-300497322/',\n",
       " 'https://www.martindale.com/attorney/lizzie-m-padro-1572851/',\n",
       " 'https://www.martindale.com/attorney/hector-r-cintron-1571161/',\n",
       " 'https://www.martindale.com/attorney/juan-c-benitez-colon-1572466/',\n",
       " 'https://www.martindale.com/attorney/lucas-cordova-ayuso-36857270/',\n",
       " 'https://www.martindale.com/attorney/giselle-romero-garcia-1573827/',\n",
       " 'https://www.martindale.com/attorney/rene-aviles-garcia-esq-157012700/',\n",
       " 'https://www.martindale.com/attorney/victor-r-gonzalez-mangual-1574010/',\n",
       " 'https://www.martindale.com/attorney/carl-schuster-1573148/',\n",
       " 'https://www.martindale.com/attorney/jose-a-miranda-daleccio-1573487/',\n",
       " 'https://www.martindale.com/attorney/enid-marie-sanchez-rivera-3800001/',\n",
       " 'https://www.martindale.com/attorney/juan-carlos-mendez-30450122/',\n",
       " 'https://www.martindale.com/attorney/jose-g-fagot-diaz-1572163/',\n",
       " 'https://www.martindale.com/attorney/lis-m-lopez-2013898/',\n",
       " 'https://www.martindale.com/attorney/marla-d-rios-diaz-1572697/',\n",
       " 'https://www.martindale.com/attorney/carmen-m-segarra-168733754/',\n",
       " 'https://www.martindale.com/attorney/agustin-collazo-1573129/',\n",
       " 'https://www.martindale.com/attorney/magda-mariela-rexach-rexach-1573156/',\n",
       " 'https://www.martindale.com/attorney/rebecca-rodriguez-cruz-2009786/',\n",
       " 'https://www.martindale.com/attorney/luis-a-burgos-rivera-1573067/',\n",
       " 'https://www.martindale.com/attorney/janine-m-guzman-1572306/',\n",
       " 'https://www.martindale.com/attorney/e-giovannie-mercado-300302668/',\n",
       " 'https://www.martindale.com/attorney/veronica-candelas-perez-1573726/',\n",
       " 'https://www.martindale.com/attorney/ernesto-lebron-gonzalez-1573980/',\n",
       " 'https://www.martindale.com/attorney/carlos-o-bermudez-monroig-4504197/',\n",
       " 'https://www.martindale.com/attorney/jesus-m-del-valle-1573824/',\n",
       " 'https://www.martindale.com/attorney/jessica-alian-figueroa-arce-301061458/',\n",
       " 'https://www.martindale.com/attorney/mauricio-o-muniz-luciano-33933067/',\n",
       " 'https://www.martindale.com/attorney/patricia-m-marvez-valiente-2999269/',\n",
       " 'https://www.martindale.com/attorney/jose-m-torres-morales-26270794/',\n",
       " 'https://www.martindale.com/attorney/larissa-c-rosa-de-jesus-11441747/',\n",
       " 'https://www.martindale.com/attorney/sonia-i-torres-pabon-11861388/',\n",
       " 'https://www.martindale.com/attorney/marena-ramirez-45883778/',\n",
       " 'https://www.martindale.com/attorney/catalina-morales-300937306/',\n",
       " 'https://www.martindale.com/attorney/francisco-m-ramirez-rivera-1572138/',\n",
       " 'https://www.martindale.com/attorney/enrique-siaca-3568866/',\n",
       " 'https://www.martindale.com/attorney/bianca-a-landron-28828276/',\n",
       " 'https://www.martindale.com/attorney/emma-gonzalez-joy-301043650/',\n",
       " 'https://www.martindale.com/attorney/roberto-l-prats-palerm-1572866/',\n",
       " 'https://www.martindale.com/attorney/larissa-c-rosa-de-jesus-2109049/',\n",
       " 'https://www.martindale.com/attorney/lou-ann-delgado-1573928/',\n",
       " 'https://www.martindale.com/attorney/angel-r-decorral-julia-mr-1572334/',\n",
       " 'https://www.martindale.com/attorney/maritza-silva-cofresi-1572557/',\n",
       " 'https://www.martindale.com/attorney/belkin-nieves-gonzalez-2094447/',\n",
       " 'https://www.martindale.com/attorney/antonio-zapater-cajigas-1571404/',\n",
       " 'https://www.martindale.com/attorney/roberto-r-ramos-antonmattei-2849199/',\n",
       " 'https://www.martindale.com/attorney/douglas-harry-sanders-300946748/',\n",
       " 'https://www.martindale.com/attorney/jorge-m-torres-gomez-2038418/',\n",
       " 'https://www.martindale.com/attorney/adriana-maria-rivero-garcia-301098058/',\n",
       " 'https://www.martindale.com/attorney/ernesto-f-rodriguez-suris-1571194/',\n",
       " 'https://www.martindale.com/attorney/victor-f-oppenheimer-soto-2314207/',\n",
       " 'https://www.martindale.com/attorney/a-j-bennazar-zequeira-1572666/',\n",
       " 'https://www.martindale.com/attorney/delia-de-colorado-1572721/',\n",
       " 'https://www.martindale.com/attorney/eli-diaz-31783044/',\n",
       " 'https://www.martindale.com/attorney/nelson-perez-dominguez-1572251/',\n",
       " 'https://www.martindale.com/attorney/maria-b-maldonado-1571201/',\n",
       " 'https://www.martindale.com/attorney/berenice-b-bellotti-35687008/',\n",
       " 'https://www.martindale.com/attorney/marines-montero-flores-300333502/',\n",
       " 'https://www.martindale.com/attorney/rebecca-cuevas-fontan-2298720/',\n",
       " 'https://www.martindale.com/attorney/angelica-t-toro-lavergne-1573324/',\n",
       " 'https://www.martindale.com/attorney/rafael-a-nadal-arcelay-1571989/',\n",
       " 'https://www.martindale.com/attorney/vanessa-aymerich-conde-1573315/',\n",
       " 'https://www.martindale.com/attorney/jorge-j-garcia-diaz-1572165/',\n",
       " 'https://www.martindale.com/attorney/wally-de-la-rosa-vidal-1572377/',\n",
       " 'https://www.martindale.com/attorney/antonio-maldonado-figueroa-1571418/',\n",
       " 'https://www.martindale.com/attorney/john-e-mudd-1572267/',\n",
       " 'https://www.martindale.com/attorney/jose-a-crespo-rivera-2582179/',\n",
       " 'https://www.martindale.com/attorney/francisco-e-ponsa-flores-1573770/',\n",
       " 'https://www.martindale.com/attorney/karem-medina-romero-24419746/',\n",
       " 'https://www.martindale.com/attorney/luis-e-pabon-roca-1572886/',\n",
       " 'https://www.martindale.com/attorney/rafael-e-taboas-davila-43110645/',\n",
       " 'https://www.martindale.com/attorney/ricardo-burgos-300567746/',\n",
       " 'https://www.martindale.com/attorney/mr-de-la-cuetara-joseph-a-j-d-157947607/',\n",
       " 'https://www.martindale.com/attorney/sally-d-diaz-roldan-44558579/',\n",
       " 'https://www.martindale.com/attorney/belen-m-guerrero-calderon-1571525/',\n",
       " 'https://www.martindale.com/attorney/jan-carlos-rodriguez-3008241/',\n",
       " 'https://www.martindale.com/attorney/thomas-j-rosario-martinez-1574288/',\n",
       " 'https://www.martindale.com/attorney/javier-i-perez-suarez-2826267/',\n",
       " 'https://www.martindale.com/attorney/eyal-samuel-rosenstock-300597330/',\n",
       " 'https://www.martindale.com/attorney/noe-d-garcia-lopez-1571596/',\n",
       " 'https://www.martindale.com/attorney/jaime-l-zambrana-grana-1571108/',\n",
       " 'https://www.martindale.com/attorney/jennifer-lopez-negron-45016564/',\n",
       " 'https://www.martindale.com/attorney/jaime-f-gonzalez-suarez-301224218/',\n",
       " 'https://www.martindale.com/attorney/ismael-r-colon-perez-1574133/',\n",
       " 'https://www.martindale.com/attorney/charles-bimbela-quinones-1572512/',\n",
       " 'https://www.martindale.com/attorney/carlos-d-rodriguez-boneta-esq-1571873/',\n",
       " 'https://www.martindale.com/attorney/rodney-w-colon-ortiz-2248658/',\n",
       " 'https://www.martindale.com/attorney/rafael-arrillaga-torrens-jr-1573774/',\n",
       " 'https://www.martindale.com/attorney/francisco-agrait-oliveras-1571827/',\n",
       " 'https://www.martindale.com/attorney/joanne-v-gonzales-varon-157878119/',\n",
       " 'https://www.martindale.com/attorney/myriam-fernandez-gonzalez-2298314/',\n",
       " 'https://www.martindale.com/attorney/ms-neyla-ortiz-rosario-45876825/',\n",
       " 'https://www.martindale.com/attorney/mr-jose-f-velazquez-ortiz-esq-1574275/',\n",
       " 'https://www.martindale.com/attorney/wilfredo-segarra-miranda-1572059/',\n",
       " 'https://www.martindale.com/attorney/fernando-j-rovira-rullan-esq-1573328/',\n",
       " 'https://www.martindale.com/attorney/erick-e-kolthoff-1572986/',\n",
       " 'https://www.martindale.com/attorney/javier-e-rosario-perez-5054778/',\n",
       " 'https://www.martindale.com/attorney/luis-valle-irizarry-2043011/',\n",
       " 'https://www.martindale.com/attorney/alexandre-cyril-manz-301561772/',\n",
       " 'https://www.martindale.com/attorney/german-a-rieckehoff-perez-2023007/',\n",
       " 'https://www.martindale.com/attorney/william-m-vidal-carvajal-1571961/',\n",
       " 'https://www.martindale.com/attorney/ramon-l-velasco-1573606/',\n",
       " 'https://www.martindale.com/attorney/manuel-del-valle-1532514/',\n",
       " 'https://www.martindale.com/attorney/nilda-m-navarro-cabrer-1573568/',\n",
       " 'https://www.martindale.com/attorney/heriberto-lugo-gonzalez-1571351/',\n",
       " 'https://www.martindale.com/attorney/mario-l-paniagua-1573232/',\n",
       " 'https://www.martindale.com/attorney/jorge-l-cordova-jr-1573910/',\n",
       " 'https://www.martindale.com/attorney/sandra-l-negron-300971366/',\n",
       " 'https://www.martindale.com/attorney/jose-rodriguez-300823160/',\n",
       " 'https://www.martindale.com/attorney/osvaldo-puig-hernandez-2091351/',\n",
       " 'https://www.martindale.com/attorney/mildred-caban-46349807/',\n",
       " 'https://www.martindale.com/attorney/benjamin-quinones-lebron-13718978/',\n",
       " 'https://www.martindale.com/attorney/juan-carlos-deliz-21265759/',\n",
       " 'https://www.martindale.com/attorney/jose-e-fernandez-sein-1573517/',\n",
       " 'https://www.martindale.com/attorney/luis-a-rivera-cabrera-1574076/',\n",
       " 'https://www.martindale.com/attorney/frederick-j-baraga-huyke-4217608/',\n",
       " 'https://www.martindale.com/attorney/rosa-cabello-perez-1573975/',\n",
       " 'https://www.martindale.com/attorney/hilda-garcia-concepcion-4294130/',\n",
       " 'https://www.martindale.com/attorney/victor-m-aledo-garcia-2314990/',\n",
       " 'https://www.martindale.com/attorney/eugenio-j-huot-calderon-1573334/',\n",
       " 'https://www.martindale.com/attorney/yassmin-gonzalez-velez-2289813/',\n",
       " 'https://www.martindale.com/attorney/peter-s-roisman-1741052/',\n",
       " 'https://www.martindale.com/attorney/mireya-placer-300753306/',\n",
       " 'https://www.martindale.com/attorney/antonio-sagardia-de-jesus-41976632/',\n",
       " 'https://www.martindale.com/attorney/jorge-velazquez-1572570/',\n",
       " 'https://www.martindale.com/attorney/luis-m-villafane-jorge-157563361/',\n",
       " 'https://www.martindale.com/attorney/noel-gonzalez-miranda-1571646/',\n",
       " 'https://www.martindale.com/attorney/ian-p-carvajal-1571639/',\n",
       " 'https://www.martindale.com/attorney/ruth-santiago-1572235/',\n",
       " 'https://www.martindale.com/attorney/freddie-berrios-perez-1571629/',\n",
       " 'https://www.martindale.com/attorney/javier-inclan-300309206/',\n",
       " 'https://www.martindale.com/attorney/elba-l-bermudez-aponte-168529516/',\n",
       " 'https://www.martindale.com/attorney/jennifer-j-bingham-1572409/',\n",
       " 'https://www.martindale.com/attorney/gilda-del-c-cruz-martino-1573810/',\n",
       " 'https://www.martindale.com/attorney/hector-l-freire-ortiz-1571443/',\n",
       " 'https://www.martindale.com/attorney/rosa-e-permuy-1574197/',\n",
       " 'https://www.martindale.com/attorney/ma-margarita-eguia-moreda-45031610/',\n",
       " 'https://www.martindale.com/attorney/eldia-m-diaz-olmo-1571216/',\n",
       " 'https://www.martindale.com/attorney/maria-m-del-valle-armstrong-1571385/',\n",
       " 'https://www.martindale.com/attorney/paul-a-ferrer-2298810/',\n",
       " 'https://www.martindale.com/attorney/andres-fortuna-garcia-2780965/',\n",
       " 'https://www.martindale.com/attorney/ana-maria-rodriquez-torres-1573137/',\n",
       " 'https://www.martindale.com/attorney/dora-l-monserrate-penagaricano-1572181/',\n",
       " 'https://www.martindale.com/attorney/jorge-e-galva-1571206/',\n",
       " 'https://www.martindale.com/attorney/edgardo-arroyo-ortiz-1572683/',\n",
       " 'https://www.martindale.com/attorney/diego-melendez-apellaniz-301224228/',\n",
       " 'https://www.martindale.com/attorney/amexis-j-bonilla-nieves-300738464/',\n",
       " 'https://www.martindale.com/attorney/juan-a-marques-diaz-1573317/',\n",
       " 'https://www.martindale.com/attorney/antonio-cuevas-viret-1572313/',\n",
       " 'https://www.martindale.com/attorney/yamary-i-gonzalez-berrios-4720845/',\n",
       " 'https://www.martindale.com/attorney/liza-delgado-gonzalez-44395821/',\n",
       " 'https://www.martindale.com/attorney/luis-carlos-marini-2298729/',\n",
       " 'https://www.martindale.com/attorney/ernesto-l-polo-melendez-4239929/',\n",
       " 'https://www.martindale.com/attorney/eduardo-r-estrella-1572420/',\n",
       " 'https://www.martindale.com/attorney/norma-m-rivera-padilla-1571487/',\n",
       " 'https://www.martindale.com/attorney/xenia-velez-301224224/',\n",
       " 'https://www.martindale.com/attorney/geronimo-lluberas-kells-1573072/',\n",
       " 'https://www.martindale.com/attorney/angela-m-perozzi-4355837/',\n",
       " 'https://www.martindale.com/attorney/melissa-lee-roth-25183786/',\n",
       " 'https://www.martindale.com/attorney/gabriel-i-penagaricano-1573689/',\n",
       " 'https://www.martindale.com/attorney/gina-aguilar-gerardino-2101762/',\n",
       " 'https://www.martindale.com/attorney/william-a-power-1573242/',\n",
       " 'https://www.martindale.com/attorney/jose-a-rey-diaz-1573885/',\n",
       " 'https://www.martindale.com/attorney/maria-m-fernandez-2372530/',\n",
       " 'https://www.martindale.com/attorney/eric-r-huot-caldern-2220069/',\n",
       " 'https://www.martindale.com/attorney/rafael-a-ojeda-diez-1574265/',\n",
       " 'https://www.martindale.com/attorney/milton-j-rua-1574008/',\n",
       " 'https://www.martindale.com/attorney/cecile-a-armstrong-1573302/',\n",
       " 'https://www.martindale.com/attorney/antonio-rossello-rentas-1574000/',\n",
       " 'https://www.martindale.com/attorney/edgar-f-balzac-1572581/',\n",
       " 'https://www.martindale.com/attorney/concepcion-gonzalez-2121820/',\n",
       " 'https://www.martindale.com/attorney/jose-a-santiago-martinez-1574039/',\n",
       " 'https://www.martindale.com/attorney/bayoan-muniz-calderon-45031556/',\n",
       " 'https://www.martindale.com/attorney/ana-maria-niggemann-1574261/',\n",
       " 'https://www.martindale.com/attorney/arturo-perez-orama-1571524/',\n",
       " 'https://www.martindale.com/attorney/josea-ramos-jimenez-1572457/',\n",
       " 'https://www.martindale.com/attorney/mrs-yanire-batista-orama-301065134/',\n",
       " 'https://www.martindale.com/attorney/samuel-garcia-angeli-1571737/']"
      ]
     },
     "execution_count": 253,
     "metadata": {},
     "output_type": "execute_result"
    }
   ],
   "source": [
    "with open(\"urls.pkl\", \"rb\") as f:\n",
    "    urls_per_filter = pickle.load(f) # Carga de urls de primera iteración, ya la lista no es 0. \n",
    "urls_per_filter # Toca cambiar el nombre a url_complete o algo así porque va almacenar todo\n"
   ]
  },
  {
   "cell_type": "code",
   "execution_count": null,
   "id": "e98f90de",
   "metadata": {},
   "outputs": [
    {
     "name": "stdout",
     "output_type": "stream",
     "text": [
      "accediendo a 1: https://www.martindale.com/attorney/tessie-leal-garabis-esq-169104324/\n",
      "accediendo a 2: https://www.martindale.com/attorney/ramon-mellado-gonzalez-1572913/\n",
      "accediendo a 3: https://www.martindale.com/attorney/edgardo-j-hernandez-oharriz-esq-158870123/\n",
      "accediendo a 4: https://www.martindale.com/attorney/jaime-j-aponte-parsi-1573642/\n",
      "accediendo a 5: https://www.martindale.com/attorney/vicente-a-sequeda-torres-1572418/\n",
      "accediendo a 6: https://www.martindale.com/attorney/ross-alan-miller-300844400/\n",
      "accediendo a 7: https://www.martindale.com/attorney/david-j-fernandez-esteves-1571798/\n",
      "accediendo a 8: https://www.martindale.com/attorney/carlos-villegas-del-valle-301593670/\n",
      "accediendo a 9: https://www.martindale.com/attorney/hector-pedrosa-41531869/\n",
      "accediendo a 10: https://www.martindale.com/attorney/karla-m-rodriguez-morales-157447904/\n",
      "accediendo a 11: https://www.martindale.com/attorney/ms-helaine-a-gregory-321442/\n",
      "accediendo a 12: https://www.martindale.com/attorney/joseph-d-lento-168969230/\n",
      "accediendo a 13: https://www.martindale.com/attorney/glenn-carl-james-1573988/\n",
      "accediendo a 14: https://www.martindale.com/attorney/benjamin-acosta-jr-1571792/\n",
      "accediendo a 15: https://www.martindale.com/attorney/jennie-marielle-espada-ocasio-esq-167698736/\n",
      "accediendo a 16: https://www.martindale.com/attorney/patrick-d-o-neill-1572140/\n",
      "accediendo a 17: https://www.martindale.com/attorney/alexis-x-garcia-rivera-4671778/\n",
      "accediendo a 18: https://www.martindale.com/attorney/hector-j-orejuela-davila-168566822/\n",
      "accediendo a 19: https://www.martindale.com/attorney/raed-gonzalez-1667237/\n",
      "accediendo a 20: https://www.martindale.com/attorney/juan-m-surillo-pumarada-1571261/\n",
      "accediendo a 21: https://www.martindale.com/attorney/robert-t-collins-viera-1571688/\n",
      "accediendo a 22: https://www.martindale.com/attorney/rafael-l-rovira-arbona-301593668/\n",
      "accediendo a 23: https://www.martindale.com/attorney/francisco-fernandez-alvarez-1571687/\n",
      "accediendo a 24: https://www.martindale.com/attorney/laura-a-dahdah-de-surillo-1571262/\n",
      "accediendo a 25: https://www.martindale.com/attorney/carlos-a-bobonis-gonzalez-1571905/\n",
      "accediendo a 26: https://www.martindale.com/attorney/leonardo-m-aldridge-300301298/\n",
      "accediendo a 27: https://www.martindale.com/attorney/evelyn-rosa-morel-1571797/\n",
      "accediendo a 28: https://www.martindale.com/attorney/enrique-g-figueroa-llinas-1571907/\n",
      "accediendo a 29: https://www.martindale.com/attorney/roberto-c-rodriguez-poventud-1571906/\n",
      "accediendo a 30: https://www.martindale.com/attorney/jairo-jay-mellado-villarreal-1572914/\n",
      "accediendo a 31: https://www.martindale.com/attorney/gilberto-j-santiago-martinez-esq-158870533/\n",
      "accediendo a 32: https://www.martindale.com/attorney/alexandre-a-afanassiev-3711880/\n",
      "accediendo a 33: https://www.martindale.com/attorney/guillermo-j-bobonis-1571904/\n",
      "accediendo a 34: https://www.martindale.com/attorney/juan-a-cuyar-cobb-1571691/\n",
      "accediendo a 35: https://www.martindale.com/attorney/federico-calaf-legrand-1573871/\n",
      "accediendo a 36: https://www.martindale.com/attorney/luis-e-minana-25007752/\n",
      "accediendo a 37: https://www.martindale.com/attorney/charles-p-gilmore-1572180/\n",
      "accediendo a 38: https://www.martindale.com/attorney/nelson-r-garayua-vazquez-1571795/\n",
      "accediendo a 39: https://www.martindale.com/attorney/maximiliano-a-pla-mendez-25744746/\n",
      "accediendo a 40: https://www.martindale.com/attorney/jennifer-odell-gonzalez-1572184/\n",
      "accediendo a 41: https://www.martindale.com/attorney/sara-e-colon-301568200/\n",
      "accediendo a 42: https://www.martindale.com/attorney/oronte-oliveras-sifre-1571828/\n",
      "accediendo a 43: https://www.martindale.com/attorney/mr-carlos-a-garcia-3253153/\n",
      "accediendo a 44: https://www.martindale.com/attorney/jesus-hernandez-sanchez-169019240/\n",
      "accediendo a 45: https://www.martindale.com/attorney/yum-e-ramos-perales-6926753/\n",
      "accediendo a 46: https://www.martindale.com/attorney/karolee-garcia-1573430/\n",
      "accediendo a 47: https://www.martindale.com/attorney/ada-nurie-pagan-isona-2092200/\n",
      "accediendo a 48: https://www.martindale.com/attorney/jose-r-quinones-coll-1573098/\n",
      "accediendo a 49: https://www.martindale.com/attorney/jose-david-medina-rivera-1572164/\n",
      "accediendo a 50: https://www.martindale.com/attorney/angel-m-rivera-munich-1571882/\n",
      "accediendo a 51: https://www.martindale.com/attorney/salomon-chiquiar-rabinovich-1573376/\n",
      "accediendo a 52: https://www.martindale.com/attorney/carmen-m-cotto-2347855/\n",
      "accediendo a 53: https://www.martindale.com/attorney/c-heydee-pagani-padro-1571937/\n",
      "accediendo a 54: https://www.martindale.com/attorney/jely-a-cedeno-richiez-3173241/\n",
      "accediendo a 55: https://www.martindale.com/attorney/consuelo-m-sifre-garcia-1573527/\n",
      "accediendo a 56: https://www.martindale.com/attorney/carlos-f-ramirez-de-arellano-1572791/\n",
      "accediendo a 57: https://www.martindale.com/attorney/luis-baerga-duprey-1571858/\n",
      "accediendo a 58: https://www.martindale.com/attorney/maria-i-de-mier-1572157/\n",
      "accediendo a 59: https://www.martindale.com/attorney/eda-mariel-ayala-morales-2107605/\n",
      "accediendo a 60: https://www.martindale.com/attorney/jorge-r-gonzalez-1573217/\n",
      "accediendo a 61: https://www.martindale.com/attorney/agustin-fortuno-fas-1573307/\n",
      "accediendo a 62: https://www.martindale.com/attorney/zelma-davilla-carrasquillo-2529680/\n",
      "accediendo a 63: https://www.martindale.com/attorney/maarja-tiganik-luhtaru-168649806/\n",
      "accediendo a 64: https://www.martindale.com/attorney/madeline-marie-mas-saavedra-301268888/\n",
      "accediendo a 65: https://www.martindale.com/attorney/michel-rachid-pineiro-1573844/\n",
      "accediendo a 66: https://www.martindale.com/attorney/mr-eliseo-roques-301072782/\n",
      "accediendo a 67: https://www.martindale.com/attorney/edilberto-berrios-davila-1572406/\n",
      "accediendo a 68: https://www.martindale.com/attorney/rosario-morales-seneriz-1571124/\n",
      "accediendo a 69: https://www.martindale.com/attorney/benito-i-rodriguez-masso-1571126/\n",
      "accediendo a 70: https://www.martindale.com/attorney/israel-melendez-4294122/\n",
      "accediendo a 71: https://www.martindale.com/attorney/maria-isabelle-ramos-artunduaga-44858943/\n",
      "accediendo a 72: https://www.martindale.com/attorney/ramon-a-cancio-sifre-1571952/\n",
      "accediendo a 73: https://www.martindale.com/attorney/gabriel-maldonado-158002721/\n",
      "accediendo a 74: https://www.martindale.com/attorney/magdalena-s-revuelta-1571590/\n",
      "accediendo a 75: https://www.martindale.com/attorney/griselle-bermudez-43428566/\n",
      "accediendo a 76: https://www.martindale.com/attorney/risa-tobin-1571692/\n",
      "accediendo a 77: https://www.martindale.com/attorney/victoria-d-pierce-king-1572001/\n",
      "accediendo a 78: https://www.martindale.com/attorney/orlin-p-goble-rosales-1572307/\n",
      "accediendo a 79: https://www.martindale.com/attorney/cristina-mullan-davila-3918234/\n",
      "accediendo a 80: https://www.martindale.com/attorney/angel-l-morales-rodriguez-1572006/\n",
      "accediendo a 81: https://www.martindale.com/attorney/lynette-algarin-otero-1571234/\n",
      "accediendo a 82: https://www.martindale.com/attorney/mr-luis-alberto-plaza-mariota-301054346/\n",
      "accediendo a 83: https://www.martindale.com/attorney/rogelio-i-guzman-lloveras-1572308/\n",
      "accediendo a 84: https://www.martindale.com/attorney/atty-antonio-l-roig-300189516/\n",
      "accediendo a 85: https://www.martindale.com/attorney/cristina-m-fernandez-neumann-1573349/\n",
      "accediendo a 86: https://www.martindale.com/attorney/david-a-beckerleg-1574182/\n",
      "accediendo a 87: https://www.martindale.com/attorney/benicio-sanchez-1571721/\n",
      "accediendo a 88: https://www.martindale.com/attorney/jose-a-iguina-de-la-rosa-1571402/\n",
      "accediendo a 89: https://www.martindale.com/attorney/isabel-pena-rodriguez-1573727/\n",
      "accediendo a 90: https://www.martindale.com/attorney/federico-delgado-torres-1572046/\n",
      "accediendo a 91: https://www.martindale.com/attorney/luis-l-torres-marrero-1572533/\n",
      "accediendo a 92: https://www.martindale.com/attorney/angel-munoz-noya-1573039/\n",
      "accediendo a 93: https://www.martindale.com/attorney/miguel-d-lausell-1572301/\n",
      "accediendo a 94: https://www.martindale.com/attorney/william-nadal-jr-1571400/\n",
      "accediendo a 95: https://www.martindale.com/attorney/rebeca-f-rojas-1573713/\n",
      "accediendo a 96: https://www.martindale.com/attorney/carlos-martin-sanchez-300562186/\n",
      "accediendo a 97: https://www.martindale.com/attorney/jeannette-ramos-de-toro-1573866/\n",
      "accediendo a 98: https://www.martindale.com/attorney/miguel-hernandez-colon-1571280/\n",
      "accediendo a 99: https://www.martindale.com/attorney/jorge-p-silva-puras-1573652/\n",
      "accediendo a 100: https://www.martindale.com/attorney/juan-carlos-toro-sepulveda-300751834/\n",
      "accediendo a 101: https://www.martindale.com/attorney/jose-a-bague-soto-1573923/\n",
      "accediendo a 102: https://www.martindale.com/attorney/yarliz-a-rios-portela-13792232/\n",
      "accediendo a 103: https://www.martindale.com/attorney/w-stephen-muldrow-1571583/\n",
      "accediendo a 104: https://www.martindale.com/attorney/malu-muniz-nieves-1571630/\n",
      "accediendo a 105: https://www.martindale.com/attorney/arturo-v-bauermeister-169155024/\n",
      "accediendo a 106: https://www.martindale.com/attorney/ramon-lloveras-san-miguel-1572458/\n",
      "accediendo a 107: https://www.martindale.com/attorney/rebeca-caquias-mejias-2525483/\n",
      "accediendo a 108: https://www.martindale.com/attorney/edwin-l-bello-rivera-1573135/\n",
      "accediendo a 109: https://www.martindale.com/attorney/neville-ortiz-soto-1573973/\n",
      "accediendo a 110: https://www.martindale.com/attorney/amarilis-l-gonzalez-2225544/\n",
      "accediendo a 111: https://www.martindale.com/attorney/rolando-emmanuelli-jimenez-1571319/\n",
      "accediendo a 112: https://www.martindale.com/attorney/rafeal-a-oliveras-1573577/\n",
      "accediendo a 113: https://www.martindale.com/attorney/jesus-r-rabell-mendez-4432086/\n",
      "accediendo a 114: https://www.martindale.com/attorney/jorge-de-la-cruz-figueroa-1572335/\n",
      "accediendo a 115: https://www.martindale.com/attorney/jose-enrique-amadeo-1571836/\n",
      "accediendo a 116: https://www.martindale.com/attorney/dana-michelle-waller-15678/\n",
      "accediendo a 117: https://www.martindale.com/attorney/maria-de-los-angeles-1572296/\n",
      "accediendo a 118: https://www.martindale.com/attorney/alice-m-velazquez-aponte-395765/\n",
      "accediendo a 119: https://www.martindale.com/attorney/ina-r-aponte-de-aviles-1574083/\n",
      "accediendo a 120: https://www.martindale.com/attorney/virgilio-a-ramos-gonzalez-1573867/\n",
      "accediendo a 121: https://www.martindale.com/attorney/yadira-rivera-cintron-11857132/\n",
      "accediendo a 122: https://www.martindale.com/attorney/keyla-gandara-umpierre-44858880/\n",
      "accediendo a 123: https://www.martindale.com/attorney/brian-k-tester-94518/\n",
      "accediendo a 124: https://www.martindale.com/attorney/wilmer-j-camacho-caraballo-1572889/\n",
      "accediendo a 125: https://www.martindale.com/attorney/valerie-maldonado-rivera-3655960/\n",
      "accediendo a 126: https://www.martindale.com/attorney/olga-isabel-nigaglioni-cruz-2277901/\n",
      "accediendo a 127: https://www.martindale.com/attorney/edgardo-perez-gutierrez-300744872/\n",
      "accediendo a 128: https://www.martindale.com/attorney/wendel-h-mercado-perez-5995750/\n",
      "accediendo a 129: https://www.martindale.com/attorney/mari-carmen-bosch-1573270/\n",
      "accediendo a 130: https://www.martindale.com/attorney/pedro-antonio-barcelo-lugo-300803598/\n",
      "accediendo a 131: https://www.martindale.com/attorney/carlos-e-george-2007226/\n",
      "accediendo a 132: https://www.martindale.com/attorney/jose-t-silva-cuetara-1574064/\n",
      "accediendo a 133: https://www.martindale.com/attorney/ramon-lomba-miranda-46132649/\n",
      "accediendo a 134: https://www.martindale.com/attorney/carlos-e-jimenez-1573656/\n",
      "accediendo a 135: https://www.martindale.com/attorney/jocelyn-grafals-300716040/\n",
      "accediendo a 136: https://www.martindale.com/attorney/julio-a-diaz-valdes-1573044/\n",
      "accediendo a 137: https://www.martindale.com/attorney/maricarmen-almodovar-1574232/\n",
      "accediendo a 138: https://www.martindale.com/attorney/yelitza-r-lopez-rivera-3209802/\n",
      "accediendo a 139: https://www.martindale.com/attorney/david-rive-power-1573578/\n",
      "accediendo a 140: https://www.martindale.com/attorney/jose-irizarry-castro-301224208/\n",
      "accediendo a 141: https://www.martindale.com/attorney/graciela-j-belaval-1572141/\n",
      "accediendo a 142: https://www.martindale.com/attorney/suzanne-marie-dubon-willmore-300388382/\n",
      "accediendo a 143: https://www.martindale.com/attorney/carlos-e-siverio-orta-1571071/\n",
      "accediendo a 144: https://www.martindale.com/attorney/rafael-ortiz-carrion-1571878/\n",
      "accediendo a 145: https://www.martindale.com/attorney/maria-de-lourdes-rivera-sostre-3355294/\n",
      "accediendo a 146: https://www.martindale.com/attorney/jorge-bauermeister-1572735/\n",
      "accediendo a 147: https://www.martindale.com/attorney/gricelle-lugo-santiago-1573729/\n",
      "accediendo a 148: https://www.martindale.com/attorney/jose-e-naveira-san-miguel-1571175/\n",
      "accediendo a 149: https://www.martindale.com/attorney/nilda-m-gonzalez-cordero-1573850/\n",
      "accediendo a 150: https://www.martindale.com/attorney/ramon-muniz-santiago-908753/\n",
      "accediendo a 151: https://www.martindale.com/attorney/jaime-brugueras-1572612/\n",
      "accediendo a 152: https://www.martindale.com/attorney/luis-marrero-padilla-1571152/\n",
      "accediendo a 153: https://www.martindale.com/attorney/waldemar-fabery-300795290/\n",
      "accediendo a 154: https://www.martindale.com/attorney/jose-l-barrios-ramos-46210559/\n",
      "accediendo a 155: https://www.martindale.com/attorney/mari-carmen-colon-diaz-1573981/\n",
      "accediendo a 156: https://www.martindale.com/attorney/maria-teresa-pombo-300369998/\n",
      "accediendo a 157: https://www.martindale.com/attorney/marimar-alberty-oller-3717032/\n",
      "accediendo a 158: https://www.martindale.com/attorney/jorge-l-mendin-1572709/\n",
      "accediendo a 159: https://www.martindale.com/attorney/eduardo-tamargo-motroni-1573195/\n",
      "accediendo a 160: https://www.martindale.com/attorney/mr-hugo-quilichini-169116918/\n",
      "accediendo a 161: https://www.martindale.com/attorney/orlando-marrero-sanchez-5148763/\n",
      "accediendo a 162: https://www.martindale.com/attorney/federico-tilen-1572566/\n",
      "accediendo a 163: https://www.martindale.com/attorney/cristina-l-alcaraz-emmanuelli-1991088/\n",
      "accediendo a 164: https://www.martindale.com/attorney/maria-luisa-gonzalez-hernandez-1572515/\n",
      "accediendo a 165: https://www.martindale.com/attorney/isabel-torres-sastre-157641325/\n",
      "accediendo a 166: https://www.martindale.com/attorney/lizette-ortiz-bonilla-1572130/\n",
      "accediendo a 167: https://www.martindale.com/attorney/mr-andrew-thomas-kagan-168798166/\n",
      "accediendo a 168: https://www.martindale.com/attorney/jose-luis-novas-dueno-1572936/\n",
      "accediendo a 169: https://www.martindale.com/attorney/carmen-irizarry-de-dominguez-1572559/\n",
      "accediendo a 170: https://www.martindale.com/attorney/fernando-delgado-kuinlam-1571960/\n",
      "accediendo a 171: https://www.martindale.com/attorney/marta-del-pilar-santiago-ramos-1573435/\n",
      "accediendo a 172: https://www.martindale.com/attorney/miguel-r-ortiz-calero-1571923/\n",
      "accediendo a 173: https://www.martindale.com/attorney/janice-richardson-4685267/\n",
      "accediendo a 174: https://www.martindale.com/attorney/eric-alvarez-feliciano-1572433/\n",
      "accediendo a 175: https://www.martindale.com/attorney/luis-f-del-valle-emmanuelli-1571467/\n",
      "accediendo a 176: https://www.martindale.com/attorney/maryvette-velazquez-torres-1572723/\n",
      "accediendo a 177: https://www.martindale.com/attorney/maria-e-juarbe-168756684/\n",
      "accediendo a 178: https://www.martindale.com/attorney/paul-hammer-168616428/\n",
      "accediendo a 179: https://www.martindale.com/attorney/jose-javier-santos-mimoso-1573856/\n",
      "accediendo a 180: https://www.martindale.com/attorney/sylkia-carballo-nogueras-1573977/\n",
      "accediendo a 181: https://www.martindale.com/attorney/maricely-blaimayar-sanchez-5138060/\n",
      "accediendo a 182: https://www.martindale.com/attorney/astrid-castro-franceschi-1571151/\n",
      "accediendo a 183: https://www.martindale.com/attorney/sarah-delgado-40603874/\n",
      "accediendo a 184: https://www.martindale.com/attorney/felix-r-figueroa-caban-1572283/\n",
      "accediendo a 185: https://www.martindale.com/attorney/thomas-f-klumper-1571415/\n",
      "accediendo a 186: https://www.martindale.com/attorney/carlos-j-micames-montalvo-301090624/\n",
      "accediendo a 187: https://www.martindale.com/attorney/clotilde-rexach-beniitez-1572545/\n",
      "accediendo a 188: https://www.martindale.com/attorney/ivan-rios-mena-46617616/\n",
      "accediendo a 189: https://www.martindale.com/attorney/brunilda-rodriguez-velez-1572162/\n",
      "accediendo a 190: https://www.martindale.com/attorney/fernando-ortiz-melendez-301064888/\n",
      "accediendo a 191: https://www.martindale.com/attorney/gustavo-torres-viera-300531608/\n",
      "accediendo a 192: https://www.martindale.com/attorney/vicente-zayas-puig-1571860/\n",
      "accediendo a 193: https://www.martindale.com/attorney/maria-teresa-szendrey-ramos-1572525/\n",
      "accediendo a 194: https://www.martindale.com/attorney/yammir-samalot-rodriguez-1573929/\n",
      "accediendo a 195: https://www.martindale.com/attorney/luis-r-mellado-gonzalez-1572926/\n",
      "accediendo a 196: https://www.martindale.com/attorney/erin-elizabeth-martens-125069/\n",
      "accediendo a 197: https://www.martindale.com/attorney/maria-e-santori-aymat-3817913/\n",
      "accediendo a 198: https://www.martindale.com/attorney/jose-b-aponte-colon-1571058/\n",
      "accediendo a 199: https://www.martindale.com/attorney/luis-m-rodriguez-lopez-1572558/\n",
      "accediendo a 200: https://www.martindale.com/attorney/victor-quinones-martinez-33975880/\n",
      "accediendo a 201: https://www.martindale.com/attorney/ramon-vega-dorticos-4705152/\n",
      "accediendo a 202: https://www.martindale.com/attorney/felix-m-roman-1574104/\n",
      "accediendo a 203: https://www.martindale.com/attorney/alys-m-collazo-bougeois-1571386/\n",
      "accediendo a 204: https://www.martindale.com/attorney/maritza-candelaria-bonet-2298496/\n",
      "accediendo a 205: https://www.martindale.com/attorney/sarah-delgado-40603874/\n",
      "accediendo a 206: https://www.martindale.com/attorney/manuel-correa-calzada-1572275/\n",
      "accediendo a 207: https://www.martindale.com/attorney/roberto-gonzalez-rivera-1572904/\n",
      "accediendo a 208: https://www.martindale.com/attorney/alejandro-valderrabano-300311226/\n",
      "accediendo a 209: https://www.martindale.com/attorney/gregory-m-demel-2613625/\n",
      "accediendo a 210: https://www.martindale.com/attorney/juan-a-hernandez-rivera-11784995/\n",
      "accediendo a 211: https://www.martindale.com/attorney/samuel-peter-carrion-301208024/\n",
      "accediendo a 212: https://www.martindale.com/attorney/eddie-lopez-alonso-1572584/\n",
      "accediendo a 213: https://www.martindale.com/attorney/aixa-perez-mink-168870086/\n",
      "accediendo a 214: https://www.martindale.com/attorney/fernando-ortiz-300855468/\n",
      "accediendo a 215: https://www.martindale.com/attorney/francisco-rios-rivera-13993080/\n",
      "accediendo a 216: https://www.martindale.com/attorney/marco-antonio-rigau-1573891/\n",
      "accediendo a 217: https://www.martindale.com/attorney/alberto-j-rodriguez-ramos-4450141/\n",
      "accediendo a 218: https://www.martindale.com/attorney/pedro-jose-nieves-miranda-300778772/\n",
      "accediendo a 219: https://www.martindale.com/attorney/diego-murgia-doaz-158583553/\n",
      "accediendo a 220: https://www.martindale.com/attorney/yahaida-diana-zabala-169087718/\n",
      "accediendo a 221: https://www.martindale.com/attorney/fausto-ramos-quiros-1574162/\n",
      "accediendo a 222: https://www.martindale.com/attorney/roberto-f-nater-lebron-1573009/\n",
      "accediendo a 223: https://www.martindale.com/attorney/rafael-alonso-alonso-1573715/\n",
      "accediendo a 224: https://www.martindale.com/attorney/roberto-berrios-falcon-5128154/\n",
      "accediendo a 225: https://www.martindale.com/attorney/maria-de-lourdes-martinez-lamadriz-1572616/\n",
      "accediendo a 226: https://www.martindale.com/attorney/peter-w-miller-1571813/\n",
      "accediendo a 227: https://www.martindale.com/attorney/cathleen-feliciano-torres-1572588/\n",
      "accediendo a 228: https://www.martindale.com/attorney/luis-morales-steinmann-1572142/\n",
      "accediendo a 229: https://www.martindale.com/attorney/maria-e-pico-1574100/\n",
      "accediendo a 230: https://www.martindale.com/attorney/lourdes-aguirrechu-1573920/\n",
      "accediendo a 231: https://www.martindale.com/attorney/peter-anthony-hull-1736992/\n",
      "accediendo a 232: https://www.martindale.com/attorney/anabel-rodriguez-alonso-1573158/\n",
      "accediendo a 233: https://www.martindale.com/attorney/f-ariel-aviles-rodriguez-1574080/\n",
      "accediendo a 234: https://www.martindale.com/attorney/jorge-calero-blanco-1573297/\n",
      "accediendo a 235: https://www.martindale.com/attorney/ramon-a-rosado-vila-1571180/\n",
      "accediendo a 236: https://www.martindale.com/attorney/francisco-fernandez-chiques-4217631/\n",
      "accediendo a 237: https://www.martindale.com/attorney/omar-a-barroso-rosario-5128114/\n",
      "accediendo a 238: https://www.martindale.com/attorney/martin-gonzalez-vazquez-1571348/\n",
      "accediendo a 239: https://www.martindale.com/attorney/wilbert-mendez-marrero-300998632/\n",
      "accediendo a 240: https://www.martindale.com/attorney/manuel-f-villalon-1573556/\n",
      "accediendo a 241: https://www.martindale.com/attorney/hernan-francisco-ayala-rubio-44592968/\n",
      "accediendo a 242: https://www.martindale.com/attorney/maria-de-lourdes-rivera-sostre-300843926/\n",
      "accediendo a 243: https://www.martindale.com/attorney/james-m-christian-sr-356377/\n",
      "accediendo a 244: https://www.martindale.com/attorney/raul-davila-rivera-1571865/\n",
      "accediendo a 245: https://www.martindale.com/attorney/marielisa-font-rodriguez-1572272/\n",
      "accediendo a 246: https://www.martindale.com/attorney/salvador-f-rovira-rodriguez-1573728/\n",
      "accediendo a 247: https://www.martindale.com/attorney/gary-l-leonard-1572204/\n",
      "accediendo a 248: https://www.martindale.com/attorney/manuel-h-dubon-1572373/\n",
      "accediendo a 249: https://www.martindale.com/attorney/marie-christine-amy-2144269/\n",
      "accediendo a 250: https://www.martindale.com/attorney/luis-ortiz-alvarado-13789401/\n",
      "accediendo a 251: https://www.martindale.com/attorney/luisa-m-vela-gutierrez-1574072/\n",
      "accediendo a 252: https://www.martindale.com/attorney/manuel-r-pietrantoni-1573399/\n",
      "accediendo a 253: https://www.martindale.com/attorney/ramon-l-vinas-bueso-1573918/\n",
      "accediendo a 254: https://www.martindale.com/attorney/jaime-sifre-rodriguez-1572079/\n",
      "accediendo a 255: https://www.martindale.com/attorney/ms-luz-m-ramos-301066778/\n",
      "accediendo a 256: https://www.martindale.com/attorney/edward-a-godoy-1572440/\n",
      "accediendo a 257: https://www.martindale.com/attorney/victor-m-hernandez-gonzalez-esq-1571327/\n",
      "accediendo a 258: https://www.martindale.com/attorney/mr-andrew-stell-mccutcheon-168801826/\n",
      "accediendo a 259: https://www.martindale.com/attorney/modesto-bigas-mendez-2862192/\n",
      "accediendo a 260: https://www.martindale.com/attorney/georgette-rodriguez-1572388/\n",
      "accediendo a 261: https://www.martindale.com/attorney/emma-marie-lozada-ramirez-1572042/\n",
      "accediendo a 262: https://www.martindale.com/attorney/jeannette-m-lopez-de-victoria-1572255/\n",
      "accediendo a 263: https://www.martindale.com/attorney/maria-m-pabon-1573138/\n",
      "accediendo a 264: https://www.martindale.com/attorney/brandon-kurtis-jaycox-168778594/\n",
      "accediendo a 265: https://www.martindale.com/attorney/omar-a-jimenez-2057202/\n",
      "accediendo a 266: https://www.martindale.com/attorney/mr-david-killian-rodriguez-encarnacion-300225508/\n",
      "accediendo a 267: https://www.martindale.com/attorney/maura-santiago-ducos-1572850/\n",
      "accediendo a 268: https://www.martindale.com/attorney/ramon-j-abarca-schwartz-1573202/\n",
      "accediendo a 269: https://www.martindale.com/attorney/eric-perez-ochoa-11440767/\n",
      "accediendo a 270: https://www.martindale.com/attorney/ms-kendys-pimentel-soto-301519088/\n",
      "accediendo a 271: https://www.martindale.com/attorney/juan-massa-diaz-1573119/\n",
      "accediendo a 272: https://www.martindale.com/attorney/zelma-b-davila-carrasquillo-301315234/\n",
      "accediendo a 273: https://www.martindale.com/attorney/rafael-j-velazquez-villares-1572324/\n",
      "accediendo a 274: https://www.martindale.com/attorney/maria-del-carmen-martinez-1572920/\n",
      "accediendo a 275: https://www.martindale.com/attorney/robert-b-washington-jr-300550654/\n",
      "accediendo a 276: https://www.martindale.com/attorney/jorge-e-vega-pacheco-1571054/\n",
      "accediendo a 277: https://www.martindale.com/attorney/noel-colon-martinez-1572126/\n",
      "accediendo a 278: https://www.martindale.com/attorney/jose-m-couto-llinas-11857126/\n",
      "accediendo a 279: https://www.martindale.com/attorney/sara-l-velez-santiago-3807360/\n",
      "accediendo a 280: https://www.martindale.com/attorney/rosangela-sanfilippo-resumil-2854083/\n",
      "accediendo a 281: https://www.martindale.com/attorney/sonsire-ramos-soler-1572230/\n",
      "accediendo a 282: https://www.martindale.com/attorney/robert-r-munoz-arill-1573508/\n",
      "accediendo a 283: https://www.martindale.com/attorney/reinaldo-jaime-1571162/\n",
      "accediendo a 284: https://www.martindale.com/attorney/luis-r-rivera-gonzalez-1571706/\n",
      "accediendo a 285: https://www.martindale.com/attorney/rafael-kodesh-baragano-1572158/\n",
      "accediendo a 286: https://www.martindale.com/attorney/angel-m-villamil-rodriguez-mr-1571102/\n",
      "accediendo a 287: https://www.martindale.com/attorney/louise-shaw-livingston-231132/\n",
      "accediendo a 288: https://www.martindale.com/attorney/eugene-p-scott-24179045/\n",
      "accediendo a 289: https://www.martindale.com/attorney/tomas-a-roman-santos-28828280/\n",
      "accediendo a 290: https://www.martindale.com/attorney/hilda-rodriguez-forteza-1574009/\n",
      "accediendo a 291: https://www.martindale.com/attorney/karen-morales-ramirez-1573338/\n",
      "accediendo a 292: https://www.martindale.com/attorney/jaime-e-toro-monserrate-1573239/\n",
      "accediendo a 293: https://www.martindale.com/attorney/ms-heidi-teresa-lichtenstein-168534332/\n",
      "accediendo a 294: https://www.martindale.com/attorney/francisco-a-ojeda-diez-1573369/\n",
      "accediendo a 295: https://www.martindale.com/attorney/rafael-e-silva-almeyda-1574004/\n",
      "accediendo a 296: https://www.martindale.com/attorney/lynn-m-carey-felix-2420825/\n",
      "accediendo a 297: https://www.martindale.com/attorney/carlos-m-maldonado-casillas-1573649/\n",
      "accediendo a 298: https://www.martindale.com/attorney/griselle-m-robles-ortiz-1573815/\n",
      "accediendo a 299: https://www.martindale.com/attorney/harold-d-vicente-1573758/\n",
      "accediendo a 300: https://www.martindale.com/attorney/edgar-rios-mendez-34219145/\n",
      "accediendo a 301: https://www.martindale.com/attorney/mariluz-rivera-ortiz-1573546/\n",
      "accediendo a 302: https://www.martindale.com/attorney/richard-a-lee-1573032/\n",
      "accediendo a 303: https://www.martindale.com/attorney/iris-jannette-cabrera-2483645/\n",
      "accediendo a 304: https://www.martindale.com/attorney/jose-o-sepulveda-4644050/\n",
      "accediendo a 305: https://www.martindale.com/attorney/mary-yvette-esquilin-cordero-300751752/\n",
      "accediendo a 306: https://www.martindale.com/attorney/manuel-rivera-santiago-1573947/\n",
      "accediendo a 307: https://www.martindale.com/attorney/reinaldo-ramos-collazo-1573388/\n",
      "accediendo a 308: https://www.martindale.com/attorney/ivonne-de-feria-molini-1571534/\n",
      "accediendo a 309: https://www.martindale.com/attorney/carmen-t-torre-1574088/\n",
      "accediendo a 310: https://www.martindale.com/attorney/rafael-mullet-sanchez-1573352/\n",
      "accediendo a 311: https://www.martindale.com/attorney/gilberto-j-marxuach-torros-1573245/\n",
      "accediendo a 312: https://www.martindale.com/attorney/david-maldonado-sanchez-2849209/\n",
      "accediendo a 313: https://www.martindale.com/attorney/patricia-a-biaggi-trigo-1571268/\n",
      "accediendo a 314: https://www.martindale.com/attorney/vanessa-i-soto-bober-1572585/\n",
      "accediendo a 315: https://www.martindale.com/attorney/j-santiago-semidey-1574040/\n",
      "accediendo a 316: https://www.martindale.com/attorney/george-l-weasler-157865845/\n",
      "accediendo a 317: https://www.martindale.com/attorney/ricardo-r-pavia-cabanillas-1571975/\n",
      "accediendo a 318: https://www.martindale.com/attorney/hector-e-pabon-vega-1572719/\n",
      "accediendo a 319: https://www.martindale.com/attorney/veronica-ferraiuoli-hornedo-1573310/\n",
      "accediendo a 320: https://www.martindale.com/attorney/ramon-l-ramos-aponte-169079732/\n",
      "accediendo a 321: https://www.martindale.com/attorney/elisa-figueroa-baez-1571495/\n",
      "accediendo a 322: https://www.martindale.com/attorney/desiree-laborde-sanfiorenzo-1573180/\n",
      "accediendo a 323: https://www.martindale.com/attorney/emanuel-resto-marcano-300497322/\n",
      "accediendo a 324: https://www.martindale.com/attorney/lizzie-m-padro-1572851/\n",
      "accediendo a 325: https://www.martindale.com/attorney/hector-r-cintron-1571161/\n",
      "accediendo a 326: https://www.martindale.com/attorney/juan-c-benitez-colon-1572466/\n",
      "accediendo a 327: https://www.martindale.com/attorney/lucas-cordova-ayuso-36857270/\n",
      "accediendo a 328: https://www.martindale.com/attorney/giselle-romero-garcia-1573827/\n",
      "accediendo a 329: https://www.martindale.com/attorney/rene-aviles-garcia-esq-157012700/\n",
      "accediendo a 330: https://www.martindale.com/attorney/victor-r-gonzalez-mangual-1574010/\n",
      "accediendo a 331: https://www.martindale.com/attorney/carl-schuster-1573148/\n",
      "accediendo a 332: https://www.martindale.com/attorney/jose-a-miranda-daleccio-1573487/\n",
      "accediendo a 333: https://www.martindale.com/attorney/enid-marie-sanchez-rivera-3800001/\n",
      "accediendo a 334: https://www.martindale.com/attorney/juan-carlos-mendez-30450122/\n",
      "accediendo a 335: https://www.martindale.com/attorney/jose-g-fagot-diaz-1572163/\n",
      "accediendo a 336: https://www.martindale.com/attorney/lis-m-lopez-2013898/\n",
      "accediendo a 337: https://www.martindale.com/attorney/marla-d-rios-diaz-1572697/\n",
      "accediendo a 338: https://www.martindale.com/attorney/carmen-m-segarra-168733754/\n",
      "accediendo a 339: https://www.martindale.com/attorney/agustin-collazo-1573129/\n",
      "accediendo a 340: https://www.martindale.com/attorney/magda-mariela-rexach-rexach-1573156/\n",
      "accediendo a 341: https://www.martindale.com/attorney/rebecca-rodriguez-cruz-2009786/\n",
      "accediendo a 342: https://www.martindale.com/attorney/luis-a-burgos-rivera-1573067/\n",
      "accediendo a 343: https://www.martindale.com/attorney/janine-m-guzman-1572306/\n",
      "accediendo a 344: https://www.martindale.com/attorney/e-giovannie-mercado-300302668/\n",
      "accediendo a 345: https://www.martindale.com/attorney/veronica-candelas-perez-1573726/\n",
      "accediendo a 346: https://www.martindale.com/attorney/ernesto-lebron-gonzalez-1573980/\n",
      "accediendo a 347: https://www.martindale.com/attorney/carlos-o-bermudez-monroig-4504197/\n",
      "accediendo a 348: https://www.martindale.com/attorney/jesus-m-del-valle-1573824/\n",
      "accediendo a 349: https://www.martindale.com/attorney/jessica-alian-figueroa-arce-301061458/\n",
      "accediendo a 350: https://www.martindale.com/attorney/mauricio-o-muniz-luciano-33933067/\n",
      "accediendo a 351: https://www.martindale.com/attorney/patricia-m-marvez-valiente-2999269/\n",
      "accediendo a 352: https://www.martindale.com/attorney/jose-m-torres-morales-26270794/\n",
      "accediendo a 353: https://www.martindale.com/attorney/larissa-c-rosa-de-jesus-11441747/\n",
      "accediendo a 354: https://www.martindale.com/attorney/sonia-i-torres-pabon-11861388/\n",
      "accediendo a 355: https://www.martindale.com/attorney/marena-ramirez-45883778/\n",
      "accediendo a 356: https://www.martindale.com/attorney/catalina-morales-300937306/\n",
      "accediendo a 357: https://www.martindale.com/attorney/francisco-m-ramirez-rivera-1572138/\n",
      "accediendo a 358: https://www.martindale.com/attorney/enrique-siaca-3568866/\n",
      "accediendo a 359: https://www.martindale.com/attorney/bianca-a-landron-28828276/\n",
      "accediendo a 360: https://www.martindale.com/attorney/emma-gonzalez-joy-301043650/\n",
      "accediendo a 361: https://www.martindale.com/attorney/roberto-l-prats-palerm-1572866/\n",
      "accediendo a 362: https://www.martindale.com/attorney/larissa-c-rosa-de-jesus-2109049/\n",
      "accediendo a 363: https://www.martindale.com/attorney/lou-ann-delgado-1573928/\n",
      "accediendo a 364: https://www.martindale.com/attorney/angel-r-decorral-julia-mr-1572334/\n",
      "accediendo a 365: https://www.martindale.com/attorney/maritza-silva-cofresi-1572557/\n",
      "accediendo a 366: https://www.martindale.com/attorney/belkin-nieves-gonzalez-2094447/\n",
      "accediendo a 367: https://www.martindale.com/attorney/antonio-zapater-cajigas-1571404/\n",
      "accediendo a 368: https://www.martindale.com/attorney/roberto-r-ramos-antonmattei-2849199/\n",
      "accediendo a 369: https://www.martindale.com/attorney/douglas-harry-sanders-300946748/\n",
      "accediendo a 370: https://www.martindale.com/attorney/jorge-m-torres-gomez-2038418/\n",
      "accediendo a 371: https://www.martindale.com/attorney/adriana-maria-rivero-garcia-301098058/\n",
      "accediendo a 372: https://www.martindale.com/attorney/ernesto-f-rodriguez-suris-1571194/\n",
      "accediendo a 373: https://www.martindale.com/attorney/victor-f-oppenheimer-soto-2314207/\n",
      "accediendo a 374: https://www.martindale.com/attorney/a-j-bennazar-zequeira-1572666/\n",
      "accediendo a 375: https://www.martindale.com/attorney/delia-de-colorado-1572721/\n",
      "accediendo a 376: https://www.martindale.com/attorney/eli-diaz-31783044/\n",
      "accediendo a 377: https://www.martindale.com/attorney/nelson-perez-dominguez-1572251/\n",
      "accediendo a 378: https://www.martindale.com/attorney/maria-b-maldonado-1571201/\n",
      "accediendo a 379: https://www.martindale.com/attorney/berenice-b-bellotti-35687008/\n",
      "accediendo a 380: https://www.martindale.com/attorney/marines-montero-flores-300333502/\n",
      "accediendo a 381: https://www.martindale.com/attorney/rebecca-cuevas-fontan-2298720/\n",
      "accediendo a 382: https://www.martindale.com/attorney/angelica-t-toro-lavergne-1573324/\n",
      "accediendo a 383: https://www.martindale.com/attorney/rafael-a-nadal-arcelay-1571989/\n",
      "accediendo a 384: https://www.martindale.com/attorney/vanessa-aymerich-conde-1573315/\n",
      "accediendo a 385: https://www.martindale.com/attorney/jorge-j-garcia-diaz-1572165/\n",
      "accediendo a 386: https://www.martindale.com/attorney/wally-de-la-rosa-vidal-1572377/\n",
      "accediendo a 387: https://www.martindale.com/attorney/antonio-maldonado-figueroa-1571418/\n",
      "accediendo a 388: https://www.martindale.com/attorney/john-e-mudd-1572267/\n",
      "accediendo a 389: https://www.martindale.com/attorney/jose-a-crespo-rivera-2582179/\n",
      "accediendo a 390: https://www.martindale.com/attorney/francisco-e-ponsa-flores-1573770/\n",
      "accediendo a 391: https://www.martindale.com/attorney/karem-medina-romero-24419746/\n",
      "accediendo a 392: https://www.martindale.com/attorney/luis-e-pabon-roca-1572886/\n",
      "accediendo a 393: https://www.martindale.com/attorney/rafael-e-taboas-davila-43110645/\n",
      "accediendo a 394: https://www.martindale.com/attorney/ricardo-burgos-300567746/\n",
      "accediendo a 395: https://www.martindale.com/attorney/mr-de-la-cuetara-joseph-a-j-d-157947607/\n",
      "accediendo a 396: https://www.martindale.com/attorney/sally-d-diaz-roldan-44558579/\n",
      "accediendo a 397: https://www.martindale.com/attorney/belen-m-guerrero-calderon-1571525/\n",
      "accediendo a 398: https://www.martindale.com/attorney/jan-carlos-rodriguez-3008241/\n",
      "accediendo a 399: https://www.martindale.com/attorney/thomas-j-rosario-martinez-1574288/\n",
      "accediendo a 400: https://www.martindale.com/attorney/javier-i-perez-suarez-2826267/\n",
      "accediendo a 401: https://www.martindale.com/attorney/eyal-samuel-rosenstock-300597330/\n",
      "accediendo a 402: https://www.martindale.com/attorney/noe-d-garcia-lopez-1571596/\n",
      "accediendo a 403: https://www.martindale.com/attorney/jaime-l-zambrana-grana-1571108/\n",
      "accediendo a 404: https://www.martindale.com/attorney/jennifer-lopez-negron-45016564/\n",
      "accediendo a 405: https://www.martindale.com/attorney/jaime-f-gonzalez-suarez-301224218/\n",
      "accediendo a 406: https://www.martindale.com/attorney/ismael-r-colon-perez-1574133/\n",
      "accediendo a 407: https://www.martindale.com/attorney/charles-bimbela-quinones-1572512/\n",
      "accediendo a 408: https://www.martindale.com/attorney/carlos-d-rodriguez-boneta-esq-1571873/\n",
      "accediendo a 409: https://www.martindale.com/attorney/rodney-w-colon-ortiz-2248658/\n",
      "accediendo a 410: https://www.martindale.com/attorney/rafael-arrillaga-torrens-jr-1573774/\n",
      "accediendo a 411: https://www.martindale.com/attorney/francisco-agrait-oliveras-1571827/\n",
      "accediendo a 412: https://www.martindale.com/attorney/joanne-v-gonzales-varon-157878119/\n",
      "accediendo a 413: https://www.martindale.com/attorney/myriam-fernandez-gonzalez-2298314/\n",
      "accediendo a 414: https://www.martindale.com/attorney/ms-neyla-ortiz-rosario-45876825/\n",
      "accediendo a 415: https://www.martindale.com/attorney/mr-jose-f-velazquez-ortiz-esq-1574275/\n",
      "accediendo a 416: https://www.martindale.com/attorney/wilfredo-segarra-miranda-1572059/\n",
      "accediendo a 417: https://www.martindale.com/attorney/fernando-j-rovira-rullan-esq-1573328/\n",
      "accediendo a 418: https://www.martindale.com/attorney/erick-e-kolthoff-1572986/\n",
      "accediendo a 419: https://www.martindale.com/attorney/javier-e-rosario-perez-5054778/\n",
      "accediendo a 420: https://www.martindale.com/attorney/luis-valle-irizarry-2043011/\n",
      "accediendo a 421: https://www.martindale.com/attorney/alexandre-cyril-manz-301561772/\n",
      "accediendo a 422: https://www.martindale.com/attorney/german-a-rieckehoff-perez-2023007/\n",
      "accediendo a 423: https://www.martindale.com/attorney/william-m-vidal-carvajal-1571961/\n",
      "accediendo a 424: https://www.martindale.com/attorney/ramon-l-velasco-1573606/\n",
      "accediendo a 425: https://www.martindale.com/attorney/manuel-del-valle-1532514/\n",
      "accediendo a 426: https://www.martindale.com/attorney/nilda-m-navarro-cabrer-1573568/\n",
      "accediendo a 427: https://www.martindale.com/attorney/heriberto-lugo-gonzalez-1571351/\n",
      "accediendo a 428: https://www.martindale.com/attorney/mario-l-paniagua-1573232/\n",
      "Failed to load page due to error: Message: Browsing context has been discarded\n",
      "Stacktrace:\n",
      "RemoteError@chrome://remote/content/shared/RemoteError.sys.mjs:8:8\n",
      "WebDriverError@chrome://remote/content/shared/webdriver/Errors.sys.mjs:199:5\n",
      "NoSuchWindowError@chrome://remote/content/shared/webdriver/Errors.sys.mjs:747:5\n",
      "assert.that/<@chrome://remote/content/shared/webdriver/Assert.sys.mjs:559:13\n",
      "assert.open@chrome://remote/content/shared/webdriver/Assert.sys.mjs:147:4\n",
      "GeckoDriver.prototype.navigateTo@chrome://remote/content/marionette/driver.sys.mjs:1071:39\n",
      "despatch@chrome://remote/content/marionette/server.sys.mjs:318:40\n",
      "execute@chrome://remote/content/marionette/server.sys.mjs:289:16\n",
      "onPacket/<@chrome://remote/content/marionette/server.sys.mjs:262:20\n",
      "onPacket@chrome://remote/content/marionette/server.sys.mjs:263:9\n",
      "_onJSONObjectReady/<@chrome://remote/content/marionette/transport.sys.mjs:494:20\n",
      "\n",
      "accediendo a 428: https://www.martindale.com/attorney/jorge-l-cordova-jr-1573910/\n",
      "accediendo a 429: https://www.martindale.com/attorney/sandra-l-negron-300971366/\n",
      "accediendo a 430: https://www.martindale.com/attorney/jose-rodriguez-300823160/\n",
      "accediendo a 431: https://www.martindale.com/attorney/osvaldo-puig-hernandez-2091351/\n",
      "accediendo a 432: https://www.martindale.com/attorney/mildred-caban-46349807/\n",
      "accediendo a 433: https://www.martindale.com/attorney/benjamin-quinones-lebron-13718978/\n",
      "accediendo a 434: https://www.martindale.com/attorney/juan-carlos-deliz-21265759/\n",
      "accediendo a 435: https://www.martindale.com/attorney/jose-e-fernandez-sein-1573517/\n",
      "accediendo a 436: https://www.martindale.com/attorney/luis-a-rivera-cabrera-1574076/\n",
      "accediendo a 437: https://www.martindale.com/attorney/frederick-j-baraga-huyke-4217608/\n",
      "accediendo a 438: https://www.martindale.com/attorney/rosa-cabello-perez-1573975/\n",
      "accediendo a 439: https://www.martindale.com/attorney/hilda-garcia-concepcion-4294130/\n",
      "accediendo a 440: https://www.martindale.com/attorney/victor-m-aledo-garcia-2314990/\n",
      "accediendo a 441: https://www.martindale.com/attorney/eugenio-j-huot-calderon-1573334/\n",
      "accediendo a 442: https://www.martindale.com/attorney/yassmin-gonzalez-velez-2289813/\n",
      "accediendo a 443: https://www.martindale.com/attorney/peter-s-roisman-1741052/\n",
      "accediendo a 444: https://www.martindale.com/attorney/mireya-placer-300753306/\n",
      "accediendo a 445: https://www.martindale.com/attorney/antonio-sagardia-de-jesus-41976632/\n",
      "accediendo a 446: https://www.martindale.com/attorney/jorge-velazquez-1572570/\n",
      "accediendo a 447: https://www.martindale.com/attorney/luis-m-villafane-jorge-157563361/\n",
      "accediendo a 448: https://www.martindale.com/attorney/noel-gonzalez-miranda-1571646/\n",
      "accediendo a 449: https://www.martindale.com/attorney/ian-p-carvajal-1571639/\n",
      "accediendo a 450: https://www.martindale.com/attorney/ruth-santiago-1572235/\n",
      "accediendo a 451: https://www.martindale.com/attorney/freddie-berrios-perez-1571629/\n",
      "accediendo a 452: https://www.martindale.com/attorney/javier-inclan-300309206/\n",
      "accediendo a 453: https://www.martindale.com/attorney/elba-l-bermudez-aponte-168529516/\n",
      "accediendo a 454: https://www.martindale.com/attorney/jennifer-j-bingham-1572409/\n",
      "accediendo a 455: https://www.martindale.com/attorney/gilda-del-c-cruz-martino-1573810/\n",
      "accediendo a 456: https://www.martindale.com/attorney/hector-l-freire-ortiz-1571443/\n",
      "accediendo a 457: https://www.martindale.com/attorney/rosa-e-permuy-1574197/\n",
      "accediendo a 458: https://www.martindale.com/attorney/ma-margarita-eguia-moreda-45031610/\n",
      "accediendo a 459: https://www.martindale.com/attorney/eldia-m-diaz-olmo-1571216/\n",
      "accediendo a 460: https://www.martindale.com/attorney/maria-m-del-valle-armstrong-1571385/\n",
      "accediendo a 461: https://www.martindale.com/attorney/paul-a-ferrer-2298810/\n",
      "accediendo a 462: https://www.martindale.com/attorney/andres-fortuna-garcia-2780965/\n",
      "accediendo a 463: https://www.martindale.com/attorney/ana-maria-rodriquez-torres-1573137/\n",
      "accediendo a 464: https://www.martindale.com/attorney/dora-l-monserrate-penagaricano-1572181/\n",
      "accediendo a 465: https://www.martindale.com/attorney/jorge-e-galva-1571206/\n",
      "accediendo a 466: https://www.martindale.com/attorney/edgardo-arroyo-ortiz-1572683/\n",
      "accediendo a 467: https://www.martindale.com/attorney/diego-melendez-apellaniz-301224228/\n",
      "accediendo a 468: https://www.martindale.com/attorney/amexis-j-bonilla-nieves-300738464/\n",
      "accediendo a 469: https://www.martindale.com/attorney/juan-a-marques-diaz-1573317/\n",
      "accediendo a 470: https://www.martindale.com/attorney/antonio-cuevas-viret-1572313/\n",
      "accediendo a 471: https://www.martindale.com/attorney/yamary-i-gonzalez-berrios-4720845/\n",
      "accediendo a 472: https://www.martindale.com/attorney/liza-delgado-gonzalez-44395821/\n",
      "accediendo a 473: https://www.martindale.com/attorney/luis-carlos-marini-2298729/\n",
      "accediendo a 474: https://www.martindale.com/attorney/ernesto-l-polo-melendez-4239929/\n",
      "accediendo a 475: https://www.martindale.com/attorney/eduardo-r-estrella-1572420/\n",
      "accediendo a 476: https://www.martindale.com/attorney/norma-m-rivera-padilla-1571487/\n",
      "accediendo a 477: https://www.martindale.com/attorney/xenia-velez-301224224/\n",
      "accediendo a 478: https://www.martindale.com/attorney/geronimo-lluberas-kells-1573072/\n",
      "accediendo a 479: https://www.martindale.com/attorney/angela-m-perozzi-4355837/\n",
      "accediendo a 480: https://www.martindale.com/attorney/melissa-lee-roth-25183786/\n",
      "accediendo a 481: https://www.martindale.com/attorney/gabriel-i-penagaricano-1573689/\n",
      "accediendo a 482: https://www.martindale.com/attorney/gina-aguilar-gerardino-2101762/\n",
      "accediendo a 483: https://www.martindale.com/attorney/william-a-power-1573242/\n",
      "accediendo a 484: https://www.martindale.com/attorney/jose-a-rey-diaz-1573885/\n",
      "accediendo a 485: https://www.martindale.com/attorney/maria-m-fernandez-2372530/\n",
      "accediendo a 486: https://www.martindale.com/attorney/eric-r-huot-caldern-2220069/\n",
      "accediendo a 487: https://www.martindale.com/attorney/rafael-a-ojeda-diez-1574265/\n",
      "accediendo a 488: https://www.martindale.com/attorney/milton-j-rua-1574008/\n",
      "accediendo a 489: https://www.martindale.com/attorney/cecile-a-armstrong-1573302/\n",
      "accediendo a 490: https://www.martindale.com/attorney/antonio-rossello-rentas-1574000/\n",
      "accediendo a 491: https://www.martindale.com/attorney/edgar-f-balzac-1572581/\n",
      "accediendo a 492: https://www.martindale.com/attorney/concepcion-gonzalez-2121820/\n",
      "accediendo a 493: https://www.martindale.com/attorney/jose-a-santiago-martinez-1574039/\n",
      "accediendo a 494: https://www.martindale.com/attorney/bayoan-muniz-calderon-45031556/\n",
      "accediendo a 495: https://www.martindale.com/attorney/ana-maria-niggemann-1574261/\n",
      "accediendo a 496: https://www.martindale.com/attorney/arturo-perez-orama-1571524/\n",
      "accediendo a 497: https://www.martindale.com/attorney/josea-ramos-jimenez-1572457/\n",
      "accediendo a 498: https://www.martindale.com/attorney/mrs-yanire-batista-orama-301065134/\n",
      "accediendo a 499: https://www.martindale.com/attorney/samuel-garcia-angeli-1571737/\n"
     ]
    }
   ],
   "source": [
    "### obtencion de lista de practice area \n",
    "data_for_PA = scrape_abogados(urls_per_filter) # Primera iteración. se obtuvieron 500 registros iniciales\n"
   ]
  },
  {
   "cell_type": "code",
   "execution_count": null,
   "id": "390284e6",
   "metadata": {},
   "outputs": [],
   "source": [
    "len(data_for_PA)\n",
    "\n",
    "#len(urls_per_filter)\n",
    "with open(\"data_attornies.pkl\", \"wb\") as f:\n",
    "    pickle.dump(data_for_PA, f) # Almacenamiento de la lista de datos de la primera corrida (ya son los primeros 500)\n"
   ]
  },
  {
   "cell_type": "code",
   "execution_count": 242,
   "id": "143701cc",
   "metadata": {},
   "outputs": [
    {
     "data": {
      "text/plain": [
       "499"
      ]
     },
     "execution_count": 242,
     "metadata": {},
     "output_type": "execute_result"
    }
   ],
   "source": [
    "with open(\"data_attornies.pkl\", \"rb\") as f:\n",
    "    data_for_PA = pickle.load(f) # Carga de lista de diccionarios de abogados de primera iteración, ya la lista no es 0.\n",
    "    # Esta variable va a ser mas general por lo que se va a emplear mas adelante. o asignar a la primera corrida. \n",
    "len(data_for_PA)"
   ]
  },
  {
   "cell_type": "code",
   "execution_count": null,
   "id": "48704806",
   "metadata": {},
   "outputs": [
    {
     "name": "stdout",
     "output_type": "stream",
     "text": [
      "589\n"
     ]
    }
   ],
   "source": [
    "# Creación de set() de practice tomadas de la primera iteración de abogados - se toma de la lista de diccionarios \n",
    "# se toman los practice areas y se obtienen las coinciedencias unicas antes de hacer una validación en el site\n",
    "practice_areas = set()\n",
    "# Recorrer cada diccionario\n",
    "for entry in data_for_PA:\n",
    "    areas = entry.get(\"Areas of Practice\", \"\")\n",
    "    # Separar por coma, quitar espacios y agregar al set\n",
    "    for area in areas.split(\",\"):\n",
    "        area = area.strip()\n",
    "        if area:\n",
    "            practice_areas.add(area)\n",
    "with open(\"practice_area_set_preclean.pkl\", \"wb\") as f:\n",
    "    pickle.dump(practice_areas, f)\n",
    "print(len(practice_areas))\n"
   ]
  },
  {
   "cell_type": "code",
   "execution_count": null,
   "id": "1f1b8dc0",
   "metadata": {},
   "outputs": [
    {
     "name": "stdout",
     "output_type": "stream",
     "text": [
      "Consular Law\n",
      "Public Finance\n",
      "Wills\n",
      "Project Finance\n",
      "Drug Crimes\n",
      "Construction Accidents\n",
      "Estate Litigation\n",
      "Finance\n",
      "Divorce\n",
      "Boating Accidents\n",
      "Government Contracts\n",
      "Complex Litigation\n",
      "Felonies\n",
      "Citizenship\n",
      "Construction Law\n",
      "rico\n",
      "Workers Compensation\n",
      "Criminal Law\n",
      "Slip and Fall\n",
      "Administrative\n",
      "Civil Practice\n",
      "Personal Injury\n",
      "Family\n",
      "Federal Criminal Law\n",
      "Restraining Order\n",
      "Foreclosures\n",
      "Intellectual Property\n",
      "Mediation\n",
      "Residential Real Estate\n",
      "Franchises and Franchising\n",
      "Corporate\n",
      "Nonprofit and Charitable Organizations\n",
      "Business Litigation\n",
      "Education Law\n",
      "Construction\n",
      "Sex Crimes\n",
      "Tort\n",
      "Commercial\n",
      "Negligence\n",
      "Trusts and Estates\n",
      "Natural Resources\n",
      "Consumer Law\n",
      "Telecommunications Law\n",
      "Appellate Practice\n",
      "Bankruptcy Chapter 11\n",
      "Trademarks\n",
      "ERISA\n",
      "Corporate Tax\n",
      "Municipal Law\n",
      "Copyrights\n",
      "Family law\n",
      "Technology and Science\n",
      "Collection\n",
      "Commercial litigation\n",
      "Banking\n",
      "Collections\n",
      "Eminent Domain\n",
      "Torts\n",
      "Business Law\n",
      "International Trade\n",
      "Asset Protection\n",
      "Environmental Law\n",
      "Sports Law\n",
      "Banking Law\n",
      "Labor and Employment\n",
      "Inheritance\n",
      "Medical Malpractice\n",
      "Consumer law\n",
      "Complex and Multi-District Litigation\n",
      "Antitrust and Trade Regulation\n",
      "Medicare and Medicaid\n",
      "Environmental\n",
      "Trucking Accidents\n",
      "Premarital Agreements\n",
      "Bankruptcy\n",
      "Real Estate\n",
      "Contracts\n",
      "Administrative Hearings and Appeals\n",
      "Internet Law\n",
      "Admiralty and Maritime Law\n",
      "Property Law\n",
      "Corporate Finance\n",
      "Commercial Real Estate\n",
      "Civil Rights\n",
      "Mortgages\n",
      "Child Custody\n",
      "Zoning\n",
      "Aviation Law\n",
      "Creditors Rights\n",
      "Wills and Probate\n",
      "Taxation\n",
      "Antitrust\n",
      "Telecommunications\n",
      "Trusts\n",
      "Alternative Dispute Resolution\n",
      "Deportation\n",
      "Administrative Law\n",
      "Criminal\n",
      "Corporate Law\n",
      "Election\n",
      "Asylum\n",
      "Weapons Charges\n",
      "Transportation\n",
      "Professional Liability\n",
      "Toxic Torts\n",
      "Aviation\n",
      "Employment\n",
      "Tax\n",
      "Litigation\n",
      "Hospital Law\n",
      "Domestic Violence\n",
      "Government\n",
      "Lobbying\n",
      "General Practice\n",
      "Insurance Defense\n",
      "Immigration\n",
      "Wrongful Death\n",
      "Construction Litigation\n",
      "Foreclosure\n",
      "Arbitration\n",
      "Small Business Law\n",
      "Landlord and Tenant Law\n",
      "Consumer\n",
      "Premises Liability\n",
      "White Collar Crime\n",
      "Commercial Litigation\n",
      "International Law\n",
      "Labor\n",
      "Debtor and Creditor\n",
      "Adoptions\n",
      "Entertainment\n",
      "Employee Benefits\n",
      "Misdemeanors\n",
      "Bankruptcy Chapter 13\n",
      "Commercial Leasing\n",
      "Commercial Law\n",
      "Family Law\n",
      "Insurance\n",
      "Entertainment Law\n",
      "Products Liability\n",
      "Constitutional Law\n",
      "Constitutional\n",
      "Methamphetamine Crimes\n",
      "Oil\n",
      "Child Support\n",
      "RICO\n",
      "Securities\n",
      "Legislative Practice\n",
      "Equipment Finance and Leasing\n",
      "Estate Planning\n",
      "Business\n",
      "Communications and Media\n",
      "Civil\n",
      "Social Security\n",
      "Privacy\n",
      "Health Care\n",
      "Civil Litigation\n"
     ]
    },
    {
     "data": {
      "text/plain": [
       "157"
      ]
     },
     "execution_count": 243,
     "metadata": {},
     "output_type": "execute_result"
    }
   ],
   "source": [
    "### Limpieza set Areas of practice - insumo para nuevo crowler\n",
    "# Esta parte puede ser una función que se aplique antes de entrar a hacer las busquedas \n",
    "\n",
    "clean = [] # Lista con las practice areas que si disparan una coincidencia en el buscador. \n",
    "len(practice_areas) # Toma el set de todas las posibles practice areas, escritas por abogado\n",
    "url_base = 'https://www.martindale.com/search/attorneys/?term=Puerto%20Rico%2C%20USA' ## CAMBIAR MAS ADELANTE\n",
    "driver = setup_driver()\n",
    "wait = WebDriverWait(driver, 15)\n",
    "driver.get(url_base)\n",
    "\n",
    "for area in practice_areas: \n",
    "    \n",
    "    simulate_human_behavior(0.5,2,verbose=False)\n",
    "    ### Elementos clickeables y request\n",
    "    wait.until(\n",
    "                EC.presence_of_element_located((By.XPATH, '//*[@id=\"filtersContainer\"]'))) \n",
    "    wait.until(EC.element_to_be_clickable((By.XPATH, '//*[@id=\"practiceAreas\"]')))\n",
    "    #print(\"es clickeable\")\n",
    "    searchBar = driver.find_element(By.ID, 'practiceAreas')\n",
    "    searchBar.clear()\n",
    "    searchBar.send_keys(area)\n",
    "\n",
    "    simulate_human_behavior(1,2,verbose=False)\n",
    "    suggestion = wait.until(EC.visibility_of_element_located(\n",
    "            (By.CSS_SELECTOR, \"ul.ui-autocomplete li.ui-menu-item div.ui-menu-item-wrapper\")\n",
    "        ))\n",
    "        ## Busqueda de practice area\n",
    "    #print(\"Sugerencia encontrada:\", suggestion.text)\n",
    "    if \"No Areas Of Practice matching\" in suggestion.text:   \n",
    "            pass\n",
    "    else:\n",
    "        clean.append(area)\n",
    "        print(area)\n",
    "    ## Numero de paginas\n",
    "driver.quit()\n",
    "len(clean)\n"
   ]
  },
  {
   "cell_type": "code",
   "execution_count": 244,
   "id": "0014edb6",
   "metadata": {},
   "outputs": [],
   "source": [
    "# Almacenamiento Practice Areas unicas para filtrado. \n",
    "with open(\"practice_area_set.pkl\", \"wb\") as f:\n",
    "    pickle.dump(clean, f)"
   ]
  },
  {
   "cell_type": "code",
   "execution_count": 280,
   "id": "c1b5a3c2",
   "metadata": {},
   "outputs": [
    {
     "name": "stderr",
     "output_type": "stream",
     "text": [
      "  0%|          | 0/91 [00:00<?, ?it/s]"
     ]
    },
    {
     "name": "stdout",
     "output_type": "stream",
     "text": [
      "paginas en esta url: 5\n",
      "accediendo a: https://www.martindale.com/search/attorneys-law-firms-articles/?term=Puerto+Rico%2C+USA&params=eyJ0eXBlIjoicGVvcGxlIiwiY29tcGFyZSI6IiIsInRlcm0iOiJQdWVydG8gUmljbywgVVNBIiwiZ2VvTG9jYXRpb25GYWNldCI6WyJQdWVydG8gUmljbywgVS5TLkEuIl0sImdlb0xvY2F0aW9uRmFjZXRSZWNlbnRzIjpbIlB1ZXJ0byBSaWNvLCBVLlMuQS4iXSwicGFnZSI6MSwibGltaXQiOjI1LCJvZmZzZXQiOjAsInNvcnQiOiIiLCJzb3J0VHlwZSI6IiIsImNsZWFyUGFyYW1zIjpmYWxzZSwia2V5d29yZCI6IiIsInBhZ2VUaXRsZSI6Imw6UHVlcnRvIFJpY28sIFUuUy5BLiIsInByYWN0aWNlQXJlYXMiOlsiTWVkaWNhbCBNYWxwcmFjdGljZSJdfQ%3D%3D\n",
      "accediendo a: https://www.martindale.com/search/attorneys-law-firms-articles/?term=Puerto+Rico%2C+USA&params=eyJ0eXBlIjoicGVvcGxlIiwiY29tcGFyZSI6IiIsInRlcm0iOiJQdWVydG8gUmljbywgVVNBIiwiZ2VvTG9jYXRpb25GYWNldCI6WyJQdWVydG8gUmljbywgVS5TLkEuIl0sImdlb0xvY2F0aW9uRmFjZXRSZWNlbnRzIjpbIlB1ZXJ0byBSaWNvLCBVLlMuQS4iXSwicGFnZSI6MSwibGltaXQiOjI1LCJvZmZzZXQiOjAsInNvcnQiOiIiLCJzb3J0VHlwZSI6IiIsImNsZWFyUGFyYW1zIjpmYWxzZSwia2V5d29yZCI6IiIsInBhZ2VUaXRsZSI6Imw6UHVlcnRvIFJpY28sIFUuUy5BLiIsInByYWN0aWNlQXJlYXMiOlsiTWVkaWNhbCBNYWxwcmFjdGljZSJdfQ%3D%3D&page=2\n",
      "accediendo a: https://www.martindale.com/search/attorneys-law-firms-articles/?term=Puerto+Rico%2C+USA&params=eyJ0eXBlIjoicGVvcGxlIiwiY29tcGFyZSI6IiIsInRlcm0iOiJQdWVydG8gUmljbywgVVNBIiwiZ2VvTG9jYXRpb25GYWNldCI6WyJQdWVydG8gUmljbywgVS5TLkEuIl0sImdlb0xvY2F0aW9uRmFjZXRSZWNlbnRzIjpbIlB1ZXJ0byBSaWNvLCBVLlMuQS4iXSwicGFnZSI6MSwibGltaXQiOjI1LCJvZmZzZXQiOjAsInNvcnQiOiIiLCJzb3J0VHlwZSI6IiIsImNsZWFyUGFyYW1zIjpmYWxzZSwia2V5d29yZCI6IiIsInBhZ2VUaXRsZSI6Imw6UHVlcnRvIFJpY28sIFUuUy5BLiIsInByYWN0aWNlQXJlYXMiOlsiTWVkaWNhbCBNYWxwcmFjdGljZSJdfQ%3D%3D&page=3\n",
      "accediendo a: https://www.martindale.com/search/attorneys-law-firms-articles/?term=Puerto+Rico%2C+USA&params=eyJ0eXBlIjoicGVvcGxlIiwiY29tcGFyZSI6IiIsInRlcm0iOiJQdWVydG8gUmljbywgVVNBIiwiZ2VvTG9jYXRpb25GYWNldCI6WyJQdWVydG8gUmljbywgVS5TLkEuIl0sImdlb0xvY2F0aW9uRmFjZXRSZWNlbnRzIjpbIlB1ZXJ0byBSaWNvLCBVLlMuQS4iXSwicGFnZSI6MSwibGltaXQiOjI1LCJvZmZzZXQiOjAsInNvcnQiOiIiLCJzb3J0VHlwZSI6IiIsImNsZWFyUGFyYW1zIjpmYWxzZSwia2V5d29yZCI6IiIsInBhZ2VUaXRsZSI6Imw6UHVlcnRvIFJpY28sIFUuUy5BLiIsInByYWN0aWNlQXJlYXMiOlsiTWVkaWNhbCBNYWxwcmFjdGljZSJdfQ%3D%3D&page=4\n",
      "accediendo a: https://www.martindale.com/search/attorneys-law-firms-articles/?term=Puerto+Rico%2C+USA&params=eyJ0eXBlIjoicGVvcGxlIiwiY29tcGFyZSI6IiIsInRlcm0iOiJQdWVydG8gUmljbywgVVNBIiwiZ2VvTG9jYXRpb25GYWNldCI6WyJQdWVydG8gUmljbywgVS5TLkEuIl0sImdlb0xvY2F0aW9uRmFjZXRSZWNlbnRzIjpbIlB1ZXJ0byBSaWNvLCBVLlMuQS4iXSwicGFnZSI6MSwibGltaXQiOjI1LCJvZmZzZXQiOjAsInNvcnQiOiIiLCJzb3J0VHlwZSI6IiIsImNsZWFyUGFyYW1zIjpmYWxzZSwia2V5d29yZCI6IiIsInBhZ2VUaXRsZSI6Imw6UHVlcnRvIFJpY28sIFUuUy5BLiIsInByYWN0aWNlQXJlYXMiOlsiTWVkaWNhbCBNYWxwcmFjdGljZSJdfQ%3D%3D&page=5\n"
     ]
    },
    {
     "name": "stderr",
     "output_type": "stream",
     "text": [
      "  1%|          | 1/91 [00:16<24:46, 16.52s/it]"
     ]
    },
    {
     "name": "stdout",
     "output_type": "stream",
     "text": [
      "paginas en esta url: 2\n",
      "accediendo a: https://www.martindale.com/search/attorneys-law-firms-articles/?term=Puerto+Rico%2C+USA&params=eyJ0eXBlIjoicGVvcGxlIiwiY29tcGFyZSI6IiIsInRlcm0iOiJQdWVydG8gUmljbywgVVNBIiwiZ2VvTG9jYXRpb25GYWNldCI6WyJQdWVydG8gUmljbywgVS5TLkEuIl0sImdlb0xvY2F0aW9uRmFjZXRSZWNlbnRzIjpbIlB1ZXJ0byBSaWNvLCBVLlMuQS4iXSwicGFnZSI6MSwibGltaXQiOjI1LCJvZmZzZXQiOjAsInNvcnQiOiIiLCJzb3J0VHlwZSI6IiIsImNsZWFyUGFyYW1zIjpmYWxzZSwia2V5d29yZCI6IiIsInBhZ2VUaXRsZSI6Imw6UHVlcnRvIFJpY28sIFUuUy5BLiIsInByYWN0aWNlQXJlYXMiOlsiQ29uc3VtZXIgTGF3Il19\n",
      "accediendo a: https://www.martindale.com/search/attorneys-law-firms-articles/?term=Puerto+Rico%2C+USA&params=eyJ0eXBlIjoicGVvcGxlIiwiY29tcGFyZSI6IiIsInRlcm0iOiJQdWVydG8gUmljbywgVVNBIiwiZ2VvTG9jYXRpb25GYWNldCI6WyJQdWVydG8gUmljbywgVS5TLkEuIl0sImdlb0xvY2F0aW9uRmFjZXRSZWNlbnRzIjpbIlB1ZXJ0byBSaWNvLCBVLlMuQS4iXSwicGFnZSI6MSwibGltaXQiOjI1LCJvZmZzZXQiOjAsInNvcnQiOiIiLCJzb3J0VHlwZSI6IiIsImNsZWFyUGFyYW1zIjpmYWxzZSwia2V5d29yZCI6IiIsInBhZ2VUaXRsZSI6Imw6UHVlcnRvIFJpY28sIFUuUy5BLiIsInByYWN0aWNlQXJlYXMiOlsiQ29uc3VtZXIgTGF3Il19&page=2\n"
     ]
    },
    {
     "name": "stderr",
     "output_type": "stream",
     "text": [
      "  2%|▏         | 2/91 [00:28<20:22, 13.74s/it]"
     ]
    },
    {
     "name": "stdout",
     "output_type": "stream",
     "text": [
      "paginas en esta url: 1\n",
      "accediendo a: https://www.martindale.com/search/attorneys-law-firms-articles/?term=Puerto+Rico%2C+USA&params=eyJ0eXBlIjoicGVvcGxlIiwiY29tcGFyZSI6IiIsInRlcm0iOiJQdWVydG8gUmljbywgVVNBIiwiZ2VvTG9jYXRpb25GYWNldCI6WyJQdWVydG8gUmljbywgVS5TLkEuIl0sImdlb0xvY2F0aW9uRmFjZXRSZWNlbnRzIjpbIlB1ZXJ0byBSaWNvLCBVLlMuQS4iXSwicGFnZSI6MSwibGltaXQiOjI1LCJvZmZzZXQiOjAsInNvcnQiOiIiLCJzb3J0VHlwZSI6IiIsImNsZWFyUGFyYW1zIjpmYWxzZSwia2V5d29yZCI6IiIsInBhZ2VUaXRsZSI6Imw6UHVlcnRvIFJpY28sIFUuUy5BLiIsInByYWN0aWNlQXJlYXMiOlsiQ29tcGxleCBhbmQgTXVsdGktRGlzdHJpY3QgTGl0aWdhdGlvbiJdfQ%3D%3D\n",
      "problemas con el crawler\n",
      "problemas con el crawler\n"
     ]
    },
    {
     "name": "stderr",
     "output_type": "stream",
     "text": [
      "  3%|▎         | 3/91 [01:46<1:03:26, 43.25s/it]"
     ]
    },
    {
     "name": "stdout",
     "output_type": "stream",
     "text": [
      "paginas en esta url: 3\n",
      "accediendo a: https://www.martindale.com/search/attorneys-law-firms-articles/?term=Puerto+Rico%2C+USA&params=eyJ0eXBlIjoicGVvcGxlIiwiY29tcGFyZSI6IiIsInRlcm0iOiJQdWVydG8gUmljbywgVVNBIiwiZ2VvTG9jYXRpb25GYWNldCI6WyJQdWVydG8gUmljbywgVS5TLkEuIl0sImdlb0xvY2F0aW9uRmFjZXRSZWNlbnRzIjpbIlB1ZXJ0byBSaWNvLCBVLlMuQS4iXSwicGFnZSI6MSwibGltaXQiOjI1LCJvZmZzZXQiOjAsInNvcnQiOiIiLCJzb3J0VHlwZSI6IiIsImNsZWFyUGFyYW1zIjpmYWxzZSwia2V5d29yZCI6IiIsInBhZ2VUaXRsZSI6Imw6UHVlcnRvIFJpY28sIFUuUy5BLiIsInByYWN0aWNlQXJlYXMiOlsiQW50aXRydXN0IGFuZCBUcmFkZSBSZWd1bGF0aW9uIl19\n",
      "https://www.martindale.com/attorney/roberto-boneta-1572608/\n",
      "accediendo a: https://www.martindale.com/search/attorneys-law-firms-articles/?term=Puerto+Rico%2C+USA&params=eyJ0eXBlIjoicGVvcGxlIiwiY29tcGFyZSI6IiIsInRlcm0iOiJQdWVydG8gUmljbywgVVNBIiwiZ2VvTG9jYXRpb25GYWNldCI6WyJQdWVydG8gUmljbywgVS5TLkEuIl0sImdlb0xvY2F0aW9uRmFjZXRSZWNlbnRzIjpbIlB1ZXJ0byBSaWNvLCBVLlMuQS4iXSwicGFnZSI6MSwibGltaXQiOjI1LCJvZmZzZXQiOjAsInNvcnQiOiIiLCJzb3J0VHlwZSI6IiIsImNsZWFyUGFyYW1zIjpmYWxzZSwia2V5d29yZCI6IiIsInBhZ2VUaXRsZSI6Imw6UHVlcnRvIFJpY28sIFUuUy5BLiIsInByYWN0aWNlQXJlYXMiOlsiQW50aXRydXN0IGFuZCBUcmFkZSBSZWd1bGF0aW9uIl19&page=2\n",
      "https://www.martindale.com/attorney/luis-a-oliver-1572530/\n",
      "accediendo a: https://www.martindale.com/search/attorneys-law-firms-articles/?term=Puerto+Rico%2C+USA&params=eyJ0eXBlIjoicGVvcGxlIiwiY29tcGFyZSI6IiIsInRlcm0iOiJQdWVydG8gUmljbywgVVNBIiwiZ2VvTG9jYXRpb25GYWNldCI6WyJQdWVydG8gUmljbywgVS5TLkEuIl0sImdlb0xvY2F0aW9uRmFjZXRSZWNlbnRzIjpbIlB1ZXJ0byBSaWNvLCBVLlMuQS4iXSwicGFnZSI6MSwibGltaXQiOjI1LCJvZmZzZXQiOjAsInNvcnQiOiIiLCJzb3J0VHlwZSI6IiIsImNsZWFyUGFyYW1zIjpmYWxzZSwia2V5d29yZCI6IiIsInBhZ2VUaXRsZSI6Imw6UHVlcnRvIFJpY28sIFUuUy5BLiIsInByYWN0aWNlQXJlYXMiOlsiQW50aXRydXN0IGFuZCBUcmFkZSBSZWd1bGF0aW9uIl19&page=3\n"
     ]
    },
    {
     "name": "stderr",
     "output_type": "stream",
     "text": [
      "  4%|▍         | 4/91 [02:02<46:46, 32.26s/it]  "
     ]
    },
    {
     "name": "stdout",
     "output_type": "stream",
     "text": [
      "paginas en esta url: 1\n",
      "accediendo a: https://www.martindale.com/search/attorneys-law-firms-articles/?term=Puerto+Rico%2C+USA&params=eyJ0eXBlIjoicGVvcGxlIiwiY29tcGFyZSI6IiIsInRlcm0iOiJQdWVydG8gUmljbywgVVNBIiwiZ2VvTG9jYXRpb25GYWNldCI6WyJQdWVydG8gUmljbywgVS5TLkEuIl0sImdlb0xvY2F0aW9uRmFjZXRSZWNlbnRzIjpbIlB1ZXJ0byBSaWNvLCBVLlMuQS4iXSwicGFnZSI6MSwibGltaXQiOjI1LCJvZmZzZXQiOjAsInNvcnQiOiIiLCJzb3J0VHlwZSI6IiIsImNsZWFyUGFyYW1zIjpmYWxzZSwia2V5d29yZCI6IiIsInBhZ2VUaXRsZSI6Imw6UHVlcnRvIFJpY28sIFUuUy5BLiIsInByYWN0aWNlQXJlYXMiOlsiTWVkaWNhcmUgYW5kIE1lZGljYWlkIl19\n"
     ]
    },
    {
     "name": "stderr",
     "output_type": "stream",
     "text": [
      "  5%|▌         | 5/91 [02:26<42:04, 29.35s/it]"
     ]
    },
    {
     "name": "stdout",
     "output_type": "stream",
     "text": [
      "paginas en esta url: 6\n",
      "accediendo a: https://www.martindale.com/search/attorneys-law-firms-articles/?term=Puerto+Rico%2C+USA&params=eyJ0eXBlIjoicGVvcGxlIiwiY29tcGFyZSI6IiIsInRlcm0iOiJQdWVydG8gUmljbywgVVNBIiwiZ2VvTG9jYXRpb25GYWNldCI6WyJQdWVydG8gUmljbywgVS5TLkEuIl0sImdlb0xvY2F0aW9uRmFjZXRSZWNlbnRzIjpbIlB1ZXJ0byBSaWNvLCBVLlMuQS4iXSwicGFnZSI6MSwibGltaXQiOjI1LCJvZmZzZXQiOjAsInNvcnQiOiIiLCJzb3J0VHlwZSI6IiIsImNsZWFyUGFyYW1zIjpmYWxzZSwia2V5d29yZCI6IiIsInBhZ2VUaXRsZSI6Imw6UHVlcnRvIFJpY28sIFUuUy5BLiIsInByYWN0aWNlQXJlYXMiOlsiRW52aXJvbm1lbnRhbCBMYXciXX0%3D\n",
      "accediendo a: https://www.martindale.com/search/attorneys-law-firms-articles/?term=Puerto+Rico%2C+USA&params=eyJ0eXBlIjoicGVvcGxlIiwiY29tcGFyZSI6IiIsInRlcm0iOiJQdWVydG8gUmljbywgVVNBIiwiZ2VvTG9jYXRpb25GYWNldCI6WyJQdWVydG8gUmljbywgVS5TLkEuIl0sImdlb0xvY2F0aW9uRmFjZXRSZWNlbnRzIjpbIlB1ZXJ0byBSaWNvLCBVLlMuQS4iXSwicGFnZSI6MSwibGltaXQiOjI1LCJvZmZzZXQiOjAsInNvcnQiOiIiLCJzb3J0VHlwZSI6IiIsImNsZWFyUGFyYW1zIjpmYWxzZSwia2V5d29yZCI6IiIsInBhZ2VUaXRsZSI6Imw6UHVlcnRvIFJpY28sIFUuUy5BLiIsInByYWN0aWNlQXJlYXMiOlsiRW52aXJvbm1lbnRhbCBMYXciXX0%3D&page=2\n",
      "accediendo a: https://www.martindale.com/search/attorneys-law-firms-articles/?term=Puerto+Rico%2C+USA&params=eyJ0eXBlIjoicGVvcGxlIiwiY29tcGFyZSI6IiIsInRlcm0iOiJQdWVydG8gUmljbywgVVNBIiwiZ2VvTG9jYXRpb25GYWNldCI6WyJQdWVydG8gUmljbywgVS5TLkEuIl0sImdlb0xvY2F0aW9uRmFjZXRSZWNlbnRzIjpbIlB1ZXJ0byBSaWNvLCBVLlMuQS4iXSwicGFnZSI6MSwibGltaXQiOjI1LCJvZmZzZXQiOjAsInNvcnQiOiIiLCJzb3J0VHlwZSI6IiIsImNsZWFyUGFyYW1zIjpmYWxzZSwia2V5d29yZCI6IiIsInBhZ2VUaXRsZSI6Imw6UHVlcnRvIFJpY28sIFUuUy5BLiIsInByYWN0aWNlQXJlYXMiOlsiRW52aXJvbm1lbnRhbCBMYXciXX0%3D&page=3\n",
      "accediendo a: https://www.martindale.com/search/attorneys-law-firms-articles/?term=Puerto+Rico%2C+USA&params=eyJ0eXBlIjoicGVvcGxlIiwiY29tcGFyZSI6IiIsInRlcm0iOiJQdWVydG8gUmljbywgVVNBIiwiZ2VvTG9jYXRpb25GYWNldCI6WyJQdWVydG8gUmljbywgVS5TLkEuIl0sImdlb0xvY2F0aW9uRmFjZXRSZWNlbnRzIjpbIlB1ZXJ0byBSaWNvLCBVLlMuQS4iXSwicGFnZSI6MSwibGltaXQiOjI1LCJvZmZzZXQiOjAsInNvcnQiOiIiLCJzb3J0VHlwZSI6IiIsImNsZWFyUGFyYW1zIjpmYWxzZSwia2V5d29yZCI6IiIsInBhZ2VUaXRsZSI6Imw6UHVlcnRvIFJpY28sIFUuUy5BLiIsInByYWN0aWNlQXJlYXMiOlsiRW52aXJvbm1lbnRhbCBMYXciXX0%3D&page=4\n",
      "accediendo a: https://www.martindale.com/search/attorneys-law-firms-articles/?term=Puerto+Rico%2C+USA&params=eyJ0eXBlIjoicGVvcGxlIiwiY29tcGFyZSI6IiIsInRlcm0iOiJQdWVydG8gUmljbywgVVNBIiwiZ2VvTG9jYXRpb25GYWNldCI6WyJQdWVydG8gUmljbywgVS5TLkEuIl0sImdlb0xvY2F0aW9uRmFjZXRSZWNlbnRzIjpbIlB1ZXJ0byBSaWNvLCBVLlMuQS4iXSwicGFnZSI6MSwibGltaXQiOjI1LCJvZmZzZXQiOjAsInNvcnQiOiIiLCJzb3J0VHlwZSI6IiIsImNsZWFyUGFyYW1zIjpmYWxzZSwia2V5d29yZCI6IiIsInBhZ2VUaXRsZSI6Imw6UHVlcnRvIFJpY28sIFUuUy5BLiIsInByYWN0aWNlQXJlYXMiOlsiRW52aXJvbm1lbnRhbCBMYXciXX0%3D&page=5\n",
      "accediendo a: https://www.martindale.com/search/attorneys-law-firms-articles/?term=Puerto+Rico%2C+USA&params=eyJ0eXBlIjoicGVvcGxlIiwiY29tcGFyZSI6IiIsInRlcm0iOiJQdWVydG8gUmljbywgVVNBIiwiZ2VvTG9jYXRpb25GYWNldCI6WyJQdWVydG8gUmljbywgVS5TLkEuIl0sImdlb0xvY2F0aW9uRmFjZXRSZWNlbnRzIjpbIlB1ZXJ0byBSaWNvLCBVLlMuQS4iXSwicGFnZSI6MSwibGltaXQiOjI1LCJvZmZzZXQiOjAsInNvcnQiOiIiLCJzb3J0VHlwZSI6IiIsImNsZWFyUGFyYW1zIjpmYWxzZSwia2V5d29yZCI6IiIsInBhZ2VUaXRsZSI6Imw6UHVlcnRvIFJpY28sIFUuUy5BLiIsInByYWN0aWNlQXJlYXMiOlsiRW52aXJvbm1lbnRhbCBMYXciXX0%3D&page=6\n"
     ]
    },
    {
     "name": "stderr",
     "output_type": "stream",
     "text": [
      "  7%|▋         | 6/91 [02:44<36:16, 25.61s/it]"
     ]
    },
    {
     "name": "stdout",
     "output_type": "stream",
     "text": [
      "paginas en esta url: 1\n",
      "accediendo a: https://www.martindale.com/search/attorneys-law-firms-articles/?term=Puerto+Rico%2C+USA&params=eyJ0eXBlIjoicGVvcGxlIiwiY29tcGFyZSI6IiIsInRlcm0iOiJQdWVydG8gUmljbywgVVNBIiwiZ2VvTG9jYXRpb25GYWNldCI6WyJQdWVydG8gUmljbywgVS5TLkEuIl0sImdlb0xvY2F0aW9uRmFjZXRSZWNlbnRzIjpbIlB1ZXJ0byBSaWNvLCBVLlMuQS4iXSwicGFnZSI6MSwibGltaXQiOjI1LCJvZmZzZXQiOjAsInNvcnQiOiIiLCJzb3J0VHlwZSI6IiIsImNsZWFyUGFyYW1zIjpmYWxzZSwia2V5d29yZCI6IiIsInBhZ2VUaXRsZSI6Imw6UHVlcnRvIFJpY28sIFUuUy5BLiIsInByYWN0aWNlQXJlYXMiOlsiVHJ1Y2tpbmcgQWNjaWRlbnRzIl19\n",
      "https://www.martindale.com/organization/the-lanier-law-firm-p-c-1340948/houston-texas-1674375-f/?pa=330\n"
     ]
    },
    {
     "name": "stderr",
     "output_type": "stream",
     "text": [
      "  8%|▊         | 7/91 [03:08<34:57, 24.97s/it]"
     ]
    },
    {
     "name": "stdout",
     "output_type": "stream",
     "text": [
      "paginas en esta url: 1\n",
      "accediendo a: https://www.martindale.com/search/attorneys-law-firms-articles/?term=Puerto+Rico%2C+USA&params=eyJ0eXBlIjoicGVvcGxlIiwiY29tcGFyZSI6IiIsInRlcm0iOiJQdWVydG8gUmljbywgVVNBIiwiZ2VvTG9jYXRpb25GYWNldCI6WyJQdWVydG8gUmljbywgVS5TLkEuIl0sImdlb0xvY2F0aW9uRmFjZXRSZWNlbnRzIjpbIlB1ZXJ0byBSaWNvLCBVLlMuQS4iXSwicGFnZSI6MSwibGltaXQiOjI1LCJvZmZzZXQiOjAsInNvcnQiOiIiLCJzb3J0VHlwZSI6IiIsImNsZWFyUGFyYW1zIjpmYWxzZSwia2V5d29yZCI6IiIsInBhZ2VUaXRsZSI6Imw6UHVlcnRvIFJpY28sIFUuUy5BLiIsInByYWN0aWNlQXJlYXMiOlsiUHJlbWFyaXRhbCBBZ3JlZW1lbnRzIl19\n"
     ]
    },
    {
     "name": "stderr",
     "output_type": "stream",
     "text": [
      "  9%|▉         | 8/91 [03:32<34:00, 24.58s/it]"
     ]
    },
    {
     "name": "stdout",
     "output_type": "stream",
     "text": [
      "paginas en esta url: 9\n",
      "accediendo a: https://www.martindale.com/search/attorneys-law-firms-articles/?term=Puerto+Rico%2C+USA&params=eyJ0eXBlIjoicGVvcGxlIiwiY29tcGFyZSI6IiIsInRlcm0iOiJQdWVydG8gUmljbywgVVNBIiwiZ2VvTG9jYXRpb25GYWNldCI6WyJQdWVydG8gUmljbywgVS5TLkEuIl0sImdlb0xvY2F0aW9uRmFjZXRSZWNlbnRzIjpbIlB1ZXJ0byBSaWNvLCBVLlMuQS4iXSwicGFnZSI6MSwibGltaXQiOjI1LCJvZmZzZXQiOjAsInNvcnQiOiIiLCJzb3J0VHlwZSI6IiIsImNsZWFyUGFyYW1zIjpmYWxzZSwia2V5d29yZCI6IiIsInBhZ2VUaXRsZSI6Imw6UHVlcnRvIFJpY28sIFUuUy5BLiIsInByYWN0aWNlQXJlYXMiOlsiQmFua3J1cHRjeSJdfQ%3D%3D\n",
      "https://www.martindale.com/attorney/luis-e-lopez-correa-1572139/\n",
      "https://www.martindale.com/attorney/mario-a-rivera-vega-1572390/\n",
      "accediendo a: https://www.martindale.com/search/attorneys-law-firms-articles/?term=Puerto+Rico%2C+USA&params=eyJ0eXBlIjoicGVvcGxlIiwiY29tcGFyZSI6IiIsInRlcm0iOiJQdWVydG8gUmljbywgVVNBIiwiZ2VvTG9jYXRpb25GYWNldCI6WyJQdWVydG8gUmljbywgVS5TLkEuIl0sImdlb0xvY2F0aW9uRmFjZXRSZWNlbnRzIjpbIlB1ZXJ0byBSaWNvLCBVLlMuQS4iXSwicGFnZSI6MSwibGltaXQiOjI1LCJvZmZzZXQiOjAsInNvcnQiOiIiLCJzb3J0VHlwZSI6IiIsImNsZWFyUGFyYW1zIjpmYWxzZSwia2V5d29yZCI6IiIsInBhZ2VUaXRsZSI6Imw6UHVlcnRvIFJpY28sIFUuUy5BLiIsInByYWN0aWNlQXJlYXMiOlsiQmFua3J1cHRjeSJdfQ%3D%3D&page=2\n",
      "https://www.martindale.com/attorney/fernando-van-derdys-1572523/\n",
      "https://www.martindale.com/attorney/sara-e-de-jesus-1571939/\n",
      "https://www.martindale.com/attorney/gilberto-mayo-pagan-1574160/\n",
      "https://www.martindale.com/attorney/nector-robles-abraham-1571155/\n",
      "accediendo a: https://www.martindale.com/search/attorneys-law-firms-articles/?term=Puerto+Rico%2C+USA&params=eyJ0eXBlIjoicGVvcGxlIiwiY29tcGFyZSI6IiIsInRlcm0iOiJQdWVydG8gUmljbywgVVNBIiwiZ2VvTG9jYXRpb25GYWNldCI6WyJQdWVydG8gUmljbywgVS5TLkEuIl0sImdlb0xvY2F0aW9uRmFjZXRSZWNlbnRzIjpbIlB1ZXJ0byBSaWNvLCBVLlMuQS4iXSwicGFnZSI6MSwibGltaXQiOjI1LCJvZmZzZXQiOjAsInNvcnQiOiIiLCJzb3J0VHlwZSI6IiIsImNsZWFyUGFyYW1zIjpmYWxzZSwia2V5d29yZCI6IiIsInBhZ2VUaXRsZSI6Imw6UHVlcnRvIFJpY28sIFUuUy5BLiIsInByYWN0aWNlQXJlYXMiOlsiQmFua3J1cHRjeSJdfQ%3D%3D&page=3\n",
      "https://www.martindale.com/attorney/maria-mercedes-figueroa-1573790/\n",
      "https://www.martindale.com/attorney/leyre-santaella-sante-157073312/\n",
      "accediendo a: https://www.martindale.com/search/attorneys-law-firms-articles/?term=Puerto+Rico%2C+USA&params=eyJ0eXBlIjoicGVvcGxlIiwiY29tcGFyZSI6IiIsInRlcm0iOiJQdWVydG8gUmljbywgVVNBIiwiZ2VvTG9jYXRpb25GYWNldCI6WyJQdWVydG8gUmljbywgVS5TLkEuIl0sImdlb0xvY2F0aW9uRmFjZXRSZWNlbnRzIjpbIlB1ZXJ0byBSaWNvLCBVLlMuQS4iXSwicGFnZSI6MSwibGltaXQiOjI1LCJvZmZzZXQiOjAsInNvcnQiOiIiLCJzb3J0VHlwZSI6IiIsImNsZWFyUGFyYW1zIjpmYWxzZSwia2V5d29yZCI6IiIsInBhZ2VUaXRsZSI6Imw6UHVlcnRvIFJpY28sIFUuUy5BLiIsInByYWN0aWNlQXJlYXMiOlsiQmFua3J1cHRjeSJdfQ%3D%3D&page=4\n",
      "https://www.martindale.com/attorney/daniel-molina-lopez-1573001/\n",
      "https://www.martindale.com/attorney/rebecca-e-kellogg-de-jesus-1572782/\n",
      "https://www.martindale.com/attorney/lyssette-morales-vidal-1571118/\n",
      "accediendo a: https://www.martindale.com/search/attorneys-law-firms-articles/?term=Puerto+Rico%2C+USA&params=eyJ0eXBlIjoicGVvcGxlIiwiY29tcGFyZSI6IiIsInRlcm0iOiJQdWVydG8gUmljbywgVVNBIiwiZ2VvTG9jYXRpb25GYWNldCI6WyJQdWVydG8gUmljbywgVS5TLkEuIl0sImdlb0xvY2F0aW9uRmFjZXRSZWNlbnRzIjpbIlB1ZXJ0byBSaWNvLCBVLlMuQS4iXSwicGFnZSI6MSwibGltaXQiOjI1LCJvZmZzZXQiOjAsInNvcnQiOiIiLCJzb3J0VHlwZSI6IiIsImNsZWFyUGFyYW1zIjpmYWxzZSwia2V5d29yZCI6IiIsInBhZ2VUaXRsZSI6Imw6UHVlcnRvIFJpY28sIFUuUy5BLiIsInByYWN0aWNlQXJlYXMiOlsiQmFua3J1cHRjeSJdfQ%3D%3D&page=5\n",
      "https://www.martindale.com/attorney/isabel-m-fullana-fraticelli-1572691/\n",
      "https://www.martindale.com/attorney/mariel-y-pizarro-3145391/\n",
      "https://www.martindale.com/attorney/carlos-e-rodriguez-quesada-1574177/\n",
      "accediendo a: https://www.martindale.com/search/attorneys-law-firms-articles/?term=Puerto+Rico%2C+USA&params=eyJ0eXBlIjoicGVvcGxlIiwiY29tcGFyZSI6IiIsInRlcm0iOiJQdWVydG8gUmljbywgVVNBIiwiZ2VvTG9jYXRpb25GYWNldCI6WyJQdWVydG8gUmljbywgVS5TLkEuIl0sImdlb0xvY2F0aW9uRmFjZXRSZWNlbnRzIjpbIlB1ZXJ0byBSaWNvLCBVLlMuQS4iXSwicGFnZSI6MSwibGltaXQiOjI1LCJvZmZzZXQiOjAsInNvcnQiOiIiLCJzb3J0VHlwZSI6IiIsImNsZWFyUGFyYW1zIjpmYWxzZSwia2V5d29yZCI6IiIsInBhZ2VUaXRsZSI6Imw6UHVlcnRvIFJpY28sIFUuUy5BLiIsInByYWN0aWNlQXJlYXMiOlsiQmFua3J1cHRjeSJdfQ%3D%3D&page=6\n",
      "https://www.martindale.com/attorney/edilberto-berrios-perez-1571625/\n",
      "https://www.martindale.com/attorney/william-bill-torres-1571698/\n",
      "accediendo a: https://www.martindale.com/search/attorneys-law-firms-articles/?term=Puerto+Rico%2C+USA&params=eyJ0eXBlIjoicGVvcGxlIiwiY29tcGFyZSI6IiIsInRlcm0iOiJQdWVydG8gUmljbywgVVNBIiwiZ2VvTG9jYXRpb25GYWNldCI6WyJQdWVydG8gUmljbywgVS5TLkEuIl0sImdlb0xvY2F0aW9uRmFjZXRSZWNlbnRzIjpbIlB1ZXJ0byBSaWNvLCBVLlMuQS4iXSwicGFnZSI6MSwibGltaXQiOjI1LCJvZmZzZXQiOjAsInNvcnQiOiIiLCJzb3J0VHlwZSI6IiIsImNsZWFyUGFyYW1zIjpmYWxzZSwia2V5d29yZCI6IiIsInBhZ2VUaXRsZSI6Imw6UHVlcnRvIFJpY28sIFUuUy5BLiIsInByYWN0aWNlQXJlYXMiOlsiQmFua3J1cHRjeSJdfQ%3D%3D&page=7\n",
      "https://www.martindale.com/attorney/mary-ann-gandia-fabian-1571701/\n",
      "https://www.martindale.com/attorney/jean-philip-gauthier-4239913/\n",
      "https://www.martindale.com/attorney/edgar-rodriguez-mendez-1571934/\n",
      "https://www.martindale.com/attorney/orlando-aviles-lopez-1572705/\n",
      "accediendo a: https://www.martindale.com/search/attorneys-law-firms-articles/?term=Puerto+Rico%2C+USA&params=eyJ0eXBlIjoicGVvcGxlIiwiY29tcGFyZSI6IiIsInRlcm0iOiJQdWVydG8gUmljbywgVVNBIiwiZ2VvTG9jYXRpb25GYWNldCI6WyJQdWVydG8gUmljbywgVS5TLkEuIl0sImdlb0xvY2F0aW9uRmFjZXRSZWNlbnRzIjpbIlB1ZXJ0byBSaWNvLCBVLlMuQS4iXSwicGFnZSI6MSwibGltaXQiOjI1LCJvZmZzZXQiOjAsInNvcnQiOiIiLCJzb3J0VHlwZSI6IiIsImNsZWFyUGFyYW1zIjpmYWxzZSwia2V5d29yZCI6IiIsInBhZ2VUaXRsZSI6Imw6UHVlcnRvIFJpY28sIFUuUy5BLiIsInByYWN0aWNlQXJlYXMiOlsiQmFua3J1cHRjeSJdfQ%3D%3D&page=8\n",
      "https://www.martindale.com/attorney/teresa-m-lube-capo-301300102/\n",
      "https://www.martindale.com/attorney/edwin-franqui-gonzalez-1571747/\n",
      "accediendo a: https://www.martindale.com/search/attorneys-law-firms-articles/?term=Puerto+Rico%2C+USA&params=eyJ0eXBlIjoicGVvcGxlIiwiY29tcGFyZSI6IiIsInRlcm0iOiJQdWVydG8gUmljbywgVVNBIiwiZ2VvTG9jYXRpb25GYWNldCI6WyJQdWVydG8gUmljbywgVS5TLkEuIl0sImdlb0xvY2F0aW9uRmFjZXRSZWNlbnRzIjpbIlB1ZXJ0byBSaWNvLCBVLlMuQS4iXSwicGFnZSI6MSwibGltaXQiOjI1LCJvZmZzZXQiOjAsInNvcnQiOiIiLCJzb3J0VHlwZSI6IiIsImNsZWFyUGFyYW1zIjpmYWxzZSwia2V5d29yZCI6IiIsInBhZ2VUaXRsZSI6Imw6UHVlcnRvIFJpY28sIFUuUy5BLiIsInByYWN0aWNlQXJlYXMiOlsiQmFua3J1cHRjeSJdfQ%3D%3D&page=9\n"
     ]
    },
    {
     "name": "stderr",
     "output_type": "stream",
     "text": [
      " 10%|▉         | 9/91 [03:54<32:33, 23.83s/it]"
     ]
    },
    {
     "name": "stdout",
     "output_type": "stream",
     "text": [
      "paginas en esta url: 18\n",
      "accediendo a: https://www.martindale.com/search/attorneys-law-firms-articles/?term=Puerto+Rico%2C+USA&params=eyJ0eXBlIjoicGVvcGxlIiwiY29tcGFyZSI6IiIsInRlcm0iOiJQdWVydG8gUmljbywgVVNBIiwiZ2VvTG9jYXRpb25GYWNldCI6WyJQdWVydG8gUmljbywgVS5TLkEuIl0sImdlb0xvY2F0aW9uRmFjZXRSZWNlbnRzIjpbIlB1ZXJ0byBSaWNvLCBVLlMuQS4iXSwicGFnZSI6MSwibGltaXQiOjI1LCJvZmZzZXQiOjAsInNvcnQiOiIiLCJzb3J0VHlwZSI6IiIsImNsZWFyUGFyYW1zIjpmYWxzZSwia2V5d29yZCI6IiIsInBhZ2VUaXRsZSI6Imw6UHVlcnRvIFJpY28sIFUuUy5BLiIsInByYWN0aWNlQXJlYXMiOlsiUmVhbCBFc3RhdGUiXX0%3D\n",
      "https://www.martindale.com/attorney/myrtelena-diaz-pedrosa-2166792/\n",
      "https://www.martindale.com/attorney/carmen-j-rocafort-1572175/\n",
      "accediendo a: https://www.martindale.com/search/attorneys-law-firms-articles/?term=Puerto+Rico%2C+USA&params=eyJ0eXBlIjoicGVvcGxlIiwiY29tcGFyZSI6IiIsInRlcm0iOiJQdWVydG8gUmljbywgVVNBIiwiZ2VvTG9jYXRpb25GYWNldCI6WyJQdWVydG8gUmljbywgVS5TLkEuIl0sImdlb0xvY2F0aW9uRmFjZXRSZWNlbnRzIjpbIlB1ZXJ0byBSaWNvLCBVLlMuQS4iXSwicGFnZSI6MSwibGltaXQiOjI1LCJvZmZzZXQiOjAsInNvcnQiOiIiLCJzb3J0VHlwZSI6IiIsImNsZWFyUGFyYW1zIjpmYWxzZSwia2V5d29yZCI6IiIsInBhZ2VUaXRsZSI6Imw6UHVlcnRvIFJpY28sIFUuUy5BLiIsInByYWN0aWNlQXJlYXMiOlsiUmVhbCBFc3RhdGUiXX0%3D&page=2\n",
      "https://www.martindale.com/attorney/magda-v-alsina-figueroa-2850962/\n",
      "https://www.martindale.com/attorney/ileana-l-corral-4660096/\n",
      "accediendo a: https://www.martindale.com/search/attorneys-law-firms-articles/?term=Puerto+Rico%2C+USA&params=eyJ0eXBlIjoicGVvcGxlIiwiY29tcGFyZSI6IiIsInRlcm0iOiJQdWVydG8gUmljbywgVVNBIiwiZ2VvTG9jYXRpb25GYWNldCI6WyJQdWVydG8gUmljbywgVS5TLkEuIl0sImdlb0xvY2F0aW9uRmFjZXRSZWNlbnRzIjpbIlB1ZXJ0byBSaWNvLCBVLlMuQS4iXSwicGFnZSI6MSwibGltaXQiOjI1LCJvZmZzZXQiOjAsInNvcnQiOiIiLCJzb3J0VHlwZSI6IiIsImNsZWFyUGFyYW1zIjpmYWxzZSwia2V5d29yZCI6IiIsInBhZ2VUaXRsZSI6Imw6UHVlcnRvIFJpY28sIFUuUy5BLiIsInByYWN0aWNlQXJlYXMiOlsiUmVhbCBFc3RhdGUiXX0%3D&page=3\n",
      "https://www.martindale.com/attorney/monica-rodriguez-villa-33633387/\n",
      "accediendo a: https://www.martindale.com/search/attorneys-law-firms-articles/?term=Puerto+Rico%2C+USA&params=eyJ0eXBlIjoicGVvcGxlIiwiY29tcGFyZSI6IiIsInRlcm0iOiJQdWVydG8gUmljbywgVVNBIiwiZ2VvTG9jYXRpb25GYWNldCI6WyJQdWVydG8gUmljbywgVS5TLkEuIl0sImdlb0xvY2F0aW9uRmFjZXRSZWNlbnRzIjpbIlB1ZXJ0byBSaWNvLCBVLlMuQS4iXSwicGFnZSI6MSwibGltaXQiOjI1LCJvZmZzZXQiOjAsInNvcnQiOiIiLCJzb3J0VHlwZSI6IiIsImNsZWFyUGFyYW1zIjpmYWxzZSwia2V5d29yZCI6IiIsInBhZ2VUaXRsZSI6Imw6UHVlcnRvIFJpY28sIFUuUy5BLiIsInByYWN0aWNlQXJlYXMiOlsiUmVhbCBFc3RhdGUiXX0%3D&page=4\n",
      "https://www.martindale.com/attorney/maria-l-fuster-zalduondo-1573294/\n",
      "https://www.martindale.com/attorney/walter-g-mcconnell-1573285/\n",
      "accediendo a: https://www.martindale.com/search/attorneys-law-firms-articles/?term=Puerto+Rico%2C+USA&params=eyJ0eXBlIjoicGVvcGxlIiwiY29tcGFyZSI6IiIsInRlcm0iOiJQdWVydG8gUmljbywgVVNBIiwiZ2VvTG9jYXRpb25GYWNldCI6WyJQdWVydG8gUmljbywgVS5TLkEuIl0sImdlb0xvY2F0aW9uRmFjZXRSZWNlbnRzIjpbIlB1ZXJ0byBSaWNvLCBVLlMuQS4iXSwicGFnZSI6MSwibGltaXQiOjI1LCJvZmZzZXQiOjAsInNvcnQiOiIiLCJzb3J0VHlwZSI6IiIsImNsZWFyUGFyYW1zIjpmYWxzZSwia2V5d29yZCI6IiIsInBhZ2VUaXRsZSI6Imw6UHVlcnRvIFJpY28sIFUuUy5BLiIsInByYWN0aWNlQXJlYXMiOlsiUmVhbCBFc3RhdGUiXX0%3D&page=5\n",
      "accediendo a: https://www.martindale.com/search/attorneys-law-firms-articles/?term=Puerto+Rico%2C+USA&params=eyJ0eXBlIjoicGVvcGxlIiwiY29tcGFyZSI6IiIsInRlcm0iOiJQdWVydG8gUmljbywgVVNBIiwiZ2VvTG9jYXRpb25GYWNldCI6WyJQdWVydG8gUmljbywgVS5TLkEuIl0sImdlb0xvY2F0aW9uRmFjZXRSZWNlbnRzIjpbIlB1ZXJ0byBSaWNvLCBVLlMuQS4iXSwicGFnZSI6MSwibGltaXQiOjI1LCJvZmZzZXQiOjAsInNvcnQiOiIiLCJzb3J0VHlwZSI6IiIsImNsZWFyUGFyYW1zIjpmYWxzZSwia2V5d29yZCI6IiIsInBhZ2VUaXRsZSI6Imw6UHVlcnRvIFJpY28sIFUuUy5BLiIsInByYWN0aWNlQXJlYXMiOlsiUmVhbCBFc3RhdGUiXX0%3D&page=6\n",
      "https://www.martindale.com/attorney/jeannine-carlo-melendez-157053452/\n",
      "https://www.martindale.com/attorney/stella-maris-molina-rosario-2089136/\n",
      "accediendo a: https://www.martindale.com/search/attorneys-law-firms-articles/?term=Puerto+Rico%2C+USA&params=eyJ0eXBlIjoicGVvcGxlIiwiY29tcGFyZSI6IiIsInRlcm0iOiJQdWVydG8gUmljbywgVVNBIiwiZ2VvTG9jYXRpb25GYWNldCI6WyJQdWVydG8gUmljbywgVS5TLkEuIl0sImdlb0xvY2F0aW9uRmFjZXRSZWNlbnRzIjpbIlB1ZXJ0byBSaWNvLCBVLlMuQS4iXSwicGFnZSI6MSwibGltaXQiOjI1LCJvZmZzZXQiOjAsInNvcnQiOiIiLCJzb3J0VHlwZSI6IiIsImNsZWFyUGFyYW1zIjpmYWxzZSwia2V5d29yZCI6IiIsInBhZ2VUaXRsZSI6Imw6UHVlcnRvIFJpY28sIFUuUy5BLiIsInByYWN0aWNlQXJlYXMiOlsiUmVhbCBFc3RhdGUiXX0%3D&page=7\n",
      "https://www.martindale.com/attorney/carlos-m-garcia-rullan-1572039/\n",
      "https://www.martindale.com/attorney/luce-vela-gutierrez-1572128/\n",
      "accediendo a: https://www.martindale.com/search/attorneys-law-firms-articles/?term=Puerto+Rico%2C+USA&params=eyJ0eXBlIjoicGVvcGxlIiwiY29tcGFyZSI6IiIsInRlcm0iOiJQdWVydG8gUmljbywgVVNBIiwiZ2VvTG9jYXRpb25GYWNldCI6WyJQdWVydG8gUmljbywgVS5TLkEuIl0sImdlb0xvY2F0aW9uRmFjZXRSZWNlbnRzIjpbIlB1ZXJ0byBSaWNvLCBVLlMuQS4iXSwicGFnZSI6MSwibGltaXQiOjI1LCJvZmZzZXQiOjAsInNvcnQiOiIiLCJzb3J0VHlwZSI6IiIsImNsZWFyUGFyYW1zIjpmYWxzZSwia2V5d29yZCI6IiIsInBhZ2VUaXRsZSI6Imw6UHVlcnRvIFJpY28sIFUuUy5BLiIsInByYWN0aWNlQXJlYXMiOlsiUmVhbCBFc3RhdGUiXX0%3D&page=8\n",
      "https://www.martindale.com/attorney/douglas-p-sanchez-1574103/\n",
      "https://www.martindale.com/attorney/patricia-george-iguina-3955058/\n",
      "accediendo a: https://www.martindale.com/search/attorneys-law-firms-articles/?term=Puerto+Rico%2C+USA&params=eyJ0eXBlIjoicGVvcGxlIiwiY29tcGFyZSI6IiIsInRlcm0iOiJQdWVydG8gUmljbywgVVNBIiwiZ2VvTG9jYXRpb25GYWNldCI6WyJQdWVydG8gUmljbywgVS5TLkEuIl0sImdlb0xvY2F0aW9uRmFjZXRSZWNlbnRzIjpbIlB1ZXJ0byBSaWNvLCBVLlMuQS4iXSwicGFnZSI6MSwibGltaXQiOjI1LCJvZmZzZXQiOjAsInNvcnQiOiIiLCJzb3J0VHlwZSI6IiIsImNsZWFyUGFyYW1zIjpmYWxzZSwia2V5d29yZCI6IiIsInBhZ2VUaXRsZSI6Imw6UHVlcnRvIFJpY28sIFUuUy5BLiIsInByYWN0aWNlQXJlYXMiOlsiUmVhbCBFc3RhdGUiXX0%3D&page=9\n",
      "https://www.martindale.com/attorney/hector-reichard-de-cardona-1573708/\n",
      "https://www.martindale.com/attorney/luis-g-rivera-marin-1573442/\n",
      "https://www.martindale.com/attorney/illich-o-colon-munoz-1573635/\n",
      "https://www.martindale.com/attorney/patricia-perez-surillo-24069773/\n",
      "accediendo a: https://www.martindale.com/search/attorneys-law-firms-articles/?term=Puerto+Rico%2C+USA&params=eyJ0eXBlIjoicGVvcGxlIiwiY29tcGFyZSI6IiIsInRlcm0iOiJQdWVydG8gUmljbywgVVNBIiwiZ2VvTG9jYXRpb25GYWNldCI6WyJQdWVydG8gUmljbywgVS5TLkEuIl0sImdlb0xvY2F0aW9uRmFjZXRSZWNlbnRzIjpbIlB1ZXJ0byBSaWNvLCBVLlMuQS4iXSwicGFnZSI6MSwibGltaXQiOjI1LCJvZmZzZXQiOjAsInNvcnQiOiIiLCJzb3J0VHlwZSI6IiIsImNsZWFyUGFyYW1zIjpmYWxzZSwia2V5d29yZCI6IiIsInBhZ2VUaXRsZSI6Imw6UHVlcnRvIFJpY28sIFUuUy5BLiIsInByYWN0aWNlQXJlYXMiOlsiUmVhbCBFc3RhdGUiXX0%3D&page=10\n",
      "https://www.martindale.com/attorney/javier-a-rivera-melendez-4644057/\n",
      "accediendo a: https://www.martindale.com/search/attorneys-law-firms-articles/?term=Puerto+Rico%2C+USA&params=eyJ0eXBlIjoicGVvcGxlIiwiY29tcGFyZSI6IiIsInRlcm0iOiJQdWVydG8gUmljbywgVVNBIiwiZ2VvTG9jYXRpb25GYWNldCI6WyJQdWVydG8gUmljbywgVS5TLkEuIl0sImdlb0xvY2F0aW9uRmFjZXRSZWNlbnRzIjpbIlB1ZXJ0byBSaWNvLCBVLlMuQS4iXSwicGFnZSI6MSwibGltaXQiOjI1LCJvZmZzZXQiOjAsInNvcnQiOiIiLCJzb3J0VHlwZSI6IiIsImNsZWFyUGFyYW1zIjpmYWxzZSwia2V5d29yZCI6IiIsInBhZ2VUaXRsZSI6Imw6UHVlcnRvIFJpY28sIFUuUy5BLiIsInByYWN0aWNlQXJlYXMiOlsiUmVhbCBFc3RhdGUiXX0%3D&page=11\n",
      "https://www.martindale.com/attorney/alexis-g-lopez-cepero-1571933/\n",
      "https://www.martindale.com/attorney/arnaldo-villamil-1572149/\n",
      "accediendo a: https://www.martindale.com/search/attorneys-law-firms-articles/?term=Puerto+Rico%2C+USA&params=eyJ0eXBlIjoicGVvcGxlIiwiY29tcGFyZSI6IiIsInRlcm0iOiJQdWVydG8gUmljbywgVVNBIiwiZ2VvTG9jYXRpb25GYWNldCI6WyJQdWVydG8gUmljbywgVS5TLkEuIl0sImdlb0xvY2F0aW9uRmFjZXRSZWNlbnRzIjpbIlB1ZXJ0byBSaWNvLCBVLlMuQS4iXSwicGFnZSI6MSwibGltaXQiOjI1LCJvZmZzZXQiOjAsInNvcnQiOiIiLCJzb3J0VHlwZSI6IiIsImNsZWFyUGFyYW1zIjpmYWxzZSwia2V5d29yZCI6IiIsInBhZ2VUaXRsZSI6Imw6UHVlcnRvIFJpY28sIFUuUy5BLiIsInByYWN0aWNlQXJlYXMiOlsiUmVhbCBFc3RhdGUiXX0%3D&page=12\n",
      "https://www.martindale.com/attorney/maria-elena-ortiz-1572899/\n",
      "https://www.martindale.com/attorney/rafael-antonio-velez-perez-24478079/\n",
      "https://www.martindale.com/attorney/rafael-h-vazquez-muniz-1573364/\n",
      "https://www.martindale.com/attorney/antonio-j-barcelo-4239889/\n",
      "accediendo a: https://www.martindale.com/search/attorneys-law-firms-articles/?term=Puerto+Rico%2C+USA&params=eyJ0eXBlIjoicGVvcGxlIiwiY29tcGFyZSI6IiIsInRlcm0iOiJQdWVydG8gUmljbywgVVNBIiwiZ2VvTG9jYXRpb25GYWNldCI6WyJQdWVydG8gUmljbywgVS5TLkEuIl0sImdlb0xvY2F0aW9uRmFjZXRSZWNlbnRzIjpbIlB1ZXJ0byBSaWNvLCBVLlMuQS4iXSwicGFnZSI6MSwibGltaXQiOjI1LCJvZmZzZXQiOjAsInNvcnQiOiIiLCJzb3J0VHlwZSI6IiIsImNsZWFyUGFyYW1zIjpmYWxzZSwia2V5d29yZCI6IiIsInBhZ2VUaXRsZSI6Imw6UHVlcnRvIFJpY28sIFUuUy5BLiIsInByYWN0aWNlQXJlYXMiOlsiUmVhbCBFc3RhdGUiXX0%3D&page=13\n",
      "https://www.martindale.com/attorney/mariela-garcia-colberg-1572186/\n",
      "accediendo a: https://www.martindale.com/search/attorneys-law-firms-articles/?term=Puerto+Rico%2C+USA&params=eyJ0eXBlIjoicGVvcGxlIiwiY29tcGFyZSI6IiIsInRlcm0iOiJQdWVydG8gUmljbywgVVNBIiwiZ2VvTG9jYXRpb25GYWNldCI6WyJQdWVydG8gUmljbywgVS5TLkEuIl0sImdlb0xvY2F0aW9uRmFjZXRSZWNlbnRzIjpbIlB1ZXJ0byBSaWNvLCBVLlMuQS4iXSwicGFnZSI6MSwibGltaXQiOjI1LCJvZmZzZXQiOjAsInNvcnQiOiIiLCJzb3J0VHlwZSI6IiIsImNsZWFyUGFyYW1zIjpmYWxzZSwia2V5d29yZCI6IiIsInBhZ2VUaXRsZSI6Imw6UHVlcnRvIFJpY28sIFUuUy5BLiIsInByYWN0aWNlQXJlYXMiOlsiUmVhbCBFc3RhdGUiXX0%3D&page=14\n",
      "https://www.martindale.com/attorney/osvaldo-carlo-linares-1572302/\n",
      "https://www.martindale.com/attorney/omara-mendez-bernard-1573626/\n",
      "accediendo a: https://www.martindale.com/search/attorneys-law-firms-articles/?term=Puerto+Rico%2C+USA&params=eyJ0eXBlIjoicGVvcGxlIiwiY29tcGFyZSI6IiIsInRlcm0iOiJQdWVydG8gUmljbywgVVNBIiwiZ2VvTG9jYXRpb25GYWNldCI6WyJQdWVydG8gUmljbywgVS5TLkEuIl0sImdlb0xvY2F0aW9uRmFjZXRSZWNlbnRzIjpbIlB1ZXJ0byBSaWNvLCBVLlMuQS4iXSwicGFnZSI6MSwibGltaXQiOjI1LCJvZmZzZXQiOjAsInNvcnQiOiIiLCJzb3J0VHlwZSI6IiIsImNsZWFyUGFyYW1zIjpmYWxzZSwia2V5d29yZCI6IiIsInBhZ2VUaXRsZSI6Imw6UHVlcnRvIFJpY28sIFUuUy5BLiIsInByYWN0aWNlQXJlYXMiOlsiUmVhbCBFc3RhdGUiXX0%3D&page=15\n",
      "https://www.martindale.com/attorney/alberto-ferrer-1572659/\n",
      "https://www.martindale.com/attorney/vanessa-i-raffucci-1572761/\n",
      "accediendo a: https://www.martindale.com/search/attorneys-law-firms-articles/?term=Puerto+Rico%2C+USA&params=eyJ0eXBlIjoicGVvcGxlIiwiY29tcGFyZSI6IiIsInRlcm0iOiJQdWVydG8gUmljbywgVVNBIiwiZ2VvTG9jYXRpb25GYWNldCI6WyJQdWVydG8gUmljbywgVS5TLkEuIl0sImdlb0xvY2F0aW9uRmFjZXRSZWNlbnRzIjpbIlB1ZXJ0byBSaWNvLCBVLlMuQS4iXSwicGFnZSI6MSwibGltaXQiOjI1LCJvZmZzZXQiOjAsInNvcnQiOiIiLCJzb3J0VHlwZSI6IiIsImNsZWFyUGFyYW1zIjpmYWxzZSwia2V5d29yZCI6IiIsInBhZ2VUaXRsZSI6Imw6UHVlcnRvIFJpY28sIFUuUy5BLiIsInByYWN0aWNlQXJlYXMiOlsiUmVhbCBFc3RhdGUiXX0%3D&page=16\n",
      "https://www.martindale.com/attorney/francisco-de-jesus-schuck-1572800/\n",
      "accediendo a: https://www.martindale.com/search/attorneys-law-firms-articles/?term=Puerto+Rico%2C+USA&params=eyJ0eXBlIjoicGVvcGxlIiwiY29tcGFyZSI6IiIsInRlcm0iOiJQdWVydG8gUmljbywgVVNBIiwiZ2VvTG9jYXRpb25GYWNldCI6WyJQdWVydG8gUmljbywgVS5TLkEuIl0sImdlb0xvY2F0aW9uRmFjZXRSZWNlbnRzIjpbIlB1ZXJ0byBSaWNvLCBVLlMuQS4iXSwicGFnZSI6MSwibGltaXQiOjI1LCJvZmZzZXQiOjAsInNvcnQiOiIiLCJzb3J0VHlwZSI6IiIsImNsZWFyUGFyYW1zIjpmYWxzZSwia2V5d29yZCI6IiIsInBhZ2VUaXRsZSI6Imw6UHVlcnRvIFJpY28sIFUuUy5BLiIsInByYWN0aWNlQXJlYXMiOlsiUmVhbCBFc3RhdGUiXX0%3D&page=17\n",
      "https://www.martindale.com/attorney/frank-j-lopez-300712292/\n",
      "https://www.martindale.com/attorney/jesus-a-santiago-rosario-157053470/\n",
      "https://www.martindale.com/attorney/jose-antonio-fernandez-jaquete-11444750/\n",
      "accediendo a: https://www.martindale.com/search/attorneys-law-firms-articles/?term=Puerto+Rico%2C+USA&params=eyJ0eXBlIjoicGVvcGxlIiwiY29tcGFyZSI6IiIsInRlcm0iOiJQdWVydG8gUmljbywgVVNBIiwiZ2VvTG9jYXRpb25GYWNldCI6WyJQdWVydG8gUmljbywgVS5TLkEuIl0sImdlb0xvY2F0aW9uRmFjZXRSZWNlbnRzIjpbIlB1ZXJ0byBSaWNvLCBVLlMuQS4iXSwicGFnZSI6MSwibGltaXQiOjI1LCJvZmZzZXQiOjAsInNvcnQiOiIiLCJzb3J0VHlwZSI6IiIsImNsZWFyUGFyYW1zIjpmYWxzZSwia2V5d29yZCI6IiIsInBhZ2VUaXRsZSI6Imw6UHVlcnRvIFJpY28sIFUuUy5BLiIsInByYWN0aWNlQXJlYXMiOlsiUmVhbCBFc3RhdGUiXX0%3D&page=18\n",
      "https://www.martindale.com/attorney/carlos-a-rodriguez-28227830/\n"
     ]
    },
    {
     "name": "stderr",
     "output_type": "stream",
     "text": [
      " 11%|█         | 10/91 [04:31<37:45, 27.97s/it]"
     ]
    },
    {
     "name": "stdout",
     "output_type": "stream",
     "text": [
      "paginas en esta url: 13\n",
      "accediendo a: https://www.martindale.com/search/attorneys-law-firms-articles/?term=Puerto+Rico%2C+USA&params=eyJ0eXBlIjoicGVvcGxlIiwiY29tcGFyZSI6IiIsInRlcm0iOiJQdWVydG8gUmljbywgVVNBIiwiZ2VvTG9jYXRpb25GYWNldCI6WyJQdWVydG8gUmljbywgVS5TLkEuIl0sImdlb0xvY2F0aW9uRmFjZXRSZWNlbnRzIjpbIlB1ZXJ0byBSaWNvLCBVLlMuQS4iXSwicGFnZSI6MSwibGltaXQiOjI1LCJvZmZzZXQiOjAsInNvcnQiOiIiLCJzb3J0VHlwZSI6IiIsImNsZWFyUGFyYW1zIjpmYWxzZSwia2V5d29yZCI6IiIsInBhZ2VUaXRsZSI6Imw6UHVlcnRvIFJpY28sIFUuUy5BLiIsInByYWN0aWNlQXJlYXMiOlsiQ29udHJhY3RzIl19\n",
      "problemas con el crawler\n",
      "problemas con el crawler\n",
      "accediendo a: https://www.martindale.com/search/attorneys-law-firms-articles/?term=Puerto+Rico%2C+USA&params=eyJ0eXBlIjoicGVvcGxlIiwiY29tcGFyZSI6IiIsInRlcm0iOiJQdWVydG8gUmljbywgVVNBIiwiZ2VvTG9jYXRpb25GYWNldCI6WyJQdWVydG8gUmljbywgVS5TLkEuIl0sImdlb0xvY2F0aW9uRmFjZXRSZWNlbnRzIjpbIlB1ZXJ0byBSaWNvLCBVLlMuQS4iXSwicGFnZSI6MSwibGltaXQiOjI1LCJvZmZzZXQiOjAsInNvcnQiOiIiLCJzb3J0VHlwZSI6IiIsImNsZWFyUGFyYW1zIjpmYWxzZSwia2V5d29yZCI6IiIsInBhZ2VUaXRsZSI6Imw6UHVlcnRvIFJpY28sIFUuUy5BLiIsInByYWN0aWNlQXJlYXMiOlsiQ29udHJhY3RzIl19&page=2\n",
      "problemas con el crawler\n",
      "https://www.martindale.com/attorney/fredeswin-perez-caballero-45015557/\n",
      "accediendo a: https://www.martindale.com/search/attorneys-law-firms-articles/?term=Puerto+Rico%2C+USA&params=eyJ0eXBlIjoicGVvcGxlIiwiY29tcGFyZSI6IiIsInRlcm0iOiJQdWVydG8gUmljbywgVVNBIiwiZ2VvTG9jYXRpb25GYWNldCI6WyJQdWVydG8gUmljbywgVS5TLkEuIl0sImdlb0xvY2F0aW9uRmFjZXRSZWNlbnRzIjpbIlB1ZXJ0byBSaWNvLCBVLlMuQS4iXSwicGFnZSI6MSwibGltaXQiOjI1LCJvZmZzZXQiOjAsInNvcnQiOiIiLCJzb3J0VHlwZSI6IiIsImNsZWFyUGFyYW1zIjpmYWxzZSwia2V5d29yZCI6IiIsInBhZ2VUaXRsZSI6Imw6UHVlcnRvIFJpY28sIFUuUy5BLiIsInByYWN0aWNlQXJlYXMiOlsiQ29udHJhY3RzIl19&page=3\n",
      "https://www.martindale.com/attorney/ricardo-guzman-3826093/\n",
      "https://www.martindale.com/attorney/martha-i-berrios-1571916/\n",
      "accediendo a: https://www.martindale.com/search/attorneys-law-firms-articles/?term=Puerto+Rico%2C+USA&params=eyJ0eXBlIjoicGVvcGxlIiwiY29tcGFyZSI6IiIsInRlcm0iOiJQdWVydG8gUmljbywgVVNBIiwiZ2VvTG9jYXRpb25GYWNldCI6WyJQdWVydG8gUmljbywgVS5TLkEuIl0sImdlb0xvY2F0aW9uRmFjZXRSZWNlbnRzIjpbIlB1ZXJ0byBSaWNvLCBVLlMuQS4iXSwicGFnZSI6MSwibGltaXQiOjI1LCJvZmZzZXQiOjAsInNvcnQiOiIiLCJzb3J0VHlwZSI6IiIsImNsZWFyUGFyYW1zIjpmYWxzZSwia2V5d29yZCI6IiIsInBhZ2VUaXRsZSI6Imw6UHVlcnRvIFJpY28sIFUuUy5BLiIsInByYWN0aWNlQXJlYXMiOlsiQ29udHJhY3RzIl19&page=4\n",
      "https://www.martindale.com/attorney/herman-w-colberg-1573884/\n",
      "https://www.martindale.com/attorney/armando-martinez-fernandez-1572503/\n",
      "accediendo a: https://www.martindale.com/search/attorneys-law-firms-articles/?term=Puerto+Rico%2C+USA&params=eyJ0eXBlIjoicGVvcGxlIiwiY29tcGFyZSI6IiIsInRlcm0iOiJQdWVydG8gUmljbywgVVNBIiwiZ2VvTG9jYXRpb25GYWNldCI6WyJQdWVydG8gUmljbywgVS5TLkEuIl0sImdlb0xvY2F0aW9uRmFjZXRSZWNlbnRzIjpbIlB1ZXJ0byBSaWNvLCBVLlMuQS4iXSwicGFnZSI6MSwibGltaXQiOjI1LCJvZmZzZXQiOjAsInNvcnQiOiIiLCJzb3J0VHlwZSI6IiIsImNsZWFyUGFyYW1zIjpmYWxzZSwia2V5d29yZCI6IiIsInBhZ2VUaXRsZSI6Imw6UHVlcnRvIFJpY28sIFUuUy5BLiIsInByYWN0aWNlQXJlYXMiOlsiQ29udHJhY3RzIl19&page=5\n",
      "accediendo a: https://www.martindale.com/search/attorneys-law-firms-articles/?term=Puerto+Rico%2C+USA&params=eyJ0eXBlIjoicGVvcGxlIiwiY29tcGFyZSI6IiIsInRlcm0iOiJQdWVydG8gUmljbywgVVNBIiwiZ2VvTG9jYXRpb25GYWNldCI6WyJQdWVydG8gUmljbywgVS5TLkEuIl0sImdlb0xvY2F0aW9uRmFjZXRSZWNlbnRzIjpbIlB1ZXJ0byBSaWNvLCBVLlMuQS4iXSwicGFnZSI6MSwibGltaXQiOjI1LCJvZmZzZXQiOjAsInNvcnQiOiIiLCJzb3J0VHlwZSI6IiIsImNsZWFyUGFyYW1zIjpmYWxzZSwia2V5d29yZCI6IiIsInBhZ2VUaXRsZSI6Imw6UHVlcnRvIFJpY28sIFUuUy5BLiIsInByYWN0aWNlQXJlYXMiOlsiQ29udHJhY3RzIl19&page=6\n",
      "https://www.martindale.com/attorney/ignacio-j-gorrin-1572571/\n",
      "accediendo a: https://www.martindale.com/search/attorneys-law-firms-articles/?term=Puerto+Rico%2C+USA&params=eyJ0eXBlIjoicGVvcGxlIiwiY29tcGFyZSI6IiIsInRlcm0iOiJQdWVydG8gUmljbywgVVNBIiwiZ2VvTG9jYXRpb25GYWNldCI6WyJQdWVydG8gUmljbywgVS5TLkEuIl0sImdlb0xvY2F0aW9uRmFjZXRSZWNlbnRzIjpbIlB1ZXJ0byBSaWNvLCBVLlMuQS4iXSwicGFnZSI6MSwibGltaXQiOjI1LCJvZmZzZXQiOjAsInNvcnQiOiIiLCJzb3J0VHlwZSI6IiIsImNsZWFyUGFyYW1zIjpmYWxzZSwia2V5d29yZCI6IiIsInBhZ2VUaXRsZSI6Imw6UHVlcnRvIFJpY28sIFUuUy5BLiIsInByYWN0aWNlQXJlYXMiOlsiQ29udHJhY3RzIl19&page=7\n",
      "accediendo a: https://www.martindale.com/search/attorneys-law-firms-articles/?term=Puerto+Rico%2C+USA&params=eyJ0eXBlIjoicGVvcGxlIiwiY29tcGFyZSI6IiIsInRlcm0iOiJQdWVydG8gUmljbywgVVNBIiwiZ2VvTG9jYXRpb25GYWNldCI6WyJQdWVydG8gUmljbywgVS5TLkEuIl0sImdlb0xvY2F0aW9uRmFjZXRSZWNlbnRzIjpbIlB1ZXJ0byBSaWNvLCBVLlMuQS4iXSwicGFnZSI6MSwibGltaXQiOjI1LCJvZmZzZXQiOjAsInNvcnQiOiIiLCJzb3J0VHlwZSI6IiIsImNsZWFyUGFyYW1zIjpmYWxzZSwia2V5d29yZCI6IiIsInBhZ2VUaXRsZSI6Imw6UHVlcnRvIFJpY28sIFUuUy5BLiIsInByYWN0aWNlQXJlYXMiOlsiQ29udHJhY3RzIl19&page=8\n",
      "https://www.martindale.com/attorney/maritza-julia-1571915/\n",
      "https://www.martindale.com/attorney/igor-dominguez-perez-1572360/\n",
      "accediendo a: https://www.martindale.com/search/attorneys-law-firms-articles/?term=Puerto+Rico%2C+USA&params=eyJ0eXBlIjoicGVvcGxlIiwiY29tcGFyZSI6IiIsInRlcm0iOiJQdWVydG8gUmljbywgVVNBIiwiZ2VvTG9jYXRpb25GYWNldCI6WyJQdWVydG8gUmljbywgVS5TLkEuIl0sImdlb0xvY2F0aW9uRmFjZXRSZWNlbnRzIjpbIlB1ZXJ0byBSaWNvLCBVLlMuQS4iXSwicGFnZSI6MSwibGltaXQiOjI1LCJvZmZzZXQiOjAsInNvcnQiOiIiLCJzb3J0VHlwZSI6IiIsImNsZWFyUGFyYW1zIjpmYWxzZSwia2V5d29yZCI6IiIsInBhZ2VUaXRsZSI6Imw6UHVlcnRvIFJpY28sIFUuUy5BLiIsInByYWN0aWNlQXJlYXMiOlsiQ29udHJhY3RzIl19&page=9\n",
      "accediendo a: https://www.martindale.com/search/attorneys-law-firms-articles/?term=Puerto+Rico%2C+USA&params=eyJ0eXBlIjoicGVvcGxlIiwiY29tcGFyZSI6IiIsInRlcm0iOiJQdWVydG8gUmljbywgVVNBIiwiZ2VvTG9jYXRpb25GYWNldCI6WyJQdWVydG8gUmljbywgVS5TLkEuIl0sImdlb0xvY2F0aW9uRmFjZXRSZWNlbnRzIjpbIlB1ZXJ0byBSaWNvLCBVLlMuQS4iXSwicGFnZSI6MSwibGltaXQiOjI1LCJvZmZzZXQiOjAsInNvcnQiOiIiLCJzb3J0VHlwZSI6IiIsImNsZWFyUGFyYW1zIjpmYWxzZSwia2V5d29yZCI6IiIsInBhZ2VUaXRsZSI6Imw6UHVlcnRvIFJpY28sIFUuUy5BLiIsInByYWN0aWNlQXJlYXMiOlsiQ29udHJhY3RzIl19&page=10\n",
      "accediendo a: https://www.martindale.com/search/attorneys-law-firms-articles/?term=Puerto+Rico%2C+USA&params=eyJ0eXBlIjoicGVvcGxlIiwiY29tcGFyZSI6IiIsInRlcm0iOiJQdWVydG8gUmljbywgVVNBIiwiZ2VvTG9jYXRpb25GYWNldCI6WyJQdWVydG8gUmljbywgVS5TLkEuIl0sImdlb0xvY2F0aW9uRmFjZXRSZWNlbnRzIjpbIlB1ZXJ0byBSaWNvLCBVLlMuQS4iXSwicGFnZSI6MSwibGltaXQiOjI1LCJvZmZzZXQiOjAsInNvcnQiOiIiLCJzb3J0VHlwZSI6IiIsImNsZWFyUGFyYW1zIjpmYWxzZSwia2V5d29yZCI6IiIsInBhZ2VUaXRsZSI6Imw6UHVlcnRvIFJpY28sIFUuUy5BLiIsInByYWN0aWNlQXJlYXMiOlsiQ29udHJhY3RzIl19&page=11\n",
      "accediendo a: https://www.martindale.com/search/attorneys-law-firms-articles/?term=Puerto+Rico%2C+USA&params=eyJ0eXBlIjoicGVvcGxlIiwiY29tcGFyZSI6IiIsInRlcm0iOiJQdWVydG8gUmljbywgVVNBIiwiZ2VvTG9jYXRpb25GYWNldCI6WyJQdWVydG8gUmljbywgVS5TLkEuIl0sImdlb0xvY2F0aW9uRmFjZXRSZWNlbnRzIjpbIlB1ZXJ0byBSaWNvLCBVLlMuQS4iXSwicGFnZSI6MSwibGltaXQiOjI1LCJvZmZzZXQiOjAsInNvcnQiOiIiLCJzb3J0VHlwZSI6IiIsImNsZWFyUGFyYW1zIjpmYWxzZSwia2V5d29yZCI6IiIsInBhZ2VUaXRsZSI6Imw6UHVlcnRvIFJpY28sIFUuUy5BLiIsInByYWN0aWNlQXJlYXMiOlsiQ29udHJhY3RzIl19&page=12\n",
      "accediendo a: https://www.martindale.com/search/attorneys-law-firms-articles/?term=Puerto+Rico%2C+USA&params=eyJ0eXBlIjoicGVvcGxlIiwiY29tcGFyZSI6IiIsInRlcm0iOiJQdWVydG8gUmljbywgVVNBIiwiZ2VvTG9jYXRpb25GYWNldCI6WyJQdWVydG8gUmljbywgVS5TLkEuIl0sImdlb0xvY2F0aW9uRmFjZXRSZWNlbnRzIjpbIlB1ZXJ0byBSaWNvLCBVLlMuQS4iXSwicGFnZSI6MSwibGltaXQiOjI1LCJvZmZzZXQiOjAsInNvcnQiOiIiLCJzb3J0VHlwZSI6IiIsImNsZWFyUGFyYW1zIjpmYWxzZSwia2V5d29yZCI6IiIsInBhZ2VUaXRsZSI6Imw6UHVlcnRvIFJpY28sIFUuUy5BLiIsInByYWN0aWNlQXJlYXMiOlsiQ29udHJhY3RzIl19&page=13\n"
     ]
    },
    {
     "name": "stderr",
     "output_type": "stream",
     "text": [
      " 12%|█▏        | 11/91 [06:22<1:11:16, 53.46s/it]"
     ]
    },
    {
     "name": "stdout",
     "output_type": "stream",
     "text": [
      "paginas en esta url: 1\n",
      "accediendo a: https://www.martindale.com/search/attorneys-law-firms-articles/?term=Puerto+Rico%2C+USA&params=eyJ0eXBlIjoicGVvcGxlIiwiY29tcGFyZSI6IiIsInRlcm0iOiJQdWVydG8gUmljbywgVVNBIiwiZ2VvTG9jYXRpb25GYWNldCI6WyJQdWVydG8gUmljbywgVS5TLkEuIl0sImdlb0xvY2F0aW9uRmFjZXRSZWNlbnRzIjpbIlB1ZXJ0byBSaWNvLCBVLlMuQS4iXSwicGFnZSI6MSwibGltaXQiOjI1LCJvZmZzZXQiOjAsInNvcnQiOiIiLCJzb3J0VHlwZSI6IiIsImNsZWFyUGFyYW1zIjpmYWxzZSwia2V5d29yZCI6IiIsInBhZ2VUaXRsZSI6Imw6UHVlcnRvIFJpY28sIFUuUy5BLiIsInByYWN0aWNlQXJlYXMiOlsiQWRtaW5pc3RyYXRpdmUgSGVhcmluZ3MgYW5kIEFwcGVhbHMiXX0%3D\n"
     ]
    },
    {
     "name": "stderr",
     "output_type": "stream",
     "text": [
      " 13%|█▎        | 12/91 [06:46<58:22, 44.34s/it]  "
     ]
    },
    {
     "name": "stdout",
     "output_type": "stream",
     "text": [
      "paginas en esta url: 1\n",
      "accediendo a: https://www.martindale.com/search/attorneys-law-firms-articles/?term=Puerto+Rico%2C+USA&params=eyJ0eXBlIjoicGVvcGxlIiwiY29tcGFyZSI6IiIsInRlcm0iOiJQdWVydG8gUmljbywgVVNBIiwiZ2VvTG9jYXRpb25GYWNldCI6WyJQdWVydG8gUmljbywgVS5TLkEuIl0sImdlb0xvY2F0aW9uRmFjZXRSZWNlbnRzIjpbIlB1ZXJ0byBSaWNvLCBVLlMuQS4iXSwicGFnZSI6MSwibGltaXQiOjI1LCJvZmZzZXQiOjAsInNvcnQiOiIiLCJzb3J0VHlwZSI6IiIsImNsZWFyUGFyYW1zIjpmYWxzZSwia2V5d29yZCI6IiIsInBhZ2VUaXRsZSI6Imw6UHVlcnRvIFJpY28sIFUuUy5BLiIsInByYWN0aWNlQXJlYXMiOlsiSW50ZXJuZXQgTGF3Il19\n"
     ]
    },
    {
     "name": "stderr",
     "output_type": "stream",
     "text": [
      " 14%|█▍        | 13/91 [07:09<49:28, 38.06s/it]"
     ]
    },
    {
     "name": "stdout",
     "output_type": "stream",
     "text": [
      "paginas en esta url: 3\n",
      "accediendo a: https://www.martindale.com/search/attorneys-law-firms-articles/?term=Puerto+Rico%2C+USA&params=eyJ0eXBlIjoicGVvcGxlIiwiY29tcGFyZSI6IiIsInRlcm0iOiJQdWVydG8gUmljbywgVVNBIiwiZ2VvTG9jYXRpb25GYWNldCI6WyJQdWVydG8gUmljbywgVS5TLkEuIl0sImdlb0xvY2F0aW9uRmFjZXRSZWNlbnRzIjpbIlB1ZXJ0byBSaWNvLCBVLlMuQS4iXSwicGFnZSI6MSwibGltaXQiOjI1LCJvZmZzZXQiOjAsInNvcnQiOiIiLCJzb3J0VHlwZSI6IiIsImNsZWFyUGFyYW1zIjpmYWxzZSwia2V5d29yZCI6IiIsInBhZ2VUaXRsZSI6Imw6UHVlcnRvIFJpY28sIFUuUy5BLiIsInByYWN0aWNlQXJlYXMiOlsiQWRtaXJhbHR5IGFuZCBNYXJpdGltZSBMYXciXX0%3D\n",
      "https://www.martindale.com/attorney/william-e-naveira-1573993/\n",
      "accediendo a: https://www.martindale.com/search/attorneys-law-firms-articles/?term=Puerto+Rico%2C+USA&params=eyJ0eXBlIjoicGVvcGxlIiwiY29tcGFyZSI6IiIsInRlcm0iOiJQdWVydG8gUmljbywgVVNBIiwiZ2VvTG9jYXRpb25GYWNldCI6WyJQdWVydG8gUmljbywgVS5TLkEuIl0sImdlb0xvY2F0aW9uRmFjZXRSZWNlbnRzIjpbIlB1ZXJ0byBSaWNvLCBVLlMuQS4iXSwicGFnZSI6MSwibGltaXQiOjI1LCJvZmZzZXQiOjAsInNvcnQiOiIiLCJzb3J0VHlwZSI6IiIsImNsZWFyUGFyYW1zIjpmYWxzZSwia2V5d29yZCI6IiIsInBhZ2VUaXRsZSI6Imw6UHVlcnRvIFJpY28sIFUuUy5BLiIsInByYWN0aWNlQXJlYXMiOlsiQWRtaXJhbHR5IGFuZCBNYXJpdGltZSBMYXciXX0%3D&page=2\n",
      "https://www.martindale.com/attorney/carlos-quilichini-teissonniere-1573453/\n",
      "https://www.martindale.com/attorney/celio-cruz-3344137/\n",
      "https://www.martindale.com/attorney/paul-e-calvesbert-borgos-1571947/\n",
      "https://www.martindale.com/attorney/enrique-a-baez-godinez-2024716/\n",
      "https://www.martindale.com/attorney/francisco-j-ortiz-garcia-2000963/\n",
      "accediendo a: https://www.martindale.com/search/attorneys-law-firms-articles/?term=Puerto+Rico%2C+USA&params=eyJ0eXBlIjoicGVvcGxlIiwiY29tcGFyZSI6IiIsInRlcm0iOiJQdWVydG8gUmljbywgVVNBIiwiZ2VvTG9jYXRpb25GYWNldCI6WyJQdWVydG8gUmljbywgVS5TLkEuIl0sImdlb0xvY2F0aW9uRmFjZXRSZWNlbnRzIjpbIlB1ZXJ0byBSaWNvLCBVLlMuQS4iXSwicGFnZSI6MSwibGltaXQiOjI1LCJvZmZzZXQiOjAsInNvcnQiOiIiLCJzb3J0VHlwZSI6IiIsImNsZWFyUGFyYW1zIjpmYWxzZSwia2V5d29yZCI6IiIsInBhZ2VUaXRsZSI6Imw6UHVlcnRvIFJpY28sIFUuUy5BLiIsInByYWN0aWNlQXJlYXMiOlsiQWRtaXJhbHR5IGFuZCBNYXJpdGltZSBMYXciXX0%3D&page=3\n"
     ]
    },
    {
     "name": "stderr",
     "output_type": "stream",
     "text": [
      " 15%|█▌        | 14/91 [07:23<39:12, 30.55s/it]"
     ]
    },
    {
     "name": "stdout",
     "output_type": "stream",
     "text": [
      "paginas en esta url: 1\n",
      "accediendo a: https://www.martindale.com/search/attorneys-law-firms-articles/?term=Puerto+Rico%2C+USA&params=eyJ0eXBlIjoicGVvcGxlIiwiY29tcGFyZSI6IiIsInRlcm0iOiJQdWVydG8gUmljbywgVVNBIiwiZ2VvTG9jYXRpb25GYWNldCI6WyJQdWVydG8gUmljbywgVS5TLkEuIl0sImdlb0xvY2F0aW9uRmFjZXRSZWNlbnRzIjpbIlB1ZXJ0byBSaWNvLCBVLlMuQS4iXSwicGFnZSI6MSwibGltaXQiOjI1LCJvZmZzZXQiOjAsInNvcnQiOiIiLCJzb3J0VHlwZSI6IiIsImNsZWFyUGFyYW1zIjpmYWxzZSwia2V5d29yZCI6IiIsInBhZ2VUaXRsZSI6Imw6UHVlcnRvIFJpY28sIFUuUy5BLiIsInByYWN0aWNlQXJlYXMiOlsiUHJvcGVydHkgTGF3Il19\n",
      "https://www.martindale.com/attorney/alba-i-joubert-pereira-36379330/\n"
     ]
    },
    {
     "name": "stderr",
     "output_type": "stream",
     "text": [
      " 16%|█▋        | 15/91 [07:47<36:12, 28.59s/it]"
     ]
    },
    {
     "name": "stdout",
     "output_type": "stream",
     "text": [
      "paginas en esta url: 2\n",
      "accediendo a: https://www.martindale.com/search/attorneys-law-firms-articles/?term=Puerto+Rico%2C+USA&params=eyJ0eXBlIjoicGVvcGxlIiwiY29tcGFyZSI6IiIsInRlcm0iOiJQdWVydG8gUmljbywgVVNBIiwiZ2VvTG9jYXRpb25GYWNldCI6WyJQdWVydG8gUmljbywgVS5TLkEuIl0sImdlb0xvY2F0aW9uRmFjZXRSZWNlbnRzIjpbIlB1ZXJ0byBSaWNvLCBVLlMuQS4iXSwicGFnZSI6MSwibGltaXQiOjI1LCJvZmZzZXQiOjAsInNvcnQiOiIiLCJzb3J0VHlwZSI6IiIsImNsZWFyUGFyYW1zIjpmYWxzZSwia2V5d29yZCI6IiIsInBhZ2VUaXRsZSI6Imw6UHVlcnRvIFJpY28sIFUuUy5BLiIsInByYWN0aWNlQXJlYXMiOlsiQ29ycG9yYXRlIEZpbmFuY2UiXX0%3D\n",
      "accediendo a: https://www.martindale.com/search/attorneys-law-firms-articles/?term=Puerto+Rico%2C+USA&params=eyJ0eXBlIjoicGVvcGxlIiwiY29tcGFyZSI6IiIsInRlcm0iOiJQdWVydG8gUmljbywgVVNBIiwiZ2VvTG9jYXRpb25GYWNldCI6WyJQdWVydG8gUmljbywgVS5TLkEuIl0sImdlb0xvY2F0aW9uRmFjZXRSZWNlbnRzIjpbIlB1ZXJ0byBSaWNvLCBVLlMuQS4iXSwicGFnZSI6MSwibGltaXQiOjI1LCJvZmZzZXQiOjAsInNvcnQiOiIiLCJzb3J0VHlwZSI6IiIsImNsZWFyUGFyYW1zIjpmYWxzZSwia2V5d29yZCI6IiIsInBhZ2VUaXRsZSI6Imw6UHVlcnRvIFJpY28sIFUuUy5BLiIsInByYWN0aWNlQXJlYXMiOlsiQ29ycG9yYXRlIEZpbmFuY2UiXX0%3D&page=2\n"
     ]
    },
    {
     "name": "stderr",
     "output_type": "stream",
     "text": [
      " 18%|█▊        | 16/91 [07:58<29:07, 23.30s/it]"
     ]
    },
    {
     "name": "stdout",
     "output_type": "stream",
     "text": [
      "paginas en esta url: 1\n",
      "accediendo a: https://www.martindale.com/search/attorneys-law-firms-articles/?term=Puerto+Rico%2C+USA&params=eyJ0eXBlIjoicGVvcGxlIiwiY29tcGFyZSI6IiIsInRlcm0iOiJQdWVydG8gUmljbywgVVNBIiwiZ2VvTG9jYXRpb25GYWNldCI6WyJQdWVydG8gUmljbywgVS5TLkEuIl0sImdlb0xvY2F0aW9uRmFjZXRSZWNlbnRzIjpbIlB1ZXJ0byBSaWNvLCBVLlMuQS4iXSwicGFnZSI6MSwibGltaXQiOjI1LCJvZmZzZXQiOjAsInNvcnQiOiIiLCJzb3J0VHlwZSI6IiIsImNsZWFyUGFyYW1zIjpmYWxzZSwia2V5d29yZCI6IiIsInBhZ2VUaXRsZSI6Imw6UHVlcnRvIFJpY28sIFUuUy5BLiIsInByYWN0aWNlQXJlYXMiOlsiQ29tbWVyY2lhbCBSZWFsIEVzdGF0ZSJdfQ%3D%3D\n"
     ]
    },
    {
     "name": "stderr",
     "output_type": "stream",
     "text": [
      " 19%|█▊        | 17/91 [08:22<29:15, 23.72s/it]"
     ]
    },
    {
     "name": "stdout",
     "output_type": "stream",
     "text": [
      "paginas en esta url: 6\n",
      "accediendo a: https://www.martindale.com/search/attorneys-law-firms-articles/?term=Puerto+Rico%2C+USA&params=eyJ0eXBlIjoicGVvcGxlIiwiY29tcGFyZSI6IiIsInRlcm0iOiJQdWVydG8gUmljbywgVVNBIiwiZ2VvTG9jYXRpb25GYWNldCI6WyJQdWVydG8gUmljbywgVS5TLkEuIl0sImdlb0xvY2F0aW9uRmFjZXRSZWNlbnRzIjpbIlB1ZXJ0byBSaWNvLCBVLlMuQS4iXSwicGFnZSI6MSwibGltaXQiOjI1LCJvZmZzZXQiOjAsInNvcnQiOiIiLCJzb3J0VHlwZSI6IiIsImNsZWFyUGFyYW1zIjpmYWxzZSwia2V5d29yZCI6IiIsInBhZ2VUaXRsZSI6Imw6UHVlcnRvIFJpY28sIFUuUy5BLiIsInByYWN0aWNlQXJlYXMiOlsiQ2l2aWwgUmlnaHRzIl19\n",
      "https://www.martindale.com/attorney/camelia-fernandez-romeu-1572344/\n",
      "accediendo a: https://www.martindale.com/search/attorneys-law-firms-articles/?term=Puerto+Rico%2C+USA&params=eyJ0eXBlIjoicGVvcGxlIiwiY29tcGFyZSI6IiIsInRlcm0iOiJQdWVydG8gUmljbywgVVNBIiwiZ2VvTG9jYXRpb25GYWNldCI6WyJQdWVydG8gUmljbywgVS5TLkEuIl0sImdlb0xvY2F0aW9uRmFjZXRSZWNlbnRzIjpbIlB1ZXJ0byBSaWNvLCBVLlMuQS4iXSwicGFnZSI6MSwibGltaXQiOjI1LCJvZmZzZXQiOjAsInNvcnQiOiIiLCJzb3J0VHlwZSI6IiIsImNsZWFyUGFyYW1zIjpmYWxzZSwia2V5d29yZCI6IiIsInBhZ2VUaXRsZSI6Imw6UHVlcnRvIFJpY28sIFUuUy5BLiIsInByYWN0aWNlQXJlYXMiOlsiQ2l2aWwgUmlnaHRzIl19&page=2\n",
      "accediendo a: https://www.martindale.com/search/attorneys-law-firms-articles/?term=Puerto+Rico%2C+USA&params=eyJ0eXBlIjoicGVvcGxlIiwiY29tcGFyZSI6IiIsInRlcm0iOiJQdWVydG8gUmljbywgVVNBIiwiZ2VvTG9jYXRpb25GYWNldCI6WyJQdWVydG8gUmljbywgVS5TLkEuIl0sImdlb0xvY2F0aW9uRmFjZXRSZWNlbnRzIjpbIlB1ZXJ0byBSaWNvLCBVLlMuQS4iXSwicGFnZSI6MSwibGltaXQiOjI1LCJvZmZzZXQiOjAsInNvcnQiOiIiLCJzb3J0VHlwZSI6IiIsImNsZWFyUGFyYW1zIjpmYWxzZSwia2V5d29yZCI6IiIsInBhZ2VUaXRsZSI6Imw6UHVlcnRvIFJpY28sIFUuUy5BLiIsInByYWN0aWNlQXJlYXMiOlsiQ2l2aWwgUmlnaHRzIl19&page=3\n",
      "accediendo a: https://www.martindale.com/search/attorneys-law-firms-articles/?term=Puerto+Rico%2C+USA&params=eyJ0eXBlIjoicGVvcGxlIiwiY29tcGFyZSI6IiIsInRlcm0iOiJQdWVydG8gUmljbywgVVNBIiwiZ2VvTG9jYXRpb25GYWNldCI6WyJQdWVydG8gUmljbywgVS5TLkEuIl0sImdlb0xvY2F0aW9uRmFjZXRSZWNlbnRzIjpbIlB1ZXJ0byBSaWNvLCBVLlMuQS4iXSwicGFnZSI6MSwibGltaXQiOjI1LCJvZmZzZXQiOjAsInNvcnQiOiIiLCJzb3J0VHlwZSI6IiIsImNsZWFyUGFyYW1zIjpmYWxzZSwia2V5d29yZCI6IiIsInBhZ2VUaXRsZSI6Imw6UHVlcnRvIFJpY28sIFUuUy5BLiIsInByYWN0aWNlQXJlYXMiOlsiQ2l2aWwgUmlnaHRzIl19&page=4\n",
      "https://www.martindale.com/attorney/angel-a-valencia-aponte-1571785/\n",
      "accediendo a: https://www.martindale.com/search/attorneys-law-firms-articles/?term=Puerto+Rico%2C+USA&params=eyJ0eXBlIjoicGVvcGxlIiwiY29tcGFyZSI6IiIsInRlcm0iOiJQdWVydG8gUmljbywgVVNBIiwiZ2VvTG9jYXRpb25GYWNldCI6WyJQdWVydG8gUmljbywgVS5TLkEuIl0sImdlb0xvY2F0aW9uRmFjZXRSZWNlbnRzIjpbIlB1ZXJ0byBSaWNvLCBVLlMuQS4iXSwicGFnZSI6MSwibGltaXQiOjI1LCJvZmZzZXQiOjAsInNvcnQiOiIiLCJzb3J0VHlwZSI6IiIsImNsZWFyUGFyYW1zIjpmYWxzZSwia2V5d29yZCI6IiIsInBhZ2VUaXRsZSI6Imw6UHVlcnRvIFJpY28sIFUuUy5BLiIsInByYWN0aWNlQXJlYXMiOlsiQ2l2aWwgUmlnaHRzIl19&page=5\n",
      "https://www.martindale.com/attorney/raymond-e-morales-1571439/\n",
      "accediendo a: https://www.martindale.com/search/attorneys-law-firms-articles/?term=Puerto+Rico%2C+USA&params=eyJ0eXBlIjoicGVvcGxlIiwiY29tcGFyZSI6IiIsInRlcm0iOiJQdWVydG8gUmljbywgVVNBIiwiZ2VvTG9jYXRpb25GYWNldCI6WyJQdWVydG8gUmljbywgVS5TLkEuIl0sImdlb0xvY2F0aW9uRmFjZXRSZWNlbnRzIjpbIlB1ZXJ0byBSaWNvLCBVLlMuQS4iXSwicGFnZSI6MSwibGltaXQiOjI1LCJvZmZzZXQiOjAsInNvcnQiOiIiLCJzb3J0VHlwZSI6IiIsImNsZWFyUGFyYW1zIjpmYWxzZSwia2V5d29yZCI6IiIsInBhZ2VUaXRsZSI6Imw6UHVlcnRvIFJpY28sIFUuUy5BLiIsInByYWN0aWNlQXJlYXMiOlsiQ2l2aWwgUmlnaHRzIl19&page=6\n"
     ]
    },
    {
     "name": "stderr",
     "output_type": "stream",
     "text": [
      " 20%|█▉        | 18/91 [08:41<27:00, 22.20s/it]"
     ]
    },
    {
     "name": "stdout",
     "output_type": "stream",
     "text": [
      "paginas en esta url: 3\n",
      "accediendo a: https://www.martindale.com/search/attorneys-law-firms-articles/?term=Puerto+Rico%2C+USA&params=eyJ0eXBlIjoicGVvcGxlIiwiY29tcGFyZSI6IiIsInRlcm0iOiJQdWVydG8gUmljbywgVVNBIiwiZ2VvTG9jYXRpb25GYWNldCI6WyJQdWVydG8gUmljbywgVS5TLkEuIl0sImdlb0xvY2F0aW9uRmFjZXRSZWNlbnRzIjpbIlB1ZXJ0byBSaWNvLCBVLlMuQS4iXSwicGFnZSI6MSwibGltaXQiOjI1LCJvZmZzZXQiOjAsInNvcnQiOiIiLCJzb3J0VHlwZSI6IiIsImNsZWFyUGFyYW1zIjpmYWxzZSwia2V5d29yZCI6IiIsInBhZ2VUaXRsZSI6Imw6UHVlcnRvIFJpY28sIFUuUy5BLiIsInByYWN0aWNlQXJlYXMiOlsiTW9ydGdhZ2VzIl19\n",
      "accediendo a: https://www.martindale.com/search/attorneys-law-firms-articles/?term=Puerto+Rico%2C+USA&params=eyJ0eXBlIjoicGVvcGxlIiwiY29tcGFyZSI6IiIsInRlcm0iOiJQdWVydG8gUmljbywgVVNBIiwiZ2VvTG9jYXRpb25GYWNldCI6WyJQdWVydG8gUmljbywgVS5TLkEuIl0sImdlb0xvY2F0aW9uRmFjZXRSZWNlbnRzIjpbIlB1ZXJ0byBSaWNvLCBVLlMuQS4iXSwicGFnZSI6MSwibGltaXQiOjI1LCJvZmZzZXQiOjAsInNvcnQiOiIiLCJzb3J0VHlwZSI6IiIsImNsZWFyUGFyYW1zIjpmYWxzZSwia2V5d29yZCI6IiIsInBhZ2VUaXRsZSI6Imw6UHVlcnRvIFJpY28sIFUuUy5BLiIsInByYWN0aWNlQXJlYXMiOlsiTW9ydGdhZ2VzIl19&page=2\n",
      "accediendo a: https://www.martindale.com/search/attorneys-law-firms-articles/?term=Puerto+Rico%2C+USA&params=eyJ0eXBlIjoicGVvcGxlIiwiY29tcGFyZSI6IiIsInRlcm0iOiJQdWVydG8gUmljbywgVVNBIiwiZ2VvTG9jYXRpb25GYWNldCI6WyJQdWVydG8gUmljbywgVS5TLkEuIl0sImdlb0xvY2F0aW9uRmFjZXRSZWNlbnRzIjpbIlB1ZXJ0byBSaWNvLCBVLlMuQS4iXSwicGFnZSI6MSwibGltaXQiOjI1LCJvZmZzZXQiOjAsInNvcnQiOiIiLCJzb3J0VHlwZSI6IiIsImNsZWFyUGFyYW1zIjpmYWxzZSwia2V5d29yZCI6IiIsInBhZ2VUaXRsZSI6Imw6UHVlcnRvIFJpY28sIFUuUy5BLiIsInByYWN0aWNlQXJlYXMiOlsiTW9ydGdhZ2VzIl19&page=3\n"
     ]
    },
    {
     "name": "stderr",
     "output_type": "stream",
     "text": [
      " 21%|██        | 19/91 [08:55<23:38, 19.70s/it]"
     ]
    },
    {
     "name": "stdout",
     "output_type": "stream",
     "text": [
      "paginas en esta url: 1\n",
      "accediendo a: https://www.martindale.com/search/attorneys-law-firms-articles/?term=Puerto+Rico%2C+USA&params=eyJ0eXBlIjoicGVvcGxlIiwiY29tcGFyZSI6IiIsInRlcm0iOiJQdWVydG8gUmljbywgVVNBIiwiZ2VvTG9jYXRpb25GYWNldCI6WyJQdWVydG8gUmljbywgVS5TLkEuIl0sImdlb0xvY2F0aW9uRmFjZXRSZWNlbnRzIjpbIlB1ZXJ0byBSaWNvLCBVLlMuQS4iXSwicGFnZSI6MSwibGltaXQiOjI1LCJvZmZzZXQiOjAsInNvcnQiOiIiLCJzb3J0VHlwZSI6IiIsImNsZWFyUGFyYW1zIjpmYWxzZSwia2V5d29yZCI6IiIsInBhZ2VUaXRsZSI6Imw6UHVlcnRvIFJpY28sIFUuUy5BLiIsInByYWN0aWNlQXJlYXMiOlsiQ2hpbGQgQ3VzdG9keSJdfQ%3D%3D\n"
     ]
    },
    {
     "name": "stderr",
     "output_type": "stream",
     "text": [
      " 22%|██▏       | 20/91 [09:20<25:08, 21.25s/it]"
     ]
    },
    {
     "name": "stdout",
     "output_type": "stream",
     "text": [
      "paginas en esta url: 2\n",
      "accediendo a: https://www.martindale.com/search/attorneys-law-firms-articles/?term=Puerto+Rico%2C+USA&params=eyJ0eXBlIjoicGVvcGxlIiwiY29tcGFyZSI6IiIsInRlcm0iOiJQdWVydG8gUmljbywgVVNBIiwiZ2VvTG9jYXRpb25GYWNldCI6WyJQdWVydG8gUmljbywgVS5TLkEuIl0sImdlb0xvY2F0aW9uRmFjZXRSZWNlbnRzIjpbIlB1ZXJ0byBSaWNvLCBVLlMuQS4iXSwicGFnZSI6MSwibGltaXQiOjI1LCJvZmZzZXQiOjAsInNvcnQiOiIiLCJzb3J0VHlwZSI6IiIsImNsZWFyUGFyYW1zIjpmYWxzZSwia2V5d29yZCI6IiIsInBhZ2VUaXRsZSI6Imw6UHVlcnRvIFJpY28sIFUuUy5BLiIsInByYWN0aWNlQXJlYXMiOlsiWm9uaW5nLCBQbGFubmluZyBhbmQgTGFuZCBVc2UiXX0%3D\n",
      "accediendo a: https://www.martindale.com/search/attorneys-law-firms-articles/?term=Puerto+Rico%2C+USA&params=eyJ0eXBlIjoicGVvcGxlIiwiY29tcGFyZSI6IiIsInRlcm0iOiJQdWVydG8gUmljbywgVVNBIiwiZ2VvTG9jYXRpb25GYWNldCI6WyJQdWVydG8gUmljbywgVS5TLkEuIl0sImdlb0xvY2F0aW9uRmFjZXRSZWNlbnRzIjpbIlB1ZXJ0byBSaWNvLCBVLlMuQS4iXSwicGFnZSI6MSwibGltaXQiOjI1LCJvZmZzZXQiOjAsInNvcnQiOiIiLCJzb3J0VHlwZSI6IiIsImNsZWFyUGFyYW1zIjpmYWxzZSwia2V5d29yZCI6IiIsInBhZ2VUaXRsZSI6Imw6UHVlcnRvIFJpY28sIFUuUy5BLiIsInByYWN0aWNlQXJlYXMiOlsiWm9uaW5nLCBQbGFubmluZyBhbmQgTGFuZCBVc2UiXX0%3D&page=2\n"
     ]
    },
    {
     "name": "stderr",
     "output_type": "stream",
     "text": [
      " 23%|██▎       | 21/91 [09:33<21:52, 18.76s/it]"
     ]
    },
    {
     "name": "stdout",
     "output_type": "stream",
     "text": [
      "paginas en esta url: 2\n",
      "accediendo a: https://www.martindale.com/search/attorneys-law-firms-articles/?term=Puerto+Rico%2C+USA&params=eyJ0eXBlIjoicGVvcGxlIiwiY29tcGFyZSI6IiIsInRlcm0iOiJQdWVydG8gUmljbywgVVNBIiwiZ2VvTG9jYXRpb25GYWNldCI6WyJQdWVydG8gUmljbywgVS5TLkEuIl0sImdlb0xvY2F0aW9uRmFjZXRSZWNlbnRzIjpbIlB1ZXJ0byBSaWNvLCBVLlMuQS4iXSwicGFnZSI6MSwibGltaXQiOjI1LCJvZmZzZXQiOjAsInNvcnQiOiIiLCJzb3J0VHlwZSI6IiIsImNsZWFyUGFyYW1zIjpmYWxzZSwia2V5d29yZCI6IiIsInBhZ2VUaXRsZSI6Imw6UHVlcnRvIFJpY28sIFUuUy5BLiIsInByYWN0aWNlQXJlYXMiOlsiQXZpYXRpb24gTGF3Il19\n",
      "accediendo a: https://www.martindale.com/search/attorneys-law-firms-articles/?term=Puerto+Rico%2C+USA&params=eyJ0eXBlIjoicGVvcGxlIiwiY29tcGFyZSI6IiIsInRlcm0iOiJQdWVydG8gUmljbywgVVNBIiwiZ2VvTG9jYXRpb25GYWNldCI6WyJQdWVydG8gUmljbywgVS5TLkEuIl0sImdlb0xvY2F0aW9uRmFjZXRSZWNlbnRzIjpbIlB1ZXJ0byBSaWNvLCBVLlMuQS4iXSwicGFnZSI6MSwibGltaXQiOjI1LCJvZmZzZXQiOjAsInNvcnQiOiIiLCJzb3J0VHlwZSI6IiIsImNsZWFyUGFyYW1zIjpmYWxzZSwia2V5d29yZCI6IiIsInBhZ2VUaXRsZSI6Imw6UHVlcnRvIFJpY28sIFUuUy5BLiIsInByYWN0aWNlQXJlYXMiOlsiQXZpYXRpb24gTGF3Il19&page=2\n"
     ]
    },
    {
     "name": "stderr",
     "output_type": "stream",
     "text": [
      " 24%|██▍       | 22/91 [09:44<19:06, 16.61s/it]"
     ]
    },
    {
     "name": "stdout",
     "output_type": "stream",
     "text": [
      "paginas en esta url: 1\n",
      "accediendo a: https://www.martindale.com/search/attorneys-law-firms-articles/?term=Puerto+Rico%2C+USA&params=eyJ0eXBlIjoicGVvcGxlIiwiY29tcGFyZSI6IiIsInRlcm0iOiJQdWVydG8gUmljbywgVVNBIiwiZ2VvTG9jYXRpb25GYWNldCI6WyJQdWVydG8gUmljbywgVS5TLkEuIl0sImdlb0xvY2F0aW9uRmFjZXRSZWNlbnRzIjpbIlB1ZXJ0byBSaWNvLCBVLlMuQS4iXSwicGFnZSI6MSwibGltaXQiOjI1LCJvZmZzZXQiOjAsInNvcnQiOiIiLCJzb3J0VHlwZSI6IiIsImNsZWFyUGFyYW1zIjpmYWxzZSwia2V5d29yZCI6IiIsInBhZ2VUaXRsZSI6Imw6UHVlcnRvIFJpY28sIFUuUy5BLiIsInByYWN0aWNlQXJlYXMiOlsiQ3JlZGl0b3JzIFJpZ2h0cyJdfQ%3D%3D\n"
     ]
    },
    {
     "name": "stderr",
     "output_type": "stream",
     "text": [
      " 25%|██▌       | 23/91 [10:09<21:44, 19.18s/it]"
     ]
    },
    {
     "name": "stdout",
     "output_type": "stream",
     "text": [
      "paginas en esta url: 5\n",
      "accediendo a: https://www.martindale.com/search/attorneys-law-firms-articles/?term=Puerto+Rico%2C+USA&params=eyJ0eXBlIjoicGVvcGxlIiwiY29tcGFyZSI6IiIsInRlcm0iOiJQdWVydG8gUmljbywgVVNBIiwiZ2VvTG9jYXRpb25GYWNldCI6WyJQdWVydG8gUmljbywgVS5TLkEuIl0sImdlb0xvY2F0aW9uRmFjZXRSZWNlbnRzIjpbIlB1ZXJ0byBSaWNvLCBVLlMuQS4iXSwicGFnZSI6MSwibGltaXQiOjI1LCJvZmZzZXQiOjAsInNvcnQiOiIiLCJzb3J0VHlwZSI6IiIsImNsZWFyUGFyYW1zIjpmYWxzZSwia2V5d29yZCI6IiIsInBhZ2VUaXRsZSI6Imw6UHVlcnRvIFJpY28sIFUuUy5BLiIsInByYWN0aWNlQXJlYXMiOlsiV2lsbHMgYW5kIFByb2JhdGUiXX0%3D\n",
      "accediendo a: https://www.martindale.com/search/attorneys-law-firms-articles/?term=Puerto+Rico%2C+USA&params=eyJ0eXBlIjoicGVvcGxlIiwiY29tcGFyZSI6IiIsInRlcm0iOiJQdWVydG8gUmljbywgVVNBIiwiZ2VvTG9jYXRpb25GYWNldCI6WyJQdWVydG8gUmljbywgVS5TLkEuIl0sImdlb0xvY2F0aW9uRmFjZXRSZWNlbnRzIjpbIlB1ZXJ0byBSaWNvLCBVLlMuQS4iXSwicGFnZSI6MSwibGltaXQiOjI1LCJvZmZzZXQiOjAsInNvcnQiOiIiLCJzb3J0VHlwZSI6IiIsImNsZWFyUGFyYW1zIjpmYWxzZSwia2V5d29yZCI6IiIsInBhZ2VUaXRsZSI6Imw6UHVlcnRvIFJpY28sIFUuUy5BLiIsInByYWN0aWNlQXJlYXMiOlsiV2lsbHMgYW5kIFByb2JhdGUiXX0%3D&page=2\n",
      "accediendo a: https://www.martindale.com/search/attorneys-law-firms-articles/?term=Puerto+Rico%2C+USA&params=eyJ0eXBlIjoicGVvcGxlIiwiY29tcGFyZSI6IiIsInRlcm0iOiJQdWVydG8gUmljbywgVVNBIiwiZ2VvTG9jYXRpb25GYWNldCI6WyJQdWVydG8gUmljbywgVS5TLkEuIl0sImdlb0xvY2F0aW9uRmFjZXRSZWNlbnRzIjpbIlB1ZXJ0byBSaWNvLCBVLlMuQS4iXSwicGFnZSI6MSwibGltaXQiOjI1LCJvZmZzZXQiOjAsInNvcnQiOiIiLCJzb3J0VHlwZSI6IiIsImNsZWFyUGFyYW1zIjpmYWxzZSwia2V5d29yZCI6IiIsInBhZ2VUaXRsZSI6Imw6UHVlcnRvIFJpY28sIFUuUy5BLiIsInByYWN0aWNlQXJlYXMiOlsiV2lsbHMgYW5kIFByb2JhdGUiXX0%3D&page=3\n",
      "accediendo a: https://www.martindale.com/search/attorneys-law-firms-articles/?term=Puerto+Rico%2C+USA&params=eyJ0eXBlIjoicGVvcGxlIiwiY29tcGFyZSI6IiIsInRlcm0iOiJQdWVydG8gUmljbywgVVNBIiwiZ2VvTG9jYXRpb25GYWNldCI6WyJQdWVydG8gUmljbywgVS5TLkEuIl0sImdlb0xvY2F0aW9uRmFjZXRSZWNlbnRzIjpbIlB1ZXJ0byBSaWNvLCBVLlMuQS4iXSwicGFnZSI6MSwibGltaXQiOjI1LCJvZmZzZXQiOjAsInNvcnQiOiIiLCJzb3J0VHlwZSI6IiIsImNsZWFyUGFyYW1zIjpmYWxzZSwia2V5d29yZCI6IiIsInBhZ2VUaXRsZSI6Imw6UHVlcnRvIFJpY28sIFUuUy5BLiIsInByYWN0aWNlQXJlYXMiOlsiV2lsbHMgYW5kIFByb2JhdGUiXX0%3D&page=4\n",
      "accediendo a: https://www.martindale.com/search/attorneys-law-firms-articles/?term=Puerto+Rico%2C+USA&params=eyJ0eXBlIjoicGVvcGxlIiwiY29tcGFyZSI6IiIsInRlcm0iOiJQdWVydG8gUmljbywgVVNBIiwiZ2VvTG9jYXRpb25GYWNldCI6WyJQdWVydG8gUmljbywgVS5TLkEuIl0sImdlb0xvY2F0aW9uRmFjZXRSZWNlbnRzIjpbIlB1ZXJ0byBSaWNvLCBVLlMuQS4iXSwicGFnZSI6MSwibGltaXQiOjI1LCJvZmZzZXQiOjAsInNvcnQiOiIiLCJzb3J0VHlwZSI6IiIsImNsZWFyUGFyYW1zIjpmYWxzZSwia2V5d29yZCI6IiIsInBhZ2VUaXRsZSI6Imw6UHVlcnRvIFJpY28sIFUuUy5BLiIsInByYWN0aWNlQXJlYXMiOlsiV2lsbHMgYW5kIFByb2JhdGUiXX0%3D&page=5\n"
     ]
    },
    {
     "name": "stderr",
     "output_type": "stream",
     "text": [
      " 26%|██▋       | 24/91 [10:24<19:48, 17.75s/it]"
     ]
    },
    {
     "name": "stdout",
     "output_type": "stream",
     "text": [
      "paginas en esta url: 10\n",
      "accediendo a: https://www.martindale.com/search/attorneys-law-firms-articles/?term=Puerto+Rico%2C+USA&params=eyJ0eXBlIjoicGVvcGxlIiwiY29tcGFyZSI6IiIsInRlcm0iOiJQdWVydG8gUmljbywgVVNBIiwiZ2VvTG9jYXRpb25GYWNldCI6WyJQdWVydG8gUmljbywgVS5TLkEuIl0sImdlb0xvY2F0aW9uRmFjZXRSZWNlbnRzIjpbIlB1ZXJ0byBSaWNvLCBVLlMuQS4iXSwicGFnZSI6MSwibGltaXQiOjI1LCJvZmZzZXQiOjAsInNvcnQiOiIiLCJzb3J0VHlwZSI6IiIsImNsZWFyUGFyYW1zIjpmYWxzZSwia2V5d29yZCI6IiIsInBhZ2VUaXRsZSI6Imw6UHVlcnRvIFJpY28sIFUuUy5BLiIsInByYWN0aWNlQXJlYXMiOlsiVGF4YXRpb24iXX0%3D\n",
      "https://www.martindale.com/attorney/angel-r-marzan-santiago-1573336/\n",
      "https://www.martindale.com/attorney/cesar-r-rosario-vega-1572760/\n",
      "accediendo a: https://www.martindale.com/search/attorneys-law-firms-articles/?term=Puerto+Rico%2C+USA&params=eyJ0eXBlIjoicGVvcGxlIiwiY29tcGFyZSI6IiIsInRlcm0iOiJQdWVydG8gUmljbywgVVNBIiwiZ2VvTG9jYXRpb25GYWNldCI6WyJQdWVydG8gUmljbywgVS5TLkEuIl0sImdlb0xvY2F0aW9uRmFjZXRSZWNlbnRzIjpbIlB1ZXJ0byBSaWNvLCBVLlMuQS4iXSwicGFnZSI6MSwibGltaXQiOjI1LCJvZmZzZXQiOjAsInNvcnQiOiIiLCJzb3J0VHlwZSI6IiIsImNsZWFyUGFyYW1zIjpmYWxzZSwia2V5d29yZCI6IiIsInBhZ2VUaXRsZSI6Imw6UHVlcnRvIFJpY28sIFUuUy5BLiIsInByYWN0aWNlQXJlYXMiOlsiVGF4YXRpb24iXX0%3D&page=2\n",
      "https://www.martindale.com/attorney/manuel-lopez-zambrana-3568933/\n",
      "https://www.martindale.com/attorney/waleska-i-aldebol-mora-1572589/\n",
      "https://www.martindale.com/attorney/german-ojeda-bracero-1572569/\n",
      "https://www.martindale.com/attorney/miguel-a-santiago-rivera-1572352/\n",
      "https://www.martindale.com/attorney/juan-c-mendez-torres-1573337/\n",
      "https://www.martindale.com/attorney/juan-l-alonso-rodriguez-2005148/\n",
      "accediendo a: https://www.martindale.com/search/attorneys-law-firms-articles/?term=Puerto+Rico%2C+USA&params=eyJ0eXBlIjoicGVvcGxlIiwiY29tcGFyZSI6IiIsInRlcm0iOiJQdWVydG8gUmljbywgVVNBIiwiZ2VvTG9jYXRpb25GYWNldCI6WyJQdWVydG8gUmljbywgVS5TLkEuIl0sImdlb0xvY2F0aW9uRmFjZXRSZWNlbnRzIjpbIlB1ZXJ0byBSaWNvLCBVLlMuQS4iXSwicGFnZSI6MSwibGltaXQiOjI1LCJvZmZzZXQiOjAsInNvcnQiOiIiLCJzb3J0VHlwZSI6IiIsImNsZWFyUGFyYW1zIjpmYWxzZSwia2V5d29yZCI6IiIsInBhZ2VUaXRsZSI6Imw6UHVlcnRvIFJpY28sIFUuUy5BLiIsInByYWN0aWNlQXJlYXMiOlsiVGF4YXRpb24iXX0%3D&page=3\n",
      "https://www.martindale.com/attorney/joseph-t-wynne-1573286/\n",
      "https://www.martindale.com/attorney/cristina-i-morazzani-jove-20417046/\n",
      "https://www.martindale.com/attorney/jose-m-falcon-melendez-2584424/\n",
      "https://www.martindale.com/attorney/gloriana-a-rodriguez-martinez-2726561/\n",
      "accediendo a: https://www.martindale.com/search/attorneys-law-firms-articles/?term=Puerto+Rico%2C+USA&params=eyJ0eXBlIjoicGVvcGxlIiwiY29tcGFyZSI6IiIsInRlcm0iOiJQdWVydG8gUmljbywgVVNBIiwiZ2VvTG9jYXRpb25GYWNldCI6WyJQdWVydG8gUmljbywgVS5TLkEuIl0sImdlb0xvY2F0aW9uRmFjZXRSZWNlbnRzIjpbIlB1ZXJ0byBSaWNvLCBVLlMuQS4iXSwicGFnZSI6MSwibGltaXQiOjI1LCJvZmZzZXQiOjAsInNvcnQiOiIiLCJzb3J0VHlwZSI6IiIsImNsZWFyUGFyYW1zIjpmYWxzZSwia2V5d29yZCI6IiIsInBhZ2VUaXRsZSI6Imw6UHVlcnRvIFJpY28sIFUuUy5BLiIsInByYWN0aWNlQXJlYXMiOlsiVGF4YXRpb24iXX0%3D&page=4\n",
      "https://www.martindale.com/attorney/cesar-gomez-negron-1572502/\n",
      "https://www.martindale.com/attorney/john-marvin-hyre-esq-2484208/\n",
      "https://www.martindale.com/attorney/edward-rodriguez-rodriguez-4349075/\n",
      "https://www.martindale.com/attorney/salvador-jimenez-santoni-1573412/\n",
      "https://www.martindale.com/attorney/juan-a-santos-berrios-1572465/\n",
      "accediendo a: https://www.martindale.com/search/attorneys-law-firms-articles/?term=Puerto+Rico%2C+USA&params=eyJ0eXBlIjoicGVvcGxlIiwiY29tcGFyZSI6IiIsInRlcm0iOiJQdWVydG8gUmljbywgVVNBIiwiZ2VvTG9jYXRpb25GYWNldCI6WyJQdWVydG8gUmljbywgVS5TLkEuIl0sImdlb0xvY2F0aW9uRmFjZXRSZWNlbnRzIjpbIlB1ZXJ0byBSaWNvLCBVLlMuQS4iXSwicGFnZSI6MSwibGltaXQiOjI1LCJvZmZzZXQiOjAsInNvcnQiOiIiLCJzb3J0VHlwZSI6IiIsImNsZWFyUGFyYW1zIjpmYWxzZSwia2V5d29yZCI6IiIsInBhZ2VUaXRsZSI6Imw6UHVlcnRvIFJpY28sIFUuUy5BLiIsInByYWN0aWNlQXJlYXMiOlsiVGF4YXRpb24iXX0%3D&page=5\n",
      "https://www.martindale.com/attorney/jose-rodriguez-suarez-1572228/\n",
      "accediendo a: https://www.martindale.com/search/attorneys-law-firms-articles/?term=Puerto+Rico%2C+USA&params=eyJ0eXBlIjoicGVvcGxlIiwiY29tcGFyZSI6IiIsInRlcm0iOiJQdWVydG8gUmljbywgVVNBIiwiZ2VvTG9jYXRpb25GYWNldCI6WyJQdWVydG8gUmljbywgVS5TLkEuIl0sImdlb0xvY2F0aW9uRmFjZXRSZWNlbnRzIjpbIlB1ZXJ0byBSaWNvLCBVLlMuQS4iXSwicGFnZSI6MSwibGltaXQiOjI1LCJvZmZzZXQiOjAsInNvcnQiOiIiLCJzb3J0VHlwZSI6IiIsImNsZWFyUGFyYW1zIjpmYWxzZSwia2V5d29yZCI6IiIsInBhZ2VUaXRsZSI6Imw6UHVlcnRvIFJpY28sIFUuUy5BLiIsInByYWN0aWNlQXJlYXMiOlsiVGF4YXRpb24iXX0%3D&page=6\n",
      "https://www.martindale.com/attorney/ana-christina-guzman-1572542/\n",
      "https://www.martindale.com/attorney/ana-m-leal-gamba-1573640/\n",
      "https://www.martindale.com/attorney/francisco-fernandez-alvarez-1573136/\n",
      "https://www.martindale.com/attorney/manuel-lopez-zambrana-1573429/\n",
      "https://www.martindale.com/attorney/angel-d-marrero-murga-24485746/\n",
      "https://www.martindale.com/attorney/roxana-cruz-rivera-3967300/\n",
      "accediendo a: https://www.martindale.com/search/attorneys-law-firms-articles/?term=Puerto+Rico%2C+USA&params=eyJ0eXBlIjoicGVvcGxlIiwiY29tcGFyZSI6IiIsInRlcm0iOiJQdWVydG8gUmljbywgVVNBIiwiZ2VvTG9jYXRpb25GYWNldCI6WyJQdWVydG8gUmljbywgVS5TLkEuIl0sImdlb0xvY2F0aW9uRmFjZXRSZWNlbnRzIjpbIlB1ZXJ0byBSaWNvLCBVLlMuQS4iXSwicGFnZSI6MSwibGltaXQiOjI1LCJvZmZzZXQiOjAsInNvcnQiOiIiLCJzb3J0VHlwZSI6IiIsImNsZWFyUGFyYW1zIjpmYWxzZSwia2V5d29yZCI6IiIsInBhZ2VUaXRsZSI6Imw6UHVlcnRvIFJpY28sIFUuUy5BLiIsInByYWN0aWNlQXJlYXMiOlsiVGF4YXRpb24iXX0%3D&page=7\n",
      "https://www.martindale.com/attorney/waldemar-fabery-villaespesa-1572227/\n",
      "https://www.martindale.com/attorney/jose-e-villamarzo-santiago-2298741/\n",
      "https://www.martindale.com/attorney/angel-s-ruiz-rodriguez-1572586/\n",
      "accediendo a: https://www.martindale.com/search/attorneys-law-firms-articles/?term=Puerto+Rico%2C+USA&params=eyJ0eXBlIjoicGVvcGxlIiwiY29tcGFyZSI6IiIsInRlcm0iOiJQdWVydG8gUmljbywgVVNBIiwiZ2VvTG9jYXRpb25GYWNldCI6WyJQdWVydG8gUmljbywgVS5TLkEuIl0sImdlb0xvY2F0aW9uRmFjZXRSZWNlbnRzIjpbIlB1ZXJ0byBSaWNvLCBVLlMuQS4iXSwicGFnZSI6MSwibGltaXQiOjI1LCJvZmZzZXQiOjAsInNvcnQiOiIiLCJzb3J0VHlwZSI6IiIsImNsZWFyUGFyYW1zIjpmYWxzZSwia2V5d29yZCI6IiIsInBhZ2VUaXRsZSI6Imw6UHVlcnRvIFJpY28sIFUuUy5BLiIsInByYWN0aWNlQXJlYXMiOlsiVGF4YXRpb24iXX0%3D&page=8\n",
      "https://www.martindale.com/attorney/amaya-iraolagoitia-fernandez-23346774/\n",
      "https://www.martindale.com/attorney/luisa-wert-serrano-1573173/\n",
      "https://www.martindale.com/attorney/eduardo-h-martinez-echeverria-1573313/\n",
      "https://www.martindale.com/attorney/manuel-e-elias-rivera-1572564/\n",
      "https://www.martindale.com/attorney/rene-aviles-garcia-esq-2662572/\n",
      "https://www.martindale.com/attorney/edwin-f-galarza-vega-1572600/\n",
      "https://www.martindale.com/attorney/mariano-a-mier-1994864/\n",
      "accediendo a: https://www.martindale.com/search/attorneys-law-firms-articles/?term=Puerto+Rico%2C+USA&params=eyJ0eXBlIjoicGVvcGxlIiwiY29tcGFyZSI6IiIsInRlcm0iOiJQdWVydG8gUmljbywgVVNBIiwiZ2VvTG9jYXRpb25GYWNldCI6WyJQdWVydG8gUmljbywgVS5TLkEuIl0sImdlb0xvY2F0aW9uRmFjZXRSZWNlbnRzIjpbIlB1ZXJ0byBSaWNvLCBVLlMuQS4iXSwicGFnZSI6MSwibGltaXQiOjI1LCJvZmZzZXQiOjAsInNvcnQiOiIiLCJzb3J0VHlwZSI6IiIsImNsZWFyUGFyYW1zIjpmYWxzZSwia2V5d29yZCI6IiIsInBhZ2VUaXRsZSI6Imw6UHVlcnRvIFJpY28sIFUuUy5BLiIsInByYWN0aWNlQXJlYXMiOlsiVGF4YXRpb24iXX0%3D&page=9\n",
      "https://www.martindale.com/attorney/alexis-hernandez-38046892/\n",
      "https://www.martindale.com/attorney/jeanelle-alemar-escabi-27100187/\n",
      "https://www.martindale.com/attorney/erick-g-negron-1574102/\n",
      "https://www.martindale.com/attorney/roberto-b-suarez-1572484/\n",
      "https://www.martindale.com/attorney/javier-rivera-longchamps-1572862/\n",
      "https://www.martindale.com/attorney/ana-maria-bigas-kennerley-1573371/\n",
      "https://www.martindale.com/attorney/maria-luz-lopez-24270942/\n",
      "accediendo a: https://www.martindale.com/search/attorneys-law-firms-articles/?term=Puerto+Rico%2C+USA&params=eyJ0eXBlIjoicGVvcGxlIiwiY29tcGFyZSI6IiIsInRlcm0iOiJQdWVydG8gUmljbywgVVNBIiwiZ2VvTG9jYXRpb25GYWNldCI6WyJQdWVydG8gUmljbywgVS5TLkEuIl0sImdlb0xvY2F0aW9uRmFjZXRSZWNlbnRzIjpbIlB1ZXJ0byBSaWNvLCBVLlMuQS4iXSwicGFnZSI6MSwibGltaXQiOjI1LCJvZmZzZXQiOjAsInNvcnQiOiIiLCJzb3J0VHlwZSI6IiIsImNsZWFyUGFyYW1zIjpmYWxzZSwia2V5d29yZCI6IiIsInBhZ2VUaXRsZSI6Imw6UHVlcnRvIFJpY28sIFUuUy5BLiIsInByYWN0aWNlQXJlYXMiOlsiVGF4YXRpb24iXX0%3D&page=10\n"
     ]
    },
    {
     "name": "stderr",
     "output_type": "stream",
     "text": [
      " 27%|██▋       | 25/91 [10:47<21:16, 19.34s/it]"
     ]
    },
    {
     "name": "stdout",
     "output_type": "stream",
     "text": [
      "paginas en esta url: 3\n",
      "accediendo a: https://www.martindale.com/search/attorneys-law-firms-articles/?term=Puerto+Rico%2C+USA&params=eyJ0eXBlIjoicGVvcGxlIiwiY29tcGFyZSI6IiIsInRlcm0iOiJQdWVydG8gUmljbywgVVNBIiwiZ2VvTG9jYXRpb25GYWNldCI6WyJQdWVydG8gUmljbywgVS5TLkEuIl0sImdlb0xvY2F0aW9uRmFjZXRSZWNlbnRzIjpbIlB1ZXJ0byBSaWNvLCBVLlMuQS4iXSwicGFnZSI6MSwibGltaXQiOjI1LCJvZmZzZXQiOjAsInNvcnQiOiIiLCJzb3J0VHlwZSI6IiIsImNsZWFyUGFyYW1zIjpmYWxzZSwia2V5d29yZCI6IiIsInBhZ2VUaXRsZSI6Imw6UHVlcnRvIFJpY28sIFUuUy5BLiIsInByYWN0aWNlQXJlYXMiOlsiQW50aXRydXN0IGFuZCBUcmFkZSBSZWd1bGF0aW9uIl19\n",
      "accediendo a: https://www.martindale.com/search/attorneys-law-firms-articles/?term=Puerto+Rico%2C+USA&params=eyJ0eXBlIjoicGVvcGxlIiwiY29tcGFyZSI6IiIsInRlcm0iOiJQdWVydG8gUmljbywgVVNBIiwiZ2VvTG9jYXRpb25GYWNldCI6WyJQdWVydG8gUmljbywgVS5TLkEuIl0sImdlb0xvY2F0aW9uRmFjZXRSZWNlbnRzIjpbIlB1ZXJ0byBSaWNvLCBVLlMuQS4iXSwicGFnZSI6MSwibGltaXQiOjI1LCJvZmZzZXQiOjAsInNvcnQiOiIiLCJzb3J0VHlwZSI6IiIsImNsZWFyUGFyYW1zIjpmYWxzZSwia2V5d29yZCI6IiIsInBhZ2VUaXRsZSI6Imw6UHVlcnRvIFJpY28sIFUuUy5BLiIsInByYWN0aWNlQXJlYXMiOlsiQW50aXRydXN0IGFuZCBUcmFkZSBSZWd1bGF0aW9uIl19&page=2\n",
      "accediendo a: https://www.martindale.com/search/attorneys-law-firms-articles/?term=Puerto+Rico%2C+USA&params=eyJ0eXBlIjoicGVvcGxlIiwiY29tcGFyZSI6IiIsInRlcm0iOiJQdWVydG8gUmljbywgVVNBIiwiZ2VvTG9jYXRpb25GYWNldCI6WyJQdWVydG8gUmljbywgVS5TLkEuIl0sImdlb0xvY2F0aW9uRmFjZXRSZWNlbnRzIjpbIlB1ZXJ0byBSaWNvLCBVLlMuQS4iXSwicGFnZSI6MSwibGltaXQiOjI1LCJvZmZzZXQiOjAsInNvcnQiOiIiLCJzb3J0VHlwZSI6IiIsImNsZWFyUGFyYW1zIjpmYWxzZSwia2V5d29yZCI6IiIsInBhZ2VUaXRsZSI6Imw6UHVlcnRvIFJpY28sIFUuUy5BLiIsInByYWN0aWNlQXJlYXMiOlsiQW50aXRydXN0IGFuZCBUcmFkZSBSZWd1bGF0aW9uIl19&page=3\n"
     ]
    },
    {
     "name": "stderr",
     "output_type": "stream",
     "text": [
      " 29%|██▊       | 26/91 [11:00<18:54, 17.45s/it]"
     ]
    },
    {
     "name": "stdout",
     "output_type": "stream",
     "text": [
      "paginas en esta url: 2\n",
      "accediendo a: https://www.martindale.com/search/attorneys-law-firms-articles/?term=Puerto+Rico%2C+USA&params=eyJ0eXBlIjoicGVvcGxlIiwiY29tcGFyZSI6IiIsInRlcm0iOiJQdWVydG8gUmljbywgVVNBIiwiZ2VvTG9jYXRpb25GYWNldCI6WyJQdWVydG8gUmljbywgVS5TLkEuIl0sImdlb0xvY2F0aW9uRmFjZXRSZWNlbnRzIjpbIlB1ZXJ0byBSaWNvLCBVLlMuQS4iXSwicGFnZSI6MSwibGltaXQiOjI1LCJvZmZzZXQiOjAsInNvcnQiOiIiLCJzb3J0VHlwZSI6IiIsImNsZWFyUGFyYW1zIjpmYWxzZSwia2V5d29yZCI6IiIsInBhZ2VUaXRsZSI6Imw6UHVlcnRvIFJpY28sIFUuUy5BLiIsInByYWN0aWNlQXJlYXMiOlsiVGVsZWNvbW11bmljYXRpb25zIExhdyJdfQ%3D%3D\n",
      "accediendo a: https://www.martindale.com/search/attorneys-law-firms-articles/?term=Puerto+Rico%2C+USA&params=eyJ0eXBlIjoicGVvcGxlIiwiY29tcGFyZSI6IiIsInRlcm0iOiJQdWVydG8gUmljbywgVVNBIiwiZ2VvTG9jYXRpb25GYWNldCI6WyJQdWVydG8gUmljbywgVS5TLkEuIl0sImdlb0xvY2F0aW9uRmFjZXRSZWNlbnRzIjpbIlB1ZXJ0byBSaWNvLCBVLlMuQS4iXSwicGFnZSI6MSwibGltaXQiOjI1LCJvZmZzZXQiOjAsInNvcnQiOiIiLCJzb3J0VHlwZSI6IiIsImNsZWFyUGFyYW1zIjpmYWxzZSwia2V5d29yZCI6IiIsInBhZ2VUaXRsZSI6Imw6UHVlcnRvIFJpY28sIFUuUy5BLiIsInByYWN0aWNlQXJlYXMiOlsiVGVsZWNvbW11bmljYXRpb25zIExhdyJdfQ%3D%3D&page=2\n"
     ]
    },
    {
     "name": "stderr",
     "output_type": "stream",
     "text": [
      " 30%|██▉       | 27/91 [11:13<17:06, 16.03s/it]"
     ]
    },
    {
     "name": "stdout",
     "output_type": "stream",
     "text": [
      "paginas en esta url: 6\n",
      "accediendo a: https://www.martindale.com/search/attorneys-law-firms-articles/?term=Puerto+Rico%2C+USA&params=eyJ0eXBlIjoicGVvcGxlIiwiY29tcGFyZSI6IiIsInRlcm0iOiJQdWVydG8gUmljbywgVVNBIiwiZ2VvTG9jYXRpb25GYWNldCI6WyJQdWVydG8gUmljbywgVS5TLkEuIl0sImdlb0xvY2F0aW9uRmFjZXRSZWNlbnRzIjpbIlB1ZXJ0byBSaWNvLCBVLlMuQS4iXSwicGFnZSI6MSwibGltaXQiOjI1LCJvZmZzZXQiOjAsInNvcnQiOiIiLCJzb3J0VHlwZSI6IiIsImNsZWFyUGFyYW1zIjpmYWxzZSwia2V5d29yZCI6IiIsInBhZ2VUaXRsZSI6Imw6UHVlcnRvIFJpY28sIFUuUy5BLiIsInByYWN0aWNlQXJlYXMiOlsiVHJ1c3RzIGFuZCBFc3RhdGVzIl19\n",
      "accediendo a: https://www.martindale.com/search/attorneys-law-firms-articles/?term=Puerto+Rico%2C+USA&params=eyJ0eXBlIjoicGVvcGxlIiwiY29tcGFyZSI6IiIsInRlcm0iOiJQdWVydG8gUmljbywgVVNBIiwiZ2VvTG9jYXRpb25GYWNldCI6WyJQdWVydG8gUmljbywgVS5TLkEuIl0sImdlb0xvY2F0aW9uRmFjZXRSZWNlbnRzIjpbIlB1ZXJ0byBSaWNvLCBVLlMuQS4iXSwicGFnZSI6MSwibGltaXQiOjI1LCJvZmZzZXQiOjAsInNvcnQiOiIiLCJzb3J0VHlwZSI6IiIsImNsZWFyUGFyYW1zIjpmYWxzZSwia2V5d29yZCI6IiIsInBhZ2VUaXRsZSI6Imw6UHVlcnRvIFJpY28sIFUuUy5BLiIsInByYWN0aWNlQXJlYXMiOlsiVHJ1c3RzIGFuZCBFc3RhdGVzIl19&page=2\n",
      "accediendo a: https://www.martindale.com/search/attorneys-law-firms-articles/?term=Puerto+Rico%2C+USA&params=eyJ0eXBlIjoicGVvcGxlIiwiY29tcGFyZSI6IiIsInRlcm0iOiJQdWVydG8gUmljbywgVVNBIiwiZ2VvTG9jYXRpb25GYWNldCI6WyJQdWVydG8gUmljbywgVS5TLkEuIl0sImdlb0xvY2F0aW9uRmFjZXRSZWNlbnRzIjpbIlB1ZXJ0byBSaWNvLCBVLlMuQS4iXSwicGFnZSI6MSwibGltaXQiOjI1LCJvZmZzZXQiOjAsInNvcnQiOiIiLCJzb3J0VHlwZSI6IiIsImNsZWFyUGFyYW1zIjpmYWxzZSwia2V5d29yZCI6IiIsInBhZ2VUaXRsZSI6Imw6UHVlcnRvIFJpY28sIFUuUy5BLiIsInByYWN0aWNlQXJlYXMiOlsiVHJ1c3RzIGFuZCBFc3RhdGVzIl19&page=3\n",
      "accediendo a: https://www.martindale.com/search/attorneys-law-firms-articles/?term=Puerto+Rico%2C+USA&params=eyJ0eXBlIjoicGVvcGxlIiwiY29tcGFyZSI6IiIsInRlcm0iOiJQdWVydG8gUmljbywgVVNBIiwiZ2VvTG9jYXRpb25GYWNldCI6WyJQdWVydG8gUmljbywgVS5TLkEuIl0sImdlb0xvY2F0aW9uRmFjZXRSZWNlbnRzIjpbIlB1ZXJ0byBSaWNvLCBVLlMuQS4iXSwicGFnZSI6MSwibGltaXQiOjI1LCJvZmZzZXQiOjAsInNvcnQiOiIiLCJzb3J0VHlwZSI6IiIsImNsZWFyUGFyYW1zIjpmYWxzZSwia2V5d29yZCI6IiIsInBhZ2VUaXRsZSI6Imw6UHVlcnRvIFJpY28sIFUuUy5BLiIsInByYWN0aWNlQXJlYXMiOlsiVHJ1c3RzIGFuZCBFc3RhdGVzIl19&page=4\n",
      "accediendo a: https://www.martindale.com/search/attorneys-law-firms-articles/?term=Puerto+Rico%2C+USA&params=eyJ0eXBlIjoicGVvcGxlIiwiY29tcGFyZSI6IiIsInRlcm0iOiJQdWVydG8gUmljbywgVVNBIiwiZ2VvTG9jYXRpb25GYWNldCI6WyJQdWVydG8gUmljbywgVS5TLkEuIl0sImdlb0xvY2F0aW9uRmFjZXRSZWNlbnRzIjpbIlB1ZXJ0byBSaWNvLCBVLlMuQS4iXSwicGFnZSI6MSwibGltaXQiOjI1LCJvZmZzZXQiOjAsInNvcnQiOiIiLCJzb3J0VHlwZSI6IiIsImNsZWFyUGFyYW1zIjpmYWxzZSwia2V5d29yZCI6IiIsInBhZ2VUaXRsZSI6Imw6UHVlcnRvIFJpY28sIFUuUy5BLiIsInByYWN0aWNlQXJlYXMiOlsiVHJ1c3RzIGFuZCBFc3RhdGVzIl19&page=5\n",
      "accediendo a: https://www.martindale.com/search/attorneys-law-firms-articles/?term=Puerto+Rico%2C+USA&params=eyJ0eXBlIjoicGVvcGxlIiwiY29tcGFyZSI6IiIsInRlcm0iOiJQdWVydG8gUmljbywgVVNBIiwiZ2VvTG9jYXRpb25GYWNldCI6WyJQdWVydG8gUmljbywgVS5TLkEuIl0sImdlb0xvY2F0aW9uRmFjZXRSZWNlbnRzIjpbIlB1ZXJ0byBSaWNvLCBVLlMuQS4iXSwicGFnZSI6MSwibGltaXQiOjI1LCJvZmZzZXQiOjAsInNvcnQiOiIiLCJzb3J0VHlwZSI6IiIsImNsZWFyUGFyYW1zIjpmYWxzZSwia2V5d29yZCI6IiIsInBhZ2VUaXRsZSI6Imw6UHVlcnRvIFJpY28sIFUuUy5BLiIsInByYWN0aWNlQXJlYXMiOlsiVHJ1c3RzIGFuZCBFc3RhdGVzIl19&page=6\n"
     ]
    },
    {
     "name": "stderr",
     "output_type": "stream",
     "text": [
      " 31%|███       | 28/91 [11:30<17:17, 16.47s/it]"
     ]
    },
    {
     "name": "stdout",
     "output_type": "stream",
     "text": [
      "paginas en esta url: 4\n",
      "accediendo a: https://www.martindale.com/search/attorneys-law-firms-articles/?term=Puerto+Rico%2C+USA&params=eyJ0eXBlIjoicGVvcGxlIiwiY29tcGFyZSI6IiIsInRlcm0iOiJQdWVydG8gUmljbywgVVNBIiwiZ2VvTG9jYXRpb25GYWNldCI6WyJQdWVydG8gUmljbywgVS5TLkEuIl0sImdlb0xvY2F0aW9uRmFjZXRSZWNlbnRzIjpbIlB1ZXJ0byBSaWNvLCBVLlMuQS4iXSwicGFnZSI6MSwibGltaXQiOjI1LCJvZmZzZXQiOjAsInNvcnQiOiIiLCJzb3J0VHlwZSI6IiIsImNsZWFyUGFyYW1zIjpmYWxzZSwia2V5d29yZCI6IiIsInBhZ2VUaXRsZSI6Imw6UHVlcnRvIFJpY28sIFUuUy5BLiIsInByYWN0aWNlQXJlYXMiOlsiQWx0ZXJuYXRpdmUgRGlzcHV0ZSBSZXNvbHV0aW9uIl19\n",
      "https://www.martindale.com/attorney/tatiana-m-grajales-torruella-158583691/\n",
      "accediendo a: https://www.martindale.com/search/attorneys-law-firms-articles/?term=Puerto+Rico%2C+USA&params=eyJ0eXBlIjoicGVvcGxlIiwiY29tcGFyZSI6IiIsInRlcm0iOiJQdWVydG8gUmljbywgVVNBIiwiZ2VvTG9jYXRpb25GYWNldCI6WyJQdWVydG8gUmljbywgVS5TLkEuIl0sImdlb0xvY2F0aW9uRmFjZXRSZWNlbnRzIjpbIlB1ZXJ0byBSaWNvLCBVLlMuQS4iXSwicGFnZSI6MSwibGltaXQiOjI1LCJvZmZzZXQiOjAsInNvcnQiOiIiLCJzb3J0VHlwZSI6IiIsImNsZWFyUGFyYW1zIjpmYWxzZSwia2V5d29yZCI6IiIsInBhZ2VUaXRsZSI6Imw6UHVlcnRvIFJpY28sIFUuUy5BLiIsInByYWN0aWNlQXJlYXMiOlsiQWx0ZXJuYXRpdmUgRGlzcHV0ZSBSZXNvbHV0aW9uIl19&page=2\n",
      "accediendo a: https://www.martindale.com/search/attorneys-law-firms-articles/?term=Puerto+Rico%2C+USA&params=eyJ0eXBlIjoicGVvcGxlIiwiY29tcGFyZSI6IiIsInRlcm0iOiJQdWVydG8gUmljbywgVVNBIiwiZ2VvTG9jYXRpb25GYWNldCI6WyJQdWVydG8gUmljbywgVS5TLkEuIl0sImdlb0xvY2F0aW9uRmFjZXRSZWNlbnRzIjpbIlB1ZXJ0byBSaWNvLCBVLlMuQS4iXSwicGFnZSI6MSwibGltaXQiOjI1LCJvZmZzZXQiOjAsInNvcnQiOiIiLCJzb3J0VHlwZSI6IiIsImNsZWFyUGFyYW1zIjpmYWxzZSwia2V5d29yZCI6IiIsInBhZ2VUaXRsZSI6Imw6UHVlcnRvIFJpY28sIFUuUy5BLiIsInByYWN0aWNlQXJlYXMiOlsiQWx0ZXJuYXRpdmUgRGlzcHV0ZSBSZXNvbHV0aW9uIl19&page=3\n",
      "https://www.martindale.com/attorney/luis-j-lopez-valdos-158583429/\n",
      "accediendo a: https://www.martindale.com/search/attorneys-law-firms-articles/?term=Puerto+Rico%2C+USA&params=eyJ0eXBlIjoicGVvcGxlIiwiY29tcGFyZSI6IiIsInRlcm0iOiJQdWVydG8gUmljbywgVVNBIiwiZ2VvTG9jYXRpb25GYWNldCI6WyJQdWVydG8gUmljbywgVS5TLkEuIl0sImdlb0xvY2F0aW9uRmFjZXRSZWNlbnRzIjpbIlB1ZXJ0byBSaWNvLCBVLlMuQS4iXSwicGFnZSI6MSwibGltaXQiOjI1LCJvZmZzZXQiOjAsInNvcnQiOiIiLCJzb3J0VHlwZSI6IiIsImNsZWFyUGFyYW1zIjpmYWxzZSwia2V5d29yZCI6IiIsInBhZ2VUaXRsZSI6Imw6UHVlcnRvIFJpY28sIFUuUy5BLiIsInByYWN0aWNlQXJlYXMiOlsiQWx0ZXJuYXRpdmUgRGlzcHV0ZSBSZXNvbHV0aW9uIl19&page=4\n"
     ]
    },
    {
     "name": "stderr",
     "output_type": "stream",
     "text": [
      " 32%|███▏      | 29/91 [11:46<16:52, 16.33s/it]"
     ]
    },
    {
     "name": "stdout",
     "output_type": "stream",
     "text": [
      "paginas en esta url: 1\n",
      "accediendo a: https://www.martindale.com/search/attorneys-law-firms-articles/?term=Puerto+Rico%2C+USA&params=eyJ0eXBlIjoicGVvcGxlIiwiY29tcGFyZSI6IiIsInRlcm0iOiJQdWVydG8gUmljbywgVVNBIiwiZ2VvTG9jYXRpb25GYWNldCI6WyJQdWVydG8gUmljbywgVS5TLkEuIl0sImdlb0xvY2F0aW9uRmFjZXRSZWNlbnRzIjpbIlB1ZXJ0byBSaWNvLCBVLlMuQS4iXSwicGFnZSI6MSwibGltaXQiOjI1LCJvZmZzZXQiOjAsInNvcnQiOiIiLCJzb3J0VHlwZSI6IiIsImNsZWFyUGFyYW1zIjpmYWxzZSwia2V5d29yZCI6IiIsInBhZ2VUaXRsZSI6Imw6UHVlcnRvIFJpY28sIFUuUy5BLiIsInByYWN0aWNlQXJlYXMiOlsiRGVwb3J0YXRpb24iXX0%3D\n"
     ]
    },
    {
     "name": "stderr",
     "output_type": "stream",
     "text": [
      " 33%|███▎      | 30/91 [12:10<18:59, 18.67s/it]"
     ]
    },
    {
     "name": "stdout",
     "output_type": "stream",
     "text": [
      "paginas en esta url: 13\n",
      "accediendo a: https://www.martindale.com/search/attorneys-law-firms-articles/?term=Puerto+Rico%2C+USA&params=eyJ0eXBlIjoicGVvcGxlIiwiY29tcGFyZSI6IiIsInRlcm0iOiJQdWVydG8gUmljbywgVVNBIiwiZ2VvTG9jYXRpb25GYWNldCI6WyJQdWVydG8gUmljbywgVS5TLkEuIl0sImdlb0xvY2F0aW9uRmFjZXRSZWNlbnRzIjpbIlB1ZXJ0byBSaWNvLCBVLlMuQS4iXSwicGFnZSI6MSwibGltaXQiOjI1LCJvZmZzZXQiOjAsInNvcnQiOiIiLCJzb3J0VHlwZSI6IiIsImNsZWFyUGFyYW1zIjpmYWxzZSwia2V5d29yZCI6IiIsInBhZ2VUaXRsZSI6Imw6UHVlcnRvIFJpY28sIFUuUy5BLiIsInByYWN0aWNlQXJlYXMiOlsiQWRtaW5pc3RyYXRpdmUgTGF3Il19\n",
      "accediendo a: https://www.martindale.com/search/attorneys-law-firms-articles/?term=Puerto+Rico%2C+USA&params=eyJ0eXBlIjoicGVvcGxlIiwiY29tcGFyZSI6IiIsInRlcm0iOiJQdWVydG8gUmljbywgVVNBIiwiZ2VvTG9jYXRpb25GYWNldCI6WyJQdWVydG8gUmljbywgVS5TLkEuIl0sImdlb0xvY2F0aW9uRmFjZXRSZWNlbnRzIjpbIlB1ZXJ0byBSaWNvLCBVLlMuQS4iXSwicGFnZSI6MSwibGltaXQiOjI1LCJvZmZzZXQiOjAsInNvcnQiOiIiLCJzb3J0VHlwZSI6IiIsImNsZWFyUGFyYW1zIjpmYWxzZSwia2V5d29yZCI6IiIsInBhZ2VUaXRsZSI6Imw6UHVlcnRvIFJpY28sIFUuUy5BLiIsInByYWN0aWNlQXJlYXMiOlsiQWRtaW5pc3RyYXRpdmUgTGF3Il19&page=2\n",
      "accediendo a: https://www.martindale.com/search/attorneys-law-firms-articles/?term=Puerto+Rico%2C+USA&params=eyJ0eXBlIjoicGVvcGxlIiwiY29tcGFyZSI6IiIsInRlcm0iOiJQdWVydG8gUmljbywgVVNBIiwiZ2VvTG9jYXRpb25GYWNldCI6WyJQdWVydG8gUmljbywgVS5TLkEuIl0sImdlb0xvY2F0aW9uRmFjZXRSZWNlbnRzIjpbIlB1ZXJ0byBSaWNvLCBVLlMuQS4iXSwicGFnZSI6MSwibGltaXQiOjI1LCJvZmZzZXQiOjAsInNvcnQiOiIiLCJzb3J0VHlwZSI6IiIsImNsZWFyUGFyYW1zIjpmYWxzZSwia2V5d29yZCI6IiIsInBhZ2VUaXRsZSI6Imw6UHVlcnRvIFJpY28sIFUuUy5BLiIsInByYWN0aWNlQXJlYXMiOlsiQWRtaW5pc3RyYXRpdmUgTGF3Il19&page=3\n",
      "accediendo a: https://www.martindale.com/search/attorneys-law-firms-articles/?term=Puerto+Rico%2C+USA&params=eyJ0eXBlIjoicGVvcGxlIiwiY29tcGFyZSI6IiIsInRlcm0iOiJQdWVydG8gUmljbywgVVNBIiwiZ2VvTG9jYXRpb25GYWNldCI6WyJQdWVydG8gUmljbywgVS5TLkEuIl0sImdlb0xvY2F0aW9uRmFjZXRSZWNlbnRzIjpbIlB1ZXJ0byBSaWNvLCBVLlMuQS4iXSwicGFnZSI6MSwibGltaXQiOjI1LCJvZmZzZXQiOjAsInNvcnQiOiIiLCJzb3J0VHlwZSI6IiIsImNsZWFyUGFyYW1zIjpmYWxzZSwia2V5d29yZCI6IiIsInBhZ2VUaXRsZSI6Imw6UHVlcnRvIFJpY28sIFUuUy5BLiIsInByYWN0aWNlQXJlYXMiOlsiQWRtaW5pc3RyYXRpdmUgTGF3Il19&page=4\n",
      "accediendo a: https://www.martindale.com/search/attorneys-law-firms-articles/?term=Puerto+Rico%2C+USA&params=eyJ0eXBlIjoicGVvcGxlIiwiY29tcGFyZSI6IiIsInRlcm0iOiJQdWVydG8gUmljbywgVVNBIiwiZ2VvTG9jYXRpb25GYWNldCI6WyJQdWVydG8gUmljbywgVS5TLkEuIl0sImdlb0xvY2F0aW9uRmFjZXRSZWNlbnRzIjpbIlB1ZXJ0byBSaWNvLCBVLlMuQS4iXSwicGFnZSI6MSwibGltaXQiOjI1LCJvZmZzZXQiOjAsInNvcnQiOiIiLCJzb3J0VHlwZSI6IiIsImNsZWFyUGFyYW1zIjpmYWxzZSwia2V5d29yZCI6IiIsInBhZ2VUaXRsZSI6Imw6UHVlcnRvIFJpY28sIFUuUy5BLiIsInByYWN0aWNlQXJlYXMiOlsiQWRtaW5pc3RyYXRpdmUgTGF3Il19&page=5\n",
      "accediendo a: https://www.martindale.com/search/attorneys-law-firms-articles/?term=Puerto+Rico%2C+USA&params=eyJ0eXBlIjoicGVvcGxlIiwiY29tcGFyZSI6IiIsInRlcm0iOiJQdWVydG8gUmljbywgVVNBIiwiZ2VvTG9jYXRpb25GYWNldCI6WyJQdWVydG8gUmljbywgVS5TLkEuIl0sImdlb0xvY2F0aW9uRmFjZXRSZWNlbnRzIjpbIlB1ZXJ0byBSaWNvLCBVLlMuQS4iXSwicGFnZSI6MSwibGltaXQiOjI1LCJvZmZzZXQiOjAsInNvcnQiOiIiLCJzb3J0VHlwZSI6IiIsImNsZWFyUGFyYW1zIjpmYWxzZSwia2V5d29yZCI6IiIsInBhZ2VUaXRsZSI6Imw6UHVlcnRvIFJpY28sIFUuUy5BLiIsInByYWN0aWNlQXJlYXMiOlsiQWRtaW5pc3RyYXRpdmUgTGF3Il19&page=6\n",
      "accediendo a: https://www.martindale.com/search/attorneys-law-firms-articles/?term=Puerto+Rico%2C+USA&params=eyJ0eXBlIjoicGVvcGxlIiwiY29tcGFyZSI6IiIsInRlcm0iOiJQdWVydG8gUmljbywgVVNBIiwiZ2VvTG9jYXRpb25GYWNldCI6WyJQdWVydG8gUmljbywgVS5TLkEuIl0sImdlb0xvY2F0aW9uRmFjZXRSZWNlbnRzIjpbIlB1ZXJ0byBSaWNvLCBVLlMuQS4iXSwicGFnZSI6MSwibGltaXQiOjI1LCJvZmZzZXQiOjAsInNvcnQiOiIiLCJzb3J0VHlwZSI6IiIsImNsZWFyUGFyYW1zIjpmYWxzZSwia2V5d29yZCI6IiIsInBhZ2VUaXRsZSI6Imw6UHVlcnRvIFJpY28sIFUuUy5BLiIsInByYWN0aWNlQXJlYXMiOlsiQWRtaW5pc3RyYXRpdmUgTGF3Il19&page=7\n",
      "accediendo a: https://www.martindale.com/search/attorneys-law-firms-articles/?term=Puerto+Rico%2C+USA&params=eyJ0eXBlIjoicGVvcGxlIiwiY29tcGFyZSI6IiIsInRlcm0iOiJQdWVydG8gUmljbywgVVNBIiwiZ2VvTG9jYXRpb25GYWNldCI6WyJQdWVydG8gUmljbywgVS5TLkEuIl0sImdlb0xvY2F0aW9uRmFjZXRSZWNlbnRzIjpbIlB1ZXJ0byBSaWNvLCBVLlMuQS4iXSwicGFnZSI6MSwibGltaXQiOjI1LCJvZmZzZXQiOjAsInNvcnQiOiIiLCJzb3J0VHlwZSI6IiIsImNsZWFyUGFyYW1zIjpmYWxzZSwia2V5d29yZCI6IiIsInBhZ2VUaXRsZSI6Imw6UHVlcnRvIFJpY28sIFUuUy5BLiIsInByYWN0aWNlQXJlYXMiOlsiQWRtaW5pc3RyYXRpdmUgTGF3Il19&page=8\n",
      "accediendo a: https://www.martindale.com/search/attorneys-law-firms-articles/?term=Puerto+Rico%2C+USA&params=eyJ0eXBlIjoicGVvcGxlIiwiY29tcGFyZSI6IiIsInRlcm0iOiJQdWVydG8gUmljbywgVVNBIiwiZ2VvTG9jYXRpb25GYWNldCI6WyJQdWVydG8gUmljbywgVS5TLkEuIl0sImdlb0xvY2F0aW9uRmFjZXRSZWNlbnRzIjpbIlB1ZXJ0byBSaWNvLCBVLlMuQS4iXSwicGFnZSI6MSwibGltaXQiOjI1LCJvZmZzZXQiOjAsInNvcnQiOiIiLCJzb3J0VHlwZSI6IiIsImNsZWFyUGFyYW1zIjpmYWxzZSwia2V5d29yZCI6IiIsInBhZ2VUaXRsZSI6Imw6UHVlcnRvIFJpY28sIFUuUy5BLiIsInByYWN0aWNlQXJlYXMiOlsiQWRtaW5pc3RyYXRpdmUgTGF3Il19&page=9\n",
      "accediendo a: https://www.martindale.com/search/attorneys-law-firms-articles/?term=Puerto+Rico%2C+USA&params=eyJ0eXBlIjoicGVvcGxlIiwiY29tcGFyZSI6IiIsInRlcm0iOiJQdWVydG8gUmljbywgVVNBIiwiZ2VvTG9jYXRpb25GYWNldCI6WyJQdWVydG8gUmljbywgVS5TLkEuIl0sImdlb0xvY2F0aW9uRmFjZXRSZWNlbnRzIjpbIlB1ZXJ0byBSaWNvLCBVLlMuQS4iXSwicGFnZSI6MSwibGltaXQiOjI1LCJvZmZzZXQiOjAsInNvcnQiOiIiLCJzb3J0VHlwZSI6IiIsImNsZWFyUGFyYW1zIjpmYWxzZSwia2V5d29yZCI6IiIsInBhZ2VUaXRsZSI6Imw6UHVlcnRvIFJpY28sIFUuUy5BLiIsInByYWN0aWNlQXJlYXMiOlsiQWRtaW5pc3RyYXRpdmUgTGF3Il19&page=10\n",
      "accediendo a: https://www.martindale.com/search/attorneys-law-firms-articles/?term=Puerto+Rico%2C+USA&params=eyJ0eXBlIjoicGVvcGxlIiwiY29tcGFyZSI6IiIsInRlcm0iOiJQdWVydG8gUmljbywgVVNBIiwiZ2VvTG9jYXRpb25GYWNldCI6WyJQdWVydG8gUmljbywgVS5TLkEuIl0sImdlb0xvY2F0aW9uRmFjZXRSZWNlbnRzIjpbIlB1ZXJ0byBSaWNvLCBVLlMuQS4iXSwicGFnZSI6MSwibGltaXQiOjI1LCJvZmZzZXQiOjAsInNvcnQiOiIiLCJzb3J0VHlwZSI6IiIsImNsZWFyUGFyYW1zIjpmYWxzZSwia2V5d29yZCI6IiIsInBhZ2VUaXRsZSI6Imw6UHVlcnRvIFJpY28sIFUuUy5BLiIsInByYWN0aWNlQXJlYXMiOlsiQWRtaW5pc3RyYXRpdmUgTGF3Il19&page=11\n",
      "accediendo a: https://www.martindale.com/search/attorneys-law-firms-articles/?term=Puerto+Rico%2C+USA&params=eyJ0eXBlIjoicGVvcGxlIiwiY29tcGFyZSI6IiIsInRlcm0iOiJQdWVydG8gUmljbywgVVNBIiwiZ2VvTG9jYXRpb25GYWNldCI6WyJQdWVydG8gUmljbywgVS5TLkEuIl0sImdlb0xvY2F0aW9uRmFjZXRSZWNlbnRzIjpbIlB1ZXJ0byBSaWNvLCBVLlMuQS4iXSwicGFnZSI6MSwibGltaXQiOjI1LCJvZmZzZXQiOjAsInNvcnQiOiIiLCJzb3J0VHlwZSI6IiIsImNsZWFyUGFyYW1zIjpmYWxzZSwia2V5d29yZCI6IiIsInBhZ2VUaXRsZSI6Imw6UHVlcnRvIFJpY28sIFUuUy5BLiIsInByYWN0aWNlQXJlYXMiOlsiQWRtaW5pc3RyYXRpdmUgTGF3Il19&page=12\n",
      "accediendo a: https://www.martindale.com/search/attorneys-law-firms-articles/?term=Puerto+Rico%2C+USA&params=eyJ0eXBlIjoicGVvcGxlIiwiY29tcGFyZSI6IiIsInRlcm0iOiJQdWVydG8gUmljbywgVVNBIiwiZ2VvTG9jYXRpb25GYWNldCI6WyJQdWVydG8gUmljbywgVS5TLkEuIl0sImdlb0xvY2F0aW9uRmFjZXRSZWNlbnRzIjpbIlB1ZXJ0byBSaWNvLCBVLlMuQS4iXSwicGFnZSI6MSwibGltaXQiOjI1LCJvZmZzZXQiOjAsInNvcnQiOiIiLCJzb3J0VHlwZSI6IiIsImNsZWFyUGFyYW1zIjpmYWxzZSwia2V5d29yZCI6IiIsInBhZ2VUaXRsZSI6Imw6UHVlcnRvIFJpY28sIFUuUy5BLiIsInByYWN0aWNlQXJlYXMiOlsiQWRtaW5pc3RyYXRpdmUgTGF3Il19&page=13\n"
     ]
    },
    {
     "name": "stderr",
     "output_type": "stream",
     "text": [
      " 34%|███▍      | 31/91 [12:39<21:47, 21.79s/it]"
     ]
    },
    {
     "name": "stdout",
     "output_type": "stream",
     "text": [
      "paginas en esta url: 5\n",
      "accediendo a: https://www.martindale.com/search/attorneys-law-firms-articles/?term=Puerto+Rico%2C+USA&params=eyJ0eXBlIjoicGVvcGxlIiwiY29tcGFyZSI6IiIsInRlcm0iOiJQdWVydG8gUmljbywgVVNBIiwiZ2VvTG9jYXRpb25GYWNldCI6WyJQdWVydG8gUmljbywgVS5TLkEuIl0sImdlb0xvY2F0aW9uRmFjZXRSZWNlbnRzIjpbIlB1ZXJ0byBSaWNvLCBVLlMuQS4iXSwicGFnZSI6MSwibGltaXQiOjI1LCJvZmZzZXQiOjAsInNvcnQiOiIiLCJzb3J0VHlwZSI6IiIsImNsZWFyUGFyYW1zIjpmYWxzZSwia2V5d29yZCI6IiIsInBhZ2VUaXRsZSI6Imw6UHVlcnRvIFJpY28sIFUuUy5BLiIsInByYWN0aWNlQXJlYXMiOlsiQ3JpbWluYWwgTGF3Il19\n",
      "accediendo a: https://www.martindale.com/search/attorneys-law-firms-articles/?term=Puerto+Rico%2C+USA&params=eyJ0eXBlIjoicGVvcGxlIiwiY29tcGFyZSI6IiIsInRlcm0iOiJQdWVydG8gUmljbywgVVNBIiwiZ2VvTG9jYXRpb25GYWNldCI6WyJQdWVydG8gUmljbywgVS5TLkEuIl0sImdlb0xvY2F0aW9uRmFjZXRSZWNlbnRzIjpbIlB1ZXJ0byBSaWNvLCBVLlMuQS4iXSwicGFnZSI6MSwibGltaXQiOjI1LCJvZmZzZXQiOjAsInNvcnQiOiIiLCJzb3J0VHlwZSI6IiIsImNsZWFyUGFyYW1zIjpmYWxzZSwia2V5d29yZCI6IiIsInBhZ2VUaXRsZSI6Imw6UHVlcnRvIFJpY28sIFUuUy5BLiIsInByYWN0aWNlQXJlYXMiOlsiQ3JpbWluYWwgTGF3Il19&page=2\n",
      "accediendo a: https://www.martindale.com/search/attorneys-law-firms-articles/?term=Puerto+Rico%2C+USA&params=eyJ0eXBlIjoicGVvcGxlIiwiY29tcGFyZSI6IiIsInRlcm0iOiJQdWVydG8gUmljbywgVVNBIiwiZ2VvTG9jYXRpb25GYWNldCI6WyJQdWVydG8gUmljbywgVS5TLkEuIl0sImdlb0xvY2F0aW9uRmFjZXRSZWNlbnRzIjpbIlB1ZXJ0byBSaWNvLCBVLlMuQS4iXSwicGFnZSI6MSwibGltaXQiOjI1LCJvZmZzZXQiOjAsInNvcnQiOiIiLCJzb3J0VHlwZSI6IiIsImNsZWFyUGFyYW1zIjpmYWxzZSwia2V5d29yZCI6IiIsInBhZ2VUaXRsZSI6Imw6UHVlcnRvIFJpY28sIFUuUy5BLiIsInByYWN0aWNlQXJlYXMiOlsiQ3JpbWluYWwgTGF3Il19&page=3\n",
      "accediendo a: https://www.martindale.com/search/attorneys-law-firms-articles/?term=Puerto+Rico%2C+USA&params=eyJ0eXBlIjoicGVvcGxlIiwiY29tcGFyZSI6IiIsInRlcm0iOiJQdWVydG8gUmljbywgVVNBIiwiZ2VvTG9jYXRpb25GYWNldCI6WyJQdWVydG8gUmljbywgVS5TLkEuIl0sImdlb0xvY2F0aW9uRmFjZXRSZWNlbnRzIjpbIlB1ZXJ0byBSaWNvLCBVLlMuQS4iXSwicGFnZSI6MSwibGltaXQiOjI1LCJvZmZzZXQiOjAsInNvcnQiOiIiLCJzb3J0VHlwZSI6IiIsImNsZWFyUGFyYW1zIjpmYWxzZSwia2V5d29yZCI6IiIsInBhZ2VUaXRsZSI6Imw6UHVlcnRvIFJpY28sIFUuUy5BLiIsInByYWN0aWNlQXJlYXMiOlsiQ3JpbWluYWwgTGF3Il19&page=4\n",
      "accediendo a: https://www.martindale.com/search/attorneys-law-firms-articles/?term=Puerto+Rico%2C+USA&params=eyJ0eXBlIjoicGVvcGxlIiwiY29tcGFyZSI6IiIsInRlcm0iOiJQdWVydG8gUmljbywgVVNBIiwiZ2VvTG9jYXRpb25GYWNldCI6WyJQdWVydG8gUmljbywgVS5TLkEuIl0sImdlb0xvY2F0aW9uRmFjZXRSZWNlbnRzIjpbIlB1ZXJ0byBSaWNvLCBVLlMuQS4iXSwicGFnZSI6MSwibGltaXQiOjI1LCJvZmZzZXQiOjAsInNvcnQiOiIiLCJzb3J0VHlwZSI6IiIsImNsZWFyUGFyYW1zIjpmYWxzZSwia2V5d29yZCI6IiIsInBhZ2VUaXRsZSI6Imw6UHVlcnRvIFJpY28sIFUuUy5BLiIsInByYWN0aWNlQXJlYXMiOlsiQ3JpbWluYWwgTGF3Il19&page=5\n"
     ]
    },
    {
     "name": "stderr",
     "output_type": "stream",
     "text": [
      " 35%|███▌      | 32/91 [12:57<20:18, 20.65s/it]"
     ]
    },
    {
     "name": "stdout",
     "output_type": "stream",
     "text": [
      "paginas en esta url: 20\n",
      "accediendo a: https://www.martindale.com/search/attorneys-law-firms-articles/?term=Puerto+Rico%2C+USA&params=eyJ0eXBlIjoicGVvcGxlIiwiY29tcGFyZSI6IiIsInRlcm0iOiJQdWVydG8gUmljbywgVVNBIiwiZ2VvTG9jYXRpb25GYWNldCI6WyJQdWVydG8gUmljbywgVS5TLkEuIl0sImdlb0xvY2F0aW9uRmFjZXRSZWNlbnRzIjpbIlB1ZXJ0byBSaWNvLCBVLlMuQS4iXSwicGFnZSI6MSwibGltaXQiOjI1LCJvZmZzZXQiOjAsInNvcnQiOiIiLCJzb3J0VHlwZSI6IiIsImNsZWFyUGFyYW1zIjpmYWxzZSwia2V5d29yZCI6IiIsInBhZ2VUaXRsZSI6Imw6UHVlcnRvIFJpY28sIFUuUy5BLiIsInByYWN0aWNlQXJlYXMiOlsiQ29ycG9yYXRlIExhdyJdfQ%3D%3D\n",
      "accediendo a: https://www.martindale.com/search/attorneys-law-firms-articles/?term=Puerto+Rico%2C+USA&params=eyJ0eXBlIjoicGVvcGxlIiwiY29tcGFyZSI6IiIsInRlcm0iOiJQdWVydG8gUmljbywgVVNBIiwiZ2VvTG9jYXRpb25GYWNldCI6WyJQdWVydG8gUmljbywgVS5TLkEuIl0sImdlb0xvY2F0aW9uRmFjZXRSZWNlbnRzIjpbIlB1ZXJ0byBSaWNvLCBVLlMuQS4iXSwicGFnZSI6MSwibGltaXQiOjI1LCJvZmZzZXQiOjAsInNvcnQiOiIiLCJzb3J0VHlwZSI6IiIsImNsZWFyUGFyYW1zIjpmYWxzZSwia2V5d29yZCI6IiIsInBhZ2VUaXRsZSI6Imw6UHVlcnRvIFJpY28sIFUuUy5BLiIsInByYWN0aWNlQXJlYXMiOlsiQ29ycG9yYXRlIExhdyJdfQ%3D%3D&page=2\n",
      "accediendo a: https://www.martindale.com/search/attorneys-law-firms-articles/?term=Puerto+Rico%2C+USA&params=eyJ0eXBlIjoicGVvcGxlIiwiY29tcGFyZSI6IiIsInRlcm0iOiJQdWVydG8gUmljbywgVVNBIiwiZ2VvTG9jYXRpb25GYWNldCI6WyJQdWVydG8gUmljbywgVS5TLkEuIl0sImdlb0xvY2F0aW9uRmFjZXRSZWNlbnRzIjpbIlB1ZXJ0byBSaWNvLCBVLlMuQS4iXSwicGFnZSI6MSwibGltaXQiOjI1LCJvZmZzZXQiOjAsInNvcnQiOiIiLCJzb3J0VHlwZSI6IiIsImNsZWFyUGFyYW1zIjpmYWxzZSwia2V5d29yZCI6IiIsInBhZ2VUaXRsZSI6Imw6UHVlcnRvIFJpY28sIFUuUy5BLiIsInByYWN0aWNlQXJlYXMiOlsiQ29ycG9yYXRlIExhdyJdfQ%3D%3D&page=3\n",
      "https://www.martindale.com/attorney/nydia-galarza-rosario-4504224/\n",
      "accediendo a: https://www.martindale.com/search/attorneys-law-firms-articles/?term=Puerto+Rico%2C+USA&params=eyJ0eXBlIjoicGVvcGxlIiwiY29tcGFyZSI6IiIsInRlcm0iOiJQdWVydG8gUmljbywgVVNBIiwiZ2VvTG9jYXRpb25GYWNldCI6WyJQdWVydG8gUmljbywgVS5TLkEuIl0sImdlb0xvY2F0aW9uRmFjZXRSZWNlbnRzIjpbIlB1ZXJ0byBSaWNvLCBVLlMuQS4iXSwicGFnZSI6MSwibGltaXQiOjI1LCJvZmZzZXQiOjAsInNvcnQiOiIiLCJzb3J0VHlwZSI6IiIsImNsZWFyUGFyYW1zIjpmYWxzZSwia2V5d29yZCI6IiIsInBhZ2VUaXRsZSI6Imw6UHVlcnRvIFJpY28sIFUuUy5BLiIsInByYWN0aWNlQXJlYXMiOlsiQ29ycG9yYXRlIExhdyJdfQ%3D%3D&page=4\n",
      "https://www.martindale.com/attorney/maria-soledad-pineiro-soler-1573561/\n",
      "accediendo a: https://www.martindale.com/search/attorneys-law-firms-articles/?term=Puerto+Rico%2C+USA&params=eyJ0eXBlIjoicGVvcGxlIiwiY29tcGFyZSI6IiIsInRlcm0iOiJQdWVydG8gUmljbywgVVNBIiwiZ2VvTG9jYXRpb25GYWNldCI6WyJQdWVydG8gUmljbywgVS5TLkEuIl0sImdlb0xvY2F0aW9uRmFjZXRSZWNlbnRzIjpbIlB1ZXJ0byBSaWNvLCBVLlMuQS4iXSwicGFnZSI6MSwibGltaXQiOjI1LCJvZmZzZXQiOjAsInNvcnQiOiIiLCJzb3J0VHlwZSI6IiIsImNsZWFyUGFyYW1zIjpmYWxzZSwia2V5d29yZCI6IiIsInBhZ2VUaXRsZSI6Imw6UHVlcnRvIFJpY28sIFUuUy5BLiIsInByYWN0aWNlQXJlYXMiOlsiQ29ycG9yYXRlIExhdyJdfQ%3D%3D&page=5\n",
      "https://www.martindale.com/attorney/maria-m-portilla-delgado-1573579/\n",
      "accediendo a: https://www.martindale.com/search/attorneys-law-firms-articles/?term=Puerto+Rico%2C+USA&params=eyJ0eXBlIjoicGVvcGxlIiwiY29tcGFyZSI6IiIsInRlcm0iOiJQdWVydG8gUmljbywgVVNBIiwiZ2VvTG9jYXRpb25GYWNldCI6WyJQdWVydG8gUmljbywgVS5TLkEuIl0sImdlb0xvY2F0aW9uRmFjZXRSZWNlbnRzIjpbIlB1ZXJ0byBSaWNvLCBVLlMuQS4iXSwicGFnZSI6MSwibGltaXQiOjI1LCJvZmZzZXQiOjAsInNvcnQiOiIiLCJzb3J0VHlwZSI6IiIsImNsZWFyUGFyYW1zIjpmYWxzZSwia2V5d29yZCI6IiIsInBhZ2VUaXRsZSI6Imw6UHVlcnRvIFJpY28sIFUuUy5BLiIsInByYWN0aWNlQXJlYXMiOlsiQ29ycG9yYXRlIExhdyJdfQ%3D%3D&page=6\n",
      "https://www.martindale.com/attorney/luis-e-marini-roig-1573088/\n",
      "accediendo a: https://www.martindale.com/search/attorneys-law-firms-articles/?term=Puerto+Rico%2C+USA&params=eyJ0eXBlIjoicGVvcGxlIiwiY29tcGFyZSI6IiIsInRlcm0iOiJQdWVydG8gUmljbywgVVNBIiwiZ2VvTG9jYXRpb25GYWNldCI6WyJQdWVydG8gUmljbywgVS5TLkEuIl0sImdlb0xvY2F0aW9uRmFjZXRSZWNlbnRzIjpbIlB1ZXJ0byBSaWNvLCBVLlMuQS4iXSwicGFnZSI6MSwibGltaXQiOjI1LCJvZmZzZXQiOjAsInNvcnQiOiIiLCJzb3J0VHlwZSI6IiIsImNsZWFyUGFyYW1zIjpmYWxzZSwia2V5d29yZCI6IiIsInBhZ2VUaXRsZSI6Imw6UHVlcnRvIFJpY28sIFUuUy5BLiIsInByYWN0aWNlQXJlYXMiOlsiQ29ycG9yYXRlIExhdyJdfQ%3D%3D&page=7\n",
      "problemas con el crawler\n",
      "problemas con el crawler\n",
      "accediendo a: https://www.martindale.com/search/attorneys-law-firms-articles/?term=Puerto+Rico%2C+USA&params=eyJ0eXBlIjoicGVvcGxlIiwiY29tcGFyZSI6IiIsInRlcm0iOiJQdWVydG8gUmljbywgVVNBIiwiZ2VvTG9jYXRpb25GYWNldCI6WyJQdWVydG8gUmljbywgVS5TLkEuIl0sImdlb0xvY2F0aW9uRmFjZXRSZWNlbnRzIjpbIlB1ZXJ0byBSaWNvLCBVLlMuQS4iXSwicGFnZSI6MSwibGltaXQiOjI1LCJvZmZzZXQiOjAsInNvcnQiOiIiLCJzb3J0VHlwZSI6IiIsImNsZWFyUGFyYW1zIjpmYWxzZSwia2V5d29yZCI6IiIsInBhZ2VUaXRsZSI6Imw6UHVlcnRvIFJpY28sIFUuUy5BLiIsInByYWN0aWNlQXJlYXMiOlsiQ29ycG9yYXRlIExhdyJdfQ%3D%3D&page=8\n",
      "problemas con el crawler\n",
      "accediendo a: https://www.martindale.com/search/attorneys-law-firms-articles/?term=Puerto+Rico%2C+USA&params=eyJ0eXBlIjoicGVvcGxlIiwiY29tcGFyZSI6IiIsInRlcm0iOiJQdWVydG8gUmljbywgVVNBIiwiZ2VvTG9jYXRpb25GYWNldCI6WyJQdWVydG8gUmljbywgVS5TLkEuIl0sImdlb0xvY2F0aW9uRmFjZXRSZWNlbnRzIjpbIlB1ZXJ0byBSaWNvLCBVLlMuQS4iXSwicGFnZSI6MSwibGltaXQiOjI1LCJvZmZzZXQiOjAsInNvcnQiOiIiLCJzb3J0VHlwZSI6IiIsImNsZWFyUGFyYW1zIjpmYWxzZSwia2V5d29yZCI6IiIsInBhZ2VUaXRsZSI6Imw6UHVlcnRvIFJpY28sIFUuUy5BLiIsInByYWN0aWNlQXJlYXMiOlsiQ29ycG9yYXRlIExhdyJdfQ%3D%3D&page=9\n",
      "https://www.martindale.com/attorney/francisco-a-feliu-nigaglioni-2852611/\n",
      "https://www.martindale.com/attorney/magda-maria-boyles-33749121/\n",
      "accediendo a: https://www.martindale.com/search/attorneys-law-firms-articles/?term=Puerto+Rico%2C+USA&params=eyJ0eXBlIjoicGVvcGxlIiwiY29tcGFyZSI6IiIsInRlcm0iOiJQdWVydG8gUmljbywgVVNBIiwiZ2VvTG9jYXRpb25GYWNldCI6WyJQdWVydG8gUmljbywgVS5TLkEuIl0sImdlb0xvY2F0aW9uRmFjZXRSZWNlbnRzIjpbIlB1ZXJ0byBSaWNvLCBVLlMuQS4iXSwicGFnZSI6MSwibGltaXQiOjI1LCJvZmZzZXQiOjAsInNvcnQiOiIiLCJzb3J0VHlwZSI6IiIsImNsZWFyUGFyYW1zIjpmYWxzZSwia2V5d29yZCI6IiIsInBhZ2VUaXRsZSI6Imw6UHVlcnRvIFJpY28sIFUuUy5BLiIsInByYWN0aWNlQXJlYXMiOlsiQ29ycG9yYXRlIExhdyJdfQ%3D%3D&page=10\n",
      "accediendo a: https://www.martindale.com/search/attorneys-law-firms-articles/?term=Puerto+Rico%2C+USA&params=eyJ0eXBlIjoicGVvcGxlIiwiY29tcGFyZSI6IiIsInRlcm0iOiJQdWVydG8gUmljbywgVVNBIiwiZ2VvTG9jYXRpb25GYWNldCI6WyJQdWVydG8gUmljbywgVS5TLkEuIl0sImdlb0xvY2F0aW9uRmFjZXRSZWNlbnRzIjpbIlB1ZXJ0byBSaWNvLCBVLlMuQS4iXSwicGFnZSI6MSwibGltaXQiOjI1LCJvZmZzZXQiOjAsInNvcnQiOiIiLCJzb3J0VHlwZSI6IiIsImNsZWFyUGFyYW1zIjpmYWxzZSwia2V5d29yZCI6IiIsInBhZ2VUaXRsZSI6Imw6UHVlcnRvIFJpY28sIFUuUy5BLiIsInByYWN0aWNlQXJlYXMiOlsiQ29ycG9yYXRlIExhdyJdfQ%3D%3D&page=11\n",
      "accediendo a: https://www.martindale.com/search/attorneys-law-firms-articles/?term=Puerto+Rico%2C+USA&params=eyJ0eXBlIjoicGVvcGxlIiwiY29tcGFyZSI6IiIsInRlcm0iOiJQdWVydG8gUmljbywgVVNBIiwiZ2VvTG9jYXRpb25GYWNldCI6WyJQdWVydG8gUmljbywgVS5TLkEuIl0sImdlb0xvY2F0aW9uRmFjZXRSZWNlbnRzIjpbIlB1ZXJ0byBSaWNvLCBVLlMuQS4iXSwicGFnZSI6MSwibGltaXQiOjI1LCJvZmZzZXQiOjAsInNvcnQiOiIiLCJzb3J0VHlwZSI6IiIsImNsZWFyUGFyYW1zIjpmYWxzZSwia2V5d29yZCI6IiIsInBhZ2VUaXRsZSI6Imw6UHVlcnRvIFJpY28sIFUuUy5BLiIsInByYWN0aWNlQXJlYXMiOlsiQ29ycG9yYXRlIExhdyJdfQ%3D%3D&page=12\n",
      "accediendo a: https://www.martindale.com/search/attorneys-law-firms-articles/?term=Puerto+Rico%2C+USA&params=eyJ0eXBlIjoicGVvcGxlIiwiY29tcGFyZSI6IiIsInRlcm0iOiJQdWVydG8gUmljbywgVVNBIiwiZ2VvTG9jYXRpb25GYWNldCI6WyJQdWVydG8gUmljbywgVS5TLkEuIl0sImdlb0xvY2F0aW9uRmFjZXRSZWNlbnRzIjpbIlB1ZXJ0byBSaWNvLCBVLlMuQS4iXSwicGFnZSI6MSwibGltaXQiOjI1LCJvZmZzZXQiOjAsInNvcnQiOiIiLCJzb3J0VHlwZSI6IiIsImNsZWFyUGFyYW1zIjpmYWxzZSwia2V5d29yZCI6IiIsInBhZ2VUaXRsZSI6Imw6UHVlcnRvIFJpY28sIFUuUy5BLiIsInByYWN0aWNlQXJlYXMiOlsiQ29ycG9yYXRlIExhdyJdfQ%3D%3D&page=13\n",
      "https://www.martindale.com/attorney/jose-r-coleman-tio-43796588/\n",
      "accediendo a: https://www.martindale.com/search/attorneys-law-firms-articles/?term=Puerto+Rico%2C+USA&params=eyJ0eXBlIjoicGVvcGxlIiwiY29tcGFyZSI6IiIsInRlcm0iOiJQdWVydG8gUmljbywgVVNBIiwiZ2VvTG9jYXRpb25GYWNldCI6WyJQdWVydG8gUmljbywgVS5TLkEuIl0sImdlb0xvY2F0aW9uRmFjZXRSZWNlbnRzIjpbIlB1ZXJ0byBSaWNvLCBVLlMuQS4iXSwicGFnZSI6MSwibGltaXQiOjI1LCJvZmZzZXQiOjAsInNvcnQiOiIiLCJzb3J0VHlwZSI6IiIsImNsZWFyUGFyYW1zIjpmYWxzZSwia2V5d29yZCI6IiIsInBhZ2VUaXRsZSI6Imw6UHVlcnRvIFJpY28sIFUuUy5BLiIsInByYWN0aWNlQXJlYXMiOlsiQ29ycG9yYXRlIExhdyJdfQ%3D%3D&page=14\n",
      "https://www.martindale.com/attorney/maria-elena-gonzalez-1573434/\n",
      "accediendo a: https://www.martindale.com/search/attorneys-law-firms-articles/?term=Puerto+Rico%2C+USA&params=eyJ0eXBlIjoicGVvcGxlIiwiY29tcGFyZSI6IiIsInRlcm0iOiJQdWVydG8gUmljbywgVVNBIiwiZ2VvTG9jYXRpb25GYWNldCI6WyJQdWVydG8gUmljbywgVS5TLkEuIl0sImdlb0xvY2F0aW9uRmFjZXRSZWNlbnRzIjpbIlB1ZXJ0byBSaWNvLCBVLlMuQS4iXSwicGFnZSI6MSwibGltaXQiOjI1LCJvZmZzZXQiOjAsInNvcnQiOiIiLCJzb3J0VHlwZSI6IiIsImNsZWFyUGFyYW1zIjpmYWxzZSwia2V5d29yZCI6IiIsInBhZ2VUaXRsZSI6Imw6UHVlcnRvIFJpY28sIFUuUy5BLiIsInByYWN0aWNlQXJlYXMiOlsiQ29ycG9yYXRlIExhdyJdfQ%3D%3D&page=15\n",
      "https://www.martindale.com/attorney/christian-sobrino-vega-158583663/\n",
      "accediendo a: https://www.martindale.com/search/attorneys-law-firms-articles/?term=Puerto+Rico%2C+USA&params=eyJ0eXBlIjoicGVvcGxlIiwiY29tcGFyZSI6IiIsInRlcm0iOiJQdWVydG8gUmljbywgVVNBIiwiZ2VvTG9jYXRpb25GYWNldCI6WyJQdWVydG8gUmljbywgVS5TLkEuIl0sImdlb0xvY2F0aW9uRmFjZXRSZWNlbnRzIjpbIlB1ZXJ0byBSaWNvLCBVLlMuQS4iXSwicGFnZSI6MSwibGltaXQiOjI1LCJvZmZzZXQiOjAsInNvcnQiOiIiLCJzb3J0VHlwZSI6IiIsImNsZWFyUGFyYW1zIjpmYWxzZSwia2V5d29yZCI6IiIsInBhZ2VUaXRsZSI6Imw6UHVlcnRvIFJpY28sIFUuUy5BLiIsInByYWN0aWNlQXJlYXMiOlsiQ29ycG9yYXRlIExhdyJdfQ%3D%3D&page=16\n",
      "accediendo a: https://www.martindale.com/search/attorneys-law-firms-articles/?term=Puerto+Rico%2C+USA&params=eyJ0eXBlIjoicGVvcGxlIiwiY29tcGFyZSI6IiIsInRlcm0iOiJQdWVydG8gUmljbywgVVNBIiwiZ2VvTG9jYXRpb25GYWNldCI6WyJQdWVydG8gUmljbywgVS5TLkEuIl0sImdlb0xvY2F0aW9uRmFjZXRSZWNlbnRzIjpbIlB1ZXJ0byBSaWNvLCBVLlMuQS4iXSwicGFnZSI6MSwibGltaXQiOjI1LCJvZmZzZXQiOjAsInNvcnQiOiIiLCJzb3J0VHlwZSI6IiIsImNsZWFyUGFyYW1zIjpmYWxzZSwia2V5d29yZCI6IiIsInBhZ2VUaXRsZSI6Imw6UHVlcnRvIFJpY28sIFUuUy5BLiIsInByYWN0aWNlQXJlYXMiOlsiQ29ycG9yYXRlIExhdyJdfQ%3D%3D&page=17\n",
      "accediendo a: https://www.martindale.com/search/attorneys-law-firms-articles/?term=Puerto+Rico%2C+USA&params=eyJ0eXBlIjoicGVvcGxlIiwiY29tcGFyZSI6IiIsInRlcm0iOiJQdWVydG8gUmljbywgVVNBIiwiZ2VvTG9jYXRpb25GYWNldCI6WyJQdWVydG8gUmljbywgVS5TLkEuIl0sImdlb0xvY2F0aW9uRmFjZXRSZWNlbnRzIjpbIlB1ZXJ0byBSaWNvLCBVLlMuQS4iXSwicGFnZSI6MSwibGltaXQiOjI1LCJvZmZzZXQiOjAsInNvcnQiOiIiLCJzb3J0VHlwZSI6IiIsImNsZWFyUGFyYW1zIjpmYWxzZSwia2V5d29yZCI6IiIsInBhZ2VUaXRsZSI6Imw6UHVlcnRvIFJpY28sIFUuUy5BLiIsInByYWN0aWNlQXJlYXMiOlsiQ29ycG9yYXRlIExhdyJdfQ%3D%3D&page=18\n",
      "accediendo a: https://www.martindale.com/search/attorneys-law-firms-articles/?term=Puerto+Rico%2C+USA&params=eyJ0eXBlIjoicGVvcGxlIiwiY29tcGFyZSI6IiIsInRlcm0iOiJQdWVydG8gUmljbywgVVNBIiwiZ2VvTG9jYXRpb25GYWNldCI6WyJQdWVydG8gUmljbywgVS5TLkEuIl0sImdlb0xvY2F0aW9uRmFjZXRSZWNlbnRzIjpbIlB1ZXJ0byBSaWNvLCBVLlMuQS4iXSwicGFnZSI6MSwibGltaXQiOjI1LCJvZmZzZXQiOjAsInNvcnQiOiIiLCJzb3J0VHlwZSI6IiIsImNsZWFyUGFyYW1zIjpmYWxzZSwia2V5d29yZCI6IiIsInBhZ2VUaXRsZSI6Imw6UHVlcnRvIFJpY28sIFUuUy5BLiIsInByYWN0aWNlQXJlYXMiOlsiQ29ycG9yYXRlIExhdyJdfQ%3D%3D&page=19\n",
      "accediendo a: https://www.martindale.com/search/attorneys-law-firms-articles/?term=Puerto+Rico%2C+USA&params=eyJ0eXBlIjoicGVvcGxlIiwiY29tcGFyZSI6IiIsInRlcm0iOiJQdWVydG8gUmljbywgVVNBIiwiZ2VvTG9jYXRpb25GYWNldCI6WyJQdWVydG8gUmljbywgVS5TLkEuIl0sImdlb0xvY2F0aW9uRmFjZXRSZWNlbnRzIjpbIlB1ZXJ0byBSaWNvLCBVLlMuQS4iXSwicGFnZSI6MSwibGltaXQiOjI1LCJvZmZzZXQiOjAsInNvcnQiOiIiLCJzb3J0VHlwZSI6IiIsImNsZWFyUGFyYW1zIjpmYWxzZSwia2V5d29yZCI6IiIsInBhZ2VUaXRsZSI6Imw6UHVlcnRvIFJpY28sIFUuUy5BLiIsInByYWN0aWNlQXJlYXMiOlsiQ29ycG9yYXRlIExhdyJdfQ%3D%3D&page=20\n"
     ]
    },
    {
     "name": "stderr",
     "output_type": "stream",
     "text": [
      " 36%|███▋      | 33/91 [14:58<49:06, 50.80s/it]"
     ]
    },
    {
     "name": "stdout",
     "output_type": "stream",
     "text": [
      "paginas en esta url: 1\n",
      "accediendo a: https://www.martindale.com/search/attorneys-law-firms-articles/?term=Puerto+Rico%2C+USA&params=eyJ0eXBlIjoicGVvcGxlIiwiY29tcGFyZSI6IiIsInRlcm0iOiJQdWVydG8gUmljbywgVVNBIiwiZ2VvTG9jYXRpb25GYWNldCI6WyJQdWVydG8gUmljbywgVS5TLkEuIl0sImdlb0xvY2F0aW9uRmFjZXRSZWNlbnRzIjpbIlB1ZXJ0byBSaWNvLCBVLlMuQS4iXSwicGFnZSI6MSwibGltaXQiOjI1LCJvZmZzZXQiOjAsInNvcnQiOiIiLCJzb3J0VHlwZSI6IiIsImNsZWFyUGFyYW1zIjpmYWxzZSwia2V5d29yZCI6IiIsInBhZ2VUaXRsZSI6Imw6UHVlcnRvIFJpY28sIFUuUy5BLiIsInByYWN0aWNlQXJlYXMiOlsiRWxlY3Rpb24sIENhbXBhaWduIGFuZCBQb2xpdGljYWwgTGF3Il19\n",
      "problemas con el crawler\n",
      "problemas con el crawler\n"
     ]
    },
    {
     "name": "stderr",
     "output_type": "stream",
     "text": [
      " 37%|███▋      | 34/91 [16:18<56:25, 59.39s/it]"
     ]
    },
    {
     "name": "stdout",
     "output_type": "stream",
     "text": [
      "paginas en esta url: 1\n",
      "accediendo a: https://www.martindale.com/search/attorneys-law-firms-articles/?term=Puerto+Rico%2C+USA&params=eyJ0eXBlIjoicGVvcGxlIiwiY29tcGFyZSI6IiIsInRlcm0iOiJQdWVydG8gUmljbywgVVNBIiwiZ2VvTG9jYXRpb25GYWNldCI6WyJQdWVydG8gUmljbywgVS5TLkEuIl0sImdlb0xvY2F0aW9uRmFjZXRSZWNlbnRzIjpbIlB1ZXJ0byBSaWNvLCBVLlMuQS4iXSwicGFnZSI6MSwibGltaXQiOjI1LCJvZmZzZXQiOjAsInNvcnQiOiIiLCJzb3J0VHlwZSI6IiIsImNsZWFyUGFyYW1zIjpmYWxzZSwia2V5d29yZCI6IiIsInBhZ2VUaXRsZSI6Imw6UHVlcnRvIFJpY28sIFUuUy5BLiIsInByYWN0aWNlQXJlYXMiOlsiQXN5bHVtIl19\n"
     ]
    },
    {
     "name": "stderr",
     "output_type": "stream",
     "text": [
      " 38%|███▊      | 35/91 [16:42<45:39, 48.92s/it]"
     ]
    },
    {
     "name": "stdout",
     "output_type": "stream",
     "text": [
      "paginas en esta url: 1\n",
      "accediendo a: https://www.martindale.com/search/attorneys-law-firms-articles/?term=Puerto+Rico%2C+USA&params=eyJ0eXBlIjoicGVvcGxlIiwiY29tcGFyZSI6IiIsInRlcm0iOiJQdWVydG8gUmljbywgVVNBIiwiZ2VvTG9jYXRpb25GYWNldCI6WyJQdWVydG8gUmljbywgVS5TLkEuIl0sImdlb0xvY2F0aW9uRmFjZXRSZWNlbnRzIjpbIlB1ZXJ0byBSaWNvLCBVLlMuQS4iXSwicGFnZSI6MSwibGltaXQiOjI1LCJvZmZzZXQiOjAsInNvcnQiOiIiLCJzb3J0VHlwZSI6IiIsImNsZWFyUGFyYW1zIjpmYWxzZSwia2V5d29yZCI6IiIsInBhZ2VUaXRsZSI6Imw6UHVlcnRvIFJpY28sIFUuUy5BLiIsInByYWN0aWNlQXJlYXMiOlsiV2VhcG9ucyBDaGFyZ2VzIl19\n"
     ]
    },
    {
     "name": "stderr",
     "output_type": "stream",
     "text": [
      " 40%|███▉      | 36/91 [17:05<37:40, 41.10s/it]"
     ]
    },
    {
     "name": "stdout",
     "output_type": "stream",
     "text": [
      "paginas en esta url: 1\n",
      "accediendo a: https://www.martindale.com/search/attorneys-law-firms-articles/?term=Puerto+Rico%2C+USA&params=eyJ0eXBlIjoicGVvcGxlIiwiY29tcGFyZSI6IiIsInRlcm0iOiJQdWVydG8gUmljbywgVVNBIiwiZ2VvTG9jYXRpb25GYWNldCI6WyJQdWVydG8gUmljbywgVS5TLkEuIl0sImdlb0xvY2F0aW9uRmFjZXRSZWNlbnRzIjpbIlB1ZXJ0byBSaWNvLCBVLlMuQS4iXSwicGFnZSI6MSwibGltaXQiOjI1LCJvZmZzZXQiOjAsInNvcnQiOiIiLCJzb3J0VHlwZSI6IiIsImNsZWFyUGFyYW1zIjpmYWxzZSwia2V5d29yZCI6IiIsInBhZ2VUaXRsZSI6Imw6UHVlcnRvIFJpY28sIFUuUy5BLiIsInByYWN0aWNlQXJlYXMiOlsiVHJhbnNwb3J0YXRpb24iXX0%3D\n"
     ]
    },
    {
     "name": "stderr",
     "output_type": "stream",
     "text": [
      " 41%|████      | 37/91 [17:29<32:14, 35.82s/it]"
     ]
    },
    {
     "name": "stdout",
     "output_type": "stream",
     "text": [
      "paginas en esta url: 1\n",
      "accediendo a: https://www.martindale.com/search/attorneys-law-firms-articles/?term=Puerto+Rico%2C+USA&params=eyJ0eXBlIjoicGVvcGxlIiwiY29tcGFyZSI6IiIsInRlcm0iOiJQdWVydG8gUmljbywgVVNBIiwiZ2VvTG9jYXRpb25GYWNldCI6WyJQdWVydG8gUmljbywgVS5TLkEuIl0sImdlb0xvY2F0aW9uRmFjZXRSZWNlbnRzIjpbIlB1ZXJ0byBSaWNvLCBVLlMuQS4iXSwicGFnZSI6MSwibGltaXQiOjI1LCJvZmZzZXQiOjAsInNvcnQiOiIiLCJzb3J0VHlwZSI6IiIsImNsZWFyUGFyYW1zIjpmYWxzZSwia2V5d29yZCI6IiIsInBhZ2VUaXRsZSI6Imw6UHVlcnRvIFJpY28sIFUuUy5BLiIsInByYWN0aWNlQXJlYXMiOlsiUHJvZmVzc2lvbmFsIExpYWJpbGl0eSJdfQ%3D%3D\n"
     ]
    },
    {
     "name": "stderr",
     "output_type": "stream",
     "text": [
      " 42%|████▏     | 38/91 [17:54<28:48, 32.62s/it]"
     ]
    },
    {
     "name": "stdout",
     "output_type": "stream",
     "text": [
      "paginas en esta url: 1\n",
      "accediendo a: https://www.martindale.com/search/attorneys-law-firms-articles/?term=Puerto+Rico%2C+USA&params=eyJ0eXBlIjoicGVvcGxlIiwiY29tcGFyZSI6IiIsInRlcm0iOiJQdWVydG8gUmljbywgVVNBIiwiZ2VvTG9jYXRpb25GYWNldCI6WyJQdWVydG8gUmljbywgVS5TLkEuIl0sImdlb0xvY2F0aW9uRmFjZXRSZWNlbnRzIjpbIlB1ZXJ0byBSaWNvLCBVLlMuQS4iXSwicGFnZSI6MSwibGltaXQiOjI1LCJvZmZzZXQiOjAsInNvcnQiOiIiLCJzb3J0VHlwZSI6IiIsImNsZWFyUGFyYW1zIjpmYWxzZSwia2V5d29yZCI6IiIsInBhZ2VUaXRsZSI6Imw6UHVlcnRvIFJpY28sIFUuUy5BLiIsInByYWN0aWNlQXJlYXMiOlsiVG94aWMgVG9ydHMiXX0%3D\n"
     ]
    },
    {
     "name": "stderr",
     "output_type": "stream",
     "text": [
      " 43%|████▎     | 39/91 [18:18<26:03, 30.07s/it]"
     ]
    },
    {
     "name": "stdout",
     "output_type": "stream",
     "text": [
      "paginas en esta url: 2\n",
      "accediendo a: https://www.martindale.com/search/attorneys-law-firms-articles/?term=Puerto+Rico%2C+USA&params=eyJ0eXBlIjoicGVvcGxlIiwiY29tcGFyZSI6IiIsInRlcm0iOiJQdWVydG8gUmljbywgVVNBIiwiZ2VvTG9jYXRpb25GYWNldCI6WyJQdWVydG8gUmljbywgVS5TLkEuIl0sImdlb0xvY2F0aW9uRmFjZXRSZWNlbnRzIjpbIlB1ZXJ0byBSaWNvLCBVLlMuQS4iXSwicGFnZSI6MSwibGltaXQiOjI1LCJvZmZzZXQiOjAsInNvcnQiOiIiLCJzb3J0VHlwZSI6IiIsImNsZWFyUGFyYW1zIjpmYWxzZSwia2V5d29yZCI6IiIsInBhZ2VUaXRsZSI6Imw6UHVlcnRvIFJpY28sIFUuUy5BLiIsInByYWN0aWNlQXJlYXMiOlsiQXZpYXRpb24gTGF3Il19\n",
      "accediendo a: https://www.martindale.com/search/attorneys-law-firms-articles/?term=Puerto+Rico%2C+USA&params=eyJ0eXBlIjoicGVvcGxlIiwiY29tcGFyZSI6IiIsInRlcm0iOiJQdWVydG8gUmljbywgVVNBIiwiZ2VvTG9jYXRpb25GYWNldCI6WyJQdWVydG8gUmljbywgVS5TLkEuIl0sImdlb0xvY2F0aW9uRmFjZXRSZWNlbnRzIjpbIlB1ZXJ0byBSaWNvLCBVLlMuQS4iXSwicGFnZSI6MSwibGltaXQiOjI1LCJvZmZzZXQiOjAsInNvcnQiOiIiLCJzb3J0VHlwZSI6IiIsImNsZWFyUGFyYW1zIjpmYWxzZSwia2V5d29yZCI6IiIsInBhZ2VUaXRsZSI6Imw6UHVlcnRvIFJpY28sIFUuUy5BLiIsInByYWN0aWNlQXJlYXMiOlsiQXZpYXRpb24gTGF3Il19&page=2\n"
     ]
    },
    {
     "name": "stderr",
     "output_type": "stream",
     "text": [
      " 44%|████▍     | 40/91 [18:29<20:38, 24.28s/it]"
     ]
    },
    {
     "name": "stdout",
     "output_type": "stream",
     "text": [
      "paginas en esta url: 1\n",
      "accediendo a: https://www.martindale.com/search/attorneys-law-firms-articles/?term=Puerto+Rico%2C+USA&params=eyJ0eXBlIjoicGVvcGxlIiwiY29tcGFyZSI6IiIsInRlcm0iOiJQdWVydG8gUmljbywgVVNBIiwiZ2VvTG9jYXRpb25GYWNldCI6WyJQdWVydG8gUmljbywgVS5TLkEuIl0sImdlb0xvY2F0aW9uRmFjZXRSZWNlbnRzIjpbIlB1ZXJ0byBSaWNvLCBVLlMuQS4iXSwicGFnZSI6MSwibGltaXQiOjI1LCJvZmZzZXQiOjAsInNvcnQiOiIiLCJzb3J0VHlwZSI6IiIsImNsZWFyUGFyYW1zIjpmYWxzZSwia2V5d29yZCI6IiIsInBhZ2VUaXRsZSI6Imw6UHVlcnRvIFJpY28sIFUuUy5BLiIsInByYWN0aWNlQXJlYXMiOlsiRW1wbG95bWVudCBDb250cmFjdHMiXX0%3D\n"
     ]
    },
    {
     "name": "stderr",
     "output_type": "stream",
     "text": [
      " 45%|████▌     | 41/91 [18:52<20:02, 24.05s/it]"
     ]
    },
    {
     "name": "stdout",
     "output_type": "stream",
     "text": [
      "paginas en esta url: 10\n",
      "accediendo a: https://www.martindale.com/search/attorneys-law-firms-articles/?term=Puerto+Rico%2C+USA&params=eyJ0eXBlIjoicGVvcGxlIiwiY29tcGFyZSI6IiIsInRlcm0iOiJQdWVydG8gUmljbywgVVNBIiwiZ2VvTG9jYXRpb25GYWNldCI6WyJQdWVydG8gUmljbywgVS5TLkEuIl0sImdlb0xvY2F0aW9uRmFjZXRSZWNlbnRzIjpbIlB1ZXJ0byBSaWNvLCBVLlMuQS4iXSwicGFnZSI6MSwibGltaXQiOjI1LCJvZmZzZXQiOjAsInNvcnQiOiIiLCJzb3J0VHlwZSI6IiIsImNsZWFyUGFyYW1zIjpmYWxzZSwia2V5d29yZCI6IiIsInBhZ2VUaXRsZSI6Imw6UHVlcnRvIFJpY28sIFUuUy5BLiIsInByYWN0aWNlQXJlYXMiOlsiVGF4YXRpb24iXX0%3D\n",
      "accediendo a: https://www.martindale.com/search/attorneys-law-firms-articles/?term=Puerto+Rico%2C+USA&params=eyJ0eXBlIjoicGVvcGxlIiwiY29tcGFyZSI6IiIsInRlcm0iOiJQdWVydG8gUmljbywgVVNBIiwiZ2VvTG9jYXRpb25GYWNldCI6WyJQdWVydG8gUmljbywgVS5TLkEuIl0sImdlb0xvY2F0aW9uRmFjZXRSZWNlbnRzIjpbIlB1ZXJ0byBSaWNvLCBVLlMuQS4iXSwicGFnZSI6MSwibGltaXQiOjI1LCJvZmZzZXQiOjAsInNvcnQiOiIiLCJzb3J0VHlwZSI6IiIsImNsZWFyUGFyYW1zIjpmYWxzZSwia2V5d29yZCI6IiIsInBhZ2VUaXRsZSI6Imw6UHVlcnRvIFJpY28sIFUuUy5BLiIsInByYWN0aWNlQXJlYXMiOlsiVGF4YXRpb24iXX0%3D&page=2\n",
      "accediendo a: https://www.martindale.com/search/attorneys-law-firms-articles/?term=Puerto+Rico%2C+USA&params=eyJ0eXBlIjoicGVvcGxlIiwiY29tcGFyZSI6IiIsInRlcm0iOiJQdWVydG8gUmljbywgVVNBIiwiZ2VvTG9jYXRpb25GYWNldCI6WyJQdWVydG8gUmljbywgVS5TLkEuIl0sImdlb0xvY2F0aW9uRmFjZXRSZWNlbnRzIjpbIlB1ZXJ0byBSaWNvLCBVLlMuQS4iXSwicGFnZSI6MSwibGltaXQiOjI1LCJvZmZzZXQiOjAsInNvcnQiOiIiLCJzb3J0VHlwZSI6IiIsImNsZWFyUGFyYW1zIjpmYWxzZSwia2V5d29yZCI6IiIsInBhZ2VUaXRsZSI6Imw6UHVlcnRvIFJpY28sIFUuUy5BLiIsInByYWN0aWNlQXJlYXMiOlsiVGF4YXRpb24iXX0%3D&page=3\n",
      "accediendo a: https://www.martindale.com/search/attorneys-law-firms-articles/?term=Puerto+Rico%2C+USA&params=eyJ0eXBlIjoicGVvcGxlIiwiY29tcGFyZSI6IiIsInRlcm0iOiJQdWVydG8gUmljbywgVVNBIiwiZ2VvTG9jYXRpb25GYWNldCI6WyJQdWVydG8gUmljbywgVS5TLkEuIl0sImdlb0xvY2F0aW9uRmFjZXRSZWNlbnRzIjpbIlB1ZXJ0byBSaWNvLCBVLlMuQS4iXSwicGFnZSI6MSwibGltaXQiOjI1LCJvZmZzZXQiOjAsInNvcnQiOiIiLCJzb3J0VHlwZSI6IiIsImNsZWFyUGFyYW1zIjpmYWxzZSwia2V5d29yZCI6IiIsInBhZ2VUaXRsZSI6Imw6UHVlcnRvIFJpY28sIFUuUy5BLiIsInByYWN0aWNlQXJlYXMiOlsiVGF4YXRpb24iXX0%3D&page=4\n",
      "accediendo a: https://www.martindale.com/search/attorneys-law-firms-articles/?term=Puerto+Rico%2C+USA&params=eyJ0eXBlIjoicGVvcGxlIiwiY29tcGFyZSI6IiIsInRlcm0iOiJQdWVydG8gUmljbywgVVNBIiwiZ2VvTG9jYXRpb25GYWNldCI6WyJQdWVydG8gUmljbywgVS5TLkEuIl0sImdlb0xvY2F0aW9uRmFjZXRSZWNlbnRzIjpbIlB1ZXJ0byBSaWNvLCBVLlMuQS4iXSwicGFnZSI6MSwibGltaXQiOjI1LCJvZmZzZXQiOjAsInNvcnQiOiIiLCJzb3J0VHlwZSI6IiIsImNsZWFyUGFyYW1zIjpmYWxzZSwia2V5d29yZCI6IiIsInBhZ2VUaXRsZSI6Imw6UHVlcnRvIFJpY28sIFUuUy5BLiIsInByYWN0aWNlQXJlYXMiOlsiVGF4YXRpb24iXX0%3D&page=5\n",
      "accediendo a: https://www.martindale.com/search/attorneys-law-firms-articles/?term=Puerto+Rico%2C+USA&params=eyJ0eXBlIjoicGVvcGxlIiwiY29tcGFyZSI6IiIsInRlcm0iOiJQdWVydG8gUmljbywgVVNBIiwiZ2VvTG9jYXRpb25GYWNldCI6WyJQdWVydG8gUmljbywgVS5TLkEuIl0sImdlb0xvY2F0aW9uRmFjZXRSZWNlbnRzIjpbIlB1ZXJ0byBSaWNvLCBVLlMuQS4iXSwicGFnZSI6MSwibGltaXQiOjI1LCJvZmZzZXQiOjAsInNvcnQiOiIiLCJzb3J0VHlwZSI6IiIsImNsZWFyUGFyYW1zIjpmYWxzZSwia2V5d29yZCI6IiIsInBhZ2VUaXRsZSI6Imw6UHVlcnRvIFJpY28sIFUuUy5BLiIsInByYWN0aWNlQXJlYXMiOlsiVGF4YXRpb24iXX0%3D&page=6\n",
      "accediendo a: https://www.martindale.com/search/attorneys-law-firms-articles/?term=Puerto+Rico%2C+USA&params=eyJ0eXBlIjoicGVvcGxlIiwiY29tcGFyZSI6IiIsInRlcm0iOiJQdWVydG8gUmljbywgVVNBIiwiZ2VvTG9jYXRpb25GYWNldCI6WyJQdWVydG8gUmljbywgVS5TLkEuIl0sImdlb0xvY2F0aW9uRmFjZXRSZWNlbnRzIjpbIlB1ZXJ0byBSaWNvLCBVLlMuQS4iXSwicGFnZSI6MSwibGltaXQiOjI1LCJvZmZzZXQiOjAsInNvcnQiOiIiLCJzb3J0VHlwZSI6IiIsImNsZWFyUGFyYW1zIjpmYWxzZSwia2V5d29yZCI6IiIsInBhZ2VUaXRsZSI6Imw6UHVlcnRvIFJpY28sIFUuUy5BLiIsInByYWN0aWNlQXJlYXMiOlsiVGF4YXRpb24iXX0%3D&page=7\n",
      "accediendo a: https://www.martindale.com/search/attorneys-law-firms-articles/?term=Puerto+Rico%2C+USA&params=eyJ0eXBlIjoicGVvcGxlIiwiY29tcGFyZSI6IiIsInRlcm0iOiJQdWVydG8gUmljbywgVVNBIiwiZ2VvTG9jYXRpb25GYWNldCI6WyJQdWVydG8gUmljbywgVS5TLkEuIl0sImdlb0xvY2F0aW9uRmFjZXRSZWNlbnRzIjpbIlB1ZXJ0byBSaWNvLCBVLlMuQS4iXSwicGFnZSI6MSwibGltaXQiOjI1LCJvZmZzZXQiOjAsInNvcnQiOiIiLCJzb3J0VHlwZSI6IiIsImNsZWFyUGFyYW1zIjpmYWxzZSwia2V5d29yZCI6IiIsInBhZ2VUaXRsZSI6Imw6UHVlcnRvIFJpY28sIFUuUy5BLiIsInByYWN0aWNlQXJlYXMiOlsiVGF4YXRpb24iXX0%3D&page=8\n",
      "accediendo a: https://www.martindale.com/search/attorneys-law-firms-articles/?term=Puerto+Rico%2C+USA&params=eyJ0eXBlIjoicGVvcGxlIiwiY29tcGFyZSI6IiIsInRlcm0iOiJQdWVydG8gUmljbywgVVNBIiwiZ2VvTG9jYXRpb25GYWNldCI6WyJQdWVydG8gUmljbywgVS5TLkEuIl0sImdlb0xvY2F0aW9uRmFjZXRSZWNlbnRzIjpbIlB1ZXJ0byBSaWNvLCBVLlMuQS4iXSwicGFnZSI6MSwibGltaXQiOjI1LCJvZmZzZXQiOjAsInNvcnQiOiIiLCJzb3J0VHlwZSI6IiIsImNsZWFyUGFyYW1zIjpmYWxzZSwia2V5d29yZCI6IiIsInBhZ2VUaXRsZSI6Imw6UHVlcnRvIFJpY28sIFUuUy5BLiIsInByYWN0aWNlQXJlYXMiOlsiVGF4YXRpb24iXX0%3D&page=9\n",
      "accediendo a: https://www.martindale.com/search/attorneys-law-firms-articles/?term=Puerto+Rico%2C+USA&params=eyJ0eXBlIjoicGVvcGxlIiwiY29tcGFyZSI6IiIsInRlcm0iOiJQdWVydG8gUmljbywgVVNBIiwiZ2VvTG9jYXRpb25GYWNldCI6WyJQdWVydG8gUmljbywgVS5TLkEuIl0sImdlb0xvY2F0aW9uRmFjZXRSZWNlbnRzIjpbIlB1ZXJ0byBSaWNvLCBVLlMuQS4iXSwicGFnZSI6MSwibGltaXQiOjI1LCJvZmZzZXQiOjAsInNvcnQiOiIiLCJzb3J0VHlwZSI6IiIsImNsZWFyUGFyYW1zIjpmYWxzZSwia2V5d29yZCI6IiIsInBhZ2VUaXRsZSI6Imw6UHVlcnRvIFJpY28sIFUuUy5BLiIsInByYWN0aWNlQXJlYXMiOlsiVGF4YXRpb24iXX0%3D&page=10\n"
     ]
    },
    {
     "name": "stderr",
     "output_type": "stream",
     "text": [
      " 46%|████▌     | 42/91 [19:15<19:15, 23.59s/it]"
     ]
    },
    {
     "name": "stdout",
     "output_type": "stream",
     "text": [
      "paginas en esta url: 20\n",
      "accediendo a: https://www.martindale.com/search/attorneys-law-firms-articles/?term=Puerto+Rico%2C+USA&params=eyJ0eXBlIjoicGVvcGxlIiwiY29tcGFyZSI6IiIsInRlcm0iOiJQdWVydG8gUmljbywgVVNBIiwiZ2VvTG9jYXRpb25GYWNldCI6WyJQdWVydG8gUmljbywgVS5TLkEuIl0sImdlb0xvY2F0aW9uRmFjZXRSZWNlbnRzIjpbIlB1ZXJ0byBSaWNvLCBVLlMuQS4iXSwicGFnZSI6MSwibGltaXQiOjI1LCJvZmZzZXQiOjAsInNvcnQiOiIiLCJzb3J0VHlwZSI6IiIsImNsZWFyUGFyYW1zIjpmYWxzZSwia2V5d29yZCI6IiIsInBhZ2VUaXRsZSI6Imw6UHVlcnRvIFJpY28sIFUuUy5BLiIsInByYWN0aWNlQXJlYXMiOlsiTGl0aWdhdGlvbiJdfQ%3D%3D\n",
      "https://www.martindale.com/attorney/diana-batista-jimenez-1572568/\n",
      "https://www.martindale.com/attorney/antonio-borres-otero-1999069/\n",
      "accediendo a: https://www.martindale.com/search/attorneys-law-firms-articles/?term=Puerto+Rico%2C+USA&params=eyJ0eXBlIjoicGVvcGxlIiwiY29tcGFyZSI6IiIsInRlcm0iOiJQdWVydG8gUmljbywgVVNBIiwiZ2VvTG9jYXRpb25GYWNldCI6WyJQdWVydG8gUmljbywgVS5TLkEuIl0sImdlb0xvY2F0aW9uRmFjZXRSZWNlbnRzIjpbIlB1ZXJ0byBSaWNvLCBVLlMuQS4iXSwicGFnZSI6MSwibGltaXQiOjI1LCJvZmZzZXQiOjAsInNvcnQiOiIiLCJzb3J0VHlwZSI6IiIsImNsZWFyUGFyYW1zIjpmYWxzZSwia2V5d29yZCI6IiIsInBhZ2VUaXRsZSI6Imw6UHVlcnRvIFJpY28sIFUuUy5BLiIsInByYWN0aWNlQXJlYXMiOlsiTGl0aWdhdGlvbiJdfQ%3D%3D&page=2\n",
      "https://www.martindale.com/attorney/hilda-quinones-rivera-157265006/\n",
      "https://www.martindale.com/attorney/antonio-jimenez-miranda-1573480/\n",
      "https://www.martindale.com/attorney/katarina-stipec-1572286/\n",
      "accediendo a: https://www.martindale.com/search/attorneys-law-firms-articles/?term=Puerto+Rico%2C+USA&params=eyJ0eXBlIjoicGVvcGxlIiwiY29tcGFyZSI6IiIsInRlcm0iOiJQdWVydG8gUmljbywgVVNBIiwiZ2VvTG9jYXRpb25GYWNldCI6WyJQdWVydG8gUmljbywgVS5TLkEuIl0sImdlb0xvY2F0aW9uRmFjZXRSZWNlbnRzIjpbIlB1ZXJ0byBSaWNvLCBVLlMuQS4iXSwicGFnZSI6MSwibGltaXQiOjI1LCJvZmZzZXQiOjAsInNvcnQiOiIiLCJzb3J0VHlwZSI6IiIsImNsZWFyUGFyYW1zIjpmYWxzZSwia2V5d29yZCI6IiIsInBhZ2VUaXRsZSI6Imw6UHVlcnRvIFJpY28sIFUuUy5BLiIsInByYWN0aWNlQXJlYXMiOlsiTGl0aWdhdGlvbiJdfQ%3D%3D&page=3\n",
      "https://www.martindale.com/attorney/nikie-marie-lopez-pagan-13537746/\n",
      "https://www.martindale.com/attorney/david-gomez-rosario-1572389/\n",
      "accediendo a: https://www.martindale.com/search/attorneys-law-firms-articles/?term=Puerto+Rico%2C+USA&params=eyJ0eXBlIjoicGVvcGxlIiwiY29tcGFyZSI6IiIsInRlcm0iOiJQdWVydG8gUmljbywgVVNBIiwiZ2VvTG9jYXRpb25GYWNldCI6WyJQdWVydG8gUmljbywgVS5TLkEuIl0sImdlb0xvY2F0aW9uRmFjZXRSZWNlbnRzIjpbIlB1ZXJ0byBSaWNvLCBVLlMuQS4iXSwicGFnZSI6MSwibGltaXQiOjI1LCJvZmZzZXQiOjAsInNvcnQiOiIiLCJzb3J0VHlwZSI6IiIsImNsZWFyUGFyYW1zIjpmYWxzZSwia2V5d29yZCI6IiIsInBhZ2VUaXRsZSI6Imw6UHVlcnRvIFJpY28sIFUuUy5BLiIsInByYWN0aWNlQXJlYXMiOlsiTGl0aWdhdGlvbiJdfQ%3D%3D&page=4\n",
      "https://www.martindale.com/attorney/arlene-v-patino-lorenzo-13230809/\n",
      "https://www.martindale.com/attorney/javier-cuevas-silva-1571993/\n",
      "https://www.martindale.com/attorney/gloria-m-sierra-enriquez-1572206/\n",
      "accediendo a: https://www.martindale.com/search/attorneys-law-firms-articles/?term=Puerto+Rico%2C+USA&params=eyJ0eXBlIjoicGVvcGxlIiwiY29tcGFyZSI6IiIsInRlcm0iOiJQdWVydG8gUmljbywgVVNBIiwiZ2VvTG9jYXRpb25GYWNldCI6WyJQdWVydG8gUmljbywgVS5TLkEuIl0sImdlb0xvY2F0aW9uRmFjZXRSZWNlbnRzIjpbIlB1ZXJ0byBSaWNvLCBVLlMuQS4iXSwicGFnZSI6MSwibGltaXQiOjI1LCJvZmZzZXQiOjAsInNvcnQiOiIiLCJzb3J0VHlwZSI6IiIsImNsZWFyUGFyYW1zIjpmYWxzZSwia2V5d29yZCI6IiIsInBhZ2VUaXRsZSI6Imw6UHVlcnRvIFJpY28sIFUuUy5BLiIsInByYWN0aWNlQXJlYXMiOlsiTGl0aWdhdGlvbiJdfQ%3D%3D&page=5\n",
      "https://www.martindale.com/attorney/baltasar-corrada-del-rio-1572269/\n",
      "https://www.martindale.com/attorney/nuyen-lin-marrero-bonilla-2529641/\n",
      "https://www.martindale.com/attorney/eileen-montalvo-munoz-2177891/\n",
      "accediendo a: https://www.martindale.com/search/attorneys-law-firms-articles/?term=Puerto+Rico%2C+USA&params=eyJ0eXBlIjoicGVvcGxlIiwiY29tcGFyZSI6IiIsInRlcm0iOiJQdWVydG8gUmljbywgVVNBIiwiZ2VvTG9jYXRpb25GYWNldCI6WyJQdWVydG8gUmljbywgVS5TLkEuIl0sImdlb0xvY2F0aW9uRmFjZXRSZWNlbnRzIjpbIlB1ZXJ0byBSaWNvLCBVLlMuQS4iXSwicGFnZSI6MSwibGltaXQiOjI1LCJvZmZzZXQiOjAsInNvcnQiOiIiLCJzb3J0VHlwZSI6IiIsImNsZWFyUGFyYW1zIjpmYWxzZSwia2V5d29yZCI6IiIsInBhZ2VUaXRsZSI6Imw6UHVlcnRvIFJpY28sIFUuUy5BLiIsInByYWN0aWNlQXJlYXMiOlsiTGl0aWdhdGlvbiJdfQ%3D%3D&page=6\n",
      "accediendo a: https://www.martindale.com/search/attorneys-law-firms-articles/?term=Puerto+Rico%2C+USA&params=eyJ0eXBlIjoicGVvcGxlIiwiY29tcGFyZSI6IiIsInRlcm0iOiJQdWVydG8gUmljbywgVVNBIiwiZ2VvTG9jYXRpb25GYWNldCI6WyJQdWVydG8gUmljbywgVS5TLkEuIl0sImdlb0xvY2F0aW9uRmFjZXRSZWNlbnRzIjpbIlB1ZXJ0byBSaWNvLCBVLlMuQS4iXSwicGFnZSI6MSwibGltaXQiOjI1LCJvZmZzZXQiOjAsInNvcnQiOiIiLCJzb3J0VHlwZSI6IiIsImNsZWFyUGFyYW1zIjpmYWxzZSwia2V5d29yZCI6IiIsInBhZ2VUaXRsZSI6Imw6UHVlcnRvIFJpY28sIFUuUy5BLiIsInByYWN0aWNlQXJlYXMiOlsiTGl0aWdhdGlvbiJdfQ%3D%3D&page=7\n",
      "problemas con el crawler\n",
      "problemas con el crawler\n",
      "accediendo a: https://www.martindale.com/search/attorneys-law-firms-articles/?term=Puerto+Rico%2C+USA&params=eyJ0eXBlIjoicGVvcGxlIiwiY29tcGFyZSI6IiIsInRlcm0iOiJQdWVydG8gUmljbywgVVNBIiwiZ2VvTG9jYXRpb25GYWNldCI6WyJQdWVydG8gUmljbywgVS5TLkEuIl0sImdlb0xvY2F0aW9uRmFjZXRSZWNlbnRzIjpbIlB1ZXJ0byBSaWNvLCBVLlMuQS4iXSwicGFnZSI6MSwibGltaXQiOjI1LCJvZmZzZXQiOjAsInNvcnQiOiIiLCJzb3J0VHlwZSI6IiIsImNsZWFyUGFyYW1zIjpmYWxzZSwia2V5d29yZCI6IiIsInBhZ2VUaXRsZSI6Imw6UHVlcnRvIFJpY28sIFUuUy5BLiIsInByYWN0aWNlQXJlYXMiOlsiTGl0aWdhdGlvbiJdfQ%3D%3D&page=8\n",
      "problemas con el crawler\n",
      "accediendo a: https://www.martindale.com/search/attorneys-law-firms-articles/?term=Puerto+Rico%2C+USA&params=eyJ0eXBlIjoicGVvcGxlIiwiY29tcGFyZSI6IiIsInRlcm0iOiJQdWVydG8gUmljbywgVVNBIiwiZ2VvTG9jYXRpb25GYWNldCI6WyJQdWVydG8gUmljbywgVS5TLkEuIl0sImdlb0xvY2F0aW9uRmFjZXRSZWNlbnRzIjpbIlB1ZXJ0byBSaWNvLCBVLlMuQS4iXSwicGFnZSI6MSwibGltaXQiOjI1LCJvZmZzZXQiOjAsInNvcnQiOiIiLCJzb3J0VHlwZSI6IiIsImNsZWFyUGFyYW1zIjpmYWxzZSwia2V5d29yZCI6IiIsInBhZ2VUaXRsZSI6Imw6UHVlcnRvIFJpY28sIFUuUy5BLiIsInByYWN0aWNlQXJlYXMiOlsiTGl0aWdhdGlvbiJdfQ%3D%3D&page=9\n",
      "https://www.martindale.com/attorney/carlos-m-rivera-vicente-1571987/\n",
      "https://www.martindale.com/attorney/aileen-m-navas-auger-1572870/\n",
      "https://www.martindale.com/attorney/arturo-diaz-angueira-1571988/\n",
      "https://www.martindale.com/attorney/yolanda-m-roman-gomez-1573916/\n",
      "accediendo a: https://www.martindale.com/search/attorneys-law-firms-articles/?term=Puerto+Rico%2C+USA&params=eyJ0eXBlIjoicGVvcGxlIiwiY29tcGFyZSI6IiIsInRlcm0iOiJQdWVydG8gUmljbywgVVNBIiwiZ2VvTG9jYXRpb25GYWNldCI6WyJQdWVydG8gUmljbywgVS5TLkEuIl0sImdlb0xvY2F0aW9uRmFjZXRSZWNlbnRzIjpbIlB1ZXJ0byBSaWNvLCBVLlMuQS4iXSwicGFnZSI6MSwibGltaXQiOjI1LCJvZmZzZXQiOjAsInNvcnQiOiIiLCJzb3J0VHlwZSI6IiIsImNsZWFyUGFyYW1zIjpmYWxzZSwia2V5d29yZCI6IiIsInBhZ2VUaXRsZSI6Imw6UHVlcnRvIFJpY28sIFUuUy5BLiIsInByYWN0aWNlQXJlYXMiOlsiTGl0aWdhdGlvbiJdfQ%3D%3D&page=10\n",
      "https://www.martindale.com/attorney/roberto-r-padial-perez-2035543/\n",
      "https://www.martindale.com/attorney/jose-luis-baez-rivera-1572188/\n",
      "https://www.martindale.com/attorney/c-ignacio-matos-benitez-24670916/\n",
      "accediendo a: https://www.martindale.com/search/attorneys-law-firms-articles/?term=Puerto+Rico%2C+USA&params=eyJ0eXBlIjoicGVvcGxlIiwiY29tcGFyZSI6IiIsInRlcm0iOiJQdWVydG8gUmljbywgVVNBIiwiZ2VvTG9jYXRpb25GYWNldCI6WyJQdWVydG8gUmljbywgVS5TLkEuIl0sImdlb0xvY2F0aW9uRmFjZXRSZWNlbnRzIjpbIlB1ZXJ0byBSaWNvLCBVLlMuQS4iXSwicGFnZSI6MSwibGltaXQiOjI1LCJvZmZzZXQiOjAsInNvcnQiOiIiLCJzb3J0VHlwZSI6IiIsImNsZWFyUGFyYW1zIjpmYWxzZSwia2V5d29yZCI6IiIsInBhZ2VUaXRsZSI6Imw6UHVlcnRvIFJpY28sIFUuUy5BLiIsInByYWN0aWNlQXJlYXMiOlsiTGl0aWdhdGlvbiJdfQ%3D%3D&page=11\n",
      "https://www.martindale.com/attorney/jessica-hernandez-sierra-1572780/\n",
      "https://www.martindale.com/attorney/norberto-medina-zurinaga-1573455/\n",
      "accediendo a: https://www.martindale.com/search/attorneys-law-firms-articles/?term=Puerto+Rico%2C+USA&params=eyJ0eXBlIjoicGVvcGxlIiwiY29tcGFyZSI6IiIsInRlcm0iOiJQdWVydG8gUmljbywgVVNBIiwiZ2VvTG9jYXRpb25GYWNldCI6WyJQdWVydG8gUmljbywgVS5TLkEuIl0sImdlb0xvY2F0aW9uRmFjZXRSZWNlbnRzIjpbIlB1ZXJ0byBSaWNvLCBVLlMuQS4iXSwicGFnZSI6MSwibGltaXQiOjI1LCJvZmZzZXQiOjAsInNvcnQiOiIiLCJzb3J0VHlwZSI6IiIsImNsZWFyUGFyYW1zIjpmYWxzZSwia2V5d29yZCI6IiIsInBhZ2VUaXRsZSI6Imw6UHVlcnRvIFJpY28sIFUuUy5BLiIsInByYWN0aWNlQXJlYXMiOlsiTGl0aWdhdGlvbiJdfQ%3D%3D&page=12\n",
      "https://www.martindale.com/attorney/carlos-berreteaga-1572153/\n",
      "https://www.martindale.com/attorney/mr-andrew-e-draxton-168994686/\n",
      "https://www.martindale.com/attorney/adolfo-fortier-1572587/\n",
      "accediendo a: https://www.martindale.com/search/attorneys-law-firms-articles/?term=Puerto+Rico%2C+USA&params=eyJ0eXBlIjoicGVvcGxlIiwiY29tcGFyZSI6IiIsInRlcm0iOiJQdWVydG8gUmljbywgVVNBIiwiZ2VvTG9jYXRpb25GYWNldCI6WyJQdWVydG8gUmljbywgVS5TLkEuIl0sImdlb0xvY2F0aW9uRmFjZXRSZWNlbnRzIjpbIlB1ZXJ0byBSaWNvLCBVLlMuQS4iXSwicGFnZSI6MSwibGltaXQiOjI1LCJvZmZzZXQiOjAsInNvcnQiOiIiLCJzb3J0VHlwZSI6IiIsImNsZWFyUGFyYW1zIjpmYWxzZSwia2V5d29yZCI6IiIsInBhZ2VUaXRsZSI6Imw6UHVlcnRvIFJpY28sIFUuUy5BLiIsInByYWN0aWNlQXJlYXMiOlsiTGl0aWdhdGlvbiJdfQ%3D%3D&page=13\n",
      "accediendo a: https://www.martindale.com/search/attorneys-law-firms-articles/?term=Puerto+Rico%2C+USA&params=eyJ0eXBlIjoicGVvcGxlIiwiY29tcGFyZSI6IiIsInRlcm0iOiJQdWVydG8gUmljbywgVVNBIiwiZ2VvTG9jYXRpb25GYWNldCI6WyJQdWVydG8gUmljbywgVS5TLkEuIl0sImdlb0xvY2F0aW9uRmFjZXRSZWNlbnRzIjpbIlB1ZXJ0byBSaWNvLCBVLlMuQS4iXSwicGFnZSI6MSwibGltaXQiOjI1LCJvZmZzZXQiOjAsInNvcnQiOiIiLCJzb3J0VHlwZSI6IiIsImNsZWFyUGFyYW1zIjpmYWxzZSwia2V5d29yZCI6IiIsInBhZ2VUaXRsZSI6Imw6UHVlcnRvIFJpY28sIFUuUy5BLiIsInByYWN0aWNlQXJlYXMiOlsiTGl0aWdhdGlvbiJdfQ%3D%3D&page=14\n",
      "https://www.martindale.com/attorney/leroy-lewis-1572574/\n",
      "accediendo a: https://www.martindale.com/search/attorneys-law-firms-articles/?term=Puerto+Rico%2C+USA&params=eyJ0eXBlIjoicGVvcGxlIiwiY29tcGFyZSI6IiIsInRlcm0iOiJQdWVydG8gUmljbywgVVNBIiwiZ2VvTG9jYXRpb25GYWNldCI6WyJQdWVydG8gUmljbywgVS5TLkEuIl0sImdlb0xvY2F0aW9uRmFjZXRSZWNlbnRzIjpbIlB1ZXJ0byBSaWNvLCBVLlMuQS4iXSwicGFnZSI6MSwibGltaXQiOjI1LCJvZmZzZXQiOjAsInNvcnQiOiIiLCJzb3J0VHlwZSI6IiIsImNsZWFyUGFyYW1zIjpmYWxzZSwia2V5d29yZCI6IiIsInBhZ2VUaXRsZSI6Imw6UHVlcnRvIFJpY28sIFUuUy5BLiIsInByYWN0aWNlQXJlYXMiOlsiTGl0aWdhdGlvbiJdfQ%3D%3D&page=15\n",
      "accediendo a: https://www.martindale.com/search/attorneys-law-firms-articles/?term=Puerto+Rico%2C+USA&params=eyJ0eXBlIjoicGVvcGxlIiwiY29tcGFyZSI6IiIsInRlcm0iOiJQdWVydG8gUmljbywgVVNBIiwiZ2VvTG9jYXRpb25GYWNldCI6WyJQdWVydG8gUmljbywgVS5TLkEuIl0sImdlb0xvY2F0aW9uRmFjZXRSZWNlbnRzIjpbIlB1ZXJ0byBSaWNvLCBVLlMuQS4iXSwicGFnZSI6MSwibGltaXQiOjI1LCJvZmZzZXQiOjAsInNvcnQiOiIiLCJzb3J0VHlwZSI6IiIsImNsZWFyUGFyYW1zIjpmYWxzZSwia2V5d29yZCI6IiIsInBhZ2VUaXRsZSI6Imw6UHVlcnRvIFJpY28sIFUuUy5BLiIsInByYWN0aWNlQXJlYXMiOlsiTGl0aWdhdGlvbiJdfQ%3D%3D&page=16\n",
      "accediendo a: https://www.martindale.com/search/attorneys-law-firms-articles/?term=Puerto+Rico%2C+USA&params=eyJ0eXBlIjoicGVvcGxlIiwiY29tcGFyZSI6IiIsInRlcm0iOiJQdWVydG8gUmljbywgVVNBIiwiZ2VvTG9jYXRpb25GYWNldCI6WyJQdWVydG8gUmljbywgVS5TLkEuIl0sImdlb0xvY2F0aW9uRmFjZXRSZWNlbnRzIjpbIlB1ZXJ0byBSaWNvLCBVLlMuQS4iXSwicGFnZSI6MSwibGltaXQiOjI1LCJvZmZzZXQiOjAsInNvcnQiOiIiLCJzb3J0VHlwZSI6IiIsImNsZWFyUGFyYW1zIjpmYWxzZSwia2V5d29yZCI6IiIsInBhZ2VUaXRsZSI6Imw6UHVlcnRvIFJpY28sIFUuUy5BLiIsInByYWN0aWNlQXJlYXMiOlsiTGl0aWdhdGlvbiJdfQ%3D%3D&page=17\n",
      "accediendo a: https://www.martindale.com/search/attorneys-law-firms-articles/?term=Puerto+Rico%2C+USA&params=eyJ0eXBlIjoicGVvcGxlIiwiY29tcGFyZSI6IiIsInRlcm0iOiJQdWVydG8gUmljbywgVVNBIiwiZ2VvTG9jYXRpb25GYWNldCI6WyJQdWVydG8gUmljbywgVS5TLkEuIl0sImdlb0xvY2F0aW9uRmFjZXRSZWNlbnRzIjpbIlB1ZXJ0byBSaWNvLCBVLlMuQS4iXSwicGFnZSI6MSwibGltaXQiOjI1LCJvZmZzZXQiOjAsInNvcnQiOiIiLCJzb3J0VHlwZSI6IiIsImNsZWFyUGFyYW1zIjpmYWxzZSwia2V5d29yZCI6IiIsInBhZ2VUaXRsZSI6Imw6UHVlcnRvIFJpY28sIFUuUy5BLiIsInByYWN0aWNlQXJlYXMiOlsiTGl0aWdhdGlvbiJdfQ%3D%3D&page=18\n",
      "accediendo a: https://www.martindale.com/search/attorneys-law-firms-articles/?term=Puerto+Rico%2C+USA&params=eyJ0eXBlIjoicGVvcGxlIiwiY29tcGFyZSI6IiIsInRlcm0iOiJQdWVydG8gUmljbywgVVNBIiwiZ2VvTG9jYXRpb25GYWNldCI6WyJQdWVydG8gUmljbywgVS5TLkEuIl0sImdlb0xvY2F0aW9uRmFjZXRSZWNlbnRzIjpbIlB1ZXJ0byBSaWNvLCBVLlMuQS4iXSwicGFnZSI6MSwibGltaXQiOjI1LCJvZmZzZXQiOjAsInNvcnQiOiIiLCJzb3J0VHlwZSI6IiIsImNsZWFyUGFyYW1zIjpmYWxzZSwia2V5d29yZCI6IiIsInBhZ2VUaXRsZSI6Imw6UHVlcnRvIFJpY28sIFUuUy5BLiIsInByYWN0aWNlQXJlYXMiOlsiTGl0aWdhdGlvbiJdfQ%3D%3D&page=19\n",
      "https://www.martindale.com/attorney/rafael-s-bonilla-1572540/\n",
      "https://www.martindale.com/attorney/brenda-cruz-amador-1573927/\n",
      "accediendo a: https://www.martindale.com/search/attorneys-law-firms-articles/?term=Puerto+Rico%2C+USA&params=eyJ0eXBlIjoicGVvcGxlIiwiY29tcGFyZSI6IiIsInRlcm0iOiJQdWVydG8gUmljbywgVVNBIiwiZ2VvTG9jYXRpb25GYWNldCI6WyJQdWVydG8gUmljbywgVS5TLkEuIl0sImdlb0xvY2F0aW9uRmFjZXRSZWNlbnRzIjpbIlB1ZXJ0byBSaWNvLCBVLlMuQS4iXSwicGFnZSI6MSwibGltaXQiOjI1LCJvZmZzZXQiOjAsInNvcnQiOiIiLCJzb3J0VHlwZSI6IiIsImNsZWFyUGFyYW1zIjpmYWxzZSwia2V5d29yZCI6IiIsInBhZ2VUaXRsZSI6Imw6UHVlcnRvIFJpY28sIFUuUy5BLiIsInByYWN0aWNlQXJlYXMiOlsiTGl0aWdhdGlvbiJdfQ%3D%3D&page=20\n"
     ]
    },
    {
     "name": "stderr",
     "output_type": "stream",
     "text": [
      " 47%|████▋     | 43/91 [21:17<42:30, 53.14s/it]"
     ]
    },
    {
     "name": "stdout",
     "output_type": "stream",
     "text": [
      "https://www.martindale.com/attorney/marta-l-quinones-zambrana-1571994/\n",
      "paginas en esta url: 1\n",
      "accediendo a: https://www.martindale.com/search/attorneys-law-firms-articles/?term=Puerto+Rico%2C+USA&params=eyJ0eXBlIjoicGVvcGxlIiwiY29tcGFyZSI6IiIsInRlcm0iOiJQdWVydG8gUmljbywgVVNBIiwiZ2VvTG9jYXRpb25GYWNldCI6WyJQdWVydG8gUmljbywgVS5TLkEuIl0sImdlb0xvY2F0aW9uRmFjZXRSZWNlbnRzIjpbIlB1ZXJ0byBSaWNvLCBVLlMuQS4iXSwicGFnZSI6MSwibGltaXQiOjI1LCJvZmZzZXQiOjAsInNvcnQiOiIiLCJzb3J0VHlwZSI6IiIsImNsZWFyUGFyYW1zIjpmYWxzZSwia2V5d29yZCI6IiIsInBhZ2VUaXRsZSI6Imw6UHVlcnRvIFJpY28sIFUuUy5BLiIsInByYWN0aWNlQXJlYXMiOlsiSG9zcGl0YWwgTGF3Il19\n"
     ]
    },
    {
     "name": "stderr",
     "output_type": "stream",
     "text": [
      " 48%|████▊     | 44/91 [21:41<34:49, 44.45s/it]"
     ]
    },
    {
     "name": "stdout",
     "output_type": "stream",
     "text": [
      "paginas en esta url: 1\n",
      "accediendo a: https://www.martindale.com/search/attorneys-law-firms-articles/?term=Puerto+Rico%2C+USA&params=eyJ0eXBlIjoicGVvcGxlIiwiY29tcGFyZSI6IiIsInRlcm0iOiJQdWVydG8gUmljbywgVVNBIiwiZ2VvTG9jYXRpb25GYWNldCI6WyJQdWVydG8gUmljbywgVS5TLkEuIl0sImdlb0xvY2F0aW9uRmFjZXRSZWNlbnRzIjpbIlB1ZXJ0byBSaWNvLCBVLlMuQS4iXSwicGFnZSI6MSwibGltaXQiOjI1LCJvZmZzZXQiOjAsInNvcnQiOiIiLCJzb3J0VHlwZSI6IiIsImNsZWFyUGFyYW1zIjpmYWxzZSwia2V5d29yZCI6IiIsInBhZ2VUaXRsZSI6Imw6UHVlcnRvIFJpY28sIFUuUy5BLiIsInByYWN0aWNlQXJlYXMiOlsiRG9tZXN0aWMgVmlvbGVuY2UiXX0%3D\n"
     ]
    },
    {
     "name": "stderr",
     "output_type": "stream",
     "text": [
      " 49%|████▉     | 45/91 [22:07<29:44, 38.80s/it]"
     ]
    },
    {
     "name": "stdout",
     "output_type": "stream",
     "text": [
      "paginas en esta url: 4\n",
      "accediendo a: https://www.martindale.com/search/attorneys-law-firms-articles/?term=Puerto+Rico%2C+USA&params=eyJ0eXBlIjoicGVvcGxlIiwiY29tcGFyZSI6IiIsInRlcm0iOiJQdWVydG8gUmljbywgVVNBIiwiZ2VvTG9jYXRpb25GYWNldCI6WyJQdWVydG8gUmljbywgVS5TLkEuIl0sImdlb0xvY2F0aW9uRmFjZXRSZWNlbnRzIjpbIlB1ZXJ0byBSaWNvLCBVLlMuQS4iXSwicGFnZSI6MSwibGltaXQiOjI1LCJvZmZzZXQiOjAsInNvcnQiOiIiLCJzb3J0VHlwZSI6IiIsImNsZWFyUGFyYW1zIjpmYWxzZSwia2V5d29yZCI6IiIsInBhZ2VUaXRsZSI6Imw6UHVlcnRvIFJpY28sIFUuUy5BLiIsInByYWN0aWNlQXJlYXMiOlsiR292ZXJubWVudCJdfQ%3D%3D\n",
      "https://www.martindale.com/attorney/gilberto-maymi-1571179/\n",
      "https://www.martindale.com/attorney/hector-jimenez-juarbe-1572561/\n",
      "https://www.martindale.com/attorney/luis-berrios-amadeo-1571990/\n",
      "accediendo a: https://www.martindale.com/search/attorneys-law-firms-articles/?term=Puerto+Rico%2C+USA&params=eyJ0eXBlIjoicGVvcGxlIiwiY29tcGFyZSI6IiIsInRlcm0iOiJQdWVydG8gUmljbywgVVNBIiwiZ2VvTG9jYXRpb25GYWNldCI6WyJQdWVydG8gUmljbywgVS5TLkEuIl0sImdlb0xvY2F0aW9uRmFjZXRSZWNlbnRzIjpbIlB1ZXJ0byBSaWNvLCBVLlMuQS4iXSwicGFnZSI6MSwibGltaXQiOjI1LCJvZmZzZXQiOjAsInNvcnQiOiIiLCJzb3J0VHlwZSI6IiIsImNsZWFyUGFyYW1zIjpmYWxzZSwia2V5d29yZCI6IiIsInBhZ2VUaXRsZSI6Imw6UHVlcnRvIFJpY28sIFUuUy5BLiIsInByYWN0aWNlQXJlYXMiOlsiR292ZXJubWVudCJdfQ%3D%3D&page=2\n",
      "https://www.martindale.com/attorney/walter-danielle-rodriguez-fernandez-301208610/\n",
      "https://www.martindale.com/attorney/carlos-a-romero-barcelo-300552854/\n",
      "accediendo a: https://www.martindale.com/search/attorneys-law-firms-articles/?term=Puerto+Rico%2C+USA&params=eyJ0eXBlIjoicGVvcGxlIiwiY29tcGFyZSI6IiIsInRlcm0iOiJQdWVydG8gUmljbywgVVNBIiwiZ2VvTG9jYXRpb25GYWNldCI6WyJQdWVydG8gUmljbywgVS5TLkEuIl0sImdlb0xvY2F0aW9uRmFjZXRSZWNlbnRzIjpbIlB1ZXJ0byBSaWNvLCBVLlMuQS4iXSwicGFnZSI6MSwibGltaXQiOjI1LCJvZmZzZXQiOjAsInNvcnQiOiIiLCJzb3J0VHlwZSI6IiIsImNsZWFyUGFyYW1zIjpmYWxzZSwia2V5d29yZCI6IiIsInBhZ2VUaXRsZSI6Imw6UHVlcnRvIFJpY28sIFUuUy5BLiIsInByYWN0aWNlQXJlYXMiOlsiR292ZXJubWVudCJdfQ%3D%3D&page=3\n",
      "accediendo a: https://www.martindale.com/search/attorneys-law-firms-articles/?term=Puerto+Rico%2C+USA&params=eyJ0eXBlIjoicGVvcGxlIiwiY29tcGFyZSI6IiIsInRlcm0iOiJQdWVydG8gUmljbywgVVNBIiwiZ2VvTG9jYXRpb25GYWNldCI6WyJQdWVydG8gUmljbywgVS5TLkEuIl0sImdlb0xvY2F0aW9uRmFjZXRSZWNlbnRzIjpbIlB1ZXJ0byBSaWNvLCBVLlMuQS4iXSwicGFnZSI6MSwibGltaXQiOjI1LCJvZmZzZXQiOjAsInNvcnQiOiIiLCJzb3J0VHlwZSI6IiIsImNsZWFyUGFyYW1zIjpmYWxzZSwia2V5d29yZCI6IiIsInBhZ2VUaXRsZSI6Imw6UHVlcnRvIFJpY28sIFUuUy5BLiIsInByYWN0aWNlQXJlYXMiOlsiR292ZXJubWVudCJdfQ%3D%3D&page=4\n",
      "https://www.martindale.com/attorney/sharon-d-ramirez-1837604/\n",
      "https://www.martindale.com/attorney/luis-g-hidalgo-157640519/\n"
     ]
    },
    {
     "name": "stderr",
     "output_type": "stream",
     "text": [
      " 51%|█████     | 46/91 [22:21<23:35, 31.45s/it]"
     ]
    },
    {
     "name": "stdout",
     "output_type": "stream",
     "text": [
      "paginas en esta url: 1\n",
      "accediendo a: https://www.martindale.com/search/attorneys-law-firms-articles/?term=Puerto+Rico%2C+USA&params=eyJ0eXBlIjoicGVvcGxlIiwiY29tcGFyZSI6IiIsInRlcm0iOiJQdWVydG8gUmljbywgVVNBIiwiZ2VvTG9jYXRpb25GYWNldCI6WyJQdWVydG8gUmljbywgVS5TLkEuIl0sImdlb0xvY2F0aW9uRmFjZXRSZWNlbnRzIjpbIlB1ZXJ0byBSaWNvLCBVLlMuQS4iXSwicGFnZSI6MSwibGltaXQiOjI1LCJvZmZzZXQiOjAsInNvcnQiOiIiLCJzb3J0VHlwZSI6IiIsImNsZWFyUGFyYW1zIjpmYWxzZSwia2V5d29yZCI6IiIsInBhZ2VUaXRsZSI6Imw6UHVlcnRvIFJpY28sIFUuUy5BLiIsInByYWN0aWNlQXJlYXMiOlsiTG9iYnlpbmciXX0%3D\n"
     ]
    },
    {
     "name": "stderr",
     "output_type": "stream",
     "text": [
      " 52%|█████▏    | 47/91 [22:45<21:27, 29.27s/it]"
     ]
    },
    {
     "name": "stdout",
     "output_type": "stream",
     "text": [
      "paginas en esta url: 8\n",
      "accediendo a: https://www.martindale.com/search/attorneys-law-firms-articles/?term=Puerto+Rico%2C+USA&params=eyJ0eXBlIjoicGVvcGxlIiwiY29tcGFyZSI6IiIsInRlcm0iOiJQdWVydG8gUmljbywgVVNBIiwiZ2VvTG9jYXRpb25GYWNldCI6WyJQdWVydG8gUmljbywgVS5TLkEuIl0sImdlb0xvY2F0aW9uRmFjZXRSZWNlbnRzIjpbIlB1ZXJ0byBSaWNvLCBVLlMuQS4iXSwicGFnZSI6MSwibGltaXQiOjI1LCJvZmZzZXQiOjAsInNvcnQiOiIiLCJzb3J0VHlwZSI6IiIsImNsZWFyUGFyYW1zIjpmYWxzZSwia2V5d29yZCI6IiIsInBhZ2VUaXRsZSI6Imw6UHVlcnRvIFJpY28sIFUuUy5BLiIsInByYWN0aWNlQXJlYXMiOlsiR2VuZXJhbCBQcmFjdGljZSJdfQ%3D%3D\n",
      "https://www.martindale.com/attorney/ms-yalitza-marie-maldonado-torres-300330376/\n",
      "https://www.martindale.com/attorney/oreste-v-ramos-1571771/\n",
      "https://www.martindale.com/attorney/dimaries-broco-irizarry-3582951/\n",
      "accediendo a: https://www.martindale.com/search/attorneys-law-firms-articles/?term=Puerto+Rico%2C+USA&params=eyJ0eXBlIjoicGVvcGxlIiwiY29tcGFyZSI6IiIsInRlcm0iOiJQdWVydG8gUmljbywgVVNBIiwiZ2VvTG9jYXRpb25GYWNldCI6WyJQdWVydG8gUmljbywgVS5TLkEuIl0sImdlb0xvY2F0aW9uRmFjZXRSZWNlbnRzIjpbIlB1ZXJ0byBSaWNvLCBVLlMuQS4iXSwicGFnZSI6MSwibGltaXQiOjI1LCJvZmZzZXQiOjAsInNvcnQiOiIiLCJzb3J0VHlwZSI6IiIsImNsZWFyUGFyYW1zIjpmYWxzZSwia2V5d29yZCI6IiIsInBhZ2VUaXRsZSI6Imw6UHVlcnRvIFJpY28sIFUuUy5BLiIsInByYWN0aWNlQXJlYXMiOlsiR2VuZXJhbCBQcmFjdGljZSJdfQ%3D%3D&page=2\n",
      "https://www.martindale.com/attorney/daniel-f-lopez-romo-1573078/\n",
      "https://www.martindale.com/attorney/manny-suarez-1571477/\n",
      "accediendo a: https://www.martindale.com/search/attorneys-law-firms-articles/?term=Puerto+Rico%2C+USA&params=eyJ0eXBlIjoicGVvcGxlIiwiY29tcGFyZSI6IiIsInRlcm0iOiJQdWVydG8gUmljbywgVVNBIiwiZ2VvTG9jYXRpb25GYWNldCI6WyJQdWVydG8gUmljbywgVS5TLkEuIl0sImdlb0xvY2F0aW9uRmFjZXRSZWNlbnRzIjpbIlB1ZXJ0byBSaWNvLCBVLlMuQS4iXSwicGFnZSI6MSwibGltaXQiOjI1LCJvZmZzZXQiOjAsInNvcnQiOiIiLCJzb3J0VHlwZSI6IiIsImNsZWFyUGFyYW1zIjpmYWxzZSwia2V5d29yZCI6IiIsInBhZ2VUaXRsZSI6Imw6UHVlcnRvIFJpY28sIFUuUy5BLiIsInByYWN0aWNlQXJlYXMiOlsiR2VuZXJhbCBQcmFjdGljZSJdfQ%3D%3D&page=3\n",
      "https://www.martindale.com/attorney/waleska-l-del-valle-rivera-35322112/\n",
      "accediendo a: https://www.martindale.com/search/attorneys-law-firms-articles/?term=Puerto+Rico%2C+USA&params=eyJ0eXBlIjoicGVvcGxlIiwiY29tcGFyZSI6IiIsInRlcm0iOiJQdWVydG8gUmljbywgVVNBIiwiZ2VvTG9jYXRpb25GYWNldCI6WyJQdWVydG8gUmljbywgVS5TLkEuIl0sImdlb0xvY2F0aW9uRmFjZXRSZWNlbnRzIjpbIlB1ZXJ0byBSaWNvLCBVLlMuQS4iXSwicGFnZSI6MSwibGltaXQiOjI1LCJvZmZzZXQiOjAsInNvcnQiOiIiLCJzb3J0VHlwZSI6IiIsImNsZWFyUGFyYW1zIjpmYWxzZSwia2V5d29yZCI6IiIsInBhZ2VUaXRsZSI6Imw6UHVlcnRvIFJpY28sIFUuUy5BLiIsInByYWN0aWNlQXJlYXMiOlsiR2VuZXJhbCBQcmFjdGljZSJdfQ%3D%3D&page=4\n",
      "https://www.martindale.com/attorney/edwin-ortiz-rivera-1571242/\n",
      "https://www.martindale.com/attorney/ernesto-f-rodriquez-suris-1573862/\n",
      "accediendo a: https://www.martindale.com/search/attorneys-law-firms-articles/?term=Puerto+Rico%2C+USA&params=eyJ0eXBlIjoicGVvcGxlIiwiY29tcGFyZSI6IiIsInRlcm0iOiJQdWVydG8gUmljbywgVVNBIiwiZ2VvTG9jYXRpb25GYWNldCI6WyJQdWVydG8gUmljbywgVS5TLkEuIl0sImdlb0xvY2F0aW9uRmFjZXRSZWNlbnRzIjpbIlB1ZXJ0byBSaWNvLCBVLlMuQS4iXSwicGFnZSI6MSwibGltaXQiOjI1LCJvZmZzZXQiOjAsInNvcnQiOiIiLCJzb3J0VHlwZSI6IiIsImNsZWFyUGFyYW1zIjpmYWxzZSwia2V5d29yZCI6IiIsInBhZ2VUaXRsZSI6Imw6UHVlcnRvIFJpY28sIFUuUy5BLiIsInByYWN0aWNlQXJlYXMiOlsiR2VuZXJhbCBQcmFjdGljZSJdfQ%3D%3D&page=5\n",
      "https://www.martindale.com/attorney/marie-e-lopez-adames-1571921/\n",
      "https://www.martindale.com/attorney/efrain-perez-jimenez-1571192/\n",
      "accediendo a: https://www.martindale.com/search/attorneys-law-firms-articles/?term=Puerto+Rico%2C+USA&params=eyJ0eXBlIjoicGVvcGxlIiwiY29tcGFyZSI6IiIsInRlcm0iOiJQdWVydG8gUmljbywgVVNBIiwiZ2VvTG9jYXRpb25GYWNldCI6WyJQdWVydG8gUmljbywgVS5TLkEuIl0sImdlb0xvY2F0aW9uRmFjZXRSZWNlbnRzIjpbIlB1ZXJ0byBSaWNvLCBVLlMuQS4iXSwicGFnZSI6MSwibGltaXQiOjI1LCJvZmZzZXQiOjAsInNvcnQiOiIiLCJzb3J0VHlwZSI6IiIsImNsZWFyUGFyYW1zIjpmYWxzZSwia2V5d29yZCI6IiIsInBhZ2VUaXRsZSI6Imw6UHVlcnRvIFJpY28sIFUuUy5BLiIsInByYWN0aWNlQXJlYXMiOlsiR2VuZXJhbCBQcmFjdGljZSJdfQ%3D%3D&page=6\n",
      "https://www.martindale.com/attorney/liza-m-ramos-santos-36642353/\n",
      "https://www.martindale.com/attorney/jose-e-sanchez-solivan-1574035/\n",
      "https://www.martindale.com/attorney/thomas-j-bryan-pico-16299269/\n",
      "https://www.martindale.com/attorney/jose-r-roman-borgos-1573957/\n",
      "https://www.martindale.com/attorney/homero-gonzalez-lopez-1571920/\n",
      "accediendo a: https://www.martindale.com/search/attorneys-law-firms-articles/?term=Puerto+Rico%2C+USA&params=eyJ0eXBlIjoicGVvcGxlIiwiY29tcGFyZSI6IiIsInRlcm0iOiJQdWVydG8gUmljbywgVVNBIiwiZ2VvTG9jYXRpb25GYWNldCI6WyJQdWVydG8gUmljbywgVS5TLkEuIl0sImdlb0xvY2F0aW9uRmFjZXRSZWNlbnRzIjpbIlB1ZXJ0byBSaWNvLCBVLlMuQS4iXSwicGFnZSI6MSwibGltaXQiOjI1LCJvZmZzZXQiOjAsInNvcnQiOiIiLCJzb3J0VHlwZSI6IiIsImNsZWFyUGFyYW1zIjpmYWxzZSwia2V5d29yZCI6IiIsInBhZ2VUaXRsZSI6Imw6UHVlcnRvIFJpY28sIFUuUy5BLiIsInByYWN0aWNlQXJlYXMiOlsiR2VuZXJhbCBQcmFjdGljZSJdfQ%3D%3D&page=7\n",
      "accediendo a: https://www.martindale.com/search/attorneys-law-firms-articles/?term=Puerto+Rico%2C+USA&params=eyJ0eXBlIjoicGVvcGxlIiwiY29tcGFyZSI6IiIsInRlcm0iOiJQdWVydG8gUmljbywgVVNBIiwiZ2VvTG9jYXRpb25GYWNldCI6WyJQdWVydG8gUmljbywgVS5TLkEuIl0sImdlb0xvY2F0aW9uRmFjZXRSZWNlbnRzIjpbIlB1ZXJ0byBSaWNvLCBVLlMuQS4iXSwicGFnZSI6MSwibGltaXQiOjI1LCJvZmZzZXQiOjAsInNvcnQiOiIiLCJzb3J0VHlwZSI6IiIsImNsZWFyUGFyYW1zIjpmYWxzZSwia2V5d29yZCI6IiIsInBhZ2VUaXRsZSI6Imw6UHVlcnRvIFJpY28sIFUuUy5BLiIsInByYWN0aWNlQXJlYXMiOlsiR2VuZXJhbCBQcmFjdGljZSJdfQ%3D%3D&page=8\n",
      "https://www.martindale.com/attorney/brenda-i-saenz-700067/\n",
      "https://www.martindale.com/attorney/alberto-acevedo-vallejo-1571743/\n"
     ]
    },
    {
     "name": "stderr",
     "output_type": "stream",
     "text": [
      " 53%|█████▎    | 48/91 [23:06<19:14, 26.86s/it]"
     ]
    },
    {
     "name": "stdout",
     "output_type": "stream",
     "text": [
      "paginas en esta url: 3\n",
      "accediendo a: https://www.martindale.com/search/attorneys-law-firms-articles/?term=Puerto+Rico%2C+USA&params=eyJ0eXBlIjoicGVvcGxlIiwiY29tcGFyZSI6IiIsInRlcm0iOiJQdWVydG8gUmljbywgVVNBIiwiZ2VvTG9jYXRpb25GYWNldCI6WyJQdWVydG8gUmljbywgVS5TLkEuIl0sImdlb0xvY2F0aW9uRmFjZXRSZWNlbnRzIjpbIlB1ZXJ0byBSaWNvLCBVLlMuQS4iXSwicGFnZSI6MSwibGltaXQiOjI1LCJvZmZzZXQiOjAsInNvcnQiOiIiLCJzb3J0VHlwZSI6IiIsImNsZWFyUGFyYW1zIjpmYWxzZSwia2V5d29yZCI6IiIsInBhZ2VUaXRsZSI6Imw6UHVlcnRvIFJpY28sIFUuUy5BLiIsInByYWN0aWNlQXJlYXMiOlsiSW5zdXJhbmNlIERlZmVuc2UiXX0%3D\n",
      "accediendo a: https://www.martindale.com/search/attorneys-law-firms-articles/?term=Puerto+Rico%2C+USA&params=eyJ0eXBlIjoicGVvcGxlIiwiY29tcGFyZSI6IiIsInRlcm0iOiJQdWVydG8gUmljbywgVVNBIiwiZ2VvTG9jYXRpb25GYWNldCI6WyJQdWVydG8gUmljbywgVS5TLkEuIl0sImdlb0xvY2F0aW9uRmFjZXRSZWNlbnRzIjpbIlB1ZXJ0byBSaWNvLCBVLlMuQS4iXSwicGFnZSI6MSwibGltaXQiOjI1LCJvZmZzZXQiOjAsInNvcnQiOiIiLCJzb3J0VHlwZSI6IiIsImNsZWFyUGFyYW1zIjpmYWxzZSwia2V5d29yZCI6IiIsInBhZ2VUaXRsZSI6Imw6UHVlcnRvIFJpY28sIFUuUy5BLiIsInByYWN0aWNlQXJlYXMiOlsiSW5zdXJhbmNlIERlZmVuc2UiXX0%3D&page=2\n",
      "accediendo a: https://www.martindale.com/search/attorneys-law-firms-articles/?term=Puerto+Rico%2C+USA&params=eyJ0eXBlIjoicGVvcGxlIiwiY29tcGFyZSI6IiIsInRlcm0iOiJQdWVydG8gUmljbywgVVNBIiwiZ2VvTG9jYXRpb25GYWNldCI6WyJQdWVydG8gUmljbywgVS5TLkEuIl0sImdlb0xvY2F0aW9uRmFjZXRSZWNlbnRzIjpbIlB1ZXJ0byBSaWNvLCBVLlMuQS4iXSwicGFnZSI6MSwibGltaXQiOjI1LCJvZmZzZXQiOjAsInNvcnQiOiIiLCJzb3J0VHlwZSI6IiIsImNsZWFyUGFyYW1zIjpmYWxzZSwia2V5d29yZCI6IiIsInBhZ2VUaXRsZSI6Imw6UHVlcnRvIFJpY28sIFUuUy5BLiIsInByYWN0aWNlQXJlYXMiOlsiSW5zdXJhbmNlIERlZmVuc2UiXX0%3D&page=3\n",
      "https://www.martindale.com/attorney/george-m-torres-lopez-1571680/\n"
     ]
    },
    {
     "name": "stderr",
     "output_type": "stream",
     "text": [
      " 54%|█████▍    | 49/91 [23:19<15:47, 22.56s/it]"
     ]
    },
    {
     "name": "stdout",
     "output_type": "stream",
     "text": [
      "paginas en esta url: 3\n",
      "accediendo a: https://www.martindale.com/search/attorneys-law-firms-articles/?term=Puerto+Rico%2C+USA&params=eyJ0eXBlIjoicGVvcGxlIiwiY29tcGFyZSI6IiIsInRlcm0iOiJQdWVydG8gUmljbywgVVNBIiwiZ2VvTG9jYXRpb25GYWNldCI6WyJQdWVydG8gUmljbywgVS5TLkEuIl0sImdlb0xvY2F0aW9uRmFjZXRSZWNlbnRzIjpbIlB1ZXJ0byBSaWNvLCBVLlMuQS4iXSwicGFnZSI6MSwibGltaXQiOjI1LCJvZmZzZXQiOjAsInNvcnQiOiIiLCJzb3J0VHlwZSI6IiIsImNsZWFyUGFyYW1zIjpmYWxzZSwia2V5d29yZCI6IiIsInBhZ2VUaXRsZSI6Imw6UHVlcnRvIFJpY28sIFUuUy5BLiIsInByYWN0aWNlQXJlYXMiOlsiSW1taWdyYXRpb24iXX0%3D\n",
      "https://www.martindale.com/attorney/gretchen-rodriguez-300940400/\n",
      "https://www.martindale.com/attorney/iran-o-menendez-wiscovitch-301089646/\n",
      "https://www.martindale.com/attorney/migdalia-cordero-772801/\n",
      "accediendo a: https://www.martindale.com/search/attorneys-law-firms-articles/?term=Puerto+Rico%2C+USA&params=eyJ0eXBlIjoicGVvcGxlIiwiY29tcGFyZSI6IiIsInRlcm0iOiJQdWVydG8gUmljbywgVVNBIiwiZ2VvTG9jYXRpb25GYWNldCI6WyJQdWVydG8gUmljbywgVS5TLkEuIl0sImdlb0xvY2F0aW9uRmFjZXRSZWNlbnRzIjpbIlB1ZXJ0byBSaWNvLCBVLlMuQS4iXSwicGFnZSI6MSwibGltaXQiOjI1LCJvZmZzZXQiOjAsInNvcnQiOiIiLCJzb3J0VHlwZSI6IiIsImNsZWFyUGFyYW1zIjpmYWxzZSwia2V5d29yZCI6IiIsInBhZ2VUaXRsZSI6Imw6UHVlcnRvIFJpY28sIFUuUy5BLiIsInByYWN0aWNlQXJlYXMiOlsiSW1taWdyYXRpb24iXX0%3D&page=2\n",
      "https://www.martindale.com/attorney/fernando-o-zambrana-44557594/\n",
      "accediendo a: https://www.martindale.com/search/attorneys-law-firms-articles/?term=Puerto+Rico%2C+USA&params=eyJ0eXBlIjoicGVvcGxlIiwiY29tcGFyZSI6IiIsInRlcm0iOiJQdWVydG8gUmljbywgVVNBIiwiZ2VvTG9jYXRpb25GYWNldCI6WyJQdWVydG8gUmljbywgVS5TLkEuIl0sImdlb0xvY2F0aW9uRmFjZXRSZWNlbnRzIjpbIlB1ZXJ0byBSaWNvLCBVLlMuQS4iXSwicGFnZSI6MSwibGltaXQiOjI1LCJvZmZzZXQiOjAsInNvcnQiOiIiLCJzb3J0VHlwZSI6IiIsImNsZWFyUGFyYW1zIjpmYWxzZSwia2V5d29yZCI6IiIsInBhZ2VUaXRsZSI6Imw6UHVlcnRvIFJpY28sIFUuUy5BLiIsInByYWN0aWNlQXJlYXMiOlsiSW1taWdyYXRpb24iXX0%3D&page=3\n",
      "https://www.martindale.com/attorney/jennifer-lynn-charak-765885/\n",
      "https://www.martindale.com/attorney/mr-jose-h-luyanda-1634065/\n"
     ]
    },
    {
     "name": "stderr",
     "output_type": "stream",
     "text": [
      " 55%|█████▍    | 50/91 [23:33<13:45, 20.14s/it]"
     ]
    },
    {
     "name": "stdout",
     "output_type": "stream",
     "text": [
      "paginas en esta url: 1\n",
      "accediendo a: https://www.martindale.com/search/attorneys-law-firms-articles/?term=Puerto+Rico%2C+USA&params=eyJ0eXBlIjoicGVvcGxlIiwiY29tcGFyZSI6IiIsInRlcm0iOiJQdWVydG8gUmljbywgVVNBIiwiZ2VvTG9jYXRpb25GYWNldCI6WyJQdWVydG8gUmljbywgVS5TLkEuIl0sImdlb0xvY2F0aW9uRmFjZXRSZWNlbnRzIjpbIlB1ZXJ0byBSaWNvLCBVLlMuQS4iXSwicGFnZSI6MSwibGltaXQiOjI1LCJvZmZzZXQiOjAsInNvcnQiOiIiLCJzb3J0VHlwZSI6IiIsImNsZWFyUGFyYW1zIjpmYWxzZSwia2V5d29yZCI6IiIsInBhZ2VUaXRsZSI6Imw6UHVlcnRvIFJpY28sIFUuUy5BLiIsInByYWN0aWNlQXJlYXMiOlsiV3JvbmdmdWwgRGVhdGgiXX0%3D\n"
     ]
    },
    {
     "name": "stderr",
     "output_type": "stream",
     "text": [
      " 56%|█████▌    | 51/91 [23:59<14:29, 21.74s/it]"
     ]
    },
    {
     "name": "stdout",
     "output_type": "stream",
     "text": [
      "paginas en esta url: 1\n",
      "accediendo a: https://www.martindale.com/search/attorneys-law-firms-articles/?term=Puerto+Rico%2C+USA&params=eyJ0eXBlIjoicGVvcGxlIiwiY29tcGFyZSI6IiIsInRlcm0iOiJQdWVydG8gUmljbywgVVNBIiwiZ2VvTG9jYXRpb25GYWNldCI6WyJQdWVydG8gUmljbywgVS5TLkEuIl0sImdlb0xvY2F0aW9uRmFjZXRSZWNlbnRzIjpbIlB1ZXJ0byBSaWNvLCBVLlMuQS4iXSwicGFnZSI6MSwibGltaXQiOjI1LCJvZmZzZXQiOjAsInNvcnQiOiIiLCJzb3J0VHlwZSI6IiIsImNsZWFyUGFyYW1zIjpmYWxzZSwia2V5d29yZCI6IiIsInBhZ2VUaXRsZSI6Imw6UHVlcnRvIFJpY28sIFUuUy5BLiIsInByYWN0aWNlQXJlYXMiOlsiQ29uc3RydWN0aW9uIExpdGlnYXRpb24iXX0%3D\n"
     ]
    },
    {
     "name": "stderr",
     "output_type": "stream",
     "text": [
      " 57%|█████▋    | 52/91 [24:22<14:27, 22.25s/it]"
     ]
    },
    {
     "name": "stdout",
     "output_type": "stream",
     "text": [
      "paginas en esta url: 2\n",
      "accediendo a: https://www.martindale.com/search/attorneys-law-firms-articles/?term=Puerto+Rico%2C+USA&params=eyJ0eXBlIjoicGVvcGxlIiwiY29tcGFyZSI6IiIsInRlcm0iOiJQdWVydG8gUmljbywgVVNBIiwiZ2VvTG9jYXRpb25GYWNldCI6WyJQdWVydG8gUmljbywgVS5TLkEuIl0sImdlb0xvY2F0aW9uRmFjZXRSZWNlbnRzIjpbIlB1ZXJ0byBSaWNvLCBVLlMuQS4iXSwicGFnZSI6MSwibGltaXQiOjI1LCJvZmZzZXQiOjAsInNvcnQiOiIiLCJzb3J0VHlwZSI6IiIsImNsZWFyUGFyYW1zIjpmYWxzZSwia2V5d29yZCI6IiIsInBhZ2VUaXRsZSI6Imw6UHVlcnRvIFJpY28sIFUuUy5BLiIsInByYWN0aWNlQXJlYXMiOlsiRm9yZWNsb3N1cmVzIl19\n",
      "accediendo a: https://www.martindale.com/search/attorneys-law-firms-articles/?term=Puerto+Rico%2C+USA&params=eyJ0eXBlIjoicGVvcGxlIiwiY29tcGFyZSI6IiIsInRlcm0iOiJQdWVydG8gUmljbywgVVNBIiwiZ2VvTG9jYXRpb25GYWNldCI6WyJQdWVydG8gUmljbywgVS5TLkEuIl0sImdlb0xvY2F0aW9uRmFjZXRSZWNlbnRzIjpbIlB1ZXJ0byBSaWNvLCBVLlMuQS4iXSwicGFnZSI6MSwibGltaXQiOjI1LCJvZmZzZXQiOjAsInNvcnQiOiIiLCJzb3J0VHlwZSI6IiIsImNsZWFyUGFyYW1zIjpmYWxzZSwia2V5d29yZCI6IiIsInBhZ2VUaXRsZSI6Imw6UHVlcnRvIFJpY28sIFUuUy5BLiIsInByYWN0aWNlQXJlYXMiOlsiRm9yZWNsb3N1cmVzIl19&page=2\n"
     ]
    },
    {
     "name": "stderr",
     "output_type": "stream",
     "text": [
      " 58%|█████▊    | 53/91 [24:34<12:04, 19.06s/it]"
     ]
    },
    {
     "name": "stdout",
     "output_type": "stream",
     "text": [
      "paginas en esta url: 3\n",
      "accediendo a: https://www.martindale.com/search/attorneys-law-firms-articles/?term=Puerto+Rico%2C+USA&params=eyJ0eXBlIjoicGVvcGxlIiwiY29tcGFyZSI6IiIsInRlcm0iOiJQdWVydG8gUmljbywgVVNBIiwiZ2VvTG9jYXRpb25GYWNldCI6WyJQdWVydG8gUmljbywgVS5TLkEuIl0sImdlb0xvY2F0aW9uRmFjZXRSZWNlbnRzIjpbIlB1ZXJ0byBSaWNvLCBVLlMuQS4iXSwicGFnZSI6MSwibGltaXQiOjI1LCJvZmZzZXQiOjAsInNvcnQiOiIiLCJzb3J0VHlwZSI6IiIsImNsZWFyUGFyYW1zIjpmYWxzZSwia2V5d29yZCI6IiIsInBhZ2VUaXRsZSI6Imw6UHVlcnRvIFJpY28sIFUuUy5BLiIsInByYWN0aWNlQXJlYXMiOlsiQXJiaXRyYXRpb24iXX0%3D\n",
      "accediendo a: https://www.martindale.com/search/attorneys-law-firms-articles/?term=Puerto+Rico%2C+USA&params=eyJ0eXBlIjoicGVvcGxlIiwiY29tcGFyZSI6IiIsInRlcm0iOiJQdWVydG8gUmljbywgVVNBIiwiZ2VvTG9jYXRpb25GYWNldCI6WyJQdWVydG8gUmljbywgVS5TLkEuIl0sImdlb0xvY2F0aW9uRmFjZXRSZWNlbnRzIjpbIlB1ZXJ0byBSaWNvLCBVLlMuQS4iXSwicGFnZSI6MSwibGltaXQiOjI1LCJvZmZzZXQiOjAsInNvcnQiOiIiLCJzb3J0VHlwZSI6IiIsImNsZWFyUGFyYW1zIjpmYWxzZSwia2V5d29yZCI6IiIsInBhZ2VUaXRsZSI6Imw6UHVlcnRvIFJpY28sIFUuUy5BLiIsInByYWN0aWNlQXJlYXMiOlsiQXJiaXRyYXRpb24iXX0%3D&page=2\n",
      "accediendo a: https://www.martindale.com/search/attorneys-law-firms-articles/?term=Puerto+Rico%2C+USA&params=eyJ0eXBlIjoicGVvcGxlIiwiY29tcGFyZSI6IiIsInRlcm0iOiJQdWVydG8gUmljbywgVVNBIiwiZ2VvTG9jYXRpb25GYWNldCI6WyJQdWVydG8gUmljbywgVS5TLkEuIl0sImdlb0xvY2F0aW9uRmFjZXRSZWNlbnRzIjpbIlB1ZXJ0byBSaWNvLCBVLlMuQS4iXSwicGFnZSI6MSwibGltaXQiOjI1LCJvZmZzZXQiOjAsInNvcnQiOiIiLCJzb3J0VHlwZSI6IiIsImNsZWFyUGFyYW1zIjpmYWxzZSwia2V5d29yZCI6IiIsInBhZ2VUaXRsZSI6Imw6UHVlcnRvIFJpY28sIFUuUy5BLiIsInByYWN0aWNlQXJlYXMiOlsiQXJiaXRyYXRpb24iXX0%3D&page=3\n"
     ]
    },
    {
     "name": "stderr",
     "output_type": "stream",
     "text": [
      " 59%|█████▉    | 54/91 [24:48<10:49, 17.55s/it]"
     ]
    },
    {
     "name": "stdout",
     "output_type": "stream",
     "text": [
      "paginas en esta url: 1\n",
      "accediendo a: https://www.martindale.com/search/attorneys-law-firms-articles/?term=Puerto+Rico%2C+USA&params=eyJ0eXBlIjoicGVvcGxlIiwiY29tcGFyZSI6IiIsInRlcm0iOiJQdWVydG8gUmljbywgVVNBIiwiZ2VvTG9jYXRpb25GYWNldCI6WyJQdWVydG8gUmljbywgVS5TLkEuIl0sImdlb0xvY2F0aW9uRmFjZXRSZWNlbnRzIjpbIlB1ZXJ0byBSaWNvLCBVLlMuQS4iXSwicGFnZSI6MSwibGltaXQiOjI1LCJvZmZzZXQiOjAsInNvcnQiOiIiLCJzb3J0VHlwZSI6IiIsImNsZWFyUGFyYW1zIjpmYWxzZSwia2V5d29yZCI6IiIsInBhZ2VUaXRsZSI6Imw6UHVlcnRvIFJpY28sIFUuUy5BLiIsInByYWN0aWNlQXJlYXMiOlsiU21hbGwgQnVzaW5lc3MgTGF3Il19\n"
     ]
    },
    {
     "name": "stderr",
     "output_type": "stream",
     "text": [
      " 60%|██████    | 55/91 [25:10<11:24, 19.02s/it]"
     ]
    },
    {
     "name": "stdout",
     "output_type": "stream",
     "text": [
      "paginas en esta url: 1\n",
      "accediendo a: https://www.martindale.com/search/attorneys-law-firms-articles/?term=Puerto+Rico%2C+USA&params=eyJ0eXBlIjoicGVvcGxlIiwiY29tcGFyZSI6IiIsInRlcm0iOiJQdWVydG8gUmljbywgVVNBIiwiZ2VvTG9jYXRpb25GYWNldCI6WyJQdWVydG8gUmljbywgVS5TLkEuIl0sImdlb0xvY2F0aW9uRmFjZXRSZWNlbnRzIjpbIlB1ZXJ0byBSaWNvLCBVLlMuQS4iXSwicGFnZSI6MSwibGltaXQiOjI1LCJvZmZzZXQiOjAsInNvcnQiOiIiLCJzb3J0VHlwZSI6IiIsImNsZWFyUGFyYW1zIjpmYWxzZSwia2V5d29yZCI6IiIsInBhZ2VUaXRsZSI6Imw6UHVlcnRvIFJpY28sIFUuUy5BLiIsInByYWN0aWNlQXJlYXMiOlsiTGFuZGxvcmQgYW5kIFRlbmFudCBMYXciXX0%3D\n"
     ]
    },
    {
     "name": "stderr",
     "output_type": "stream",
     "text": [
      " 62%|██████▏   | 56/91 [25:33<11:44, 20.13s/it]"
     ]
    },
    {
     "name": "stdout",
     "output_type": "stream",
     "text": [
      "paginas en esta url: 2\n",
      "accediendo a: https://www.martindale.com/search/attorneys-law-firms-articles/?term=Puerto+Rico%2C+USA&params=eyJ0eXBlIjoicGVvcGxlIiwiY29tcGFyZSI6IiIsInRlcm0iOiJQdWVydG8gUmljbywgVVNBIiwiZ2VvTG9jYXRpb25GYWNldCI6WyJQdWVydG8gUmljbywgVS5TLkEuIl0sImdlb0xvY2F0aW9uRmFjZXRSZWNlbnRzIjpbIlB1ZXJ0byBSaWNvLCBVLlMuQS4iXSwicGFnZSI6MSwibGltaXQiOjI1LCJvZmZzZXQiOjAsInNvcnQiOiIiLCJzb3J0VHlwZSI6IiIsImNsZWFyUGFyYW1zIjpmYWxzZSwia2V5d29yZCI6IiIsInBhZ2VUaXRsZSI6Imw6UHVlcnRvIFJpY28sIFUuUy5BLiIsInByYWN0aWNlQXJlYXMiOlsiQ29uc3VtZXIgTGF3Il19\n",
      "accediendo a: https://www.martindale.com/search/attorneys-law-firms-articles/?term=Puerto+Rico%2C+USA&params=eyJ0eXBlIjoicGVvcGxlIiwiY29tcGFyZSI6IiIsInRlcm0iOiJQdWVydG8gUmljbywgVVNBIiwiZ2VvTG9jYXRpb25GYWNldCI6WyJQdWVydG8gUmljbywgVS5TLkEuIl0sImdlb0xvY2F0aW9uRmFjZXRSZWNlbnRzIjpbIlB1ZXJ0byBSaWNvLCBVLlMuQS4iXSwicGFnZSI6MSwibGltaXQiOjI1LCJvZmZzZXQiOjAsInNvcnQiOiIiLCJzb3J0VHlwZSI6IiIsImNsZWFyUGFyYW1zIjpmYWxzZSwia2V5d29yZCI6IiIsInBhZ2VUaXRsZSI6Imw6UHVlcnRvIFJpY28sIFUuUy5BLiIsInByYWN0aWNlQXJlYXMiOlsiQ29uc3VtZXIgTGF3Il19&page=2\n"
     ]
    },
    {
     "name": "stderr",
     "output_type": "stream",
     "text": [
      " 63%|██████▎   | 57/91 [25:46<10:10, 17.95s/it]"
     ]
    },
    {
     "name": "stdout",
     "output_type": "stream",
     "text": [
      "paginas en esta url: 1\n",
      "accediendo a: https://www.martindale.com/search/attorneys-law-firms-articles/?term=Puerto+Rico%2C+USA&params=eyJ0eXBlIjoicGVvcGxlIiwiY29tcGFyZSI6IiIsInRlcm0iOiJQdWVydG8gUmljbywgVVNBIiwiZ2VvTG9jYXRpb25GYWNldCI6WyJQdWVydG8gUmljbywgVS5TLkEuIl0sImdlb0xvY2F0aW9uRmFjZXRSZWNlbnRzIjpbIlB1ZXJ0byBSaWNvLCBVLlMuQS4iXSwicGFnZSI6MSwibGltaXQiOjI1LCJvZmZzZXQiOjAsInNvcnQiOiIiLCJzb3J0VHlwZSI6IiIsImNsZWFyUGFyYW1zIjpmYWxzZSwia2V5d29yZCI6IiIsInBhZ2VUaXRsZSI6Imw6UHVlcnRvIFJpY28sIFUuUy5BLiIsInByYWN0aWNlQXJlYXMiOlsiUHJlbWlzZXMgTGlhYmlsaXR5Il19\n"
     ]
    },
    {
     "name": "stderr",
     "output_type": "stream",
     "text": [
      " 64%|██████▎   | 58/91 [26:10<10:56, 19.88s/it]"
     ]
    },
    {
     "name": "stdout",
     "output_type": "stream",
     "text": [
      "paginas en esta url: 1\n",
      "accediendo a: https://www.martindale.com/search/attorneys-law-firms-articles/?term=Puerto+Rico%2C+USA&params=eyJ0eXBlIjoicGVvcGxlIiwiY29tcGFyZSI6IiIsInRlcm0iOiJQdWVydG8gUmljbywgVVNBIiwiZ2VvTG9jYXRpb25GYWNldCI6WyJQdWVydG8gUmljbywgVS5TLkEuIl0sImdlb0xvY2F0aW9uRmFjZXRSZWNlbnRzIjpbIlB1ZXJ0byBSaWNvLCBVLlMuQS4iXSwicGFnZSI6MSwibGltaXQiOjI1LCJvZmZzZXQiOjAsInNvcnQiOiIiLCJzb3J0VHlwZSI6IiIsImNsZWFyUGFyYW1zIjpmYWxzZSwia2V5d29yZCI6IiIsInBhZ2VUaXRsZSI6Imw6UHVlcnRvIFJpY28sIFUuUy5BLiIsInByYWN0aWNlQXJlYXMiOlsiV2hpdGUgQ29sbGFyIENyaW1lIl19\n",
      "https://www.martindale.com/organization/oberheiden-p-c-158392689/dallas-texas-159868801-f/?pa=338\n"
     ]
    },
    {
     "name": "stderr",
     "output_type": "stream",
     "text": [
      " 65%|██████▍   | 59/91 [26:35<11:26, 21.44s/it]"
     ]
    },
    {
     "name": "stdout",
     "output_type": "stream",
     "text": [
      "paginas en esta url: 14\n",
      "accediendo a: https://www.martindale.com/search/attorneys-law-firms-articles/?term=Puerto+Rico%2C+USA&params=eyJ0eXBlIjoicGVvcGxlIiwiY29tcGFyZSI6IiIsInRlcm0iOiJQdWVydG8gUmljbywgVVNBIiwiZ2VvTG9jYXRpb25GYWNldCI6WyJQdWVydG8gUmljbywgVS5TLkEuIl0sImdlb0xvY2F0aW9uRmFjZXRSZWNlbnRzIjpbIlB1ZXJ0byBSaWNvLCBVLlMuQS4iXSwicGFnZSI6MSwibGltaXQiOjI1LCJvZmZzZXQiOjAsInNvcnQiOiIiLCJzb3J0VHlwZSI6IiIsImNsZWFyUGFyYW1zIjpmYWxzZSwia2V5d29yZCI6IiIsInBhZ2VUaXRsZSI6Imw6UHVlcnRvIFJpY28sIFUuUy5BLiIsInByYWN0aWNlQXJlYXMiOlsiQ29tbWVyY2lhbCBMaXRpZ2F0aW9uIl19\n",
      "accediendo a: https://www.martindale.com/search/attorneys-law-firms-articles/?term=Puerto+Rico%2C+USA&params=eyJ0eXBlIjoicGVvcGxlIiwiY29tcGFyZSI6IiIsInRlcm0iOiJQdWVydG8gUmljbywgVVNBIiwiZ2VvTG9jYXRpb25GYWNldCI6WyJQdWVydG8gUmljbywgVS5TLkEuIl0sImdlb0xvY2F0aW9uRmFjZXRSZWNlbnRzIjpbIlB1ZXJ0byBSaWNvLCBVLlMuQS4iXSwicGFnZSI6MSwibGltaXQiOjI1LCJvZmZzZXQiOjAsInNvcnQiOiIiLCJzb3J0VHlwZSI6IiIsImNsZWFyUGFyYW1zIjpmYWxzZSwia2V5d29yZCI6IiIsInBhZ2VUaXRsZSI6Imw6UHVlcnRvIFJpY28sIFUuUy5BLiIsInByYWN0aWNlQXJlYXMiOlsiQ29tbWVyY2lhbCBMaXRpZ2F0aW9uIl19&page=2\n",
      "accediendo a: https://www.martindale.com/search/attorneys-law-firms-articles/?term=Puerto+Rico%2C+USA&params=eyJ0eXBlIjoicGVvcGxlIiwiY29tcGFyZSI6IiIsInRlcm0iOiJQdWVydG8gUmljbywgVVNBIiwiZ2VvTG9jYXRpb25GYWNldCI6WyJQdWVydG8gUmljbywgVS5TLkEuIl0sImdlb0xvY2F0aW9uRmFjZXRSZWNlbnRzIjpbIlB1ZXJ0byBSaWNvLCBVLlMuQS4iXSwicGFnZSI6MSwibGltaXQiOjI1LCJvZmZzZXQiOjAsInNvcnQiOiIiLCJzb3J0VHlwZSI6IiIsImNsZWFyUGFyYW1zIjpmYWxzZSwia2V5d29yZCI6IiIsInBhZ2VUaXRsZSI6Imw6UHVlcnRvIFJpY28sIFUuUy5BLiIsInByYWN0aWNlQXJlYXMiOlsiQ29tbWVyY2lhbCBMaXRpZ2F0aW9uIl19&page=3\n",
      "accediendo a: https://www.martindale.com/search/attorneys-law-firms-articles/?term=Puerto+Rico%2C+USA&params=eyJ0eXBlIjoicGVvcGxlIiwiY29tcGFyZSI6IiIsInRlcm0iOiJQdWVydG8gUmljbywgVVNBIiwiZ2VvTG9jYXRpb25GYWNldCI6WyJQdWVydG8gUmljbywgVS5TLkEuIl0sImdlb0xvY2F0aW9uRmFjZXRSZWNlbnRzIjpbIlB1ZXJ0byBSaWNvLCBVLlMuQS4iXSwicGFnZSI6MSwibGltaXQiOjI1LCJvZmZzZXQiOjAsInNvcnQiOiIiLCJzb3J0VHlwZSI6IiIsImNsZWFyUGFyYW1zIjpmYWxzZSwia2V5d29yZCI6IiIsInBhZ2VUaXRsZSI6Imw6UHVlcnRvIFJpY28sIFUuUy5BLiIsInByYWN0aWNlQXJlYXMiOlsiQ29tbWVyY2lhbCBMaXRpZ2F0aW9uIl19&page=4\n",
      "accediendo a: https://www.martindale.com/search/attorneys-law-firms-articles/?term=Puerto+Rico%2C+USA&params=eyJ0eXBlIjoicGVvcGxlIiwiY29tcGFyZSI6IiIsInRlcm0iOiJQdWVydG8gUmljbywgVVNBIiwiZ2VvTG9jYXRpb25GYWNldCI6WyJQdWVydG8gUmljbywgVS5TLkEuIl0sImdlb0xvY2F0aW9uRmFjZXRSZWNlbnRzIjpbIlB1ZXJ0byBSaWNvLCBVLlMuQS4iXSwicGFnZSI6MSwibGltaXQiOjI1LCJvZmZzZXQiOjAsInNvcnQiOiIiLCJzb3J0VHlwZSI6IiIsImNsZWFyUGFyYW1zIjpmYWxzZSwia2V5d29yZCI6IiIsInBhZ2VUaXRsZSI6Imw6UHVlcnRvIFJpY28sIFUuUy5BLiIsInByYWN0aWNlQXJlYXMiOlsiQ29tbWVyY2lhbCBMaXRpZ2F0aW9uIl19&page=5\n",
      "accediendo a: https://www.martindale.com/search/attorneys-law-firms-articles/?term=Puerto+Rico%2C+USA&params=eyJ0eXBlIjoicGVvcGxlIiwiY29tcGFyZSI6IiIsInRlcm0iOiJQdWVydG8gUmljbywgVVNBIiwiZ2VvTG9jYXRpb25GYWNldCI6WyJQdWVydG8gUmljbywgVS5TLkEuIl0sImdlb0xvY2F0aW9uRmFjZXRSZWNlbnRzIjpbIlB1ZXJ0byBSaWNvLCBVLlMuQS4iXSwicGFnZSI6MSwibGltaXQiOjI1LCJvZmZzZXQiOjAsInNvcnQiOiIiLCJzb3J0VHlwZSI6IiIsImNsZWFyUGFyYW1zIjpmYWxzZSwia2V5d29yZCI6IiIsInBhZ2VUaXRsZSI6Imw6UHVlcnRvIFJpY28sIFUuUy5BLiIsInByYWN0aWNlQXJlYXMiOlsiQ29tbWVyY2lhbCBMaXRpZ2F0aW9uIl19&page=6\n",
      "accediendo a: https://www.martindale.com/search/attorneys-law-firms-articles/?term=Puerto+Rico%2C+USA&params=eyJ0eXBlIjoicGVvcGxlIiwiY29tcGFyZSI6IiIsInRlcm0iOiJQdWVydG8gUmljbywgVVNBIiwiZ2VvTG9jYXRpb25GYWNldCI6WyJQdWVydG8gUmljbywgVS5TLkEuIl0sImdlb0xvY2F0aW9uRmFjZXRSZWNlbnRzIjpbIlB1ZXJ0byBSaWNvLCBVLlMuQS4iXSwicGFnZSI6MSwibGltaXQiOjI1LCJvZmZzZXQiOjAsInNvcnQiOiIiLCJzb3J0VHlwZSI6IiIsImNsZWFyUGFyYW1zIjpmYWxzZSwia2V5d29yZCI6IiIsInBhZ2VUaXRsZSI6Imw6UHVlcnRvIFJpY28sIFUuUy5BLiIsInByYWN0aWNlQXJlYXMiOlsiQ29tbWVyY2lhbCBMaXRpZ2F0aW9uIl19&page=7\n",
      "accediendo a: https://www.martindale.com/search/attorneys-law-firms-articles/?term=Puerto+Rico%2C+USA&params=eyJ0eXBlIjoicGVvcGxlIiwiY29tcGFyZSI6IiIsInRlcm0iOiJQdWVydG8gUmljbywgVVNBIiwiZ2VvTG9jYXRpb25GYWNldCI6WyJQdWVydG8gUmljbywgVS5TLkEuIl0sImdlb0xvY2F0aW9uRmFjZXRSZWNlbnRzIjpbIlB1ZXJ0byBSaWNvLCBVLlMuQS4iXSwicGFnZSI6MSwibGltaXQiOjI1LCJvZmZzZXQiOjAsInNvcnQiOiIiLCJzb3J0VHlwZSI6IiIsImNsZWFyUGFyYW1zIjpmYWxzZSwia2V5d29yZCI6IiIsInBhZ2VUaXRsZSI6Imw6UHVlcnRvIFJpY28sIFUuUy5BLiIsInByYWN0aWNlQXJlYXMiOlsiQ29tbWVyY2lhbCBMaXRpZ2F0aW9uIl19&page=8\n",
      "accediendo a: https://www.martindale.com/search/attorneys-law-firms-articles/?term=Puerto+Rico%2C+USA&params=eyJ0eXBlIjoicGVvcGxlIiwiY29tcGFyZSI6IiIsInRlcm0iOiJQdWVydG8gUmljbywgVVNBIiwiZ2VvTG9jYXRpb25GYWNldCI6WyJQdWVydG8gUmljbywgVS5TLkEuIl0sImdlb0xvY2F0aW9uRmFjZXRSZWNlbnRzIjpbIlB1ZXJ0byBSaWNvLCBVLlMuQS4iXSwicGFnZSI6MSwibGltaXQiOjI1LCJvZmZzZXQiOjAsInNvcnQiOiIiLCJzb3J0VHlwZSI6IiIsImNsZWFyUGFyYW1zIjpmYWxzZSwia2V5d29yZCI6IiIsInBhZ2VUaXRsZSI6Imw6UHVlcnRvIFJpY28sIFUuUy5BLiIsInByYWN0aWNlQXJlYXMiOlsiQ29tbWVyY2lhbCBMaXRpZ2F0aW9uIl19&page=9\n",
      "accediendo a: https://www.martindale.com/search/attorneys-law-firms-articles/?term=Puerto+Rico%2C+USA&params=eyJ0eXBlIjoicGVvcGxlIiwiY29tcGFyZSI6IiIsInRlcm0iOiJQdWVydG8gUmljbywgVVNBIiwiZ2VvTG9jYXRpb25GYWNldCI6WyJQdWVydG8gUmljbywgVS5TLkEuIl0sImdlb0xvY2F0aW9uRmFjZXRSZWNlbnRzIjpbIlB1ZXJ0byBSaWNvLCBVLlMuQS4iXSwicGFnZSI6MSwibGltaXQiOjI1LCJvZmZzZXQiOjAsInNvcnQiOiIiLCJzb3J0VHlwZSI6IiIsImNsZWFyUGFyYW1zIjpmYWxzZSwia2V5d29yZCI6IiIsInBhZ2VUaXRsZSI6Imw6UHVlcnRvIFJpY28sIFUuUy5BLiIsInByYWN0aWNlQXJlYXMiOlsiQ29tbWVyY2lhbCBMaXRpZ2F0aW9uIl19&page=10\n",
      "accediendo a: https://www.martindale.com/search/attorneys-law-firms-articles/?term=Puerto+Rico%2C+USA&params=eyJ0eXBlIjoicGVvcGxlIiwiY29tcGFyZSI6IiIsInRlcm0iOiJQdWVydG8gUmljbywgVVNBIiwiZ2VvTG9jYXRpb25GYWNldCI6WyJQdWVydG8gUmljbywgVS5TLkEuIl0sImdlb0xvY2F0aW9uRmFjZXRSZWNlbnRzIjpbIlB1ZXJ0byBSaWNvLCBVLlMuQS4iXSwicGFnZSI6MSwibGltaXQiOjI1LCJvZmZzZXQiOjAsInNvcnQiOiIiLCJzb3J0VHlwZSI6IiIsImNsZWFyUGFyYW1zIjpmYWxzZSwia2V5d29yZCI6IiIsInBhZ2VUaXRsZSI6Imw6UHVlcnRvIFJpY28sIFUuUy5BLiIsInByYWN0aWNlQXJlYXMiOlsiQ29tbWVyY2lhbCBMaXRpZ2F0aW9uIl19&page=11\n",
      "accediendo a: https://www.martindale.com/search/attorneys-law-firms-articles/?term=Puerto+Rico%2C+USA&params=eyJ0eXBlIjoicGVvcGxlIiwiY29tcGFyZSI6IiIsInRlcm0iOiJQdWVydG8gUmljbywgVVNBIiwiZ2VvTG9jYXRpb25GYWNldCI6WyJQdWVydG8gUmljbywgVS5TLkEuIl0sImdlb0xvY2F0aW9uRmFjZXRSZWNlbnRzIjpbIlB1ZXJ0byBSaWNvLCBVLlMuQS4iXSwicGFnZSI6MSwibGltaXQiOjI1LCJvZmZzZXQiOjAsInNvcnQiOiIiLCJzb3J0VHlwZSI6IiIsImNsZWFyUGFyYW1zIjpmYWxzZSwia2V5d29yZCI6IiIsInBhZ2VUaXRsZSI6Imw6UHVlcnRvIFJpY28sIFUuUy5BLiIsInByYWN0aWNlQXJlYXMiOlsiQ29tbWVyY2lhbCBMaXRpZ2F0aW9uIl19&page=12\n",
      "accediendo a: https://www.martindale.com/search/attorneys-law-firms-articles/?term=Puerto+Rico%2C+USA&params=eyJ0eXBlIjoicGVvcGxlIiwiY29tcGFyZSI6IiIsInRlcm0iOiJQdWVydG8gUmljbywgVVNBIiwiZ2VvTG9jYXRpb25GYWNldCI6WyJQdWVydG8gUmljbywgVS5TLkEuIl0sImdlb0xvY2F0aW9uRmFjZXRSZWNlbnRzIjpbIlB1ZXJ0byBSaWNvLCBVLlMuQS4iXSwicGFnZSI6MSwibGltaXQiOjI1LCJvZmZzZXQiOjAsInNvcnQiOiIiLCJzb3J0VHlwZSI6IiIsImNsZWFyUGFyYW1zIjpmYWxzZSwia2V5d29yZCI6IiIsInBhZ2VUaXRsZSI6Imw6UHVlcnRvIFJpY28sIFUuUy5BLiIsInByYWN0aWNlQXJlYXMiOlsiQ29tbWVyY2lhbCBMaXRpZ2F0aW9uIl19&page=13\n",
      "accediendo a: https://www.martindale.com/search/attorneys-law-firms-articles/?term=Puerto+Rico%2C+USA&params=eyJ0eXBlIjoicGVvcGxlIiwiY29tcGFyZSI6IiIsInRlcm0iOiJQdWVydG8gUmljbywgVVNBIiwiZ2VvTG9jYXRpb25GYWNldCI6WyJQdWVydG8gUmljbywgVS5TLkEuIl0sImdlb0xvY2F0aW9uRmFjZXRSZWNlbnRzIjpbIlB1ZXJ0byBSaWNvLCBVLlMuQS4iXSwicGFnZSI6MSwibGltaXQiOjI1LCJvZmZzZXQiOjAsInNvcnQiOiIiLCJzb3J0VHlwZSI6IiIsImNsZWFyUGFyYW1zIjpmYWxzZSwia2V5d29yZCI6IiIsInBhZ2VUaXRsZSI6Imw6UHVlcnRvIFJpY28sIFUuUy5BLiIsInByYWN0aWNlQXJlYXMiOlsiQ29tbWVyY2lhbCBMaXRpZ2F0aW9uIl19&page=14\n"
     ]
    },
    {
     "name": "stderr",
     "output_type": "stream",
     "text": [
      " 66%|██████▌   | 60/91 [27:06<12:25, 24.03s/it]"
     ]
    },
    {
     "name": "stdout",
     "output_type": "stream",
     "text": [
      "paginas en esta url: 2\n",
      "accediendo a: https://www.martindale.com/search/attorneys-law-firms-articles/?term=Puerto+Rico%2C+USA&params=eyJ0eXBlIjoicGVvcGxlIiwiY29tcGFyZSI6IiIsInRlcm0iOiJQdWVydG8gUmljbywgVVNBIiwiZ2VvTG9jYXRpb25GYWNldCI6WyJQdWVydG8gUmljbywgVS5TLkEuIl0sImdlb0xvY2F0aW9uRmFjZXRSZWNlbnRzIjpbIlB1ZXJ0byBSaWNvLCBVLlMuQS4iXSwicGFnZSI6MSwibGltaXQiOjI1LCJvZmZzZXQiOjAsInNvcnQiOiIiLCJzb3J0VHlwZSI6IiIsImNsZWFyUGFyYW1zIjpmYWxzZSwia2V5d29yZCI6IiIsInBhZ2VUaXRsZSI6Imw6UHVlcnRvIFJpY28sIFUuUy5BLiIsInByYWN0aWNlQXJlYXMiOlsiSW50ZXJuYXRpb25hbCBMYXciXX0%3D\n",
      "accediendo a: https://www.martindale.com/search/attorneys-law-firms-articles/?term=Puerto+Rico%2C+USA&params=eyJ0eXBlIjoicGVvcGxlIiwiY29tcGFyZSI6IiIsInRlcm0iOiJQdWVydG8gUmljbywgVVNBIiwiZ2VvTG9jYXRpb25GYWNldCI6WyJQdWVydG8gUmljbywgVS5TLkEuIl0sImdlb0xvY2F0aW9uRmFjZXRSZWNlbnRzIjpbIlB1ZXJ0byBSaWNvLCBVLlMuQS4iXSwicGFnZSI6MSwibGltaXQiOjI1LCJvZmZzZXQiOjAsInNvcnQiOiIiLCJzb3J0VHlwZSI6IiIsImNsZWFyUGFyYW1zIjpmYWxzZSwia2V5d29yZCI6IiIsInBhZ2VUaXRsZSI6Imw6UHVlcnRvIFJpY28sIFUuUy5BLiIsInByYWN0aWNlQXJlYXMiOlsiSW50ZXJuYXRpb25hbCBMYXciXX0%3D&page=2\n",
      "https://www.martindale.com/attorney/john-l-a-de-passalacqua-1572357/\n"
     ]
    },
    {
     "name": "stderr",
     "output_type": "stream",
     "text": [
      " 67%|██████▋   | 61/91 [27:16<10:02, 20.07s/it]"
     ]
    },
    {
     "name": "stdout",
     "output_type": "stream",
     "text": [
      "paginas en esta url: 20\n",
      "accediendo a: https://www.martindale.com/search/attorneys-law-firms-articles/?term=Puerto+Rico%2C+USA&params=eyJ0eXBlIjoicGVvcGxlIiwiY29tcGFyZSI6IiIsInRlcm0iOiJQdWVydG8gUmljbywgVVNBIiwiZ2VvTG9jYXRpb25GYWNldCI6WyJQdWVydG8gUmljbywgVS5TLkEuIl0sImdlb0xvY2F0aW9uRmFjZXRSZWNlbnRzIjpbIlB1ZXJ0byBSaWNvLCBVLlMuQS4iXSwicGFnZSI6MSwibGltaXQiOjI1LCJvZmZzZXQiOjAsInNvcnQiOiIiLCJzb3J0VHlwZSI6IiIsImNsZWFyUGFyYW1zIjpmYWxzZSwia2V5d29yZCI6IiIsInBhZ2VUaXRsZSI6Imw6UHVlcnRvIFJpY28sIFUuUy5BLiIsInByYWN0aWNlQXJlYXMiOlsiTGFib3IgYW5kIEVtcGxveW1lbnQiXX0%3D\n",
      "accediendo a: https://www.martindale.com/search/attorneys-law-firms-articles/?term=Puerto+Rico%2C+USA&params=eyJ0eXBlIjoicGVvcGxlIiwiY29tcGFyZSI6IiIsInRlcm0iOiJQdWVydG8gUmljbywgVVNBIiwiZ2VvTG9jYXRpb25GYWNldCI6WyJQdWVydG8gUmljbywgVS5TLkEuIl0sImdlb0xvY2F0aW9uRmFjZXRSZWNlbnRzIjpbIlB1ZXJ0byBSaWNvLCBVLlMuQS4iXSwicGFnZSI6MSwibGltaXQiOjI1LCJvZmZzZXQiOjAsInNvcnQiOiIiLCJzb3J0VHlwZSI6IiIsImNsZWFyUGFyYW1zIjpmYWxzZSwia2V5d29yZCI6IiIsInBhZ2VUaXRsZSI6Imw6UHVlcnRvIFJpY28sIFUuUy5BLiIsInByYWN0aWNlQXJlYXMiOlsiTGFib3IgYW5kIEVtcGxveW1lbnQiXX0%3D&page=2\n",
      "accediendo a: https://www.martindale.com/search/attorneys-law-firms-articles/?term=Puerto+Rico%2C+USA&params=eyJ0eXBlIjoicGVvcGxlIiwiY29tcGFyZSI6IiIsInRlcm0iOiJQdWVydG8gUmljbywgVVNBIiwiZ2VvTG9jYXRpb25GYWNldCI6WyJQdWVydG8gUmljbywgVS5TLkEuIl0sImdlb0xvY2F0aW9uRmFjZXRSZWNlbnRzIjpbIlB1ZXJ0byBSaWNvLCBVLlMuQS4iXSwicGFnZSI6MSwibGltaXQiOjI1LCJvZmZzZXQiOjAsInNvcnQiOiIiLCJzb3J0VHlwZSI6IiIsImNsZWFyUGFyYW1zIjpmYWxzZSwia2V5d29yZCI6IiIsInBhZ2VUaXRsZSI6Imw6UHVlcnRvIFJpY28sIFUuUy5BLiIsInByYWN0aWNlQXJlYXMiOlsiTGFib3IgYW5kIEVtcGxveW1lbnQiXX0%3D&page=3\n",
      "accediendo a: https://www.martindale.com/search/attorneys-law-firms-articles/?term=Puerto+Rico%2C+USA&params=eyJ0eXBlIjoicGVvcGxlIiwiY29tcGFyZSI6IiIsInRlcm0iOiJQdWVydG8gUmljbywgVVNBIiwiZ2VvTG9jYXRpb25GYWNldCI6WyJQdWVydG8gUmljbywgVS5TLkEuIl0sImdlb0xvY2F0aW9uRmFjZXRSZWNlbnRzIjpbIlB1ZXJ0byBSaWNvLCBVLlMuQS4iXSwicGFnZSI6MSwibGltaXQiOjI1LCJvZmZzZXQiOjAsInNvcnQiOiIiLCJzb3J0VHlwZSI6IiIsImNsZWFyUGFyYW1zIjpmYWxzZSwia2V5d29yZCI6IiIsInBhZ2VUaXRsZSI6Imw6UHVlcnRvIFJpY28sIFUuUy5BLiIsInByYWN0aWNlQXJlYXMiOlsiTGFib3IgYW5kIEVtcGxveW1lbnQiXX0%3D&page=4\n",
      "accediendo a: https://www.martindale.com/search/attorneys-law-firms-articles/?term=Puerto+Rico%2C+USA&params=eyJ0eXBlIjoicGVvcGxlIiwiY29tcGFyZSI6IiIsInRlcm0iOiJQdWVydG8gUmljbywgVVNBIiwiZ2VvTG9jYXRpb25GYWNldCI6WyJQdWVydG8gUmljbywgVS5TLkEuIl0sImdlb0xvY2F0aW9uRmFjZXRSZWNlbnRzIjpbIlB1ZXJ0byBSaWNvLCBVLlMuQS4iXSwicGFnZSI6MSwibGltaXQiOjI1LCJvZmZzZXQiOjAsInNvcnQiOiIiLCJzb3J0VHlwZSI6IiIsImNsZWFyUGFyYW1zIjpmYWxzZSwia2V5d29yZCI6IiIsInBhZ2VUaXRsZSI6Imw6UHVlcnRvIFJpY28sIFUuUy5BLiIsInByYWN0aWNlQXJlYXMiOlsiTGFib3IgYW5kIEVtcGxveW1lbnQiXX0%3D&page=5\n",
      "https://www.martindale.com/attorney/katyana-farokhzadeh-lopez-157265002/\n",
      "accediendo a: https://www.martindale.com/search/attorneys-law-firms-articles/?term=Puerto+Rico%2C+USA&params=eyJ0eXBlIjoicGVvcGxlIiwiY29tcGFyZSI6IiIsInRlcm0iOiJQdWVydG8gUmljbywgVVNBIiwiZ2VvTG9jYXRpb25GYWNldCI6WyJQdWVydG8gUmljbywgVS5TLkEuIl0sImdlb0xvY2F0aW9uRmFjZXRSZWNlbnRzIjpbIlB1ZXJ0byBSaWNvLCBVLlMuQS4iXSwicGFnZSI6MSwibGltaXQiOjI1LCJvZmZzZXQiOjAsInNvcnQiOiIiLCJzb3J0VHlwZSI6IiIsImNsZWFyUGFyYW1zIjpmYWxzZSwia2V5d29yZCI6IiIsInBhZ2VUaXRsZSI6Imw6UHVlcnRvIFJpY28sIFUuUy5BLiIsInByYWN0aWNlQXJlYXMiOlsiTGFib3IgYW5kIEVtcGxveW1lbnQiXX0%3D&page=6\n",
      "accediendo a: https://www.martindale.com/search/attorneys-law-firms-articles/?term=Puerto+Rico%2C+USA&params=eyJ0eXBlIjoicGVvcGxlIiwiY29tcGFyZSI6IiIsInRlcm0iOiJQdWVydG8gUmljbywgVVNBIiwiZ2VvTG9jYXRpb25GYWNldCI6WyJQdWVydG8gUmljbywgVS5TLkEuIl0sImdlb0xvY2F0aW9uRmFjZXRSZWNlbnRzIjpbIlB1ZXJ0byBSaWNvLCBVLlMuQS4iXSwicGFnZSI6MSwibGltaXQiOjI1LCJvZmZzZXQiOjAsInNvcnQiOiIiLCJzb3J0VHlwZSI6IiIsImNsZWFyUGFyYW1zIjpmYWxzZSwia2V5d29yZCI6IiIsInBhZ2VUaXRsZSI6Imw6UHVlcnRvIFJpY28sIFUuUy5BLiIsInByYWN0aWNlQXJlYXMiOlsiTGFib3IgYW5kIEVtcGxveW1lbnQiXX0%3D&page=7\n",
      "accediendo a: https://www.martindale.com/search/attorneys-law-firms-articles/?term=Puerto+Rico%2C+USA&params=eyJ0eXBlIjoicGVvcGxlIiwiY29tcGFyZSI6IiIsInRlcm0iOiJQdWVydG8gUmljbywgVVNBIiwiZ2VvTG9jYXRpb25GYWNldCI6WyJQdWVydG8gUmljbywgVS5TLkEuIl0sImdlb0xvY2F0aW9uRmFjZXRSZWNlbnRzIjpbIlB1ZXJ0byBSaWNvLCBVLlMuQS4iXSwicGFnZSI6MSwibGltaXQiOjI1LCJvZmZzZXQiOjAsInNvcnQiOiIiLCJzb3J0VHlwZSI6IiIsImNsZWFyUGFyYW1zIjpmYWxzZSwia2V5d29yZCI6IiIsInBhZ2VUaXRsZSI6Imw6UHVlcnRvIFJpY28sIFUuUy5BLiIsInByYWN0aWNlQXJlYXMiOlsiTGFib3IgYW5kIEVtcGxveW1lbnQiXX0%3D&page=8\n",
      "accediendo a: https://www.martindale.com/search/attorneys-law-firms-articles/?term=Puerto+Rico%2C+USA&params=eyJ0eXBlIjoicGVvcGxlIiwiY29tcGFyZSI6IiIsInRlcm0iOiJQdWVydG8gUmljbywgVVNBIiwiZ2VvTG9jYXRpb25GYWNldCI6WyJQdWVydG8gUmljbywgVS5TLkEuIl0sImdlb0xvY2F0aW9uRmFjZXRSZWNlbnRzIjpbIlB1ZXJ0byBSaWNvLCBVLlMuQS4iXSwicGFnZSI6MSwibGltaXQiOjI1LCJvZmZzZXQiOjAsInNvcnQiOiIiLCJzb3J0VHlwZSI6IiIsImNsZWFyUGFyYW1zIjpmYWxzZSwia2V5d29yZCI6IiIsInBhZ2VUaXRsZSI6Imw6UHVlcnRvIFJpY28sIFUuUy5BLiIsInByYWN0aWNlQXJlYXMiOlsiTGFib3IgYW5kIEVtcGxveW1lbnQiXX0%3D&page=9\n",
      "https://www.martindale.com/attorney/francisco-a-besosa-martinez-45435851/\n",
      "accediendo a: https://www.martindale.com/search/attorneys-law-firms-articles/?term=Puerto+Rico%2C+USA&params=eyJ0eXBlIjoicGVvcGxlIiwiY29tcGFyZSI6IiIsInRlcm0iOiJQdWVydG8gUmljbywgVVNBIiwiZ2VvTG9jYXRpb25GYWNldCI6WyJQdWVydG8gUmljbywgVS5TLkEuIl0sImdlb0xvY2F0aW9uRmFjZXRSZWNlbnRzIjpbIlB1ZXJ0byBSaWNvLCBVLlMuQS4iXSwicGFnZSI6MSwibGltaXQiOjI1LCJvZmZzZXQiOjAsInNvcnQiOiIiLCJzb3J0VHlwZSI6IiIsImNsZWFyUGFyYW1zIjpmYWxzZSwia2V5d29yZCI6IiIsInBhZ2VUaXRsZSI6Imw6UHVlcnRvIFJpY28sIFUuUy5BLiIsInByYWN0aWNlQXJlYXMiOlsiTGFib3IgYW5kIEVtcGxveW1lbnQiXX0%3D&page=10\n",
      "https://www.martindale.com/attorney/luis-r-perez-giusti-1572203/\n",
      "https://www.martindale.com/attorney/raquel-m-dulzaides-1572957/\n",
      "accediendo a: https://www.martindale.com/search/attorneys-law-firms-articles/?term=Puerto+Rico%2C+USA&params=eyJ0eXBlIjoicGVvcGxlIiwiY29tcGFyZSI6IiIsInRlcm0iOiJQdWVydG8gUmljbywgVVNBIiwiZ2VvTG9jYXRpb25GYWNldCI6WyJQdWVydG8gUmljbywgVS5TLkEuIl0sImdlb0xvY2F0aW9uRmFjZXRSZWNlbnRzIjpbIlB1ZXJ0byBSaWNvLCBVLlMuQS4iXSwicGFnZSI6MSwibGltaXQiOjI1LCJvZmZzZXQiOjAsInNvcnQiOiIiLCJzb3J0VHlwZSI6IiIsImNsZWFyUGFyYW1zIjpmYWxzZSwia2V5d29yZCI6IiIsInBhZ2VUaXRsZSI6Imw6UHVlcnRvIFJpY28sIFUuUy5BLiIsInByYWN0aWNlQXJlYXMiOlsiTGFib3IgYW5kIEVtcGxveW1lbnQiXX0%3D&page=11\n",
      "https://www.martindale.com/attorney/maria-milagros-soto-1573068/\n",
      "accediendo a: https://www.martindale.com/search/attorneys-law-firms-articles/?term=Puerto+Rico%2C+USA&params=eyJ0eXBlIjoicGVvcGxlIiwiY29tcGFyZSI6IiIsInRlcm0iOiJQdWVydG8gUmljbywgVVNBIiwiZ2VvTG9jYXRpb25GYWNldCI6WyJQdWVydG8gUmljbywgVS5TLkEuIl0sImdlb0xvY2F0aW9uRmFjZXRSZWNlbnRzIjpbIlB1ZXJ0byBSaWNvLCBVLlMuQS4iXSwicGFnZSI6MSwibGltaXQiOjI1LCJvZmZzZXQiOjAsInNvcnQiOiIiLCJzb3J0VHlwZSI6IiIsImNsZWFyUGFyYW1zIjpmYWxzZSwia2V5d29yZCI6IiIsInBhZ2VUaXRsZSI6Imw6UHVlcnRvIFJpY28sIFUuUy5BLiIsInByYWN0aWNlQXJlYXMiOlsiTGFib3IgYW5kIEVtcGxveW1lbnQiXX0%3D&page=12\n",
      "https://www.martindale.com/attorney/irene-vera-2040065/\n",
      "accediendo a: https://www.martindale.com/search/attorneys-law-firms-articles/?term=Puerto+Rico%2C+USA&params=eyJ0eXBlIjoicGVvcGxlIiwiY29tcGFyZSI6IiIsInRlcm0iOiJQdWVydG8gUmljbywgVVNBIiwiZ2VvTG9jYXRpb25GYWNldCI6WyJQdWVydG8gUmljbywgVS5TLkEuIl0sImdlb0xvY2F0aW9uRmFjZXRSZWNlbnRzIjpbIlB1ZXJ0byBSaWNvLCBVLlMuQS4iXSwicGFnZSI6MSwibGltaXQiOjI1LCJvZmZzZXQiOjAsInNvcnQiOiIiLCJzb3J0VHlwZSI6IiIsImNsZWFyUGFyYW1zIjpmYWxzZSwia2V5d29yZCI6IiIsInBhZ2VUaXRsZSI6Imw6UHVlcnRvIFJpY28sIFUuUy5BLiIsInByYWN0aWNlQXJlYXMiOlsiTGFib3IgYW5kIEVtcGxveW1lbnQiXX0%3D&page=13\n",
      "accediendo a: https://www.martindale.com/search/attorneys-law-firms-articles/?term=Puerto+Rico%2C+USA&params=eyJ0eXBlIjoicGVvcGxlIiwiY29tcGFyZSI6IiIsInRlcm0iOiJQdWVydG8gUmljbywgVVNBIiwiZ2VvTG9jYXRpb25GYWNldCI6WyJQdWVydG8gUmljbywgVS5TLkEuIl0sImdlb0xvY2F0aW9uRmFjZXRSZWNlbnRzIjpbIlB1ZXJ0byBSaWNvLCBVLlMuQS4iXSwicGFnZSI6MSwibGltaXQiOjI1LCJvZmZzZXQiOjAsInNvcnQiOiIiLCJzb3J0VHlwZSI6IiIsImNsZWFyUGFyYW1zIjpmYWxzZSwia2V5d29yZCI6IiIsInBhZ2VUaXRsZSI6Imw6UHVlcnRvIFJpY28sIFUuUy5BLiIsInByYWN0aWNlQXJlYXMiOlsiTGFib3IgYW5kIEVtcGxveW1lbnQiXX0%3D&page=14\n",
      "accediendo a: https://www.martindale.com/search/attorneys-law-firms-articles/?term=Puerto+Rico%2C+USA&params=eyJ0eXBlIjoicGVvcGxlIiwiY29tcGFyZSI6IiIsInRlcm0iOiJQdWVydG8gUmljbywgVVNBIiwiZ2VvTG9jYXRpb25GYWNldCI6WyJQdWVydG8gUmljbywgVS5TLkEuIl0sImdlb0xvY2F0aW9uRmFjZXRSZWNlbnRzIjpbIlB1ZXJ0byBSaWNvLCBVLlMuQS4iXSwicGFnZSI6MSwibGltaXQiOjI1LCJvZmZzZXQiOjAsInNvcnQiOiIiLCJzb3J0VHlwZSI6IiIsImNsZWFyUGFyYW1zIjpmYWxzZSwia2V5d29yZCI6IiIsInBhZ2VUaXRsZSI6Imw6UHVlcnRvIFJpY28sIFUuUy5BLiIsInByYWN0aWNlQXJlYXMiOlsiTGFib3IgYW5kIEVtcGxveW1lbnQiXX0%3D&page=15\n",
      "accediendo a: https://www.martindale.com/search/attorneys-law-firms-articles/?term=Puerto+Rico%2C+USA&params=eyJ0eXBlIjoicGVvcGxlIiwiY29tcGFyZSI6IiIsInRlcm0iOiJQdWVydG8gUmljbywgVVNBIiwiZ2VvTG9jYXRpb25GYWNldCI6WyJQdWVydG8gUmljbywgVS5TLkEuIl0sImdlb0xvY2F0aW9uRmFjZXRSZWNlbnRzIjpbIlB1ZXJ0byBSaWNvLCBVLlMuQS4iXSwicGFnZSI6MSwibGltaXQiOjI1LCJvZmZzZXQiOjAsInNvcnQiOiIiLCJzb3J0VHlwZSI6IiIsImNsZWFyUGFyYW1zIjpmYWxzZSwia2V5d29yZCI6IiIsInBhZ2VUaXRsZSI6Imw6UHVlcnRvIFJpY28sIFUuUy5BLiIsInByYWN0aWNlQXJlYXMiOlsiTGFib3IgYW5kIEVtcGxveW1lbnQiXX0%3D&page=16\n",
      "accediendo a: https://www.martindale.com/search/attorneys-law-firms-articles/?term=Puerto+Rico%2C+USA&params=eyJ0eXBlIjoicGVvcGxlIiwiY29tcGFyZSI6IiIsInRlcm0iOiJQdWVydG8gUmljbywgVVNBIiwiZ2VvTG9jYXRpb25GYWNldCI6WyJQdWVydG8gUmljbywgVS5TLkEuIl0sImdlb0xvY2F0aW9uRmFjZXRSZWNlbnRzIjpbIlB1ZXJ0byBSaWNvLCBVLlMuQS4iXSwicGFnZSI6MSwibGltaXQiOjI1LCJvZmZzZXQiOjAsInNvcnQiOiIiLCJzb3J0VHlwZSI6IiIsImNsZWFyUGFyYW1zIjpmYWxzZSwia2V5d29yZCI6IiIsInBhZ2VUaXRsZSI6Imw6UHVlcnRvIFJpY28sIFUuUy5BLiIsInByYWN0aWNlQXJlYXMiOlsiTGFib3IgYW5kIEVtcGxveW1lbnQiXX0%3D&page=17\n",
      "accediendo a: https://www.martindale.com/search/attorneys-law-firms-articles/?term=Puerto+Rico%2C+USA&params=eyJ0eXBlIjoicGVvcGxlIiwiY29tcGFyZSI6IiIsInRlcm0iOiJQdWVydG8gUmljbywgVVNBIiwiZ2VvTG9jYXRpb25GYWNldCI6WyJQdWVydG8gUmljbywgVS5TLkEuIl0sImdlb0xvY2F0aW9uRmFjZXRSZWNlbnRzIjpbIlB1ZXJ0byBSaWNvLCBVLlMuQS4iXSwicGFnZSI6MSwibGltaXQiOjI1LCJvZmZzZXQiOjAsInNvcnQiOiIiLCJzb3J0VHlwZSI6IiIsImNsZWFyUGFyYW1zIjpmYWxzZSwia2V5d29yZCI6IiIsInBhZ2VUaXRsZSI6Imw6UHVlcnRvIFJpY28sIFUuUy5BLiIsInByYWN0aWNlQXJlYXMiOlsiTGFib3IgYW5kIEVtcGxveW1lbnQiXX0%3D&page=18\n",
      "https://www.martindale.com/attorney/victor-m-comolli-1573164/\n",
      "https://www.martindale.com/attorney/michelle-l-holley-vazquez-167747226/\n",
      "https://www.martindale.com/attorney/natalia-villavicencio-camacho-3826343/\n",
      "accediendo a: https://www.martindale.com/search/attorneys-law-firms-articles/?term=Puerto+Rico%2C+USA&params=eyJ0eXBlIjoicGVvcGxlIiwiY29tcGFyZSI6IiIsInRlcm0iOiJQdWVydG8gUmljbywgVVNBIiwiZ2VvTG9jYXRpb25GYWNldCI6WyJQdWVydG8gUmljbywgVS5TLkEuIl0sImdlb0xvY2F0aW9uRmFjZXRSZWNlbnRzIjpbIlB1ZXJ0byBSaWNvLCBVLlMuQS4iXSwicGFnZSI6MSwibGltaXQiOjI1LCJvZmZzZXQiOjAsInNvcnQiOiIiLCJzb3J0VHlwZSI6IiIsImNsZWFyUGFyYW1zIjpmYWxzZSwia2V5d29yZCI6IiIsInBhZ2VUaXRsZSI6Imw6UHVlcnRvIFJpY28sIFUuUy5BLiIsInByYWN0aWNlQXJlYXMiOlsiTGFib3IgYW5kIEVtcGxveW1lbnQiXX0%3D&page=19\n",
      "accediendo a: https://www.martindale.com/search/attorneys-law-firms-articles/?term=Puerto+Rico%2C+USA&params=eyJ0eXBlIjoicGVvcGxlIiwiY29tcGFyZSI6IiIsInRlcm0iOiJQdWVydG8gUmljbywgVVNBIiwiZ2VvTG9jYXRpb25GYWNldCI6WyJQdWVydG8gUmljbywgVS5TLkEuIl0sImdlb0xvY2F0aW9uRmFjZXRSZWNlbnRzIjpbIlB1ZXJ0byBSaWNvLCBVLlMuQS4iXSwicGFnZSI6MSwibGltaXQiOjI1LCJvZmZzZXQiOjAsInNvcnQiOiIiLCJzb3J0VHlwZSI6IiIsImNsZWFyUGFyYW1zIjpmYWxzZSwia2V5d29yZCI6IiIsInBhZ2VUaXRsZSI6Imw6UHVlcnRvIFJpY28sIFUuUy5BLiIsInByYWN0aWNlQXJlYXMiOlsiTGFib3IgYW5kIEVtcGxveW1lbnQiXX0%3D&page=20\n"
     ]
    },
    {
     "name": "stderr",
     "output_type": "stream",
     "text": [
      " 68%|██████▊   | 62/91 [27:57<12:40, 26.22s/it]"
     ]
    },
    {
     "name": "stdout",
     "output_type": "stream",
     "text": [
      "paginas en esta url: 5\n",
      "accediendo a: https://www.martindale.com/search/attorneys-law-firms-articles/?term=Puerto+Rico%2C+USA&params=eyJ0eXBlIjoicGVvcGxlIiwiY29tcGFyZSI6IiIsInRlcm0iOiJQdWVydG8gUmljbywgVVNBIiwiZ2VvTG9jYXRpb25GYWNldCI6WyJQdWVydG8gUmljbywgVS5TLkEuIl0sImdlb0xvY2F0aW9uRmFjZXRSZWNlbnRzIjpbIlB1ZXJ0byBSaWNvLCBVLlMuQS4iXSwicGFnZSI6MSwibGltaXQiOjI1LCJvZmZzZXQiOjAsInNvcnQiOiIiLCJzb3J0VHlwZSI6IiIsImNsZWFyUGFyYW1zIjpmYWxzZSwia2V5d29yZCI6IiIsInBhZ2VUaXRsZSI6Imw6UHVlcnRvIFJpY28sIFUuUy5BLiIsInByYWN0aWNlQXJlYXMiOlsiRGVidG9yIGFuZCBDcmVkaXRvciJdfQ%3D%3D\n",
      "accediendo a: https://www.martindale.com/search/attorneys-law-firms-articles/?term=Puerto+Rico%2C+USA&params=eyJ0eXBlIjoicGVvcGxlIiwiY29tcGFyZSI6IiIsInRlcm0iOiJQdWVydG8gUmljbywgVVNBIiwiZ2VvTG9jYXRpb25GYWNldCI6WyJQdWVydG8gUmljbywgVS5TLkEuIl0sImdlb0xvY2F0aW9uRmFjZXRSZWNlbnRzIjpbIlB1ZXJ0byBSaWNvLCBVLlMuQS4iXSwicGFnZSI6MSwibGltaXQiOjI1LCJvZmZzZXQiOjAsInNvcnQiOiIiLCJzb3J0VHlwZSI6IiIsImNsZWFyUGFyYW1zIjpmYWxzZSwia2V5d29yZCI6IiIsInBhZ2VUaXRsZSI6Imw6UHVlcnRvIFJpY28sIFUuUy5BLiIsInByYWN0aWNlQXJlYXMiOlsiRGVidG9yIGFuZCBDcmVkaXRvciJdfQ%3D%3D&page=2\n",
      "accediendo a: https://www.martindale.com/search/attorneys-law-firms-articles/?term=Puerto+Rico%2C+USA&params=eyJ0eXBlIjoicGVvcGxlIiwiY29tcGFyZSI6IiIsInRlcm0iOiJQdWVydG8gUmljbywgVVNBIiwiZ2VvTG9jYXRpb25GYWNldCI6WyJQdWVydG8gUmljbywgVS5TLkEuIl0sImdlb0xvY2F0aW9uRmFjZXRSZWNlbnRzIjpbIlB1ZXJ0byBSaWNvLCBVLlMuQS4iXSwicGFnZSI6MSwibGltaXQiOjI1LCJvZmZzZXQiOjAsInNvcnQiOiIiLCJzb3J0VHlwZSI6IiIsImNsZWFyUGFyYW1zIjpmYWxzZSwia2V5d29yZCI6IiIsInBhZ2VUaXRsZSI6Imw6UHVlcnRvIFJpY28sIFUuUy5BLiIsInByYWN0aWNlQXJlYXMiOlsiRGVidG9yIGFuZCBDcmVkaXRvciJdfQ%3D%3D&page=3\n",
      "accediendo a: https://www.martindale.com/search/attorneys-law-firms-articles/?term=Puerto+Rico%2C+USA&params=eyJ0eXBlIjoicGVvcGxlIiwiY29tcGFyZSI6IiIsInRlcm0iOiJQdWVydG8gUmljbywgVVNBIiwiZ2VvTG9jYXRpb25GYWNldCI6WyJQdWVydG8gUmljbywgVS5TLkEuIl0sImdlb0xvY2F0aW9uRmFjZXRSZWNlbnRzIjpbIlB1ZXJ0byBSaWNvLCBVLlMuQS4iXSwicGFnZSI6MSwibGltaXQiOjI1LCJvZmZzZXQiOjAsInNvcnQiOiIiLCJzb3J0VHlwZSI6IiIsImNsZWFyUGFyYW1zIjpmYWxzZSwia2V5d29yZCI6IiIsInBhZ2VUaXRsZSI6Imw6UHVlcnRvIFJpY28sIFUuUy5BLiIsInByYWN0aWNlQXJlYXMiOlsiRGVidG9yIGFuZCBDcmVkaXRvciJdfQ%3D%3D&page=4\n",
      "accediendo a: https://www.martindale.com/search/attorneys-law-firms-articles/?term=Puerto+Rico%2C+USA&params=eyJ0eXBlIjoicGVvcGxlIiwiY29tcGFyZSI6IiIsInRlcm0iOiJQdWVydG8gUmljbywgVVNBIiwiZ2VvTG9jYXRpb25GYWNldCI6WyJQdWVydG8gUmljbywgVS5TLkEuIl0sImdlb0xvY2F0aW9uRmFjZXRSZWNlbnRzIjpbIlB1ZXJ0byBSaWNvLCBVLlMuQS4iXSwicGFnZSI6MSwibGltaXQiOjI1LCJvZmZzZXQiOjAsInNvcnQiOiIiLCJzb3J0VHlwZSI6IiIsImNsZWFyUGFyYW1zIjpmYWxzZSwia2V5d29yZCI6IiIsInBhZ2VUaXRsZSI6Imw6UHVlcnRvIFJpY28sIFUuUy5BLiIsInByYWN0aWNlQXJlYXMiOlsiRGVidG9yIGFuZCBDcmVkaXRvciJdfQ%3D%3D&page=5\n"
     ]
    },
    {
     "name": "stderr",
     "output_type": "stream",
     "text": [
      " 69%|██████▉   | 63/91 [28:15<11:02, 23.65s/it]"
     ]
    },
    {
     "name": "stdout",
     "output_type": "stream",
     "text": [
      "paginas en esta url: 1\n",
      "accediendo a: https://www.martindale.com/search/attorneys-law-firms-articles/?term=Puerto+Rico%2C+USA&params=eyJ0eXBlIjoicGVvcGxlIiwiY29tcGFyZSI6IiIsInRlcm0iOiJQdWVydG8gUmljbywgVVNBIiwiZ2VvTG9jYXRpb25GYWNldCI6WyJQdWVydG8gUmljbywgVS5TLkEuIl0sImdlb0xvY2F0aW9uRmFjZXRSZWNlbnRzIjpbIlB1ZXJ0byBSaWNvLCBVLlMuQS4iXSwicGFnZSI6MSwibGltaXQiOjI1LCJvZmZzZXQiOjAsInNvcnQiOiIiLCJzb3J0VHlwZSI6IiIsImNsZWFyUGFyYW1zIjpmYWxzZSwia2V5d29yZCI6IiIsInBhZ2VUaXRsZSI6Imw6UHVlcnRvIFJpY28sIFUuUy5BLiIsInByYWN0aWNlQXJlYXMiOlsiQWRvcHRpb25zIl19\n"
     ]
    },
    {
     "name": "stderr",
     "output_type": "stream",
     "text": [
      " 70%|███████   | 64/91 [28:37<10:31, 23.37s/it]"
     ]
    },
    {
     "name": "stdout",
     "output_type": "stream",
     "text": [
      "paginas en esta url: 2\n",
      "accediendo a: https://www.martindale.com/search/attorneys-law-firms-articles/?term=Puerto+Rico%2C+USA&params=eyJ0eXBlIjoicGVvcGxlIiwiY29tcGFyZSI6IiIsInRlcm0iOiJQdWVydG8gUmljbywgVVNBIiwiZ2VvTG9jYXRpb25GYWNldCI6WyJQdWVydG8gUmljbywgVS5TLkEuIl0sImdlb0xvY2F0aW9uRmFjZXRSZWNlbnRzIjpbIlB1ZXJ0byBSaWNvLCBVLlMuQS4iXSwicGFnZSI6MSwibGltaXQiOjI1LCJvZmZzZXQiOjAsInNvcnQiOiIiLCJzb3J0VHlwZSI6IiIsImNsZWFyUGFyYW1zIjpmYWxzZSwia2V5d29yZCI6IiIsInBhZ2VUaXRsZSI6Imw6UHVlcnRvIFJpY28sIFUuUy5BLiIsInByYWN0aWNlQXJlYXMiOlsiRW50ZXJ0YWlubWVudCBMYXciXX0%3D\n",
      "accediendo a: https://www.martindale.com/search/attorneys-law-firms-articles/?term=Puerto+Rico%2C+USA&params=eyJ0eXBlIjoicGVvcGxlIiwiY29tcGFyZSI6IiIsInRlcm0iOiJQdWVydG8gUmljbywgVVNBIiwiZ2VvTG9jYXRpb25GYWNldCI6WyJQdWVydG8gUmljbywgVS5TLkEuIl0sImdlb0xvY2F0aW9uRmFjZXRSZWNlbnRzIjpbIlB1ZXJ0byBSaWNvLCBVLlMuQS4iXSwicGFnZSI6MSwibGltaXQiOjI1LCJvZmZzZXQiOjAsInNvcnQiOiIiLCJzb3J0VHlwZSI6IiIsImNsZWFyUGFyYW1zIjpmYWxzZSwia2V5d29yZCI6IiIsInBhZ2VUaXRsZSI6Imw6UHVlcnRvIFJpY28sIFUuUy5BLiIsInByYWN0aWNlQXJlYXMiOlsiRW50ZXJ0YWlubWVudCBMYXciXX0%3D&page=2\n",
      "https://www.martindale.com/attorney/alfredo-castellanos-bayouth-1571731/\n"
     ]
    },
    {
     "name": "stderr",
     "output_type": "stream",
     "text": [
      " 71%|███████▏  | 65/91 [28:48<08:31, 19.67s/it]"
     ]
    },
    {
     "name": "stdout",
     "output_type": "stream",
     "text": [
      "paginas en esta url: 3\n",
      "accediendo a: https://www.martindale.com/search/attorneys-law-firms-articles/?term=Puerto+Rico%2C+USA&params=eyJ0eXBlIjoicGVvcGxlIiwiY29tcGFyZSI6IiIsInRlcm0iOiJQdWVydG8gUmljbywgVVNBIiwiZ2VvTG9jYXRpb25GYWNldCI6WyJQdWVydG8gUmljbywgVS5TLkEuIl0sImdlb0xvY2F0aW9uRmFjZXRSZWNlbnRzIjpbIlB1ZXJ0byBSaWNvLCBVLlMuQS4iXSwicGFnZSI6MSwibGltaXQiOjI1LCJvZmZzZXQiOjAsInNvcnQiOiIiLCJzb3J0VHlwZSI6IiIsImNsZWFyUGFyYW1zIjpmYWxzZSwia2V5d29yZCI6IiIsInBhZ2VUaXRsZSI6Imw6UHVlcnRvIFJpY28sIFUuUy5BLiIsInByYWN0aWNlQXJlYXMiOlsiRW1wbG95ZWUgQmVuZWZpdHMiXX0%3D\n",
      "accediendo a: https://www.martindale.com/search/attorneys-law-firms-articles/?term=Puerto+Rico%2C+USA&params=eyJ0eXBlIjoicGVvcGxlIiwiY29tcGFyZSI6IiIsInRlcm0iOiJQdWVydG8gUmljbywgVVNBIiwiZ2VvTG9jYXRpb25GYWNldCI6WyJQdWVydG8gUmljbywgVS5TLkEuIl0sImdlb0xvY2F0aW9uRmFjZXRSZWNlbnRzIjpbIlB1ZXJ0byBSaWNvLCBVLlMuQS4iXSwicGFnZSI6MSwibGltaXQiOjI1LCJvZmZzZXQiOjAsInNvcnQiOiIiLCJzb3J0VHlwZSI6IiIsImNsZWFyUGFyYW1zIjpmYWxzZSwia2V5d29yZCI6IiIsInBhZ2VUaXRsZSI6Imw6UHVlcnRvIFJpY28sIFUuUy5BLiIsInByYWN0aWNlQXJlYXMiOlsiRW1wbG95ZWUgQmVuZWZpdHMiXX0%3D&page=2\n",
      "https://www.martindale.com/attorney/soledad-reichard-megwinoff-1573277/\n",
      "https://www.martindale.com/attorney/tatiana-leal-gonzalez-300327664/\n",
      "accediendo a: https://www.martindale.com/search/attorneys-law-firms-articles/?term=Puerto+Rico%2C+USA&params=eyJ0eXBlIjoicGVvcGxlIiwiY29tcGFyZSI6IiIsInRlcm0iOiJQdWVydG8gUmljbywgVVNBIiwiZ2VvTG9jYXRpb25GYWNldCI6WyJQdWVydG8gUmljbywgVS5TLkEuIl0sImdlb0xvY2F0aW9uRmFjZXRSZWNlbnRzIjpbIlB1ZXJ0byBSaWNvLCBVLlMuQS4iXSwicGFnZSI6MSwibGltaXQiOjI1LCJvZmZzZXQiOjAsInNvcnQiOiIiLCJzb3J0VHlwZSI6IiIsImNsZWFyUGFyYW1zIjpmYWxzZSwia2V5d29yZCI6IiIsInBhZ2VUaXRsZSI6Imw6UHVlcnRvIFJpY28sIFUuUy5BLiIsInByYWN0aWNlQXJlYXMiOlsiRW1wbG95ZWUgQmVuZWZpdHMiXX0%3D&page=3\n"
     ]
    },
    {
     "name": "stderr",
     "output_type": "stream",
     "text": [
      " 73%|███████▎  | 66/91 [29:02<07:23, 17.72s/it]"
     ]
    },
    {
     "name": "stdout",
     "output_type": "stream",
     "text": [
      "paginas en esta url: 1\n",
      "accediendo a: https://www.martindale.com/search/attorneys-law-firms-articles/?term=Puerto+Rico%2C+USA&params=eyJ0eXBlIjoicGVvcGxlIiwiY29tcGFyZSI6IiIsInRlcm0iOiJQdWVydG8gUmljbywgVVNBIiwiZ2VvTG9jYXRpb25GYWNldCI6WyJQdWVydG8gUmljbywgVS5TLkEuIl0sImdlb0xvY2F0aW9uRmFjZXRSZWNlbnRzIjpbIlB1ZXJ0byBSaWNvLCBVLlMuQS4iXSwicGFnZSI6MSwibGltaXQiOjI1LCJvZmZzZXQiOjAsInNvcnQiOiIiLCJzb3J0VHlwZSI6IiIsImNsZWFyUGFyYW1zIjpmYWxzZSwia2V5d29yZCI6IiIsInBhZ2VUaXRsZSI6Imw6UHVlcnRvIFJpY28sIFUuUy5BLiIsInByYWN0aWNlQXJlYXMiOlsiTWlzZGVtZWFub3JzIl19\n"
     ]
    },
    {
     "name": "stderr",
     "output_type": "stream",
     "text": [
      " 74%|███████▎  | 67/91 [29:26<07:57, 19.89s/it]"
     ]
    },
    {
     "name": "stdout",
     "output_type": "stream",
     "text": [
      "paginas en esta url: 1\n",
      "accediendo a: https://www.martindale.com/search/attorneys-law-firms-articles/?term=Puerto+Rico%2C+USA&params=eyJ0eXBlIjoicGVvcGxlIiwiY29tcGFyZSI6IiIsInRlcm0iOiJQdWVydG8gUmljbywgVVNBIiwiZ2VvTG9jYXRpb25GYWNldCI6WyJQdWVydG8gUmljbywgVS5TLkEuIl0sImdlb0xvY2F0aW9uRmFjZXRSZWNlbnRzIjpbIlB1ZXJ0byBSaWNvLCBVLlMuQS4iXSwicGFnZSI6MSwibGltaXQiOjI1LCJvZmZzZXQiOjAsInNvcnQiOiIiLCJzb3J0VHlwZSI6IiIsImNsZWFyUGFyYW1zIjpmYWxzZSwia2V5d29yZCI6IiIsInBhZ2VUaXRsZSI6Imw6UHVlcnRvIFJpY28sIFUuUy5BLiIsInByYWN0aWNlQXJlYXMiOlsiQmFua3J1cHRjeSBDaGFwdGVyIDEzIl19\n"
     ]
    },
    {
     "name": "stderr",
     "output_type": "stream",
     "text": [
      " 75%|███████▍  | 68/91 [29:51<08:06, 21.15s/it]"
     ]
    },
    {
     "name": "stdout",
     "output_type": "stream",
     "text": [
      "paginas en esta url: 1\n",
      "accediendo a: https://www.martindale.com/search/attorneys-law-firms-articles/?term=Puerto+Rico%2C+USA&params=eyJ0eXBlIjoicGVvcGxlIiwiY29tcGFyZSI6IiIsInRlcm0iOiJQdWVydG8gUmljbywgVVNBIiwiZ2VvTG9jYXRpb25GYWNldCI6WyJQdWVydG8gUmljbywgVS5TLkEuIl0sImdlb0xvY2F0aW9uRmFjZXRSZWNlbnRzIjpbIlB1ZXJ0byBSaWNvLCBVLlMuQS4iXSwicGFnZSI6MSwibGltaXQiOjI1LCJvZmZzZXQiOjAsInNvcnQiOiIiLCJzb3J0VHlwZSI6IiIsImNsZWFyUGFyYW1zIjpmYWxzZSwia2V5d29yZCI6IiIsInBhZ2VUaXRsZSI6Imw6UHVlcnRvIFJpY28sIFUuUy5BLiIsInByYWN0aWNlQXJlYXMiOlsiQ29tbWVyY2lhbCBMZWFzaW5nIl19\n"
     ]
    },
    {
     "name": "stderr",
     "output_type": "stream",
     "text": [
      " 76%|███████▌  | 69/91 [30:15<08:08, 22.21s/it]"
     ]
    },
    {
     "name": "stdout",
     "output_type": "stream",
     "text": [
      "paginas en esta url: 20\n",
      "accediendo a: https://www.martindale.com/search/attorneys-law-firms-articles/?term=Puerto+Rico%2C+USA&params=eyJ0eXBlIjoicGVvcGxlIiwiY29tcGFyZSI6IiIsInRlcm0iOiJQdWVydG8gUmljbywgVVNBIiwiZ2VvTG9jYXRpb25GYWNldCI6WyJQdWVydG8gUmljbywgVS5TLkEuIl0sImdlb0xvY2F0aW9uRmFjZXRSZWNlbnRzIjpbIlB1ZXJ0byBSaWNvLCBVLlMuQS4iXSwicGFnZSI6MSwibGltaXQiOjI1LCJvZmZzZXQiOjAsInNvcnQiOiIiLCJzb3J0VHlwZSI6IiIsImNsZWFyUGFyYW1zIjpmYWxzZSwia2V5d29yZCI6IiIsInBhZ2VUaXRsZSI6Imw6UHVlcnRvIFJpY28sIFUuUy5BLiIsInByYWN0aWNlQXJlYXMiOlsiQ29tbWVyY2lhbCBMYXciXX0%3D\n",
      "accediendo a: https://www.martindale.com/search/attorneys-law-firms-articles/?term=Puerto+Rico%2C+USA&params=eyJ0eXBlIjoicGVvcGxlIiwiY29tcGFyZSI6IiIsInRlcm0iOiJQdWVydG8gUmljbywgVVNBIiwiZ2VvTG9jYXRpb25GYWNldCI6WyJQdWVydG8gUmljbywgVS5TLkEuIl0sImdlb0xvY2F0aW9uRmFjZXRSZWNlbnRzIjpbIlB1ZXJ0byBSaWNvLCBVLlMuQS4iXSwicGFnZSI6MSwibGltaXQiOjI1LCJvZmZzZXQiOjAsInNvcnQiOiIiLCJzb3J0VHlwZSI6IiIsImNsZWFyUGFyYW1zIjpmYWxzZSwia2V5d29yZCI6IiIsInBhZ2VUaXRsZSI6Imw6UHVlcnRvIFJpY28sIFUuUy5BLiIsInByYWN0aWNlQXJlYXMiOlsiQ29tbWVyY2lhbCBMYXciXX0%3D&page=2\n",
      "accediendo a: https://www.martindale.com/search/attorneys-law-firms-articles/?term=Puerto+Rico%2C+USA&params=eyJ0eXBlIjoicGVvcGxlIiwiY29tcGFyZSI6IiIsInRlcm0iOiJQdWVydG8gUmljbywgVVNBIiwiZ2VvTG9jYXRpb25GYWNldCI6WyJQdWVydG8gUmljbywgVS5TLkEuIl0sImdlb0xvY2F0aW9uRmFjZXRSZWNlbnRzIjpbIlB1ZXJ0byBSaWNvLCBVLlMuQS4iXSwicGFnZSI6MSwibGltaXQiOjI1LCJvZmZzZXQiOjAsInNvcnQiOiIiLCJzb3J0VHlwZSI6IiIsImNsZWFyUGFyYW1zIjpmYWxzZSwia2V5d29yZCI6IiIsInBhZ2VUaXRsZSI6Imw6UHVlcnRvIFJpY28sIFUuUy5BLiIsInByYWN0aWNlQXJlYXMiOlsiQ29tbWVyY2lhbCBMYXciXX0%3D&page=3\n",
      "accediendo a: https://www.martindale.com/search/attorneys-law-firms-articles/?term=Puerto+Rico%2C+USA&params=eyJ0eXBlIjoicGVvcGxlIiwiY29tcGFyZSI6IiIsInRlcm0iOiJQdWVydG8gUmljbywgVVNBIiwiZ2VvTG9jYXRpb25GYWNldCI6WyJQdWVydG8gUmljbywgVS5TLkEuIl0sImdlb0xvY2F0aW9uRmFjZXRSZWNlbnRzIjpbIlB1ZXJ0byBSaWNvLCBVLlMuQS4iXSwicGFnZSI6MSwibGltaXQiOjI1LCJvZmZzZXQiOjAsInNvcnQiOiIiLCJzb3J0VHlwZSI6IiIsImNsZWFyUGFyYW1zIjpmYWxzZSwia2V5d29yZCI6IiIsInBhZ2VUaXRsZSI6Imw6UHVlcnRvIFJpY28sIFUuUy5BLiIsInByYWN0aWNlQXJlYXMiOlsiQ29tbWVyY2lhbCBMYXciXX0%3D&page=4\n",
      "accediendo a: https://www.martindale.com/search/attorneys-law-firms-articles/?term=Puerto+Rico%2C+USA&params=eyJ0eXBlIjoicGVvcGxlIiwiY29tcGFyZSI6IiIsInRlcm0iOiJQdWVydG8gUmljbywgVVNBIiwiZ2VvTG9jYXRpb25GYWNldCI6WyJQdWVydG8gUmljbywgVS5TLkEuIl0sImdlb0xvY2F0aW9uRmFjZXRSZWNlbnRzIjpbIlB1ZXJ0byBSaWNvLCBVLlMuQS4iXSwicGFnZSI6MSwibGltaXQiOjI1LCJvZmZzZXQiOjAsInNvcnQiOiIiLCJzb3J0VHlwZSI6IiIsImNsZWFyUGFyYW1zIjpmYWxzZSwia2V5d29yZCI6IiIsInBhZ2VUaXRsZSI6Imw6UHVlcnRvIFJpY28sIFUuUy5BLiIsInByYWN0aWNlQXJlYXMiOlsiQ29tbWVyY2lhbCBMYXciXX0%3D&page=5\n",
      "accediendo a: https://www.martindale.com/search/attorneys-law-firms-articles/?term=Puerto+Rico%2C+USA&params=eyJ0eXBlIjoicGVvcGxlIiwiY29tcGFyZSI6IiIsInRlcm0iOiJQdWVydG8gUmljbywgVVNBIiwiZ2VvTG9jYXRpb25GYWNldCI6WyJQdWVydG8gUmljbywgVS5TLkEuIl0sImdlb0xvY2F0aW9uRmFjZXRSZWNlbnRzIjpbIlB1ZXJ0byBSaWNvLCBVLlMuQS4iXSwicGFnZSI6MSwibGltaXQiOjI1LCJvZmZzZXQiOjAsInNvcnQiOiIiLCJzb3J0VHlwZSI6IiIsImNsZWFyUGFyYW1zIjpmYWxzZSwia2V5d29yZCI6IiIsInBhZ2VUaXRsZSI6Imw6UHVlcnRvIFJpY28sIFUuUy5BLiIsInByYWN0aWNlQXJlYXMiOlsiQ29tbWVyY2lhbCBMYXciXX0%3D&page=6\n",
      "accediendo a: https://www.martindale.com/search/attorneys-law-firms-articles/?term=Puerto+Rico%2C+USA&params=eyJ0eXBlIjoicGVvcGxlIiwiY29tcGFyZSI6IiIsInRlcm0iOiJQdWVydG8gUmljbywgVVNBIiwiZ2VvTG9jYXRpb25GYWNldCI6WyJQdWVydG8gUmljbywgVS5TLkEuIl0sImdlb0xvY2F0aW9uRmFjZXRSZWNlbnRzIjpbIlB1ZXJ0byBSaWNvLCBVLlMuQS4iXSwicGFnZSI6MSwibGltaXQiOjI1LCJvZmZzZXQiOjAsInNvcnQiOiIiLCJzb3J0VHlwZSI6IiIsImNsZWFyUGFyYW1zIjpmYWxzZSwia2V5d29yZCI6IiIsInBhZ2VUaXRsZSI6Imw6UHVlcnRvIFJpY28sIFUuUy5BLiIsInByYWN0aWNlQXJlYXMiOlsiQ29tbWVyY2lhbCBMYXciXX0%3D&page=7\n",
      "accediendo a: https://www.martindale.com/search/attorneys-law-firms-articles/?term=Puerto+Rico%2C+USA&params=eyJ0eXBlIjoicGVvcGxlIiwiY29tcGFyZSI6IiIsInRlcm0iOiJQdWVydG8gUmljbywgVVNBIiwiZ2VvTG9jYXRpb25GYWNldCI6WyJQdWVydG8gUmljbywgVS5TLkEuIl0sImdlb0xvY2F0aW9uRmFjZXRSZWNlbnRzIjpbIlB1ZXJ0byBSaWNvLCBVLlMuQS4iXSwicGFnZSI6MSwibGltaXQiOjI1LCJvZmZzZXQiOjAsInNvcnQiOiIiLCJzb3J0VHlwZSI6IiIsImNsZWFyUGFyYW1zIjpmYWxzZSwia2V5d29yZCI6IiIsInBhZ2VUaXRsZSI6Imw6UHVlcnRvIFJpY28sIFUuUy5BLiIsInByYWN0aWNlQXJlYXMiOlsiQ29tbWVyY2lhbCBMYXciXX0%3D&page=8\n",
      "accediendo a: https://www.martindale.com/search/attorneys-law-firms-articles/?term=Puerto+Rico%2C+USA&params=eyJ0eXBlIjoicGVvcGxlIiwiY29tcGFyZSI6IiIsInRlcm0iOiJQdWVydG8gUmljbywgVVNBIiwiZ2VvTG9jYXRpb25GYWNldCI6WyJQdWVydG8gUmljbywgVS5TLkEuIl0sImdlb0xvY2F0aW9uRmFjZXRSZWNlbnRzIjpbIlB1ZXJ0byBSaWNvLCBVLlMuQS4iXSwicGFnZSI6MSwibGltaXQiOjI1LCJvZmZzZXQiOjAsInNvcnQiOiIiLCJzb3J0VHlwZSI6IiIsImNsZWFyUGFyYW1zIjpmYWxzZSwia2V5d29yZCI6IiIsInBhZ2VUaXRsZSI6Imw6UHVlcnRvIFJpY28sIFUuUy5BLiIsInByYWN0aWNlQXJlYXMiOlsiQ29tbWVyY2lhbCBMYXciXX0%3D&page=9\n",
      "accediendo a: https://www.martindale.com/search/attorneys-law-firms-articles/?term=Puerto+Rico%2C+USA&params=eyJ0eXBlIjoicGVvcGxlIiwiY29tcGFyZSI6IiIsInRlcm0iOiJQdWVydG8gUmljbywgVVNBIiwiZ2VvTG9jYXRpb25GYWNldCI6WyJQdWVydG8gUmljbywgVS5TLkEuIl0sImdlb0xvY2F0aW9uRmFjZXRSZWNlbnRzIjpbIlB1ZXJ0byBSaWNvLCBVLlMuQS4iXSwicGFnZSI6MSwibGltaXQiOjI1LCJvZmZzZXQiOjAsInNvcnQiOiIiLCJzb3J0VHlwZSI6IiIsImNsZWFyUGFyYW1zIjpmYWxzZSwia2V5d29yZCI6IiIsInBhZ2VUaXRsZSI6Imw6UHVlcnRvIFJpY28sIFUuUy5BLiIsInByYWN0aWNlQXJlYXMiOlsiQ29tbWVyY2lhbCBMYXciXX0%3D&page=10\n",
      "accediendo a: https://www.martindale.com/search/attorneys-law-firms-articles/?term=Puerto+Rico%2C+USA&params=eyJ0eXBlIjoicGVvcGxlIiwiY29tcGFyZSI6IiIsInRlcm0iOiJQdWVydG8gUmljbywgVVNBIiwiZ2VvTG9jYXRpb25GYWNldCI6WyJQdWVydG8gUmljbywgVS5TLkEuIl0sImdlb0xvY2F0aW9uRmFjZXRSZWNlbnRzIjpbIlB1ZXJ0byBSaWNvLCBVLlMuQS4iXSwicGFnZSI6MSwibGltaXQiOjI1LCJvZmZzZXQiOjAsInNvcnQiOiIiLCJzb3J0VHlwZSI6IiIsImNsZWFyUGFyYW1zIjpmYWxzZSwia2V5d29yZCI6IiIsInBhZ2VUaXRsZSI6Imw6UHVlcnRvIFJpY28sIFUuUy5BLiIsInByYWN0aWNlQXJlYXMiOlsiQ29tbWVyY2lhbCBMYXciXX0%3D&page=11\n",
      "https://www.martindale.com/attorney/manuel-rodriguez-boissen-2706696/\n",
      "accediendo a: https://www.martindale.com/search/attorneys-law-firms-articles/?term=Puerto+Rico%2C+USA&params=eyJ0eXBlIjoicGVvcGxlIiwiY29tcGFyZSI6IiIsInRlcm0iOiJQdWVydG8gUmljbywgVVNBIiwiZ2VvTG9jYXRpb25GYWNldCI6WyJQdWVydG8gUmljbywgVS5TLkEuIl0sImdlb0xvY2F0aW9uRmFjZXRSZWNlbnRzIjpbIlB1ZXJ0byBSaWNvLCBVLlMuQS4iXSwicGFnZSI6MSwibGltaXQiOjI1LCJvZmZzZXQiOjAsInNvcnQiOiIiLCJzb3J0VHlwZSI6IiIsImNsZWFyUGFyYW1zIjpmYWxzZSwia2V5d29yZCI6IiIsInBhZ2VUaXRsZSI6Imw6UHVlcnRvIFJpY28sIFUuUy5BLiIsInByYWN0aWNlQXJlYXMiOlsiQ29tbWVyY2lhbCBMYXciXX0%3D&page=12\n",
      "accediendo a: https://www.martindale.com/search/attorneys-law-firms-articles/?term=Puerto+Rico%2C+USA&params=eyJ0eXBlIjoicGVvcGxlIiwiY29tcGFyZSI6IiIsInRlcm0iOiJQdWVydG8gUmljbywgVVNBIiwiZ2VvTG9jYXRpb25GYWNldCI6WyJQdWVydG8gUmljbywgVS5TLkEuIl0sImdlb0xvY2F0aW9uRmFjZXRSZWNlbnRzIjpbIlB1ZXJ0byBSaWNvLCBVLlMuQS4iXSwicGFnZSI6MSwibGltaXQiOjI1LCJvZmZzZXQiOjAsInNvcnQiOiIiLCJzb3J0VHlwZSI6IiIsImNsZWFyUGFyYW1zIjpmYWxzZSwia2V5d29yZCI6IiIsInBhZ2VUaXRsZSI6Imw6UHVlcnRvIFJpY28sIFUuUy5BLiIsInByYWN0aWNlQXJlYXMiOlsiQ29tbWVyY2lhbCBMYXciXX0%3D&page=13\n",
      "accediendo a: https://www.martindale.com/search/attorneys-law-firms-articles/?term=Puerto+Rico%2C+USA&params=eyJ0eXBlIjoicGVvcGxlIiwiY29tcGFyZSI6IiIsInRlcm0iOiJQdWVydG8gUmljbywgVVNBIiwiZ2VvTG9jYXRpb25GYWNldCI6WyJQdWVydG8gUmljbywgVS5TLkEuIl0sImdlb0xvY2F0aW9uRmFjZXRSZWNlbnRzIjpbIlB1ZXJ0byBSaWNvLCBVLlMuQS4iXSwicGFnZSI6MSwibGltaXQiOjI1LCJvZmZzZXQiOjAsInNvcnQiOiIiLCJzb3J0VHlwZSI6IiIsImNsZWFyUGFyYW1zIjpmYWxzZSwia2V5d29yZCI6IiIsInBhZ2VUaXRsZSI6Imw6UHVlcnRvIFJpY28sIFUuUy5BLiIsInByYWN0aWNlQXJlYXMiOlsiQ29tbWVyY2lhbCBMYXciXX0%3D&page=14\n",
      "accediendo a: https://www.martindale.com/search/attorneys-law-firms-articles/?term=Puerto+Rico%2C+USA&params=eyJ0eXBlIjoicGVvcGxlIiwiY29tcGFyZSI6IiIsInRlcm0iOiJQdWVydG8gUmljbywgVVNBIiwiZ2VvTG9jYXRpb25GYWNldCI6WyJQdWVydG8gUmljbywgVS5TLkEuIl0sImdlb0xvY2F0aW9uRmFjZXRSZWNlbnRzIjpbIlB1ZXJ0byBSaWNvLCBVLlMuQS4iXSwicGFnZSI6MSwibGltaXQiOjI1LCJvZmZzZXQiOjAsInNvcnQiOiIiLCJzb3J0VHlwZSI6IiIsImNsZWFyUGFyYW1zIjpmYWxzZSwia2V5d29yZCI6IiIsInBhZ2VUaXRsZSI6Imw6UHVlcnRvIFJpY28sIFUuUy5BLiIsInByYWN0aWNlQXJlYXMiOlsiQ29tbWVyY2lhbCBMYXciXX0%3D&page=15\n",
      "accediendo a: https://www.martindale.com/search/attorneys-law-firms-articles/?term=Puerto+Rico%2C+USA&params=eyJ0eXBlIjoicGVvcGxlIiwiY29tcGFyZSI6IiIsInRlcm0iOiJQdWVydG8gUmljbywgVVNBIiwiZ2VvTG9jYXRpb25GYWNldCI6WyJQdWVydG8gUmljbywgVS5TLkEuIl0sImdlb0xvY2F0aW9uRmFjZXRSZWNlbnRzIjpbIlB1ZXJ0byBSaWNvLCBVLlMuQS4iXSwicGFnZSI6MSwibGltaXQiOjI1LCJvZmZzZXQiOjAsInNvcnQiOiIiLCJzb3J0VHlwZSI6IiIsImNsZWFyUGFyYW1zIjpmYWxzZSwia2V5d29yZCI6IiIsInBhZ2VUaXRsZSI6Imw6UHVlcnRvIFJpY28sIFUuUy5BLiIsInByYWN0aWNlQXJlYXMiOlsiQ29tbWVyY2lhbCBMYXciXX0%3D&page=16\n",
      "accediendo a: https://www.martindale.com/search/attorneys-law-firms-articles/?term=Puerto+Rico%2C+USA&params=eyJ0eXBlIjoicGVvcGxlIiwiY29tcGFyZSI6IiIsInRlcm0iOiJQdWVydG8gUmljbywgVVNBIiwiZ2VvTG9jYXRpb25GYWNldCI6WyJQdWVydG8gUmljbywgVS5TLkEuIl0sImdlb0xvY2F0aW9uRmFjZXRSZWNlbnRzIjpbIlB1ZXJ0byBSaWNvLCBVLlMuQS4iXSwicGFnZSI6MSwibGltaXQiOjI1LCJvZmZzZXQiOjAsInNvcnQiOiIiLCJzb3J0VHlwZSI6IiIsImNsZWFyUGFyYW1zIjpmYWxzZSwia2V5d29yZCI6IiIsInBhZ2VUaXRsZSI6Imw6UHVlcnRvIFJpY28sIFUuUy5BLiIsInByYWN0aWNlQXJlYXMiOlsiQ29tbWVyY2lhbCBMYXciXX0%3D&page=17\n",
      "accediendo a: https://www.martindale.com/search/attorneys-law-firms-articles/?term=Puerto+Rico%2C+USA&params=eyJ0eXBlIjoicGVvcGxlIiwiY29tcGFyZSI6IiIsInRlcm0iOiJQdWVydG8gUmljbywgVVNBIiwiZ2VvTG9jYXRpb25GYWNldCI6WyJQdWVydG8gUmljbywgVS5TLkEuIl0sImdlb0xvY2F0aW9uRmFjZXRSZWNlbnRzIjpbIlB1ZXJ0byBSaWNvLCBVLlMuQS4iXSwicGFnZSI6MSwibGltaXQiOjI1LCJvZmZzZXQiOjAsInNvcnQiOiIiLCJzb3J0VHlwZSI6IiIsImNsZWFyUGFyYW1zIjpmYWxzZSwia2V5d29yZCI6IiIsInBhZ2VUaXRsZSI6Imw6UHVlcnRvIFJpY28sIFUuUy5BLiIsInByYWN0aWNlQXJlYXMiOlsiQ29tbWVyY2lhbCBMYXciXX0%3D&page=18\n",
      "accediendo a: https://www.martindale.com/search/attorneys-law-firms-articles/?term=Puerto+Rico%2C+USA&params=eyJ0eXBlIjoicGVvcGxlIiwiY29tcGFyZSI6IiIsInRlcm0iOiJQdWVydG8gUmljbywgVVNBIiwiZ2VvTG9jYXRpb25GYWNldCI6WyJQdWVydG8gUmljbywgVS5TLkEuIl0sImdlb0xvY2F0aW9uRmFjZXRSZWNlbnRzIjpbIlB1ZXJ0byBSaWNvLCBVLlMuQS4iXSwicGFnZSI6MSwibGltaXQiOjI1LCJvZmZzZXQiOjAsInNvcnQiOiIiLCJzb3J0VHlwZSI6IiIsImNsZWFyUGFyYW1zIjpmYWxzZSwia2V5d29yZCI6IiIsInBhZ2VUaXRsZSI6Imw6UHVlcnRvIFJpY28sIFUuUy5BLiIsInByYWN0aWNlQXJlYXMiOlsiQ29tbWVyY2lhbCBMYXciXX0%3D&page=19\n",
      "accediendo a: https://www.martindale.com/search/attorneys-law-firms-articles/?term=Puerto+Rico%2C+USA&params=eyJ0eXBlIjoicGVvcGxlIiwiY29tcGFyZSI6IiIsInRlcm0iOiJQdWVydG8gUmljbywgVVNBIiwiZ2VvTG9jYXRpb25GYWNldCI6WyJQdWVydG8gUmljbywgVS5TLkEuIl0sImdlb0xvY2F0aW9uRmFjZXRSZWNlbnRzIjpbIlB1ZXJ0byBSaWNvLCBVLlMuQS4iXSwicGFnZSI6MSwibGltaXQiOjI1LCJvZmZzZXQiOjAsInNvcnQiOiIiLCJzb3J0VHlwZSI6IiIsImNsZWFyUGFyYW1zIjpmYWxzZSwia2V5d29yZCI6IiIsInBhZ2VUaXRsZSI6Imw6UHVlcnRvIFJpY28sIFUuUy5BLiIsInByYWN0aWNlQXJlYXMiOlsiQ29tbWVyY2lhbCBMYXciXX0%3D&page=20\n"
     ]
    },
    {
     "name": "stderr",
     "output_type": "stream",
     "text": [
      " 77%|███████▋  | 70/91 [30:56<09:45, 27.87s/it]"
     ]
    },
    {
     "name": "stdout",
     "output_type": "stream",
     "text": [
      "paginas en esta url: 5\n",
      "accediendo a: https://www.martindale.com/search/attorneys-law-firms-articles/?term=Puerto+Rico%2C+USA&params=eyJ0eXBlIjoicGVvcGxlIiwiY29tcGFyZSI6IiIsInRlcm0iOiJQdWVydG8gUmljbywgVVNBIiwiZ2VvTG9jYXRpb25GYWNldCI6WyJQdWVydG8gUmljbywgVS5TLkEuIl0sImdlb0xvY2F0aW9uRmFjZXRSZWNlbnRzIjpbIlB1ZXJ0byBSaWNvLCBVLlMuQS4iXSwicGFnZSI6MSwibGltaXQiOjI1LCJvZmZzZXQiOjAsInNvcnQiOiIiLCJzb3J0VHlwZSI6IiIsImNsZWFyUGFyYW1zIjpmYWxzZSwia2V5d29yZCI6IiIsInBhZ2VUaXRsZSI6Imw6UHVlcnRvIFJpY28sIFUuUy5BLiIsInByYWN0aWNlQXJlYXMiOlsiRmFtaWx5IExhdyJdfQ%3D%3D\n",
      "accediendo a: https://www.martindale.com/search/attorneys-law-firms-articles/?term=Puerto+Rico%2C+USA&params=eyJ0eXBlIjoicGVvcGxlIiwiY29tcGFyZSI6IiIsInRlcm0iOiJQdWVydG8gUmljbywgVVNBIiwiZ2VvTG9jYXRpb25GYWNldCI6WyJQdWVydG8gUmljbywgVS5TLkEuIl0sImdlb0xvY2F0aW9uRmFjZXRSZWNlbnRzIjpbIlB1ZXJ0byBSaWNvLCBVLlMuQS4iXSwicGFnZSI6MSwibGltaXQiOjI1LCJvZmZzZXQiOjAsInNvcnQiOiIiLCJzb3J0VHlwZSI6IiIsImNsZWFyUGFyYW1zIjpmYWxzZSwia2V5d29yZCI6IiIsInBhZ2VUaXRsZSI6Imw6UHVlcnRvIFJpY28sIFUuUy5BLiIsInByYWN0aWNlQXJlYXMiOlsiRmFtaWx5IExhdyJdfQ%3D%3D&page=2\n",
      "accediendo a: https://www.martindale.com/search/attorneys-law-firms-articles/?term=Puerto+Rico%2C+USA&params=eyJ0eXBlIjoicGVvcGxlIiwiY29tcGFyZSI6IiIsInRlcm0iOiJQdWVydG8gUmljbywgVVNBIiwiZ2VvTG9jYXRpb25GYWNldCI6WyJQdWVydG8gUmljbywgVS5TLkEuIl0sImdlb0xvY2F0aW9uRmFjZXRSZWNlbnRzIjpbIlB1ZXJ0byBSaWNvLCBVLlMuQS4iXSwicGFnZSI6MSwibGltaXQiOjI1LCJvZmZzZXQiOjAsInNvcnQiOiIiLCJzb3J0VHlwZSI6IiIsImNsZWFyUGFyYW1zIjpmYWxzZSwia2V5d29yZCI6IiIsInBhZ2VUaXRsZSI6Imw6UHVlcnRvIFJpY28sIFUuUy5BLiIsInByYWN0aWNlQXJlYXMiOlsiRmFtaWx5IExhdyJdfQ%3D%3D&page=3\n",
      "accediendo a: https://www.martindale.com/search/attorneys-law-firms-articles/?term=Puerto+Rico%2C+USA&params=eyJ0eXBlIjoicGVvcGxlIiwiY29tcGFyZSI6IiIsInRlcm0iOiJQdWVydG8gUmljbywgVVNBIiwiZ2VvTG9jYXRpb25GYWNldCI6WyJQdWVydG8gUmljbywgVS5TLkEuIl0sImdlb0xvY2F0aW9uRmFjZXRSZWNlbnRzIjpbIlB1ZXJ0byBSaWNvLCBVLlMuQS4iXSwicGFnZSI6MSwibGltaXQiOjI1LCJvZmZzZXQiOjAsInNvcnQiOiIiLCJzb3J0VHlwZSI6IiIsImNsZWFyUGFyYW1zIjpmYWxzZSwia2V5d29yZCI6IiIsInBhZ2VUaXRsZSI6Imw6UHVlcnRvIFJpY28sIFUuUy5BLiIsInByYWN0aWNlQXJlYXMiOlsiRmFtaWx5IExhdyJdfQ%3D%3D&page=4\n",
      "accediendo a: https://www.martindale.com/search/attorneys-law-firms-articles/?term=Puerto+Rico%2C+USA&params=eyJ0eXBlIjoicGVvcGxlIiwiY29tcGFyZSI6IiIsInRlcm0iOiJQdWVydG8gUmljbywgVVNBIiwiZ2VvTG9jYXRpb25GYWNldCI6WyJQdWVydG8gUmljbywgVS5TLkEuIl0sImdlb0xvY2F0aW9uRmFjZXRSZWNlbnRzIjpbIlB1ZXJ0byBSaWNvLCBVLlMuQS4iXSwicGFnZSI6MSwibGltaXQiOjI1LCJvZmZzZXQiOjAsInNvcnQiOiIiLCJzb3J0VHlwZSI6IiIsImNsZWFyUGFyYW1zIjpmYWxzZSwia2V5d29yZCI6IiIsInBhZ2VUaXRsZSI6Imw6UHVlcnRvIFJpY28sIFUuUy5BLiIsInByYWN0aWNlQXJlYXMiOlsiRmFtaWx5IExhdyJdfQ%3D%3D&page=5\n"
     ]
    },
    {
     "name": "stderr",
     "output_type": "stream",
     "text": [
      " 78%|███████▊  | 71/91 [31:15<08:19, 24.99s/it]"
     ]
    },
    {
     "name": "stdout",
     "output_type": "stream",
     "text": [
      "paginas en esta url: 9\n",
      "accediendo a: https://www.martindale.com/search/attorneys-law-firms-articles/?term=Puerto+Rico%2C+USA&params=eyJ0eXBlIjoicGVvcGxlIiwiY29tcGFyZSI6IiIsInRlcm0iOiJQdWVydG8gUmljbywgVVNBIiwiZ2VvTG9jYXRpb25GYWNldCI6WyJQdWVydG8gUmljbywgVS5TLkEuIl0sImdlb0xvY2F0aW9uRmFjZXRSZWNlbnRzIjpbIlB1ZXJ0byBSaWNvLCBVLlMuQS4iXSwicGFnZSI6MSwibGltaXQiOjI1LCJvZmZzZXQiOjAsInNvcnQiOiIiLCJzb3J0VHlwZSI6IiIsImNsZWFyUGFyYW1zIjpmYWxzZSwia2V5d29yZCI6IiIsInBhZ2VUaXRsZSI6Imw6UHVlcnRvIFJpY28sIFUuUy5BLiIsInByYWN0aWNlQXJlYXMiOlsiSW5zdXJhbmNlIl19\n",
      "https://www.martindale.com/attorney/yaznery-ortiz-navedo-3122381/\n",
      "accediendo a: https://www.martindale.com/search/attorneys-law-firms-articles/?term=Puerto+Rico%2C+USA&params=eyJ0eXBlIjoicGVvcGxlIiwiY29tcGFyZSI6IiIsInRlcm0iOiJQdWVydG8gUmljbywgVVNBIiwiZ2VvTG9jYXRpb25GYWNldCI6WyJQdWVydG8gUmljbywgVS5TLkEuIl0sImdlb0xvY2F0aW9uRmFjZXRSZWNlbnRzIjpbIlB1ZXJ0byBSaWNvLCBVLlMuQS4iXSwicGFnZSI6MSwibGltaXQiOjI1LCJvZmZzZXQiOjAsInNvcnQiOiIiLCJzb3J0VHlwZSI6IiIsImNsZWFyUGFyYW1zIjpmYWxzZSwia2V5d29yZCI6IiIsInBhZ2VUaXRsZSI6Imw6UHVlcnRvIFJpY28sIFUuUy5BLiIsInByYWN0aWNlQXJlYXMiOlsiSW5zdXJhbmNlIl19&page=2\n",
      "https://www.martindale.com/attorney/luis-javier-clas-300406404/\n",
      "accediendo a: https://www.martindale.com/search/attorneys-law-firms-articles/?term=Puerto+Rico%2C+USA&params=eyJ0eXBlIjoicGVvcGxlIiwiY29tcGFyZSI6IiIsInRlcm0iOiJQdWVydG8gUmljbywgVVNBIiwiZ2VvTG9jYXRpb25GYWNldCI6WyJQdWVydG8gUmljbywgVS5TLkEuIl0sImdlb0xvY2F0aW9uRmFjZXRSZWNlbnRzIjpbIlB1ZXJ0byBSaWNvLCBVLlMuQS4iXSwicGFnZSI6MSwibGltaXQiOjI1LCJvZmZzZXQiOjAsInNvcnQiOiIiLCJzb3J0VHlwZSI6IiIsImNsZWFyUGFyYW1zIjpmYWxzZSwia2V5d29yZCI6IiIsInBhZ2VUaXRsZSI6Imw6UHVlcnRvIFJpY28sIFUuUy5BLiIsInByYWN0aWNlQXJlYXMiOlsiSW5zdXJhbmNlIl19&page=3\n",
      "https://www.martindale.com/attorney/miguel-a-raldiris-aguayo-1573913/\n",
      "accediendo a: https://www.martindale.com/search/attorneys-law-firms-articles/?term=Puerto+Rico%2C+USA&params=eyJ0eXBlIjoicGVvcGxlIiwiY29tcGFyZSI6IiIsInRlcm0iOiJQdWVydG8gUmljbywgVVNBIiwiZ2VvTG9jYXRpb25GYWNldCI6WyJQdWVydG8gUmljbywgVS5TLkEuIl0sImdlb0xvY2F0aW9uRmFjZXRSZWNlbnRzIjpbIlB1ZXJ0byBSaWNvLCBVLlMuQS4iXSwicGFnZSI6MSwibGltaXQiOjI1LCJvZmZzZXQiOjAsInNvcnQiOiIiLCJzb3J0VHlwZSI6IiIsImNsZWFyUGFyYW1zIjpmYWxzZSwia2V5d29yZCI6IiIsInBhZ2VUaXRsZSI6Imw6UHVlcnRvIFJpY28sIFUuUy5BLiIsInByYWN0aWNlQXJlYXMiOlsiSW5zdXJhbmNlIl19&page=4\n",
      "https://www.martindale.com/attorney/luis-ortiz-codby-2434242/\n",
      "https://www.martindale.com/attorney/ralph-j-rexach-1574099/\n",
      "https://www.martindale.com/attorney/gilberto-felix-benitez-colon-1573912/\n",
      "https://www.martindale.com/attorney/jose-r-toledo-buscaglia-1571872/\n",
      "accediendo a: https://www.martindale.com/search/attorneys-law-firms-articles/?term=Puerto+Rico%2C+USA&params=eyJ0eXBlIjoicGVvcGxlIiwiY29tcGFyZSI6IiIsInRlcm0iOiJQdWVydG8gUmljbywgVVNBIiwiZ2VvTG9jYXRpb25GYWNldCI6WyJQdWVydG8gUmljbywgVS5TLkEuIl0sImdlb0xvY2F0aW9uRmFjZXRSZWNlbnRzIjpbIlB1ZXJ0byBSaWNvLCBVLlMuQS4iXSwicGFnZSI6MSwibGltaXQiOjI1LCJvZmZzZXQiOjAsInNvcnQiOiIiLCJzb3J0VHlwZSI6IiIsImNsZWFyUGFyYW1zIjpmYWxzZSwia2V5d29yZCI6IiIsInBhZ2VUaXRsZSI6Imw6UHVlcnRvIFJpY28sIFUuUy5BLiIsInByYWN0aWNlQXJlYXMiOlsiSW5zdXJhbmNlIl19&page=5\n",
      "https://www.martindale.com/attorney/jose-l-gandara-sanchez-1571867/\n",
      "https://www.martindale.com/attorney/maria-de-lourdes-fernandez-delgado-1572451/\n",
      "accediendo a: https://www.martindale.com/search/attorneys-law-firms-articles/?term=Puerto+Rico%2C+USA&params=eyJ0eXBlIjoicGVvcGxlIiwiY29tcGFyZSI6IiIsInRlcm0iOiJQdWVydG8gUmljbywgVVNBIiwiZ2VvTG9jYXRpb25GYWNldCI6WyJQdWVydG8gUmljbywgVS5TLkEuIl0sImdlb0xvY2F0aW9uRmFjZXRSZWNlbnRzIjpbIlB1ZXJ0byBSaWNvLCBVLlMuQS4iXSwicGFnZSI6MSwibGltaXQiOjI1LCJvZmZzZXQiOjAsInNvcnQiOiIiLCJzb3J0VHlwZSI6IiIsImNsZWFyUGFyYW1zIjpmYWxzZSwia2V5d29yZCI6IiIsInBhZ2VUaXRsZSI6Imw6UHVlcnRvIFJpY28sIFUuUy5BLiIsInByYWN0aWNlQXJlYXMiOlsiSW5zdXJhbmNlIl19&page=6\n",
      "accediendo a: https://www.martindale.com/search/attorneys-law-firms-articles/?term=Puerto+Rico%2C+USA&params=eyJ0eXBlIjoicGVvcGxlIiwiY29tcGFyZSI6IiIsInRlcm0iOiJQdWVydG8gUmljbywgVVNBIiwiZ2VvTG9jYXRpb25GYWNldCI6WyJQdWVydG8gUmljbywgVS5TLkEuIl0sImdlb0xvY2F0aW9uRmFjZXRSZWNlbnRzIjpbIlB1ZXJ0byBSaWNvLCBVLlMuQS4iXSwicGFnZSI6MSwibGltaXQiOjI1LCJvZmZzZXQiOjAsInNvcnQiOiIiLCJzb3J0VHlwZSI6IiIsImNsZWFyUGFyYW1zIjpmYWxzZSwia2V5d29yZCI6IiIsInBhZ2VUaXRsZSI6Imw6UHVlcnRvIFJpY28sIFUuUy5BLiIsInByYWN0aWNlQXJlYXMiOlsiSW5zdXJhbmNlIl19&page=7\n",
      "https://www.martindale.com/attorney/ramon-e-bauza-higuera-1571864/\n",
      "accediendo a: https://www.martindale.com/search/attorneys-law-firms-articles/?term=Puerto+Rico%2C+USA&params=eyJ0eXBlIjoicGVvcGxlIiwiY29tcGFyZSI6IiIsInRlcm0iOiJQdWVydG8gUmljbywgVVNBIiwiZ2VvTG9jYXRpb25GYWNldCI6WyJQdWVydG8gUmljbywgVS5TLkEuIl0sImdlb0xvY2F0aW9uRmFjZXRSZWNlbnRzIjpbIlB1ZXJ0byBSaWNvLCBVLlMuQS4iXSwicGFnZSI6MSwibGltaXQiOjI1LCJvZmZzZXQiOjAsInNvcnQiOiIiLCJzb3J0VHlwZSI6IiIsImNsZWFyUGFyYW1zIjpmYWxzZSwia2V5d29yZCI6IiIsInBhZ2VUaXRsZSI6Imw6UHVlcnRvIFJpY28sIFUuUy5BLiIsInByYWN0aWNlQXJlYXMiOlsiSW5zdXJhbmNlIl19&page=8\n",
      "https://www.martindale.com/attorney/harry-viera-villeneuve-1574126/\n",
      "accediendo a: https://www.martindale.com/search/attorneys-law-firms-articles/?term=Puerto+Rico%2C+USA&params=eyJ0eXBlIjoicGVvcGxlIiwiY29tcGFyZSI6IiIsInRlcm0iOiJQdWVydG8gUmljbywgVVNBIiwiZ2VvTG9jYXRpb25GYWNldCI6WyJQdWVydG8gUmljbywgVS5TLkEuIl0sImdlb0xvY2F0aW9uRmFjZXRSZWNlbnRzIjpbIlB1ZXJ0byBSaWNvLCBVLlMuQS4iXSwicGFnZSI6MSwibGltaXQiOjI1LCJvZmZzZXQiOjAsInNvcnQiOiIiLCJzb3J0VHlwZSI6IiIsImNsZWFyUGFyYW1zIjpmYWxzZSwia2V5d29yZCI6IiIsInBhZ2VUaXRsZSI6Imw6UHVlcnRvIFJpY28sIFUuUy5BLiIsInByYWN0aWNlQXJlYXMiOlsiSW5zdXJhbmNlIl19&page=9\n",
      "https://www.martindale.com/attorney/liza-m-ramirez-de-arellano-oliver-1571870/\n"
     ]
    },
    {
     "name": "stderr",
     "output_type": "stream",
     "text": [
      " 79%|███████▉  | 72/91 [31:36<07:35, 23.98s/it]"
     ]
    },
    {
     "name": "stdout",
     "output_type": "stream",
     "text": [
      "paginas en esta url: 2\n",
      "accediendo a: https://www.martindale.com/search/attorneys-law-firms-articles/?term=Puerto+Rico%2C+USA&params=eyJ0eXBlIjoicGVvcGxlIiwiY29tcGFyZSI6IiIsInRlcm0iOiJQdWVydG8gUmljbywgVVNBIiwiZ2VvTG9jYXRpb25GYWNldCI6WyJQdWVydG8gUmljbywgVS5TLkEuIl0sImdlb0xvY2F0aW9uRmFjZXRSZWNlbnRzIjpbIlB1ZXJ0byBSaWNvLCBVLlMuQS4iXSwicGFnZSI6MSwibGltaXQiOjI1LCJvZmZzZXQiOjAsInNvcnQiOiIiLCJzb3J0VHlwZSI6IiIsImNsZWFyUGFyYW1zIjpmYWxzZSwia2V5d29yZCI6IiIsInBhZ2VUaXRsZSI6Imw6UHVlcnRvIFJpY28sIFUuUy5BLiIsInByYWN0aWNlQXJlYXMiOlsiRW50ZXJ0YWlubWVudCBMYXciXX0%3D\n",
      "accediendo a: https://www.martindale.com/search/attorneys-law-firms-articles/?term=Puerto+Rico%2C+USA&params=eyJ0eXBlIjoicGVvcGxlIiwiY29tcGFyZSI6IiIsInRlcm0iOiJQdWVydG8gUmljbywgVVNBIiwiZ2VvTG9jYXRpb25GYWNldCI6WyJQdWVydG8gUmljbywgVS5TLkEuIl0sImdlb0xvY2F0aW9uRmFjZXRSZWNlbnRzIjpbIlB1ZXJ0byBSaWNvLCBVLlMuQS4iXSwicGFnZSI6MSwibGltaXQiOjI1LCJvZmZzZXQiOjAsInNvcnQiOiIiLCJzb3J0VHlwZSI6IiIsImNsZWFyUGFyYW1zIjpmYWxzZSwia2V5d29yZCI6IiIsInBhZ2VUaXRsZSI6Imw6UHVlcnRvIFJpY28sIFUuUy5BLiIsInByYWN0aWNlQXJlYXMiOlsiRW50ZXJ0YWlubWVudCBMYXciXX0%3D&page=2\n"
     ]
    },
    {
     "name": "stderr",
     "output_type": "stream",
     "text": [
      " 80%|████████  | 73/91 [31:49<06:11, 20.63s/it]"
     ]
    },
    {
     "name": "stdout",
     "output_type": "stream",
     "text": [
      "paginas en esta url: 5\n",
      "accediendo a: https://www.martindale.com/search/attorneys-law-firms-articles/?term=Puerto+Rico%2C+USA&params=eyJ0eXBlIjoicGVvcGxlIiwiY29tcGFyZSI6IiIsInRlcm0iOiJQdWVydG8gUmljbywgVVNBIiwiZ2VvTG9jYXRpb25GYWNldCI6WyJQdWVydG8gUmljbywgVS5TLkEuIl0sImdlb0xvY2F0aW9uRmFjZXRSZWNlbnRzIjpbIlB1ZXJ0byBSaWNvLCBVLlMuQS4iXSwicGFnZSI6MSwibGltaXQiOjI1LCJvZmZzZXQiOjAsInNvcnQiOiIiLCJzb3J0VHlwZSI6IiIsImNsZWFyUGFyYW1zIjpmYWxzZSwia2V5d29yZCI6IiIsInBhZ2VUaXRsZSI6Imw6UHVlcnRvIFJpY28sIFUuUy5BLiIsInByYWN0aWNlQXJlYXMiOlsiUHJvZHVjdHMgTGlhYmlsaXR5Il19\n",
      "accediendo a: https://www.martindale.com/search/attorneys-law-firms-articles/?term=Puerto+Rico%2C+USA&params=eyJ0eXBlIjoicGVvcGxlIiwiY29tcGFyZSI6IiIsInRlcm0iOiJQdWVydG8gUmljbywgVVNBIiwiZ2VvTG9jYXRpb25GYWNldCI6WyJQdWVydG8gUmljbywgVS5TLkEuIl0sImdlb0xvY2F0aW9uRmFjZXRSZWNlbnRzIjpbIlB1ZXJ0byBSaWNvLCBVLlMuQS4iXSwicGFnZSI6MSwibGltaXQiOjI1LCJvZmZzZXQiOjAsInNvcnQiOiIiLCJzb3J0VHlwZSI6IiIsImNsZWFyUGFyYW1zIjpmYWxzZSwia2V5d29yZCI6IiIsInBhZ2VUaXRsZSI6Imw6UHVlcnRvIFJpY28sIFUuUy5BLiIsInByYWN0aWNlQXJlYXMiOlsiUHJvZHVjdHMgTGlhYmlsaXR5Il19&page=2\n",
      "accediendo a: https://www.martindale.com/search/attorneys-law-firms-articles/?term=Puerto+Rico%2C+USA&params=eyJ0eXBlIjoicGVvcGxlIiwiY29tcGFyZSI6IiIsInRlcm0iOiJQdWVydG8gUmljbywgVVNBIiwiZ2VvTG9jYXRpb25GYWNldCI6WyJQdWVydG8gUmljbywgVS5TLkEuIl0sImdlb0xvY2F0aW9uRmFjZXRSZWNlbnRzIjpbIlB1ZXJ0byBSaWNvLCBVLlMuQS4iXSwicGFnZSI6MSwibGltaXQiOjI1LCJvZmZzZXQiOjAsInNvcnQiOiIiLCJzb3J0VHlwZSI6IiIsImNsZWFyUGFyYW1zIjpmYWxzZSwia2V5d29yZCI6IiIsInBhZ2VUaXRsZSI6Imw6UHVlcnRvIFJpY28sIFUuUy5BLiIsInByYWN0aWNlQXJlYXMiOlsiUHJvZHVjdHMgTGlhYmlsaXR5Il19&page=3\n",
      "accediendo a: https://www.martindale.com/search/attorneys-law-firms-articles/?term=Puerto+Rico%2C+USA&params=eyJ0eXBlIjoicGVvcGxlIiwiY29tcGFyZSI6IiIsInRlcm0iOiJQdWVydG8gUmljbywgVVNBIiwiZ2VvTG9jYXRpb25GYWNldCI6WyJQdWVydG8gUmljbywgVS5TLkEuIl0sImdlb0xvY2F0aW9uRmFjZXRSZWNlbnRzIjpbIlB1ZXJ0byBSaWNvLCBVLlMuQS4iXSwicGFnZSI6MSwibGltaXQiOjI1LCJvZmZzZXQiOjAsInNvcnQiOiIiLCJzb3J0VHlwZSI6IiIsImNsZWFyUGFyYW1zIjpmYWxzZSwia2V5d29yZCI6IiIsInBhZ2VUaXRsZSI6Imw6UHVlcnRvIFJpY28sIFUuUy5BLiIsInByYWN0aWNlQXJlYXMiOlsiUHJvZHVjdHMgTGlhYmlsaXR5Il19&page=4\n",
      "https://www.martindale.com/attorney/melissa-lopez-diaz-2849165/\n",
      "accediendo a: https://www.martindale.com/search/attorneys-law-firms-articles/?term=Puerto+Rico%2C+USA&params=eyJ0eXBlIjoicGVvcGxlIiwiY29tcGFyZSI6IiIsInRlcm0iOiJQdWVydG8gUmljbywgVVNBIiwiZ2VvTG9jYXRpb25GYWNldCI6WyJQdWVydG8gUmljbywgVS5TLkEuIl0sImdlb0xvY2F0aW9uRmFjZXRSZWNlbnRzIjpbIlB1ZXJ0byBSaWNvLCBVLlMuQS4iXSwicGFnZSI6MSwibGltaXQiOjI1LCJvZmZzZXQiOjAsInNvcnQiOiIiLCJzb3J0VHlwZSI6IiIsImNsZWFyUGFyYW1zIjpmYWxzZSwia2V5d29yZCI6IiIsInBhZ2VUaXRsZSI6Imw6UHVlcnRvIFJpY28sIFUuUy5BLiIsInByYWN0aWNlQXJlYXMiOlsiUHJvZHVjdHMgTGlhYmlsaXR5Il19&page=5\n"
     ]
    },
    {
     "name": "stderr",
     "output_type": "stream",
     "text": [
      " 81%|████████▏ | 74/91 [32:05<05:27, 19.27s/it]"
     ]
    },
    {
     "name": "stdout",
     "output_type": "stream",
     "text": [
      "paginas en esta url: 2\n",
      "accediendo a: https://www.martindale.com/search/attorneys-law-firms-articles/?term=Puerto+Rico%2C+USA&params=eyJ0eXBlIjoicGVvcGxlIiwiY29tcGFyZSI6IiIsInRlcm0iOiJQdWVydG8gUmljbywgVVNBIiwiZ2VvTG9jYXRpb25GYWNldCI6WyJQdWVydG8gUmljbywgVS5TLkEuIl0sImdlb0xvY2F0aW9uRmFjZXRSZWNlbnRzIjpbIlB1ZXJ0byBSaWNvLCBVLlMuQS4iXSwicGFnZSI6MSwibGltaXQiOjI1LCJvZmZzZXQiOjAsInNvcnQiOiIiLCJzb3J0VHlwZSI6IiIsImNsZWFyUGFyYW1zIjpmYWxzZSwia2V5d29yZCI6IiIsInBhZ2VUaXRsZSI6Imw6UHVlcnRvIFJpY28sIFUuUy5BLiIsInByYWN0aWNlQXJlYXMiOlsiQ29uc3RpdHV0aW9uYWwgTGF3Il19\n",
      "accediendo a: https://www.martindale.com/search/attorneys-law-firms-articles/?term=Puerto+Rico%2C+USA&params=eyJ0eXBlIjoicGVvcGxlIiwiY29tcGFyZSI6IiIsInRlcm0iOiJQdWVydG8gUmljbywgVVNBIiwiZ2VvTG9jYXRpb25GYWNldCI6WyJQdWVydG8gUmljbywgVS5TLkEuIl0sImdlb0xvY2F0aW9uRmFjZXRSZWNlbnRzIjpbIlB1ZXJ0byBSaWNvLCBVLlMuQS4iXSwicGFnZSI6MSwibGltaXQiOjI1LCJvZmZzZXQiOjAsInNvcnQiOiIiLCJzb3J0VHlwZSI6IiIsImNsZWFyUGFyYW1zIjpmYWxzZSwia2V5d29yZCI6IiIsInBhZ2VUaXRsZSI6Imw6UHVlcnRvIFJpY28sIFUuUy5BLiIsInByYWN0aWNlQXJlYXMiOlsiQ29uc3RpdHV0aW9uYWwgTGF3Il19&page=2\n"
     ]
    },
    {
     "name": "stderr",
     "output_type": "stream",
     "text": [
      " 82%|████████▏ | 75/91 [32:18<04:37, 17.37s/it]"
     ]
    },
    {
     "name": "stdout",
     "output_type": "stream",
     "text": [
      "paginas en esta url: 2\n",
      "accediendo a: https://www.martindale.com/search/attorneys-law-firms-articles/?term=Puerto+Rico%2C+USA&params=eyJ0eXBlIjoicGVvcGxlIiwiY29tcGFyZSI6IiIsInRlcm0iOiJQdWVydG8gUmljbywgVVNBIiwiZ2VvTG9jYXRpb25GYWNldCI6WyJQdWVydG8gUmljbywgVS5TLkEuIl0sImdlb0xvY2F0aW9uRmFjZXRSZWNlbnRzIjpbIlB1ZXJ0byBSaWNvLCBVLlMuQS4iXSwicGFnZSI6MSwibGltaXQiOjI1LCJvZmZzZXQiOjAsInNvcnQiOiIiLCJzb3J0VHlwZSI6IiIsImNsZWFyUGFyYW1zIjpmYWxzZSwia2V5d29yZCI6IiIsInBhZ2VUaXRsZSI6Imw6UHVlcnRvIFJpY28sIFUuUy5BLiIsInByYWN0aWNlQXJlYXMiOlsiQ29uc3RpdHV0aW9uYWwgTGF3Il19\n",
      "accediendo a: https://www.martindale.com/search/attorneys-law-firms-articles/?term=Puerto+Rico%2C+USA&params=eyJ0eXBlIjoicGVvcGxlIiwiY29tcGFyZSI6IiIsInRlcm0iOiJQdWVydG8gUmljbywgVVNBIiwiZ2VvTG9jYXRpb25GYWNldCI6WyJQdWVydG8gUmljbywgVS5TLkEuIl0sImdlb0xvY2F0aW9uRmFjZXRSZWNlbnRzIjpbIlB1ZXJ0byBSaWNvLCBVLlMuQS4iXSwicGFnZSI6MSwibGltaXQiOjI1LCJvZmZzZXQiOjAsInNvcnQiOiIiLCJzb3J0VHlwZSI6IiIsImNsZWFyUGFyYW1zIjpmYWxzZSwia2V5d29yZCI6IiIsInBhZ2VUaXRsZSI6Imw6UHVlcnRvIFJpY28sIFUuUy5BLiIsInByYWN0aWNlQXJlYXMiOlsiQ29uc3RpdHV0aW9uYWwgTGF3Il19&page=2\n"
     ]
    },
    {
     "name": "stderr",
     "output_type": "stream",
     "text": [
      " 84%|████████▎ | 76/91 [32:29<03:52, 15.52s/it]"
     ]
    },
    {
     "name": "stdout",
     "output_type": "stream",
     "text": [
      "paginas en esta url: 1\n",
      "accediendo a: https://www.martindale.com/search/attorneys-law-firms-articles/?term=Puerto+Rico%2C+USA&params=eyJ0eXBlIjoicGVvcGxlIiwiY29tcGFyZSI6IiIsInRlcm0iOiJQdWVydG8gUmljbywgVVNBIiwiZ2VvTG9jYXRpb25GYWNldCI6WyJQdWVydG8gUmljbywgVS5TLkEuIl0sImdlb0xvY2F0aW9uRmFjZXRSZWNlbnRzIjpbIlB1ZXJ0byBSaWNvLCBVLlMuQS4iXSwicGFnZSI6MSwibGltaXQiOjI1LCJvZmZzZXQiOjAsInNvcnQiOiIiLCJzb3J0VHlwZSI6IiIsImNsZWFyUGFyYW1zIjpmYWxzZSwia2V5d29yZCI6IiIsInBhZ2VUaXRsZSI6Imw6UHVlcnRvIFJpY28sIFUuUy5BLiIsInByYWN0aWNlQXJlYXMiOlsiTWV0aGFtcGhldGFtaW5lIENyaW1lcyJdfQ%3D%3D\n"
     ]
    },
    {
     "name": "stderr",
     "output_type": "stream",
     "text": [
      " 85%|████████▍ | 77/91 [32:53<04:09, 17.84s/it]"
     ]
    },
    {
     "name": "stdout",
     "output_type": "stream",
     "text": [
      "paginas en esta url: 1\n",
      "accediendo a: https://www.martindale.com/search/attorneys-law-firms-articles/?term=Puerto+Rico%2C+USA&params=eyJ0eXBlIjoicGVvcGxlIiwiY29tcGFyZSI6IiIsInRlcm0iOiJQdWVydG8gUmljbywgVVNBIiwiZ2VvTG9jYXRpb25GYWNldCI6WyJQdWVydG8gUmljbywgVS5TLkEuIl0sImdlb0xvY2F0aW9uRmFjZXRSZWNlbnRzIjpbIlB1ZXJ0byBSaWNvLCBVLlMuQS4iXSwicGFnZSI6MSwibGltaXQiOjI1LCJvZmZzZXQiOjAsInNvcnQiOiIiLCJzb3J0VHlwZSI6IiIsImNsZWFyUGFyYW1zIjpmYWxzZSwia2V5d29yZCI6IiIsInBhZ2VUaXRsZSI6Imw6UHVlcnRvIFJpY28sIFUuUy5BLiIsInByYWN0aWNlQXJlYXMiOlsiT2lsIGFuZCBHYXMiXX0%3D\n"
     ]
    },
    {
     "name": "stderr",
     "output_type": "stream",
     "text": [
      " 86%|████████▌ | 78/91 [33:17<04:17, 19.82s/it]"
     ]
    },
    {
     "name": "stdout",
     "output_type": "stream",
     "text": [
      "paginas en esta url: 1\n",
      "accediendo a: https://www.martindale.com/search/attorneys-law-firms-articles/?term=Puerto+Rico%2C+USA&params=eyJ0eXBlIjoicGVvcGxlIiwiY29tcGFyZSI6IiIsInRlcm0iOiJQdWVydG8gUmljbywgVVNBIiwiZ2VvTG9jYXRpb25GYWNldCI6WyJQdWVydG8gUmljbywgVS5TLkEuIl0sImdlb0xvY2F0aW9uRmFjZXRSZWNlbnRzIjpbIlB1ZXJ0byBSaWNvLCBVLlMuQS4iXSwicGFnZSI6MSwibGltaXQiOjI1LCJvZmZzZXQiOjAsInNvcnQiOiIiLCJzb3J0VHlwZSI6IiIsImNsZWFyUGFyYW1zIjpmYWxzZSwia2V5d29yZCI6IiIsInBhZ2VUaXRsZSI6Imw6UHVlcnRvIFJpY28sIFUuUy5BLiIsInByYWN0aWNlQXJlYXMiOlsiQ2hpbGQgU3VwcG9ydCJdfQ%3D%3D\n"
     ]
    },
    {
     "name": "stderr",
     "output_type": "stream",
     "text": [
      " 87%|████████▋ | 79/91 [33:41<04:12, 21.02s/it]"
     ]
    },
    {
     "name": "stdout",
     "output_type": "stream",
     "text": [
      "paginas en esta url: 1\n",
      "accediendo a: https://www.martindale.com/search/attorneys-law-firms-articles/?term=Puerto+Rico%2C+USA&params=eyJ0eXBlIjoicGVvcGxlIiwiY29tcGFyZSI6IiIsInRlcm0iOiJQdWVydG8gUmljbywgVVNBIiwiZ2VvTG9jYXRpb25GYWNldCI6WyJQdWVydG8gUmljbywgVS5TLkEuIl0sImdlb0xvY2F0aW9uRmFjZXRSZWNlbnRzIjpbIlB1ZXJ0byBSaWNvLCBVLlMuQS4iXSwicGFnZSI6MSwibGltaXQiOjI1LCJvZmZzZXQiOjAsInNvcnQiOiIiLCJzb3J0VHlwZSI6IiIsImNsZWFyUGFyYW1zIjpmYWxzZSwia2V5d29yZCI6IiIsInBhZ2VUaXRsZSI6Imw6UHVlcnRvIFJpY28sIFUuUy5BLiIsInByYWN0aWNlQXJlYXMiOlsiUklDTyJdfQ%3D%3D\n"
     ]
    },
    {
     "name": "stderr",
     "output_type": "stream",
     "text": [
      " 88%|████████▊ | 80/91 [34:06<04:03, 22.16s/it]"
     ]
    },
    {
     "name": "stdout",
     "output_type": "stream",
     "text": [
      "paginas en esta url: 4\n",
      "accediendo a: https://www.martindale.com/search/attorneys-law-firms-articles/?term=Puerto+Rico%2C+USA&params=eyJ0eXBlIjoicGVvcGxlIiwiY29tcGFyZSI6IiIsInRlcm0iOiJQdWVydG8gUmljbywgVVNBIiwiZ2VvTG9jYXRpb25GYWNldCI6WyJQdWVydG8gUmljbywgVS5TLkEuIl0sImdlb0xvY2F0aW9uRmFjZXRSZWNlbnRzIjpbIlB1ZXJ0byBSaWNvLCBVLlMuQS4iXSwicGFnZSI6MSwibGltaXQiOjI1LCJvZmZzZXQiOjAsInNvcnQiOiIiLCJzb3J0VHlwZSI6IiIsImNsZWFyUGFyYW1zIjpmYWxzZSwia2V5d29yZCI6IiIsInBhZ2VUaXRsZSI6Imw6UHVlcnRvIFJpY28sIFUuUy5BLiIsInByYWN0aWNlQXJlYXMiOlsiU2VjdXJpdGllcyJdfQ%3D%3D\n",
      "https://www.martindale.com/attorney/miguel-r-garay-auban-1572650/\n",
      "accediendo a: https://www.martindale.com/search/attorneys-law-firms-articles/?term=Puerto+Rico%2C+USA&params=eyJ0eXBlIjoicGVvcGxlIiwiY29tcGFyZSI6IiIsInRlcm0iOiJQdWVydG8gUmljbywgVVNBIiwiZ2VvTG9jYXRpb25GYWNldCI6WyJQdWVydG8gUmljbywgVS5TLkEuIl0sImdlb0xvY2F0aW9uRmFjZXRSZWNlbnRzIjpbIlB1ZXJ0byBSaWNvLCBVLlMuQS4iXSwicGFnZSI6MSwibGltaXQiOjI1LCJvZmZzZXQiOjAsInNvcnQiOiIiLCJzb3J0VHlwZSI6IiIsImNsZWFyUGFyYW1zIjpmYWxzZSwia2V5d29yZCI6IiIsInBhZ2VUaXRsZSI6Imw6UHVlcnRvIFJpY28sIFUuUy5BLiIsInByYWN0aWNlQXJlYXMiOlsiU2VjdXJpdGllcyJdfQ%3D%3D&page=2\n",
      "accediendo a: https://www.martindale.com/search/attorneys-law-firms-articles/?term=Puerto+Rico%2C+USA&params=eyJ0eXBlIjoicGVvcGxlIiwiY29tcGFyZSI6IiIsInRlcm0iOiJQdWVydG8gUmljbywgVVNBIiwiZ2VvTG9jYXRpb25GYWNldCI6WyJQdWVydG8gUmljbywgVS5TLkEuIl0sImdlb0xvY2F0aW9uRmFjZXRSZWNlbnRzIjpbIlB1ZXJ0byBSaWNvLCBVLlMuQS4iXSwicGFnZSI6MSwibGltaXQiOjI1LCJvZmZzZXQiOjAsInNvcnQiOiIiLCJzb3J0VHlwZSI6IiIsImNsZWFyUGFyYW1zIjpmYWxzZSwia2V5d29yZCI6IiIsInBhZ2VUaXRsZSI6Imw6UHVlcnRvIFJpY28sIFUuUy5BLiIsInByYWN0aWNlQXJlYXMiOlsiU2VjdXJpdGllcyJdfQ%3D%3D&page=3\n",
      "accediendo a: https://www.martindale.com/search/attorneys-law-firms-articles/?term=Puerto+Rico%2C+USA&params=eyJ0eXBlIjoicGVvcGxlIiwiY29tcGFyZSI6IiIsInRlcm0iOiJQdWVydG8gUmljbywgVVNBIiwiZ2VvTG9jYXRpb25GYWNldCI6WyJQdWVydG8gUmljbywgVS5TLkEuIl0sImdlb0xvY2F0aW9uRmFjZXRSZWNlbnRzIjpbIlB1ZXJ0byBSaWNvLCBVLlMuQS4iXSwicGFnZSI6MSwibGltaXQiOjI1LCJvZmZzZXQiOjAsInNvcnQiOiIiLCJzb3J0VHlwZSI6IiIsImNsZWFyUGFyYW1zIjpmYWxzZSwia2V5d29yZCI6IiIsInBhZ2VUaXRsZSI6Imw6UHVlcnRvIFJpY28sIFUuUy5BLiIsInByYWN0aWNlQXJlYXMiOlsiU2VjdXJpdGllcyJdfQ%3D%3D&page=4\n"
     ]
    },
    {
     "name": "stderr",
     "output_type": "stream",
     "text": [
      " 89%|████████▉ | 81/91 [34:21<03:22, 20.24s/it]"
     ]
    },
    {
     "name": "stdout",
     "output_type": "stream",
     "text": [
      "paginas en esta url: 1\n",
      "accediendo a: https://www.martindale.com/search/attorneys-law-firms-articles/?term=Puerto+Rico%2C+USA&params=eyJ0eXBlIjoicGVvcGxlIiwiY29tcGFyZSI6IiIsInRlcm0iOiJQdWVydG8gUmljbywgVVNBIiwiZ2VvTG9jYXRpb25GYWNldCI6WyJQdWVydG8gUmljbywgVS5TLkEuIl0sImdlb0xvY2F0aW9uRmFjZXRSZWNlbnRzIjpbIlB1ZXJ0byBSaWNvLCBVLlMuQS4iXSwicGFnZSI6MSwibGltaXQiOjI1LCJvZmZzZXQiOjAsInNvcnQiOiIiLCJzb3J0VHlwZSI6IiIsImNsZWFyUGFyYW1zIjpmYWxzZSwia2V5d29yZCI6IiIsInBhZ2VUaXRsZSI6Imw6UHVlcnRvIFJpY28sIFUuUy5BLiIsInByYWN0aWNlQXJlYXMiOlsiTGVnaXNsYXRpdmUgUHJhY3RpY2UiXX0%3D\n"
     ]
    },
    {
     "name": "stderr",
     "output_type": "stream",
     "text": [
      " 90%|█████████ | 82/91 [34:45<03:12, 21.33s/it]"
     ]
    },
    {
     "name": "stdout",
     "output_type": "stream",
     "text": [
      "paginas en esta url: 1\n",
      "accediendo a: https://www.martindale.com/search/attorneys-law-firms-articles/?term=Puerto+Rico%2C+USA&params=eyJ0eXBlIjoicGVvcGxlIiwiY29tcGFyZSI6IiIsInRlcm0iOiJQdWVydG8gUmljbywgVVNBIiwiZ2VvTG9jYXRpb25GYWNldCI6WyJQdWVydG8gUmljbywgVS5TLkEuIl0sImdlb0xvY2F0aW9uRmFjZXRSZWNlbnRzIjpbIlB1ZXJ0byBSaWNvLCBVLlMuQS4iXSwicGFnZSI6MSwibGltaXQiOjI1LCJvZmZzZXQiOjAsInNvcnQiOiIiLCJzb3J0VHlwZSI6IiIsImNsZWFyUGFyYW1zIjpmYWxzZSwia2V5d29yZCI6IiIsInBhZ2VUaXRsZSI6Imw6UHVlcnRvIFJpY28sIFUuUy5BLiIsInByYWN0aWNlQXJlYXMiOlsiRXF1aXBtZW50IEZpbmFuY2UgYW5kIExlYXNpbmciXX0%3D\n"
     ]
    },
    {
     "name": "stderr",
     "output_type": "stream",
     "text": [
      " 91%|█████████ | 83/91 [35:09<02:55, 21.90s/it]"
     ]
    },
    {
     "name": "stdout",
     "output_type": "stream",
     "text": [
      "paginas en esta url: 3\n",
      "accediendo a: https://www.martindale.com/search/attorneys-law-firms-articles/?term=Puerto+Rico%2C+USA&params=eyJ0eXBlIjoicGVvcGxlIiwiY29tcGFyZSI6IiIsInRlcm0iOiJQdWVydG8gUmljbywgVVNBIiwiZ2VvTG9jYXRpb25GYWNldCI6WyJQdWVydG8gUmljbywgVS5TLkEuIl0sImdlb0xvY2F0aW9uRmFjZXRSZWNlbnRzIjpbIlB1ZXJ0byBSaWNvLCBVLlMuQS4iXSwicGFnZSI6MSwibGltaXQiOjI1LCJvZmZzZXQiOjAsInNvcnQiOiIiLCJzb3J0VHlwZSI6IiIsImNsZWFyUGFyYW1zIjpmYWxzZSwia2V5d29yZCI6IiIsInBhZ2VUaXRsZSI6Imw6UHVlcnRvIFJpY28sIFUuUy5BLiIsInByYWN0aWNlQXJlYXMiOlsiRXN0YXRlIFBsYW5uaW5nIl19\n",
      "accediendo a: https://www.martindale.com/search/attorneys-law-firms-articles/?term=Puerto+Rico%2C+USA&params=eyJ0eXBlIjoicGVvcGxlIiwiY29tcGFyZSI6IiIsInRlcm0iOiJQdWVydG8gUmljbywgVVNBIiwiZ2VvTG9jYXRpb25GYWNldCI6WyJQdWVydG8gUmljbywgVS5TLkEuIl0sImdlb0xvY2F0aW9uRmFjZXRSZWNlbnRzIjpbIlB1ZXJ0byBSaWNvLCBVLlMuQS4iXSwicGFnZSI6MSwibGltaXQiOjI1LCJvZmZzZXQiOjAsInNvcnQiOiIiLCJzb3J0VHlwZSI6IiIsImNsZWFyUGFyYW1zIjpmYWxzZSwia2V5d29yZCI6IiIsInBhZ2VUaXRsZSI6Imw6UHVlcnRvIFJpY28sIFUuUy5BLiIsInByYWN0aWNlQXJlYXMiOlsiRXN0YXRlIFBsYW5uaW5nIl19&page=2\n",
      "accediendo a: https://www.martindale.com/search/attorneys-law-firms-articles/?term=Puerto+Rico%2C+USA&params=eyJ0eXBlIjoicGVvcGxlIiwiY29tcGFyZSI6IiIsInRlcm0iOiJQdWVydG8gUmljbywgVVNBIiwiZ2VvTG9jYXRpb25GYWNldCI6WyJQdWVydG8gUmljbywgVS5TLkEuIl0sImdlb0xvY2F0aW9uRmFjZXRSZWNlbnRzIjpbIlB1ZXJ0byBSaWNvLCBVLlMuQS4iXSwicGFnZSI6MSwibGltaXQiOjI1LCJvZmZzZXQiOjAsInNvcnQiOiIiLCJzb3J0VHlwZSI6IiIsImNsZWFyUGFyYW1zIjpmYWxzZSwia2V5d29yZCI6IiIsInBhZ2VUaXRsZSI6Imw6UHVlcnRvIFJpY28sIFUuUy5BLiIsInByYWN0aWNlQXJlYXMiOlsiRXN0YXRlIFBsYW5uaW5nIl19&page=3\n"
     ]
    },
    {
     "name": "stderr",
     "output_type": "stream",
     "text": [
      " 92%|█████████▏| 84/91 [35:20<02:12, 18.92s/it]"
     ]
    },
    {
     "name": "stdout",
     "output_type": "stream",
     "text": [
      "paginas en esta url: 9\n",
      "accediendo a: https://www.martindale.com/search/attorneys-law-firms-articles/?term=Puerto+Rico%2C+USA&params=eyJ0eXBlIjoicGVvcGxlIiwiY29tcGFyZSI6IiIsInRlcm0iOiJQdWVydG8gUmljbywgVVNBIiwiZ2VvTG9jYXRpb25GYWNldCI6WyJQdWVydG8gUmljbywgVS5TLkEuIl0sImdlb0xvY2F0aW9uRmFjZXRSZWNlbnRzIjpbIlB1ZXJ0byBSaWNvLCBVLlMuQS4iXSwicGFnZSI6MSwibGltaXQiOjI1LCJvZmZzZXQiOjAsInNvcnQiOiIiLCJzb3J0VHlwZSI6IiIsImNsZWFyUGFyYW1zIjpmYWxzZSwia2V5d29yZCI6IiIsInBhZ2VUaXRsZSI6Imw6UHVlcnRvIFJpY28sIFUuUy5BLiIsInByYWN0aWNlQXJlYXMiOlsiQnVzaW5lc3MgTGF3Il19\n",
      "accediendo a: https://www.martindale.com/search/attorneys-law-firms-articles/?term=Puerto+Rico%2C+USA&params=eyJ0eXBlIjoicGVvcGxlIiwiY29tcGFyZSI6IiIsInRlcm0iOiJQdWVydG8gUmljbywgVVNBIiwiZ2VvTG9jYXRpb25GYWNldCI6WyJQdWVydG8gUmljbywgVS5TLkEuIl0sImdlb0xvY2F0aW9uRmFjZXRSZWNlbnRzIjpbIlB1ZXJ0byBSaWNvLCBVLlMuQS4iXSwicGFnZSI6MSwibGltaXQiOjI1LCJvZmZzZXQiOjAsInNvcnQiOiIiLCJzb3J0VHlwZSI6IiIsImNsZWFyUGFyYW1zIjpmYWxzZSwia2V5d29yZCI6IiIsInBhZ2VUaXRsZSI6Imw6UHVlcnRvIFJpY28sIFUuUy5BLiIsInByYWN0aWNlQXJlYXMiOlsiQnVzaW5lc3MgTGF3Il19&page=2\n",
      "accediendo a: https://www.martindale.com/search/attorneys-law-firms-articles/?term=Puerto+Rico%2C+USA&params=eyJ0eXBlIjoicGVvcGxlIiwiY29tcGFyZSI6IiIsInRlcm0iOiJQdWVydG8gUmljbywgVVNBIiwiZ2VvTG9jYXRpb25GYWNldCI6WyJQdWVydG8gUmljbywgVS5TLkEuIl0sImdlb0xvY2F0aW9uRmFjZXRSZWNlbnRzIjpbIlB1ZXJ0byBSaWNvLCBVLlMuQS4iXSwicGFnZSI6MSwibGltaXQiOjI1LCJvZmZzZXQiOjAsInNvcnQiOiIiLCJzb3J0VHlwZSI6IiIsImNsZWFyUGFyYW1zIjpmYWxzZSwia2V5d29yZCI6IiIsInBhZ2VUaXRsZSI6Imw6UHVlcnRvIFJpY28sIFUuUy5BLiIsInByYWN0aWNlQXJlYXMiOlsiQnVzaW5lc3MgTGF3Il19&page=3\n",
      "accediendo a: https://www.martindale.com/search/attorneys-law-firms-articles/?term=Puerto+Rico%2C+USA&params=eyJ0eXBlIjoicGVvcGxlIiwiY29tcGFyZSI6IiIsInRlcm0iOiJQdWVydG8gUmljbywgVVNBIiwiZ2VvTG9jYXRpb25GYWNldCI6WyJQdWVydG8gUmljbywgVS5TLkEuIl0sImdlb0xvY2F0aW9uRmFjZXRSZWNlbnRzIjpbIlB1ZXJ0byBSaWNvLCBVLlMuQS4iXSwicGFnZSI6MSwibGltaXQiOjI1LCJvZmZzZXQiOjAsInNvcnQiOiIiLCJzb3J0VHlwZSI6IiIsImNsZWFyUGFyYW1zIjpmYWxzZSwia2V5d29yZCI6IiIsInBhZ2VUaXRsZSI6Imw6UHVlcnRvIFJpY28sIFUuUy5BLiIsInByYWN0aWNlQXJlYXMiOlsiQnVzaW5lc3MgTGF3Il19&page=4\n",
      "accediendo a: https://www.martindale.com/search/attorneys-law-firms-articles/?term=Puerto+Rico%2C+USA&params=eyJ0eXBlIjoicGVvcGxlIiwiY29tcGFyZSI6IiIsInRlcm0iOiJQdWVydG8gUmljbywgVVNBIiwiZ2VvTG9jYXRpb25GYWNldCI6WyJQdWVydG8gUmljbywgVS5TLkEuIl0sImdlb0xvY2F0aW9uRmFjZXRSZWNlbnRzIjpbIlB1ZXJ0byBSaWNvLCBVLlMuQS4iXSwicGFnZSI6MSwibGltaXQiOjI1LCJvZmZzZXQiOjAsInNvcnQiOiIiLCJzb3J0VHlwZSI6IiIsImNsZWFyUGFyYW1zIjpmYWxzZSwia2V5d29yZCI6IiIsInBhZ2VUaXRsZSI6Imw6UHVlcnRvIFJpY28sIFUuUy5BLiIsInByYWN0aWNlQXJlYXMiOlsiQnVzaW5lc3MgTGF3Il19&page=5\n",
      "accediendo a: https://www.martindale.com/search/attorneys-law-firms-articles/?term=Puerto+Rico%2C+USA&params=eyJ0eXBlIjoicGVvcGxlIiwiY29tcGFyZSI6IiIsInRlcm0iOiJQdWVydG8gUmljbywgVVNBIiwiZ2VvTG9jYXRpb25GYWNldCI6WyJQdWVydG8gUmljbywgVS5TLkEuIl0sImdlb0xvY2F0aW9uRmFjZXRSZWNlbnRzIjpbIlB1ZXJ0byBSaWNvLCBVLlMuQS4iXSwicGFnZSI6MSwibGltaXQiOjI1LCJvZmZzZXQiOjAsInNvcnQiOiIiLCJzb3J0VHlwZSI6IiIsImNsZWFyUGFyYW1zIjpmYWxzZSwia2V5d29yZCI6IiIsInBhZ2VUaXRsZSI6Imw6UHVlcnRvIFJpY28sIFUuUy5BLiIsInByYWN0aWNlQXJlYXMiOlsiQnVzaW5lc3MgTGF3Il19&page=6\n",
      "accediendo a: https://www.martindale.com/search/attorneys-law-firms-articles/?term=Puerto+Rico%2C+USA&params=eyJ0eXBlIjoicGVvcGxlIiwiY29tcGFyZSI6IiIsInRlcm0iOiJQdWVydG8gUmljbywgVVNBIiwiZ2VvTG9jYXRpb25GYWNldCI6WyJQdWVydG8gUmljbywgVS5TLkEuIl0sImdlb0xvY2F0aW9uRmFjZXRSZWNlbnRzIjpbIlB1ZXJ0byBSaWNvLCBVLlMuQS4iXSwicGFnZSI6MSwibGltaXQiOjI1LCJvZmZzZXQiOjAsInNvcnQiOiIiLCJzb3J0VHlwZSI6IiIsImNsZWFyUGFyYW1zIjpmYWxzZSwia2V5d29yZCI6IiIsInBhZ2VUaXRsZSI6Imw6UHVlcnRvIFJpY28sIFUuUy5BLiIsInByYWN0aWNlQXJlYXMiOlsiQnVzaW5lc3MgTGF3Il19&page=7\n",
      "accediendo a: https://www.martindale.com/search/attorneys-law-firms-articles/?term=Puerto+Rico%2C+USA&params=eyJ0eXBlIjoicGVvcGxlIiwiY29tcGFyZSI6IiIsInRlcm0iOiJQdWVydG8gUmljbywgVVNBIiwiZ2VvTG9jYXRpb25GYWNldCI6WyJQdWVydG8gUmljbywgVS5TLkEuIl0sImdlb0xvY2F0aW9uRmFjZXRSZWNlbnRzIjpbIlB1ZXJ0byBSaWNvLCBVLlMuQS4iXSwicGFnZSI6MSwibGltaXQiOjI1LCJvZmZzZXQiOjAsInNvcnQiOiIiLCJzb3J0VHlwZSI6IiIsImNsZWFyUGFyYW1zIjpmYWxzZSwia2V5d29yZCI6IiIsInBhZ2VUaXRsZSI6Imw6UHVlcnRvIFJpY28sIFUuUy5BLiIsInByYWN0aWNlQXJlYXMiOlsiQnVzaW5lc3MgTGF3Il19&page=8\n",
      "accediendo a: https://www.martindale.com/search/attorneys-law-firms-articles/?term=Puerto+Rico%2C+USA&params=eyJ0eXBlIjoicGVvcGxlIiwiY29tcGFyZSI6IiIsInRlcm0iOiJQdWVydG8gUmljbywgVVNBIiwiZ2VvTG9jYXRpb25GYWNldCI6WyJQdWVydG8gUmljbywgVS5TLkEuIl0sImdlb0xvY2F0aW9uRmFjZXRSZWNlbnRzIjpbIlB1ZXJ0byBSaWNvLCBVLlMuQS4iXSwicGFnZSI6MSwibGltaXQiOjI1LCJvZmZzZXQiOjAsInNvcnQiOiIiLCJzb3J0VHlwZSI6IiIsImNsZWFyUGFyYW1zIjpmYWxzZSwia2V5d29yZCI6IiIsInBhZ2VUaXRsZSI6Imw6UHVlcnRvIFJpY28sIFUuUy5BLiIsInByYWN0aWNlQXJlYXMiOlsiQnVzaW5lc3MgTGF3Il19&page=9\n"
     ]
    },
    {
     "name": "stderr",
     "output_type": "stream",
     "text": [
      " 93%|█████████▎| 85/91 [35:44<02:01, 20.23s/it]"
     ]
    },
    {
     "name": "stdout",
     "output_type": "stream",
     "text": [
      "paginas en esta url: 3\n",
      "accediendo a: https://www.martindale.com/search/attorneys-law-firms-articles/?term=Puerto+Rico%2C+USA&params=eyJ0eXBlIjoicGVvcGxlIiwiY29tcGFyZSI6IiIsInRlcm0iOiJQdWVydG8gUmljbywgVVNBIiwiZ2VvTG9jYXRpb25GYWNldCI6WyJQdWVydG8gUmljbywgVS5TLkEuIl0sImdlb0xvY2F0aW9uRmFjZXRSZWNlbnRzIjpbIlB1ZXJ0byBSaWNvLCBVLlMuQS4iXSwicGFnZSI6MSwibGltaXQiOjI1LCJvZmZzZXQiOjAsInNvcnQiOiIiLCJzb3J0VHlwZSI6IiIsImNsZWFyUGFyYW1zIjpmYWxzZSwia2V5d29yZCI6IiIsInBhZ2VUaXRsZSI6Imw6UHVlcnRvIFJpY28sIFUuUy5BLiIsInByYWN0aWNlQXJlYXMiOlsiQ29tbXVuaWNhdGlvbnMgYW5kIE1lZGlhIl19\n",
      "accediendo a: https://www.martindale.com/search/attorneys-law-firms-articles/?term=Puerto+Rico%2C+USA&params=eyJ0eXBlIjoicGVvcGxlIiwiY29tcGFyZSI6IiIsInRlcm0iOiJQdWVydG8gUmljbywgVVNBIiwiZ2VvTG9jYXRpb25GYWNldCI6WyJQdWVydG8gUmljbywgVS5TLkEuIl0sImdlb0xvY2F0aW9uRmFjZXRSZWNlbnRzIjpbIlB1ZXJ0byBSaWNvLCBVLlMuQS4iXSwicGFnZSI6MSwibGltaXQiOjI1LCJvZmZzZXQiOjAsInNvcnQiOiIiLCJzb3J0VHlwZSI6IiIsImNsZWFyUGFyYW1zIjpmYWxzZSwia2V5d29yZCI6IiIsInBhZ2VUaXRsZSI6Imw6UHVlcnRvIFJpY28sIFUuUy5BLiIsInByYWN0aWNlQXJlYXMiOlsiQ29tbXVuaWNhdGlvbnMgYW5kIE1lZGlhIl19&page=2\n",
      "https://www.martindale.com/attorney/robert-j-walser-1574132/\n",
      "accediendo a: https://www.martindale.com/search/attorneys-law-firms-articles/?term=Puerto+Rico%2C+USA&params=eyJ0eXBlIjoicGVvcGxlIiwiY29tcGFyZSI6IiIsInRlcm0iOiJQdWVydG8gUmljbywgVVNBIiwiZ2VvTG9jYXRpb25GYWNldCI6WyJQdWVydG8gUmljbywgVS5TLkEuIl0sImdlb0xvY2F0aW9uRmFjZXRSZWNlbnRzIjpbIlB1ZXJ0byBSaWNvLCBVLlMuQS4iXSwicGFnZSI6MSwibGltaXQiOjI1LCJvZmZzZXQiOjAsInNvcnQiOiIiLCJzb3J0VHlwZSI6IiIsImNsZWFyUGFyYW1zIjpmYWxzZSwia2V5d29yZCI6IiIsInBhZ2VUaXRsZSI6Imw6UHVlcnRvIFJpY28sIFUuUy5BLiIsInByYWN0aWNlQXJlYXMiOlsiQ29tbXVuaWNhdGlvbnMgYW5kIE1lZGlhIl19&page=3\n"
     ]
    },
    {
     "name": "stderr",
     "output_type": "stream",
     "text": [
      " 95%|█████████▍| 86/91 [35:58<01:31, 18.35s/it]"
     ]
    },
    {
     "name": "stdout",
     "output_type": "stream",
     "text": [
      "paginas en esta url: 17\n",
      "accediendo a: https://www.martindale.com/search/attorneys-law-firms-articles/?term=Puerto+Rico%2C+USA&params=eyJ0eXBlIjoicGVvcGxlIiwiY29tcGFyZSI6IiIsInRlcm0iOiJQdWVydG8gUmljbywgVVNBIiwiZ2VvTG9jYXRpb25GYWNldCI6WyJQdWVydG8gUmljbywgVS5TLkEuIl0sImdlb0xvY2F0aW9uRmFjZXRSZWNlbnRzIjpbIlB1ZXJ0byBSaWNvLCBVLlMuQS4iXSwicGFnZSI6MSwibGltaXQiOjI1LCJvZmZzZXQiOjAsInNvcnQiOiIiLCJzb3J0VHlwZSI6IiIsImNsZWFyUGFyYW1zIjpmYWxzZSwia2V5d29yZCI6IiIsInBhZ2VUaXRsZSI6Imw6UHVlcnRvIFJpY28sIFUuUy5BLiIsInByYWN0aWNlQXJlYXMiOlsiQ2l2aWwgTGl0aWdhdGlvbiJdfQ%3D%3D\n",
      "https://www.martindale.com/attorney/arlene-r-perez-borrero-2172421/\n",
      "accediendo a: https://www.martindale.com/search/attorneys-law-firms-articles/?term=Puerto+Rico%2C+USA&params=eyJ0eXBlIjoicGVvcGxlIiwiY29tcGFyZSI6IiIsInRlcm0iOiJQdWVydG8gUmljbywgVVNBIiwiZ2VvTG9jYXRpb25GYWNldCI6WyJQdWVydG8gUmljbywgVS5TLkEuIl0sImdlb0xvY2F0aW9uRmFjZXRSZWNlbnRzIjpbIlB1ZXJ0byBSaWNvLCBVLlMuQS4iXSwicGFnZSI6MSwibGltaXQiOjI1LCJvZmZzZXQiOjAsInNvcnQiOiIiLCJzb3J0VHlwZSI6IiIsImNsZWFyUGFyYW1zIjpmYWxzZSwia2V5d29yZCI6IiIsInBhZ2VUaXRsZSI6Imw6UHVlcnRvIFJpY28sIFUuUy5BLiIsInByYWN0aWNlQXJlYXMiOlsiQ2l2aWwgTGl0aWdhdGlvbiJdfQ%3D%3D&page=2\n",
      "https://www.martindale.com/attorney/luis-e-dubon-iii-1572366/\n",
      "accediendo a: https://www.martindale.com/search/attorneys-law-firms-articles/?term=Puerto+Rico%2C+USA&params=eyJ0eXBlIjoicGVvcGxlIiwiY29tcGFyZSI6IiIsInRlcm0iOiJQdWVydG8gUmljbywgVVNBIiwiZ2VvTG9jYXRpb25GYWNldCI6WyJQdWVydG8gUmljbywgVS5TLkEuIl0sImdlb0xvY2F0aW9uRmFjZXRSZWNlbnRzIjpbIlB1ZXJ0byBSaWNvLCBVLlMuQS4iXSwicGFnZSI6MSwibGltaXQiOjI1LCJvZmZzZXQiOjAsInNvcnQiOiIiLCJzb3J0VHlwZSI6IiIsImNsZWFyUGFyYW1zIjpmYWxzZSwia2V5d29yZCI6IiIsInBhZ2VUaXRsZSI6Imw6UHVlcnRvIFJpY28sIFUuUy5BLiIsInByYWN0aWNlQXJlYXMiOlsiQ2l2aWwgTGl0aWdhdGlvbiJdfQ%3D%3D&page=3\n",
      "https://www.martindale.com/attorney/lemuel-cancel-mendez-2092799/\n",
      "accediendo a: https://www.martindale.com/search/attorneys-law-firms-articles/?term=Puerto+Rico%2C+USA&params=eyJ0eXBlIjoicGVvcGxlIiwiY29tcGFyZSI6IiIsInRlcm0iOiJQdWVydG8gUmljbywgVVNBIiwiZ2VvTG9jYXRpb25GYWNldCI6WyJQdWVydG8gUmljbywgVS5TLkEuIl0sImdlb0xvY2F0aW9uRmFjZXRSZWNlbnRzIjpbIlB1ZXJ0byBSaWNvLCBVLlMuQS4iXSwicGFnZSI6MSwibGltaXQiOjI1LCJvZmZzZXQiOjAsInNvcnQiOiIiLCJzb3J0VHlwZSI6IiIsImNsZWFyUGFyYW1zIjpmYWxzZSwia2V5d29yZCI6IiIsInBhZ2VUaXRsZSI6Imw6UHVlcnRvIFJpY28sIFUuUy5BLiIsInByYWN0aWNlQXJlYXMiOlsiQ2l2aWwgTGl0aWdhdGlvbiJdfQ%3D%3D&page=4\n",
      "https://www.martindale.com/attorney/maria-de-lourdes-rivera-de-jimenez-36802265/\n",
      "https://www.martindale.com/attorney/luis-torres-ramos-2750455/\n",
      "accediendo a: https://www.martindale.com/search/attorneys-law-firms-articles/?term=Puerto+Rico%2C+USA&params=eyJ0eXBlIjoicGVvcGxlIiwiY29tcGFyZSI6IiIsInRlcm0iOiJQdWVydG8gUmljbywgVVNBIiwiZ2VvTG9jYXRpb25GYWNldCI6WyJQdWVydG8gUmljbywgVS5TLkEuIl0sImdlb0xvY2F0aW9uRmFjZXRSZWNlbnRzIjpbIlB1ZXJ0byBSaWNvLCBVLlMuQS4iXSwicGFnZSI6MSwibGltaXQiOjI1LCJvZmZzZXQiOjAsInNvcnQiOiIiLCJzb3J0VHlwZSI6IiIsImNsZWFyUGFyYW1zIjpmYWxzZSwia2V5d29yZCI6IiIsInBhZ2VUaXRsZSI6Imw6UHVlcnRvIFJpY28sIFUuUy5BLiIsInByYWN0aWNlQXJlYXMiOlsiQ2l2aWwgTGl0aWdhdGlvbiJdfQ%3D%3D&page=5\n",
      "https://www.martindale.com/attorney/wilson-galarza-3582957/\n",
      "accediendo a: https://www.martindale.com/search/attorneys-law-firms-articles/?term=Puerto+Rico%2C+USA&params=eyJ0eXBlIjoicGVvcGxlIiwiY29tcGFyZSI6IiIsInRlcm0iOiJQdWVydG8gUmljbywgVVNBIiwiZ2VvTG9jYXRpb25GYWNldCI6WyJQdWVydG8gUmljbywgVS5TLkEuIl0sImdlb0xvY2F0aW9uRmFjZXRSZWNlbnRzIjpbIlB1ZXJ0byBSaWNvLCBVLlMuQS4iXSwicGFnZSI6MSwibGltaXQiOjI1LCJvZmZzZXQiOjAsInNvcnQiOiIiLCJzb3J0VHlwZSI6IiIsImNsZWFyUGFyYW1zIjpmYWxzZSwia2V5d29yZCI6IiIsInBhZ2VUaXRsZSI6Imw6UHVlcnRvIFJpY28sIFUuUy5BLiIsInByYWN0aWNlQXJlYXMiOlsiQ2l2aWwgTGl0aWdhdGlvbiJdfQ%3D%3D&page=6\n",
      "accediendo a: https://www.martindale.com/search/attorneys-law-firms-articles/?term=Puerto+Rico%2C+USA&params=eyJ0eXBlIjoicGVvcGxlIiwiY29tcGFyZSI6IiIsInRlcm0iOiJQdWVydG8gUmljbywgVVNBIiwiZ2VvTG9jYXRpb25GYWNldCI6WyJQdWVydG8gUmljbywgVS5TLkEuIl0sImdlb0xvY2F0aW9uRmFjZXRSZWNlbnRzIjpbIlB1ZXJ0byBSaWNvLCBVLlMuQS4iXSwicGFnZSI6MSwibGltaXQiOjI1LCJvZmZzZXQiOjAsInNvcnQiOiIiLCJzb3J0VHlwZSI6IiIsImNsZWFyUGFyYW1zIjpmYWxzZSwia2V5d29yZCI6IiIsInBhZ2VUaXRsZSI6Imw6UHVlcnRvIFJpY28sIFUuUy5BLiIsInByYWN0aWNlQXJlYXMiOlsiQ2l2aWwgTGl0aWdhdGlvbiJdfQ%3D%3D&page=7\n",
      "accediendo a: https://www.martindale.com/search/attorneys-law-firms-articles/?term=Puerto+Rico%2C+USA&params=eyJ0eXBlIjoicGVvcGxlIiwiY29tcGFyZSI6IiIsInRlcm0iOiJQdWVydG8gUmljbywgVVNBIiwiZ2VvTG9jYXRpb25GYWNldCI6WyJQdWVydG8gUmljbywgVS5TLkEuIl0sImdlb0xvY2F0aW9uRmFjZXRSZWNlbnRzIjpbIlB1ZXJ0byBSaWNvLCBVLlMuQS4iXSwicGFnZSI6MSwibGltaXQiOjI1LCJvZmZzZXQiOjAsInNvcnQiOiIiLCJzb3J0VHlwZSI6IiIsImNsZWFyUGFyYW1zIjpmYWxzZSwia2V5d29yZCI6IiIsInBhZ2VUaXRsZSI6Imw6UHVlcnRvIFJpY28sIFUuUy5BLiIsInByYWN0aWNlQXJlYXMiOlsiQ2l2aWwgTGl0aWdhdGlvbiJdfQ%3D%3D&page=8\n",
      "https://www.martindale.com/attorney/cesar-a-andreu-ramirez-de-arellano-1572008/\n",
      "https://www.martindale.com/attorney/jose-javier-santos-1573007/\n",
      "https://www.martindale.com/attorney/giselle-colon-de-ferenczi-1573523/\n",
      "accediendo a: https://www.martindale.com/search/attorneys-law-firms-articles/?term=Puerto+Rico%2C+USA&params=eyJ0eXBlIjoicGVvcGxlIiwiY29tcGFyZSI6IiIsInRlcm0iOiJQdWVydG8gUmljbywgVVNBIiwiZ2VvTG9jYXRpb25GYWNldCI6WyJQdWVydG8gUmljbywgVS5TLkEuIl0sImdlb0xvY2F0aW9uRmFjZXRSZWNlbnRzIjpbIlB1ZXJ0byBSaWNvLCBVLlMuQS4iXSwicGFnZSI6MSwibGltaXQiOjI1LCJvZmZzZXQiOjAsInNvcnQiOiIiLCJzb3J0VHlwZSI6IiIsImNsZWFyUGFyYW1zIjpmYWxzZSwia2V5d29yZCI6IiIsInBhZ2VUaXRsZSI6Imw6UHVlcnRvIFJpY28sIFUuUy5BLiIsInByYWN0aWNlQXJlYXMiOlsiQ2l2aWwgTGl0aWdhdGlvbiJdfQ%3D%3D&page=9\n",
      "https://www.martindale.com/attorney/hector-m-melendez-cano-1572649/\n",
      "https://www.martindale.com/attorney/jose-carlos-diaz-vega-1572193/\n",
      "accediendo a: https://www.martindale.com/search/attorneys-law-firms-articles/?term=Puerto+Rico%2C+USA&params=eyJ0eXBlIjoicGVvcGxlIiwiY29tcGFyZSI6IiIsInRlcm0iOiJQdWVydG8gUmljbywgVVNBIiwiZ2VvTG9jYXRpb25GYWNldCI6WyJQdWVydG8gUmljbywgVS5TLkEuIl0sImdlb0xvY2F0aW9uRmFjZXRSZWNlbnRzIjpbIlB1ZXJ0byBSaWNvLCBVLlMuQS4iXSwicGFnZSI6MSwibGltaXQiOjI1LCJvZmZzZXQiOjAsInNvcnQiOiIiLCJzb3J0VHlwZSI6IiIsImNsZWFyUGFyYW1zIjpmYWxzZSwia2V5d29yZCI6IiIsInBhZ2VUaXRsZSI6Imw6UHVlcnRvIFJpY28sIFUuUy5BLiIsInByYWN0aWNlQXJlYXMiOlsiQ2l2aWwgTGl0aWdhdGlvbiJdfQ%3D%3D&page=10\n",
      "https://www.martindale.com/attorney/camelia-montilla-1572293/\n",
      "accediendo a: https://www.martindale.com/search/attorneys-law-firms-articles/?term=Puerto+Rico%2C+USA&params=eyJ0eXBlIjoicGVvcGxlIiwiY29tcGFyZSI6IiIsInRlcm0iOiJQdWVydG8gUmljbywgVVNBIiwiZ2VvTG9jYXRpb25GYWNldCI6WyJQdWVydG8gUmljbywgVS5TLkEuIl0sImdlb0xvY2F0aW9uRmFjZXRSZWNlbnRzIjpbIlB1ZXJ0byBSaWNvLCBVLlMuQS4iXSwicGFnZSI6MSwibGltaXQiOjI1LCJvZmZzZXQiOjAsInNvcnQiOiIiLCJzb3J0VHlwZSI6IiIsImNsZWFyUGFyYW1zIjpmYWxzZSwia2V5d29yZCI6IiIsInBhZ2VUaXRsZSI6Imw6UHVlcnRvIFJpY28sIFUuUy5BLiIsInByYWN0aWNlQXJlYXMiOlsiQ2l2aWwgTGl0aWdhdGlvbiJdfQ%3D%3D&page=11\n",
      "https://www.martindale.com/attorney/roberto-feliberti-cintron-1572009/\n",
      "accediendo a: https://www.martindale.com/search/attorneys-law-firms-articles/?term=Puerto+Rico%2C+USA&params=eyJ0eXBlIjoicGVvcGxlIiwiY29tcGFyZSI6IiIsInRlcm0iOiJQdWVydG8gUmljbywgVVNBIiwiZ2VvTG9jYXRpb25GYWNldCI6WyJQdWVydG8gUmljbywgVS5TLkEuIl0sImdlb0xvY2F0aW9uRmFjZXRSZWNlbnRzIjpbIlB1ZXJ0byBSaWNvLCBVLlMuQS4iXSwicGFnZSI6MSwibGltaXQiOjI1LCJvZmZzZXQiOjAsInNvcnQiOiIiLCJzb3J0VHlwZSI6IiIsImNsZWFyUGFyYW1zIjpmYWxzZSwia2V5d29yZCI6IiIsInBhZ2VUaXRsZSI6Imw6UHVlcnRvIFJpY28sIFUuUy5BLiIsInByYWN0aWNlQXJlYXMiOlsiQ2l2aWwgTGl0aWdhdGlvbiJdfQ%3D%3D&page=12\n",
      "https://www.martindale.com/attorney/rafael-e-barreto-sola-1572007/\n",
      "https://www.martindale.com/attorney/joan-s-peters-1573524/\n",
      "accediendo a: https://www.martindale.com/search/attorneys-law-firms-articles/?term=Puerto+Rico%2C+USA&params=eyJ0eXBlIjoicGVvcGxlIiwiY29tcGFyZSI6IiIsInRlcm0iOiJQdWVydG8gUmljbywgVVNBIiwiZ2VvTG9jYXRpb25GYWNldCI6WyJQdWVydG8gUmljbywgVS5TLkEuIl0sImdlb0xvY2F0aW9uRmFjZXRSZWNlbnRzIjpbIlB1ZXJ0byBSaWNvLCBVLlMuQS4iXSwicGFnZSI6MSwibGltaXQiOjI1LCJvZmZzZXQiOjAsInNvcnQiOiIiLCJzb3J0VHlwZSI6IiIsImNsZWFyUGFyYW1zIjpmYWxzZSwia2V5d29yZCI6IiIsInBhZ2VUaXRsZSI6Imw6UHVlcnRvIFJpY28sIFUuUy5BLiIsInByYWN0aWNlQXJlYXMiOlsiQ2l2aWwgTGl0aWdhdGlvbiJdfQ%3D%3D&page=13\n",
      "https://www.martindale.com/attorney/michelle-m-garcia-perez-1572025/\n",
      "accediendo a: https://www.martindale.com/search/attorneys-law-firms-articles/?term=Puerto+Rico%2C+USA&params=eyJ0eXBlIjoicGVvcGxlIiwiY29tcGFyZSI6IiIsInRlcm0iOiJQdWVydG8gUmljbywgVVNBIiwiZ2VvTG9jYXRpb25GYWNldCI6WyJQdWVydG8gUmljbywgVS5TLkEuIl0sImdlb0xvY2F0aW9uRmFjZXRSZWNlbnRzIjpbIlB1ZXJ0byBSaWNvLCBVLlMuQS4iXSwicGFnZSI6MSwibGltaXQiOjI1LCJvZmZzZXQiOjAsInNvcnQiOiIiLCJzb3J0VHlwZSI6IiIsImNsZWFyUGFyYW1zIjpmYWxzZSwia2V5d29yZCI6IiIsInBhZ2VUaXRsZSI6Imw6UHVlcnRvIFJpY28sIFUuUy5BLiIsInByYWN0aWNlQXJlYXMiOlsiQ2l2aWwgTGl0aWdhdGlvbiJdfQ%3D%3D&page=14\n",
      "https://www.martindale.com/attorney/fernando-j-fornaris-fernandez-1571999/\n",
      "accediendo a: https://www.martindale.com/search/attorneys-law-firms-articles/?term=Puerto+Rico%2C+USA&params=eyJ0eXBlIjoicGVvcGxlIiwiY29tcGFyZSI6IiIsInRlcm0iOiJQdWVydG8gUmljbywgVVNBIiwiZ2VvTG9jYXRpb25GYWNldCI6WyJQdWVydG8gUmljbywgVS5TLkEuIl0sImdlb0xvY2F0aW9uRmFjZXRSZWNlbnRzIjpbIlB1ZXJ0byBSaWNvLCBVLlMuQS4iXSwicGFnZSI6MSwibGltaXQiOjI1LCJvZmZzZXQiOjAsInNvcnQiOiIiLCJzb3J0VHlwZSI6IiIsImNsZWFyUGFyYW1zIjpmYWxzZSwia2V5d29yZCI6IiIsInBhZ2VUaXRsZSI6Imw6UHVlcnRvIFJpY28sIFUuUy5BLiIsInByYWN0aWNlQXJlYXMiOlsiQ2l2aWwgTGl0aWdhdGlvbiJdfQ%3D%3D&page=15\n",
      "accediendo a: https://www.martindale.com/search/attorneys-law-firms-articles/?term=Puerto+Rico%2C+USA&params=eyJ0eXBlIjoicGVvcGxlIiwiY29tcGFyZSI6IiIsInRlcm0iOiJQdWVydG8gUmljbywgVVNBIiwiZ2VvTG9jYXRpb25GYWNldCI6WyJQdWVydG8gUmljbywgVS5TLkEuIl0sImdlb0xvY2F0aW9uRmFjZXRSZWNlbnRzIjpbIlB1ZXJ0byBSaWNvLCBVLlMuQS4iXSwicGFnZSI6MSwibGltaXQiOjI1LCJvZmZzZXQiOjAsInNvcnQiOiIiLCJzb3J0VHlwZSI6IiIsImNsZWFyUGFyYW1zIjpmYWxzZSwia2V5d29yZCI6IiIsInBhZ2VUaXRsZSI6Imw6UHVlcnRvIFJpY28sIFUuUy5BLiIsInByYWN0aWNlQXJlYXMiOlsiQ2l2aWwgTGl0aWdhdGlvbiJdfQ%3D%3D&page=16\n",
      "accediendo a: https://www.martindale.com/search/attorneys-law-firms-articles/?term=Puerto+Rico%2C+USA&params=eyJ0eXBlIjoicGVvcGxlIiwiY29tcGFyZSI6IiIsInRlcm0iOiJQdWVydG8gUmljbywgVVNBIiwiZ2VvTG9jYXRpb25GYWNldCI6WyJQdWVydG8gUmljbywgVS5TLkEuIl0sImdlb0xvY2F0aW9uRmFjZXRSZWNlbnRzIjpbIlB1ZXJ0byBSaWNvLCBVLlMuQS4iXSwicGFnZSI6MSwibGltaXQiOjI1LCJvZmZzZXQiOjAsInNvcnQiOiIiLCJzb3J0VHlwZSI6IiIsImNsZWFyUGFyYW1zIjpmYWxzZSwia2V5d29yZCI6IiIsInBhZ2VUaXRsZSI6Imw6UHVlcnRvIFJpY28sIFUuUy5BLiIsInByYWN0aWNlQXJlYXMiOlsiQ2l2aWwgTGl0aWdhdGlvbiJdfQ%3D%3D&page=17\n",
      "https://www.martindale.com/attorney/angel-j-vargas-2784247/\n"
     ]
    },
    {
     "name": "stderr",
     "output_type": "stream",
     "text": [
      " 96%|█████████▌| 87/91 [36:35<01:35, 23.90s/it]"
     ]
    },
    {
     "name": "stdout",
     "output_type": "stream",
     "text": [
      "paginas en esta url: 1\n",
      "accediendo a: https://www.martindale.com/search/attorneys-law-firms-articles/?term=Puerto+Rico%2C+USA&params=eyJ0eXBlIjoicGVvcGxlIiwiY29tcGFyZSI6IiIsInRlcm0iOiJQdWVydG8gUmljbywgVVNBIiwiZ2VvTG9jYXRpb25GYWNldCI6WyJQdWVydG8gUmljbywgVS5TLkEuIl0sImdlb0xvY2F0aW9uRmFjZXRSZWNlbnRzIjpbIlB1ZXJ0byBSaWNvLCBVLlMuQS4iXSwicGFnZSI6MSwibGltaXQiOjI1LCJvZmZzZXQiOjAsInNvcnQiOiIiLCJzb3J0VHlwZSI6IiIsImNsZWFyUGFyYW1zIjpmYWxzZSwia2V5d29yZCI6IiIsInBhZ2VUaXRsZSI6Imw6UHVlcnRvIFJpY28sIFUuUy5BLiIsInByYWN0aWNlQXJlYXMiOlsiU29jaWFsIFNlY3VyaXR5Il19\n",
      "https://www.martindale.com/attorney/ms-lilli-w-marder-esq-799259/\n"
     ]
    },
    {
     "name": "stderr",
     "output_type": "stream",
     "text": [
      " 97%|█████████▋| 88/91 [36:58<01:11, 23.75s/it]"
     ]
    },
    {
     "name": "stdout",
     "output_type": "stream",
     "text": [
      "paginas en esta url: 1\n",
      "accediendo a: https://www.martindale.com/search/attorneys-law-firms-articles/?term=Puerto+Rico%2C+USA&params=eyJ0eXBlIjoicGVvcGxlIiwiY29tcGFyZSI6IiIsInRlcm0iOiJQdWVydG8gUmljbywgVVNBIiwiZ2VvTG9jYXRpb25GYWNldCI6WyJQdWVydG8gUmljbywgVS5TLkEuIl0sImdlb0xvY2F0aW9uRmFjZXRSZWNlbnRzIjpbIlB1ZXJ0byBSaWNvLCBVLlMuQS4iXSwicGFnZSI6MSwibGltaXQiOjI1LCJvZmZzZXQiOjAsInNvcnQiOiIiLCJzb3J0VHlwZSI6IiIsImNsZWFyUGFyYW1zIjpmYWxzZSwia2V5d29yZCI6IiIsInBhZ2VUaXRsZSI6Imw6UHVlcnRvIFJpY28sIFUuUy5BLiIsInByYWN0aWNlQXJlYXMiOlsiUHJpdmFjeSBMYXciXX0%3D\n"
     ]
    },
    {
     "name": "stderr",
     "output_type": "stream",
     "text": [
      " 98%|█████████▊| 89/91 [37:21<00:47, 23.56s/it]"
     ]
    },
    {
     "name": "stdout",
     "output_type": "stream",
     "text": [
      "paginas en esta url: 4\n",
      "accediendo a: https://www.martindale.com/search/attorneys-law-firms-articles/?term=Puerto+Rico%2C+USA&params=eyJ0eXBlIjoicGVvcGxlIiwiY29tcGFyZSI6IiIsInRlcm0iOiJQdWVydG8gUmljbywgVVNBIiwiZ2VvTG9jYXRpb25GYWNldCI6WyJQdWVydG8gUmljbywgVS5TLkEuIl0sImdlb0xvY2F0aW9uRmFjZXRSZWNlbnRzIjpbIlB1ZXJ0byBSaWNvLCBVLlMuQS4iXSwicGFnZSI6MSwibGltaXQiOjI1LCJvZmZzZXQiOjAsInNvcnQiOiIiLCJzb3J0VHlwZSI6IiIsImNsZWFyUGFyYW1zIjpmYWxzZSwia2V5d29yZCI6IiIsInBhZ2VUaXRsZSI6Imw6UHVlcnRvIFJpY28sIFUuUy5BLiIsInByYWN0aWNlQXJlYXMiOlsiSGVhbHRoIENhcmUiXX0%3D\n",
      "https://www.martindale.com/organization/law-offices-of-stephenson-acquisto-colman-27628314/glendale-california-42115634-f/?pa=85\n",
      "https://www.martindale.com/attorney/maria-l-quintana-1573303/\n",
      "accediendo a: https://www.martindale.com/search/attorneys-law-firms-articles/?term=Puerto+Rico%2C+USA&params=eyJ0eXBlIjoicGVvcGxlIiwiY29tcGFyZSI6IiIsInRlcm0iOiJQdWVydG8gUmljbywgVVNBIiwiZ2VvTG9jYXRpb25GYWNldCI6WyJQdWVydG8gUmljbywgVS5TLkEuIl0sImdlb0xvY2F0aW9uRmFjZXRSZWNlbnRzIjpbIlB1ZXJ0byBSaWNvLCBVLlMuQS4iXSwicGFnZSI6MSwibGltaXQiOjI1LCJvZmZzZXQiOjAsInNvcnQiOiIiLCJzb3J0VHlwZSI6IiIsImNsZWFyUGFyYW1zIjpmYWxzZSwia2V5d29yZCI6IiIsInBhZ2VUaXRsZSI6Imw6UHVlcnRvIFJpY28sIFUuUy5BLiIsInByYWN0aWNlQXJlYXMiOlsiSGVhbHRoIENhcmUiXX0%3D&page=2\n",
      "accediendo a: https://www.martindale.com/search/attorneys-law-firms-articles/?term=Puerto+Rico%2C+USA&params=eyJ0eXBlIjoicGVvcGxlIiwiY29tcGFyZSI6IiIsInRlcm0iOiJQdWVydG8gUmljbywgVVNBIiwiZ2VvTG9jYXRpb25GYWNldCI6WyJQdWVydG8gUmljbywgVS5TLkEuIl0sImdlb0xvY2F0aW9uRmFjZXRSZWNlbnRzIjpbIlB1ZXJ0byBSaWNvLCBVLlMuQS4iXSwicGFnZSI6MSwibGltaXQiOjI1LCJvZmZzZXQiOjAsInNvcnQiOiIiLCJzb3J0VHlwZSI6IiIsImNsZWFyUGFyYW1zIjpmYWxzZSwia2V5d29yZCI6IiIsInBhZ2VUaXRsZSI6Imw6UHVlcnRvIFJpY28sIFUuUy5BLiIsInByYWN0aWNlQXJlYXMiOlsiSGVhbHRoIENhcmUiXX0%3D&page=3\n",
      "accediendo a: https://www.martindale.com/search/attorneys-law-firms-articles/?term=Puerto+Rico%2C+USA&params=eyJ0eXBlIjoicGVvcGxlIiwiY29tcGFyZSI6IiIsInRlcm0iOiJQdWVydG8gUmljbywgVVNBIiwiZ2VvTG9jYXRpb25GYWNldCI6WyJQdWVydG8gUmljbywgVS5TLkEuIl0sImdlb0xvY2F0aW9uRmFjZXRSZWNlbnRzIjpbIlB1ZXJ0byBSaWNvLCBVLlMuQS4iXSwicGFnZSI6MSwibGltaXQiOjI1LCJvZmZzZXQiOjAsInNvcnQiOiIiLCJzb3J0VHlwZSI6IiIsImNsZWFyUGFyYW1zIjpmYWxzZSwia2V5d29yZCI6IiIsInBhZ2VUaXRsZSI6Imw6UHVlcnRvIFJpY28sIFUuUy5BLiIsInByYWN0aWNlQXJlYXMiOlsiSGVhbHRoIENhcmUiXX0%3D&page=4\n",
      "https://www.martindale.com/attorney/jarett-blaike-iliff-168913294/\n"
     ]
    },
    {
     "name": "stderr",
     "output_type": "stream",
     "text": [
      " 99%|█████████▉| 90/91 [37:36<00:20, 20.89s/it]"
     ]
    },
    {
     "name": "stdout",
     "output_type": "stream",
     "text": [
      "paginas en esta url: 17\n",
      "accediendo a: https://www.martindale.com/search/attorneys-law-firms-articles/?term=Puerto+Rico%2C+USA&params=eyJ0eXBlIjoicGVvcGxlIiwiY29tcGFyZSI6IiIsInRlcm0iOiJQdWVydG8gUmljbywgVVNBIiwiZ2VvTG9jYXRpb25GYWNldCI6WyJQdWVydG8gUmljbywgVS5TLkEuIl0sImdlb0xvY2F0aW9uRmFjZXRSZWNlbnRzIjpbIlB1ZXJ0byBSaWNvLCBVLlMuQS4iXSwicGFnZSI6MSwibGltaXQiOjI1LCJvZmZzZXQiOjAsInNvcnQiOiIiLCJzb3J0VHlwZSI6IiIsImNsZWFyUGFyYW1zIjpmYWxzZSwia2V5d29yZCI6IiIsInBhZ2VUaXRsZSI6Imw6UHVlcnRvIFJpY28sIFUuUy5BLiIsInByYWN0aWNlQXJlYXMiOlsiQ2l2aWwgTGl0aWdhdGlvbiJdfQ%3D%3D\n",
      "accediendo a: https://www.martindale.com/search/attorneys-law-firms-articles/?term=Puerto+Rico%2C+USA&params=eyJ0eXBlIjoicGVvcGxlIiwiY29tcGFyZSI6IiIsInRlcm0iOiJQdWVydG8gUmljbywgVVNBIiwiZ2VvTG9jYXRpb25GYWNldCI6WyJQdWVydG8gUmljbywgVS5TLkEuIl0sImdlb0xvY2F0aW9uRmFjZXRSZWNlbnRzIjpbIlB1ZXJ0byBSaWNvLCBVLlMuQS4iXSwicGFnZSI6MSwibGltaXQiOjI1LCJvZmZzZXQiOjAsInNvcnQiOiIiLCJzb3J0VHlwZSI6IiIsImNsZWFyUGFyYW1zIjpmYWxzZSwia2V5d29yZCI6IiIsInBhZ2VUaXRsZSI6Imw6UHVlcnRvIFJpY28sIFUuUy5BLiIsInByYWN0aWNlQXJlYXMiOlsiQ2l2aWwgTGl0aWdhdGlvbiJdfQ%3D%3D&page=2\n",
      "accediendo a: https://www.martindale.com/search/attorneys-law-firms-articles/?term=Puerto+Rico%2C+USA&params=eyJ0eXBlIjoicGVvcGxlIiwiY29tcGFyZSI6IiIsInRlcm0iOiJQdWVydG8gUmljbywgVVNBIiwiZ2VvTG9jYXRpb25GYWNldCI6WyJQdWVydG8gUmljbywgVS5TLkEuIl0sImdlb0xvY2F0aW9uRmFjZXRSZWNlbnRzIjpbIlB1ZXJ0byBSaWNvLCBVLlMuQS4iXSwicGFnZSI6MSwibGltaXQiOjI1LCJvZmZzZXQiOjAsInNvcnQiOiIiLCJzb3J0VHlwZSI6IiIsImNsZWFyUGFyYW1zIjpmYWxzZSwia2V5d29yZCI6IiIsInBhZ2VUaXRsZSI6Imw6UHVlcnRvIFJpY28sIFUuUy5BLiIsInByYWN0aWNlQXJlYXMiOlsiQ2l2aWwgTGl0aWdhdGlvbiJdfQ%3D%3D&page=3\n",
      "accediendo a: https://www.martindale.com/search/attorneys-law-firms-articles/?term=Puerto+Rico%2C+USA&params=eyJ0eXBlIjoicGVvcGxlIiwiY29tcGFyZSI6IiIsInRlcm0iOiJQdWVydG8gUmljbywgVVNBIiwiZ2VvTG9jYXRpb25GYWNldCI6WyJQdWVydG8gUmljbywgVS5TLkEuIl0sImdlb0xvY2F0aW9uRmFjZXRSZWNlbnRzIjpbIlB1ZXJ0byBSaWNvLCBVLlMuQS4iXSwicGFnZSI6MSwibGltaXQiOjI1LCJvZmZzZXQiOjAsInNvcnQiOiIiLCJzb3J0VHlwZSI6IiIsImNsZWFyUGFyYW1zIjpmYWxzZSwia2V5d29yZCI6IiIsInBhZ2VUaXRsZSI6Imw6UHVlcnRvIFJpY28sIFUuUy5BLiIsInByYWN0aWNlQXJlYXMiOlsiQ2l2aWwgTGl0aWdhdGlvbiJdfQ%3D%3D&page=4\n",
      "accediendo a: https://www.martindale.com/search/attorneys-law-firms-articles/?term=Puerto+Rico%2C+USA&params=eyJ0eXBlIjoicGVvcGxlIiwiY29tcGFyZSI6IiIsInRlcm0iOiJQdWVydG8gUmljbywgVVNBIiwiZ2VvTG9jYXRpb25GYWNldCI6WyJQdWVydG8gUmljbywgVS5TLkEuIl0sImdlb0xvY2F0aW9uRmFjZXRSZWNlbnRzIjpbIlB1ZXJ0byBSaWNvLCBVLlMuQS4iXSwicGFnZSI6MSwibGltaXQiOjI1LCJvZmZzZXQiOjAsInNvcnQiOiIiLCJzb3J0VHlwZSI6IiIsImNsZWFyUGFyYW1zIjpmYWxzZSwia2V5d29yZCI6IiIsInBhZ2VUaXRsZSI6Imw6UHVlcnRvIFJpY28sIFUuUy5BLiIsInByYWN0aWNlQXJlYXMiOlsiQ2l2aWwgTGl0aWdhdGlvbiJdfQ%3D%3D&page=5\n",
      "accediendo a: https://www.martindale.com/search/attorneys-law-firms-articles/?term=Puerto+Rico%2C+USA&params=eyJ0eXBlIjoicGVvcGxlIiwiY29tcGFyZSI6IiIsInRlcm0iOiJQdWVydG8gUmljbywgVVNBIiwiZ2VvTG9jYXRpb25GYWNldCI6WyJQdWVydG8gUmljbywgVS5TLkEuIl0sImdlb0xvY2F0aW9uRmFjZXRSZWNlbnRzIjpbIlB1ZXJ0byBSaWNvLCBVLlMuQS4iXSwicGFnZSI6MSwibGltaXQiOjI1LCJvZmZzZXQiOjAsInNvcnQiOiIiLCJzb3J0VHlwZSI6IiIsImNsZWFyUGFyYW1zIjpmYWxzZSwia2V5d29yZCI6IiIsInBhZ2VUaXRsZSI6Imw6UHVlcnRvIFJpY28sIFUuUy5BLiIsInByYWN0aWNlQXJlYXMiOlsiQ2l2aWwgTGl0aWdhdGlvbiJdfQ%3D%3D&page=6\n",
      "accediendo a: https://www.martindale.com/search/attorneys-law-firms-articles/?term=Puerto+Rico%2C+USA&params=eyJ0eXBlIjoicGVvcGxlIiwiY29tcGFyZSI6IiIsInRlcm0iOiJQdWVydG8gUmljbywgVVNBIiwiZ2VvTG9jYXRpb25GYWNldCI6WyJQdWVydG8gUmljbywgVS5TLkEuIl0sImdlb0xvY2F0aW9uRmFjZXRSZWNlbnRzIjpbIlB1ZXJ0byBSaWNvLCBVLlMuQS4iXSwicGFnZSI6MSwibGltaXQiOjI1LCJvZmZzZXQiOjAsInNvcnQiOiIiLCJzb3J0VHlwZSI6IiIsImNsZWFyUGFyYW1zIjpmYWxzZSwia2V5d29yZCI6IiIsInBhZ2VUaXRsZSI6Imw6UHVlcnRvIFJpY28sIFUuUy5BLiIsInByYWN0aWNlQXJlYXMiOlsiQ2l2aWwgTGl0aWdhdGlvbiJdfQ%3D%3D&page=7\n",
      "accediendo a: https://www.martindale.com/search/attorneys-law-firms-articles/?term=Puerto+Rico%2C+USA&params=eyJ0eXBlIjoicGVvcGxlIiwiY29tcGFyZSI6IiIsInRlcm0iOiJQdWVydG8gUmljbywgVVNBIiwiZ2VvTG9jYXRpb25GYWNldCI6WyJQdWVydG8gUmljbywgVS5TLkEuIl0sImdlb0xvY2F0aW9uRmFjZXRSZWNlbnRzIjpbIlB1ZXJ0byBSaWNvLCBVLlMuQS4iXSwicGFnZSI6MSwibGltaXQiOjI1LCJvZmZzZXQiOjAsInNvcnQiOiIiLCJzb3J0VHlwZSI6IiIsImNsZWFyUGFyYW1zIjpmYWxzZSwia2V5d29yZCI6IiIsInBhZ2VUaXRsZSI6Imw6UHVlcnRvIFJpY28sIFUuUy5BLiIsInByYWN0aWNlQXJlYXMiOlsiQ2l2aWwgTGl0aWdhdGlvbiJdfQ%3D%3D&page=8\n",
      "accediendo a: https://www.martindale.com/search/attorneys-law-firms-articles/?term=Puerto+Rico%2C+USA&params=eyJ0eXBlIjoicGVvcGxlIiwiY29tcGFyZSI6IiIsInRlcm0iOiJQdWVydG8gUmljbywgVVNBIiwiZ2VvTG9jYXRpb25GYWNldCI6WyJQdWVydG8gUmljbywgVS5TLkEuIl0sImdlb0xvY2F0aW9uRmFjZXRSZWNlbnRzIjpbIlB1ZXJ0byBSaWNvLCBVLlMuQS4iXSwicGFnZSI6MSwibGltaXQiOjI1LCJvZmZzZXQiOjAsInNvcnQiOiIiLCJzb3J0VHlwZSI6IiIsImNsZWFyUGFyYW1zIjpmYWxzZSwia2V5d29yZCI6IiIsInBhZ2VUaXRsZSI6Imw6UHVlcnRvIFJpY28sIFUuUy5BLiIsInByYWN0aWNlQXJlYXMiOlsiQ2l2aWwgTGl0aWdhdGlvbiJdfQ%3D%3D&page=9\n",
      "accediendo a: https://www.martindale.com/search/attorneys-law-firms-articles/?term=Puerto+Rico%2C+USA&params=eyJ0eXBlIjoicGVvcGxlIiwiY29tcGFyZSI6IiIsInRlcm0iOiJQdWVydG8gUmljbywgVVNBIiwiZ2VvTG9jYXRpb25GYWNldCI6WyJQdWVydG8gUmljbywgVS5TLkEuIl0sImdlb0xvY2F0aW9uRmFjZXRSZWNlbnRzIjpbIlB1ZXJ0byBSaWNvLCBVLlMuQS4iXSwicGFnZSI6MSwibGltaXQiOjI1LCJvZmZzZXQiOjAsInNvcnQiOiIiLCJzb3J0VHlwZSI6IiIsImNsZWFyUGFyYW1zIjpmYWxzZSwia2V5d29yZCI6IiIsInBhZ2VUaXRsZSI6Imw6UHVlcnRvIFJpY28sIFUuUy5BLiIsInByYWN0aWNlQXJlYXMiOlsiQ2l2aWwgTGl0aWdhdGlvbiJdfQ%3D%3D&page=10\n",
      "accediendo a: https://www.martindale.com/search/attorneys-law-firms-articles/?term=Puerto+Rico%2C+USA&params=eyJ0eXBlIjoicGVvcGxlIiwiY29tcGFyZSI6IiIsInRlcm0iOiJQdWVydG8gUmljbywgVVNBIiwiZ2VvTG9jYXRpb25GYWNldCI6WyJQdWVydG8gUmljbywgVS5TLkEuIl0sImdlb0xvY2F0aW9uRmFjZXRSZWNlbnRzIjpbIlB1ZXJ0byBSaWNvLCBVLlMuQS4iXSwicGFnZSI6MSwibGltaXQiOjI1LCJvZmZzZXQiOjAsInNvcnQiOiIiLCJzb3J0VHlwZSI6IiIsImNsZWFyUGFyYW1zIjpmYWxzZSwia2V5d29yZCI6IiIsInBhZ2VUaXRsZSI6Imw6UHVlcnRvIFJpY28sIFUuUy5BLiIsInByYWN0aWNlQXJlYXMiOlsiQ2l2aWwgTGl0aWdhdGlvbiJdfQ%3D%3D&page=11\n",
      "accediendo a: https://www.martindale.com/search/attorneys-law-firms-articles/?term=Puerto+Rico%2C+USA&params=eyJ0eXBlIjoicGVvcGxlIiwiY29tcGFyZSI6IiIsInRlcm0iOiJQdWVydG8gUmljbywgVVNBIiwiZ2VvTG9jYXRpb25GYWNldCI6WyJQdWVydG8gUmljbywgVS5TLkEuIl0sImdlb0xvY2F0aW9uRmFjZXRSZWNlbnRzIjpbIlB1ZXJ0byBSaWNvLCBVLlMuQS4iXSwicGFnZSI6MSwibGltaXQiOjI1LCJvZmZzZXQiOjAsInNvcnQiOiIiLCJzb3J0VHlwZSI6IiIsImNsZWFyUGFyYW1zIjpmYWxzZSwia2V5d29yZCI6IiIsInBhZ2VUaXRsZSI6Imw6UHVlcnRvIFJpY28sIFUuUy5BLiIsInByYWN0aWNlQXJlYXMiOlsiQ2l2aWwgTGl0aWdhdGlvbiJdfQ%3D%3D&page=12\n",
      "accediendo a: https://www.martindale.com/search/attorneys-law-firms-articles/?term=Puerto+Rico%2C+USA&params=eyJ0eXBlIjoicGVvcGxlIiwiY29tcGFyZSI6IiIsInRlcm0iOiJQdWVydG8gUmljbywgVVNBIiwiZ2VvTG9jYXRpb25GYWNldCI6WyJQdWVydG8gUmljbywgVS5TLkEuIl0sImdlb0xvY2F0aW9uRmFjZXRSZWNlbnRzIjpbIlB1ZXJ0byBSaWNvLCBVLlMuQS4iXSwicGFnZSI6MSwibGltaXQiOjI1LCJvZmZzZXQiOjAsInNvcnQiOiIiLCJzb3J0VHlwZSI6IiIsImNsZWFyUGFyYW1zIjpmYWxzZSwia2V5d29yZCI6IiIsInBhZ2VUaXRsZSI6Imw6UHVlcnRvIFJpY28sIFUuUy5BLiIsInByYWN0aWNlQXJlYXMiOlsiQ2l2aWwgTGl0aWdhdGlvbiJdfQ%3D%3D&page=13\n",
      "accediendo a: https://www.martindale.com/search/attorneys-law-firms-articles/?term=Puerto+Rico%2C+USA&params=eyJ0eXBlIjoicGVvcGxlIiwiY29tcGFyZSI6IiIsInRlcm0iOiJQdWVydG8gUmljbywgVVNBIiwiZ2VvTG9jYXRpb25GYWNldCI6WyJQdWVydG8gUmljbywgVS5TLkEuIl0sImdlb0xvY2F0aW9uRmFjZXRSZWNlbnRzIjpbIlB1ZXJ0byBSaWNvLCBVLlMuQS4iXSwicGFnZSI6MSwibGltaXQiOjI1LCJvZmZzZXQiOjAsInNvcnQiOiIiLCJzb3J0VHlwZSI6IiIsImNsZWFyUGFyYW1zIjpmYWxzZSwia2V5d29yZCI6IiIsInBhZ2VUaXRsZSI6Imw6UHVlcnRvIFJpY28sIFUuUy5BLiIsInByYWN0aWNlQXJlYXMiOlsiQ2l2aWwgTGl0aWdhdGlvbiJdfQ%3D%3D&page=14\n",
      "accediendo a: https://www.martindale.com/search/attorneys-law-firms-articles/?term=Puerto+Rico%2C+USA&params=eyJ0eXBlIjoicGVvcGxlIiwiY29tcGFyZSI6IiIsInRlcm0iOiJQdWVydG8gUmljbywgVVNBIiwiZ2VvTG9jYXRpb25GYWNldCI6WyJQdWVydG8gUmljbywgVS5TLkEuIl0sImdlb0xvY2F0aW9uRmFjZXRSZWNlbnRzIjpbIlB1ZXJ0byBSaWNvLCBVLlMuQS4iXSwicGFnZSI6MSwibGltaXQiOjI1LCJvZmZzZXQiOjAsInNvcnQiOiIiLCJzb3J0VHlwZSI6IiIsImNsZWFyUGFyYW1zIjpmYWxzZSwia2V5d29yZCI6IiIsInBhZ2VUaXRsZSI6Imw6UHVlcnRvIFJpY28sIFUuUy5BLiIsInByYWN0aWNlQXJlYXMiOlsiQ2l2aWwgTGl0aWdhdGlvbiJdfQ%3D%3D&page=15\n",
      "accediendo a: https://www.martindale.com/search/attorneys-law-firms-articles/?term=Puerto+Rico%2C+USA&params=eyJ0eXBlIjoicGVvcGxlIiwiY29tcGFyZSI6IiIsInRlcm0iOiJQdWVydG8gUmljbywgVVNBIiwiZ2VvTG9jYXRpb25GYWNldCI6WyJQdWVydG8gUmljbywgVS5TLkEuIl0sImdlb0xvY2F0aW9uRmFjZXRSZWNlbnRzIjpbIlB1ZXJ0byBSaWNvLCBVLlMuQS4iXSwicGFnZSI6MSwibGltaXQiOjI1LCJvZmZzZXQiOjAsInNvcnQiOiIiLCJzb3J0VHlwZSI6IiIsImNsZWFyUGFyYW1zIjpmYWxzZSwia2V5d29yZCI6IiIsInBhZ2VUaXRsZSI6Imw6UHVlcnRvIFJpY28sIFUuUy5BLiIsInByYWN0aWNlQXJlYXMiOlsiQ2l2aWwgTGl0aWdhdGlvbiJdfQ%3D%3D&page=16\n",
      "accediendo a: https://www.martindale.com/search/attorneys-law-firms-articles/?term=Puerto+Rico%2C+USA&params=eyJ0eXBlIjoicGVvcGxlIiwiY29tcGFyZSI6IiIsInRlcm0iOiJQdWVydG8gUmljbywgVVNBIiwiZ2VvTG9jYXRpb25GYWNldCI6WyJQdWVydG8gUmljbywgVS5TLkEuIl0sImdlb0xvY2F0aW9uRmFjZXRSZWNlbnRzIjpbIlB1ZXJ0byBSaWNvLCBVLlMuQS4iXSwicGFnZSI6MSwibGltaXQiOjI1LCJvZmZzZXQiOjAsInNvcnQiOiIiLCJzb3J0VHlwZSI6IiIsImNsZWFyUGFyYW1zIjpmYWxzZSwia2V5d29yZCI6IiIsInBhZ2VUaXRsZSI6Imw6UHVlcnRvIFJpY28sIFUuUy5BLiIsInByYWN0aWNlQXJlYXMiOlsiQ2l2aWwgTGl0aWdhdGlvbiJdfQ%3D%3D&page=17\n"
     ]
    },
    {
     "name": "stderr",
     "output_type": "stream",
     "text": [
      "100%|██████████| 91/91 [38:12<00:00, 25.19s/it]"
     ]
    },
    {
     "name": "stdout",
     "output_type": "stream",
     "text": [
      "2473\n"
     ]
    },
    {
     "name": "stderr",
     "output_type": "stream",
     "text": [
      "\n"
     ]
    }
   ],
   "source": [
    "### Extracción multiples urls abogados aplicando filtros con set de \"practice area\" que si funcionan generan sugerencias en el buscador\n",
    "\n",
    "# clean va a ser una lista de practice area que ya paso por un proceso de filtrado. \n",
    "#url_base = 'https://www.martindale.com/search/attorneys/?term=Puerto%20Rico%2C%20USA' #Va a cambiar mas adelante\n",
    "url_base = 'https://www.martindale.com/search/attorneys-law-firms-articles/?term=Puerto%20Rico%2C%20USA&loc=1'\n",
    "try:\n",
    "    for area in tqdm.tqdm(clean[66:]):\n",
    "        ### configuración del webdriver\n",
    "        driver = setup_driver(headless=True)\n",
    "        wait = WebDriverWait(driver, 25)\n",
    "        driver.get(url_base)\n",
    "        simulate_human_behavior(0.5,3,verbose=False)\n",
    "\n",
    "        ### Elementos clickeables y request\n",
    "        # Ubicar barra de busqueda \"Filters - Practice Areas\"\n",
    "        wait.until(\n",
    "                    EC.presence_of_element_located((By.XPATH, '//*[@id=\"filtersContainer\"]'))) \n",
    "        wait.until(EC.element_to_be_clickable((By.XPATH, '//*[@id=\"practiceAreas\"]')))\n",
    "        searchBar = driver.find_element(By.ID, 'practiceAreas')\n",
    "        searchBar.clear()\n",
    "        \n",
    "        # Envio de texto \"practice area\" para aplicar filtro y tener nuevos resultados\n",
    "        searchBar.send_keys(area)\n",
    "        simulate_human_behavior(1,2,verbose=False)\n",
    "        suggestion = wait.until(EC.visibility_of_element_located(\n",
    "            (By.CSS_SELECTOR, \"ul.ui-autocomplete li.ui-menu-item div.ui-menu-item-wrapper\")))\n",
    "\n",
    "        # Busqueda de practice area - Si hay una sugerencia, se da click. \n",
    "        suggestion.click() # ----> Entra a nueva pagina con filtro.\n",
    "        simulate_human_behavior(1,2,verbose=False) \n",
    "        current_url = driver.current_url # Actualizar la url para obtener N° de paginas y urls de paginas\n",
    "        \n",
    "        # links y N° de paginas una vez aplicado el filtro practice area\n",
    "        urls = generate_paginated_urls(current_url, driver,verbose=True)\n",
    "        for url in urls:\n",
    "            print(f\"accediendo a: {url}\")\n",
    "            urls_per_page = crawler(url,driver,verbose=False)\n",
    "            if len(urls_per_page) == 0:\n",
    "                urls_per_page = crawler(url,driver,verbose=False)\n",
    "                time.sleep(2)\n",
    "            if len(urls_per_page) > 1:\n",
    "                for link in urls_per_page:\n",
    "                    if not link in urls_per_filter:\n",
    "                        urls_per_filter.append(link)\n",
    "                        print(link)\n",
    "                    else: \n",
    "                        pass\n",
    "                # La lista urls_per_filter ya tiene 500 valores debido a la primera iteración del proceso. \n",
    "                # despues de cada filtro, hay links repetidos, se intenta que no hayan duplicados y sea la lista total por estado. \n",
    "        driver.quit()\n",
    "except TimeoutException:\n",
    "    print(\"Loading took too much time!\")\n",
    "    driver.quit()\n",
    "except Exception as e:\n",
    "    print(f\"Failed to load page due to error: {e}\")\n",
    "    driver.quit()\n",
    "driver.quit()\n",
    "print(len(urls_per_filter))\n"
   ]
  },
  {
   "cell_type": "code",
   "execution_count": 281,
   "id": "40f55bf0",
   "metadata": {},
   "outputs": [],
   "source": [
    "with open(\"urls_region_PR.pkl\", \"wb\") as f:\n",
    "    pickle.dump(urls_per_filter, f)"
   ]
  },
  {
   "cell_type": "code",
   "execution_count": null,
   "id": "437a9d43",
   "metadata": {},
   "outputs": [],
   "source": [
    "### Prueba scrapper 1 url\n",
    "#url = \"https://www.martindale.com/attorney/carlos-villegas-del-valle-301593670/#officeLocation\"\n",
    "#url = \"https://www.martindale.com/attorney/rafael-g-rivera-rosario-1572639/\"\n",
    "url = \"https://www.martindale.com/attorney/jairo-jay-mellado-villarreal-1572914/\"\n",
    "\n",
    "resultados = []\n",
    "count = 1\n",
    "driver = setup_driver()\n",
    "wait = WebDriverWait(driver, 15)\n",
    "info_attorney = {}\n",
    "inicio = time.time()\n",
    "for i in range(1):\n",
    "    try:\n",
    "        html = get_html(driver,url)\n",
    "        soup = BeautifulSoup(html, 'html.parser')\n",
    "        \n",
    "        profile_content = soup.select_one('div.attorney-profile-content.profile-content')\n",
    "        if not profile_content:\n",
    "            print(f\"Perfil no encontrado para {url}\")\n",
    "            pass\n",
    "\n",
    "        # Obtencion de elementos princiaples de cada pagina\n",
    "        attorney_card = profile_content.select_one(\".masthead-content\")\n",
    "        firm = attorney_card.find(\"span\").get_text()\n",
    "        url_martindale_firm = attorney_card.find(\"a\")[\"href\"]\n",
    "\n",
    "        # En caso de que no haya un link de firma, el primer link sera la caja de rewiew que redirige a la misma pagina, por eso el #\n",
    "        if \"#\" in url_martindale_firm:\n",
    "            url_martindale_firm = None\n",
    "\n",
    "        # Estructura del diccionario\n",
    "        info_attorney[\"url_martindale\"] = url #URL interna de martindale para cada abogado\n",
    "        info_attorney[\"name\"] = profile_content.find('h1').get_text(strip=True) #Nombre del abogado\n",
    "        info_attorney[\"firm\"] = firm\n",
    "        info_attorney[\"url_firm_martindale\"] = url_martindale_firm\n",
    "\n",
    "        # Busqueda de la sección de links de contacto, no todas las paginas tienen esta sección. por eso se usa try/except \n",
    "        try: \n",
    "            web_bar = profile_content.select_one(\"section.sticky-menu-all:nth-child(2) > nav:nth-child(1)\")\n",
    "            website_firm = web_bar.select('a')[1][\"href\"]\n",
    "            info_attorney[\"website_firm\"] = website_firm if website_firm else None\n",
    "        except Exception as e:\n",
    "            #print(f\"Error al extraer website: {e}\")\n",
    "            info_attorney[\"website\"] = \"\"\n",
    "\n",
    "        #Extraccion de los tags relevantes de cada pagina\n",
    "        main_content_table = soup.find_all(\"div\", class_=\"small-12 columns\")[0]\n",
    "        for section_div in main_content_table.find_all(\"div\", recursive=False):\n",
    "            content_div = section_div.find(\"div\", class_=\"toggle-area__content\")\n",
    "            h2_key = section_div.find(\"h2\") #Titulo de sección por separado\n",
    "            if h2_key and content_div:\n",
    "                h2_key = h2_key.get_text(strip=True)\n",
    "                if \"Areas of Practice\" in h2_key:\n",
    "                    h2_key = \"Areas of Practice\"\n",
    "                print(h2_key)\n",
    "                info_attorney[h2_key] = \"\" #inicializar keys que se encuentran\n",
    "\n",
    "                # Biography and practice areas \n",
    "                child_text = content_div.find('div', class_='truncate-text')\n",
    "                if child_text:\n",
    "                    info_attorney[h2_key] = child_text.get_text(strip=True)\n",
    "                Aoe_area = content_div.find('div', class_='row collapse')\n",
    "                if Aoe_area:\n",
    "                    ul_info = Aoe_area.find('ul')\n",
    "                    if ul_info:\n",
    "                        items = [li.get_text(strip=True) for li in ul_info.find_all('li')]\n",
    "                        info_attorney[h2_key] = ', '.join(items)\n",
    "\n",
    "                # Education and credentials\n",
    "                EnC_area = content_div.find_all(\n",
    "                    lambda tag: tag.name == 'div' and \n",
    "                    all(cls in tag.get('class', []) for cls in ['row', 'collapse', 'experience-section', 'clearfix'])\n",
    "                )\n",
    "                for text in EnC_area:\n",
    "                    text_info = text.get_text(strip=True)\n",
    "                    for line in text_info.split('\\n'):\n",
    "                        if ':' in line:\n",
    "                            k, v = map(str.strip, line.split(\":\", 1))\n",
    "                            info_attorney[k] = v\n",
    "                        else:\n",
    "                            info_attorney[h2_key] = line.strip()\n",
    "                \n",
    "                # Peer rewiew - Pendiente\n",
    "                PrA_section = content_div.find(\"section\", class_=\"profile-peer-reviews\")\n",
    "                if PrA_section: \n",
    "                    rewiew_area = PrA_section.find('div', class_=\"review-top review-top-peer-reviews\")\n",
    "                    rewiew_list = PrA_section.find('div', class_=\"attorney-reviews-list attorney-peer-reviews-list\")\n",
    "                    if rewiew_area and rewiew_list:\n",
    "                        text_rewiew_area = rewiew_area.find_all('span')[2].get_text().strip().splitlines()\n",
    "                        stars = text_rewiew_area[0].split(\"/\")[0].strip()   \n",
    "                        reviews = text_rewiew_area[1].strip(\"()\").split()[0]\n",
    "                        info_attorney[\"profile_peer_review_star\"] = stars\n",
    "                        info_attorney[\"profile_peer_review_count\"] = reviews\n",
    "                    \n",
    "                # Location\n",
    "                firm_offices = content_div.find('ul', id='firmOffices')\n",
    "                if firm_offices:\n",
    "                    location_items = firm_offices.find_all('div', class_='office-address')\n",
    "                    if location_items:\n",
    "                        info_attorney[\"Location\"] = location_items[0].get_text(strip=True)\n",
    "        if info_attorney:\n",
    "            resultados.append(info_attorney)\n",
    "        count += 1 \n",
    "        driver.quit()\n",
    "        False\n",
    "    except (NoSuchElementException, TimeoutException) as e:\n",
    "        print(f\"Error procesando {url}: {str(e)}\")\n",
    "        driver.quit()\n",
    "    driver.quit()\n",
    "    final = time.time() - inicio\n",
    "    print(f\"Tiempo por iteración: {final}\")\n"
   ]
  },
  {
   "cell_type": "markdown",
   "id": "d16e4571",
   "metadata": {},
   "source": [
    "# Corrida final, extracción de datos lista de urls final con filtros aplicados"
   ]
  },
  {
   "cell_type": "code",
   "execution_count": null,
   "id": "9e8aea39",
   "metadata": {},
   "outputs": [],
   "source": [
    "### carga de listado de urls\n",
    "with open(\"urls_region_PR.pkl\", \"rb\") as f:\n",
    "    urls_total = pickle.load(f) # Carga de lista de diccionarios de abogados de primera iteración, ya la lista no es 0.\n",
    "    # Esta variable va a ser mas general por lo que se va a emplear mas adelante. o asignar a la primera corrida. \n",
    "\n",
    "datos_PR = []\n",
    "datos_parciales = []\n"
   ]
  },
  {
   "cell_type": "code",
   "execution_count": 101,
   "id": "b27be97a",
   "metadata": {},
   "outputs": [
    {
     "data": {
      "text/plain": [
       "2473"
      ]
     },
     "execution_count": 101,
     "metadata": {},
     "output_type": "execute_result"
    }
   ],
   "source": [
    "len(urls_total)"
   ]
  },
  {
   "cell_type": "code",
   "execution_count": 115,
   "id": "47eddd02",
   "metadata": {},
   "outputs": [
    {
     "name": "stdout",
     "output_type": "stream",
     "text": [
      "accediendo a 902: https://www.martindale.com/attorney/john-j-connors-1499939/\n",
      "Failed to load page due to error: list index out of range\n",
      "error en iter 902\n"
     ]
    }
   ],
   "source": [
    "datos_parciales = scrape_abogados(urls_total[902:])\n",
    "#Si falla, revisar en que iteración fue para continuar en la lista de urls_totales\n",
    "# ultima 370\n"
   ]
  },
  {
   "cell_type": "code",
   "execution_count": 116,
   "id": "8b4d7ee2",
   "metadata": {},
   "outputs": [],
   "source": [
    "datos_PR = datos_PR + datos_parciales"
   ]
  },
  {
   "cell_type": "code",
   "execution_count": 117,
   "id": "826040b0",
   "metadata": {},
   "outputs": [
    {
     "data": {
      "text/plain": [
       "900"
      ]
     },
     "execution_count": 117,
     "metadata": {},
     "output_type": "execute_result"
    }
   ],
   "source": [
    "len(datos_PR)"
   ]
  },
  {
   "cell_type": "code",
   "execution_count": null,
   "id": "816c1d50",
   "metadata": {},
   "outputs": [],
   "source": [
    "with open(\"data_attornies.pkl\", \"wb\") as f:\n",
    "    pickle.dump(datos_PR, f) # Almacenamiento de la lista de datos de la primera corrida (ya son los primeros 900) antes de seguir corriendo cargar en datos PR \n",
    "    # Para actualizar la iteración. \n"
   ]
  }
 ],
 "metadata": {
  "kernelspec": {
   "display_name": ".venv",
   "language": "python",
   "name": "python3"
  },
  "language_info": {
   "codemirror_mode": {
    "name": "ipython",
    "version": 3
   },
   "file_extension": ".py",
   "mimetype": "text/x-python",
   "name": "python",
   "nbconvert_exporter": "python",
   "pygments_lexer": "ipython3",
   "version": "3.13.5"
  }
 },
 "nbformat": 4,
 "nbformat_minor": 5
}
