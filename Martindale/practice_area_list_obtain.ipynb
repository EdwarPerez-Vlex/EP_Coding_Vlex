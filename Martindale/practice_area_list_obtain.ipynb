{
 "cells": [
  {
   "cell_type": "markdown",
   "id": "08ed620c",
   "metadata": {},
   "source": [
    "# Librerias"
   ]
  },
  {
   "cell_type": "code",
   "execution_count": 121,
   "id": "e41d27b3",
   "metadata": {},
   "outputs": [],
   "source": [
    "### Import necessary libraries\n",
    "import time\n",
    "import random\n",
    "import tqdm\n",
    "import pandas as pd\n",
    "from bs4 import BeautifulSoup\n",
    "from selenium import webdriver\n",
    "from selenium.webdriver.common.by import By\n",
    "from selenium.common.exceptions import TimeoutException, NoSuchElementException, StaleElementReferenceException, WebDriverException\n",
    "from selenium.webdriver.support.ui import WebDriverWait\n",
    "from selenium.webdriver.support import expected_conditions as EC\n",
    "from selenium.webdriver.firefox.options import Options\n",
    "from selenium.webdriver.firefox.firefox_profile import FirefoxProfile\n",
    "from selenium.webdriver.common.by import By\n",
    "from selenium.webdriver import Firefox\n",
    "from urllib.parse import urlparse, parse_qsl, urlencode, urlunparse\n",
    "import json\n",
    "import pickle\n"
   ]
  },
  {
   "cell_type": "markdown",
   "id": "902073c4",
   "metadata": {},
   "source": [
    "# Funciones para el proyecto"
   ]
  },
  {
   "cell_type": "code",
   "execution_count": 245,
   "id": "2249ef42",
   "metadata": {},
   "outputs": [],
   "source": [
    "def get_random_user_agent():\n",
    "    HEADERS_LIST = [\n",
    "        {\n",
    "            \"User-Agent\": \"Mozilla/5.0 (Windows NT 10.0; Win64; x64) AppleWebKit/537.36 (KHTML, like Gecko) Chrome/123.0.6312.86 Safari/537.36\",\n",
    "            \"Accept\": \"text/html,application/xhtml+xml,application/xml;q=0.9,image/avif,image/webp,/;q=0.8\",\n",
    "            \"Accept-Language\": \"en-US,en;q=0.9\",\n",
    "            \"Referer\": \"https://www.google.com/\",\n",
    "            \"Connection\": \"keep-alive\",\n",
    "            \"Cookie\": \"CONSENT=YES+1; NID=511=exampleSessionId123abc\"\n",
    "        },\n",
    "        {\n",
    "            \"User-Agent\": \"Mozilla/5.0 (Macintosh; Intel Mac OS X 13_5) AppleWebKit/605.1.15 (KHTML, like Gecko) Version/17.3 Safari/605.1.15\",\n",
    "            \"Accept\": \"text/html,application/xhtml+xml,application/xml;q=0.9,/;q=0.8\",\n",
    "            \"Accept-Language\": \"en-US,en;q=0.8\",\n",
    "            \"Referer\": \"https://duckduckgo.com/\",\n",
    "            \"Connection\": \"keep-alive\",\n",
    "            \"Cookie\": \"D=do_not_track; example_cookie_id=macSafariSession987\"\n",
    "        },\n",
    "        {\n",
    "            \"User-Agent\": \"Mozilla/5.0 (X11; Linux x86_64) AppleWebKit/537.36 (KHTML, like Gecko) Chrome/122.0.0.0 Safari/537.36\",\n",
    "            \"Accept\": \"text/html,application/xhtml+xml,application/xml;q=0.9\",\n",
    "            \"Accept-Language\": \"en-GB,en;q=0.8\",\n",
    "            \"Referer\": \"https://www.bing.com/\",\n",
    "            \"Connection\": \"keep-alive\",\n",
    "            \"Cookie\": \"session=linux_session_xyz789; logged_in=true\"\n",
    "        },\n",
    "        {\n",
    "            \"User-Agent\": \"Mozilla/5.0 (iPhone; CPU iPhone OS 17_0 like Mac OS X) AppleWebKit/605.1.15 (KHTML, like Gecko) Version/17.0 Mobile/15E148 Safari/604.1\",\n",
    "            \"Accept\": \"text/html,application/xhtml+xml,application/xml;q=0.9,/;q=0.8\",\n",
    "            \"Accept-Language\": \"en-US,en;q=0.9\",\n",
    "            \"Referer\": \"https://m.facebook.com/\",\n",
    "            \"Connection\": \"keep-alive\",\n",
    "            \"Cookie\": \"fb_locale=en_US; datr=mobileSafariFakeSession123\"\n",
    "        }\n",
    "    ]\n",
    "    return random.choice(HEADERS_LIST)"
   ]
  },
  {
   "cell_type": "code",
   "execution_count": 246,
   "id": "1ebe94b7",
   "metadata": {},
   "outputs": [],
   "source": [
    "def setup_driver(headless=False):\n",
    "    headers = get_random_user_agent()\n",
    "\n",
    "    profile = FirefoxProfile()\n",
    "    profile.set_preference(\"general.useragent.override\", headers[\"User-Agent\"])\n",
    "    profile.set_preference(\"intl.accept_languages\", headers[\"Accept-Language\"])\n",
    "\n",
    "    options = Options()\n",
    "    options.profile = profile\n",
    "    if headless:\n",
    "        options.add_argument(\"--headless\")\n",
    "\n",
    "    driver = Firefox(options=options)\n",
    "    driver.set_page_load_timeout(10)\n",
    "    \n",
    "    # Navegar desde un referer simulado\n",
    "    driver.execute_script(f\"window.location.href = '{headers['Referer']}';\")\n",
    "\n",
    "    return driver"
   ]
  },
  {
   "cell_type": "code",
   "execution_count": 247,
   "id": "fc9fc519",
   "metadata": {},
   "outputs": [],
   "source": [
    "### Sistema anti-bot (comportamiento humano)\n",
    "def simulate_human_behavior(min_delay=1, max_delay=3, verbose=False):\n",
    "    \"\"\"Simula comportamiento humano con sleeps aleatorios.\"\"\"\n",
    "    delay = round(random.uniform(min_delay, max_delay), 2)\n",
    "    if verbose:\n",
    "        print(f\"Esperando {delay}s...\")\n",
    "    time.sleep(delay)\n"
   ]
  },
  {
   "cell_type": "code",
   "execution_count": 248,
   "id": "0ac11d0f",
   "metadata": {},
   "outputs": [],
   "source": [
    "### Obtener lista de practice areas para aplicar filtros\n",
    "def extract_trimmed_set(series):\n",
    "    \"\"\"\n",
    "    Recibe una Serie de pandas con valores separados por comas,\n",
    "    elimina NaN, divide por ',' y devuelve un set de elementos únicos y limpios.\n",
    "    \"\"\"\n",
    "    values = series.dropna().astype(str)\n",
    "    trimmed_set = set()\n",
    "    for val in values:\n",
    "        items = [item.strip() for item in val.split(',')]\n",
    "        trimmed_set.update(items)\n",
    "    return trimmed_set\n"
   ]
  },
  {
   "cell_type": "code",
   "execution_count": 249,
   "id": "709d8267",
   "metadata": {},
   "outputs": [],
   "source": [
    "### Obtener paginas totales por cada busqueda una vez aplicado el filtro \n",
    "def generate_paginated_urls(url,driver,verbose=False):\n",
    "    # Encontrar numero de paginas \n",
    "    try:\n",
    "        WebDriverWait(driver, 15).until(EC.presence_of_element_located((By.CSS_SELECTOR,'ul.right')))\n",
    "        simulate_human_behavior(1,2,verbose=False)\n",
    "        pages_tab = driver.find_element(By.CSS_SELECTOR,'ul.right')       \n",
    "        if pages_tab:\n",
    "            pages = pages_tab.find_elements(By.TAG_NAME,\"li\")\n",
    "            pages = pages[1].text\n",
    "            pages = int(pages.split()[-1])\n",
    "    except Exception as e: \n",
    "        #print(f\"Solo hay una pagina\")\n",
    "        pages = 1\n",
    "\n",
    "    #print(f\"total pages:{pages}\")\n",
    "    if verbose:\n",
    "        print(f\"paginas en esta url: {pages}\")\n",
    "    parsed = urlparse(url)\n",
    "    query_list = parse_qsl(parsed.query)  # esto mantiene el orden de los parámetros\n",
    "\n",
    "    urls = []\n",
    "    for i in range(1, pages + 1):\n",
    "        # Creamos una nueva lista sin el parámetro page\n",
    "        new_query = [(k, v) for (k, v) in query_list if k != \"page\"]\n",
    "        # Si no es la primera página, agregamos page=N\n",
    "        if i != 1:\n",
    "            new_query.append((\"page\", str(i)))\n",
    "        # Reconstruimos la query string manteniendo el orden\n",
    "        new_query_string = urlencode(new_query)\n",
    "        # Reconstruimos la URL\n",
    "        new_url = urlunparse((parsed.scheme, parsed.netloc, parsed.path, '', new_query_string, ''))\n",
    "        urls.append(new_url)\n",
    "\n",
    "    return urls\n"
   ]
  },
  {
   "cell_type": "code",
   "execution_count": 250,
   "id": "c035a9df",
   "metadata": {},
   "outputs": [],
   "source": [
    "### crawler\n",
    "def crawler(url, driver,verbose=False,get_driver=True):   \n",
    "    try:\n",
    "        list_urls = []\n",
    "        urls_unicos = set()  # Usar un set para almacenar URLs únicas\n",
    "        if get_driver:\n",
    "            driver.get(url)\n",
    "        time.sleep(1)\n",
    "        # buscar contenedor con info\n",
    "        WebDriverWait(driver, 25).until(\n",
    "            EC.presence_of_element_located((By.CSS_SELECTOR, '.results__title')))\n",
    "        result_title = driver.find_element(By.CSS_SELECTOR, '.results__title')\n",
    "        if result_title:\n",
    "            WebDriverWait(driver, 25).until(\n",
    "                EC.presence_of_element_located((By.CSS_SELECTOR, '.results__result-row'))) \n",
    "            attorney_table = driver.find_element(By.CSS_SELECTOR, '.results__result-row')\n",
    "            abogados = attorney_table.find_elements(By.XPATH, '(//div[@class=\"row collapse card__content\"])')\n",
    "            if verbose:\n",
    "                print(\"se encontro la tabla de abogados\")\n",
    "                print(len(abogados))\n",
    "                print(abogados[0])\n",
    "\n",
    "            for ul in abogados:\n",
    "                try:\n",
    "                    WebDriverWait(driver, 25).until(EC.presence_of_element_located((By.TAG_NAME, 'ul')))\n",
    "                    enlaces = ul.find_elements(By.TAG_NAME, 'a')\n",
    "                    href_attorney = enlaces[1].get_attribute('href')         # Obtiene el atributo href\n",
    "                    if verbose:\n",
    "                            print(href_attorney)\n",
    "                    if href_attorney not in urls_unicos:\n",
    "                        urls_unicos.add(href_attorney)\n",
    "                        list_urls.append(href_attorney)\n",
    "                except:\n",
    "                    print(\"No se encontró <a> en este <li>\")\n",
    "                    pass\n",
    "        if verbose:\n",
    "            print(driver.current_url)\n",
    "            print(len(list_urls))\n",
    "    except:\n",
    "        print(\"problemas con el crawler\")\n",
    "    return list_urls \n"
   ]
  },
  {
   "cell_type": "code",
   "execution_count": 311,
   "id": "28cb9edb",
   "metadata": {},
   "outputs": [],
   "source": [
    "### función para obtener el HTML\n",
    "def get_html(driver,url,verbose=False):\n",
    "    driver.get(url)\n",
    "    time.sleep(random.uniform(3, 5))\n",
    "    if verbose:\n",
    "        print(f\"accediendo a: {url}\")\n",
    "    WebDriverWait(driver, 15).until(EC.presence_of_element_located(\n",
    "        (By.CSS_SELECTOR, 'body > div.off-canvas-wrap > div > div.attorney-profile-content.profile-content')))\n",
    "    simulate_human_behavior(1, 3, verbose=False)\n",
    "    html = driver.page_source\n",
    "    return html\n"
   ]
  },
  {
   "cell_type": "code",
   "execution_count": 319,
   "id": "8a867ebb",
   "metadata": {},
   "outputs": [],
   "source": [
    "### funcion Scraper pagina por pagina abogados\n",
    "def scrape_abogados(lista_urls):\n",
    "    resultados = []\n",
    "    count = 2442\n",
    "    for url in lista_urls:\n",
    "        driver = setup_driver(headless=True)\n",
    "        info_attorney = {}\n",
    "        try:\n",
    "            print(f\"accediendo a {count}: {url}\")\n",
    "            html = get_html(driver,url)\n",
    "            soup = BeautifulSoup(html, 'html.parser')\n",
    "\n",
    "            profile_content = soup.select_one('div.attorney-profile-content.profile-content')\n",
    "            if not profile_content:\n",
    "                print(f\"Perfil no encontrado para {url}\")\n",
    "                pass\n",
    "\n",
    "            # Obtencion de elementos princiaples de cada pagina\n",
    "            attorney_card = profile_content.select_one(\".masthead-content\")\n",
    "            firm = attorney_card.find(\"span\")\n",
    "            if firm:\n",
    "                firm = firm.get_text(strip=True)\n",
    "            url_martindale_firm = attorney_card.find(\"a\")[\"href\"]\n",
    "\n",
    "            # En caso de que no haya un link de firma, el primer link sera la caja de rewiew que redirige a la misma pagina, por eso el #\n",
    "            if \"#\" in url_martindale_firm:\n",
    "                url_martindale_firm = None\n",
    "\n",
    "            # Estructura del diccionario\n",
    "            info_attorney[\"url_martindale\"] = url #URL interna de martindale para cada abogado\n",
    "            info_attorney[\"name\"] = profile_content.find('h1').get_text(strip=True) #Nombre del abogado\n",
    "            info_attorney[\"firm\"] = firm\n",
    "            info_attorney[\"url_firm_martindale\"] = url_martindale_firm\n",
    "\n",
    "            # Busqueda de la sección de links de contacto, no todas las paginas tienen esta sección. por eso se usa try/except \n",
    "            try: \n",
    "                web_bar = profile_content.select_one(\"section.sticky-menu-all:nth-child(2) > nav:nth-child(1)\")\n",
    "                website_firm = web_bar.select('a')[1][\"href\"]\n",
    "                info_attorney[\"website_firm\"] = website_firm if website_firm else None\n",
    "            except Exception as e:\n",
    "                #print(f\"Error al extraer website: {e}\")\n",
    "                info_attorney[\"website\"] = \"\"\n",
    "\n",
    "            #Extraccion de los tags relevantes de cada pagina\n",
    "            main_content_table = soup.find_all(\"div\", class_=\"small-12 columns\")[0]\n",
    "            for section_div in main_content_table.find_all(\"div\", recursive=False):\n",
    "                content_div = section_div.find(\"div\", class_=\"toggle-area__content\")\n",
    "                h2_key = section_div.find(\"h2\") #Titulo de sección por separado\n",
    "                if h2_key and content_div:\n",
    "                    h2_key = h2_key.get_text(strip=True)\n",
    "                    if \"Areas of Practice\" in h2_key:\n",
    "                        h2_key = \"Areas of Practice\"\n",
    "                    #print(h2_key)\n",
    "                    info_attorney[h2_key] = \"\" #inicializar keys que se encuentran\n",
    "\n",
    "                    # Biography and practice areas \n",
    "                    child_text = content_div.find('div', class_='truncate-text')\n",
    "                    if child_text:\n",
    "                        info_attorney[h2_key] = child_text.get_text(strip=True)\n",
    "                    Aoe_area = content_div.find('div', class_='row collapse')\n",
    "                    if Aoe_area:\n",
    "                        ul_info = Aoe_area.find('ul')\n",
    "                        if ul_info:\n",
    "                            items = [li.get_text(strip=True) for li in ul_info.find_all('li')]\n",
    "                            info_attorney[h2_key] = ', '.join(items)\n",
    "\n",
    "                    # Education and credentials\n",
    "                    EnC_area = content_div.find_all(\n",
    "                        lambda tag: tag.name == 'div' and \n",
    "                        all(cls in tag.get('class', []) for cls in ['row', 'collapse', 'experience-section', 'clearfix'])\n",
    "                    )\n",
    "                    for text in EnC_area:\n",
    "                        text_info = text.get_text(strip=True)\n",
    "                        for line in text_info.split('\\n'):\n",
    "                            if ':' in line:\n",
    "                                k, v = map(str.strip, line.split(\":\", 1))\n",
    "                                info_attorney[k] = v\n",
    "                            else:\n",
    "                                info_attorney[h2_key] = line.strip()\n",
    "\n",
    "                    # Peer rewiew - Pendiente\n",
    "                    PrA_section = content_div.find(\"section\", class_=\"profile-peer-reviews\")\n",
    "                    if PrA_section: \n",
    "                        rewiew_area = PrA_section.find('div', class_=\"review-top review-top-peer-reviews\")\n",
    "                        rewiew_list = PrA_section.find('div', class_=\"attorney-reviews-list attorney-peer-reviews-list\")\n",
    "                        if rewiew_area and rewiew_list:\n",
    "                            text_rewiew_area = rewiew_area.find_all('span')[2].get_text().strip().splitlines()\n",
    "                            if len(text_rewiew_area) == 2:\n",
    "                                stars = text_rewiew_area[0].split(\"/\")[0].strip()\n",
    "                                reviews = text_rewiew_area[1].strip(\"()\").split()[0]\n",
    "                                info_attorney[\"profile_peer_review_star\"] = stars\n",
    "                                info_attorney[\"profile_peer_review_count\"] = reviews\n",
    "                            else:\n",
    "                                stars = text_rewiew_area[0].split(\"/\")[0].strip()\n",
    "                                info_attorney[\"profile_peer_review_star\"] = stars\n",
    "                    # Location\n",
    "                    firm_offices = content_div.find('ul', id='firmOffices')\n",
    "                    if firm_offices:\n",
    "                        location_items = firm_offices.find_all('div', class_='office-address')\n",
    "                        if location_items:\n",
    "                            info_attorney[\"Location\"] = location_items[0].get_text(strip=True)\n",
    "            if info_attorney:\n",
    "                resultados.append(info_attorney)\n",
    "            count += 1 \n",
    "            driver.quit()\n",
    "        except TimeoutException:\n",
    "            print(\"Loading took too much time!\")\n",
    "            print(f\"error en iter {count}\")\n",
    "            driver.quit()\n",
    "            pass\n",
    "            return resultados\n",
    "        except Exception as e:\n",
    "            print(f\"Failed to load page due to error: {e}\")\n",
    "            print(f\"error en iter {count}\")\n",
    "            driver.quit()\n",
    "            return resultados\n",
    "        except NoSuchElementException:\n",
    "            driver.quit()\n",
    "            print(f\"error en iter {count}\")\n",
    "            return resultados\n",
    "        driver.quit()\n",
    "    # Resultado ya es una lista de diccionarios\n",
    "    return resultados\n"
   ]
  },
  {
   "cell_type": "markdown",
   "id": "153d1543",
   "metadata": {},
   "source": [
    "# Obtención lista \"practice areas\""
   ]
  },
  {
   "cell_type": "code",
   "execution_count": 63,
   "id": "34c21ed8",
   "metadata": {},
   "outputs": [],
   "source": [
    "### Generador de strings\n",
    "def generar_permutaciones(min_len=2, max_len=2):\n",
    "    \"\"\"\n",
    "    Genera permutaciones de letras minúsculas desde longitud min_len hasta max_len.\n",
    "    \n",
    "    Por defecto, genera solo combinaciones de 2 caracteres como: aa, ab, ..., zz.\n",
    "    \"\"\"\n",
    "    letras = string.ascii_lowercase  # 'abcdefghijklmnopqrstuvwxyz'\n",
    "    resultados = []\n",
    "    \n",
    "    for longitud in range(min_len, max_len + 1):\n",
    "        for combinacion in itertools.product(letras, repeat=longitud):\n",
    "            resultados.append(''.join(combinacion))\n",
    "    \n",
    "    return resultados"
   ]
  },
  {
   "cell_type": "code",
   "execution_count": 64,
   "id": "016742bf",
   "metadata": {},
   "outputs": [
    {
     "name": "stdout",
     "output_type": "stream",
     "text": [
      "['zq', 'zr', 'zs', 'zt', 'zu', 'zv', 'zw', 'zx', 'zy', 'zz']\n",
      "Total permutaciones de longitud 2: 676\n"
     ]
    }
   ],
   "source": [
    "### llamado de funcion para generar strings \n",
    "perms = generar_permutaciones(2, 2)\n",
    "print(perms[-10:])  # ['aa', 'ab', 'ac', 'ad', 'ae', 'af', 'ag', 'ah', 'ai', 'aj']\n",
    "print(f\"Total permutaciones de longitud 2: {len(perms)}\")  # 26^2 = 676"
   ]
  },
  {
   "cell_type": "code",
   "execution_count": 81,
   "id": "5978e9cd",
   "metadata": {},
   "outputs": [],
   "source": [
    "#all_info = pd.DataFrame() # Data frame para almacenar información\n",
    "url_inicial = 'https://www.martindale.com/search/attorneys-law-firms-articles/?term=Puerto%20Rico%2C%20USA'\n",
    "lista_urls = []\n",
    "urls_per_filter = [] \n",
    "datos_preliminares = []\n"
   ]
  },
  {
   "cell_type": "code",
   "execution_count": 82,
   "id": "1f1b8dc0",
   "metadata": {},
   "outputs": [
    {
     "name": "stdout",
     "output_type": "stream",
     "text": [
      "No Areas Of Practice matching\n",
      "Administrative Law\n",
      "Admiralty and Maritime Law\n",
      "Advertising and Marketing\n",
      "Administrative Hearings and Appeals\n",
      "Adoptions\n",
      "Affirmative Action\n",
      "Affordable Housing\n",
      "Agency and Distributorships\n",
      "Agricultural Law\n",
      "Airplane Crash Litigation\n",
      "Alternative Dispute Resolution\n",
      "Americans with Disabilities Act\n",
      "Antitrust and Trade Regulation\n",
      "Animal Law\n",
      "Appellate Practice\n",
      "Arbitration\n",
      "Architects and Engineers Liability\n",
      "Asset Protection\n",
      "Asylum\n",
      "Asbestos Litigation\n",
      "Assault\n",
      "Automotive Products Liability\n",
      "Automobile Insurance\n",
      "Aviation Law\n",
      "Banking Law\n",
      "Bankruptcy\n",
      "Bankruptcy Chapter 7\n",
      "Bankruptcy Chapter 11\n",
      "Bankruptcy Chapter 13\n",
      "Biotechnology\n",
      "Birth Injuries\n",
      "Boating Accidents\n",
      "Breach of Contract\n",
      "Business Law\n",
      "Business Litigation\n",
      "Business Formation\n",
      "Business Planning\n",
      "Buying and Selling of Businesses\n",
      "\n",
      "Casinos and Gambling\n",
      "Cerebral Palsy\n",
      "Child Custody\n",
      "Child Support\n",
      "Civil Litigation\n",
      "Civil Practice\n",
      "Civil Rights\n",
      "Citizenship\n",
      "Class Actions\n",
      "Closely Held Business Law\n",
      "Commercial Law\n",
      "Corporate Law\n",
      "Commercial Litigation\n",
      "Contracts\n",
      "Construction Law\n",
      "Criminal Law\n",
      "Creditors Rights\n",
      "Cruise Ship Injuries\n",
      "Customs Law\n",
      "Debtor and Creditor\n",
      "Deportation\n",
      "Debt Relief\n",
      "Discrimination\n",
      "Divorce\n",
      "Directors and Officers Liability\n",
      "Domestic Violence\n",
      "Dog Bites\n",
      "Drug Crimes\n",
      "Drug and Medical Device Litigation\n",
      "DUI and DWI\n",
      "Education Law\n",
      "Election, Campaign and Political Law\n",
      "Elder Law\n",
      "Employee Benefits\n",
      "Eminent Domain\n",
      "Employment Contracts\n",
      "Environmental Law\n",
      "Entertainment Law\n",
      "Energy\n",
      "Environmental Permitting\n",
      "Environmental Cleanup\n",
      "Equipment Finance and Leasing\n",
      "Equine Law\n",
      "ERISA\n",
      "Estate Planning\n",
      "Estate Litigation\n",
      "Family Law\n",
      "Family and Medical Leave Act\n",
      "Family Business Law\n",
      "Family Mediation\n",
      "Federal Criminal Law\n",
      "Felonies\n",
      "Finance\n",
      "Fidelity and Surety\n",
      "Financial Services Law\n",
      "Foreclosures\n",
      "Franchises and Franchising\n",
      "Gaming Law\n",
      "General Practice\n",
      "Government\n",
      "Government Contracts\n",
      "Government Relations\n",
      "Government Procurement\n",
      "Green Cards\n",
      "Guardianship and Conservatorship\n",
      "Harassment\n",
      "Health Care\n",
      "Health Insurance\n",
      "Head and Spinal Injuries\n",
      "Hospital Law\n",
      "Hospitality Law\n",
      "Homeowners Association Law\n",
      "Housing Law\n",
      "Human Resources Law\n",
      "Immigration\n",
      "Insurance\n",
      "Intellectual Property\n",
      "Insurance Defense\n",
      "International Law\n",
      "Inheritance\n",
      "Joint Ventures\n",
      "Jones Act\n",
      "Juvenile Law\n",
      "Labor and Employment\n",
      "Landlord and Tenant Law\n",
      "Law Enforcement\n",
      "Leases and Leasing\n",
      "Legislative Practice\n",
      "Legal Ethics and Professional Responsibility\n",
      "Legal Separation\n",
      "Litigation\n",
      "Life and Health Insurance\n",
      "Libel, Slander and Defamation\n",
      "Limited Liability Company Law\n",
      "Living Wills\n",
      "Lobbying\n",
      "Mass Torts\n",
      "Maritime Personal Injury\n",
      "Medical Malpractice\n",
      "Mergers, Acquisitions and Divestitures\n",
      "Mediation\n",
      "Medicare and Medicaid\n",
      "Methamphetamine Crimes\n",
      "Military Law\n",
      "Misdemeanors\n",
      "Mining and Minerals\n",
      "Mortgages\n",
      "Motorcycle Accidents\n",
      "Municipal Law\n",
      "Natural Resources\n",
      "Negligence\n",
      "Nonprofit and Charitable Organizations\n",
      "Nursing Home Litigation\n",
      "Occupational Safety and Health (OSHA)\n",
      "Oil and Gas\n",
      "Patents\n",
      "Partnership Law\n",
      "Paternity\n",
      "Personal Injury\n",
      "Pension and Profit Sharing Plans\n",
      "Powers of Attorney\n",
      "Police Misconduct\n",
      "Products Liability\n",
      "Property Law\n",
      "Professional Liability\n",
      "Premises Liability\n",
      "Privacy Law\n",
      "Public Finance\n",
      "Railroad Accidents\n",
      "Real Estate\n",
      "Resorts and Leisure\n",
      "Regulatory Law\n",
      "Residential Real Estate\n",
      "Religious Institutions\n",
      "RICO\n",
      "School Law\n",
      "Securities\n",
      "Sexual Harassment\n",
      "Securities Fraud\n",
      "Sex Crimes\n",
      "Sexual Abuse\n",
      "Shipping\n",
      "Slip and Fall\n",
      "Small Business Law\n",
      "Social Security\n",
      "Sports Law\n",
      "Spousal Support\n",
      "Strategic Alliances\n",
      "Taxation\n",
      "Tax Planning\n",
      "Tax Audits\n",
      "Telecommunications Law\n",
      "Technology and Science\n",
      "Torts\n",
      "Toxic Torts\n",
      "Trusts and Estates\n",
      "Trademarks\n",
      "Transportation\n",
      "Travel and Tourism\n",
      "Trucking Accidents\n",
      "Unfair Competition\n",
      "Utility Law\n",
      "Venture Capital\n",
      "Visitation Rights\n",
      "Wage and Hour Law\n",
      "Warranty Law\n",
      "Weapons Charges\n",
      "Wetlands\n",
      "White Collar Crime\n",
      "Whistleblower Litigation\n",
      "Wills and Probate\n",
      "Workers Compensation\n",
      "Work Permits\n",
      "Wrongful Death\n",
      "Wrongful Termination\n",
      "Zoning, Planning and Land Use\n"
     ]
    },
    {
     "data": {
      "text/plain": [
       "216"
      ]
     },
     "execution_count": 82,
     "metadata": {},
     "output_type": "execute_result"
    }
   ],
   "source": [
    "### Limpieza set Areas of practice - insumo para nuevo crowler\n",
    "# Esta parte puede ser una función que se aplique antes de entrar a hacer las busquedas \n",
    "\n",
    "practices_areas_compilate = set() # Se crea un set con las posibles opciones\n",
    "len(perms) # Toma el set de todas las posibles practice areas, escritas por abogado\n",
    "url_base = url_inicial ## CAMBIAR MAS ADELANTE\n",
    "driver = setup_driver()\n",
    "wait = WebDriverWait(driver, 15)\n",
    "driver.get(url_base)\n",
    "\n",
    "for area in perms: \n",
    "    wait.until(\n",
    "                EC.presence_of_element_located((By.XPATH, '//*[@id=\"filtersContainer\"]'))) \n",
    "    wait.until(EC.element_to_be_clickable((By.XPATH, '//*[@id=\"practiceAreas\"]')))\n",
    "    #print(\"es clickeable\")\n",
    "    searchBar = driver.find_element(By.ID, 'practiceAreas')\n",
    "    searchBar.clear()\n",
    "    time.sleep(2)\n",
    "    searchBar.send_keys(area)\n",
    "    wait.until(EC.visibility_of_element_located(\n",
    "            (By.CSS_SELECTOR, \"ul.ui-autocomplete li.ui-menu-item div.ui-menu-item-wrapper\")))\n",
    "    suggestions = driver.find_elements(By.CSS_SELECTOR, \"ul.ui-autocomplete li.ui-menu-item div.ui-menu-item-wrapper\")\n",
    "    if suggestions:\n",
    "        for sugestion in suggestions:     \n",
    "            if \"No Areas Of Practice matching\" in sugestion.text:\n",
    "                pass\n",
    "            if sugestion.text not in practices_areas_compilate:\n",
    "                practices_areas_compilate.add(sugestion.text)\n",
    "                print (sugestion.text)\n",
    "    searchBar.clear()\n",
    "\n",
    "len(practices_areas_compilate)\n"
   ]
  },
  {
   "cell_type": "code",
   "execution_count": null,
   "id": "493f2e0a",
   "metadata": {},
   "outputs": [
    {
     "data": {
      "text/plain": [
       "['Contracts',\n",
       " 'Civil Litigation',\n",
       " 'Head and Spinal Injuries',\n",
       " 'Partnership Law',\n",
       " 'Education Law',\n",
       " 'DUI and DWI',\n",
       " 'Shipping',\n",
       " 'Birth Injuries',\n",
       " 'Business Law',\n",
       " 'Drug and Medical Device Litigation',\n",
       " 'General Practice',\n",
       " 'Foreclosures',\n",
       " 'Buying and Selling of Businesses',\n",
       " 'Resorts and Leisure',\n",
       " 'Sports Law',\n",
       " 'Family Mediation',\n",
       " 'RICO',\n",
       " 'Divorce',\n",
       " 'Joint Ventures',\n",
       " 'Utility Law',\n",
       " 'Living Wills',\n",
       " 'Family and Medical Leave Act',\n",
       " 'Religious Institutions',\n",
       " 'Unfair Competition',\n",
       " 'Law Enforcement',\n",
       " 'Discrimination',\n",
       " 'Property Law',\n",
       " 'Government Relations',\n",
       " 'Inheritance',\n",
       " 'Bankruptcy Chapter 13',\n",
       " 'Litigation',\n",
       " 'Insurance',\n",
       " 'Libel, Slander and Defamation',\n",
       " 'Fidelity and Surety',\n",
       " 'Labor and Employment',\n",
       " 'Employment Contracts',\n",
       " 'Americans with Disabilities Act',\n",
       " 'Wetlands',\n",
       " 'Wills and Probate',\n",
       " 'Workers Compensation',\n",
       " 'Limited Liability Company Law',\n",
       " 'Breach of Contract',\n",
       " 'Environmental Law',\n",
       " 'Housing Law',\n",
       " 'Bankruptcy',\n",
       " 'Affirmative Action',\n",
       " 'Railroad Accidents',\n",
       " 'Trucking Accidents',\n",
       " 'Nursing Home Litigation',\n",
       " 'Natural Resources',\n",
       " 'Alternative Dispute Resolution',\n",
       " 'Finance',\n",
       " 'Visitation Rights',\n",
       " 'Residential Real Estate',\n",
       " 'Citizenship',\n",
       " 'Police Misconduct',\n",
       " 'Debtor and Creditor',\n",
       " 'Agricultural Law',\n",
       " 'Mining and Minerals',\n",
       " 'Toxic Torts',\n",
       " 'Customs Law',\n",
       " 'Work Permits',\n",
       " 'Government Contracts',\n",
       " 'Commercial Litigation',\n",
       " 'Juvenile Law',\n",
       " 'Adoptions',\n",
       " 'Warranty Law',\n",
       " 'Cerebral Palsy',\n",
       " 'Bankruptcy Chapter 11',\n",
       " 'Immigration',\n",
       " 'Negligence',\n",
       " 'Environmental Permitting',\n",
       " 'Arbitration',\n",
       " 'Wage and Hour Law',\n",
       " 'International Law',\n",
       " 'Biotechnology',\n",
       " 'Criminal Law',\n",
       " 'Methamphetamine Crimes',\n",
       " 'Taxation',\n",
       " 'Occupational Safety and Health (OSHA)',\n",
       " 'Mergers, Acquisitions and Divestitures',\n",
       " 'Sexual Harassment',\n",
       " 'Estate Litigation',\n",
       " 'ERISA',\n",
       " 'Life and Health Insurance',\n",
       " 'Government',\n",
       " 'Real Estate',\n",
       " 'Tax Audits',\n",
       " 'Child Custody',\n",
       " 'Drug Crimes',\n",
       " 'White Collar Crime',\n",
       " 'Insurance Defense',\n",
       " 'Asbestos Litigation',\n",
       " 'Federal Criminal Law',\n",
       " 'Securities',\n",
       " 'No Areas Of Practice matching',\n",
       " 'Sex Crimes',\n",
       " 'Human Resources Law',\n",
       " 'Wrongful Termination',\n",
       " 'Animal Law',\n",
       " 'Business Planning',\n",
       " 'Election, Campaign and Political Law',\n",
       " 'Equipment Finance and Leasing',\n",
       " 'Privacy Law',\n",
       " 'Whistleblower Litigation',\n",
       " 'School Law',\n",
       " 'Dog Bites',\n",
       " 'Closely Held Business Law',\n",
       " 'Zoning, Planning and Land Use',\n",
       " 'Medical Malpractice',\n",
       " 'Hospitality Law',\n",
       " 'Deportation',\n",
       " 'Torts',\n",
       " 'Mediation',\n",
       " 'Business Formation',\n",
       " 'Franchises and Franchising',\n",
       " 'Affordable Housing',\n",
       " 'Spousal Support',\n",
       " 'Trademarks',\n",
       " 'Entertainment Law',\n",
       " 'Motorcycle Accidents',\n",
       " 'Administrative Law',\n",
       " 'Environmental Cleanup',\n",
       " 'Mass Torts',\n",
       " 'Cruise Ship Injuries',\n",
       " 'Equine Law',\n",
       " 'Business Litigation',\n",
       " 'Airplane Crash Litigation',\n",
       " 'Boating Accidents',\n",
       " 'Energy',\n",
       " 'Aviation Law',\n",
       " 'Harassment',\n",
       " 'Health Care',\n",
       " 'Technology and Science',\n",
       " 'Antitrust and Trade Regulation',\n",
       " 'Commercial Law',\n",
       " 'Slip and Fall',\n",
       " 'Lobbying',\n",
       " 'Military Law',\n",
       " 'Regulatory Law',\n",
       " 'Corporate Law',\n",
       " 'Debt Relief',\n",
       " 'Hospital Law',\n",
       " 'Maritime Personal Injury',\n",
       " 'Mortgages',\n",
       " 'Felonies',\n",
       " 'Pension and Profit Sharing Plans',\n",
       " 'Medicare and Medicaid',\n",
       " 'Powers of Attorney',\n",
       " 'Family Business Law',\n",
       " 'Misdemeanors',\n",
       " 'Homeowners Association Law',\n",
       " 'Child Support',\n",
       " 'Casinos and Gambling',\n",
       " 'Personal Injury',\n",
       " 'Landlord and Tenant Law',\n",
       " 'Small Business Law',\n",
       " 'Banking Law',\n",
       " 'Government Procurement',\n",
       " 'Automobile Insurance',\n",
       " 'Professional Liability',\n",
       " 'Transportation',\n",
       " 'Agency and Distributorships',\n",
       " 'Securities Fraud',\n",
       " 'Assault',\n",
       " 'Tax Planning',\n",
       " 'Asylum',\n",
       " 'Appellate Practice',\n",
       " 'Class Actions',\n",
       " 'Intellectual Property',\n",
       " 'Travel and Tourism',\n",
       " 'Asset Protection',\n",
       " 'Advertising and Marketing',\n",
       " 'Eminent Domain',\n",
       " 'Civil Rights',\n",
       " 'Paternity',\n",
       " 'Public Finance',\n",
       " 'Social Security',\n",
       " 'Weapons Charges',\n",
       " 'Health Insurance',\n",
       " 'Strategic Alliances',\n",
       " 'Domestic Violence',\n",
       " 'Estate Planning',\n",
       " 'Family Law',\n",
       " 'Bankruptcy Chapter 7',\n",
       " 'Automotive Products Liability',\n",
       " 'Green Cards',\n",
       " 'Wrongful Death',\n",
       " 'Products Liability',\n",
       " 'Civil Practice',\n",
       " 'Legal Separation',\n",
       " 'Admiralty and Maritime Law',\n",
       " 'Patents',\n",
       " 'Telecommunications Law',\n",
       " 'Sexual Abuse',\n",
       " 'Leases and Leasing',\n",
       " 'Construction Law',\n",
       " 'Nonprofit and Charitable Organizations',\n",
       " 'Gaming Law',\n",
       " 'Creditors Rights',\n",
       " 'Guardianship and Conservatorship',\n",
       " 'Employee Benefits',\n",
       " 'Elder Law',\n",
       " 'Architects and Engineers Liability',\n",
       " 'Financial Services Law',\n",
       " 'Legislative Practice',\n",
       " 'Legal Ethics and Professional Responsibility',\n",
       " 'Oil and Gas',\n",
       " 'Municipal Law',\n",
       " 'Premises Liability',\n",
       " 'Venture Capital',\n",
       " 'Administrative Hearings and Appeals',\n",
       " 'Trusts and Estates']"
      ]
     },
     "execution_count": 109,
     "metadata": {},
     "output_type": "execute_result"
    }
   ],
   "source": [
    "practices_areas_compilate = list(practices_areas_compilate)\n",
    "practices_areas_compilate.pop(0)\n",
    "practices_areas_compilate # Se elimino el primer elemento, tener en cuenta la proxima. \n"
   ]
  },
  {
   "cell_type": "code",
   "execution_count": null,
   "id": "0014edb6",
   "metadata": {},
   "outputs": [],
   "source": [
    "### Almacenar set de pracite areas \n",
    "with open(\"practice_area_set.pkl\", \"wb\") as f:\n",
    "    pickle.dump(practices_areas_compilate, f)"
   ]
  },
  {
   "cell_type": "code",
   "execution_count": 112,
   "id": "afa5f219",
   "metadata": {},
   "outputs": [
    {
     "data": {
      "text/plain": [
       "[]"
      ]
     },
     "execution_count": 112,
     "metadata": {},
     "output_type": "execute_result"
    }
   ],
   "source": [
    "with open(\"urls_region_PR.pkl\", \"rb\") as f:\n",
    "    urls_total = pickle.load(f) # Carga de lista de diccionarios de abogados de primera iteración, ya la lista no es 0.\n",
    "    # Esta variable va a ser mas general por lo que se va a emplear mas adelante. o asignar a la primera corrida. \n",
    "urls_total"
   ]
  },
  {
   "cell_type": "code",
   "execution_count": 113,
   "id": "c1b5a3c2",
   "metadata": {},
   "outputs": [
    {
     "name": "stderr",
     "output_type": "stream",
     "text": [
      "  0%|          | 0/213 [00:00<?, ?it/s]"
     ]
    },
    {
     "name": "stdout",
     "output_type": "stream",
     "text": [
      "paginas en esta url: 13\n",
      "accediendo a: https://www.martindale.com/search/attorneys-law-firms-articles/?term=Puerto+Rico%2C+USA&params=eyJ0eXBlIjoicGVvcGxlIiwiY29tcGFyZSI6IiIsInRlcm0iOiJQdWVydG8gUmljbywgVVNBIiwiZ2VvTG9jYXRpb25GYWNldCI6WyJQdWVydG8gUmljbywgVS5TLkEuIl0sImdlb0xvY2F0aW9uRmFjZXRSZWNlbnRzIjpbIlB1ZXJ0byBSaWNvLCBVLlMuQS4iXSwicGFnZSI6MSwibGltaXQiOjI1LCJvZmZzZXQiOjAsInNvcnQiOiIiLCJzb3J0VHlwZSI6IiIsImNsZWFyUGFyYW1zIjpmYWxzZSwia2V5d29yZCI6IiIsInBhZ2VUaXRsZSI6Imw6UHVlcnRvIFJpY28sIFUuUy5BLiIsInByYWN0aWNlQXJlYXMiOlsiQ29udHJhY3RzIl19\n",
      "https://www.martindale.com/attorney/ramon-mellado-gonzalez-1572913/\n",
      "https://www.martindale.com/attorney/maximiliano-a-pla-mendez-25744746/\n",
      "https://www.martindale.com/attorney/juan-a-cuyar-cobb-1571691/\n",
      "https://www.martindale.com/attorney/edgardo-j-hernandez-oharriz-esq-158870123/\n",
      "https://www.martindale.com/attorney/roberto-c-rodriguez-poventud-1571906/\n",
      "https://www.martindale.com/attorney/joseph-d-lento-168969230/\n",
      "https://www.martindale.com/attorney/jairo-jay-mellado-villarreal-1572914/\n",
      "https://www.martindale.com/attorney/ms-helaine-a-gregory-321442/\n",
      "https://www.martindale.com/attorney/pedro-f-silva-ruiz-1574066/\n",
      "https://www.martindale.com/attorney/gustavo-a-chico-barris-3318975/\n",
      "https://www.martindale.com/attorney/ms-lourdes-m-rodriguez-morera-46209566/\n",
      "https://www.martindale.com/attorney/nestor-duran-gonzalez-1573227/\n",
      "https://www.martindale.com/attorney/johanny-martinez-batista-2092244/\n",
      "https://www.martindale.com/attorney/ramon-antonio-parrilla-carbia-300297980/\n",
      "https://www.martindale.com/attorney/yanet-torres-ramirez-1571498/\n",
      "https://www.martindale.com/attorney/jorge-a-pierluisi-jr-1573794/\n",
      "https://www.martindale.com/attorney/juan-s-pagan-rodriguez-1573678/\n",
      "https://www.martindale.com/attorney/diana-lizzette-castro-muriel-1573897/\n",
      "https://www.martindale.com/attorney/antonio-e-marichal-aponte-1571758/\n",
      "https://www.martindale.com/attorney/alexandra-fernandez-navarro-2749916/\n",
      "https://www.martindale.com/attorney/eric-rivera-cruz-2826233/\n",
      "https://www.martindale.com/attorney/maria-de-lourdes-martinez-lamadriz-1572616/\n",
      "https://www.martindale.com/attorney/etienne-totti-del-toro-1572554/\n",
      "https://www.martindale.com/attorney/jan-carlos-rodriguez-3008241/\n",
      "https://www.martindale.com/attorney/eugenio-otero-silva-1572657/\n",
      "accediendo a: https://www.martindale.com/search/attorneys-law-firms-articles/?term=Puerto+Rico%2C+USA&params=eyJ0eXBlIjoicGVvcGxlIiwiY29tcGFyZSI6IiIsInRlcm0iOiJQdWVydG8gUmljbywgVVNBIiwiZ2VvTG9jYXRpb25GYWNldCI6WyJQdWVydG8gUmljbywgVS5TLkEuIl0sImdlb0xvY2F0aW9uRmFjZXRSZWNlbnRzIjpbIlB1ZXJ0byBSaWNvLCBVLlMuQS4iXSwicGFnZSI6MSwibGltaXQiOjI1LCJvZmZzZXQiOjAsInNvcnQiOiIiLCJzb3J0VHlwZSI6IiIsImNsZWFyUGFyYW1zIjpmYWxzZSwia2V5d29yZCI6IiIsInBhZ2VUaXRsZSI6Imw6UHVlcnRvIFJpY28sIFUuUy5BLiIsInByYWN0aWNlQXJlYXMiOlsiQ29udHJhY3RzIl19&page=2\n",
      "https://www.martindale.com/attorney/jose-antonio-tulla-1573190/\n",
      "https://www.martindale.com/attorney/carmen-rita-silva-efre-1574166/\n",
      "https://www.martindale.com/attorney/mr-ricardo-j-rivera-lopez-300746128/\n",
      "https://www.martindale.com/attorney/monica-timothee-300824948/\n",
      "https://www.martindale.com/attorney/guillermo-r-pico-1573413/\n",
      "https://www.martindale.com/attorney/julio-l-aguirre-1572480/\n",
      "https://www.martindale.com/attorney/rafael-r-vizcarrondo-1572476/\n",
      "https://www.martindale.com/attorney/luis-r-rivera-gonzalez-1571706/\n",
      "https://www.martindale.com/attorney/rafael-martinez-alvarez-jr-1573116/\n",
      "https://www.martindale.com/attorney/leyre-santaella-sante-157073312/\n",
      "https://www.martindale.com/attorney/fred-h-martinez-1572134/\n",
      "https://www.martindale.com/attorney/eric-r-huot-caldern-2220069/\n",
      "https://www.martindale.com/attorney/ileana-l-corral-4660096/\n",
      "https://www.martindale.com/attorney/genevieve-lopez-stipes-5065847/\n",
      "https://www.martindale.com/attorney/maria-del-carmen-martinez-1572920/\n",
      "https://www.martindale.com/attorney/risa-tobin-1571692/\n",
      "https://www.martindale.com/attorney/rafael-a-rivera-cruz-1573943/\n",
      "https://www.martindale.com/attorney/maria-del-rosario-garcia-1573003/\n",
      "https://www.martindale.com/attorney/manuel-rivera-mendez-1573908/\n",
      "https://www.martindale.com/attorney/wilma-g-mendez-pagan-1573540/\n",
      "https://www.martindale.com/attorney/pedro-j-polanco-1572490/\n",
      "https://www.martindale.com/attorney/rafael-v-vassallo-collazo-1573012/\n",
      "https://www.martindale.com/attorney/jose-garcia-noya-1572259/\n",
      "https://www.martindale.com/attorney/amexis-j-bonilla-nieves-300738464/\n",
      "https://www.martindale.com/attorney/yum-e-ramos-perales-6926753/\n",
      "accediendo a: https://www.martindale.com/search/attorneys-law-firms-articles/?term=Puerto+Rico%2C+USA&params=eyJ0eXBlIjoicGVvcGxlIiwiY29tcGFyZSI6IiIsInRlcm0iOiJQdWVydG8gUmljbywgVVNBIiwiZ2VvTG9jYXRpb25GYWNldCI6WyJQdWVydG8gUmljbywgVS5TLkEuIl0sImdlb0xvY2F0aW9uRmFjZXRSZWNlbnRzIjpbIlB1ZXJ0byBSaWNvLCBVLlMuQS4iXSwicGFnZSI6MSwibGltaXQiOjI1LCJvZmZzZXQiOjAsInNvcnQiOiIiLCJzb3J0VHlwZSI6IiIsImNsZWFyUGFyYW1zIjpmYWxzZSwia2V5d29yZCI6IiIsInBhZ2VUaXRsZSI6Imw6UHVlcnRvIFJpY28sIFUuUy5BLiIsInByYWN0aWNlQXJlYXMiOlsiQ29udHJhY3RzIl19&page=3\n",
      "https://www.martindale.com/attorney/fredeswin-perez-caballero-45015557/\n",
      "https://www.martindale.com/attorney/manuel-moreda-toledo-1573229/\n",
      "https://www.martindale.com/attorney/nyvia-e-milian-falero-1571969/\n",
      "https://www.martindale.com/attorney/luis-m-bernal-jimenez-2841549/\n",
      "https://www.martindale.com/attorney/maritza-julia-1571915/\n",
      "https://www.martindale.com/attorney/monica-de-jesus-santana-4703934/\n",
      "https://www.martindale.com/attorney/carmen-pilar-cruz-rosario-1573572/\n",
      "https://www.martindale.com/attorney/angel-luis-berberena-feliciano-300856470/\n",
      "https://www.martindale.com/attorney/juanita-b-rodriguez-159849205/\n",
      "https://www.martindale.com/attorney/teodoro-pena-garcia-1572492/\n",
      "https://www.martindale.com/attorney/isabel-j-velez-serrano-1572961/\n",
      "https://www.martindale.com/attorney/jorge-a-fernandez-reboredo-301236982/\n",
      "https://www.martindale.com/attorney/francisco-j-silva-salcedo-11857123/\n",
      "https://www.martindale.com/attorney/andres-r-nevares-1573538/\n",
      "https://www.martindale.com/attorney/ricardo-guzman-3826093/\n",
      "https://www.martindale.com/attorney/luis-a-defillo-rosas-esq-30265079/\n",
      "https://www.martindale.com/attorney/luis-g-velazquez-ortiz-45033780/\n",
      "https://www.martindale.com/attorney/david-f-michelman-157232929/\n",
      "https://www.martindale.com/attorney/alejandro-valderrabano-300311226/\n",
      "https://www.martindale.com/attorney/mr-luis-g-rullan-301246538/\n",
      "https://www.martindale.com/attorney/judith-torres-de-jesus-2451988/\n",
      "https://www.martindale.com/attorney/jorge-p-sala-esq-1571326/\n",
      "https://www.martindale.com/attorney/giovanni-davila-egipciaco-44291830/\n",
      "https://www.martindale.com/attorney/jorge-f-freyre-forest-1571868/\n",
      "https://www.martindale.com/attorney/roberto-f-nater-lebron-1573009/\n",
      "accediendo a: https://www.martindale.com/search/attorneys-law-firms-articles/?term=Puerto+Rico%2C+USA&params=eyJ0eXBlIjoicGVvcGxlIiwiY29tcGFyZSI6IiIsInRlcm0iOiJQdWVydG8gUmljbywgVVNBIiwiZ2VvTG9jYXRpb25GYWNldCI6WyJQdWVydG8gUmljbywgVS5TLkEuIl0sImdlb0xvY2F0aW9uRmFjZXRSZWNlbnRzIjpbIlB1ZXJ0byBSaWNvLCBVLlMuQS4iXSwicGFnZSI6MSwibGltaXQiOjI1LCJvZmZzZXQiOjAsInNvcnQiOiIiLCJzb3J0VHlwZSI6IiIsImNsZWFyUGFyYW1zIjpmYWxzZSwia2V5d29yZCI6IiIsInBhZ2VUaXRsZSI6Imw6UHVlcnRvIFJpY28sIFUuUy5BLiIsInByYWN0aWNlQXJlYXMiOlsiQ29udHJhY3RzIl19&page=4\n",
      "https://www.martindale.com/attorney/fernando-j-gierbolini-1572179/\n",
      "https://www.martindale.com/attorney/gladys-e-acevedo-robles-4660500/\n",
      "https://www.martindale.com/attorney/rafael-j-velazquez-villares-1572324/\n",
      "https://www.martindale.com/attorney/daira-vaello-300298660/\n",
      "https://www.martindale.com/attorney/rafael-a-gonzalez-valiente-12118746/\n",
      "https://www.martindale.com/attorney/frank-gotay-barquet-1572438/\n",
      "https://www.martindale.com/attorney/anibal-jose-nunez-301656048/\n",
      "https://www.martindale.com/attorney/dana-michelle-waller-15678/\n",
      "https://www.martindale.com/attorney/juan-m-casanova-rivera-3248691/\n",
      "https://www.martindale.com/attorney/mario-r-oronoz-1571661/\n",
      "https://www.martindale.com/attorney/luzmarie-velez-miro-3917783/\n",
      "https://www.martindale.com/attorney/alicia-i-lavergne-ramirez-300622842/\n",
      "https://www.martindale.com/attorney/karla-m-tomassini-soto-3118093/\n",
      "https://www.martindale.com/attorney/charles-bimbela-quinones-1572512/\n",
      "https://www.martindale.com/attorney/ms-patricia-camino-perez-157540122/\n",
      "https://www.martindale.com/attorney/juan-carlos-villanueva-lopez-2848197/\n",
      "https://www.martindale.com/attorney/gilberto-j-marxuach-torros-1573245/\n",
      "https://www.martindale.com/attorney/jorge-cela-urena-1572996/\n",
      "https://www.martindale.com/attorney/jose-sanchez-acosta-1571588/\n",
      "https://www.martindale.com/attorney/carlos-r-paula-1572772/\n",
      "https://www.martindale.com/attorney/alberto-g-estrella-1572416/\n",
      "https://www.martindale.com/attorney/margarita-e-irizarry-reichard-2314198/\n",
      "https://www.martindale.com/attorney/humberto-f-cobo-estrella-45883776/\n",
      "https://www.martindale.com/attorney/marcos-l-de-la-villa-1573543/\n",
      "https://www.martindale.com/attorney/luis-a-melendez-albizu-1572234/\n",
      "accediendo a: https://www.martindale.com/search/attorneys-law-firms-articles/?term=Puerto+Rico%2C+USA&params=eyJ0eXBlIjoicGVvcGxlIiwiY29tcGFyZSI6IiIsInRlcm0iOiJQdWVydG8gUmljbywgVVNBIiwiZ2VvTG9jYXRpb25GYWNldCI6WyJQdWVydG8gUmljbywgVS5TLkEuIl0sImdlb0xvY2F0aW9uRmFjZXRSZWNlbnRzIjpbIlB1ZXJ0byBSaWNvLCBVLlMuQS4iXSwicGFnZSI6MSwibGltaXQiOjI1LCJvZmZzZXQiOjAsInNvcnQiOiIiLCJzb3J0VHlwZSI6IiIsImNsZWFyUGFyYW1zIjpmYWxzZSwia2V5d29yZCI6IiIsInBhZ2VUaXRsZSI6Imw6UHVlcnRvIFJpY28sIFUuUy5BLiIsInByYWN0aWNlQXJlYXMiOlsiQ29udHJhY3RzIl19&page=5\n",
      "https://www.martindale.com/attorney/pedro-i-vidal-cordero-1572517/\n",
      "https://www.martindale.com/attorney/rafael-mayoral-morales-1573846/\n",
      "https://www.martindale.com/attorney/ms-marife-nazario-yordan-157042300/\n",
      "https://www.martindale.com/attorney/santos-ramos-lugo-1573544/\n",
      "https://www.martindale.com/attorney/jose-l-cabiya-morales-1571628/\n",
      "https://www.martindale.com/attorney/jose-e-martino-3795893/\n",
      "https://www.martindale.com/attorney/maria-del-carmen-betancourt-1571207/\n",
      "https://www.martindale.com/attorney/hernando-a-rivera-1572994/\n",
      "https://www.martindale.com/attorney/howard-pravda-1572812/\n",
      "https://www.martindale.com/attorney/carlos-j-micames-montalvo-301090624/\n",
      "https://www.martindale.com/attorney/javier-lopez-perez-2840443/\n",
      "https://www.martindale.com/attorney/ernesto-m-rovira-gandara-3917772/\n",
      "https://www.martindale.com/attorney/manuel-e-andreu-garcia-1571838/\n",
      "https://www.martindale.com/attorney/ann-jo-marie-carrero-1571803/\n",
      "https://www.martindale.com/attorney/francisco-j-amundaray-1573965/\n",
      "https://www.martindale.com/attorney/alejandro-lopez-lorenzo-2826263/\n",
      "https://www.martindale.com/attorney/justa-aponte-pedraza-1573446/\n",
      "https://www.martindale.com/attorney/mr-ramiro-llado-martinez-1572921/\n",
      "https://www.martindale.com/attorney/miguel-p-cancio-bigas-1572091/\n",
      "https://www.martindale.com/attorney/jesus-m-rivera-delgado-1571428/\n",
      "https://www.martindale.com/attorney/jorge-lora-longoria-1571455/\n",
      "https://www.martindale.com/attorney/carlos-rodriguez-garcia-1571741/\n",
      "https://www.martindale.com/attorney/rene-pinto-lugo-1572240/\n",
      "https://www.martindale.com/attorney/rafael-e-davila-thomas-26740250/\n",
      "https://www.martindale.com/attorney/celia-ines-acevedo-vargas-1573722/\n",
      "accediendo a: https://www.martindale.com/search/attorneys-law-firms-articles/?term=Puerto+Rico%2C+USA&params=eyJ0eXBlIjoicGVvcGxlIiwiY29tcGFyZSI6IiIsInRlcm0iOiJQdWVydG8gUmljbywgVVNBIiwiZ2VvTG9jYXRpb25GYWNldCI6WyJQdWVydG8gUmljbywgVS5TLkEuIl0sImdlb0xvY2F0aW9uRmFjZXRSZWNlbnRzIjpbIlB1ZXJ0byBSaWNvLCBVLlMuQS4iXSwicGFnZSI6MSwibGltaXQiOjI1LCJvZmZzZXQiOjAsInNvcnQiOiIiLCJzb3J0VHlwZSI6IiIsImNsZWFyUGFyYW1zIjpmYWxzZSwia2V5d29yZCI6IiIsInBhZ2VUaXRsZSI6Imw6UHVlcnRvIFJpY28sIFUuUy5BLiIsInByYWN0aWNlQXJlYXMiOlsiQ29udHJhY3RzIl19&page=6\n",
      "https://www.martindale.com/attorney/iris-yolanda-aponte-andino-2040014/\n",
      "https://www.martindale.com/attorney/carlos-c-santiago-1572619/\n",
      "https://www.martindale.com/attorney/francisco-augusto-besosa-1572751/\n",
      "https://www.martindale.com/attorney/nicolas-a-quinones-castrillo-1572387/\n",
      "https://www.martindale.com/attorney/lilia-r-rodriquez-ruiz-1573251/\n",
      "https://www.martindale.com/attorney/jose-j-fas-quinones-44863749/\n",
      "https://www.martindale.com/attorney/ricardo-a-perez-rivera-4168841/\n",
      "https://www.martindale.com/attorney/maribel-garcia-1560990/\n",
      "https://www.martindale.com/attorney/victor-m-hernandez-gonzalez-esq-1571327/\n",
      "https://www.martindale.com/attorney/guillermo-a-nigaglioni-1573565/\n",
      "https://www.martindale.com/attorney/eddalee-quinones-pedrogo-45016554/\n",
      "https://www.martindale.com/attorney/ivan-r-fernandez-vallejo-1572877/\n",
      "https://www.martindale.com/attorney/james-d-noel-iii-1573246/\n",
      "https://www.martindale.com/attorney/armando-martinez-fernandez-1572503/\n",
      "https://www.martindale.com/attorney/diana-mendez-ondina-1573573/\n",
      "https://www.martindale.com/attorney/natalia-morales-echevarria-28128413/\n",
      "https://www.martindale.com/attorney/robert-alex-fleming-1571968/\n",
      "https://www.martindale.com/attorney/luz-yanix-vargas-perez-1573548/\n",
      "https://www.martindale.com/attorney/heriberto-burgos-perez-13229805/\n",
      "https://www.martindale.com/attorney/dora-l-monserrate-penagaricano-1572181/\n",
      "https://www.martindale.com/attorney/hector-a-santiago-romero-1572425/\n",
      "https://www.martindale.com/attorney/etienne-totti-del-valle-1572992/\n",
      "https://www.martindale.com/attorney/carlos-ivan-nieves-3807100/\n",
      "https://www.martindale.com/attorney/rafael-a-ojeda-diez-1574265/\n",
      "https://www.martindale.com/attorney/rafael-a-rosado-marrero-1572966/\n",
      "accediendo a: https://www.martindale.com/search/attorneys-law-firms-articles/?term=Puerto+Rico%2C+USA&params=eyJ0eXBlIjoicGVvcGxlIiwiY29tcGFyZSI6IiIsInRlcm0iOiJQdWVydG8gUmljbywgVVNBIiwiZ2VvTG9jYXRpb25GYWNldCI6WyJQdWVydG8gUmljbywgVS5TLkEuIl0sImdlb0xvY2F0aW9uRmFjZXRSZWNlbnRzIjpbIlB1ZXJ0byBSaWNvLCBVLlMuQS4iXSwicGFnZSI6MSwibGltaXQiOjI1LCJvZmZzZXQiOjAsInNvcnQiOiIiLCJzb3J0VHlwZSI6IiIsImNsZWFyUGFyYW1zIjpmYWxzZSwia2V5d29yZCI6IiIsInBhZ2VUaXRsZSI6Imw6UHVlcnRvIFJpY28sIFUuUy5BLiIsInByYWN0aWNlQXJlYXMiOlsiQ29udHJhY3RzIl19&page=7\n",
      "https://www.martindale.com/attorney/david-ludwig-26740216/\n",
      "https://www.martindale.com/attorney/annette-cortes-arcelay-44858945/\n",
      "https://www.martindale.com/attorney/modesto-bigas-mendez-2862192/\n",
      "https://www.martindale.com/attorney/francisco-j-mercado-olivero-3748968/\n",
      "https://www.martindale.com/attorney/leslie-alvarado-lliteras-1573542/\n",
      "https://www.martindale.com/attorney/patricia-cordero-alcaraz-2296458/\n",
      "https://www.martindale.com/attorney/juan-a-hernandez-rivera-11784995/\n",
      "https://www.martindale.com/attorney/gilberto-j-oliveras-maldonado-300916918/\n",
      "https://www.martindale.com/attorney/herman-w-colberg-1573884/\n",
      "https://www.martindale.com/attorney/carlos-g-dalmau-404277/\n",
      "https://www.martindale.com/attorney/antonio-e-valiente-1572419/\n",
      "https://www.martindale.com/attorney/monsita-lecaroz-arribas-1573033/\n",
      "https://www.martindale.com/attorney/jose-e-rios-diaz-2095610/\n",
      "https://www.martindale.com/attorney/dennis-a-simonpietri-monefeldt-1573835/\n",
      "https://www.martindale.com/attorney/jose-e-gonzalez-borgos-1572507/\n",
      "accediendo a: https://www.martindale.com/search/attorneys-law-firms-articles/?term=Puerto+Rico%2C+USA&params=eyJ0eXBlIjoicGVvcGxlIiwiY29tcGFyZSI6IiIsInRlcm0iOiJQdWVydG8gUmljbywgVVNBIiwiZ2VvTG9jYXRpb25GYWNldCI6WyJQdWVydG8gUmljbywgVS5TLkEuIl0sImdlb0xvY2F0aW9uRmFjZXRSZWNlbnRzIjpbIlB1ZXJ0byBSaWNvLCBVLlMuQS4iXSwicGFnZSI6MSwibGltaXQiOjI1LCJvZmZzZXQiOjAsInNvcnQiOiIiLCJzb3J0VHlwZSI6IiIsImNsZWFyUGFyYW1zIjpmYWxzZSwia2V5d29yZCI6IiIsInBhZ2VUaXRsZSI6Imw6UHVlcnRvIFJpY28sIFUuUy5BLiIsInByYWN0aWNlQXJlYXMiOlsiQ29udHJhY3RzIl19&page=8\n",
      "https://www.martindale.com/attorney/walter-francisco-alomar-jimenez-301650514/\n",
      "https://www.martindale.com/attorney/eduardo-r-estrella-1572420/\n",
      "https://www.martindale.com/attorney/carlos-emilio-matos-301087930/\n",
      "https://www.martindale.com/attorney/francisco-j-timothee-300533264/\n",
      "https://www.martindale.com/attorney/jose-antonio-diaz-brugueras-300297672/\n",
      "https://www.martindale.com/attorney/polonio-j-garcia-pons-esq-1571328/\n",
      "https://www.martindale.com/attorney/juan-a-moldes-rodriguez-1572395/\n",
      "https://www.martindale.com/attorney/marigloria-rivera-cruz-6478756/\n",
      "https://www.martindale.com/attorney/vanessa-m-sosa-seda-157851565/\n",
      "https://www.martindale.com/attorney/ignacio-jose-gorrin-maldonado-2776358/\n",
      "https://www.martindale.com/attorney/erik-a-rosado-perez-1571589/\n",
      "https://www.martindale.com/attorney/jose-a-cabiya-morales-3723506/\n",
      "https://www.martindale.com/attorney/miguel-a-nieves-mojica-33777050/\n",
      "https://www.martindale.com/attorney/eric-a-tulla-1573907/\n",
      "https://www.martindale.com/attorney/marie-l-quinones-tanon-157584457/\n",
      "https://www.martindale.com/attorney/jose-santiago-rivera-2829023/\n",
      "https://www.martindale.com/attorney/raul-e-garcia-sanchez-1571174/\n",
      "https://www.martindale.com/attorney/maria-del-carmen-taboas-1572508/\n",
      "https://www.martindale.com/attorney/miriam-gonzalez-olivencia-1573746/\n",
      "https://www.martindale.com/attorney/manuel-a-guzman-kehoe-1573384/\n",
      "https://www.martindale.com/attorney/juan-a-hernandez-cruz-43899748/\n",
      "https://www.martindale.com/attorney/sarika-j-angulo-velazquez-esq-167969818/\n",
      "accediendo a: https://www.martindale.com/search/attorneys-law-firms-articles/?term=Puerto+Rico%2C+USA&params=eyJ0eXBlIjoicGVvcGxlIiwiY29tcGFyZSI6IiIsInRlcm0iOiJQdWVydG8gUmljbywgVVNBIiwiZ2VvTG9jYXRpb25GYWNldCI6WyJQdWVydG8gUmljbywgVS5TLkEuIl0sImdlb0xvY2F0aW9uRmFjZXRSZWNlbnRzIjpbIlB1ZXJ0byBSaWNvLCBVLlMuQS4iXSwicGFnZSI6MSwibGltaXQiOjI1LCJvZmZzZXQiOjAsInNvcnQiOiIiLCJzb3J0VHlwZSI6IiIsImNsZWFyUGFyYW1zIjpmYWxzZSwia2V5d29yZCI6IiIsInBhZ2VUaXRsZSI6Imw6UHVlcnRvIFJpY28sIFUuUy5BLiIsInByYWN0aWNlQXJlYXMiOlsiQ29udHJhY3RzIl19&page=9\n",
      "https://www.martindale.com/attorney/michel-rachid-pineiro-1573844/\n",
      "https://www.martindale.com/attorney/juan-manuel-casellas-1573332/\n",
      "https://www.martindale.com/attorney/alejandro-jose-cepeda-diaz-28526090/\n",
      "https://www.martindale.com/attorney/francisco-a-ojeda-diez-1573369/\n",
      "https://www.martindale.com/attorney/herman-cestero-rodriguez-13792235/\n",
      "https://www.martindale.com/attorney/cristina-mullan-davila-3918234/\n",
      "https://www.martindale.com/attorney/samuel-t-cespedes-sabater-jr-1573243/\n",
      "https://www.martindale.com/attorney/larissa-c-rosa-de-jesus-11441747/\n",
      "https://www.martindale.com/attorney/eduardo-f-gonzalez-portela-3967270/\n",
      "https://www.martindale.com/attorney/liza-delgado-gonzalez-44395821/\n",
      "https://www.martindale.com/attorney/ivonne-palerm-cruz-1572161/\n",
      "https://www.martindale.com/attorney/william-estrella-1572414/\n",
      "https://www.martindale.com/attorney/alberto-j-rodriguez-ramos-4450141/\n",
      "https://www.martindale.com/attorney/manlio-arraiza-donate-1571061/\n",
      "https://www.martindale.com/attorney/ernesto-j-rodriguez-lavergne-2571718/\n",
      "https://www.martindale.com/attorney/fausto-ramos-quiros-1574162/\n",
      "https://www.martindale.com/attorney/angel-l-tapia-flores-1574081/\n",
      "https://www.martindale.com/attorney/josue-a-rodriguez-robles-1571765/\n",
      "https://www.martindale.com/attorney/antonio-zapater-cajigas-1571404/\n",
      "https://www.martindale.com/attorney/ina-r-aponte-de-aviles-1574083/\n",
      "accediendo a: https://www.martindale.com/search/attorneys-law-firms-articles/?term=Puerto+Rico%2C+USA&params=eyJ0eXBlIjoicGVvcGxlIiwiY29tcGFyZSI6IiIsInRlcm0iOiJQdWVydG8gUmljbywgVVNBIiwiZ2VvTG9jYXRpb25GYWNldCI6WyJQdWVydG8gUmljbywgVS5TLkEuIl0sImdlb0xvY2F0aW9uRmFjZXRSZWNlbnRzIjpbIlB1ZXJ0byBSaWNvLCBVLlMuQS4iXSwicGFnZSI6MSwibGltaXQiOjI1LCJvZmZzZXQiOjAsInNvcnQiOiIiLCJzb3J0VHlwZSI6IiIsImNsZWFyUGFyYW1zIjpmYWxzZSwia2V5d29yZCI6IiIsInBhZ2VUaXRsZSI6Imw6UHVlcnRvIFJpY28sIFUuUy5BLiIsInByYWN0aWNlQXJlYXMiOlsiQ29udHJhY3RzIl19&page=10\n",
      "https://www.martindale.com/attorney/javier-vazquez-morales-157164000/\n",
      "https://www.martindale.com/attorney/helga-l-perez-rios-1571430/\n",
      "https://www.martindale.com/attorney/alvaro-r-calderon-mongil-jr-1571943/\n",
      "https://www.martindale.com/attorney/nayuan-zouairabani-trinidad-33777049/\n",
      "https://www.martindale.com/attorney/francisco-j-colon-pagan-1574138/\n",
      "https://www.martindale.com/attorney/omar-oquendo-claudio-4720856/\n",
      "https://www.martindale.com/attorney/jose-a-acosta-grubb-1572491/\n",
      "accediendo a: https://www.martindale.com/search/attorneys-law-firms-articles/?term=Puerto+Rico%2C+USA&params=eyJ0eXBlIjoicGVvcGxlIiwiY29tcGFyZSI6IiIsInRlcm0iOiJQdWVydG8gUmljbywgVVNBIiwiZ2VvTG9jYXRpb25GYWNldCI6WyJQdWVydG8gUmljbywgVS5TLkEuIl0sImdlb0xvY2F0aW9uRmFjZXRSZWNlbnRzIjpbIlB1ZXJ0byBSaWNvLCBVLlMuQS4iXSwicGFnZSI6MSwibGltaXQiOjI1LCJvZmZzZXQiOjAsInNvcnQiOiIiLCJzb3J0VHlwZSI6IiIsImNsZWFyUGFyYW1zIjpmYWxzZSwia2V5d29yZCI6IiIsInBhZ2VUaXRsZSI6Imw6UHVlcnRvIFJpY28sIFUuUy5BLiIsInByYWN0aWNlQXJlYXMiOlsiQ29udHJhY3RzIl19&page=11\n",
      "https://www.martindale.com/attorney/francisco-fernandez-chiques-4217631/\n",
      "https://www.martindale.com/attorney/edna-chandrissa-bonnet-vazquez-1571693/\n",
      "https://www.martindale.com/attorney/mr-david-killian-rodriguez-encarnacion-300225508/\n",
      "https://www.martindale.com/attorney/maria-de-los-angeles-delgado-sosa-1573922/\n",
      "https://www.martindale.com/attorney/edward-w-hill-tollinche-1571815/\n",
      "https://www.martindale.com/attorney/dianna-soler-de-martinez-1574227/\n",
      "https://www.martindale.com/attorney/jose-f-rovira-rullan-esq-36096872/\n",
      "https://www.martindale.com/attorney/mr-stuart-a-weinstein-bacal-1571809/\n",
      "https://www.martindale.com/attorney/james-e-brown-300775818/\n",
      "https://www.martindale.com/attorney/patricia-lorenzi-julia-1571896/\n",
      "https://www.martindale.com/attorney/martha-l-martinez-rodriguez-2039490/\n",
      "https://www.martindale.com/attorney/sally-d-diaz-roldan-44558579/\n",
      "https://www.martindale.com/attorney/samuel-de-la-rosa-ortiz-1573449/\n",
      "https://www.martindale.com/attorney/angel-alvarez-perez-157584427/\n",
      "https://www.martindale.com/attorney/antonio-j-rodriguez-1573219/\n",
      "https://www.martindale.com/attorney/solymar-castillo-morales-44858944/\n",
      "https://www.martindale.com/attorney/rafael-maldonado-nicolai-1572376/\n",
      "https://www.martindale.com/attorney/hector-g-oliveras-1573576/\n",
      "https://www.martindale.com/attorney/enrique-silva-aviles-1994814/\n",
      "https://www.martindale.com/attorney/ricardo-l-ortiz-colon-1572520/\n",
      "https://www.martindale.com/attorney/efrain-guzman-mollet-1573808/\n",
      "https://www.martindale.com/attorney/lis-m-lopez-2013898/\n",
      "https://www.martindale.com/attorney/martha-i-berrios-1571916/\n",
      "accediendo a: https://www.martindale.com/search/attorneys-law-firms-articles/?term=Puerto+Rico%2C+USA&params=eyJ0eXBlIjoicGVvcGxlIiwiY29tcGFyZSI6IiIsInRlcm0iOiJQdWVydG8gUmljbywgVVNBIiwiZ2VvTG9jYXRpb25GYWNldCI6WyJQdWVydG8gUmljbywgVS5TLkEuIl0sImdlb0xvY2F0aW9uRmFjZXRSZWNlbnRzIjpbIlB1ZXJ0byBSaWNvLCBVLlMuQS4iXSwicGFnZSI6MSwibGltaXQiOjI1LCJvZmZzZXQiOjAsInNvcnQiOiIiLCJzb3J0VHlwZSI6IiIsImNsZWFyUGFyYW1zIjpmYWxzZSwia2V5d29yZCI6IiIsInBhZ2VUaXRsZSI6Imw6UHVlcnRvIFJpY28sIFUuUy5BLiIsInByYWN0aWNlQXJlYXMiOlsiQ29udHJhY3RzIl19&page=12\n",
      "https://www.martindale.com/attorney/matias-a-monges-300891324/\n",
      "https://www.martindale.com/attorney/ramon-a-cestero-1571652/\n",
      "https://www.martindale.com/attorney/edgardo-cartagena-157379931/\n",
      "https://www.martindale.com/attorney/joshua-m-galarza-quinones-4321948/\n",
      "https://www.martindale.com/attorney/eileen-m-rivera-amador-4678453/\n",
      "https://www.martindale.com/attorney/robert-w-weihe-esq-300916716/\n",
      "https://www.martindale.com/attorney/consuelo-m-sifre-garcia-1573527/\n",
      "https://www.martindale.com/attorney/santiago-cordero-osorio-1573797/\n",
      "https://www.martindale.com/attorney/david-l-reed-24888034/\n",
      "https://www.martindale.com/attorney/jose-o-sepulveda-4644050/\n",
      "https://www.martindale.com/attorney/mary-cele-rivera-martinez-1572928/\n",
      "https://www.martindale.com/attorney/gilberto-oliver-300749498/\n",
      "https://www.martindale.com/attorney/ruben-a-rivera-rosa-300839874/\n",
      "https://www.martindale.com/attorney/jesus-r-rabell-mendez-4432086/\n",
      "https://www.martindale.com/attorney/frank-zorrilla-1573562/\n",
      "https://www.martindale.com/attorney/luis-a-rodriguez-munoz-4450045/\n",
      "https://www.martindale.com/attorney/nellymarie-lopez-diaz-1574143/\n",
      "https://www.martindale.com/attorney/carlos-r-rios-gautier-1573895/\n",
      "https://www.martindale.com/attorney/alberto-r-estrella-arteaga-2314189/\n",
      "https://www.martindale.com/attorney/lorenzo-j-palomares-2169637/\n",
      "accediendo a: https://www.martindale.com/search/attorneys-law-firms-articles/?term=Puerto+Rico%2C+USA&params=eyJ0eXBlIjoicGVvcGxlIiwiY29tcGFyZSI6IiIsInRlcm0iOiJQdWVydG8gUmljbywgVVNBIiwiZ2VvTG9jYXRpb25GYWNldCI6WyJQdWVydG8gUmljbywgVS5TLkEuIl0sImdlb0xvY2F0aW9uRmFjZXRSZWNlbnRzIjpbIlB1ZXJ0byBSaWNvLCBVLlMuQS4iXSwicGFnZSI6MSwibGltaXQiOjI1LCJvZmZzZXQiOjAsInNvcnQiOiIiLCJzb3J0VHlwZSI6IiIsImNsZWFyUGFyYW1zIjpmYWxzZSwia2V5d29yZCI6IiIsInBhZ2VUaXRsZSI6Imw6UHVlcnRvIFJpY28sIFUuUy5BLiIsInByYWN0aWNlQXJlYXMiOlsiQ29udHJhY3RzIl19&page=13\n"
     ]
    },
    {
     "name": "stderr",
     "output_type": "stream",
     "text": [
      "  0%|          | 1/213 [00:28<1:42:02, 28.88s/it]"
     ]
    },
    {
     "name": "stdout",
     "output_type": "stream",
     "text": [
      "paginas en esta url: 17\n",
      "accediendo a: https://www.martindale.com/search/attorneys-law-firms-articles/?term=Puerto+Rico%2C+USA&params=eyJ0eXBlIjoicGVvcGxlIiwiY29tcGFyZSI6IiIsInRlcm0iOiJQdWVydG8gUmljbywgVVNBIiwiZ2VvTG9jYXRpb25GYWNldCI6WyJQdWVydG8gUmljbywgVS5TLkEuIl0sImdlb0xvY2F0aW9uRmFjZXRSZWNlbnRzIjpbIlB1ZXJ0byBSaWNvLCBVLlMuQS4iXSwicGFnZSI6MSwibGltaXQiOjI1LCJvZmZzZXQiOjAsInNvcnQiOiIiLCJzb3J0VHlwZSI6IiIsImNsZWFyUGFyYW1zIjpmYWxzZSwia2V5d29yZCI6IiIsInBhZ2VUaXRsZSI6Imw6UHVlcnRvIFJpY28sIFUuUy5BLiIsInByYWN0aWNlQXJlYXMiOlsiQ2l2aWwgTGl0aWdhdGlvbiJdfQ%3D%3D\n",
      "https://www.martindale.com/attorney/raquel-santos-ramos-45015561/\n",
      "https://www.martindale.com/attorney/arytza-y-martinez-3115340/\n",
      "https://www.martindale.com/attorney/maria-victoria-munera-pascual-1573325/\n",
      "https://www.martindale.com/attorney/maritere-colon-dominguez-13986963/\n",
      "https://www.martindale.com/attorney/oreste-ricardo-ramos-2170248/\n",
      "https://www.martindale.com/attorney/juan-eliza-burgos-13781059/\n",
      "https://www.martindale.com/attorney/osvaldo-carlo-linares-1572302/\n",
      "https://www.martindale.com/attorney/luis-m-rodriguez-lopez-1572558/\n",
      "https://www.martindale.com/attorney/maria-judith-marchand-sanchez-esq-1573549/\n",
      "https://www.martindale.com/attorney/angel-aja-delgado-24486803/\n",
      "https://www.martindale.com/attorney/marta-del-pilar-santiago-ramos-1573435/\n",
      "https://www.martindale.com/attorney/anabelle-rodriguez-rodriguez-1572143/\n",
      "https://www.martindale.com/attorney/jose-a-morales-boscio-3058200/\n",
      "https://www.martindale.com/attorney/jose-l-rivero-vergne-1571689/\n",
      "https://www.martindale.com/attorney/francisco-j-vizcarrondo-3104926/\n",
      "https://www.martindale.com/attorney/miguel-juan-rodriguez-marxuach-1573014/\n",
      "https://www.martindale.com/attorney/arturo-diaz-angueira-1571988/\n",
      "https://www.martindale.com/attorney/enrique-j-mendoza-mendez-1571553/\n",
      "https://www.martindale.com/attorney/maria-d-trelles-hernandez-27073846/\n",
      "https://www.martindale.com/attorney/lizette-velez-rive-1573437/\n",
      "https://www.martindale.com/attorney/alejandro-oliveras-rivera-1573499/\n",
      "https://www.martindale.com/attorney/camelia-montilla-1572293/\n",
      "https://www.martindale.com/attorney/rosa-maria-cruz-niemiec-1573394/\n",
      "https://www.martindale.com/attorney/brenda-l-cordero-acaba-1573971/\n",
      "accediendo a: https://www.martindale.com/search/attorneys-law-firms-articles/?term=Puerto+Rico%2C+USA&params=eyJ0eXBlIjoicGVvcGxlIiwiY29tcGFyZSI6IiIsInRlcm0iOiJQdWVydG8gUmljbywgVVNBIiwiZ2VvTG9jYXRpb25GYWNldCI6WyJQdWVydG8gUmljbywgVS5TLkEuIl0sImdlb0xvY2F0aW9uRmFjZXRSZWNlbnRzIjpbIlB1ZXJ0byBSaWNvLCBVLlMuQS4iXSwicGFnZSI6MSwibGltaXQiOjI1LCJvZmZzZXQiOjAsInNvcnQiOiIiLCJzb3J0VHlwZSI6IiIsImNsZWFyUGFyYW1zIjpmYWxzZSwia2V5d29yZCI6IiIsInBhZ2VUaXRsZSI6Imw6UHVlcnRvIFJpY28sIFUuUy5BLiIsInByYWN0aWNlQXJlYXMiOlsiQ2l2aWwgTGl0aWdhdGlvbiJdfQ%3D%3D&page=2\n",
      "https://www.martindale.com/attorney/lilly-a-oronoz-rodriguez-1573620/\n",
      "https://www.martindale.com/attorney/maria-c-cartagena-cancel-4720848/\n",
      "https://www.martindale.com/attorney/monique-j-diaz-mayoral-31928825/\n",
      "https://www.martindale.com/attorney/alessandra-m-rosa-tirado-4045814/\n",
      "https://www.martindale.com/attorney/maguisabel-rivera-ramos-11442783/\n",
      "https://www.martindale.com/attorney/jose-m-marxuach-3163321/\n",
      "https://www.martindale.com/attorney/isabel-garces-castro-2248799/\n",
      "https://www.martindale.com/attorney/rafael-bosque-perez-2283879/\n",
      "https://www.martindale.com/attorney/michelle-m-garcia-perez-1572025/\n",
      "https://www.martindale.com/attorney/vanessa-saxton-arroyo-3339899/\n",
      "https://www.martindale.com/attorney/rafael-a-vila-carrion-1571567/\n",
      "https://www.martindale.com/attorney/yasthel-gonzalez-4634448/\n",
      "https://www.martindale.com/attorney/marisol-ramos-fernandez-1573813/\n",
      "https://www.martindale.com/attorney/joan-s-peters-1573524/\n",
      "https://www.martindale.com/attorney/leilani-torres-roca-3666573/\n",
      "https://www.martindale.com/attorney/sigrid-lopez-gonzalez-1571493/\n",
      "https://www.martindale.com/attorney/yarilyn-c-perez-colon-4504207/\n",
      "https://www.martindale.com/attorney/eduardo-r-jenks-carballeira-169070952/\n",
      "https://www.martindale.com/attorney/diego-ramirez-bigott-26078793/\n",
      "https://www.martindale.com/attorney/angel-r-jimenez-rogriguez-3713839/\n",
      "https://www.martindale.com/attorney/carlos-e-polo-1573468/\n",
      "https://www.martindale.com/attorney/raul-vazquez-rodriguez-1574145/\n",
      "https://www.martindale.com/attorney/peter-j-trias-grimes-1572648/\n",
      "accediendo a: https://www.martindale.com/search/attorneys-law-firms-articles/?term=Puerto+Rico%2C+USA&params=eyJ0eXBlIjoicGVvcGxlIiwiY29tcGFyZSI6IiIsInRlcm0iOiJQdWVydG8gUmljbywgVVNBIiwiZ2VvTG9jYXRpb25GYWNldCI6WyJQdWVydG8gUmljbywgVS5TLkEuIl0sImdlb0xvY2F0aW9uRmFjZXRSZWNlbnRzIjpbIlB1ZXJ0byBSaWNvLCBVLlMuQS4iXSwicGFnZSI6MSwibGltaXQiOjI1LCJvZmZzZXQiOjAsInNvcnQiOiIiLCJzb3J0VHlwZSI6IiIsImNsZWFyUGFyYW1zIjpmYWxzZSwia2V5d29yZCI6IiIsInBhZ2VUaXRsZSI6Imw6UHVlcnRvIFJpY28sIFUuUy5BLiIsInByYWN0aWNlQXJlYXMiOlsiQ2l2aWwgTGl0aWdhdGlvbiJdfQ%3D%3D&page=3\n",
      "https://www.martindale.com/attorney/roberto-c-quinones-rivera-1573264/\n",
      "https://www.martindale.com/attorney/karla-m-flores-medina-2956190/\n",
      "https://www.martindale.com/attorney/enid-milagros-cruz-alfaro-2441556/\n",
      "https://www.martindale.com/attorney/yolanda-benitez-de-alegria-2089126/\n",
      "https://www.martindale.com/attorney/berenice-b-bellotti-35687008/\n",
      "https://www.martindale.com/attorney/isabel-m-casellas-rodriguez-1573011/\n",
      "https://www.martindale.com/attorney/mary-n-santiago-rolan-2039491/\n",
      "https://www.martindale.com/attorney/fernando-j-fornaris-fernandez-1571999/\n",
      "https://www.martindale.com/attorney/nuyen-lin-marrero-bonilla-2529641/\n",
      "https://www.martindale.com/attorney/maria-alejandra-mercado-betancourt-1573322/\n",
      "https://www.martindale.com/attorney/amarilis-desoto-cordero-39092774/\n",
      "https://www.martindale.com/attorney/jorge-e-perez-diaz-1573405/\n",
      "https://www.martindale.com/attorney/rosanna-rivero-marin-24486796/\n",
      "https://www.martindale.com/attorney/roberto-j-j-buono-colon-2817535/\n",
      "https://www.martindale.com/attorney/francisco-l-acevedo-nogueras-1572152/\n",
      "https://www.martindale.com/attorney/eldia-m-diaz-olmo-1571216/\n",
      "https://www.martindale.com/attorney/janice-v-ortiz-valentin-3173178/\n",
      "https://www.martindale.com/attorney/andres-ramirez-marcano-3118083/\n",
      "https://www.martindale.com/attorney/luis-f-parrilla-hernandez-42058553/\n",
      "https://www.martindale.com/attorney/ma-margarita-eguia-moreda-45031610/\n",
      "https://www.martindale.com/attorney/julizzette-colon-bilbraut-2043058/\n",
      "https://www.martindale.com/attorney/ismael-l-purcell-soler-1995360/\n",
      "https://www.martindale.com/attorney/marcos-e-lopez-1572781/\n",
      "accediendo a: https://www.martindale.com/search/attorneys-law-firms-articles/?term=Puerto+Rico%2C+USA&params=eyJ0eXBlIjoicGVvcGxlIiwiY29tcGFyZSI6IiIsInRlcm0iOiJQdWVydG8gUmljbywgVVNBIiwiZ2VvTG9jYXRpb25GYWNldCI6WyJQdWVydG8gUmljbywgVS5TLkEuIl0sImdlb0xvY2F0aW9uRmFjZXRSZWNlbnRzIjpbIlB1ZXJ0byBSaWNvLCBVLlMuQS4iXSwicGFnZSI6MSwibGltaXQiOjI1LCJvZmZzZXQiOjAsInNvcnQiOiIiLCJzb3J0VHlwZSI6IiIsImNsZWFyUGFyYW1zIjpmYWxzZSwia2V5d29yZCI6IiIsInBhZ2VUaXRsZSI6Imw6UHVlcnRvIFJpY28sIFUuUy5BLiIsInByYWN0aWNlQXJlYXMiOlsiQ2l2aWwgTGl0aWdhdGlvbiJdfQ%3D%3D&page=4\n",
      "https://www.martindale.com/attorney/paul-hammer-168616428/\n",
      "https://www.martindale.com/attorney/lizzie-m-padro-1572851/\n",
      "https://www.martindale.com/attorney/angel-j-vargas-2784247/\n",
      "https://www.martindale.com/attorney/myriam-fernandez-gonzalez-2298314/\n",
      "https://www.martindale.com/attorney/margarita-cintron-solla-3334119/\n",
      "https://www.martindale.com/attorney/j-ramon-rivera-morales-1572955/\n",
      "https://www.martindale.com/attorney/juan-antonio-lopez-david-2298786/\n",
      "https://www.martindale.com/attorney/heidi-l-rodriguez-benitez-1573411/\n",
      "https://www.martindale.com/attorney/david-e-vera-umpierre-3339903/\n",
      "https://www.martindale.com/attorney/francisco-m-viejo-lopez-3706866/\n",
      "https://www.martindale.com/attorney/homero-gonzalez-lopez-1571920/\n",
      "https://www.martindale.com/attorney/ledo-francisco-r-moya-huff-1571504/\n",
      "https://www.martindale.com/attorney/xana-m-connelly-2812667/\n",
      "https://www.martindale.com/attorney/daniel-molina-lopez-1573001/\n",
      "https://www.martindale.com/attorney/maria-s-jimenez-melendez-1572916/\n",
      "https://www.martindale.com/attorney/julian-r-rivera-aspinall-1572969/\n",
      "https://www.martindale.com/attorney/jorge-i-peirats-1573406/\n",
      "https://www.martindale.com/attorney/orlando-h-martinez-echeverria-1573421/\n",
      "https://www.martindale.com/attorney/roberto-o-maldonado-nieves-1574110/\n",
      "accediendo a: https://www.martindale.com/search/attorneys-law-firms-articles/?term=Puerto+Rico%2C+USA&params=eyJ0eXBlIjoicGVvcGxlIiwiY29tcGFyZSI6IiIsInRlcm0iOiJQdWVydG8gUmljbywgVVNBIiwiZ2VvTG9jYXRpb25GYWNldCI6WyJQdWVydG8gUmljbywgVS5TLkEuIl0sImdlb0xvY2F0aW9uRmFjZXRSZWNlbnRzIjpbIlB1ZXJ0byBSaWNvLCBVLlMuQS4iXSwicGFnZSI6MSwibGltaXQiOjI1LCJvZmZzZXQiOjAsInNvcnQiOiIiLCJzb3J0VHlwZSI6IiIsImNsZWFyUGFyYW1zIjpmYWxzZSwia2V5d29yZCI6IiIsInBhZ2VUaXRsZSI6Imw6UHVlcnRvIFJpY28sIFUuUy5BLiIsInByYWN0aWNlQXJlYXMiOlsiQ2l2aWwgTGl0aWdhdGlvbiJdfQ%3D%3D&page=5\n",
      "https://www.martindale.com/attorney/maritza-torres-rivera-2092243/\n",
      "https://www.martindale.com/attorney/jose-r-gonzalez-nogueras-1573002/\n",
      "https://www.martindale.com/attorney/carlos-m-rivera-vicente-1571987/\n",
      "https://www.martindale.com/attorney/ruben-aponte-mellado-169079736/\n",
      "https://www.martindale.com/attorney/jose-e-sanchez-solivan-1574035/\n",
      "https://www.martindale.com/attorney/yarliz-a-rios-portela-13792232/\n",
      "https://www.martindale.com/attorney/jose-r-gonzalez-nogueras-2041784/\n",
      "https://www.martindale.com/attorney/romeu-e-cancio-bello-1572047/\n",
      "https://www.martindale.com/attorney/karem-m-rodriguez-garcia-31928827/\n",
      "https://www.martindale.com/attorney/javier-i-perez-suarez-2826267/\n",
      "https://www.martindale.com/attorney/alejandro-j-blanco-dalmau-157142514/\n",
      "https://www.martindale.com/attorney/arturo-g-ortiz-rodriguez-1573016/\n",
      "https://www.martindale.com/attorney/plinio-perez-marrero-1573695/\n",
      "https://www.martindale.com/attorney/normary-figueroa-2825371/\n",
      "https://www.martindale.com/attorney/nylca-j-munoz-3666589/\n",
      "https://www.martindale.com/attorney/juan-l-duquela-fuentes-2969064/\n",
      "https://www.martindale.com/attorney/lillian-teresa-de-la-cruz-torres-1571998/\n",
      "https://www.martindale.com/attorney/marie-e-lopez-adames-1571921/\n",
      "https://www.martindale.com/attorney/jose-r-ortiz-velez-1573848/\n",
      "https://www.martindale.com/attorney/juan-carlos-pou-1573851/\n",
      "https://www.martindale.com/attorney/pablo-hymovitz-3568886/\n",
      "https://www.martindale.com/attorney/sonia-b-alfaro-de-la-vega-2093366/\n",
      "accediendo a: https://www.martindale.com/search/attorneys-law-firms-articles/?term=Puerto+Rico%2C+USA&params=eyJ0eXBlIjoicGVvcGxlIiwiY29tcGFyZSI6IiIsInRlcm0iOiJQdWVydG8gUmljbywgVVNBIiwiZ2VvTG9jYXRpb25GYWNldCI6WyJQdWVydG8gUmljbywgVS5TLkEuIl0sImdlb0xvY2F0aW9uRmFjZXRSZWNlbnRzIjpbIlB1ZXJ0byBSaWNvLCBVLlMuQS4iXSwicGFnZSI6MSwibGltaXQiOjI1LCJvZmZzZXQiOjAsInNvcnQiOiIiLCJzb3J0VHlwZSI6IiIsImNsZWFyUGFyYW1zIjpmYWxzZSwia2V5d29yZCI6IiIsInBhZ2VUaXRsZSI6Imw6UHVlcnRvIFJpY28sIFUuUy5BLiIsInByYWN0aWNlQXJlYXMiOlsiQ2l2aWwgTGl0aWdhdGlvbiJdfQ%3D%3D&page=6\n",
      "https://www.martindale.com/attorney/manuel-a-pietrantoni-168322626/\n",
      "https://www.martindale.com/attorney/luis-e-dubon-iii-1572366/\n",
      "https://www.martindale.com/attorney/frances-r-colon-rivera-1572840/\n",
      "https://www.martindale.com/attorney/rafael-a-rivera-rosa-1571464/\n",
      "https://www.martindale.com/attorney/alberto-rodriguez-ramos-1572145/\n",
      "https://www.martindale.com/attorney/edwin-franqui-gonzalez-1571747/\n",
      "https://www.martindale.com/attorney/luis-enrique-vazquez-rodriguez-1573395/\n",
      "https://www.martindale.com/attorney/jose-t-silva-cuetara-1574064/\n",
      "https://www.martindale.com/attorney/maria-b-maldonado-1571201/\n",
      "https://www.martindale.com/attorney/maria-d-bertolez-elvira-1573426/\n",
      "https://www.martindale.com/attorney/arlene-r-perez-borrero-2172421/\n",
      "https://www.martindale.com/attorney/rafael-m-santiago-rosa-1571762/\n",
      "https://www.martindale.com/attorney/ivan-f-gonzalez-carmona-1571494/\n",
      "https://www.martindale.com/attorney/jose-carlos-diaz-vega-1572193/\n",
      "https://www.martindale.com/attorney/veronica-ferraiuoli-hornedo-1573310/\n",
      "https://www.martindale.com/attorney/rafael-e-barreto-sola-1572007/\n",
      "https://www.martindale.com/attorney/jose-a-masini-soler-1573118/\n",
      "https://www.martindale.com/attorney/myriam-e-matos-bermudez-35683030/\n",
      "https://www.martindale.com/attorney/javier-inclan-300309206/\n",
      "https://www.martindale.com/attorney/ramon-e-gomez-colon-1573467/\n",
      "https://www.martindale.com/attorney/ian-p-carvajal-1571639/\n",
      "https://www.martindale.com/attorney/rosalie-irizarry-silvestrini-esq-167972218/\n",
      "accediendo a: https://www.martindale.com/search/attorneys-law-firms-articles/?term=Puerto+Rico%2C+USA&params=eyJ0eXBlIjoicGVvcGxlIiwiY29tcGFyZSI6IiIsInRlcm0iOiJQdWVydG8gUmljbywgVVNBIiwiZ2VvTG9jYXRpb25GYWNldCI6WyJQdWVydG8gUmljbywgVS5TLkEuIl0sImdlb0xvY2F0aW9uRmFjZXRSZWNlbnRzIjpbIlB1ZXJ0byBSaWNvLCBVLlMuQS4iXSwicGFnZSI6MSwibGltaXQiOjI1LCJvZmZzZXQiOjAsInNvcnQiOiIiLCJzb3J0VHlwZSI6IiIsImNsZWFyUGFyYW1zIjpmYWxzZSwia2V5d29yZCI6IiIsInBhZ2VUaXRsZSI6Imw6UHVlcnRvIFJpY28sIFUuUy5BLiIsInByYWN0aWNlQXJlYXMiOlsiQ2l2aWwgTGl0aWdhdGlvbiJdfQ%3D%3D&page=7\n",
      "https://www.martindale.com/attorney/jose-de-la-cruz-skerrett-2039489/\n",
      "https://www.martindale.com/attorney/jorge-e-galva-1571206/\n",
      "https://www.martindale.com/attorney/jorge-m-izquierdo-san-miguel-1573639/\n",
      "https://www.martindale.com/attorney/ana-b-rosado-frontanes-2935534/\n",
      "https://www.martindale.com/attorney/edna-e-perez-roman-11054748/\n",
      "https://www.martindale.com/attorney/fernando-j-collazo-valle-2706652/\n",
      "https://www.martindale.com/attorney/nestor-m-mendez-gomez-1573400/\n",
      "https://www.martindale.com/attorney/hector-m-melendez-cano-1572649/\n",
      "https://www.martindale.com/attorney/laura-crumley-4703933/\n",
      "https://www.martindale.com/attorney/victoria-d-pierce-king-1572001/\n",
      "https://www.martindale.com/attorney/maria-luisa-montalvo-1994922/\n",
      "https://www.martindale.com/attorney/luis-d-flores-gonzalez-1571545/\n",
      "https://www.martindale.com/attorney/carlos-e-umplerre-schuck-2024724/\n",
      "https://www.martindale.com/attorney/eduardo-cobian-27060364/\n",
      "https://www.martindale.com/attorney/arlene-de-la-mata-melendez-1571517/\n",
      "https://www.martindale.com/attorney/rodney-w-colon-ortiz-2248658/\n",
      "https://www.martindale.com/attorney/pedro-j-salicrup-1574006/\n",
      "https://www.martindale.com/attorney/jorge-calero-blanco-1573297/\n",
      "https://www.martindale.com/attorney/ramon-coto-ojeda-1573193/\n",
      "https://www.martindale.com/attorney/luis-f-del-valle-emmanuelli-1571467/\n",
      "https://www.martindale.com/attorney/maribel-veaz-morales-2297930/\n",
      "https://www.martindale.com/attorney/ivan-a-ramirez-ramirez-2023427/\n",
      "https://www.martindale.com/attorney/rafael-a-mirabal-conde-1571123/\n",
      "accediendo a: https://www.martindale.com/search/attorneys-law-firms-articles/?term=Puerto+Rico%2C+USA&params=eyJ0eXBlIjoicGVvcGxlIiwiY29tcGFyZSI6IiIsInRlcm0iOiJQdWVydG8gUmljbywgVVNBIiwiZ2VvTG9jYXRpb25GYWNldCI6WyJQdWVydG8gUmljbywgVS5TLkEuIl0sImdlb0xvY2F0aW9uRmFjZXRSZWNlbnRzIjpbIlB1ZXJ0byBSaWNvLCBVLlMuQS4iXSwicGFnZSI6MSwibGltaXQiOjI1LCJvZmZzZXQiOjAsInNvcnQiOiIiLCJzb3J0VHlwZSI6IiIsImNsZWFyUGFyYW1zIjpmYWxzZSwia2V5d29yZCI6IiIsInBhZ2VUaXRsZSI6Imw6UHVlcnRvIFJpY28sIFUuUy5BLiIsInByYWN0aWNlQXJlYXMiOlsiQ2l2aWwgTGl0aWdhdGlvbiJdfQ%3D%3D&page=8\n",
      "https://www.martindale.com/attorney/sergio-sanchez-pagan-11039080/\n",
      "https://www.martindale.com/attorney/georgette-rodriguez-1572388/\n",
      "https://www.martindale.com/attorney/yolanda-m-roman-gomez-1573916/\n",
      "https://www.martindale.com/attorney/kenneth-c-suria-455394/\n",
      "https://www.martindale.com/attorney/carlos-e-george-2007226/\n",
      "https://www.martindale.com/attorney/rafael-a-nadal-arcelay-1571989/\n",
      "https://www.martindale.com/attorney/antonio-jimenez-miranda-1573480/\n",
      "https://www.martindale.com/attorney/mildred-l-santana-mejias-1572192/\n",
      "https://www.martindale.com/attorney/jorge-r-jimenez-1573767/\n",
      "https://www.martindale.com/attorney/courtney-roberta-carroll-1573648/\n",
      "https://www.martindale.com/attorney/adaljisa-perez-andreu-1573720/\n",
      "https://www.martindale.com/attorney/luis-a-plaza-mariota-1571516/\n",
      "https://www.martindale.com/attorney/elba-marie-baez-rivera-1572250/\n",
      "https://www.martindale.com/attorney/javier-a-rivera-melendez-4644057/\n",
      "https://www.martindale.com/attorney/jose-hector-toledo-toledo-esq-4239936/\n",
      "https://www.martindale.com/attorney/ricardo-luiggi-4720853/\n",
      "https://www.martindale.com/attorney/norah-e-fernandez-vallejo-1573972/\n",
      "https://www.martindale.com/attorney/bruce-j-mcgiverin-1573391/\n",
      "https://www.martindale.com/attorney/herbert-w-brown-iii-1571613/\n",
      "https://www.martindale.com/attorney/maricarmen-calero-font-2777756/\n",
      "https://www.martindale.com/attorney/norberto-perez-4660740/\n",
      "https://www.martindale.com/attorney/carlos-m-declet-1571484/\n",
      "accediendo a: https://www.martindale.com/search/attorneys-law-firms-articles/?term=Puerto+Rico%2C+USA&params=eyJ0eXBlIjoicGVvcGxlIiwiY29tcGFyZSI6IiIsInRlcm0iOiJQdWVydG8gUmljbywgVVNBIiwiZ2VvTG9jYXRpb25GYWNldCI6WyJQdWVydG8gUmljbywgVS5TLkEuIl0sImdlb0xvY2F0aW9uRmFjZXRSZWNlbnRzIjpbIlB1ZXJ0byBSaWNvLCBVLlMuQS4iXSwicGFnZSI6MSwibGltaXQiOjI1LCJvZmZzZXQiOjAsInNvcnQiOiIiLCJzb3J0VHlwZSI6IiIsImNsZWFyUGFyYW1zIjpmYWxzZSwia2V5d29yZCI6IiIsInBhZ2VUaXRsZSI6Imw6UHVlcnRvIFJpY28sIFUuUy5BLiIsInByYWN0aWNlQXJlYXMiOlsiQ2l2aWwgTGl0aWdhdGlvbiJdfQ%3D%3D&page=9\n",
      "https://www.martindale.com/attorney/nynorsha-lugo-sanchez-2965938/\n",
      "https://www.martindale.com/attorney/vanessa-mullet-sanchez-3667870/\n",
      "https://www.martindale.com/attorney/rosanna-rivera-llantin-2037733/\n",
      "https://www.martindale.com/attorney/caroline-alicea-valentin-2774917/\n",
      "https://www.martindale.com/attorney/mariana-ortiz-colon-4504187/\n",
      "https://www.martindale.com/attorney/vanessa-blanco-mendez-45032586/\n",
      "https://www.martindale.com/attorney/felipe-f-negron-rodriguez-3568878/\n",
      "https://www.martindale.com/attorney/catherine-catala-lasanta-2501686/\n",
      "https://www.martindale.com/attorney/yeline-quinones-ms-4634447/\n",
      "https://www.martindale.com/attorney/gloria-m-sierra-enriquez-1572206/\n",
      "https://www.martindale.com/attorney/ana-t-alemany-martinez-157142422/\n",
      "https://www.martindale.com/attorney/juan-carlos-aviles-feliu-2780968/\n",
      "https://www.martindale.com/attorney/bayoan-muniz-calderon-45031556/\n",
      "https://www.martindale.com/attorney/armando-lasa-ferrer-1571200/\n",
      "https://www.martindale.com/attorney/jose-e-alfaro-delgado-13827998/\n",
      "https://www.martindale.com/attorney/lucas-cordova-ayuso-36857270/\n",
      "https://www.martindale.com/attorney/ileann-marie-canellas-correa-2441571/\n",
      "https://www.martindale.com/attorney/elisa-figueroa-baez-1571495/\n",
      "https://www.martindale.com/attorney/roberto-a-fernandez-quiles-2097337/\n",
      "https://www.martindale.com/attorney/zoraida-buxo-1571670/\n",
      "https://www.martindale.com/attorney/elvira-cancio-1571716/\n",
      "https://www.martindale.com/attorney/maria-de-lourdes-rivera-de-jimenez-36802265/\n",
      "https://www.martindale.com/attorney/pedro-r-vazquez-iii-157095457/\n",
      "accediendo a: https://www.martindale.com/search/attorneys-law-firms-articles/?term=Puerto+Rico%2C+USA&params=eyJ0eXBlIjoicGVvcGxlIiwiY29tcGFyZSI6IiIsInRlcm0iOiJQdWVydG8gUmljbywgVVNBIiwiZ2VvTG9jYXRpb25GYWNldCI6WyJQdWVydG8gUmljbywgVS5TLkEuIl0sImdlb0xvY2F0aW9uRmFjZXRSZWNlbnRzIjpbIlB1ZXJ0byBSaWNvLCBVLlMuQS4iXSwicGFnZSI6MSwibGltaXQiOjI1LCJvZmZzZXQiOjAsInNvcnQiOiIiLCJzb3J0VHlwZSI6IiIsImNsZWFyUGFyYW1zIjpmYWxzZSwia2V5d29yZCI6IiIsInBhZ2VUaXRsZSI6Imw6UHVlcnRvIFJpY28sIFUuUy5BLiIsInByYWN0aWNlQXJlYXMiOlsiQ2l2aWwgTGl0aWdhdGlvbiJdfQ%3D%3D&page=10\n",
      "https://www.martindale.com/attorney/jose-w-vazquez-1573431/\n",
      "https://www.martindale.com/attorney/sandra-c-malave-hernandez-1572028/\n",
      "https://www.martindale.com/attorney/cynthia-m-gonzalez-aranguren-1574144/\n",
      "https://www.martindale.com/attorney/giselle-colon-de-ferenczi-1573523/\n",
      "https://www.martindale.com/attorney/juan-carlos-berrios-albino-26903273/\n",
      "https://www.martindale.com/attorney/lourdes-i-morera-ledon-1572770/\n",
      "https://www.martindale.com/attorney/victor-m-maldonado-gomez-1572621/\n",
      "https://www.martindale.com/attorney/ada-michelle-lugo-oliveras-2344770/\n",
      "https://www.martindale.com/attorney/antonio-j-ramirez-aponte-1573341/\n",
      "https://www.martindale.com/attorney/michelle-camacho-nieves-4662827/\n",
      "https://www.martindale.com/attorney/maressa-abadia-munoz-1572776/\n",
      "https://www.martindale.com/attorney/david-del-toro-otero-2956150/\n",
      "https://www.martindale.com/attorney/rica-lopez-de-alos-1573304/\n",
      "https://www.martindale.com/attorney/miguel-ortega-nunez-4674603/\n",
      "https://www.martindale.com/attorney/leslie-y-flores-rodriguez-4720850/\n",
      "https://www.martindale.com/attorney/lemuel-cancel-mendez-2092799/\n",
      "https://www.martindale.com/attorney/ramon-lloveras-otero-1573071/\n",
      "https://www.martindale.com/attorney/maria-de-pilar-fas-santiago-2430833/\n",
      "https://www.martindale.com/attorney/carolina-iguina-lopez-13789473/\n",
      "https://www.martindale.com/attorney/stella-maris-molina-rosario-2089136/\n",
      "https://www.martindale.com/attorney/paul-m-vilaro-nelms-1572104/\n",
      "https://www.martindale.com/attorney/patricia-rivera-macmurray-1572294/\n",
      "accediendo a: https://www.martindale.com/search/attorneys-law-firms-articles/?term=Puerto+Rico%2C+USA&params=eyJ0eXBlIjoicGVvcGxlIiwiY29tcGFyZSI6IiIsInRlcm0iOiJQdWVydG8gUmljbywgVVNBIiwiZ2VvTG9jYXRpb25GYWNldCI6WyJQdWVydG8gUmljbywgVS5TLkEuIl0sImdlb0xvY2F0aW9uRmFjZXRSZWNlbnRzIjpbIlB1ZXJ0byBSaWNvLCBVLlMuQS4iXSwicGFnZSI6MSwibGltaXQiOjI1LCJvZmZzZXQiOjAsInNvcnQiOiIiLCJzb3J0VHlwZSI6IiIsImNsZWFyUGFyYW1zIjpmYWxzZSwia2V5d29yZCI6IiIsInBhZ2VUaXRsZSI6Imw6UHVlcnRvIFJpY28sIFUuUy5BLiIsInByYWN0aWNlQXJlYXMiOlsiQ2l2aWwgTGl0aWdhdGlvbiJdfQ%3D%3D&page=11\n",
      "https://www.martindale.com/attorney/david-maldonado-sanchez-2849209/\n",
      "https://www.martindale.com/attorney/rafael-e-aguilo-velez-1573150/\n",
      "https://www.martindale.com/attorney/minerva-villanueva-rios-2041651/\n",
      "https://www.martindale.com/attorney/luis-rivera-roman-24273969/\n",
      "https://www.martindale.com/attorney/julicel-sepulveda-anavitarte-4294152/\n",
      "https://www.martindale.com/attorney/jorge-c-pizarro-garcia-2041798/\n",
      "https://www.martindale.com/attorney/antonio-fiol-matta-1571436/\n",
      "https://www.martindale.com/attorney/carlos-a-gonzalez-soler-1991082/\n",
      "https://www.martindale.com/attorney/cristina-m-fernandez-neumann-1573349/\n",
      "https://www.martindale.com/attorney/edgardo-pabon-rodriguez-5138059/\n",
      "https://www.martindale.com/attorney/john-f-malley-vega-iii-1573194/\n",
      "https://www.martindale.com/attorney/luis-n-saldana-roman-1571638/\n",
      "https://www.martindale.com/attorney/jaime-mayol-bianchi-1571173/\n",
      "https://www.martindale.com/attorney/ramon-l-ramos-aponte-169079732/\n",
      "https://www.martindale.com/attorney/fernando-sabater-clavell-45032558/\n",
      "https://www.martindale.com/attorney/myrna-ruiz-olmo-4720857/\n",
      "https://www.martindale.com/attorney/ingrid-oms-maldonado-1573525/\n",
      "https://www.martindale.com/attorney/diana-m-batlle-barasorda-1572547/\n",
      "https://www.martindale.com/attorney/rafael-g-rivera-rosario-1572639/\n",
      "accediendo a: https://www.martindale.com/search/attorneys-law-firms-articles/?term=Puerto+Rico%2C+USA&params=eyJ0eXBlIjoicGVvcGxlIiwiY29tcGFyZSI6IiIsInRlcm0iOiJQdWVydG8gUmljbywgVVNBIiwiZ2VvTG9jYXRpb25GYWNldCI6WyJQdWVydG8gUmljbywgVS5TLkEuIl0sImdlb0xvY2F0aW9uRmFjZXRSZWNlbnRzIjpbIlB1ZXJ0byBSaWNvLCBVLlMuQS4iXSwicGFnZSI6MSwibGltaXQiOjI1LCJvZmZzZXQiOjAsInNvcnQiOiIiLCJzb3J0VHlwZSI6IiIsImNsZWFyUGFyYW1zIjpmYWxzZSwia2V5d29yZCI6IiIsInBhZ2VUaXRsZSI6Imw6UHVlcnRvIFJpY28sIFUuUy5BLiIsInByYWN0aWNlQXJlYXMiOlsiQ2l2aWwgTGl0aWdhdGlvbiJdfQ%3D%3D&page=12\n",
      "https://www.martindale.com/attorney/jaime-brugueras-1572612/\n",
      "https://www.martindale.com/attorney/javier-cuevas-silva-1571993/\n",
      "https://www.martindale.com/attorney/nelson-perez-dominguez-1572251/\n",
      "https://www.martindale.com/attorney/gina-aguilar-gerardino-2101762/\n",
      "https://www.martindale.com/attorney/alberto-j-pico-gonzalez-jr-1572107/\n",
      "https://www.martindale.com/attorney/herman-g-colberg-1573423/\n",
      "https://www.martindale.com/attorney/arlene-v-patino-lorenzo-13230809/\n",
      "https://www.martindale.com/attorney/manuel-sosa-baez-2182906/\n",
      "https://www.martindale.com/attorney/olga-isabel-nigaglioni-cruz-2277901/\n",
      "https://www.martindale.com/attorney/miriam-waleska-sanchez-arroyo-1572349/\n",
      "https://www.martindale.com/attorney/valerie-maldonado-rivera-3655960/\n",
      "https://www.martindale.com/attorney/javier-i-arbona-azizi-2108985/\n",
      "https://www.martindale.com/attorney/jorge-a-salichs-escalona-4504246/\n",
      "https://www.martindale.com/attorney/leah-fawn-walsh-157875053/\n",
      "https://www.martindale.com/attorney/britt-e-arrieta-rivera-28526087/\n",
      "https://www.martindale.com/attorney/johnny-correa-noa-1573970/\n",
      "https://www.martindale.com/attorney/alicia-i-lavergne-ramirez-1572773/\n",
      "https://www.martindale.com/attorney/zelma-davilla-carrasquillo-2529680/\n",
      "https://www.martindale.com/attorney/carmine-castro-1571702/\n",
      "https://www.martindale.com/attorney/joan-mulet-1573290/\n",
      "https://www.martindale.com/attorney/luisa-m-storer-bello-1571469/\n",
      "https://www.martindale.com/attorney/mario-a-arroyo-maymi-3707938/\n",
      "accediendo a: https://www.martindale.com/search/attorneys-law-firms-articles/?term=Puerto+Rico%2C+USA&params=eyJ0eXBlIjoicGVvcGxlIiwiY29tcGFyZSI6IiIsInRlcm0iOiJQdWVydG8gUmljbywgVVNBIiwiZ2VvTG9jYXRpb25GYWNldCI6WyJQdWVydG8gUmljbywgVS5TLkEuIl0sImdlb0xvY2F0aW9uRmFjZXRSZWNlbnRzIjpbIlB1ZXJ0byBSaWNvLCBVLlMuQS4iXSwicGFnZSI6MSwibGltaXQiOjI1LCJvZmZzZXQiOjAsInNvcnQiOiIiLCJzb3J0VHlwZSI6IiIsImNsZWFyUGFyYW1zIjpmYWxzZSwia2V5d29yZCI6IiIsInBhZ2VUaXRsZSI6Imw6UHVlcnRvIFJpY28sIFUuUy5BLiIsInByYWN0aWNlQXJlYXMiOlsiQ2l2aWwgTGl0aWdhdGlvbiJdfQ%3D%3D&page=13\n",
      "https://www.martindale.com/attorney/sergio-a-ramirez-de-arellano-1573787/\n",
      "https://www.martindale.com/attorney/daniel-quiles-pumarejo-18549008/\n",
      "https://www.martindale.com/attorney/eyck-omar-lugo-rivera-2248858/\n",
      "https://www.martindale.com/attorney/cesar-a-andreu-ramirez-de-arellano-1572008/\n",
      "https://www.martindale.com/attorney/maribel-gonzalez-nieves-1572618/\n",
      "https://www.martindale.com/attorney/david-pujol-pantinat-2590029/\n",
      "https://www.martindale.com/attorney/ghia-m-pieraldi-vassallo-4703937/\n",
      "https://www.martindale.com/attorney/emmalind-garcia-garcia-1573717/\n",
      "https://www.martindale.com/attorney/luis-torres-ramos-2750455/\n",
      "https://www.martindale.com/attorney/giselle-lopez-soler-13986962/\n",
      "https://www.martindale.com/attorney/monica-a-santiago-vazquez-1573619/\n",
      "https://www.martindale.com/attorney/moraima-rios-24406822/\n",
      "https://www.martindale.com/attorney/carlos-a-lazaro-castro-2041626/\n",
      "https://www.martindale.com/attorney/angel-r-jimenez-rodriguez-24070752/\n",
      "https://www.martindale.com/attorney/nanette-m-rodriguez-franceschini-26078869/\n",
      "https://www.martindale.com/attorney/carmen-v-lopez-villafane-1571763/\n",
      "https://www.martindale.com/attorney/oscar-o-melendez-sauri-1571895/\n",
      "accediendo a: https://www.martindale.com/search/attorneys-law-firms-articles/?term=Puerto+Rico%2C+USA&params=eyJ0eXBlIjoicGVvcGxlIiwiY29tcGFyZSI6IiIsInRlcm0iOiJQdWVydG8gUmljbywgVVNBIiwiZ2VvTG9jYXRpb25GYWNldCI6WyJQdWVydG8gUmljbywgVS5TLkEuIl0sImdlb0xvY2F0aW9uRmFjZXRSZWNlbnRzIjpbIlB1ZXJ0byBSaWNvLCBVLlMuQS4iXSwicGFnZSI6MSwibGltaXQiOjI1LCJvZmZzZXQiOjAsInNvcnQiOiIiLCJzb3J0VHlwZSI6IiIsImNsZWFyUGFyYW1zIjpmYWxzZSwia2V5d29yZCI6IiIsInBhZ2VUaXRsZSI6Imw6UHVlcnRvIFJpY28sIFUuUy5BLiIsInByYWN0aWNlQXJlYXMiOlsiQ2l2aWwgTGl0aWdhdGlvbiJdfQ%3D%3D&page=14\n",
      "https://www.martindale.com/attorney/monique-guillemard-noble-1573526/\n",
      "https://www.martindale.com/attorney/gabriel-i-penagaricano-1573689/\n",
      "https://www.martindale.com/attorney/mario-pabon-rosario-2277865/\n",
      "https://www.martindale.com/attorney/charles-a-cuprill-hernandez-1571336/\n",
      "https://www.martindale.com/attorney/anabel-rodriguez-alonso-1573158/\n",
      "https://www.martindale.com/attorney/nannette-berrios-haddock-2584364/\n",
      "https://www.martindale.com/attorney/roberto-feliberti-cintron-1572009/\n",
      "https://www.martindale.com/attorney/irma-e-castro-dieppa-3960767/\n",
      "https://www.martindale.com/attorney/osvaldo-j-feliu-villegas-3189644/\n",
      "https://www.martindale.com/attorney/linda-s-rodriguez-gardeslen-2039494/\n",
      "https://www.martindale.com/attorney/wilson-galarza-3582957/\n",
      "https://www.martindale.com/attorney/maria-a-casablanca-baldrich-2739255/\n",
      "https://www.martindale.com/attorney/frank-m-gonzalez-acevedo-1571556/\n",
      "https://www.martindale.com/attorney/lemuel-cancel-mendez-2735164/\n",
      "https://www.martindale.com/attorney/jose-l-nieto-159556403/\n",
      "https://www.martindale.com/attorney/joanna-bocanegra-ocasio-1572836/\n",
      "https://www.martindale.com/attorney/maria-c-jimenez-perez-1573439/\n",
      "https://www.martindale.com/attorney/luis-g-rullan-2821862/\n",
      "https://www.martindale.com/attorney/angel-j-pagan-cordero-3358962/\n",
      "https://www.martindale.com/attorney/michelle-rodriguez-miranda-1572917/\n",
      "accediendo a: https://www.martindale.com/search/attorneys-law-firms-articles/?term=Puerto+Rico%2C+USA&params=eyJ0eXBlIjoicGVvcGxlIiwiY29tcGFyZSI6IiIsInRlcm0iOiJQdWVydG8gUmljbywgVVNBIiwiZ2VvTG9jYXRpb25GYWNldCI6WyJQdWVydG8gUmljbywgVS5TLkEuIl0sImdlb0xvY2F0aW9uRmFjZXRSZWNlbnRzIjpbIlB1ZXJ0byBSaWNvLCBVLlMuQS4iXSwicGFnZSI6MSwibGltaXQiOjI1LCJvZmZzZXQiOjAsInNvcnQiOiIiLCJzb3J0VHlwZSI6IiIsImNsZWFyUGFyYW1zIjpmYWxzZSwia2V5d29yZCI6IiIsInBhZ2VUaXRsZSI6Imw6UHVlcnRvIFJpY28sIFUuUy5BLiIsInByYWN0aWNlQXJlYXMiOlsiQ2l2aWwgTGl0aWdhdGlvbiJdfQ%3D%3D&page=15\n",
      "https://www.martindale.com/attorney/michelle-taveira-tirado-3118045/\n",
      "https://www.martindale.com/attorney/melissa-m-diaz-melendez-4644090/\n",
      "https://www.martindale.com/attorney/jennifer-odell-gonzalez-1572184/\n",
      "https://www.martindale.com/attorney/marta-l-quinones-zambrana-1571994/\n",
      "https://www.martindale.com/attorney/donna-a-maldonado-rivera-2035550/\n",
      "https://www.martindale.com/attorney/gabriel-a-penagaricano-1573196/\n",
      "https://www.martindale.com/attorney/victor-quinones-martinez-33975880/\n",
      "https://www.martindale.com/attorney/francisco-rebollo-casalduc-1573521/\n",
      "https://www.martindale.com/attorney/jose-r-cancio-bigas-1571746/\n",
      "https://www.martindale.com/attorney/elsie-goyco-rodriguez-2662580/\n",
      "https://www.martindale.com/attorney/lynn-doble-salicrup-1573161/\n",
      "https://www.martindale.com/attorney/antonio-j-cruz-bonilla-2038583/\n",
      "https://www.martindale.com/attorney/maria-eugenia-villares-seneriz-2299497/\n",
      "https://www.martindale.com/attorney/maricely-blaimayar-sanchez-5138060/\n",
      "https://www.martindale.com/attorney/graciana-gonzalez-1572291/\n",
      "https://www.martindale.com/attorney/ada-angelica-garcia-medina-law-offices-1573064/\n",
      "https://www.martindale.com/attorney/jose-javier-santos-1573007/\n",
      "https://www.martindale.com/attorney/alexandra-rivera-saez-2540413/\n",
      "https://www.martindale.com/attorney/marilyn-burgos-marques-2007531/\n",
      "https://www.martindale.com/attorney/daniel-garcia-chamorro-1571462/\n",
      "https://www.martindale.com/attorney/debbie-bermudez-1571203/\n",
      "https://www.martindale.com/attorney/carlos-m-hernandez-lopez-1573820/\n",
      "https://www.martindale.com/attorney/vanessa-medina-romero-2504917/\n",
      "https://www.martindale.com/attorney/cecilia-m-suau-bada-157641159/\n",
      "accediendo a: https://www.martindale.com/search/attorneys-law-firms-articles/?term=Puerto+Rico%2C+USA&params=eyJ0eXBlIjoicGVvcGxlIiwiY29tcGFyZSI6IiIsInRlcm0iOiJQdWVydG8gUmljbywgVVNBIiwiZ2VvTG9jYXRpb25GYWNldCI6WyJQdWVydG8gUmljbywgVS5TLkEuIl0sImdlb0xvY2F0aW9uRmFjZXRSZWNlbnRzIjpbIlB1ZXJ0byBSaWNvLCBVLlMuQS4iXSwicGFnZSI6MSwibGltaXQiOjI1LCJvZmZzZXQiOjAsInNvcnQiOiIiLCJzb3J0VHlwZSI6IiIsImNsZWFyUGFyYW1zIjpmYWxzZSwia2V5d29yZCI6IiIsInBhZ2VUaXRsZSI6Imw6UHVlcnRvIFJpY28sIFUuUy5BLiIsInByYWN0aWNlQXJlYXMiOlsiQ2l2aWwgTGl0aWdhdGlvbiJdfQ%3D%3D&page=16\n",
      "https://www.martindale.com/attorney/pedro-lopez-adames-1572707/\n",
      "https://www.martindale.com/attorney/eric-r-ronda-del-toro-1573963/\n",
      "https://www.martindale.com/attorney/alcides-a-reyes-gilestra-1573157/\n",
      "https://www.martindale.com/attorney/yesika-z-ramos-28828278/\n",
      "https://www.martindale.com/attorney/miguel-a-serrano-urdaz-24486775/\n",
      "https://www.martindale.com/attorney/georganna-lynn-drayton-2068780/\n",
      "https://www.martindale.com/attorney/antonio-m-peluzzo-perotin-1574142/\n",
      "https://www.martindale.com/attorney/ruben-soto-2774175/\n",
      "https://www.martindale.com/attorney/neftali-cruz-perez-1573100/\n",
      "https://www.martindale.com/attorney/fernando-j-lavandero-latimer-1572432/\n",
      "https://www.martindale.com/attorney/carlos-cebollero-1573777/\n",
      "https://www.martindale.com/attorney/sarah-gotos-hernandez-301123318/\n",
      "https://www.martindale.com/attorney/lina-m-soler-rosario-157641147/\n",
      "https://www.martindale.com/attorney/marta-l-rivera-ruiz-3358970/\n",
      "https://www.martindale.com/attorney/carmen-m-ramirez-fiol-404391/\n",
      "https://www.martindale.com/attorney/concepcion-gonzalez-2121820/\n",
      "https://www.martindale.com/attorney/yvonne-m-menendez-calero-2057199/\n",
      "https://www.martindale.com/attorney/maria-e-del-valle-rexach-11857127/\n",
      "https://www.martindale.com/attorney/isabel-c-gandulla-diaz-2101752/\n",
      "https://www.martindale.com/attorney/maria-i-santos-1572555/\n",
      "https://www.martindale.com/attorney/ruy-v-diaz-diaz-1572965/\n",
      "https://www.martindale.com/attorney/jose-e-arroyo-davila-1572787/\n",
      "https://www.martindale.com/attorney/juan-m-frontera-suau-1573154/\n",
      "https://www.martindale.com/attorney/carmen-i-munoz-noya-1573054/\n",
      "accediendo a: https://www.martindale.com/search/attorneys-law-firms-articles/?term=Puerto+Rico%2C+USA&params=eyJ0eXBlIjoicGVvcGxlIiwiY29tcGFyZSI6IiIsInRlcm0iOiJQdWVydG8gUmljbywgVVNBIiwiZ2VvTG9jYXRpb25GYWNldCI6WyJQdWVydG8gUmljbywgVS5TLkEuIl0sImdlb0xvY2F0aW9uRmFjZXRSZWNlbnRzIjpbIlB1ZXJ0byBSaWNvLCBVLlMuQS4iXSwicGFnZSI6MSwibGltaXQiOjI1LCJvZmZzZXQiOjAsInNvcnQiOiIiLCJzb3J0VHlwZSI6IiIsImNsZWFyUGFyYW1zIjpmYWxzZSwia2V5d29yZCI6IiIsInBhZ2VUaXRsZSI6Imw6UHVlcnRvIFJpY28sIFUuUy5BLiIsInByYWN0aWNlQXJlYXMiOlsiQ2l2aWwgTGl0aWdhdGlvbiJdfQ%3D%3D&page=17\n",
      "https://www.martindale.com/attorney/ernesto-r-irizarry-2486895/\n",
      "https://www.martindale.com/attorney/luis-cotto-roman-2850936/\n",
      "https://www.martindale.com/attorney/corinne-cordero-168607222/\n",
      "https://www.martindale.com/attorney/pedro-e-ortiz-alvarez-1571341/\n",
      "https://www.martindale.com/attorney/jose-a-ocasio-robles-2446411/\n",
      "https://www.martindale.com/attorney/manuel-de-j-sanchez-agostini-5138061/\n",
      "https://www.martindale.com/attorney/f-ariel-aviles-rodriguez-1574080/\n",
      "https://www.martindale.com/attorney/vivian-m-crespo-miranda-2040780/\n",
      "https://www.martindale.com/attorney/armando-j-martinez-vilella-1572385/\n",
      "https://www.martindale.com/attorney/carolina-santa-cruz-sadurni-4644114/\n",
      "https://www.martindale.com/attorney/michael-craig-mccall-1572287/\n",
      "https://www.martindale.com/attorney/jorge-soltero-3807101/\n",
      "https://www.martindale.com/attorney/mario-a-rivera-vega-1572390/\n",
      "https://www.martindale.com/attorney/vanessa-alejandro-rodriguez-24544797/\n",
      "https://www.martindale.com/attorney/maritza-candelaria-bonet-2298496/\n",
      "https://www.martindale.com/attorney/mayra-m-gonzalez-reyes-2007224/\n"
     ]
    },
    {
     "name": "stderr",
     "output_type": "stream",
     "text": [
      "  1%|          | 2/213 [01:03<1:54:11, 32.47s/it]"
     ]
    },
    {
     "name": "stdout",
     "output_type": "stream",
     "text": [
      "paginas en esta url: 1\n",
      "accediendo a: https://www.martindale.com/search/attorneys-law-firms-articles/?term=Puerto+Rico%2C+USA&params=eyJ0eXBlIjoicGVvcGxlIiwiY29tcGFyZSI6IiIsInRlcm0iOiJQdWVydG8gUmljbywgVVNBIiwiZ2VvTG9jYXRpb25GYWNldCI6WyJQdWVydG8gUmljbywgVS5TLkEuIl0sImdlb0xvY2F0aW9uRmFjZXRSZWNlbnRzIjpbIlB1ZXJ0byBSaWNvLCBVLlMuQS4iXSwicGFnZSI6MSwibGltaXQiOjI1LCJvZmZzZXQiOjAsInNvcnQiOiIiLCJzb3J0VHlwZSI6IiIsImNsZWFyUGFyYW1zIjpmYWxzZSwia2V5d29yZCI6IiIsInBhZ2VUaXRsZSI6Imw6UHVlcnRvIFJpY28sIFUuUy5BLiIsInByYWN0aWNlQXJlYXMiOlsiSGVhZCBhbmQgU3BpbmFsIEluanVyaWVzIl19\n",
      "https://www.martindale.com/attorney/juan-m-cancio-300784870/\n"
     ]
    },
    {
     "name": "stderr",
     "output_type": "stream",
     "text": [
      "  1%|▏         | 3/213 [01:29<1:42:21, 29.25s/it]"
     ]
    },
    {
     "name": "stdout",
     "output_type": "stream",
     "text": [
      "paginas en esta url: 1\n",
      "accediendo a: https://www.martindale.com/search/attorneys-law-firms-articles/?term=Puerto+Rico%2C+USA&params=eyJ0eXBlIjoicGVvcGxlIiwiY29tcGFyZSI6IiIsInRlcm0iOiJQdWVydG8gUmljbywgVVNBIiwiZ2VvTG9jYXRpb25GYWNldCI6WyJQdWVydG8gUmljbywgVS5TLkEuIl0sImdlb0xvY2F0aW9uRmFjZXRSZWNlbnRzIjpbIlB1ZXJ0byBSaWNvLCBVLlMuQS4iXSwicGFnZSI6MSwibGltaXQiOjI1LCJvZmZzZXQiOjAsInNvcnQiOiIiLCJzb3J0VHlwZSI6IiIsImNsZWFyUGFyYW1zIjpmYWxzZSwia2V5d29yZCI6IiIsInBhZ2VUaXRsZSI6Imw6UHVlcnRvIFJpY28sIFUuUy5BLiIsInByYWN0aWNlQXJlYXMiOlsiUGFydG5lcnNoaXAgTGF3Il19\n",
      "https://www.martindale.com/attorney/harry-o-cook-1573228/\n",
      "https://www.martindale.com/attorney/carlos-d-rodriguez-boneta-esq-1571873/\n"
     ]
    },
    {
     "name": "stderr",
     "output_type": "stream",
     "text": [
      "  2%|▏         | 4/213 [01:52<1:33:27, 26.83s/it]"
     ]
    },
    {
     "name": "stdout",
     "output_type": "stream",
     "text": [
      "paginas en esta url: 1\n",
      "accediendo a: https://www.martindale.com/search/attorneys-law-firms-articles/?term=Puerto+Rico%2C+USA&params=eyJ0eXBlIjoicGVvcGxlIiwiY29tcGFyZSI6IiIsInRlcm0iOiJQdWVydG8gUmljbywgVVNBIiwiZ2VvTG9jYXRpb25GYWNldCI6WyJQdWVydG8gUmljbywgVS5TLkEuIl0sImdlb0xvY2F0aW9uRmFjZXRSZWNlbnRzIjpbIlB1ZXJ0byBSaWNvLCBVLlMuQS4iXSwicGFnZSI6MSwibGltaXQiOjI1LCJvZmZzZXQiOjAsInNvcnQiOiIiLCJzb3J0VHlwZSI6IiIsImNsZWFyUGFyYW1zIjpmYWxzZSwia2V5d29yZCI6IiIsInBhZ2VUaXRsZSI6Imw6UHVlcnRvIFJpY28sIFUuUy5BLiIsInByYWN0aWNlQXJlYXMiOlsiRWR1Y2F0aW9uIExhdyJdfQ%3D%3D\n",
      "https://www.martindale.com/attorney/cristina-l-alcaraz-emmanuelli-1991088/\n",
      "https://www.martindale.com/attorney/betsy-e-gonzalez-rios-1572895/\n",
      "https://www.martindale.com/attorney/sara-e-tolosa-ramirez-1572021/\n",
      "https://www.martindale.com/attorney/pedro-i-torres-amador-1571992/\n",
      "https://www.martindale.com/attorney/roberto-lefranc-romero-1573097/\n",
      "https://www.martindale.com/attorney/gabriel-m-hernandez-gonzalez-1572029/\n",
      "https://www.martindale.com/attorney/alejandro-a-suarez-cabrera-1572017/\n",
      "https://www.martindale.com/attorney/cenia-m-mercado-santana-158692847/\n",
      "https://www.martindale.com/attorney/ana-cruz-neris-1572701/\n",
      "https://www.martindale.com/attorney/vanessa-carballo-santiago-2849132/\n",
      "https://www.martindale.com/attorney/zahira-maldonado-molina-36560337/\n",
      "https://www.martindale.com/attorney/lynn-m-carey-felix-2420825/\n"
     ]
    },
    {
     "name": "stderr",
     "output_type": "stream",
     "text": [
      "  2%|▏         | 5/213 [02:15<1:28:26, 25.51s/it]"
     ]
    },
    {
     "name": "stdout",
     "output_type": "stream",
     "text": [
      "paginas en esta url: 1\n",
      "accediendo a: https://www.martindale.com/search/attorneys-law-firms-articles/?term=Puerto+Rico%2C+USA&params=eyJ0eXBlIjoicGVvcGxlIiwiY29tcGFyZSI6IiIsInRlcm0iOiJQdWVydG8gUmljbywgVVNBIiwiZ2VvTG9jYXRpb25GYWNldCI6WyJQdWVydG8gUmljbywgVS5TLkEuIl0sImdlb0xvY2F0aW9uRmFjZXRSZWNlbnRzIjpbIlB1ZXJ0byBSaWNvLCBVLlMuQS4iXSwicGFnZSI6MSwibGltaXQiOjI1LCJvZmZzZXQiOjAsInNvcnQiOiIiLCJzb3J0VHlwZSI6IiIsImNsZWFyUGFyYW1zIjpmYWxzZSwia2V5d29yZCI6IiIsInBhZ2VUaXRsZSI6Imw6UHVlcnRvIFJpY28sIFUuUy5BLiIsInByYWN0aWNlQXJlYXMiOlsiRFVJXC9EV0kiXX0%3D\n",
      "https://www.martindale.com/attorney/jennie-marielle-espada-ocasio-esq-167698736/\n",
      "https://www.martindale.com/attorney/michael-r-hasse-330322/\n",
      "https://www.martindale.com/attorney/luis-rios-300770328/\n",
      "https://www.martindale.com/attorney/jose-carlos-h-miranda-massari-2035338/\n"
     ]
    },
    {
     "name": "stderr",
     "output_type": "stream",
     "text": [
      "  3%|▎         | 6/213 [02:41<1:28:00, 25.51s/it]"
     ]
    },
    {
     "name": "stdout",
     "output_type": "stream",
     "text": [
      "paginas en esta url: 1\n",
      "accediendo a: https://www.martindale.com/search/attorneys-law-firms-articles/?term=Puerto+Rico%2C+USA&params=eyJ0eXBlIjoicGVvcGxlIiwiY29tcGFyZSI6IiIsInRlcm0iOiJQdWVydG8gUmljbywgVVNBIiwiZ2VvTG9jYXRpb25GYWNldCI6WyJQdWVydG8gUmljbywgVS5TLkEuIl0sImdlb0xvY2F0aW9uRmFjZXRSZWNlbnRzIjpbIlB1ZXJ0byBSaWNvLCBVLlMuQS4iXSwicGFnZSI6MSwibGltaXQiOjI1LCJvZmZzZXQiOjAsInNvcnQiOiIiLCJzb3J0VHlwZSI6IiIsImNsZWFyUGFyYW1zIjpmYWxzZSwia2V5d29yZCI6IiIsInBhZ2VUaXRsZSI6Imw6UHVlcnRvIFJpY28sIFUuUy5BLiIsInByYWN0aWNlQXJlYXMiOlsiU2hpcHBpbmciXX0%3D\n"
     ]
    },
    {
     "name": "stderr",
     "output_type": "stream",
     "text": [
      "  3%|▎         | 7/213 [03:05<1:26:25, 25.17s/it]"
     ]
    },
    {
     "name": "stdout",
     "output_type": "stream",
     "text": [
      "paginas en esta url: 1\n",
      "accediendo a: https://www.martindale.com/search/attorneys-law-firms-articles/?term=Puerto+Rico%2C+USA&params=eyJ0eXBlIjoicGVvcGxlIiwiY29tcGFyZSI6IiIsInRlcm0iOiJQdWVydG8gUmljbywgVVNBIiwiZ2VvTG9jYXRpb25GYWNldCI6WyJQdWVydG8gUmljbywgVS5TLkEuIl0sImdlb0xvY2F0aW9uRmFjZXRSZWNlbnRzIjpbIlB1ZXJ0byBSaWNvLCBVLlMuQS4iXSwicGFnZSI6MSwibGltaXQiOjI1LCJvZmZzZXQiOjAsInNvcnQiOiIiLCJzb3J0VHlwZSI6IiIsImNsZWFyUGFyYW1zIjpmYWxzZSwia2V5d29yZCI6IiIsInBhZ2VUaXRsZSI6Imw6UHVlcnRvIFJpY28sIFUuUy5BLiIsInByYWN0aWNlQXJlYXMiOlsiQmlydGggSW5qdXJpZXMiXX0%3D\n"
     ]
    },
    {
     "name": "stderr",
     "output_type": "stream",
     "text": [
      "  4%|▍         | 8/213 [03:30<1:25:32, 25.04s/it]"
     ]
    },
    {
     "name": "stdout",
     "output_type": "stream",
     "text": [
      "paginas en esta url: 9\n",
      "accediendo a: https://www.martindale.com/search/attorneys-law-firms-articles/?term=Puerto+Rico%2C+USA&params=eyJ0eXBlIjoicGVvcGxlIiwiY29tcGFyZSI6IiIsInRlcm0iOiJQdWVydG8gUmljbywgVVNBIiwiZ2VvTG9jYXRpb25GYWNldCI6WyJQdWVydG8gUmljbywgVS5TLkEuIl0sImdlb0xvY2F0aW9uRmFjZXRSZWNlbnRzIjpbIlB1ZXJ0byBSaWNvLCBVLlMuQS4iXSwicGFnZSI6MSwibGltaXQiOjI1LCJvZmZzZXQiOjAsInNvcnQiOiIiLCJzb3J0VHlwZSI6IiIsImNsZWFyUGFyYW1zIjpmYWxzZSwia2V5d29yZCI6IiIsInBhZ2VUaXRsZSI6Imw6UHVlcnRvIFJpY28sIFUuUy5BLiIsInByYWN0aWNlQXJlYXMiOlsiQnVzaW5lc3MgTGF3Il19\n",
      "https://www.martindale.com/organization/mellado-mellado-villarreal-1260661/san-juan-puerto-rico-1572911-f/?pa=49\n",
      "https://www.martindale.com/attorney/enrique-g-figueroa-llinas-1571907/\n",
      "https://www.martindale.com/attorney/robert-t-collins-viera-1571688/\n",
      "https://www.martindale.com/attorney/tessie-leal-garabis-esq-169104324/\n",
      "https://www.martindale.com/attorney/raed-gonzalez-1667237/\n",
      "https://www.martindale.com/attorney/hector-j-orejuela-davila-168566822/\n",
      "https://www.martindale.com/attorney/john-m-garcia-nokonechna-1571451/\n",
      "https://www.martindale.com/attorney/chungmoon-kristin-choi-3489108/\n",
      "https://www.martindale.com/attorney/alfredo-f-ramirez-macdonald-1573602/\n",
      "https://www.martindale.com/attorney/alberto-baco-bague-1571554/\n",
      "https://www.martindale.com/attorney/edgardo-l-rivera-rivera-1572636/\n",
      "https://www.martindale.com/attorney/doraliz-eileen-ortiz-de-leon-25954747/\n",
      "https://www.martindale.com/attorney/marco-antonio-rigau-1573891/\n",
      "https://www.martindale.com/attorney/jose-j-sanchez-velez-1573636/\n",
      "https://www.martindale.com/attorney/irving-k-hernandez-1571431/\n",
      "accediendo a: https://www.martindale.com/search/attorneys-law-firms-articles/?term=Puerto+Rico%2C+USA&params=eyJ0eXBlIjoicGVvcGxlIiwiY29tcGFyZSI6IiIsInRlcm0iOiJQdWVydG8gUmljbywgVVNBIiwiZ2VvTG9jYXRpb25GYWNldCI6WyJQdWVydG8gUmljbywgVS5TLkEuIl0sImdlb0xvY2F0aW9uRmFjZXRSZWNlbnRzIjpbIlB1ZXJ0byBSaWNvLCBVLlMuQS4iXSwicGFnZSI6MSwibGltaXQiOjI1LCJvZmZzZXQiOjAsInNvcnQiOiIiLCJzb3J0VHlwZSI6IiIsImNsZWFyUGFyYW1zIjpmYWxzZSwia2V5d29yZCI6IiIsInBhZ2VUaXRsZSI6Imw6UHVlcnRvIFJpY28sIFUuUy5BLiIsInByYWN0aWNlQXJlYXMiOlsiQnVzaW5lc3MgTGF3Il19&page=2\n",
      "https://www.martindale.com/attorney/jose-a-sosa-llorens-1572700/\n",
      "https://www.martindale.com/attorney/carlos-a-steffens-guzman-1573382/\n",
      "https://www.martindale.com/attorney/paul-salamone-velilla-1573456/\n",
      "https://www.martindale.com/attorney/salvador-antonetti-zequeira-1572477/\n",
      "https://www.martindale.com/attorney/fernando-j-rovira-rullan-esq-1573328/\n",
      "https://www.martindale.com/attorney/wilma-rosario-rodriguez-158482733/\n",
      "https://www.martindale.com/attorney/ricardo-diaz-soto-2283828/\n",
      "https://www.martindale.com/attorney/jose-a-ruiz-garcia-2433099/\n",
      "https://www.martindale.com/attorney/jose-r-toro-morales-1573182/\n",
      "https://www.martindale.com/attorney/santiago-f-lampon-gonzalez-1571191/\n",
      "https://www.martindale.com/attorney/gabriella-sofia-paglieri-300304846/\n",
      "https://www.martindale.com/attorney/danilo-m-eboli-1572752/\n",
      "https://www.martindale.com/attorney/elba-l-bermudez-aponte-168529516/\n",
      "https://www.martindale.com/attorney/michelle-k-b-garcia-915320/\n",
      "https://www.martindale.com/attorney/nelson-william-gonzalez-1573776/\n",
      "https://www.martindale.com/attorney/carmen-gabriela-szendrey-ramos-300298708/\n",
      "https://www.martindale.com/attorney/luis-a-aviles-1571578/\n",
      "https://www.martindale.com/attorney/ivan-rios-300887112/\n",
      "accediendo a: https://www.martindale.com/search/attorneys-law-firms-articles/?term=Puerto+Rico%2C+USA&params=eyJ0eXBlIjoicGVvcGxlIiwiY29tcGFyZSI6IiIsInRlcm0iOiJQdWVydG8gUmljbywgVVNBIiwiZ2VvTG9jYXRpb25GYWNldCI6WyJQdWVydG8gUmljbywgVS5TLkEuIl0sImdlb0xvY2F0aW9uRmFjZXRSZWNlbnRzIjpbIlB1ZXJ0byBSaWNvLCBVLlMuQS4iXSwicGFnZSI6MSwibGltaXQiOjI1LCJvZmZzZXQiOjAsInNvcnQiOiIiLCJzb3J0VHlwZSI6IiIsImNsZWFyUGFyYW1zIjpmYWxzZSwia2V5d29yZCI6IiIsInBhZ2VUaXRsZSI6Imw6UHVlcnRvIFJpY28sIFUuUy5BLiIsInByYWN0aWNlQXJlYXMiOlsiQnVzaW5lc3MgTGF3Il19&page=3\n",
      "https://www.martindale.com/attorney/diego-a-ramos-1572495/\n",
      "https://www.martindale.com/attorney/anita-montaner-sevillano-1573291/\n",
      "https://www.martindale.com/attorney/ana-matilde-nin-torregrosa-1573223/\n",
      "https://www.martindale.com/attorney/julio-pietrantoni-1573609/\n",
      "https://www.martindale.com/attorney/ana-marta-bird-pico-1572450/\n",
      "https://www.martindale.com/attorney/julia-m-garriga-trillo-1573735/\n",
      "https://www.martindale.com/attorney/juan-c-blasini-gonzalez-2892081/\n",
      "https://www.martindale.com/attorney/mauricio-o-muniz-luciano-33933067/\n",
      "https://www.martindale.com/attorney/patricia-r-limeres-vargas-3763397/\n",
      "https://www.martindale.com/attorney/miguel-a-figueroa-iglesias-1571768/\n",
      "https://www.martindale.com/attorney/angelica-t-toro-lavergne-1573324/\n",
      "https://www.martindale.com/attorney/brian-k-tester-94518/\n",
      "https://www.martindale.com/attorney/carlos-a-valldejuly-sastre-1573607/\n",
      "https://www.martindale.com/attorney/sarah-lynn-de-diego-157570719/\n",
      "accediendo a: https://www.martindale.com/search/attorneys-law-firms-articles/?term=Puerto+Rico%2C+USA&params=eyJ0eXBlIjoicGVvcGxlIiwiY29tcGFyZSI6IiIsInRlcm0iOiJQdWVydG8gUmljbywgVVNBIiwiZ2VvTG9jYXRpb25GYWNldCI6WyJQdWVydG8gUmljbywgVS5TLkEuIl0sImdlb0xvY2F0aW9uRmFjZXRSZWNlbnRzIjpbIlB1ZXJ0byBSaWNvLCBVLlMuQS4iXSwicGFnZSI6MSwibGltaXQiOjI1LCJvZmZzZXQiOjAsInNvcnQiOiIiLCJzb3J0VHlwZSI6IiIsImNsZWFyUGFyYW1zIjpmYWxzZSwia2V5d29yZCI6IiIsInBhZ2VUaXRsZSI6Imw6UHVlcnRvIFJpY28sIFUuUy5BLiIsInByYWN0aWNlQXJlYXMiOlsiQnVzaW5lc3MgTGF3Il19&page=4\n",
      "https://www.martindale.com/attorney/oscar-amador-ramirez-1571510/\n",
      "https://www.martindale.com/attorney/leonardo-andrade-lugo-1572786/\n",
      "https://www.martindale.com/attorney/pablo-rodriguez-sola-1573599/\n",
      "https://www.martindale.com/attorney/paul-ramirez-1114509/\n",
      "https://www.martindale.com/attorney/jorge-j-rexach-vaquer-17550746/\n",
      "https://www.martindale.com/attorney/mariacte-correa-cestero-1573617/\n",
      "https://www.martindale.com/attorney/david-r-bernier-velazquez-2283858/\n",
      "https://www.martindale.com/attorney/edgardo-munoz-maldonado-1571454/\n",
      "https://www.martindale.com/attorney/luis-r-rosas-2035095/\n",
      "https://www.martindale.com/attorney/daniel-ibrahim-torres-vargas-300673224/\n",
      "https://www.martindale.com/attorney/rafael-hernandez-miranda-168321920/\n",
      "https://www.martindale.com/attorney/john-alfred-stewart-300226600/\n",
      "https://www.martindale.com/attorney/jose-r-quinones-coll-1573098/\n",
      "https://www.martindale.com/attorney/mr-andrew-thomas-kagan-168798166/\n",
      "https://www.martindale.com/attorney/j-santiago-semidey-1574040/\n",
      "https://www.martindale.com/attorney/carlos-colon-marchand-1571500/\n",
      "accediendo a: https://www.martindale.com/search/attorneys-law-firms-articles/?term=Puerto+Rico%2C+USA&params=eyJ0eXBlIjoicGVvcGxlIiwiY29tcGFyZSI6IiIsInRlcm0iOiJQdWVydG8gUmljbywgVVNBIiwiZ2VvTG9jYXRpb25GYWNldCI6WyJQdWVydG8gUmljbywgVS5TLkEuIl0sImdlb0xvY2F0aW9uRmFjZXRSZWNlbnRzIjpbIlB1ZXJ0byBSaWNvLCBVLlMuQS4iXSwicGFnZSI6MSwibGltaXQiOjI1LCJvZmZzZXQiOjAsInNvcnQiOiIiLCJzb3J0VHlwZSI6IiIsImNsZWFyUGFyYW1zIjpmYWxzZSwia2V5d29yZCI6IiIsInBhZ2VUaXRsZSI6Imw6UHVlcnRvIFJpY28sIFUuUy5BLiIsInByYWN0aWNlQXJlYXMiOlsiQnVzaW5lc3MgTGF3Il19&page=5\n",
      "https://www.martindale.com/attorney/jaime-l-sanabria-montanez-13986961/\n",
      "https://www.martindale.com/attorney/manuel-f-villalon-1573556/\n",
      "https://www.martindale.com/attorney/harold-mestey-1573366/\n",
      "https://www.martindale.com/attorney/mr-thomas-m-dunlap-301030230/\n",
      "https://www.martindale.com/attorney/alberto-juan-enrique-aneses-negron-300945728/\n",
      "https://www.martindale.com/attorney/angel-sosa-baez-2477609/\n",
      "https://www.martindale.com/attorney/jorge-souss-40603876/\n",
      "https://www.martindale.com/attorney/edna-laura-perez-nanez-1573367/\n",
      "https://www.martindale.com/attorney/pedro-hernandez-reyes-1571759/\n",
      "https://www.martindale.com/attorney/nailymar-arroyo-300744352/\n",
      "https://www.martindale.com/attorney/daisy-caban-1573740/\n",
      "https://www.martindale.com/attorney/francisco-javier-dox-millan-157207202/\n",
      "https://www.martindale.com/attorney/heidi-serrano-ysern-1571767/\n",
      "https://www.martindale.com/attorney/juan-acosta-reboyras-1573201/\n",
      "accediendo a: https://www.martindale.com/search/attorneys-law-firms-articles/?term=Puerto+Rico%2C+USA&params=eyJ0eXBlIjoicGVvcGxlIiwiY29tcGFyZSI6IiIsInRlcm0iOiJQdWVydG8gUmljbywgVVNBIiwiZ2VvTG9jYXRpb25GYWNldCI6WyJQdWVydG8gUmljbywgVS5TLkEuIl0sImdlb0xvY2F0aW9uRmFjZXRSZWNlbnRzIjpbIlB1ZXJ0byBSaWNvLCBVLlMuQS4iXSwicGFnZSI6MSwibGltaXQiOjI1LCJvZmZzZXQiOjAsInNvcnQiOiIiLCJzb3J0VHlwZSI6IiIsImNsZWFyUGFyYW1zIjpmYWxzZSwia2V5d29yZCI6IiIsInBhZ2VUaXRsZSI6Imw6UHVlcnRvIFJpY28sIFUuUy5BLiIsInByYWN0aWNlQXJlYXMiOlsiQnVzaW5lc3MgTGF3Il19&page=6\n",
      "https://www.martindale.com/attorney/susan-l-shafer-1574054/\n",
      "https://www.martindale.com/attorney/luis-m-suarez-lozada-1572716/\n",
      "https://www.martindale.com/attorney/juan-ramon-cancio-ortiz-1572137/\n",
      "https://www.martindale.com/attorney/ernesto-n-mayoral-megwinoff-1573237/\n",
      "https://www.martindale.com/attorney/erin-elizabeth-martens-125069/\n",
      "https://www.martindale.com/attorney/jaime-ruiz-saldana-2248752/\n",
      "https://www.martindale.com/attorney/adam-t-ettinger-159483307/\n",
      "https://www.martindale.com/attorney/samuel-t-cespedes-1573212/\n",
      "https://www.martindale.com/attorney/jose-a-miranda-daleccio-1573487/\n",
      "https://www.martindale.com/attorney/juan-c-salichs-pou-1572529/\n",
      "https://www.martindale.com/attorney/moises-edgardo-figueroa-perez-301307872/\n",
      "https://www.martindale.com/attorney/walter-f-chow-1573588/\n",
      "https://www.martindale.com/attorney/luis-edwin-gonzalez-ortiz-1573598/\n",
      "https://www.martindale.com/attorney/arturo-j-garcia-sola-1573231/\n",
      "https://www.martindale.com/attorney/ubaldo-m-fernandez-barrera-168322620/\n",
      "https://www.martindale.com/attorney/edward-m-borges-1572681/\n",
      "https://www.martindale.com/attorney/ricardo-f-casellas-1572500/\n",
      "https://www.martindale.com/attorney/gladys-fontanez-38046894/\n",
      "https://www.martindale.com/attorney/ms-carly-elizabeth-howard-301451782/\n",
      "https://www.martindale.com/attorney/carlos-e-serrano-terron-31928832/\n",
      "accediendo a: https://www.martindale.com/search/attorneys-law-firms-articles/?term=Puerto+Rico%2C+USA&params=eyJ0eXBlIjoicGVvcGxlIiwiY29tcGFyZSI6IiIsInRlcm0iOiJQdWVydG8gUmljbywgVVNBIiwiZ2VvTG9jYXRpb25GYWNldCI6WyJQdWVydG8gUmljbywgVS5TLkEuIl0sImdlb0xvY2F0aW9uRmFjZXRSZWNlbnRzIjpbIlB1ZXJ0byBSaWNvLCBVLlMuQS4iXSwicGFnZSI6MSwibGltaXQiOjI1LCJvZmZzZXQiOjAsInNvcnQiOiIiLCJzb3J0VHlwZSI6IiIsImNsZWFyUGFyYW1zIjpmYWxzZSwia2V5d29yZCI6IiIsInBhZ2VUaXRsZSI6Imw6UHVlcnRvIFJpY28sIFUuUy5BLiIsInByYWN0aWNlQXJlYXMiOlsiQnVzaW5lc3MgTGF3Il19&page=7\n",
      "https://www.martindale.com/attorney/carlos-a-rodriguez-vidal-1572807/\n",
      "https://www.martindale.com/attorney/margorie-stewart-3912614/\n",
      "https://www.martindale.com/attorney/ricardo-aponte-parsi-2901191/\n",
      "https://www.martindale.com/attorney/marcos-rodriguez-ema-1571938/\n",
      "https://www.martindale.com/attorney/hermann-d-bauer-alvarez-1573624/\n",
      "https://www.martindale.com/attorney/maricarmen-colon-2035094/\n",
      "https://www.martindale.com/attorney/rafael-ramirez-ball-1573203/\n",
      "https://www.martindale.com/attorney/jorge-l-catala-monge-4092005/\n",
      "https://www.martindale.com/attorney/john-l-shapiro-1574058/\n",
      "https://www.martindale.com/attorney/eugenio-c-romero-1572219/\n",
      "https://www.martindale.com/attorney/shylene-de-jesus-rivera-20417047/\n",
      "https://www.martindale.com/attorney/richard-a-lee-1573032/\n",
      "https://www.martindale.com/attorney/j-cristina-alamo-garcia-1571766/\n",
      "accediendo a: https://www.martindale.com/search/attorneys-law-firms-articles/?term=Puerto+Rico%2C+USA&params=eyJ0eXBlIjoicGVvcGxlIiwiY29tcGFyZSI6IiIsInRlcm0iOiJQdWVydG8gUmljbywgVVNBIiwiZ2VvTG9jYXRpb25GYWNldCI6WyJQdWVydG8gUmljbywgVS5TLkEuIl0sImdlb0xvY2F0aW9uRmFjZXRSZWNlbnRzIjpbIlB1ZXJ0byBSaWNvLCBVLlMuQS4iXSwicGFnZSI6MSwibGltaXQiOjI1LCJvZmZzZXQiOjAsInNvcnQiOiIiLCJzb3J0VHlwZSI6IiIsImNsZWFyUGFyYW1zIjpmYWxzZSwia2V5d29yZCI6IiIsInBhZ2VUaXRsZSI6Imw6UHVlcnRvIFJpY28sIFUuUy5BLiIsInByYWN0aWNlQXJlYXMiOlsiQnVzaW5lc3MgTGF3Il19&page=8\n",
      "https://www.martindale.com/attorney/antonio-l-roig-lorenzo-1573616/\n",
      "https://www.martindale.com/attorney/juan-j-martinez-rodriguez-1573911/\n",
      "https://www.martindale.com/attorney/gary-l-leonard-1572204/\n",
      "https://www.martindale.com/attorney/antonio-j-sifre-sein-1573361/\n",
      "https://www.martindale.com/attorney/yifan-yang-301098974/\n",
      "https://www.martindale.com/attorney/manuel-a-guzman-rodriguez-1573380/\n",
      "https://www.martindale.com/attorney/maria-elena-margarida-2097305/\n",
      "https://www.martindale.com/attorney/gregorio-igartua-1571053/\n",
      "https://www.martindale.com/attorney/guillermo-san-antonio-acha-2314958/\n",
      "https://www.martindale.com/attorney/juan-e-rodriguez-diaz-1572991/\n",
      "https://www.martindale.com/attorney/pedro-j-santa-sanchez-157265900/\n",
      "https://www.martindale.com/attorney/carlos-e-lopez-lopez-1574106/\n",
      "https://www.martindale.com/attorney/christian-m-echavarri-junco-1573601/\n",
      "https://www.martindale.com/attorney/cristina-alamo-1572704/\n",
      "https://www.martindale.com/attorney/fernando-j-bonilla-ortiz-1572572/\n",
      "https://www.martindale.com/attorney/sarah-l-de-diego-301454596/\n",
      "https://www.martindale.com/attorney/gabriel-jose-montilla-1571782/\n",
      "https://www.martindale.com/attorney/john-l-shapiro-2637728/\n",
      "https://www.martindale.com/attorney/diego-o-pagan-gutierrez-1572667/\n",
      "accediendo a: https://www.martindale.com/search/attorneys-law-firms-articles/?term=Puerto+Rico%2C+USA&params=eyJ0eXBlIjoicGVvcGxlIiwiY29tcGFyZSI6IiIsInRlcm0iOiJQdWVydG8gUmljbywgVVNBIiwiZ2VvTG9jYXRpb25GYWNldCI6WyJQdWVydG8gUmljbywgVS5TLkEuIl0sImdlb0xvY2F0aW9uRmFjZXRSZWNlbnRzIjpbIlB1ZXJ0byBSaWNvLCBVLlMuQS4iXSwicGFnZSI6MSwibGltaXQiOjI1LCJvZmZzZXQiOjAsInNvcnQiOiIiLCJzb3J0VHlwZSI6IiIsImNsZWFyUGFyYW1zIjpmYWxzZSwia2V5d29yZCI6IiIsInBhZ2VUaXRsZSI6Imw6UHVlcnRvIFJpY28sIFUuUy5BLiIsInByYWN0aWNlQXJlYXMiOlsiQnVzaW5lc3MgTGF3Il19&page=9\n",
      "https://www.martindale.com/attorney/juan-m-rodriguez-300780802/\n",
      "https://www.martindale.com/attorney/salvador-j-antonetti-stutts-27049022/\n",
      "https://www.martindale.com/attorney/juan-ramon-miranda-diaz-1571253/\n",
      "https://www.martindale.com/attorney/sean-gregory-king-1605714/\n"
     ]
    },
    {
     "name": "stderr",
     "output_type": "stream",
     "text": [
      "  4%|▍         | 9/213 [03:52<1:21:41, 24.03s/it]"
     ]
    },
    {
     "name": "stdout",
     "output_type": "stream",
     "text": [
      "paginas en esta url: 1\n",
      "accediendo a: https://www.martindale.com/search/attorneys-law-firms-articles/?term=Puerto+Rico%2C+USA&params=eyJ0eXBlIjoicGVvcGxlIiwiY29tcGFyZSI6IiIsInRlcm0iOiJQdWVydG8gUmljbywgVVNBIiwiZ2VvTG9jYXRpb25GYWNldCI6WyJQdWVydG8gUmljbywgVS5TLkEuIl0sImdlb0xvY2F0aW9uRmFjZXRSZWNlbnRzIjpbIlB1ZXJ0byBSaWNvLCBVLlMuQS4iXSwicGFnZSI6MSwibGltaXQiOjI1LCJvZmZzZXQiOjAsInNvcnQiOiIiLCJzb3J0VHlwZSI6IiIsImNsZWFyUGFyYW1zIjpmYWxzZSwia2V5d29yZCI6IiIsInBhZ2VUaXRsZSI6Imw6UHVlcnRvIFJpY28sIFUuUy5BLiIsInByYWN0aWNlQXJlYXMiOlsiRHJ1ZyBhbmQgTWVkaWNhbCBEZXZpY2UgTGl0aWdhdGlvbiJdfQ%3D%3D\n",
      "https://www.martindale.com/organization/the-lanier-law-firm-p-c-1340948/houston-texas-1674375-f/?pa=167\n"
     ]
    },
    {
     "name": "stderr",
     "output_type": "stream",
     "text": [
      "  5%|▍         | 10/213 [04:16<1:21:58, 24.23s/it]"
     ]
    },
    {
     "name": "stdout",
     "output_type": "stream",
     "text": [
      "paginas en esta url: 8\n",
      "accediendo a: https://www.martindale.com/search/attorneys-law-firms-articles/?term=Puerto+Rico%2C+USA&params=eyJ0eXBlIjoicGVvcGxlIiwiY29tcGFyZSI6IiIsInRlcm0iOiJQdWVydG8gUmljbywgVVNBIiwiZ2VvTG9jYXRpb25GYWNldCI6WyJQdWVydG8gUmljbywgVS5TLkEuIl0sImdlb0xvY2F0aW9uRmFjZXRSZWNlbnRzIjpbIlB1ZXJ0byBSaWNvLCBVLlMuQS4iXSwicGFnZSI6MSwibGltaXQiOjI1LCJvZmZzZXQiOjAsInNvcnQiOiIiLCJzb3J0VHlwZSI6IiIsImNsZWFyUGFyYW1zIjpmYWxzZSwia2V5d29yZCI6IiIsInBhZ2VUaXRsZSI6Imw6UHVlcnRvIFJpY28sIFUuUy5BLiIsInByYWN0aWNlQXJlYXMiOlsiR2VuZXJhbCBQcmFjdGljZSJdfQ%3D%3D\n",
      "https://www.martindale.com/attorney/juan-m-surillo-pumarada-1571261/\n",
      "https://www.martindale.com/attorney/laura-a-dahdah-de-surillo-1571262/\n",
      "https://www.martindale.com/attorney/noel-e-gonzalez-abella-2023809/\n",
      "https://www.martindale.com/attorney/myrta-e-neives-blas-1571292/\n",
      "https://www.martindale.com/attorney/pablo-r-alvarez-sepulveda-2043218/\n",
      "https://www.martindale.com/attorney/manny-suarez-1571477/\n",
      "https://www.martindale.com/attorney/juan-massa-diaz-1573119/\n",
      "https://www.martindale.com/attorney/ernesto-f-rodriquez-suris-1573862/\n",
      "https://www.martindale.com/attorney/javier-o-ascencio-luciano-2097358/\n",
      "https://www.martindale.com/attorney/efrain-perez-jimenez-1571192/\n",
      "https://www.martindale.com/attorney/lawrence-duffy-1573112/\n",
      "https://www.martindale.com/attorney/liana-i-loyola-2498047/\n",
      "https://www.martindale.com/attorney/elizabeth-a-schiavone-centeno-1571924/\n",
      "https://www.martindale.com/attorney/iris-martinez-juarbe-2445042/\n",
      "https://www.martindale.com/attorney/isabel-abislaiman-quilez-1572778/\n",
      "https://www.martindale.com/attorney/alice-m-velazquez-aponte-395765/\n",
      "https://www.martindale.com/attorney/jose-r-roman-borgos-1573957/\n",
      "accediendo a: https://www.martindale.com/search/attorneys-law-firms-articles/?term=Puerto+Rico%2C+USA&params=eyJ0eXBlIjoicGVvcGxlIiwiY29tcGFyZSI6IiIsInRlcm0iOiJQdWVydG8gUmljbywgVVNBIiwiZ2VvTG9jYXRpb25GYWNldCI6WyJQdWVydG8gUmljbywgVS5TLkEuIl0sImdlb0xvY2F0aW9uRmFjZXRSZWNlbnRzIjpbIlB1ZXJ0byBSaWNvLCBVLlMuQS4iXSwicGFnZSI6MSwibGltaXQiOjI1LCJvZmZzZXQiOjAsInNvcnQiOiIiLCJzb3J0VHlwZSI6IiIsImNsZWFyUGFyYW1zIjpmYWxzZSwia2V5d29yZCI6IiIsInBhZ2VUaXRsZSI6Imw6UHVlcnRvIFJpY28sIFUuUy5BLiIsInByYWN0aWNlQXJlYXMiOlsiR2VuZXJhbCBQcmFjdGljZSJdfQ%3D%3D&page=2\n",
      "https://www.martindale.com/attorney/mariemma-dorna-llompart-1573000/\n",
      "https://www.martindale.com/attorney/armando-del-valle-munoz-1573049/\n",
      "https://www.martindale.com/attorney/lisa-e-bhatia-gautier-1572262/\n",
      "https://www.martindale.com/attorney/andres-j-colberg-trigo-1573050/\n",
      "https://www.martindale.com/attorney/karla-s-mellado-delgado-2826266/\n",
      "https://www.martindale.com/attorney/juan-a-lopez-conway-1571458/\n",
      "https://www.martindale.com/attorney/atty-maria-lourdes-gonzalez-framil-27012545/\n",
      "https://www.martindale.com/attorney/noel-j-torres-colon-1571101/\n",
      "https://www.martindale.com/attorney/rolando-emmanuelli-jimenez-1571319/\n",
      "https://www.martindale.com/attorney/ivan-pasarell-jove-1573051/\n",
      "https://www.martindale.com/attorney/eric-velazquez-flores-1571298/\n",
      "https://www.martindale.com/attorney/mayra-candelaria-jurado-169155088/\n",
      "https://www.martindale.com/attorney/luis-vizcarrondo-ortiz-1574242/\n",
      "https://www.martindale.com/attorney/evelyn-fernandez-santiago-1571254/\n",
      "https://www.martindale.com/attorney/jose-l-delgado-cadilla-1573103/\n",
      "https://www.martindale.com/attorney/pedro-j-cruz-soto-1573969/\n",
      "https://www.martindale.com/attorney/lisa-beth-drucker-1571211/\n",
      "https://www.martindale.com/attorney/david-efron-esq-801659/\n",
      "accediendo a: https://www.martindale.com/search/attorneys-law-firms-articles/?term=Puerto+Rico%2C+USA&params=eyJ0eXBlIjoicGVvcGxlIiwiY29tcGFyZSI6IiIsInRlcm0iOiJQdWVydG8gUmljbywgVVNBIiwiZ2VvTG9jYXRpb25GYWNldCI6WyJQdWVydG8gUmljbywgVS5TLkEuIl0sImdlb0xvY2F0aW9uRmFjZXRSZWNlbnRzIjpbIlB1ZXJ0byBSaWNvLCBVLlMuQS4iXSwicGFnZSI6MSwibGltaXQiOjI1LCJvZmZzZXQiOjAsInNvcnQiOiIiLCJzb3J0VHlwZSI6IiIsImNsZWFyUGFyYW1zIjpmYWxzZSwia2V5d29yZCI6IiIsInBhZ2VUaXRsZSI6Imw6UHVlcnRvIFJpY28sIFUuUy5BLiIsInByYWN0aWNlQXJlYXMiOlsiR2VuZXJhbCBQcmFjdGljZSJdfQ%3D%3D&page=3\n",
      "https://www.martindale.com/attorney/laura-i-santiago-loperena-1573109/\n",
      "https://www.martindale.com/attorney/kayra-d-montanez-3332375/\n",
      "https://www.martindale.com/attorney/arturo-v-bauermeister-169155024/\n",
      "https://www.martindale.com/attorney/yolanda-m-da-silveira-neves-1573046/\n",
      "https://www.martindale.com/attorney/sarita-gallardo-gonzalez-1572284/\n",
      "https://www.martindale.com/attorney/george-mottley-2388380/\n",
      "https://www.martindale.com/attorney/nilda-m-navarro-cabrer-1573568/\n",
      "https://www.martindale.com/attorney/carlos-i-prieto-3970045/\n",
      "https://www.martindale.com/attorney/juan-r-zalduondo-viera-1574195/\n",
      "https://www.martindale.com/attorney/julio-a-diaz-valdes-1573044/\n",
      "https://www.martindale.com/attorney/cristobal-colon-1572118/\n",
      "https://www.martindale.com/attorney/luis-roberto-santos-1571290/\n",
      "https://www.martindale.com/attorney/miguel-a-rivera-arce-3008253/\n",
      "https://www.martindale.com/attorney/carmen-i-balleste-frank-12198026/\n",
      "https://www.martindale.com/attorney/ramon-h-banuchi-eurite-1571236/\n",
      "https://www.martindale.com/attorney/diana-perez-seda-168331120/\n",
      "https://www.martindale.com/attorney/valerie-robles-1571734/\n",
      "accediendo a: https://www.martindale.com/search/attorneys-law-firms-articles/?term=Puerto+Rico%2C+USA&params=eyJ0eXBlIjoicGVvcGxlIiwiY29tcGFyZSI6IiIsInRlcm0iOiJQdWVydG8gUmljbywgVVNBIiwiZ2VvTG9jYXRpb25GYWNldCI6WyJQdWVydG8gUmljbywgVS5TLkEuIl0sImdlb0xvY2F0aW9uRmFjZXRSZWNlbnRzIjpbIlB1ZXJ0byBSaWNvLCBVLlMuQS4iXSwicGFnZSI6MSwibGltaXQiOjI1LCJvZmZzZXQiOjAsInNvcnQiOiIiLCJzb3J0VHlwZSI6IiIsImNsZWFyUGFyYW1zIjpmYWxzZSwia2V5d29yZCI6IiIsInBhZ2VUaXRsZSI6Imw6UHVlcnRvIFJpY28sIFUuUy5BLiIsInByYWN0aWNlQXJlYXMiOlsiR2VuZXJhbCBQcmFjdGljZSJdfQ%3D%3D&page=4\n",
      "https://www.martindale.com/attorney/dimaries-broco-irizarry-3582951/\n",
      "https://www.martindale.com/attorney/jose-r-cancio-gonzalez-1571042/\n",
      "https://www.martindale.com/attorney/eda-mariel-ayala-morales-2107605/\n",
      "https://www.martindale.com/attorney/iris-jannette-cabrera-2483645/\n",
      "https://www.martindale.com/attorney/sigfredo-a-irizarry-1572945/\n",
      "https://www.martindale.com/attorney/miguel-g-laffitte-1572369/\n",
      "https://www.martindale.com/attorney/patricia-varela-harrison-12198027/\n",
      "https://www.martindale.com/attorney/ricardo-pizarro-garcia-1574062/\n",
      "https://www.martindale.com/attorney/liza-m-ramos-santos-36642353/\n",
      "https://www.martindale.com/attorney/ivette-perez-gutierrez-2106188/\n",
      "https://www.martindale.com/attorney/juan-carlos-ramirez-ramos-20420183/\n",
      "https://www.martindale.com/attorney/norberto-medina-zurinaga-1573455/\n",
      "https://www.martindale.com/attorney/luis-ortiz-alvarado-13789401/\n",
      "https://www.martindale.com/attorney/alina-sandoval-matos-3279457/\n",
      "https://www.martindale.com/attorney/federico-comas-montalvo-1571272/\n",
      "https://www.martindale.com/attorney/ernesto-l-polo-300751470/\n",
      "https://www.martindale.com/attorney/victor-j-girona-gonzalez-4660784/\n",
      "https://www.martindale.com/attorney/carolyn-boren-1574149/\n",
      "https://www.martindale.com/attorney/jose-perez-hernandez-1573796/\n",
      "https://www.martindale.com/attorney/nelson-roman-mendez-4651004/\n",
      "accediendo a: https://www.martindale.com/search/attorneys-law-firms-articles/?term=Puerto+Rico%2C+USA&params=eyJ0eXBlIjoicGVvcGxlIiwiY29tcGFyZSI6IiIsInRlcm0iOiJQdWVydG8gUmljbywgVVNBIiwiZ2VvTG9jYXRpb25GYWNldCI6WyJQdWVydG8gUmljbywgVS5TLkEuIl0sImdlb0xvY2F0aW9uRmFjZXRSZWNlbnRzIjpbIlB1ZXJ0byBSaWNvLCBVLlMuQS4iXSwicGFnZSI6MSwibGltaXQiOjI1LCJvZmZzZXQiOjAsInNvcnQiOiIiLCJzb3J0VHlwZSI6IiIsImNsZWFyUGFyYW1zIjpmYWxzZSwia2V5d29yZCI6IiIsInBhZ2VUaXRsZSI6Imw6UHVlcnRvIFJpY28sIFUuUy5BLiIsInByYWN0aWNlQXJlYXMiOlsiR2VuZXJhbCBQcmFjdGljZSJdfQ%3D%3D&page=5\n",
      "https://www.martindale.com/attorney/edwin-ortiz-rivera-1571242/\n",
      "https://www.martindale.com/attorney/cesar-a-hernandez-colon-1571349/\n",
      "https://www.martindale.com/attorney/oreste-v-ramos-1571771/\n",
      "https://www.martindale.com/attorney/ms-yalitza-marie-maldonado-torres-300330376/\n",
      "https://www.martindale.com/attorney/thomas-j-bryan-pico-16299269/\n",
      "https://www.martindale.com/attorney/beatriz-varela-rios-13789472/\n",
      "https://www.martindale.com/attorney/rene-esteves-tristani-1573113/\n",
      "https://www.martindale.com/attorney/donato-rivera-de-jesus-1573763/\n",
      "https://www.martindale.com/attorney/jesus-m-del-valle-1573824/\n",
      "https://www.martindale.com/attorney/jesus-a-castellanos-1572068/\n",
      "https://www.martindale.com/attorney/pablo-r-cancio-1571039/\n",
      "https://www.martindale.com/attorney/ivanisse-morales-tirado-1571764/\n",
      "https://www.martindale.com/attorney/anabel-franceschini-rosa-537570/\n",
      "https://www.martindale.com/attorney/esteban-mujica-cotto-1572253/\n",
      "https://www.martindale.com/attorney/moises-avila-sanchez-1573721/\n",
      "https://www.martindale.com/attorney/angel-gatell-garcia-5556746/\n",
      "https://www.martindale.com/attorney/grecia-diaz-sanchez-301089404/\n",
      "https://www.martindale.com/attorney/enrique-umpierre-suarez-1571780/\n",
      "accediendo a: https://www.martindale.com/search/attorneys-law-firms-articles/?term=Puerto+Rico%2C+USA&params=eyJ0eXBlIjoicGVvcGxlIiwiY29tcGFyZSI6IiIsInRlcm0iOiJQdWVydG8gUmljbywgVVNBIiwiZ2VvTG9jYXRpb25GYWNldCI6WyJQdWVydG8gUmljbywgVS5TLkEuIl0sImdlb0xvY2F0aW9uRmFjZXRSZWNlbnRzIjpbIlB1ZXJ0byBSaWNvLCBVLlMuQS4iXSwicGFnZSI6MSwibGltaXQiOjI1LCJvZmZzZXQiOjAsInNvcnQiOiIiLCJzb3J0VHlwZSI6IiIsImNsZWFyUGFyYW1zIjpmYWxzZSwia2V5d29yZCI6IiIsInBhZ2VUaXRsZSI6Imw6UHVlcnRvIFJpY28sIFUuUy5BLiIsInByYWN0aWNlQXJlYXMiOlsiR2VuZXJhbCBQcmFjdGljZSJdfQ%3D%3D&page=6\n",
      "https://www.martindale.com/attorney/antonio-r-escriba-oliver-1573470/\n",
      "https://www.martindale.com/attorney/herman-lugo-del-toro-1572263/\n",
      "https://www.martindale.com/attorney/jenny-rodriguez-yejo-1571598/\n",
      "https://www.martindale.com/attorney/gilberto-mayo-aguayo-1574159/\n",
      "https://www.martindale.com/attorney/miguel-a-maza-1573021/\n",
      "https://www.martindale.com/attorney/miguel-a-diaz-rivera-1574212/\n",
      "https://www.martindale.com/attorney/eric-vos-300370290/\n",
      "https://www.martindale.com/attorney/rosa-e-permuy-1574197/\n",
      "https://www.martindale.com/attorney/angel-berberena-feliciano-1572854/\n",
      "https://www.martindale.com/attorney/frank-d-inserni-milam-1573781/\n",
      "https://www.martindale.com/attorney/felix-a-colon-serrano-300745708/\n",
      "https://www.martindale.com/attorney/jose-l-iglesias-irizarry-3121763/\n",
      "https://www.martindale.com/attorney/waleska-l-del-valle-rivera-35322112/\n",
      "https://www.martindale.com/attorney/benny-frankie-cerezo-1572099/\n",
      "https://www.martindale.com/attorney/francisco-j-villarrubia-garcia-1573052/\n",
      "https://www.martindale.com/attorney/juan-m-rivera-gonzalez-1573040/\n",
      "accediendo a: https://www.martindale.com/search/attorneys-law-firms-articles/?term=Puerto+Rico%2C+USA&params=eyJ0eXBlIjoicGVvcGxlIiwiY29tcGFyZSI6IiIsInRlcm0iOiJQdWVydG8gUmljbywgVVNBIiwiZ2VvTG9jYXRpb25GYWNldCI6WyJQdWVydG8gUmljbywgVS5TLkEuIl0sImdlb0xvY2F0aW9uRmFjZXRSZWNlbnRzIjpbIlB1ZXJ0byBSaWNvLCBVLlMuQS4iXSwicGFnZSI6MSwibGltaXQiOjI1LCJvZmZzZXQiOjAsInNvcnQiOiIiLCJzb3J0VHlwZSI6IiIsImNsZWFyUGFyYW1zIjpmYWxzZSwia2V5d29yZCI6IiIsInBhZ2VUaXRsZSI6Imw6UHVlcnRvIFJpY28sIFUuUy5BLiIsInByYWN0aWNlQXJlYXMiOlsiR2VuZXJhbCBQcmFjdGljZSJdfQ%3D%3D&page=7\n",
      "https://www.martindale.com/attorney/jose-a-fernandez-paoli-1573104/\n",
      "https://www.martindale.com/attorney/carla-s-loubriel-carrion-167969728/\n",
      "https://www.martindale.com/attorney/orlando-i-martinez-garcia-1571249/\n",
      "https://www.martindale.com/attorney/pablo-g-cancio-reichard-1571040/\n",
      "https://www.martindale.com/attorney/angel-a-morales-lebron-2498091/\n",
      "https://www.martindale.com/attorney/maria-e-rodriguez-lopez-1573106/\n",
      "https://www.martindale.com/attorney/alberto-acevedo-vallejo-1571743/\n",
      "https://www.martindale.com/attorney/luis-e-colon-ramery-1571331/\n",
      "https://www.martindale.com/attorney/beatriz-beato-diaz-1571599/\n",
      "https://www.martindale.com/attorney/xavier-torres-soto-45008577/\n",
      "https://www.martindale.com/attorney/gladys-n-torres-diaz-1571738/\n",
      "https://www.martindale.com/attorney/benjamin-quinones-lebron-13718978/\n",
      "https://www.martindale.com/attorney/vanessa-caraballo-saliva-3279262/\n",
      "https://www.martindale.com/attorney/luis-barcelo-gener-1574233/\n",
      "https://www.martindale.com/attorney/bethzaida-jordan-ramirez-1571295/\n",
      "https://www.martindale.com/attorney/marilyn-burgos-marquez-1573114/\n",
      "https://www.martindale.com/attorney/jenyfer-garcia-soto-4644067/\n",
      "https://www.martindale.com/attorney/ramon-muniz-santiago-908753/\n",
      "https://www.martindale.com/attorney/ivan-diaz-lopez-1571965/\n",
      "accediendo a: https://www.martindale.com/search/attorneys-law-firms-articles/?term=Puerto+Rico%2C+USA&params=eyJ0eXBlIjoicGVvcGxlIiwiY29tcGFyZSI6IiIsInRlcm0iOiJQdWVydG8gUmljbywgVVNBIiwiZ2VvTG9jYXRpb25GYWNldCI6WyJQdWVydG8gUmljbywgVS5TLkEuIl0sImdlb0xvY2F0aW9uRmFjZXRSZWNlbnRzIjpbIlB1ZXJ0byBSaWNvLCBVLlMuQS4iXSwicGFnZSI6MSwibGltaXQiOjI1LCJvZmZzZXQiOjAsInNvcnQiOiIiLCJzb3J0VHlwZSI6IiIsImNsZWFyUGFyYW1zIjpmYWxzZSwia2V5d29yZCI6IiIsInBhZ2VUaXRsZSI6Imw6UHVlcnRvIFJpY28sIFUuUy5BLiIsInByYWN0aWNlQXJlYXMiOlsiR2VuZXJhbCBQcmFjdGljZSJdfQ%3D%3D&page=8\n",
      "https://www.martindale.com/attorney/mariangela-tirado-vales-1572979/\n",
      "https://www.martindale.com/attorney/ruben-rivera-1572849/\n",
      "https://www.martindale.com/attorney/ivan-a-colon-morales-1573821/\n",
      "https://www.martindale.com/attorney/luis-a-sanchez-pont-4560667/\n",
      "https://www.martindale.com/attorney/edgardo-a-vega-lopez-jr-1572962/\n",
      "https://www.martindale.com/attorney/roberto-e-lefranc-morales-1573099/\n",
      "https://www.martindale.com/attorney/juan-carlos-deliz-21265759/\n",
      "https://www.martindale.com/attorney/daniel-f-lopez-romo-1573078/\n",
      "https://www.martindale.com/attorney/jose-l-colon-ramirez-1571117/\n",
      "https://www.martindale.com/attorney/marielisa-font-rodriguez-1572272/\n",
      "https://www.martindale.com/attorney/brenda-i-saenz-700067/\n"
     ]
    },
    {
     "name": "stderr",
     "output_type": "stream",
     "text": [
      "  5%|▌         | 11/213 [04:37<1:18:14, 23.24s/it]"
     ]
    },
    {
     "name": "stdout",
     "output_type": "stream",
     "text": [
      "paginas en esta url: 2\n",
      "accediendo a: https://www.martindale.com/search/attorneys-law-firms-articles/?term=Puerto+Rico%2C+USA&params=eyJ0eXBlIjoicGVvcGxlIiwiY29tcGFyZSI6IiIsInRlcm0iOiJQdWVydG8gUmljbywgVVNBIiwiZ2VvTG9jYXRpb25GYWNldCI6WyJQdWVydG8gUmljbywgVS5TLkEuIl0sImdlb0xvY2F0aW9uRmFjZXRSZWNlbnRzIjpbIlB1ZXJ0byBSaWNvLCBVLlMuQS4iXSwicGFnZSI6MSwibGltaXQiOjI1LCJvZmZzZXQiOjAsInNvcnQiOiIiLCJzb3J0VHlwZSI6IiIsImNsZWFyUGFyYW1zIjpmYWxzZSwia2V5d29yZCI6IiIsInBhZ2VUaXRsZSI6Imw6UHVlcnRvIFJpY28sIFUuUy5BLiIsInByYWN0aWNlQXJlYXMiOlsiRm9yZWNsb3N1cmVzIl19\n",
      "https://www.martindale.com/attorney/charles-p-gilmore-1572180/\n",
      "https://www.martindale.com/attorney/carlos-r-sosa-padro-1572002/\n",
      "https://www.martindale.com/attorney/antonio-a-arias-larcada-1573244/\n",
      "https://www.martindale.com/attorney/fausto-david-godreau-zayas-1573845/\n",
      "https://www.martindale.com/attorney/maria-de-lourdes-de-vizcarrondo-lopez-molina-1572386/\n",
      "https://www.martindale.com/attorney/dora-m-penagaricano-suarez-1573249/\n",
      "https://www.martindale.com/attorney/wilda-rodriguez-plaza-1572828/\n",
      "https://www.martindale.com/attorney/jessica-campos-bristol-2396529/\n",
      "https://www.martindale.com/attorney/pedro-d-quiles-mariani-1573494/\n",
      "https://www.martindale.com/attorney/antonio-r-escriba-oliver-157584511/\n",
      "accediendo a: https://www.martindale.com/search/attorneys-law-firms-articles/?term=Puerto+Rico%2C+USA&params=eyJ0eXBlIjoicGVvcGxlIiwiY29tcGFyZSI6IiIsInRlcm0iOiJQdWVydG8gUmljbywgVVNBIiwiZ2VvTG9jYXRpb25GYWNldCI6WyJQdWVydG8gUmljbywgVS5TLkEuIl0sImdlb0xvY2F0aW9uRmFjZXRSZWNlbnRzIjpbIlB1ZXJ0byBSaWNvLCBVLlMuQS4iXSwicGFnZSI6MSwibGltaXQiOjI1LCJvZmZzZXQiOjAsInNvcnQiOiIiLCJzb3J0VHlwZSI6IiIsImNsZWFyUGFyYW1zIjpmYWxzZSwia2V5d29yZCI6IiIsInBhZ2VUaXRsZSI6Imw6UHVlcnRvIFJpY28sIFUuUy5BLiIsInByYWN0aWNlQXJlYXMiOlsiRm9yZWNsb3N1cmVzIl19&page=2\n",
      "https://www.martindale.com/attorney/alberto-de-diego-collar-1573465/\n",
      "https://www.martindale.com/attorney/ismael-h-herrero-iii-1572368/\n",
      "https://www.martindale.com/attorney/antonio-j-cabreo-muniz-2849149/\n",
      "https://www.martindale.com/attorney/teresa-trujillo-3319044/\n",
      "https://www.martindale.com/attorney/ivan-sanchez-limardo-esq-157515318/\n",
      "https://www.martindale.com/attorney/atty-antonio-l-roig-300189516/\n",
      "https://www.martindale.com/attorney/jesus-santiago-malavet-28975830/\n",
      "https://www.martindale.com/attorney/rafael-h-zapata-yordan-11445849/\n"
     ]
    },
    {
     "name": "stderr",
     "output_type": "stream",
     "text": [
      "  6%|▌         | 12/213 [04:50<1:07:30, 20.15s/it]"
     ]
    },
    {
     "name": "stdout",
     "output_type": "stream",
     "text": [
      "paginas en esta url: 1\n",
      "accediendo a: https://www.martindale.com/search/attorneys-law-firms-articles/?term=Puerto+Rico%2C+USA&params=eyJ0eXBlIjoicGVvcGxlIiwiY29tcGFyZSI6IiIsInRlcm0iOiJQdWVydG8gUmljbywgVVNBIiwiZ2VvTG9jYXRpb25GYWNldCI6WyJQdWVydG8gUmljbywgVS5TLkEuIl0sImdlb0xvY2F0aW9uRmFjZXRSZWNlbnRzIjpbIlB1ZXJ0byBSaWNvLCBVLlMuQS4iXSwicGFnZSI6MSwibGltaXQiOjI1LCJvZmZzZXQiOjAsInNvcnQiOiIiLCJzb3J0VHlwZSI6IiIsImNsZWFyUGFyYW1zIjpmYWxzZSwia2V5d29yZCI6IiIsInBhZ2VUaXRsZSI6Imw6UHVlcnRvIFJpY28sIFUuUy5BLiIsInByYWN0aWNlQXJlYXMiOlsiQnV5aW5nIGFuZCBTZWxsaW5nIG9mIEJ1c2luZXNzZXMiXX0%3D\n"
     ]
    },
    {
     "name": "stderr",
     "output_type": "stream",
     "text": [
      "  6%|▌         | 13/213 [05:14<1:10:13, 21.07s/it]"
     ]
    },
    {
     "name": "stdout",
     "output_type": "stream",
     "text": [
      "paginas en esta url: 1\n",
      "accediendo a: https://www.martindale.com/search/attorneys-law-firms-articles/?term=Puerto+Rico%2C+USA&params=eyJ0eXBlIjoicGVvcGxlIiwiY29tcGFyZSI6IiIsInRlcm0iOiJQdWVydG8gUmljbywgVVNBIiwiZ2VvTG9jYXRpb25GYWNldCI6WyJQdWVydG8gUmljbywgVS5TLkEuIl0sImdlb0xvY2F0aW9uRmFjZXRSZWNlbnRzIjpbIlB1ZXJ0byBSaWNvLCBVLlMuQS4iXSwicGFnZSI6MSwibGltaXQiOjI1LCJvZmZzZXQiOjAsInNvcnQiOiIiLCJzb3J0VHlwZSI6IiIsImNsZWFyUGFyYW1zIjpmYWxzZSwia2V5d29yZCI6IiIsInBhZ2VUaXRsZSI6Imw6UHVlcnRvIFJpY28sIFUuUy5BLiIsInByYWN0aWNlQXJlYXMiOlsiUmVzb3J0cyBhbmQgTGVpc3VyZSJdfQ%3D%3D\n",
      "https://www.martindale.com/attorney/glenn-carl-james-1573988/\n",
      "https://www.martindale.com/attorney/gretchen-negron-2965943/\n",
      "https://www.martindale.com/attorney/guillermo-zuniga-lopez-1572543/\n",
      "https://www.martindale.com/attorney/aurelio-emanuelli-freese-13844110/\n",
      "https://www.martindale.com/attorney/gilberto-maymi-1571179/\n",
      "https://www.martindale.com/attorney/francisco-de-jesus-schuck-1572800/\n",
      "https://www.martindale.com/attorney/eduardo-e-franklin-1573586/\n",
      "https://www.martindale.com/attorney/ricardo-e-soto-miranda-1572549/\n",
      "https://www.martindale.com/attorney/tatiana-roman-orozco-157641049/\n",
      "https://www.martindale.com/attorney/michelle-marichal-soderberg-33933066/\n",
      "https://www.martindale.com/attorney/samuel-rosado-domenech-1573614/\n",
      "https://www.martindale.com/attorney/patricia-george-iguina-3955058/\n",
      "https://www.martindale.com/attorney/luis-daniel-muniz-martinez-3954505/\n",
      "https://www.martindale.com/attorney/francisco-j-rodriguez-bernier-33803835/\n",
      "https://www.martindale.com/attorney/ricardo-j-garcia-negron-157640413/\n"
     ]
    },
    {
     "name": "stderr",
     "output_type": "stream",
     "text": [
      "  7%|▋         | 14/213 [05:37<1:12:34, 21.88s/it]"
     ]
    },
    {
     "name": "stdout",
     "output_type": "stream",
     "text": [
      "paginas en esta url: 1\n",
      "accediendo a: https://www.martindale.com/search/attorneys-law-firms-articles/?term=Puerto+Rico%2C+USA&params=eyJ0eXBlIjoicGVvcGxlIiwiY29tcGFyZSI6IiIsInRlcm0iOiJQdWVydG8gUmljbywgVVNBIiwiZ2VvTG9jYXRpb25GYWNldCI6WyJQdWVydG8gUmljbywgVS5TLkEuIl0sImdlb0xvY2F0aW9uRmFjZXRSZWNlbnRzIjpbIlB1ZXJ0byBSaWNvLCBVLlMuQS4iXSwicGFnZSI6MSwibGltaXQiOjI1LCJvZmZzZXQiOjAsInNvcnQiOiIiLCJzb3J0VHlwZSI6IiIsImNsZWFyUGFyYW1zIjpmYWxzZSwia2V5d29yZCI6IiIsInBhZ2VUaXRsZSI6Imw6UHVlcnRvIFJpY28sIFUuUy5BLiIsInByYWN0aWNlQXJlYXMiOlsiU3BvcnRzIExhdyJdfQ%3D%3D\n",
      "https://www.martindale.com/attorney/peter-s-roisman-1741052/\n",
      "https://www.martindale.com/attorney/yldefonso-lopez-1573377/\n",
      "https://www.martindale.com/attorney/jorge-m-ruiz-montilla-1573342/\n",
      "https://www.martindale.com/attorney/gerardo-j-rivera-fourquet-1573254/\n",
      "https://www.martindale.com/attorney/jose-g-barea-fernandez-3113094/\n",
      "https://www.martindale.com/attorney/manuel-ortiz-garcia-1571772/\n"
     ]
    },
    {
     "name": "stderr",
     "output_type": "stream",
     "text": [
      "  7%|▋         | 15/213 [06:01<1:13:47, 22.36s/it]"
     ]
    },
    {
     "name": "stdout",
     "output_type": "stream",
     "text": [
      "paginas en esta url: 1\n",
      "accediendo a: https://www.martindale.com/search/attorneys-law-firms-articles/?term=Puerto+Rico%2C+USA&params=eyJ0eXBlIjoicGVvcGxlIiwiY29tcGFyZSI6IiIsInRlcm0iOiJQdWVydG8gUmljbywgVVNBIiwiZ2VvTG9jYXRpb25GYWNldCI6WyJQdWVydG8gUmljbywgVS5TLkEuIl0sImdlb0xvY2F0aW9uRmFjZXRSZWNlbnRzIjpbIlB1ZXJ0byBSaWNvLCBVLlMuQS4iXSwicGFnZSI6MSwibGltaXQiOjI1LCJvZmZzZXQiOjAsInNvcnQiOiIiLCJzb3J0VHlwZSI6IiIsImNsZWFyUGFyYW1zIjpmYWxzZSwia2V5d29yZCI6IiIsInBhZ2VUaXRsZSI6Imw6UHVlcnRvIFJpY28sIFUuUy5BLiIsInByYWN0aWNlQXJlYXMiOlsiRmFtaWx5IE1lZGlhdGlvbiJdfQ%3D%3D\n"
     ]
    },
    {
     "name": "stderr",
     "output_type": "stream",
     "text": [
      "  8%|▊         | 16/213 [06:26<1:16:04, 23.17s/it]"
     ]
    },
    {
     "name": "stdout",
     "output_type": "stream",
     "text": [
      "paginas en esta url: 1\n",
      "accediendo a: https://www.martindale.com/search/attorneys-law-firms-articles/?term=Puerto+Rico%2C+USA&params=eyJ0eXBlIjoicGVvcGxlIiwiY29tcGFyZSI6IiIsInRlcm0iOiJQdWVydG8gUmljbywgVVNBIiwiZ2VvTG9jYXRpb25GYWNldCI6WyJQdWVydG8gUmljbywgVS5TLkEuIl0sImdlb0xvY2F0aW9uRmFjZXRSZWNlbnRzIjpbIlB1ZXJ0byBSaWNvLCBVLlMuQS4iXSwicGFnZSI6MSwibGltaXQiOjI1LCJvZmZzZXQiOjAsInNvcnQiOiIiLCJzb3J0VHlwZSI6IiIsImNsZWFyUGFyYW1zIjpmYWxzZSwia2V5d29yZCI6IiIsInBhZ2VUaXRsZSI6Imw6UHVlcnRvIFJpY28sIFUuUy5BLiIsInByYWN0aWNlQXJlYXMiOlsiUklDTyJdfQ%3D%3D\n",
      "https://www.martindale.com/attorney/ralph-j-sierra-jr-1571710/\n",
      "https://www.martindale.com/attorney/virgilio-ramos-tomasini-2248610/\n",
      "https://www.martindale.com/attorney/magali-d-cobian-guzman-1571712/\n",
      "https://www.martindale.com/attorney/rafael-escalera-rodriguez-1573709/\n",
      "https://www.martindale.com/attorney/roberto-santana-aparicio-1572342/\n",
      "https://www.martindale.com/attorney/brunilda-rodriguez-velez-1572162/\n",
      "https://www.martindale.com/attorney/edgar-cartagena-1572802/\n",
      "https://www.martindale.com/attorney/john-t-belk-1571713/\n",
      "https://www.martindale.com/attorney/xenia-velez-silva-1573373/\n",
      "https://www.martindale.com/attorney/ramon-e-dapena-157379933/\n",
      "https://www.martindale.com/attorney/angel-s-ruiz-rodriguez-1572146/\n",
      "https://www.martindale.com/attorney/ramon-e-dapena-33975881/\n"
     ]
    },
    {
     "name": "stderr",
     "output_type": "stream",
     "text": [
      "  8%|▊         | 17/213 [06:49<1:16:06, 23.30s/it]"
     ]
    },
    {
     "name": "stdout",
     "output_type": "stream",
     "text": [
      "paginas en esta url: 1\n",
      "accediendo a: https://www.martindale.com/search/attorneys-law-firms-articles/?term=Puerto+Rico%2C+USA&params=eyJ0eXBlIjoicGVvcGxlIiwiY29tcGFyZSI6IiIsInRlcm0iOiJQdWVydG8gUmljbywgVVNBIiwiZ2VvTG9jYXRpb25GYWNldCI6WyJQdWVydG8gUmljbywgVS5TLkEuIl0sImdlb0xvY2F0aW9uRmFjZXRSZWNlbnRzIjpbIlB1ZXJ0byBSaWNvLCBVLlMuQS4iXSwicGFnZSI6MSwibGltaXQiOjI1LCJvZmZzZXQiOjAsInNvcnQiOiIiLCJzb3J0VHlwZSI6IiIsImNsZWFyUGFyYW1zIjpmYWxzZSwia2V5d29yZCI6IiIsInBhZ2VUaXRsZSI6Imw6UHVlcnRvIFJpY28sIFUuUy5BLiIsInByYWN0aWNlQXJlYXMiOlsiRGl2b3JjZSJdfQ%3D%3D\n",
      "https://www.martindale.com/attorney/ricky-pamblanco-300734930/\n",
      "https://www.martindale.com/attorney/jose-emmanuel-santiago-300733624/\n",
      "https://www.martindale.com/attorney/eyal-samuel-rosenstock-300597330/\n",
      "https://www.martindale.com/attorney/francisco-j-reyes-300761952/\n",
      "https://www.martindale.com/attorney/juan-jose-nolla-acosta-2521947/\n"
     ]
    },
    {
     "name": "stderr",
     "output_type": "stream",
     "text": [
      "  8%|▊         | 18/213 [07:14<1:17:23, 23.81s/it]"
     ]
    },
    {
     "name": "stdout",
     "output_type": "stream",
     "text": [
      "paginas en esta url: 1\n",
      "accediendo a: https://www.martindale.com/search/attorneys-law-firms-articles/?term=Puerto+Rico%2C+USA&params=eyJ0eXBlIjoicGVvcGxlIiwiY29tcGFyZSI6IiIsInRlcm0iOiJQdWVydG8gUmljbywgVVNBIiwiZ2VvTG9jYXRpb25GYWNldCI6WyJQdWVydG8gUmljbywgVS5TLkEuIl0sImdlb0xvY2F0aW9uRmFjZXRSZWNlbnRzIjpbIlB1ZXJ0byBSaWNvLCBVLlMuQS4iXSwicGFnZSI6MSwibGltaXQiOjI1LCJvZmZzZXQiOjAsInNvcnQiOiIiLCJzb3J0VHlwZSI6IiIsImNsZWFyUGFyYW1zIjpmYWxzZSwia2V5d29yZCI6IiIsInBhZ2VUaXRsZSI6Imw6UHVlcnRvIFJpY28sIFUuUy5BLiIsInByYWN0aWNlQXJlYXMiOlsiSm9pbnQgVmVudHVyZXMiXX0%3D\n"
     ]
    },
    {
     "name": "stderr",
     "output_type": "stream",
     "text": [
      "  9%|▉         | 19/213 [07:38<1:16:17, 23.59s/it]"
     ]
    },
    {
     "name": "stdout",
     "output_type": "stream",
     "text": [
      "paginas en esta url: 1\n",
      "accediendo a: https://www.martindale.com/search/attorneys-law-firms-articles/?term=Puerto+Rico%2C+USA&params=eyJ0eXBlIjoicGVvcGxlIiwiY29tcGFyZSI6IiIsInRlcm0iOiJQdWVydG8gUmljbywgVVNBIiwiZ2VvTG9jYXRpb25GYWNldCI6WyJQdWVydG8gUmljbywgVS5TLkEuIl0sImdlb0xvY2F0aW9uRmFjZXRSZWNlbnRzIjpbIlB1ZXJ0byBSaWNvLCBVLlMuQS4iXSwicGFnZSI6MSwibGltaXQiOjI1LCJvZmZzZXQiOjAsInNvcnQiOiIiLCJzb3J0VHlwZSI6IiIsImNsZWFyUGFyYW1zIjpmYWxzZSwia2V5d29yZCI6IiIsInBhZ2VUaXRsZSI6Imw6UHVlcnRvIFJpY28sIFUuUy5BLiIsInByYWN0aWNlQXJlYXMiOlsiVXRpbGl0eSBMYXciXX0%3D\n"
     ]
    },
    {
     "name": "stderr",
     "output_type": "stream",
     "text": [
      "  9%|▉         | 20/213 [08:00<1:14:50, 23.27s/it]"
     ]
    },
    {
     "name": "stdout",
     "output_type": "stream",
     "text": [
      "paginas en esta url: 1\n",
      "accediendo a: https://www.martindale.com/search/attorneys-law-firms-articles/?term=Puerto+Rico%2C+USA&params=eyJ0eXBlIjoicGVvcGxlIiwiY29tcGFyZSI6IiIsInRlcm0iOiJQdWVydG8gUmljbywgVVNBIiwiZ2VvTG9jYXRpb25GYWNldCI6WyJQdWVydG8gUmljbywgVS5TLkEuIl0sImdlb0xvY2F0aW9uRmFjZXRSZWNlbnRzIjpbIlB1ZXJ0byBSaWNvLCBVLlMuQS4iXSwicGFnZSI6MSwibGltaXQiOjI1LCJvZmZzZXQiOjAsInNvcnQiOiIiLCJzb3J0VHlwZSI6IiIsImNsZWFyUGFyYW1zIjpmYWxzZSwia2V5d29yZCI6IiIsInBhZ2VUaXRsZSI6Imw6UHVlcnRvIFJpY28sIFUuUy5BLiIsInByYWN0aWNlQXJlYXMiOlsiTGl2aW5nIFdpbGxzIl19\n",
      "https://www.martindale.com/attorney/alejandro-m-guzman-300781496/\n"
     ]
    },
    {
     "name": "stderr",
     "output_type": "stream",
     "text": [
      " 10%|▉         | 21/213 [08:25<1:16:03, 23.77s/it]"
     ]
    },
    {
     "name": "stdout",
     "output_type": "stream",
     "text": [
      "paginas en esta url: 1\n",
      "accediendo a: https://www.martindale.com/search/attorneys-law-firms-articles/?term=Puerto+Rico%2C+USA&params=eyJ0eXBlIjoicGVvcGxlIiwiY29tcGFyZSI6IiIsInRlcm0iOiJQdWVydG8gUmljbywgVVNBIiwiZ2VvTG9jYXRpb25GYWNldCI6WyJQdWVydG8gUmljbywgVS5TLkEuIl0sImdlb0xvY2F0aW9uRmFjZXRSZWNlbnRzIjpbIlB1ZXJ0byBSaWNvLCBVLlMuQS4iXSwicGFnZSI6MSwibGltaXQiOjI1LCJvZmZzZXQiOjAsInNvcnQiOiIiLCJzb3J0VHlwZSI6IiIsImNsZWFyUGFyYW1zIjpmYWxzZSwia2V5d29yZCI6IiIsInBhZ2VUaXRsZSI6Imw6UHVlcnRvIFJpY28sIFUuUy5BLiIsInByYWN0aWNlQXJlYXMiOlsiRmFtaWx5IGFuZCBNZWRpY2FsIExlYXZlIEFjdCJdfQ%3D%3D\n",
      "https://www.martindale.com/attorney/luis-f-antonetti-1572798/\n",
      "https://www.martindale.com/attorney/anibal-escanellas-rivera-1573738/\n"
     ]
    },
    {
     "name": "stderr",
     "output_type": "stream",
     "text": [
      " 10%|█         | 22/213 [08:48<1:14:35, 23.43s/it]"
     ]
    },
    {
     "name": "stdout",
     "output_type": "stream",
     "text": [
      "paginas en esta url: 1\n",
      "accediendo a: https://www.martindale.com/search/attorneys-law-firms-articles/?term=Puerto+Rico%2C+USA&params=eyJ0eXBlIjoicGVvcGxlIiwiY29tcGFyZSI6IiIsInRlcm0iOiJQdWVydG8gUmljbywgVVNBIiwiZ2VvTG9jYXRpb25GYWNldCI6WyJQdWVydG8gUmljbywgVS5TLkEuIl0sImdlb0xvY2F0aW9uRmFjZXRSZWNlbnRzIjpbIlB1ZXJ0byBSaWNvLCBVLlMuQS4iXSwicGFnZSI6MSwibGltaXQiOjI1LCJvZmZzZXQiOjAsInNvcnQiOiIiLCJzb3J0VHlwZSI6IiIsImNsZWFyUGFyYW1zIjpmYWxzZSwia2V5d29yZCI6IiIsInBhZ2VUaXRsZSI6Imw6UHVlcnRvIFJpY28sIFUuUy5BLiIsInByYWN0aWNlQXJlYXMiOlsiUmVsaWdpb3VzIEluc3RpdHV0aW9ucyJdfQ%3D%3D\n"
     ]
    },
    {
     "name": "stderr",
     "output_type": "stream",
     "text": [
      " 11%|█         | 23/213 [09:11<1:14:35, 23.56s/it]"
     ]
    },
    {
     "name": "stdout",
     "output_type": "stream",
     "text": [
      "paginas en esta url: 1\n",
      "accediendo a: https://www.martindale.com/search/attorneys-law-firms-articles/?term=Puerto+Rico%2C+USA&params=eyJ0eXBlIjoicGVvcGxlIiwiY29tcGFyZSI6IiIsInRlcm0iOiJQdWVydG8gUmljbywgVVNBIiwiZ2VvTG9jYXRpb25GYWNldCI6WyJQdWVydG8gUmljbywgVS5TLkEuIl0sImdlb0xvY2F0aW9uRmFjZXRSZWNlbnRzIjpbIlB1ZXJ0byBSaWNvLCBVLlMuQS4iXSwicGFnZSI6MSwibGltaXQiOjI1LCJvZmZzZXQiOjAsInNvcnQiOiIiLCJzb3J0VHlwZSI6IiIsImNsZWFyUGFyYW1zIjpmYWxzZSwia2V5d29yZCI6IiIsInBhZ2VUaXRsZSI6Imw6UHVlcnRvIFJpY28sIFUuUy5BLiIsInByYWN0aWNlQXJlYXMiOlsiVW5mYWlyIENvbXBldGl0aW9uIl19\n",
      "problemas con el crawler\n",
      "problemas con el crawler\n"
     ]
    },
    {
     "name": "stderr",
     "output_type": "stream",
     "text": [
      " 11%|█▏        | 24/213 [10:28<2:04:19, 39.47s/it]"
     ]
    },
    {
     "name": "stdout",
     "output_type": "stream",
     "text": [
      "paginas en esta url: 1\n",
      "accediendo a: https://www.martindale.com/search/attorneys-law-firms-articles/?term=Puerto+Rico%2C+USA&params=eyJ0eXBlIjoicGVvcGxlIiwiY29tcGFyZSI6IiIsInRlcm0iOiJQdWVydG8gUmljbywgVVNBIiwiZ2VvTG9jYXRpb25GYWNldCI6WyJQdWVydG8gUmljbywgVS5TLkEuIl0sImdlb0xvY2F0aW9uRmFjZXRSZWNlbnRzIjpbIlB1ZXJ0byBSaWNvLCBVLlMuQS4iXSwicGFnZSI6MSwibGltaXQiOjI1LCJvZmZzZXQiOjAsInNvcnQiOiIiLCJzb3J0VHlwZSI6IiIsImNsZWFyUGFyYW1zIjpmYWxzZSwia2V5d29yZCI6IiIsInBhZ2VUaXRsZSI6Imw6UHVlcnRvIFJpY28sIFUuUy5BLiIsInByYWN0aWNlQXJlYXMiOlsiTGF3IEVuZm9yY2VtZW50Il19\n",
      "https://www.martindale.com/attorney/gary-h-montilla-brogan-3568842/\n"
     ]
    },
    {
     "name": "stderr",
     "output_type": "stream",
     "text": [
      " 12%|█▏        | 25/213 [10:53<1:49:47, 35.04s/it]"
     ]
    },
    {
     "name": "stdout",
     "output_type": "stream",
     "text": [
      "paginas en esta url: 3\n",
      "accediendo a: https://www.martindale.com/search/attorneys-law-firms-articles/?term=Puerto+Rico%2C+USA&params=eyJ0eXBlIjoicGVvcGxlIiwiY29tcGFyZSI6IiIsInRlcm0iOiJQdWVydG8gUmljbywgVVNBIiwiZ2VvTG9jYXRpb25GYWNldCI6WyJQdWVydG8gUmljbywgVS5TLkEuIl0sImdlb0xvY2F0aW9uRmFjZXRSZWNlbnRzIjpbIlB1ZXJ0byBSaWNvLCBVLlMuQS4iXSwicGFnZSI6MSwibGltaXQiOjI1LCJvZmZzZXQiOjAsInNvcnQiOiIiLCJzb3J0VHlwZSI6IiIsImNsZWFyUGFyYW1zIjpmYWxzZSwia2V5d29yZCI6IiIsInBhZ2VUaXRsZSI6Imw6UHVlcnRvIFJpY28sIFUuUy5BLiIsInByYWN0aWNlQXJlYXMiOlsiRGlzY3JpbWluYXRpb24iXX0%3D\n",
      "https://www.martindale.com/attorney/fred-gautier-lugo-esq-157515022/\n",
      "https://www.martindale.com/attorney/raymond-e-morales-1571439/\n",
      "https://www.martindale.com/attorney/alfredo-m-hopgood-jovet-1573241/\n",
      "https://www.martindale.com/attorney/marco-rosado-conde-1571754/\n",
      "https://www.martindale.com/attorney/yldefonso-lopez-morales-1573611/\n",
      "https://www.martindale.com/attorney/vivian-i-neptune-rivera-1572553/\n",
      "https://www.martindale.com/attorney/yassmin-gonzalez-velez-2289813/\n",
      "https://www.martindale.com/attorney/annette-nogueras-castro-1572613/\n",
      "https://www.martindale.com/attorney/lidia-gonzalez-1572609/\n",
      "https://www.martindale.com/attorney/hector-santaella-sante-2780970/\n",
      "https://www.martindale.com/attorney/maria-soledad-ramirez-becerra-1573984/\n",
      "accediendo a: https://www.martindale.com/search/attorneys-law-firms-articles/?term=Puerto+Rico%2C+USA&params=eyJ0eXBlIjoicGVvcGxlIiwiY29tcGFyZSI6IiIsInRlcm0iOiJQdWVydG8gUmljbywgVVNBIiwiZ2VvTG9jYXRpb25GYWNldCI6WyJQdWVydG8gUmljbywgVS5TLkEuIl0sImdlb0xvY2F0aW9uRmFjZXRSZWNlbnRzIjpbIlB1ZXJ0byBSaWNvLCBVLlMuQS4iXSwicGFnZSI6MSwibGltaXQiOjI1LCJvZmZzZXQiOjAsInNvcnQiOiIiLCJzb3J0VHlwZSI6IiIsImNsZWFyUGFyYW1zIjpmYWxzZSwia2V5d29yZCI6IiIsInBhZ2VUaXRsZSI6Imw6UHVlcnRvIFJpY28sIFUuUy5BLiIsInByYWN0aWNlQXJlYXMiOlsiRGlzY3JpbWluYXRpb24iXX0%3D&page=2\n",
      "https://www.martindale.com/attorney/antonio-l-garcia-ramirez-2525526/\n",
      "https://www.martindale.com/attorney/carlos-a-del-valle-cruz-1573055/\n",
      "https://www.martindale.com/attorney/artemio-rivera-rivera-1572872/\n",
      "https://www.martindale.com/attorney/diana-m-espinosa-28828277/\n",
      "https://www.martindale.com/attorney/enrique-r-padro-2525671/\n",
      "https://www.martindale.com/attorney/elaine-maldonado-matias-1573296/\n",
      "https://www.martindale.com/attorney/maria-t-ferran-perez-benitoa-1573968/\n",
      "https://www.martindale.com/attorney/lillian-mendoza-1573365/\n",
      "https://www.martindale.com/attorney/juan-j-casillas-ayala-1994825/\n",
      "https://www.martindale.com/attorney/maria-eugenia-castro-colon-1572998/\n",
      "https://www.martindale.com/attorney/zuleka-llovet-zurinaga-1573830/\n",
      "https://www.martindale.com/attorney/miguel-palou-sabater-1573215/\n",
      "https://www.martindale.com/attorney/maria-t-juan-urrutia-1573292/\n",
      "https://www.martindale.com/attorney/edwin-j-seda-fernandez-1572754/\n",
      "accediendo a: https://www.martindale.com/search/attorneys-law-firms-articles/?term=Puerto+Rico%2C+USA&params=eyJ0eXBlIjoicGVvcGxlIiwiY29tcGFyZSI6IiIsInRlcm0iOiJQdWVydG8gUmljbywgVVNBIiwiZ2VvTG9jYXRpb25GYWNldCI6WyJQdWVydG8gUmljbywgVS5TLkEuIl0sImdlb0xvY2F0aW9uRmFjZXRSZWNlbnRzIjpbIlB1ZXJ0byBSaWNvLCBVLlMuQS4iXSwicGFnZSI6MSwibGltaXQiOjI1LCJvZmZzZXQiOjAsInNvcnQiOiIiLCJzb3J0VHlwZSI6IiIsImNsZWFyUGFyYW1zIjpmYWxzZSwia2V5d29yZCI6IiIsInBhZ2VUaXRsZSI6Imw6UHVlcnRvIFJpY28sIFUuUy5BLiIsInByYWN0aWNlQXJlYXMiOlsiRGlzY3JpbWluYXRpb24iXX0%3D&page=3\n",
      "https://www.martindale.com/attorney/jose-a-bague-soto-1573923/\n",
      "https://www.martindale.com/attorney/marie-l-cortes-cortes-2700357/\n",
      "https://www.martindale.com/attorney/gerardo-j-hernandez-1572417/\n",
      "https://www.martindale.com/attorney/nelson-robles-diaz-1573043/\n",
      "https://www.martindale.com/attorney/enrique-m-bray-1573530/\n",
      "https://www.martindale.com/attorney/lilliam-e-mendoza-de-becce-1573172/\n",
      "https://www.martindale.com/attorney/rafael-j-vazquez-gonzalez-1573347/\n",
      "https://www.martindale.com/attorney/luis-f-llach-zuniga-17103394/\n",
      "https://www.martindale.com/attorney/alberto-acevedo-colom-1571750/\n"
     ]
    },
    {
     "name": "stderr",
     "output_type": "stream",
     "text": [
      " 12%|█▏        | 26/213 [11:08<1:30:15, 28.96s/it]"
     ]
    },
    {
     "name": "stdout",
     "output_type": "stream",
     "text": [
      "paginas en esta url: 1\n",
      "accediendo a: https://www.martindale.com/search/attorneys-law-firms-articles/?term=Puerto+Rico%2C+USA&params=eyJ0eXBlIjoicGVvcGxlIiwiY29tcGFyZSI6IiIsInRlcm0iOiJQdWVydG8gUmljbywgVVNBIiwiZ2VvTG9jYXRpb25GYWNldCI6WyJQdWVydG8gUmljbywgVS5TLkEuIl0sImdlb0xvY2F0aW9uRmFjZXRSZWNlbnRzIjpbIlB1ZXJ0byBSaWNvLCBVLlMuQS4iXSwicGFnZSI6MSwibGltaXQiOjI1LCJvZmZzZXQiOjAsInNvcnQiOiIiLCJzb3J0VHlwZSI6IiIsImNsZWFyUGFyYW1zIjpmYWxzZSwia2V5d29yZCI6IiIsInBhZ2VUaXRsZSI6Imw6UHVlcnRvIFJpY28sIFUuUy5BLiIsInByYWN0aWNlQXJlYXMiOlsiUHJvcGVydHkgTGF3Il19\n",
      "https://www.martindale.com/attorney/sunethra-muralidhara-159338215/\n",
      "https://www.martindale.com/attorney/juan-c-cancio-reichard-1571041/\n",
      "https://www.martindale.com/attorney/ramon-eugenio-melendez-1572156/\n",
      "https://www.martindale.com/attorney/eric-milan-muniz-1571047/\n",
      "https://www.martindale.com/attorney/alba-i-joubert-pereira-36379330/\n",
      "https://www.martindale.com/attorney/edgardo-nieves-quiles-1573622/\n",
      "https://www.martindale.com/attorney/mariluz-rivera-ortiz-1573546/\n",
      "https://www.martindale.com/attorney/kenneth-howard-kaiserman-135291/\n",
      "https://www.martindale.com/attorney/freddie-berrios-perez-1571629/\n",
      "https://www.martindale.com/attorney/raymond-sandoval-alemany-1573452/\n",
      "https://www.martindale.com/attorney/aurelio-torres-ponsa-1573287/\n"
     ]
    },
    {
     "name": "stderr",
     "output_type": "stream",
     "text": [
      " 13%|█▎        | 27/213 [11:30<1:24:05, 27.12s/it]"
     ]
    },
    {
     "name": "stdout",
     "output_type": "stream",
     "text": [
      "paginas en esta url: 1\n",
      "accediendo a: https://www.martindale.com/search/attorneys-law-firms-articles/?term=Puerto+Rico%2C+USA&params=eyJ0eXBlIjoicGVvcGxlIiwiY29tcGFyZSI6IiIsInRlcm0iOiJQdWVydG8gUmljbywgVVNBIiwiZ2VvTG9jYXRpb25GYWNldCI6WyJQdWVydG8gUmljbywgVS5TLkEuIl0sImdlb0xvY2F0aW9uRmFjZXRSZWNlbnRzIjpbIlB1ZXJ0byBSaWNvLCBVLlMuQS4iXSwicGFnZSI6MSwibGltaXQiOjI1LCJvZmZzZXQiOjAsInNvcnQiOiIiLCJzb3J0VHlwZSI6IiIsImNsZWFyUGFyYW1zIjpmYWxzZSwia2V5d29yZCI6IiIsInBhZ2VUaXRsZSI6Imw6UHVlcnRvIFJpY28sIFUuUy5BLiIsInByYWN0aWNlQXJlYXMiOlsiR292ZXJubWVudCBSZWxhdGlvbnMiXX0%3D\n",
      "https://www.martindale.com/attorney/betsy-asencio-quiles-4567497/\n",
      "https://www.martindale.com/attorney/jaime-morgan-stubbe-1572825/\n",
      "https://www.martindale.com/attorney/baltasar-corrada-del-rio-1572269/\n",
      "https://www.martindale.com/attorney/charles-a-rodriguez-2099757/\n",
      "https://www.martindale.com/attorney/hector-jimenez-juarbe-1572561/\n",
      "https://www.martindale.com/attorney/ismael-vincenty-medina-1572769/\n"
     ]
    },
    {
     "name": "stderr",
     "output_type": "stream",
     "text": [
      " 13%|█▎        | 28/213 [11:55<1:21:10, 26.33s/it]"
     ]
    },
    {
     "name": "stdout",
     "output_type": "stream",
     "text": [
      "paginas en esta url: 1\n",
      "accediendo a: https://www.martindale.com/search/attorneys-law-firms-articles/?term=Puerto+Rico%2C+USA&params=eyJ0eXBlIjoicGVvcGxlIiwiY29tcGFyZSI6IiIsInRlcm0iOiJQdWVydG8gUmljbywgVVNBIiwiZ2VvTG9jYXRpb25GYWNldCI6WyJQdWVydG8gUmljbywgVS5TLkEuIl0sImdlb0xvY2F0aW9uRmFjZXRSZWNlbnRzIjpbIlB1ZXJ0byBSaWNvLCBVLlMuQS4iXSwicGFnZSI6MSwibGltaXQiOjI1LCJvZmZzZXQiOjAsInNvcnQiOiIiLCJzb3J0VHlwZSI6IiIsImNsZWFyUGFyYW1zIjpmYWxzZSwia2V5d29yZCI6IiIsInBhZ2VUaXRsZSI6Imw6UHVlcnRvIFJpY28sIFUuUy5BLiIsInByYWN0aWNlQXJlYXMiOlsiSW5oZXJpdGFuY2UiXX0%3D\n",
      "problemas con el crawler\n",
      "problemas con el crawler\n"
     ]
    },
    {
     "name": "stderr",
     "output_type": "stream",
     "text": [
      " 14%|█▎        | 29/213 [13:12<2:07:39, 41.63s/it]"
     ]
    },
    {
     "name": "stdout",
     "output_type": "stream",
     "text": [
      "paginas en esta url: 1\n",
      "accediendo a: https://www.martindale.com/search/attorneys-law-firms-articles/?term=Puerto+Rico%2C+USA&params=eyJ0eXBlIjoicGVvcGxlIiwiY29tcGFyZSI6IiIsInRlcm0iOiJQdWVydG8gUmljbywgVVNBIiwiZ2VvTG9jYXRpb25GYWNldCI6WyJQdWVydG8gUmljbywgVS5TLkEuIl0sImdlb0xvY2F0aW9uRmFjZXRSZWNlbnRzIjpbIlB1ZXJ0byBSaWNvLCBVLlMuQS4iXSwicGFnZSI6MSwibGltaXQiOjI1LCJvZmZzZXQiOjAsInNvcnQiOiIiLCJzb3J0VHlwZSI6IiIsImNsZWFyUGFyYW1zIjpmYWxzZSwia2V5d29yZCI6IiIsInBhZ2VUaXRsZSI6Imw6UHVlcnRvIFJpY28sIFUuUy5BLiIsInByYWN0aWNlQXJlYXMiOlsiQmFua3J1cHRjeSBDaGFwdGVyIDEzIl19\n",
      "https://www.martindale.com/attorney/rebeca-caquias-mejias-2525483/\n"
     ]
    },
    {
     "name": "stderr",
     "output_type": "stream",
     "text": [
      " 14%|█▍        | 30/213 [13:36<1:50:18, 36.16s/it]"
     ]
    },
    {
     "name": "stdout",
     "output_type": "stream",
     "text": [
      "paginas en esta url: 20\n",
      "accediendo a: https://www.martindale.com/search/attorneys-law-firms-articles/?term=Puerto+Rico%2C+USA&params=eyJ0eXBlIjoicGVvcGxlIiwiY29tcGFyZSI6IiIsInRlcm0iOiJQdWVydG8gUmljbywgVVNBIiwiZ2VvTG9jYXRpb25GYWNldCI6WyJQdWVydG8gUmljbywgVS5TLkEuIl0sImdlb0xvY2F0aW9uRmFjZXRSZWNlbnRzIjpbIlB1ZXJ0byBSaWNvLCBVLlMuQS4iXSwicGFnZSI6MSwibGltaXQiOjI1LCJvZmZzZXQiOjAsInNvcnQiOiIiLCJzb3J0VHlwZSI6IiIsImNsZWFyUGFyYW1zIjpmYWxzZSwia2V5d29yZCI6IiIsInBhZ2VUaXRsZSI6Imw6UHVlcnRvIFJpY28sIFUuUy5BLiIsInByYWN0aWNlQXJlYXMiOlsiTGl0aWdhdGlvbiJdfQ%3D%3D\n",
      "https://www.martindale.com/attorney/karla-m-rodriguez-morales-157447904/\n",
      "https://www.martindale.com/attorney/federico-calaf-legrand-1573871/\n",
      "https://www.martindale.com/attorney/luis-e-minana-25007752/\n",
      "https://www.martindale.com/attorney/guillermo-j-bobonis-1571904/\n",
      "https://www.martindale.com/attorney/vicente-a-sequeda-torres-1572418/\n",
      "https://www.martindale.com/attorney/carlos-a-bobonis-gonzalez-1571905/\n",
      "https://www.martindale.com/attorney/nelson-r-garayua-vazquez-1571795/\n",
      "https://www.martindale.com/attorney/benjamin-acosta-jr-1571792/\n",
      "https://www.martindale.com/attorney/patrick-d-o-neill-1572140/\n",
      "https://www.martindale.com/attorney/neida-a-toledo-llavona-46783623/\n",
      "accediendo a: https://www.martindale.com/search/attorneys-law-firms-articles/?term=Puerto+Rico%2C+USA&params=eyJ0eXBlIjoicGVvcGxlIiwiY29tcGFyZSI6IiIsInRlcm0iOiJQdWVydG8gUmljbywgVVNBIiwiZ2VvTG9jYXRpb25GYWNldCI6WyJQdWVydG8gUmljbywgVS5TLkEuIl0sImdlb0xvY2F0aW9uRmFjZXRSZWNlbnRzIjpbIlB1ZXJ0byBSaWNvLCBVLlMuQS4iXSwicGFnZSI6MSwibGltaXQiOjI1LCJvZmZzZXQiOjAsInNvcnQiOiIiLCJzb3J0VHlwZSI6IiIsImNsZWFyUGFyYW1zIjpmYWxzZSwia2V5d29yZCI6IiIsInBhZ2VUaXRsZSI6Imw6UHVlcnRvIFJpY28sIFUuUy5BLiIsInByYWN0aWNlQXJlYXMiOlsiTGl0aWdhdGlvbiJdfQ%3D%3D&page=2\n",
      "https://www.martindale.com/attorney/keyla-gandara-umpierre-44858880/\n",
      "https://www.martindale.com/attorney/lou-ann-delgado-1573928/\n",
      "https://www.martindale.com/attorney/carlos-j-fernandez-lugo-1573262/\n",
      "https://www.martindale.com/attorney/betmar-lopez-pagan-2521247/\n",
      "https://www.martindale.com/attorney/amelia-caicedo-santiago-4662845/\n",
      "https://www.martindale.com/attorney/gerardo-fernandez-amy-1572999/\n",
      "https://www.martindale.com/attorney/pavel-igor-pogodin-2194140/\n",
      "https://www.martindale.com/attorney/edgardo-rodriquez-quilichini-2091381/\n",
      "https://www.martindale.com/attorney/maritza-i-munich-1573903/\n",
      "https://www.martindale.com/attorney/betsy-asencio-2298118/\n",
      "https://www.martindale.com/attorney/german-j-brau-1571278/\n",
      "https://www.martindale.com/attorney/graciela-j-belaval-1572141/\n",
      "accediendo a: https://www.martindale.com/search/attorneys-law-firms-articles/?term=Puerto+Rico%2C+USA&params=eyJ0eXBlIjoicGVvcGxlIiwiY29tcGFyZSI6IiIsInRlcm0iOiJQdWVydG8gUmljbywgVVNBIiwiZ2VvTG9jYXRpb25GYWNldCI6WyJQdWVydG8gUmljbywgVS5TLkEuIl0sImdlb0xvY2F0aW9uRmFjZXRSZWNlbnRzIjpbIlB1ZXJ0byBSaWNvLCBVLlMuQS4iXSwicGFnZSI6MSwibGltaXQiOjI1LCJvZmZzZXQiOjAsInNvcnQiOiIiLCJzb3J0VHlwZSI6IiIsImNsZWFyUGFyYW1zIjpmYWxzZSwia2V5d29yZCI6IiIsInBhZ2VUaXRsZSI6Imw6UHVlcnRvIFJpY28sIFUuUy5BLiIsInByYWN0aWNlQXJlYXMiOlsiTGl0aWdhdGlvbiJdfQ%3D%3D&page=3\n",
      "https://www.martindale.com/attorney/katarina-stipec-1572286/\n",
      "https://www.martindale.com/attorney/manuel-ortiz-garcia-1573359/\n",
      "https://www.martindale.com/attorney/luis-oscar-berrios-orlandi-1571817/\n",
      "https://www.martindale.com/attorney/roberto-montalvo-carbia-1572797/\n",
      "https://www.martindale.com/attorney/marisol-vega-couto-1572345/\n",
      "https://www.martindale.com/attorney/angel-x-viera-vargas-2298072/\n",
      "https://www.martindale.com/attorney/luis-f-juarbe-jimenez-1571465/\n",
      "https://www.martindale.com/attorney/alexis-g-lopez-cepero-1571933/\n",
      "https://www.martindale.com/attorney/lisa-g-mcfall-184149/\n",
      "https://www.martindale.com/attorney/nelson-biaggi-garcia-1573843/\n",
      "accediendo a: https://www.martindale.com/search/attorneys-law-firms-articles/?term=Puerto+Rico%2C+USA&params=eyJ0eXBlIjoicGVvcGxlIiwiY29tcGFyZSI6IiIsInRlcm0iOiJQdWVydG8gUmljbywgVVNBIiwiZ2VvTG9jYXRpb25GYWNldCI6WyJQdWVydG8gUmljbywgVS5TLkEuIl0sImdlb0xvY2F0aW9uRmFjZXRSZWNlbnRzIjpbIlB1ZXJ0byBSaWNvLCBVLlMuQS4iXSwicGFnZSI6MSwibGltaXQiOjI1LCJvZmZzZXQiOjAsInNvcnQiOiIiLCJzb3J0VHlwZSI6IiIsImNsZWFyUGFyYW1zIjpmYWxzZSwia2V5d29yZCI6IiIsInBhZ2VUaXRsZSI6Imw6UHVlcnRvIFJpY28sIFUuUy5BLiIsInByYWN0aWNlQXJlYXMiOlsiTGl0aWdhdGlvbiJdfQ%3D%3D&page=4\n",
      "https://www.martindale.com/attorney/irwin-h-flashman-1573590/\n",
      "https://www.martindale.com/attorney/anibel-colon-diaz-1572640/\n",
      "https://www.martindale.com/attorney/jose-manuel-urrutia-1574184/\n",
      "https://www.martindale.com/attorney/maria-del-carmen-cividanes-1572617/\n",
      "https://www.martindale.com/attorney/hilton-garcia-300825998/\n",
      "https://www.martindale.com/attorney/jose-i-cruz-pillich-1573473/\n",
      "https://www.martindale.com/attorney/charles-a-cordero-1572264/\n",
      "https://www.martindale.com/attorney/aileen-m-navas-auger-1572870/\n",
      "https://www.martindale.com/attorney/ramon-l-velasco-1573606/\n",
      "https://www.martindale.com/attorney/orlando-aviles-lopez-1572705/\n",
      "https://www.martindale.com/attorney/yalees-llavona-delgado-45022561/\n",
      "https://www.martindale.com/attorney/orlando-fernandez-carmona-1571452/\n",
      "accediendo a: https://www.martindale.com/search/attorneys-law-firms-articles/?term=Puerto+Rico%2C+USA&params=eyJ0eXBlIjoicGVvcGxlIiwiY29tcGFyZSI6IiIsInRlcm0iOiJQdWVydG8gUmljbywgVVNBIiwiZ2VvTG9jYXRpb25GYWNldCI6WyJQdWVydG8gUmljbywgVS5TLkEuIl0sImdlb0xvY2F0aW9uRmFjZXRSZWNlbnRzIjpbIlB1ZXJ0byBSaWNvLCBVLlMuQS4iXSwicGFnZSI6MSwibGltaXQiOjI1LCJvZmZzZXQiOjAsInNvcnQiOiIiLCJzb3J0VHlwZSI6IiIsImNsZWFyUGFyYW1zIjpmYWxzZSwia2V5d29yZCI6IiIsInBhZ2VUaXRsZSI6Imw6UHVlcnRvIFJpY28sIFUuUy5BLiIsInByYWN0aWNlQXJlYXMiOlsiTGl0aWdhdGlvbiJdfQ%3D%3D&page=5\n",
      "https://www.martindale.com/attorney/rafael-kodesh-baragano-1572158/\n",
      "https://www.martindale.com/attorney/yuisa-jimenez-perez-5052012/\n",
      "https://www.martindale.com/attorney/sylvia-annette-bula-romero-1573974/\n",
      "https://www.martindale.com/attorney/hector-sueiro-alvarez-300533276/\n",
      "https://www.martindale.com/attorney/harry-r-blackburn-1540216/\n",
      "https://www.martindale.com/attorney/delma-berrios-mercado-169079728/\n",
      "https://www.martindale.com/attorney/william-lopez-mendez-5118611/\n",
      "https://www.martindale.com/attorney/luis-e-lopez-correa-1572139/\n",
      "https://www.martindale.com/attorney/frank-pola-jr-1571446/\n",
      "accediendo a: https://www.martindale.com/search/attorneys-law-firms-articles/?term=Puerto+Rico%2C+USA&params=eyJ0eXBlIjoicGVvcGxlIiwiY29tcGFyZSI6IiIsInRlcm0iOiJQdWVydG8gUmljbywgVVNBIiwiZ2VvTG9jYXRpb25GYWNldCI6WyJQdWVydG8gUmljbywgVS5TLkEuIl0sImdlb0xvY2F0aW9uRmFjZXRSZWNlbnRzIjpbIlB1ZXJ0byBSaWNvLCBVLlMuQS4iXSwicGFnZSI6MSwibGltaXQiOjI1LCJvZmZzZXQiOjAsInNvcnQiOiIiLCJzb3J0VHlwZSI6IiIsImNsZWFyUGFyYW1zIjpmYWxzZSwia2V5d29yZCI6IiIsInBhZ2VUaXRsZSI6Imw6UHVlcnRvIFJpY28sIFUuUy5BLiIsInByYWN0aWNlQXJlYXMiOlsiTGl0aWdhdGlvbiJdfQ%3D%3D&page=6\n",
      "https://www.martindale.com/attorney/guillermo-a-somoza-colombani-1572214/\n",
      "https://www.martindale.com/attorney/mariano-s-nageraurriola-45022585/\n",
      "https://www.martindale.com/attorney/manuel-del-valle-1532514/\n",
      "https://www.martindale.com/attorney/eileen-montalvo-munoz-2177891/\n",
      "https://www.martindale.com/attorney/victor-omar-acevedo-301692092/\n",
      "https://www.martindale.com/attorney/jose-luis-ubarri-1571614/\n",
      "https://www.martindale.com/attorney/cristina-santiago-amaro-157265106/\n",
      "https://www.martindale.com/attorney/wo-marisa-celeste-font-robert-169014330/\n",
      "https://www.martindale.com/attorney/rebecca-e-kellogg-de-jesus-1572782/\n",
      "https://www.martindale.com/attorney/jose-david-medina-rivera-1572164/\n",
      "https://www.martindale.com/attorney/leroy-lewis-1572574/\n",
      "https://www.martindale.com/attorney/joaquin-monserrate-penagaricano-1573370/\n",
      "accediendo a: https://www.martindale.com/search/attorneys-law-firms-articles/?term=Puerto+Rico%2C+USA&params=eyJ0eXBlIjoicGVvcGxlIiwiY29tcGFyZSI6IiIsInRlcm0iOiJQdWVydG8gUmljbywgVVNBIiwiZ2VvTG9jYXRpb25GYWNldCI6WyJQdWVydG8gUmljbywgVS5TLkEuIl0sImdlb0xvY2F0aW9uRmFjZXRSZWNlbnRzIjpbIlB1ZXJ0byBSaWNvLCBVLlMuQS4iXSwicGFnZSI6MSwibGltaXQiOjI1LCJvZmZzZXQiOjAsInNvcnQiOiIiLCJzb3J0VHlwZSI6IiIsImNsZWFyUGFyYW1zIjpmYWxzZSwia2V5d29yZCI6IiIsInBhZ2VUaXRsZSI6Imw6UHVlcnRvIFJpY28sIFUuUy5BLiIsInByYWN0aWNlQXJlYXMiOlsiTGl0aWdhdGlvbiJdfQ%3D%3D&page=7\n",
      "https://www.martindale.com/attorney/laura-belendez-ferrero-esq-2749834/\n",
      "https://www.martindale.com/attorney/jaime-l-vazquez-bernier-1572183/\n",
      "https://www.martindale.com/attorney/angel-m-villamil-rodriguez-mr-1571102/\n",
      "https://www.martindale.com/attorney/eric-perez-ochoa-11440767/\n",
      "https://www.martindale.com/attorney/pedro-pumarada-1572478/\n",
      "https://www.martindale.com/attorney/julia-diaz-rex-811618/\n",
      "https://www.martindale.com/attorney/celio-cruz-3344137/\n",
      "https://www.martindale.com/attorney/rafael-i-lugo-morales-4637845/\n",
      "accediendo a: https://www.martindale.com/search/attorneys-law-firms-articles/?term=Puerto+Rico%2C+USA&params=eyJ0eXBlIjoicGVvcGxlIiwiY29tcGFyZSI6IiIsInRlcm0iOiJQdWVydG8gUmljbywgVVNBIiwiZ2VvTG9jYXRpb25GYWNldCI6WyJQdWVydG8gUmljbywgVS5TLkEuIl0sImdlb0xvY2F0aW9uRmFjZXRSZWNlbnRzIjpbIlB1ZXJ0byBSaWNvLCBVLlMuQS4iXSwicGFnZSI6MSwibGltaXQiOjI1LCJvZmZzZXQiOjAsInNvcnQiOiIiLCJzb3J0VHlwZSI6IiIsImNsZWFyUGFyYW1zIjpmYWxzZSwia2V5d29yZCI6IiIsInBhZ2VUaXRsZSI6Imw6UHVlcnRvIFJpY28sIFUuUy5BLiIsInByYWN0aWNlQXJlYXMiOlsiTGl0aWdhdGlvbiJdfQ%3D%3D&page=8\n",
      "https://www.martindale.com/attorney/ignacio-vidal-13552746/\n",
      "https://www.martindale.com/attorney/jay-a-garcia-gregory-1572483/\n",
      "https://www.martindale.com/attorney/nikie-marie-lopez-pagan-13537746/\n",
      "https://www.martindale.com/attorney/lourdes-teresa-pagan-1571733/\n",
      "https://www.martindale.com/attorney/david-w-roman-vargas-1573613/\n",
      "https://www.martindale.com/attorney/pedro-e-ruiz-melendez-1573253/\n",
      "accediendo a: https://www.martindale.com/search/attorneys-law-firms-articles/?term=Puerto+Rico%2C+USA&params=eyJ0eXBlIjoicGVvcGxlIiwiY29tcGFyZSI6IiIsInRlcm0iOiJQdWVydG8gUmljbywgVVNBIiwiZ2VvTG9jYXRpb25GYWNldCI6WyJQdWVydG8gUmljbywgVS5TLkEuIl0sImdlb0xvY2F0aW9uRmFjZXRSZWNlbnRzIjpbIlB1ZXJ0byBSaWNvLCBVLlMuQS4iXSwicGFnZSI6MSwibGltaXQiOjI1LCJvZmZzZXQiOjAsInNvcnQiOiIiLCJzb3J0VHlwZSI6IiIsImNsZWFyUGFyYW1zIjpmYWxzZSwia2V5d29yZCI6IiIsInBhZ2VUaXRsZSI6Imw6UHVlcnRvIFJpY28sIFUuUy5BLiIsInByYWN0aWNlQXJlYXMiOlsiTGl0aWdhdGlvbiJdfQ%3D%3D&page=9\n",
      "https://www.martindale.com/attorney/jessica-hernandez-sierra-1572780/\n",
      "https://www.martindale.com/attorney/rebeca-f-rojas-1573713/\n",
      "https://www.martindale.com/attorney/christine-d-smallwood-1573343/\n",
      "https://www.martindale.com/attorney/maria-s-hopgood-3344143/\n",
      "https://www.martindale.com/attorney/juan-b-soto-balbas-1573962/\n",
      "https://www.martindale.com/attorney/carlos-m-maldonado-casillas-1573649/\n",
      "https://www.martindale.com/attorney/griselle-bermudez-43428566/\n",
      "https://www.martindale.com/attorney/federico-calaf-legrand-1540223/\n",
      "https://www.martindale.com/attorney/guillermo-j-ramos-luina-1573915/\n",
      "accediendo a: https://www.martindale.com/search/attorneys-law-firms-articles/?term=Puerto+Rico%2C+USA&params=eyJ0eXBlIjoicGVvcGxlIiwiY29tcGFyZSI6IiIsInRlcm0iOiJQdWVydG8gUmljbywgVVNBIiwiZ2VvTG9jYXRpb25GYWNldCI6WyJQdWVydG8gUmljbywgVS5TLkEuIl0sImdlb0xvY2F0aW9uRmFjZXRSZWNlbnRzIjpbIlB1ZXJ0byBSaWNvLCBVLlMuQS4iXSwicGFnZSI6MSwibGltaXQiOjI1LCJvZmZzZXQiOjAsInNvcnQiOiIiLCJzb3J0VHlwZSI6IiIsImNsZWFyUGFyYW1zIjpmYWxzZSwia2V5d29yZCI6IiIsInBhZ2VUaXRsZSI6Imw6UHVlcnRvIFJpY28sIFUuUy5BLiIsInByYWN0aWNlQXJlYXMiOlsiTGl0aWdhdGlvbiJdfQ%3D%3D&page=10\n",
      "https://www.martindale.com/attorney/gustavo-torres-viera-300844254/\n",
      "https://www.martindale.com/attorney/romulo-a-suero-ponce-4662817/\n",
      "https://www.martindale.com/attorney/luis-d-ortiz-abreu-1572801/\n",
      "https://www.martindale.com/attorney/fernando-e-longo-quinones-1571626/\n",
      "https://www.martindale.com/attorney/ruben-a-colon-morales-1571579/\n",
      "https://www.martindale.com/attorney/mariano-a-mier-1994864/\n",
      "https://www.martindale.com/attorney/diana-batista-jimenez-1572568/\n",
      "https://www.martindale.com/attorney/javier-g-vazquez-segarra-2298760/\n",
      "accediendo a: https://www.martindale.com/search/attorneys-law-firms-articles/?term=Puerto+Rico%2C+USA&params=eyJ0eXBlIjoicGVvcGxlIiwiY29tcGFyZSI6IiIsInRlcm0iOiJQdWVydG8gUmljbywgVVNBIiwiZ2VvTG9jYXRpb25GYWNldCI6WyJQdWVydG8gUmljbywgVS5TLkEuIl0sImdlb0xvY2F0aW9uRmFjZXRSZWNlbnRzIjpbIlB1ZXJ0byBSaWNvLCBVLlMuQS4iXSwicGFnZSI6MSwibGltaXQiOjI1LCJvZmZzZXQiOjAsInNvcnQiOiIiLCJzb3J0VHlwZSI6IiIsImNsZWFyUGFyYW1zIjpmYWxzZSwia2V5d29yZCI6IiIsInBhZ2VUaXRsZSI6Imw6UHVlcnRvIFJpY28sIFUuUy5BLiIsInByYWN0aWNlQXJlYXMiOlsiTGl0aWdhdGlvbiJdfQ%3D%3D&page=11\n",
      "https://www.martindale.com/attorney/juan-carlos-toro-sepulveda-300751834/\n",
      "https://www.martindale.com/attorney/maria-del-carmen-garriga-1572154/\n",
      "https://www.martindale.com/attorney/jorge-a-fernandez-reboredo-1572637/\n",
      "https://www.martindale.com/attorney/jose-r-gonzalez-irizarry-1573226/\n",
      "https://www.martindale.com/attorney/camelia-fernandez-romeu-1572344/\n",
      "https://www.martindale.com/attorney/luis-d-lavergne-colberg-1573358/\n",
      "https://www.martindale.com/attorney/shiara-l-dilone-fernandez-3118751/\n",
      "https://www.martindale.com/attorney/wilca-d-gallagher-1572768/\n",
      "https://www.martindale.com/attorney/francis-gonzalez-oliver-1572902/\n",
      "https://www.martindale.com/attorney/wilfredo-segarra-miranda-1572059/\n",
      "accediendo a: https://www.martindale.com/search/attorneys-law-firms-articles/?term=Puerto+Rico%2C+USA&params=eyJ0eXBlIjoicGVvcGxlIiwiY29tcGFyZSI6IiIsInRlcm0iOiJQdWVydG8gUmljbywgVVNBIiwiZ2VvTG9jYXRpb25GYWNldCI6WyJQdWVydG8gUmljbywgVS5TLkEuIl0sImdlb0xvY2F0aW9uRmFjZXRSZWNlbnRzIjpbIlB1ZXJ0byBSaWNvLCBVLlMuQS4iXSwicGFnZSI6MSwibGltaXQiOjI1LCJvZmZzZXQiOjAsInNvcnQiOiIiLCJzb3J0VHlwZSI6IiIsImNsZWFyUGFyYW1zIjpmYWxzZSwia2V5d29yZCI6IiIsInBhZ2VUaXRsZSI6Imw6UHVlcnRvIFJpY28sIFUuUy5BLiIsInByYWN0aWNlQXJlYXMiOlsiTGl0aWdhdGlvbiJdfQ%3D%3D&page=12\n",
      "https://www.martindale.com/attorney/enrique-peral-1572611/\n",
      "https://www.martindale.com/attorney/jorge-antonio-antongiorgi-betancourt-1573255/\n",
      "https://www.martindale.com/attorney/cesar-t-alcover-1572514/\n",
      "https://www.martindale.com/attorney/erika-berrios-berrios-33628237/\n",
      "accediendo a: https://www.martindale.com/search/attorneys-law-firms-articles/?term=Puerto+Rico%2C+USA&params=eyJ0eXBlIjoicGVvcGxlIiwiY29tcGFyZSI6IiIsInRlcm0iOiJQdWVydG8gUmljbywgVVNBIiwiZ2VvTG9jYXRpb25GYWNldCI6WyJQdWVydG8gUmljbywgVS5TLkEuIl0sImdlb0xvY2F0aW9uRmFjZXRSZWNlbnRzIjpbIlB1ZXJ0byBSaWNvLCBVLlMuQS4iXSwicGFnZSI6MSwibGltaXQiOjI1LCJvZmZzZXQiOjAsInNvcnQiOiIiLCJzb3J0VHlwZSI6IiIsImNsZWFyUGFyYW1zIjpmYWxzZSwia2V5d29yZCI6IiIsInBhZ2VUaXRsZSI6Imw6UHVlcnRvIFJpY28sIFUuUy5BLiIsInByYWN0aWNlQXJlYXMiOlsiTGl0aWdhdGlvbiJdfQ%3D%3D&page=13\n",
      "https://www.martindale.com/attorney/myrna-a-font-castro-1573924/\n",
      "https://www.martindale.com/attorney/james-w-belk-arce-1571714/\n",
      "https://www.martindale.com/attorney/andres-guillemard-noble-1573520/\n",
      "https://www.martindale.com/attorney/antonio-borres-otero-1999069/\n",
      "https://www.martindale.com/attorney/sylvia-ugarte-araujo-5128084/\n",
      "https://www.martindale.com/attorney/maria-h-sandoval-ochoa-1573531/\n",
      "https://www.martindale.com/attorney/francisco-m-troncoso-1572053/\n",
      "https://www.martindale.com/attorney/eduardo-gonzalez-isales-1572215/\n",
      "https://www.martindale.com/attorney/mr-andrew-e-draxton-168994686/\n",
      "https://www.martindale.com/attorney/sylvia-m-arizmendi-1573608/\n",
      "https://www.martindale.com/attorney/gilberto-oliver-vazquez-1573454/\n",
      "https://www.martindale.com/attorney/hatuey-infante-castellanos-157878029/\n",
      "https://www.martindale.com/attorney/mireya-bartazar-suazo-1571250/\n",
      "https://www.martindale.com/attorney/luis-c-marini-biaggi-20417048/\n",
      "accediendo a: https://www.martindale.com/search/attorneys-law-firms-articles/?term=Puerto+Rico%2C+USA&params=eyJ0eXBlIjoicGVvcGxlIiwiY29tcGFyZSI6IiIsInRlcm0iOiJQdWVydG8gUmljbywgVVNBIiwiZ2VvTG9jYXRpb25GYWNldCI6WyJQdWVydG8gUmljbywgVS5TLkEuIl0sImdlb0xvY2F0aW9uRmFjZXRSZWNlbnRzIjpbIlB1ZXJ0byBSaWNvLCBVLlMuQS4iXSwicGFnZSI6MSwibGltaXQiOjI1LCJvZmZzZXQiOjAsInNvcnQiOiIiLCJzb3J0VHlwZSI6IiIsImNsZWFyUGFyYW1zIjpmYWxzZSwia2V5d29yZCI6IiIsInBhZ2VUaXRsZSI6Imw6UHVlcnRvIFJpY28sIFUuUy5BLiIsInByYWN0aWNlQXJlYXMiOlsiTGl0aWdhdGlvbiJdfQ%3D%3D&page=14\n",
      "https://www.martindale.com/attorney/charles-e-vilaro-valderrabano-33803824/\n",
      "https://www.martindale.com/attorney/monica-vega-quintana-1573360/\n",
      "https://www.martindale.com/attorney/maria-soledad-pineiro-soler-1573561/\n",
      "https://www.martindale.com/attorney/carlos-diaz-vivo-1573345/\n",
      "https://www.martindale.com/attorney/neribel-ortiz-ramirez-esq-1983321/\n",
      "https://www.martindale.com/attorney/dimaris-martinez-vazquez-4239920/\n",
      "https://www.martindale.com/attorney/ricardo-pascual-villaronga-1573966/\n",
      "https://www.martindale.com/attorney/zadette-bajandas-velez-1573653/\n",
      "https://www.martindale.com/attorney/omar-j-torres-rodriguez-157265800/\n",
      "https://www.martindale.com/attorney/modesto-l-rodriguez-suarez-1571760/\n",
      "accediendo a: https://www.martindale.com/search/attorneys-law-firms-articles/?term=Puerto+Rico%2C+USA&params=eyJ0eXBlIjoicGVvcGxlIiwiY29tcGFyZSI6IiIsInRlcm0iOiJQdWVydG8gUmljbywgVVNBIiwiZ2VvTG9jYXRpb25GYWNldCI6WyJQdWVydG8gUmljbywgVS5TLkEuIl0sImdlb0xvY2F0aW9uRmFjZXRSZWNlbnRzIjpbIlB1ZXJ0byBSaWNvLCBVLlMuQS4iXSwicGFnZSI6MSwibGltaXQiOjI1LCJvZmZzZXQiOjAsInNvcnQiOiIiLCJzb3J0VHlwZSI6IiIsImNsZWFyUGFyYW1zIjpmYWxzZSwia2V5d29yZCI6IiIsInBhZ2VUaXRsZSI6Imw6UHVlcnRvIFJpY28sIFUuUy5BLiIsInByYWN0aWNlQXJlYXMiOlsiTGl0aWdhdGlvbiJdfQ%3D%3D&page=15\n",
      "https://www.martindale.com/attorney/francisco-a-besosa-martinez-45435851/\n",
      "https://www.martindale.com/attorney/carlos-e-jimenez-1573656/\n",
      "https://www.martindale.com/attorney/ena-acevedo-ramos-1571690/\n",
      "https://www.martindale.com/attorney/omar-a-barroso-rosario-5128114/\n",
      "https://www.martindale.com/attorney/maria-s-hidalgo-2118651/\n",
      "https://www.martindale.com/attorney/carlos-e-rodriguez-quesada-1574177/\n",
      "https://www.martindale.com/attorney/vanessa-rivera-aquino-1571909/\n",
      "https://www.martindale.com/attorney/carlos-berreteaga-1572153/\n",
      "accediendo a: https://www.martindale.com/search/attorneys-law-firms-articles/?term=Puerto+Rico%2C+USA&params=eyJ0eXBlIjoicGVvcGxlIiwiY29tcGFyZSI6IiIsInRlcm0iOiJQdWVydG8gUmljbywgVVNBIiwiZ2VvTG9jYXRpb25GYWNldCI6WyJQdWVydG8gUmljbywgVS5TLkEuIl0sImdlb0xvY2F0aW9uRmFjZXRSZWNlbnRzIjpbIlB1ZXJ0byBSaWNvLCBVLlMuQS4iXSwicGFnZSI6MSwibGltaXQiOjI1LCJvZmZzZXQiOjAsInNvcnQiOiIiLCJzb3J0VHlwZSI6IiIsImNsZWFyUGFyYW1zIjpmYWxzZSwia2V5d29yZCI6IiIsInBhZ2VUaXRsZSI6Imw6UHVlcnRvIFJpY28sIFUuUy5BLiIsInByYWN0aWNlQXJlYXMiOlsiTGl0aWdhdGlvbiJdfQ%3D%3D&page=16\n",
      "https://www.martindale.com/attorney/ruben-t-nigaglioni-mignucci-1573216/\n",
      "https://www.martindale.com/attorney/pedro-a-delgado-hernandez-1573603/\n",
      "https://www.martindale.com/attorney/edna-hernandez-arroyo-1573712/\n",
      "https://www.martindale.com/attorney/luis-nieves-perez-158558145/\n",
      "https://www.martindale.com/attorney/giancarlo-font-garcia-1572346/\n",
      "https://www.martindale.com/attorney/daniel-r-dominguez-1573018/\n",
      "https://www.martindale.com/attorney/isis-l-perez-velez-43698813/\n",
      "https://www.martindale.com/attorney/vionette-benitez-quinones-1572610/\n",
      "https://www.martindale.com/attorney/carlos-j-sagardia-abreu-33628238/\n",
      "https://www.martindale.com/attorney/arturo-perez-figaredo-1573171/\n",
      "accediendo a: https://www.martindale.com/search/attorneys-law-firms-articles/?term=Puerto+Rico%2C+USA&params=eyJ0eXBlIjoicGVvcGxlIiwiY29tcGFyZSI6IiIsInRlcm0iOiJQdWVydG8gUmljbywgVVNBIiwiZ2VvTG9jYXRpb25GYWNldCI6WyJQdWVydG8gUmljbywgVS5TLkEuIl0sImdlb0xvY2F0aW9uRmFjZXRSZWNlbnRzIjpbIlB1ZXJ0byBSaWNvLCBVLlMuQS4iXSwicGFnZSI6MSwibGltaXQiOjI1LCJvZmZzZXQiOjAsInNvcnQiOiIiLCJzb3J0VHlwZSI6IiIsImNsZWFyUGFyYW1zIjpmYWxzZSwia2V5d29yZCI6IiIsInBhZ2VUaXRsZSI6Imw6UHVlcnRvIFJpY28sIFUuUy5BLiIsInByYWN0aWNlQXJlYXMiOlsiTGl0aWdhdGlvbiJdfQ%3D%3D&page=17\n",
      "https://www.martindale.com/attorney/lauracelis-roques-arroyo-2529697/\n",
      "https://www.martindale.com/attorney/nereida-melendez-rivera-11861387/\n",
      "https://www.martindale.com/attorney/carlos-r-pastrana-torres-24480771/\n",
      "https://www.martindale.com/attorney/vilma-m-dapena-rodriguez-1572622/\n",
      "https://www.martindale.com/attorney/mayra-maldonado-colon-1573958/\n",
      "https://www.martindale.com/attorney/maria-l-quintana-1573303/\n",
      "https://www.martindale.com/attorney/rachel-brill-1571669/\n",
      "https://www.martindale.com/attorney/adrian-mercado-1573961/\n",
      "https://www.martindale.com/attorney/jaime-a-torrens-davila-157264828/\n",
      "https://www.martindale.com/attorney/sara-l-velez-santiago-3807360/\n",
      "https://www.martindale.com/attorney/candida-r-negran-ramos-1573976/\n",
      "accediendo a: https://www.martindale.com/search/attorneys-law-firms-articles/?term=Puerto+Rico%2C+USA&params=eyJ0eXBlIjoicGVvcGxlIiwiY29tcGFyZSI6IiIsInRlcm0iOiJQdWVydG8gUmljbywgVVNBIiwiZ2VvTG9jYXRpb25GYWNldCI6WyJQdWVydG8gUmljbywgVS5TLkEuIl0sImdlb0xvY2F0aW9uRmFjZXRSZWNlbnRzIjpbIlB1ZXJ0byBSaWNvLCBVLlMuQS4iXSwicGFnZSI6MSwibGltaXQiOjI1LCJvZmZzZXQiOjAsInNvcnQiOiIiLCJzb3J0VHlwZSI6IiIsImNsZWFyUGFyYW1zIjpmYWxzZSwia2V5d29yZCI6IiIsInBhZ2VUaXRsZSI6Imw6UHVlcnRvIFJpY28sIFUuUy5BLiIsInByYWN0aWNlQXJlYXMiOlsiTGl0aWdhdGlvbiJdfQ%3D%3D&page=18\n",
      "https://www.martindale.com/attorney/james-a-toro-1573529/\n",
      "https://www.martindale.com/attorney/anibal-lugo-miranda-1574059/\n",
      "https://www.martindale.com/attorney/pedro-hernandez-guilbe-472438/\n",
      "https://www.martindale.com/attorney/freddie-perez-gonzalez-1572626/\n",
      "https://www.martindale.com/attorney/jorge-j-puig-jordan-1573552/\n",
      "https://www.martindale.com/attorney/juan-carlos-santos-carro-158475629/\n",
      "https://www.martindale.com/attorney/jorge-velazquez-1572570/\n",
      "https://www.martindale.com/attorney/rafael-s-bonilla-1572540/\n",
      "accediendo a: https://www.martindale.com/search/attorneys-law-firms-articles/?term=Puerto+Rico%2C+USA&params=eyJ0eXBlIjoicGVvcGxlIiwiY29tcGFyZSI6IiIsInRlcm0iOiJQdWVydG8gUmljbywgVVNBIiwiZ2VvTG9jYXRpb25GYWNldCI6WyJQdWVydG8gUmljbywgVS5TLkEuIl0sImdlb0xvY2F0aW9uRmFjZXRSZWNlbnRzIjpbIlB1ZXJ0byBSaWNvLCBVLlMuQS4iXSwicGFnZSI6MSwibGltaXQiOjI1LCJvZmZzZXQiOjAsInNvcnQiOiIiLCJzb3J0VHlwZSI6IiIsImNsZWFyUGFyYW1zIjpmYWxzZSwia2V5d29yZCI6IiIsInBhZ2VUaXRsZSI6Imw6UHVlcnRvIFJpY28sIFUuUy5BLiIsInByYWN0aWNlQXJlYXMiOlsiTGl0aWdhdGlvbiJdfQ%3D%3D&page=19\n",
      "https://www.martindale.com/attorney/jose-luis-suarez-villafane-1572963/\n",
      "https://www.martindale.com/attorney/teresita-mercado-vizcarrondo-1573964/\n",
      "https://www.martindale.com/attorney/c-ignacio-matos-benitez-24670916/\n",
      "https://www.martindale.com/attorney/juan-c-fortuno-fas-1572631/\n",
      "https://www.martindale.com/attorney/jaime-e-toro-monserrate-1573239/\n",
      "https://www.martindale.com/attorney/fernando-l-gallardo-1574172/\n",
      "https://www.martindale.com/attorney/jorge-armenteros-1572867/\n",
      "https://www.martindale.com/attorney/jose-g-fagot-diaz-1572163/\n",
      "https://www.martindale.com/attorney/michelle-e-renaud-jimenez-2258512/\n",
      "accediendo a: https://www.martindale.com/search/attorneys-law-firms-articles/?term=Puerto+Rico%2C+USA&params=eyJ0eXBlIjoicGVvcGxlIiwiY29tcGFyZSI6IiIsInRlcm0iOiJQdWVydG8gUmljbywgVVNBIiwiZ2VvTG9jYXRpb25GYWNldCI6WyJQdWVydG8gUmljbywgVS5TLkEuIl0sImdlb0xvY2F0aW9uRmFjZXRSZWNlbnRzIjpbIlB1ZXJ0byBSaWNvLCBVLlMuQS4iXSwicGFnZSI6MSwibGltaXQiOjI1LCJvZmZzZXQiOjAsInNvcnQiOiIiLCJzb3J0VHlwZSI6IiIsImNsZWFyUGFyYW1zIjpmYWxzZSwia2V5d29yZCI6IiIsInBhZ2VUaXRsZSI6Imw6UHVlcnRvIFJpY28sIFUuUy5BLiIsInByYWN0aWNlQXJlYXMiOlsiTGl0aWdhdGlvbiJdfQ%3D%3D&page=20\n",
      "https://www.martindale.com/attorney/diego-murgia-doaz-158583553/\n",
      "https://www.martindale.com/attorney/luis-f-colon-gonzalez-1571683/\n",
      "https://www.martindale.com/attorney/sonia-e-franceschi-portalatin-2850946/\n",
      "https://www.martindale.com/attorney/alfredo-castellanos-bayouth-1571731/\n",
      "https://www.martindale.com/attorney/jose-r-lazaro-paoli-1571841/\n",
      "https://www.martindale.com/attorney/roberto-abesada-aguet-300951670/\n"
     ]
    },
    {
     "name": "stderr",
     "output_type": "stream",
     "text": [
      " 15%|█▍        | 31/213 [14:16<1:53:55, 37.56s/it]"
     ]
    },
    {
     "name": "stdout",
     "output_type": "stream",
     "text": [
      "paginas en esta url: 9\n",
      "accediendo a: https://www.martindale.com/search/attorneys-law-firms-articles/?term=Puerto+Rico%2C+USA&params=eyJ0eXBlIjoicGVvcGxlIiwiY29tcGFyZSI6IiIsInRlcm0iOiJQdWVydG8gUmljbywgVVNBIiwiZ2VvTG9jYXRpb25GYWNldCI6WyJQdWVydG8gUmljbywgVS5TLkEuIl0sImdlb0xvY2F0aW9uRmFjZXRSZWNlbnRzIjpbIlB1ZXJ0byBSaWNvLCBVLlMuQS4iXSwicGFnZSI6MSwibGltaXQiOjI1LCJvZmZzZXQiOjAsInNvcnQiOiIiLCJzb3J0VHlwZSI6IiIsImNsZWFyUGFyYW1zIjpmYWxzZSwia2V5d29yZCI6IiIsInBhZ2VUaXRsZSI6Imw6UHVlcnRvIFJpY28sIFUuUy5BLiIsInByYWN0aWNlQXJlYXMiOlsiSW5zdXJhbmNlIl19\n",
      "https://www.martindale.com/attorney/evelyn-rosa-morel-1571797/\n",
      "https://www.martindale.com/attorney/enrique-r-adames-soto-1571461/\n",
      "https://www.martindale.com/attorney/raphael-pena-ramon-esq-25901825/\n",
      "https://www.martindale.com/attorney/raul-davila-rivera-1571865/\n",
      "https://www.martindale.com/attorney/juan-a-marques-diaz-1573317/\n",
      "https://www.martindale.com/attorney/brenda-vera-miro-1991152/\n",
      "https://www.martindale.com/attorney/luis-g-martinez-llorens-1574140/\n",
      "https://www.martindale.com/attorney/antonio-r-matta-1571357/\n",
      "https://www.martindale.com/attorney/ralph-j-rexach-1574099/\n",
      "https://www.martindale.com/attorney/rafael-machargo-chardon-1571940/\n",
      "accediendo a: https://www.martindale.com/search/attorneys-law-firms-articles/?term=Puerto+Rico%2C+USA&params=eyJ0eXBlIjoicGVvcGxlIiwiY29tcGFyZSI6IiIsInRlcm0iOiJQdWVydG8gUmljbywgVVNBIiwiZ2VvTG9jYXRpb25GYWNldCI6WyJQdWVydG8gUmljbywgVS5TLkEuIl0sImdlb0xvY2F0aW9uRmFjZXRSZWNlbnRzIjpbIlB1ZXJ0byBSaWNvLCBVLlMuQS4iXSwicGFnZSI6MSwibGltaXQiOjI1LCJvZmZzZXQiOjAsInNvcnQiOiIiLCJzb3J0VHlwZSI6IiIsImNsZWFyUGFyYW1zIjpmYWxzZSwia2V5d29yZCI6IiIsInBhZ2VUaXRsZSI6Imw6UHVlcnRvIFJpY28sIFUuUy5BLiIsInByYWN0aWNlQXJlYXMiOlsiSW5zdXJhbmNlIl19&page=2\n",
      "https://www.martindale.com/attorney/griselle-hernandez-guzman-2584433/\n",
      "https://www.martindale.com/attorney/federico-g-gonzalez-denton-1571948/\n",
      "https://www.martindale.com/attorney/ruth-giansante-garcia-2309896/\n",
      "https://www.martindale.com/attorney/jose-r-diaz-rodriguez-1571270/\n",
      "https://www.martindale.com/attorney/carlos-domingo-grillasca-rodriguez-1571361/\n",
      "https://www.martindale.com/attorney/juan-gonzalez-santiago-1571869/\n",
      "https://www.martindale.com/attorney/patricia-a-biaggi-trigo-1571268/\n",
      "accediendo a: https://www.martindale.com/search/attorneys-law-firms-articles/?term=Puerto+Rico%2C+USA&params=eyJ0eXBlIjoicGVvcGxlIiwiY29tcGFyZSI6IiIsInRlcm0iOiJQdWVydG8gUmljbywgVVNBIiwiZ2VvTG9jYXRpb25GYWNldCI6WyJQdWVydG8gUmljbywgVS5TLkEuIl0sImdlb0xvY2F0aW9uRmFjZXRSZWNlbnRzIjpbIlB1ZXJ0byBSaWNvLCBVLlMuQS4iXSwicGFnZSI6MSwibGltaXQiOjI1LCJvZmZzZXQiOjAsInNvcnQiOiIiLCJzb3J0VHlwZSI6IiIsImNsZWFyUGFyYW1zIjpmYWxzZSwia2V5d29yZCI6IiIsInBhZ2VUaXRsZSI6Imw6UHVlcnRvIFJpY28sIFUuUy5BLiIsInByYWN0aWNlQXJlYXMiOlsiSW5zdXJhbmNlIl19&page=3\n",
      "https://www.martindale.com/attorney/roberto-r-padial-perez-2035543/\n",
      "https://www.martindale.com/attorney/alejandrina-rivera-vicente-1571997/\n",
      "https://www.martindale.com/attorney/wilfredo-a-geigel-1571558/\n",
      "https://www.martindale.com/attorney/manuel-a-segarra-vazquez-1573855/\n",
      "https://www.martindale.com/attorney/alfonso-miranda-cardenas-1573485/\n",
      "https://www.martindale.com/attorney/luis-ortiz-codby-2434242/\n",
      "https://www.martindale.com/attorney/carlos-j-reboredo-1571641/\n",
      "https://www.martindale.com/attorney/peter-diaz-1574180/\n",
      "https://www.martindale.com/attorney/rosa-m-lazaro-san-miguel-1573595/\n",
      "https://www.martindale.com/attorney/miguel-a-gimenez-munoz-1572265/\n",
      "https://www.martindale.com/attorney/sharon-d-ramirez-1837604/\n",
      "https://www.martindale.com/attorney/rosendo-e-miranda-lopez-4358250/\n",
      "accediendo a: https://www.martindale.com/search/attorneys-law-firms-articles/?term=Puerto+Rico%2C+USA&params=eyJ0eXBlIjoicGVvcGxlIiwiY29tcGFyZSI6IiIsInRlcm0iOiJQdWVydG8gUmljbywgVVNBIiwiZ2VvTG9jYXRpb25GYWNldCI6WyJQdWVydG8gUmljbywgVS5TLkEuIl0sImdlb0xvY2F0aW9uRmFjZXRSZWNlbnRzIjpbIlB1ZXJ0byBSaWNvLCBVLlMuQS4iXSwicGFnZSI6MSwibGltaXQiOjI1LCJvZmZzZXQiOjAsInNvcnQiOiIiLCJzb3J0VHlwZSI6IiIsImNsZWFyUGFyYW1zIjpmYWxzZSwia2V5d29yZCI6IiIsInBhZ2VUaXRsZSI6Imw6UHVlcnRvIFJpY28sIFUuUy5BLiIsInByYWN0aWNlQXJlYXMiOlsiSW5zdXJhbmNlIl19&page=4\n",
      "https://www.martindale.com/attorney/carlos-alberto-ruiz-1573989/\n",
      "https://www.martindale.com/attorney/karen-morales-ramirez-1573338/\n",
      "https://www.martindale.com/attorney/marcelle-d-martell-jovet-1572015/\n",
      "https://www.martindale.com/attorney/ana-violeta-ortiz-1572702/\n",
      "https://www.martindale.com/attorney/luis-a-armstrong-cortada-jr-1571360/\n",
      "https://www.martindale.com/attorney/osvaldo-puig-hernandez-2091351/\n",
      "https://www.martindale.com/attorney/miguel-a-raldiris-aguayo-1573913/\n",
      "https://www.martindale.com/attorney/george-m-torres-lopez-1571680/\n",
      "accediendo a: https://www.martindale.com/search/attorneys-law-firms-articles/?term=Puerto+Rico%2C+USA&params=eyJ0eXBlIjoicGVvcGxlIiwiY29tcGFyZSI6IiIsInRlcm0iOiJQdWVydG8gUmljbywgVVNBIiwiZ2VvTG9jYXRpb25GYWNldCI6WyJQdWVydG8gUmljbywgVS5TLkEuIl0sImdlb0xvY2F0aW9uRmFjZXRSZWNlbnRzIjpbIlB1ZXJ0byBSaWNvLCBVLlMuQS4iXSwicGFnZSI6MSwibGltaXQiOjI1LCJvZmZzZXQiOjAsInNvcnQiOiIiLCJzb3J0VHlwZSI6IiIsImNsZWFyUGFyYW1zIjpmYWxzZSwia2V5d29yZCI6IiIsInBhZ2VUaXRsZSI6Imw6UHVlcnRvIFJpY28sIFUuUy5BLiIsInByYWN0aWNlQXJlYXMiOlsiSW5zdXJhbmNlIl19&page=5\n",
      "https://www.martindale.com/attorney/gilberto-felix-benitez-colon-1573912/\n",
      "https://www.martindale.com/attorney/enrique-a-baez-godinez-2024716/\n",
      "https://www.martindale.com/attorney/hector-cuebas-tanon-1571659/\n",
      "https://www.martindale.com/attorney/erick-g-negron-1574102/\n",
      "https://www.martindale.com/attorney/jose-antonio-fernandez-jaquete-11444750/\n",
      "https://www.martindale.com/attorney/fernando-van-derdys-1572523/\n",
      "https://www.martindale.com/attorney/manolo-t-rodriguez-bird-1572958/\n",
      "https://www.martindale.com/attorney/charles-m-briere-169064276/\n",
      "https://www.martindale.com/attorney/alberto-omar-jimenez-santiago-1571876/\n",
      "https://www.martindale.com/attorney/antonio-gnocchi-franco-1573660/\n",
      "https://www.martindale.com/attorney/francisco-j-ortiz-garcia-2000963/\n",
      "accediendo a: https://www.martindale.com/search/attorneys-law-firms-articles/?term=Puerto+Rico%2C+USA&params=eyJ0eXBlIjoicGVvcGxlIiwiY29tcGFyZSI6IiIsInRlcm0iOiJQdWVydG8gUmljbywgVVNBIiwiZ2VvTG9jYXRpb25GYWNldCI6WyJQdWVydG8gUmljbywgVS5TLkEuIl0sImdlb0xvY2F0aW9uRmFjZXRSZWNlbnRzIjpbIlB1ZXJ0byBSaWNvLCBVLlMuQS4iXSwicGFnZSI6MSwibGltaXQiOjI1LCJvZmZzZXQiOjAsInNvcnQiOiIiLCJzb3J0VHlwZSI6IiIsImNsZWFyUGFyYW1zIjpmYWxzZSwia2V5d29yZCI6IiIsInBhZ2VUaXRsZSI6Imw6UHVlcnRvIFJpY28sIFUuUy5BLiIsInByYWN0aWNlQXJlYXMiOlsiSW5zdXJhbmNlIl19&page=6\n",
      "https://www.martindale.com/attorney/jose-r-gaztambide-aneses-1571515/\n",
      "https://www.martindale.com/attorney/luis-javier-clas-300406404/\n",
      "https://www.martindale.com/attorney/luis-m-angelet-frau-1572383/\n",
      "https://www.martindale.com/attorney/ana-c-rivera-lopez-167969718/\n",
      "https://www.martindale.com/attorney/ivelisse-iguina-de-larosa-1571362/\n",
      "accediendo a: https://www.martindale.com/search/attorneys-law-firms-articles/?term=Puerto+Rico%2C+USA&params=eyJ0eXBlIjoicGVvcGxlIiwiY29tcGFyZSI6IiIsInRlcm0iOiJQdWVydG8gUmljbywgVVNBIiwiZ2VvTG9jYXRpb25GYWNldCI6WyJQdWVydG8gUmljbywgVS5TLkEuIl0sImdlb0xvY2F0aW9uRmFjZXRSZWNlbnRzIjpbIlB1ZXJ0byBSaWNvLCBVLlMuQS4iXSwicGFnZSI6MSwibGltaXQiOjI1LCJvZmZzZXQiOjAsInNvcnQiOiIiLCJzb3J0VHlwZSI6IiIsImNsZWFyUGFyYW1zIjpmYWxzZSwia2V5d29yZCI6IiIsInBhZ2VUaXRsZSI6Imw6UHVlcnRvIFJpY28sIFUuUy5BLiIsInByYWN0aWNlQXJlYXMiOlsiSW5zdXJhbmNlIl19&page=7\n",
      "https://www.martindale.com/attorney/harry-viera-villeneuve-1574126/\n",
      "https://www.martindale.com/attorney/ivelisse-mendez-perez-1571271/\n",
      "https://www.martindale.com/attorney/liza-m-ramirez-de-arellano-oliver-1571870/\n",
      "https://www.martindale.com/attorney/santiago-mari-roca-1571266/\n",
      "https://www.martindale.com/attorney/francisco-e-colon-ramirez-1574139/\n",
      "https://www.martindale.com/attorney/anselmo-irizarry-irizarry-1571359/\n",
      "https://www.martindale.com/attorney/maria-de-lourdes-fernandez-delgado-1572451/\n",
      "accediendo a: https://www.martindale.com/search/attorneys-law-firms-articles/?term=Puerto+Rico%2C+USA&params=eyJ0eXBlIjoicGVvcGxlIiwiY29tcGFyZSI6IiIsInRlcm0iOiJQdWVydG8gUmljbywgVVNBIiwiZ2VvTG9jYXRpb25GYWNldCI6WyJQdWVydG8gUmljbywgVS5TLkEuIl0sImdlb0xvY2F0aW9uRmFjZXRSZWNlbnRzIjpbIlB1ZXJ0byBSaWNvLCBVLlMuQS4iXSwicGFnZSI6MSwibGltaXQiOjI1LCJvZmZzZXQiOjAsInNvcnQiOiIiLCJzb3J0VHlwZSI6IiIsImNsZWFyUGFyYW1zIjpmYWxzZSwia2V5d29yZCI6IiIsInBhZ2VUaXRsZSI6Imw6UHVlcnRvIFJpY28sIFUuUy5BLiIsInByYWN0aWNlQXJlYXMiOlsiSW5zdXJhbmNlIl19&page=8\n",
      "https://www.martindale.com/attorney/yaznery-ortiz-navedo-3122381/\n",
      "https://www.martindale.com/attorney/ramon-e-bauza-higuera-1571864/\n",
      "https://www.martindale.com/attorney/arnaldo-rivera-seda-300825104/\n",
      "https://www.martindale.com/attorney/jaime-v-biaggi-busquets-1571265/\n",
      "https://www.martindale.com/attorney/jose-l-gandara-sanchez-1571867/\n",
      "https://www.martindale.com/attorney/jose-r-toledo-buscaglia-1571872/\n",
      "https://www.martindale.com/attorney/carlos-m-rivera-corujo-4677252/\n",
      "https://www.martindale.com/attorney/javier-d-ferrer-fernandez-1573404/\n",
      "https://www.martindale.com/attorney/paul-e-calvesbert-borgos-1571947/\n",
      "https://www.martindale.com/attorney/ernesto-r-iirizarry-158234527/\n",
      "accediendo a: https://www.martindale.com/search/attorneys-law-firms-articles/?term=Puerto+Rico%2C+USA&params=eyJ0eXBlIjoicGVvcGxlIiwiY29tcGFyZSI6IiIsInRlcm0iOiJQdWVydG8gUmljbywgVVNBIiwiZ2VvTG9jYXRpb25GYWNldCI6WyJQdWVydG8gUmljbywgVS5TLkEuIl0sImdlb0xvY2F0aW9uRmFjZXRSZWNlbnRzIjpbIlB1ZXJ0byBSaWNvLCBVLlMuQS4iXSwicGFnZSI6MSwibGltaXQiOjI1LCJvZmZzZXQiOjAsInNvcnQiOiIiLCJzb3J0VHlwZSI6IiIsImNsZWFyUGFyYW1zIjpmYWxzZSwia2V5d29yZCI6IiIsInBhZ2VUaXRsZSI6Imw6UHVlcnRvIFJpY28sIFUuUy5BLiIsInByYWN0aWNlQXJlYXMiOlsiSW5zdXJhbmNlIl19&page=9\n",
      "https://www.martindale.com/attorney/nereida-m-salva-sandoval-1571569/\n",
      "https://www.martindale.com/attorney/nestor-j-navas-d-acosta-esq-1571800/\n",
      "https://www.martindale.com/attorney/jorge-f-blasini-1572964/\n",
      "https://www.martindale.com/attorney/raymond-p-burgos-1571568/\n"
     ]
    },
    {
     "name": "stderr",
     "output_type": "stream",
     "text": [
      " 15%|█▌        | 32/213 [14:40<1:40:39, 33.37s/it]"
     ]
    },
    {
     "name": "stdout",
     "output_type": "stream",
     "text": [
      "paginas en esta url: 1\n",
      "accediendo a: https://www.martindale.com/search/attorneys-law-firms-articles/?term=Puerto+Rico%2C+USA&params=eyJ0eXBlIjoicGVvcGxlIiwiY29tcGFyZSI6IiIsInRlcm0iOiJQdWVydG8gUmljbywgVVNBIiwiZ2VvTG9jYXRpb25GYWNldCI6WyJQdWVydG8gUmljbywgVS5TLkEuIl0sImdlb0xvY2F0aW9uRmFjZXRSZWNlbnRzIjpbIlB1ZXJ0byBSaWNvLCBVLlMuQS4iXSwicGFnZSI6MSwibGltaXQiOjI1LCJvZmZzZXQiOjAsInNvcnQiOiIiLCJzb3J0VHlwZSI6IiIsImNsZWFyUGFyYW1zIjpmYWxzZSwia2V5d29yZCI6IiIsInBhZ2VUaXRsZSI6Imw6UHVlcnRvIFJpY28sIFUuUy5BLiIsInByYWN0aWNlQXJlYXMiOlsiTGliZWwsIFNsYW5kZXIgYW5kIERlZmFtYXRpb24iXX0%3D\n"
     ]
    },
    {
     "name": "stderr",
     "output_type": "stream",
     "text": [
      " 15%|█▌        | 33/213 [15:04<1:32:00, 30.67s/it]"
     ]
    },
    {
     "name": "stdout",
     "output_type": "stream",
     "text": [
      "paginas en esta url: 1\n",
      "accediendo a: https://www.martindale.com/search/attorneys-law-firms-articles/?term=Puerto+Rico%2C+USA&params=eyJ0eXBlIjoicGVvcGxlIiwiY29tcGFyZSI6IiIsInRlcm0iOiJQdWVydG8gUmljbywgVVNBIiwiZ2VvTG9jYXRpb25GYWNldCI6WyJQdWVydG8gUmljbywgVS5TLkEuIl0sImdlb0xvY2F0aW9uRmFjZXRSZWNlbnRzIjpbIlB1ZXJ0byBSaWNvLCBVLlMuQS4iXSwicGFnZSI6MSwibGltaXQiOjI1LCJvZmZzZXQiOjAsInNvcnQiOiIiLCJzb3J0VHlwZSI6IiIsImNsZWFyUGFyYW1zIjpmYWxzZSwia2V5d29yZCI6IiIsInBhZ2VUaXRsZSI6Imw6UHVlcnRvIFJpY28sIFUuUy5BLiIsInByYWN0aWNlQXJlYXMiOlsiRmlkZWxpdHkgYW5kIFN1cmV0eSJdfQ%3D%3D\n",
      "https://www.martindale.com/attorney/juan-m-mendez-solis-1573475/\n",
      "https://www.martindale.com/attorney/jose-a-sanchez-alvarez-1573539/\n"
     ]
    },
    {
     "name": "stderr",
     "output_type": "stream",
     "text": [
      " 16%|█▌        | 34/213 [15:28<1:25:28, 28.65s/it]"
     ]
    },
    {
     "name": "stdout",
     "output_type": "stream",
     "text": [
      "paginas en esta url: 20\n",
      "accediendo a: https://www.martindale.com/search/attorneys-law-firms-articles/?term=Puerto+Rico%2C+USA&params=eyJ0eXBlIjoicGVvcGxlIiwiY29tcGFyZSI6IiIsInRlcm0iOiJQdWVydG8gUmljbywgVVNBIiwiZ2VvTG9jYXRpb25GYWNldCI6WyJQdWVydG8gUmljbywgVS5TLkEuIl0sImdlb0xvY2F0aW9uRmFjZXRSZWNlbnRzIjpbIlB1ZXJ0byBSaWNvLCBVLlMuQS4iXSwicGFnZSI6MSwibGltaXQiOjI1LCJvZmZzZXQiOjAsInNvcnQiOiIiLCJzb3J0VHlwZSI6IiIsImNsZWFyUGFyYW1zIjpmYWxzZSwia2V5d29yZCI6IiIsInBhZ2VUaXRsZSI6Imw6UHVlcnRvIFJpY28sIFUuUy5BLiIsInByYWN0aWNlQXJlYXMiOlsiTGFib3IgYW5kIEVtcGxveW1lbnQiXX0%3D\n",
      "https://www.martindale.com/attorney/luis-fidalgo-cordova-11039079/\n",
      "https://www.martindale.com/attorney/omayra-m-toledo-de-la-cruz-1572347/\n",
      "https://www.martindale.com/attorney/iraida-diez-2314965/\n",
      "https://www.martindale.com/attorney/lourdes-c-hernandez-venegas-1573162/\n",
      "https://www.martindale.com/attorney/german-a-rieckehoff-perez-2023007/\n",
      "https://www.martindale.com/attorney/yomaira-perez-sierra-esq-13871773/\n",
      "https://www.martindale.com/attorney/arturo-bauermeister-1572494/\n",
      "https://www.martindale.com/attorney/sylma-i-collazo-correa-1573130/\n",
      "https://www.martindale.com/attorney/angel-a-valencia-aponte-1571785/\n",
      "accediendo a: https://www.martindale.com/search/attorneys-law-firms-articles/?term=Puerto+Rico%2C+USA&params=eyJ0eXBlIjoicGVvcGxlIiwiY29tcGFyZSI6IiIsInRlcm0iOiJQdWVydG8gUmljbywgVVNBIiwiZ2VvTG9jYXRpb25GYWNldCI6WyJQdWVydG8gUmljbywgVS5TLkEuIl0sImdlb0xvY2F0aW9uRmFjZXRSZWNlbnRzIjpbIlB1ZXJ0byBSaWNvLCBVLlMuQS4iXSwicGFnZSI6MSwibGltaXQiOjI1LCJvZmZzZXQiOjAsInNvcnQiOiIiLCJzb3J0VHlwZSI6IiIsImNsZWFyUGFyYW1zIjpmYWxzZSwia2V5d29yZCI6IiIsInBhZ2VUaXRsZSI6Imw6UHVlcnRvIFJpY28sIFUuUy5BLiIsInByYWN0aWNlQXJlYXMiOlsiTGFib3IgYW5kIEVtcGxveW1lbnQiXX0%3D&page=2\n",
      "https://www.martindale.com/attorney/reinaldo-ramos-collazo-1573388/\n",
      "https://www.martindale.com/attorney/maria-maldonado-nieves-1573174/\n",
      "https://www.martindale.com/attorney/anibal-irizarry-rivera-1573224/\n",
      "https://www.martindale.com/attorney/jose-e-cespedes-sabater-2473748/\n",
      "https://www.martindale.com/attorney/pedro-giner-dapena-2719070/\n",
      "https://www.martindale.com/attorney/maria-teresa-ubarri-baragano-1572736/\n",
      "accediendo a: https://www.martindale.com/search/attorneys-law-firms-articles/?term=Puerto+Rico%2C+USA&params=eyJ0eXBlIjoicGVvcGxlIiwiY29tcGFyZSI6IiIsInRlcm0iOiJQdWVydG8gUmljbywgVVNBIiwiZ2VvTG9jYXRpb25GYWNldCI6WyJQdWVydG8gUmljbywgVS5TLkEuIl0sImdlb0xvY2F0aW9uRmFjZXRSZWNlbnRzIjpbIlB1ZXJ0byBSaWNvLCBVLlMuQS4iXSwicGFnZSI6MSwibGltaXQiOjI1LCJvZmZzZXQiOjAsInNvcnQiOiIiLCJzb3J0VHlwZSI6IiIsImNsZWFyUGFyYW1zIjpmYWxzZSwia2V5d29yZCI6IiIsInBhZ2VUaXRsZSI6Imw6UHVlcnRvIFJpY28sIFUuUy5BLiIsInByYWN0aWNlQXJlYXMiOlsiTGFib3IgYW5kIEVtcGxveW1lbnQiXX0%3D&page=3\n",
      "https://www.martindale.com/attorney/irene-vera-2040065/\n",
      "https://www.martindale.com/attorney/manuel-j-pirez-garcia-1571241/\n",
      "https://www.martindale.com/attorney/maria-isabelle-ramos-artunduaga-44858943/\n",
      "https://www.martindale.com/attorney/juan-e-curbelo-piza-1572314/\n",
      "https://www.martindale.com/attorney/jose-m-lorie-velasco-1571447/\n",
      "https://www.martindale.com/attorney/jennifer-lopez-negron-45016564/\n",
      "https://www.martindale.com/attorney/vivian-nunez-1572833/\n",
      "https://www.martindale.com/attorney/eva-y-mundo-4703932/\n",
      "accediendo a: https://www.martindale.com/search/attorneys-law-firms-articles/?term=Puerto+Rico%2C+USA&params=eyJ0eXBlIjoicGVvcGxlIiwiY29tcGFyZSI6IiIsInRlcm0iOiJQdWVydG8gUmljbywgVVNBIiwiZ2VvTG9jYXRpb25GYWNldCI6WyJQdWVydG8gUmljbywgVS5TLkEuIl0sImdlb0xvY2F0aW9uRmFjZXRSZWNlbnRzIjpbIlB1ZXJ0byBSaWNvLCBVLlMuQS4iXSwicGFnZSI6MSwibGltaXQiOjI1LCJvZmZzZXQiOjAsInNvcnQiOiIiLCJzb3J0VHlwZSI6IiIsImNsZWFyUGFyYW1zIjpmYWxzZSwia2V5d29yZCI6IiIsInBhZ2VUaXRsZSI6Imw6UHVlcnRvIFJpY28sIFUuUy5BLiIsInByYWN0aWNlQXJlYXMiOlsiTGFib3IgYW5kIEVtcGxveW1lbnQiXX0%3D&page=4\n",
      "https://www.martindale.com/attorney/jordan-l-clouse-1465554/\n",
      "https://www.martindale.com/attorney/luis-r-perez-giusti-1572203/\n",
      "https://www.martindale.com/attorney/hector-l-claudio-rosario-2298245/\n",
      "https://www.martindale.com/attorney/maria-isabel-rey-cancio-1572541/\n",
      "https://www.martindale.com/attorney/gabriela-coronado-2433097/\n",
      "https://www.martindale.com/attorney/ruth-dahlia-torres-1573931/\n",
      "https://www.martindale.com/attorney/luis-f-colon-conde-1572548/\n",
      "https://www.martindale.com/attorney/jose-a-silva-cofresi-1572489/\n",
      "https://www.martindale.com/attorney/eva-m-cortes-vazquez-1572696/\n",
      "https://www.martindale.com/attorney/rene-m-bermudez-velez-1573925/\n",
      "https://www.martindale.com/attorney/katherine-gonzalez-valentin-1573321/\n",
      "accediendo a: https://www.martindale.com/search/attorneys-law-firms-articles/?term=Puerto+Rico%2C+USA&params=eyJ0eXBlIjoicGVvcGxlIiwiY29tcGFyZSI6IiIsInRlcm0iOiJQdWVydG8gUmljbywgVVNBIiwiZ2VvTG9jYXRpb25GYWNldCI6WyJQdWVydG8gUmljbywgVS5TLkEuIl0sImdlb0xvY2F0aW9uRmFjZXRSZWNlbnRzIjpbIlB1ZXJ0byBSaWNvLCBVLlMuQS4iXSwicGFnZSI6MSwibGltaXQiOjI1LCJvZmZzZXQiOjAsInNvcnQiOiIiLCJzb3J0VHlwZSI6IiIsImNsZWFyUGFyYW1zIjpmYWxzZSwia2V5d29yZCI6IiIsInBhZ2VUaXRsZSI6Imw6UHVlcnRvIFJpY28sIFUuUy5BLiIsInByYWN0aWNlQXJlYXMiOlsiTGFib3IgYW5kIEVtcGxveW1lbnQiXX0%3D&page=5\n",
      "https://www.martindale.com/attorney/manuel-e-lopez-fernandez-1572159/\n",
      "https://www.martindale.com/attorney/manuel-rivera-aguilo-300930500/\n",
      "https://www.martindale.com/attorney/maralyssa-alvarez-sanchez-4720847/\n",
      "https://www.martindale.com/attorney/agustin-f-fortuno-1573990/\n",
      "https://www.martindale.com/attorney/amir-lastra-1571079/\n",
      "https://www.martindale.com/attorney/jose-j-santiago-1572498/\n",
      "https://www.martindale.com/attorney/jorge-l-capo-matos-1573593/\n",
      "https://www.martindale.com/attorney/carmen-rosa-juarbe-1572527/\n",
      "https://www.martindale.com/attorney/luis-baerga-duprey-1571858/\n",
      "https://www.martindale.com/attorney/ivette-gonzalez-buitrago-1572644/\n",
      "https://www.martindale.com/attorney/natalia-villavicencio-camacho-3826343/\n",
      "accediendo a: https://www.martindale.com/search/attorneys-law-firms-articles/?term=Puerto+Rico%2C+USA&params=eyJ0eXBlIjoicGVvcGxlIiwiY29tcGFyZSI6IiIsInRlcm0iOiJQdWVydG8gUmljbywgVVNBIiwiZ2VvTG9jYXRpb25GYWNldCI6WyJQdWVydG8gUmljbywgVS5TLkEuIl0sImdlb0xvY2F0aW9uRmFjZXRSZWNlbnRzIjpbIlB1ZXJ0byBSaWNvLCBVLlMuQS4iXSwicGFnZSI6MSwibGltaXQiOjI1LCJvZmZzZXQiOjAsInNvcnQiOiIiLCJzb3J0VHlwZSI6IiIsImNsZWFyUGFyYW1zIjpmYWxzZSwia2V5d29yZCI6IiIsInBhZ2VUaXRsZSI6Imw6UHVlcnRvIFJpY28sIFUuUy5BLiIsInByYWN0aWNlQXJlYXMiOlsiTGFib3IgYW5kIEVtcGxveW1lbnQiXX0%3D&page=6\n",
      "https://www.martindale.com/attorney/herman-hiraldo-sanchez-1573874/\n",
      "https://www.martindale.com/attorney/lora-j-espada-medina-1572884/\n",
      "https://www.martindale.com/attorney/carlos-v-j-davila-1572510/\n",
      "https://www.martindale.com/attorney/miriam-b-toledo-david-1573159/\n",
      "https://www.martindale.com/attorney/bamily-lopez-ortiz-1574188/\n",
      "https://www.martindale.com/attorney/alexandra-m-lopez-cruz-47005645/\n",
      "https://www.martindale.com/attorney/yvette-de-luna-colon-1572847/\n",
      "https://www.martindale.com/attorney/joanna-b-matos-hicks-168322624/\n",
      "accediendo a: https://www.martindale.com/search/attorneys-law-firms-articles/?term=Puerto+Rico%2C+USA&params=eyJ0eXBlIjoicGVvcGxlIiwiY29tcGFyZSI6IiIsInRlcm0iOiJQdWVydG8gUmljbywgVVNBIiwiZ2VvTG9jYXRpb25GYWNldCI6WyJQdWVydG8gUmljbywgVS5TLkEuIl0sImdlb0xvY2F0aW9uRmFjZXRSZWNlbnRzIjpbIlB1ZXJ0byBSaWNvLCBVLlMuQS4iXSwicGFnZSI6MSwibGltaXQiOjI1LCJvZmZzZXQiOjAsInNvcnQiOiIiLCJzb3J0VHlwZSI6IiIsImNsZWFyUGFyYW1zIjpmYWxzZSwia2V5d29yZCI6IiIsInBhZ2VUaXRsZSI6Imw6UHVlcnRvIFJpY28sIFUuUy5BLiIsInByYWN0aWNlQXJlYXMiOlsiTGFib3IgYW5kIEVtcGxveW1lbnQiXX0%3D&page=7\n",
      "https://www.martindale.com/attorney/sandra-l-negron-monge-1573330/\n",
      "https://www.martindale.com/attorney/osvaldo-santiago-2007990/\n",
      "https://www.martindale.com/attorney/eugenio-gil-de-lamadrid-gautier-1574205/\n",
      "https://www.martindale.com/attorney/jose-a-b-nolla-mayoral-1573256/\n",
      "https://www.martindale.com/attorney/eileen-m-garcia-wirshing-2849148/\n",
      "https://www.martindale.com/attorney/luis-e-fuste-lacourt-2770910/\n",
      "https://www.martindale.com/attorney/pedro-a-barcelo-lugo-3131824/\n",
      "https://www.martindale.com/attorney/carmen-lucia-rodriguez-velez-esq-1994809/\n",
      "https://www.martindale.com/attorney/francisco-del-castillo-orozco-2177922/\n",
      "accediendo a: https://www.martindale.com/search/attorneys-law-firms-articles/?term=Puerto+Rico%2C+USA&params=eyJ0eXBlIjoicGVvcGxlIiwiY29tcGFyZSI6IiIsInRlcm0iOiJQdWVydG8gUmljbywgVVNBIiwiZ2VvTG9jYXRpb25GYWNldCI6WyJQdWVydG8gUmljbywgVS5TLkEuIl0sImdlb0xvY2F0aW9uRmFjZXRSZWNlbnRzIjpbIlB1ZXJ0byBSaWNvLCBVLlMuQS4iXSwicGFnZSI6MSwibGltaXQiOjI1LCJvZmZzZXQiOjAsInNvcnQiOiIiLCJzb3J0VHlwZSI6IiIsImNsZWFyUGFyYW1zIjpmYWxzZSwia2V5d29yZCI6IiIsInBhZ2VUaXRsZSI6Imw6UHVlcnRvIFJpY28sIFUuUy5BLiIsInByYWN0aWNlQXJlYXMiOlsiTGFib3IgYW5kIEVtcGxveW1lbnQiXX0%3D&page=8\n",
      "https://www.martindale.com/attorney/carmencita-velazquez-marquez-5138058/\n",
      "https://www.martindale.com/attorney/myriam-e-matos-bermudez-1572703/\n",
      "https://www.martindale.com/attorney/sylkia-carballo-nogueras-1573977/\n",
      "https://www.martindale.com/attorney/karem-medina-romero-24419746/\n",
      "https://www.martindale.com/attorney/luis-e-pabon-roca-1572886/\n",
      "https://www.martindale.com/attorney/jorge-rodriguez-micheo-1572815/\n",
      "https://www.martindale.com/attorney/migdalia-davila-garcia-1572818/\n",
      "https://www.martindale.com/attorney/magdalena-s-revuelta-1571590/\n",
      "https://www.martindale.com/attorney/agustin-fortuno-fas-1573307/\n",
      "https://www.martindale.com/attorney/maria-l-santiago-ramos-1573151/\n",
      "accediendo a: https://www.martindale.com/search/attorneys-law-firms-articles/?term=Puerto+Rico%2C+USA&params=eyJ0eXBlIjoicGVvcGxlIiwiY29tcGFyZSI6IiIsInRlcm0iOiJQdWVydG8gUmljbywgVVNBIiwiZ2VvTG9jYXRpb25GYWNldCI6WyJQdWVydG8gUmljbywgVS5TLkEuIl0sImdlb0xvY2F0aW9uRmFjZXRSZWNlbnRzIjpbIlB1ZXJ0byBSaWNvLCBVLlMuQS4iXSwicGFnZSI6MSwibGltaXQiOjI1LCJvZmZzZXQiOjAsInNvcnQiOiIiLCJzb3J0VHlwZSI6IiIsImNsZWFyUGFyYW1zIjpmYWxzZSwia2V5d29yZCI6IiIsInBhZ2VUaXRsZSI6Imw6UHVlcnRvIFJpY28sIFUuUy5BLiIsInByYWN0aWNlQXJlYXMiOlsiTGFib3IgYW5kIEVtcGxveW1lbnQiXX0%3D&page=9\n",
      "https://www.martindale.com/attorney/pedro-jaime-torres-diaz-158366315/\n",
      "https://www.martindale.com/attorney/jennifer-gleason-altieri-2719219/\n",
      "https://www.martindale.com/attorney/carlos-e-rosado-1571606/\n",
      "https://www.martindale.com/attorney/rodolfo-cobas-mondriguez-24478761/\n",
      "https://www.martindale.com/attorney/mari-carmen-colon-diaz-1573981/\n",
      "https://www.martindale.com/attorney/carlos-m-hernandez-burgos-12311180/\n",
      "https://www.martindale.com/attorney/yolanda-v-toyos-olascoaga-1573015/\n",
      "https://www.martindale.com/attorney/jose-r-negron-fernandez-1572534/\n",
      "https://www.martindale.com/attorney/maria-t-terrasa-42954591/\n",
      "https://www.martindale.com/attorney/carl-schuster-1573148/\n",
      "https://www.martindale.com/attorney/martin-m-arlook-1571854/\n",
      "https://www.martindale.com/attorney/maria-de-lourdes-rivera-sostre-3355294/\n",
      "https://www.martindale.com/attorney/marie-c-beauchamp-5050041/\n",
      "accediendo a: https://www.martindale.com/search/attorneys-law-firms-articles/?term=Puerto+Rico%2C+USA&params=eyJ0eXBlIjoicGVvcGxlIiwiY29tcGFyZSI6IiIsInRlcm0iOiJQdWVydG8gUmljbywgVVNBIiwiZ2VvTG9jYXRpb25GYWNldCI6WyJQdWVydG8gUmljbywgVS5TLkEuIl0sImdlb0xvY2F0aW9uRmFjZXRSZWNlbnRzIjpbIlB1ZXJ0byBSaWNvLCBVLlMuQS4iXSwicGFnZSI6MSwibGltaXQiOjI1LCJvZmZzZXQiOjAsInNvcnQiOiIiLCJzb3J0VHlwZSI6IiIsImNsZWFyUGFyYW1zIjpmYWxzZSwia2V5d29yZCI6IiIsInBhZ2VUaXRsZSI6Imw6UHVlcnRvIFJpY28sIFUuUy5BLiIsInByYWN0aWNlQXJlYXMiOlsiTGFib3IgYW5kIEVtcGxveW1lbnQiXX0%3D&page=10\n",
      "https://www.martindale.com/attorney/rafael-rodriguez-nevarez-31928828/\n",
      "https://www.martindale.com/attorney/julio-d-vazquez-rodriguez-1572191/\n",
      "https://www.martindale.com/attorney/ivelisse-bonilla-torrado-1573372/\n",
      "https://www.martindale.com/attorney/yaritza-maldonado-lopez-5138062/\n",
      "https://www.martindale.com/attorney/milagros-figueroa-silva-2718954/\n",
      "https://www.martindale.com/attorney/juan-c-benitez-colon-1572466/\n",
      "https://www.martindale.com/attorney/william-santiago-sastre-1573464/\n",
      "https://www.martindale.com/attorney/ineabelle-santiago-camacho-1571468/\n",
      "https://www.martindale.com/attorney/diego-j-agueros-jimenez-33972975/\n",
      "https://www.martindale.com/attorney/pedro-a-santiago-velez-1572033/\n",
      "https://www.martindale.com/attorney/beatriz-m-rodriguez-burgos-1572544/\n",
      "https://www.martindale.com/attorney/cristina-arenas-solis-esq-4679833/\n",
      "https://www.martindale.com/attorney/alfredo-acevedo-2651427/\n",
      "https://www.martindale.com/attorney/andres-gorbea-del-valle-44866895/\n",
      "accediendo a: https://www.martindale.com/search/attorneys-law-firms-articles/?term=Puerto+Rico%2C+USA&params=eyJ0eXBlIjoicGVvcGxlIiwiY29tcGFyZSI6IiIsInRlcm0iOiJQdWVydG8gUmljbywgVVNBIiwiZ2VvTG9jYXRpb25GYWNldCI6WyJQdWVydG8gUmljbywgVS5TLkEuIl0sImdlb0xvY2F0aW9uRmFjZXRSZWNlbnRzIjpbIlB1ZXJ0byBSaWNvLCBVLlMuQS4iXSwicGFnZSI6MSwibGltaXQiOjI1LCJvZmZzZXQiOjAsInNvcnQiOiIiLCJzb3J0VHlwZSI6IiIsImNsZWFyUGFyYW1zIjpmYWxzZSwia2V5d29yZCI6IiIsInBhZ2VUaXRsZSI6Imw6UHVlcnRvIFJpY28sIFUuUy5BLiIsInByYWN0aWNlQXJlYXMiOlsiTGFib3IgYW5kIEVtcGxveW1lbnQiXX0%3D&page=11\n",
      "https://www.martindale.com/attorney/roxana-m-viera-canales-1572195/\n",
      "https://www.martindale.com/attorney/sara-e-colon-301568200/\n",
      "https://www.martindale.com/attorney/liana-m-gutierrez-3763378/\n",
      "https://www.martindale.com/attorney/janine-m-guzman-1572306/\n",
      "https://www.martindale.com/attorney/francisco-j-olivera-2775954/\n",
      "https://www.martindale.com/attorney/ernesto-lebron-gonzalez-1573980/\n",
      "https://www.martindale.com/attorney/reggie-diaz-hernandez-24486778/\n",
      "https://www.martindale.com/attorney/rosa-m-mendez-santoni-1572513/\n",
      "https://www.martindale.com/attorney/nilda-m-vasquez-rodriguez-1571717/\n",
      "https://www.martindale.com/attorney/linette-figueroa-torres-25878818/\n",
      "https://www.martindale.com/attorney/odemaris-chacon-varona-2000997/\n",
      "accediendo a: https://www.martindale.com/search/attorneys-law-firms-articles/?term=Puerto+Rico%2C+USA&params=eyJ0eXBlIjoicGVvcGxlIiwiY29tcGFyZSI6IiIsInRlcm0iOiJQdWVydG8gUmljbywgVVNBIiwiZ2VvTG9jYXRpb25GYWNldCI6WyJQdWVydG8gUmljbywgVS5TLkEuIl0sImdlb0xvY2F0aW9uRmFjZXRSZWNlbnRzIjpbIlB1ZXJ0byBSaWNvLCBVLlMuQS4iXSwicGFnZSI6MSwibGltaXQiOjI1LCJvZmZzZXQiOjAsInNvcnQiOiIiLCJzb3J0VHlwZSI6IiIsImNsZWFyUGFyYW1zIjpmYWxzZSwia2V5d29yZCI6IiIsInBhZ2VUaXRsZSI6Imw6UHVlcnRvIFJpY28sIFUuUy5BLiIsInByYWN0aWNlQXJlYXMiOlsiTGFib3IgYW5kIEVtcGxveW1lbnQiXX0%3D&page=12\n",
      "https://www.martindale.com/attorney/luis-a-nunez-salgado-1573597/\n",
      "https://www.martindale.com/attorney/fernando-font-lee-1571549/\n",
      "https://www.martindale.com/attorney/antonio-borres-otero-1571925/\n",
      "https://www.martindale.com/attorney/sandra-l-negron-300971366/\n",
      "https://www.martindale.com/attorney/benicio-sanchez-1571721/\n",
      "https://www.martindale.com/attorney/mari-carmen-bosch-1573270/\n",
      "https://www.martindale.com/attorney/ricardo-pizarro-1572848/\n",
      "https://www.martindale.com/attorney/angel-l-morales-rodriguez-1572006/\n",
      "https://www.martindale.com/attorney/agustin-collazo-1573129/\n",
      "https://www.martindale.com/attorney/amelia-fortuno-ruiz-1572176/\n",
      "https://www.martindale.com/attorney/teresa-m-seda-3826116/\n",
      "https://www.martindale.com/attorney/eli-matos-alicea-1573933/\n",
      "https://www.martindale.com/attorney/gina-r-mendez-miro-2309858/\n",
      "accediendo a: https://www.martindale.com/search/attorneys-law-firms-articles/?term=Puerto+Rico%2C+USA&params=eyJ0eXBlIjoicGVvcGxlIiwiY29tcGFyZSI6IiIsInRlcm0iOiJQdWVydG8gUmljbywgVVNBIiwiZ2VvTG9jYXRpb25GYWNldCI6WyJQdWVydG8gUmljbywgVS5TLkEuIl0sImdlb0xvY2F0aW9uRmFjZXRSZWNlbnRzIjpbIlB1ZXJ0byBSaWNvLCBVLlMuQS4iXSwicGFnZSI6MSwibGltaXQiOjI1LCJvZmZzZXQiOjAsInNvcnQiOiIiLCJzb3J0VHlwZSI6IiIsImNsZWFyUGFyYW1zIjpmYWxzZSwia2V5d29yZCI6IiIsInBhZ2VUaXRsZSI6Imw6UHVlcnRvIFJpY28sIFUuUy5BLiIsInByYWN0aWNlQXJlYXMiOlsiTGFib3IgYW5kIEVtcGxveW1lbnQiXX0%3D&page=13\n",
      "https://www.martindale.com/attorney/lolita-j-semidey-garcia-1572511/\n",
      "https://www.martindale.com/attorney/isamar-marichal-morales-1571550/\n",
      "https://www.martindale.com/attorney/dimitri-gonzalez-izquierdo-47002686/\n",
      "https://www.martindale.com/attorney/edgardo-l-ortiz-flores-33633321/\n",
      "https://www.martindale.com/attorney/juan-felipe-santos-3008237/\n",
      "https://www.martindale.com/attorney/sara-e-colon-acevedo-1573153/\n",
      "https://www.martindale.com/attorney/william-a-graffam-1572953/\n",
      "https://www.martindale.com/attorney/roy-j-cohen-1572116/\n",
      "https://www.martindale.com/attorney/emily-arean-diaz-1572456/\n",
      "https://www.martindale.com/attorney/pedro-hernandez-guilbe-158790457/\n",
      "https://www.martindale.com/attorney/chloe-s-georas-santos-4720851/\n",
      "https://www.martindale.com/attorney/magda-mariela-rexach-rexach-1573156/\n",
      "accediendo a: https://www.martindale.com/search/attorneys-law-firms-articles/?term=Puerto+Rico%2C+USA&params=eyJ0eXBlIjoicGVvcGxlIiwiY29tcGFyZSI6IiIsInRlcm0iOiJQdWVydG8gUmljbywgVVNBIiwiZ2VvTG9jYXRpb25GYWNldCI6WyJQdWVydG8gUmljbywgVS5TLkEuIl0sImdlb0xvY2F0aW9uRmFjZXRSZWNlbnRzIjpbIlB1ZXJ0byBSaWNvLCBVLlMuQS4iXSwicGFnZSI6MSwibGltaXQiOjI1LCJvZmZzZXQiOjAsInNvcnQiOiIiLCJzb3J0VHlwZSI6IiIsImNsZWFyUGFyYW1zIjpmYWxzZSwia2V5d29yZCI6IiIsInBhZ2VUaXRsZSI6Imw6UHVlcnRvIFJpY28sIFUuUy5BLiIsInByYWN0aWNlQXJlYXMiOlsiTGFib3IgYW5kIEVtcGxveW1lbnQiXX0%3D&page=14\n",
      "https://www.martindale.com/attorney/yaromil-ralph-168655732/\n",
      "https://www.martindale.com/attorney/luis-r-mellado-gonzalez-1572926/\n",
      "https://www.martindale.com/attorney/justo-e-varela-dieppa-1574165/\n",
      "https://www.martindale.com/attorney/miguel-r-ortiz-calero-1571923/\n",
      "https://www.martindale.com/attorney/yamil-jaskille-300714050/\n",
      "https://www.martindale.com/attorney/jose-francisco-benitez-mier-1573618/\n",
      "https://www.martindale.com/attorney/tristan-reyes-gilestra-1572487/\n",
      "https://www.martindale.com/attorney/deborah-m-sepulveda-3826174/\n",
      "https://www.martindale.com/attorney/mauricio-hernandez-arroyo-esq-400688/\n",
      "https://www.martindale.com/attorney/belkin-nieves-gonzalez-2094447/\n",
      "https://www.martindale.com/attorney/debbie-e-rivera-rivera-20417049/\n",
      "https://www.martindale.com/attorney/francisco-de-armas-cubas-1572573/\n",
      "accediendo a: https://www.martindale.com/search/attorneys-law-firms-articles/?term=Puerto+Rico%2C+USA&params=eyJ0eXBlIjoicGVvcGxlIiwiY29tcGFyZSI6IiIsInRlcm0iOiJQdWVydG8gUmljbywgVVNBIiwiZ2VvTG9jYXRpb25GYWNldCI6WyJQdWVydG8gUmljbywgVS5TLkEuIl0sImdlb0xvY2F0aW9uRmFjZXRSZWNlbnRzIjpbIlB1ZXJ0byBSaWNvLCBVLlMuQS4iXSwicGFnZSI6MSwibGltaXQiOjI1LCJvZmZzZXQiOjAsInNvcnQiOiIiLCJzb3J0VHlwZSI6IiIsImNsZWFyUGFyYW1zIjpmYWxzZSwia2V5d29yZCI6IiIsInBhZ2VUaXRsZSI6Imw6UHVlcnRvIFJpY28sIFUuUy5BLiIsInByYWN0aWNlQXJlYXMiOlsiTGFib3IgYW5kIEVtcGxveW1lbnQiXX0%3D&page=15\n",
      "https://www.martindale.com/attorney/marta-m-villares-seneriz-1572205/\n",
      "https://www.martindale.com/attorney/mariel-y-haack-3763381/\n",
      "https://www.martindale.com/attorney/antonio-m-cuevas-delgado-1571958/\n",
      "https://www.martindale.com/attorney/ramon-vega-dorticos-4705152/\n",
      "https://www.martindale.com/attorney/carlos-g-martinez-vivas-1572890/\n",
      "https://www.martindale.com/attorney/felix-r-bello-acevedo-1573628/\n",
      "https://www.martindale.com/attorney/alexandra-m-serracante-cadilla-1572976/\n",
      "https://www.martindale.com/attorney/larissa-c-rosa-de-jesus-2109049/\n",
      "https://www.martindale.com/attorney/jennifer-lopez-301020082/\n",
      "accediendo a: https://www.martindale.com/search/attorneys-law-firms-articles/?term=Puerto+Rico%2C+USA&params=eyJ0eXBlIjoicGVvcGxlIiwiY29tcGFyZSI6IiIsInRlcm0iOiJQdWVydG8gUmljbywgVVNBIiwiZ2VvTG9jYXRpb25GYWNldCI6WyJQdWVydG8gUmljbywgVS5TLkEuIl0sImdlb0xvY2F0aW9uRmFjZXRSZWNlbnRzIjpbIlB1ZXJ0byBSaWNvLCBVLlMuQS4iXSwicGFnZSI6MSwibGltaXQiOjI1LCJvZmZzZXQiOjAsInNvcnQiOiIiLCJzb3J0VHlwZSI6IiIsImNsZWFyUGFyYW1zIjpmYWxzZSwia2V5d29yZCI6IiIsInBhZ2VUaXRsZSI6Imw6UHVlcnRvIFJpY28sIFUuUy5BLiIsInByYWN0aWNlQXJlYXMiOlsiTGFib3IgYW5kIEVtcGxveW1lbnQiXX0%3D&page=16\n",
      "https://www.martindale.com/attorney/carlos-concepcion-castro-1573422/\n",
      "https://www.martindale.com/attorney/ariel-o-caro-perez-1571575/\n",
      "https://www.martindale.com/attorney/raquel-m-dulzaides-1572957/\n",
      "https://www.martindale.com/attorney/francisco-m-ramirez-rivera-1572138/\n",
      "https://www.martindale.com/attorney/maria-antongiorgi-jordan-1573293/\n",
      "https://www.martindale.com/attorney/migdali-ramos-rivera-4641443/\n",
      "https://www.martindale.com/attorney/alejandra-bird-lopez-1573168/\n",
      "https://www.martindale.com/attorney/pedro-j-manzano-yates-1572521/\n",
      "accediendo a: https://www.martindale.com/search/attorneys-law-firms-articles/?term=Puerto+Rico%2C+USA&params=eyJ0eXBlIjoicGVvcGxlIiwiY29tcGFyZSI6IiIsInRlcm0iOiJQdWVydG8gUmljbywgVVNBIiwiZ2VvTG9jYXRpb25GYWNldCI6WyJQdWVydG8gUmljbywgVS5TLkEuIl0sImdlb0xvY2F0aW9uRmFjZXRSZWNlbnRzIjpbIlB1ZXJ0byBSaWNvLCBVLlMuQS4iXSwicGFnZSI6MSwibGltaXQiOjI1LCJvZmZzZXQiOjAsInNvcnQiOiIiLCJzb3J0VHlwZSI6IiIsImNsZWFyUGFyYW1zIjpmYWxzZSwia2V5d29yZCI6IiIsInBhZ2VUaXRsZSI6Imw6UHVlcnRvIFJpY28sIFUuUy5BLiIsInByYWN0aWNlQXJlYXMiOlsiTGFib3IgYW5kIEVtcGxveW1lbnQiXX0%3D&page=17\n",
      "https://www.martindale.com/attorney/maria-milagros-soto-1573068/\n",
      "https://www.martindale.com/attorney/eduardo-mendez-chabran-1572100/\n",
      "https://www.martindale.com/attorney/vanessa-elias-1573299/\n",
      "https://www.martindale.com/attorney/elizabeth-perez-lleras-3118758/\n",
      "https://www.martindale.com/attorney/cesar-rafael-cabrera-37188916/\n",
      "https://www.martindale.com/attorney/julio-alejandro-serrano-4450132/\n",
      "https://www.martindale.com/attorney/patricia-m-marvez-valiente-2999269/\n",
      "https://www.martindale.com/attorney/roberto-e-vega-pacheco-1572151/\n",
      "https://www.martindale.com/attorney/rafael-j-martinez-garcia-6477746/\n",
      "https://www.martindale.com/attorney/irializ-velez-quinones-1572537/\n",
      "https://www.martindale.com/attorney/enrique-a-mirandes-ramirez-1573110/\n",
      "https://www.martindale.com/attorney/juan-carlos-perez-otero-1572486/\n",
      "accediendo a: https://www.martindale.com/search/attorneys-law-firms-articles/?term=Puerto+Rico%2C+USA&params=eyJ0eXBlIjoicGVvcGxlIiwiY29tcGFyZSI6IiIsInRlcm0iOiJQdWVydG8gUmljbywgVVNBIiwiZ2VvTG9jYXRpb25GYWNldCI6WyJQdWVydG8gUmljbywgVS5TLkEuIl0sImdlb0xvY2F0aW9uRmFjZXRSZWNlbnRzIjpbIlB1ZXJ0byBSaWNvLCBVLlMuQS4iXSwicGFnZSI6MSwibGltaXQiOjI1LCJvZmZzZXQiOjAsInNvcnQiOiIiLCJzb3J0VHlwZSI6IiIsImNsZWFyUGFyYW1zIjpmYWxzZSwia2V5d29yZCI6IiIsInBhZ2VUaXRsZSI6Imw6UHVlcnRvIFJpY28sIFUuUy5BLiIsInByYWN0aWNlQXJlYXMiOlsiTGFib3IgYW5kIEVtcGxveW1lbnQiXX0%3D&page=18\n",
      "https://www.martindale.com/attorney/ana-mellado-gonzalez-1572927/\n",
      "https://www.martindale.com/attorney/vicente-j-antonetti-1572796/\n",
      "https://www.martindale.com/attorney/maria-e-santori-aymat-3817913/\n",
      "https://www.martindale.com/attorney/marian-alix-campbell-1037268/\n",
      "https://www.martindale.com/attorney/katyana-farokhzadeh-lopez-157265002/\n",
      "https://www.martindale.com/attorney/gilda-del-c-cruz-martino-1573810/\n",
      "https://www.martindale.com/attorney/maria-de-lourdes-rivera-sostre-300843926/\n",
      "https://www.martindale.com/attorney/ivy-j-mercado-3118752/\n",
      "https://www.martindale.com/attorney/javier-font-1571330/\n",
      "https://www.martindale.com/attorney/ilsa-y-figueroa-arus-1572859/\n",
      "https://www.martindale.com/attorney/luis-e-palou-balsa-1573263/\n",
      "https://www.martindale.com/attorney/priscila-m-acevedo-roman-4504232/\n",
      "https://www.martindale.com/attorney/elizabeth-d-oleo-puig-5165070/\n",
      "https://www.martindale.com/attorney/alicia-figueroa-llinas-1572567/\n",
      "https://www.martindale.com/attorney/juan-e-torruella-158923735/\n",
      "https://www.martindale.com/attorney/manuel-a-nunez-1572315/\n",
      "accediendo a: https://www.martindale.com/search/attorneys-law-firms-articles/?term=Puerto+Rico%2C+USA&params=eyJ0eXBlIjoicGVvcGxlIiwiY29tcGFyZSI6IiIsInRlcm0iOiJQdWVydG8gUmljbywgVVNBIiwiZ2VvTG9jYXRpb25GYWNldCI6WyJQdWVydG8gUmljbywgVS5TLkEuIl0sImdlb0xvY2F0aW9uRmFjZXRSZWNlbnRzIjpbIlB1ZXJ0byBSaWNvLCBVLlMuQS4iXSwicGFnZSI6MSwibGltaXQiOjI1LCJvZmZzZXQiOjAsInNvcnQiOiIiLCJzb3J0VHlwZSI6IiIsImNsZWFyUGFyYW1zIjpmYWxzZSwia2V5d29yZCI6IiIsInBhZ2VUaXRsZSI6Imw6UHVlcnRvIFJpY28sIFUuUy5BLiIsInByYWN0aWNlQXJlYXMiOlsiTGFib3IgYW5kIEVtcGxveW1lbnQiXX0%3D&page=19\n",
      "https://www.martindale.com/attorney/edwin-quinones-1572758/\n",
      "https://www.martindale.com/attorney/gabriela-a-pintado-del-moral-168561868/\n",
      "https://www.martindale.com/attorney/rosa-cabello-perez-1573975/\n",
      "https://www.martindale.com/attorney/jorge-cruz-jove-2040782/\n",
      "https://www.martindale.com/attorney/francisco-a-vargas-lopez-31928830/\n",
      "https://www.martindale.com/attorney/denise-m-rexach-gonzalez-1573300/\n",
      "https://www.martindale.com/attorney/jose-davila-caballero-2718767/\n",
      "https://www.martindale.com/attorney/luis-barcelo-gener-1571781/\n",
      "https://www.martindale.com/attorney/marisara-figueroa-silva-24977959/\n",
      "https://www.martindale.com/attorney/victor-m-comolli-1573164/\n",
      "accediendo a: https://www.martindale.com/search/attorneys-law-firms-articles/?term=Puerto+Rico%2C+USA&params=eyJ0eXBlIjoicGVvcGxlIiwiY29tcGFyZSI6IiIsInRlcm0iOiJQdWVydG8gUmljbywgVVNBIiwiZ2VvTG9jYXRpb25GYWNldCI6WyJQdWVydG8gUmljbywgVS5TLkEuIl0sImdlb0xvY2F0aW9uRmFjZXRSZWNlbnRzIjpbIlB1ZXJ0byBSaWNvLCBVLlMuQS4iXSwicGFnZSI6MSwibGltaXQiOjI1LCJvZmZzZXQiOjAsInNvcnQiOiIiLCJzb3J0VHlwZSI6IiIsImNsZWFyUGFyYW1zIjpmYWxzZSwia2V5d29yZCI6IiIsInBhZ2VUaXRsZSI6Imw6UHVlcnRvIFJpY28sIFUuUy5BLiIsInByYWN0aWNlQXJlYXMiOlsiTGFib3IgYW5kIEVtcGxveW1lbnQiXX0%3D&page=20\n",
      "https://www.martindale.com/attorney/jose-i-ayala-santana-2850556/\n",
      "https://www.martindale.com/attorney/dalina-sumner-157641169/\n",
      "https://www.martindale.com/attorney/francisco-chevere-1573269/\n",
      "https://www.martindale.com/attorney/josefina-cruz-melendez-1572885/\n",
      "https://www.martindale.com/attorney/lourdes-aguirrechu-1573920/\n",
      "https://www.martindale.com/attorney/jan-carlos-bonilla-silva-28526088/\n",
      "https://www.martindale.com/attorney/omar-d-vissepo-munoz-1571527/\n",
      "https://www.martindale.com/attorney/javier-rodriguez-velazquez-1572784/\n",
      "https://www.martindale.com/attorney/rosa-benitez-alvarez-2298003/\n",
      "https://www.martindale.com/attorney/mario-e-vazquez-vera-2742741/\n",
      "https://www.martindale.com/attorney/gabriela-davila-micheo-159693905/\n",
      "https://www.martindale.com/attorney/maggie-correa-aviles-1573230/\n"
     ]
    },
    {
     "name": "stderr",
     "output_type": "stream",
     "text": [
      " 16%|█▋        | 35/213 [16:10<1:36:18, 32.46s/it]"
     ]
    },
    {
     "name": "stdout",
     "output_type": "stream",
     "text": [
      "paginas en esta url: 1\n",
      "accediendo a: https://www.martindale.com/search/attorneys-law-firms-articles/?term=Puerto+Rico%2C+USA&params=eyJ0eXBlIjoicGVvcGxlIiwiY29tcGFyZSI6IiIsInRlcm0iOiJQdWVydG8gUmljbywgVVNBIiwiZ2VvTG9jYXRpb25GYWNldCI6WyJQdWVydG8gUmljbywgVS5TLkEuIl0sImdlb0xvY2F0aW9uRmFjZXRSZWNlbnRzIjpbIlB1ZXJ0byBSaWNvLCBVLlMuQS4iXSwicGFnZSI6MSwibGltaXQiOjI1LCJvZmZzZXQiOjAsInNvcnQiOiIiLCJzb3J0VHlwZSI6IiIsImNsZWFyUGFyYW1zIjpmYWxzZSwia2V5d29yZCI6IiIsInBhZ2VUaXRsZSI6Imw6UHVlcnRvIFJpY28sIFUuUy5BLiIsInByYWN0aWNlQXJlYXMiOlsiRW1wbG95bWVudCBDb250cmFjdHMiXX0%3D\n"
     ]
    },
    {
     "name": "stderr",
     "output_type": "stream",
     "text": [
      " 17%|█▋        | 36/213 [16:35<1:29:17, 30.27s/it]"
     ]
    },
    {
     "name": "stdout",
     "output_type": "stream",
     "text": [
      "paginas en esta url: 1\n",
      "accediendo a: https://www.martindale.com/search/attorneys-law-firms-articles/?term=Puerto+Rico%2C+USA&params=eyJ0eXBlIjoicGVvcGxlIiwiY29tcGFyZSI6IiIsInRlcm0iOiJQdWVydG8gUmljbywgVVNBIiwiZ2VvTG9jYXRpb25GYWNldCI6WyJQdWVydG8gUmljbywgVS5TLkEuIl0sImdlb0xvY2F0aW9uRmFjZXRSZWNlbnRzIjpbIlB1ZXJ0byBSaWNvLCBVLlMuQS4iXSwicGFnZSI6MSwibGltaXQiOjI1LCJvZmZzZXQiOjAsInNvcnQiOiIiLCJzb3J0VHlwZSI6IiIsImNsZWFyUGFyYW1zIjpmYWxzZSwia2V5d29yZCI6IiIsInBhZ2VUaXRsZSI6Imw6UHVlcnRvIFJpY28sIFUuUy5BLiIsInByYWN0aWNlQXJlYXMiOlsiQW1lcmljYW5zIHdpdGggRGlzYWJpbGl0aWVzIEFjdCJdfQ%3D%3D\n",
      "https://www.martindale.com/attorney/louis-a-de-mier-leblanc-1571408/\n"
     ]
    },
    {
     "name": "stderr",
     "output_type": "stream",
     "text": [
      " 17%|█▋        | 37/213 [16:58<1:22:12, 28.02s/it]"
     ]
    },
    {
     "name": "stdout",
     "output_type": "stream",
     "text": [
      "paginas en esta url: 1\n",
      "accediendo a: https://www.martindale.com/search/attorneys-law-firms-articles/?term=Puerto+Rico%2C+USA&params=eyJ0eXBlIjoicGVvcGxlIiwiY29tcGFyZSI6IiIsInRlcm0iOiJQdWVydG8gUmljbywgVVNBIiwiZ2VvTG9jYXRpb25GYWNldCI6WyJQdWVydG8gUmljbywgVS5TLkEuIl0sImdlb0xvY2F0aW9uRmFjZXRSZWNlbnRzIjpbIlB1ZXJ0byBSaWNvLCBVLlMuQS4iXSwicGFnZSI6MSwibGltaXQiOjI1LCJvZmZzZXQiOjAsInNvcnQiOiIiLCJzb3J0VHlwZSI6IiIsImNsZWFyUGFyYW1zIjpmYWxzZSwia2V5d29yZCI6IiIsInBhZ2VUaXRsZSI6Imw6UHVlcnRvIFJpY28sIFUuUy5BLiIsInByYWN0aWNlQXJlYXMiOlsiV2V0bGFuZHMiXX0%3D\n"
     ]
    },
    {
     "name": "stderr",
     "output_type": "stream",
     "text": [
      " 18%|█▊        | 38/213 [17:21<1:17:59, 26.74s/it]"
     ]
    },
    {
     "name": "stdout",
     "output_type": "stream",
     "text": [
      "paginas en esta url: 5\n",
      "accediendo a: https://www.martindale.com/search/attorneys-law-firms-articles/?term=Puerto+Rico%2C+USA&params=eyJ0eXBlIjoicGVvcGxlIiwiY29tcGFyZSI6IiIsInRlcm0iOiJQdWVydG8gUmljbywgVVNBIiwiZ2VvTG9jYXRpb25GYWNldCI6WyJQdWVydG8gUmljbywgVS5TLkEuIl0sImdlb0xvY2F0aW9uRmFjZXRSZWNlbnRzIjpbIlB1ZXJ0byBSaWNvLCBVLlMuQS4iXSwicGFnZSI6MSwibGltaXQiOjI1LCJvZmZzZXQiOjAsInNvcnQiOiIiLCJzb3J0VHlwZSI6IiIsImNsZWFyUGFyYW1zIjpmYWxzZSwia2V5d29yZCI6IiIsInBhZ2VUaXRsZSI6Imw6UHVlcnRvIFJpY28sIFUuUy5BLiIsInByYWN0aWNlQXJlYXMiOlsiV2lsbHMgYW5kIFByb2JhdGUiXX0%3D\n",
      "https://www.martindale.com/attorney/mr-de-la-cuetara-joseph-a-j-d-157947607/\n",
      "https://www.martindale.com/attorney/neil-fleisher-1574118/\n",
      "https://www.martindale.com/attorney/yasmin-m-santiago-zayas-1572371/\n",
      "https://www.martindale.com/attorney/eduardo-r-guzman-valiente-1571530/\n",
      "https://www.martindale.com/attorney/hector-e-pabon-vega-1572719/\n",
      "https://www.martindale.com/attorney/caridad-muniz-padilla-157265204/\n",
      "https://www.martindale.com/attorney/francisco-a-colon-cruz-1572122/\n",
      "https://www.martindale.com/attorney/jaime-rodriguez-cora-1571574/\n",
      "https://www.martindale.com/attorney/elisa-bobonis-lang-2000971/\n",
      "https://www.martindale.com/attorney/eduardo-tamargo-motroni-1573195/\n",
      "accediendo a: https://www.martindale.com/search/attorneys-law-firms-articles/?term=Puerto+Rico%2C+USA&params=eyJ0eXBlIjoicGVvcGxlIiwiY29tcGFyZSI6IiIsInRlcm0iOiJQdWVydG8gUmljbywgVVNBIiwiZ2VvTG9jYXRpb25GYWNldCI6WyJQdWVydG8gUmljbywgVS5TLkEuIl0sImdlb0xvY2F0aW9uRmFjZXRSZWNlbnRzIjpbIlB1ZXJ0byBSaWNvLCBVLlMuQS4iXSwicGFnZSI6MSwibGltaXQiOjI1LCJvZmZzZXQiOjAsInNvcnQiOiIiLCJzb3J0VHlwZSI6IiIsImNsZWFyUGFyYW1zIjpmYWxzZSwia2V5d29yZCI6IiIsInBhZ2VUaXRsZSI6Imw6UHVlcnRvIFJpY28sIFUuUy5BLiIsInByYWN0aWNlQXJlYXMiOlsiV2lsbHMgYW5kIFByb2JhdGUiXX0%3D&page=2\n",
      "https://www.martindale.com/attorney/lizbet-aviles-vega-1571532/\n",
      "https://www.martindale.com/attorney/sarah-delgado-40603874/\n",
      "https://www.martindale.com/attorney/ricardo-muniz-1572749/\n",
      "https://www.martindale.com/attorney/eduardo-zayas-marxuach-2314519/\n",
      "https://www.martindale.com/attorney/jose-velez-alicea-1572718/\n",
      "https://www.martindale.com/attorney/belen-m-guerrero-calderon-1571525/\n",
      "https://www.martindale.com/attorney/jose-r-gaztambide-gomez-1572740/\n",
      "accediendo a: https://www.martindale.com/search/attorneys-law-firms-articles/?term=Puerto+Rico%2C+USA&params=eyJ0eXBlIjoicGVvcGxlIiwiY29tcGFyZSI6IiIsInRlcm0iOiJQdWVydG8gUmljbywgVVNBIiwiZ2VvTG9jYXRpb25GYWNldCI6WyJQdWVydG8gUmljbywgVS5TLkEuIl0sImdlb0xvY2F0aW9uRmFjZXRSZWNlbnRzIjpbIlB1ZXJ0byBSaWNvLCBVLlMuQS4iXSwicGFnZSI6MSwibGltaXQiOjI1LCJvZmZzZXQiOjAsInNvcnQiOiIiLCJzb3J0VHlwZSI6IiIsImNsZWFyUGFyYW1zIjpmYWxzZSwia2V5d29yZCI6IiIsInBhZ2VUaXRsZSI6Imw6UHVlcnRvIFJpY28sIFUuUy5BLiIsInByYWN0aWNlQXJlYXMiOlsiV2lsbHMgYW5kIFByb2JhdGUiXX0%3D&page=3\n",
      "https://www.martindale.com/attorney/eduardo-j-navarro-pluguez-157584641/\n",
      "https://www.martindale.com/attorney/antonio-escudero-viera-1573213/\n",
      "https://www.martindale.com/attorney/silvia-g-rico-medina-2507060/\n",
      "https://www.martindale.com/attorney/luz-m-rios-rosario-1571490/\n",
      "https://www.martindale.com/attorney/jose-j-ledesma-rodriguez-1573265/\n",
      "https://www.martindale.com/attorney/steven-a-weingarten-421982/\n",
      "https://www.martindale.com/attorney/ramon-olivencia-gaya-158036841/\n",
      "accediendo a: https://www.martindale.com/search/attorneys-law-firms-articles/?term=Puerto+Rico%2C+USA&params=eyJ0eXBlIjoicGVvcGxlIiwiY29tcGFyZSI6IiIsInRlcm0iOiJQdWVydG8gUmljbywgVVNBIiwiZ2VvTG9jYXRpb25GYWNldCI6WyJQdWVydG8gUmljbywgVS5TLkEuIl0sImdlb0xvY2F0aW9uRmFjZXRSZWNlbnRzIjpbIlB1ZXJ0byBSaWNvLCBVLlMuQS4iXSwicGFnZSI6MSwibGltaXQiOjI1LCJvZmZzZXQiOjAsInNvcnQiOiIiLCJzb3J0VHlwZSI6IiIsImNsZWFyUGFyYW1zIjpmYWxzZSwia2V5d29yZCI6IiIsInBhZ2VUaXRsZSI6Imw6UHVlcnRvIFJpY28sIFUuUy5BLiIsInByYWN0aWNlQXJlYXMiOlsiV2lsbHMgYW5kIFByb2JhdGUiXX0%3D&page=4\n",
      "https://www.martindale.com/attorney/ivonne-de-feria-molini-1571534/\n",
      "https://www.martindale.com/attorney/lucas-baez-chao-1571412/\n",
      "https://www.martindale.com/attorney/arturo-perez-orama-1571524/\n",
      "https://www.martindale.com/attorney/manuel-navas-pavia-1571655/\n",
      "https://www.martindale.com/attorney/emiluz-buonomo-nevarez-11442753/\n",
      "https://www.martindale.com/attorney/raul-aponte-sanchez-1571082/\n",
      "https://www.martindale.com/attorney/jose-colon-284980/\n",
      "accediendo a: https://www.martindale.com/search/attorneys-law-firms-articles/?term=Puerto+Rico%2C+USA&params=eyJ0eXBlIjoicGVvcGxlIiwiY29tcGFyZSI6IiIsInRlcm0iOiJQdWVydG8gUmljbywgVVNBIiwiZ2VvTG9jYXRpb25GYWNldCI6WyJQdWVydG8gUmljbywgVS5TLkEuIl0sImdlb0xvY2F0aW9uRmFjZXRSZWNlbnRzIjpbIlB1ZXJ0byBSaWNvLCBVLlMuQS4iXSwicGFnZSI6MSwibGltaXQiOjI1LCJvZmZzZXQiOjAsInNvcnQiOiIiLCJzb3J0VHlwZSI6IiIsImNsZWFyUGFyYW1zIjpmYWxzZSwia2V5d29yZCI6IiIsInBhZ2VUaXRsZSI6Imw6UHVlcnRvIFJpY28sIFUuUy5BLiIsInByYWN0aWNlQXJlYXMiOlsiV2lsbHMgYW5kIFByb2JhdGUiXX0%3D&page=5\n"
     ]
    },
    {
     "name": "stderr",
     "output_type": "stream",
     "text": [
      " 18%|█▊        | 39/213 [17:39<1:09:34, 23.99s/it]"
     ]
    },
    {
     "name": "stdout",
     "output_type": "stream",
     "text": [
      "paginas en esta url: 2\n",
      "accediendo a: https://www.martindale.com/search/attorneys-law-firms-articles/?term=Puerto+Rico%2C+USA&params=eyJ0eXBlIjoicGVvcGxlIiwiY29tcGFyZSI6IiIsInRlcm0iOiJQdWVydG8gUmljbywgVVNBIiwiZ2VvTG9jYXRpb25GYWNldCI6WyJQdWVydG8gUmljbywgVS5TLkEuIl0sImdlb0xvY2F0aW9uRmFjZXRSZWNlbnRzIjpbIlB1ZXJ0byBSaWNvLCBVLlMuQS4iXSwicGFnZSI6MSwibGltaXQiOjI1LCJvZmZzZXQiOjAsInNvcnQiOiIiLCJzb3J0VHlwZSI6IiIsImNsZWFyUGFyYW1zIjpmYWxzZSwia2V5d29yZCI6IiIsInBhZ2VUaXRsZSI6Imw6UHVlcnRvIFJpY28sIFUuUy5BLiIsInByYWN0aWNlQXJlYXMiOlsiV29ya2VycyBDb21wZW5zYXRpb24iXX0%3D\n",
      "https://www.martindale.com/organization/the-ledger-law-firm-1812805/newport-beach-california-2468534-f/?pa=341\n",
      "https://www.martindale.com/attorney/norberto-d-pagan-2992595/\n",
      "https://www.martindale.com/attorney/luz-celeste-carrasquillo-1571114/\n",
      "accediendo a: https://www.martindale.com/search/attorneys-law-firms-articles/?term=Puerto+Rico%2C+USA&params=eyJ0eXBlIjoicGVvcGxlIiwiY29tcGFyZSI6IiIsInRlcm0iOiJQdWVydG8gUmljbywgVVNBIiwiZ2VvTG9jYXRpb25GYWNldCI6WyJQdWVydG8gUmljbywgVS5TLkEuIl0sImdlb0xvY2F0aW9uRmFjZXRSZWNlbnRzIjpbIlB1ZXJ0byBSaWNvLCBVLlMuQS4iXSwicGFnZSI6MSwibGltaXQiOjI1LCJvZmZzZXQiOjAsInNvcnQiOiIiLCJzb3J0VHlwZSI6IiIsImNsZWFyUGFyYW1zIjpmYWxzZSwia2V5d29yZCI6IiIsInBhZ2VUaXRsZSI6Imw6UHVlcnRvIFJpY28sIFUuUy5BLiIsInByYWN0aWNlQXJlYXMiOlsiV29ya2VycyBDb21wZW5zYXRpb24iXX0%3D&page=2\n"
     ]
    },
    {
     "name": "stderr",
     "output_type": "stream",
     "text": [
      " 19%|█▉        | 40/213 [17:49<57:15, 19.86s/it]  "
     ]
    },
    {
     "name": "stdout",
     "output_type": "stream",
     "text": [
      "paginas en esta url: 1\n",
      "accediendo a: https://www.martindale.com/search/attorneys-law-firms-articles/?term=Puerto+Rico%2C+USA&params=eyJ0eXBlIjoicGVvcGxlIiwiY29tcGFyZSI6IiIsInRlcm0iOiJQdWVydG8gUmljbywgVVNBIiwiZ2VvTG9jYXRpb25GYWNldCI6WyJQdWVydG8gUmljbywgVS5TLkEuIl0sImdlb0xvY2F0aW9uRmFjZXRSZWNlbnRzIjpbIlB1ZXJ0byBSaWNvLCBVLlMuQS4iXSwicGFnZSI6MSwibGltaXQiOjI1LCJvZmZzZXQiOjAsInNvcnQiOiIiLCJzb3J0VHlwZSI6IiIsImNsZWFyUGFyYW1zIjpmYWxzZSwia2V5d29yZCI6IiIsInBhZ2VUaXRsZSI6Imw6UHVlcnRvIFJpY28sIFUuUy5BLiIsInByYWN0aWNlQXJlYXMiOlsiTGltaXRlZCBMaWFiaWxpdHkgQ29tcGFueSBMYXciXX0%3D\n"
     ]
    },
    {
     "name": "stderr",
     "output_type": "stream",
     "text": [
      " 19%|█▉        | 41/213 [18:14<1:01:22, 21.41s/it]"
     ]
    },
    {
     "name": "stdout",
     "output_type": "stream",
     "text": [
      "paginas en esta url: 1\n",
      "accediendo a: https://www.martindale.com/search/attorneys-law-firms-articles/?term=Puerto+Rico%2C+USA&params=eyJ0eXBlIjoicGVvcGxlIiwiY29tcGFyZSI6IiIsInRlcm0iOiJQdWVydG8gUmljbywgVVNBIiwiZ2VvTG9jYXRpb25GYWNldCI6WyJQdWVydG8gUmljbywgVS5TLkEuIl0sImdlb0xvY2F0aW9uRmFjZXRSZWNlbnRzIjpbIlB1ZXJ0byBSaWNvLCBVLlMuQS4iXSwicGFnZSI6MSwibGltaXQiOjI1LCJvZmZzZXQiOjAsInNvcnQiOiIiLCJzb3J0VHlwZSI6IiIsImNsZWFyUGFyYW1zIjpmYWxzZSwia2V5d29yZCI6IiIsInBhZ2VUaXRsZSI6Imw6UHVlcnRvIFJpY28sIFUuUy5BLiIsInByYWN0aWNlQXJlYXMiOlsiQnJlYWNoIG9mIENvbnRyYWN0Il19\n"
     ]
    },
    {
     "name": "stderr",
     "output_type": "stream",
     "text": [
      " 20%|█▉        | 42/213 [18:39<1:04:21, 22.58s/it]"
     ]
    },
    {
     "name": "stdout",
     "output_type": "stream",
     "text": [
      "paginas en esta url: 6\n",
      "accediendo a: https://www.martindale.com/search/attorneys-law-firms-articles/?term=Puerto+Rico%2C+USA&params=eyJ0eXBlIjoicGVvcGxlIiwiY29tcGFyZSI6IiIsInRlcm0iOiJQdWVydG8gUmljbywgVVNBIiwiZ2VvTG9jYXRpb25GYWNldCI6WyJQdWVydG8gUmljbywgVS5TLkEuIl0sImdlb0xvY2F0aW9uRmFjZXRSZWNlbnRzIjpbIlB1ZXJ0byBSaWNvLCBVLlMuQS4iXSwicGFnZSI6MSwibGltaXQiOjI1LCJvZmZzZXQiOjAsInNvcnQiOiIiLCJzb3J0VHlwZSI6IiIsImNsZWFyUGFyYW1zIjpmYWxzZSwia2V5d29yZCI6IiIsInBhZ2VUaXRsZSI6Imw6UHVlcnRvIFJpY28sIFUuUy5BLiIsInByYWN0aWNlQXJlYXMiOlsiRW52aXJvbm1lbnRhbCBMYXciXX0%3D\n",
      "https://www.martindale.com/attorney/gretchen-m-mendez-vilella-1572829/\n",
      "https://www.martindale.com/attorney/ana-m-carbo-lugo-2177731/\n",
      "https://www.martindale.com/attorney/hernan-marrero-caldero-33760055/\n",
      "https://www.martindale.com/attorney/rafael-alonso-alonso-1573715/\n",
      "https://www.martindale.com/attorney/rebeca-acosta-perez-300821864/\n",
      "https://www.martindale.com/attorney/pedro-j-reyes-bibiloni-1572516/\n",
      "https://www.martindale.com/attorney/juan-carlos-fierres-1572148/\n",
      "https://www.martindale.com/attorney/ana-cristina-diaz-velasco-1572022/\n",
      "https://www.martindale.com/attorney/jorge-l-san-miguel-casteleiro-esq-47087815/\n",
      "https://www.martindale.com/attorney/john-f-nevares-1574023/\n",
      "https://www.martindale.com/attorney/eugene-p-scott-24179045/\n",
      "accediendo a: https://www.martindale.com/search/attorneys-law-firms-articles/?term=Puerto+Rico%2C+USA&params=eyJ0eXBlIjoicGVvcGxlIiwiY29tcGFyZSI6IiIsInRlcm0iOiJQdWVydG8gUmljbywgVVNBIiwiZ2VvTG9jYXRpb25GYWNldCI6WyJQdWVydG8gUmljbywgVS5TLkEuIl0sImdlb0xvY2F0aW9uRmFjZXRSZWNlbnRzIjpbIlB1ZXJ0byBSaWNvLCBVLlMuQS4iXSwicGFnZSI6MSwibGltaXQiOjI1LCJvZmZzZXQiOjAsInNvcnQiOiIiLCJzb3J0VHlwZSI6IiIsImNsZWFyUGFyYW1zIjpmYWxzZSwia2V5d29yZCI6IiIsInBhZ2VUaXRsZSI6Imw6UHVlcnRvIFJpY28sIFUuUy5BLiIsInByYWN0aWNlQXJlYXMiOlsiRW52aXJvbm1lbnRhbCBMYXciXX0%3D&page=2\n",
      "https://www.martindale.com/attorney/patricia-a-garrity-1572960/\n",
      "https://www.martindale.com/attorney/agustin-f-carbo-lugo-2776305/\n",
      "https://www.martindale.com/attorney/david-paul-freedman-1573589/\n",
      "https://www.martindale.com/attorney/lizzie-tomasini-2040006/\n",
      "https://www.martindale.com/attorney/orlando-cabrera-rodriguez-1573273/\n",
      "https://www.martindale.com/attorney/john-a-uphoff-figueroa-1572879/\n",
      "https://www.martindale.com/attorney/edwin-r-cruz-14012041/\n",
      "https://www.martindale.com/attorney/jose-a-ramos-1572785/\n",
      "https://www.martindale.com/attorney/carlos-e-colon-franceschi-1573350/\n",
      "https://www.martindale.com/attorney/miglisa-l-capo-suria-1572762/\n",
      "https://www.martindale.com/attorney/nicolas-jimenez-1572951/\n",
      "https://www.martindale.com/attorney/shannon-leigh-sweeney-300726434/\n",
      "accediendo a: https://www.martindale.com/search/attorneys-law-firms-articles/?term=Puerto+Rico%2C+USA&params=eyJ0eXBlIjoicGVvcGxlIiwiY29tcGFyZSI6IiIsInRlcm0iOiJQdWVydG8gUmljbywgVVNBIiwiZ2VvTG9jYXRpb25GYWNldCI6WyJQdWVydG8gUmljbywgVS5TLkEuIl0sImdlb0xvY2F0aW9uRmFjZXRSZWNlbnRzIjpbIlB1ZXJ0byBSaWNvLCBVLlMuQS4iXSwicGFnZSI6MSwibGltaXQiOjI1LCJvZmZzZXQiOjAsInNvcnQiOiIiLCJzb3J0VHlwZSI6IiIsImNsZWFyUGFyYW1zIjpmYWxzZSwia2V5d29yZCI6IiIsInBhZ2VUaXRsZSI6Imw6UHVlcnRvIFJpY28sIFUuUy5BLiIsInByYWN0aWNlQXJlYXMiOlsiRW52aXJvbm1lbnRhbCBMYXciXX0%3D&page=3\n",
      "https://www.martindale.com/attorney/jorge-l-cordova-jr-1573910/\n",
      "https://www.martindale.com/attorney/mayra-del-carmen-doble-ruiz-1573745/\n",
      "https://www.martindale.com/attorney/maria-luisa-gonzalez-hernandez-1572515/\n",
      "https://www.martindale.com/attorney/carmen-l-conaway-3344115/\n",
      "https://www.martindale.com/attorney/desiree-laborde-sanfiorenzo-1573180/\n",
      "https://www.martindale.com/attorney/francis-torres-fernandez-1572805/\n",
      "https://www.martindale.com/attorney/ramon-lloveras-san-miguel-1572458/\n",
      "https://www.martindale.com/attorney/gilberto-gutierrez-24406821/\n",
      "https://www.martindale.com/attorney/carla-garcia-benitez-1573605/\n",
      "https://www.martindale.com/attorney/karin-g-diaz-toro-1572814/\n",
      "https://www.martindale.com/attorney/yammir-samalot-rodriguez-1573929/\n",
      "https://www.martindale.com/attorney/jerry-lucas-marrero-167696120/\n",
      "accediendo a: https://www.martindale.com/search/attorneys-law-firms-articles/?term=Puerto+Rico%2C+USA&params=eyJ0eXBlIjoicGVvcGxlIiwiY29tcGFyZSI6IiIsInRlcm0iOiJQdWVydG8gUmljbywgVVNBIiwiZ2VvTG9jYXRpb25GYWNldCI6WyJQdWVydG8gUmljbywgVS5TLkEuIl0sImdlb0xvY2F0aW9uRmFjZXRSZWNlbnRzIjpbIlB1ZXJ0byBSaWNvLCBVLlMuQS4iXSwicGFnZSI6MSwibGltaXQiOjI1LCJvZmZzZXQiOjAsInNvcnQiOiIiLCJzb3J0VHlwZSI6IiIsImNsZWFyUGFyYW1zIjpmYWxzZSwia2V5d29yZCI6IiIsInBhZ2VUaXRsZSI6Imw6UHVlcnRvIFJpY28sIFUuUy5BLiIsInByYWN0aWNlQXJlYXMiOlsiRW52aXJvbm1lbnRhbCBMYXciXX0%3D&page=4\n",
      "https://www.martindale.com/attorney/maria-m-pabon-1573138/\n",
      "https://www.martindale.com/attorney/julio-morales-sanchez-1573991/\n",
      "https://www.martindale.com/attorney/rafael-mullet-sanchez-1573352/\n",
      "https://www.martindale.com/attorney/laura-rozas-1573410/\n",
      "https://www.martindale.com/attorney/jorge-a-rullan-marin-1573724/\n",
      "https://www.martindale.com/attorney/benjamin-hernandez-nieves-1572223/\n",
      "https://www.martindale.com/attorney/juan-carlos-gomez-escarce-1572501/\n",
      "https://www.martindale.com/attorney/milagros-ruiz-chaar-1573723/\n",
      "https://www.martindale.com/attorney/alicia-lamboy-mombille-1572853/\n",
      "https://www.martindale.com/attorney/jorge-r-de-jesus-medina-4075226/\n",
      "https://www.martindale.com/attorney/jaime-g-lluch-1573357/\n",
      "https://www.martindale.com/attorney/maria-de-lourdes-rodriguez-1572753/\n",
      "https://www.martindale.com/attorney/luis-a-morales-figueroa-2309877/\n",
      "https://www.martindale.com/attorney/arminda-de-choudens-farraro-1572333/\n",
      "https://www.martindale.com/attorney/german-a-novoa-rodriguez-157640795/\n",
      "https://www.martindale.com/attorney/pedro-j-nieves-miranda-2309881/\n",
      "https://www.martindale.com/attorney/mayra-del-c-doble-ruiz-1572832/\n",
      "https://www.martindale.com/attorney/darcie-b-weingrad-26770827/\n",
      "https://www.martindale.com/attorney/guillermo-j-silva-wiscovich-33975879/\n",
      "https://www.martindale.com/attorney/jose-a-cepeda-rodriguez-1572865/\n",
      "accediendo a: https://www.martindale.com/search/attorneys-law-firms-articles/?term=Puerto+Rico%2C+USA&params=eyJ0eXBlIjoicGVvcGxlIiwiY29tcGFyZSI6IiIsInRlcm0iOiJQdWVydG8gUmljbywgVVNBIiwiZ2VvTG9jYXRpb25GYWNldCI6WyJQdWVydG8gUmljbywgVS5TLkEuIl0sImdlb0xvY2F0aW9uRmFjZXRSZWNlbnRzIjpbIlB1ZXJ0byBSaWNvLCBVLlMuQS4iXSwicGFnZSI6MSwibGltaXQiOjI1LCJvZmZzZXQiOjAsInNvcnQiOiIiLCJzb3J0VHlwZSI6IiIsImNsZWFyUGFyYW1zIjpmYWxzZSwia2V5d29yZCI6IiIsInBhZ2VUaXRsZSI6Imw6UHVlcnRvIFJpY28sIFUuUy5BLiIsInByYWN0aWNlQXJlYXMiOlsiRW52aXJvbm1lbnRhbCBMYXciXX0%3D&page=5\n",
      "https://www.martindale.com/attorney/raul-negron-casasnovas-1572838/\n",
      "https://www.martindale.com/attorney/lillian-mateo-santos-esq-1573631/\n",
      "https://www.martindale.com/attorney/adriana-pou-1573580/\n",
      "https://www.martindale.com/attorney/eli-matos-alicea-1572888/\n",
      "https://www.martindale.com/attorney/miguel-sarriera-roman-1572975/\n",
      "https://www.martindale.com/attorney/edgar-hernandez-sanchez-4217654/\n",
      "https://www.martindale.com/attorney/raul-e-bandas-del-pilar-1573181/\n",
      "https://www.martindale.com/attorney/pedro-a-maldonado-ojeda-1572005/\n",
      "https://www.martindale.com/attorney/rafael-rivera-yankovich-1573356/\n",
      "https://www.martindale.com/attorney/doira-diaz-2584383/\n",
      "https://www.martindale.com/attorney/yldebrando-suarez-martinez-1572535/\n",
      "https://www.martindale.com/attorney/luis-e-migenis-lopez-1572620/\n",
      "https://www.martindale.com/attorney/laura-m-velez-velez-30450123/\n",
      "accediendo a: https://www.martindale.com/search/attorneys-law-firms-articles/?term=Puerto+Rico%2C+USA&params=eyJ0eXBlIjoicGVvcGxlIiwiY29tcGFyZSI6IiIsInRlcm0iOiJQdWVydG8gUmljbywgVVNBIiwiZ2VvTG9jYXRpb25GYWNldCI6WyJQdWVydG8gUmljbywgVS5TLkEuIl0sImdlb0xvY2F0aW9uRmFjZXRSZWNlbnRzIjpbIlB1ZXJ0byBSaWNvLCBVLlMuQS4iXSwicGFnZSI6MSwibGltaXQiOjI1LCJvZmZzZXQiOjAsInNvcnQiOiIiLCJzb3J0VHlwZSI6IiIsImNsZWFyUGFyYW1zIjpmYWxzZSwia2V5d29yZCI6IiIsInBhZ2VUaXRsZSI6Imw6UHVlcnRvIFJpY28sIFUuUy5BLiIsInByYWN0aWNlQXJlYXMiOlsiRW52aXJvbm1lbnRhbCBMYXciXX0%3D&page=6\n",
      "https://www.martindale.com/attorney/jorge-j-garcia-diaz-1572165/\n",
      "https://www.martindale.com/attorney/victor-f-oppenheimer-soto-2314207/\n",
      "https://www.martindale.com/attorney/francisco-g-bruno-1573222/\n",
      "https://www.martindale.com/attorney/rafael-e-santos-toledo-1572023/\n",
      "https://www.martindale.com/attorney/maria-c-berio-2852595/\n",
      "https://www.martindale.com/attorney/pedro-f-melendez-arreaga-17103390/\n",
      "https://www.martindale.com/attorney/melanie-almeida-suarez-2965929/\n",
      "https://www.martindale.com/attorney/josea-ramos-jimenez-1572457/\n",
      "https://www.martindale.com/attorney/edwin-a-irizarry-lugo-2854064/\n",
      "https://www.martindale.com/attorney/eduardo-m-negron-navas-1572488/\n",
      "https://www.martindale.com/attorney/luis-e-rodriguez-rivera-1571581/\n"
     ]
    },
    {
     "name": "stderr",
     "output_type": "stream",
     "text": [
      " 20%|██        | 43/213 [18:55<58:21, 20.60s/it]  "
     ]
    },
    {
     "name": "stdout",
     "output_type": "stream",
     "text": [
      "paginas en esta url: 1\n",
      "accediendo a: https://www.martindale.com/search/attorneys-law-firms-articles/?term=Puerto+Rico%2C+USA&params=eyJ0eXBlIjoicGVvcGxlIiwiY29tcGFyZSI6IiIsInRlcm0iOiJQdWVydG8gUmljbywgVVNBIiwiZ2VvTG9jYXRpb25GYWNldCI6WyJQdWVydG8gUmljbywgVS5TLkEuIl0sImdlb0xvY2F0aW9uRmFjZXRSZWNlbnRzIjpbIlB1ZXJ0byBSaWNvLCBVLlMuQS4iXSwicGFnZSI6MSwibGltaXQiOjI1LCJvZmZzZXQiOjAsInNvcnQiOiIiLCJzb3J0VHlwZSI6IiIsImNsZWFyUGFyYW1zIjpmYWxzZSwia2V5d29yZCI6IiIsInBhZ2VUaXRsZSI6Imw6UHVlcnRvIFJpY28sIFUuUy5BLiIsInByYWN0aWNlQXJlYXMiOlsiSG91c2luZyBMYXciXX0%3D\n"
     ]
    },
    {
     "name": "stderr",
     "output_type": "stream",
     "text": [
      " 21%|██        | 44/213 [19:20<1:01:37, 21.88s/it]"
     ]
    },
    {
     "name": "stdout",
     "output_type": "stream",
     "text": [
      "paginas en esta url: 9\n",
      "accediendo a: https://www.martindale.com/search/attorneys-law-firms-articles/?term=Puerto+Rico%2C+USA&params=eyJ0eXBlIjoicGVvcGxlIiwiY29tcGFyZSI6IiIsInRlcm0iOiJQdWVydG8gUmljbywgVVNBIiwiZ2VvTG9jYXRpb25GYWNldCI6WyJQdWVydG8gUmljbywgVS5TLkEuIl0sImdlb0xvY2F0aW9uRmFjZXRSZWNlbnRzIjpbIlB1ZXJ0byBSaWNvLCBVLlMuQS4iXSwicGFnZSI6MSwibGltaXQiOjI1LCJvZmZzZXQiOjAsInNvcnQiOiIiLCJzb3J0VHlwZSI6IiIsImNsZWFyUGFyYW1zIjpmYWxzZSwia2V5d29yZCI6IiIsInBhZ2VUaXRsZSI6Imw6UHVlcnRvIFJpY28sIFUuUy5BLiIsInByYWN0aWNlQXJlYXMiOlsiQmFua3J1cHRjeSJdfQ%3D%3D\n",
      "https://www.martindale.com/attorney/francisco-fernandez-alvarez-1571687/\n",
      "https://www.martindale.com/attorney/hector-l-freire-ortiz-1571443/\n",
      "https://www.martindale.com/attorney/isabel-m-fullana-fraticelli-1572691/\n",
      "https://www.martindale.com/attorney/marcos-a-ramirez-lavandero-1573826/\n",
      "https://www.martindale.com/attorney/yanire-batista-orama-4294145/\n",
      "accediendo a: https://www.martindale.com/search/attorneys-law-firms-articles/?term=Puerto+Rico%2C+USA&params=eyJ0eXBlIjoicGVvcGxlIiwiY29tcGFyZSI6IiIsInRlcm0iOiJQdWVydG8gUmljbywgVVNBIiwiZ2VvTG9jYXRpb25GYWNldCI6WyJQdWVydG8gUmljbywgVS5TLkEuIl0sImdlb0xvY2F0aW9uRmFjZXRSZWNlbnRzIjpbIlB1ZXJ0byBSaWNvLCBVLlMuQS4iXSwicGFnZSI6MSwibGltaXQiOjI1LCJvZmZzZXQiOjAsInNvcnQiOiIiLCJzb3J0VHlwZSI6IiIsImNsZWFyUGFyYW1zIjpmYWxzZSwia2V5d29yZCI6IiIsInBhZ2VUaXRsZSI6Imw6UHVlcnRvIFJpY28sIFUuUy5BLiIsInByYWN0aWNlQXJlYXMiOlsiQmFua3J1cHRjeSJdfQ%3D%3D&page=2\n",
      "https://www.martindale.com/attorney/cesar-h-soto-cintron-1573013/\n",
      "https://www.martindale.com/attorney/sharlene-m-malave-vallines-157264702/\n",
      "https://www.martindale.com/attorney/maritza-gonzalez-rivera-1572034/\n",
      "https://www.martindale.com/attorney/ileana-m-oliver-falero-4720855/\n",
      "https://www.martindale.com/attorney/rafael-perez-bachs-1573221/\n",
      "https://www.martindale.com/attorney/elba-r-rodriguez-fuentes-1573755/\n",
      "accediendo a: https://www.martindale.com/search/attorneys-law-firms-articles/?term=Puerto+Rico%2C+USA&params=eyJ0eXBlIjoicGVvcGxlIiwiY29tcGFyZSI6IiIsInRlcm0iOiJQdWVydG8gUmljbywgVVNBIiwiZ2VvTG9jYXRpb25GYWNldCI6WyJQdWVydG8gUmljbywgVS5TLkEuIl0sImdlb0xvY2F0aW9uRmFjZXRSZWNlbnRzIjpbIlB1ZXJ0byBSaWNvLCBVLlMuQS4iXSwicGFnZSI6MSwibGltaXQiOjI1LCJvZmZzZXQiOjAsInNvcnQiOiIiLCJzb3J0VHlwZSI6IiIsImNsZWFyUGFyYW1zIjpmYWxzZSwia2V5d29yZCI6IiIsInBhZ2VUaXRsZSI6Imw6UHVlcnRvIFJpY28sIFUuUy5BLiIsInByYWN0aWNlQXJlYXMiOlsiQmFua3J1cHRjeSJdfQ%3D%3D&page=3\n",
      "https://www.martindale.com/attorney/carlos-alsina-batista-3666584/\n",
      "https://www.martindale.com/attorney/william-a-power-1573242/\n",
      "https://www.martindale.com/attorney/teresa-m-lube-capo-301300102/\n",
      "https://www.martindale.com/attorney/leopoldo-j-cabassa-sauri-1572485/\n",
      "https://www.martindale.com/attorney/mariel-y-pizarro-3145391/\n",
      "https://www.martindale.com/attorney/luis-carlos-marini-2298729/\n",
      "https://www.martindale.com/attorney/juan-a-aquino-1573600/\n",
      "https://www.martindale.com/attorney/orlin-p-goble-rosales-1572307/\n",
      "accediendo a: https://www.martindale.com/search/attorneys-law-firms-articles/?term=Puerto+Rico%2C+USA&params=eyJ0eXBlIjoicGVvcGxlIiwiY29tcGFyZSI6IiIsInRlcm0iOiJQdWVydG8gUmljbywgVVNBIiwiZ2VvTG9jYXRpb25GYWNldCI6WyJQdWVydG8gUmljbywgVS5TLkEuIl0sImdlb0xvY2F0aW9uRmFjZXRSZWNlbnRzIjpbIlB1ZXJ0byBSaWNvLCBVLlMuQS4iXSwicGFnZSI6MSwibGltaXQiOjI1LCJvZmZzZXQiOjAsInNvcnQiOiIiLCJzb3J0VHlwZSI6IiIsImNsZWFyUGFyYW1zIjpmYWxzZSwia2V5d29yZCI6IiIsInBhZ2VUaXRsZSI6Imw6UHVlcnRvIFJpY28sIFUuUy5BLiIsInByYWN0aWNlQXJlYXMiOlsiQmFua3J1cHRjeSJdfQ%3D%3D&page=4\n",
      "https://www.martindale.com/attorney/lyssette-morales-vidal-1571118/\n",
      "https://www.martindale.com/attorney/jean-philip-gauthier-4239913/\n",
      "https://www.martindale.com/attorney/carlo-javier-rodriguez-puigdollers-3322815/\n",
      "https://www.martindale.com/attorney/armando-e-gonzalez-maldonado-1572901/\n",
      "https://www.martindale.com/attorney/viviana-rodriguez-ortiz-1571457/\n",
      "https://www.martindale.com/attorney/sara-e-de-jesus-1571939/\n",
      "https://www.martindale.com/attorney/zelma-b-davila-carrasquillo-301315234/\n",
      "accediendo a: https://www.martindale.com/search/attorneys-law-firms-articles/?term=Puerto+Rico%2C+USA&params=eyJ0eXBlIjoicGVvcGxlIiwiY29tcGFyZSI6IiIsInRlcm0iOiJQdWVydG8gUmljbywgVVNBIiwiZ2VvTG9jYXRpb25GYWNldCI6WyJQdWVydG8gUmljbywgVS5TLkEuIl0sImdlb0xvY2F0aW9uRmFjZXRSZWNlbnRzIjpbIlB1ZXJ0byBSaWNvLCBVLlMuQS4iXSwicGFnZSI6MSwibGltaXQiOjI1LCJvZmZzZXQiOjAsInNvcnQiOiIiLCJzb3J0VHlwZSI6IiIsImNsZWFyUGFyYW1zIjpmYWxzZSwia2V5d29yZCI6IiIsInBhZ2VUaXRsZSI6Imw6UHVlcnRvIFJpY28sIFUuUy5BLiIsInByYWN0aWNlQXJlYXMiOlsiQmFua3J1cHRjeSJdfQ%3D%3D&page=5\n",
      "https://www.martindale.com/attorney/wigberto-lugo-mender-1571480/\n",
      "https://www.martindale.com/attorney/israel-melendez-4294122/\n",
      "https://www.martindale.com/attorney/gilberto-mayo-pagan-1574160/\n",
      "https://www.martindale.com/attorney/miguel-a-mendez-fontanez-1572290/\n",
      "accediendo a: https://www.martindale.com/search/attorneys-law-firms-articles/?term=Puerto+Rico%2C+USA&params=eyJ0eXBlIjoicGVvcGxlIiwiY29tcGFyZSI6IiIsInRlcm0iOiJQdWVydG8gUmljbywgVVNBIiwiZ2VvTG9jYXRpb25GYWNldCI6WyJQdWVydG8gUmljbywgVS5TLkEuIl0sImdlb0xvY2F0aW9uRmFjZXRSZWNlbnRzIjpbIlB1ZXJ0byBSaWNvLCBVLlMuQS4iXSwicGFnZSI6MSwibGltaXQiOjI1LCJvZmZzZXQiOjAsInNvcnQiOiIiLCJzb3J0VHlwZSI6IiIsImNsZWFyUGFyYW1zIjpmYWxzZSwia2V5d29yZCI6IiIsInBhZ2VUaXRsZSI6Imw6UHVlcnRvIFJpY28sIFUuUy5BLiIsInByYWN0aWNlQXJlYXMiOlsiQmFua3J1cHRjeSJdfQ%3D%3D&page=6\n",
      "https://www.martindale.com/attorney/edilberto-berrios-perez-1571625/\n",
      "https://www.martindale.com/attorney/martin-gonzalez-vazquez-1571348/\n",
      "https://www.martindale.com/attorney/robert-anthony-velez---montes-300752110/\n",
      "https://www.martindale.com/attorney/carmen-d-conde-torres-1573754/\n",
      "accediendo a: https://www.martindale.com/search/attorneys-law-firms-articles/?term=Puerto+Rico%2C+USA&params=eyJ0eXBlIjoicGVvcGxlIiwiY29tcGFyZSI6IiIsInRlcm0iOiJQdWVydG8gUmljbywgVVNBIiwiZ2VvTG9jYXRpb25GYWNldCI6WyJQdWVydG8gUmljbywgVS5TLkEuIl0sImdlb0xvY2F0aW9uRmFjZXRSZWNlbnRzIjpbIlB1ZXJ0byBSaWNvLCBVLlMuQS4iXSwicGFnZSI6MSwibGltaXQiOjI1LCJvZmZzZXQiOjAsInNvcnQiOiIiLCJzb3J0VHlwZSI6IiIsImNsZWFyUGFyYW1zIjpmYWxzZSwia2V5d29yZCI6IiIsInBhZ2VUaXRsZSI6Imw6UHVlcnRvIFJpY28sIFUuUy5BLiIsInByYWN0aWNlQXJlYXMiOlsiQmFua3J1cHRjeSJdfQ%3D%3D&page=7\n",
      "https://www.martindale.com/attorney/jose-alberto-moure-1572391/\n",
      "https://www.martindale.com/attorney/sarit-zeevi-1573354/\n",
      "https://www.martindale.com/attorney/maria-mercedes-figueroa-1573790/\n",
      "https://www.martindale.com/attorney/manuel-fernandez-bared-1573248/\n",
      "https://www.martindale.com/attorney/nector-robles-abraham-1571155/\n",
      "https://www.martindale.com/attorney/lee-sepulvado-ramos-1573319/\n",
      "https://www.martindale.com/attorney/william-bill-torres-1571698/\n",
      "accediendo a: https://www.martindale.com/search/attorneys-law-firms-articles/?term=Puerto+Rico%2C+USA&params=eyJ0eXBlIjoicGVvcGxlIiwiY29tcGFyZSI6IiIsInRlcm0iOiJQdWVydG8gUmljbywgVVNBIiwiZ2VvTG9jYXRpb25GYWNldCI6WyJQdWVydG8gUmljbywgVS5TLkEuIl0sImdlb0xvY2F0aW9uRmFjZXRSZWNlbnRzIjpbIlB1ZXJ0byBSaWNvLCBVLlMuQS4iXSwicGFnZSI6MSwibGltaXQiOjI1LCJvZmZzZXQiOjAsInNvcnQiOiIiLCJzb3J0VHlwZSI6IiIsImNsZWFyUGFyYW1zIjpmYWxzZSwia2V5d29yZCI6IiIsInBhZ2VUaXRsZSI6Imw6UHVlcnRvIFJpY28sIFUuUy5BLiIsInByYWN0aWNlQXJlYXMiOlsiQmFua3J1cHRjeSJdfQ%3D%3D&page=8\n",
      "https://www.martindale.com/attorney/carlos-cesar-alsina-batista-300856494/\n",
      "https://www.martindale.com/attorney/carlos-eduardo-perez-pastrana-300292360/\n",
      "https://www.martindale.com/attorney/vivian-ortiz-ponce-1573849/\n",
      "https://www.martindale.com/attorney/mary-ann-gandia-fabian-1571701/\n",
      "https://www.martindale.com/attorney/jesus-e-batista-jr-3694798/\n",
      "https://www.martindale.com/attorney/edgardo-munoz-maldonado-1573511/\n",
      "https://www.martindale.com/attorney/jose-a-ortiz-siragusa-1574067/\n",
      "https://www.martindale.com/attorney/dagmar-fernandez-4505077/\n",
      "https://www.martindale.com/attorney/edgar-rodriguez-mendez-1571934/\n",
      "https://www.martindale.com/attorney/ramon-torres-rodriguez-1574093/\n",
      "accediendo a: https://www.martindale.com/search/attorneys-law-firms-articles/?term=Puerto+Rico%2C+USA&params=eyJ0eXBlIjoicGVvcGxlIiwiY29tcGFyZSI6IiIsInRlcm0iOiJQdWVydG8gUmljbywgVVNBIiwiZ2VvTG9jYXRpb25GYWNldCI6WyJQdWVydG8gUmljbywgVS5TLkEuIl0sImdlb0xvY2F0aW9uRmFjZXRSZWNlbnRzIjpbIlB1ZXJ0byBSaWNvLCBVLlMuQS4iXSwicGFnZSI6MSwibGltaXQiOjI1LCJvZmZzZXQiOjAsInNvcnQiOiIiLCJzb3J0VHlwZSI6IiIsImNsZWFyUGFyYW1zIjpmYWxzZSwia2V5d29yZCI6IiIsInBhZ2VUaXRsZSI6Imw6UHVlcnRvIFJpY28sIFUuUy5BLiIsInByYWN0aWNlQXJlYXMiOlsiQmFua3J1cHRjeSJdfQ%3D%3D&page=9\n",
      "https://www.martindale.com/attorney/miguel-a-crtiz-valles-1571078/\n",
      "https://www.martindale.com/attorney/mildred-caban-46349807/\n"
     ]
    },
    {
     "name": "stderr",
     "output_type": "stream",
     "text": [
      " 21%|██        | 45/213 [19:43<1:02:02, 22.16s/it]"
     ]
    },
    {
     "name": "stdout",
     "output_type": "stream",
     "text": [
      "paginas en esta url: 1\n",
      "accediendo a: https://www.martindale.com/search/attorneys-law-firms-articles/?term=Puerto+Rico%2C+USA&params=eyJ0eXBlIjoicGVvcGxlIiwiY29tcGFyZSI6IiIsInRlcm0iOiJQdWVydG8gUmljbywgVVNBIiwiZ2VvTG9jYXRpb25GYWNldCI6WyJQdWVydG8gUmljbywgVS5TLkEuIl0sImdlb0xvY2F0aW9uRmFjZXRSZWNlbnRzIjpbIlB1ZXJ0byBSaWNvLCBVLlMuQS4iXSwicGFnZSI6MSwibGltaXQiOjI1LCJvZmZzZXQiOjAsInNvcnQiOiIiLCJzb3J0VHlwZSI6IiIsImNsZWFyUGFyYW1zIjpmYWxzZSwia2V5d29yZCI6IiIsInBhZ2VUaXRsZSI6Imw6UHVlcnRvIFJpY28sIFUuUy5BLiIsInByYWN0aWNlQXJlYXMiOlsiQWZmaXJtYXRpdmUgQWN0aW9uIl19\n"
     ]
    },
    {
     "name": "stderr",
     "output_type": "stream",
     "text": [
      " 22%|██▏       | 46/213 [20:07<1:03:13, 22.71s/it]"
     ]
    },
    {
     "name": "stdout",
     "output_type": "stream",
     "text": [
      "paginas en esta url: 1\n",
      "accediendo a: https://www.martindale.com/search/attorneys-law-firms-articles/?term=Puerto+Rico%2C+USA&params=eyJ0eXBlIjoicGVvcGxlIiwiY29tcGFyZSI6IiIsInRlcm0iOiJQdWVydG8gUmljbywgVVNBIiwiZ2VvTG9jYXRpb25GYWNldCI6WyJQdWVydG8gUmljbywgVS5TLkEuIl0sImdlb0xvY2F0aW9uRmFjZXRSZWNlbnRzIjpbIlB1ZXJ0byBSaWNvLCBVLlMuQS4iXSwicGFnZSI6MSwibGltaXQiOjI1LCJvZmZzZXQiOjAsInNvcnQiOiIiLCJzb3J0VHlwZSI6IiIsImNsZWFyUGFyYW1zIjpmYWxzZSwia2V5d29yZCI6IiIsInBhZ2VUaXRsZSI6Imw6UHVlcnRvIFJpY28sIFUuUy5BLiIsInByYWN0aWNlQXJlYXMiOlsiUmFpbHJvYWQgQWNjaWRlbnRzIl19\n"
     ]
    },
    {
     "name": "stderr",
     "output_type": "stream",
     "text": [
      " 22%|██▏       | 47/213 [20:31<1:03:42, 23.03s/it]"
     ]
    },
    {
     "name": "stdout",
     "output_type": "stream",
     "text": [
      "paginas en esta url: 1\n",
      "accediendo a: https://www.martindale.com/search/attorneys-law-firms-articles/?term=Puerto+Rico%2C+USA&params=eyJ0eXBlIjoicGVvcGxlIiwiY29tcGFyZSI6IiIsInRlcm0iOiJQdWVydG8gUmljbywgVVNBIiwiZ2VvTG9jYXRpb25GYWNldCI6WyJQdWVydG8gUmljbywgVS5TLkEuIl0sImdlb0xvY2F0aW9uRmFjZXRSZWNlbnRzIjpbIlB1ZXJ0byBSaWNvLCBVLlMuQS4iXSwicGFnZSI6MSwibGltaXQiOjI1LCJvZmZzZXQiOjAsInNvcnQiOiIiLCJzb3J0VHlwZSI6IiIsImNsZWFyUGFyYW1zIjpmYWxzZSwia2V5d29yZCI6IiIsInBhZ2VUaXRsZSI6Imw6UHVlcnRvIFJpY28sIFUuUy5BLiIsInByYWN0aWNlQXJlYXMiOlsiVHJ1Y2tpbmcgQWNjaWRlbnRzIl19\n",
      "https://www.martindale.com/organization/the-lanier-law-firm-p-c-1340948/houston-texas-1674375-f/?pa=330\n",
      "https://www.martindale.com/attorney/juan-r-rivas-1571311/\n"
     ]
    },
    {
     "name": "stderr",
     "output_type": "stream",
     "text": [
      " 23%|██▎       | 48/213 [20:54<1:03:43, 23.17s/it]"
     ]
    },
    {
     "name": "stdout",
     "output_type": "stream",
     "text": [
      "paginas en esta url: 1\n",
      "accediendo a: https://www.martindale.com/search/attorneys-law-firms-articles/?term=Puerto+Rico%2C+USA&params=eyJ0eXBlIjoicGVvcGxlIiwiY29tcGFyZSI6IiIsInRlcm0iOiJQdWVydG8gUmljbywgVVNBIiwiZ2VvTG9jYXRpb25GYWNldCI6WyJQdWVydG8gUmljbywgVS5TLkEuIl0sImdlb0xvY2F0aW9uRmFjZXRSZWNlbnRzIjpbIlB1ZXJ0byBSaWNvLCBVLlMuQS4iXSwicGFnZSI6MSwibGltaXQiOjI1LCJvZmZzZXQiOjAsInNvcnQiOiIiLCJzb3J0VHlwZSI6IiIsImNsZWFyUGFyYW1zIjpmYWxzZSwia2V5d29yZCI6IiIsInBhZ2VUaXRsZSI6Imw6UHVlcnRvIFJpY28sIFUuUy5BLiIsInByYWN0aWNlQXJlYXMiOlsiTnVyc2luZyBIb21lIExpdGlnYXRpb24iXX0%3D\n",
      "https://www.martindale.com/organization/senior-justice-law-firm-300003419/boca-raton-florida-300004381-f/?pa=275\n",
      "https://www.martindale.com/attorney/pedro-francisco-soler-300324898/\n"
     ]
    },
    {
     "name": "stderr",
     "output_type": "stream",
     "text": [
      " 23%|██▎       | 49/213 [21:20<1:05:05, 23.81s/it]"
     ]
    },
    {
     "name": "stdout",
     "output_type": "stream",
     "text": [
      "paginas en esta url: 2\n",
      "accediendo a: https://www.martindale.com/search/attorneys-law-firms-articles/?term=Puerto+Rico%2C+USA&params=eyJ0eXBlIjoicGVvcGxlIiwiY29tcGFyZSI6IiIsInRlcm0iOiJQdWVydG8gUmljbywgVVNBIiwiZ2VvTG9jYXRpb25GYWNldCI6WyJQdWVydG8gUmljbywgVS5TLkEuIl0sImdlb0xvY2F0aW9uRmFjZXRSZWNlbnRzIjpbIlB1ZXJ0byBSaWNvLCBVLlMuQS4iXSwicGFnZSI6MSwibGltaXQiOjI1LCJvZmZzZXQiOjAsInNvcnQiOiIiLCJzb3J0VHlwZSI6IiIsImNsZWFyUGFyYW1zIjpmYWxzZSwia2V5d29yZCI6IiIsInBhZ2VUaXRsZSI6Imw6UHVlcnRvIFJpY28sIFUuUy5BLiIsInByYWN0aWNlQXJlYXMiOlsiTmF0dXJhbCBSZXNvdXJjZXMiXX0%3D\n",
      "https://www.martindale.com/attorney/milagros-silva-santisteban-25637129/\n",
      "https://www.martindale.com/attorney/maria-del-mar-ortiz-rivera-2477462/\n",
      "https://www.martindale.com/attorney/alexis-d-mattei-1573375/\n",
      "accediendo a: https://www.martindale.com/search/attorneys-law-firms-articles/?term=Puerto+Rico%2C+USA&params=eyJ0eXBlIjoicGVvcGxlIiwiY29tcGFyZSI6IiIsInRlcm0iOiJQdWVydG8gUmljbywgVVNBIiwiZ2VvTG9jYXRpb25GYWNldCI6WyJQdWVydG8gUmljbywgVS5TLkEuIl0sImdlb0xvY2F0aW9uRmFjZXRSZWNlbnRzIjpbIlB1ZXJ0byBSaWNvLCBVLlMuQS4iXSwicGFnZSI6MSwibGltaXQiOjI1LCJvZmZzZXQiOjAsInNvcnQiOiIiLCJzb3J0VHlwZSI6IiIsImNsZWFyUGFyYW1zIjpmYWxzZSwia2V5d29yZCI6IiIsInBhZ2VUaXRsZSI6Imw6UHVlcnRvIFJpY28sIFUuUy5BLiIsInByYWN0aWNlQXJlYXMiOlsiTmF0dXJhbCBSZXNvdXJjZXMiXX0%3D&page=2\n"
     ]
    },
    {
     "name": "stderr",
     "output_type": "stream",
     "text": [
      " 23%|██▎       | 50/213 [21:33<55:52, 20.57s/it]  "
     ]
    },
    {
     "name": "stdout",
     "output_type": "stream",
     "text": [
      "paginas en esta url: 4\n",
      "accediendo a: https://www.martindale.com/search/attorneys-law-firms-articles/?term=Puerto+Rico%2C+USA&params=eyJ0eXBlIjoicGVvcGxlIiwiY29tcGFyZSI6IiIsInRlcm0iOiJQdWVydG8gUmljbywgVVNBIiwiZ2VvTG9jYXRpb25GYWNldCI6WyJQdWVydG8gUmljbywgVS5TLkEuIl0sImdlb0xvY2F0aW9uRmFjZXRSZWNlbnRzIjpbIlB1ZXJ0byBSaWNvLCBVLlMuQS4iXSwicGFnZSI6MSwibGltaXQiOjI1LCJvZmZzZXQiOjAsInNvcnQiOiIiLCJzb3J0VHlwZSI6IiIsImNsZWFyUGFyYW1zIjpmYWxzZSwia2V5d29yZCI6IiIsInBhZ2VUaXRsZSI6Imw6UHVlcnRvIFJpY28sIFUuUy5BLiIsInByYWN0aWNlQXJlYXMiOlsiQWx0ZXJuYXRpdmUgRGlzcHV0ZSBSZXNvbHV0aW9uIl19\n",
      "https://www.martindale.com/attorney/yarymar-gonzalez-carrasquillo-1573634/\n",
      "https://www.martindale.com/attorney/pedro-r-pierluisi-1573604/\n",
      "https://www.martindale.com/attorney/mario-j-pabon-1573591/\n",
      "accediendo a: https://www.martindale.com/search/attorneys-law-firms-articles/?term=Puerto+Rico%2C+USA&params=eyJ0eXBlIjoicGVvcGxlIiwiY29tcGFyZSI6IiIsInRlcm0iOiJQdWVydG8gUmljbywgVVNBIiwiZ2VvTG9jYXRpb25GYWNldCI6WyJQdWVydG8gUmljbywgVS5TLkEuIl0sImdlb0xvY2F0aW9uRmFjZXRSZWNlbnRzIjpbIlB1ZXJ0byBSaWNvLCBVLlMuQS4iXSwicGFnZSI6MSwibGltaXQiOjI1LCJvZmZzZXQiOjAsInNvcnQiOiIiLCJzb3J0VHlwZSI6IiIsImNsZWFyUGFyYW1zIjpmYWxzZSwia2V5d29yZCI6IiIsInBhZ2VUaXRsZSI6Imw6UHVlcnRvIFJpY28sIFUuUy5BLiIsInByYWN0aWNlQXJlYXMiOlsiQWx0ZXJuYXRpdmUgRGlzcHV0ZSBSZXNvbHV0aW9uIl19&page=2\n",
      "https://www.martindale.com/attorney/tatiana-m-grajales-torruella-158583691/\n",
      "https://www.martindale.com/attorney/jose-w-cartagena-1573547/\n",
      "https://www.martindale.com/attorney/carmen-irizarry-de-dominguez-1572559/\n",
      "https://www.martindale.com/attorney/roberto-aparicio-moreno-1242691/\n",
      "accediendo a: https://www.martindale.com/search/attorneys-law-firms-articles/?term=Puerto+Rico%2C+USA&params=eyJ0eXBlIjoicGVvcGxlIiwiY29tcGFyZSI6IiIsInRlcm0iOiJQdWVydG8gUmljbywgVVNBIiwiZ2VvTG9jYXRpb25GYWNldCI6WyJQdWVydG8gUmljbywgVS5TLkEuIl0sImdlb0xvY2F0aW9uRmFjZXRSZWNlbnRzIjpbIlB1ZXJ0byBSaWNvLCBVLlMuQS4iXSwicGFnZSI6MSwibGltaXQiOjI1LCJvZmZzZXQiOjAsInNvcnQiOiIiLCJzb3J0VHlwZSI6IiIsImNsZWFyUGFyYW1zIjpmYWxzZSwia2V5d29yZCI6IiIsInBhZ2VUaXRsZSI6Imw6UHVlcnRvIFJpY28sIFUuUy5BLiIsInByYWN0aWNlQXJlYXMiOlsiQWx0ZXJuYXRpdmUgRGlzcHV0ZSBSZXNvbHV0aW9uIl19&page=3\n",
      "https://www.martindale.com/attorney/luis-j-lopez-valdos-158583429/\n",
      "accediendo a: https://www.martindale.com/search/attorneys-law-firms-articles/?term=Puerto+Rico%2C+USA&params=eyJ0eXBlIjoicGVvcGxlIiwiY29tcGFyZSI6IiIsInRlcm0iOiJQdWVydG8gUmljbywgVVNBIiwiZ2VvTG9jYXRpb25GYWNldCI6WyJQdWVydG8gUmljbywgVS5TLkEuIl0sImdlb0xvY2F0aW9uRmFjZXRSZWNlbnRzIjpbIlB1ZXJ0byBSaWNvLCBVLlMuQS4iXSwicGFnZSI6MSwibGltaXQiOjI1LCJvZmZzZXQiOjAsInNvcnQiOiIiLCJzb3J0VHlwZSI6IiIsImNsZWFyUGFyYW1zIjpmYWxzZSwia2V5d29yZCI6IiIsInBhZ2VUaXRsZSI6Imw6UHVlcnRvIFJpY28sIFUuUy5BLiIsInByYWN0aWNlQXJlYXMiOlsiQWx0ZXJuYXRpdmUgRGlzcHV0ZSBSZXNvbHV0aW9uIl19&page=4\n"
     ]
    },
    {
     "name": "stderr",
     "output_type": "stream",
     "text": [
      " 24%|██▍       | 51/213 [21:47<50:10, 18.58s/it]"
     ]
    },
    {
     "name": "stdout",
     "output_type": "stream",
     "text": [
      "paginas en esta url: 6\n",
      "accediendo a: https://www.martindale.com/search/attorneys-law-firms-articles/?term=Puerto+Rico%2C+USA&params=eyJ0eXBlIjoicGVvcGxlIiwiY29tcGFyZSI6IiIsInRlcm0iOiJQdWVydG8gUmljbywgVVNBIiwiZ2VvTG9jYXRpb25GYWNldCI6WyJQdWVydG8gUmljbywgVS5TLkEuIl0sImdlb0xvY2F0aW9uRmFjZXRSZWNlbnRzIjpbIlB1ZXJ0byBSaWNvLCBVLlMuQS4iXSwicGFnZSI6MSwibGltaXQiOjI1LCJvZmZzZXQiOjAsInNvcnQiOiIiLCJzb3J0VHlwZSI6IiIsImNsZWFyUGFyYW1zIjpmYWxzZSwia2V5d29yZCI6IiIsInBhZ2VUaXRsZSI6Imw6UHVlcnRvIFJpY28sIFUuUy5BLiIsInByYWN0aWNlQXJlYXMiOlsiRmluYW5jZSJdfQ%3D%3D\n",
      "https://www.martindale.com/attorney/leonor-m-aguilar-guerrero-1573289/\n",
      "https://www.martindale.com/attorney/rene-vazquez-rivera-3707901/\n",
      "https://www.martindale.com/attorney/manuel-e-del-valle-3058218/\n",
      "https://www.martindale.com/attorney/aurelio-emanuelli-belaval-1572481/\n",
      "https://www.martindale.com/attorney/miguel-agustin-blanco-fuertes-1572528/\n",
      "https://www.martindale.com/attorney/laura-m-santana-mieres-33637423/\n",
      "https://www.martindale.com/attorney/carlos-lamoutte-navas-4376026/\n",
      "https://www.martindale.com/attorney/joseorlando-mercado-gely-26740249/\n",
      "https://www.martindale.com/attorney/rebeca-vargas-ruiz-1572856/\n",
      "https://www.martindale.com/attorney/miriam-de-lourdes-figueroa-13986964/\n",
      "https://www.martindale.com/attorney/lizzie-m-portela-fernandez-17103385/\n",
      "https://www.martindale.com/attorney/criselyris-melendez-ronda-2091388/\n",
      "https://www.martindale.com/attorney/luis-a-hernandez-vivoni-1572189/\n",
      "https://www.martindale.com/attorney/manuel-correa-calzada-1572275/\n",
      "https://www.martindale.com/attorney/jorge-a-rivera-febres-3058220/\n",
      "https://www.martindale.com/attorney/teresa-jimenez-melendez-1573472/\n",
      "https://www.martindale.com/attorney/martin-pirillo-favot-3568853/\n",
      "accediendo a: https://www.martindale.com/search/attorneys-law-firms-articles/?term=Puerto+Rico%2C+USA&params=eyJ0eXBlIjoicGVvcGxlIiwiY29tcGFyZSI6IiIsInRlcm0iOiJQdWVydG8gUmljbywgVVNBIiwiZ2VvTG9jYXRpb25GYWNldCI6WyJQdWVydG8gUmljbywgVS5TLkEuIl0sImdlb0xvY2F0aW9uRmFjZXRSZWNlbnRzIjpbIlB1ZXJ0byBSaWNvLCBVLlMuQS4iXSwicGFnZSI6MSwibGltaXQiOjI1LCJvZmZzZXQiOjAsInNvcnQiOiIiLCJzb3J0VHlwZSI6IiIsImNsZWFyUGFyYW1zIjpmYWxzZSwia2V5d29yZCI6IiIsInBhZ2VUaXRsZSI6Imw6UHVlcnRvIFJpY28sIFUuUy5BLiIsInByYWN0aWNlQXJlYXMiOlsiRmluYW5jZSJdfQ%3D%3D&page=2\n",
      "https://www.martindale.com/attorney/eugenio-j-huot-calderon-1573334/\n",
      "https://www.martindale.com/attorney/jose-c-sanchez-castro-1572764/\n",
      "https://www.martindale.com/attorney/victor-r-nunez-arco-1572779/\n",
      "https://www.martindale.com/attorney/maria-cristina-mena-3954812/\n",
      "https://www.martindale.com/attorney/rafael-a-santos-del-valle-1574043/\n",
      "https://www.martindale.com/attorney/salvador-f-casellas-1573240/\n",
      "https://www.martindale.com/attorney/melba-i-acosta-febo-1573368/\n",
      "https://www.martindale.com/attorney/rogelio-i-guzman-lloveras-1572308/\n",
      "https://www.martindale.com/attorney/juan-ramon-rodriguez-martinez-2315414/\n",
      "https://www.martindale.com/attorney/maria-cristina-salas-diaz-3954251/\n",
      "https://www.martindale.com/attorney/carlos-santiago-sarkis-1572167/\n",
      "https://www.martindale.com/attorney/frances-a-ruiz-saldana-2057196/\n",
      "https://www.martindale.com/attorney/jorge-perez-casillas-2014511/\n",
      "https://www.martindale.com/attorney/fernando-l-berio-muniz-3807363/\n",
      "https://www.martindale.com/attorney/ernesto-a-melendez-perez-1573462/\n",
      "https://www.martindale.com/attorney/frederick-j-baraga-huyke-4217608/\n",
      "accediendo a: https://www.martindale.com/search/attorneys-law-firms-articles/?term=Puerto+Rico%2C+USA&params=eyJ0eXBlIjoicGVvcGxlIiwiY29tcGFyZSI6IiIsInRlcm0iOiJQdWVydG8gUmljbywgVVNBIiwiZ2VvTG9jYXRpb25GYWNldCI6WyJQdWVydG8gUmljbywgVS5TLkEuIl0sImdlb0xvY2F0aW9uRmFjZXRSZWNlbnRzIjpbIlB1ZXJ0byBSaWNvLCBVLlMuQS4iXSwicGFnZSI6MSwibGltaXQiOjI1LCJvZmZzZXQiOjAsInNvcnQiOiIiLCJzb3J0VHlwZSI6IiIsImNsZWFyUGFyYW1zIjpmYWxzZSwia2V5d29yZCI6IiIsInBhZ2VUaXRsZSI6Imw6UHVlcnRvIFJpY28sIFUuUy5BLiIsInByYWN0aWNlQXJlYXMiOlsiRmluYW5jZSJdfQ%3D%3D&page=3\n",
      "https://www.martindale.com/attorney/salomon-chiquiar-rabinovich-1573376/\n",
      "https://www.martindale.com/attorney/pedro-morell-1572803/\n",
      "https://www.martindale.com/attorney/yesef-yair-cordero-1573629/\n",
      "https://www.martindale.com/attorney/frederick-e-hulser-1573225/\n",
      "https://www.martindale.com/attorney/francisco-gonzalez-nieto-1572578/\n",
      "https://www.martindale.com/attorney/antonio-santos-1573403/\n",
      "https://www.martindale.com/attorney/alejandro-j-figueroa-2663344/\n",
      "https://www.martindale.com/attorney/joshua-t-andujar-1572375/\n",
      "https://www.martindale.com/attorney/ruben-m-medina-lugo-1571996/\n",
      "https://www.martindale.com/attorney/bianca-a-landron-28828276/\n",
      "https://www.martindale.com/attorney/luis-morales-steinmann-1572142/\n",
      "https://www.martindale.com/attorney/noel-vera-ramirez-1572783/\n",
      "https://www.martindale.com/attorney/ramon-e-davila-carlos-1571871/\n",
      "accediendo a: https://www.martindale.com/search/attorneys-law-firms-articles/?term=Puerto+Rico%2C+USA&params=eyJ0eXBlIjoicGVvcGxlIiwiY29tcGFyZSI6IiIsInRlcm0iOiJQdWVydG8gUmljbywgVVNBIiwiZ2VvTG9jYXRpb25GYWNldCI6WyJQdWVydG8gUmljbywgVS5TLkEuIl0sImdlb0xvY2F0aW9uRmFjZXRSZWNlbnRzIjpbIlB1ZXJ0byBSaWNvLCBVLlMuQS4iXSwicGFnZSI6MSwibGltaXQiOjI1LCJvZmZzZXQiOjAsInNvcnQiOiIiLCJzb3J0VHlwZSI6IiIsImNsZWFyUGFyYW1zIjpmYWxzZSwia2V5d29yZCI6IiIsInBhZ2VUaXRsZSI6Imw6UHVlcnRvIFJpY28sIFUuUy5BLiIsInByYWN0aWNlQXJlYXMiOlsiRmluYW5jZSJdfQ%3D%3D&page=4\n",
      "https://www.martindale.com/attorney/ramon-moran-loubriel-1573463/\n",
      "https://www.martindale.com/attorney/gustavo-j-umpierre-ponton-1572190/\n",
      "https://www.martindale.com/attorney/arturo-diaz-abramo-36802266/\n",
      "https://www.martindale.com/attorney/manuel-r-pietrantoni-1573399/\n",
      "https://www.martindale.com/attorney/javier-a-feliciano-guzman-1572580/\n",
      "https://www.martindale.com/attorney/alberto-luis-toro-suarez-1572519/\n",
      "https://www.martindale.com/attorney/jose-b-diaz-asencio-1572170/\n",
      "https://www.martindale.com/attorney/antonio-r-molina-machargo-2170177/\n",
      "https://www.martindale.com/attorney/pedro-morell-157379927/\n",
      "https://www.martindale.com/attorney/julio-pietrantoni-arce-1573197/\n",
      "https://www.martindale.com/attorney/alfredo-alvarez-ibanez-1573615/\n",
      "https://www.martindale.com/attorney/cesar-vazquez-morales-1572539/\n",
      "https://www.martindale.com/attorney/edgar-f-balzac-1572581/\n",
      "https://www.martindale.com/attorney/marie-christine-amy-2144269/\n",
      "accediendo a: https://www.martindale.com/search/attorneys-law-firms-articles/?term=Puerto+Rico%2C+USA&params=eyJ0eXBlIjoicGVvcGxlIiwiY29tcGFyZSI6IiIsInRlcm0iOiJQdWVydG8gUmljbywgVVNBIiwiZ2VvTG9jYXRpb25GYWNldCI6WyJQdWVydG8gUmljbywgVS5TLkEuIl0sImdlb0xvY2F0aW9uRmFjZXRSZWNlbnRzIjpbIlB1ZXJ0byBSaWNvLCBVLlMuQS4iXSwicGFnZSI6MSwibGltaXQiOjI1LCJvZmZzZXQiOjAsInNvcnQiOiIiLCJzb3J0VHlwZSI6IiIsImNsZWFyUGFyYW1zIjpmYWxzZSwia2V5d29yZCI6IiIsInBhZ2VUaXRsZSI6Imw6UHVlcnRvIFJpY28sIFUuUy5BLiIsInByYWN0aWNlQXJlYXMiOlsiRmluYW5jZSJdfQ%3D%3D&page=5\n",
      "https://www.martindale.com/attorney/omar-a-jimenez-2057202/\n",
      "https://www.martindale.com/attorney/lawrence-odell-1572135/\n",
      "https://www.martindale.com/attorney/juan-carlos-albors-1573374/\n",
      "https://www.martindale.com/attorney/aida-barrios-castellanos-1572842/\n",
      "https://www.martindale.com/attorney/jose-alberto-sosa-llorens-1572524/\n",
      "https://www.martindale.com/attorney/ivan-m-alers-42532572/\n",
      "https://www.martindale.com/attorney/pedro-a-cantero-frau-1572499/\n",
      "https://www.martindale.com/attorney/eduardo-j-arias-1573409/\n",
      "https://www.martindale.com/attorney/omar-cancio-martinez-1573930/\n",
      "https://www.martindale.com/attorney/ana-t-ruiz-comas-1572000/\n",
      "https://www.martindale.com/attorney/geoffrey-m-woods-1574171/\n",
      "https://www.martindale.com/attorney/tamara-pagan-ortega-3800390/\n",
      "https://www.martindale.com/attorney/claudia-g-motta-velez-3954603/\n",
      "https://www.martindale.com/attorney/ruben-e-berrios-falcon-1572209/\n",
      "https://www.martindale.com/attorney/minerva-i-centeno-rossy-1572526/\n",
      "https://www.martindale.com/attorney/jose-r-cacho-1573594/\n",
      "accediendo a: https://www.martindale.com/search/attorneys-law-firms-articles/?term=Puerto+Rico%2C+USA&params=eyJ0eXBlIjoicGVvcGxlIiwiY29tcGFyZSI6IiIsInRlcm0iOiJQdWVydG8gUmljbywgVVNBIiwiZ2VvTG9jYXRpb25GYWNldCI6WyJQdWVydG8gUmljbywgVS5TLkEuIl0sImdlb0xvY2F0aW9uRmFjZXRSZWNlbnRzIjpbIlB1ZXJ0byBSaWNvLCBVLlMuQS4iXSwicGFnZSI6MSwibGltaXQiOjI1LCJvZmZzZXQiOjAsInNvcnQiOiIiLCJzb3J0VHlwZSI6IiIsImNsZWFyUGFyYW1zIjpmYWxzZSwia2V5d29yZCI6IiIsInBhZ2VUaXRsZSI6Imw6UHVlcnRvIFJpY28sIFUuUy5BLiIsInByYWN0aWNlQXJlYXMiOlsiRmluYW5jZSJdfQ%3D%3D&page=6\n",
      "https://www.martindale.com/attorney/jose-r-jimenez-del-valle-1572509/\n",
      "https://www.martindale.com/attorney/suyon-yi-479006/\n",
      "https://www.martindale.com/attorney/javier-e-ferrer-canals-1572147/\n",
      "https://www.martindale.com/attorney/patricia-ramirez-gelpi-3125873/\n",
      "https://www.martindale.com/attorney/juan-carlos-mendez-30450122/\n",
      "https://www.martindale.com/attorney/jaime-santos-1573407/\n",
      "https://www.martindale.com/attorney/jorge-l-covas-mendoza-1572178/\n",
      "https://www.martindale.com/attorney/arline-v-bauza-figueroa-1572518/\n",
      "https://www.martindale.com/attorney/ignacio-alvarez-1573401/\n",
      "https://www.martindale.com/attorney/maria-teresa-rigau-escudero-1572226/\n"
     ]
    },
    {
     "name": "stderr",
     "output_type": "stream",
     "text": [
      " 24%|██▍       | 52/213 [22:03<48:20, 18.01s/it]"
     ]
    },
    {
     "name": "stdout",
     "output_type": "stream",
     "text": [
      "paginas en esta url: 1\n",
      "accediendo a: https://www.martindale.com/search/attorneys-law-firms-articles/?term=Puerto+Rico%2C+USA&params=eyJ0eXBlIjoicGVvcGxlIiwiY29tcGFyZSI6IiIsInRlcm0iOiJQdWVydG8gUmljbywgVVNBIiwiZ2VvTG9jYXRpb25GYWNldCI6WyJQdWVydG8gUmljbywgVS5TLkEuIl0sImdlb0xvY2F0aW9uRmFjZXRSZWNlbnRzIjpbIlB1ZXJ0byBSaWNvLCBVLlMuQS4iXSwicGFnZSI6MSwibGltaXQiOjI1LCJvZmZzZXQiOjAsInNvcnQiOiIiLCJzb3J0VHlwZSI6IiIsImNsZWFyUGFyYW1zIjpmYWxzZSwia2V5d29yZCI6IiIsInBhZ2VUaXRsZSI6Imw6UHVlcnRvIFJpY28sIFUuUy5BLiIsInByYWN0aWNlQXJlYXMiOlsiVmlzaXRhdGlvbiBSaWdodHMiXX0%3D\n"
     ]
    },
    {
     "name": "stderr",
     "output_type": "stream",
     "text": [
      " 25%|██▍       | 53/213 [22:28<53:00, 19.88s/it]"
     ]
    },
    {
     "name": "stdout",
     "output_type": "stream",
     "text": [
      "paginas en esta url: 1\n",
      "accediendo a: https://www.martindale.com/search/attorneys-law-firms-articles/?term=Puerto+Rico%2C+USA&params=eyJ0eXBlIjoicGVvcGxlIiwiY29tcGFyZSI6IiIsInRlcm0iOiJQdWVydG8gUmljbywgVVNBIiwiZ2VvTG9jYXRpb25GYWNldCI6WyJQdWVydG8gUmljbywgVS5TLkEuIl0sImdlb0xvY2F0aW9uRmFjZXRSZWNlbnRzIjpbIlB1ZXJ0byBSaWNvLCBVLlMuQS4iXSwicGFnZSI6MSwibGltaXQiOjI1LCJvZmZzZXQiOjAsInNvcnQiOiIiLCJzb3J0VHlwZSI6IiIsImNsZWFyUGFyYW1zIjpmYWxzZSwia2V5d29yZCI6IiIsInBhZ2VUaXRsZSI6Imw6UHVlcnRvIFJpY28sIFUuUy5BLiIsInByYWN0aWNlQXJlYXMiOlsiUmVzaWRlbnRpYWwgUmVhbCBFc3RhdGUiXX0%3D\n",
      "https://www.martindale.com/attorney/juan-c-galanes-valldejuli-1573144/\n"
     ]
    },
    {
     "name": "stderr",
     "output_type": "stream",
     "text": [
      " 25%|██▌       | 54/213 [22:51<55:39, 21.00s/it]"
     ]
    },
    {
     "name": "stdout",
     "output_type": "stream",
     "text": [
      "paginas en esta url: 1\n",
      "accediendo a: https://www.martindale.com/search/attorneys-law-firms-articles/?term=Puerto+Rico%2C+USA&params=eyJ0eXBlIjoicGVvcGxlIiwiY29tcGFyZSI6IiIsInRlcm0iOiJQdWVydG8gUmljbywgVVNBIiwiZ2VvTG9jYXRpb25GYWNldCI6WyJQdWVydG8gUmljbywgVS5TLkEuIl0sImdlb0xvY2F0aW9uRmFjZXRSZWNlbnRzIjpbIlB1ZXJ0byBSaWNvLCBVLlMuQS4iXSwicGFnZSI6MSwibGltaXQiOjI1LCJvZmZzZXQiOjAsInNvcnQiOiIiLCJzb3J0VHlwZSI6IiIsImNsZWFyUGFyYW1zIjpmYWxzZSwia2V5d29yZCI6IiIsInBhZ2VUaXRsZSI6Imw6UHVlcnRvIFJpY28sIFUuUy5BLiIsInByYWN0aWNlQXJlYXMiOlsiQ2l0aXplbnNoaXAiXX0%3D\n",
      "https://www.martindale.com/attorney/alexandre-a-afanassiev-3711880/\n",
      "https://www.martindale.com/attorney/albieli-carrasquillo-torres-1572720/\n"
     ]
    },
    {
     "name": "stderr",
     "output_type": "stream",
     "text": [
      " 26%|██▌       | 55/213 [23:15<57:26, 21.81s/it]"
     ]
    },
    {
     "name": "stdout",
     "output_type": "stream",
     "text": [
      "paginas en esta url: 1\n",
      "accediendo a: https://www.martindale.com/search/attorneys-law-firms-articles/?term=Puerto+Rico%2C+USA&params=eyJ0eXBlIjoicGVvcGxlIiwiY29tcGFyZSI6IiIsInRlcm0iOiJQdWVydG8gUmljbywgVVNBIiwiZ2VvTG9jYXRpb25GYWNldCI6WyJQdWVydG8gUmljbywgVS5TLkEuIl0sImdlb0xvY2F0aW9uRmFjZXRSZWNlbnRzIjpbIlB1ZXJ0byBSaWNvLCBVLlMuQS4iXSwicGFnZSI6MSwibGltaXQiOjI1LCJvZmZzZXQiOjAsInNvcnQiOiIiLCJzb3J0VHlwZSI6IiIsImNsZWFyUGFyYW1zIjpmYWxzZSwia2V5d29yZCI6IiIsInBhZ2VUaXRsZSI6Imw6UHVlcnRvIFJpY28sIFUuUy5BLiIsInByYWN0aWNlQXJlYXMiOlsiUG9saWNlIE1pc2NvbmR1Y3QiXX0%3D\n"
     ]
    },
    {
     "name": "stderr",
     "output_type": "stream",
     "text": [
      " 26%|██▋       | 56/213 [23:40<59:37, 22.78s/it]"
     ]
    },
    {
     "name": "stdout",
     "output_type": "stream",
     "text": [
      "paginas en esta url: 5\n",
      "accediendo a: https://www.martindale.com/search/attorneys-law-firms-articles/?term=Puerto+Rico%2C+USA&params=eyJ0eXBlIjoicGVvcGxlIiwiY29tcGFyZSI6IiIsInRlcm0iOiJQdWVydG8gUmljbywgVVNBIiwiZ2VvTG9jYXRpb25GYWNldCI6WyJQdWVydG8gUmljbywgVS5TLkEuIl0sImdlb0xvY2F0aW9uRmFjZXRSZWNlbnRzIjpbIlB1ZXJ0byBSaWNvLCBVLlMuQS4iXSwicGFnZSI6MSwibGltaXQiOjI1LCJvZmZzZXQiOjAsInNvcnQiOiIiLCJzb3J0VHlwZSI6IiIsImNsZWFyUGFyYW1zIjpmYWxzZSwia2V5d29yZCI6IiIsInBhZ2VUaXRsZSI6Imw6UHVlcnRvIFJpY28sIFUuUy5BLiIsInByYWN0aWNlQXJlYXMiOlsiRGVidG9yIGFuZCBDcmVkaXRvciJdfQ%3D%3D\n",
      "https://www.martindale.com/attorney/judith-santiago-medina-300943500/\n",
      "accediendo a: https://www.martindale.com/search/attorneys-law-firms-articles/?term=Puerto+Rico%2C+USA&params=eyJ0eXBlIjoicGVvcGxlIiwiY29tcGFyZSI6IiIsInRlcm0iOiJQdWVydG8gUmljbywgVVNBIiwiZ2VvTG9jYXRpb25GYWNldCI6WyJQdWVydG8gUmljbywgVS5TLkEuIl0sImdlb0xvY2F0aW9uRmFjZXRSZWNlbnRzIjpbIlB1ZXJ0byBSaWNvLCBVLlMuQS4iXSwicGFnZSI6MSwibGltaXQiOjI1LCJvZmZzZXQiOjAsInNvcnQiOiIiLCJzb3J0VHlwZSI6IiIsImNsZWFyUGFyYW1zIjpmYWxzZSwia2V5d29yZCI6IiIsInBhZ2VUaXRsZSI6Imw6UHVlcnRvIFJpY28sIFUuUy5BLiIsInByYWN0aWNlQXJlYXMiOlsiRGVidG9yIGFuZCBDcmVkaXRvciJdfQ%3D%3D&page=2\n",
      "https://www.martindale.com/attorney/gilda-del-c-cruz-martino-1572695/\n",
      "https://www.martindale.com/attorney/nerisvel-c-duran-guzman-1572717/\n",
      "https://www.martindale.com/attorney/ana-m-rodriguez-rivera-168322622/\n",
      "accediendo a: https://www.martindale.com/search/attorneys-law-firms-articles/?term=Puerto+Rico%2C+USA&params=eyJ0eXBlIjoicGVvcGxlIiwiY29tcGFyZSI6IiIsInRlcm0iOiJQdWVydG8gUmljbywgVVNBIiwiZ2VvTG9jYXRpb25GYWNldCI6WyJQdWVydG8gUmljbywgVS5TLkEuIl0sImdlb0xvY2F0aW9uRmFjZXRSZWNlbnRzIjpbIlB1ZXJ0byBSaWNvLCBVLlMuQS4iXSwicGFnZSI6MSwibGltaXQiOjI1LCJvZmZzZXQiOjAsInNvcnQiOiIiLCJzb3J0VHlwZSI6IiIsImNsZWFyUGFyYW1zIjpmYWxzZSwia2V5d29yZCI6IiIsInBhZ2VUaXRsZSI6Imw6UHVlcnRvIFJpY28sIFUuUy5BLiIsInByYWN0aWNlQXJlYXMiOlsiRGVidG9yIGFuZCBDcmVkaXRvciJdfQ%3D%3D&page=3\n",
      "https://www.martindale.com/attorney/ivan-a-ramos-1573868/\n",
      "accediendo a: https://www.martindale.com/search/attorneys-law-firms-articles/?term=Puerto+Rico%2C+USA&params=eyJ0eXBlIjoicGVvcGxlIiwiY29tcGFyZSI6IiIsInRlcm0iOiJQdWVydG8gUmljbywgVVNBIiwiZ2VvTG9jYXRpb25GYWNldCI6WyJQdWVydG8gUmljbywgVS5TLkEuIl0sImdlb0xvY2F0aW9uRmFjZXRSZWNlbnRzIjpbIlB1ZXJ0byBSaWNvLCBVLlMuQS4iXSwicGFnZSI6MSwibGltaXQiOjI1LCJvZmZzZXQiOjAsInNvcnQiOiIiLCJzb3J0VHlwZSI6IiIsImNsZWFyUGFyYW1zIjpmYWxzZSwia2V5d29yZCI6IiIsInBhZ2VUaXRsZSI6Imw6UHVlcnRvIFJpY28sIFUuUy5BLiIsInByYWN0aWNlQXJlYXMiOlsiRGVidG9yIGFuZCBDcmVkaXRvciJdfQ%3D%3D&page=4\n",
      "https://www.martindale.com/attorney/fernando-j-valderrabano-marina-1573859/\n",
      "accediendo a: https://www.martindale.com/search/attorneys-law-firms-articles/?term=Puerto+Rico%2C+USA&params=eyJ0eXBlIjoicGVvcGxlIiwiY29tcGFyZSI6IiIsInRlcm0iOiJQdWVydG8gUmljbywgVVNBIiwiZ2VvTG9jYXRpb25GYWNldCI6WyJQdWVydG8gUmljbywgVS5TLkEuIl0sImdlb0xvY2F0aW9uRmFjZXRSZWNlbnRzIjpbIlB1ZXJ0byBSaWNvLCBVLlMuQS4iXSwicGFnZSI6MSwibGltaXQiOjI1LCJvZmZzZXQiOjAsInNvcnQiOiIiLCJzb3J0VHlwZSI6IiIsImNsZWFyUGFyYW1zIjpmYWxzZSwia2V5d29yZCI6IiIsInBhZ2VUaXRsZSI6Imw6UHVlcnRvIFJpY28sIFUuUy5BLiIsInByYWN0aWNlQXJlYXMiOlsiRGVidG9yIGFuZCBDcmVkaXRvciJdfQ%3D%3D&page=5\n"
     ]
    },
    {
     "name": "stderr",
     "output_type": "stream",
     "text": [
      " 27%|██▋       | 57/213 [23:56<54:06, 20.81s/it]"
     ]
    },
    {
     "name": "stdout",
     "output_type": "stream",
     "text": [
      "paginas en esta url: 1\n",
      "accediendo a: https://www.martindale.com/search/attorneys-law-firms-articles/?term=Puerto+Rico%2C+USA&params=eyJ0eXBlIjoicGVvcGxlIiwiY29tcGFyZSI6IiIsInRlcm0iOiJQdWVydG8gUmljbywgVVNBIiwiZ2VvTG9jYXRpb25GYWNldCI6WyJQdWVydG8gUmljbywgVS5TLkEuIl0sImdlb0xvY2F0aW9uRmFjZXRSZWNlbnRzIjpbIlB1ZXJ0byBSaWNvLCBVLlMuQS4iXSwicGFnZSI6MSwibGltaXQiOjI1LCJvZmZzZXQiOjAsInNvcnQiOiIiLCJzb3J0VHlwZSI6IiIsImNsZWFyUGFyYW1zIjpmYWxzZSwia2V5d29yZCI6IiIsInBhZ2VUaXRsZSI6Imw6UHVlcnRvIFJpY28sIFUuUy5BLiIsInByYWN0aWNlQXJlYXMiOlsiQWdyaWN1bHR1cmFsIExhdyJdfQ%3D%3D\n"
     ]
    },
    {
     "name": "stderr",
     "output_type": "stream",
     "text": [
      " 27%|██▋       | 58/213 [24:21<57:07, 22.11s/it]"
     ]
    },
    {
     "name": "stdout",
     "output_type": "stream",
     "text": [
      "paginas en esta url: 1\n",
      "accediendo a: https://www.martindale.com/search/attorneys-law-firms-articles/?term=Puerto+Rico%2C+USA&params=eyJ0eXBlIjoicGVvcGxlIiwiY29tcGFyZSI6IiIsInRlcm0iOiJQdWVydG8gUmljbywgVVNBIiwiZ2VvTG9jYXRpb25GYWNldCI6WyJQdWVydG8gUmljbywgVS5TLkEuIl0sImdlb0xvY2F0aW9uRmFjZXRSZWNlbnRzIjpbIlB1ZXJ0byBSaWNvLCBVLlMuQS4iXSwicGFnZSI6MSwibGltaXQiOjI1LCJvZmZzZXQiOjAsInNvcnQiOiIiLCJzb3J0VHlwZSI6IiIsImNsZWFyUGFyYW1zIjpmYWxzZSwia2V5d29yZCI6IiIsInBhZ2VUaXRsZSI6Imw6UHVlcnRvIFJpY28sIFUuUy5BLiIsInByYWN0aWNlQXJlYXMiOlsiTWluaW5nIGFuZCBNaW5lcmFscyJdfQ%3D%3D\n"
     ]
    },
    {
     "name": "stderr",
     "output_type": "stream",
     "text": [
      " 28%|██▊       | 59/213 [24:44<57:09, 22.27s/it]"
     ]
    },
    {
     "name": "stdout",
     "output_type": "stream",
     "text": [
      "paginas en esta url: 1\n",
      "accediendo a: https://www.martindale.com/search/attorneys-law-firms-articles/?term=Puerto+Rico%2C+USA&params=eyJ0eXBlIjoicGVvcGxlIiwiY29tcGFyZSI6IiIsInRlcm0iOiJQdWVydG8gUmljbywgVVNBIiwiZ2VvTG9jYXRpb25GYWNldCI6WyJQdWVydG8gUmljbywgVS5TLkEuIl0sImdlb0xvY2F0aW9uRmFjZXRSZWNlbnRzIjpbIlB1ZXJ0byBSaWNvLCBVLlMuQS4iXSwicGFnZSI6MSwibGltaXQiOjI1LCJvZmZzZXQiOjAsInNvcnQiOiIiLCJzb3J0VHlwZSI6IiIsImNsZWFyUGFyYW1zIjpmYWxzZSwia2V5d29yZCI6IiIsInBhZ2VUaXRsZSI6Imw6UHVlcnRvIFJpY28sIFUuUy5BLiIsInByYWN0aWNlQXJlYXMiOlsiVG94aWMgVG9ydHMiXX0%3D\n",
      "https://www.martindale.com/attorney/gustavo-a-gelpi-1572437/\n"
     ]
    },
    {
     "name": "stderr",
     "output_type": "stream",
     "text": [
      " 28%|██▊       | 60/213 [25:08<58:30, 22.94s/it]"
     ]
    },
    {
     "name": "stdout",
     "output_type": "stream",
     "text": [
      "paginas en esta url: 1\n",
      "accediendo a: https://www.martindale.com/search/attorneys-law-firms-articles/?term=Puerto+Rico%2C+USA&params=eyJ0eXBlIjoicGVvcGxlIiwiY29tcGFyZSI6IiIsInRlcm0iOiJQdWVydG8gUmljbywgVVNBIiwiZ2VvTG9jYXRpb25GYWNldCI6WyJQdWVydG8gUmljbywgVS5TLkEuIl0sImdlb0xvY2F0aW9uRmFjZXRSZWNlbnRzIjpbIlB1ZXJ0byBSaWNvLCBVLlMuQS4iXSwicGFnZSI6MSwibGltaXQiOjI1LCJvZmZzZXQiOjAsInNvcnQiOiIiLCJzb3J0VHlwZSI6IiIsImNsZWFyUGFyYW1zIjpmYWxzZSwia2V5d29yZCI6IiIsInBhZ2VUaXRsZSI6Imw6UHVlcnRvIFJpY28sIFUuUy5BLiIsInByYWN0aWNlQXJlYXMiOlsiQ3VzdG9tcyBMYXciXX0%3D\n",
      "https://www.martindale.com/attorney/rogelio-munoz-jr-1572607/\n",
      "https://www.martindale.com/attorney/jose-a-molina-cacho-1572643/\n"
     ]
    },
    {
     "name": "stderr",
     "output_type": "stream",
     "text": [
      " 29%|██▊       | 61/213 [25:34<59:46, 23.60s/it]"
     ]
    },
    {
     "name": "stdout",
     "output_type": "stream",
     "text": [
      "paginas en esta url: 1\n",
      "accediendo a: https://www.martindale.com/search/attorneys-law-firms-articles/?term=Puerto+Rico%2C+USA&params=eyJ0eXBlIjoicGVvcGxlIiwiY29tcGFyZSI6IiIsInRlcm0iOiJQdWVydG8gUmljbywgVVNBIiwiZ2VvTG9jYXRpb25GYWNldCI6WyJQdWVydG8gUmljbywgVS5TLkEuIl0sImdlb0xvY2F0aW9uRmFjZXRSZWNlbnRzIjpbIlB1ZXJ0byBSaWNvLCBVLlMuQS4iXSwicGFnZSI6MSwibGltaXQiOjI1LCJvZmZzZXQiOjAsInNvcnQiOiIiLCJzb3J0VHlwZSI6IiIsImNsZWFyUGFyYW1zIjpmYWxzZSwia2V5d29yZCI6IiIsInBhZ2VUaXRsZSI6Imw6UHVlcnRvIFJpY28sIFUuUy5BLiIsInByYWN0aWNlQXJlYXMiOlsiV29yayBQZXJtaXRzIl19\n"
     ]
    },
    {
     "name": "stderr",
     "output_type": "stream",
     "text": [
      " 29%|██▉       | 62/213 [25:58<1:00:16, 23.95s/it]"
     ]
    },
    {
     "name": "stdout",
     "output_type": "stream",
     "text": [
      "paginas en esta url: 2\n",
      "accediendo a: https://www.martindale.com/search/attorneys-law-firms-articles/?term=Puerto+Rico%2C+USA&params=eyJ0eXBlIjoicGVvcGxlIiwiY29tcGFyZSI6IiIsInRlcm0iOiJQdWVydG8gUmljbywgVVNBIiwiZ2VvTG9jYXRpb25GYWNldCI6WyJQdWVydG8gUmljbywgVS5TLkEuIl0sImdlb0xvY2F0aW9uRmFjZXRSZWNlbnRzIjpbIlB1ZXJ0byBSaWNvLCBVLlMuQS4iXSwicGFnZSI6MSwibGltaXQiOjI1LCJvZmZzZXQiOjAsInNvcnQiOiIiLCJzb3J0VHlwZSI6IiIsImNsZWFyUGFyYW1zIjpmYWxzZSwia2V5d29yZCI6IiIsInBhZ2VUaXRsZSI6Imw6UHVlcnRvIFJpY28sIFUuUy5BLiIsInByYWN0aWNlQXJlYXMiOlsiR292ZXJubWVudCBDb250cmFjdHMiXX0%3D\n",
      "https://www.martindale.com/attorney/larissa-maldonado-1573637/\n",
      "https://www.martindale.com/attorney/dirma-m-valentin-capeles-1572546/\n",
      "accediendo a: https://www.martindale.com/search/attorneys-law-firms-articles/?term=Puerto+Rico%2C+USA&params=eyJ0eXBlIjoicGVvcGxlIiwiY29tcGFyZSI6IiIsInRlcm0iOiJQdWVydG8gUmljbywgVVNBIiwiZ2VvTG9jYXRpb25GYWNldCI6WyJQdWVydG8gUmljbywgVS5TLkEuIl0sImdlb0xvY2F0aW9uRmFjZXRSZWNlbnRzIjpbIlB1ZXJ0byBSaWNvLCBVLlMuQS4iXSwicGFnZSI6MSwibGltaXQiOjI1LCJvZmZzZXQiOjAsInNvcnQiOiIiLCJzb3J0VHlwZSI6IiIsImNsZWFyUGFyYW1zIjpmYWxzZSwia2V5d29yZCI6IiIsInBhZ2VUaXRsZSI6Imw6UHVlcnRvIFJpY28sIFUuUy5BLiIsInByYWN0aWNlQXJlYXMiOlsiR292ZXJubWVudCBDb250cmFjdHMiXX0%3D&page=2\n"
     ]
    },
    {
     "name": "stderr",
     "output_type": "stream",
     "text": [
      " 30%|██▉       | 63/213 [26:12<51:46, 20.71s/it]  "
     ]
    },
    {
     "name": "stdout",
     "output_type": "stream",
     "text": [
      "paginas en esta url: 14\n",
      "accediendo a: https://www.martindale.com/search/attorneys-law-firms-articles/?term=Puerto+Rico%2C+USA&params=eyJ0eXBlIjoicGVvcGxlIiwiY29tcGFyZSI6IiIsInRlcm0iOiJQdWVydG8gUmljbywgVVNBIiwiZ2VvTG9jYXRpb25GYWNldCI6WyJQdWVydG8gUmljbywgVS5TLkEuIl0sImdlb0xvY2F0aW9uRmFjZXRSZWNlbnRzIjpbIlB1ZXJ0byBSaWNvLCBVLlMuQS4iXSwicGFnZSI6MSwibGltaXQiOjI1LCJvZmZzZXQiOjAsInNvcnQiOiIiLCJzb3J0VHlwZSI6IiIsImNsZWFyUGFyYW1zIjpmYWxzZSwia2V5d29yZCI6IiIsInBhZ2VUaXRsZSI6Imw6UHVlcnRvIFJpY28sIFUuUy5BLiIsInByYWN0aWNlQXJlYXMiOlsiQ29tbWVyY2lhbCBMaXRpZ2F0aW9uIl19\n",
      "https://www.martindale.com/attorney/steven-c-lausell-1572954/\n",
      "https://www.martindale.com/attorney/maria-fernanda-velez-pastrana-1573353/\n",
      "https://www.martindale.com/attorney/miguel-e-gierbolini-gierbolini-1573621/\n",
      "accediendo a: https://www.martindale.com/search/attorneys-law-firms-articles/?term=Puerto+Rico%2C+USA&params=eyJ0eXBlIjoicGVvcGxlIiwiY29tcGFyZSI6IiIsInRlcm0iOiJQdWVydG8gUmljbywgVVNBIiwiZ2VvTG9jYXRpb25GYWNldCI6WyJQdWVydG8gUmljbywgVS5TLkEuIl0sImdlb0xvY2F0aW9uRmFjZXRSZWNlbnRzIjpbIlB1ZXJ0byBSaWNvLCBVLlMuQS4iXSwicGFnZSI6MSwibGltaXQiOjI1LCJvZmZzZXQiOjAsInNvcnQiOiIiLCJzb3J0VHlwZSI6IiIsImNsZWFyUGFyYW1zIjpmYWxzZSwia2V5d29yZCI6IiIsInBhZ2VUaXRsZSI6Imw6UHVlcnRvIFJpY28sIFUuUy5BLiIsInByYWN0aWNlQXJlYXMiOlsiQ29tbWVyY2lhbCBMaXRpZ2F0aW9uIl19&page=2\n",
      "https://www.martindale.com/attorney/jose-g-diaz-tejera-1572194/\n",
      "https://www.martindale.com/attorney/ruben-nazario-velasco-1572127/\n",
      "accediendo a: https://www.martindale.com/search/attorneys-law-firms-articles/?term=Puerto+Rico%2C+USA&params=eyJ0eXBlIjoicGVvcGxlIiwiY29tcGFyZSI6IiIsInRlcm0iOiJQdWVydG8gUmljbywgVVNBIiwiZ2VvTG9jYXRpb25GYWNldCI6WyJQdWVydG8gUmljbywgVS5TLkEuIl0sImdlb0xvY2F0aW9uRmFjZXRSZWNlbnRzIjpbIlB1ZXJ0byBSaWNvLCBVLlMuQS4iXSwicGFnZSI6MSwibGltaXQiOjI1LCJvZmZzZXQiOjAsInNvcnQiOiIiLCJzb3J0VHlwZSI6IiIsImNsZWFyUGFyYW1zIjpmYWxzZSwia2V5d29yZCI6IiIsInBhZ2VUaXRsZSI6Imw6UHVlcnRvIFJpY28sIFUuUy5BLiIsInByYWN0aWNlQXJlYXMiOlsiQ29tbWVyY2lhbCBMaXRpZ2F0aW9uIl19&page=3\n",
      "https://www.martindale.com/attorney/luis-m-villafane-jorge-157563361/\n",
      "https://www.martindale.com/attorney/richard-marc-graffam-rodriguez-1573233/\n",
      "accediendo a: https://www.martindale.com/search/attorneys-law-firms-articles/?term=Puerto+Rico%2C+USA&params=eyJ0eXBlIjoicGVvcGxlIiwiY29tcGFyZSI6IiIsInRlcm0iOiJQdWVydG8gUmljbywgVVNBIiwiZ2VvTG9jYXRpb25GYWNldCI6WyJQdWVydG8gUmljbywgVS5TLkEuIl0sImdlb0xvY2F0aW9uRmFjZXRSZWNlbnRzIjpbIlB1ZXJ0byBSaWNvLCBVLlMuQS4iXSwicGFnZSI6MSwibGltaXQiOjI1LCJvZmZzZXQiOjAsInNvcnQiOiIiLCJzb3J0VHlwZSI6IiIsImNsZWFyUGFyYW1zIjpmYWxzZSwia2V5d29yZCI6IiIsInBhZ2VUaXRsZSI6Imw6UHVlcnRvIFJpY28sIFUuUy5BLiIsInByYWN0aWNlQXJlYXMiOlsiQ29tbWVyY2lhbCBMaXRpZ2F0aW9uIl19&page=4\n",
      "https://www.martindale.com/attorney/mario-arroyo-davila-1572493/\n",
      "https://www.martindale.com/attorney/tomas-a-roman-santos-28828280/\n",
      "accediendo a: https://www.martindale.com/search/attorneys-law-firms-articles/?term=Puerto+Rico%2C+USA&params=eyJ0eXBlIjoicGVvcGxlIiwiY29tcGFyZSI6IiIsInRlcm0iOiJQdWVydG8gUmljbywgVVNBIiwiZ2VvTG9jYXRpb25GYWNldCI6WyJQdWVydG8gUmljbywgVS5TLkEuIl0sImdlb0xvY2F0aW9uRmFjZXRSZWNlbnRzIjpbIlB1ZXJ0byBSaWNvLCBVLlMuQS4iXSwicGFnZSI6MSwibGltaXQiOjI1LCJvZmZzZXQiOjAsInNvcnQiOiIiLCJzb3J0VHlwZSI6IiIsImNsZWFyUGFyYW1zIjpmYWxzZSwia2V5d29yZCI6IiIsInBhZ2VUaXRsZSI6Imw6UHVlcnRvIFJpY28sIFUuUy5BLiIsInByYWN0aWNlQXJlYXMiOlsiQ29tbWVyY2lhbCBMaXRpZ2F0aW9uIl19&page=5\n",
      "https://www.martindale.com/attorney/jacabed-rodriguez-coss-1573651/\n",
      "accediendo a: https://www.martindale.com/search/attorneys-law-firms-articles/?term=Puerto+Rico%2C+USA&params=eyJ0eXBlIjoicGVvcGxlIiwiY29tcGFyZSI6IiIsInRlcm0iOiJQdWVydG8gUmljbywgVVNBIiwiZ2VvTG9jYXRpb25GYWNldCI6WyJQdWVydG8gUmljbywgVS5TLkEuIl0sImdlb0xvY2F0aW9uRmFjZXRSZWNlbnRzIjpbIlB1ZXJ0byBSaWNvLCBVLlMuQS4iXSwicGFnZSI6MSwibGltaXQiOjI1LCJvZmZzZXQiOjAsInNvcnQiOiIiLCJzb3J0VHlwZSI6IiIsImNsZWFyUGFyYW1zIjpmYWxzZSwia2V5d29yZCI6IiIsInBhZ2VUaXRsZSI6Imw6UHVlcnRvIFJpY28sIFUuUy5BLiIsInByYWN0aWNlQXJlYXMiOlsiQ29tbWVyY2lhbCBMaXRpZ2F0aW9uIl19&page=6\n",
      "https://www.martindale.com/attorney/michelle-feria-cestero-1572844/\n",
      "accediendo a: https://www.martindale.com/search/attorneys-law-firms-articles/?term=Puerto+Rico%2C+USA&params=eyJ0eXBlIjoicGVvcGxlIiwiY29tcGFyZSI6IiIsInRlcm0iOiJQdWVydG8gUmljbywgVVNBIiwiZ2VvTG9jYXRpb25GYWNldCI6WyJQdWVydG8gUmljbywgVS5TLkEuIl0sImdlb0xvY2F0aW9uRmFjZXRSZWNlbnRzIjpbIlB1ZXJ0byBSaWNvLCBVLlMuQS4iXSwicGFnZSI6MSwibGltaXQiOjI1LCJvZmZzZXQiOjAsInNvcnQiOiIiLCJzb3J0VHlwZSI6IiIsImNsZWFyUGFyYW1zIjpmYWxzZSwia2V5d29yZCI6IiIsInBhZ2VUaXRsZSI6Imw6UHVlcnRvIFJpY28sIFUuUy5BLiIsInByYWN0aWNlQXJlYXMiOlsiQ29tbWVyY2lhbCBMaXRpZ2F0aW9uIl19&page=7\n",
      "https://www.martindale.com/attorney/noel-gonzalez-miranda-1571646/\n",
      "accediendo a: https://www.martindale.com/search/attorneys-law-firms-articles/?term=Puerto+Rico%2C+USA&params=eyJ0eXBlIjoicGVvcGxlIiwiY29tcGFyZSI6IiIsInRlcm0iOiJQdWVydG8gUmljbywgVVNBIiwiZ2VvTG9jYXRpb25GYWNldCI6WyJQdWVydG8gUmljbywgVS5TLkEuIl0sImdlb0xvY2F0aW9uRmFjZXRSZWNlbnRzIjpbIlB1ZXJ0byBSaWNvLCBVLlMuQS4iXSwicGFnZSI6MSwibGltaXQiOjI1LCJvZmZzZXQiOjAsInNvcnQiOiIiLCJzb3J0VHlwZSI6IiIsImNsZWFyUGFyYW1zIjpmYWxzZSwia2V5d29yZCI6IiIsInBhZ2VUaXRsZSI6Imw6UHVlcnRvIFJpY28sIFUuUy5BLiIsInByYWN0aWNlQXJlYXMiOlsiQ29tbWVyY2lhbCBMaXRpZ2F0aW9uIl19&page=8\n",
      "https://www.martindale.com/attorney/david-rive-power-1573578/\n",
      "https://www.martindale.com/attorney/carla-calaf-garcia-158573129/\n",
      "https://www.martindale.com/attorney/pedro-santiago-rivera-1573725/\n",
      "accediendo a: https://www.martindale.com/search/attorneys-law-firms-articles/?term=Puerto+Rico%2C+USA&params=eyJ0eXBlIjoicGVvcGxlIiwiY29tcGFyZSI6IiIsInRlcm0iOiJQdWVydG8gUmljbywgVVNBIiwiZ2VvTG9jYXRpb25GYWNldCI6WyJQdWVydG8gUmljbywgVS5TLkEuIl0sImdlb0xvY2F0aW9uRmFjZXRSZWNlbnRzIjpbIlB1ZXJ0byBSaWNvLCBVLlMuQS4iXSwicGFnZSI6MSwibGltaXQiOjI1LCJvZmZzZXQiOjAsInNvcnQiOiIiLCJzb3J0VHlwZSI6IiIsImNsZWFyUGFyYW1zIjpmYWxzZSwia2V5d29yZCI6IiIsInBhZ2VUaXRsZSI6Imw6UHVlcnRvIFJpY28sIFUuUy5BLiIsInByYWN0aWNlQXJlYXMiOlsiQ29tbWVyY2lhbCBMaXRpZ2F0aW9uIl19&page=9\n",
      "https://www.martindale.com/attorney/maria-luisa-martinez-lopez-1573711/\n",
      "https://www.martindale.com/attorney/julio-b-wlodinguer-4239938/\n",
      "https://www.martindale.com/attorney/eduardo-arosemena-munoz-28828279/\n",
      "accediendo a: https://www.martindale.com/search/attorneys-law-firms-articles/?term=Puerto+Rico%2C+USA&params=eyJ0eXBlIjoicGVvcGxlIiwiY29tcGFyZSI6IiIsInRlcm0iOiJQdWVydG8gUmljbywgVVNBIiwiZ2VvTG9jYXRpb25GYWNldCI6WyJQdWVydG8gUmljbywgVS5TLkEuIl0sImdlb0xvY2F0aW9uRmFjZXRSZWNlbnRzIjpbIlB1ZXJ0byBSaWNvLCBVLlMuQS4iXSwicGFnZSI6MSwibGltaXQiOjI1LCJvZmZzZXQiOjAsInNvcnQiOiIiLCJzb3J0VHlwZSI6IiIsImNsZWFyUGFyYW1zIjpmYWxzZSwia2V5d29yZCI6IiIsInBhZ2VUaXRsZSI6Imw6UHVlcnRvIFJpY28sIFUuUy5BLiIsInByYWN0aWNlQXJlYXMiOlsiQ29tbWVyY2lhbCBMaXRpZ2F0aW9uIl19&page=10\n",
      "https://www.martindale.com/attorney/jose-r-perez-riera-1573340/\n",
      "https://www.martindale.com/attorney/david-munoz-ocasio-1573250/\n",
      "accediendo a: https://www.martindale.com/search/attorneys-law-firms-articles/?term=Puerto+Rico%2C+USA&params=eyJ0eXBlIjoicGVvcGxlIiwiY29tcGFyZSI6IiIsInRlcm0iOiJQdWVydG8gUmljbywgVVNBIiwiZ2VvTG9jYXRpb25GYWNldCI6WyJQdWVydG8gUmljbywgVS5TLkEuIl0sImdlb0xvY2F0aW9uRmFjZXRSZWNlbnRzIjpbIlB1ZXJ0byBSaWNvLCBVLlMuQS4iXSwicGFnZSI6MSwibGltaXQiOjI1LCJvZmZzZXQiOjAsInNvcnQiOiIiLCJzb3J0VHlwZSI6IiIsImNsZWFyUGFyYW1zIjpmYWxzZSwia2V5d29yZCI6IiIsInBhZ2VUaXRsZSI6Imw6UHVlcnRvIFJpY28sIFUuUy5BLiIsInByYWN0aWNlQXJlYXMiOlsiQ29tbWVyY2lhbCBMaXRpZ2F0aW9uIl19&page=11\n",
      "https://www.martindale.com/attorney/alberto-r-lopez-rocafort-2750317/\n",
      "https://www.martindale.com/attorney/veronica-candelas-perez-1573726/\n",
      "accediendo a: https://www.martindale.com/search/attorneys-law-firms-articles/?term=Puerto+Rico%2C+USA&params=eyJ0eXBlIjoicGVvcGxlIiwiY29tcGFyZSI6IiIsInRlcm0iOiJQdWVydG8gUmljbywgVVNBIiwiZ2VvTG9jYXRpb25GYWNldCI6WyJQdWVydG8gUmljbywgVS5TLkEuIl0sImdlb0xvY2F0aW9uRmFjZXRSZWNlbnRzIjpbIlB1ZXJ0byBSaWNvLCBVLlMuQS4iXSwicGFnZSI6MSwibGltaXQiOjI1LCJvZmZzZXQiOjAsInNvcnQiOiIiLCJzb3J0VHlwZSI6IiIsImNsZWFyUGFyYW1zIjpmYWxzZSwia2V5d29yZCI6IiIsInBhZ2VUaXRsZSI6Imw6UHVlcnRvIFJpY28sIFUuUy5BLiIsInByYWN0aWNlQXJlYXMiOlsiQ29tbWVyY2lhbCBMaXRpZ2F0aW9uIl19&page=12\n",
      "https://www.martindale.com/attorney/celeste-abella-padilla-1571648/\n",
      "https://www.martindale.com/attorney/jorge-p-silva-puras-1573652/\n",
      "accediendo a: https://www.martindale.com/search/attorneys-law-firms-articles/?term=Puerto+Rico%2C+USA&params=eyJ0eXBlIjoicGVvcGxlIiwiY29tcGFyZSI6IiIsInRlcm0iOiJQdWVydG8gUmljbywgVVNBIiwiZ2VvTG9jYXRpb25GYWNldCI6WyJQdWVydG8gUmljbywgVS5TLkEuIl0sImdlb0xvY2F0aW9uRmFjZXRSZWNlbnRzIjpbIlB1ZXJ0byBSaWNvLCBVLlMuQS4iXSwicGFnZSI6MSwibGltaXQiOjI1LCJvZmZzZXQiOjAsInNvcnQiOiIiLCJzb3J0VHlwZSI6IiIsImNsZWFyUGFyYW1zIjpmYWxzZSwia2V5d29yZCI6IiIsInBhZ2VUaXRsZSI6Imw6UHVlcnRvIFJpY28sIFUuUy5BLiIsInByYWN0aWNlQXJlYXMiOlsiQ29tbWVyY2lhbCBMaXRpZ2F0aW9uIl19&page=13\n",
      "https://www.martindale.com/attorney/victor-p-miranda-corrada-1571932/\n",
      "https://www.martindale.com/attorney/michelle-bonilla-sotomayor-5127988/\n",
      "https://www.martindale.com/attorney/miguel-a-nazario-briceno-1573339/\n",
      "https://www.martindale.com/attorney/alejandro-j-cacho-1573873/\n",
      "https://www.martindale.com/attorney/carlos-r-iguina-oharriz-1571540/\n",
      "https://www.martindale.com/attorney/enrique-siaca-3568866/\n",
      "https://www.martindale.com/attorney/edgardo-colon-arraras-1572810/\n",
      "https://www.martindale.com/attorney/humberto-guzman-rodriguez-1572150/\n",
      "accediendo a: https://www.martindale.com/search/attorneys-law-firms-articles/?term=Puerto+Rico%2C+USA&params=eyJ0eXBlIjoicGVvcGxlIiwiY29tcGFyZSI6IiIsInRlcm0iOiJQdWVydG8gUmljbywgVVNBIiwiZ2VvTG9jYXRpb25GYWNldCI6WyJQdWVydG8gUmljbywgVS5TLkEuIl0sImdlb0xvY2F0aW9uRmFjZXRSZWNlbnRzIjpbIlB1ZXJ0byBSaWNvLCBVLlMuQS4iXSwicGFnZSI6MSwibGltaXQiOjI1LCJvZmZzZXQiOjAsInNvcnQiOiIiLCJzb3J0VHlwZSI6IiIsImNsZWFyUGFyYW1zIjpmYWxzZSwia2V5d29yZCI6IiIsInBhZ2VUaXRsZSI6Imw6UHVlcnRvIFJpY28sIFUuUy5BLiIsInByYWN0aWNlQXJlYXMiOlsiQ29tbWVyY2lhbCBMaXRpZ2F0aW9uIl19&page=14\n"
     ]
    },
    {
     "name": "stderr",
     "output_type": "stream",
     "text": [
      " 30%|███       | 64/213 [26:43<59:10, 23.83s/it]"
     ]
    },
    {
     "name": "stdout",
     "output_type": "stream",
     "text": [
      "paginas en esta url: 1\n",
      "accediendo a: https://www.martindale.com/search/attorneys-law-firms-articles/?term=Puerto+Rico%2C+USA&params=eyJ0eXBlIjoicGVvcGxlIiwiY29tcGFyZSI6IiIsInRlcm0iOiJQdWVydG8gUmljbywgVVNBIiwiZ2VvTG9jYXRpb25GYWNldCI6WyJQdWVydG8gUmljbywgVS5TLkEuIl0sImdlb0xvY2F0aW9uRmFjZXRSZWNlbnRzIjpbIlB1ZXJ0byBSaWNvLCBVLlMuQS4iXSwicGFnZSI6MSwibGltaXQiOjI1LCJvZmZzZXQiOjAsInNvcnQiOiIiLCJzb3J0VHlwZSI6IiIsImNsZWFyUGFyYW1zIjpmYWxzZSwia2V5d29yZCI6IiIsInBhZ2VUaXRsZSI6Imw6UHVlcnRvIFJpY28sIFUuUy5BLiIsInByYWN0aWNlQXJlYXMiOlsiSnV2ZW5pbGUgTGF3Il19\n",
      "https://www.martindale.com/attorney/hector-e-guzman-1496748/\n"
     ]
    },
    {
     "name": "stderr",
     "output_type": "stream",
     "text": [
      " 31%|███       | 65/213 [27:07<59:11, 24.00s/it]"
     ]
    },
    {
     "name": "stdout",
     "output_type": "stream",
     "text": [
      "paginas en esta url: 1\n",
      "accediendo a: https://www.martindale.com/search/attorneys-law-firms-articles/?term=Puerto+Rico%2C+USA&params=eyJ0eXBlIjoicGVvcGxlIiwiY29tcGFyZSI6IiIsInRlcm0iOiJQdWVydG8gUmljbywgVVNBIiwiZ2VvTG9jYXRpb25GYWNldCI6WyJQdWVydG8gUmljbywgVS5TLkEuIl0sImdlb0xvY2F0aW9uRmFjZXRSZWNlbnRzIjpbIlB1ZXJ0byBSaWNvLCBVLlMuQS4iXSwicGFnZSI6MSwibGltaXQiOjI1LCJvZmZzZXQiOjAsInNvcnQiOiIiLCJzb3J0VHlwZSI6IiIsImNsZWFyUGFyYW1zIjpmYWxzZSwia2V5d29yZCI6IiIsInBhZ2VUaXRsZSI6Imw6UHVlcnRvIFJpY28sIFUuUy5BLiIsInByYWN0aWNlQXJlYXMiOlsiQWRvcHRpb25zIl19\n"
     ]
    },
    {
     "name": "stderr",
     "output_type": "stream",
     "text": [
      " 31%|███       | 66/213 [27:31<58:39, 23.94s/it]"
     ]
    },
    {
     "name": "stdout",
     "output_type": "stream",
     "text": [
      "paginas en esta url: 1\n",
      "accediendo a: https://www.martindale.com/search/attorneys-law-firms-articles/?term=Puerto+Rico%2C+USA&params=eyJ0eXBlIjoicGVvcGxlIiwiY29tcGFyZSI6IiIsInRlcm0iOiJQdWVydG8gUmljbywgVVNBIiwiZ2VvTG9jYXRpb25GYWNldCI6WyJQdWVydG8gUmljbywgVS5TLkEuIl0sImdlb0xvY2F0aW9uRmFjZXRSZWNlbnRzIjpbIlB1ZXJ0byBSaWNvLCBVLlMuQS4iXSwicGFnZSI6MSwibGltaXQiOjI1LCJvZmZzZXQiOjAsInNvcnQiOiIiLCJzb3J0VHlwZSI6IiIsImNsZWFyUGFyYW1zIjpmYWxzZSwia2V5d29yZCI6IiIsInBhZ2VUaXRsZSI6Imw6UHVlcnRvIFJpY28sIFUuUy5BLiIsInByYWN0aWNlQXJlYXMiOlsiV2FycmFudHkgTGF3Il19\n"
     ]
    },
    {
     "name": "stderr",
     "output_type": "stream",
     "text": [
      " 31%|███▏      | 67/213 [27:55<58:40, 24.12s/it]"
     ]
    },
    {
     "name": "stdout",
     "output_type": "stream",
     "text": [
      "paginas en esta url: 1\n",
      "accediendo a: https://www.martindale.com/search/attorneys-law-firms-articles/?term=Puerto+Rico%2C+USA&params=eyJ0eXBlIjoicGVvcGxlIiwiY29tcGFyZSI6IiIsInRlcm0iOiJQdWVydG8gUmljbywgVVNBIiwiZ2VvTG9jYXRpb25GYWNldCI6WyJQdWVydG8gUmljbywgVS5TLkEuIl0sImdlb0xvY2F0aW9uRmFjZXRSZWNlbnRzIjpbIlB1ZXJ0byBSaWNvLCBVLlMuQS4iXSwicGFnZSI6MSwibGltaXQiOjI1LCJvZmZzZXQiOjAsInNvcnQiOiIiLCJzb3J0VHlwZSI6IiIsImNsZWFyUGFyYW1zIjpmYWxzZSwia2V5d29yZCI6IiIsInBhZ2VUaXRsZSI6Imw6UHVlcnRvIFJpY28sIFUuUy5BLiIsInByYWN0aWNlQXJlYXMiOlsiQ2VyZWJyYWwgUGFsc3kiXX0%3D\n"
     ]
    },
    {
     "name": "stderr",
     "output_type": "stream",
     "text": [
      " 32%|███▏      | 68/213 [28:20<58:23, 24.16s/it]"
     ]
    },
    {
     "name": "stdout",
     "output_type": "stream",
     "text": [
      "paginas en esta url: 1\n",
      "accediendo a: https://www.martindale.com/search/attorneys-law-firms-articles/?term=Puerto+Rico%2C+USA&params=eyJ0eXBlIjoicGVvcGxlIiwiY29tcGFyZSI6IiIsInRlcm0iOiJQdWVydG8gUmljbywgVVNBIiwiZ2VvTG9jYXRpb25GYWNldCI6WyJQdWVydG8gUmljbywgVS5TLkEuIl0sImdlb0xvY2F0aW9uRmFjZXRSZWNlbnRzIjpbIlB1ZXJ0byBSaWNvLCBVLlMuQS4iXSwicGFnZSI6MSwibGltaXQiOjI1LCJvZmZzZXQiOjAsInNvcnQiOiIiLCJzb3J0VHlwZSI6IiIsImNsZWFyUGFyYW1zIjpmYWxzZSwia2V5d29yZCI6IiIsInBhZ2VUaXRsZSI6Imw6UHVlcnRvIFJpY28sIFUuUy5BLiIsInByYWN0aWNlQXJlYXMiOlsiQmFua3J1cHRjeSBDaGFwdGVyIDExIl19\n"
     ]
    },
    {
     "name": "stderr",
     "output_type": "stream",
     "text": [
      " 32%|███▏      | 69/213 [28:43<57:28, 23.95s/it]"
     ]
    },
    {
     "name": "stdout",
     "output_type": "stream",
     "text": [
      "paginas en esta url: 3\n",
      "accediendo a: https://www.martindale.com/search/attorneys-law-firms-articles/?term=Puerto+Rico%2C+USA&params=eyJ0eXBlIjoicGVvcGxlIiwiY29tcGFyZSI6IiIsInRlcm0iOiJQdWVydG8gUmljbywgVVNBIiwiZ2VvTG9jYXRpb25GYWNldCI6WyJQdWVydG8gUmljbywgVS5TLkEuIl0sImdlb0xvY2F0aW9uRmFjZXRSZWNlbnRzIjpbIlB1ZXJ0byBSaWNvLCBVLlMuQS4iXSwicGFnZSI6MSwibGltaXQiOjI1LCJvZmZzZXQiOjAsInNvcnQiOiIiLCJzb3J0VHlwZSI6IiIsImNsZWFyUGFyYW1zIjpmYWxzZSwia2V5d29yZCI6IiIsInBhZ2VUaXRsZSI6Imw6UHVlcnRvIFJpY28sIFUuUy5BLiIsInByYWN0aWNlQXJlYXMiOlsiSW1taWdyYXRpb24iXX0%3D\n",
      "https://www.martindale.com/attorney/ross-alan-miller-300844400/\n",
      "https://www.martindale.com/attorney/pedro-antonio-gerena-marquez-2091394/\n",
      "https://www.martindale.com/attorney/marimar-alberty-oller-3717032/\n",
      "accediendo a: https://www.martindale.com/search/attorneys-law-firms-articles/?term=Puerto+Rico%2C+USA&params=eyJ0eXBlIjoicGVvcGxlIiwiY29tcGFyZSI6IiIsInRlcm0iOiJQdWVydG8gUmljbywgVVNBIiwiZ2VvTG9jYXRpb25GYWNldCI6WyJQdWVydG8gUmljbywgVS5TLkEuIl0sImdlb0xvY2F0aW9uRmFjZXRSZWNlbnRzIjpbIlB1ZXJ0byBSaWNvLCBVLlMuQS4iXSwicGFnZSI6MSwibGltaXQiOjI1LCJvZmZzZXQiOjAsInNvcnQiOiIiLCJzb3J0VHlwZSI6IiIsImNsZWFyUGFyYW1zIjpmYWxzZSwia2V5d29yZCI6IiIsInBhZ2VUaXRsZSI6Imw6UHVlcnRvIFJpY28sIFUuUy5BLiIsInByYWN0aWNlQXJlYXMiOlsiSW1taWdyYXRpb24iXX0%3D&page=2\n",
      "https://www.martindale.com/attorney/samuel-brookner-silverman-300980876/\n",
      "https://www.martindale.com/attorney/migdalia-cordero-772801/\n",
      "https://www.martindale.com/attorney/luis-j-mongil-casasnovas-1572185/\n",
      "https://www.martindale.com/attorney/fernando-o-zambrana-44557594/\n",
      "https://www.martindale.com/attorney/jennifer-lynn-charak-765885/\n",
      "https://www.martindale.com/attorney/mr-jose-h-luyanda-1634065/\n",
      "https://www.martindale.com/attorney/juan-jose-forastieri-1572614/\n",
      "https://www.martindale.com/attorney/iran-o-menendez-wiscovitch-301089646/\n",
      "accediendo a: https://www.martindale.com/search/attorneys-law-firms-articles/?term=Puerto+Rico%2C+USA&params=eyJ0eXBlIjoicGVvcGxlIiwiY29tcGFyZSI6IiIsInRlcm0iOiJQdWVydG8gUmljbywgVVNBIiwiZ2VvTG9jYXRpb25GYWNldCI6WyJQdWVydG8gUmljbywgVS5TLkEuIl0sImdlb0xvY2F0aW9uRmFjZXRSZWNlbnRzIjpbIlB1ZXJ0byBSaWNvLCBVLlMuQS4iXSwicGFnZSI6MSwibGltaXQiOjI1LCJvZmZzZXQiOjAsInNvcnQiOiIiLCJzb3J0VHlwZSI6IiIsImNsZWFyUGFyYW1zIjpmYWxzZSwia2V5d29yZCI6IiIsInBhZ2VUaXRsZSI6Imw6UHVlcnRvIFJpY28sIFUuUy5BLiIsInByYWN0aWNlQXJlYXMiOlsiSW1taWdyYXRpb24iXX0%3D&page=3\n",
      "https://www.martindale.com/attorney/winston-vidal-3912532/\n",
      "https://www.martindale.com/attorney/tiana-z-santana-ufary-300311104/\n",
      "https://www.martindale.com/attorney/gretchen-rodriguez-300940400/\n"
     ]
    },
    {
     "name": "stderr",
     "output_type": "stream",
     "text": [
      " 33%|███▎      | 70/213 [28:58<50:36, 21.24s/it]"
     ]
    },
    {
     "name": "stdout",
     "output_type": "stream",
     "text": [
      "paginas en esta url: 1\n",
      "accediendo a: https://www.martindale.com/search/attorneys-law-firms-articles/?term=Puerto+Rico%2C+USA&params=eyJ0eXBlIjoicGVvcGxlIiwiY29tcGFyZSI6IiIsInRlcm0iOiJQdWVydG8gUmljbywgVVNBIiwiZ2VvTG9jYXRpb25GYWNldCI6WyJQdWVydG8gUmljbywgVS5TLkEuIl0sImdlb0xvY2F0aW9uRmFjZXRSZWNlbnRzIjpbIlB1ZXJ0byBSaWNvLCBVLlMuQS4iXSwicGFnZSI6MSwibGltaXQiOjI1LCJvZmZzZXQiOjAsInNvcnQiOiIiLCJzb3J0VHlwZSI6IiIsImNsZWFyUGFyYW1zIjpmYWxzZSwia2V5d29yZCI6IiIsInBhZ2VUaXRsZSI6Imw6UHVlcnRvIFJpY28sIFUuUy5BLiIsInByYWN0aWNlQXJlYXMiOlsiTmVnbGlnZW5jZSJdfQ%3D%3D\n",
      "https://www.martindale.com/attorney/marcelino-alcala-pamias-1571829/\n",
      "https://www.martindale.com/attorney/mr-jose-f-velazquez-ortiz-esq-1574275/\n",
      "https://www.martindale.com/attorney/jose-r-rossello-reyes-1571255/\n",
      "https://www.martindale.com/attorney/carlos-j-cordova-velez-1571417/\n"
     ]
    },
    {
     "name": "stderr",
     "output_type": "stream",
     "text": [
      " 33%|███▎      | 71/213 [29:21<51:38, 21.82s/it]"
     ]
    },
    {
     "name": "stdout",
     "output_type": "stream",
     "text": [
      "paginas en esta url: 1\n",
      "accediendo a: https://www.martindale.com/search/attorneys-law-firms-articles/?term=Puerto+Rico%2C+USA&params=eyJ0eXBlIjoicGVvcGxlIiwiY29tcGFyZSI6IiIsInRlcm0iOiJQdWVydG8gUmljbywgVVNBIiwiZ2VvTG9jYXRpb25GYWNldCI6WyJQdWVydG8gUmljbywgVS5TLkEuIl0sImdlb0xvY2F0aW9uRmFjZXRSZWNlbnRzIjpbIlB1ZXJ0byBSaWNvLCBVLlMuQS4iXSwicGFnZSI6MSwibGltaXQiOjI1LCJvZmZzZXQiOjAsInNvcnQiOiIiLCJzb3J0VHlwZSI6IiIsImNsZWFyUGFyYW1zIjpmYWxzZSwia2V5d29yZCI6IiIsInBhZ2VUaXRsZSI6Imw6UHVlcnRvIFJpY28sIFUuUy5BLiIsInByYWN0aWNlQXJlYXMiOlsiRW52aXJvbm1lbnRhbCBQZXJtaXR0aW5nIl19\n"
     ]
    },
    {
     "name": "stderr",
     "output_type": "stream",
     "text": [
      " 34%|███▍      | 72/213 [29:45<52:45, 22.45s/it]"
     ]
    },
    {
     "name": "stdout",
     "output_type": "stream",
     "text": [
      "paginas en esta url: 3\n",
      "accediendo a: https://www.martindale.com/search/attorneys-law-firms-articles/?term=Puerto+Rico%2C+USA&params=eyJ0eXBlIjoicGVvcGxlIiwiY29tcGFyZSI6IiIsInRlcm0iOiJQdWVydG8gUmljbywgVVNBIiwiZ2VvTG9jYXRpb25GYWNldCI6WyJQdWVydG8gUmljbywgVS5TLkEuIl0sImdlb0xvY2F0aW9uRmFjZXRSZWNlbnRzIjpbIlB1ZXJ0byBSaWNvLCBVLlMuQS4iXSwicGFnZSI6MSwibGltaXQiOjI1LCJvZmZzZXQiOjAsInNvcnQiOiIiLCJzb3J0VHlwZSI6IiIsImNsZWFyUGFyYW1zIjpmYWxzZSwia2V5d29yZCI6IiIsInBhZ2VUaXRsZSI6Imw6UHVlcnRvIFJpY28sIFUuUy5BLiIsInByYWN0aWNlQXJlYXMiOlsiQXJiaXRyYXRpb24iXX0%3D\n",
      "https://www.martindale.com/attorney/jaime-j-aponte-parsi-1573642/\n",
      "accediendo a: https://www.martindale.com/search/attorneys-law-firms-articles/?term=Puerto+Rico%2C+USA&params=eyJ0eXBlIjoicGVvcGxlIiwiY29tcGFyZSI6IiIsInRlcm0iOiJQdWVydG8gUmljbywgVVNBIiwiZ2VvTG9jYXRpb25GYWNldCI6WyJQdWVydG8gUmljbywgVS5TLkEuIl0sImdlb0xvY2F0aW9uRmFjZXRSZWNlbnRzIjpbIlB1ZXJ0byBSaWNvLCBVLlMuQS4iXSwicGFnZSI6MSwibGltaXQiOjI1LCJvZmZzZXQiOjAsInNvcnQiOiIiLCJzb3J0VHlwZSI6IiIsImNsZWFyUGFyYW1zIjpmYWxzZSwia2V5d29yZCI6IiIsInBhZ2VUaXRsZSI6Imw6UHVlcnRvIFJpY28sIFUuUy5BLiIsInByYWN0aWNlQXJlYXMiOlsiQXJiaXRyYXRpb24iXX0%3D&page=2\n",
      "https://www.martindale.com/attorney/ms-maite-c-colon-168973280/\n",
      "accediendo a: https://www.martindale.com/search/attorneys-law-firms-articles/?term=Puerto+Rico%2C+USA&params=eyJ0eXBlIjoicGVvcGxlIiwiY29tcGFyZSI6IiIsInRlcm0iOiJQdWVydG8gUmljbywgVVNBIiwiZ2VvTG9jYXRpb25GYWNldCI6WyJQdWVydG8gUmljbywgVS5TLkEuIl0sImdlb0xvY2F0aW9uRmFjZXRSZWNlbnRzIjpbIlB1ZXJ0byBSaWNvLCBVLlMuQS4iXSwicGFnZSI6MSwibGltaXQiOjI1LCJvZmZzZXQiOjAsInNvcnQiOiIiLCJzb3J0VHlwZSI6IiIsImNsZWFyUGFyYW1zIjpmYWxzZSwia2V5d29yZCI6IiIsInBhZ2VUaXRsZSI6Imw6UHVlcnRvIFJpY28sIFUuUy5BLiIsInByYWN0aWNlQXJlYXMiOlsiQXJiaXRyYXRpb24iXX0%3D&page=3\n"
     ]
    },
    {
     "name": "stderr",
     "output_type": "stream",
     "text": [
      " 34%|███▍      | 73/213 [29:59<46:22, 19.87s/it]"
     ]
    },
    {
     "name": "stdout",
     "output_type": "stream",
     "text": [
      "paginas en esta url: 1\n",
      "accediendo a: https://www.martindale.com/search/attorneys-law-firms-articles/?term=Puerto+Rico%2C+USA&params=eyJ0eXBlIjoicGVvcGxlIiwiY29tcGFyZSI6IiIsInRlcm0iOiJQdWVydG8gUmljbywgVVNBIiwiZ2VvTG9jYXRpb25GYWNldCI6WyJQdWVydG8gUmljbywgVS5TLkEuIl0sImdlb0xvY2F0aW9uRmFjZXRSZWNlbnRzIjpbIlB1ZXJ0byBSaWNvLCBVLlMuQS4iXSwicGFnZSI6MSwibGltaXQiOjI1LCJvZmZzZXQiOjAsInNvcnQiOiIiLCJzb3J0VHlwZSI6IiIsImNsZWFyUGFyYW1zIjpmYWxzZSwia2V5d29yZCI6IiIsInBhZ2VUaXRsZSI6Imw6UHVlcnRvIFJpY28sIFUuUy5BLiIsInByYWN0aWNlQXJlYXMiOlsiV2FnZSBhbmQgSG91ciBMYXciXX0%3D\n"
     ]
    },
    {
     "name": "stderr",
     "output_type": "stream",
     "text": [
      " 35%|███▍      | 74/213 [30:23<48:39, 21.01s/it]"
     ]
    },
    {
     "name": "stdout",
     "output_type": "stream",
     "text": [
      "paginas en esta url: 2\n",
      "accediendo a: https://www.martindale.com/search/attorneys-law-firms-articles/?term=Puerto+Rico%2C+USA&params=eyJ0eXBlIjoicGVvcGxlIiwiY29tcGFyZSI6IiIsInRlcm0iOiJQdWVydG8gUmljbywgVVNBIiwiZ2VvTG9jYXRpb25GYWNldCI6WyJQdWVydG8gUmljbywgVS5TLkEuIl0sImdlb0xvY2F0aW9uRmFjZXRSZWNlbnRzIjpbIlB1ZXJ0byBSaWNvLCBVLlMuQS4iXSwicGFnZSI6MSwibGltaXQiOjI1LCJvZmZzZXQiOjAsInNvcnQiOiIiLCJzb3J0VHlwZSI6IiIsImNsZWFyUGFyYW1zIjpmYWxzZSwia2V5d29yZCI6IiIsInBhZ2VUaXRsZSI6Imw6UHVlcnRvIFJpY28sIFUuUy5BLiIsInByYWN0aWNlQXJlYXMiOlsiSW50ZXJuYXRpb25hbCBMYXciXX0%3D\n",
      "https://www.martindale.com/attorney/jorge-r-gonzalez-1573217/\n",
      "https://www.martindale.com/attorney/hernan-r-franco-1572172/\n",
      "accediendo a: https://www.martindale.com/search/attorneys-law-firms-articles/?term=Puerto+Rico%2C+USA&params=eyJ0eXBlIjoicGVvcGxlIiwiY29tcGFyZSI6IiIsInRlcm0iOiJQdWVydG8gUmljbywgVVNBIiwiZ2VvTG9jYXRpb25GYWNldCI6WyJQdWVydG8gUmljbywgVS5TLkEuIl0sImdlb0xvY2F0aW9uRmFjZXRSZWNlbnRzIjpbIlB1ZXJ0byBSaWNvLCBVLlMuQS4iXSwicGFnZSI6MSwibGltaXQiOjI1LCJvZmZzZXQiOjAsInNvcnQiOiIiLCJzb3J0VHlwZSI6IiIsImNsZWFyUGFyYW1zIjpmYWxzZSwia2V5d29yZCI6IiIsInBhZ2VUaXRsZSI6Imw6UHVlcnRvIFJpY28sIFUuUy5BLiIsInByYWN0aWNlQXJlYXMiOlsiSW50ZXJuYXRpb25hbCBMYXciXX0%3D&page=2\n",
      "https://www.martindale.com/attorney/lourdes-fontanillas-43945991/\n",
      "https://www.martindale.com/attorney/humberto-vazquez-sandoval-1573811/\n",
      "https://www.martindale.com/attorney/john-l-a-de-passalacqua-1572357/\n",
      "https://www.martindale.com/attorney/juan-c-consuegra-barquin-1572198/\n",
      "https://www.martindale.com/attorney/jim-taubenfeld-810479/\n"
     ]
    },
    {
     "name": "stderr",
     "output_type": "stream",
     "text": [
      " 35%|███▌      | 75/213 [30:36<43:05, 18.74s/it]"
     ]
    },
    {
     "name": "stdout",
     "output_type": "stream",
     "text": [
      "paginas en esta url: 1\n",
      "accediendo a: https://www.martindale.com/search/attorneys-law-firms-articles/?term=Puerto+Rico%2C+USA&params=eyJ0eXBlIjoicGVvcGxlIiwiY29tcGFyZSI6IiIsInRlcm0iOiJQdWVydG8gUmljbywgVVNBIiwiZ2VvTG9jYXRpb25GYWNldCI6WyJQdWVydG8gUmljbywgVS5TLkEuIl0sImdlb0xvY2F0aW9uRmFjZXRSZWNlbnRzIjpbIlB1ZXJ0byBSaWNvLCBVLlMuQS4iXSwicGFnZSI6MSwibGltaXQiOjI1LCJvZmZzZXQiOjAsInNvcnQiOiIiLCJzb3J0VHlwZSI6IiIsImNsZWFyUGFyYW1zIjpmYWxzZSwia2V5d29yZCI6IiIsInBhZ2VUaXRsZSI6Imw6UHVlcnRvIFJpY28sIFUuUy5BLiIsInByYWN0aWNlQXJlYXMiOlsiQmlvdGVjaG5vbG9neSJdfQ%3D%3D\n",
      "problemas con el crawler\n",
      "problemas con el crawler\n"
     ]
    },
    {
     "name": "stderr",
     "output_type": "stream",
     "text": [
      " 36%|███▌      | 76/213 [32:31<1:48:40, 47.59s/it]"
     ]
    },
    {
     "name": "stdout",
     "output_type": "stream",
     "text": [
      "paginas en esta url: 5\n",
      "accediendo a: https://www.martindale.com/search/attorneys-law-firms-articles/?term=Puerto+Rico%2C+USA&params=eyJ0eXBlIjoicGVvcGxlIiwiY29tcGFyZSI6IiIsInRlcm0iOiJQdWVydG8gUmljbywgVVNBIiwiZ2VvTG9jYXRpb25GYWNldCI6WyJQdWVydG8gUmljbywgVS5TLkEuIl0sImdlb0xvY2F0aW9uRmFjZXRSZWNlbnRzIjpbIlB1ZXJ0byBSaWNvLCBVLlMuQS4iXSwicGFnZSI6MSwibGltaXQiOjI1LCJvZmZzZXQiOjAsInNvcnQiOiIiLCJzb3J0VHlwZSI6IiIsImNsZWFyUGFyYW1zIjpmYWxzZSwia2V5d29yZCI6IiIsInBhZ2VUaXRsZSI6Imw6UHVlcnRvIFJpY28sIFUuUy5BLiIsInByYWN0aWNlQXJlYXMiOlsiQ3JpbWluYWwgTGF3Il19\n",
      "https://www.martindale.com/attorney/leonardo-m-aldridge-300301298/\n",
      "https://www.martindale.com/attorney/josefina-lopez-rivera-1574279/\n",
      "https://www.martindale.com/attorney/charles-e-fitzwilliam-1572603/\n",
      "https://www.martindale.com/attorney/jeanette-mercado-1574251/\n",
      "https://www.martindale.com/attorney/jeremiah-ocasio-silva-168817864/\n",
      "https://www.martindale.com/attorney/milton-j-rua-1574008/\n",
      "https://www.martindale.com/attorney/luis-ricardo-santini-gaudier-2692813/\n",
      "https://www.martindale.com/attorney/julio-enrique-gil-de-lamadrid-1571104/\n",
      "accediendo a: https://www.martindale.com/search/attorneys-law-firms-articles/?term=Puerto+Rico%2C+USA&params=eyJ0eXBlIjoicGVvcGxlIiwiY29tcGFyZSI6IiIsInRlcm0iOiJQdWVydG8gUmljbywgVVNBIiwiZ2VvTG9jYXRpb25GYWNldCI6WyJQdWVydG8gUmljbywgVS5TLkEuIl0sImdlb0xvY2F0aW9uRmFjZXRSZWNlbnRzIjpbIlB1ZXJ0byBSaWNvLCBVLlMuQS4iXSwicGFnZSI6MSwibGltaXQiOjI1LCJvZmZzZXQiOjAsInNvcnQiOiIiLCJzb3J0VHlwZSI6IiIsImNsZWFyUGFyYW1zIjpmYWxzZSwia2V5d29yZCI6IiIsInBhZ2VUaXRsZSI6Imw6UHVlcnRvIFJpY28sIFUuUy5BLiIsInByYWN0aWNlQXJlYXMiOlsiQ3JpbWluYWwgTGF3Il19&page=2\n",
      "https://www.martindale.com/attorney/antonio-cordova-gonzalez-1572268/\n",
      "https://www.martindale.com/attorney/manuel-f-arraiza-reyes-1574284/\n",
      "https://www.martindale.com/attorney/linda-dennise-de-jesus-casiano-301093626/\n",
      "https://www.martindale.com/attorney/reinaldo-jaime-1571162/\n",
      "https://www.martindale.com/attorney/mr-thomas-scurry-murphy-168536944/\n",
      "https://www.martindale.com/attorney/jorge-gordon-pujol-300380586/\n",
      "https://www.martindale.com/attorney/teddy-rodriguez-perez-1573955/\n",
      "https://www.martindale.com/attorney/kevin-e-lerman-300283152/\n",
      "https://www.martindale.com/attorney/samuel-peter-carrion-301208024/\n",
      "https://www.martindale.com/attorney/gustavo-antonio-gelpi-jr-1571678/\n",
      "accediendo a: https://www.martindale.com/search/attorneys-law-firms-articles/?term=Puerto+Rico%2C+USA&params=eyJ0eXBlIjoicGVvcGxlIiwiY29tcGFyZSI6IiIsInRlcm0iOiJQdWVydG8gUmljbywgVVNBIiwiZ2VvTG9jYXRpb25GYWNldCI6WyJQdWVydG8gUmljbywgVS5TLkEuIl0sImdlb0xvY2F0aW9uRmFjZXRSZWNlbnRzIjpbIlB1ZXJ0byBSaWNvLCBVLlMuQS4iXSwicGFnZSI6MSwibGltaXQiOjI1LCJvZmZzZXQiOjAsInNvcnQiOiIiLCJzb3J0VHlwZSI6IiIsImNsZWFyUGFyYW1zIjpmYWxzZSwia2V5d29yZCI6IiIsInBhZ2VUaXRsZSI6Imw6UHVlcnRvIFJpY28sIFUuUy5BLiIsInByYWN0aWNlQXJlYXMiOlsiQ3JpbWluYWwgTGF3Il19&page=3\n",
      "https://www.martindale.com/attorney/rafael-f-castro-lang-1572073/\n",
      "https://www.martindale.com/attorney/david-william-roman-1571616/\n",
      "https://www.martindale.com/attorney/orlando-marrero-sanchez-5148763/\n",
      "https://www.martindale.com/attorney/waleska-marrero-melecio-1571473/\n",
      "https://www.martindale.com/attorney/wilfredo-rios-mendez-2698187/\n",
      "https://www.martindale.com/attorney/mr-jorge-luis-matos-ortiz-2471274/\n",
      "https://www.martindale.com/attorney/pedro-t-anca-marin-1574282/\n",
      "https://www.martindale.com/attorney/roberto-gonzalez-rivera-1572904/\n",
      "https://www.martindale.com/attorney/john-j-connors-1499939/\n",
      "accediendo a: https://www.martindale.com/search/attorneys-law-firms-articles/?term=Puerto+Rico%2C+USA&params=eyJ0eXBlIjoicGVvcGxlIiwiY29tcGFyZSI6IiIsInRlcm0iOiJQdWVydG8gUmljbywgVVNBIiwiZ2VvTG9jYXRpb25GYWNldCI6WyJQdWVydG8gUmljbywgVS5TLkEuIl0sImdlb0xvY2F0aW9uRmFjZXRSZWNlbnRzIjpbIlB1ZXJ0byBSaWNvLCBVLlMuQS4iXSwicGFnZSI6MSwibGltaXQiOjI1LCJvZmZzZXQiOjAsInNvcnQiOiIiLCJzb3J0VHlwZSI6IiIsImNsZWFyUGFyYW1zIjpmYWxzZSwia2V5d29yZCI6IiIsInBhZ2VUaXRsZSI6Imw6UHVlcnRvIFJpY28sIFUuUy5BLiIsInByYWN0aWNlQXJlYXMiOlsiQ3JpbWluYWwgTGF3Il19&page=4\n",
      "https://www.martindale.com/attorney/irma-r-valldejuli-1574270/\n",
      "https://www.martindale.com/attorney/david-figueroa-morales-1571153/\n",
      "https://www.martindale.com/attorney/ruben-cerezo-hernandez-300751810/\n",
      "https://www.martindale.com/attorney/luis-navas-mr-169092968/\n",
      "https://www.martindale.com/attorney/marcela-claudia-mateo-157084785/\n",
      "https://www.martindale.com/attorney/wilfredo-a-ruiz-2595016/\n",
      "accediendo a: https://www.martindale.com/search/attorneys-law-firms-articles/?term=Puerto+Rico%2C+USA&params=eyJ0eXBlIjoicGVvcGxlIiwiY29tcGFyZSI6IiIsInRlcm0iOiJQdWVydG8gUmljbywgVVNBIiwiZ2VvTG9jYXRpb25GYWNldCI6WyJQdWVydG8gUmljbywgVS5TLkEuIl0sImdlb0xvY2F0aW9uRmFjZXRSZWNlbnRzIjpbIlB1ZXJ0byBSaWNvLCBVLlMuQS4iXSwicGFnZSI6MSwibGltaXQiOjI1LCJvZmZzZXQiOjAsInNvcnQiOiIiLCJzb3J0VHlwZSI6IiIsImNsZWFyUGFyYW1zIjpmYWxzZSwia2V5d29yZCI6IiIsInBhZ2VUaXRsZSI6Imw6UHVlcnRvIFJpY28sIFUuUy5BLiIsInByYWN0aWNlQXJlYXMiOlsiQ3JpbWluYWwgTGF3Il19&page=5\n"
     ]
    },
    {
     "name": "stderr",
     "output_type": "stream",
     "text": [
      " 36%|███▌      | 77/213 [32:47<1:26:40, 38.24s/it]"
     ]
    },
    {
     "name": "stdout",
     "output_type": "stream",
     "text": [
      "paginas en esta url: 1\n",
      "accediendo a: https://www.martindale.com/search/attorneys-law-firms-articles/?term=Puerto+Rico%2C+USA&params=eyJ0eXBlIjoicGVvcGxlIiwiY29tcGFyZSI6IiIsInRlcm0iOiJQdWVydG8gUmljbywgVVNBIiwiZ2VvTG9jYXRpb25GYWNldCI6WyJQdWVydG8gUmljbywgVS5TLkEuIl0sImdlb0xvY2F0aW9uRmFjZXRSZWNlbnRzIjpbIlB1ZXJ0byBSaWNvLCBVLlMuQS4iXSwicGFnZSI6MSwibGltaXQiOjI1LCJvZmZzZXQiOjAsInNvcnQiOiIiLCJzb3J0VHlwZSI6IiIsImNsZWFyUGFyYW1zIjpmYWxzZSwia2V5d29yZCI6IiIsInBhZ2VUaXRsZSI6Imw6UHVlcnRvIFJpY28sIFUuUy5BLiIsInByYWN0aWNlQXJlYXMiOlsiTWV0aGFtcGhldGFtaW5lIENyaW1lcyJdfQ%3D%3D\n"
     ]
    },
    {
     "name": "stderr",
     "output_type": "stream",
     "text": [
      " 37%|███▋      | 78/213 [33:11<1:16:27, 33.98s/it]"
     ]
    },
    {
     "name": "stdout",
     "output_type": "stream",
     "text": [
      "paginas en esta url: 10\n",
      "accediendo a: https://www.martindale.com/search/attorneys-law-firms-articles/?term=Puerto+Rico%2C+USA&params=eyJ0eXBlIjoicGVvcGxlIiwiY29tcGFyZSI6IiIsInRlcm0iOiJQdWVydG8gUmljbywgVVNBIiwiZ2VvTG9jYXRpb25GYWNldCI6WyJQdWVydG8gUmljbywgVS5TLkEuIl0sImdlb0xvY2F0aW9uRmFjZXRSZWNlbnRzIjpbIlB1ZXJ0byBSaWNvLCBVLlMuQS4iXSwicGFnZSI6MSwibGltaXQiOjI1LCJvZmZzZXQiOjAsInNvcnQiOiIiLCJzb3J0VHlwZSI6IiIsImNsZWFyUGFyYW1zIjpmYWxzZSwia2V5d29yZCI6IiIsInBhZ2VUaXRsZSI6Imw6UHVlcnRvIFJpY28sIFUuUy5BLiIsInByYWN0aWNlQXJlYXMiOlsiVGF4YXRpb24iXX0%3D\n",
      "https://www.martindale.com/attorney/alexis-x-garcia-rivera-4671778/\n",
      "https://www.martindale.com/attorney/arcangel-caceres-carlo-1572052/\n",
      "https://www.martindale.com/attorney/alexis-hernandez-38046892/\n",
      "https://www.martindale.com/attorney/jorge-manuel-oben-cuadros-157640829/\n",
      "https://www.martindale.com/attorney/lillian-toro-mojica-17555868/\n",
      "https://www.martindale.com/attorney/ignacio-m-arbona-arbona-1572166/\n",
      "https://www.martindale.com/attorney/elaine-rodriguez-frank-1571745/\n",
      "https://www.martindale.com/attorney/eduardo-a-bhatia-1573179/\n",
      "https://www.martindale.com/attorney/margarita-serapion-1571711/\n",
      "https://www.martindale.com/attorney/edgardo-arroyo-ortiz-1572725/\n",
      "https://www.martindale.com/attorney/waldemar-fabery-villaespesa-1572227/\n",
      "https://www.martindale.com/attorney/waleska-i-aldebol-mora-1572589/\n",
      "https://www.martindale.com/attorney/maryvette-velazquez-torres-1572723/\n",
      "https://www.martindale.com/attorney/jeanelle-alemar-escabi-27100187/\n",
      "https://www.martindale.com/attorney/cristina-i-morazzani-jove-20417046/\n",
      "https://www.martindale.com/attorney/raymond-c-o-neill-1573584/\n",
      "accediendo a: https://www.martindale.com/search/attorneys-law-firms-articles/?term=Puerto+Rico%2C+USA&params=eyJ0eXBlIjoicGVvcGxlIiwiY29tcGFyZSI6IiIsInRlcm0iOiJQdWVydG8gUmljbywgVVNBIiwiZ2VvTG9jYXRpb25GYWNldCI6WyJQdWVydG8gUmljbywgVS5TLkEuIl0sImdlb0xvY2F0aW9uRmFjZXRSZWNlbnRzIjpbIlB1ZXJ0byBSaWNvLCBVLlMuQS4iXSwicGFnZSI6MSwibGltaXQiOjI1LCJvZmZzZXQiOjAsInNvcnQiOiIiLCJzb3J0VHlwZSI6IiIsImNsZWFyUGFyYW1zIjpmYWxzZSwia2V5d29yZCI6IiIsInBhZ2VUaXRsZSI6Imw6UHVlcnRvIFJpY28sIFUuUy5BLiIsInByYWN0aWNlQXJlYXMiOlsiVGF4YXRpb24iXX0%3D&page=2\n",
      "https://www.martindale.com/attorney/maria-luz-lopez-24270942/\n",
      "https://www.martindale.com/attorney/roxana-cruz-rivera-3967300/\n",
      "https://www.martindale.com/attorney/john-marvin-hyre-esq-2484208/\n",
      "https://www.martindale.com/attorney/manuel-e-elias-rivera-1572564/\n",
      "https://www.martindale.com/attorney/angel-s-ruiz-rodriguez-1572586/\n",
      "https://www.martindale.com/attorney/eddie-q-morales-1571202/\n",
      "https://www.martindale.com/attorney/valerie-beauchamp-torres-25123788/\n",
      "https://www.martindale.com/attorney/isis-carballo-irigoyen-1573268/\n",
      "https://www.martindale.com/attorney/liz-annette-perez-rosario-4720858/\n",
      "https://www.martindale.com/attorney/manuel-lopez-zambrana-3568933/\n",
      "https://www.martindale.com/attorney/salvador-e-casellas-1572462/\n",
      "https://www.martindale.com/attorney/h-m-pereira-buonomo-1573692/\n",
      "https://www.martindale.com/attorney/eddie-lopez-alonso-1572584/\n",
      "https://www.martindale.com/attorney/manuel-lopez-zambrana-1573429/\n",
      "https://www.martindale.com/attorney/janira-beltran-selles-2726587/\n",
      "https://www.martindale.com/attorney/miguel-d-lausell-1572301/\n",
      "accediendo a: https://www.martindale.com/search/attorneys-law-firms-articles/?term=Puerto+Rico%2C+USA&params=eyJ0eXBlIjoicGVvcGxlIiwiY29tcGFyZSI6IiIsInRlcm0iOiJQdWVydG8gUmljbywgVVNBIiwiZ2VvTG9jYXRpb25GYWNldCI6WyJQdWVydG8gUmljbywgVS5TLkEuIl0sImdlb0xvY2F0aW9uRmFjZXRSZWNlbnRzIjpbIlB1ZXJ0byBSaWNvLCBVLlMuQS4iXSwicGFnZSI6MSwibGltaXQiOjI1LCJvZmZzZXQiOjAsInNvcnQiOiIiLCJzb3J0VHlwZSI6IiIsImNsZWFyUGFyYW1zIjpmYWxzZSwia2V5d29yZCI6IiIsInBhZ2VUaXRsZSI6Imw6UHVlcnRvIFJpY28sIFUuUy5BLiIsInByYWN0aWNlQXJlYXMiOlsiVGF4YXRpb24iXX0%3D&page=3\n",
      "https://www.martindale.com/attorney/jose-julian-alvarez-maldonado-1572496/\n",
      "https://www.martindale.com/attorney/carlos-f-ramirez-de-arellano-1572791/\n",
      "https://www.martindale.com/attorney/ana-christina-guzman-1572542/\n",
      "https://www.martindale.com/attorney/rafael-fernandez-suarez-1573235/\n",
      "https://www.martindale.com/attorney/jose-r-cestero-1572136/\n",
      "https://www.martindale.com/attorney/beatrice-a-cautino-antongiorgi-1573630/\n",
      "https://www.martindale.com/attorney/mariangely-gonzalez-tobaja-158692745/\n",
      "https://www.martindale.com/attorney/miguel-a-santiago-rivera-1572352/\n",
      "https://www.martindale.com/attorney/rene-aviles-garcia-esq-2662572/\n",
      "https://www.martindale.com/attorney/jorge-s-carlo-1573205/\n",
      "accediendo a: https://www.martindale.com/search/attorneys-law-firms-articles/?term=Puerto+Rico%2C+USA&params=eyJ0eXBlIjoicGVvcGxlIiwiY29tcGFyZSI6IiIsInRlcm0iOiJQdWVydG8gUmljbywgVVNBIiwiZ2VvTG9jYXRpb25GYWNldCI6WyJQdWVydG8gUmljbywgVS5TLkEuIl0sImdlb0xvY2F0aW9uRmFjZXRSZWNlbnRzIjpbIlB1ZXJ0byBSaWNvLCBVLlMuQS4iXSwicGFnZSI6MSwibGltaXQiOjI1LCJvZmZzZXQiOjAsInNvcnQiOiIiLCJzb3J0VHlwZSI6IiIsImNsZWFyUGFyYW1zIjpmYWxzZSwia2V5d29yZCI6IiIsInBhZ2VUaXRsZSI6Imw6UHVlcnRvIFJpY28sIFUuUy5BLiIsInByYWN0aWNlQXJlYXMiOlsiVGF4YXRpb24iXX0%3D&page=4\n",
      "https://www.martindale.com/attorney/rafael-a-carazo-1573187/\n",
      "https://www.martindale.com/attorney/jose-m-falcon-melendez-2584424/\n",
      "https://www.martindale.com/attorney/jorge-l-guerrero-calderon-1572906/\n",
      "https://www.martindale.com/attorney/francisco-fernandez-alvarez-1573136/\n",
      "https://www.martindale.com/attorney/edward-rodriguez-rodriguez-4349075/\n",
      "https://www.martindale.com/attorney/victor-m-aledo-garcia-2314990/\n",
      "https://www.martindale.com/attorney/barry-a-woods-1574153/\n",
      "https://www.martindale.com/attorney/orlando-j-rodriguez-1572596/\n",
      "https://www.martindale.com/attorney/neysha-natal-castro-4349056/\n",
      "https://www.martindale.com/attorney/neville-ortiz-soto-1573973/\n",
      "https://www.martindale.com/attorney/yamary-i-gonzalez-berrios-4720845/\n",
      "https://www.martindale.com/attorney/yaritza-portalatin-mendez-4349116/\n",
      "https://www.martindale.com/attorney/jose-e-franco-gomez-1573500/\n",
      "https://www.martindale.com/attorney/giselle-m-flaque-duran-4504209/\n",
      "https://www.martindale.com/attorney/diana-m-alcaraz-irizarry-4703935/\n",
      "accediendo a: https://www.martindale.com/search/attorneys-law-firms-articles/?term=Puerto+Rico%2C+USA&params=eyJ0eXBlIjoicGVvcGxlIiwiY29tcGFyZSI6IiIsInRlcm0iOiJQdWVydG8gUmljbywgVVNBIiwiZ2VvTG9jYXRpb25GYWNldCI6WyJQdWVydG8gUmljbywgVS5TLkEuIl0sImdlb0xvY2F0aW9uRmFjZXRSZWNlbnRzIjpbIlB1ZXJ0byBSaWNvLCBVLlMuQS4iXSwicGFnZSI6MSwibGltaXQiOjI1LCJvZmZzZXQiOjAsInNvcnQiOiIiLCJzb3J0VHlwZSI6IiIsImNsZWFyUGFyYW1zIjpmYWxzZSwia2V5d29yZCI6IiIsInBhZ2VUaXRsZSI6Imw6UHVlcnRvIFJpY28sIFUuUy5BLiIsInByYWN0aWNlQXJlYXMiOlsiVGF4YXRpb24iXX0%3D&page=5\n",
      "https://www.martindale.com/attorney/ruben-muniz-bonilla-4720854/\n",
      "https://www.martindale.com/attorney/javier-e-rosario-perez-5054778/\n",
      "https://www.martindale.com/attorney/andres-fortuna-garcia-2780965/\n",
      "https://www.martindale.com/attorney/rafael-guillermety-1572908/\n",
      "https://www.martindale.com/attorney/vanessa-i-raffucci-1572761/\n",
      "https://www.martindale.com/attorney/angel-r-marzan-santiago-1573336/\n",
      "https://www.martindale.com/attorney/jorge-l-mendin-1572709/\n",
      "https://www.martindale.com/attorney/ramon-j-abarca-schwartz-1573202/\n",
      "https://www.martindale.com/attorney/german-ojeda-bracero-1572569/\n",
      "https://www.martindale.com/attorney/nestor-r-nadal-lopez-1573419/\n",
      "https://www.martindale.com/attorney/melvin-rivera-mendez-2170225/\n",
      "https://www.martindale.com/attorney/cecile-a-armstrong-1573302/\n",
      "accediendo a: https://www.martindale.com/search/attorneys-law-firms-articles/?term=Puerto+Rico%2C+USA&params=eyJ0eXBlIjoicGVvcGxlIiwiY29tcGFyZSI6IiIsInRlcm0iOiJQdWVydG8gUmljbywgVVNBIiwiZ2VvTG9jYXRpb25GYWNldCI6WyJQdWVydG8gUmljbywgVS5TLkEuIl0sImdlb0xvY2F0aW9uRmFjZXRSZWNlbnRzIjpbIlB1ZXJ0byBSaWNvLCBVLlMuQS4iXSwicGFnZSI6MSwibGltaXQiOjI1LCJvZmZzZXQiOjAsInNvcnQiOiIiLCJzb3J0VHlwZSI6IiIsImNsZWFyUGFyYW1zIjpmYWxzZSwia2V5d29yZCI6IiIsInBhZ2VUaXRsZSI6Imw6UHVlcnRvIFJpY28sIFUuUy5BLiIsInByYWN0aWNlQXJlYXMiOlsiVGF4YXRpb24iXX0%3D&page=6\n",
      "https://www.martindale.com/attorney/edwin-o-figueroa-alvarez-5062098/\n",
      "https://www.martindale.com/attorney/efrain-irizarry-44241082/\n",
      "https://www.martindale.com/attorney/edwin-f-galarza-vega-1572600/\n",
      "https://www.martindale.com/attorney/amarilis-l-gonzalez-2225544/\n",
      "https://www.martindale.com/attorney/marta-d-masferrer-1573448/\n",
      "https://www.martindale.com/attorney/jose-e-villamarzo-santiago-2298741/\n",
      "https://www.martindale.com/attorney/eduardo-h-martinez-echeverria-1573313/\n",
      "https://www.martindale.com/attorney/jose-a-menendez-cortada-1573096/\n",
      "https://www.martindale.com/attorney/fernando-goyco-1572750/\n",
      "https://www.martindale.com/attorney/juan-c-mendez-torres-1573337/\n",
      "https://www.martindale.com/attorney/noe-d-garcia-lopez-1571596/\n",
      "https://www.martindale.com/attorney/luisa-wert-serrano-1573173/\n",
      "https://www.martindale.com/attorney/arsenio-comas-rodon-1573107/\n",
      "https://www.martindale.com/attorney/cesar-gomez-negron-1572502/\n",
      "https://www.martindale.com/attorney/ursula-carrion-nevarez-2301596/\n",
      "accediendo a: https://www.martindale.com/search/attorneys-law-firms-articles/?term=Puerto+Rico%2C+USA&params=eyJ0eXBlIjoicGVvcGxlIiwiY29tcGFyZSI6IiIsInRlcm0iOiJQdWVydG8gUmljbywgVVNBIiwiZ2VvTG9jYXRpb25GYWNldCI6WyJQdWVydG8gUmljbywgVS5TLkEuIl0sImdlb0xvY2F0aW9uRmFjZXRSZWNlbnRzIjpbIlB1ZXJ0byBSaWNvLCBVLlMuQS4iXSwicGFnZSI6MSwibGltaXQiOjI1LCJvZmZzZXQiOjAsInNvcnQiOiIiLCJzb3J0VHlwZSI6IiIsImNsZWFyUGFyYW1zIjpmYWxzZSwia2V5d29yZCI6IiIsInBhZ2VUaXRsZSI6Imw6UHVlcnRvIFJpY28sIFUuUy5BLiIsInByYWN0aWNlQXJlYXMiOlsiVGF4YXRpb24iXX0%3D&page=7\n",
      "https://www.martindale.com/attorney/juan-a-santos-berrios-1572465/\n",
      "https://www.martindale.com/attorney/manuel-villalon-brito-1573558/\n",
      "https://www.martindale.com/attorney/rosa-m-gonzalez-lugo-1573596/\n",
      "https://www.martindale.com/attorney/jose-luis-vila-perez-1572224/\n",
      "https://www.martindale.com/attorney/yelitza-r-lopez-rivera-3209802/\n",
      "https://www.martindale.com/attorney/wilmer-j-camacho-caraballo-1572889/\n",
      "https://www.martindale.com/attorney/antonio-bauza-1572816/\n",
      "https://www.martindale.com/attorney/carlos-j-villafane-1573278/\n",
      "https://www.martindale.com/attorney/joseph-t-wynne-1573286/\n",
      "accediendo a: https://www.martindale.com/search/attorneys-law-firms-articles/?term=Puerto+Rico%2C+USA&params=eyJ0eXBlIjoicGVvcGxlIiwiY29tcGFyZSI6IiIsInRlcm0iOiJQdWVydG8gUmljbywgVVNBIiwiZ2VvTG9jYXRpb25GYWNldCI6WyJQdWVydG8gUmljbywgVS5TLkEuIl0sImdlb0xvY2F0aW9uRmFjZXRSZWNlbnRzIjpbIlB1ZXJ0byBSaWNvLCBVLlMuQS4iXSwicGFnZSI6MSwibGltaXQiOjI1LCJvZmZzZXQiOjAsInNvcnQiOiIiLCJzb3J0VHlwZSI6IiIsImNsZWFyUGFyYW1zIjpmYWxzZSwia2V5d29yZCI6IiIsInBhZ2VUaXRsZSI6Imw6UHVlcnRvIFJpY28sIFUuUy5BLiIsInByYWN0aWNlQXJlYXMiOlsiVGF4YXRpb24iXX0%3D&page=8\n",
      "https://www.martindale.com/attorney/rebecca-rodriguez-cruz-2009786/\n",
      "https://www.martindale.com/attorney/antonio-bauza-157379929/\n",
      "https://www.martindale.com/attorney/edgar-rios-mendez-34219145/\n",
      "https://www.martindale.com/attorney/roberto-b-suarez-1572484/\n",
      "https://www.martindale.com/attorney/luis-m-pellot-gonzalez-1571594/\n",
      "https://www.martindale.com/attorney/mariana-m-contreras-gomez-1571600/\n",
      "https://www.martindale.com/attorney/carlos-rodriguez-cintron-1572876/\n",
      "https://www.martindale.com/attorney/rebecca-cuevas-fontan-2298720/\n",
      "https://www.martindale.com/attorney/jose-l-calabria-1572169/\n",
      "https://www.martindale.com/attorney/luis-l-torres-marrero-1572533/\n",
      "https://www.martindale.com/attorney/salvador-jimenez-santoni-1573412/\n",
      "https://www.martindale.com/attorney/jose-rodriguez-suarez-1572228/\n",
      "accediendo a: https://www.martindale.com/search/attorneys-law-firms-articles/?term=Puerto+Rico%2C+USA&params=eyJ0eXBlIjoicGVvcGxlIiwiY29tcGFyZSI6IiIsInRlcm0iOiJQdWVydG8gUmljbywgVVNBIiwiZ2VvTG9jYXRpb25GYWNldCI6WyJQdWVydG8gUmljbywgVS5TLkEuIl0sImdlb0xvY2F0aW9uRmFjZXRSZWNlbnRzIjpbIlB1ZXJ0byBSaWNvLCBVLlMuQS4iXSwicGFnZSI6MSwibGltaXQiOjI1LCJvZmZzZXQiOjAsInNvcnQiOiIiLCJzb3J0VHlwZSI6IiIsImNsZWFyUGFyYW1zIjpmYWxzZSwia2V5d29yZCI6IiIsInBhZ2VUaXRsZSI6Imw6UHVlcnRvIFJpY28sIFUuUy5BLiIsInByYWN0aWNlQXJlYXMiOlsiVGF4YXRpb24iXX0%3D&page=9\n",
      "https://www.martindale.com/attorney/gloriana-a-rodriguez-martinez-2726561/\n",
      "https://www.martindale.com/attorney/ivelisse-collazo-rivera-1573625/\n",
      "https://www.martindale.com/attorney/xiomara-del-toro-2849147/\n",
      "https://www.martindale.com/attorney/juan-l-alonso-rodriguez-2005148/\n",
      "https://www.martindale.com/attorney/ana-maria-bigas-kennerley-1573371/\n",
      "https://www.martindale.com/attorney/zaida-j-anqueira-perez-1571597/\n",
      "https://www.martindale.com/attorney/roberto-berrios-falcon-5128154/\n",
      "https://www.martindale.com/attorney/javier-rivera-longchamps-1572862/\n",
      "https://www.martindale.com/attorney/cesar-r-rosario-vega-1572760/\n",
      "https://www.martindale.com/attorney/luis-lajara-borelli-1572003/\n",
      "https://www.martindale.com/attorney/angel-d-marrero-murga-24485746/\n",
      "https://www.martindale.com/attorney/ana-m-leal-gamba-1573640/\n",
      "https://www.martindale.com/attorney/vanessa-i-soto-bober-1572585/\n",
      "https://www.martindale.com/attorney/amaya-iraolagoitia-fernandez-23346774/\n",
      "accediendo a: https://www.martindale.com/search/attorneys-law-firms-articles/?term=Puerto+Rico%2C+USA&params=eyJ0eXBlIjoicGVvcGxlIiwiY29tcGFyZSI6IiIsInRlcm0iOiJQdWVydG8gUmljbywgVVNBIiwiZ2VvTG9jYXRpb25GYWNldCI6WyJQdWVydG8gUmljbywgVS5TLkEuIl0sImdlb0xvY2F0aW9uRmFjZXRSZWNlbnRzIjpbIlB1ZXJ0byBSaWNvLCBVLlMuQS4iXSwicGFnZSI6MSwibGltaXQiOjI1LCJvZmZzZXQiOjAsInNvcnQiOiIiLCJzb3J0VHlwZSI6IiIsImNsZWFyUGFyYW1zIjpmYWxzZSwia2V5d29yZCI6IiIsInBhZ2VUaXRsZSI6Imw6UHVlcnRvIFJpY28sIFUuUy5BLiIsInByYWN0aWNlQXJlYXMiOlsiVGF4YXRpb24iXX0%3D&page=10\n",
      "https://www.martindale.com/attorney/eduardo-j-negron-mendez-1573646/\n",
      "https://www.martindale.com/attorney/edwin-prado-1571703/\n"
     ]
    },
    {
     "name": "stderr",
     "output_type": "stream",
     "text": [
      " 37%|███▋      | 79/213 [33:37<1:10:20, 31.49s/it]"
     ]
    },
    {
     "name": "stdout",
     "output_type": "stream",
     "text": [
      "paginas en esta url: 1\n",
      "accediendo a: https://www.martindale.com/search/attorneys-law-firms-articles/?term=Puerto+Rico%2C+USA&params=eyJ0eXBlIjoicGVvcGxlIiwiY29tcGFyZSI6IiIsInRlcm0iOiJQdWVydG8gUmljbywgVVNBIiwiZ2VvTG9jYXRpb25GYWNldCI6WyJQdWVydG8gUmljbywgVS5TLkEuIl0sImdlb0xvY2F0aW9uRmFjZXRSZWNlbnRzIjpbIlB1ZXJ0byBSaWNvLCBVLlMuQS4iXSwicGFnZSI6MSwibGltaXQiOjI1LCJvZmZzZXQiOjAsInNvcnQiOiIiLCJzb3J0VHlwZSI6IiIsImNsZWFyUGFyYW1zIjpmYWxzZSwia2V5d29yZCI6IiIsInBhZ2VUaXRsZSI6Imw6UHVlcnRvIFJpY28sIFUuUy5BLiIsInByYWN0aWNlQXJlYXMiOlsiT2NjdXBhdGlvbmFsIFNhZmV0eSBhbmQgSGVhbHRoIChPU0hBKSJdfQ%3D%3D\n",
      "https://www.martindale.com/attorney/rosangela-sanfilippo-resumil-2854083/\n"
     ]
    },
    {
     "name": "stderr",
     "output_type": "stream",
     "text": [
      " 38%|███▊      | 80/213 [34:00<1:04:09, 28.95s/it]"
     ]
    },
    {
     "name": "stdout",
     "output_type": "stream",
     "text": [
      "paginas en esta url: 4\n",
      "accediendo a: https://www.martindale.com/search/attorneys-law-firms-articles/?term=Puerto+Rico%2C+USA&params=eyJ0eXBlIjoicGVvcGxlIiwiY29tcGFyZSI6IiIsInRlcm0iOiJQdWVydG8gUmljbywgVVNBIiwiZ2VvTG9jYXRpb25GYWNldCI6WyJQdWVydG8gUmljbywgVS5TLkEuIl0sImdlb0xvY2F0aW9uRmFjZXRSZWNlbnRzIjpbIlB1ZXJ0byBSaWNvLCBVLlMuQS4iXSwicGFnZSI6MSwibGltaXQiOjI1LCJvZmZzZXQiOjAsInNvcnQiOiIiLCJzb3J0VHlwZSI6IiIsImNsZWFyUGFyYW1zIjpmYWxzZSwia2V5d29yZCI6IiIsInBhZ2VUaXRsZSI6Imw6UHVlcnRvIFJpY28sIFUuUy5BLiIsInByYWN0aWNlQXJlYXMiOlsiTWVyZ2VycywgQWNxdWlzaXRpb25zIGFuZCBEaXZlc3RpdHVyZXMiXX0%3D\n",
      "https://www.martindale.com/attorney/juan-agustin-rivero-1573587/\n",
      "https://www.martindale.com/attorney/magda-maria-boyles-33749121/\n",
      "https://www.martindale.com/attorney/nikos-buxeda-ferrer-487651/\n",
      "accediendo a: https://www.martindale.com/search/attorneys-law-firms-articles/?term=Puerto+Rico%2C+USA&params=eyJ0eXBlIjoicGVvcGxlIiwiY29tcGFyZSI6IiIsInRlcm0iOiJQdWVydG8gUmljbywgVVNBIiwiZ2VvTG9jYXRpb25GYWNldCI6WyJQdWVydG8gUmljbywgVS5TLkEuIl0sImdlb0xvY2F0aW9uRmFjZXRSZWNlbnRzIjpbIlB1ZXJ0byBSaWNvLCBVLlMuQS4iXSwicGFnZSI6MSwibGltaXQiOjI1LCJvZmZzZXQiOjAsInNvcnQiOiIiLCJzb3J0VHlwZSI6IiIsImNsZWFyUGFyYW1zIjpmYWxzZSwia2V5d29yZCI6IiIsInBhZ2VUaXRsZSI6Imw6UHVlcnRvIFJpY28sIFUuUy5BLiIsInByYWN0aWNlQXJlYXMiOlsiTWVyZ2VycywgQWNxdWlzaXRpb25zIGFuZCBEaXZlc3RpdHVyZXMiXX0%3D&page=2\n",
      "https://www.martindale.com/attorney/ivette-m-lopez-figueroa-1573298/\n",
      "https://www.martindale.com/attorney/patricia-g-cara-1573415/\n",
      "accediendo a: https://www.martindale.com/search/attorneys-law-firms-articles/?term=Puerto+Rico%2C+USA&params=eyJ0eXBlIjoicGVvcGxlIiwiY29tcGFyZSI6IiIsInRlcm0iOiJQdWVydG8gUmljbywgVVNBIiwiZ2VvTG9jYXRpb25GYWNldCI6WyJQdWVydG8gUmljbywgVS5TLkEuIl0sImdlb0xvY2F0aW9uRmFjZXRSZWNlbnRzIjpbIlB1ZXJ0byBSaWNvLCBVLlMuQS4iXSwicGFnZSI6MSwibGltaXQiOjI1LCJvZmZzZXQiOjAsInNvcnQiOiIiLCJzb3J0VHlwZSI6IiIsImNsZWFyUGFyYW1zIjpmYWxzZSwia2V5d29yZCI6IiIsInBhZ2VUaXRsZSI6Imw6UHVlcnRvIFJpY28sIFUuUy5BLiIsInByYWN0aWNlQXJlYXMiOlsiTWVyZ2VycywgQWNxdWlzaXRpb25zIGFuZCBEaXZlc3RpdHVyZXMiXX0%3D&page=3\n",
      "https://www.martindale.com/attorney/omar-j-marrero-diaz-36379331/\n",
      "https://www.martindale.com/attorney/carlos-o-souffront-1573220/\n",
      "accediendo a: https://www.martindale.com/search/attorneys-law-firms-articles/?term=Puerto+Rico%2C+USA&params=eyJ0eXBlIjoicGVvcGxlIiwiY29tcGFyZSI6IiIsInRlcm0iOiJQdWVydG8gUmljbywgVVNBIiwiZ2VvTG9jYXRpb25GYWNldCI6WyJQdWVydG8gUmljbywgVS5TLkEuIl0sImdlb0xvY2F0aW9uRmFjZXRSZWNlbnRzIjpbIlB1ZXJ0byBSaWNvLCBVLlMuQS4iXSwicGFnZSI6MSwibGltaXQiOjI1LCJvZmZzZXQiOjAsInNvcnQiOiIiLCJzb3J0VHlwZSI6IiIsImNsZWFyUGFyYW1zIjpmYWxzZSwia2V5d29yZCI6IiIsInBhZ2VUaXRsZSI6Imw6UHVlcnRvIFJpY28sIFUuUy5BLiIsInByYWN0aWNlQXJlYXMiOlsiTWVyZ2VycywgQWNxdWlzaXRpb25zIGFuZCBEaXZlc3RpdHVyZXMiXX0%3D&page=4\n",
      "https://www.martindale.com/attorney/anabelle-centeno-berrios-3355252/\n",
      "https://www.martindale.com/attorney/donald-e-hull-1573408/\n"
     ]
    },
    {
     "name": "stderr",
     "output_type": "stream",
     "text": [
      " 38%|███▊      | 81/213 [34:14<53:37, 24.37s/it]  "
     ]
    },
    {
     "name": "stdout",
     "output_type": "stream",
     "text": [
      "paginas en esta url: 1\n",
      "accediendo a: https://www.martindale.com/search/attorneys-law-firms-articles/?term=Puerto+Rico%2C+USA&params=eyJ0eXBlIjoicGVvcGxlIiwiY29tcGFyZSI6IiIsInRlcm0iOiJQdWVydG8gUmljbywgVVNBIiwiZ2VvTG9jYXRpb25GYWNldCI6WyJQdWVydG8gUmljbywgVS5TLkEuIl0sImdlb0xvY2F0aW9uRmFjZXRSZWNlbnRzIjpbIlB1ZXJ0byBSaWNvLCBVLlMuQS4iXSwicGFnZSI6MSwibGltaXQiOjI1LCJvZmZzZXQiOjAsInNvcnQiOiIiLCJzb3J0VHlwZSI6IiIsImNsZWFyUGFyYW1zIjpmYWxzZSwia2V5d29yZCI6IiIsInBhZ2VUaXRsZSI6Imw6UHVlcnRvIFJpY28sIFUuUy5BLiIsInByYWN0aWNlQXJlYXMiOlsiU2V4dWFsIEhhcmFzc21lbnQiXX0%3D\n"
     ]
    },
    {
     "name": "stderr",
     "output_type": "stream",
     "text": [
      " 38%|███▊      | 82/213 [34:37<52:40, 24.13s/it]"
     ]
    },
    {
     "name": "stdout",
     "output_type": "stream",
     "text": [
      "paginas en esta url: 1\n",
      "accediendo a: https://www.martindale.com/search/attorneys-law-firms-articles/?term=Puerto+Rico%2C+USA&params=eyJ0eXBlIjoicGVvcGxlIiwiY29tcGFyZSI6IiIsInRlcm0iOiJQdWVydG8gUmljbywgVVNBIiwiZ2VvTG9jYXRpb25GYWNldCI6WyJQdWVydG8gUmljbywgVS5TLkEuIl0sImdlb0xvY2F0aW9uRmFjZXRSZWNlbnRzIjpbIlB1ZXJ0byBSaWNvLCBVLlMuQS4iXSwicGFnZSI6MSwibGltaXQiOjI1LCJvZmZzZXQiOjAsInNvcnQiOiIiLCJzb3J0VHlwZSI6IiIsImNsZWFyUGFyYW1zIjpmYWxzZSwia2V5d29yZCI6IiIsInBhZ2VUaXRsZSI6Imw6UHVlcnRvIFJpY28sIFUuUy5BLiIsInByYWN0aWNlQXJlYXMiOlsiRXN0YXRlIExpdGlnYXRpb24iXX0%3D\n"
     ]
    },
    {
     "name": "stderr",
     "output_type": "stream",
     "text": [
      " 39%|███▉      | 83/213 [35:01<51:50, 23.92s/it]"
     ]
    },
    {
     "name": "stdout",
     "output_type": "stream",
     "text": [
      "paginas en esta url: 1\n",
      "accediendo a: https://www.martindale.com/search/attorneys-law-firms-articles/?term=Puerto+Rico%2C+USA&params=eyJ0eXBlIjoicGVvcGxlIiwiY29tcGFyZSI6IiIsInRlcm0iOiJQdWVydG8gUmljbywgVVNBIiwiZ2VvTG9jYXRpb25GYWNldCI6WyJQdWVydG8gUmljbywgVS5TLkEuIl0sImdlb0xvY2F0aW9uRmFjZXRSZWNlbnRzIjpbIlB1ZXJ0byBSaWNvLCBVLlMuQS4iXSwicGFnZSI6MSwibGltaXQiOjI1LCJvZmZzZXQiOjAsInNvcnQiOiIiLCJzb3J0VHlwZSI6IiIsImNsZWFyUGFyYW1zIjpmYWxzZSwia2V5d29yZCI6IiIsInBhZ2VUaXRsZSI6Imw6UHVlcnRvIFJpY28sIFUuUy5BLiIsInByYWN0aWNlQXJlYXMiOlsiRVJJU0EiXX0%3D\n"
     ]
    },
    {
     "name": "stderr",
     "output_type": "stream",
     "text": [
      " 39%|███▉      | 84/213 [35:26<52:20, 24.35s/it]"
     ]
    },
    {
     "name": "stdout",
     "output_type": "stream",
     "text": [
      "paginas en esta url: 1\n",
      "accediendo a: https://www.martindale.com/search/attorneys-law-firms-articles/?term=Puerto+Rico%2C+USA&params=eyJ0eXBlIjoicGVvcGxlIiwiY29tcGFyZSI6IiIsInRlcm0iOiJQdWVydG8gUmljbywgVVNBIiwiZ2VvTG9jYXRpb25GYWNldCI6WyJQdWVydG8gUmljbywgVS5TLkEuIl0sImdlb0xvY2F0aW9uRmFjZXRSZWNlbnRzIjpbIlB1ZXJ0byBSaWNvLCBVLlMuQS4iXSwicGFnZSI6MSwibGltaXQiOjI1LCJvZmZzZXQiOjAsInNvcnQiOiIiLCJzb3J0VHlwZSI6IiIsImNsZWFyUGFyYW1zIjpmYWxzZSwia2V5d29yZCI6IiIsInBhZ2VUaXRsZSI6Imw6UHVlcnRvIFJpY28sIFUuUy5BLiIsInByYWN0aWNlQXJlYXMiOlsiTGlmZSBhbmQgSGVhbHRoIEluc3VyYW5jZSJdfQ%3D%3D\n"
     ]
    },
    {
     "name": "stderr",
     "output_type": "stream",
     "text": [
      " 40%|███▉      | 85/213 [35:51<52:16, 24.50s/it]"
     ]
    },
    {
     "name": "stdout",
     "output_type": "stream",
     "text": [
      "paginas en esta url: 4\n",
      "accediendo a: https://www.martindale.com/search/attorneys-law-firms-articles/?term=Puerto+Rico%2C+USA&params=eyJ0eXBlIjoicGVvcGxlIiwiY29tcGFyZSI6IiIsInRlcm0iOiJQdWVydG8gUmljbywgVVNBIiwiZ2VvTG9jYXRpb25GYWNldCI6WyJQdWVydG8gUmljbywgVS5TLkEuIl0sImdlb0xvY2F0aW9uRmFjZXRSZWNlbnRzIjpbIlB1ZXJ0byBSaWNvLCBVLlMuQS4iXSwicGFnZSI6MSwibGltaXQiOjI1LCJvZmZzZXQiOjAsInNvcnQiOiIiLCJzb3J0VHlwZSI6IiIsImNsZWFyUGFyYW1zIjpmYWxzZSwia2V5d29yZCI6IiIsInBhZ2VUaXRsZSI6Imw6UHVlcnRvIFJpY28sIFUuUy5BLiIsInByYWN0aWNlQXJlYXMiOlsiR292ZXJubWVudCJdfQ%3D%3D\n",
      "https://www.martindale.com/attorney/carlos-a-romero-barcelo-300552854/\n",
      "https://www.martindale.com/attorney/luis-berrios-amadeo-1571990/\n",
      "accediendo a: https://www.martindale.com/search/attorneys-law-firms-articles/?term=Puerto+Rico%2C+USA&params=eyJ0eXBlIjoicGVvcGxlIiwiY29tcGFyZSI6IiIsInRlcm0iOiJQdWVydG8gUmljbywgVVNBIiwiZ2VvTG9jYXRpb25GYWNldCI6WyJQdWVydG8gUmljbywgVS5TLkEuIl0sImdlb0xvY2F0aW9uRmFjZXRSZWNlbnRzIjpbIlB1ZXJ0byBSaWNvLCBVLlMuQS4iXSwicGFnZSI6MSwibGltaXQiOjI1LCJvZmZzZXQiOjAsInNvcnQiOiIiLCJzb3J0VHlwZSI6IiIsImNsZWFyUGFyYW1zIjpmYWxzZSwia2V5d29yZCI6IiIsInBhZ2VUaXRsZSI6Imw6UHVlcnRvIFJpY28sIFUuUy5BLiIsInByYWN0aWNlQXJlYXMiOlsiR292ZXJubWVudCJdfQ%3D%3D&page=2\n",
      "https://www.martindale.com/attorney/edraul-colon-301692292/\n",
      "accediendo a: https://www.martindale.com/search/attorneys-law-firms-articles/?term=Puerto+Rico%2C+USA&params=eyJ0eXBlIjoicGVvcGxlIiwiY29tcGFyZSI6IiIsInRlcm0iOiJQdWVydG8gUmljbywgVVNBIiwiZ2VvTG9jYXRpb25GYWNldCI6WyJQdWVydG8gUmljbywgVS5TLkEuIl0sImdlb0xvY2F0aW9uRmFjZXRSZWNlbnRzIjpbIlB1ZXJ0byBSaWNvLCBVLlMuQS4iXSwicGFnZSI6MSwibGltaXQiOjI1LCJvZmZzZXQiOjAsInNvcnQiOiIiLCJzb3J0VHlwZSI6IiIsImNsZWFyUGFyYW1zIjpmYWxzZSwia2V5d29yZCI6IiIsInBhZ2VUaXRsZSI6Imw6UHVlcnRvIFJpY28sIFUuUy5BLiIsInByYWN0aWNlQXJlYXMiOlsiR292ZXJubWVudCJdfQ%3D%3D&page=3\n",
      "https://www.martindale.com/attorney/luis-g-hidalgo-157640519/\n",
      "accediendo a: https://www.martindale.com/search/attorneys-law-firms-articles/?term=Puerto+Rico%2C+USA&params=eyJ0eXBlIjoicGVvcGxlIiwiY29tcGFyZSI6IiIsInRlcm0iOiJQdWVydG8gUmljbywgVVNBIiwiZ2VvTG9jYXRpb25GYWNldCI6WyJQdWVydG8gUmljbywgVS5TLkEuIl0sImdlb0xvY2F0aW9uRmFjZXRSZWNlbnRzIjpbIlB1ZXJ0byBSaWNvLCBVLlMuQS4iXSwicGFnZSI6MSwibGltaXQiOjI1LCJvZmZzZXQiOjAsInNvcnQiOiIiLCJzb3J0VHlwZSI6IiIsImNsZWFyUGFyYW1zIjpmYWxzZSwia2V5d29yZCI6IiIsInBhZ2VUaXRsZSI6Imw6UHVlcnRvIFJpY28sIFUuUy5BLiIsInByYWN0aWNlQXJlYXMiOlsiR292ZXJubWVudCJdfQ%3D%3D&page=4\n",
      "https://www.martindale.com/attorney/walter-danielle-rodriguez-fernandez-301208610/\n"
     ]
    },
    {
     "name": "stderr",
     "output_type": "stream",
     "text": [
      " 40%|████      | 86/213 [36:06<46:04, 21.77s/it]"
     ]
    },
    {
     "name": "stdout",
     "output_type": "stream",
     "text": [
      "paginas en esta url: 18\n",
      "accediendo a: https://www.martindale.com/search/attorneys-law-firms-articles/?term=Puerto+Rico%2C+USA&params=eyJ0eXBlIjoicGVvcGxlIiwiY29tcGFyZSI6IiIsInRlcm0iOiJQdWVydG8gUmljbywgVVNBIiwiZ2VvTG9jYXRpb25GYWNldCI6WyJQdWVydG8gUmljbywgVS5TLkEuIl0sImdlb0xvY2F0aW9uRmFjZXRSZWNlbnRzIjpbIlB1ZXJ0byBSaWNvLCBVLlMuQS4iXSwicGFnZSI6MSwibGltaXQiOjI1LCJvZmZzZXQiOjAsInNvcnQiOiIiLCJzb3J0VHlwZSI6IiIsImNsZWFyUGFyYW1zIjpmYWxzZSwia2V5d29yZCI6IiIsInBhZ2VUaXRsZSI6Imw6UHVlcnRvIFJpY28sIFUuUy5BLiIsInByYWN0aWNlQXJlYXMiOlsiUmVhbCBFc3RhdGUiXX0%3D\n",
      "https://www.martindale.com/attorney/monica-rodriguez-villa-33633387/\n",
      "https://www.martindale.com/attorney/hilda-i-rodriguez-mercado-1572756/\n",
      "accediendo a: https://www.martindale.com/search/attorneys-law-firms-articles/?term=Puerto+Rico%2C+USA&params=eyJ0eXBlIjoicGVvcGxlIiwiY29tcGFyZSI6IiIsInRlcm0iOiJQdWVydG8gUmljbywgVVNBIiwiZ2VvTG9jYXRpb25GYWNldCI6WyJQdWVydG8gUmljbywgVS5TLkEuIl0sImdlb0xvY2F0aW9uRmFjZXRSZWNlbnRzIjpbIlB1ZXJ0byBSaWNvLCBVLlMuQS4iXSwicGFnZSI6MSwibGltaXQiOjI1LCJvZmZzZXQiOjAsInNvcnQiOiIiLCJzb3J0VHlwZSI6IiIsImNsZWFyUGFyYW1zIjpmYWxzZSwia2V5d29yZCI6IiIsInBhZ2VUaXRsZSI6Imw6UHVlcnRvIFJpY28sIFUuUy5BLiIsInByYWN0aWNlQXJlYXMiOlsiUmVhbCBFc3RhdGUiXX0%3D&page=2\n",
      "https://www.martindale.com/attorney/esteban-r-bengoa-28526086/\n",
      "https://www.martindale.com/attorney/brunilda-r-santiago-acevedo-1572177/\n",
      "https://www.martindale.com/attorney/luis-r-davila-colon-1572061/\n",
      "https://www.martindale.com/attorney/irmarie-rivera-gorritz-2584397/\n",
      "https://www.martindale.com/attorney/maria-patricia-lake-1572830/\n",
      "https://www.martindale.com/attorney/antonio-j-barcelo-4239889/\n",
      "https://www.martindale.com/attorney/thelma-rivera-1572808/\n",
      "https://www.martindale.com/attorney/myrna-i-lozada-guzman-1572464/\n",
      "accediendo a: https://www.martindale.com/search/attorneys-law-firms-articles/?term=Puerto+Rico%2C+USA&params=eyJ0eXBlIjoicGVvcGxlIiwiY29tcGFyZSI6IiIsInRlcm0iOiJQdWVydG8gUmljbywgVVNBIiwiZ2VvTG9jYXRpb25GYWNldCI6WyJQdWVydG8gUmljbywgVS5TLkEuIl0sImdlb0xvY2F0aW9uRmFjZXRSZWNlbnRzIjpbIlB1ZXJ0byBSaWNvLCBVLlMuQS4iXSwicGFnZSI6MSwibGltaXQiOjI1LCJvZmZzZXQiOjAsInNvcnQiOiIiLCJzb3J0VHlwZSI6IiIsImNsZWFyUGFyYW1zIjpmYWxzZSwia2V5d29yZCI6IiIsInBhZ2VUaXRsZSI6Imw6UHVlcnRvIFJpY28sIFUuUy5BLiIsInByYWN0aWNlQXJlYXMiOlsiUmVhbCBFc3RhdGUiXX0%3D&page=3\n",
      "https://www.martindale.com/attorney/alberto-j-perez-hernandez-1572403/\n",
      "https://www.martindale.com/attorney/luis-m-nolla-vila-1572370/\n",
      "https://www.martindale.com/attorney/luis-g-rivera-marin-1573442/\n",
      "https://www.martindale.com/attorney/luis-valle-irizarry-2043011/\n",
      "https://www.martindale.com/attorney/alberto-ferrer-1572659/\n",
      "https://www.martindale.com/attorney/maria-i-de-mier-1572157/\n",
      "https://www.martindale.com/attorney/johanna-estrella-24485751/\n",
      "https://www.martindale.com/attorney/helen-a-salichs-1573344/\n",
      "https://www.martindale.com/attorney/lizette-ortiz-bonilla-1572130/\n",
      "accediendo a: https://www.martindale.com/search/attorneys-law-firms-articles/?term=Puerto+Rico%2C+USA&params=eyJ0eXBlIjoicGVvcGxlIiwiY29tcGFyZSI6IiIsInRlcm0iOiJQdWVydG8gUmljbywgVVNBIiwiZ2VvTG9jYXRpb25GYWNldCI6WyJQdWVydG8gUmljbywgVS5TLkEuIl0sImdlb0xvY2F0aW9uRmFjZXRSZWNlbnRzIjpbIlB1ZXJ0byBSaWNvLCBVLlMuQS4iXSwicGFnZSI6MSwibGltaXQiOjI1LCJvZmZzZXQiOjAsInNvcnQiOiIiLCJzb3J0VHlwZSI6IiIsImNsZWFyUGFyYW1zIjpmYWxzZSwia2V5d29yZCI6IiIsInBhZ2VUaXRsZSI6Imw6UHVlcnRvIFJpY28sIFUuUy5BLiIsInByYWN0aWNlQXJlYXMiOlsiUmVhbCBFc3RhdGUiXX0%3D&page=4\n",
      "https://www.martindale.com/attorney/maritza-silva-cofresi-1572557/\n",
      "https://www.martindale.com/attorney/angel-rafael-marrero-1573247/\n",
      "https://www.martindale.com/attorney/carlos-m-garcia-rullan-1572039/\n",
      "https://www.martindale.com/attorney/roberto-l-cabanas-1573234/\n",
      "https://www.martindale.com/attorney/frank-j-lopez-300712292/\n",
      "accediendo a: https://www.martindale.com/search/attorneys-law-firms-articles/?term=Puerto+Rico%2C+USA&params=eyJ0eXBlIjoicGVvcGxlIiwiY29tcGFyZSI6IiIsInRlcm0iOiJQdWVydG8gUmljbywgVVNBIiwiZ2VvTG9jYXRpb25GYWNldCI6WyJQdWVydG8gUmljbywgVS5TLkEuIl0sImdlb0xvY2F0aW9uRmFjZXRSZWNlbnRzIjpbIlB1ZXJ0byBSaWNvLCBVLlMuQS4iXSwicGFnZSI6MSwibGltaXQiOjI1LCJvZmZzZXQiOjAsInNvcnQiOiIiLCJzb3J0VHlwZSI6IiIsImNsZWFyUGFyYW1zIjpmYWxzZSwia2V5d29yZCI6IiIsInBhZ2VUaXRsZSI6Imw6UHVlcnRvIFJpY28sIFUuUy5BLiIsInByYWN0aWNlQXJlYXMiOlsiUmVhbCBFc3RhdGUiXX0%3D&page=5\n",
      "https://www.martindale.com/attorney/jesus-a-santiago-rosario-157053470/\n",
      "https://www.martindale.com/attorney/manuel-luis-correa-marquez-1572280/\n",
      "https://www.martindale.com/attorney/marla-d-rios-diaz-1572697/\n",
      "accediendo a: https://www.martindale.com/search/attorneys-law-firms-articles/?term=Puerto+Rico%2C+USA&params=eyJ0eXBlIjoicGVvcGxlIiwiY29tcGFyZSI6IiIsInRlcm0iOiJQdWVydG8gUmljbywgVVNBIiwiZ2VvTG9jYXRpb25GYWNldCI6WyJQdWVydG8gUmljbywgVS5TLkEuIl0sImdlb0xvY2F0aW9uRmFjZXRSZWNlbnRzIjpbIlB1ZXJ0byBSaWNvLCBVLlMuQS4iXSwicGFnZSI6MSwibGltaXQiOjI1LCJvZmZzZXQiOjAsInNvcnQiOiIiLCJzb3J0VHlwZSI6IiIsImNsZWFyUGFyYW1zIjpmYWxzZSwia2V5d29yZCI6IiIsInBhZ2VUaXRsZSI6Imw6UHVlcnRvIFJpY28sIFUuUy5BLiIsInByYWN0aWNlQXJlYXMiOlsiUmVhbCBFc3RhdGUiXX0%3D&page=6\n",
      "https://www.martindale.com/attorney/jose-a-crespo-rivera-2582179/\n",
      "https://www.martindale.com/attorney/ricardo-o-melendez-2662532/\n",
      "https://www.martindale.com/attorney/luisa-m-vela-gutierrez-1574072/\n",
      "https://www.martindale.com/attorney/walter-g-mcconnell-1573285/\n",
      "https://www.martindale.com/attorney/carlos-m-franco-such-1573493/\n",
      "https://www.martindale.com/attorney/arnaldo-villamil-1572149/\n",
      "accediendo a: https://www.martindale.com/search/attorneys-law-firms-articles/?term=Puerto+Rico%2C+USA&params=eyJ0eXBlIjoicGVvcGxlIiwiY29tcGFyZSI6IiIsInRlcm0iOiJQdWVydG8gUmljbywgVVNBIiwiZ2VvTG9jYXRpb25GYWNldCI6WyJQdWVydG8gUmljbywgVS5TLkEuIl0sImdlb0xvY2F0aW9uRmFjZXRSZWNlbnRzIjpbIlB1ZXJ0byBSaWNvLCBVLlMuQS4iXSwicGFnZSI6MSwibGltaXQiOjI1LCJvZmZzZXQiOjAsInNvcnQiOiIiLCJzb3J0VHlwZSI6IiIsImNsZWFyUGFyYW1zIjpmYWxzZSwia2V5d29yZCI6IiIsInBhZ2VUaXRsZSI6Imw6UHVlcnRvIFJpY28sIFUuUy5BLiIsInByYWN0aWNlQXJlYXMiOlsiUmVhbCBFc3RhdGUiXX0%3D&page=7\n",
      "https://www.martindale.com/attorney/estela-i-valles-acosta-1573650/\n",
      "https://www.martindale.com/attorney/william-j-luckeroth-1574157/\n",
      "https://www.martindale.com/attorney/maria-l-fuster-zalduondo-1573294/\n",
      "https://www.martindale.com/attorney/juan-a-ramos-diaz-1572330/\n",
      "https://www.martindale.com/attorney/maria-e-pico-1574100/\n",
      "https://www.martindale.com/attorney/frank-quinones-vigo-1572035/\n",
      "https://www.martindale.com/attorney/jorge-e-souss-1573420/\n",
      "accediendo a: https://www.martindale.com/search/attorneys-law-firms-articles/?term=Puerto+Rico%2C+USA&params=eyJ0eXBlIjoicGVvcGxlIiwiY29tcGFyZSI6IiIsInRlcm0iOiJQdWVydG8gUmljbywgVVNBIiwiZ2VvTG9jYXRpb25GYWNldCI6WyJQdWVydG8gUmljbywgVS5TLkEuIl0sImdlb0xvY2F0aW9uRmFjZXRSZWNlbnRzIjpbIlB1ZXJ0byBSaWNvLCBVLlMuQS4iXSwicGFnZSI6MSwibGltaXQiOjI1LCJvZmZzZXQiOjAsInNvcnQiOiIiLCJzb3J0VHlwZSI6IiIsImNsZWFyUGFyYW1zIjpmYWxzZSwia2V5d29yZCI6IiIsInBhZ2VUaXRsZSI6Imw6UHVlcnRvIFJpY28sIFUuUy5BLiIsInByYWN0aWNlQXJlYXMiOlsiUmVhbCBFc3RhdGUiXX0%3D&page=8\n",
      "https://www.martindale.com/attorney/patricia-j-salichs-rossello-4504193/\n",
      "https://www.martindale.com/attorney/paul-r-cortes-rexach-1573238/\n",
      "https://www.martindale.com/attorney/hector-reichard-de-cardona-1573708/\n",
      "https://www.martindale.com/attorney/francisco-m-vazquez-santoni-1572381/\n",
      "https://www.martindale.com/attorney/douglas-p-sanchez-1574103/\n",
      "https://www.martindale.com/attorney/rafael-antonio-velez-perez-24478079/\n",
      "accediendo a: https://www.martindale.com/search/attorneys-law-firms-articles/?term=Puerto+Rico%2C+USA&params=eyJ0eXBlIjoicGVvcGxlIiwiY29tcGFyZSI6IiIsInRlcm0iOiJQdWVydG8gUmljbywgVVNBIiwiZ2VvTG9jYXRpb25GYWNldCI6WyJQdWVydG8gUmljbywgVS5TLkEuIl0sImdlb0xvY2F0aW9uRmFjZXRSZWNlbnRzIjpbIlB1ZXJ0byBSaWNvLCBVLlMuQS4iXSwicGFnZSI6MSwibGltaXQiOjI1LCJvZmZzZXQiOjAsInNvcnQiOiIiLCJzb3J0VHlwZSI6IiIsImNsZWFyUGFyYW1zIjpmYWxzZSwia2V5d29yZCI6IiIsInBhZ2VUaXRsZSI6Imw6UHVlcnRvIFJpY28sIFUuUy5BLiIsInByYWN0aWNlQXJlYXMiOlsiUmVhbCBFc3RhdGUiXX0%3D&page=9\n",
      "https://www.martindale.com/attorney/hugh-gonzalez-robison-11857128/\n",
      "https://www.martindale.com/attorney/neal-r-walters-1571546/\n",
      "https://www.martindale.com/attorney/francisco-x-pascual-amadeo-1573305/\n",
      "https://www.martindale.com/attorney/luis-leon-freire-1573799/\n",
      "https://www.martindale.com/attorney/jeannine-carlo-melendez-157053452/\n",
      "accediendo a: https://www.martindale.com/search/attorneys-law-firms-articles/?term=Puerto+Rico%2C+USA&params=eyJ0eXBlIjoicGVvcGxlIiwiY29tcGFyZSI6IiIsInRlcm0iOiJQdWVydG8gUmljbywgVVNBIiwiZ2VvTG9jYXRpb25GYWNldCI6WyJQdWVydG8gUmljbywgVS5TLkEuIl0sImdlb0xvY2F0aW9uRmFjZXRSZWNlbnRzIjpbIlB1ZXJ0byBSaWNvLCBVLlMuQS4iXSwicGFnZSI6MSwibGltaXQiOjI1LCJvZmZzZXQiOjAsInNvcnQiOiIiLCJzb3J0VHlwZSI6IiIsImNsZWFyUGFyYW1zIjpmYWxzZSwia2V5d29yZCI6IiIsInBhZ2VUaXRsZSI6Imw6UHVlcnRvIFJpY28sIFUuUy5BLiIsInByYWN0aWNlQXJlYXMiOlsiUmVhbCBFc3RhdGUiXX0%3D&page=10\n",
      "https://www.martindale.com/attorney/myrlena-ortiz-marcano-1572024/\n",
      "https://www.martindale.com/attorney/raul-j-vila-selles-1572497/\n",
      "https://www.martindale.com/attorney/myrtelena-diaz-pedrosa-2166792/\n",
      "https://www.martindale.com/attorney/silvestre-m-miranda-1573214/\n",
      "https://www.martindale.com/attorney/maria-v-ferrer-de-glassberg-1573909/\n",
      "accediendo a: https://www.martindale.com/search/attorneys-law-firms-articles/?term=Puerto+Rico%2C+USA&params=eyJ0eXBlIjoicGVvcGxlIiwiY29tcGFyZSI6IiIsInRlcm0iOiJQdWVydG8gUmljbywgVVNBIiwiZ2VvTG9jYXRpb25GYWNldCI6WyJQdWVydG8gUmljbywgVS5TLkEuIl0sImdlb0xvY2F0aW9uRmFjZXRSZWNlbnRzIjpbIlB1ZXJ0byBSaWNvLCBVLlMuQS4iXSwicGFnZSI6MSwibGltaXQiOjI1LCJvZmZzZXQiOjAsInNvcnQiOiIiLCJzb3J0VHlwZSI6IiIsImNsZWFyUGFyYW1zIjpmYWxzZSwia2V5d29yZCI6IiIsInBhZ2VUaXRsZSI6Imw6UHVlcnRvIFJpY28sIFUuUy5BLiIsInByYWN0aWNlQXJlYXMiOlsiUmVhbCBFc3RhdGUiXX0%3D&page=11\n",
      "https://www.martindale.com/attorney/maura-santiago-ducos-1572850/\n",
      "https://www.martindale.com/attorney/enrique-godinez-morales-1573495/\n",
      "https://www.martindale.com/attorney/baldomero-collazo-salazar-1572276/\n",
      "https://www.martindale.com/attorney/alfredo-martinez-alvarez-1573095/\n",
      "https://www.martindale.com/attorney/maria-elena-ortiz-1572899/\n",
      "https://www.martindale.com/attorney/enrique-adsuar-jr-1572748/\n",
      "accediendo a: https://www.martindale.com/search/attorneys-law-firms-articles/?term=Puerto+Rico%2C+USA&params=eyJ0eXBlIjoicGVvcGxlIiwiY29tcGFyZSI6IiIsInRlcm0iOiJQdWVydG8gUmljbywgVVNBIiwiZ2VvTG9jYXRpb25GYWNldCI6WyJQdWVydG8gUmljbywgVS5TLkEuIl0sImdlb0xvY2F0aW9uRmFjZXRSZWNlbnRzIjpbIlB1ZXJ0byBSaWNvLCBVLlMuQS4iXSwicGFnZSI6MSwibGltaXQiOjI1LCJvZmZzZXQiOjAsInNvcnQiOiIiLCJzb3J0VHlwZSI6IiIsImNsZWFyUGFyYW1zIjpmYWxzZSwia2V5d29yZCI6IiIsInBhZ2VUaXRsZSI6Imw6UHVlcnRvIFJpY28sIFUuUy5BLiIsInByYWN0aWNlQXJlYXMiOlsiUmVhbCBFc3RhdGUiXX0%3D&page=12\n",
      "https://www.martindale.com/attorney/juan-h-saavedra-castro-1572900/\n",
      "https://www.martindale.com/attorney/adela-surillo-gutierrez-1572281/\n",
      "https://www.martindale.com/attorney/ismael-molina-serrano-1572392/\n",
      "https://www.martindale.com/attorney/maria-isabel-castaner-1573177/\n",
      "https://www.martindale.com/attorney/diana-l-ojeda-castro-1572010/\n",
      "accediendo a: https://www.martindale.com/search/attorneys-law-firms-articles/?term=Puerto+Rico%2C+USA&params=eyJ0eXBlIjoicGVvcGxlIiwiY29tcGFyZSI6IiIsInRlcm0iOiJQdWVydG8gUmljbywgVVNBIiwiZ2VvTG9jYXRpb25GYWNldCI6WyJQdWVydG8gUmljbywgVS5TLkEuIl0sImdlb0xvY2F0aW9uRmFjZXRSZWNlbnRzIjpbIlB1ZXJ0byBSaWNvLCBVLlMuQS4iXSwicGFnZSI6MSwibGltaXQiOjI1LCJvZmZzZXQiOjAsInNvcnQiOiIiLCJzb3J0VHlwZSI6IiIsImNsZWFyUGFyYW1zIjpmYWxzZSwia2V5d29yZCI6IiIsInBhZ2VUaXRsZSI6Imw6UHVlcnRvIFJpY28sIFUuUy5BLiIsInByYWN0aWNlQXJlYXMiOlsiUmVhbCBFc3RhdGUiXX0%3D&page=13\n",
      "https://www.martindale.com/attorney/mariela-garcia-colberg-1572186/\n",
      "https://www.martindale.com/attorney/omara-mendez-bernard-1573626/\n",
      "https://www.martindale.com/attorney/angela-m-perozzi-4355837/\n",
      "https://www.martindale.com/attorney/luce-vela-gutierrez-1572128/\n",
      "https://www.martindale.com/attorney/antonio-barcelo-hernandez-3908133/\n",
      "accediendo a: https://www.martindale.com/search/attorneys-law-firms-articles/?term=Puerto+Rico%2C+USA&params=eyJ0eXBlIjoicGVvcGxlIiwiY29tcGFyZSI6IiIsInRlcm0iOiJQdWVydG8gUmljbywgVVNBIiwiZ2VvTG9jYXRpb25GYWNldCI6WyJQdWVydG8gUmljbywgVS5TLkEuIl0sImdlb0xvY2F0aW9uRmFjZXRSZWNlbnRzIjpbIlB1ZXJ0byBSaWNvLCBVLlMuQS4iXSwicGFnZSI6MSwibGltaXQiOjI1LCJvZmZzZXQiOjAsInNvcnQiOiIiLCJzb3J0VHlwZSI6IiIsImNsZWFyUGFyYW1zIjpmYWxzZSwia2V5d29yZCI6IiIsInBhZ2VUaXRsZSI6Imw6UHVlcnRvIFJpY28sIFUuUy5BLiIsInByYWN0aWNlQXJlYXMiOlsiUmVhbCBFc3RhdGUiXX0%3D&page=14\n",
      "https://www.martindale.com/attorney/walter-f-alomar-jimenez-47002687/\n",
      "https://www.martindale.com/attorney/illich-o-colon-munoz-1573635/\n",
      "https://www.martindale.com/attorney/jorge-garcia-soto-1573497/\n",
      "https://www.martindale.com/attorney/federico-tilen-1572566/\n",
      "accediendo a: https://www.martindale.com/search/attorneys-law-firms-articles/?term=Puerto+Rico%2C+USA&params=eyJ0eXBlIjoicGVvcGxlIiwiY29tcGFyZSI6IiIsInRlcm0iOiJQdWVydG8gUmljbywgVVNBIiwiZ2VvTG9jYXRpb25GYWNldCI6WyJQdWVydG8gUmljbywgVS5TLkEuIl0sImdlb0xvY2F0aW9uRmFjZXRSZWNlbnRzIjpbIlB1ZXJ0byBSaWNvLCBVLlMuQS4iXSwicGFnZSI6MSwibGltaXQiOjI1LCJvZmZzZXQiOjAsInNvcnQiOiIiLCJzb3J0VHlwZSI6IiIsImNsZWFyUGFyYW1zIjpmYWxzZSwia2V5d29yZCI6IiIsInBhZ2VUaXRsZSI6Imw6UHVlcnRvIFJpY28sIFUuUy5BLiIsInByYWN0aWNlQXJlYXMiOlsiUmVhbCBFc3RhdGUiXX0%3D&page=15\n",
      "https://www.martindale.com/attorney/arnaldo-fernandini-sanchez-1572971/\n",
      "https://www.martindale.com/attorney/carlos-a-rodriguez-28227830/\n",
      "https://www.martindale.com/attorney/jose-e-mendoza-vidal-1571555/\n",
      "https://www.martindale.com/attorney/rafael-bras-benitez-2430814/\n",
      "https://www.martindale.com/attorney/loyda-e-rivera-torres-1572766/\n",
      "https://www.martindale.com/attorney/magda-v-alsina-figueroa-2850962/\n",
      "https://www.martindale.com/attorney/enid-s-rodriguez-binet-1572397/\n",
      "https://www.martindale.com/attorney/venessa-lugo-flores-2043339/\n",
      "https://www.martindale.com/attorney/alberto-perez-hernandez-esq-13976129/\n",
      "accediendo a: https://www.martindale.com/search/attorneys-law-firms-articles/?term=Puerto+Rico%2C+USA&params=eyJ0eXBlIjoicGVvcGxlIiwiY29tcGFyZSI6IiIsInRlcm0iOiJQdWVydG8gUmljbywgVVNBIiwiZ2VvTG9jYXRpb25GYWNldCI6WyJQdWVydG8gUmljbywgVS5TLkEuIl0sImdlb0xvY2F0aW9uRmFjZXRSZWNlbnRzIjpbIlB1ZXJ0byBSaWNvLCBVLlMuQS4iXSwicGFnZSI6MSwibGltaXQiOjI1LCJvZmZzZXQiOjAsInNvcnQiOiIiLCJzb3J0VHlwZSI6IiIsImNsZWFyUGFyYW1zIjpmYWxzZSwia2V5d29yZCI6IiIsInBhZ2VUaXRsZSI6Imw6UHVlcnRvIFJpY28sIFUuUy5BLiIsInByYWN0aWNlQXJlYXMiOlsiUmVhbCBFc3RhdGUiXX0%3D&page=16\n",
      "https://www.martindale.com/attorney/arnaldo-a-mignucci-giannoni-1572202/\n",
      "accediendo a: https://www.martindale.com/search/attorneys-law-firms-articles/?term=Puerto+Rico%2C+USA&params=eyJ0eXBlIjoicGVvcGxlIiwiY29tcGFyZSI6IiIsInRlcm0iOiJQdWVydG8gUmljbywgVVNBIiwiZ2VvTG9jYXRpb25GYWNldCI6WyJQdWVydG8gUmljbywgVS5TLkEuIl0sImdlb0xvY2F0aW9uRmFjZXRSZWNlbnRzIjpbIlB1ZXJ0byBSaWNvLCBVLlMuQS4iXSwicGFnZSI6MSwibGltaXQiOjI1LCJvZmZzZXQiOjAsInNvcnQiOiIiLCJzb3J0VHlwZSI6IiIsImNsZWFyUGFyYW1zIjpmYWxzZSwia2V5d29yZCI6IiIsInBhZ2VUaXRsZSI6Imw6UHVlcnRvIFJpY28sIFUuUy5BLiIsInByYWN0aWNlQXJlYXMiOlsiUmVhbCBFc3RhdGUiXX0%3D&page=17\n",
      "https://www.martindale.com/attorney/rafael-h-vazquez-muniz-1573364/\n",
      "https://www.martindale.com/attorney/mario-a-quiles-rosado-1573498/\n",
      "https://www.martindale.com/attorney/patricia-perez-surillo-24069773/\n",
      "https://www.martindale.com/attorney/carlos-r-garriga-blanco-1572970/\n",
      "https://www.martindale.com/attorney/kristina-vivoni-girod-2046206/\n",
      "https://www.martindale.com/attorney/maria-del-gonzalez-rivaas-1572292/\n",
      "accediendo a: https://www.martindale.com/search/attorneys-law-firms-articles/?term=Puerto+Rico%2C+USA&params=eyJ0eXBlIjoicGVvcGxlIiwiY29tcGFyZSI6IiIsInRlcm0iOiJQdWVydG8gUmljbywgVVNBIiwiZ2VvTG9jYXRpb25GYWNldCI6WyJQdWVydG8gUmljbywgVS5TLkEuIl0sImdlb0xvY2F0aW9uRmFjZXRSZWNlbnRzIjpbIlB1ZXJ0byBSaWNvLCBVLlMuQS4iXSwicGFnZSI6MSwibGltaXQiOjI1LCJvZmZzZXQiOjAsInNvcnQiOiIiLCJzb3J0VHlwZSI6IiIsImNsZWFyUGFyYW1zIjpmYWxzZSwia2V5d29yZCI6IiIsInBhZ2VUaXRsZSI6Imw6UHVlcnRvIFJpY28sIFUuUy5BLiIsInByYWN0aWNlQXJlYXMiOlsiUmVhbCBFc3RhdGUiXX0%3D&page=18\n",
      "https://www.martindale.com/attorney/maria-del-pilar-rivera-mendoza-1573436/\n",
      "https://www.martindale.com/attorney/juan-carlos-garay-1571460/\n",
      "https://www.martindale.com/attorney/jely-a-cedeno-richiez-3173241/\n",
      "https://www.martindale.com/attorney/vanessa-aymerich-conde-1573315/\n",
      "https://www.martindale.com/attorney/carmen-j-rocafort-1572175/\n"
     ]
    },
    {
     "name": "stderr",
     "output_type": "stream",
     "text": [
      " 41%|████      | 87/213 [36:45<56:32, 26.93s/it]"
     ]
    },
    {
     "name": "stdout",
     "output_type": "stream",
     "text": [
      "paginas en esta url: 1\n",
      "accediendo a: https://www.martindale.com/search/attorneys-law-firms-articles/?term=Puerto+Rico%2C+USA&params=eyJ0eXBlIjoicGVvcGxlIiwiY29tcGFyZSI6IiIsInRlcm0iOiJQdWVydG8gUmljbywgVVNBIiwiZ2VvTG9jYXRpb25GYWNldCI6WyJQdWVydG8gUmljbywgVS5TLkEuIl0sImdlb0xvY2F0aW9uRmFjZXRSZWNlbnRzIjpbIlB1ZXJ0byBSaWNvLCBVLlMuQS4iXSwicGFnZSI6MSwibGltaXQiOjI1LCJvZmZzZXQiOjAsInNvcnQiOiIiLCJzb3J0VHlwZSI6IiIsImNsZWFyUGFyYW1zIjpmYWxzZSwia2V5d29yZCI6IiIsInBhZ2VUaXRsZSI6Imw6UHVlcnRvIFJpY28sIFUuUy5BLiIsInByYWN0aWNlQXJlYXMiOlsiVGF4IEF1ZGl0cyJdfQ%3D%3D\n"
     ]
    },
    {
     "name": "stderr",
     "output_type": "stream",
     "text": [
      " 41%|████▏     | 88/213 [37:09<53:45, 25.80s/it]"
     ]
    },
    {
     "name": "stdout",
     "output_type": "stream",
     "text": [
      "paginas en esta url: 1\n",
      "accediendo a: https://www.martindale.com/search/attorneys-law-firms-articles/?term=Puerto+Rico%2C+USA&params=eyJ0eXBlIjoicGVvcGxlIiwiY29tcGFyZSI6IiIsInRlcm0iOiJQdWVydG8gUmljbywgVVNBIiwiZ2VvTG9jYXRpb25GYWNldCI6WyJQdWVydG8gUmljbywgVS5TLkEuIl0sImdlb0xvY2F0aW9uRmFjZXRSZWNlbnRzIjpbIlB1ZXJ0byBSaWNvLCBVLlMuQS4iXSwicGFnZSI6MSwibGltaXQiOjI1LCJvZmZzZXQiOjAsInNvcnQiOiIiLCJzb3J0VHlwZSI6IiIsImNsZWFyUGFyYW1zIjpmYWxzZSwia2V5d29yZCI6IiIsInBhZ2VUaXRsZSI6Imw6UHVlcnRvIFJpY28sIFUuUy5BLiIsInByYWN0aWNlQXJlYXMiOlsiQ2hpbGQgQ3VzdG9keSJdfQ%3D%3D\n"
     ]
    },
    {
     "name": "stderr",
     "output_type": "stream",
     "text": [
      " 42%|████▏     | 89/213 [37:32<52:03, 25.19s/it]"
     ]
    },
    {
     "name": "stdout",
     "output_type": "stream",
     "text": [
      "paginas en esta url: 1\n",
      "accediendo a: https://www.martindale.com/search/attorneys-law-firms-articles/?term=Puerto+Rico%2C+USA&params=eyJ0eXBlIjoicGVvcGxlIiwiY29tcGFyZSI6IiIsInRlcm0iOiJQdWVydG8gUmljbywgVVNBIiwiZ2VvTG9jYXRpb25GYWNldCI6WyJQdWVydG8gUmljbywgVS5TLkEuIl0sImdlb0xvY2F0aW9uRmFjZXRSZWNlbnRzIjpbIlB1ZXJ0byBSaWNvLCBVLlMuQS4iXSwicGFnZSI6MSwibGltaXQiOjI1LCJvZmZzZXQiOjAsInNvcnQiOiIiLCJzb3J0VHlwZSI6IiIsImNsZWFyUGFyYW1zIjpmYWxzZSwia2V5d29yZCI6IiIsInBhZ2VUaXRsZSI6Imw6UHVlcnRvIFJpY28sIFUuUy5BLiIsInByYWN0aWNlQXJlYXMiOlsiRHJ1ZyBDcmltZXMiXX0%3D\n"
     ]
    },
    {
     "name": "stderr",
     "output_type": "stream",
     "text": [
      " 42%|████▏     | 90/213 [37:55<50:13, 24.50s/it]"
     ]
    },
    {
     "name": "stdout",
     "output_type": "stream",
     "text": [
      "paginas en esta url: 1\n",
      "accediendo a: https://www.martindale.com/search/attorneys-law-firms-articles/?term=Puerto+Rico%2C+USA&params=eyJ0eXBlIjoicGVvcGxlIiwiY29tcGFyZSI6IiIsInRlcm0iOiJQdWVydG8gUmljbywgVVNBIiwiZ2VvTG9jYXRpb25GYWNldCI6WyJQdWVydG8gUmljbywgVS5TLkEuIl0sImdlb0xvY2F0aW9uRmFjZXRSZWNlbnRzIjpbIlB1ZXJ0byBSaWNvLCBVLlMuQS4iXSwicGFnZSI6MSwibGltaXQiOjI1LCJvZmZzZXQiOjAsInNvcnQiOiIiLCJzb3J0VHlwZSI6IiIsImNsZWFyUGFyYW1zIjpmYWxzZSwia2V5d29yZCI6IiIsInBhZ2VUaXRsZSI6Imw6UHVlcnRvIFJpY28sIFUuUy5BLiIsInByYWN0aWNlQXJlYXMiOlsiV2hpdGUgQ29sbGFyIENyaW1lIl19\n",
      "https://www.martindale.com/organization/oberheiden-p-c-158392689/dallas-texas-159868801-f/?pa=338\n"
     ]
    },
    {
     "name": "stderr",
     "output_type": "stream",
     "text": [
      " 43%|████▎     | 91/213 [38:19<49:06, 24.15s/it]"
     ]
    },
    {
     "name": "stdout",
     "output_type": "stream",
     "text": [
      "paginas en esta url: 3\n",
      "accediendo a: https://www.martindale.com/search/attorneys-law-firms-articles/?term=Puerto+Rico%2C+USA&params=eyJ0eXBlIjoicGVvcGxlIiwiY29tcGFyZSI6IiIsInRlcm0iOiJQdWVydG8gUmljbywgVVNBIiwiZ2VvTG9jYXRpb25GYWNldCI6WyJQdWVydG8gUmljbywgVS5TLkEuIl0sImdlb0xvY2F0aW9uRmFjZXRSZWNlbnRzIjpbIlB1ZXJ0byBSaWNvLCBVLlMuQS4iXSwicGFnZSI6MSwibGltaXQiOjI1LCJvZmZzZXQiOjAsInNvcnQiOiIiLCJzb3J0VHlwZSI6IiIsImNsZWFyUGFyYW1zIjpmYWxzZSwia2V5d29yZCI6IiIsInBhZ2VUaXRsZSI6Imw6UHVlcnRvIFJpY28sIFUuUy5BLiIsInByYWN0aWNlQXJlYXMiOlsiSW5zdXJhbmNlIERlZmVuc2UiXX0%3D\n",
      "accediendo a: https://www.martindale.com/search/attorneys-law-firms-articles/?term=Puerto+Rico%2C+USA&params=eyJ0eXBlIjoicGVvcGxlIiwiY29tcGFyZSI6IiIsInRlcm0iOiJQdWVydG8gUmljbywgVVNBIiwiZ2VvTG9jYXRpb25GYWNldCI6WyJQdWVydG8gUmljbywgVS5TLkEuIl0sImdlb0xvY2F0aW9uRmFjZXRSZWNlbnRzIjpbIlB1ZXJ0byBSaWNvLCBVLlMuQS4iXSwicGFnZSI6MSwibGltaXQiOjI1LCJvZmZzZXQiOjAsInNvcnQiOiIiLCJzb3J0VHlwZSI6IiIsImNsZWFyUGFyYW1zIjpmYWxzZSwia2V5d29yZCI6IiIsInBhZ2VUaXRsZSI6Imw6UHVlcnRvIFJpY28sIFUuUy5BLiIsInByYWN0aWNlQXJlYXMiOlsiSW5zdXJhbmNlIERlZmVuc2UiXX0%3D&page=2\n",
      "accediendo a: https://www.martindale.com/search/attorneys-law-firms-articles/?term=Puerto+Rico%2C+USA&params=eyJ0eXBlIjoicGVvcGxlIiwiY29tcGFyZSI6IiIsInRlcm0iOiJQdWVydG8gUmljbywgVVNBIiwiZ2VvTG9jYXRpb25GYWNldCI6WyJQdWVydG8gUmljbywgVS5TLkEuIl0sImdlb0xvY2F0aW9uRmFjZXRSZWNlbnRzIjpbIlB1ZXJ0byBSaWNvLCBVLlMuQS4iXSwicGFnZSI6MSwibGltaXQiOjI1LCJvZmZzZXQiOjAsInNvcnQiOiIiLCJzb3J0VHlwZSI6IiIsImNsZWFyUGFyYW1zIjpmYWxzZSwia2V5d29yZCI6IiIsInBhZ2VUaXRsZSI6Imw6UHVlcnRvIFJpY28sIFUuUy5BLiIsInByYWN0aWNlQXJlYXMiOlsiSW5zdXJhbmNlIERlZmVuc2UiXX0%3D&page=3\n"
     ]
    },
    {
     "name": "stderr",
     "output_type": "stream",
     "text": [
      " 43%|████▎     | 92/213 [38:31<41:47, 20.73s/it]"
     ]
    },
    {
     "name": "stdout",
     "output_type": "stream",
     "text": [
      "paginas en esta url: 1\n",
      "accediendo a: https://www.martindale.com/search/attorneys-law-firms-articles/?term=Puerto+Rico%2C+USA&params=eyJ0eXBlIjoicGVvcGxlIiwiY29tcGFyZSI6IiIsInRlcm0iOiJQdWVydG8gUmljbywgVVNBIiwiZ2VvTG9jYXRpb25GYWNldCI6WyJQdWVydG8gUmljbywgVS5TLkEuIl0sImdlb0xvY2F0aW9uRmFjZXRSZWNlbnRzIjpbIlB1ZXJ0byBSaWNvLCBVLlMuQS4iXSwicGFnZSI6MSwibGltaXQiOjI1LCJvZmZzZXQiOjAsInNvcnQiOiIiLCJzb3J0VHlwZSI6IiIsImNsZWFyUGFyYW1zIjpmYWxzZSwia2V5d29yZCI6IiIsInBhZ2VUaXRsZSI6Imw6UHVlcnRvIFJpY28sIFUuUy5BLiIsInByYWN0aWNlQXJlYXMiOlsiQXNiZXN0b3MgTGl0aWdhdGlvbiJdfQ%3D%3D\n",
      "https://www.martindale.com/organization/gori-law-firm-2839375/edwardsville-illinois-4568079-f/?pa=26\n"
     ]
    },
    {
     "name": "stderr",
     "output_type": "stream",
     "text": [
      " 44%|████▎     | 93/213 [38:55<43:20, 21.67s/it]"
     ]
    },
    {
     "name": "stdout",
     "output_type": "stream",
     "text": [
      "paginas en esta url: 1\n",
      "accediendo a: https://www.martindale.com/search/attorneys-law-firms-articles/?term=Puerto+Rico%2C+USA&params=eyJ0eXBlIjoicGVvcGxlIiwiY29tcGFyZSI6IiIsInRlcm0iOiJQdWVydG8gUmljbywgVVNBIiwiZ2VvTG9jYXRpb25GYWNldCI6WyJQdWVydG8gUmljbywgVS5TLkEuIl0sImdlb0xvY2F0aW9uRmFjZXRSZWNlbnRzIjpbIlB1ZXJ0byBSaWNvLCBVLlMuQS4iXSwicGFnZSI6MSwibGltaXQiOjI1LCJvZmZzZXQiOjAsInNvcnQiOiIiLCJzb3J0VHlwZSI6IiIsImNsZWFyUGFyYW1zIjpmYWxzZSwia2V5d29yZCI6IiIsInBhZ2VUaXRsZSI6Imw6UHVlcnRvIFJpY28sIFUuUy5BLiIsInByYWN0aWNlQXJlYXMiOlsiRmVkZXJhbCBDcmltaW5hbCBMYXciXX0%3D\n"
     ]
    },
    {
     "name": "stderr",
     "output_type": "stream",
     "text": [
      " 44%|████▍     | 94/213 [39:20<44:39, 22.52s/it]"
     ]
    },
    {
     "name": "stdout",
     "output_type": "stream",
     "text": [
      "paginas en esta url: 4\n",
      "accediendo a: https://www.martindale.com/search/attorneys-law-firms-articles/?term=Puerto+Rico%2C+USA&params=eyJ0eXBlIjoicGVvcGxlIiwiY29tcGFyZSI6IiIsInRlcm0iOiJQdWVydG8gUmljbywgVVNBIiwiZ2VvTG9jYXRpb25GYWNldCI6WyJQdWVydG8gUmljbywgVS5TLkEuIl0sImdlb0xvY2F0aW9uRmFjZXRSZWNlbnRzIjpbIlB1ZXJ0byBSaWNvLCBVLlMuQS4iXSwicGFnZSI6MSwibGltaXQiOjI1LCJvZmZzZXQiOjAsInNvcnQiOiIiLCJzb3J0VHlwZSI6IiIsImNsZWFyUGFyYW1zIjpmYWxzZSwia2V5d29yZCI6IiIsInBhZ2VUaXRsZSI6Imw6UHVlcnRvIFJpY28sIFUuUy5BLiIsInByYWN0aWNlQXJlYXMiOlsiU2VjdXJpdGllcyJdfQ%3D%3D\n",
      "https://www.martindale.com/attorney/cathleen-feliciano-torres-1572588/\n",
      "https://www.martindale.com/attorney/ana-m-del-toro-sabater-2177757/\n",
      "accediendo a: https://www.martindale.com/search/attorneys-law-firms-articles/?term=Puerto+Rico%2C+USA&params=eyJ0eXBlIjoicGVvcGxlIiwiY29tcGFyZSI6IiIsInRlcm0iOiJQdWVydG8gUmljbywgVVNBIiwiZ2VvTG9jYXRpb25GYWNldCI6WyJQdWVydG8gUmljbywgVS5TLkEuIl0sImdlb0xvY2F0aW9uRmFjZXRSZWNlbnRzIjpbIlB1ZXJ0byBSaWNvLCBVLlMuQS4iXSwicGFnZSI6MSwibGltaXQiOjI1LCJvZmZzZXQiOjAsInNvcnQiOiIiLCJzb3J0VHlwZSI6IiIsImNsZWFyUGFyYW1zIjpmYWxzZSwia2V5d29yZCI6IiIsInBhZ2VUaXRsZSI6Imw6UHVlcnRvIFJpY28sIFUuUy5BLiIsInByYWN0aWNlQXJlYXMiOlsiU2VjdXJpdGllcyJdfQ%3D%3D&page=2\n",
      "https://www.martindale.com/attorney/kathryn-e-murphy-11311814/\n",
      "https://www.martindale.com/attorney/pedro-a-padilla-torres-2177862/\n",
      "https://www.martindale.com/attorney/enrique-r-ubarri-1572552/\n",
      "https://www.martindale.com/attorney/bettina-font-nicole-1572706/\n",
      "accediendo a: https://www.martindale.com/search/attorneys-law-firms-articles/?term=Puerto+Rico%2C+USA&params=eyJ0eXBlIjoicGVvcGxlIiwiY29tcGFyZSI6IiIsInRlcm0iOiJQdWVydG8gUmljbywgVVNBIiwiZ2VvTG9jYXRpb25GYWNldCI6WyJQdWVydG8gUmljbywgVS5TLkEuIl0sImdlb0xvY2F0aW9uRmFjZXRSZWNlbnRzIjpbIlB1ZXJ0byBSaWNvLCBVLlMuQS4iXSwicGFnZSI6MSwibGltaXQiOjI1LCJvZmZzZXQiOjAsInNvcnQiOiIiLCJzb3J0VHlwZSI6IiIsImNsZWFyUGFyYW1zIjpmYWxzZSwia2V5d29yZCI6IiIsInBhZ2VUaXRsZSI6Imw6UHVlcnRvIFJpY28sIFUuUy5BLiIsInByYWN0aWNlQXJlYXMiOlsiU2VjdXJpdGllcyJdfQ%3D%3D&page=3\n",
      "https://www.martindale.com/attorney/francisco-j-garcia-1572579/\n",
      "https://www.martindale.com/attorney/miguel-r-garay-auban-1572650/\n",
      "https://www.martindale.com/attorney/ivan-g-marrero-1573311/\n",
      "https://www.martindale.com/attorney/jose-arbona-lago-1572633/\n",
      "https://www.martindale.com/attorney/francisco-a-feliu-nigaglioni-2852611/\n",
      "accediendo a: https://www.martindale.com/search/attorneys-law-firms-articles/?term=Puerto+Rico%2C+USA&params=eyJ0eXBlIjoicGVvcGxlIiwiY29tcGFyZSI6IiIsInRlcm0iOiJQdWVydG8gUmljbywgVVNBIiwiZ2VvTG9jYXRpb25GYWNldCI6WyJQdWVydG8gUmljbywgVS5TLkEuIl0sImdlb0xvY2F0aW9uRmFjZXRSZWNlbnRzIjpbIlB1ZXJ0byBSaWNvLCBVLlMuQS4iXSwicGFnZSI6MSwibGltaXQiOjI1LCJvZmZzZXQiOjAsInNvcnQiOiIiLCJzb3J0VHlwZSI6IiIsImNsZWFyUGFyYW1zIjpmYWxzZSwia2V5d29yZCI6IiIsInBhZ2VUaXRsZSI6Imw6UHVlcnRvIFJpY28sIFUuUy5BLiIsInByYWN0aWNlQXJlYXMiOlsiU2VjdXJpdGllcyJdfQ%3D%3D&page=4\n"
     ]
    },
    {
     "name": "stderr",
     "output_type": "stream",
     "text": [
      " 45%|████▍     | 95/213 [39:36<40:24, 20.55s/it]"
     ]
    },
    {
     "name": "stdout",
     "output_type": "stream",
     "text": [
      "paginas en esta url: 20\n",
      "accediendo a: https://www.martindale.com/search/attorneys-law-firms-articles/?term=Puerto+Rico%2C+USA&loc=1\n",
      "https://www.martindale.com/attorney/hector-pedrosa-41531869/\n",
      "https://www.martindale.com/attorney/carlos-villegas-del-valle-301593670/\n",
      "https://www.martindale.com/attorney/david-j-fernandez-esteves-1571798/\n",
      "accediendo a: https://www.martindale.com/search/attorneys-law-firms-articles/?term=Puerto+Rico%2C+USA&loc=1&page=2\n",
      "https://www.martindale.com/attorney/rafael-l-rovira-arbona-301593668/\n",
      "https://www.martindale.com/attorney/gilberto-j-santiago-martinez-esq-158870533/\n",
      "https://www.martindale.com/attorney/maria-elena-gonzalez-1573434/\n",
      "https://www.martindale.com/attorney/mr-victor-j-gonzalez-2159349/\n",
      "https://www.martindale.com/attorney/cesar-e-mercado-vega-1573478/\n",
      "https://www.martindale.com/attorney/isabel-c-lecompte-shiba-301472574/\n",
      "accediendo a: https://www.martindale.com/search/attorneys-law-firms-articles/?term=Puerto+Rico%2C+USA&loc=1&page=3\n",
      "https://www.martindale.com/attorney/jorge-e-vega-pacheco-1571054/\n",
      "https://www.martindale.com/attorney/jose-m-ramos-1571098/\n",
      "https://www.martindale.com/attorney/veronica-roman-arce-300882514/\n",
      "https://www.martindale.com/attorney/jose-r-nadal-power-11857130/\n",
      "https://www.martindale.com/attorney/jaime-e-sepulveda-rivera-1571297/\n",
      "https://www.martindale.com/attorney/aida-m-delgado-colon-17621748/\n",
      "https://www.martindale.com/attorney/brenda-cruz-amador-1573927/\n",
      "https://www.martindale.com/attorney/carmen-m-alfonso-rodriguez-5052034/\n",
      "https://www.martindale.com/attorney/lorna-rodriguez-marquez-1572929/\n",
      "https://www.martindale.com/attorney/daniel-pernas-beceiro-1571884/\n",
      "https://www.martindale.com/attorney/jason-mark-kaplan-2839954/\n",
      "https://www.martindale.com/attorney/javier-a-agrelo-perez-1572246/\n",
      "https://www.martindale.com/attorney/gloria-m-de-corral-hernandez-1573363/\n",
      "accediendo a: https://www.martindale.com/search/attorneys-law-firms-articles/?term=Puerto+Rico%2C+USA&loc=1&page=4\n",
      "https://www.martindale.com/attorney/elizabeth-m-lizardi-mendez-46209606/\n",
      "https://www.martindale.com/attorney/juan-a-frau-escudero-11857122/\n",
      "https://www.martindale.com/attorney/cherrelle-tameka-gene-herbert-300329324/\n",
      "https://www.martindale.com/attorney/angel-omy-rey-300750930/\n",
      "https://www.martindale.com/attorney/margarita-m-colon-1572120/\n",
      "https://www.martindale.com/attorney/carmen-consuelo-cerezo-17621155/\n",
      "https://www.martindale.com/attorney/alana-eva-pagan-301545786/\n",
      "https://www.martindale.com/attorney/marcos-o-valls-1572322/\n",
      "https://www.martindale.com/attorney/rhonda-rene-carson-300285550/\n",
      "https://www.martindale.com/attorney/patricia-l-de-carlo-1573892/\n",
      "accediendo a: https://www.martindale.com/search/attorneys-law-firms-articles/?term=Puerto+Rico%2C+USA&loc=1&page=5\n",
      "https://www.martindale.com/attorney/anabel-perez-crescenzi-695977/\n",
      "https://www.martindale.com/attorney/juan-antonio-moldes-rodriguez-300839804/\n",
      "https://www.martindale.com/attorney/ian-marini-biaggi-300364052/\n",
      "https://www.martindale.com/attorney/ricardo-collazo-suarez-1573751/\n",
      "https://www.martindale.com/attorney/thomas-s-mccool-1571481/\n",
      "https://www.martindale.com/attorney/jocelyn-grafals-300716040/\n",
      "https://www.martindale.com/attorney/jorge-m-torres-gomez-2038418/\n",
      "https://www.martindale.com/attorney/joanne-pardo-marquez-1571519/\n",
      "https://www.martindale.com/attorney/maria-cristina-semanaz-ojeda-301224214/\n",
      "https://www.martindale.com/attorney/roberto-buso-griggs-28526089/\n",
      "https://www.martindale.com/attorney/marta-i-feliciano-1572087/\n",
      "https://www.martindale.com/attorney/nicolas-delgado-1572336/\n",
      "accediendo a: https://www.martindale.com/search/attorneys-law-firms-articles/?term=Puerto+Rico%2C+USA&loc=1&page=6\n",
      "https://www.martindale.com/attorney/tracy-ann-hoyos-lopez-300280128/\n",
      "https://www.martindale.com/attorney/frederick-b-martinez-46208593/\n",
      "https://www.martindale.com/attorney/liana-fiol-matta-43100837/\n",
      "https://www.martindale.com/attorney/francisco-e-ponsa-flores-1573770/\n",
      "https://www.martindale.com/attorney/samuel-garcia-angeli-1571737/\n",
      "https://www.martindale.com/attorney/jose-rodriguez-300823160/\n",
      "https://www.martindale.com/attorney/nilda-lopez-hildalgo-1572085/\n",
      "https://www.martindale.com/attorney/richard-james-schell-301520016/\n",
      "https://www.martindale.com/attorney/carmen-i-amy-roman-1572045/\n",
      "https://www.martindale.com/attorney/rosanna-rivera-sanchez-157898263/\n",
      "https://www.martindale.com/attorney/roberto-e-davila-1571310/\n",
      "accediendo a: https://www.martindale.com/search/attorneys-law-firms-articles/?term=Puerto+Rico%2C+USA&loc=1&page=7\n",
      "https://www.martindale.com/attorney/maria-elena-martinez-casado-300234900/\n",
      "https://www.martindale.com/attorney/jose-e-naveira-san-miguel-1571175/\n",
      "https://www.martindale.com/attorney/sonsire-ramos-soler-1572230/\n",
      "https://www.martindale.com/attorney/luis-j-anglade-1571842/\n",
      "https://www.martindale.com/attorney/james-g-mclaughlin-iv-1573994/\n",
      "https://www.martindale.com/attorney/anibelle-sloan-altieri-1572020/\n",
      "https://www.martindale.com/attorney/francisco-acevedo-padilla-1571080/\n",
      "https://www.martindale.com/attorney/mr-eliseo-roques-301072782/\n",
      "https://www.martindale.com/attorney/rafael-hernandez-colon-1571350/\n",
      "https://www.martindale.com/attorney/andres-enrique-monserrate-300412744/\n",
      "https://www.martindale.com/attorney/manuel-f-villalon-1571205/\n",
      "https://www.martindale.com/attorney/roberto-morales-sanchez-1573996/\n",
      "https://www.martindale.com/attorney/alfred-siberon-1571393/\n",
      "https://www.martindale.com/attorney/karen-rivera-lebron-26253756/\n",
      "https://www.martindale.com/attorney/alfredo-cardona-alvarez-1571416/\n",
      "accediendo a: https://www.martindale.com/search/attorneys-law-firms-articles/?term=Puerto+Rico%2C+USA&loc=1&page=8\n",
      "https://www.martindale.com/attorney/luis-e-migenis-lopez-168607220/\n",
      "https://www.martindale.com/attorney/jason-r-aguilo-suro-158583327/\n",
      "https://www.martindale.com/attorney/glenn-velazquez-morales-300344500/\n",
      "https://www.martindale.com/attorney/martin-almodovar-acevedo-1571833/\n",
      "https://www.martindale.com/attorney/raul-gonzalez-toro-1572212/\n",
      "https://www.martindale.com/attorney/luis-marrero-padilla-1571152/\n",
      "https://www.martindale.com/attorney/rene-f-sotomayor-santos-1571323/\n",
      "https://www.martindale.com/attorney/mariana-negron-vargas-44858947/\n",
      "https://www.martindale.com/attorney/adelina-yuisa-gonzalez-300057824/\n",
      "https://www.martindale.com/attorney/ricardo-cruzval-169071742/\n",
      "accediendo a: https://www.martindale.com/search/attorneys-law-firms-articles/?term=Puerto+Rico%2C+USA&loc=1&page=9\n",
      "https://www.martindale.com/attorney/maria-h-perdomo-ferrer-1572632/\n",
      "https://www.martindale.com/attorney/adrienne-helene-bossi-301125450/\n",
      "https://www.martindale.com/attorney/francisco-l-acevedo-1572642/\n",
      "https://www.martindale.com/attorney/alexandra-lanza-300991702/\n",
      "https://www.martindale.com/attorney/enrique-s-lamoutte-1573029/\n",
      "https://www.martindale.com/attorney/maritza-gonzalez-300734478/\n",
      "https://www.martindale.com/attorney/larry-b-woods-720835/\n",
      "https://www.martindale.com/attorney/omar-b-santiago-ramos-157264832/\n",
      "https://www.martindale.com/attorney/damaris-delgado-vega-169143902/\n",
      "https://www.martindale.com/attorney/irving-k-hernandez-1571429/\n",
      "https://www.martindale.com/attorney/aixa-perez-mink-168870086/\n",
      "accediendo a: https://www.martindale.com/search/attorneys-law-firms-articles/?term=Puerto+Rico%2C+USA&loc=1&page=10\n",
      "https://www.martindale.com/attorney/joanna-leroy-300421308/\n",
      "https://www.martindale.com/attorney/marena-ramirez-45883778/\n",
      "https://www.martindale.com/attorney/arnaldo-a-mignucci-300727288/\n",
      "https://www.martindale.com/attorney/rafael-l-vissepo-vazquez-1573065/\n",
      "https://www.martindale.com/attorney/liz-oneida-trinidad-301048708/\n",
      "https://www.martindale.com/attorney/manuel-a-moreda-gomez-1573506/\n",
      "https://www.martindale.com/attorney/jose-david-rodriguez-gonzalez-300848218/\n",
      "https://www.martindale.com/attorney/daniel-gonzalez-ortiz-158583683/\n",
      "https://www.martindale.com/attorney/antonio-montalvo-nazario-1574051/\n",
      "https://www.martindale.com/attorney/nelida-jimenez-velazquez-1571634/\n",
      "https://www.martindale.com/attorney/jesus-l-maldonado-maldonado-1573081/\n",
      "accediendo a: https://www.martindale.com/search/attorneys-law-firms-articles/?term=Puerto+Rico%2C+USA&loc=1&page=11\n",
      "https://www.martindale.com/attorney/antonio-j-alvarez-domenech-11857124/\n",
      "https://www.martindale.com/attorney/ms-tania-xiomara-laporte-reveron-301176614/\n",
      "https://www.martindale.com/attorney/juan-carlos-arce-300993864/\n",
      "https://www.martindale.com/attorney/eduardo-l-ballori-168741616/\n",
      "https://www.martindale.com/attorney/isabel-melendez-altieri-1571979/\n",
      "https://www.martindale.com/attorney/luis-a-rodriguez-3869954/\n",
      "https://www.martindale.com/attorney/fernando-a-perez-colon-11232338/\n",
      "accediendo a: https://www.martindale.com/search/attorneys-law-firms-articles/?term=Puerto+Rico%2C+USA&loc=1&page=12\n",
      "https://www.martindale.com/attorney/rafael-a-machargo-maldonado-1573025/\n",
      "https://www.martindale.com/attorney/pedro-j-quinones-lopez-1573800/\n",
      "https://www.martindale.com/attorney/sonsire-ramos-soler-1573995/\n",
      "https://www.martindale.com/attorney/nelson-robles-1574266/\n",
      "https://www.martindale.com/attorney/felipe-b-sanchez-rivera-1574029/\n",
      "https://www.martindale.com/attorney/monica-rivera-28128414/\n",
      "https://www.martindale.com/attorney/maria-m-fernandez-2372530/\n",
      "https://www.martindale.com/attorney/robert-b-washington-jr-300550654/\n",
      "https://www.martindale.com/attorney/linda-stella-unruh-300775396/\n",
      "https://www.martindale.com/attorney/charles-e-marion-esq-3285515/\n",
      "accediendo a: https://www.martindale.com/search/attorneys-law-firms-articles/?term=Puerto+Rico%2C+USA&loc=1&page=13\n",
      "https://www.martindale.com/attorney/rina-biaggi-2415912/\n",
      "https://www.martindale.com/attorney/susan-lugo-561170/\n",
      "https://www.martindale.com/attorney/juan-c-morales-ducret-1573023/\n",
      "https://www.martindale.com/attorney/juan-e-medina-torres-1571368/\n",
      "https://www.martindale.com/attorney/adrian-sanchez-pagan-26270758/\n",
      "https://www.martindale.com/attorney/salvador-f-rovira-rodriguez-1573728/\n",
      "https://www.martindale.com/attorney/angel-sosa-300364010/\n",
      "https://www.martindale.com/attorney/efrain-mendez-morales-168846554/\n",
      "https://www.martindale.com/attorney/hector-e-valdes-ortiz-4217660/\n",
      "accediendo a: https://www.martindale.com/search/attorneys-law-firms-articles/?term=Puerto+Rico%2C+USA&loc=1&page=14\n",
      "https://www.martindale.com/attorney/george-a-polish-1571541/\n",
      "https://www.martindale.com/attorney/maria-e-juarbe-i-botella-168618374/\n",
      "https://www.martindale.com/attorney/angel-a-vazquez-gonzalez-1574218/\n",
      "https://www.martindale.com/attorney/teresa-medina-monteserin-4358232/\n",
      "https://www.martindale.com/attorney/francisco-arrivi-silva-1573316/\n",
      "https://www.martindale.com/attorney/alice-m-cabrera-300678358/\n",
      "https://www.martindale.com/attorney/ramonita-dieppa-gonzalez-1572258/\n",
      "https://www.martindale.com/attorney/marta-m-kury-latorre-1573327/\n",
      "https://www.martindale.com/attorney/logan-burdine-300295332/\n",
      "https://www.martindale.com/attorney/jose-a-lebron-tirado-1572316/\n",
      "accediendo a: https://www.martindale.com/search/attorneys-law-firms-articles/?term=Puerto+Rico%2C+USA&loc=1&page=15\n",
      "https://www.martindale.com/attorney/harry-anduze-14196354/\n",
      "https://www.martindale.com/attorney/roberto-reyes-jr-1573888/\n",
      "https://www.martindale.com/attorney/carlos-verner-ubinas-1573661/\n",
      "https://www.martindale.com/attorney/augusto-j-rosario-chaves-4217651/\n",
      "https://www.martindale.com/attorney/arnaldo-rivera-seda-300273330/\n",
      "https://www.martindale.com/attorney/maria-elena-gonzalezcalderon-1574272/\n",
      "https://www.martindale.com/attorney/lilliam-torres-marin-1572551/\n",
      "https://www.martindale.com/attorney/pedro-a-santiago-rios-1571976/\n",
      "https://www.martindale.com/attorney/julio-marrero-ruiz-1572123/\n",
      "https://www.martindale.com/attorney/luis-e-andujar-moreno-26239778/\n",
      "https://www.martindale.com/attorney/guillermo-silva-janer-1574065/\n",
      "https://www.martindale.com/attorney/carlos-e-bayron-velez-1571277/\n",
      "accediendo a: https://www.martindale.com/search/attorneys-law-firms-articles/?term=Puerto+Rico%2C+USA&loc=1&page=16\n",
      "https://www.martindale.com/attorney/chaiben-j-fas-alzamora-1571111/\n",
      "https://www.martindale.com/attorney/juan-r-requena-1573985/\n",
      "https://www.martindale.com/attorney/luis-a-arroyo-santiago-1572601/\n",
      "https://www.martindale.com/attorney/juan-r-torruella-1574095/\n",
      "https://www.martindale.com/attorney/peter-anthony-hull-1736992/\n",
      "https://www.martindale.com/attorney/jose-m-gonzalez-romanace-1571347/\n",
      "https://www.martindale.com/attorney/maria-v-perez-quinones-1572129/\n",
      "https://www.martindale.com/attorney/jeannette-marina-negron-ramirez-1571466/\n",
      "accediendo a: https://www.martindale.com/search/attorneys-law-firms-articles/?term=Puerto+Rico%2C+USA&loc=1&page=17\n",
      "https://www.martindale.com/attorney/janelle-reyes-31928829/\n",
      "https://www.martindale.com/attorney/carmen-m-pagan-ortiz-1573863/\n",
      "https://www.martindale.com/attorney/luis-m-morera-perez-2446199/\n",
      "https://www.martindale.com/attorney/natalie-yari-matias-rivera-301262242/\n",
      "https://www.martindale.com/attorney/elaine-marie-maldonado-300564700/\n",
      "https://www.martindale.com/attorney/liana-colon-valentin-3723496/\n",
      "https://www.martindale.com/attorney/eli-diaz-31783044/\n",
      "https://www.martindale.com/attorney/a-d-martinez-del-valle-1574280/\n",
      "accediendo a: https://www.martindale.com/search/attorneys-law-firms-articles/?term=Puerto+Rico%2C+USA&loc=1&page=18\n",
      "https://www.martindale.com/attorney/jose-e-arraras-1572892/\n",
      "https://www.martindale.com/attorney/arlyn-gonzalez-diaz-46210557/\n",
      "https://www.martindale.com/attorney/angel-l-montanez-torres-1571091/\n",
      "https://www.martindale.com/attorney/rosa-m-corrada-colon-4239905/\n",
      "https://www.martindale.com/attorney/allan-amir-rivera-fernandez-300405644/\n",
      "https://www.martindale.com/attorney/malu-muniz-nieves-1571630/\n",
      "https://www.martindale.com/attorney/tracie-c-kosakowski-esq-3845864/\n",
      "https://www.martindale.com/attorney/moises-garcia-balinas-1571248/\n",
      "https://www.martindale.com/attorney/sheila-i-morales-fournier-1572037/\n",
      "https://www.martindale.com/attorney/luis-r-mena-ramos-1571821/\n",
      "https://www.martindale.com/attorney/a-manuel-martin-1573832/\n",
      "https://www.martindale.com/attorney/angel-arnaldo-valencia-300750600/\n",
      "accediendo a: https://www.martindale.com/search/attorneys-law-firms-articles/?term=Puerto+Rico%2C+USA&loc=1&page=19\n",
      "https://www.martindale.com/attorney/pedro-a-jiminez-300428280/\n",
      "https://www.martindale.com/attorney/natalia-c-rodriguez-alegria-301224188/\n",
      "https://www.martindale.com/attorney/ramon-g-vega-dorticos-300328138/\n",
      "https://www.martindale.com/attorney/edgardo-perez-gutierrez-300744872/\n",
      "https://www.martindale.com/attorney/julio-m-maldonado-rodriguez-1571217/\n",
      "https://www.martindale.com/attorney/mr-francisco-fernandez-301508456/\n",
      "https://www.martindale.com/attorney/jaime-a-rodriguez-lecoeur-1573953/\n",
      "https://www.martindale.com/attorney/enrique-pujals-ramirez-1573772/\n",
      "https://www.martindale.com/attorney/robert-r-munoz-arill-1573508/\n",
      "https://www.martindale.com/attorney/sarah-s-brooks-300888846/\n",
      "accediendo a: https://www.martindale.com/search/attorneys-law-firms-articles/?term=Puerto+Rico%2C+USA&loc=1&page=20\n",
      "https://www.martindale.com/attorney/raul-manuel-arias-marxuach-1573261/\n",
      "https://www.martindale.com/attorney/steven-caraballo-velez-301327042/\n",
      "https://www.martindale.com/attorney/jorge-melendez-300794586/\n",
      "https://www.martindale.com/attorney/atty-jose-ramon-feliciano-boada-301069136/\n",
      "https://www.martindale.com/attorney/ana-maria-rodriquez-torres-1573137/\n",
      "https://www.martindale.com/attorney/sylvia-y-morales-de-montes-1571092/\n",
      "https://www.martindale.com/attorney/maristella-collazo-soto-33756967/\n",
      "https://www.martindale.com/attorney/daris-e-roman-morales-1572628/\n",
      "https://www.martindale.com/attorney/marie-rosso-tridas-1573443/\n",
      "https://www.martindale.com/attorney/alexiomar-david-rodriguez-lopez-301017488/\n",
      "https://www.martindale.com/attorney/ramon-a-rosado-vila-1571180/\n"
     ]
    },
    {
     "name": "stderr",
     "output_type": "stream",
     "text": [
      " 45%|████▌     | 96/213 [40:17<52:09, 26.75s/it]"
     ]
    },
    {
     "name": "stdout",
     "output_type": "stream",
     "text": [
      "paginas en esta url: 1\n",
      "accediendo a: https://www.martindale.com/search/attorneys-law-firms-articles/?term=Puerto+Rico%2C+USA&params=eyJ0eXBlIjoicGVvcGxlIiwiY29tcGFyZSI6IiIsInRlcm0iOiJQdWVydG8gUmljbywgVVNBIiwiZ2VvTG9jYXRpb25GYWNldCI6WyJQdWVydG8gUmljbywgVS5TLkEuIl0sImdlb0xvY2F0aW9uRmFjZXRSZWNlbnRzIjpbIlB1ZXJ0byBSaWNvLCBVLlMuQS4iXSwicGFnZSI6MSwibGltaXQiOjI1LCJvZmZzZXQiOjAsInNvcnQiOiIiLCJzb3J0VHlwZSI6IiIsImNsZWFyUGFyYW1zIjpmYWxzZSwia2V5d29yZCI6IiIsInBhZ2VUaXRsZSI6Imw6UHVlcnRvIFJpY28sIFUuUy5BLiIsInByYWN0aWNlQXJlYXMiOlsiU2V4IENyaW1lcyJdfQ%3D%3D\n"
     ]
    },
    {
     "name": "stderr",
     "output_type": "stream",
     "text": [
      " 46%|████▌     | 97/213 [40:42<51:01, 26.39s/it]"
     ]
    },
    {
     "name": "stdout",
     "output_type": "stream",
     "text": [
      "paginas en esta url: 1\n",
      "accediendo a: https://www.martindale.com/search/attorneys-law-firms-articles/?term=Puerto+Rico%2C+USA&params=eyJ0eXBlIjoicGVvcGxlIiwiY29tcGFyZSI6IiIsInRlcm0iOiJQdWVydG8gUmljbywgVVNBIiwiZ2VvTG9jYXRpb25GYWNldCI6WyJQdWVydG8gUmljbywgVS5TLkEuIl0sImdlb0xvY2F0aW9uRmFjZXRSZWNlbnRzIjpbIlB1ZXJ0byBSaWNvLCBVLlMuQS4iXSwicGFnZSI6MSwibGltaXQiOjI1LCJvZmZzZXQiOjAsInNvcnQiOiIiLCJzb3J0VHlwZSI6IiIsImNsZWFyUGFyYW1zIjpmYWxzZSwia2V5d29yZCI6IiIsInBhZ2VUaXRsZSI6Imw6UHVlcnRvIFJpY28sIFUuUy5BLiIsInByYWN0aWNlQXJlYXMiOlsiSHVtYW4gUmVzb3VyY2VzIExhdyJdfQ%3D%3D\n"
     ]
    },
    {
     "name": "stderr",
     "output_type": "stream",
     "text": [
      " 46%|████▌     | 98/213 [41:06<49:09, 25.65s/it]"
     ]
    },
    {
     "name": "stdout",
     "output_type": "stream",
     "text": [
      "paginas en esta url: 1\n",
      "accediendo a: https://www.martindale.com/search/attorneys-law-firms-articles/?term=Puerto+Rico%2C+USA&params=eyJ0eXBlIjoicGVvcGxlIiwiY29tcGFyZSI6IiIsInRlcm0iOiJQdWVydG8gUmljbywgVVNBIiwiZ2VvTG9jYXRpb25GYWNldCI6WyJQdWVydG8gUmljbywgVS5TLkEuIl0sImdlb0xvY2F0aW9uRmFjZXRSZWNlbnRzIjpbIlB1ZXJ0byBSaWNvLCBVLlMuQS4iXSwicGFnZSI6MSwibGltaXQiOjI1LCJvZmZzZXQiOjAsInNvcnQiOiIiLCJzb3J0VHlwZSI6IiIsImNsZWFyUGFyYW1zIjpmYWxzZSwia2V5d29yZCI6IiIsInBhZ2VUaXRsZSI6Imw6UHVlcnRvIFJpY28sIFUuUy5BLiIsInByYWN0aWNlQXJlYXMiOlsiV3JvbmdmdWwgVGVybWluYXRpb24iXX0%3D\n"
     ]
    },
    {
     "name": "stderr",
     "output_type": "stream",
     "text": [
      " 46%|████▋     | 99/213 [41:30<47:27, 24.98s/it]"
     ]
    },
    {
     "name": "stdout",
     "output_type": "stream",
     "text": [
      "paginas en esta url: 1\n",
      "accediendo a: https://www.martindale.com/search/attorneys-law-firms-articles/?term=Puerto+Rico%2C+USA&params=eyJ0eXBlIjoicGVvcGxlIiwiY29tcGFyZSI6IiIsInRlcm0iOiJQdWVydG8gUmljbywgVVNBIiwiZ2VvTG9jYXRpb25GYWNldCI6WyJQdWVydG8gUmljbywgVS5TLkEuIl0sImdlb0xvY2F0aW9uRmFjZXRSZWNlbnRzIjpbIlB1ZXJ0byBSaWNvLCBVLlMuQS4iXSwicGFnZSI6MSwibGltaXQiOjI1LCJvZmZzZXQiOjAsInNvcnQiOiIiLCJzb3J0VHlwZSI6IiIsImNsZWFyUGFyYW1zIjpmYWxzZSwia2V5d29yZCI6IiIsInBhZ2VUaXRsZSI6Imw6UHVlcnRvIFJpY28sIFUuUy5BLiIsInByYWN0aWNlQXJlYXMiOlsiQW5pbWFsIExhdyJdfQ%3D%3D\n"
     ]
    },
    {
     "name": "stderr",
     "output_type": "stream",
     "text": [
      " 47%|████▋     | 100/213 [41:55<46:56, 24.93s/it]"
     ]
    },
    {
     "name": "stdout",
     "output_type": "stream",
     "text": [
      "paginas en esta url: 1\n",
      "accediendo a: https://www.martindale.com/search/attorneys-law-firms-articles/?term=Puerto+Rico%2C+USA&params=eyJ0eXBlIjoicGVvcGxlIiwiY29tcGFyZSI6IiIsInRlcm0iOiJQdWVydG8gUmljbywgVVNBIiwiZ2VvTG9jYXRpb25GYWNldCI6WyJQdWVydG8gUmljbywgVS5TLkEuIl0sImdlb0xvY2F0aW9uRmFjZXRSZWNlbnRzIjpbIlB1ZXJ0byBSaWNvLCBVLlMuQS4iXSwicGFnZSI6MSwibGltaXQiOjI1LCJvZmZzZXQiOjAsInNvcnQiOiIiLCJzb3J0VHlwZSI6IiIsImNsZWFyUGFyYW1zIjpmYWxzZSwia2V5d29yZCI6IiIsInBhZ2VUaXRsZSI6Imw6UHVlcnRvIFJpY28sIFUuUy5BLiIsInByYWN0aWNlQXJlYXMiOlsiQnVzaW5lc3MgUGxhbm5pbmciXX0%3D\n"
     ]
    },
    {
     "name": "stderr",
     "output_type": "stream",
     "text": [
      " 47%|████▋     | 101/213 [42:20<46:55, 25.14s/it]"
     ]
    },
    {
     "name": "stdout",
     "output_type": "stream",
     "text": [
      "paginas en esta url: 1\n",
      "accediendo a: https://www.martindale.com/search/attorneys-law-firms-articles/?term=Puerto+Rico%2C+USA&params=eyJ0eXBlIjoicGVvcGxlIiwiY29tcGFyZSI6IiIsInRlcm0iOiJQdWVydG8gUmljbywgVVNBIiwiZ2VvTG9jYXRpb25GYWNldCI6WyJQdWVydG8gUmljbywgVS5TLkEuIl0sImdlb0xvY2F0aW9uRmFjZXRSZWNlbnRzIjpbIlB1ZXJ0byBSaWNvLCBVLlMuQS4iXSwicGFnZSI6MSwibGltaXQiOjI1LCJvZmZzZXQiOjAsInNvcnQiOiIiLCJzb3J0VHlwZSI6IiIsImNsZWFyUGFyYW1zIjpmYWxzZSwia2V5d29yZCI6IiIsInBhZ2VUaXRsZSI6Imw6UHVlcnRvIFJpY28sIFUuUy5BLiIsInByYWN0aWNlQXJlYXMiOlsiRWxlY3Rpb24sIENhbXBhaWduIGFuZCBQb2xpdGljYWwgTGF3Il19\n",
      "problemas con el crawler\n",
      "problemas con el crawler\n"
     ]
    },
    {
     "name": "stderr",
     "output_type": "stream",
     "text": [
      " 48%|████▊     | 102/213 [43:37<1:15:05, 40.59s/it]"
     ]
    },
    {
     "name": "stdout",
     "output_type": "stream",
     "text": [
      "paginas en esta url: 1\n",
      "accediendo a: https://www.martindale.com/search/attorneys-law-firms-articles/?term=Puerto+Rico%2C+USA&params=eyJ0eXBlIjoicGVvcGxlIiwiY29tcGFyZSI6IiIsInRlcm0iOiJQdWVydG8gUmljbywgVVNBIiwiZ2VvTG9jYXRpb25GYWNldCI6WyJQdWVydG8gUmljbywgVS5TLkEuIl0sImdlb0xvY2F0aW9uRmFjZXRSZWNlbnRzIjpbIlB1ZXJ0byBSaWNvLCBVLlMuQS4iXSwicGFnZSI6MSwibGltaXQiOjI1LCJvZmZzZXQiOjAsInNvcnQiOiIiLCJzb3J0VHlwZSI6IiIsImNsZWFyUGFyYW1zIjpmYWxzZSwia2V5d29yZCI6IiIsInBhZ2VUaXRsZSI6Imw6UHVlcnRvIFJpY28sIFUuUy5BLiIsInByYWN0aWNlQXJlYXMiOlsiRXF1aXBtZW50IEZpbmFuY2UgYW5kIExlYXNpbmciXX0%3D\n"
     ]
    },
    {
     "name": "stderr",
     "output_type": "stream",
     "text": [
      " 48%|████▊     | 103/213 [44:00<1:04:55, 35.42s/it]"
     ]
    },
    {
     "name": "stdout",
     "output_type": "stream",
     "text": [
      "paginas en esta url: 1\n",
      "accediendo a: https://www.martindale.com/search/attorneys-law-firms-articles/?term=Puerto+Rico%2C+USA&params=eyJ0eXBlIjoicGVvcGxlIiwiY29tcGFyZSI6IiIsInRlcm0iOiJQdWVydG8gUmljbywgVVNBIiwiZ2VvTG9jYXRpb25GYWNldCI6WyJQdWVydG8gUmljbywgVS5TLkEuIl0sImdlb0xvY2F0aW9uRmFjZXRSZWNlbnRzIjpbIlB1ZXJ0byBSaWNvLCBVLlMuQS4iXSwicGFnZSI6MSwibGltaXQiOjI1LCJvZmZzZXQiOjAsInNvcnQiOiIiLCJzb3J0VHlwZSI6IiIsImNsZWFyUGFyYW1zIjpmYWxzZSwia2V5d29yZCI6IiIsInBhZ2VUaXRsZSI6Imw6UHVlcnRvIFJpY28sIFUuUy5BLiIsInByYWN0aWNlQXJlYXMiOlsiUHJpdmFjeSBMYXciXX0%3D\n"
     ]
    },
    {
     "name": "stderr",
     "output_type": "stream",
     "text": [
      " 49%|████▉     | 104/213 [44:24<57:51, 31.85s/it]  "
     ]
    },
    {
     "name": "stdout",
     "output_type": "stream",
     "text": [
      "paginas en esta url: 1\n",
      "accediendo a: https://www.martindale.com/search/attorneys-law-firms-articles/?term=Puerto+Rico%2C+USA&params=eyJ0eXBlIjoicGVvcGxlIiwiY29tcGFyZSI6IiIsInRlcm0iOiJQdWVydG8gUmljbywgVVNBIiwiZ2VvTG9jYXRpb25GYWNldCI6WyJQdWVydG8gUmljbywgVS5TLkEuIl0sImdlb0xvY2F0aW9uRmFjZXRSZWNlbnRzIjpbIlB1ZXJ0byBSaWNvLCBVLlMuQS4iXSwicGFnZSI6MSwibGltaXQiOjI1LCJvZmZzZXQiOjAsInNvcnQiOiIiLCJzb3J0VHlwZSI6IiIsImNsZWFyUGFyYW1zIjpmYWxzZSwia2V5d29yZCI6IiIsInBhZ2VUaXRsZSI6Imw6UHVlcnRvIFJpY28sIFUuUy5BLiIsInByYWN0aWNlQXJlYXMiOlsiV2hpc3RsZWJsb3dlciBMaXRpZ2F0aW9uIl19\n"
     ]
    },
    {
     "name": "stderr",
     "output_type": "stream",
     "text": [
      " 49%|████▉     | 105/213 [44:47<52:54, 29.39s/it]"
     ]
    },
    {
     "name": "stdout",
     "output_type": "stream",
     "text": [
      "paginas en esta url: 1\n",
      "accediendo a: https://www.martindale.com/search/attorneys-law-firms-articles/?term=Puerto+Rico%2C+USA&params=eyJ0eXBlIjoicGVvcGxlIiwiY29tcGFyZSI6IiIsInRlcm0iOiJQdWVydG8gUmljbywgVVNBIiwiZ2VvTG9jYXRpb25GYWNldCI6WyJQdWVydG8gUmljbywgVS5TLkEuIl0sImdlb0xvY2F0aW9uRmFjZXRSZWNlbnRzIjpbIlB1ZXJ0byBSaWNvLCBVLlMuQS4iXSwicGFnZSI6MSwibGltaXQiOjI1LCJvZmZzZXQiOjAsInNvcnQiOiIiLCJzb3J0VHlwZSI6IiIsImNsZWFyUGFyYW1zIjpmYWxzZSwia2V5d29yZCI6IiIsInBhZ2VUaXRsZSI6Imw6UHVlcnRvIFJpY28sIFUuUy5BLiIsInByYWN0aWNlQXJlYXMiOlsiU2Nob29sIExhdyJdfQ%3D%3D\n"
     ]
    },
    {
     "name": "stderr",
     "output_type": "stream",
     "text": [
      " 50%|████▉     | 106/213 [45:12<49:55, 28.00s/it]"
     ]
    },
    {
     "name": "stdout",
     "output_type": "stream",
     "text": [
      "paginas en esta url: 1\n",
      "accediendo a: https://www.martindale.com/search/attorneys-law-firms-articles/?term=Puerto+Rico%2C+USA&params=eyJ0eXBlIjoicGVvcGxlIiwiY29tcGFyZSI6IiIsInRlcm0iOiJQdWVydG8gUmljbywgVVNBIiwiZ2VvTG9jYXRpb25GYWNldCI6WyJQdWVydG8gUmljbywgVS5TLkEuIl0sImdlb0xvY2F0aW9uRmFjZXRSZWNlbnRzIjpbIlB1ZXJ0byBSaWNvLCBVLlMuQS4iXSwicGFnZSI6MSwibGltaXQiOjI1LCJvZmZzZXQiOjAsInNvcnQiOiIiLCJzb3J0VHlwZSI6IiIsImNsZWFyUGFyYW1zIjpmYWxzZSwia2V5d29yZCI6IiIsInBhZ2VUaXRsZSI6Imw6UHVlcnRvIFJpY28sIFUuUy5BLiIsInByYWN0aWNlQXJlYXMiOlsiRG9nIEJpdGVzIl19\n"
     ]
    },
    {
     "name": "stderr",
     "output_type": "stream",
     "text": [
      " 50%|█████     | 107/213 [45:36<47:26, 26.85s/it]"
     ]
    },
    {
     "name": "stdout",
     "output_type": "stream",
     "text": [
      "paginas en esta url: 1\n",
      "accediendo a: https://www.martindale.com/search/attorneys-law-firms-articles/?term=Puerto+Rico%2C+USA&params=eyJ0eXBlIjoicGVvcGxlIiwiY29tcGFyZSI6IiIsInRlcm0iOiJQdWVydG8gUmljbywgVVNBIiwiZ2VvTG9jYXRpb25GYWNldCI6WyJQdWVydG8gUmljbywgVS5TLkEuIl0sImdlb0xvY2F0aW9uRmFjZXRSZWNlbnRzIjpbIlB1ZXJ0byBSaWNvLCBVLlMuQS4iXSwicGFnZSI6MSwibGltaXQiOjI1LCJvZmZzZXQiOjAsInNvcnQiOiIiLCJzb3J0VHlwZSI6IiIsImNsZWFyUGFyYW1zIjpmYWxzZSwia2V5d29yZCI6IiIsInBhZ2VUaXRsZSI6Imw6UHVlcnRvIFJpY28sIFUuUy5BLiIsInByYWN0aWNlQXJlYXMiOlsiQ2xvc2VseSBIZWxkIEJ1c2luZXNzIExhdyJdfQ%3D%3D\n"
     ]
    },
    {
     "name": "stderr",
     "output_type": "stream",
     "text": [
      " 51%|█████     | 108/213 [46:00<45:34, 26.05s/it]"
     ]
    },
    {
     "name": "stdout",
     "output_type": "stream",
     "text": [
      "paginas en esta url: 2\n",
      "accediendo a: https://www.martindale.com/search/attorneys-law-firms-articles/?term=Puerto+Rico%2C+USA&params=eyJ0eXBlIjoicGVvcGxlIiwiY29tcGFyZSI6IiIsInRlcm0iOiJQdWVydG8gUmljbywgVVNBIiwiZ2VvTG9jYXRpb25GYWNldCI6WyJQdWVydG8gUmljbywgVS5TLkEuIl0sImdlb0xvY2F0aW9uRmFjZXRSZWNlbnRzIjpbIlB1ZXJ0byBSaWNvLCBVLlMuQS4iXSwicGFnZSI6MSwibGltaXQiOjI1LCJvZmZzZXQiOjAsInNvcnQiOiIiLCJzb3J0VHlwZSI6IiIsImNsZWFyUGFyYW1zIjpmYWxzZSwia2V5d29yZCI6IiIsInBhZ2VUaXRsZSI6Imw6UHVlcnRvIFJpY28sIFUuUy5BLiIsInByYWN0aWNlQXJlYXMiOlsiWm9uaW5nLCBQbGFubmluZyBhbmQgTGFuZCBVc2UiXX0%3D\n",
      "accediendo a: https://www.martindale.com/search/attorneys-law-firms-articles/?term=Puerto+Rico%2C+USA&params=eyJ0eXBlIjoicGVvcGxlIiwiY29tcGFyZSI6IiIsInRlcm0iOiJQdWVydG8gUmljbywgVVNBIiwiZ2VvTG9jYXRpb25GYWNldCI6WyJQdWVydG8gUmljbywgVS5TLkEuIl0sImdlb0xvY2F0aW9uRmFjZXRSZWNlbnRzIjpbIlB1ZXJ0byBSaWNvLCBVLlMuQS4iXSwicGFnZSI6MSwibGltaXQiOjI1LCJvZmZzZXQiOjAsInNvcnQiOiIiLCJzb3J0VHlwZSI6IiIsImNsZWFyUGFyYW1zIjpmYWxzZSwia2V5d29yZCI6IiIsInBhZ2VUaXRsZSI6Imw6UHVlcnRvIFJpY28sIFUuUy5BLiIsInByYWN0aWNlQXJlYXMiOlsiWm9uaW5nLCBQbGFubmluZyBhbmQgTGFuZCBVc2UiXX0%3D&page=2\n"
     ]
    },
    {
     "name": "stderr",
     "output_type": "stream",
     "text": [
      " 51%|█████     | 109/213 [46:12<37:30, 21.64s/it]"
     ]
    },
    {
     "name": "stdout",
     "output_type": "stream",
     "text": [
      "paginas en esta url: 5\n",
      "accediendo a: https://www.martindale.com/search/attorneys-law-firms-articles/?term=Puerto+Rico%2C+USA&params=eyJ0eXBlIjoicGVvcGxlIiwiY29tcGFyZSI6IiIsInRlcm0iOiJQdWVydG8gUmljbywgVVNBIiwiZ2VvTG9jYXRpb25GYWNldCI6WyJQdWVydG8gUmljbywgVS5TLkEuIl0sImdlb0xvY2F0aW9uRmFjZXRSZWNlbnRzIjpbIlB1ZXJ0byBSaWNvLCBVLlMuQS4iXSwicGFnZSI6MSwibGltaXQiOjI1LCJvZmZzZXQiOjAsInNvcnQiOiIiLCJzb3J0VHlwZSI6IiIsImNsZWFyUGFyYW1zIjpmYWxzZSwia2V5d29yZCI6IiIsInBhZ2VUaXRsZSI6Imw6UHVlcnRvIFJpY28sIFUuUy5BLiIsInByYWN0aWNlQXJlYXMiOlsiTWVkaWNhbCBNYWxwcmFjdGljZSJdfQ%3D%3D\n",
      "https://www.martindale.com/attorney/pedro-j-cordova-pelegrina-1573486/\n",
      "https://www.martindale.com/attorney/luis-hernandez-cardona-1571563/\n",
      "accediendo a: https://www.martindale.com/search/attorneys-law-firms-articles/?term=Puerto+Rico%2C+USA&params=eyJ0eXBlIjoicGVvcGxlIiwiY29tcGFyZSI6IiIsInRlcm0iOiJQdWVydG8gUmljbywgVVNBIiwiZ2VvTG9jYXRpb25GYWNldCI6WyJQdWVydG8gUmljbywgVS5TLkEuIl0sImdlb0xvY2F0aW9uRmFjZXRSZWNlbnRzIjpbIlB1ZXJ0byBSaWNvLCBVLlMuQS4iXSwicGFnZSI6MSwibGltaXQiOjI1LCJvZmZzZXQiOjAsInNvcnQiOiIiLCJzb3J0VHlwZSI6IiIsImNsZWFyUGFyYW1zIjpmYWxzZSwia2V5d29yZCI6IiIsInBhZ2VUaXRsZSI6Imw6UHVlcnRvIFJpY28sIFUuUy5BLiIsInByYWN0aWNlQXJlYXMiOlsiTWVkaWNhbCBNYWxwcmFjdGljZSJdfQ%3D%3D&page=2\n",
      "https://www.martindale.com/attorney/ellis-l-bennett-36336206/\n",
      "accediendo a: https://www.martindale.com/search/attorneys-law-firms-articles/?term=Puerto+Rico%2C+USA&params=eyJ0eXBlIjoicGVvcGxlIiwiY29tcGFyZSI6IiIsInRlcm0iOiJQdWVydG8gUmljbywgVVNBIiwiZ2VvTG9jYXRpb25GYWNldCI6WyJQdWVydG8gUmljbywgVS5TLkEuIl0sImdlb0xvY2F0aW9uRmFjZXRSZWNlbnRzIjpbIlB1ZXJ0byBSaWNvLCBVLlMuQS4iXSwicGFnZSI6MSwibGltaXQiOjI1LCJvZmZzZXQiOjAsInNvcnQiOiIiLCJzb3J0VHlwZSI6IiIsImNsZWFyUGFyYW1zIjpmYWxzZSwia2V5d29yZCI6IiIsInBhZ2VUaXRsZSI6Imw6UHVlcnRvIFJpY28sIFUuUy5BLiIsInByYWN0aWNlQXJlYXMiOlsiTWVkaWNhbCBNYWxwcmFjdGljZSJdfQ%3D%3D&page=3\n",
      "https://www.martindale.com/attorney/manuel-san-juan-1572974/\n",
      "https://www.martindale.com/attorney/javier-a-morales-ramos-1571818/\n",
      "accediendo a: https://www.martindale.com/search/attorneys-law-firms-articles/?term=Puerto+Rico%2C+USA&params=eyJ0eXBlIjoicGVvcGxlIiwiY29tcGFyZSI6IiIsInRlcm0iOiJQdWVydG8gUmljbywgVVNBIiwiZ2VvTG9jYXRpb25GYWNldCI6WyJQdWVydG8gUmljbywgVS5TLkEuIl0sImdlb0xvY2F0aW9uRmFjZXRSZWNlbnRzIjpbIlB1ZXJ0byBSaWNvLCBVLlMuQS4iXSwicGFnZSI6MSwibGltaXQiOjI1LCJvZmZzZXQiOjAsInNvcnQiOiIiLCJzb3J0VHlwZSI6IiIsImNsZWFyUGFyYW1zIjpmYWxzZSwia2V5d29yZCI6IiIsInBhZ2VUaXRsZSI6Imw6UHVlcnRvIFJpY28sIFUuUy5BLiIsInByYWN0aWNlQXJlYXMiOlsiTWVkaWNhbCBNYWxwcmFjdGljZSJdfQ%3D%3D&page=4\n",
      "https://www.martindale.com/attorney/peter-w-miller-1571813/\n",
      "https://www.martindale.com/attorney/a-santiago-villalonga-1573513/\n",
      "https://www.martindale.com/attorney/jose-juan-torres-escalera-1572956/\n",
      "https://www.martindale.com/attorney/ramon-l-vinas-bueso-1573918/\n",
      "https://www.martindale.com/attorney/georgina-carrion-christiansen-1573528/\n",
      "accediendo a: https://www.martindale.com/search/attorneys-law-firms-articles/?term=Puerto+Rico%2C+USA&params=eyJ0eXBlIjoicGVvcGxlIiwiY29tcGFyZSI6IiIsInRlcm0iOiJQdWVydG8gUmljbywgVVNBIiwiZ2VvTG9jYXRpb25GYWNldCI6WyJQdWVydG8gUmljbywgVS5TLkEuIl0sImdlb0xvY2F0aW9uRmFjZXRSZWNlbnRzIjpbIlB1ZXJ0byBSaWNvLCBVLlMuQS4iXSwicGFnZSI6MSwibGltaXQiOjI1LCJvZmZzZXQiOjAsInNvcnQiOiIiLCJzb3J0VHlwZSI6IiIsImNsZWFyUGFyYW1zIjpmYWxzZSwia2V5d29yZCI6IiIsInBhZ2VUaXRsZSI6Imw6UHVlcnRvIFJpY28sIFUuUy5BLiIsInByYWN0aWNlQXJlYXMiOlsiTWVkaWNhbCBNYWxwcmFjdGljZSJdfQ%3D%3D&page=5\n"
     ]
    },
    {
     "name": "stderr",
     "output_type": "stream",
     "text": [
      " 52%|█████▏    | 110/213 [46:30<35:13, 20.52s/it]"
     ]
    },
    {
     "name": "stdout",
     "output_type": "stream",
     "text": [
      "paginas en esta url: 1\n",
      "accediendo a: https://www.martindale.com/search/attorneys-law-firms-articles/?term=Puerto+Rico%2C+USA&params=eyJ0eXBlIjoicGVvcGxlIiwiY29tcGFyZSI6IiIsInRlcm0iOiJQdWVydG8gUmljbywgVVNBIiwiZ2VvTG9jYXRpb25GYWNldCI6WyJQdWVydG8gUmljbywgVS5TLkEuIl0sImdlb0xvY2F0aW9uRmFjZXRSZWNlbnRzIjpbIlB1ZXJ0byBSaWNvLCBVLlMuQS4iXSwicGFnZSI6MSwibGltaXQiOjI1LCJvZmZzZXQiOjAsInNvcnQiOiIiLCJzb3J0VHlwZSI6IiIsImNsZWFyUGFyYW1zIjpmYWxzZSwia2V5d29yZCI6IiIsInBhZ2VUaXRsZSI6Imw6UHVlcnRvIFJpY28sIFUuUy5BLiIsInByYWN0aWNlQXJlYXMiOlsiSG9zcGl0YWxpdHkgTGF3Il19\n"
     ]
    },
    {
     "name": "stderr",
     "output_type": "stream",
     "text": [
      " 52%|█████▏    | 111/213 [46:54<36:41, 21.58s/it]"
     ]
    },
    {
     "name": "stdout",
     "output_type": "stream",
     "text": [
      "paginas en esta url: 1\n",
      "accediendo a: https://www.martindale.com/search/attorneys-law-firms-articles/?term=Puerto+Rico%2C+USA&params=eyJ0eXBlIjoicGVvcGxlIiwiY29tcGFyZSI6IiIsInRlcm0iOiJQdWVydG8gUmljbywgVVNBIiwiZ2VvTG9jYXRpb25GYWNldCI6WyJQdWVydG8gUmljbywgVS5TLkEuIl0sImdlb0xvY2F0aW9uRmFjZXRSZWNlbnRzIjpbIlB1ZXJ0byBSaWNvLCBVLlMuQS4iXSwicGFnZSI6MSwibGltaXQiOjI1LCJvZmZzZXQiOjAsInNvcnQiOiIiLCJzb3J0VHlwZSI6IiIsImNsZWFyUGFyYW1zIjpmYWxzZSwia2V5d29yZCI6IiIsInBhZ2VUaXRsZSI6Imw6UHVlcnRvIFJpY28sIFUuUy5BLiIsInByYWN0aWNlQXJlYXMiOlsiRGVwb3J0YXRpb24iXX0%3D\n"
     ]
    },
    {
     "name": "stderr",
     "output_type": "stream",
     "text": [
      " 53%|█████▎    | 112/213 [47:17<37:15, 22.13s/it]"
     ]
    },
    {
     "name": "stdout",
     "output_type": "stream",
     "text": [
      "paginas en esta url: 11\n",
      "accediendo a: https://www.martindale.com/search/attorneys-law-firms-articles/?term=Puerto+Rico%2C+USA&params=eyJ0eXBlIjoicGVvcGxlIiwiY29tcGFyZSI6IiIsInRlcm0iOiJQdWVydG8gUmljbywgVVNBIiwiZ2VvTG9jYXRpb25GYWNldCI6WyJQdWVydG8gUmljbywgVS5TLkEuIl0sImdlb0xvY2F0aW9uRmFjZXRSZWNlbnRzIjpbIlB1ZXJ0byBSaWNvLCBVLlMuQS4iXSwicGFnZSI6MSwibGltaXQiOjI1LCJvZmZzZXQiOjAsInNvcnQiOiIiLCJzb3J0VHlwZSI6IiIsImNsZWFyUGFyYW1zIjpmYWxzZSwia2V5d29yZCI6IiIsInBhZ2VUaXRsZSI6Imw6UHVlcnRvIFJpY28sIFUuUy5BLiIsInByYWN0aWNlQXJlYXMiOlsiVG9ydHMiXX0%3D\n",
      "accediendo a: https://www.martindale.com/search/attorneys-law-firms-articles/?term=Puerto+Rico%2C+USA&params=eyJ0eXBlIjoicGVvcGxlIiwiY29tcGFyZSI6IiIsInRlcm0iOiJQdWVydG8gUmljbywgVVNBIiwiZ2VvTG9jYXRpb25GYWNldCI6WyJQdWVydG8gUmljbywgVS5TLkEuIl0sImdlb0xvY2F0aW9uRmFjZXRSZWNlbnRzIjpbIlB1ZXJ0byBSaWNvLCBVLlMuQS4iXSwicGFnZSI6MSwibGltaXQiOjI1LCJvZmZzZXQiOjAsInNvcnQiOiIiLCJzb3J0VHlwZSI6IiIsImNsZWFyUGFyYW1zIjpmYWxzZSwia2V5d29yZCI6IiIsInBhZ2VUaXRsZSI6Imw6UHVlcnRvIFJpY28sIFUuUy5BLiIsInByYWN0aWNlQXJlYXMiOlsiVG9ydHMiXX0%3D&page=2\n",
      "https://www.martindale.com/attorney/rafael-l-martinez-torres-1572459/\n",
      "https://www.martindale.com/attorney/nelsa-lopez-colon-1571057/\n",
      "accediendo a: https://www.martindale.com/search/attorneys-law-firms-articles/?term=Puerto+Rico%2C+USA&params=eyJ0eXBlIjoicGVvcGxlIiwiY29tcGFyZSI6IiIsInRlcm0iOiJQdWVydG8gUmljbywgVVNBIiwiZ2VvTG9jYXRpb25GYWNldCI6WyJQdWVydG8gUmljbywgVS5TLkEuIl0sImdlb0xvY2F0aW9uRmFjZXRSZWNlbnRzIjpbIlB1ZXJ0byBSaWNvLCBVLlMuQS4iXSwicGFnZSI6MSwibGltaXQiOjI1LCJvZmZzZXQiOjAsInNvcnQiOiIiLCJzb3J0VHlwZSI6IiIsImNsZWFyUGFyYW1zIjpmYWxzZSwia2V5d29yZCI6IiIsInBhZ2VUaXRsZSI6Imw6UHVlcnRvIFJpY28sIFUuUy5BLiIsInByYWN0aWNlQXJlYXMiOlsiVG9ydHMiXX0%3D&page=3\n",
      "https://www.martindale.com/attorney/andres-j-colberg-trigo-2515898/\n",
      "accediendo a: https://www.martindale.com/search/attorneys-law-firms-articles/?term=Puerto+Rico%2C+USA&params=eyJ0eXBlIjoicGVvcGxlIiwiY29tcGFyZSI6IiIsInRlcm0iOiJQdWVydG8gUmljbywgVVNBIiwiZ2VvTG9jYXRpb25GYWNldCI6WyJQdWVydG8gUmljbywgVS5TLkEuIl0sImdlb0xvY2F0aW9uRmFjZXRSZWNlbnRzIjpbIlB1ZXJ0byBSaWNvLCBVLlMuQS4iXSwicGFnZSI6MSwibGltaXQiOjI1LCJvZmZzZXQiOjAsInNvcnQiOiIiLCJzb3J0VHlwZSI6IiIsImNsZWFyUGFyYW1zIjpmYWxzZSwia2V5d29yZCI6IiIsInBhZ2VUaXRsZSI6Imw6UHVlcnRvIFJpY28sIFUuUy5BLiIsInByYWN0aWNlQXJlYXMiOlsiVG9ydHMiXX0%3D&page=4\n",
      "https://www.martindale.com/attorney/cristina-a-fernandez-rodriguez-3318765/\n",
      "accediendo a: https://www.martindale.com/search/attorneys-law-firms-articles/?term=Puerto+Rico%2C+USA&params=eyJ0eXBlIjoicGVvcGxlIiwiY29tcGFyZSI6IiIsInRlcm0iOiJQdWVydG8gUmljbywgVVNBIiwiZ2VvTG9jYXRpb25GYWNldCI6WyJQdWVydG8gUmljbywgVS5TLkEuIl0sImdlb0xvY2F0aW9uRmFjZXRSZWNlbnRzIjpbIlB1ZXJ0byBSaWNvLCBVLlMuQS4iXSwicGFnZSI6MSwibGltaXQiOjI1LCJvZmZzZXQiOjAsInNvcnQiOiIiLCJzb3J0VHlwZSI6IiIsImNsZWFyUGFyYW1zIjpmYWxzZSwia2V5d29yZCI6IiIsInBhZ2VUaXRsZSI6Imw6UHVlcnRvIFJpY28sIFUuUy5BLiIsInByYWN0aWNlQXJlYXMiOlsiVG9ydHMiXX0%3D&page=5\n",
      "accediendo a: https://www.martindale.com/search/attorneys-law-firms-articles/?term=Puerto+Rico%2C+USA&params=eyJ0eXBlIjoicGVvcGxlIiwiY29tcGFyZSI6IiIsInRlcm0iOiJQdWVydG8gUmljbywgVVNBIiwiZ2VvTG9jYXRpb25GYWNldCI6WyJQdWVydG8gUmljbywgVS5TLkEuIl0sImdlb0xvY2F0aW9uRmFjZXRSZWNlbnRzIjpbIlB1ZXJ0byBSaWNvLCBVLlMuQS4iXSwicGFnZSI6MSwibGltaXQiOjI1LCJvZmZzZXQiOjAsInNvcnQiOiIiLCJzb3J0VHlwZSI6IiIsImNsZWFyUGFyYW1zIjpmYWxzZSwia2V5d29yZCI6IiIsInBhZ2VUaXRsZSI6Imw6UHVlcnRvIFJpY28sIFUuUy5BLiIsInByYWN0aWNlQXJlYXMiOlsiVG9ydHMiXX0%3D&page=6\n",
      "https://www.martindale.com/attorney/ms-neyla-ortiz-rosario-45876825/\n",
      "accediendo a: https://www.martindale.com/search/attorneys-law-firms-articles/?term=Puerto+Rico%2C+USA&params=eyJ0eXBlIjoicGVvcGxlIiwiY29tcGFyZSI6IiIsInRlcm0iOiJQdWVydG8gUmljbywgVVNBIiwiZ2VvTG9jYXRpb25GYWNldCI6WyJQdWVydG8gUmljbywgVS5TLkEuIl0sImdlb0xvY2F0aW9uRmFjZXRSZWNlbnRzIjpbIlB1ZXJ0byBSaWNvLCBVLlMuQS4iXSwicGFnZSI6MSwibGltaXQiOjI1LCJvZmZzZXQiOjAsInNvcnQiOiIiLCJzb3J0VHlwZSI6IiIsImNsZWFyUGFyYW1zIjpmYWxzZSwia2V5d29yZCI6IiIsInBhZ2VUaXRsZSI6Imw6UHVlcnRvIFJpY28sIFUuUy5BLiIsInByYWN0aWNlQXJlYXMiOlsiVG9ydHMiXX0%3D&page=7\n",
      "https://www.martindale.com/attorney/marcos-f-vecchini-santaella-2854781/\n",
      "https://www.martindale.com/attorney/janice-richardson-4685267/\n",
      "https://www.martindale.com/attorney/orlando-duran-medero-43731601/\n",
      "accediendo a: https://www.martindale.com/search/attorneys-law-firms-articles/?term=Puerto+Rico%2C+USA&params=eyJ0eXBlIjoicGVvcGxlIiwiY29tcGFyZSI6IiIsInRlcm0iOiJQdWVydG8gUmljbywgVVNBIiwiZ2VvTG9jYXRpb25GYWNldCI6WyJQdWVydG8gUmljbywgVS5TLkEuIl0sImdlb0xvY2F0aW9uRmFjZXRSZWNlbnRzIjpbIlB1ZXJ0byBSaWNvLCBVLlMuQS4iXSwicGFnZSI6MSwibGltaXQiOjI1LCJvZmZzZXQiOjAsInNvcnQiOiIiLCJzb3J0VHlwZSI6IiIsImNsZWFyUGFyYW1zIjpmYWxzZSwia2V5d29yZCI6IiIsInBhZ2VUaXRsZSI6Imw6UHVlcnRvIFJpY28sIFUuUy5BLiIsInByYWN0aWNlQXJlYXMiOlsiVG9ydHMiXX0%3D&page=8\n",
      "accediendo a: https://www.martindale.com/search/attorneys-law-firms-articles/?term=Puerto+Rico%2C+USA&params=eyJ0eXBlIjoicGVvcGxlIiwiY29tcGFyZSI6IiIsInRlcm0iOiJQdWVydG8gUmljbywgVVNBIiwiZ2VvTG9jYXRpb25GYWNldCI6WyJQdWVydG8gUmljbywgVS5TLkEuIl0sImdlb0xvY2F0aW9uRmFjZXRSZWNlbnRzIjpbIlB1ZXJ0byBSaWNvLCBVLlMuQS4iXSwicGFnZSI6MSwibGltaXQiOjI1LCJvZmZzZXQiOjAsInNvcnQiOiIiLCJzb3J0VHlwZSI6IiIsImNsZWFyUGFyYW1zIjpmYWxzZSwia2V5d29yZCI6IiIsInBhZ2VUaXRsZSI6Imw6UHVlcnRvIFJpY28sIFUuUy5BLiIsInByYWN0aWNlQXJlYXMiOlsiVG9ydHMiXX0%3D&page=9\n",
      "https://www.martindale.com/attorney/juan-r-marchand-quintero-1573940/\n",
      "https://www.martindale.com/attorney/jose-a-cuevas-segarra-1571470/\n",
      "accediendo a: https://www.martindale.com/search/attorneys-law-firms-articles/?term=Puerto+Rico%2C+USA&params=eyJ0eXBlIjoicGVvcGxlIiwiY29tcGFyZSI6IiIsInRlcm0iOiJQdWVydG8gUmljbywgVVNBIiwiZ2VvTG9jYXRpb25GYWNldCI6WyJQdWVydG8gUmljbywgVS5TLkEuIl0sImdlb0xvY2F0aW9uRmFjZXRSZWNlbnRzIjpbIlB1ZXJ0byBSaWNvLCBVLlMuQS4iXSwicGFnZSI6MSwibGltaXQiOjI1LCJvZmZzZXQiOjAsInNvcnQiOiIiLCJzb3J0VHlwZSI6IiIsImNsZWFyUGFyYW1zIjpmYWxzZSwia2V5d29yZCI6IiIsInBhZ2VUaXRsZSI6Imw6UHVlcnRvIFJpY28sIFUuUy5BLiIsInByYWN0aWNlQXJlYXMiOlsiVG9ydHMiXX0%3D&page=10\n",
      "https://www.martindale.com/attorney/maite-medero-benitez-45883777/\n",
      "https://www.martindale.com/attorney/karel-orlandi-dieppa-45876824/\n",
      "accediendo a: https://www.martindale.com/search/attorneys-law-firms-articles/?term=Puerto+Rico%2C+USA&params=eyJ0eXBlIjoicGVvcGxlIiwiY29tcGFyZSI6IiIsInRlcm0iOiJQdWVydG8gUmljbywgVVNBIiwiZ2VvTG9jYXRpb25GYWNldCI6WyJQdWVydG8gUmljbywgVS5TLkEuIl0sImdlb0xvY2F0aW9uRmFjZXRSZWNlbnRzIjpbIlB1ZXJ0byBSaWNvLCBVLlMuQS4iXSwicGFnZSI6MSwibGltaXQiOjI1LCJvZmZzZXQiOjAsInNvcnQiOiIiLCJzb3J0VHlwZSI6IiIsImNsZWFyUGFyYW1zIjpmYWxzZSwia2V5d29yZCI6IiIsInBhZ2VUaXRsZSI6Imw6UHVlcnRvIFJpY28sIFUuUy5BLiIsInByYWN0aWNlQXJlYXMiOlsiVG9ydHMiXX0%3D&page=11\n"
     ]
    },
    {
     "name": "stderr",
     "output_type": "stream",
     "text": [
      " 53%|█████▎    | 113/213 [47:44<39:05, 23.45s/it]"
     ]
    },
    {
     "name": "stdout",
     "output_type": "stream",
     "text": [
      "paginas en esta url: 1\n",
      "accediendo a: https://www.martindale.com/search/attorneys-law-firms-articles/?term=Puerto+Rico%2C+USA&params=eyJ0eXBlIjoicGVvcGxlIiwiY29tcGFyZSI6IiIsInRlcm0iOiJQdWVydG8gUmljbywgVVNBIiwiZ2VvTG9jYXRpb25GYWNldCI6WyJQdWVydG8gUmljbywgVS5TLkEuIl0sImdlb0xvY2F0aW9uRmFjZXRSZWNlbnRzIjpbIlB1ZXJ0byBSaWNvLCBVLlMuQS4iXSwicGFnZSI6MSwibGltaXQiOjI1LCJvZmZzZXQiOjAsInNvcnQiOiIiLCJzb3J0VHlwZSI6IiIsImNsZWFyUGFyYW1zIjpmYWxzZSwia2V5d29yZCI6IiIsInBhZ2VUaXRsZSI6Imw6UHVlcnRvIFJpY28sIFUuUy5BLiIsInByYWN0aWNlQXJlYXMiOlsiTWVkaWF0aW9uIl19\n"
     ]
    },
    {
     "name": "stderr",
     "output_type": "stream",
     "text": [
      " 54%|█████▎    | 114/213 [48:08<39:17, 23.81s/it]"
     ]
    },
    {
     "name": "stdout",
     "output_type": "stream",
     "text": [
      "paginas en esta url: 1\n",
      "accediendo a: https://www.martindale.com/search/attorneys-law-firms-articles/?term=Puerto+Rico%2C+USA&params=eyJ0eXBlIjoicGVvcGxlIiwiY29tcGFyZSI6IiIsInRlcm0iOiJQdWVydG8gUmljbywgVVNBIiwiZ2VvTG9jYXRpb25GYWNldCI6WyJQdWVydG8gUmljbywgVS5TLkEuIl0sImdlb0xvY2F0aW9uRmFjZXRSZWNlbnRzIjpbIlB1ZXJ0byBSaWNvLCBVLlMuQS4iXSwicGFnZSI6MSwibGltaXQiOjI1LCJvZmZzZXQiOjAsInNvcnQiOiIiLCJzb3J0VHlwZSI6IiIsImNsZWFyUGFyYW1zIjpmYWxzZSwia2V5d29yZCI6IiIsInBhZ2VUaXRsZSI6Imw6UHVlcnRvIFJpY28sIFUuUy5BLiIsInByYWN0aWNlQXJlYXMiOlsiQnVzaW5lc3MgRm9ybWF0aW9uIl19\n"
     ]
    },
    {
     "name": "stderr",
     "output_type": "stream",
     "text": [
      " 54%|█████▍    | 115/213 [48:31<38:19, 23.46s/it]"
     ]
    },
    {
     "name": "stdout",
     "output_type": "stream",
     "text": [
      "paginas en esta url: 3\n",
      "accediendo a: https://www.martindale.com/search/attorneys-law-firms-articles/?term=Puerto+Rico%2C+USA&params=eyJ0eXBlIjoicGVvcGxlIiwiY29tcGFyZSI6IiIsInRlcm0iOiJQdWVydG8gUmljbywgVVNBIiwiZ2VvTG9jYXRpb25GYWNldCI6WyJQdWVydG8gUmljbywgVS5TLkEuIl0sImdlb0xvY2F0aW9uRmFjZXRSZWNlbnRzIjpbIlB1ZXJ0byBSaWNvLCBVLlMuQS4iXSwicGFnZSI6MSwibGltaXQiOjI1LCJvZmZzZXQiOjAsInNvcnQiOiIiLCJzb3J0VHlwZSI6IiIsImNsZWFyUGFyYW1zIjpmYWxzZSwia2V5d29yZCI6IiIsInBhZ2VUaXRsZSI6Imw6UHVlcnRvIFJpY28sIFUuUy5BLiIsInByYWN0aWNlQXJlYXMiOlsiRnJhbmNoaXNlcyBhbmQgRnJhbmNoaXNpbmciXX0%3D\n",
      "accediendo a: https://www.martindale.com/search/attorneys-law-firms-articles/?term=Puerto+Rico%2C+USA&params=eyJ0eXBlIjoicGVvcGxlIiwiY29tcGFyZSI6IiIsInRlcm0iOiJQdWVydG8gUmljbywgVVNBIiwiZ2VvTG9jYXRpb25GYWNldCI6WyJQdWVydG8gUmljbywgVS5TLkEuIl0sImdlb0xvY2F0aW9uRmFjZXRSZWNlbnRzIjpbIlB1ZXJ0byBSaWNvLCBVLlMuQS4iXSwicGFnZSI6MSwibGltaXQiOjI1LCJvZmZzZXQiOjAsInNvcnQiOiIiLCJzb3J0VHlwZSI6IiIsImNsZWFyUGFyYW1zIjpmYWxzZSwia2V5d29yZCI6IiIsInBhZ2VUaXRsZSI6Imw6UHVlcnRvIFJpY28sIFUuUy5BLiIsInByYWN0aWNlQXJlYXMiOlsiRnJhbmNoaXNlcyBhbmQgRnJhbmNoaXNpbmciXX0%3D&page=2\n",
      "accediendo a: https://www.martindale.com/search/attorneys-law-firms-articles/?term=Puerto+Rico%2C+USA&params=eyJ0eXBlIjoicGVvcGxlIiwiY29tcGFyZSI6IiIsInRlcm0iOiJQdWVydG8gUmljbywgVVNBIiwiZ2VvTG9jYXRpb25GYWNldCI6WyJQdWVydG8gUmljbywgVS5TLkEuIl0sImdlb0xvY2F0aW9uRmFjZXRSZWNlbnRzIjpbIlB1ZXJ0byBSaWNvLCBVLlMuQS4iXSwicGFnZSI6MSwibGltaXQiOjI1LCJvZmZzZXQiOjAsInNvcnQiOiIiLCJzb3J0VHlwZSI6IiIsImNsZWFyUGFyYW1zIjpmYWxzZSwia2V5d29yZCI6IiIsInBhZ2VUaXRsZSI6Imw6UHVlcnRvIFJpY28sIFUuUy5BLiIsInByYWN0aWNlQXJlYXMiOlsiRnJhbmNoaXNlcyBhbmQgRnJhbmNoaXNpbmciXX0%3D&page=3\n"
     ]
    },
    {
     "name": "stderr",
     "output_type": "stream",
     "text": [
      " 54%|█████▍    | 116/213 [48:45<33:29, 20.72s/it]"
     ]
    },
    {
     "name": "stdout",
     "output_type": "stream",
     "text": [
      "paginas en esta url: 1\n",
      "accediendo a: https://www.martindale.com/search/attorneys-law-firms-articles/?term=Puerto+Rico%2C+USA&params=eyJ0eXBlIjoicGVvcGxlIiwiY29tcGFyZSI6IiIsInRlcm0iOiJQdWVydG8gUmljbywgVVNBIiwiZ2VvTG9jYXRpb25GYWNldCI6WyJQdWVydG8gUmljbywgVS5TLkEuIl0sImdlb0xvY2F0aW9uRmFjZXRSZWNlbnRzIjpbIlB1ZXJ0byBSaWNvLCBVLlMuQS4iXSwicGFnZSI6MSwibGltaXQiOjI1LCJvZmZzZXQiOjAsInNvcnQiOiIiLCJzb3J0VHlwZSI6IiIsImNsZWFyUGFyYW1zIjpmYWxzZSwia2V5d29yZCI6IiIsInBhZ2VUaXRsZSI6Imw6UHVlcnRvIFJpY28sIFUuUy5BLiIsInByYWN0aWNlQXJlYXMiOlsiQWZmb3JkYWJsZSBIb3VzaW5nIl19\n"
     ]
    },
    {
     "name": "stderr",
     "output_type": "stream",
     "text": [
      " 55%|█████▍    | 117/213 [49:09<34:34, 21.61s/it]"
     ]
    },
    {
     "name": "stdout",
     "output_type": "stream",
     "text": [
      "paginas en esta url: 1\n",
      "accediendo a: https://www.martindale.com/search/attorneys-law-firms-articles/?term=Puerto+Rico%2C+USA&params=eyJ0eXBlIjoicGVvcGxlIiwiY29tcGFyZSI6IiIsInRlcm0iOiJQdWVydG8gUmljbywgVVNBIiwiZ2VvTG9jYXRpb25GYWNldCI6WyJQdWVydG8gUmljbywgVS5TLkEuIl0sImdlb0xvY2F0aW9uRmFjZXRSZWNlbnRzIjpbIlB1ZXJ0byBSaWNvLCBVLlMuQS4iXSwicGFnZSI6MSwibGltaXQiOjI1LCJvZmZzZXQiOjAsInNvcnQiOiIiLCJzb3J0VHlwZSI6IiIsImNsZWFyUGFyYW1zIjpmYWxzZSwia2V5d29yZCI6IiIsInBhZ2VUaXRsZSI6Imw6UHVlcnRvIFJpY28sIFUuUy5BLiIsInByYWN0aWNlQXJlYXMiOlsiU3BvdXNhbCBTdXBwb3J0Il19\n"
     ]
    },
    {
     "name": "stderr",
     "output_type": "stream",
     "text": [
      " 55%|█████▌    | 118/213 [49:33<35:08, 22.20s/it]"
     ]
    },
    {
     "name": "stdout",
     "output_type": "stream",
     "text": [
      "paginas en esta url: 3\n",
      "accediendo a: https://www.martindale.com/search/attorneys-law-firms-articles/?term=Puerto+Rico%2C+USA&params=eyJ0eXBlIjoicGVvcGxlIiwiY29tcGFyZSI6IiIsInRlcm0iOiJQdWVydG8gUmljbywgVVNBIiwiZ2VvTG9jYXRpb25GYWNldCI6WyJQdWVydG8gUmljbywgVS5TLkEuIl0sImdlb0xvY2F0aW9uRmFjZXRSZWNlbnRzIjpbIlB1ZXJ0byBSaWNvLCBVLlMuQS4iXSwicGFnZSI6MSwibGltaXQiOjI1LCJvZmZzZXQiOjAsInNvcnQiOiIiLCJzb3J0VHlwZSI6IiIsImNsZWFyUGFyYW1zIjpmYWxzZSwia2V5d29yZCI6IiIsInBhZ2VUaXRsZSI6Imw6UHVlcnRvIFJpY28sIFUuUy5BLiIsInByYWN0aWNlQXJlYXMiOlsiVHJhZGVtYXJrcyJdfQ%3D%3D\n",
      "https://www.martindale.com/attorney/pedro-g-salazar-1574014/\n",
      "https://www.martindale.com/attorney/mrs-gabriela-montes-rivera-301358626/\n",
      "accediendo a: https://www.martindale.com/search/attorneys-law-firms-articles/?term=Puerto+Rico%2C+USA&params=eyJ0eXBlIjoicGVvcGxlIiwiY29tcGFyZSI6IiIsInRlcm0iOiJQdWVydG8gUmljbywgVVNBIiwiZ2VvTG9jYXRpb25GYWNldCI6WyJQdWVydG8gUmljbywgVS5TLkEuIl0sImdlb0xvY2F0aW9uRmFjZXRSZWNlbnRzIjpbIlB1ZXJ0byBSaWNvLCBVLlMuQS4iXSwicGFnZSI6MSwibGltaXQiOjI1LCJvZmZzZXQiOjAsInNvcnQiOiIiLCJzb3J0VHlwZSI6IiIsImNsZWFyUGFyYW1zIjpmYWxzZSwia2V5d29yZCI6IiIsInBhZ2VUaXRsZSI6Imw6UHVlcnRvIFJpY28sIFUuUy5BLiIsInByYWN0aWNlQXJlYXMiOlsiVHJhZGVtYXJrcyJdfQ%3D%3D&page=2\n",
      "https://www.martindale.com/attorney/samuel-f-pamias-portalatin-2142974/\n",
      "https://www.martindale.com/attorney/roberto-j-torres-antommattei-1572460/\n",
      "https://www.martindale.com/attorney/eloina-torres-cancel-1572687/\n",
      "https://www.martindale.com/attorney/celso-e-lopez-1574276/\n",
      "accediendo a: https://www.martindale.com/search/attorneys-law-firms-articles/?term=Puerto+Rico%2C+USA&params=eyJ0eXBlIjoicGVvcGxlIiwiY29tcGFyZSI6IiIsInRlcm0iOiJQdWVydG8gUmljbywgVVNBIiwiZ2VvTG9jYXRpb25GYWNldCI6WyJQdWVydG8gUmljbywgVS5TLkEuIl0sImdlb0xvY2F0aW9uRmFjZXRSZWNlbnRzIjpbIlB1ZXJ0byBSaWNvLCBVLlMuQS4iXSwicGFnZSI6MSwibGltaXQiOjI1LCJvZmZzZXQiOjAsInNvcnQiOiIiLCJzb3J0VHlwZSI6IiIsImNsZWFyUGFyYW1zIjpmYWxzZSwia2V5d29yZCI6IiIsInBhZ2VUaXRsZSI6Imw6UHVlcnRvIFJpY28sIFUuUy5BLiIsInByYWN0aWNlQXJlYXMiOlsiVHJhZGVtYXJrcyJdfQ%3D%3D&page=3\n"
     ]
    },
    {
     "name": "stderr",
     "output_type": "stream",
     "text": [
      " 56%|█████▌    | 119/213 [49:47<31:06, 19.86s/it]"
     ]
    },
    {
     "name": "stdout",
     "output_type": "stream",
     "text": [
      "paginas en esta url: 2\n",
      "accediendo a: https://www.martindale.com/search/attorneys-law-firms-articles/?term=Puerto+Rico%2C+USA&params=eyJ0eXBlIjoicGVvcGxlIiwiY29tcGFyZSI6IiIsInRlcm0iOiJQdWVydG8gUmljbywgVVNBIiwiZ2VvTG9jYXRpb25GYWNldCI6WyJQdWVydG8gUmljbywgVS5TLkEuIl0sImdlb0xvY2F0aW9uRmFjZXRSZWNlbnRzIjpbIlB1ZXJ0byBSaWNvLCBVLlMuQS4iXSwicGFnZSI6MSwibGltaXQiOjI1LCJvZmZzZXQiOjAsInNvcnQiOiIiLCJzb3J0VHlwZSI6IiIsImNsZWFyUGFyYW1zIjpmYWxzZSwia2V5d29yZCI6IiIsInBhZ2VUaXRsZSI6Imw6UHVlcnRvIFJpY28sIFUuUy5BLiIsInByYWN0aWNlQXJlYXMiOlsiRW50ZXJ0YWlubWVudCBMYXciXX0%3D\n",
      "https://www.martindale.com/attorney/eugenio-j-torres-oyola-esq-1573323/\n",
      "https://www.martindale.com/attorney/frances-doreem-lange-torres-300367786/\n",
      "https://www.martindale.com/attorney/eugenia-i-orsini-herencia-1572846/\n",
      "accediendo a: https://www.martindale.com/search/attorneys-law-firms-articles/?term=Puerto+Rico%2C+USA&params=eyJ0eXBlIjoicGVvcGxlIiwiY29tcGFyZSI6IiIsInRlcm0iOiJQdWVydG8gUmljbywgVVNBIiwiZ2VvTG9jYXRpb25GYWNldCI6WyJQdWVydG8gUmljbywgVS5TLkEuIl0sImdlb0xvY2F0aW9uRmFjZXRSZWNlbnRzIjpbIlB1ZXJ0byBSaWNvLCBVLlMuQS4iXSwicGFnZSI6MSwibGltaXQiOjI1LCJvZmZzZXQiOjAsInNvcnQiOiIiLCJzb3J0VHlwZSI6IiIsImNsZWFyUGFyYW1zIjpmYWxzZSwia2V5d29yZCI6IiIsInBhZ2VUaXRsZSI6Imw6UHVlcnRvIFJpY28sIFUuUy5BLiIsInByYWN0aWNlQXJlYXMiOlsiRW50ZXJ0YWlubWVudCBMYXciXX0%3D&page=2\n",
      "https://www.martindale.com/attorney/andres-w-lopez-657513/\n"
     ]
    },
    {
     "name": "stderr",
     "output_type": "stream",
     "text": [
      " 56%|█████▋    | 120/213 [50:00<27:36, 17.81s/it]"
     ]
    },
    {
     "name": "stdout",
     "output_type": "stream",
     "text": [
      "paginas en esta url: 1\n",
      "accediendo a: https://www.martindale.com/search/attorneys-law-firms-articles/?term=Puerto+Rico%2C+USA&params=eyJ0eXBlIjoicGVvcGxlIiwiY29tcGFyZSI6IiIsInRlcm0iOiJQdWVydG8gUmljbywgVVNBIiwiZ2VvTG9jYXRpb25GYWNldCI6WyJQdWVydG8gUmljbywgVS5TLkEuIl0sImdlb0xvY2F0aW9uRmFjZXRSZWNlbnRzIjpbIlB1ZXJ0byBSaWNvLCBVLlMuQS4iXSwicGFnZSI6MSwibGltaXQiOjI1LCJvZmZzZXQiOjAsInNvcnQiOiIiLCJzb3J0VHlwZSI6IiIsImNsZWFyUGFyYW1zIjpmYWxzZSwia2V5d29yZCI6IiIsInBhZ2VUaXRsZSI6Imw6UHVlcnRvIFJpY28sIFUuUy5BLiIsInByYWN0aWNlQXJlYXMiOlsiTW90b3JjeWNsZSBBY2NpZGVudHMiXX0%3D\n",
      "https://www.martindale.com/organization/the-ledger-law-firm-1812805/newport-beach-california-2468534-f/?pa=272\n",
      "https://www.martindale.com/attorney/mr-andrew-walker-jones-169122098/\n"
     ]
    },
    {
     "name": "stderr",
     "output_type": "stream",
     "text": [
      " 57%|█████▋    | 121/213 [50:25<30:27, 19.87s/it]"
     ]
    },
    {
     "name": "stdout",
     "output_type": "stream",
     "text": [
      "paginas en esta url: 13\n",
      "accediendo a: https://www.martindale.com/search/attorneys-law-firms-articles/?term=Puerto+Rico%2C+USA&params=eyJ0eXBlIjoicGVvcGxlIiwiY29tcGFyZSI6IiIsInRlcm0iOiJQdWVydG8gUmljbywgVVNBIiwiZ2VvTG9jYXRpb25GYWNldCI6WyJQdWVydG8gUmljbywgVS5TLkEuIl0sImdlb0xvY2F0aW9uRmFjZXRSZWNlbnRzIjpbIlB1ZXJ0byBSaWNvLCBVLlMuQS4iXSwicGFnZSI6MSwibGltaXQiOjI1LCJvZmZzZXQiOjAsInNvcnQiOiIiLCJzb3J0VHlwZSI6IiIsImNsZWFyUGFyYW1zIjpmYWxzZSwia2V5d29yZCI6IiIsInBhZ2VUaXRsZSI6Imw6UHVlcnRvIFJpY28sIFUuUy5BLiIsInByYWN0aWNlQXJlYXMiOlsiQWRtaW5pc3RyYXRpdmUgTGF3Il19\n",
      "https://www.martindale.com/attorney/laura-isabel-escalante-facundo-1572353/\n",
      "https://www.martindale.com/attorney/igor-jose-ortiz-morales-1572097/\n",
      "accediendo a: https://www.martindale.com/search/attorneys-law-firms-articles/?term=Puerto+Rico%2C+USA&params=eyJ0eXBlIjoicGVvcGxlIiwiY29tcGFyZSI6IiIsInRlcm0iOiJQdWVydG8gUmljbywgVVNBIiwiZ2VvTG9jYXRpb25GYWNldCI6WyJQdWVydG8gUmljbywgVS5TLkEuIl0sImdlb0xvY2F0aW9uRmFjZXRSZWNlbnRzIjpbIlB1ZXJ0byBSaWNvLCBVLlMuQS4iXSwicGFnZSI6MSwibGltaXQiOjI1LCJvZmZzZXQiOjAsInNvcnQiOiIiLCJzb3J0VHlwZSI6IiIsImNsZWFyUGFyYW1zIjpmYWxzZSwia2V5d29yZCI6IiIsInBhZ2VUaXRsZSI6Imw6UHVlcnRvIFJpY28sIFUuUy5BLiIsInByYWN0aWNlQXJlYXMiOlsiQWRtaW5pc3RyYXRpdmUgTGF3Il19&page=2\n",
      "accediendo a: https://www.martindale.com/search/attorneys-law-firms-articles/?term=Puerto+Rico%2C+USA&params=eyJ0eXBlIjoicGVvcGxlIiwiY29tcGFyZSI6IiIsInRlcm0iOiJQdWVydG8gUmljbywgVVNBIiwiZ2VvTG9jYXRpb25GYWNldCI6WyJQdWVydG8gUmljbywgVS5TLkEuIl0sImdlb0xvY2F0aW9uRmFjZXRSZWNlbnRzIjpbIlB1ZXJ0byBSaWNvLCBVLlMuQS4iXSwicGFnZSI6MSwibGltaXQiOjI1LCJvZmZzZXQiOjAsInNvcnQiOiIiLCJzb3J0VHlwZSI6IiIsImNsZWFyUGFyYW1zIjpmYWxzZSwia2V5d29yZCI6IiIsInBhZ2VUaXRsZSI6Imw6UHVlcnRvIFJpY28sIFUuUy5BLiIsInByYWN0aWNlQXJlYXMiOlsiQWRtaW5pc3RyYXRpdmUgTGF3Il19&page=3\n",
      "https://www.martindale.com/attorney/ramon-cancio-sifre-1573899/\n",
      "https://www.martindale.com/attorney/apolo-garcia-vilanova-1571258/\n",
      "accediendo a: https://www.martindale.com/search/attorneys-law-firms-articles/?term=Puerto+Rico%2C+USA&params=eyJ0eXBlIjoicGVvcGxlIiwiY29tcGFyZSI6IiIsInRlcm0iOiJQdWVydG8gUmljbywgVVNBIiwiZ2VvTG9jYXRpb25GYWNldCI6WyJQdWVydG8gUmljbywgVS5TLkEuIl0sImdlb0xvY2F0aW9uRmFjZXRSZWNlbnRzIjpbIlB1ZXJ0byBSaWNvLCBVLlMuQS4iXSwicGFnZSI6MSwibGltaXQiOjI1LCJvZmZzZXQiOjAsInNvcnQiOiIiLCJzb3J0VHlwZSI6IiIsImNsZWFyUGFyYW1zIjpmYWxzZSwia2V5d29yZCI6IiIsInBhZ2VUaXRsZSI6Imw6UHVlcnRvIFJpY28sIFUuUy5BLiIsInByYWN0aWNlQXJlYXMiOlsiQWRtaW5pc3RyYXRpdmUgTGF3Il19&page=4\n",
      "https://www.martindale.com/attorney/rafael-moran-loubriel-1573992/\n",
      "https://www.martindale.com/attorney/rafael-sanchez-hernandez-1571610/\n",
      "accediendo a: https://www.martindale.com/search/attorneys-law-firms-articles/?term=Puerto+Rico%2C+USA&params=eyJ0eXBlIjoicGVvcGxlIiwiY29tcGFyZSI6IiIsInRlcm0iOiJQdWVydG8gUmljbywgVVNBIiwiZ2VvTG9jYXRpb25GYWNldCI6WyJQdWVydG8gUmljbywgVS5TLkEuIl0sImdlb0xvY2F0aW9uRmFjZXRSZWNlbnRzIjpbIlB1ZXJ0byBSaWNvLCBVLlMuQS4iXSwicGFnZSI6MSwibGltaXQiOjI1LCJvZmZzZXQiOjAsInNvcnQiOiIiLCJzb3J0VHlwZSI6IiIsImNsZWFyUGFyYW1zIjpmYWxzZSwia2V5d29yZCI6IiIsInBhZ2VUaXRsZSI6Imw6UHVlcnRvIFJpY28sIFUuUy5BLiIsInByYWN0aWNlQXJlYXMiOlsiQWRtaW5pc3RyYXRpdmUgTGF3Il19&page=5\n",
      "https://www.martindale.com/attorney/mario-l-paniagua-1573232/\n",
      "accediendo a: https://www.martindale.com/search/attorneys-law-firms-articles/?term=Puerto+Rico%2C+USA&params=eyJ0eXBlIjoicGVvcGxlIiwiY29tcGFyZSI6IiIsInRlcm0iOiJQdWVydG8gUmljbywgVVNBIiwiZ2VvTG9jYXRpb25GYWNldCI6WyJQdWVydG8gUmljbywgVS5TLkEuIl0sImdlb0xvY2F0aW9uRmFjZXRSZWNlbnRzIjpbIlB1ZXJ0byBSaWNvLCBVLlMuQS4iXSwicGFnZSI6MSwibGltaXQiOjI1LCJvZmZzZXQiOjAsInNvcnQiOiIiLCJzb3J0VHlwZSI6IiIsImNsZWFyUGFyYW1zIjpmYWxzZSwia2V5d29yZCI6IiIsInBhZ2VUaXRsZSI6Imw6UHVlcnRvIFJpY28sIFUuUy5BLiIsInByYWN0aWNlQXJlYXMiOlsiQWRtaW5pc3RyYXRpdmUgTGF3Il19&page=6\n",
      "https://www.martindale.com/attorney/angel-l-diaz-palenque-1571120/\n",
      "https://www.martindale.com/attorney/richard-w-markus-1573017/\n",
      "accediendo a: https://www.martindale.com/search/attorneys-law-firms-articles/?term=Puerto+Rico%2C+USA&params=eyJ0eXBlIjoicGVvcGxlIiwiY29tcGFyZSI6IiIsInRlcm0iOiJQdWVydG8gUmljbywgVVNBIiwiZ2VvTG9jYXRpb25GYWNldCI6WyJQdWVydG8gUmljbywgVS5TLkEuIl0sImdlb0xvY2F0aW9uRmFjZXRSZWNlbnRzIjpbIlB1ZXJ0byBSaWNvLCBVLlMuQS4iXSwicGFnZSI6MSwibGltaXQiOjI1LCJvZmZzZXQiOjAsInNvcnQiOiIiLCJzb3J0VHlwZSI6IiIsImNsZWFyUGFyYW1zIjpmYWxzZSwia2V5d29yZCI6IiIsInBhZ2VUaXRsZSI6Imw6UHVlcnRvIFJpY28sIFUuUy5BLiIsInByYWN0aWNlQXJlYXMiOlsiQWRtaW5pc3RyYXRpdmUgTGF3Il19&page=7\n",
      "https://www.martindale.com/attorney/benjamin-marcano-roman-1573087/\n",
      "accediendo a: https://www.martindale.com/search/attorneys-law-firms-articles/?term=Puerto+Rico%2C+USA&params=eyJ0eXBlIjoicGVvcGxlIiwiY29tcGFyZSI6IiIsInRlcm0iOiJQdWVydG8gUmljbywgVVNBIiwiZ2VvTG9jYXRpb25GYWNldCI6WyJQdWVydG8gUmljbywgVS5TLkEuIl0sImdlb0xvY2F0aW9uRmFjZXRSZWNlbnRzIjpbIlB1ZXJ0byBSaWNvLCBVLlMuQS4iXSwicGFnZSI6MSwibGltaXQiOjI1LCJvZmZzZXQiOjAsInNvcnQiOiIiLCJzb3J0VHlwZSI6IiIsImNsZWFyUGFyYW1zIjpmYWxzZSwia2V5d29yZCI6IiIsInBhZ2VUaXRsZSI6Imw6UHVlcnRvIFJpY28sIFUuUy5BLiIsInByYWN0aWNlQXJlYXMiOlsiQWRtaW5pc3RyYXRpdmUgTGF3Il19&page=8\n",
      "https://www.martindale.com/attorney/eileen-landron-guardiola-1572207/\n",
      "accediendo a: https://www.martindale.com/search/attorneys-law-firms-articles/?term=Puerto+Rico%2C+USA&params=eyJ0eXBlIjoicGVvcGxlIiwiY29tcGFyZSI6IiIsInRlcm0iOiJQdWVydG8gUmljbywgVVNBIiwiZ2VvTG9jYXRpb25GYWNldCI6WyJQdWVydG8gUmljbywgVS5TLkEuIl0sImdlb0xvY2F0aW9uRmFjZXRSZWNlbnRzIjpbIlB1ZXJ0byBSaWNvLCBVLlMuQS4iXSwicGFnZSI6MSwibGltaXQiOjI1LCJvZmZzZXQiOjAsInNvcnQiOiIiLCJzb3J0VHlwZSI6IiIsImNsZWFyUGFyYW1zIjpmYWxzZSwia2V5d29yZCI6IiIsInBhZ2VUaXRsZSI6Imw6UHVlcnRvIFJpY28sIFUuUy5BLiIsInByYWN0aWNlQXJlYXMiOlsiQWRtaW5pc3RyYXRpdmUgTGF3Il19&page=9\n",
      "https://www.martindale.com/attorney/phoebe-forsythe-isales-12120758/\n",
      "accediendo a: https://www.martindale.com/search/attorneys-law-firms-articles/?term=Puerto+Rico%2C+USA&params=eyJ0eXBlIjoicGVvcGxlIiwiY29tcGFyZSI6IiIsInRlcm0iOiJQdWVydG8gUmljbywgVVNBIiwiZ2VvTG9jYXRpb25GYWNldCI6WyJQdWVydG8gUmljbywgVS5TLkEuIl0sImdlb0xvY2F0aW9uRmFjZXRSZWNlbnRzIjpbIlB1ZXJ0byBSaWNvLCBVLlMuQS4iXSwicGFnZSI6MSwibGltaXQiOjI1LCJvZmZzZXQiOjAsInNvcnQiOiIiLCJzb3J0VHlwZSI6IiIsImNsZWFyUGFyYW1zIjpmYWxzZSwia2V5d29yZCI6IiIsInBhZ2VUaXRsZSI6Imw6UHVlcnRvIFJpY28sIFUuUy5BLiIsInByYWN0aWNlQXJlYXMiOlsiQWRtaW5pc3RyYXRpdmUgTGF3Il19&page=10\n",
      "https://www.martindale.com/attorney/israel-o-alicea-luciano-5557746/\n",
      "https://www.martindale.com/attorney/hector-perez-1572834/\n",
      "accediendo a: https://www.martindale.com/search/attorneys-law-firms-articles/?term=Puerto+Rico%2C+USA&params=eyJ0eXBlIjoicGVvcGxlIiwiY29tcGFyZSI6IiIsInRlcm0iOiJQdWVydG8gUmljbywgVVNBIiwiZ2VvTG9jYXRpb25GYWNldCI6WyJQdWVydG8gUmljbywgVS5TLkEuIl0sImdlb0xvY2F0aW9uRmFjZXRSZWNlbnRzIjpbIlB1ZXJ0byBSaWNvLCBVLlMuQS4iXSwicGFnZSI6MSwibGltaXQiOjI1LCJvZmZzZXQiOjAsInNvcnQiOiIiLCJzb3J0VHlwZSI6IiIsImNsZWFyUGFyYW1zIjpmYWxzZSwia2V5d29yZCI6IiIsInBhZ2VUaXRsZSI6Imw6UHVlcnRvIFJpY28sIFUuUy5BLiIsInByYWN0aWNlQXJlYXMiOlsiQWRtaW5pc3RyYXRpdmUgTGF3Il19&page=11\n",
      "https://www.martindale.com/attorney/gladys-a-maldonado-3568872/\n",
      "accediendo a: https://www.martindale.com/search/attorneys-law-firms-articles/?term=Puerto+Rico%2C+USA&params=eyJ0eXBlIjoicGVvcGxlIiwiY29tcGFyZSI6IiIsInRlcm0iOiJQdWVydG8gUmljbywgVVNBIiwiZ2VvTG9jYXRpb25GYWNldCI6WyJQdWVydG8gUmljbywgVS5TLkEuIl0sImdlb0xvY2F0aW9uRmFjZXRSZWNlbnRzIjpbIlB1ZXJ0byBSaWNvLCBVLlMuQS4iXSwicGFnZSI6MSwibGltaXQiOjI1LCJvZmZzZXQiOjAsInNvcnQiOiIiLCJzb3J0VHlwZSI6IiIsImNsZWFyUGFyYW1zIjpmYWxzZSwia2V5d29yZCI6IiIsInBhZ2VUaXRsZSI6Imw6UHVlcnRvIFJpY28sIFUuUy5BLiIsInByYWN0aWNlQXJlYXMiOlsiQWRtaW5pc3RyYXRpdmUgTGF3Il19&page=12\n",
      "accediendo a: https://www.martindale.com/search/attorneys-law-firms-articles/?term=Puerto+Rico%2C+USA&params=eyJ0eXBlIjoicGVvcGxlIiwiY29tcGFyZSI6IiIsInRlcm0iOiJQdWVydG8gUmljbywgVVNBIiwiZ2VvTG9jYXRpb25GYWNldCI6WyJQdWVydG8gUmljbywgVS5TLkEuIl0sImdlb0xvY2F0aW9uRmFjZXRSZWNlbnRzIjpbIlB1ZXJ0byBSaWNvLCBVLlMuQS4iXSwicGFnZSI6MSwibGltaXQiOjI1LCJvZmZzZXQiOjAsInNvcnQiOiIiLCJzb3J0VHlwZSI6IiIsImNsZWFyUGFyYW1zIjpmYWxzZSwia2V5d29yZCI6IiIsInBhZ2VUaXRsZSI6Imw6UHVlcnRvIFJpY28sIFUuUy5BLiIsInByYWN0aWNlQXJlYXMiOlsiQWRtaW5pc3RyYXRpdmUgTGF3Il19&page=13\n",
      "https://www.martindale.com/attorney/jose-s-dapena-thompson-1571337/\n"
     ]
    },
    {
     "name": "stderr",
     "output_type": "stream",
     "text": [
      " 57%|█████▋    | 122/213 [50:53<34:10, 22.53s/it]"
     ]
    },
    {
     "name": "stdout",
     "output_type": "stream",
     "text": [
      "paginas en esta url: 1\n",
      "accediendo a: https://www.martindale.com/search/attorneys-law-firms-articles/?term=Puerto+Rico%2C+USA&params=eyJ0eXBlIjoicGVvcGxlIiwiY29tcGFyZSI6IiIsInRlcm0iOiJQdWVydG8gUmljbywgVVNBIiwiZ2VvTG9jYXRpb25GYWNldCI6WyJQdWVydG8gUmljbywgVS5TLkEuIl0sImdlb0xvY2F0aW9uRmFjZXRSZWNlbnRzIjpbIlB1ZXJ0byBSaWNvLCBVLlMuQS4iXSwicGFnZSI6MSwibGltaXQiOjI1LCJvZmZzZXQiOjAsInNvcnQiOiIiLCJzb3J0VHlwZSI6IiIsImNsZWFyUGFyYW1zIjpmYWxzZSwia2V5d29yZCI6IiIsInBhZ2VUaXRsZSI6Imw6UHVlcnRvIFJpY28sIFUuUy5BLiIsInByYWN0aWNlQXJlYXMiOlsiRW52aXJvbm1lbnRhbCBDbGVhbnVwIl19\n"
     ]
    },
    {
     "name": "stderr",
     "output_type": "stream",
     "text": [
      " 58%|█████▊    | 123/213 [51:18<34:37, 23.08s/it]"
     ]
    },
    {
     "name": "stdout",
     "output_type": "stream",
     "text": [
      "paginas en esta url: 1\n",
      "accediendo a: https://www.martindale.com/search/attorneys-law-firms-articles/?term=Puerto+Rico%2C+USA&params=eyJ0eXBlIjoicGVvcGxlIiwiY29tcGFyZSI6IiIsInRlcm0iOiJQdWVydG8gUmljbywgVVNBIiwiZ2VvTG9jYXRpb25GYWNldCI6WyJQdWVydG8gUmljbywgVS5TLkEuIl0sImdlb0xvY2F0aW9uRmFjZXRSZWNlbnRzIjpbIlB1ZXJ0byBSaWNvLCBVLlMuQS4iXSwicGFnZSI6MSwibGltaXQiOjI1LCJvZmZzZXQiOjAsInNvcnQiOiIiLCJzb3J0VHlwZSI6IiIsImNsZWFyUGFyYW1zIjpmYWxzZSwia2V5d29yZCI6IiIsInBhZ2VUaXRsZSI6Imw6UHVlcnRvIFJpY28sIFUuUy5BLiIsInByYWN0aWNlQXJlYXMiOlsiTWFzcyBUb3J0cyJdfQ%3D%3D\n"
     ]
    },
    {
     "name": "stderr",
     "output_type": "stream",
     "text": [
      " 58%|█████▊    | 124/213 [51:42<34:56, 23.56s/it]"
     ]
    },
    {
     "name": "stdout",
     "output_type": "stream",
     "text": [
      "paginas en esta url: 1\n",
      "accediendo a: https://www.martindale.com/search/attorneys-law-firms-articles/?term=Puerto+Rico%2C+USA&params=eyJ0eXBlIjoicGVvcGxlIiwiY29tcGFyZSI6IiIsInRlcm0iOiJQdWVydG8gUmljbywgVVNBIiwiZ2VvTG9jYXRpb25GYWNldCI6WyJQdWVydG8gUmljbywgVS5TLkEuIl0sImdlb0xvY2F0aW9uRmFjZXRSZWNlbnRzIjpbIlB1ZXJ0byBSaWNvLCBVLlMuQS4iXSwicGFnZSI6MSwibGltaXQiOjI1LCJvZmZzZXQiOjAsInNvcnQiOiIiLCJzb3J0VHlwZSI6IiIsImNsZWFyUGFyYW1zIjpmYWxzZSwia2V5d29yZCI6IiIsInBhZ2VUaXRsZSI6Imw6UHVlcnRvIFJpY28sIFUuUy5BLiIsInByYWN0aWNlQXJlYXMiOlsiQ3J1aXNlIFNoaXAgSW5qdXJpZXMiXX0%3D\n"
     ]
    },
    {
     "name": "stderr",
     "output_type": "stream",
     "text": [
      " 59%|█████▊    | 125/213 [52:07<34:58, 23.85s/it]"
     ]
    },
    {
     "name": "stdout",
     "output_type": "stream",
     "text": [
      "paginas en esta url: 1\n",
      "accediendo a: https://www.martindale.com/search/attorneys-law-firms-articles/?term=Puerto+Rico%2C+USA&params=eyJ0eXBlIjoicGVvcGxlIiwiY29tcGFyZSI6IiIsInRlcm0iOiJQdWVydG8gUmljbywgVVNBIiwiZ2VvTG9jYXRpb25GYWNldCI6WyJQdWVydG8gUmljbywgVS5TLkEuIl0sImdlb0xvY2F0aW9uRmFjZXRSZWNlbnRzIjpbIlB1ZXJ0byBSaWNvLCBVLlMuQS4iXSwicGFnZSI6MSwibGltaXQiOjI1LCJvZmZzZXQiOjAsInNvcnQiOiIiLCJzb3J0VHlwZSI6IiIsImNsZWFyUGFyYW1zIjpmYWxzZSwia2V5d29yZCI6IiIsInBhZ2VUaXRsZSI6Imw6UHVlcnRvIFJpY28sIFUuUy5BLiIsInByYWN0aWNlQXJlYXMiOlsiRXF1aW5lIExhdyJdfQ%3D%3D\n"
     ]
    },
    {
     "name": "stderr",
     "output_type": "stream",
     "text": [
      " 59%|█████▉    | 126/213 [52:29<33:46, 23.29s/it]"
     ]
    },
    {
     "name": "stdout",
     "output_type": "stream",
     "text": [
      "paginas en esta url: 1\n",
      "accediendo a: https://www.martindale.com/search/attorneys-law-firms-articles/?term=Puerto+Rico%2C+USA&params=eyJ0eXBlIjoicGVvcGxlIiwiY29tcGFyZSI6IiIsInRlcm0iOiJQdWVydG8gUmljbywgVVNBIiwiZ2VvTG9jYXRpb25GYWNldCI6WyJQdWVydG8gUmljbywgVS5TLkEuIl0sImdlb0xvY2F0aW9uRmFjZXRSZWNlbnRzIjpbIlB1ZXJ0byBSaWNvLCBVLlMuQS4iXSwicGFnZSI6MSwibGltaXQiOjI1LCJvZmZzZXQiOjAsInNvcnQiOiIiLCJzb3J0VHlwZSI6IiIsImNsZWFyUGFyYW1zIjpmYWxzZSwia2V5d29yZCI6IiIsInBhZ2VUaXRsZSI6Imw6UHVlcnRvIFJpY28sIFUuUy5BLiIsInByYWN0aWNlQXJlYXMiOlsiQnVzaW5lc3MgTGl0aWdhdGlvbiJdfQ%3D%3D\n"
     ]
    },
    {
     "name": "stderr",
     "output_type": "stream",
     "text": [
      " 60%|█████▉    | 127/213 [52:51<33:03, 23.06s/it]"
     ]
    },
    {
     "name": "stdout",
     "output_type": "stream",
     "text": [
      "paginas en esta url: 1\n",
      "accediendo a: https://www.martindale.com/search/attorneys-law-firms-articles/?term=Puerto+Rico%2C+USA&params=eyJ0eXBlIjoicGVvcGxlIiwiY29tcGFyZSI6IiIsInRlcm0iOiJQdWVydG8gUmljbywgVVNBIiwiZ2VvTG9jYXRpb25GYWNldCI6WyJQdWVydG8gUmljbywgVS5TLkEuIl0sImdlb0xvY2F0aW9uRmFjZXRSZWNlbnRzIjpbIlB1ZXJ0byBSaWNvLCBVLlMuQS4iXSwicGFnZSI6MSwibGltaXQiOjI1LCJvZmZzZXQiOjAsInNvcnQiOiIiLCJzb3J0VHlwZSI6IiIsImNsZWFyUGFyYW1zIjpmYWxzZSwia2V5d29yZCI6IiIsInBhZ2VUaXRsZSI6Imw6UHVlcnRvIFJpY28sIFUuUy5BLiIsInByYWN0aWNlQXJlYXMiOlsiQWlycGxhbmUgQ3Jhc2ggTGl0aWdhdGlvbiJdfQ%3D%3D\n"
     ]
    },
    {
     "name": "stderr",
     "output_type": "stream",
     "text": [
      " 60%|██████    | 128/213 [53:15<32:41, 23.08s/it]"
     ]
    },
    {
     "name": "stdout",
     "output_type": "stream",
     "text": [
      "paginas en esta url: 1\n",
      "accediendo a: https://www.martindale.com/search/attorneys-law-firms-articles/?term=Puerto+Rico%2C+USA&params=eyJ0eXBlIjoicGVvcGxlIiwiY29tcGFyZSI6IiIsInRlcm0iOiJQdWVydG8gUmljbywgVVNBIiwiZ2VvTG9jYXRpb25GYWNldCI6WyJQdWVydG8gUmljbywgVS5TLkEuIl0sImdlb0xvY2F0aW9uRmFjZXRSZWNlbnRzIjpbIlB1ZXJ0byBSaWNvLCBVLlMuQS4iXSwicGFnZSI6MSwibGltaXQiOjI1LCJvZmZzZXQiOjAsInNvcnQiOiIiLCJzb3J0VHlwZSI6IiIsImNsZWFyUGFyYW1zIjpmYWxzZSwia2V5d29yZCI6IiIsInBhZ2VUaXRsZSI6Imw6UHVlcnRvIFJpY28sIFUuUy5BLiIsInByYWN0aWNlQXJlYXMiOlsiQm9hdGluZyBBY2NpZGVudHMiXX0%3D\n"
     ]
    },
    {
     "name": "stderr",
     "output_type": "stream",
     "text": [
      " 61%|██████    | 129/213 [53:38<32:34, 23.26s/it]"
     ]
    },
    {
     "name": "stdout",
     "output_type": "stream",
     "text": [
      "paginas en esta url: 1\n",
      "accediendo a: https://www.martindale.com/search/attorneys-law-firms-articles/?term=Puerto+Rico%2C+USA&params=eyJ0eXBlIjoicGVvcGxlIiwiY29tcGFyZSI6IiIsInRlcm0iOiJQdWVydG8gUmljbywgVVNBIiwiZ2VvTG9jYXRpb25GYWNldCI6WyJQdWVydG8gUmljbywgVS5TLkEuIl0sImdlb0xvY2F0aW9uRmFjZXRSZWNlbnRzIjpbIlB1ZXJ0byBSaWNvLCBVLlMuQS4iXSwicGFnZSI6MSwibGltaXQiOjI1LCJvZmZzZXQiOjAsInNvcnQiOiIiLCJzb3J0VHlwZSI6IiIsImNsZWFyUGFyYW1zIjpmYWxzZSwia2V5d29yZCI6IiIsInBhZ2VUaXRsZSI6Imw6UHVlcnRvIFJpY28sIFUuUy5BLiIsInByYWN0aWNlQXJlYXMiOlsiRW5lcmd5Il19\n"
     ]
    },
    {
     "name": "stderr",
     "output_type": "stream",
     "text": [
      " 61%|██████    | 130/213 [54:02<32:25, 23.43s/it]"
     ]
    },
    {
     "name": "stdout",
     "output_type": "stream",
     "text": [
      "paginas en esta url: 2\n",
      "accediendo a: https://www.martindale.com/search/attorneys-law-firms-articles/?term=Puerto+Rico%2C+USA&params=eyJ0eXBlIjoicGVvcGxlIiwiY29tcGFyZSI6IiIsInRlcm0iOiJQdWVydG8gUmljbywgVVNBIiwiZ2VvTG9jYXRpb25GYWNldCI6WyJQdWVydG8gUmljbywgVS5TLkEuIl0sImdlb0xvY2F0aW9uRmFjZXRSZWNlbnRzIjpbIlB1ZXJ0byBSaWNvLCBVLlMuQS4iXSwicGFnZSI6MSwibGltaXQiOjI1LCJvZmZzZXQiOjAsInNvcnQiOiIiLCJzb3J0VHlwZSI6IiIsImNsZWFyUGFyYW1zIjpmYWxzZSwia2V5d29yZCI6IiIsInBhZ2VUaXRsZSI6Imw6UHVlcnRvIFJpY28sIFUuUy5BLiIsInByYWN0aWNlQXJlYXMiOlsiQXZpYXRpb24gTGF3Il19\n",
      "https://www.martindale.com/attorney/ignacio-j-gorrin-1572571/\n",
      "https://www.martindale.com/attorney/william-e-naveira-1573993/\n",
      "https://www.martindale.com/attorney/luis-a-oliver-1572530/\n",
      "accediendo a: https://www.martindale.com/search/attorneys-law-firms-articles/?term=Puerto+Rico%2C+USA&params=eyJ0eXBlIjoicGVvcGxlIiwiY29tcGFyZSI6IiIsInRlcm0iOiJQdWVydG8gUmljbywgVVNBIiwiZ2VvTG9jYXRpb25GYWNldCI6WyJQdWVydG8gUmljbywgVS5TLkEuIl0sImdlb0xvY2F0aW9uRmFjZXRSZWNlbnRzIjpbIlB1ZXJ0byBSaWNvLCBVLlMuQS4iXSwicGFnZSI6MSwibGltaXQiOjI1LCJvZmZzZXQiOjAsInNvcnQiOiIiLCJzb3J0VHlwZSI6IiIsImNsZWFyUGFyYW1zIjpmYWxzZSwia2V5d29yZCI6IiIsInBhZ2VUaXRsZSI6Imw6UHVlcnRvIFJpY28sIFUuUy5BLiIsInByYWN0aWNlQXJlYXMiOlsiQXZpYXRpb24gTGF3Il19&page=2\n"
     ]
    },
    {
     "name": "stderr",
     "output_type": "stream",
     "text": [
      " 62%|██████▏   | 131/213 [54:13<26:44, 19.57s/it]"
     ]
    },
    {
     "name": "stdout",
     "output_type": "stream",
     "text": [
      "paginas en esta url: 1\n",
      "accediendo a: https://www.martindale.com/search/attorneys-law-firms-articles/?term=Puerto+Rico%2C+USA&params=eyJ0eXBlIjoicGVvcGxlIiwiY29tcGFyZSI6IiIsInRlcm0iOiJQdWVydG8gUmljbywgVVNBIiwiZ2VvTG9jYXRpb25GYWNldCI6WyJQdWVydG8gUmljbywgVS5TLkEuIl0sImdlb0xvY2F0aW9uRmFjZXRSZWNlbnRzIjpbIlB1ZXJ0byBSaWNvLCBVLlMuQS4iXSwicGFnZSI6MSwibGltaXQiOjI1LCJvZmZzZXQiOjAsInNvcnQiOiIiLCJzb3J0VHlwZSI6IiIsImNsZWFyUGFyYW1zIjpmYWxzZSwia2V5d29yZCI6IiIsInBhZ2VUaXRsZSI6Imw6UHVlcnRvIFJpY28sIFUuUy5BLiIsInByYWN0aWNlQXJlYXMiOlsiSGFyYXNzbWVudCJdfQ%3D%3D\n",
      "problemas con el crawler\n",
      "problemas con el crawler\n"
     ]
    },
    {
     "name": "stderr",
     "output_type": "stream",
     "text": [
      " 62%|██████▏   | 132/213 [55:30<49:39, 36.79s/it]"
     ]
    },
    {
     "name": "stdout",
     "output_type": "stream",
     "text": [
      "paginas en esta url: 4\n",
      "accediendo a: https://www.martindale.com/search/attorneys-law-firms-articles/?term=Puerto+Rico%2C+USA&params=eyJ0eXBlIjoicGVvcGxlIiwiY29tcGFyZSI6IiIsInRlcm0iOiJQdWVydG8gUmljbywgVVNBIiwiZ2VvTG9jYXRpb25GYWNldCI6WyJQdWVydG8gUmljbywgVS5TLkEuIl0sImdlb0xvY2F0aW9uRmFjZXRSZWNlbnRzIjpbIlB1ZXJ0byBSaWNvLCBVLlMuQS4iXSwicGFnZSI6MSwibGltaXQiOjI1LCJvZmZzZXQiOjAsInNvcnQiOiIiLCJzb3J0VHlwZSI6IiIsImNsZWFyUGFyYW1zIjpmYWxzZSwia2V5d29yZCI6IiIsInBhZ2VUaXRsZSI6Imw6UHVlcnRvIFJpY28sIFUuUy5BLiIsInByYWN0aWNlQXJlYXMiOlsiSGVhbHRoIENhcmUiXX0%3D\n",
      "https://www.martindale.com/organization/law-offices-of-stephenson-acquisto-colman-27628314/glendale-california-42115634-f/?pa=85\n",
      "https://www.martindale.com/attorney/christian-sobrino-vega-158583663/\n",
      "https://www.martindale.com/attorney/carlos-velez-345731/\n",
      "https://www.martindale.com/attorney/jarett-blaike-iliff-168913294/\n",
      "https://www.martindale.com/attorney/lydia-m-ramos-cruz-1572771/\n",
      "accediendo a: https://www.martindale.com/search/attorneys-law-firms-articles/?term=Puerto+Rico%2C+USA&params=eyJ0eXBlIjoicGVvcGxlIiwiY29tcGFyZSI6IiIsInRlcm0iOiJQdWVydG8gUmljbywgVVNBIiwiZ2VvTG9jYXRpb25GYWNldCI6WyJQdWVydG8gUmljbywgVS5TLkEuIl0sImdlb0xvY2F0aW9uRmFjZXRSZWNlbnRzIjpbIlB1ZXJ0byBSaWNvLCBVLlMuQS4iXSwicGFnZSI6MSwibGltaXQiOjI1LCJvZmZzZXQiOjAsInNvcnQiOiIiLCJzb3J0VHlwZSI6IiIsImNsZWFyUGFyYW1zIjpmYWxzZSwia2V5d29yZCI6IiIsInBhZ2VUaXRsZSI6Imw6UHVlcnRvIFJpY28sIFUuUy5BLiIsInByYWN0aWNlQXJlYXMiOlsiSGVhbHRoIENhcmUiXX0%3D&page=2\n",
      "accediendo a: https://www.martindale.com/search/attorneys-law-firms-articles/?term=Puerto+Rico%2C+USA&params=eyJ0eXBlIjoicGVvcGxlIiwiY29tcGFyZSI6IiIsInRlcm0iOiJQdWVydG8gUmljbywgVVNBIiwiZ2VvTG9jYXRpb25GYWNldCI6WyJQdWVydG8gUmljbywgVS5TLkEuIl0sImdlb0xvY2F0aW9uRmFjZXRSZWNlbnRzIjpbIlB1ZXJ0byBSaWNvLCBVLlMuQS4iXSwicGFnZSI6MSwibGltaXQiOjI1LCJvZmZzZXQiOjAsInNvcnQiOiIiLCJzb3J0VHlwZSI6IiIsImNsZWFyUGFyYW1zIjpmYWxzZSwia2V5d29yZCI6IiIsInBhZ2VUaXRsZSI6Imw6UHVlcnRvIFJpY28sIFUuUy5BLiIsInByYWN0aWNlQXJlYXMiOlsiSGVhbHRoIENhcmUiXX0%3D&page=3\n",
      "https://www.martindale.com/attorney/gricelle-lugo-santiago-1573729/\n",
      "accediendo a: https://www.martindale.com/search/attorneys-law-firms-articles/?term=Puerto+Rico%2C+USA&params=eyJ0eXBlIjoicGVvcGxlIiwiY29tcGFyZSI6IiIsInRlcm0iOiJQdWVydG8gUmljbywgVVNBIiwiZ2VvTG9jYXRpb25GYWNldCI6WyJQdWVydG8gUmljbywgVS5TLkEuIl0sImdlb0xvY2F0aW9uRmFjZXRSZWNlbnRzIjpbIlB1ZXJ0byBSaWNvLCBVLlMuQS4iXSwicGFnZSI6MSwibGltaXQiOjI1LCJvZmZzZXQiOjAsInNvcnQiOiIiLCJzb3J0VHlwZSI6IiIsImNsZWFyUGFyYW1zIjpmYWxzZSwia2V5d29yZCI6IiIsInBhZ2VUaXRsZSI6Imw6UHVlcnRvIFJpY28sIFUuUy5BLiIsInByYWN0aWNlQXJlYXMiOlsiSGVhbHRoIENhcmUiXX0%3D&page=4\n"
     ]
    },
    {
     "name": "stderr",
     "output_type": "stream",
     "text": [
      " 62%|██████▏   | 133/213 [55:45<40:35, 30.44s/it]"
     ]
    },
    {
     "name": "stdout",
     "output_type": "stream",
     "text": [
      "paginas en esta url: 1\n",
      "accediendo a: https://www.martindale.com/search/attorneys-law-firms-articles/?term=Puerto+Rico%2C+USA&params=eyJ0eXBlIjoicGVvcGxlIiwiY29tcGFyZSI6IiIsInRlcm0iOiJQdWVydG8gUmljbywgVVNBIiwiZ2VvTG9jYXRpb25GYWNldCI6WyJQdWVydG8gUmljbywgVS5TLkEuIl0sImdlb0xvY2F0aW9uRmFjZXRSZWNlbnRzIjpbIlB1ZXJ0byBSaWNvLCBVLlMuQS4iXSwicGFnZSI6MSwibGltaXQiOjI1LCJvZmZzZXQiOjAsInNvcnQiOiIiLCJzb3J0VHlwZSI6IiIsImNsZWFyUGFyYW1zIjpmYWxzZSwia2V5d29yZCI6IiIsInBhZ2VUaXRsZSI6Imw6UHVlcnRvIFJpY28sIFUuUy5BLiIsInByYWN0aWNlQXJlYXMiOlsiVGVjaG5vbG9neSBhbmQgU2NpZW5jZSJdfQ%3D%3D\n",
      "https://www.martindale.com/attorney/federico-l-basora-1571861/\n"
     ]
    },
    {
     "name": "stderr",
     "output_type": "stream",
     "text": [
      " 63%|██████▎   | 134/213 [56:10<37:42, 28.64s/it]"
     ]
    },
    {
     "name": "stdout",
     "output_type": "stream",
     "text": [
      "paginas en esta url: 3\n",
      "accediendo a: https://www.martindale.com/search/attorneys-law-firms-articles/?term=Puerto+Rico%2C+USA&params=eyJ0eXBlIjoicGVvcGxlIiwiY29tcGFyZSI6IiIsInRlcm0iOiJQdWVydG8gUmljbywgVVNBIiwiZ2VvTG9jYXRpb25GYWNldCI6WyJQdWVydG8gUmljbywgVS5TLkEuIl0sImdlb0xvY2F0aW9uRmFjZXRSZWNlbnRzIjpbIlB1ZXJ0byBSaWNvLCBVLlMuQS4iXSwicGFnZSI6MSwibGltaXQiOjI1LCJvZmZzZXQiOjAsInNvcnQiOiIiLCJzb3J0VHlwZSI6IiIsImNsZWFyUGFyYW1zIjpmYWxzZSwia2V5d29yZCI6IiIsInBhZ2VUaXRsZSI6Imw6UHVlcnRvIFJpY28sIFUuUy5BLiIsInByYWN0aWNlQXJlYXMiOlsiQW50aXRydXN0IGFuZCBUcmFkZSBSZWd1bGF0aW9uIl19\n",
      "https://www.martindale.com/attorney/roberto-boneta-1572608/\n",
      "accediendo a: https://www.martindale.com/search/attorneys-law-firms-articles/?term=Puerto+Rico%2C+USA&params=eyJ0eXBlIjoicGVvcGxlIiwiY29tcGFyZSI6IiIsInRlcm0iOiJQdWVydG8gUmljbywgVVNBIiwiZ2VvTG9jYXRpb25GYWNldCI6WyJQdWVydG8gUmljbywgVS5TLkEuIl0sImdlb0xvY2F0aW9uRmFjZXRSZWNlbnRzIjpbIlB1ZXJ0byBSaWNvLCBVLlMuQS4iXSwicGFnZSI6MSwibGltaXQiOjI1LCJvZmZzZXQiOjAsInNvcnQiOiIiLCJzb3J0VHlwZSI6IiIsImNsZWFyUGFyYW1zIjpmYWxzZSwia2V5d29yZCI6IiIsInBhZ2VUaXRsZSI6Imw6UHVlcnRvIFJpY28sIFUuUy5BLiIsInByYWN0aWNlQXJlYXMiOlsiQW50aXRydXN0IGFuZCBUcmFkZSBSZWd1bGF0aW9uIl19&page=2\n",
      "accediendo a: https://www.martindale.com/search/attorneys-law-firms-articles/?term=Puerto+Rico%2C+USA&params=eyJ0eXBlIjoicGVvcGxlIiwiY29tcGFyZSI6IiIsInRlcm0iOiJQdWVydG8gUmljbywgVVNBIiwiZ2VvTG9jYXRpb25GYWNldCI6WyJQdWVydG8gUmljbywgVS5TLkEuIl0sImdlb0xvY2F0aW9uRmFjZXRSZWNlbnRzIjpbIlB1ZXJ0byBSaWNvLCBVLlMuQS4iXSwicGFnZSI6MSwibGltaXQiOjI1LCJvZmZzZXQiOjAsInNvcnQiOiIiLCJzb3J0VHlwZSI6IiIsImNsZWFyUGFyYW1zIjpmYWxzZSwia2V5d29yZCI6IiIsInBhZ2VUaXRsZSI6Imw6UHVlcnRvIFJpY28sIFUuUy5BLiIsInByYWN0aWNlQXJlYXMiOlsiQW50aXRydXN0IGFuZCBUcmFkZSBSZWd1bGF0aW9uIl19&page=3\n"
     ]
    },
    {
     "name": "stderr",
     "output_type": "stream",
     "text": [
      " 63%|██████▎   | 135/213 [56:24<31:47, 24.46s/it]"
     ]
    },
    {
     "name": "stdout",
     "output_type": "stream",
     "text": [
      "paginas en esta url: 20\n",
      "accediendo a: https://www.martindale.com/search/attorneys-law-firms-articles/?term=Puerto+Rico%2C+USA&params=eyJ0eXBlIjoicGVvcGxlIiwiY29tcGFyZSI6IiIsInRlcm0iOiJQdWVydG8gUmljbywgVVNBIiwiZ2VvTG9jYXRpb25GYWNldCI6WyJQdWVydG8gUmljbywgVS5TLkEuIl0sImdlb0xvY2F0aW9uRmFjZXRSZWNlbnRzIjpbIlB1ZXJ0byBSaWNvLCBVLlMuQS4iXSwicGFnZSI6MSwibGltaXQiOjI1LCJvZmZzZXQiOjAsInNvcnQiOiIiLCJzb3J0VHlwZSI6IiIsImNsZWFyUGFyYW1zIjpmYWxzZSwia2V5d29yZCI6IiIsInBhZ2VUaXRsZSI6Imw6UHVlcnRvIFJpY28sIFUuUy5BLiIsInByYWN0aWNlQXJlYXMiOlsiQ29tbWVyY2lhbCBMYXciXX0%3D\n",
      "https://www.martindale.com/attorney/eduardo-r-rebollo-2662557/\n",
      "accediendo a: https://www.martindale.com/search/attorneys-law-firms-articles/?term=Puerto+Rico%2C+USA&params=eyJ0eXBlIjoicGVvcGxlIiwiY29tcGFyZSI6IiIsInRlcm0iOiJQdWVydG8gUmljbywgVVNBIiwiZ2VvTG9jYXRpb25GYWNldCI6WyJQdWVydG8gUmljbywgVS5TLkEuIl0sImdlb0xvY2F0aW9uRmFjZXRSZWNlbnRzIjpbIlB1ZXJ0byBSaWNvLCBVLlMuQS4iXSwicGFnZSI6MSwibGltaXQiOjI1LCJvZmZzZXQiOjAsInNvcnQiOiIiLCJzb3J0VHlwZSI6IiIsImNsZWFyUGFyYW1zIjpmYWxzZSwia2V5d29yZCI6IiIsInBhZ2VUaXRsZSI6Imw6UHVlcnRvIFJpY28sIFUuUy5BLiIsInByYWN0aWNlQXJlYXMiOlsiQ29tbWVyY2lhbCBMYXciXX0%3D&page=2\n",
      "https://www.martindale.com/attorney/roberto-garcia-rodriquez-1573418/\n",
      "https://www.martindale.com/attorney/rafael-m-arrillaga-romany-2662546/\n",
      "accediendo a: https://www.martindale.com/search/attorneys-law-firms-articles/?term=Puerto+Rico%2C+USA&params=eyJ0eXBlIjoicGVvcGxlIiwiY29tcGFyZSI6IiIsInRlcm0iOiJQdWVydG8gUmljbywgVVNBIiwiZ2VvTG9jYXRpb25GYWNldCI6WyJQdWVydG8gUmljbywgVS5TLkEuIl0sImdlb0xvY2F0aW9uRmFjZXRSZWNlbnRzIjpbIlB1ZXJ0byBSaWNvLCBVLlMuQS4iXSwicGFnZSI6MSwibGltaXQiOjI1LCJvZmZzZXQiOjAsInNvcnQiOiIiLCJzb3J0VHlwZSI6IiIsImNsZWFyUGFyYW1zIjpmYWxzZSwia2V5d29yZCI6IiIsInBhZ2VUaXRsZSI6Imw6UHVlcnRvIFJpY28sIFUuUy5BLiIsInByYWN0aWNlQXJlYXMiOlsiQ29tbWVyY2lhbCBMYXciXX0%3D&page=3\n",
      "https://www.martindale.com/attorney/dennise-n-longo-de-morgan-31928826/\n",
      "accediendo a: https://www.martindale.com/search/attorneys-law-firms-articles/?term=Puerto+Rico%2C+USA&params=eyJ0eXBlIjoicGVvcGxlIiwiY29tcGFyZSI6IiIsInRlcm0iOiJQdWVydG8gUmljbywgVVNBIiwiZ2VvTG9jYXRpb25GYWNldCI6WyJQdWVydG8gUmljbywgVS5TLkEuIl0sImdlb0xvY2F0aW9uRmFjZXRSZWNlbnRzIjpbIlB1ZXJ0byBSaWNvLCBVLlMuQS4iXSwicGFnZSI6MSwibGltaXQiOjI1LCJvZmZzZXQiOjAsInNvcnQiOiIiLCJzb3J0VHlwZSI6IiIsImNsZWFyUGFyYW1zIjpmYWxzZSwia2V5d29yZCI6IiIsInBhZ2VUaXRsZSI6Imw6UHVlcnRvIFJpY28sIFUuUy5BLiIsInByYWN0aWNlQXJlYXMiOlsiQ29tbWVyY2lhbCBMYXciXX0%3D&page=4\n",
      "accediendo a: https://www.martindale.com/search/attorneys-law-firms-articles/?term=Puerto+Rico%2C+USA&params=eyJ0eXBlIjoicGVvcGxlIiwiY29tcGFyZSI6IiIsInRlcm0iOiJQdWVydG8gUmljbywgVVNBIiwiZ2VvTG9jYXRpb25GYWNldCI6WyJQdWVydG8gUmljbywgVS5TLkEuIl0sImdlb0xvY2F0aW9uRmFjZXRSZWNlbnRzIjpbIlB1ZXJ0byBSaWNvLCBVLlMuQS4iXSwicGFnZSI6MSwibGltaXQiOjI1LCJvZmZzZXQiOjAsInNvcnQiOiIiLCJzb3J0VHlwZSI6IiIsImNsZWFyUGFyYW1zIjpmYWxzZSwia2V5d29yZCI6IiIsInBhZ2VUaXRsZSI6Imw6UHVlcnRvIFJpY28sIFUuUy5BLiIsInByYWN0aWNlQXJlYXMiOlsiQ29tbWVyY2lhbCBMYXciXX0%3D&page=5\n",
      "https://www.martindale.com/attorney/siro-gutierrez-mccormick-1573085/\n",
      "https://www.martindale.com/attorney/brigitte-s-krumhansl-hernandez-1572196/\n",
      "https://www.martindale.com/attorney/francisco-j-janer-martinez-1573417/\n",
      "accediendo a: https://www.martindale.com/search/attorneys-law-firms-articles/?term=Puerto+Rico%2C+USA&params=eyJ0eXBlIjoicGVvcGxlIiwiY29tcGFyZSI6IiIsInRlcm0iOiJQdWVydG8gUmljbywgVVNBIiwiZ2VvTG9jYXRpb25GYWNldCI6WyJQdWVydG8gUmljbywgVS5TLkEuIl0sImdlb0xvY2F0aW9uRmFjZXRSZWNlbnRzIjpbIlB1ZXJ0byBSaWNvLCBVLlMuQS4iXSwicGFnZSI6MSwibGltaXQiOjI1LCJvZmZzZXQiOjAsInNvcnQiOiIiLCJzb3J0VHlwZSI6IiIsImNsZWFyUGFyYW1zIjpmYWxzZSwia2V5d29yZCI6IiIsInBhZ2VUaXRsZSI6Imw6UHVlcnRvIFJpY28sIFUuUy5BLiIsInByYWN0aWNlQXJlYXMiOlsiQ29tbWVyY2lhbCBMYXciXX0%3D&page=6\n",
      "accediendo a: https://www.martindale.com/search/attorneys-law-firms-articles/?term=Puerto+Rico%2C+USA&params=eyJ0eXBlIjoicGVvcGxlIiwiY29tcGFyZSI6IiIsInRlcm0iOiJQdWVydG8gUmljbywgVVNBIiwiZ2VvTG9jYXRpb25GYWNldCI6WyJQdWVydG8gUmljbywgVS5TLkEuIl0sImdlb0xvY2F0aW9uRmFjZXRSZWNlbnRzIjpbIlB1ZXJ0byBSaWNvLCBVLlMuQS4iXSwicGFnZSI6MSwibGltaXQiOjI1LCJvZmZzZXQiOjAsInNvcnQiOiIiLCJzb3J0VHlwZSI6IiIsImNsZWFyUGFyYW1zIjpmYWxzZSwia2V5d29yZCI6IiIsInBhZ2VUaXRsZSI6Imw6UHVlcnRvIFJpY28sIFUuUy5BLiIsInByYWN0aWNlQXJlYXMiOlsiQ29tbWVyY2lhbCBMYXciXX0%3D&page=7\n",
      "https://www.martindale.com/attorney/walter-o-alomar-24406820/\n",
      "accediendo a: https://www.martindale.com/search/attorneys-law-firms-articles/?term=Puerto+Rico%2C+USA&params=eyJ0eXBlIjoicGVvcGxlIiwiY29tcGFyZSI6IiIsInRlcm0iOiJQdWVydG8gUmljbywgVVNBIiwiZ2VvTG9jYXRpb25GYWNldCI6WyJQdWVydG8gUmljbywgVS5TLkEuIl0sImdlb0xvY2F0aW9uRmFjZXRSZWNlbnRzIjpbIlB1ZXJ0byBSaWNvLCBVLlMuQS4iXSwicGFnZSI6MSwibGltaXQiOjI1LCJvZmZzZXQiOjAsInNvcnQiOiIiLCJzb3J0VHlwZSI6IiIsImNsZWFyUGFyYW1zIjpmYWxzZSwia2V5d29yZCI6IiIsInBhZ2VUaXRsZSI6Imw6UHVlcnRvIFJpY28sIFUuUy5BLiIsInByYWN0aWNlQXJlYXMiOlsiQ29tbWVyY2lhbCBMYXciXX0%3D&page=8\n",
      "accediendo a: https://www.martindale.com/search/attorneys-law-firms-articles/?term=Puerto+Rico%2C+USA&params=eyJ0eXBlIjoicGVvcGxlIiwiY29tcGFyZSI6IiIsInRlcm0iOiJQdWVydG8gUmljbywgVVNBIiwiZ2VvTG9jYXRpb25GYWNldCI6WyJQdWVydG8gUmljbywgVS5TLkEuIl0sImdlb0xvY2F0aW9uRmFjZXRSZWNlbnRzIjpbIlB1ZXJ0byBSaWNvLCBVLlMuQS4iXSwicGFnZSI6MSwibGltaXQiOjI1LCJvZmZzZXQiOjAsInNvcnQiOiIiLCJzb3J0VHlwZSI6IiIsImNsZWFyUGFyYW1zIjpmYWxzZSwia2V5d29yZCI6IiIsInBhZ2VUaXRsZSI6Imw6UHVlcnRvIFJpY28sIFUuUy5BLiIsInByYWN0aWNlQXJlYXMiOlsiQ29tbWVyY2lhbCBMYXciXX0%3D&page=9\n",
      "accediendo a: https://www.martindale.com/search/attorneys-law-firms-articles/?term=Puerto+Rico%2C+USA&params=eyJ0eXBlIjoicGVvcGxlIiwiY29tcGFyZSI6IiIsInRlcm0iOiJQdWVydG8gUmljbywgVVNBIiwiZ2VvTG9jYXRpb25GYWNldCI6WyJQdWVydG8gUmljbywgVS5TLkEuIl0sImdlb0xvY2F0aW9uRmFjZXRSZWNlbnRzIjpbIlB1ZXJ0byBSaWNvLCBVLlMuQS4iXSwicGFnZSI6MSwibGltaXQiOjI1LCJvZmZzZXQiOjAsInNvcnQiOiIiLCJzb3J0VHlwZSI6IiIsImNsZWFyUGFyYW1zIjpmYWxzZSwia2V5d29yZCI6IiIsInBhZ2VUaXRsZSI6Imw6UHVlcnRvIFJpY28sIFUuUy5BLiIsInByYWN0aWNlQXJlYXMiOlsiQ29tbWVyY2lhbCBMYXciXX0%3D&page=10\n",
      "accediendo a: https://www.martindale.com/search/attorneys-law-firms-articles/?term=Puerto+Rico%2C+USA&params=eyJ0eXBlIjoicGVvcGxlIiwiY29tcGFyZSI6IiIsInRlcm0iOiJQdWVydG8gUmljbywgVVNBIiwiZ2VvTG9jYXRpb25GYWNldCI6WyJQdWVydG8gUmljbywgVS5TLkEuIl0sImdlb0xvY2F0aW9uRmFjZXRSZWNlbnRzIjpbIlB1ZXJ0byBSaWNvLCBVLlMuQS4iXSwicGFnZSI6MSwibGltaXQiOjI1LCJvZmZzZXQiOjAsInNvcnQiOiIiLCJzb3J0VHlwZSI6IiIsImNsZWFyUGFyYW1zIjpmYWxzZSwia2V5d29yZCI6IiIsInBhZ2VUaXRsZSI6Imw6UHVlcnRvIFJpY28sIFUuUy5BLiIsInByYWN0aWNlQXJlYXMiOlsiQ29tbWVyY2lhbCBMYXciXX0%3D&page=11\n",
      "accediendo a: https://www.martindale.com/search/attorneys-law-firms-articles/?term=Puerto+Rico%2C+USA&params=eyJ0eXBlIjoicGVvcGxlIiwiY29tcGFyZSI6IiIsInRlcm0iOiJQdWVydG8gUmljbywgVVNBIiwiZ2VvTG9jYXRpb25GYWNldCI6WyJQdWVydG8gUmljbywgVS5TLkEuIl0sImdlb0xvY2F0aW9uRmFjZXRSZWNlbnRzIjpbIlB1ZXJ0byBSaWNvLCBVLlMuQS4iXSwicGFnZSI6MSwibGltaXQiOjI1LCJvZmZzZXQiOjAsInNvcnQiOiIiLCJzb3J0VHlwZSI6IiIsImNsZWFyUGFyYW1zIjpmYWxzZSwia2V5d29yZCI6IiIsInBhZ2VUaXRsZSI6Imw6UHVlcnRvIFJpY28sIFUuUy5BLiIsInByYWN0aWNlQXJlYXMiOlsiQ29tbWVyY2lhbCBMYXciXX0%3D&page=12\n",
      "https://www.martindale.com/attorney/carlos-gonzalez-padro-1573259/\n",
      "https://www.martindale.com/attorney/ada-i-garcia-rivera-2135540/\n",
      "accediendo a: https://www.martindale.com/search/attorneys-law-firms-articles/?term=Puerto+Rico%2C+USA&params=eyJ0eXBlIjoicGVvcGxlIiwiY29tcGFyZSI6IiIsInRlcm0iOiJQdWVydG8gUmljbywgVVNBIiwiZ2VvTG9jYXRpb25GYWNldCI6WyJQdWVydG8gUmljbywgVS5TLkEuIl0sImdlb0xvY2F0aW9uRmFjZXRSZWNlbnRzIjpbIlB1ZXJ0byBSaWNvLCBVLlMuQS4iXSwicGFnZSI6MSwibGltaXQiOjI1LCJvZmZzZXQiOjAsInNvcnQiOiIiLCJzb3J0VHlwZSI6IiIsImNsZWFyUGFyYW1zIjpmYWxzZSwia2V5d29yZCI6IiIsInBhZ2VUaXRsZSI6Imw6UHVlcnRvIFJpY28sIFUuUy5BLiIsInByYWN0aWNlQXJlYXMiOlsiQ29tbWVyY2lhbCBMYXciXX0%3D&page=13\n",
      "accediendo a: https://www.martindale.com/search/attorneys-law-firms-articles/?term=Puerto+Rico%2C+USA&params=eyJ0eXBlIjoicGVvcGxlIiwiY29tcGFyZSI6IiIsInRlcm0iOiJQdWVydG8gUmljbywgVVNBIiwiZ2VvTG9jYXRpb25GYWNldCI6WyJQdWVydG8gUmljbywgVS5TLkEuIl0sImdlb0xvY2F0aW9uRmFjZXRSZWNlbnRzIjpbIlB1ZXJ0byBSaWNvLCBVLlMuQS4iXSwicGFnZSI6MSwibGltaXQiOjI1LCJvZmZzZXQiOjAsInNvcnQiOiIiLCJzb3J0VHlwZSI6IiIsImNsZWFyUGFyYW1zIjpmYWxzZSwia2V5d29yZCI6IiIsInBhZ2VUaXRsZSI6Imw6UHVlcnRvIFJpY28sIFUuUy5BLiIsInByYWN0aWNlQXJlYXMiOlsiQ29tbWVyY2lhbCBMYXciXX0%3D&page=14\n",
      "https://www.martindale.com/attorney/r-enrique-surillo-ascar-1574069/\n",
      "https://www.martindale.com/attorney/igor-dominguez-perez-1572360/\n",
      "https://www.martindale.com/attorney/georgiana-s-colon-1572817/\n",
      "https://www.martindale.com/attorney/yadhira-ramirez-toro-1999096/\n",
      "https://www.martindale.com/attorney/ileana-fernandez-buitrago-1572474/\n",
      "accediendo a: https://www.martindale.com/search/attorneys-law-firms-articles/?term=Puerto+Rico%2C+USA&params=eyJ0eXBlIjoicGVvcGxlIiwiY29tcGFyZSI6IiIsInRlcm0iOiJQdWVydG8gUmljbywgVVNBIiwiZ2VvTG9jYXRpb25GYWNldCI6WyJQdWVydG8gUmljbywgVS5TLkEuIl0sImdlb0xvY2F0aW9uRmFjZXRSZWNlbnRzIjpbIlB1ZXJ0byBSaWNvLCBVLlMuQS4iXSwicGFnZSI6MSwibGltaXQiOjI1LCJvZmZzZXQiOjAsInNvcnQiOiIiLCJzb3J0VHlwZSI6IiIsImNsZWFyUGFyYW1zIjpmYWxzZSwia2V5d29yZCI6IiIsInBhZ2VUaXRsZSI6Imw6UHVlcnRvIFJpY28sIFUuUy5BLiIsInByYWN0aWNlQXJlYXMiOlsiQ29tbWVyY2lhbCBMYXciXX0%3D&page=15\n",
      "accediendo a: https://www.martindale.com/search/attorneys-law-firms-articles/?term=Puerto+Rico%2C+USA&params=eyJ0eXBlIjoicGVvcGxlIiwiY29tcGFyZSI6IiIsInRlcm0iOiJQdWVydG8gUmljbywgVVNBIiwiZ2VvTG9jYXRpb25GYWNldCI6WyJQdWVydG8gUmljbywgVS5TLkEuIl0sImdlb0xvY2F0aW9uRmFjZXRSZWNlbnRzIjpbIlB1ZXJ0byBSaWNvLCBVLlMuQS4iXSwicGFnZSI6MSwibGltaXQiOjI1LCJvZmZzZXQiOjAsInNvcnQiOiIiLCJzb3J0VHlwZSI6IiIsImNsZWFyUGFyYW1zIjpmYWxzZSwia2V5d29yZCI6IiIsInBhZ2VUaXRsZSI6Imw6UHVlcnRvIFJpY28sIFUuUy5BLiIsInByYWN0aWNlQXJlYXMiOlsiQ29tbWVyY2lhbCBMYXciXX0%3D&page=16\n",
      "https://www.martindale.com/attorney/javier-o-lamoso-garcia-1572231/\n",
      "https://www.martindale.com/attorney/russell-a-del-toro-sosa-1572341/\n",
      "https://www.martindale.com/attorney/manuel-rodriguez-boissen-2706696/\n",
      "accediendo a: https://www.martindale.com/search/attorneys-law-firms-articles/?term=Puerto+Rico%2C+USA&params=eyJ0eXBlIjoicGVvcGxlIiwiY29tcGFyZSI6IiIsInRlcm0iOiJQdWVydG8gUmljbywgVVNBIiwiZ2VvTG9jYXRpb25GYWNldCI6WyJQdWVydG8gUmljbywgVS5TLkEuIl0sImdlb0xvY2F0aW9uRmFjZXRSZWNlbnRzIjpbIlB1ZXJ0byBSaWNvLCBVLlMuQS4iXSwicGFnZSI6MSwibGltaXQiOjI1LCJvZmZzZXQiOjAsInNvcnQiOiIiLCJzb3J0VHlwZSI6IiIsImNsZWFyUGFyYW1zIjpmYWxzZSwia2V5d29yZCI6IiIsInBhZ2VUaXRsZSI6Imw6UHVlcnRvIFJpY28sIFUuUy5BLiIsInByYWN0aWNlQXJlYXMiOlsiQ29tbWVyY2lhbCBMYXciXX0%3D&page=17\n",
      "https://www.martindale.com/attorney/javier-g-silva-wiscovich-1573474/\n",
      "accediendo a: https://www.martindale.com/search/attorneys-law-firms-articles/?term=Puerto+Rico%2C+USA&params=eyJ0eXBlIjoicGVvcGxlIiwiY29tcGFyZSI6IiIsInRlcm0iOiJQdWVydG8gUmljbywgVVNBIiwiZ2VvTG9jYXRpb25GYWNldCI6WyJQdWVydG8gUmljbywgVS5TLkEuIl0sImdlb0xvY2F0aW9uRmFjZXRSZWNlbnRzIjpbIlB1ZXJ0byBSaWNvLCBVLlMuQS4iXSwicGFnZSI6MSwibGltaXQiOjI1LCJvZmZzZXQiOjAsInNvcnQiOiIiLCJzb3J0VHlwZSI6IiIsImNsZWFyUGFyYW1zIjpmYWxzZSwia2V5d29yZCI6IiIsInBhZ2VUaXRsZSI6Imw6UHVlcnRvIFJpY28sIFUuUy5BLiIsInByYWN0aWNlQXJlYXMiOlsiQ29tbWVyY2lhbCBMYXciXX0%3D&page=18\n",
      "problemas con el crawler\n",
      "problemas con el crawler\n",
      "accediendo a: https://www.martindale.com/search/attorneys-law-firms-articles/?term=Puerto+Rico%2C+USA&params=eyJ0eXBlIjoicGVvcGxlIiwiY29tcGFyZSI6IiIsInRlcm0iOiJQdWVydG8gUmljbywgVVNBIiwiZ2VvTG9jYXRpb25GYWNldCI6WyJQdWVydG8gUmljbywgVS5TLkEuIl0sImdlb0xvY2F0aW9uRmFjZXRSZWNlbnRzIjpbIlB1ZXJ0byBSaWNvLCBVLlMuQS4iXSwicGFnZSI6MSwibGltaXQiOjI1LCJvZmZzZXQiOjAsInNvcnQiOiIiLCJzb3J0VHlwZSI6IiIsImNsZWFyUGFyYW1zIjpmYWxzZSwia2V5d29yZCI6IiIsInBhZ2VUaXRsZSI6Imw6UHVlcnRvIFJpY28sIFUuUy5BLiIsInByYWN0aWNlQXJlYXMiOlsiQ29tbWVyY2lhbCBMYXciXX0%3D&page=19\n",
      "problemas con el crawler\n",
      "accediendo a: https://www.martindale.com/search/attorneys-law-firms-articles/?term=Puerto+Rico%2C+USA&params=eyJ0eXBlIjoicGVvcGxlIiwiY29tcGFyZSI6IiIsInRlcm0iOiJQdWVydG8gUmljbywgVVNBIiwiZ2VvTG9jYXRpb25GYWNldCI6WyJQdWVydG8gUmljbywgVS5TLkEuIl0sImdlb0xvY2F0aW9uRmFjZXRSZWNlbnRzIjpbIlB1ZXJ0byBSaWNvLCBVLlMuQS4iXSwicGFnZSI6MSwibGltaXQiOjI1LCJvZmZzZXQiOjAsInNvcnQiOiIiLCJzb3J0VHlwZSI6IiIsImNsZWFyUGFyYW1zIjpmYWxzZSwia2V5d29yZCI6IiIsInBhZ2VUaXRsZSI6Imw6UHVlcnRvIFJpY28sIFUuUy5BLiIsInByYWN0aWNlQXJlYXMiOlsiQ29tbWVyY2lhbCBMYXciXX0%3D&page=20\n"
     ]
    },
    {
     "name": "stderr",
     "output_type": "stream",
     "text": [
      " 64%|██████▍   | 136/213 [58:26<1:08:41, 53.53s/it]"
     ]
    },
    {
     "name": "stdout",
     "output_type": "stream",
     "text": [
      "https://www.martindale.com/attorney/carlos-e-aguilar-perez-1574175/\n",
      "https://www.martindale.com/attorney/baldomero-collazo-torres-1572285/\n",
      "paginas en esta url: 1\n",
      "accediendo a: https://www.martindale.com/search/attorneys-law-firms-articles/?term=Puerto+Rico%2C+USA&params=eyJ0eXBlIjoicGVvcGxlIiwiY29tcGFyZSI6IiIsInRlcm0iOiJQdWVydG8gUmljbywgVVNBIiwiZ2VvTG9jYXRpb25GYWNldCI6WyJQdWVydG8gUmljbywgVS5TLkEuIl0sImdlb0xvY2F0aW9uRmFjZXRSZWNlbnRzIjpbIlB1ZXJ0byBSaWNvLCBVLlMuQS4iXSwicGFnZSI6MSwibGltaXQiOjI1LCJvZmZzZXQiOjAsInNvcnQiOiIiLCJzb3J0VHlwZSI6IiIsImNsZWFyUGFyYW1zIjpmYWxzZSwia2V5d29yZCI6IiIsInBhZ2VUaXRsZSI6Imw6UHVlcnRvIFJpY28sIFUuUy5BLiIsInByYWN0aWNlQXJlYXMiOlsiU2xpcCBhbmQgRmFsbCJdfQ%3D%3D\n"
     ]
    },
    {
     "name": "stderr",
     "output_type": "stream",
     "text": [
      " 64%|██████▍   | 137/213 [58:50<56:41, 44.75s/it]  "
     ]
    },
    {
     "name": "stdout",
     "output_type": "stream",
     "text": [
      "paginas en esta url: 1\n",
      "accediendo a: https://www.martindale.com/search/attorneys-law-firms-articles/?term=Puerto+Rico%2C+USA&params=eyJ0eXBlIjoicGVvcGxlIiwiY29tcGFyZSI6IiIsInRlcm0iOiJQdWVydG8gUmljbywgVVNBIiwiZ2VvTG9jYXRpb25GYWNldCI6WyJQdWVydG8gUmljbywgVS5TLkEuIl0sImdlb0xvY2F0aW9uRmFjZXRSZWNlbnRzIjpbIlB1ZXJ0byBSaWNvLCBVLlMuQS4iXSwicGFnZSI6MSwibGltaXQiOjI1LCJvZmZzZXQiOjAsInNvcnQiOiIiLCJzb3J0VHlwZSI6IiIsImNsZWFyUGFyYW1zIjpmYWxzZSwia2V5d29yZCI6IiIsInBhZ2VUaXRsZSI6Imw6UHVlcnRvIFJpY28sIFUuUy5BLiIsInByYWN0aWNlQXJlYXMiOlsiTG9iYnlpbmciXX0%3D\n"
     ]
    },
    {
     "name": "stderr",
     "output_type": "stream",
     "text": [
      " 65%|██████▍   | 138/213 [59:14<48:19, 38.66s/it]"
     ]
    },
    {
     "name": "stdout",
     "output_type": "stream",
     "text": [
      "paginas en esta url: 1\n",
      "accediendo a: https://www.martindale.com/search/attorneys-law-firms-articles/?term=Puerto+Rico%2C+USA&params=eyJ0eXBlIjoicGVvcGxlIiwiY29tcGFyZSI6IiIsInRlcm0iOiJQdWVydG8gUmljbywgVVNBIiwiZ2VvTG9jYXRpb25GYWNldCI6WyJQdWVydG8gUmljbywgVS5TLkEuIl0sImdlb0xvY2F0aW9uRmFjZXRSZWNlbnRzIjpbIlB1ZXJ0byBSaWNvLCBVLlMuQS4iXSwicGFnZSI6MSwibGltaXQiOjI1LCJvZmZzZXQiOjAsInNvcnQiOiIiLCJzb3J0VHlwZSI6IiIsImNsZWFyUGFyYW1zIjpmYWxzZSwia2V5d29yZCI6IiIsInBhZ2VUaXRsZSI6Imw6UHVlcnRvIFJpY28sIFUuUy5BLiIsInByYWN0aWNlQXJlYXMiOlsiTWlsaXRhcnkgTGF3Il19\n"
     ]
    },
    {
     "name": "stderr",
     "output_type": "stream",
     "text": [
      " 65%|██████▌   | 139/213 [59:39<42:20, 34.34s/it]"
     ]
    },
    {
     "name": "stdout",
     "output_type": "stream",
     "text": [
      "paginas en esta url: 1\n",
      "accediendo a: https://www.martindale.com/search/attorneys-law-firms-articles/?term=Puerto+Rico%2C+USA&params=eyJ0eXBlIjoicGVvcGxlIiwiY29tcGFyZSI6IiIsInRlcm0iOiJQdWVydG8gUmljbywgVVNBIiwiZ2VvTG9jYXRpb25GYWNldCI6WyJQdWVydG8gUmljbywgVS5TLkEuIl0sImdlb0xvY2F0aW9uRmFjZXRSZWNlbnRzIjpbIlB1ZXJ0byBSaWNvLCBVLlMuQS4iXSwicGFnZSI6MSwibGltaXQiOjI1LCJvZmZzZXQiOjAsInNvcnQiOiIiLCJzb3J0VHlwZSI6IiIsImNsZWFyUGFyYW1zIjpmYWxzZSwia2V5d29yZCI6IiIsInBhZ2VUaXRsZSI6Imw6UHVlcnRvIFJpY28sIFUuUy5BLiIsInByYWN0aWNlQXJlYXMiOlsiUmVndWxhdG9yeSBMYXciXX0%3D\n"
     ]
    },
    {
     "name": "stderr",
     "output_type": "stream",
     "text": [
      " 66%|██████▌   | 140/213 [1:00:03<38:13, 31.42s/it]"
     ]
    },
    {
     "name": "stdout",
     "output_type": "stream",
     "text": [
      "paginas en esta url: 20\n",
      "accediendo a: https://www.martindale.com/search/attorneys-law-firms-articles/?term=Puerto+Rico%2C+USA&params=eyJ0eXBlIjoicGVvcGxlIiwiY29tcGFyZSI6IiIsInRlcm0iOiJQdWVydG8gUmljbywgVVNBIiwiZ2VvTG9jYXRpb25GYWNldCI6WyJQdWVydG8gUmljbywgVS5TLkEuIl0sImdlb0xvY2F0aW9uRmFjZXRSZWNlbnRzIjpbIlB1ZXJ0byBSaWNvLCBVLlMuQS4iXSwicGFnZSI6MSwibGltaXQiOjI1LCJvZmZzZXQiOjAsInNvcnQiOiIiLCJzb3J0VHlwZSI6IiIsImNsZWFyUGFyYW1zIjpmYWxzZSwia2V5d29yZCI6IiIsInBhZ2VUaXRsZSI6Imw6UHVlcnRvIFJpY28sIFUuUy5BLiIsInByYWN0aWNlQXJlYXMiOlsiQ29ycG9yYXRlIExhdyJdfQ%3D%3D\n",
      "accediendo a: https://www.martindale.com/search/attorneys-law-firms-articles/?term=Puerto+Rico%2C+USA&params=eyJ0eXBlIjoicGVvcGxlIiwiY29tcGFyZSI6IiIsInRlcm0iOiJQdWVydG8gUmljbywgVVNBIiwiZ2VvTG9jYXRpb25GYWNldCI6WyJQdWVydG8gUmljbywgVS5TLkEuIl0sImdlb0xvY2F0aW9uRmFjZXRSZWNlbnRzIjpbIlB1ZXJ0byBSaWNvLCBVLlMuQS4iXSwicGFnZSI6MSwibGltaXQiOjI1LCJvZmZzZXQiOjAsInNvcnQiOiIiLCJzb3J0VHlwZSI6IiIsImNsZWFyUGFyYW1zIjpmYWxzZSwia2V5d29yZCI6IiIsInBhZ2VUaXRsZSI6Imw6UHVlcnRvIFJpY28sIFUuUy5BLiIsInByYWN0aWNlQXJlYXMiOlsiQ29ycG9yYXRlIExhdyJdfQ%3D%3D&page=2\n",
      "https://www.martindale.com/attorney/dohanie-sepulveda-1574209/\n",
      "accediendo a: https://www.martindale.com/search/attorneys-law-firms-articles/?term=Puerto+Rico%2C+USA&params=eyJ0eXBlIjoicGVvcGxlIiwiY29tcGFyZSI6IiIsInRlcm0iOiJQdWVydG8gUmljbywgVVNBIiwiZ2VvTG9jYXRpb25GYWNldCI6WyJQdWVydG8gUmljbywgVS5TLkEuIl0sImdlb0xvY2F0aW9uRmFjZXRSZWNlbnRzIjpbIlB1ZXJ0byBSaWNvLCBVLlMuQS4iXSwicGFnZSI6MSwibGltaXQiOjI1LCJvZmZzZXQiOjAsInNvcnQiOiIiLCJzb3J0VHlwZSI6IiIsImNsZWFyUGFyYW1zIjpmYWxzZSwia2V5d29yZCI6IiIsInBhZ2VUaXRsZSI6Imw6UHVlcnRvIFJpY28sIFUuUy5BLiIsInByYWN0aWNlQXJlYXMiOlsiQ29ycG9yYXRlIExhdyJdfQ%3D%3D&page=3\n",
      "https://www.martindale.com/attorney/paul-a-ferrer-2298810/\n",
      "accediendo a: https://www.martindale.com/search/attorneys-law-firms-articles/?term=Puerto+Rico%2C+USA&params=eyJ0eXBlIjoicGVvcGxlIiwiY29tcGFyZSI6IiIsInRlcm0iOiJQdWVydG8gUmljbywgVVNBIiwiZ2VvTG9jYXRpb25GYWNldCI6WyJQdWVydG8gUmljbywgVS5TLkEuIl0sImdlb0xvY2F0aW9uRmFjZXRSZWNlbnRzIjpbIlB1ZXJ0byBSaWNvLCBVLlMuQS4iXSwicGFnZSI6MSwibGltaXQiOjI1LCJvZmZzZXQiOjAsInNvcnQiOiIiLCJzb3J0VHlwZSI6IiIsImNsZWFyUGFyYW1zIjpmYWxzZSwia2V5d29yZCI6IiIsInBhZ2VUaXRsZSI6Imw6UHVlcnRvIFJpY28sIFUuUy5BLiIsInByYWN0aWNlQXJlYXMiOlsiQ29ycG9yYXRlIExhdyJdfQ%3D%3D&page=4\n",
      "accediendo a: https://www.martindale.com/search/attorneys-law-firms-articles/?term=Puerto+Rico%2C+USA&params=eyJ0eXBlIjoicGVvcGxlIiwiY29tcGFyZSI6IiIsInRlcm0iOiJQdWVydG8gUmljbywgVVNBIiwiZ2VvTG9jYXRpb25GYWNldCI6WyJQdWVydG8gUmljbywgVS5TLkEuIl0sImdlb0xvY2F0aW9uRmFjZXRSZWNlbnRzIjpbIlB1ZXJ0byBSaWNvLCBVLlMuQS4iXSwicGFnZSI6MSwibGltaXQiOjI1LCJvZmZzZXQiOjAsInNvcnQiOiIiLCJzb3J0VHlwZSI6IiIsImNsZWFyUGFyYW1zIjpmYWxzZSwia2V5d29yZCI6IiIsInBhZ2VUaXRsZSI6Imw6UHVlcnRvIFJpY28sIFUuUy5BLiIsInByYWN0aWNlQXJlYXMiOlsiQ29ycG9yYXRlIExhdyJdfQ%3D%3D&page=5\n",
      "accediendo a: https://www.martindale.com/search/attorneys-law-firms-articles/?term=Puerto+Rico%2C+USA&params=eyJ0eXBlIjoicGVvcGxlIiwiY29tcGFyZSI6IiIsInRlcm0iOiJQdWVydG8gUmljbywgVVNBIiwiZ2VvTG9jYXRpb25GYWNldCI6WyJQdWVydG8gUmljbywgVS5TLkEuIl0sImdlb0xvY2F0aW9uRmFjZXRSZWNlbnRzIjpbIlB1ZXJ0byBSaWNvLCBVLlMuQS4iXSwicGFnZSI6MSwibGltaXQiOjI1LCJvZmZzZXQiOjAsInNvcnQiOiIiLCJzb3J0VHlwZSI6IiIsImNsZWFyUGFyYW1zIjpmYWxzZSwia2V5d29yZCI6IiIsInBhZ2VUaXRsZSI6Imw6UHVlcnRvIFJpY28sIFUuUy5BLiIsInByYWN0aWNlQXJlYXMiOlsiQ29ycG9yYXRlIExhdyJdfQ%3D%3D&page=6\n",
      "accediendo a: https://www.martindale.com/search/attorneys-law-firms-articles/?term=Puerto+Rico%2C+USA&params=eyJ0eXBlIjoicGVvcGxlIiwiY29tcGFyZSI6IiIsInRlcm0iOiJQdWVydG8gUmljbywgVVNBIiwiZ2VvTG9jYXRpb25GYWNldCI6WyJQdWVydG8gUmljbywgVS5TLkEuIl0sImdlb0xvY2F0aW9uRmFjZXRSZWNlbnRzIjpbIlB1ZXJ0byBSaWNvLCBVLlMuQS4iXSwicGFnZSI6MSwibGltaXQiOjI1LCJvZmZzZXQiOjAsInNvcnQiOiIiLCJzb3J0VHlwZSI6IiIsImNsZWFyUGFyYW1zIjpmYWxzZSwia2V5d29yZCI6IiIsInBhZ2VUaXRsZSI6Imw6UHVlcnRvIFJpY28sIFUuUy5BLiIsInByYWN0aWNlQXJlYXMiOlsiQ29ycG9yYXRlIExhdyJdfQ%3D%3D&page=7\n",
      "accediendo a: https://www.martindale.com/search/attorneys-law-firms-articles/?term=Puerto+Rico%2C+USA&params=eyJ0eXBlIjoicGVvcGxlIiwiY29tcGFyZSI6IiIsInRlcm0iOiJQdWVydG8gUmljbywgVVNBIiwiZ2VvTG9jYXRpb25GYWNldCI6WyJQdWVydG8gUmljbywgVS5TLkEuIl0sImdlb0xvY2F0aW9uRmFjZXRSZWNlbnRzIjpbIlB1ZXJ0byBSaWNvLCBVLlMuQS4iXSwicGFnZSI6MSwibGltaXQiOjI1LCJvZmZzZXQiOjAsInNvcnQiOiIiLCJzb3J0VHlwZSI6IiIsImNsZWFyUGFyYW1zIjpmYWxzZSwia2V5d29yZCI6IiIsInBhZ2VUaXRsZSI6Imw6UHVlcnRvIFJpY28sIFUuUy5BLiIsInByYWN0aWNlQXJlYXMiOlsiQ29ycG9yYXRlIExhdyJdfQ%3D%3D&page=8\n",
      "https://www.martindale.com/attorney/luis-e-marini-roig-1573088/\n",
      "https://www.martindale.com/attorney/maria-m-portilla-delgado-1573579/\n",
      "https://www.martindale.com/attorney/gilberto-oliver-1573351/\n",
      "accediendo a: https://www.martindale.com/search/attorneys-law-firms-articles/?term=Puerto+Rico%2C+USA&params=eyJ0eXBlIjoicGVvcGxlIiwiY29tcGFyZSI6IiIsInRlcm0iOiJQdWVydG8gUmljbywgVVNBIiwiZ2VvTG9jYXRpb25GYWNldCI6WyJQdWVydG8gUmljbywgVS5TLkEuIl0sImdlb0xvY2F0aW9uRmFjZXRSZWNlbnRzIjpbIlB1ZXJ0byBSaWNvLCBVLlMuQS4iXSwicGFnZSI6MSwibGltaXQiOjI1LCJvZmZzZXQiOjAsInNvcnQiOiIiLCJzb3J0VHlwZSI6IiIsImNsZWFyUGFyYW1zIjpmYWxzZSwia2V5d29yZCI6IiIsInBhZ2VUaXRsZSI6Imw6UHVlcnRvIFJpY28sIFUuUy5BLiIsInByYWN0aWNlQXJlYXMiOlsiQ29ycG9yYXRlIExhdyJdfQ%3D%3D&page=9\n",
      "https://www.martindale.com/attorney/olga-b-rosas-velez-4504240/\n",
      "accediendo a: https://www.martindale.com/search/attorneys-law-firms-articles/?term=Puerto+Rico%2C+USA&params=eyJ0eXBlIjoicGVvcGxlIiwiY29tcGFyZSI6IiIsInRlcm0iOiJQdWVydG8gUmljbywgVVNBIiwiZ2VvTG9jYXRpb25GYWNldCI6WyJQdWVydG8gUmljbywgVS5TLkEuIl0sImdlb0xvY2F0aW9uRmFjZXRSZWNlbnRzIjpbIlB1ZXJ0byBSaWNvLCBVLlMuQS4iXSwicGFnZSI6MSwibGltaXQiOjI1LCJvZmZzZXQiOjAsInNvcnQiOiIiLCJzb3J0VHlwZSI6IiIsImNsZWFyUGFyYW1zIjpmYWxzZSwia2V5d29yZCI6IiIsInBhZ2VUaXRsZSI6Imw6UHVlcnRvIFJpY28sIFUuUy5BLiIsInByYWN0aWNlQXJlYXMiOlsiQ29ycG9yYXRlIExhdyJdfQ%3D%3D&page=10\n",
      "accediendo a: https://www.martindale.com/search/attorneys-law-firms-articles/?term=Puerto+Rico%2C+USA&params=eyJ0eXBlIjoicGVvcGxlIiwiY29tcGFyZSI6IiIsInRlcm0iOiJQdWVydG8gUmljbywgVVNBIiwiZ2VvTG9jYXRpb25GYWNldCI6WyJQdWVydG8gUmljbywgVS5TLkEuIl0sImdlb0xvY2F0aW9uRmFjZXRSZWNlbnRzIjpbIlB1ZXJ0byBSaWNvLCBVLlMuQS4iXSwicGFnZSI6MSwibGltaXQiOjI1LCJvZmZzZXQiOjAsInNvcnQiOiIiLCJzb3J0VHlwZSI6IiIsImNsZWFyUGFyYW1zIjpmYWxzZSwia2V5d29yZCI6IiIsInBhZ2VUaXRsZSI6Imw6UHVlcnRvIFJpY28sIFUuUy5BLiIsInByYWN0aWNlQXJlYXMiOlsiQ29ycG9yYXRlIExhdyJdfQ%3D%3D&page=11\n",
      "accediendo a: https://www.martindale.com/search/attorneys-law-firms-articles/?term=Puerto+Rico%2C+USA&params=eyJ0eXBlIjoicGVvcGxlIiwiY29tcGFyZSI6IiIsInRlcm0iOiJQdWVydG8gUmljbywgVVNBIiwiZ2VvTG9jYXRpb25GYWNldCI6WyJQdWVydG8gUmljbywgVS5TLkEuIl0sImdlb0xvY2F0aW9uRmFjZXRSZWNlbnRzIjpbIlB1ZXJ0byBSaWNvLCBVLlMuQS4iXSwicGFnZSI6MSwibGltaXQiOjI1LCJvZmZzZXQiOjAsInNvcnQiOiIiLCJzb3J0VHlwZSI6IiIsImNsZWFyUGFyYW1zIjpmYWxzZSwia2V5d29yZCI6IiIsInBhZ2VUaXRsZSI6Imw6UHVlcnRvIFJpY28sIFUuUy5BLiIsInByYWN0aWNlQXJlYXMiOlsiQ29ycG9yYXRlIExhdyJdfQ%3D%3D&page=12\n",
      "https://www.martindale.com/attorney/carlos-o-bermudez-monroig-4504197/\n",
      "accediendo a: https://www.martindale.com/search/attorneys-law-firms-articles/?term=Puerto+Rico%2C+USA&params=eyJ0eXBlIjoicGVvcGxlIiwiY29tcGFyZSI6IiIsInRlcm0iOiJQdWVydG8gUmljbywgVVNBIiwiZ2VvTG9jYXRpb25GYWNldCI6WyJQdWVydG8gUmljbywgVS5TLkEuIl0sImdlb0xvY2F0aW9uRmFjZXRSZWNlbnRzIjpbIlB1ZXJ0byBSaWNvLCBVLlMuQS4iXSwicGFnZSI6MSwibGltaXQiOjI1LCJvZmZzZXQiOjAsInNvcnQiOiIiLCJzb3J0VHlwZSI6IiIsImNsZWFyUGFyYW1zIjpmYWxzZSwia2V5d29yZCI6IiIsInBhZ2VUaXRsZSI6Imw6UHVlcnRvIFJpY28sIFUuUy5BLiIsInByYWN0aWNlQXJlYXMiOlsiQ29ycG9yYXRlIExhdyJdfQ%3D%3D&page=13\n",
      "https://www.martindale.com/attorney/sebastian-j-sanchez-rivera-158583563/\n",
      "https://www.martindale.com/attorney/jose-r-coleman-tio-43796588/\n",
      "https://www.martindale.com/attorney/janine-m-marrero-montalvo-1572774/\n",
      "accediendo a: https://www.martindale.com/search/attorneys-law-firms-articles/?term=Puerto+Rico%2C+USA&params=eyJ0eXBlIjoicGVvcGxlIiwiY29tcGFyZSI6IiIsInRlcm0iOiJQdWVydG8gUmljbywgVVNBIiwiZ2VvTG9jYXRpb25GYWNldCI6WyJQdWVydG8gUmljbywgVS5TLkEuIl0sImdlb0xvY2F0aW9uRmFjZXRSZWNlbnRzIjpbIlB1ZXJ0byBSaWNvLCBVLlMuQS4iXSwicGFnZSI6MSwibGltaXQiOjI1LCJvZmZzZXQiOjAsInNvcnQiOiIiLCJzb3J0VHlwZSI6IiIsImNsZWFyUGFyYW1zIjpmYWxzZSwia2V5d29yZCI6IiIsInBhZ2VUaXRsZSI6Imw6UHVlcnRvIFJpY28sIFUuUy5BLiIsInByYWN0aWNlQXJlYXMiOlsiQ29ycG9yYXRlIExhdyJdfQ%3D%3D&page=14\n",
      "accediendo a: https://www.martindale.com/search/attorneys-law-firms-articles/?term=Puerto+Rico%2C+USA&params=eyJ0eXBlIjoicGVvcGxlIiwiY29tcGFyZSI6IiIsInRlcm0iOiJQdWVydG8gUmljbywgVVNBIiwiZ2VvTG9jYXRpb25GYWNldCI6WyJQdWVydG8gUmljbywgVS5TLkEuIl0sImdlb0xvY2F0aW9uRmFjZXRSZWNlbnRzIjpbIlB1ZXJ0byBSaWNvLCBVLlMuQS4iXSwicGFnZSI6MSwibGltaXQiOjI1LCJvZmZzZXQiOjAsInNvcnQiOiIiLCJzb3J0VHlwZSI6IiIsImNsZWFyUGFyYW1zIjpmYWxzZSwia2V5d29yZCI6IiIsInBhZ2VUaXRsZSI6Imw6UHVlcnRvIFJpY28sIFUuUy5BLiIsInByYWN0aWNlQXJlYXMiOlsiQ29ycG9yYXRlIExhdyJdfQ%3D%3D&page=15\n",
      "accediendo a: https://www.martindale.com/search/attorneys-law-firms-articles/?term=Puerto+Rico%2C+USA&params=eyJ0eXBlIjoicGVvcGxlIiwiY29tcGFyZSI6IiIsInRlcm0iOiJQdWVydG8gUmljbywgVVNBIiwiZ2VvTG9jYXRpb25GYWNldCI6WyJQdWVydG8gUmljbywgVS5TLkEuIl0sImdlb0xvY2F0aW9uRmFjZXRSZWNlbnRzIjpbIlB1ZXJ0byBSaWNvLCBVLlMuQS4iXSwicGFnZSI6MSwibGltaXQiOjI1LCJvZmZzZXQiOjAsInNvcnQiOiIiLCJzb3J0VHlwZSI6IiIsImNsZWFyUGFyYW1zIjpmYWxzZSwia2V5d29yZCI6IiIsInBhZ2VUaXRsZSI6Imw6UHVlcnRvIFJpY28sIFUuUy5BLiIsInByYWN0aWNlQXJlYXMiOlsiQ29ycG9yYXRlIExhdyJdfQ%3D%3D&page=16\n",
      "https://www.martindale.com/attorney/javier-j-vazquez-bravo-3332097/\n",
      "accediendo a: https://www.martindale.com/search/attorneys-law-firms-articles/?term=Puerto+Rico%2C+USA&params=eyJ0eXBlIjoicGVvcGxlIiwiY29tcGFyZSI6IiIsInRlcm0iOiJQdWVydG8gUmljbywgVVNBIiwiZ2VvTG9jYXRpb25GYWNldCI6WyJQdWVydG8gUmljbywgVS5TLkEuIl0sImdlb0xvY2F0aW9uRmFjZXRSZWNlbnRzIjpbIlB1ZXJ0byBSaWNvLCBVLlMuQS4iXSwicGFnZSI6MSwibGltaXQiOjI1LCJvZmZzZXQiOjAsInNvcnQiOiIiLCJzb3J0VHlwZSI6IiIsImNsZWFyUGFyYW1zIjpmYWxzZSwia2V5d29yZCI6IiIsInBhZ2VUaXRsZSI6Imw6UHVlcnRvIFJpY28sIFUuUy5BLiIsInByYWN0aWNlQXJlYXMiOlsiQ29ycG9yYXRlIExhdyJdfQ%3D%3D&page=17\n",
      "https://www.martindale.com/attorney/jose-f-sarraga-1572982/\n",
      "accediendo a: https://www.martindale.com/search/attorneys-law-firms-articles/?term=Puerto+Rico%2C+USA&params=eyJ0eXBlIjoicGVvcGxlIiwiY29tcGFyZSI6IiIsInRlcm0iOiJQdWVydG8gUmljbywgVVNBIiwiZ2VvTG9jYXRpb25GYWNldCI6WyJQdWVydG8gUmljbywgVS5TLkEuIl0sImdlb0xvY2F0aW9uRmFjZXRSZWNlbnRzIjpbIlB1ZXJ0byBSaWNvLCBVLlMuQS4iXSwicGFnZSI6MSwibGltaXQiOjI1LCJvZmZzZXQiOjAsInNvcnQiOiIiLCJzb3J0VHlwZSI6IiIsImNsZWFyUGFyYW1zIjpmYWxzZSwia2V5d29yZCI6IiIsInBhZ2VUaXRsZSI6Imw6UHVlcnRvIFJpY28sIFUuUy5BLiIsInByYWN0aWNlQXJlYXMiOlsiQ29ycG9yYXRlIExhdyJdfQ%3D%3D&page=18\n",
      "accediendo a: https://www.martindale.com/search/attorneys-law-firms-articles/?term=Puerto+Rico%2C+USA&params=eyJ0eXBlIjoicGVvcGxlIiwiY29tcGFyZSI6IiIsInRlcm0iOiJQdWVydG8gUmljbywgVVNBIiwiZ2VvTG9jYXRpb25GYWNldCI6WyJQdWVydG8gUmljbywgVS5TLkEuIl0sImdlb0xvY2F0aW9uRmFjZXRSZWNlbnRzIjpbIlB1ZXJ0byBSaWNvLCBVLlMuQS4iXSwicGFnZSI6MSwibGltaXQiOjI1LCJvZmZzZXQiOjAsInNvcnQiOiIiLCJzb3J0VHlwZSI6IiIsImNsZWFyUGFyYW1zIjpmYWxzZSwia2V5d29yZCI6IiIsInBhZ2VUaXRsZSI6Imw6UHVlcnRvIFJpY28sIFUuUy5BLiIsInByYWN0aWNlQXJlYXMiOlsiQ29ycG9yYXRlIExhdyJdfQ%3D%3D&page=19\n",
      "https://www.martindale.com/attorney/hilda-garcia-concepcion-4294130/\n",
      "accediendo a: https://www.martindale.com/search/attorneys-law-firms-articles/?term=Puerto+Rico%2C+USA&params=eyJ0eXBlIjoicGVvcGxlIiwiY29tcGFyZSI6IiIsInRlcm0iOiJQdWVydG8gUmljbywgVVNBIiwiZ2VvTG9jYXRpb25GYWNldCI6WyJQdWVydG8gUmljbywgVS5TLkEuIl0sImdlb0xvY2F0aW9uRmFjZXRSZWNlbnRzIjpbIlB1ZXJ0byBSaWNvLCBVLlMuQS4iXSwicGFnZSI6MSwibGltaXQiOjI1LCJvZmZzZXQiOjAsInNvcnQiOiIiLCJzb3J0VHlwZSI6IiIsImNsZWFyUGFyYW1zIjpmYWxzZSwia2V5d29yZCI6IiIsInBhZ2VUaXRsZSI6Imw6UHVlcnRvIFJpY28sIFUuUy5BLiIsInByYWN0aWNlQXJlYXMiOlsiQ29ycG9yYXRlIExhdyJdfQ%3D%3D&page=20\n"
     ]
    },
    {
     "name": "stderr",
     "output_type": "stream",
     "text": [
      " 66%|██████▌   | 141/213 [1:00:46<41:42, 34.76s/it]"
     ]
    },
    {
     "name": "stdout",
     "output_type": "stream",
     "text": [
      "paginas en esta url: 1\n",
      "accediendo a: https://www.martindale.com/search/attorneys-law-firms-articles/?term=Puerto+Rico%2C+USA&params=eyJ0eXBlIjoicGVvcGxlIiwiY29tcGFyZSI6IiIsInRlcm0iOiJQdWVydG8gUmljbywgVVNBIiwiZ2VvTG9jYXRpb25GYWNldCI6WyJQdWVydG8gUmljbywgVS5TLkEuIl0sImdlb0xvY2F0aW9uRmFjZXRSZWNlbnRzIjpbIlB1ZXJ0byBSaWNvLCBVLlMuQS4iXSwicGFnZSI6MSwibGltaXQiOjI1LCJvZmZzZXQiOjAsInNvcnQiOiIiLCJzb3J0VHlwZSI6IiIsImNsZWFyUGFyYW1zIjpmYWxzZSwia2V5d29yZCI6IiIsInBhZ2VUaXRsZSI6Imw6UHVlcnRvIFJpY28sIFUuUy5BLiIsInByYWN0aWNlQXJlYXMiOlsiRGVidCBSZWxpZWYiXX0%3D\n"
     ]
    },
    {
     "name": "stderr",
     "output_type": "stream",
     "text": [
      " 67%|██████▋   | 142/213 [1:01:10<37:26, 31.64s/it]"
     ]
    },
    {
     "name": "stdout",
     "output_type": "stream",
     "text": [
      "paginas en esta url: 1\n",
      "accediendo a: https://www.martindale.com/search/attorneys-law-firms-articles/?term=Puerto+Rico%2C+USA&params=eyJ0eXBlIjoicGVvcGxlIiwiY29tcGFyZSI6IiIsInRlcm0iOiJQdWVydG8gUmljbywgVVNBIiwiZ2VvTG9jYXRpb25GYWNldCI6WyJQdWVydG8gUmljbywgVS5TLkEuIl0sImdlb0xvY2F0aW9uRmFjZXRSZWNlbnRzIjpbIlB1ZXJ0byBSaWNvLCBVLlMuQS4iXSwicGFnZSI6MSwibGltaXQiOjI1LCJvZmZzZXQiOjAsInNvcnQiOiIiLCJzb3J0VHlwZSI6IiIsImNsZWFyUGFyYW1zIjpmYWxzZSwia2V5d29yZCI6IiIsInBhZ2VUaXRsZSI6Imw6UHVlcnRvIFJpY28sIFUuUy5BLiIsInByYWN0aWNlQXJlYXMiOlsiSG9zcGl0YWwgTGF3Il19\n"
     ]
    },
    {
     "name": "stderr",
     "output_type": "stream",
     "text": [
      " 67%|██████▋   | 143/213 [1:01:36<34:56, 29.94s/it]"
     ]
    },
    {
     "name": "stdout",
     "output_type": "stream",
     "text": [
      "paginas en esta url: 1\n",
      "accediendo a: https://www.martindale.com/search/attorneys-law-firms-articles/?term=Puerto+Rico%2C+USA&params=eyJ0eXBlIjoicGVvcGxlIiwiY29tcGFyZSI6IiIsInRlcm0iOiJQdWVydG8gUmljbywgVVNBIiwiZ2VvTG9jYXRpb25GYWNldCI6WyJQdWVydG8gUmljbywgVS5TLkEuIl0sImdlb0xvY2F0aW9uRmFjZXRSZWNlbnRzIjpbIlB1ZXJ0byBSaWNvLCBVLlMuQS4iXSwicGFnZSI6MSwibGltaXQiOjI1LCJvZmZzZXQiOjAsInNvcnQiOiIiLCJzb3J0VHlwZSI6IiIsImNsZWFyUGFyYW1zIjpmYWxzZSwia2V5d29yZCI6IiIsInBhZ2VUaXRsZSI6Imw6UHVlcnRvIFJpY28sIFUuUy5BLiIsInByYWN0aWNlQXJlYXMiOlsiTWFyaXRpbWUgUGVyc29uYWwgSW5qdXJ5Il19\n"
     ]
    },
    {
     "name": "stderr",
     "output_type": "stream",
     "text": [
      " 68%|██████▊   | 144/213 [1:02:01<32:47, 28.51s/it]"
     ]
    },
    {
     "name": "stdout",
     "output_type": "stream",
     "text": [
      "paginas en esta url: 3\n",
      "accediendo a: https://www.martindale.com/search/attorneys-law-firms-articles/?term=Puerto+Rico%2C+USA&params=eyJ0eXBlIjoicGVvcGxlIiwiY29tcGFyZSI6IiIsInRlcm0iOiJQdWVydG8gUmljbywgVVNBIiwiZ2VvTG9jYXRpb25GYWNldCI6WyJQdWVydG8gUmljbywgVS5TLkEuIl0sImdlb0xvY2F0aW9uRmFjZXRSZWNlbnRzIjpbIlB1ZXJ0byBSaWNvLCBVLlMuQS4iXSwicGFnZSI6MSwibGltaXQiOjI1LCJvZmZzZXQiOjAsInNvcnQiOiIiLCJzb3J0VHlwZSI6IiIsImNsZWFyUGFyYW1zIjpmYWxzZSwia2V5d29yZCI6IiIsInBhZ2VUaXRsZSI6Imw6UHVlcnRvIFJpY28sIFUuUy5BLiIsInByYWN0aWNlQXJlYXMiOlsiTW9ydGdhZ2VzIl19\n",
      "accediendo a: https://www.martindale.com/search/attorneys-law-firms-articles/?term=Puerto+Rico%2C+USA&params=eyJ0eXBlIjoicGVvcGxlIiwiY29tcGFyZSI6IiIsInRlcm0iOiJQdWVydG8gUmljbywgVVNBIiwiZ2VvTG9jYXRpb25GYWNldCI6WyJQdWVydG8gUmljbywgVS5TLkEuIl0sImdlb0xvY2F0aW9uRmFjZXRSZWNlbnRzIjpbIlB1ZXJ0byBSaWNvLCBVLlMuQS4iXSwicGFnZSI6MSwibGltaXQiOjI1LCJvZmZzZXQiOjAsInNvcnQiOiIiLCJzb3J0VHlwZSI6IiIsImNsZWFyUGFyYW1zIjpmYWxzZSwia2V5d29yZCI6IiIsInBhZ2VUaXRsZSI6Imw6UHVlcnRvIFJpY28sIFUuUy5BLiIsInByYWN0aWNlQXJlYXMiOlsiTW9ydGdhZ2VzIl19&page=2\n",
      "https://www.martindale.com/attorney/nathalia-rivera-florez-43948956/\n",
      "accediendo a: https://www.martindale.com/search/attorneys-law-firms-articles/?term=Puerto+Rico%2C+USA&params=eyJ0eXBlIjoicGVvcGxlIiwiY29tcGFyZSI6IiIsInRlcm0iOiJQdWVydG8gUmljbywgVVNBIiwiZ2VvTG9jYXRpb25GYWNldCI6WyJQdWVydG8gUmljbywgVS5TLkEuIl0sImdlb0xvY2F0aW9uRmFjZXRSZWNlbnRzIjpbIlB1ZXJ0byBSaWNvLCBVLlMuQS4iXSwicGFnZSI6MSwibGltaXQiOjI1LCJvZmZzZXQiOjAsInNvcnQiOiIiLCJzb3J0VHlwZSI6IiIsImNsZWFyUGFyYW1zIjpmYWxzZSwia2V5d29yZCI6IiIsInBhZ2VUaXRsZSI6Imw6UHVlcnRvIFJpY28sIFUuUy5BLiIsInByYWN0aWNlQXJlYXMiOlsiTW9ydGdhZ2VzIl19&page=3\n"
     ]
    },
    {
     "name": "stderr",
     "output_type": "stream",
     "text": [
      " 68%|██████▊   | 145/213 [1:02:15<27:21, 24.14s/it]"
     ]
    },
    {
     "name": "stdout",
     "output_type": "stream",
     "text": [
      "paginas en esta url: 1\n",
      "accediendo a: https://www.martindale.com/search/attorneys-law-firms-articles/?term=Puerto+Rico%2C+USA&params=eyJ0eXBlIjoicGVvcGxlIiwiY29tcGFyZSI6IiIsInRlcm0iOiJQdWVydG8gUmljbywgVVNBIiwiZ2VvTG9jYXRpb25GYWNldCI6WyJQdWVydG8gUmljbywgVS5TLkEuIl0sImdlb0xvY2F0aW9uRmFjZXRSZWNlbnRzIjpbIlB1ZXJ0byBSaWNvLCBVLlMuQS4iXSwicGFnZSI6MSwibGltaXQiOjI1LCJvZmZzZXQiOjAsInNvcnQiOiIiLCJzb3J0VHlwZSI6IiIsImNsZWFyUGFyYW1zIjpmYWxzZSwia2V5d29yZCI6IiIsInBhZ2VUaXRsZSI6Imw6UHVlcnRvIFJpY28sIFUuUy5BLiIsInByYWN0aWNlQXJlYXMiOlsiRmVsb25pZXMiXX0%3D\n"
     ]
    },
    {
     "name": "stderr",
     "output_type": "stream",
     "text": [
      " 69%|██████▊   | 146/213 [1:02:40<27:04, 24.25s/it]"
     ]
    },
    {
     "name": "stdout",
     "output_type": "stream",
     "text": [
      "paginas en esta url: 1\n",
      "accediendo a: https://www.martindale.com/search/attorneys-law-firms-articles/?term=Puerto+Rico%2C+USA&params=eyJ0eXBlIjoicGVvcGxlIiwiY29tcGFyZSI6IiIsInRlcm0iOiJQdWVydG8gUmljbywgVVNBIiwiZ2VvTG9jYXRpb25GYWNldCI6WyJQdWVydG8gUmljbywgVS5TLkEuIl0sImdlb0xvY2F0aW9uRmFjZXRSZWNlbnRzIjpbIlB1ZXJ0byBSaWNvLCBVLlMuQS4iXSwicGFnZSI6MSwibGltaXQiOjI1LCJvZmZzZXQiOjAsInNvcnQiOiIiLCJzb3J0VHlwZSI6IiIsImNsZWFyUGFyYW1zIjpmYWxzZSwia2V5d29yZCI6IiIsInBhZ2VUaXRsZSI6Imw6UHVlcnRvIFJpY28sIFUuUy5BLiIsInByYWN0aWNlQXJlYXMiOlsiUGVuc2lvbiBhbmQgUHJvZml0IFNoYXJpbmcgUGxhbnMiXX0%3D\n"
     ]
    },
    {
     "name": "stderr",
     "output_type": "stream",
     "text": [
      " 69%|██████▉   | 147/213 [1:03:05<26:54, 24.46s/it]"
     ]
    },
    {
     "name": "stdout",
     "output_type": "stream",
     "text": [
      "paginas en esta url: 1\n",
      "accediendo a: https://www.martindale.com/search/attorneys-law-firms-articles/?term=Puerto+Rico%2C+USA&params=eyJ0eXBlIjoicGVvcGxlIiwiY29tcGFyZSI6IiIsInRlcm0iOiJQdWVydG8gUmljbywgVVNBIiwiZ2VvTG9jYXRpb25GYWNldCI6WyJQdWVydG8gUmljbywgVS5TLkEuIl0sImdlb0xvY2F0aW9uRmFjZXRSZWNlbnRzIjpbIlB1ZXJ0byBSaWNvLCBVLlMuQS4iXSwicGFnZSI6MSwibGltaXQiOjI1LCJvZmZzZXQiOjAsInNvcnQiOiIiLCJzb3J0VHlwZSI6IiIsImNsZWFyUGFyYW1zIjpmYWxzZSwia2V5d29yZCI6IiIsInBhZ2VUaXRsZSI6Imw6UHVlcnRvIFJpY28sIFUuUy5BLiIsInByYWN0aWNlQXJlYXMiOlsiTWVkaWNhcmUgYW5kIE1lZGljYWlkIl19\n"
     ]
    },
    {
     "name": "stderr",
     "output_type": "stream",
     "text": [
      " 69%|██████▉   | 148/213 [1:03:29<26:31, 24.48s/it]"
     ]
    },
    {
     "name": "stdout",
     "output_type": "stream",
     "text": [
      "paginas en esta url: 1\n",
      "accediendo a: https://www.martindale.com/search/attorneys-law-firms-articles/?term=Puerto+Rico%2C+USA&params=eyJ0eXBlIjoicGVvcGxlIiwiY29tcGFyZSI6IiIsInRlcm0iOiJQdWVydG8gUmljbywgVVNBIiwiZ2VvTG9jYXRpb25GYWNldCI6WyJQdWVydG8gUmljbywgVS5TLkEuIl0sImdlb0xvY2F0aW9uRmFjZXRSZWNlbnRzIjpbIlB1ZXJ0byBSaWNvLCBVLlMuQS4iXSwicGFnZSI6MSwibGltaXQiOjI1LCJvZmZzZXQiOjAsInNvcnQiOiIiLCJzb3J0VHlwZSI6IiIsImNsZWFyUGFyYW1zIjpmYWxzZSwia2V5d29yZCI6IiIsInBhZ2VUaXRsZSI6Imw6UHVlcnRvIFJpY28sIFUuUy5BLiIsInByYWN0aWNlQXJlYXMiOlsiUG93ZXJzIG9mIEF0dG9ybmV5Il19\n"
     ]
    },
    {
     "name": "stderr",
     "output_type": "stream",
     "text": [
      " 70%|██████▉   | 149/213 [1:03:52<25:27, 23.86s/it]"
     ]
    },
    {
     "name": "stdout",
     "output_type": "stream",
     "text": [
      "paginas en esta url: 1\n",
      "accediendo a: https://www.martindale.com/search/attorneys-law-firms-articles/?term=Puerto+Rico%2C+USA&params=eyJ0eXBlIjoicGVvcGxlIiwiY29tcGFyZSI6IiIsInRlcm0iOiJQdWVydG8gUmljbywgVVNBIiwiZ2VvTG9jYXRpb25GYWNldCI6WyJQdWVydG8gUmljbywgVS5TLkEuIl0sImdlb0xvY2F0aW9uRmFjZXRSZWNlbnRzIjpbIlB1ZXJ0byBSaWNvLCBVLlMuQS4iXSwicGFnZSI6MSwibGltaXQiOjI1LCJvZmZzZXQiOjAsInNvcnQiOiIiLCJzb3J0VHlwZSI6IiIsImNsZWFyUGFyYW1zIjpmYWxzZSwia2V5d29yZCI6IiIsInBhZ2VUaXRsZSI6Imw6UHVlcnRvIFJpY28sIFUuUy5BLiIsInByYWN0aWNlQXJlYXMiOlsiRmFtaWx5IEJ1c2luZXNzIExhdyJdfQ%3D%3D\n"
     ]
    },
    {
     "name": "stderr",
     "output_type": "stream",
     "text": [
      " 70%|███████   | 150/213 [1:04:16<25:02, 23.85s/it]"
     ]
    },
    {
     "name": "stdout",
     "output_type": "stream",
     "text": [
      "paginas en esta url: 1\n",
      "accediendo a: https://www.martindale.com/search/attorneys-law-firms-articles/?term=Puerto+Rico%2C+USA&params=eyJ0eXBlIjoicGVvcGxlIiwiY29tcGFyZSI6IiIsInRlcm0iOiJQdWVydG8gUmljbywgVVNBIiwiZ2VvTG9jYXRpb25GYWNldCI6WyJQdWVydG8gUmljbywgVS5TLkEuIl0sImdlb0xvY2F0aW9uRmFjZXRSZWNlbnRzIjpbIlB1ZXJ0byBSaWNvLCBVLlMuQS4iXSwicGFnZSI6MSwibGltaXQiOjI1LCJvZmZzZXQiOjAsInNvcnQiOiIiLCJzb3J0VHlwZSI6IiIsImNsZWFyUGFyYW1zIjpmYWxzZSwia2V5d29yZCI6IiIsInBhZ2VUaXRsZSI6Imw6UHVlcnRvIFJpY28sIFUuUy5BLiIsInByYWN0aWNlQXJlYXMiOlsiTWlzZGVtZWFub3JzIl19\n"
     ]
    },
    {
     "name": "stderr",
     "output_type": "stream",
     "text": [
      " 71%|███████   | 151/213 [1:04:39<24:25, 23.63s/it]"
     ]
    },
    {
     "name": "stdout",
     "output_type": "stream",
     "text": [
      "paginas en esta url: 1\n",
      "accediendo a: https://www.martindale.com/search/attorneys-law-firms-articles/?term=Puerto+Rico%2C+USA&params=eyJ0eXBlIjoicGVvcGxlIiwiY29tcGFyZSI6IiIsInRlcm0iOiJQdWVydG8gUmljbywgVVNBIiwiZ2VvTG9jYXRpb25GYWNldCI6WyJQdWVydG8gUmljbywgVS5TLkEuIl0sImdlb0xvY2F0aW9uRmFjZXRSZWNlbnRzIjpbIlB1ZXJ0byBSaWNvLCBVLlMuQS4iXSwicGFnZSI6MSwibGltaXQiOjI1LCJvZmZzZXQiOjAsInNvcnQiOiIiLCJzb3J0VHlwZSI6IiIsImNsZWFyUGFyYW1zIjpmYWxzZSwia2V5d29yZCI6IiIsInBhZ2VUaXRsZSI6Imw6UHVlcnRvIFJpY28sIFUuUy5BLiIsInByYWN0aWNlQXJlYXMiOlsiSG9tZW93bmVycyBBc3NvY2lhdGlvbiBMYXciXX0%3D\n"
     ]
    },
    {
     "name": "stderr",
     "output_type": "stream",
     "text": [
      " 71%|███████▏  | 152/213 [1:05:03<24:22, 23.98s/it]"
     ]
    },
    {
     "name": "stdout",
     "output_type": "stream",
     "text": [
      "paginas en esta url: 1\n",
      "accediendo a: https://www.martindale.com/search/attorneys-law-firms-articles/?term=Puerto+Rico%2C+USA&params=eyJ0eXBlIjoicGVvcGxlIiwiY29tcGFyZSI6IiIsInRlcm0iOiJQdWVydG8gUmljbywgVVNBIiwiZ2VvTG9jYXRpb25GYWNldCI6WyJQdWVydG8gUmljbywgVS5TLkEuIl0sImdlb0xvY2F0aW9uRmFjZXRSZWNlbnRzIjpbIlB1ZXJ0byBSaWNvLCBVLlMuQS4iXSwicGFnZSI6MSwibGltaXQiOjI1LCJvZmZzZXQiOjAsInNvcnQiOiIiLCJzb3J0VHlwZSI6IiIsImNsZWFyUGFyYW1zIjpmYWxzZSwia2V5d29yZCI6IiIsInBhZ2VUaXRsZSI6Imw6UHVlcnRvIFJpY28sIFUuUy5BLiIsInByYWN0aWNlQXJlYXMiOlsiQ2hpbGQgU3VwcG9ydCJdfQ%3D%3D\n"
     ]
    },
    {
     "name": "stderr",
     "output_type": "stream",
     "text": [
      " 72%|███████▏  | 153/213 [1:05:28<24:00, 24.02s/it]"
     ]
    },
    {
     "name": "stdout",
     "output_type": "stream",
     "text": [
      "paginas en esta url: 1\n",
      "accediendo a: https://www.martindale.com/search/attorneys-law-firms-articles/?term=Puerto+Rico%2C+USA&params=eyJ0eXBlIjoicGVvcGxlIiwiY29tcGFyZSI6IiIsInRlcm0iOiJQdWVydG8gUmljbywgVVNBIiwiZ2VvTG9jYXRpb25GYWNldCI6WyJQdWVydG8gUmljbywgVS5TLkEuIl0sImdlb0xvY2F0aW9uRmFjZXRSZWNlbnRzIjpbIlB1ZXJ0byBSaWNvLCBVLlMuQS4iXSwicGFnZSI6MSwibGltaXQiOjI1LCJvZmZzZXQiOjAsInNvcnQiOiIiLCJzb3J0VHlwZSI6IiIsImNsZWFyUGFyYW1zIjpmYWxzZSwia2V5d29yZCI6IiIsInBhZ2VUaXRsZSI6Imw6UHVlcnRvIFJpY28sIFUuUy5BLiIsInByYWN0aWNlQXJlYXMiOlsiQ2FzaW5vcyBhbmQgR2FtYmxpbmciXX0%3D\n"
     ]
    },
    {
     "name": "stderr",
     "output_type": "stream",
     "text": [
      " 72%|███████▏  | 154/213 [1:05:52<23:48, 24.21s/it]"
     ]
    },
    {
     "name": "stdout",
     "output_type": "stream",
     "text": [
      "paginas en esta url: 9\n",
      "accediendo a: https://www.martindale.com/search/attorneys-law-firms-articles/?term=Puerto+Rico%2C+USA&params=eyJ0eXBlIjoicGVvcGxlIiwiY29tcGFyZSI6IiIsInRlcm0iOiJQdWVydG8gUmljbywgVVNBIiwiZ2VvTG9jYXRpb25GYWNldCI6WyJQdWVydG8gUmljbywgVS5TLkEuIl0sImdlb0xvY2F0aW9uRmFjZXRSZWNlbnRzIjpbIlB1ZXJ0byBSaWNvLCBVLlMuQS4iXSwicGFnZSI6MSwibGltaXQiOjI1LCJvZmZzZXQiOjAsInNvcnQiOiIiLCJzb3J0VHlwZSI6IiIsImNsZWFyUGFyYW1zIjpmYWxzZSwia2V5d29yZCI6IiIsInBhZ2VUaXRsZSI6Imw6UHVlcnRvIFJpY28sIFUuUy5BLiIsInByYWN0aWNlQXJlYXMiOlsiUGVyc29uYWwgSW5qdXJ5Il19\n",
      "https://www.martindale.com/organization/the-ledger-law-firm-1812805/newport-beach-california-2468534-f/?pa=282\n",
      "accediendo a: https://www.martindale.com/search/attorneys-law-firms-articles/?term=Puerto+Rico%2C+USA&params=eyJ0eXBlIjoicGVvcGxlIiwiY29tcGFyZSI6IiIsInRlcm0iOiJQdWVydG8gUmljbywgVVNBIiwiZ2VvTG9jYXRpb25GYWNldCI6WyJQdWVydG8gUmljbywgVS5TLkEuIl0sImdlb0xvY2F0aW9uRmFjZXRSZWNlbnRzIjpbIlB1ZXJ0byBSaWNvLCBVLlMuQS4iXSwicGFnZSI6MSwibGltaXQiOjI1LCJvZmZzZXQiOjAsInNvcnQiOiIiLCJzb3J0VHlwZSI6IiIsImNsZWFyUGFyYW1zIjpmYWxzZSwia2V5d29yZCI6IiIsInBhZ2VUaXRsZSI6Imw6UHVlcnRvIFJpY28sIFUuUy5BLiIsInByYWN0aWNlQXJlYXMiOlsiUGVyc29uYWwgSW5qdXJ5Il19&page=2\n",
      "https://www.martindale.com/attorney/jose-e-fernandez-sein-1573517/\n",
      "accediendo a: https://www.martindale.com/search/attorneys-law-firms-articles/?term=Puerto+Rico%2C+USA&params=eyJ0eXBlIjoicGVvcGxlIiwiY29tcGFyZSI6IiIsInRlcm0iOiJQdWVydG8gUmljbywgVVNBIiwiZ2VvTG9jYXRpb25GYWNldCI6WyJQdWVydG8gUmljbywgVS5TLkEuIl0sImdlb0xvY2F0aW9uRmFjZXRSZWNlbnRzIjpbIlB1ZXJ0byBSaWNvLCBVLlMuQS4iXSwicGFnZSI6MSwibGltaXQiOjI1LCJvZmZzZXQiOjAsInNvcnQiOiIiLCJzb3J0VHlwZSI6IiIsImNsZWFyUGFyYW1zIjpmYWxzZSwia2V5d29yZCI6IiIsInBhZ2VUaXRsZSI6Imw6UHVlcnRvIFJpY28sIFUuUy5BLiIsInByYWN0aWNlQXJlYXMiOlsiUGVyc29uYWwgSW5qdXJ5Il19&page=3\n",
      "accediendo a: https://www.martindale.com/search/attorneys-law-firms-articles/?term=Puerto+Rico%2C+USA&params=eyJ0eXBlIjoicGVvcGxlIiwiY29tcGFyZSI6IiIsInRlcm0iOiJQdWVydG8gUmljbywgVVNBIiwiZ2VvTG9jYXRpb25GYWNldCI6WyJQdWVydG8gUmljbywgVS5TLkEuIl0sImdlb0xvY2F0aW9uRmFjZXRSZWNlbnRzIjpbIlB1ZXJ0byBSaWNvLCBVLlMuQS4iXSwicGFnZSI6MSwibGltaXQiOjI1LCJvZmZzZXQiOjAsInNvcnQiOiIiLCJzb3J0VHlwZSI6IiIsImNsZWFyUGFyYW1zIjpmYWxzZSwia2V5d29yZCI6IiIsInBhZ2VUaXRsZSI6Imw6UHVlcnRvIFJpY28sIFUuUy5BLiIsInByYWN0aWNlQXJlYXMiOlsiUGVyc29uYWwgSW5qdXJ5Il19&page=4\n",
      "accediendo a: https://www.martindale.com/search/attorneys-law-firms-articles/?term=Puerto+Rico%2C+USA&params=eyJ0eXBlIjoicGVvcGxlIiwiY29tcGFyZSI6IiIsInRlcm0iOiJQdWVydG8gUmljbywgVVNBIiwiZ2VvTG9jYXRpb25GYWNldCI6WyJQdWVydG8gUmljbywgVS5TLkEuIl0sImdlb0xvY2F0aW9uRmFjZXRSZWNlbnRzIjpbIlB1ZXJ0byBSaWNvLCBVLlMuQS4iXSwicGFnZSI6MSwibGltaXQiOjI1LCJvZmZzZXQiOjAsInNvcnQiOiIiLCJzb3J0VHlwZSI6IiIsImNsZWFyUGFyYW1zIjpmYWxzZSwia2V5d29yZCI6IiIsInBhZ2VUaXRsZSI6Imw6UHVlcnRvIFJpY28sIFUuUy5BLiIsInByYWN0aWNlQXJlYXMiOlsiUGVyc29uYWwgSW5qdXJ5Il19&page=5\n",
      "accediendo a: https://www.martindale.com/search/attorneys-law-firms-articles/?term=Puerto+Rico%2C+USA&params=eyJ0eXBlIjoicGVvcGxlIiwiY29tcGFyZSI6IiIsInRlcm0iOiJQdWVydG8gUmljbywgVVNBIiwiZ2VvTG9jYXRpb25GYWNldCI6WyJQdWVydG8gUmljbywgVS5TLkEuIl0sImdlb0xvY2F0aW9uRmFjZXRSZWNlbnRzIjpbIlB1ZXJ0byBSaWNvLCBVLlMuQS4iXSwicGFnZSI6MSwibGltaXQiOjI1LCJvZmZzZXQiOjAsInNvcnQiOiIiLCJzb3J0VHlwZSI6IiIsImNsZWFyUGFyYW1zIjpmYWxzZSwia2V5d29yZCI6IiIsInBhZ2VUaXRsZSI6Imw6UHVlcnRvIFJpY28sIFUuUy5BLiIsInByYWN0aWNlQXJlYXMiOlsiUGVyc29uYWwgSW5qdXJ5Il19&page=6\n",
      "https://www.martindale.com/attorney/henry-o-freese-souffront-1573320/\n",
      "accediendo a: https://www.martindale.com/search/attorneys-law-firms-articles/?term=Puerto+Rico%2C+USA&params=eyJ0eXBlIjoicGVvcGxlIiwiY29tcGFyZSI6IiIsInRlcm0iOiJQdWVydG8gUmljbywgVVNBIiwiZ2VvTG9jYXRpb25GYWNldCI6WyJQdWVydG8gUmljbywgVS5TLkEuIl0sImdlb0xvY2F0aW9uRmFjZXRSZWNlbnRzIjpbIlB1ZXJ0byBSaWNvLCBVLlMuQS4iXSwicGFnZSI6MSwibGltaXQiOjI1LCJvZmZzZXQiOjAsInNvcnQiOiIiLCJzb3J0VHlwZSI6IiIsImNsZWFyUGFyYW1zIjpmYWxzZSwia2V5d29yZCI6IiIsInBhZ2VUaXRsZSI6Imw6UHVlcnRvIFJpY28sIFUuUy5BLiIsInByYWN0aWNlQXJlYXMiOlsiUGVyc29uYWwgSW5qdXJ5Il19&page=7\n",
      "accediendo a: https://www.martindale.com/search/attorneys-law-firms-articles/?term=Puerto+Rico%2C+USA&params=eyJ0eXBlIjoicGVvcGxlIiwiY29tcGFyZSI6IiIsInRlcm0iOiJQdWVydG8gUmljbywgVVNBIiwiZ2VvTG9jYXRpb25GYWNldCI6WyJQdWVydG8gUmljbywgVS5TLkEuIl0sImdlb0xvY2F0aW9uRmFjZXRSZWNlbnRzIjpbIlB1ZXJ0byBSaWNvLCBVLlMuQS4iXSwicGFnZSI6MSwibGltaXQiOjI1LCJvZmZzZXQiOjAsInNvcnQiOiIiLCJzb3J0VHlwZSI6IiIsImNsZWFyUGFyYW1zIjpmYWxzZSwia2V5d29yZCI6IiIsInBhZ2VUaXRsZSI6Imw6UHVlcnRvIFJpY28sIFUuUy5BLiIsInByYWN0aWNlQXJlYXMiOlsiUGVyc29uYWwgSW5qdXJ5Il19&page=8\n",
      "https://www.martindale.com/attorney/mr-jose-angel-gutierrez-300755016/\n",
      "https://www.martindale.com/attorney/cristina-munoz-gandara-1573510/\n",
      "accediendo a: https://www.martindale.com/search/attorneys-law-firms-articles/?term=Puerto+Rico%2C+USA&params=eyJ0eXBlIjoicGVvcGxlIiwiY29tcGFyZSI6IiIsInRlcm0iOiJQdWVydG8gUmljbywgVVNBIiwiZ2VvTG9jYXRpb25GYWNldCI6WyJQdWVydG8gUmljbywgVS5TLkEuIl0sImdlb0xvY2F0aW9uRmFjZXRSZWNlbnRzIjpbIlB1ZXJ0byBSaWNvLCBVLlMuQS4iXSwicGFnZSI6MSwibGltaXQiOjI1LCJvZmZzZXQiOjAsInNvcnQiOiIiLCJzb3J0VHlwZSI6IiIsImNsZWFyUGFyYW1zIjpmYWxzZSwia2V5d29yZCI6IiIsInBhZ2VUaXRsZSI6Imw6UHVlcnRvIFJpY28sIFUuUy5BLiIsInByYWN0aWNlQXJlYXMiOlsiUGVyc29uYWwgSW5qdXJ5Il19&page=9\n",
      "https://www.martindale.com/attorney/diana-lynn-pagan-rosado-1571618/\n"
     ]
    },
    {
     "name": "stderr",
     "output_type": "stream",
     "text": [
      " 73%|███████▎  | 155/213 [1:06:15<22:52, 23.67s/it]"
     ]
    },
    {
     "name": "stdout",
     "output_type": "stream",
     "text": [
      "paginas en esta url: 1\n",
      "accediendo a: https://www.martindale.com/search/attorneys-law-firms-articles/?term=Puerto+Rico%2C+USA&params=eyJ0eXBlIjoicGVvcGxlIiwiY29tcGFyZSI6IiIsInRlcm0iOiJQdWVydG8gUmljbywgVVNBIiwiZ2VvTG9jYXRpb25GYWNldCI6WyJQdWVydG8gUmljbywgVS5TLkEuIl0sImdlb0xvY2F0aW9uRmFjZXRSZWNlbnRzIjpbIlB1ZXJ0byBSaWNvLCBVLlMuQS4iXSwicGFnZSI6MSwibGltaXQiOjI1LCJvZmZzZXQiOjAsInNvcnQiOiIiLCJzb3J0VHlwZSI6IiIsImNsZWFyUGFyYW1zIjpmYWxzZSwia2V5d29yZCI6IiIsInBhZ2VUaXRsZSI6Imw6UHVlcnRvIFJpY28sIFUuUy5BLiIsInByYWN0aWNlQXJlYXMiOlsiTGFuZGxvcmQgYW5kIFRlbmFudCBMYXciXX0%3D\n"
     ]
    },
    {
     "name": "stderr",
     "output_type": "stream",
     "text": [
      " 73%|███████▎  | 156/213 [1:06:39<22:40, 23.87s/it]"
     ]
    },
    {
     "name": "stdout",
     "output_type": "stream",
     "text": [
      "paginas en esta url: 1\n",
      "accediendo a: https://www.martindale.com/search/attorneys-law-firms-articles/?term=Puerto+Rico%2C+USA&params=eyJ0eXBlIjoicGVvcGxlIiwiY29tcGFyZSI6IiIsInRlcm0iOiJQdWVydG8gUmljbywgVVNBIiwiZ2VvTG9jYXRpb25GYWNldCI6WyJQdWVydG8gUmljbywgVS5TLkEuIl0sImdlb0xvY2F0aW9uRmFjZXRSZWNlbnRzIjpbIlB1ZXJ0byBSaWNvLCBVLlMuQS4iXSwicGFnZSI6MSwibGltaXQiOjI1LCJvZmZzZXQiOjAsInNvcnQiOiIiLCJzb3J0VHlwZSI6IiIsImNsZWFyUGFyYW1zIjpmYWxzZSwia2V5d29yZCI6IiIsInBhZ2VUaXRsZSI6Imw6UHVlcnRvIFJpY28sIFUuUy5BLiIsInByYWN0aWNlQXJlYXMiOlsiU21hbGwgQnVzaW5lc3MgTGF3Il19\n"
     ]
    },
    {
     "name": "stderr",
     "output_type": "stream",
     "text": [
      " 74%|███████▎  | 157/213 [1:07:04<22:38, 24.26s/it]"
     ]
    },
    {
     "name": "stdout",
     "output_type": "stream",
     "text": [
      "paginas en esta url: 11\n",
      "accediendo a: https://www.martindale.com/search/attorneys-law-firms-articles/?term=Puerto+Rico%2C+USA&params=eyJ0eXBlIjoicGVvcGxlIiwiY29tcGFyZSI6IiIsInRlcm0iOiJQdWVydG8gUmljbywgVVNBIiwiZ2VvTG9jYXRpb25GYWNldCI6WyJQdWVydG8gUmljbywgVS5TLkEuIl0sImdlb0xvY2F0aW9uRmFjZXRSZWNlbnRzIjpbIlB1ZXJ0byBSaWNvLCBVLlMuQS4iXSwicGFnZSI6MSwibGltaXQiOjI1LCJvZmZzZXQiOjAsInNvcnQiOiIiLCJzb3J0VHlwZSI6IiIsImNsZWFyUGFyYW1zIjpmYWxzZSwia2V5d29yZCI6IiIsInBhZ2VUaXRsZSI6Imw6UHVlcnRvIFJpY28sIFUuUy5BLiIsInByYWN0aWNlQXJlYXMiOlsiQmFua2luZyBMYXciXX0%3D\n",
      "accediendo a: https://www.martindale.com/search/attorneys-law-firms-articles/?term=Puerto+Rico%2C+USA&params=eyJ0eXBlIjoicGVvcGxlIiwiY29tcGFyZSI6IiIsInRlcm0iOiJQdWVydG8gUmljbywgVVNBIiwiZ2VvTG9jYXRpb25GYWNldCI6WyJQdWVydG8gUmljbywgVS5TLkEuIl0sImdlb0xvY2F0aW9uRmFjZXRSZWNlbnRzIjpbIlB1ZXJ0byBSaWNvLCBVLlMuQS4iXSwicGFnZSI6MSwibGltaXQiOjI1LCJvZmZzZXQiOjAsInNvcnQiOiIiLCJzb3J0VHlwZSI6IiIsImNsZWFyUGFyYW1zIjpmYWxzZSwia2V5d29yZCI6IiIsInBhZ2VUaXRsZSI6Imw6UHVlcnRvIFJpY28sIFUuUy5BLiIsInByYWN0aWNlQXJlYXMiOlsiQmFua2luZyBMYXciXX0%3D&page=2\n",
      "https://www.martindale.com/attorney/jorge-a-morales-1572861/\n",
      "https://www.martindale.com/attorney/edilberto-berrios-davila-1572406/\n",
      "accediendo a: https://www.martindale.com/search/attorneys-law-firms-articles/?term=Puerto+Rico%2C+USA&params=eyJ0eXBlIjoicGVvcGxlIiwiY29tcGFyZSI6IiIsInRlcm0iOiJQdWVydG8gUmljbywgVVNBIiwiZ2VvTG9jYXRpb25GYWNldCI6WyJQdWVydG8gUmljbywgVS5TLkEuIl0sImdlb0xvY2F0aW9uRmFjZXRSZWNlbnRzIjpbIlB1ZXJ0byBSaWNvLCBVLlMuQS4iXSwicGFnZSI6MSwibGltaXQiOjI1LCJvZmZzZXQiOjAsInNvcnQiOiIiLCJzb3J0VHlwZSI6IiIsImNsZWFyUGFyYW1zIjpmYWxzZSwia2V5d29yZCI6IiIsInBhZ2VUaXRsZSI6Imw6UHVlcnRvIFJpY28sIFUuUy5BLiIsInByYWN0aWNlQXJlYXMiOlsiQmFua2luZyBMYXciXX0%3D&page=3\n",
      "accediendo a: https://www.martindale.com/search/attorneys-law-firms-articles/?term=Puerto+Rico%2C+USA&params=eyJ0eXBlIjoicGVvcGxlIiwiY29tcGFyZSI6IiIsInRlcm0iOiJQdWVydG8gUmljbywgVVNBIiwiZ2VvTG9jYXRpb25GYWNldCI6WyJQdWVydG8gUmljbywgVS5TLkEuIl0sImdlb0xvY2F0aW9uRmFjZXRSZWNlbnRzIjpbIlB1ZXJ0byBSaWNvLCBVLlMuQS4iXSwicGFnZSI6MSwibGltaXQiOjI1LCJvZmZzZXQiOjAsInNvcnQiOiIiLCJzb3J0VHlwZSI6IiIsImNsZWFyUGFyYW1zIjpmYWxzZSwia2V5d29yZCI6IiIsInBhZ2VUaXRsZSI6Imw6UHVlcnRvIFJpY28sIFUuUy5BLiIsInByYWN0aWNlQXJlYXMiOlsiQmFua2luZyBMYXciXX0%3D&page=4\n",
      "accediendo a: https://www.martindale.com/search/attorneys-law-firms-articles/?term=Puerto+Rico%2C+USA&params=eyJ0eXBlIjoicGVvcGxlIiwiY29tcGFyZSI6IiIsInRlcm0iOiJQdWVydG8gUmljbywgVVNBIiwiZ2VvTG9jYXRpb25GYWNldCI6WyJQdWVydG8gUmljbywgVS5TLkEuIl0sImdlb0xvY2F0aW9uRmFjZXRSZWNlbnRzIjpbIlB1ZXJ0byBSaWNvLCBVLlMuQS4iXSwicGFnZSI6MSwibGltaXQiOjI1LCJvZmZzZXQiOjAsInNvcnQiOiIiLCJzb3J0VHlwZSI6IiIsImNsZWFyUGFyYW1zIjpmYWxzZSwia2V5d29yZCI6IiIsInBhZ2VUaXRsZSI6Imw6UHVlcnRvIFJpY28sIFUuUy5BLiIsInByYWN0aWNlQXJlYXMiOlsiQmFua2luZyBMYXciXX0%3D&page=5\n",
      "https://www.martindale.com/attorney/heather-lea-colon-2439922/\n",
      "accediendo a: https://www.martindale.com/search/attorneys-law-firms-articles/?term=Puerto+Rico%2C+USA&params=eyJ0eXBlIjoicGVvcGxlIiwiY29tcGFyZSI6IiIsInRlcm0iOiJQdWVydG8gUmljbywgVVNBIiwiZ2VvTG9jYXRpb25GYWNldCI6WyJQdWVydG8gUmljbywgVS5TLkEuIl0sImdlb0xvY2F0aW9uRmFjZXRSZWNlbnRzIjpbIlB1ZXJ0byBSaWNvLCBVLlMuQS4iXSwicGFnZSI6MSwibGltaXQiOjI1LCJvZmZzZXQiOjAsInNvcnQiOiIiLCJzb3J0VHlwZSI6IiIsImNsZWFyUGFyYW1zIjpmYWxzZSwia2V5d29yZCI6IiIsInBhZ2VUaXRsZSI6Imw6UHVlcnRvIFJpY28sIFUuUy5BLiIsInByYWN0aWNlQXJlYXMiOlsiQmFua2luZyBMYXciXX0%3D&page=6\n",
      "accediendo a: https://www.martindale.com/search/attorneys-law-firms-articles/?term=Puerto+Rico%2C+USA&params=eyJ0eXBlIjoicGVvcGxlIiwiY29tcGFyZSI6IiIsInRlcm0iOiJQdWVydG8gUmljbywgVVNBIiwiZ2VvTG9jYXRpb25GYWNldCI6WyJQdWVydG8gUmljbywgVS5TLkEuIl0sImdlb0xvY2F0aW9uRmFjZXRSZWNlbnRzIjpbIlB1ZXJ0byBSaWNvLCBVLlMuQS4iXSwicGFnZSI6MSwibGltaXQiOjI1LCJvZmZzZXQiOjAsInNvcnQiOiIiLCJzb3J0VHlwZSI6IiIsImNsZWFyUGFyYW1zIjpmYWxzZSwia2V5d29yZCI6IiIsInBhZ2VUaXRsZSI6Imw6UHVlcnRvIFJpY28sIFUuUy5BLiIsInByYWN0aWNlQXJlYXMiOlsiQmFua2luZyBMYXciXX0%3D&page=7\n",
      "accediendo a: https://www.martindale.com/search/attorneys-law-firms-articles/?term=Puerto+Rico%2C+USA&params=eyJ0eXBlIjoicGVvcGxlIiwiY29tcGFyZSI6IiIsInRlcm0iOiJQdWVydG8gUmljbywgVVNBIiwiZ2VvTG9jYXRpb25GYWNldCI6WyJQdWVydG8gUmljbywgVS5TLkEuIl0sImdlb0xvY2F0aW9uRmFjZXRSZWNlbnRzIjpbIlB1ZXJ0byBSaWNvLCBVLlMuQS4iXSwicGFnZSI6MSwibGltaXQiOjI1LCJvZmZzZXQiOjAsInNvcnQiOiIiLCJzb3J0VHlwZSI6IiIsImNsZWFyUGFyYW1zIjpmYWxzZSwia2V5d29yZCI6IiIsInBhZ2VUaXRsZSI6Imw6UHVlcnRvIFJpY28sIFUuUy5BLiIsInByYWN0aWNlQXJlYXMiOlsiQmFua2luZyBMYXciXX0%3D&page=8\n",
      "accediendo a: https://www.martindale.com/search/attorneys-law-firms-articles/?term=Puerto+Rico%2C+USA&params=eyJ0eXBlIjoicGVvcGxlIiwiY29tcGFyZSI6IiIsInRlcm0iOiJQdWVydG8gUmljbywgVVNBIiwiZ2VvTG9jYXRpb25GYWNldCI6WyJQdWVydG8gUmljbywgVS5TLkEuIl0sImdlb0xvY2F0aW9uRmFjZXRSZWNlbnRzIjpbIlB1ZXJ0byBSaWNvLCBVLlMuQS4iXSwicGFnZSI6MSwibGltaXQiOjI1LCJvZmZzZXQiOjAsInNvcnQiOiIiLCJzb3J0VHlwZSI6IiIsImNsZWFyUGFyYW1zIjpmYWxzZSwia2V5d29yZCI6IiIsInBhZ2VUaXRsZSI6Imw6UHVlcnRvIFJpY28sIFUuUy5BLiIsInByYWN0aWNlQXJlYXMiOlsiQmFua2luZyBMYXciXX0%3D&page=9\n",
      "accediendo a: https://www.martindale.com/search/attorneys-law-firms-articles/?term=Puerto+Rico%2C+USA&params=eyJ0eXBlIjoicGVvcGxlIiwiY29tcGFyZSI6IiIsInRlcm0iOiJQdWVydG8gUmljbywgVVNBIiwiZ2VvTG9jYXRpb25GYWNldCI6WyJQdWVydG8gUmljbywgVS5TLkEuIl0sImdlb0xvY2F0aW9uRmFjZXRSZWNlbnRzIjpbIlB1ZXJ0byBSaWNvLCBVLlMuQS4iXSwicGFnZSI6MSwibGltaXQiOjI1LCJvZmZzZXQiOjAsInNvcnQiOiIiLCJzb3J0VHlwZSI6IiIsImNsZWFyUGFyYW1zIjpmYWxzZSwia2V5d29yZCI6IiIsInBhZ2VUaXRsZSI6Imw6UHVlcnRvIFJpY28sIFUuUy5BLiIsInByYWN0aWNlQXJlYXMiOlsiQmFua2luZyBMYXciXX0%3D&page=10\n",
      "accediendo a: https://www.martindale.com/search/attorneys-law-firms-articles/?term=Puerto+Rico%2C+USA&params=eyJ0eXBlIjoicGVvcGxlIiwiY29tcGFyZSI6IiIsInRlcm0iOiJQdWVydG8gUmljbywgVVNBIiwiZ2VvTG9jYXRpb25GYWNldCI6WyJQdWVydG8gUmljbywgVS5TLkEuIl0sImdlb0xvY2F0aW9uRmFjZXRSZWNlbnRzIjpbIlB1ZXJ0byBSaWNvLCBVLlMuQS4iXSwicGFnZSI6MSwibGltaXQiOjI1LCJvZmZzZXQiOjAsInNvcnQiOiIiLCJzb3J0VHlwZSI6IiIsImNsZWFyUGFyYW1zIjpmYWxzZSwia2V5d29yZCI6IiIsInBhZ2VUaXRsZSI6Imw6UHVlcnRvIFJpY28sIFUuUy5BLiIsInByYWN0aWNlQXJlYXMiOlsiQmFua2luZyBMYXciXX0%3D&page=11\n"
     ]
    },
    {
     "name": "stderr",
     "output_type": "stream",
     "text": [
      " 74%|███████▍  | 158/213 [1:07:32<23:09, 25.26s/it]"
     ]
    },
    {
     "name": "stdout",
     "output_type": "stream",
     "text": [
      "paginas en esta url: 1\n",
      "accediendo a: https://www.martindale.com/search/attorneys-law-firms-articles/?term=Puerto+Rico%2C+USA&params=eyJ0eXBlIjoicGVvcGxlIiwiY29tcGFyZSI6IiIsInRlcm0iOiJQdWVydG8gUmljbywgVVNBIiwiZ2VvTG9jYXRpb25GYWNldCI6WyJQdWVydG8gUmljbywgVS5TLkEuIl0sImdlb0xvY2F0aW9uRmFjZXRSZWNlbnRzIjpbIlB1ZXJ0byBSaWNvLCBVLlMuQS4iXSwicGFnZSI6MSwibGltaXQiOjI1LCJvZmZzZXQiOjAsInNvcnQiOiIiLCJzb3J0VHlwZSI6IiIsImNsZWFyUGFyYW1zIjpmYWxzZSwia2V5d29yZCI6IiIsInBhZ2VUaXRsZSI6Imw6UHVlcnRvIFJpY28sIFUuUy5BLiIsInByYWN0aWNlQXJlYXMiOlsiR292ZXJubWVudCBQcm9jdXJlbWVudCJdfQ%3D%3D\n"
     ]
    },
    {
     "name": "stderr",
     "output_type": "stream",
     "text": [
      " 75%|███████▍  | 159/213 [1:07:55<22:18, 24.80s/it]"
     ]
    },
    {
     "name": "stdout",
     "output_type": "stream",
     "text": [
      "paginas en esta url: 1\n",
      "accediendo a: https://www.martindale.com/search/attorneys-law-firms-articles/?term=Puerto+Rico%2C+USA&params=eyJ0eXBlIjoicGVvcGxlIiwiY29tcGFyZSI6IiIsInRlcm0iOiJQdWVydG8gUmljbywgVVNBIiwiZ2VvTG9jYXRpb25GYWNldCI6WyJQdWVydG8gUmljbywgVS5TLkEuIl0sImdlb0xvY2F0aW9uRmFjZXRSZWNlbnRzIjpbIlB1ZXJ0byBSaWNvLCBVLlMuQS4iXSwicGFnZSI6MSwibGltaXQiOjI1LCJvZmZzZXQiOjAsInNvcnQiOiIiLCJzb3J0VHlwZSI6IiIsImNsZWFyUGFyYW1zIjpmYWxzZSwia2V5d29yZCI6IiIsInBhZ2VUaXRsZSI6Imw6UHVlcnRvIFJpY28sIFUuUy5BLiIsInByYWN0aWNlQXJlYXMiOlsiQXV0b21vYmlsZSBJbnN1cmFuY2UiXX0%3D\n"
     ]
    },
    {
     "name": "stderr",
     "output_type": "stream",
     "text": [
      " 75%|███████▌  | 160/213 [1:08:19<21:31, 24.37s/it]"
     ]
    },
    {
     "name": "stdout",
     "output_type": "stream",
     "text": [
      "paginas en esta url: 1\n",
      "accediendo a: https://www.martindale.com/search/attorneys-law-firms-articles/?term=Puerto+Rico%2C+USA&params=eyJ0eXBlIjoicGVvcGxlIiwiY29tcGFyZSI6IiIsInRlcm0iOiJQdWVydG8gUmljbywgVVNBIiwiZ2VvTG9jYXRpb25GYWNldCI6WyJQdWVydG8gUmljbywgVS5TLkEuIl0sImdlb0xvY2F0aW9uRmFjZXRSZWNlbnRzIjpbIlB1ZXJ0byBSaWNvLCBVLlMuQS4iXSwicGFnZSI6MSwibGltaXQiOjI1LCJvZmZzZXQiOjAsInNvcnQiOiIiLCJzb3J0VHlwZSI6IiIsImNsZWFyUGFyYW1zIjpmYWxzZSwia2V5d29yZCI6IiIsInBhZ2VUaXRsZSI6Imw6UHVlcnRvIFJpY28sIFUuUy5BLiIsInByYWN0aWNlQXJlYXMiOlsiUHJvZmVzc2lvbmFsIExpYWJpbGl0eSJdfQ%3D%3D\n"
     ]
    },
    {
     "name": "stderr",
     "output_type": "stream",
     "text": [
      " 76%|███████▌  | 161/213 [1:08:43<21:07, 24.37s/it]"
     ]
    },
    {
     "name": "stdout",
     "output_type": "stream",
     "text": [
      "paginas en esta url: 1\n",
      "accediendo a: https://www.martindale.com/search/attorneys-law-firms-articles/?term=Puerto+Rico%2C+USA&params=eyJ0eXBlIjoicGVvcGxlIiwiY29tcGFyZSI6IiIsInRlcm0iOiJQdWVydG8gUmljbywgVVNBIiwiZ2VvTG9jYXRpb25GYWNldCI6WyJQdWVydG8gUmljbywgVS5TLkEuIl0sImdlb0xvY2F0aW9uRmFjZXRSZWNlbnRzIjpbIlB1ZXJ0byBSaWNvLCBVLlMuQS4iXSwicGFnZSI6MSwibGltaXQiOjI1LCJvZmZzZXQiOjAsInNvcnQiOiIiLCJzb3J0VHlwZSI6IiIsImNsZWFyUGFyYW1zIjpmYWxzZSwia2V5d29yZCI6IiIsInBhZ2VUaXRsZSI6Imw6UHVlcnRvIFJpY28sIFUuUy5BLiIsInByYWN0aWNlQXJlYXMiOlsiVHJhbnNwb3J0YXRpb24iXX0%3D\n"
     ]
    },
    {
     "name": "stderr",
     "output_type": "stream",
     "text": [
      " 76%|███████▌  | 162/213 [1:09:08<20:53, 24.57s/it]"
     ]
    },
    {
     "name": "stdout",
     "output_type": "stream",
     "text": [
      "paginas en esta url: 3\n",
      "accediendo a: https://www.martindale.com/search/attorneys-law-firms-articles/?term=Puerto+Rico%2C+USA&params=eyJ0eXBlIjoicGVvcGxlIiwiY29tcGFyZSI6IiIsInRlcm0iOiJQdWVydG8gUmljbywgVVNBIiwiZ2VvTG9jYXRpb25GYWNldCI6WyJQdWVydG8gUmljbywgVS5TLkEuIl0sImdlb0xvY2F0aW9uRmFjZXRSZWNlbnRzIjpbIlB1ZXJ0byBSaWNvLCBVLlMuQS4iXSwicGFnZSI6MSwibGltaXQiOjI1LCJvZmZzZXQiOjAsInNvcnQiOiIiLCJzb3J0VHlwZSI6IiIsImNsZWFyUGFyYW1zIjpmYWxzZSwia2V5d29yZCI6IiIsInBhZ2VUaXRsZSI6Imw6UHVlcnRvIFJpY28sIFUuUy5BLiIsInByYWN0aWNlQXJlYXMiOlsiQWdlbmN5IGFuZCBEaXN0cmlidXRvcnNoaXBzIl19\n",
      "accediendo a: https://www.martindale.com/search/attorneys-law-firms-articles/?term=Puerto+Rico%2C+USA&params=eyJ0eXBlIjoicGVvcGxlIiwiY29tcGFyZSI6IiIsInRlcm0iOiJQdWVydG8gUmljbywgVVNBIiwiZ2VvTG9jYXRpb25GYWNldCI6WyJQdWVydG8gUmljbywgVS5TLkEuIl0sImdlb0xvY2F0aW9uRmFjZXRSZWNlbnRzIjpbIlB1ZXJ0byBSaWNvLCBVLlMuQS4iXSwicGFnZSI6MSwibGltaXQiOjI1LCJvZmZzZXQiOjAsInNvcnQiOiIiLCJzb3J0VHlwZSI6IiIsImNsZWFyUGFyYW1zIjpmYWxzZSwia2V5d29yZCI6IiIsInBhZ2VUaXRsZSI6Imw6UHVlcnRvIFJpY28sIFUuUy5BLiIsInByYWN0aWNlQXJlYXMiOlsiQWdlbmN5IGFuZCBEaXN0cmlidXRvcnNoaXBzIl19&page=2\n",
      "accediendo a: https://www.martindale.com/search/attorneys-law-firms-articles/?term=Puerto+Rico%2C+USA&params=eyJ0eXBlIjoicGVvcGxlIiwiY29tcGFyZSI6IiIsInRlcm0iOiJQdWVydG8gUmljbywgVVNBIiwiZ2VvTG9jYXRpb25GYWNldCI6WyJQdWVydG8gUmljbywgVS5TLkEuIl0sImdlb0xvY2F0aW9uRmFjZXRSZWNlbnRzIjpbIlB1ZXJ0byBSaWNvLCBVLlMuQS4iXSwicGFnZSI6MSwibGltaXQiOjI1LCJvZmZzZXQiOjAsInNvcnQiOiIiLCJzb3J0VHlwZSI6IiIsImNsZWFyUGFyYW1zIjpmYWxzZSwia2V5d29yZCI6IiIsInBhZ2VUaXRsZSI6Imw6UHVlcnRvIFJpY28sIFUuUy5BLiIsInByYWN0aWNlQXJlYXMiOlsiQWdlbmN5IGFuZCBEaXN0cmlidXRvcnNoaXBzIl19&page=3\n"
     ]
    },
    {
     "name": "stderr",
     "output_type": "stream",
     "text": [
      " 77%|███████▋  | 163/213 [1:09:22<17:45, 21.31s/it]"
     ]
    },
    {
     "name": "stdout",
     "output_type": "stream",
     "text": [
      "paginas en esta url: 1\n",
      "accediendo a: https://www.martindale.com/search/attorneys-law-firms-articles/?term=Puerto+Rico%2C+USA&params=eyJ0eXBlIjoicGVvcGxlIiwiY29tcGFyZSI6IiIsInRlcm0iOiJQdWVydG8gUmljbywgVVNBIiwiZ2VvTG9jYXRpb25GYWNldCI6WyJQdWVydG8gUmljbywgVS5TLkEuIl0sImdlb0xvY2F0aW9uRmFjZXRSZWNlbnRzIjpbIlB1ZXJ0byBSaWNvLCBVLlMuQS4iXSwicGFnZSI6MSwibGltaXQiOjI1LCJvZmZzZXQiOjAsInNvcnQiOiIiLCJzb3J0VHlwZSI6IiIsImNsZWFyUGFyYW1zIjpmYWxzZSwia2V5d29yZCI6IiIsInBhZ2VUaXRsZSI6Imw6UHVlcnRvIFJpY28sIFUuUy5BLiIsInByYWN0aWNlQXJlYXMiOlsiU2VjdXJpdGllcyBGcmF1ZCJdfQ%3D%3D\n",
      "https://www.martindale.com/organization/oberheiden-p-c-158392689/dallas-texas-159868801-f/?pa=105\n"
     ]
    },
    {
     "name": "stderr",
     "output_type": "stream",
     "text": [
      " 77%|███████▋  | 164/213 [1:09:46<17:59, 22.04s/it]"
     ]
    },
    {
     "name": "stdout",
     "output_type": "stream",
     "text": [
      "paginas en esta url: 1\n",
      "accediendo a: https://www.martindale.com/search/attorneys-law-firms-articles/?term=Puerto+Rico%2C+USA&params=eyJ0eXBlIjoicGVvcGxlIiwiY29tcGFyZSI6IiIsInRlcm0iOiJQdWVydG8gUmljbywgVVNBIiwiZ2VvTG9jYXRpb25GYWNldCI6WyJQdWVydG8gUmljbywgVS5TLkEuIl0sImdlb0xvY2F0aW9uRmFjZXRSZWNlbnRzIjpbIlB1ZXJ0byBSaWNvLCBVLlMuQS4iXSwicGFnZSI6MSwibGltaXQiOjI1LCJvZmZzZXQiOjAsInNvcnQiOiIiLCJzb3J0VHlwZSI6IiIsImNsZWFyUGFyYW1zIjpmYWxzZSwia2V5d29yZCI6IiIsInBhZ2VUaXRsZSI6Imw6UHVlcnRvIFJpY28sIFUuUy5BLiIsInByYWN0aWNlQXJlYXMiOlsiQXNzYXVsdCJdfQ%3D%3D\n"
     ]
    },
    {
     "name": "stderr",
     "output_type": "stream",
     "text": [
      " 77%|███████▋  | 165/213 [1:10:11<18:21, 22.95s/it]"
     ]
    },
    {
     "name": "stdout",
     "output_type": "stream",
     "text": [
      "paginas en esta url: 1\n",
      "accediendo a: https://www.martindale.com/search/attorneys-law-firms-articles/?term=Puerto+Rico%2C+USA&params=eyJ0eXBlIjoicGVvcGxlIiwiY29tcGFyZSI6IiIsInRlcm0iOiJQdWVydG8gUmljbywgVVNBIiwiZ2VvTG9jYXRpb25GYWNldCI6WyJQdWVydG8gUmljbywgVS5TLkEuIl0sImdlb0xvY2F0aW9uRmFjZXRSZWNlbnRzIjpbIlB1ZXJ0byBSaWNvLCBVLlMuQS4iXSwicGFnZSI6MSwibGltaXQiOjI1LCJvZmZzZXQiOjAsInNvcnQiOiIiLCJzb3J0VHlwZSI6IiIsImNsZWFyUGFyYW1zIjpmYWxzZSwia2V5d29yZCI6IiIsInBhZ2VUaXRsZSI6Imw6UHVlcnRvIFJpY28sIFUuUy5BLiIsInByYWN0aWNlQXJlYXMiOlsiVGF4IFBsYW5uaW5nIl19\n"
     ]
    },
    {
     "name": "stderr",
     "output_type": "stream",
     "text": [
      " 78%|███████▊  | 166/213 [1:10:36<18:24, 23.50s/it]"
     ]
    },
    {
     "name": "stdout",
     "output_type": "stream",
     "text": [
      "paginas en esta url: 1\n",
      "accediendo a: https://www.martindale.com/search/attorneys-law-firms-articles/?term=Puerto+Rico%2C+USA&params=eyJ0eXBlIjoicGVvcGxlIiwiY29tcGFyZSI6IiIsInRlcm0iOiJQdWVydG8gUmljbywgVVNBIiwiZ2VvTG9jYXRpb25GYWNldCI6WyJQdWVydG8gUmljbywgVS5TLkEuIl0sImdlb0xvY2F0aW9uRmFjZXRSZWNlbnRzIjpbIlB1ZXJ0byBSaWNvLCBVLlMuQS4iXSwicGFnZSI6MSwibGltaXQiOjI1LCJvZmZzZXQiOjAsInNvcnQiOiIiLCJzb3J0VHlwZSI6IiIsImNsZWFyUGFyYW1zIjpmYWxzZSwia2V5d29yZCI6IiIsInBhZ2VUaXRsZSI6Imw6UHVlcnRvIFJpY28sIFUuUy5BLiIsInByYWN0aWNlQXJlYXMiOlsiQXN5bHVtIl19\n"
     ]
    },
    {
     "name": "stderr",
     "output_type": "stream",
     "text": [
      " 78%|███████▊  | 167/213 [1:10:59<18:02, 23.54s/it]"
     ]
    },
    {
     "name": "stdout",
     "output_type": "stream",
     "text": [
      "paginas en esta url: 7\n",
      "accediendo a: https://www.martindale.com/search/attorneys-law-firms-articles/?term=Puerto+Rico%2C+USA&params=eyJ0eXBlIjoicGVvcGxlIiwiY29tcGFyZSI6IiIsInRlcm0iOiJQdWVydG8gUmljbywgVVNBIiwiZ2VvTG9jYXRpb25GYWNldCI6WyJQdWVydG8gUmljbywgVS5TLkEuIl0sImdlb0xvY2F0aW9uRmFjZXRSZWNlbnRzIjpbIlB1ZXJ0byBSaWNvLCBVLlMuQS4iXSwicGFnZSI6MSwibGltaXQiOjI1LCJvZmZzZXQiOjAsInNvcnQiOiIiLCJzb3J0VHlwZSI6IiIsImNsZWFyUGFyYW1zIjpmYWxzZSwia2V5d29yZCI6IiIsInBhZ2VUaXRsZSI6Imw6UHVlcnRvIFJpY28sIFUuUy5BLiIsInByYWN0aWNlQXJlYXMiOlsiQXBwZWxsYXRlIFByYWN0aWNlIl19\n",
      "https://www.martindale.com/attorney/melissa-reyes-perez-1573545/\n",
      "accediendo a: https://www.martindale.com/search/attorneys-law-firms-articles/?term=Puerto+Rico%2C+USA&params=eyJ0eXBlIjoicGVvcGxlIiwiY29tcGFyZSI6IiIsInRlcm0iOiJQdWVydG8gUmljbywgVVNBIiwiZ2VvTG9jYXRpb25GYWNldCI6WyJQdWVydG8gUmljbywgVS5TLkEuIl0sImdlb0xvY2F0aW9uRmFjZXRSZWNlbnRzIjpbIlB1ZXJ0byBSaWNvLCBVLlMuQS4iXSwicGFnZSI6MSwibGltaXQiOjI1LCJvZmZzZXQiOjAsInNvcnQiOiIiLCJzb3J0VHlwZSI6IiIsImNsZWFyUGFyYW1zIjpmYWxzZSwia2V5d29yZCI6IiIsInBhZ2VUaXRsZSI6Imw6UHVlcnRvIFJpY28sIFUuUy5BLiIsInByYWN0aWNlQXJlYXMiOlsiQXBwZWxsYXRlIFByYWN0aWNlIl19&page=2\n",
      "accediendo a: https://www.martindale.com/search/attorneys-law-firms-articles/?term=Puerto+Rico%2C+USA&params=eyJ0eXBlIjoicGVvcGxlIiwiY29tcGFyZSI6IiIsInRlcm0iOiJQdWVydG8gUmljbywgVVNBIiwiZ2VvTG9jYXRpb25GYWNldCI6WyJQdWVydG8gUmljbywgVS5TLkEuIl0sImdlb0xvY2F0aW9uRmFjZXRSZWNlbnRzIjpbIlB1ZXJ0byBSaWNvLCBVLlMuQS4iXSwicGFnZSI6MSwibGltaXQiOjI1LCJvZmZzZXQiOjAsInNvcnQiOiIiLCJzb3J0VHlwZSI6IiIsImNsZWFyUGFyYW1zIjpmYWxzZSwia2V5d29yZCI6IiIsInBhZ2VUaXRsZSI6Imw6UHVlcnRvIFJpY28sIFUuUy5BLiIsInByYWN0aWNlQXJlYXMiOlsiQXBwZWxsYXRlIFByYWN0aWNlIl19&page=3\n",
      "https://www.martindale.com/attorney/bethzaida-jordan-ramirez-4954699/\n",
      "accediendo a: https://www.martindale.com/search/attorneys-law-firms-articles/?term=Puerto+Rico%2C+USA&params=eyJ0eXBlIjoicGVvcGxlIiwiY29tcGFyZSI6IiIsInRlcm0iOiJQdWVydG8gUmljbywgVVNBIiwiZ2VvTG9jYXRpb25GYWNldCI6WyJQdWVydG8gUmljbywgVS5TLkEuIl0sImdlb0xvY2F0aW9uRmFjZXRSZWNlbnRzIjpbIlB1ZXJ0byBSaWNvLCBVLlMuQS4iXSwicGFnZSI6MSwibGltaXQiOjI1LCJvZmZzZXQiOjAsInNvcnQiOiIiLCJzb3J0VHlwZSI6IiIsImNsZWFyUGFyYW1zIjpmYWxzZSwia2V5d29yZCI6IiIsInBhZ2VUaXRsZSI6Imw6UHVlcnRvIFJpY28sIFUuUy5BLiIsInByYWN0aWNlQXJlYXMiOlsiQXBwZWxsYXRlIFByYWN0aWNlIl19&page=4\n",
      "https://www.martindale.com/attorney/seth-erbe-3115070/\n",
      "https://www.martindale.com/attorney/fabian-rodriguez-torres-157265004/\n",
      "accediendo a: https://www.martindale.com/search/attorneys-law-firms-articles/?term=Puerto+Rico%2C+USA&params=eyJ0eXBlIjoicGVvcGxlIiwiY29tcGFyZSI6IiIsInRlcm0iOiJQdWVydG8gUmljbywgVVNBIiwiZ2VvTG9jYXRpb25GYWNldCI6WyJQdWVydG8gUmljbywgVS5TLkEuIl0sImdlb0xvY2F0aW9uRmFjZXRSZWNlbnRzIjpbIlB1ZXJ0byBSaWNvLCBVLlMuQS4iXSwicGFnZSI6MSwibGltaXQiOjI1LCJvZmZzZXQiOjAsInNvcnQiOiIiLCJzb3J0VHlwZSI6IiIsImNsZWFyUGFyYW1zIjpmYWxzZSwia2V5d29yZCI6IiIsInBhZ2VUaXRsZSI6Imw6UHVlcnRvIFJpY28sIFUuUy5BLiIsInByYWN0aWNlQXJlYXMiOlsiQXBwZWxsYXRlIFByYWN0aWNlIl19&page=5\n",
      "accediendo a: https://www.martindale.com/search/attorneys-law-firms-articles/?term=Puerto+Rico%2C+USA&params=eyJ0eXBlIjoicGVvcGxlIiwiY29tcGFyZSI6IiIsInRlcm0iOiJQdWVydG8gUmljbywgVVNBIiwiZ2VvTG9jYXRpb25GYWNldCI6WyJQdWVydG8gUmljbywgVS5TLkEuIl0sImdlb0xvY2F0aW9uRmFjZXRSZWNlbnRzIjpbIlB1ZXJ0byBSaWNvLCBVLlMuQS4iXSwicGFnZSI6MSwibGltaXQiOjI1LCJvZmZzZXQiOjAsInNvcnQiOiIiLCJzb3J0VHlwZSI6IiIsImNsZWFyUGFyYW1zIjpmYWxzZSwia2V5d29yZCI6IiIsInBhZ2VUaXRsZSI6Imw6UHVlcnRvIFJpY28sIFUuUy5BLiIsInByYWN0aWNlQXJlYXMiOlsiQXBwZWxsYXRlIFByYWN0aWNlIl19&page=6\n",
      "accediendo a: https://www.martindale.com/search/attorneys-law-firms-articles/?term=Puerto+Rico%2C+USA&params=eyJ0eXBlIjoicGVvcGxlIiwiY29tcGFyZSI6IiIsInRlcm0iOiJQdWVydG8gUmljbywgVVNBIiwiZ2VvTG9jYXRpb25GYWNldCI6WyJQdWVydG8gUmljbywgVS5TLkEuIl0sImdlb0xvY2F0aW9uRmFjZXRSZWNlbnRzIjpbIlB1ZXJ0byBSaWNvLCBVLlMuQS4iXSwicGFnZSI6MSwibGltaXQiOjI1LCJvZmZzZXQiOjAsInNvcnQiOiIiLCJzb3J0VHlwZSI6IiIsImNsZWFyUGFyYW1zIjpmYWxzZSwia2V5d29yZCI6IiIsInBhZ2VUaXRsZSI6Imw6UHVlcnRvIFJpY28sIFUuUy5BLiIsInByYWN0aWNlQXJlYXMiOlsiQXBwZWxsYXRlIFByYWN0aWNlIl19&page=7\n"
     ]
    },
    {
     "name": "stderr",
     "output_type": "stream",
     "text": [
      " 79%|███████▉  | 168/213 [1:11:19<16:52, 22.50s/it]"
     ]
    },
    {
     "name": "stdout",
     "output_type": "stream",
     "text": [
      "paginas en esta url: 1\n",
      "accediendo a: https://www.martindale.com/search/attorneys-law-firms-articles/?term=Puerto+Rico%2C+USA&params=eyJ0eXBlIjoicGVvcGxlIiwiY29tcGFyZSI6IiIsInRlcm0iOiJQdWVydG8gUmljbywgVVNBIiwiZ2VvTG9jYXRpb25GYWNldCI6WyJQdWVydG8gUmljbywgVS5TLkEuIl0sImdlb0xvY2F0aW9uRmFjZXRSZWNlbnRzIjpbIlB1ZXJ0byBSaWNvLCBVLlMuQS4iXSwicGFnZSI6MSwibGltaXQiOjI1LCJvZmZzZXQiOjAsInNvcnQiOiIiLCJzb3J0VHlwZSI6IiIsImNsZWFyUGFyYW1zIjpmYWxzZSwia2V5d29yZCI6IiIsInBhZ2VUaXRsZSI6Imw6UHVlcnRvIFJpY28sIFUuUy5BLiIsInByYWN0aWNlQXJlYXMiOlsiQ2xhc3MgQWN0aW9ucyJdfQ%3D%3D\n",
      "https://www.martindale.com/attorney/juan-marques-300310824/\n"
     ]
    },
    {
     "name": "stderr",
     "output_type": "stream",
     "text": [
      " 79%|███████▉  | 169/213 [1:11:45<17:09, 23.40s/it]"
     ]
    },
    {
     "name": "stdout",
     "output_type": "stream",
     "text": [
      "paginas en esta url: 6\n",
      "accediendo a: https://www.martindale.com/search/attorneys-law-firms-articles/?term=Puerto+Rico%2C+USA&params=eyJ0eXBlIjoicGVvcGxlIiwiY29tcGFyZSI6IiIsInRlcm0iOiJQdWVydG8gUmljbywgVVNBIiwiZ2VvTG9jYXRpb25GYWNldCI6WyJQdWVydG8gUmljbywgVS5TLkEuIl0sImdlb0xvY2F0aW9uRmFjZXRSZWNlbnRzIjpbIlB1ZXJ0byBSaWNvLCBVLlMuQS4iXSwicGFnZSI6MSwibGltaXQiOjI1LCJvZmZzZXQiOjAsInNvcnQiOiIiLCJzb3J0VHlwZSI6IiIsImNsZWFyUGFyYW1zIjpmYWxzZSwia2V5d29yZCI6IiIsInBhZ2VUaXRsZSI6Imw6UHVlcnRvIFJpY28sIFUuUy5BLiIsInByYWN0aWNlQXJlYXMiOlsiSW50ZWxsZWN0dWFsIFByb3BlcnR5Il19\n",
      "https://www.martindale.com/attorney/maria-teresa-szendrey-ramos-1572525/\n",
      "accediendo a: https://www.martindale.com/search/attorneys-law-firms-articles/?term=Puerto+Rico%2C+USA&params=eyJ0eXBlIjoicGVvcGxlIiwiY29tcGFyZSI6IiIsInRlcm0iOiJQdWVydG8gUmljbywgVVNBIiwiZ2VvTG9jYXRpb25GYWNldCI6WyJQdWVydG8gUmljbywgVS5TLkEuIl0sImdlb0xvY2F0aW9uRmFjZXRSZWNlbnRzIjpbIlB1ZXJ0byBSaWNvLCBVLlMuQS4iXSwicGFnZSI6MSwibGltaXQiOjI1LCJvZmZzZXQiOjAsInNvcnQiOiIiLCJzb3J0VHlwZSI6IiIsImNsZWFyUGFyYW1zIjpmYWxzZSwia2V5d29yZCI6IiIsInBhZ2VUaXRsZSI6Imw6UHVlcnRvIFJpY28sIFUuUy5BLiIsInByYWN0aWNlQXJlYXMiOlsiSW50ZWxsZWN0dWFsIFByb3BlcnR5Il19&page=2\n",
      "https://www.martindale.com/attorney/dennis-a-bennett-966161/\n",
      "https://www.martindale.com/attorney/alondra-andujar-301577914/\n",
      "accediendo a: https://www.martindale.com/search/attorneys-law-firms-articles/?term=Puerto+Rico%2C+USA&params=eyJ0eXBlIjoicGVvcGxlIiwiY29tcGFyZSI6IiIsInRlcm0iOiJQdWVydG8gUmljbywgVVNBIiwiZ2VvTG9jYXRpb25GYWNldCI6WyJQdWVydG8gUmljbywgVS5TLkEuIl0sImdlb0xvY2F0aW9uRmFjZXRSZWNlbnRzIjpbIlB1ZXJ0byBSaWNvLCBVLlMuQS4iXSwicGFnZSI6MSwibGltaXQiOjI1LCJvZmZzZXQiOjAsInNvcnQiOiIiLCJzb3J0VHlwZSI6IiIsImNsZWFyUGFyYW1zIjpmYWxzZSwia2V5d29yZCI6IiIsInBhZ2VUaXRsZSI6Imw6UHVlcnRvIFJpY28sIFUuUy5BLiIsInByYWN0aWNlQXJlYXMiOlsiSW50ZWxsZWN0dWFsIFByb3BlcnR5Il19&page=3\n",
      "https://www.martindale.com/attorney/vanessa-carballido-clerch-33749122/\n",
      "accediendo a: https://www.martindale.com/search/attorneys-law-firms-articles/?term=Puerto+Rico%2C+USA&params=eyJ0eXBlIjoicGVvcGxlIiwiY29tcGFyZSI6IiIsInRlcm0iOiJQdWVydG8gUmljbywgVVNBIiwiZ2VvTG9jYXRpb25GYWNldCI6WyJQdWVydG8gUmljbywgVS5TLkEuIl0sImdlb0xvY2F0aW9uRmFjZXRSZWNlbnRzIjpbIlB1ZXJ0byBSaWNvLCBVLlMuQS4iXSwicGFnZSI6MSwibGltaXQiOjI1LCJvZmZzZXQiOjAsInNvcnQiOiIiLCJzb3J0VHlwZSI6IiIsImNsZWFyUGFyYW1zIjpmYWxzZSwia2V5d29yZCI6IiIsInBhZ2VUaXRsZSI6Imw6UHVlcnRvIFJpY28sIFUuUy5BLiIsInByYWN0aWNlQXJlYXMiOlsiSW50ZWxsZWN0dWFsIFByb3BlcnR5Il19&page=4\n",
      "accediendo a: https://www.martindale.com/search/attorneys-law-firms-articles/?term=Puerto+Rico%2C+USA&params=eyJ0eXBlIjoicGVvcGxlIiwiY29tcGFyZSI6IiIsInRlcm0iOiJQdWVydG8gUmljbywgVVNBIiwiZ2VvTG9jYXRpb25GYWNldCI6WyJQdWVydG8gUmljbywgVS5TLkEuIl0sImdlb0xvY2F0aW9uRmFjZXRSZWNlbnRzIjpbIlB1ZXJ0byBSaWNvLCBVLlMuQS4iXSwicGFnZSI6MSwibGltaXQiOjI1LCJvZmZzZXQiOjAsInNvcnQiOiIiLCJzb3J0VHlwZSI6IiIsImNsZWFyUGFyYW1zIjpmYWxzZSwia2V5d29yZCI6IiIsInBhZ2VUaXRsZSI6Imw6UHVlcnRvIFJpY28sIFUuUy5BLiIsInByYWN0aWNlQXJlYXMiOlsiSW50ZWxsZWN0dWFsIFByb3BlcnR5Il19&page=5\n",
      "https://www.martindale.com/attorney/heath-w-hoglund-1571422/\n",
      "https://www.martindale.com/attorney/eviatar-aron-168536094/\n",
      "https://www.martindale.com/attorney/ms-ryan-nichols-kelley-159216139/\n",
      "accediendo a: https://www.martindale.com/search/attorneys-law-firms-articles/?term=Puerto+Rico%2C+USA&params=eyJ0eXBlIjoicGVvcGxlIiwiY29tcGFyZSI6IiIsInRlcm0iOiJQdWVydG8gUmljbywgVVNBIiwiZ2VvTG9jYXRpb25GYWNldCI6WyJQdWVydG8gUmljbywgVS5TLkEuIl0sImdlb0xvY2F0aW9uRmFjZXRSZWNlbnRzIjpbIlB1ZXJ0byBSaWNvLCBVLlMuQS4iXSwicGFnZSI6MSwibGltaXQiOjI1LCJvZmZzZXQiOjAsInNvcnQiOiIiLCJzb3J0VHlwZSI6IiIsImNsZWFyUGFyYW1zIjpmYWxzZSwia2V5d29yZCI6IiIsInBhZ2VUaXRsZSI6Imw6UHVlcnRvIFJpY28sIFUuUy5BLiIsInByYWN0aWNlQXJlYXMiOlsiSW50ZWxsZWN0dWFsIFByb3BlcnR5Il19&page=6\n",
      "https://www.martindale.com/attorney/hector-a-alicea-241515/\n",
      "https://www.martindale.com/attorney/yolanda-alvarez-cruz-esq-4954700/\n",
      "https://www.martindale.com/attorney/arturo-perez-guerrero-1571526/\n",
      "https://www.martindale.com/attorney/angel-l-casiano-36694325/\n"
     ]
    },
    {
     "name": "stderr",
     "output_type": "stream",
     "text": [
      " 80%|███████▉  | 170/213 [1:12:02<15:28, 21.60s/it]"
     ]
    },
    {
     "name": "stdout",
     "output_type": "stream",
     "text": [
      "paginas en esta url: 1\n",
      "accediendo a: https://www.martindale.com/search/attorneys-law-firms-articles/?term=Puerto+Rico%2C+USA&params=eyJ0eXBlIjoicGVvcGxlIiwiY29tcGFyZSI6IiIsInRlcm0iOiJQdWVydG8gUmljbywgVVNBIiwiZ2VvTG9jYXRpb25GYWNldCI6WyJQdWVydG8gUmljbywgVS5TLkEuIl0sImdlb0xvY2F0aW9uRmFjZXRSZWNlbnRzIjpbIlB1ZXJ0byBSaWNvLCBVLlMuQS4iXSwicGFnZSI6MSwibGltaXQiOjI1LCJvZmZzZXQiOjAsInNvcnQiOiIiLCJzb3J0VHlwZSI6IiIsImNsZWFyUGFyYW1zIjpmYWxzZSwia2V5d29yZCI6IiIsInBhZ2VUaXRsZSI6Imw6UHVlcnRvIFJpY28sIFUuUy5BLiIsInByYWN0aWNlQXJlYXMiOlsiVHJhdmVsIGFuZCBUb3VyaXNtIl19\n"
     ]
    },
    {
     "name": "stderr",
     "output_type": "stream",
     "text": [
      " 80%|████████  | 171/213 [1:12:27<15:53, 22.70s/it]"
     ]
    },
    {
     "name": "stdout",
     "output_type": "stream",
     "text": [
      "paginas en esta url: 1\n",
      "accediendo a: https://www.martindale.com/search/attorneys-law-firms-articles/?term=Puerto+Rico%2C+USA&params=eyJ0eXBlIjoicGVvcGxlIiwiY29tcGFyZSI6IiIsInRlcm0iOiJQdWVydG8gUmljbywgVVNBIiwiZ2VvTG9jYXRpb25GYWNldCI6WyJQdWVydG8gUmljbywgVS5TLkEuIl0sImdlb0xvY2F0aW9uRmFjZXRSZWNlbnRzIjpbIlB1ZXJ0byBSaWNvLCBVLlMuQS4iXSwicGFnZSI6MSwibGltaXQiOjI1LCJvZmZzZXQiOjAsInNvcnQiOiIiLCJzb3J0VHlwZSI6IiIsImNsZWFyUGFyYW1zIjpmYWxzZSwia2V5d29yZCI6IiIsInBhZ2VUaXRsZSI6Imw6UHVlcnRvIFJpY28sIFUuUy5BLiIsInByYWN0aWNlQXJlYXMiOlsiQXNzZXQgUHJvdGVjdGlvbiJdfQ%3D%3D\n",
      "https://www.martindale.com/organization/donlevy-rosen-rosen-p-a-644775/coral-gables-florida-800345-f/?pa=28\n"
     ]
    },
    {
     "name": "stderr",
     "output_type": "stream",
     "text": [
      " 81%|████████  | 172/213 [1:12:52<15:59, 23.41s/it]"
     ]
    },
    {
     "name": "stdout",
     "output_type": "stream",
     "text": [
      "paginas en esta url: 1\n",
      "accediendo a: https://www.martindale.com/search/attorneys-law-firms-articles/?term=Puerto+Rico%2C+USA&params=eyJ0eXBlIjoicGVvcGxlIiwiY29tcGFyZSI6IiIsInRlcm0iOiJQdWVydG8gUmljbywgVVNBIiwiZ2VvTG9jYXRpb25GYWNldCI6WyJQdWVydG8gUmljbywgVS5TLkEuIl0sImdlb0xvY2F0aW9uRmFjZXRSZWNlbnRzIjpbIlB1ZXJ0byBSaWNvLCBVLlMuQS4iXSwicGFnZSI6MSwibGltaXQiOjI1LCJvZmZzZXQiOjAsInNvcnQiOiIiLCJzb3J0VHlwZSI6IiIsImNsZWFyUGFyYW1zIjpmYWxzZSwia2V5d29yZCI6IiIsInBhZ2VUaXRsZSI6Imw6UHVlcnRvIFJpY28sIFUuUy5BLiIsInByYWN0aWNlQXJlYXMiOlsiQWR2ZXJ0aXNpbmcgYW5kIE1hcmtldGluZyJdfQ%3D%3D\n"
     ]
    },
    {
     "name": "stderr",
     "output_type": "stream",
     "text": [
      " 81%|████████  | 173/213 [1:13:16<15:40, 23.51s/it]"
     ]
    },
    {
     "name": "stdout",
     "output_type": "stream",
     "text": [
      "paginas en esta url: 1\n",
      "accediendo a: https://www.martindale.com/search/attorneys-law-firms-articles/?term=Puerto+Rico%2C+USA&params=eyJ0eXBlIjoicGVvcGxlIiwiY29tcGFyZSI6IiIsInRlcm0iOiJQdWVydG8gUmljbywgVVNBIiwiZ2VvTG9jYXRpb25GYWNldCI6WyJQdWVydG8gUmljbywgVS5TLkEuIl0sImdlb0xvY2F0aW9uRmFjZXRSZWNlbnRzIjpbIlB1ZXJ0byBSaWNvLCBVLlMuQS4iXSwicGFnZSI6MSwibGltaXQiOjI1LCJvZmZzZXQiOjAsInNvcnQiOiIiLCJzb3J0VHlwZSI6IiIsImNsZWFyUGFyYW1zIjpmYWxzZSwia2V5d29yZCI6IiIsInBhZ2VUaXRsZSI6Imw6UHVlcnRvIFJpY28sIFUuUy5BLiIsInByYWN0aWNlQXJlYXMiOlsiRW1pbmVudCBEb21haW4iXX0%3D\n"
     ]
    },
    {
     "name": "stderr",
     "output_type": "stream",
     "text": [
      " 82%|████████▏ | 174/213 [1:13:39<15:11, 23.37s/it]"
     ]
    },
    {
     "name": "stdout",
     "output_type": "stream",
     "text": [
      "paginas en esta url: 6\n",
      "accediendo a: https://www.martindale.com/search/attorneys-law-firms-articles/?term=Puerto+Rico%2C+USA&params=eyJ0eXBlIjoicGVvcGxlIiwiY29tcGFyZSI6IiIsInRlcm0iOiJQdWVydG8gUmljbywgVVNBIiwiZ2VvTG9jYXRpb25GYWNldCI6WyJQdWVydG8gUmljbywgVS5TLkEuIl0sImdlb0xvY2F0aW9uRmFjZXRSZWNlbnRzIjpbIlB1ZXJ0byBSaWNvLCBVLlMuQS4iXSwicGFnZSI6MSwibGltaXQiOjI1LCJvZmZzZXQiOjAsInNvcnQiOiIiLCJzb3J0VHlwZSI6IiIsImNsZWFyUGFyYW1zIjpmYWxzZSwia2V5d29yZCI6IiIsInBhZ2VUaXRsZSI6Imw6UHVlcnRvIFJpY28sIFUuUy5BLiIsInByYWN0aWNlQXJlYXMiOlsiQ2l2aWwgUmlnaHRzIl19\n",
      "accediendo a: https://www.martindale.com/search/attorneys-law-firms-articles/?term=Puerto+Rico%2C+USA&params=eyJ0eXBlIjoicGVvcGxlIiwiY29tcGFyZSI6IiIsInRlcm0iOiJQdWVydG8gUmljbywgVVNBIiwiZ2VvTG9jYXRpb25GYWNldCI6WyJQdWVydG8gUmljbywgVS5TLkEuIl0sImdlb0xvY2F0aW9uRmFjZXRSZWNlbnRzIjpbIlB1ZXJ0byBSaWNvLCBVLlMuQS4iXSwicGFnZSI6MSwibGltaXQiOjI1LCJvZmZzZXQiOjAsInNvcnQiOiIiLCJzb3J0VHlwZSI6IiIsImNsZWFyUGFyYW1zIjpmYWxzZSwia2V5d29yZCI6IiIsInBhZ2VUaXRsZSI6Imw6UHVlcnRvIFJpY28sIFUuUy5BLiIsInByYWN0aWNlQXJlYXMiOlsiQ2l2aWwgUmlnaHRzIl19&page=2\n",
      "accediendo a: https://www.martindale.com/search/attorneys-law-firms-articles/?term=Puerto+Rico%2C+USA&params=eyJ0eXBlIjoicGVvcGxlIiwiY29tcGFyZSI6IiIsInRlcm0iOiJQdWVydG8gUmljbywgVVNBIiwiZ2VvTG9jYXRpb25GYWNldCI6WyJQdWVydG8gUmljbywgVS5TLkEuIl0sImdlb0xvY2F0aW9uRmFjZXRSZWNlbnRzIjpbIlB1ZXJ0byBSaWNvLCBVLlMuQS4iXSwicGFnZSI6MSwibGltaXQiOjI1LCJvZmZzZXQiOjAsInNvcnQiOiIiLCJzb3J0VHlwZSI6IiIsImNsZWFyUGFyYW1zIjpmYWxzZSwia2V5d29yZCI6IiIsInBhZ2VUaXRsZSI6Imw6UHVlcnRvIFJpY28sIFUuUy5BLiIsInByYWN0aWNlQXJlYXMiOlsiQ2l2aWwgUmlnaHRzIl19&page=3\n",
      "https://www.martindale.com/attorney/hector-m-laffitte-11861386/\n",
      "accediendo a: https://www.martindale.com/search/attorneys-law-firms-articles/?term=Puerto+Rico%2C+USA&params=eyJ0eXBlIjoicGVvcGxlIiwiY29tcGFyZSI6IiIsInRlcm0iOiJQdWVydG8gUmljbywgVVNBIiwiZ2VvTG9jYXRpb25GYWNldCI6WyJQdWVydG8gUmljbywgVS5TLkEuIl0sImdlb0xvY2F0aW9uRmFjZXRSZWNlbnRzIjpbIlB1ZXJ0byBSaWNvLCBVLlMuQS4iXSwicGFnZSI6MSwibGltaXQiOjI1LCJvZmZzZXQiOjAsInNvcnQiOiIiLCJzb3J0VHlwZSI6IiIsImNsZWFyUGFyYW1zIjpmYWxzZSwia2V5d29yZCI6IiIsInBhZ2VUaXRsZSI6Imw6UHVlcnRvIFJpY28sIFUuUy5BLiIsInByYWN0aWNlQXJlYXMiOlsiQ2l2aWwgUmlnaHRzIl19&page=4\n",
      "accediendo a: https://www.martindale.com/search/attorneys-law-firms-articles/?term=Puerto+Rico%2C+USA&params=eyJ0eXBlIjoicGVvcGxlIiwiY29tcGFyZSI6IiIsInRlcm0iOiJQdWVydG8gUmljbywgVVNBIiwiZ2VvTG9jYXRpb25GYWNldCI6WyJQdWVydG8gUmljbywgVS5TLkEuIl0sImdlb0xvY2F0aW9uRmFjZXRSZWNlbnRzIjpbIlB1ZXJ0byBSaWNvLCBVLlMuQS4iXSwicGFnZSI6MSwibGltaXQiOjI1LCJvZmZzZXQiOjAsInNvcnQiOiIiLCJzb3J0VHlwZSI6IiIsImNsZWFyUGFyYW1zIjpmYWxzZSwia2V5d29yZCI6IiIsInBhZ2VUaXRsZSI6Imw6UHVlcnRvIFJpY28sIFUuUy5BLiIsInByYWN0aWNlQXJlYXMiOlsiQ2l2aWwgUmlnaHRzIl19&page=5\n",
      "accediendo a: https://www.martindale.com/search/attorneys-law-firms-articles/?term=Puerto+Rico%2C+USA&params=eyJ0eXBlIjoicGVvcGxlIiwiY29tcGFyZSI6IiIsInRlcm0iOiJQdWVydG8gUmljbywgVVNBIiwiZ2VvTG9jYXRpb25GYWNldCI6WyJQdWVydG8gUmljbywgVS5TLkEuIl0sImdlb0xvY2F0aW9uRmFjZXRSZWNlbnRzIjpbIlB1ZXJ0byBSaWNvLCBVLlMuQS4iXSwicGFnZSI6MSwibGltaXQiOjI1LCJvZmZzZXQiOjAsInNvcnQiOiIiLCJzb3J0VHlwZSI6IiIsImNsZWFyUGFyYW1zIjpmYWxzZSwia2V5d29yZCI6IiIsInBhZ2VUaXRsZSI6Imw6UHVlcnRvIFJpY28sIFUuUy5BLiIsInByYWN0aWNlQXJlYXMiOlsiQ2l2aWwgUmlnaHRzIl19&page=6\n"
     ]
    },
    {
     "name": "stderr",
     "output_type": "stream",
     "text": [
      " 82%|████████▏ | 175/213 [1:13:56<13:33, 21.41s/it]"
     ]
    },
    {
     "name": "stdout",
     "output_type": "stream",
     "text": [
      "paginas en esta url: 1\n",
      "accediendo a: https://www.martindale.com/search/attorneys-law-firms-articles/?term=Puerto+Rico%2C+USA&params=eyJ0eXBlIjoicGVvcGxlIiwiY29tcGFyZSI6IiIsInRlcm0iOiJQdWVydG8gUmljbywgVVNBIiwiZ2VvTG9jYXRpb25GYWNldCI6WyJQdWVydG8gUmljbywgVS5TLkEuIl0sImdlb0xvY2F0aW9uRmFjZXRSZWNlbnRzIjpbIlB1ZXJ0byBSaWNvLCBVLlMuQS4iXSwicGFnZSI6MSwibGltaXQiOjI1LCJvZmZzZXQiOjAsInNvcnQiOiIiLCJzb3J0VHlwZSI6IiIsImNsZWFyUGFyYW1zIjpmYWxzZSwia2V5d29yZCI6IiIsInBhZ2VUaXRsZSI6Imw6UHVlcnRvIFJpY28sIFUuUy5BLiIsInByYWN0aWNlQXJlYXMiOlsiUGF0ZXJuaXR5Il19\n"
     ]
    },
    {
     "name": "stderr",
     "output_type": "stream",
     "text": [
      " 83%|████████▎ | 176/213 [1:14:20<13:35, 22.05s/it]"
     ]
    },
    {
     "name": "stdout",
     "output_type": "stream",
     "text": [
      "paginas en esta url: 2\n",
      "accediendo a: https://www.martindale.com/search/attorneys-law-firms-articles/?term=Puerto+Rico%2C+USA&params=eyJ0eXBlIjoicGVvcGxlIiwiY29tcGFyZSI6IiIsInRlcm0iOiJQdWVydG8gUmljbywgVVNBIiwiZ2VvTG9jYXRpb25GYWNldCI6WyJQdWVydG8gUmljbywgVS5TLkEuIl0sImdlb0xvY2F0aW9uRmFjZXRSZWNlbnRzIjpbIlB1ZXJ0byBSaWNvLCBVLlMuQS4iXSwicGFnZSI6MSwibGltaXQiOjI1LCJvZmZzZXQiOjAsInNvcnQiOiIiLCJzb3J0VHlwZSI6IiIsImNsZWFyUGFyYW1zIjpmYWxzZSwia2V5d29yZCI6IiIsInBhZ2VUaXRsZSI6Imw6UHVlcnRvIFJpY28sIFUuUy5BLiIsInByYWN0aWNlQXJlYXMiOlsiUHVibGljIEZpbmFuY2UiXX0%3D\n",
      "accediendo a: https://www.martindale.com/search/attorneys-law-firms-articles/?term=Puerto+Rico%2C+USA&params=eyJ0eXBlIjoicGVvcGxlIiwiY29tcGFyZSI6IiIsInRlcm0iOiJQdWVydG8gUmljbywgVVNBIiwiZ2VvTG9jYXRpb25GYWNldCI6WyJQdWVydG8gUmljbywgVS5TLkEuIl0sImdlb0xvY2F0aW9uRmFjZXRSZWNlbnRzIjpbIlB1ZXJ0byBSaWNvLCBVLlMuQS4iXSwicGFnZSI6MSwibGltaXQiOjI1LCJvZmZzZXQiOjAsInNvcnQiOiIiLCJzb3J0VHlwZSI6IiIsImNsZWFyUGFyYW1zIjpmYWxzZSwia2V5d29yZCI6IiIsInBhZ2VUaXRsZSI6Imw6UHVlcnRvIFJpY28sIFUuUy5BLiIsInByYWN0aWNlQXJlYXMiOlsiUHVibGljIEZpbmFuY2UiXX0%3D&page=2\n"
     ]
    },
    {
     "name": "stderr",
     "output_type": "stream",
     "text": [
      " 83%|████████▎ | 177/213 [1:14:32<11:33, 19.25s/it]"
     ]
    },
    {
     "name": "stdout",
     "output_type": "stream",
     "text": [
      "paginas en esta url: 1\n",
      "accediendo a: https://www.martindale.com/search/attorneys-law-firms-articles/?term=Puerto+Rico%2C+USA&params=eyJ0eXBlIjoicGVvcGxlIiwiY29tcGFyZSI6IiIsInRlcm0iOiJQdWVydG8gUmljbywgVVNBIiwiZ2VvTG9jYXRpb25GYWNldCI6WyJQdWVydG8gUmljbywgVS5TLkEuIl0sImdlb0xvY2F0aW9uRmFjZXRSZWNlbnRzIjpbIlB1ZXJ0byBSaWNvLCBVLlMuQS4iXSwicGFnZSI6MSwibGltaXQiOjI1LCJvZmZzZXQiOjAsInNvcnQiOiIiLCJzb3J0VHlwZSI6IiIsImNsZWFyUGFyYW1zIjpmYWxzZSwia2V5d29yZCI6IiIsInBhZ2VUaXRsZSI6Imw6UHVlcnRvIFJpY28sIFUuUy5BLiIsInByYWN0aWNlQXJlYXMiOlsiU29jaWFsIFNlY3VyaXR5Il19\n",
      "https://www.martindale.com/attorney/ms-lilli-w-marder-esq-799259/\n"
     ]
    },
    {
     "name": "stderr",
     "output_type": "stream",
     "text": [
      " 84%|████████▎ | 178/213 [1:14:56<11:58, 20.53s/it]"
     ]
    },
    {
     "name": "stdout",
     "output_type": "stream",
     "text": [
      "paginas en esta url: 1\n",
      "accediendo a: https://www.martindale.com/search/attorneys-law-firms-articles/?term=Puerto+Rico%2C+USA&params=eyJ0eXBlIjoicGVvcGxlIiwiY29tcGFyZSI6IiIsInRlcm0iOiJQdWVydG8gUmljbywgVVNBIiwiZ2VvTG9jYXRpb25GYWNldCI6WyJQdWVydG8gUmljbywgVS5TLkEuIl0sImdlb0xvY2F0aW9uRmFjZXRSZWNlbnRzIjpbIlB1ZXJ0byBSaWNvLCBVLlMuQS4iXSwicGFnZSI6MSwibGltaXQiOjI1LCJvZmZzZXQiOjAsInNvcnQiOiIiLCJzb3J0VHlwZSI6IiIsImNsZWFyUGFyYW1zIjpmYWxzZSwia2V5d29yZCI6IiIsInBhZ2VUaXRsZSI6Imw6UHVlcnRvIFJpY28sIFUuUy5BLiIsInByYWN0aWNlQXJlYXMiOlsiV2VhcG9ucyBDaGFyZ2VzIl19\n"
     ]
    },
    {
     "name": "stderr",
     "output_type": "stream",
     "text": [
      " 84%|████████▍ | 179/213 [1:15:20<12:18, 21.72s/it]"
     ]
    },
    {
     "name": "stdout",
     "output_type": "stream",
     "text": [
      "paginas en esta url: 1\n",
      "accediendo a: https://www.martindale.com/search/attorneys-law-firms-articles/?term=Puerto+Rico%2C+USA&params=eyJ0eXBlIjoicGVvcGxlIiwiY29tcGFyZSI6IiIsInRlcm0iOiJQdWVydG8gUmljbywgVVNBIiwiZ2VvTG9jYXRpb25GYWNldCI6WyJQdWVydG8gUmljbywgVS5TLkEuIl0sImdlb0xvY2F0aW9uRmFjZXRSZWNlbnRzIjpbIlB1ZXJ0byBSaWNvLCBVLlMuQS4iXSwicGFnZSI6MSwibGltaXQiOjI1LCJvZmZzZXQiOjAsInNvcnQiOiIiLCJzb3J0VHlwZSI6IiIsImNsZWFyUGFyYW1zIjpmYWxzZSwia2V5d29yZCI6IiIsInBhZ2VUaXRsZSI6Imw6UHVlcnRvIFJpY28sIFUuUy5BLiIsInByYWN0aWNlQXJlYXMiOlsiSGVhbHRoIEluc3VyYW5jZSJdfQ%3D%3D\n"
     ]
    },
    {
     "name": "stderr",
     "output_type": "stream",
     "text": [
      " 85%|████████▍ | 180/213 [1:15:44<12:19, 22.42s/it]"
     ]
    },
    {
     "name": "stdout",
     "output_type": "stream",
     "text": [
      "paginas en esta url: 1\n",
      "accediendo a: https://www.martindale.com/search/attorneys-law-firms-articles/?term=Puerto+Rico%2C+USA&params=eyJ0eXBlIjoicGVvcGxlIiwiY29tcGFyZSI6IiIsInRlcm0iOiJQdWVydG8gUmljbywgVVNBIiwiZ2VvTG9jYXRpb25GYWNldCI6WyJQdWVydG8gUmljbywgVS5TLkEuIl0sImdlb0xvY2F0aW9uRmFjZXRSZWNlbnRzIjpbIlB1ZXJ0byBSaWNvLCBVLlMuQS4iXSwicGFnZSI6MSwibGltaXQiOjI1LCJvZmZzZXQiOjAsInNvcnQiOiIiLCJzb3J0VHlwZSI6IiIsImNsZWFyUGFyYW1zIjpmYWxzZSwia2V5d29yZCI6IiIsInBhZ2VUaXRsZSI6Imw6UHVlcnRvIFJpY28sIFUuUy5BLiIsInByYWN0aWNlQXJlYXMiOlsiU3RyYXRlZ2ljIEFsbGlhbmNlcyJdfQ%3D%3D\n"
     ]
    },
    {
     "name": "stderr",
     "output_type": "stream",
     "text": [
      " 85%|████████▍ | 181/213 [1:16:08<12:04, 22.63s/it]"
     ]
    },
    {
     "name": "stdout",
     "output_type": "stream",
     "text": [
      "paginas en esta url: 1\n",
      "accediendo a: https://www.martindale.com/search/attorneys-law-firms-articles/?term=Puerto+Rico%2C+USA&params=eyJ0eXBlIjoicGVvcGxlIiwiY29tcGFyZSI6IiIsInRlcm0iOiJQdWVydG8gUmljbywgVVNBIiwiZ2VvTG9jYXRpb25GYWNldCI6WyJQdWVydG8gUmljbywgVS5TLkEuIl0sImdlb0xvY2F0aW9uRmFjZXRSZWNlbnRzIjpbIlB1ZXJ0byBSaWNvLCBVLlMuQS4iXSwicGFnZSI6MSwibGltaXQiOjI1LCJvZmZzZXQiOjAsInNvcnQiOiIiLCJzb3J0VHlwZSI6IiIsImNsZWFyUGFyYW1zIjpmYWxzZSwia2V5d29yZCI6IiIsInBhZ2VUaXRsZSI6Imw6UHVlcnRvIFJpY28sIFUuUy5BLiIsInByYWN0aWNlQXJlYXMiOlsiRG9tZXN0aWMgVmlvbGVuY2UiXX0%3D\n"
     ]
    },
    {
     "name": "stderr",
     "output_type": "stream",
     "text": [
      " 85%|████████▌ | 182/213 [1:16:30<11:38, 22.52s/it]"
     ]
    },
    {
     "name": "stdout",
     "output_type": "stream",
     "text": [
      "paginas en esta url: 3\n",
      "accediendo a: https://www.martindale.com/search/attorneys-law-firms-articles/?term=Puerto+Rico%2C+USA&params=eyJ0eXBlIjoicGVvcGxlIiwiY29tcGFyZSI6IiIsInRlcm0iOiJQdWVydG8gUmljbywgVVNBIiwiZ2VvTG9jYXRpb25GYWNldCI6WyJQdWVydG8gUmljbywgVS5TLkEuIl0sImdlb0xvY2F0aW9uRmFjZXRSZWNlbnRzIjpbIlB1ZXJ0byBSaWNvLCBVLlMuQS4iXSwicGFnZSI6MSwibGltaXQiOjI1LCJvZmZzZXQiOjAsInNvcnQiOiIiLCJzb3J0VHlwZSI6IiIsImNsZWFyUGFyYW1zIjpmYWxzZSwia2V5d29yZCI6IiIsInBhZ2VUaXRsZSI6Imw6UHVlcnRvIFJpY28sIFUuUy5BLiIsInByYWN0aWNlQXJlYXMiOlsiRXN0YXRlIFBsYW5uaW5nIl19\n",
      "accediendo a: https://www.martindale.com/search/attorneys-law-firms-articles/?term=Puerto+Rico%2C+USA&params=eyJ0eXBlIjoicGVvcGxlIiwiY29tcGFyZSI6IiIsInRlcm0iOiJQdWVydG8gUmljbywgVVNBIiwiZ2VvTG9jYXRpb25GYWNldCI6WyJQdWVydG8gUmljbywgVS5TLkEuIl0sImdlb0xvY2F0aW9uRmFjZXRSZWNlbnRzIjpbIlB1ZXJ0byBSaWNvLCBVLlMuQS4iXSwicGFnZSI6MSwibGltaXQiOjI1LCJvZmZzZXQiOjAsInNvcnQiOiIiLCJzb3J0VHlwZSI6IiIsImNsZWFyUGFyYW1zIjpmYWxzZSwia2V5d29yZCI6IiIsInBhZ2VUaXRsZSI6Imw6UHVlcnRvIFJpY28sIFUuUy5BLiIsInByYWN0aWNlQXJlYXMiOlsiRXN0YXRlIFBsYW5uaW5nIl19&page=2\n",
      "accediendo a: https://www.martindale.com/search/attorneys-law-firms-articles/?term=Puerto+Rico%2C+USA&params=eyJ0eXBlIjoicGVvcGxlIiwiY29tcGFyZSI6IiIsInRlcm0iOiJQdWVydG8gUmljbywgVVNBIiwiZ2VvTG9jYXRpb25GYWNldCI6WyJQdWVydG8gUmljbywgVS5TLkEuIl0sImdlb0xvY2F0aW9uRmFjZXRSZWNlbnRzIjpbIlB1ZXJ0byBSaWNvLCBVLlMuQS4iXSwicGFnZSI6MSwibGltaXQiOjI1LCJvZmZzZXQiOjAsInNvcnQiOiIiLCJzb3J0VHlwZSI6IiIsImNsZWFyUGFyYW1zIjpmYWxzZSwia2V5d29yZCI6IiIsInBhZ2VUaXRsZSI6Imw6UHVlcnRvIFJpY28sIFUuUy5BLiIsInByYWN0aWNlQXJlYXMiOlsiRXN0YXRlIFBsYW5uaW5nIl19&page=3\n"
     ]
    },
    {
     "name": "stderr",
     "output_type": "stream",
     "text": [
      " 86%|████████▌ | 183/213 [1:16:43<09:55, 19.85s/it]"
     ]
    },
    {
     "name": "stdout",
     "output_type": "stream",
     "text": [
      "paginas en esta url: 5\n",
      "accediendo a: https://www.martindale.com/search/attorneys-law-firms-articles/?term=Puerto+Rico%2C+USA&params=eyJ0eXBlIjoicGVvcGxlIiwiY29tcGFyZSI6IiIsInRlcm0iOiJQdWVydG8gUmljbywgVVNBIiwiZ2VvTG9jYXRpb25GYWNldCI6WyJQdWVydG8gUmljbywgVS5TLkEuIl0sImdlb0xvY2F0aW9uRmFjZXRSZWNlbnRzIjpbIlB1ZXJ0byBSaWNvLCBVLlMuQS4iXSwicGFnZSI6MSwibGltaXQiOjI1LCJvZmZzZXQiOjAsInNvcnQiOiIiLCJzb3J0VHlwZSI6IiIsImNsZWFyUGFyYW1zIjpmYWxzZSwia2V5d29yZCI6IiIsInBhZ2VUaXRsZSI6Imw6UHVlcnRvIFJpY28sIFUuUy5BLiIsInByYWN0aWNlQXJlYXMiOlsiRmFtaWx5IExhdyJdfQ%3D%3D\n",
      "https://www.martindale.com/attorney/charles-wayne-jimenez-1574274/\n",
      "accediendo a: https://www.martindale.com/search/attorneys-law-firms-articles/?term=Puerto+Rico%2C+USA&params=eyJ0eXBlIjoicGVvcGxlIiwiY29tcGFyZSI6IiIsInRlcm0iOiJQdWVydG8gUmljbywgVVNBIiwiZ2VvTG9jYXRpb25GYWNldCI6WyJQdWVydG8gUmljbywgVS5TLkEuIl0sImdlb0xvY2F0aW9uRmFjZXRSZWNlbnRzIjpbIlB1ZXJ0byBSaWNvLCBVLlMuQS4iXSwicGFnZSI6MSwibGltaXQiOjI1LCJvZmZzZXQiOjAsInNvcnQiOiIiLCJzb3J0VHlwZSI6IiIsImNsZWFyUGFyYW1zIjpmYWxzZSwia2V5d29yZCI6IiIsInBhZ2VUaXRsZSI6Imw6UHVlcnRvIFJpY28sIFUuUy5BLiIsInByYWN0aWNlQXJlYXMiOlsiRmFtaWx5IExhdyJdfQ%3D%3D&page=2\n",
      "https://www.martindale.com/attorney/marisa-brugueras-1573031/\n",
      "accediendo a: https://www.martindale.com/search/attorneys-law-firms-articles/?term=Puerto+Rico%2C+USA&params=eyJ0eXBlIjoicGVvcGxlIiwiY29tcGFyZSI6IiIsInRlcm0iOiJQdWVydG8gUmljbywgVVNBIiwiZ2VvTG9jYXRpb25GYWNldCI6WyJQdWVydG8gUmljbywgVS5TLkEuIl0sImdlb0xvY2F0aW9uRmFjZXRSZWNlbnRzIjpbIlB1ZXJ0byBSaWNvLCBVLlMuQS4iXSwicGFnZSI6MSwibGltaXQiOjI1LCJvZmZzZXQiOjAsInNvcnQiOiIiLCJzb3J0VHlwZSI6IiIsImNsZWFyUGFyYW1zIjpmYWxzZSwia2V5d29yZCI6IiIsInBhZ2VUaXRsZSI6Imw6UHVlcnRvIFJpY28sIFUuUy5BLiIsInByYWN0aWNlQXJlYXMiOlsiRmFtaWx5IExhdyJdfQ%3D%3D&page=3\n",
      "accediendo a: https://www.martindale.com/search/attorneys-law-firms-articles/?term=Puerto+Rico%2C+USA&params=eyJ0eXBlIjoicGVvcGxlIiwiY29tcGFyZSI6IiIsInRlcm0iOiJQdWVydG8gUmljbywgVVNBIiwiZ2VvTG9jYXRpb25GYWNldCI6WyJQdWVydG8gUmljbywgVS5TLkEuIl0sImdlb0xvY2F0aW9uRmFjZXRSZWNlbnRzIjpbIlB1ZXJ0byBSaWNvLCBVLlMuQS4iXSwicGFnZSI6MSwibGltaXQiOjI1LCJvZmZzZXQiOjAsInNvcnQiOiIiLCJzb3J0VHlwZSI6IiIsImNsZWFyUGFyYW1zIjpmYWxzZSwia2V5d29yZCI6IiIsInBhZ2VUaXRsZSI6Imw6UHVlcnRvIFJpY28sIFUuUy5BLiIsInByYWN0aWNlQXJlYXMiOlsiRmFtaWx5IExhdyJdfQ%3D%3D&page=4\n",
      "https://www.martindale.com/attorney/myria-a-rodriguez-28972826/\n",
      "accediendo a: https://www.martindale.com/search/attorneys-law-firms-articles/?term=Puerto+Rico%2C+USA&params=eyJ0eXBlIjoicGVvcGxlIiwiY29tcGFyZSI6IiIsInRlcm0iOiJQdWVydG8gUmljbywgVVNBIiwiZ2VvTG9jYXRpb25GYWNldCI6WyJQdWVydG8gUmljbywgVS5TLkEuIl0sImdlb0xvY2F0aW9uRmFjZXRSZWNlbnRzIjpbIlB1ZXJ0byBSaWNvLCBVLlMuQS4iXSwicGFnZSI6MSwibGltaXQiOjI1LCJvZmZzZXQiOjAsInNvcnQiOiIiLCJzb3J0VHlwZSI6IiIsImNsZWFyUGFyYW1zIjpmYWxzZSwia2V5d29yZCI6IiIsInBhZ2VUaXRsZSI6Imw6UHVlcnRvIFJpY28sIFUuUy5BLiIsInByYWN0aWNlQXJlYXMiOlsiRmFtaWx5IExhdyJdfQ%3D%3D&page=5\n"
     ]
    },
    {
     "name": "stderr",
     "output_type": "stream",
     "text": [
      " 86%|████████▋ | 184/213 [1:17:00<09:07, 18.89s/it]"
     ]
    },
    {
     "name": "stdout",
     "output_type": "stream",
     "text": [
      "paginas en esta url: 1\n",
      "accediendo a: https://www.martindale.com/search/attorneys-law-firms-articles/?term=Puerto+Rico%2C+USA&params=eyJ0eXBlIjoicGVvcGxlIiwiY29tcGFyZSI6IiIsInRlcm0iOiJQdWVydG8gUmljbywgVVNBIiwiZ2VvTG9jYXRpb25GYWNldCI6WyJQdWVydG8gUmljbywgVS5TLkEuIl0sImdlb0xvY2F0aW9uRmFjZXRSZWNlbnRzIjpbIlB1ZXJ0byBSaWNvLCBVLlMuQS4iXSwicGFnZSI6MSwibGltaXQiOjI1LCJvZmZzZXQiOjAsInNvcnQiOiIiLCJzb3J0VHlwZSI6IiIsImNsZWFyUGFyYW1zIjpmYWxzZSwia2V5d29yZCI6IiIsInBhZ2VUaXRsZSI6Imw6UHVlcnRvIFJpY28sIFUuUy5BLiIsInByYWN0aWNlQXJlYXMiOlsiQmFua3J1cHRjeSBDaGFwdGVyIDciXX0%3D\n"
     ]
    },
    {
     "name": "stderr",
     "output_type": "stream",
     "text": [
      " 87%|████████▋ | 185/213 [1:17:23<09:25, 20.21s/it]"
     ]
    },
    {
     "name": "stdout",
     "output_type": "stream",
     "text": [
      "paginas en esta url: 1\n",
      "accediendo a: https://www.martindale.com/search/attorneys-law-firms-articles/?term=Puerto+Rico%2C+USA&params=eyJ0eXBlIjoicGVvcGxlIiwiY29tcGFyZSI6IiIsInRlcm0iOiJQdWVydG8gUmljbywgVVNBIiwiZ2VvTG9jYXRpb25GYWNldCI6WyJQdWVydG8gUmljbywgVS5TLkEuIl0sImdlb0xvY2F0aW9uRmFjZXRSZWNlbnRzIjpbIlB1ZXJ0byBSaWNvLCBVLlMuQS4iXSwicGFnZSI6MSwibGltaXQiOjI1LCJvZmZzZXQiOjAsInNvcnQiOiIiLCJzb3J0VHlwZSI6IiIsImNsZWFyUGFyYW1zIjpmYWxzZSwia2V5d29yZCI6IiIsInBhZ2VUaXRsZSI6Imw6UHVlcnRvIFJpY28sIFUuUy5BLiIsInByYWN0aWNlQXJlYXMiOlsiQXV0b21vdGl2ZSBQcm9kdWN0cyBMaWFiaWxpdHkiXX0%3D\n"
     ]
    },
    {
     "name": "stderr",
     "output_type": "stream",
     "text": [
      " 87%|████████▋ | 186/213 [1:17:47<09:34, 21.29s/it]"
     ]
    },
    {
     "name": "stdout",
     "output_type": "stream",
     "text": [
      "paginas en esta url: 1\n",
      "accediendo a: https://www.martindale.com/search/attorneys-law-firms-articles/?term=Puerto+Rico%2C+USA&params=eyJ0eXBlIjoicGVvcGxlIiwiY29tcGFyZSI6IiIsInRlcm0iOiJQdWVydG8gUmljbywgVVNBIiwiZ2VvTG9jYXRpb25GYWNldCI6WyJQdWVydG8gUmljbywgVS5TLkEuIl0sImdlb0xvY2F0aW9uRmFjZXRSZWNlbnRzIjpbIlB1ZXJ0byBSaWNvLCBVLlMuQS4iXSwicGFnZSI6MSwibGltaXQiOjI1LCJvZmZzZXQiOjAsInNvcnQiOiIiLCJzb3J0VHlwZSI6IiIsImNsZWFyUGFyYW1zIjpmYWxzZSwia2V5d29yZCI6IiIsInBhZ2VUaXRsZSI6Imw6UHVlcnRvIFJpY28sIFUuUy5BLiIsInByYWN0aWNlQXJlYXMiOlsiR3JlZW4gQ2FyZHMiXX0%3D\n"
     ]
    },
    {
     "name": "stderr",
     "output_type": "stream",
     "text": [
      " 88%|████████▊ | 187/213 [1:18:10<09:23, 21.66s/it]"
     ]
    },
    {
     "name": "stdout",
     "output_type": "stream",
     "text": [
      "paginas en esta url: 1\n",
      "accediendo a: https://www.martindale.com/search/attorneys-law-firms-articles/?term=Puerto+Rico%2C+USA&params=eyJ0eXBlIjoicGVvcGxlIiwiY29tcGFyZSI6IiIsInRlcm0iOiJQdWVydG8gUmljbywgVVNBIiwiZ2VvTG9jYXRpb25GYWNldCI6WyJQdWVydG8gUmljbywgVS5TLkEuIl0sImdlb0xvY2F0aW9uRmFjZXRSZWNlbnRzIjpbIlB1ZXJ0byBSaWNvLCBVLlMuQS4iXSwicGFnZSI6MSwibGltaXQiOjI1LCJvZmZzZXQiOjAsInNvcnQiOiIiLCJzb3J0VHlwZSI6IiIsImNsZWFyUGFyYW1zIjpmYWxzZSwia2V5d29yZCI6IiIsInBhZ2VUaXRsZSI6Imw6UHVlcnRvIFJpY28sIFUuUy5BLiIsInByYWN0aWNlQXJlYXMiOlsiV3JvbmdmdWwgRGVhdGgiXX0%3D\n"
     ]
    },
    {
     "name": "stderr",
     "output_type": "stream",
     "text": [
      " 88%|████████▊ | 188/213 [1:18:34<09:19, 22.37s/it]"
     ]
    },
    {
     "name": "stdout",
     "output_type": "stream",
     "text": [
      "paginas en esta url: 5\n",
      "accediendo a: https://www.martindale.com/search/attorneys-law-firms-articles/?term=Puerto+Rico%2C+USA&params=eyJ0eXBlIjoicGVvcGxlIiwiY29tcGFyZSI6IiIsInRlcm0iOiJQdWVydG8gUmljbywgVVNBIiwiZ2VvTG9jYXRpb25GYWNldCI6WyJQdWVydG8gUmljbywgVS5TLkEuIl0sImdlb0xvY2F0aW9uRmFjZXRSZWNlbnRzIjpbIlB1ZXJ0byBSaWNvLCBVLlMuQS4iXSwicGFnZSI6MSwibGltaXQiOjI1LCJvZmZzZXQiOjAsInNvcnQiOiIiLCJzb3J0VHlwZSI6IiIsImNsZWFyUGFyYW1zIjpmYWxzZSwia2V5d29yZCI6IiIsInBhZ2VUaXRsZSI6Imw6UHVlcnRvIFJpY28sIFUuUy5BLiIsInByYWN0aWNlQXJlYXMiOlsiUHJvZHVjdHMgTGlhYmlsaXR5Il19\n",
      "https://www.martindale.com/attorney/roberto-r-ramos-antonmattei-2849199/\n",
      "accediendo a: https://www.martindale.com/search/attorneys-law-firms-articles/?term=Puerto+Rico%2C+USA&params=eyJ0eXBlIjoicGVvcGxlIiwiY29tcGFyZSI6IiIsInRlcm0iOiJQdWVydG8gUmljbywgVVNBIiwiZ2VvTG9jYXRpb25GYWNldCI6WyJQdWVydG8gUmljbywgVS5TLkEuIl0sImdlb0xvY2F0aW9uRmFjZXRSZWNlbnRzIjpbIlB1ZXJ0byBSaWNvLCBVLlMuQS4iXSwicGFnZSI6MSwibGltaXQiOjI1LCJvZmZzZXQiOjAsInNvcnQiOiIiLCJzb3J0VHlwZSI6IiIsImNsZWFyUGFyYW1zIjpmYWxzZSwia2V5d29yZCI6IiIsInBhZ2VUaXRsZSI6Imw6UHVlcnRvIFJpY28sIFUuUy5BLiIsInByYWN0aWNlQXJlYXMiOlsiUHJvZHVjdHMgTGlhYmlsaXR5Il19&page=2\n",
      "accediendo a: https://www.martindale.com/search/attorneys-law-firms-articles/?term=Puerto+Rico%2C+USA&params=eyJ0eXBlIjoicGVvcGxlIiwiY29tcGFyZSI6IiIsInRlcm0iOiJQdWVydG8gUmljbywgVVNBIiwiZ2VvTG9jYXRpb25GYWNldCI6WyJQdWVydG8gUmljbywgVS5TLkEuIl0sImdlb0xvY2F0aW9uRmFjZXRSZWNlbnRzIjpbIlB1ZXJ0byBSaWNvLCBVLlMuQS4iXSwicGFnZSI6MSwibGltaXQiOjI1LCJvZmZzZXQiOjAsInNvcnQiOiIiLCJzb3J0VHlwZSI6IiIsImNsZWFyUGFyYW1zIjpmYWxzZSwia2V5d29yZCI6IiIsInBhZ2VUaXRsZSI6Imw6UHVlcnRvIFJpY28sIFUuUy5BLiIsInByYWN0aWNlQXJlYXMiOlsiUHJvZHVjdHMgTGlhYmlsaXR5Il19&page=3\n",
      "accediendo a: https://www.martindale.com/search/attorneys-law-firms-articles/?term=Puerto+Rico%2C+USA&params=eyJ0eXBlIjoicGVvcGxlIiwiY29tcGFyZSI6IiIsInRlcm0iOiJQdWVydG8gUmljbywgVVNBIiwiZ2VvTG9jYXRpb25GYWNldCI6WyJQdWVydG8gUmljbywgVS5TLkEuIl0sImdlb0xvY2F0aW9uRmFjZXRSZWNlbnRzIjpbIlB1ZXJ0byBSaWNvLCBVLlMuQS4iXSwicGFnZSI6MSwibGltaXQiOjI1LCJvZmZzZXQiOjAsInNvcnQiOiIiLCJzb3J0VHlwZSI6IiIsImNsZWFyUGFyYW1zIjpmYWxzZSwia2V5d29yZCI6IiIsInBhZ2VUaXRsZSI6Imw6UHVlcnRvIFJpY28sIFUuUy5BLiIsInByYWN0aWNlQXJlYXMiOlsiUHJvZHVjdHMgTGlhYmlsaXR5Il19&page=4\n",
      "https://www.martindale.com/attorney/melissa-lopez-diaz-2849165/\n",
      "accediendo a: https://www.martindale.com/search/attorneys-law-firms-articles/?term=Puerto+Rico%2C+USA&params=eyJ0eXBlIjoicGVvcGxlIiwiY29tcGFyZSI6IiIsInRlcm0iOiJQdWVydG8gUmljbywgVVNBIiwiZ2VvTG9jYXRpb25GYWNldCI6WyJQdWVydG8gUmljbywgVS5TLkEuIl0sImdlb0xvY2F0aW9uRmFjZXRSZWNlbnRzIjpbIlB1ZXJ0byBSaWNvLCBVLlMuQS4iXSwicGFnZSI6MSwibGltaXQiOjI1LCJvZmZzZXQiOjAsInNvcnQiOiIiLCJzb3J0VHlwZSI6IiIsImNsZWFyUGFyYW1zIjpmYWxzZSwia2V5d29yZCI6IiIsInBhZ2VUaXRsZSI6Imw6UHVlcnRvIFJpY28sIFUuUy5BLiIsInByYWN0aWNlQXJlYXMiOlsiUHJvZHVjdHMgTGlhYmlsaXR5Il19&page=5\n"
     ]
    },
    {
     "name": "stderr",
     "output_type": "stream",
     "text": [
      " 89%|████████▊ | 189/213 [1:18:49<08:02, 20.12s/it]"
     ]
    },
    {
     "name": "stdout",
     "output_type": "stream",
     "text": [
      "paginas en esta url: 10\n",
      "accediendo a: https://www.martindale.com/search/attorneys-law-firms-articles/?term=Puerto+Rico%2C+USA&params=eyJ0eXBlIjoicGVvcGxlIiwiY29tcGFyZSI6IiIsInRlcm0iOiJQdWVydG8gUmljbywgVVNBIiwiZ2VvTG9jYXRpb25GYWNldCI6WyJQdWVydG8gUmljbywgVS5TLkEuIl0sImdlb0xvY2F0aW9uRmFjZXRSZWNlbnRzIjpbIlB1ZXJ0byBSaWNvLCBVLlMuQS4iXSwicGFnZSI6MSwibGltaXQiOjI1LCJvZmZzZXQiOjAsInNvcnQiOiIiLCJzb3J0VHlwZSI6IiIsImNsZWFyUGFyYW1zIjpmYWxzZSwia2V5d29yZCI6IiIsInBhZ2VUaXRsZSI6Imw6UHVlcnRvIFJpY28sIFUuUy5BLiIsInByYWN0aWNlQXJlYXMiOlsiQ2l2aWwgUHJhY3RpY2UiXX0%3D\n",
      "accediendo a: https://www.martindale.com/search/attorneys-law-firms-articles/?term=Puerto+Rico%2C+USA&params=eyJ0eXBlIjoicGVvcGxlIiwiY29tcGFyZSI6IiIsInRlcm0iOiJQdWVydG8gUmljbywgVVNBIiwiZ2VvTG9jYXRpb25GYWNldCI6WyJQdWVydG8gUmljbywgVS5TLkEuIl0sImdlb0xvY2F0aW9uRmFjZXRSZWNlbnRzIjpbIlB1ZXJ0byBSaWNvLCBVLlMuQS4iXSwicGFnZSI6MSwibGltaXQiOjI1LCJvZmZzZXQiOjAsInNvcnQiOiIiLCJzb3J0VHlwZSI6IiIsImNsZWFyUGFyYW1zIjpmYWxzZSwia2V5d29yZCI6IiIsInBhZ2VUaXRsZSI6Imw6UHVlcnRvIFJpY28sIFUuUy5BLiIsInByYWN0aWNlQXJlYXMiOlsiQ2l2aWwgUHJhY3RpY2UiXX0%3D&page=2\n",
      "accediendo a: https://www.martindale.com/search/attorneys-law-firms-articles/?term=Puerto+Rico%2C+USA&params=eyJ0eXBlIjoicGVvcGxlIiwiY29tcGFyZSI6IiIsInRlcm0iOiJQdWVydG8gUmljbywgVVNBIiwiZ2VvTG9jYXRpb25GYWNldCI6WyJQdWVydG8gUmljbywgVS5TLkEuIl0sImdlb0xvY2F0aW9uRmFjZXRSZWNlbnRzIjpbIlB1ZXJ0byBSaWNvLCBVLlMuQS4iXSwicGFnZSI6MSwibGltaXQiOjI1LCJvZmZzZXQiOjAsInNvcnQiOiIiLCJzb3J0VHlwZSI6IiIsImNsZWFyUGFyYW1zIjpmYWxzZSwia2V5d29yZCI6IiIsInBhZ2VUaXRsZSI6Imw6UHVlcnRvIFJpY28sIFUuUy5BLiIsInByYWN0aWNlQXJlYXMiOlsiQ2l2aWwgUHJhY3RpY2UiXX0%3D&page=3\n",
      "accediendo a: https://www.martindale.com/search/attorneys-law-firms-articles/?term=Puerto+Rico%2C+USA&params=eyJ0eXBlIjoicGVvcGxlIiwiY29tcGFyZSI6IiIsInRlcm0iOiJQdWVydG8gUmljbywgVVNBIiwiZ2VvTG9jYXRpb25GYWNldCI6WyJQdWVydG8gUmljbywgVS5TLkEuIl0sImdlb0xvY2F0aW9uRmFjZXRSZWNlbnRzIjpbIlB1ZXJ0byBSaWNvLCBVLlMuQS4iXSwicGFnZSI6MSwibGltaXQiOjI1LCJvZmZzZXQiOjAsInNvcnQiOiIiLCJzb3J0VHlwZSI6IiIsImNsZWFyUGFyYW1zIjpmYWxzZSwia2V5d29yZCI6IiIsInBhZ2VUaXRsZSI6Imw6UHVlcnRvIFJpY28sIFUuUy5BLiIsInByYWN0aWNlQXJlYXMiOlsiQ2l2aWwgUHJhY3RpY2UiXX0%3D&page=4\n",
      "https://www.martindale.com/attorney/melvin-a-padilla-feliciano-1573675/\n",
      "accediendo a: https://www.martindale.com/search/attorneys-law-firms-articles/?term=Puerto+Rico%2C+USA&params=eyJ0eXBlIjoicGVvcGxlIiwiY29tcGFyZSI6IiIsInRlcm0iOiJQdWVydG8gUmljbywgVVNBIiwiZ2VvTG9jYXRpb25GYWNldCI6WyJQdWVydG8gUmljbywgVS5TLkEuIl0sImdlb0xvY2F0aW9uRmFjZXRSZWNlbnRzIjpbIlB1ZXJ0byBSaWNvLCBVLlMuQS4iXSwicGFnZSI6MSwibGltaXQiOjI1LCJvZmZzZXQiOjAsInNvcnQiOiIiLCJzb3J0VHlwZSI6IiIsImNsZWFyUGFyYW1zIjpmYWxzZSwia2V5d29yZCI6IiIsInBhZ2VUaXRsZSI6Imw6UHVlcnRvIFJpY28sIFUuUy5BLiIsInByYWN0aWNlQXJlYXMiOlsiQ2l2aWwgUHJhY3RpY2UiXX0%3D&page=5\n",
      "https://www.martindale.com/attorney/janitza-m-garcia-marrero-3666579/\n",
      "https://www.martindale.com/attorney/laura-gonzalez-bothwell-1572220/\n",
      "accediendo a: https://www.martindale.com/search/attorneys-law-firms-articles/?term=Puerto+Rico%2C+USA&params=eyJ0eXBlIjoicGVvcGxlIiwiY29tcGFyZSI6IiIsInRlcm0iOiJQdWVydG8gUmljbywgVVNBIiwiZ2VvTG9jYXRpb25GYWNldCI6WyJQdWVydG8gUmljbywgVS5TLkEuIl0sImdlb0xvY2F0aW9uRmFjZXRSZWNlbnRzIjpbIlB1ZXJ0byBSaWNvLCBVLlMuQS4iXSwicGFnZSI6MSwibGltaXQiOjI1LCJvZmZzZXQiOjAsInNvcnQiOiIiLCJzb3J0VHlwZSI6IiIsImNsZWFyUGFyYW1zIjpmYWxzZSwia2V5d29yZCI6IiIsInBhZ2VUaXRsZSI6Imw6UHVlcnRvIFJpY28sIFUuUy5BLiIsInByYWN0aWNlQXJlYXMiOlsiQ2l2aWwgUHJhY3RpY2UiXX0%3D&page=6\n",
      "accediendo a: https://www.martindale.com/search/attorneys-law-firms-articles/?term=Puerto+Rico%2C+USA&params=eyJ0eXBlIjoicGVvcGxlIiwiY29tcGFyZSI6IiIsInRlcm0iOiJQdWVydG8gUmljbywgVVNBIiwiZ2VvTG9jYXRpb25GYWNldCI6WyJQdWVydG8gUmljbywgVS5TLkEuIl0sImdlb0xvY2F0aW9uRmFjZXRSZWNlbnRzIjpbIlB1ZXJ0byBSaWNvLCBVLlMuQS4iXSwicGFnZSI6MSwibGltaXQiOjI1LCJvZmZzZXQiOjAsInNvcnQiOiIiLCJzb3J0VHlwZSI6IiIsImNsZWFyUGFyYW1zIjpmYWxzZSwia2V5d29yZCI6IiIsInBhZ2VUaXRsZSI6Imw6UHVlcnRvIFJpY28sIFUuUy5BLiIsInByYWN0aWNlQXJlYXMiOlsiQ2l2aWwgUHJhY3RpY2UiXX0%3D&page=7\n",
      "accediendo a: https://www.martindale.com/search/attorneys-law-firms-articles/?term=Puerto+Rico%2C+USA&params=eyJ0eXBlIjoicGVvcGxlIiwiY29tcGFyZSI6IiIsInRlcm0iOiJQdWVydG8gUmljbywgVVNBIiwiZ2VvTG9jYXRpb25GYWNldCI6WyJQdWVydG8gUmljbywgVS5TLkEuIl0sImdlb0xvY2F0aW9uRmFjZXRSZWNlbnRzIjpbIlB1ZXJ0byBSaWNvLCBVLlMuQS4iXSwicGFnZSI6MSwibGltaXQiOjI1LCJvZmZzZXQiOjAsInNvcnQiOiIiLCJzb3J0VHlwZSI6IiIsImNsZWFyUGFyYW1zIjpmYWxzZSwia2V5d29yZCI6IiIsInBhZ2VUaXRsZSI6Imw6UHVlcnRvIFJpY28sIFUuUy5BLiIsInByYWN0aWNlQXJlYXMiOlsiQ2l2aWwgUHJhY3RpY2UiXX0%3D&page=8\n",
      "https://www.martindale.com/attorney/florencio-g-vega-diaz-jr-1574121/\n",
      "https://www.martindale.com/attorney/jorge-r-davila-1572930/\n",
      "accediendo a: https://www.martindale.com/search/attorneys-law-firms-articles/?term=Puerto+Rico%2C+USA&params=eyJ0eXBlIjoicGVvcGxlIiwiY29tcGFyZSI6IiIsInRlcm0iOiJQdWVydG8gUmljbywgVVNBIiwiZ2VvTG9jYXRpb25GYWNldCI6WyJQdWVydG8gUmljbywgVS5TLkEuIl0sImdlb0xvY2F0aW9uRmFjZXRSZWNlbnRzIjpbIlB1ZXJ0byBSaWNvLCBVLlMuQS4iXSwicGFnZSI6MSwibGltaXQiOjI1LCJvZmZzZXQiOjAsInNvcnQiOiIiLCJzb3J0VHlwZSI6IiIsImNsZWFyUGFyYW1zIjpmYWxzZSwia2V5d29yZCI6IiIsInBhZ2VUaXRsZSI6Imw6UHVlcnRvIFJpY28sIFUuUy5BLiIsInByYWN0aWNlQXJlYXMiOlsiQ2l2aWwgUHJhY3RpY2UiXX0%3D&page=9\n",
      "accediendo a: https://www.martindale.com/search/attorneys-law-firms-articles/?term=Puerto+Rico%2C+USA&params=eyJ0eXBlIjoicGVvcGxlIiwiY29tcGFyZSI6IiIsInRlcm0iOiJQdWVydG8gUmljbywgVVNBIiwiZ2VvTG9jYXRpb25GYWNldCI6WyJQdWVydG8gUmljbywgVS5TLkEuIl0sImdlb0xvY2F0aW9uRmFjZXRSZWNlbnRzIjpbIlB1ZXJ0byBSaWNvLCBVLlMuQS4iXSwicGFnZSI6MSwibGltaXQiOjI1LCJvZmZzZXQiOjAsInNvcnQiOiIiLCJzb3J0VHlwZSI6IiIsImNsZWFyUGFyYW1zIjpmYWxzZSwia2V5d29yZCI6IiIsInBhZ2VUaXRsZSI6Imw6UHVlcnRvIFJpY28sIFUuUy5BLiIsInByYWN0aWNlQXJlYXMiOlsiQ2l2aWwgUHJhY3RpY2UiXX0%3D&page=10\n"
     ]
    },
    {
     "name": "stderr",
     "output_type": "stream",
     "text": [
      " 89%|████████▉ | 190/213 [1:19:13<08:15, 21.54s/it]"
     ]
    },
    {
     "name": "stdout",
     "output_type": "stream",
     "text": [
      "paginas en esta url: 1\n",
      "accediendo a: https://www.martindale.com/search/attorneys-law-firms-articles/?term=Puerto+Rico%2C+USA&params=eyJ0eXBlIjoicGVvcGxlIiwiY29tcGFyZSI6IiIsInRlcm0iOiJQdWVydG8gUmljbywgVVNBIiwiZ2VvTG9jYXRpb25GYWNldCI6WyJQdWVydG8gUmljbywgVS5TLkEuIl0sImdlb0xvY2F0aW9uRmFjZXRSZWNlbnRzIjpbIlB1ZXJ0byBSaWNvLCBVLlMuQS4iXSwicGFnZSI6MSwibGltaXQiOjI1LCJvZmZzZXQiOjAsInNvcnQiOiIiLCJzb3J0VHlwZSI6IiIsImNsZWFyUGFyYW1zIjpmYWxzZSwia2V5d29yZCI6IiIsInBhZ2VUaXRsZSI6Imw6UHVlcnRvIFJpY28sIFUuUy5BLiIsInByYWN0aWNlQXJlYXMiOlsiTGVnYWwgU2VwYXJhdGlvbiJdfQ%3D%3D\n"
     ]
    },
    {
     "name": "stderr",
     "output_type": "stream",
     "text": [
      " 90%|████████▉ | 191/213 [1:19:38<08:11, 22.36s/it]"
     ]
    },
    {
     "name": "stdout",
     "output_type": "stream",
     "text": [
      "paginas en esta url: 3\n",
      "accediendo a: https://www.martindale.com/search/attorneys-law-firms-articles/?term=Puerto+Rico%2C+USA&params=eyJ0eXBlIjoicGVvcGxlIiwiY29tcGFyZSI6IiIsInRlcm0iOiJQdWVydG8gUmljbywgVVNBIiwiZ2VvTG9jYXRpb25GYWNldCI6WyJQdWVydG8gUmljbywgVS5TLkEuIl0sImdlb0xvY2F0aW9uRmFjZXRSZWNlbnRzIjpbIlB1ZXJ0byBSaWNvLCBVLlMuQS4iXSwicGFnZSI6MSwibGltaXQiOjI1LCJvZmZzZXQiOjAsInNvcnQiOiIiLCJzb3J0VHlwZSI6IiIsImNsZWFyUGFyYW1zIjpmYWxzZSwia2V5d29yZCI6IiIsInBhZ2VUaXRsZSI6Imw6UHVlcnRvIFJpY28sIFUuUy5BLiIsInByYWN0aWNlQXJlYXMiOlsiQWRtaXJhbHR5IGFuZCBNYXJpdGltZSBMYXciXX0%3D\n",
      "accediendo a: https://www.martindale.com/search/attorneys-law-firms-articles/?term=Puerto+Rico%2C+USA&params=eyJ0eXBlIjoicGVvcGxlIiwiY29tcGFyZSI6IiIsInRlcm0iOiJQdWVydG8gUmljbywgVVNBIiwiZ2VvTG9jYXRpb25GYWNldCI6WyJQdWVydG8gUmljbywgVS5TLkEuIl0sImdlb0xvY2F0aW9uRmFjZXRSZWNlbnRzIjpbIlB1ZXJ0byBSaWNvLCBVLlMuQS4iXSwicGFnZSI6MSwibGltaXQiOjI1LCJvZmZzZXQiOjAsInNvcnQiOiIiLCJzb3J0VHlwZSI6IiIsImNsZWFyUGFyYW1zIjpmYWxzZSwia2V5d29yZCI6IiIsInBhZ2VUaXRsZSI6Imw6UHVlcnRvIFJpY28sIFUuUy5BLiIsInByYWN0aWNlQXJlYXMiOlsiQWRtaXJhbHR5IGFuZCBNYXJpdGltZSBMYXciXX0%3D&page=2\n",
      "https://www.martindale.com/attorney/carlos-quilichini-teissonniere-1573453/\n",
      "https://www.martindale.com/attorney/louise-shaw-livingston-231132/\n",
      "accediendo a: https://www.martindale.com/search/attorneys-law-firms-articles/?term=Puerto+Rico%2C+USA&params=eyJ0eXBlIjoicGVvcGxlIiwiY29tcGFyZSI6IiIsInRlcm0iOiJQdWVydG8gUmljbywgVVNBIiwiZ2VvTG9jYXRpb25GYWNldCI6WyJQdWVydG8gUmljbywgVS5TLkEuIl0sImdlb0xvY2F0aW9uRmFjZXRSZWNlbnRzIjpbIlB1ZXJ0byBSaWNvLCBVLlMuQS4iXSwicGFnZSI6MSwibGltaXQiOjI1LCJvZmZzZXQiOjAsInNvcnQiOiIiLCJzb3J0VHlwZSI6IiIsImNsZWFyUGFyYW1zIjpmYWxzZSwia2V5d29yZCI6IiIsInBhZ2VUaXRsZSI6Imw6UHVlcnRvIFJpY28sIFUuUy5BLiIsInByYWN0aWNlQXJlYXMiOlsiQWRtaXJhbHR5IGFuZCBNYXJpdGltZSBMYXciXX0%3D&page=3\n"
     ]
    },
    {
     "name": "stderr",
     "output_type": "stream",
     "text": [
      " 90%|█████████ | 192/213 [1:19:50<06:46, 19.34s/it]"
     ]
    },
    {
     "name": "stdout",
     "output_type": "stream",
     "text": [
      "paginas en esta url: 1\n",
      "accediendo a: https://www.martindale.com/search/attorneys-law-firms-articles/?term=Puerto+Rico%2C+USA&params=eyJ0eXBlIjoicGVvcGxlIiwiY29tcGFyZSI6IiIsInRlcm0iOiJQdWVydG8gUmljbywgVVNBIiwiZ2VvTG9jYXRpb25GYWNldCI6WyJQdWVydG8gUmljbywgVS5TLkEuIl0sImdlb0xvY2F0aW9uRmFjZXRSZWNlbnRzIjpbIlB1ZXJ0byBSaWNvLCBVLlMuQS4iXSwicGFnZSI6MSwibGltaXQiOjI1LCJvZmZzZXQiOjAsInNvcnQiOiIiLCJzb3J0VHlwZSI6IiIsImNsZWFyUGFyYW1zIjpmYWxzZSwia2V5d29yZCI6IiIsInBhZ2VUaXRsZSI6Imw6UHVlcnRvIFJpY28sIFUuUy5BLiIsInByYWN0aWNlQXJlYXMiOlsiUGF0ZW50cyJdfQ%3D%3D\n"
     ]
    },
    {
     "name": "stderr",
     "output_type": "stream",
     "text": [
      " 91%|█████████ | 193/213 [1:20:13<06:50, 20.53s/it]"
     ]
    },
    {
     "name": "stdout",
     "output_type": "stream",
     "text": [
      "paginas en esta url: 2\n",
      "accediendo a: https://www.martindale.com/search/attorneys-law-firms-articles/?term=Puerto+Rico%2C+USA&params=eyJ0eXBlIjoicGVvcGxlIiwiY29tcGFyZSI6IiIsInRlcm0iOiJQdWVydG8gUmljbywgVVNBIiwiZ2VvTG9jYXRpb25GYWNldCI6WyJQdWVydG8gUmljbywgVS5TLkEuIl0sImdlb0xvY2F0aW9uRmFjZXRSZWNlbnRzIjpbIlB1ZXJ0byBSaWNvLCBVLlMuQS4iXSwicGFnZSI6MSwibGltaXQiOjI1LCJvZmZzZXQiOjAsInNvcnQiOiIiLCJzb3J0VHlwZSI6IiIsImNsZWFyUGFyYW1zIjpmYWxzZSwia2V5d29yZCI6IiIsInBhZ2VUaXRsZSI6Imw6UHVlcnRvIFJpY28sIFUuUy5BLiIsInByYWN0aWNlQXJlYXMiOlsiVGVsZWNvbW11bmljYXRpb25zIExhdyJdfQ%3D%3D\n",
      "https://www.martindale.com/attorney/maria-d-pizarro-figueroa-1571170/\n",
      "accediendo a: https://www.martindale.com/search/attorneys-law-firms-articles/?term=Puerto+Rico%2C+USA&params=eyJ0eXBlIjoicGVvcGxlIiwiY29tcGFyZSI6IiIsInRlcm0iOiJQdWVydG8gUmljbywgVVNBIiwiZ2VvTG9jYXRpb25GYWNldCI6WyJQdWVydG8gUmljbywgVS5TLkEuIl0sImdlb0xvY2F0aW9uRmFjZXRSZWNlbnRzIjpbIlB1ZXJ0byBSaWNvLCBVLlMuQS4iXSwicGFnZSI6MSwibGltaXQiOjI1LCJvZmZzZXQiOjAsInNvcnQiOiIiLCJzb3J0VHlwZSI6IiIsImNsZWFyUGFyYW1zIjpmYWxzZSwia2V5d29yZCI6IiIsInBhZ2VUaXRsZSI6Imw6UHVlcnRvIFJpY28sIFUuUy5BLiIsInByYWN0aWNlQXJlYXMiOlsiVGVsZWNvbW11bmljYXRpb25zIExhdyJdfQ%3D%3D&page=2\n",
      "https://www.martindale.com/attorney/jorge-bauermeister-1572735/\n",
      "https://www.martindale.com/attorney/veronica-olivieri-barreto-1572841/\n"
     ]
    },
    {
     "name": "stderr",
     "output_type": "stream",
     "text": [
      " 91%|█████████ | 194/213 [1:20:26<05:46, 18.22s/it]"
     ]
    },
    {
     "name": "stdout",
     "output_type": "stream",
     "text": [
      "paginas en esta url: 1\n",
      "accediendo a: https://www.martindale.com/search/attorneys-law-firms-articles/?term=Puerto+Rico%2C+USA&params=eyJ0eXBlIjoicGVvcGxlIiwiY29tcGFyZSI6IiIsInRlcm0iOiJQdWVydG8gUmljbywgVVNBIiwiZ2VvTG9jYXRpb25GYWNldCI6WyJQdWVydG8gUmljbywgVS5TLkEuIl0sImdlb0xvY2F0aW9uRmFjZXRSZWNlbnRzIjpbIlB1ZXJ0byBSaWNvLCBVLlMuQS4iXSwicGFnZSI6MSwibGltaXQiOjI1LCJvZmZzZXQiOjAsInNvcnQiOiIiLCJzb3J0VHlwZSI6IiIsImNsZWFyUGFyYW1zIjpmYWxzZSwia2V5d29yZCI6IiIsInBhZ2VUaXRsZSI6Imw6UHVlcnRvIFJpY28sIFUuUy5BLiIsInByYWN0aWNlQXJlYXMiOlsiU2V4dWFsIEFidXNlIl19\n"
     ]
    },
    {
     "name": "stderr",
     "output_type": "stream",
     "text": [
      " 92%|█████████▏| 195/213 [1:20:49<05:53, 19.66s/it]"
     ]
    },
    {
     "name": "stdout",
     "output_type": "stream",
     "text": [
      "paginas en esta url: 1\n",
      "accediendo a: https://www.martindale.com/search/attorneys-law-firms-articles/?term=Puerto+Rico%2C+USA&params=eyJ0eXBlIjoicGVvcGxlIiwiY29tcGFyZSI6IiIsInRlcm0iOiJQdWVydG8gUmljbywgVVNBIiwiZ2VvTG9jYXRpb25GYWNldCI6WyJQdWVydG8gUmljbywgVS5TLkEuIl0sImdlb0xvY2F0aW9uRmFjZXRSZWNlbnRzIjpbIlB1ZXJ0byBSaWNvLCBVLlMuQS4iXSwicGFnZSI6MSwibGltaXQiOjI1LCJvZmZzZXQiOjAsInNvcnQiOiIiLCJzb3J0VHlwZSI6IiIsImNsZWFyUGFyYW1zIjpmYWxzZSwia2V5d29yZCI6IiIsInBhZ2VUaXRsZSI6Imw6UHVlcnRvIFJpY28sIFUuUy5BLiIsInByYWN0aWNlQXJlYXMiOlsiTGVhc2VzIGFuZCBMZWFzaW5nIl19\n"
     ]
    },
    {
     "name": "stderr",
     "output_type": "stream",
     "text": [
      " 92%|█████████▏| 196/213 [1:21:15<06:04, 21.44s/it]"
     ]
    },
    {
     "name": "stdout",
     "output_type": "stream",
     "text": [
      "paginas en esta url: 7\n",
      "accediendo a: https://www.martindale.com/search/attorneys-law-firms-articles/?term=Puerto+Rico%2C+USA&params=eyJ0eXBlIjoicGVvcGxlIiwiY29tcGFyZSI6IiIsInRlcm0iOiJQdWVydG8gUmljbywgVVNBIiwiZ2VvTG9jYXRpb25GYWNldCI6WyJQdWVydG8gUmljbywgVS5TLkEuIl0sImdlb0xvY2F0aW9uRmFjZXRSZWNlbnRzIjpbIlB1ZXJ0byBSaWNvLCBVLlMuQS4iXSwicGFnZSI6MSwibGltaXQiOjI1LCJvZmZzZXQiOjAsInNvcnQiOiIiLCJzb3J0VHlwZSI6IiIsImNsZWFyUGFyYW1zIjpmYWxzZSwia2V5d29yZCI6IiIsInBhZ2VUaXRsZSI6Imw6UHVlcnRvIFJpY28sIFUuUy5BLiIsInByYWN0aWNlQXJlYXMiOlsiQ29uc3RydWN0aW9uIExhdyJdfQ%3D%3D\n",
      "accediendo a: https://www.martindale.com/search/attorneys-law-firms-articles/?term=Puerto+Rico%2C+USA&params=eyJ0eXBlIjoicGVvcGxlIiwiY29tcGFyZSI6IiIsInRlcm0iOiJQdWVydG8gUmljbywgVVNBIiwiZ2VvTG9jYXRpb25GYWNldCI6WyJQdWVydG8gUmljbywgVS5TLkEuIl0sImdlb0xvY2F0aW9uRmFjZXRSZWNlbnRzIjpbIlB1ZXJ0byBSaWNvLCBVLlMuQS4iXSwicGFnZSI6MSwibGltaXQiOjI1LCJvZmZzZXQiOjAsInNvcnQiOiIiLCJzb3J0VHlwZSI6IiIsImNsZWFyUGFyYW1zIjpmYWxzZSwia2V5d29yZCI6IiIsInBhZ2VUaXRsZSI6Imw6UHVlcnRvIFJpY28sIFUuUy5BLiIsInByYWN0aWNlQXJlYXMiOlsiQ29uc3RydWN0aW9uIExhdyJdfQ%3D%3D&page=2\n",
      "accediendo a: https://www.martindale.com/search/attorneys-law-firms-articles/?term=Puerto+Rico%2C+USA&params=eyJ0eXBlIjoicGVvcGxlIiwiY29tcGFyZSI6IiIsInRlcm0iOiJQdWVydG8gUmljbywgVVNBIiwiZ2VvTG9jYXRpb25GYWNldCI6WyJQdWVydG8gUmljbywgVS5TLkEuIl0sImdlb0xvY2F0aW9uRmFjZXRSZWNlbnRzIjpbIlB1ZXJ0byBSaWNvLCBVLlMuQS4iXSwicGFnZSI6MSwibGltaXQiOjI1LCJvZmZzZXQiOjAsInNvcnQiOiIiLCJzb3J0VHlwZSI6IiIsImNsZWFyUGFyYW1zIjpmYWxzZSwia2V5d29yZCI6IiIsInBhZ2VUaXRsZSI6Imw6UHVlcnRvIFJpY28sIFUuUy5BLiIsInByYWN0aWNlQXJlYXMiOlsiQ29uc3RydWN0aW9uIExhdyJdfQ%3D%3D&page=3\n",
      "accediendo a: https://www.martindale.com/search/attorneys-law-firms-articles/?term=Puerto+Rico%2C+USA&params=eyJ0eXBlIjoicGVvcGxlIiwiY29tcGFyZSI6IiIsInRlcm0iOiJQdWVydG8gUmljbywgVVNBIiwiZ2VvTG9jYXRpb25GYWNldCI6WyJQdWVydG8gUmljbywgVS5TLkEuIl0sImdlb0xvY2F0aW9uRmFjZXRSZWNlbnRzIjpbIlB1ZXJ0byBSaWNvLCBVLlMuQS4iXSwicGFnZSI6MSwibGltaXQiOjI1LCJvZmZzZXQiOjAsInNvcnQiOiIiLCJzb3J0VHlwZSI6IiIsImNsZWFyUGFyYW1zIjpmYWxzZSwia2V5d29yZCI6IiIsInBhZ2VUaXRsZSI6Imw6UHVlcnRvIFJpY28sIFUuUy5BLiIsInByYWN0aWNlQXJlYXMiOlsiQ29uc3RydWN0aW9uIExhdyJdfQ%3D%3D&page=4\n",
      "accediendo a: https://www.martindale.com/search/attorneys-law-firms-articles/?term=Puerto+Rico%2C+USA&params=eyJ0eXBlIjoicGVvcGxlIiwiY29tcGFyZSI6IiIsInRlcm0iOiJQdWVydG8gUmljbywgVVNBIiwiZ2VvTG9jYXRpb25GYWNldCI6WyJQdWVydG8gUmljbywgVS5TLkEuIl0sImdlb0xvY2F0aW9uRmFjZXRSZWNlbnRzIjpbIlB1ZXJ0byBSaWNvLCBVLlMuQS4iXSwicGFnZSI6MSwibGltaXQiOjI1LCJvZmZzZXQiOjAsInNvcnQiOiIiLCJzb3J0VHlwZSI6IiIsImNsZWFyUGFyYW1zIjpmYWxzZSwia2V5d29yZCI6IiIsInBhZ2VUaXRsZSI6Imw6UHVlcnRvIFJpY28sIFUuUy5BLiIsInByYWN0aWNlQXJlYXMiOlsiQ29uc3RydWN0aW9uIExhdyJdfQ%3D%3D&page=5\n",
      "accediendo a: https://www.martindale.com/search/attorneys-law-firms-articles/?term=Puerto+Rico%2C+USA&params=eyJ0eXBlIjoicGVvcGxlIiwiY29tcGFyZSI6IiIsInRlcm0iOiJQdWVydG8gUmljbywgVVNBIiwiZ2VvTG9jYXRpb25GYWNldCI6WyJQdWVydG8gUmljbywgVS5TLkEuIl0sImdlb0xvY2F0aW9uRmFjZXRSZWNlbnRzIjpbIlB1ZXJ0byBSaWNvLCBVLlMuQS4iXSwicGFnZSI6MSwibGltaXQiOjI1LCJvZmZzZXQiOjAsInNvcnQiOiIiLCJzb3J0VHlwZSI6IiIsImNsZWFyUGFyYW1zIjpmYWxzZSwia2V5d29yZCI6IiIsInBhZ2VUaXRsZSI6Imw6UHVlcnRvIFJpY28sIFUuUy5BLiIsInByYWN0aWNlQXJlYXMiOlsiQ29uc3RydWN0aW9uIExhdyJdfQ%3D%3D&page=6\n",
      "accediendo a: https://www.martindale.com/search/attorneys-law-firms-articles/?term=Puerto+Rico%2C+USA&params=eyJ0eXBlIjoicGVvcGxlIiwiY29tcGFyZSI6IiIsInRlcm0iOiJQdWVydG8gUmljbywgVVNBIiwiZ2VvTG9jYXRpb25GYWNldCI6WyJQdWVydG8gUmljbywgVS5TLkEuIl0sImdlb0xvY2F0aW9uRmFjZXRSZWNlbnRzIjpbIlB1ZXJ0byBSaWNvLCBVLlMuQS4iXSwicGFnZSI6MSwibGltaXQiOjI1LCJvZmZzZXQiOjAsInNvcnQiOiIiLCJzb3J0VHlwZSI6IiIsImNsZWFyUGFyYW1zIjpmYWxzZSwia2V5d29yZCI6IiIsInBhZ2VUaXRsZSI6Imw6UHVlcnRvIFJpY28sIFUuUy5BLiIsInByYWN0aWNlQXJlYXMiOlsiQ29uc3RydWN0aW9uIExhdyJdfQ%3D%3D&page=7\n"
     ]
    },
    {
     "name": "stderr",
     "output_type": "stream",
     "text": [
      " 92%|█████████▏| 197/213 [1:21:35<05:39, 21.20s/it]"
     ]
    },
    {
     "name": "stdout",
     "output_type": "stream",
     "text": [
      "paginas en esta url: 1\n",
      "accediendo a: https://www.martindale.com/search/attorneys-law-firms-articles/?term=Puerto+Rico%2C+USA&params=eyJ0eXBlIjoicGVvcGxlIiwiY29tcGFyZSI6IiIsInRlcm0iOiJQdWVydG8gUmljbywgVVNBIiwiZ2VvTG9jYXRpb25GYWNldCI6WyJQdWVydG8gUmljbywgVS5TLkEuIl0sImdlb0xvY2F0aW9uRmFjZXRSZWNlbnRzIjpbIlB1ZXJ0byBSaWNvLCBVLlMuQS4iXSwicGFnZSI6MSwibGltaXQiOjI1LCJvZmZzZXQiOjAsInNvcnQiOiIiLCJzb3J0VHlwZSI6IiIsImNsZWFyUGFyYW1zIjpmYWxzZSwia2V5d29yZCI6IiIsInBhZ2VUaXRsZSI6Imw6UHVlcnRvIFJpY28sIFUuUy5BLiIsInByYWN0aWNlQXJlYXMiOlsiTm9ucHJvZml0IGFuZCBDaGFyaXRhYmxlIE9yZ2FuaXphdGlvbnMiXX0%3D\n"
     ]
    },
    {
     "name": "stderr",
     "output_type": "stream",
     "text": [
      " 93%|█████████▎| 198/213 [1:22:00<05:31, 22.10s/it]"
     ]
    },
    {
     "name": "stdout",
     "output_type": "stream",
     "text": [
      "paginas en esta url: 1\n",
      "accediendo a: https://www.martindale.com/search/attorneys-law-firms-articles/?term=Puerto+Rico%2C+USA&params=eyJ0eXBlIjoicGVvcGxlIiwiY29tcGFyZSI6IiIsInRlcm0iOiJQdWVydG8gUmljbywgVVNBIiwiZ2VvTG9jYXRpb25GYWNldCI6WyJQdWVydG8gUmljbywgVS5TLkEuIl0sImdlb0xvY2F0aW9uRmFjZXRSZWNlbnRzIjpbIlB1ZXJ0byBSaWNvLCBVLlMuQS4iXSwicGFnZSI6MSwibGltaXQiOjI1LCJvZmZzZXQiOjAsInNvcnQiOiIiLCJzb3J0VHlwZSI6IiIsImNsZWFyUGFyYW1zIjpmYWxzZSwia2V5d29yZCI6IiIsInBhZ2VUaXRsZSI6Imw6UHVlcnRvIFJpY28sIFUuUy5BLiIsInByYWN0aWNlQXJlYXMiOlsiR2FtaW5nIExhdyJdfQ%3D%3D\n"
     ]
    },
    {
     "name": "stderr",
     "output_type": "stream",
     "text": [
      " 93%|█████████▎| 199/213 [1:22:23<05:15, 22.51s/it]"
     ]
    },
    {
     "name": "stdout",
     "output_type": "stream",
     "text": [
      "paginas en esta url: 1\n",
      "accediendo a: https://www.martindale.com/search/attorneys-law-firms-articles/?term=Puerto+Rico%2C+USA&params=eyJ0eXBlIjoicGVvcGxlIiwiY29tcGFyZSI6IiIsInRlcm0iOiJQdWVydG8gUmljbywgVVNBIiwiZ2VvTG9jYXRpb25GYWNldCI6WyJQdWVydG8gUmljbywgVS5TLkEuIl0sImdlb0xvY2F0aW9uRmFjZXRSZWNlbnRzIjpbIlB1ZXJ0byBSaWNvLCBVLlMuQS4iXSwicGFnZSI6MSwibGltaXQiOjI1LCJvZmZzZXQiOjAsInNvcnQiOiIiLCJzb3J0VHlwZSI6IiIsImNsZWFyUGFyYW1zIjpmYWxzZSwia2V5d29yZCI6IiIsInBhZ2VUaXRsZSI6Imw6UHVlcnRvIFJpY28sIFUuUy5BLiIsInByYWN0aWNlQXJlYXMiOlsiQ3JlZGl0b3JzIFJpZ2h0cyJdfQ%3D%3D\n"
     ]
    },
    {
     "name": "stderr",
     "output_type": "stream",
     "text": [
      " 94%|█████████▍| 200/213 [1:22:48<05:01, 23.17s/it]"
     ]
    },
    {
     "name": "stdout",
     "output_type": "stream",
     "text": [
      "paginas en esta url: 1\n",
      "accediendo a: https://www.martindale.com/search/attorneys-law-firms-articles/?term=Puerto+Rico%2C+USA&params=eyJ0eXBlIjoicGVvcGxlIiwiY29tcGFyZSI6IiIsInRlcm0iOiJQdWVydG8gUmljbywgVVNBIiwiZ2VvTG9jYXRpb25GYWNldCI6WyJQdWVydG8gUmljbywgVS5TLkEuIl0sImdlb0xvY2F0aW9uRmFjZXRSZWNlbnRzIjpbIlB1ZXJ0byBSaWNvLCBVLlMuQS4iXSwicGFnZSI6MSwibGltaXQiOjI1LCJvZmZzZXQiOjAsInNvcnQiOiIiLCJzb3J0VHlwZSI6IiIsImNsZWFyUGFyYW1zIjpmYWxzZSwia2V5d29yZCI6IiIsInBhZ2VUaXRsZSI6Imw6UHVlcnRvIFJpY28sIFUuUy5BLiIsInByYWN0aWNlQXJlYXMiOlsiR3VhcmRpYW5zaGlwIGFuZCBDb25zZXJ2YXRvcnNoaXAiXX0%3D\n"
     ]
    },
    {
     "name": "stderr",
     "output_type": "stream",
     "text": [
      " 94%|█████████▍| 201/213 [1:23:11<04:39, 23.26s/it]"
     ]
    },
    {
     "name": "stdout",
     "output_type": "stream",
     "text": [
      "paginas en esta url: 3\n",
      "accediendo a: https://www.martindale.com/search/attorneys-law-firms-articles/?term=Puerto+Rico%2C+USA&params=eyJ0eXBlIjoicGVvcGxlIiwiY29tcGFyZSI6IiIsInRlcm0iOiJQdWVydG8gUmljbywgVVNBIiwiZ2VvTG9jYXRpb25GYWNldCI6WyJQdWVydG8gUmljbywgVS5TLkEuIl0sImdlb0xvY2F0aW9uRmFjZXRSZWNlbnRzIjpbIlB1ZXJ0byBSaWNvLCBVLlMuQS4iXSwicGFnZSI6MSwibGltaXQiOjI1LCJvZmZzZXQiOjAsInNvcnQiOiIiLCJzb3J0VHlwZSI6IiIsImNsZWFyUGFyYW1zIjpmYWxzZSwia2V5d29yZCI6IiIsInBhZ2VUaXRsZSI6Imw6UHVlcnRvIFJpY28sIFUuUy5BLiIsInByYWN0aWNlQXJlYXMiOlsiRW1wbG95ZWUgQmVuZWZpdHMiXX0%3D\n",
      "https://www.martindale.com/attorney/soledad-reichard-megwinoff-1573277/\n",
      "accediendo a: https://www.martindale.com/search/attorneys-law-firms-articles/?term=Puerto+Rico%2C+USA&params=eyJ0eXBlIjoicGVvcGxlIiwiY29tcGFyZSI6IiIsInRlcm0iOiJQdWVydG8gUmljbywgVVNBIiwiZ2VvTG9jYXRpb25GYWNldCI6WyJQdWVydG8gUmljbywgVS5TLkEuIl0sImdlb0xvY2F0aW9uRmFjZXRSZWNlbnRzIjpbIlB1ZXJ0byBSaWNvLCBVLlMuQS4iXSwicGFnZSI6MSwibGltaXQiOjI1LCJvZmZzZXQiOjAsInNvcnQiOiIiLCJzb3J0VHlwZSI6IiIsImNsZWFyUGFyYW1zIjpmYWxzZSwia2V5d29yZCI6IiIsInBhZ2VUaXRsZSI6Imw6UHVlcnRvIFJpY28sIFUuUy5BLiIsInByYWN0aWNlQXJlYXMiOlsiRW1wbG95ZWUgQmVuZWZpdHMiXX0%3D&page=2\n",
      "https://www.martindale.com/attorney/tatiana-leal-gonzalez-300327664/\n",
      "accediendo a: https://www.martindale.com/search/attorneys-law-firms-articles/?term=Puerto+Rico%2C+USA&params=eyJ0eXBlIjoicGVvcGxlIiwiY29tcGFyZSI6IiIsInRlcm0iOiJQdWVydG8gUmljbywgVVNBIiwiZ2VvTG9jYXRpb25GYWNldCI6WyJQdWVydG8gUmljbywgVS5TLkEuIl0sImdlb0xvY2F0aW9uRmFjZXRSZWNlbnRzIjpbIlB1ZXJ0byBSaWNvLCBVLlMuQS4iXSwicGFnZSI6MSwibGltaXQiOjI1LCJvZmZzZXQiOjAsInNvcnQiOiIiLCJzb3J0VHlwZSI6IiIsImNsZWFyUGFyYW1zIjpmYWxzZSwia2V5d29yZCI6IiIsInBhZ2VUaXRsZSI6Imw6UHVlcnRvIFJpY28sIFUuUy5BLiIsInByYWN0aWNlQXJlYXMiOlsiRW1wbG95ZWUgQmVuZWZpdHMiXX0%3D&page=3\n"
     ]
    },
    {
     "name": "stderr",
     "output_type": "stream",
     "text": [
      " 95%|█████████▍| 202/213 [1:23:24<03:42, 20.19s/it]"
     ]
    },
    {
     "name": "stdout",
     "output_type": "stream",
     "text": [
      "paginas en esta url: 1\n",
      "accediendo a: https://www.martindale.com/search/attorneys-law-firms-articles/?term=Puerto+Rico%2C+USA&params=eyJ0eXBlIjoicGVvcGxlIiwiY29tcGFyZSI6IiIsInRlcm0iOiJQdWVydG8gUmljbywgVVNBIiwiZ2VvTG9jYXRpb25GYWNldCI6WyJQdWVydG8gUmljbywgVS5TLkEuIl0sImdlb0xvY2F0aW9uRmFjZXRSZWNlbnRzIjpbIlB1ZXJ0byBSaWNvLCBVLlMuQS4iXSwicGFnZSI6MSwibGltaXQiOjI1LCJvZmZzZXQiOjAsInNvcnQiOiIiLCJzb3J0VHlwZSI6IiIsImNsZWFyUGFyYW1zIjpmYWxzZSwia2V5d29yZCI6IiIsInBhZ2VUaXRsZSI6Imw6UHVlcnRvIFJpY28sIFUuUy5BLiIsInByYWN0aWNlQXJlYXMiOlsiRWxkZXIgTGF3Il19\n"
     ]
    },
    {
     "name": "stderr",
     "output_type": "stream",
     "text": [
      " 95%|█████████▌| 203/213 [1:23:47<03:30, 21.10s/it]"
     ]
    },
    {
     "name": "stdout",
     "output_type": "stream",
     "text": [
      "paginas en esta url: 1\n",
      "accediendo a: https://www.martindale.com/search/attorneys-law-firms-articles/?term=Puerto+Rico%2C+USA&params=eyJ0eXBlIjoicGVvcGxlIiwiY29tcGFyZSI6IiIsInRlcm0iOiJQdWVydG8gUmljbywgVVNBIiwiZ2VvTG9jYXRpb25GYWNldCI6WyJQdWVydG8gUmljbywgVS5TLkEuIl0sImdlb0xvY2F0aW9uRmFjZXRSZWNlbnRzIjpbIlB1ZXJ0byBSaWNvLCBVLlMuQS4iXSwicGFnZSI6MSwibGltaXQiOjI1LCJvZmZzZXQiOjAsInNvcnQiOiIiLCJzb3J0VHlwZSI6IiIsImNsZWFyUGFyYW1zIjpmYWxzZSwia2V5d29yZCI6IiIsInBhZ2VUaXRsZSI6Imw6UHVlcnRvIFJpY28sIFUuUy5BLiIsInByYWN0aWNlQXJlYXMiOlsiQXJjaGl0ZWN0cyBhbmQgRW5naW5lZXJzIExpYWJpbGl0eSJdfQ%3D%3D\n"
     ]
    },
    {
     "name": "stderr",
     "output_type": "stream",
     "text": [
      " 96%|█████████▌| 204/213 [1:24:12<03:20, 22.25s/it]"
     ]
    },
    {
     "name": "stdout",
     "output_type": "stream",
     "text": [
      "paginas en esta url: 1\n",
      "accediendo a: https://www.martindale.com/search/attorneys-law-firms-articles/?term=Puerto+Rico%2C+USA&params=eyJ0eXBlIjoicGVvcGxlIiwiY29tcGFyZSI6IiIsInRlcm0iOiJQdWVydG8gUmljbywgVVNBIiwiZ2VvTG9jYXRpb25GYWNldCI6WyJQdWVydG8gUmljbywgVS5TLkEuIl0sImdlb0xvY2F0aW9uRmFjZXRSZWNlbnRzIjpbIlB1ZXJ0byBSaWNvLCBVLlMuQS4iXSwicGFnZSI6MSwibGltaXQiOjI1LCJvZmZzZXQiOjAsInNvcnQiOiIiLCJzb3J0VHlwZSI6IiIsImNsZWFyUGFyYW1zIjpmYWxzZSwia2V5d29yZCI6IiIsInBhZ2VUaXRsZSI6Imw6UHVlcnRvIFJpY28sIFUuUy5BLiIsInByYWN0aWNlQXJlYXMiOlsiRmluYW5jaWFsIFNlcnZpY2VzIExhdyJdfQ%3D%3D\n"
     ]
    },
    {
     "name": "stderr",
     "output_type": "stream",
     "text": [
      " 96%|█████████▌| 205/213 [1:24:36<03:00, 22.56s/it]"
     ]
    },
    {
     "name": "stdout",
     "output_type": "stream",
     "text": [
      "paginas en esta url: 1\n",
      "accediendo a: https://www.martindale.com/search/attorneys-law-firms-articles/?term=Puerto+Rico%2C+USA&params=eyJ0eXBlIjoicGVvcGxlIiwiY29tcGFyZSI6IiIsInRlcm0iOiJQdWVydG8gUmljbywgVVNBIiwiZ2VvTG9jYXRpb25GYWNldCI6WyJQdWVydG8gUmljbywgVS5TLkEuIl0sImdlb0xvY2F0aW9uRmFjZXRSZWNlbnRzIjpbIlB1ZXJ0byBSaWNvLCBVLlMuQS4iXSwicGFnZSI6MSwibGltaXQiOjI1LCJvZmZzZXQiOjAsInNvcnQiOiIiLCJzb3J0VHlwZSI6IiIsImNsZWFyUGFyYW1zIjpmYWxzZSwia2V5d29yZCI6IiIsInBhZ2VUaXRsZSI6Imw6UHVlcnRvIFJpY28sIFUuUy5BLiIsInByYWN0aWNlQXJlYXMiOlsiTGVnaXNsYXRpdmUgUHJhY3RpY2UiXX0%3D\n"
     ]
    },
    {
     "name": "stderr",
     "output_type": "stream",
     "text": [
      " 97%|█████████▋| 206/213 [1:25:00<02:42, 23.15s/it]"
     ]
    },
    {
     "name": "stdout",
     "output_type": "stream",
     "text": [
      "paginas en esta url: 1\n",
      "accediendo a: https://www.martindale.com/search/attorneys-law-firms-articles/?term=Puerto+Rico%2C+USA&params=eyJ0eXBlIjoicGVvcGxlIiwiY29tcGFyZSI6IiIsInRlcm0iOiJQdWVydG8gUmljbywgVVNBIiwiZ2VvTG9jYXRpb25GYWNldCI6WyJQdWVydG8gUmljbywgVS5TLkEuIl0sImdlb0xvY2F0aW9uRmFjZXRSZWNlbnRzIjpbIlB1ZXJ0byBSaWNvLCBVLlMuQS4iXSwicGFnZSI6MSwibGltaXQiOjI1LCJvZmZzZXQiOjAsInNvcnQiOiIiLCJzb3J0VHlwZSI6IiIsImNsZWFyUGFyYW1zIjpmYWxzZSwia2V5d29yZCI6IiIsInBhZ2VUaXRsZSI6Imw6UHVlcnRvIFJpY28sIFUuUy5BLiIsInByYWN0aWNlQXJlYXMiOlsiTGVnYWwgRXRoaWNzIGFuZCBQcm9mZXNzaW9uYWwgUmVzcG9uc2liaWxpdHkiXX0%3D\n"
     ]
    },
    {
     "name": "stderr",
     "output_type": "stream",
     "text": [
      " 97%|█████████▋| 207/213 [1:25:24<02:19, 23.21s/it]"
     ]
    },
    {
     "name": "stdout",
     "output_type": "stream",
     "text": [
      "paginas en esta url: 1\n",
      "accediendo a: https://www.martindale.com/search/attorneys-law-firms-articles/?term=Puerto+Rico%2C+USA&params=eyJ0eXBlIjoicGVvcGxlIiwiY29tcGFyZSI6IiIsInRlcm0iOiJQdWVydG8gUmljbywgVVNBIiwiZ2VvTG9jYXRpb25GYWNldCI6WyJQdWVydG8gUmljbywgVS5TLkEuIl0sImdlb0xvY2F0aW9uRmFjZXRSZWNlbnRzIjpbIlB1ZXJ0byBSaWNvLCBVLlMuQS4iXSwicGFnZSI6MSwibGltaXQiOjI1LCJvZmZzZXQiOjAsInNvcnQiOiIiLCJzb3J0VHlwZSI6IiIsImNsZWFyUGFyYW1zIjpmYWxzZSwia2V5d29yZCI6IiIsInBhZ2VUaXRsZSI6Imw6UHVlcnRvIFJpY28sIFUuUy5BLiIsInByYWN0aWNlQXJlYXMiOlsiT2lsIGFuZCBHYXMiXX0%3D\n"
     ]
    },
    {
     "name": "stderr",
     "output_type": "stream",
     "text": [
      " 98%|█████████▊| 208/213 [1:25:47<01:56, 23.34s/it]"
     ]
    },
    {
     "name": "stdout",
     "output_type": "stream",
     "text": [
      "paginas en esta url: 1\n",
      "accediendo a: https://www.martindale.com/search/attorneys-law-firms-articles/?term=Puerto+Rico%2C+USA&params=eyJ0eXBlIjoicGVvcGxlIiwiY29tcGFyZSI6IiIsInRlcm0iOiJQdWVydG8gUmljbywgVVNBIiwiZ2VvTG9jYXRpb25GYWNldCI6WyJQdWVydG8gUmljbywgVS5TLkEuIl0sImdlb0xvY2F0aW9uRmFjZXRSZWNlbnRzIjpbIlB1ZXJ0byBSaWNvLCBVLlMuQS4iXSwicGFnZSI6MSwibGltaXQiOjI1LCJvZmZzZXQiOjAsInNvcnQiOiIiLCJzb3J0VHlwZSI6IiIsImNsZWFyUGFyYW1zIjpmYWxzZSwia2V5d29yZCI6IiIsInBhZ2VUaXRsZSI6Imw6UHVlcnRvIFJpY28sIFUuUy5BLiIsInByYWN0aWNlQXJlYXMiOlsiTXVuaWNpcGFsIExhdyJdfQ%3D%3D\n"
     ]
    },
    {
     "name": "stderr",
     "output_type": "stream",
     "text": [
      " 98%|█████████▊| 209/213 [1:26:12<01:34, 23.68s/it]"
     ]
    },
    {
     "name": "stdout",
     "output_type": "stream",
     "text": [
      "paginas en esta url: 1\n",
      "accediendo a: https://www.martindale.com/search/attorneys-law-firms-articles/?term=Puerto+Rico%2C+USA&params=eyJ0eXBlIjoicGVvcGxlIiwiY29tcGFyZSI6IiIsInRlcm0iOiJQdWVydG8gUmljbywgVVNBIiwiZ2VvTG9jYXRpb25GYWNldCI6WyJQdWVydG8gUmljbywgVS5TLkEuIl0sImdlb0xvY2F0aW9uRmFjZXRSZWNlbnRzIjpbIlB1ZXJ0byBSaWNvLCBVLlMuQS4iXSwicGFnZSI6MSwibGltaXQiOjI1LCJvZmZzZXQiOjAsInNvcnQiOiIiLCJzb3J0VHlwZSI6IiIsImNsZWFyUGFyYW1zIjpmYWxzZSwia2V5d29yZCI6IiIsInBhZ2VUaXRsZSI6Imw6UHVlcnRvIFJpY28sIFUuUy5BLiIsInByYWN0aWNlQXJlYXMiOlsiUHJlbWlzZXMgTGlhYmlsaXR5Il19\n"
     ]
    },
    {
     "name": "stderr",
     "output_type": "stream",
     "text": [
      " 99%|█████████▊| 210/213 [1:26:37<01:12, 24.03s/it]"
     ]
    },
    {
     "name": "stdout",
     "output_type": "stream",
     "text": [
      "paginas en esta url: 1\n",
      "accediendo a: https://www.martindale.com/search/attorneys-law-firms-articles/?term=Puerto+Rico%2C+USA&params=eyJ0eXBlIjoicGVvcGxlIiwiY29tcGFyZSI6IiIsInRlcm0iOiJQdWVydG8gUmljbywgVVNBIiwiZ2VvTG9jYXRpb25GYWNldCI6WyJQdWVydG8gUmljbywgVS5TLkEuIl0sImdlb0xvY2F0aW9uRmFjZXRSZWNlbnRzIjpbIlB1ZXJ0byBSaWNvLCBVLlMuQS4iXSwicGFnZSI6MSwibGltaXQiOjI1LCJvZmZzZXQiOjAsInNvcnQiOiIiLCJzb3J0VHlwZSI6IiIsImNsZWFyUGFyYW1zIjpmYWxzZSwia2V5d29yZCI6IiIsInBhZ2VUaXRsZSI6Imw6UHVlcnRvIFJpY28sIFUuUy5BLiIsInByYWN0aWNlQXJlYXMiOlsiVmVudHVyZSBDYXBpdGFsIl19\n"
     ]
    },
    {
     "name": "stderr",
     "output_type": "stream",
     "text": [
      " 99%|█████████▉| 211/213 [1:27:00<00:47, 23.87s/it]"
     ]
    },
    {
     "name": "stdout",
     "output_type": "stream",
     "text": [
      "paginas en esta url: 1\n",
      "accediendo a: https://www.martindale.com/search/attorneys-law-firms-articles/?term=Puerto+Rico%2C+USA&params=eyJ0eXBlIjoicGVvcGxlIiwiY29tcGFyZSI6IiIsInRlcm0iOiJQdWVydG8gUmljbywgVVNBIiwiZ2VvTG9jYXRpb25GYWNldCI6WyJQdWVydG8gUmljbywgVS5TLkEuIl0sImdlb0xvY2F0aW9uRmFjZXRSZWNlbnRzIjpbIlB1ZXJ0byBSaWNvLCBVLlMuQS4iXSwicGFnZSI6MSwibGltaXQiOjI1LCJvZmZzZXQiOjAsInNvcnQiOiIiLCJzb3J0VHlwZSI6IiIsImNsZWFyUGFyYW1zIjpmYWxzZSwia2V5d29yZCI6IiIsInBhZ2VUaXRsZSI6Imw6UHVlcnRvIFJpY28sIFUuUy5BLiIsInByYWN0aWNlQXJlYXMiOlsiQWRtaW5pc3RyYXRpdmUgSGVhcmluZ3MgYW5kIEFwcGVhbHMiXX0%3D\n"
     ]
    },
    {
     "name": "stderr",
     "output_type": "stream",
     "text": [
      "100%|█████████▉| 212/213 [1:27:23<00:23, 23.49s/it]"
     ]
    },
    {
     "name": "stdout",
     "output_type": "stream",
     "text": [
      "paginas en esta url: 6\n",
      "accediendo a: https://www.martindale.com/search/attorneys-law-firms-articles/?term=Puerto+Rico%2C+USA&params=eyJ0eXBlIjoicGVvcGxlIiwiY29tcGFyZSI6IiIsInRlcm0iOiJQdWVydG8gUmljbywgVVNBIiwiZ2VvTG9jYXRpb25GYWNldCI6WyJQdWVydG8gUmljbywgVS5TLkEuIl0sImdlb0xvY2F0aW9uRmFjZXRSZWNlbnRzIjpbIlB1ZXJ0byBSaWNvLCBVLlMuQS4iXSwicGFnZSI6MSwibGltaXQiOjI1LCJvZmZzZXQiOjAsInNvcnQiOiIiLCJzb3J0VHlwZSI6IiIsImNsZWFyUGFyYW1zIjpmYWxzZSwia2V5d29yZCI6IiIsInBhZ2VUaXRsZSI6Imw6UHVlcnRvIFJpY28sIFUuUy5BLiIsInByYWN0aWNlQXJlYXMiOlsiVHJ1c3RzIGFuZCBFc3RhdGVzIl19\n",
      "accediendo a: https://www.martindale.com/search/attorneys-law-firms-articles/?term=Puerto+Rico%2C+USA&params=eyJ0eXBlIjoicGVvcGxlIiwiY29tcGFyZSI6IiIsInRlcm0iOiJQdWVydG8gUmljbywgVVNBIiwiZ2VvTG9jYXRpb25GYWNldCI6WyJQdWVydG8gUmljbywgVS5TLkEuIl0sImdlb0xvY2F0aW9uRmFjZXRSZWNlbnRzIjpbIlB1ZXJ0byBSaWNvLCBVLlMuQS4iXSwicGFnZSI6MSwibGltaXQiOjI1LCJvZmZzZXQiOjAsInNvcnQiOiIiLCJzb3J0VHlwZSI6IiIsImNsZWFyUGFyYW1zIjpmYWxzZSwia2V5d29yZCI6IiIsInBhZ2VUaXRsZSI6Imw6UHVlcnRvIFJpY28sIFUuUy5BLiIsInByYWN0aWNlQXJlYXMiOlsiVHJ1c3RzIGFuZCBFc3RhdGVzIl19&page=2\n",
      "accediendo a: https://www.martindale.com/search/attorneys-law-firms-articles/?term=Puerto+Rico%2C+USA&params=eyJ0eXBlIjoicGVvcGxlIiwiY29tcGFyZSI6IiIsInRlcm0iOiJQdWVydG8gUmljbywgVVNBIiwiZ2VvTG9jYXRpb25GYWNldCI6WyJQdWVydG8gUmljbywgVS5TLkEuIl0sImdlb0xvY2F0aW9uRmFjZXRSZWNlbnRzIjpbIlB1ZXJ0byBSaWNvLCBVLlMuQS4iXSwicGFnZSI6MSwibGltaXQiOjI1LCJvZmZzZXQiOjAsInNvcnQiOiIiLCJzb3J0VHlwZSI6IiIsImNsZWFyUGFyYW1zIjpmYWxzZSwia2V5d29yZCI6IiIsInBhZ2VUaXRsZSI6Imw6UHVlcnRvIFJpY28sIFUuUy5BLiIsInByYWN0aWNlQXJlYXMiOlsiVHJ1c3RzIGFuZCBFc3RhdGVzIl19&page=3\n",
      "https://www.martindale.com/attorney/miguel-a-ceceres-colon-2227072/\n",
      "accediendo a: https://www.martindale.com/search/attorneys-law-firms-articles/?term=Puerto+Rico%2C+USA&params=eyJ0eXBlIjoicGVvcGxlIiwiY29tcGFyZSI6IiIsInRlcm0iOiJQdWVydG8gUmljbywgVVNBIiwiZ2VvTG9jYXRpb25GYWNldCI6WyJQdWVydG8gUmljbywgVS5TLkEuIl0sImdlb0xvY2F0aW9uRmFjZXRSZWNlbnRzIjpbIlB1ZXJ0byBSaWNvLCBVLlMuQS4iXSwicGFnZSI6MSwibGltaXQiOjI1LCJvZmZzZXQiOjAsInNvcnQiOiIiLCJzb3J0VHlwZSI6IiIsImNsZWFyUGFyYW1zIjpmYWxzZSwia2V5d29yZCI6IiIsInBhZ2VUaXRsZSI6Imw6UHVlcnRvIFJpY28sIFUuUy5BLiIsInByYWN0aWNlQXJlYXMiOlsiVHJ1c3RzIGFuZCBFc3RhdGVzIl19&page=4\n",
      "https://www.martindale.com/attorney/denise-alberty-4719359/\n",
      "https://www.martindale.com/attorney/maria-del-pilar-bobonis-zequeira-1574183/\n",
      "accediendo a: https://www.martindale.com/search/attorneys-law-firms-articles/?term=Puerto+Rico%2C+USA&params=eyJ0eXBlIjoicGVvcGxlIiwiY29tcGFyZSI6IiIsInRlcm0iOiJQdWVydG8gUmljbywgVVNBIiwiZ2VvTG9jYXRpb25GYWNldCI6WyJQdWVydG8gUmljbywgVS5TLkEuIl0sImdlb0xvY2F0aW9uRmFjZXRSZWNlbnRzIjpbIlB1ZXJ0byBSaWNvLCBVLlMuQS4iXSwicGFnZSI6MSwibGltaXQiOjI1LCJvZmZzZXQiOjAsInNvcnQiOiIiLCJzb3J0VHlwZSI6IiIsImNsZWFyUGFyYW1zIjpmYWxzZSwia2V5d29yZCI6IiIsInBhZ2VUaXRsZSI6Imw6UHVlcnRvIFJpY28sIFUuUy5BLiIsInByYWN0aWNlQXJlYXMiOlsiVHJ1c3RzIGFuZCBFc3RhdGVzIl19&page=5\n",
      "accediendo a: https://www.martindale.com/search/attorneys-law-firms-articles/?term=Puerto+Rico%2C+USA&params=eyJ0eXBlIjoicGVvcGxlIiwiY29tcGFyZSI6IiIsInRlcm0iOiJQdWVydG8gUmljbywgVVNBIiwiZ2VvTG9jYXRpb25GYWNldCI6WyJQdWVydG8gUmljbywgVS5TLkEuIl0sImdlb0xvY2F0aW9uRmFjZXRSZWNlbnRzIjpbIlB1ZXJ0byBSaWNvLCBVLlMuQS4iXSwicGFnZSI6MSwibGltaXQiOjI1LCJvZmZzZXQiOjAsInNvcnQiOiIiLCJzb3J0VHlwZSI6IiIsImNsZWFyUGFyYW1zIjpmYWxzZSwia2V5d29yZCI6IiIsInBhZ2VUaXRsZSI6Imw6UHVlcnRvIFJpY28sIFUuUy5BLiIsInByYWN0aWNlQXJlYXMiOlsiVHJ1c3RzIGFuZCBFc3RhdGVzIl19&page=6\n"
     ]
    },
    {
     "name": "stderr",
     "output_type": "stream",
     "text": [
      "100%|██████████| 213/213 [1:27:41<00:00, 24.70s/it]"
     ]
    },
    {
     "name": "stdout",
     "output_type": "stream",
     "text": [
      "0\n"
     ]
    },
    {
     "name": "stderr",
     "output_type": "stream",
     "text": [
      "\n"
     ]
    }
   ],
   "source": [
    "### Extracción multiples urls abogados aplicando filtros con set de \"practice area\" que si funcionan generan sugerencias en el buscador\n",
    "\n",
    "# clean va a ser una lista de practice area que ya paso por un proceso de filtrado. \n",
    "#url_base = 'https://www.martindale.com/search/attorneys/?term=Puerto%20Rico%2C%20USA' #Va a cambiar mas adelante\n",
    "url_base = 'https://www.martindale.com/search/attorneys-law-firms-articles/?term=Puerto%20Rico%2C%20USA&loc=1'\n",
    "try:\n",
    "    for area in tqdm.tqdm(practices_areas_compilate):\n",
    "        ### configuración del webdriver\n",
    "        driver = setup_driver(headless=True)\n",
    "        wait = WebDriverWait(driver, 25)\n",
    "        driver.get(url_base)\n",
    "        simulate_human_behavior(0.5,3,verbose=False)\n",
    "\n",
    "        ### Elementos clickeables y request\n",
    "        # Ubicar barra de busqueda \"Filters - Practice Areas\"\n",
    "        wait.until(\n",
    "                    EC.presence_of_element_located((By.XPATH, '//*[@id=\"filtersContainer\"]'))) \n",
    "        wait.until(EC.element_to_be_clickable((By.XPATH, '//*[@id=\"practiceAreas\"]')))\n",
    "        searchBar = driver.find_element(By.ID, 'practiceAreas')\n",
    "        searchBar.clear()\n",
    "        \n",
    "        # Envio de texto \"practice area\" para aplicar filtro y tener nuevos resultados\n",
    "        searchBar.send_keys(area)\n",
    "        simulate_human_behavior(1,2,verbose=False)\n",
    "        suggestion = wait.until(EC.visibility_of_element_located(\n",
    "            (By.CSS_SELECTOR, \"ul.ui-autocomplete li.ui-menu-item div.ui-menu-item-wrapper\")))\n",
    "\n",
    "        # Busqueda de practice area - Si hay una sugerencia, se da click. \n",
    "        suggestion.click() # ----> Entra a nueva pagina con filtro.\n",
    "        simulate_human_behavior(1,2,verbose=False) \n",
    "        current_url = driver.current_url # Actualizar la url para obtener N° de paginas y urls de paginas\n",
    "        \n",
    "        # links y N° de paginas una vez aplicado el filtro practice area\n",
    "        urls = generate_paginated_urls(current_url, driver,verbose=True)\n",
    "        for url in urls:\n",
    "            print(f\"accediendo a: {url}\")\n",
    "            urls_per_page = crawler(url,driver,verbose=False)\n",
    "            if len(urls_per_page) == 0:\n",
    "                urls_per_page = crawler(url,driver,verbose=False)\n",
    "                time.sleep(2)\n",
    "            if len(urls_per_page) > 1:\n",
    "                for link in urls_per_page:\n",
    "                    if not link in urls_total:\n",
    "                        urls_total.append(link)\n",
    "                        print(link)\n",
    "                    else: \n",
    "                        pass\n",
    "                # La lista urls_per_filter ya tiene 500 valores debido a la primera iteración del proceso. \n",
    "                # despues de cada filtro, hay links repetidos, se intenta que no hayan duplicados y sea la lista total por estado. \n",
    "        driver.quit()\n",
    "except TimeoutException:\n",
    "    print(\"Loading took too much time!\")\n",
    "    driver.quit()\n",
    "    pass\n",
    "except Exception as e:\n",
    "    print(f\"Failed to load page due to error: {e}\")\n",
    "    driver.quit()\n",
    "driver.quit()\n",
    "print(len(urls_per_filter))\n"
   ]
  },
  {
   "cell_type": "code",
   "execution_count": 116,
   "id": "6f5e7a27",
   "metadata": {},
   "outputs": [
    {
     "data": {
      "text/plain": [
       "['https://www.martindale.com/attorney/ramon-mellado-gonzalez-1572913/',\n",
       " 'https://www.martindale.com/attorney/maximiliano-a-pla-mendez-25744746/',\n",
       " 'https://www.martindale.com/attorney/juan-a-cuyar-cobb-1571691/',\n",
       " 'https://www.martindale.com/attorney/edgardo-j-hernandez-oharriz-esq-158870123/',\n",
       " 'https://www.martindale.com/attorney/roberto-c-rodriguez-poventud-1571906/',\n",
       " 'https://www.martindale.com/attorney/joseph-d-lento-168969230/',\n",
       " 'https://www.martindale.com/attorney/jairo-jay-mellado-villarreal-1572914/',\n",
       " 'https://www.martindale.com/attorney/ms-helaine-a-gregory-321442/',\n",
       " 'https://www.martindale.com/attorney/pedro-f-silva-ruiz-1574066/',\n",
       " 'https://www.martindale.com/attorney/gustavo-a-chico-barris-3318975/',\n",
       " 'https://www.martindale.com/attorney/ms-lourdes-m-rodriguez-morera-46209566/',\n",
       " 'https://www.martindale.com/attorney/nestor-duran-gonzalez-1573227/',\n",
       " 'https://www.martindale.com/attorney/johanny-martinez-batista-2092244/',\n",
       " 'https://www.martindale.com/attorney/ramon-antonio-parrilla-carbia-300297980/',\n",
       " 'https://www.martindale.com/attorney/yanet-torres-ramirez-1571498/',\n",
       " 'https://www.martindale.com/attorney/jorge-a-pierluisi-jr-1573794/',\n",
       " 'https://www.martindale.com/attorney/juan-s-pagan-rodriguez-1573678/',\n",
       " 'https://www.martindale.com/attorney/diana-lizzette-castro-muriel-1573897/',\n",
       " 'https://www.martindale.com/attorney/antonio-e-marichal-aponte-1571758/',\n",
       " 'https://www.martindale.com/attorney/alexandra-fernandez-navarro-2749916/',\n",
       " 'https://www.martindale.com/attorney/eric-rivera-cruz-2826233/',\n",
       " 'https://www.martindale.com/attorney/maria-de-lourdes-martinez-lamadriz-1572616/',\n",
       " 'https://www.martindale.com/attorney/etienne-totti-del-toro-1572554/',\n",
       " 'https://www.martindale.com/attorney/jan-carlos-rodriguez-3008241/',\n",
       " 'https://www.martindale.com/attorney/eugenio-otero-silva-1572657/',\n",
       " 'https://www.martindale.com/attorney/jose-antonio-tulla-1573190/',\n",
       " 'https://www.martindale.com/attorney/carmen-rita-silva-efre-1574166/',\n",
       " 'https://www.martindale.com/attorney/mr-ricardo-j-rivera-lopez-300746128/',\n",
       " 'https://www.martindale.com/attorney/monica-timothee-300824948/',\n",
       " 'https://www.martindale.com/attorney/guillermo-r-pico-1573413/',\n",
       " 'https://www.martindale.com/attorney/julio-l-aguirre-1572480/',\n",
       " 'https://www.martindale.com/attorney/rafael-r-vizcarrondo-1572476/',\n",
       " 'https://www.martindale.com/attorney/luis-r-rivera-gonzalez-1571706/',\n",
       " 'https://www.martindale.com/attorney/rafael-martinez-alvarez-jr-1573116/',\n",
       " 'https://www.martindale.com/attorney/leyre-santaella-sante-157073312/',\n",
       " 'https://www.martindale.com/attorney/fred-h-martinez-1572134/',\n",
       " 'https://www.martindale.com/attorney/eric-r-huot-caldern-2220069/',\n",
       " 'https://www.martindale.com/attorney/ileana-l-corral-4660096/',\n",
       " 'https://www.martindale.com/attorney/genevieve-lopez-stipes-5065847/',\n",
       " 'https://www.martindale.com/attorney/maria-del-carmen-martinez-1572920/',\n",
       " 'https://www.martindale.com/attorney/risa-tobin-1571692/',\n",
       " 'https://www.martindale.com/attorney/rafael-a-rivera-cruz-1573943/',\n",
       " 'https://www.martindale.com/attorney/maria-del-rosario-garcia-1573003/',\n",
       " 'https://www.martindale.com/attorney/manuel-rivera-mendez-1573908/',\n",
       " 'https://www.martindale.com/attorney/wilma-g-mendez-pagan-1573540/',\n",
       " 'https://www.martindale.com/attorney/pedro-j-polanco-1572490/',\n",
       " 'https://www.martindale.com/attorney/rafael-v-vassallo-collazo-1573012/',\n",
       " 'https://www.martindale.com/attorney/jose-garcia-noya-1572259/',\n",
       " 'https://www.martindale.com/attorney/amexis-j-bonilla-nieves-300738464/',\n",
       " 'https://www.martindale.com/attorney/yum-e-ramos-perales-6926753/',\n",
       " 'https://www.martindale.com/attorney/fredeswin-perez-caballero-45015557/',\n",
       " 'https://www.martindale.com/attorney/manuel-moreda-toledo-1573229/',\n",
       " 'https://www.martindale.com/attorney/nyvia-e-milian-falero-1571969/',\n",
       " 'https://www.martindale.com/attorney/luis-m-bernal-jimenez-2841549/',\n",
       " 'https://www.martindale.com/attorney/maritza-julia-1571915/',\n",
       " 'https://www.martindale.com/attorney/monica-de-jesus-santana-4703934/',\n",
       " 'https://www.martindale.com/attorney/carmen-pilar-cruz-rosario-1573572/',\n",
       " 'https://www.martindale.com/attorney/angel-luis-berberena-feliciano-300856470/',\n",
       " 'https://www.martindale.com/attorney/juanita-b-rodriguez-159849205/',\n",
       " 'https://www.martindale.com/attorney/teodoro-pena-garcia-1572492/',\n",
       " 'https://www.martindale.com/attorney/isabel-j-velez-serrano-1572961/',\n",
       " 'https://www.martindale.com/attorney/jorge-a-fernandez-reboredo-301236982/',\n",
       " 'https://www.martindale.com/attorney/francisco-j-silva-salcedo-11857123/',\n",
       " 'https://www.martindale.com/attorney/andres-r-nevares-1573538/',\n",
       " 'https://www.martindale.com/attorney/ricardo-guzman-3826093/',\n",
       " 'https://www.martindale.com/attorney/luis-a-defillo-rosas-esq-30265079/',\n",
       " 'https://www.martindale.com/attorney/luis-g-velazquez-ortiz-45033780/',\n",
       " 'https://www.martindale.com/attorney/david-f-michelman-157232929/',\n",
       " 'https://www.martindale.com/attorney/alejandro-valderrabano-300311226/',\n",
       " 'https://www.martindale.com/attorney/mr-luis-g-rullan-301246538/',\n",
       " 'https://www.martindale.com/attorney/judith-torres-de-jesus-2451988/',\n",
       " 'https://www.martindale.com/attorney/jorge-p-sala-esq-1571326/',\n",
       " 'https://www.martindale.com/attorney/giovanni-davila-egipciaco-44291830/',\n",
       " 'https://www.martindale.com/attorney/jorge-f-freyre-forest-1571868/',\n",
       " 'https://www.martindale.com/attorney/roberto-f-nater-lebron-1573009/',\n",
       " 'https://www.martindale.com/attorney/fernando-j-gierbolini-1572179/',\n",
       " 'https://www.martindale.com/attorney/gladys-e-acevedo-robles-4660500/',\n",
       " 'https://www.martindale.com/attorney/rafael-j-velazquez-villares-1572324/',\n",
       " 'https://www.martindale.com/attorney/daira-vaello-300298660/',\n",
       " 'https://www.martindale.com/attorney/rafael-a-gonzalez-valiente-12118746/',\n",
       " 'https://www.martindale.com/attorney/frank-gotay-barquet-1572438/',\n",
       " 'https://www.martindale.com/attorney/anibal-jose-nunez-301656048/',\n",
       " 'https://www.martindale.com/attorney/dana-michelle-waller-15678/',\n",
       " 'https://www.martindale.com/attorney/juan-m-casanova-rivera-3248691/',\n",
       " 'https://www.martindale.com/attorney/mario-r-oronoz-1571661/',\n",
       " 'https://www.martindale.com/attorney/luzmarie-velez-miro-3917783/',\n",
       " 'https://www.martindale.com/attorney/alicia-i-lavergne-ramirez-300622842/',\n",
       " 'https://www.martindale.com/attorney/karla-m-tomassini-soto-3118093/',\n",
       " 'https://www.martindale.com/attorney/charles-bimbela-quinones-1572512/',\n",
       " 'https://www.martindale.com/attorney/ms-patricia-camino-perez-157540122/',\n",
       " 'https://www.martindale.com/attorney/juan-carlos-villanueva-lopez-2848197/',\n",
       " 'https://www.martindale.com/attorney/gilberto-j-marxuach-torros-1573245/',\n",
       " 'https://www.martindale.com/attorney/jorge-cela-urena-1572996/',\n",
       " 'https://www.martindale.com/attorney/jose-sanchez-acosta-1571588/',\n",
       " 'https://www.martindale.com/attorney/carlos-r-paula-1572772/',\n",
       " 'https://www.martindale.com/attorney/alberto-g-estrella-1572416/',\n",
       " 'https://www.martindale.com/attorney/margarita-e-irizarry-reichard-2314198/',\n",
       " 'https://www.martindale.com/attorney/humberto-f-cobo-estrella-45883776/',\n",
       " 'https://www.martindale.com/attorney/marcos-l-de-la-villa-1573543/',\n",
       " 'https://www.martindale.com/attorney/luis-a-melendez-albizu-1572234/',\n",
       " 'https://www.martindale.com/attorney/pedro-i-vidal-cordero-1572517/',\n",
       " 'https://www.martindale.com/attorney/rafael-mayoral-morales-1573846/',\n",
       " 'https://www.martindale.com/attorney/ms-marife-nazario-yordan-157042300/',\n",
       " 'https://www.martindale.com/attorney/santos-ramos-lugo-1573544/',\n",
       " 'https://www.martindale.com/attorney/jose-l-cabiya-morales-1571628/',\n",
       " 'https://www.martindale.com/attorney/jose-e-martino-3795893/',\n",
       " 'https://www.martindale.com/attorney/maria-del-carmen-betancourt-1571207/',\n",
       " 'https://www.martindale.com/attorney/hernando-a-rivera-1572994/',\n",
       " 'https://www.martindale.com/attorney/howard-pravda-1572812/',\n",
       " 'https://www.martindale.com/attorney/carlos-j-micames-montalvo-301090624/',\n",
       " 'https://www.martindale.com/attorney/javier-lopez-perez-2840443/',\n",
       " 'https://www.martindale.com/attorney/ernesto-m-rovira-gandara-3917772/',\n",
       " 'https://www.martindale.com/attorney/manuel-e-andreu-garcia-1571838/',\n",
       " 'https://www.martindale.com/attorney/ann-jo-marie-carrero-1571803/',\n",
       " 'https://www.martindale.com/attorney/francisco-j-amundaray-1573965/',\n",
       " 'https://www.martindale.com/attorney/alejandro-lopez-lorenzo-2826263/',\n",
       " 'https://www.martindale.com/attorney/justa-aponte-pedraza-1573446/',\n",
       " 'https://www.martindale.com/attorney/mr-ramiro-llado-martinez-1572921/',\n",
       " 'https://www.martindale.com/attorney/miguel-p-cancio-bigas-1572091/',\n",
       " 'https://www.martindale.com/attorney/jesus-m-rivera-delgado-1571428/',\n",
       " 'https://www.martindale.com/attorney/jorge-lora-longoria-1571455/',\n",
       " 'https://www.martindale.com/attorney/carlos-rodriguez-garcia-1571741/',\n",
       " 'https://www.martindale.com/attorney/rene-pinto-lugo-1572240/',\n",
       " 'https://www.martindale.com/attorney/rafael-e-davila-thomas-26740250/',\n",
       " 'https://www.martindale.com/attorney/celia-ines-acevedo-vargas-1573722/',\n",
       " 'https://www.martindale.com/attorney/iris-yolanda-aponte-andino-2040014/',\n",
       " 'https://www.martindale.com/attorney/carlos-c-santiago-1572619/',\n",
       " 'https://www.martindale.com/attorney/francisco-augusto-besosa-1572751/',\n",
       " 'https://www.martindale.com/attorney/nicolas-a-quinones-castrillo-1572387/',\n",
       " 'https://www.martindale.com/attorney/lilia-r-rodriquez-ruiz-1573251/',\n",
       " 'https://www.martindale.com/attorney/jose-j-fas-quinones-44863749/',\n",
       " 'https://www.martindale.com/attorney/ricardo-a-perez-rivera-4168841/',\n",
       " 'https://www.martindale.com/attorney/maribel-garcia-1560990/',\n",
       " 'https://www.martindale.com/attorney/victor-m-hernandez-gonzalez-esq-1571327/',\n",
       " 'https://www.martindale.com/attorney/guillermo-a-nigaglioni-1573565/',\n",
       " 'https://www.martindale.com/attorney/eddalee-quinones-pedrogo-45016554/',\n",
       " 'https://www.martindale.com/attorney/ivan-r-fernandez-vallejo-1572877/',\n",
       " 'https://www.martindale.com/attorney/james-d-noel-iii-1573246/',\n",
       " 'https://www.martindale.com/attorney/armando-martinez-fernandez-1572503/',\n",
       " 'https://www.martindale.com/attorney/diana-mendez-ondina-1573573/',\n",
       " 'https://www.martindale.com/attorney/natalia-morales-echevarria-28128413/',\n",
       " 'https://www.martindale.com/attorney/robert-alex-fleming-1571968/',\n",
       " 'https://www.martindale.com/attorney/luz-yanix-vargas-perez-1573548/',\n",
       " 'https://www.martindale.com/attorney/heriberto-burgos-perez-13229805/',\n",
       " 'https://www.martindale.com/attorney/dora-l-monserrate-penagaricano-1572181/',\n",
       " 'https://www.martindale.com/attorney/hector-a-santiago-romero-1572425/',\n",
       " 'https://www.martindale.com/attorney/etienne-totti-del-valle-1572992/',\n",
       " 'https://www.martindale.com/attorney/carlos-ivan-nieves-3807100/',\n",
       " 'https://www.martindale.com/attorney/rafael-a-ojeda-diez-1574265/',\n",
       " 'https://www.martindale.com/attorney/rafael-a-rosado-marrero-1572966/',\n",
       " 'https://www.martindale.com/attorney/david-ludwig-26740216/',\n",
       " 'https://www.martindale.com/attorney/annette-cortes-arcelay-44858945/',\n",
       " 'https://www.martindale.com/attorney/modesto-bigas-mendez-2862192/',\n",
       " 'https://www.martindale.com/attorney/francisco-j-mercado-olivero-3748968/',\n",
       " 'https://www.martindale.com/attorney/leslie-alvarado-lliteras-1573542/',\n",
       " 'https://www.martindale.com/attorney/patricia-cordero-alcaraz-2296458/',\n",
       " 'https://www.martindale.com/attorney/juan-a-hernandez-rivera-11784995/',\n",
       " 'https://www.martindale.com/attorney/gilberto-j-oliveras-maldonado-300916918/',\n",
       " 'https://www.martindale.com/attorney/herman-w-colberg-1573884/',\n",
       " 'https://www.martindale.com/attorney/carlos-g-dalmau-404277/',\n",
       " 'https://www.martindale.com/attorney/antonio-e-valiente-1572419/',\n",
       " 'https://www.martindale.com/attorney/monsita-lecaroz-arribas-1573033/',\n",
       " 'https://www.martindale.com/attorney/jose-e-rios-diaz-2095610/',\n",
       " 'https://www.martindale.com/attorney/dennis-a-simonpietri-monefeldt-1573835/',\n",
       " 'https://www.martindale.com/attorney/jose-e-gonzalez-borgos-1572507/',\n",
       " 'https://www.martindale.com/attorney/walter-francisco-alomar-jimenez-301650514/',\n",
       " 'https://www.martindale.com/attorney/eduardo-r-estrella-1572420/',\n",
       " 'https://www.martindale.com/attorney/carlos-emilio-matos-301087930/',\n",
       " 'https://www.martindale.com/attorney/francisco-j-timothee-300533264/',\n",
       " 'https://www.martindale.com/attorney/jose-antonio-diaz-brugueras-300297672/',\n",
       " 'https://www.martindale.com/attorney/polonio-j-garcia-pons-esq-1571328/',\n",
       " 'https://www.martindale.com/attorney/juan-a-moldes-rodriguez-1572395/',\n",
       " 'https://www.martindale.com/attorney/marigloria-rivera-cruz-6478756/',\n",
       " 'https://www.martindale.com/attorney/vanessa-m-sosa-seda-157851565/',\n",
       " 'https://www.martindale.com/attorney/ignacio-jose-gorrin-maldonado-2776358/',\n",
       " 'https://www.martindale.com/attorney/erik-a-rosado-perez-1571589/',\n",
       " 'https://www.martindale.com/attorney/jose-a-cabiya-morales-3723506/',\n",
       " 'https://www.martindale.com/attorney/miguel-a-nieves-mojica-33777050/',\n",
       " 'https://www.martindale.com/attorney/eric-a-tulla-1573907/',\n",
       " 'https://www.martindale.com/attorney/marie-l-quinones-tanon-157584457/',\n",
       " 'https://www.martindale.com/attorney/jose-santiago-rivera-2829023/',\n",
       " 'https://www.martindale.com/attorney/raul-e-garcia-sanchez-1571174/',\n",
       " 'https://www.martindale.com/attorney/maria-del-carmen-taboas-1572508/',\n",
       " 'https://www.martindale.com/attorney/miriam-gonzalez-olivencia-1573746/',\n",
       " 'https://www.martindale.com/attorney/manuel-a-guzman-kehoe-1573384/',\n",
       " 'https://www.martindale.com/attorney/juan-a-hernandez-cruz-43899748/',\n",
       " 'https://www.martindale.com/attorney/sarika-j-angulo-velazquez-esq-167969818/',\n",
       " 'https://www.martindale.com/attorney/michel-rachid-pineiro-1573844/',\n",
       " 'https://www.martindale.com/attorney/juan-manuel-casellas-1573332/',\n",
       " 'https://www.martindale.com/attorney/alejandro-jose-cepeda-diaz-28526090/',\n",
       " 'https://www.martindale.com/attorney/francisco-a-ojeda-diez-1573369/',\n",
       " 'https://www.martindale.com/attorney/herman-cestero-rodriguez-13792235/',\n",
       " 'https://www.martindale.com/attorney/cristina-mullan-davila-3918234/',\n",
       " 'https://www.martindale.com/attorney/samuel-t-cespedes-sabater-jr-1573243/',\n",
       " 'https://www.martindale.com/attorney/larissa-c-rosa-de-jesus-11441747/',\n",
       " 'https://www.martindale.com/attorney/eduardo-f-gonzalez-portela-3967270/',\n",
       " 'https://www.martindale.com/attorney/liza-delgado-gonzalez-44395821/',\n",
       " 'https://www.martindale.com/attorney/ivonne-palerm-cruz-1572161/',\n",
       " 'https://www.martindale.com/attorney/william-estrella-1572414/',\n",
       " 'https://www.martindale.com/attorney/alberto-j-rodriguez-ramos-4450141/',\n",
       " 'https://www.martindale.com/attorney/manlio-arraiza-donate-1571061/',\n",
       " 'https://www.martindale.com/attorney/ernesto-j-rodriguez-lavergne-2571718/',\n",
       " 'https://www.martindale.com/attorney/fausto-ramos-quiros-1574162/',\n",
       " 'https://www.martindale.com/attorney/angel-l-tapia-flores-1574081/',\n",
       " 'https://www.martindale.com/attorney/josue-a-rodriguez-robles-1571765/',\n",
       " 'https://www.martindale.com/attorney/antonio-zapater-cajigas-1571404/',\n",
       " 'https://www.martindale.com/attorney/ina-r-aponte-de-aviles-1574083/',\n",
       " 'https://www.martindale.com/attorney/javier-vazquez-morales-157164000/',\n",
       " 'https://www.martindale.com/attorney/helga-l-perez-rios-1571430/',\n",
       " 'https://www.martindale.com/attorney/alvaro-r-calderon-mongil-jr-1571943/',\n",
       " 'https://www.martindale.com/attorney/nayuan-zouairabani-trinidad-33777049/',\n",
       " 'https://www.martindale.com/attorney/francisco-j-colon-pagan-1574138/',\n",
       " 'https://www.martindale.com/attorney/omar-oquendo-claudio-4720856/',\n",
       " 'https://www.martindale.com/attorney/jose-a-acosta-grubb-1572491/',\n",
       " 'https://www.martindale.com/attorney/francisco-fernandez-chiques-4217631/',\n",
       " 'https://www.martindale.com/attorney/edna-chandrissa-bonnet-vazquez-1571693/',\n",
       " 'https://www.martindale.com/attorney/mr-david-killian-rodriguez-encarnacion-300225508/',\n",
       " 'https://www.martindale.com/attorney/maria-de-los-angeles-delgado-sosa-1573922/',\n",
       " 'https://www.martindale.com/attorney/edward-w-hill-tollinche-1571815/',\n",
       " 'https://www.martindale.com/attorney/dianna-soler-de-martinez-1574227/',\n",
       " 'https://www.martindale.com/attorney/jose-f-rovira-rullan-esq-36096872/',\n",
       " 'https://www.martindale.com/attorney/mr-stuart-a-weinstein-bacal-1571809/',\n",
       " 'https://www.martindale.com/attorney/james-e-brown-300775818/',\n",
       " 'https://www.martindale.com/attorney/patricia-lorenzi-julia-1571896/',\n",
       " 'https://www.martindale.com/attorney/martha-l-martinez-rodriguez-2039490/',\n",
       " 'https://www.martindale.com/attorney/sally-d-diaz-roldan-44558579/',\n",
       " 'https://www.martindale.com/attorney/samuel-de-la-rosa-ortiz-1573449/',\n",
       " 'https://www.martindale.com/attorney/angel-alvarez-perez-157584427/',\n",
       " 'https://www.martindale.com/attorney/antonio-j-rodriguez-1573219/',\n",
       " 'https://www.martindale.com/attorney/solymar-castillo-morales-44858944/',\n",
       " 'https://www.martindale.com/attorney/rafael-maldonado-nicolai-1572376/',\n",
       " 'https://www.martindale.com/attorney/hector-g-oliveras-1573576/',\n",
       " 'https://www.martindale.com/attorney/enrique-silva-aviles-1994814/',\n",
       " 'https://www.martindale.com/attorney/ricardo-l-ortiz-colon-1572520/',\n",
       " 'https://www.martindale.com/attorney/efrain-guzman-mollet-1573808/',\n",
       " 'https://www.martindale.com/attorney/lis-m-lopez-2013898/',\n",
       " 'https://www.martindale.com/attorney/martha-i-berrios-1571916/',\n",
       " 'https://www.martindale.com/attorney/matias-a-monges-300891324/',\n",
       " 'https://www.martindale.com/attorney/ramon-a-cestero-1571652/',\n",
       " 'https://www.martindale.com/attorney/edgardo-cartagena-157379931/',\n",
       " 'https://www.martindale.com/attorney/joshua-m-galarza-quinones-4321948/',\n",
       " 'https://www.martindale.com/attorney/eileen-m-rivera-amador-4678453/',\n",
       " 'https://www.martindale.com/attorney/robert-w-weihe-esq-300916716/',\n",
       " 'https://www.martindale.com/attorney/consuelo-m-sifre-garcia-1573527/',\n",
       " 'https://www.martindale.com/attorney/santiago-cordero-osorio-1573797/',\n",
       " 'https://www.martindale.com/attorney/david-l-reed-24888034/',\n",
       " 'https://www.martindale.com/attorney/jose-o-sepulveda-4644050/',\n",
       " 'https://www.martindale.com/attorney/mary-cele-rivera-martinez-1572928/',\n",
       " 'https://www.martindale.com/attorney/gilberto-oliver-300749498/',\n",
       " 'https://www.martindale.com/attorney/ruben-a-rivera-rosa-300839874/',\n",
       " 'https://www.martindale.com/attorney/jesus-r-rabell-mendez-4432086/',\n",
       " 'https://www.martindale.com/attorney/frank-zorrilla-1573562/',\n",
       " 'https://www.martindale.com/attorney/luis-a-rodriguez-munoz-4450045/',\n",
       " 'https://www.martindale.com/attorney/nellymarie-lopez-diaz-1574143/',\n",
       " 'https://www.martindale.com/attorney/carlos-r-rios-gautier-1573895/',\n",
       " 'https://www.martindale.com/attorney/alberto-r-estrella-arteaga-2314189/',\n",
       " 'https://www.martindale.com/attorney/lorenzo-j-palomares-2169637/',\n",
       " 'https://www.martindale.com/attorney/raquel-santos-ramos-45015561/',\n",
       " 'https://www.martindale.com/attorney/arytza-y-martinez-3115340/',\n",
       " 'https://www.martindale.com/attorney/maria-victoria-munera-pascual-1573325/',\n",
       " 'https://www.martindale.com/attorney/maritere-colon-dominguez-13986963/',\n",
       " 'https://www.martindale.com/attorney/oreste-ricardo-ramos-2170248/',\n",
       " 'https://www.martindale.com/attorney/juan-eliza-burgos-13781059/',\n",
       " 'https://www.martindale.com/attorney/osvaldo-carlo-linares-1572302/',\n",
       " 'https://www.martindale.com/attorney/luis-m-rodriguez-lopez-1572558/',\n",
       " 'https://www.martindale.com/attorney/maria-judith-marchand-sanchez-esq-1573549/',\n",
       " 'https://www.martindale.com/attorney/angel-aja-delgado-24486803/',\n",
       " 'https://www.martindale.com/attorney/marta-del-pilar-santiago-ramos-1573435/',\n",
       " 'https://www.martindale.com/attorney/anabelle-rodriguez-rodriguez-1572143/',\n",
       " 'https://www.martindale.com/attorney/jose-a-morales-boscio-3058200/',\n",
       " 'https://www.martindale.com/attorney/jose-l-rivero-vergne-1571689/',\n",
       " 'https://www.martindale.com/attorney/francisco-j-vizcarrondo-3104926/',\n",
       " 'https://www.martindale.com/attorney/miguel-juan-rodriguez-marxuach-1573014/',\n",
       " 'https://www.martindale.com/attorney/arturo-diaz-angueira-1571988/',\n",
       " 'https://www.martindale.com/attorney/enrique-j-mendoza-mendez-1571553/',\n",
       " 'https://www.martindale.com/attorney/maria-d-trelles-hernandez-27073846/',\n",
       " 'https://www.martindale.com/attorney/lizette-velez-rive-1573437/',\n",
       " 'https://www.martindale.com/attorney/alejandro-oliveras-rivera-1573499/',\n",
       " 'https://www.martindale.com/attorney/camelia-montilla-1572293/',\n",
       " 'https://www.martindale.com/attorney/rosa-maria-cruz-niemiec-1573394/',\n",
       " 'https://www.martindale.com/attorney/brenda-l-cordero-acaba-1573971/',\n",
       " 'https://www.martindale.com/attorney/lilly-a-oronoz-rodriguez-1573620/',\n",
       " 'https://www.martindale.com/attorney/maria-c-cartagena-cancel-4720848/',\n",
       " 'https://www.martindale.com/attorney/monique-j-diaz-mayoral-31928825/',\n",
       " 'https://www.martindale.com/attorney/alessandra-m-rosa-tirado-4045814/',\n",
       " 'https://www.martindale.com/attorney/maguisabel-rivera-ramos-11442783/',\n",
       " 'https://www.martindale.com/attorney/jose-m-marxuach-3163321/',\n",
       " 'https://www.martindale.com/attorney/isabel-garces-castro-2248799/',\n",
       " 'https://www.martindale.com/attorney/rafael-bosque-perez-2283879/',\n",
       " 'https://www.martindale.com/attorney/michelle-m-garcia-perez-1572025/',\n",
       " 'https://www.martindale.com/attorney/vanessa-saxton-arroyo-3339899/',\n",
       " 'https://www.martindale.com/attorney/rafael-a-vila-carrion-1571567/',\n",
       " 'https://www.martindale.com/attorney/yasthel-gonzalez-4634448/',\n",
       " 'https://www.martindale.com/attorney/marisol-ramos-fernandez-1573813/',\n",
       " 'https://www.martindale.com/attorney/joan-s-peters-1573524/',\n",
       " 'https://www.martindale.com/attorney/leilani-torres-roca-3666573/',\n",
       " 'https://www.martindale.com/attorney/sigrid-lopez-gonzalez-1571493/',\n",
       " 'https://www.martindale.com/attorney/yarilyn-c-perez-colon-4504207/',\n",
       " 'https://www.martindale.com/attorney/eduardo-r-jenks-carballeira-169070952/',\n",
       " 'https://www.martindale.com/attorney/diego-ramirez-bigott-26078793/',\n",
       " 'https://www.martindale.com/attorney/angel-r-jimenez-rogriguez-3713839/',\n",
       " 'https://www.martindale.com/attorney/carlos-e-polo-1573468/',\n",
       " 'https://www.martindale.com/attorney/raul-vazquez-rodriguez-1574145/',\n",
       " 'https://www.martindale.com/attorney/peter-j-trias-grimes-1572648/',\n",
       " 'https://www.martindale.com/attorney/roberto-c-quinones-rivera-1573264/',\n",
       " 'https://www.martindale.com/attorney/karla-m-flores-medina-2956190/',\n",
       " 'https://www.martindale.com/attorney/enid-milagros-cruz-alfaro-2441556/',\n",
       " 'https://www.martindale.com/attorney/yolanda-benitez-de-alegria-2089126/',\n",
       " 'https://www.martindale.com/attorney/berenice-b-bellotti-35687008/',\n",
       " 'https://www.martindale.com/attorney/isabel-m-casellas-rodriguez-1573011/',\n",
       " 'https://www.martindale.com/attorney/mary-n-santiago-rolan-2039491/',\n",
       " 'https://www.martindale.com/attorney/fernando-j-fornaris-fernandez-1571999/',\n",
       " 'https://www.martindale.com/attorney/nuyen-lin-marrero-bonilla-2529641/',\n",
       " 'https://www.martindale.com/attorney/maria-alejandra-mercado-betancourt-1573322/',\n",
       " 'https://www.martindale.com/attorney/amarilis-desoto-cordero-39092774/',\n",
       " 'https://www.martindale.com/attorney/jorge-e-perez-diaz-1573405/',\n",
       " 'https://www.martindale.com/attorney/rosanna-rivero-marin-24486796/',\n",
       " 'https://www.martindale.com/attorney/roberto-j-j-buono-colon-2817535/',\n",
       " 'https://www.martindale.com/attorney/francisco-l-acevedo-nogueras-1572152/',\n",
       " 'https://www.martindale.com/attorney/eldia-m-diaz-olmo-1571216/',\n",
       " 'https://www.martindale.com/attorney/janice-v-ortiz-valentin-3173178/',\n",
       " 'https://www.martindale.com/attorney/andres-ramirez-marcano-3118083/',\n",
       " 'https://www.martindale.com/attorney/luis-f-parrilla-hernandez-42058553/',\n",
       " 'https://www.martindale.com/attorney/ma-margarita-eguia-moreda-45031610/',\n",
       " 'https://www.martindale.com/attorney/julizzette-colon-bilbraut-2043058/',\n",
       " 'https://www.martindale.com/attorney/ismael-l-purcell-soler-1995360/',\n",
       " 'https://www.martindale.com/attorney/marcos-e-lopez-1572781/',\n",
       " 'https://www.martindale.com/attorney/paul-hammer-168616428/',\n",
       " 'https://www.martindale.com/attorney/lizzie-m-padro-1572851/',\n",
       " 'https://www.martindale.com/attorney/angel-j-vargas-2784247/',\n",
       " 'https://www.martindale.com/attorney/myriam-fernandez-gonzalez-2298314/',\n",
       " 'https://www.martindale.com/attorney/margarita-cintron-solla-3334119/',\n",
       " 'https://www.martindale.com/attorney/j-ramon-rivera-morales-1572955/',\n",
       " 'https://www.martindale.com/attorney/juan-antonio-lopez-david-2298786/',\n",
       " 'https://www.martindale.com/attorney/heidi-l-rodriguez-benitez-1573411/',\n",
       " 'https://www.martindale.com/attorney/david-e-vera-umpierre-3339903/',\n",
       " 'https://www.martindale.com/attorney/francisco-m-viejo-lopez-3706866/',\n",
       " 'https://www.martindale.com/attorney/homero-gonzalez-lopez-1571920/',\n",
       " 'https://www.martindale.com/attorney/ledo-francisco-r-moya-huff-1571504/',\n",
       " 'https://www.martindale.com/attorney/xana-m-connelly-2812667/',\n",
       " 'https://www.martindale.com/attorney/daniel-molina-lopez-1573001/',\n",
       " 'https://www.martindale.com/attorney/maria-s-jimenez-melendez-1572916/',\n",
       " 'https://www.martindale.com/attorney/julian-r-rivera-aspinall-1572969/',\n",
       " 'https://www.martindale.com/attorney/jorge-i-peirats-1573406/',\n",
       " 'https://www.martindale.com/attorney/orlando-h-martinez-echeverria-1573421/',\n",
       " 'https://www.martindale.com/attorney/roberto-o-maldonado-nieves-1574110/',\n",
       " 'https://www.martindale.com/attorney/maritza-torres-rivera-2092243/',\n",
       " 'https://www.martindale.com/attorney/jose-r-gonzalez-nogueras-1573002/',\n",
       " 'https://www.martindale.com/attorney/carlos-m-rivera-vicente-1571987/',\n",
       " 'https://www.martindale.com/attorney/ruben-aponte-mellado-169079736/',\n",
       " 'https://www.martindale.com/attorney/jose-e-sanchez-solivan-1574035/',\n",
       " 'https://www.martindale.com/attorney/yarliz-a-rios-portela-13792232/',\n",
       " 'https://www.martindale.com/attorney/jose-r-gonzalez-nogueras-2041784/',\n",
       " 'https://www.martindale.com/attorney/romeu-e-cancio-bello-1572047/',\n",
       " 'https://www.martindale.com/attorney/karem-m-rodriguez-garcia-31928827/',\n",
       " 'https://www.martindale.com/attorney/javier-i-perez-suarez-2826267/',\n",
       " 'https://www.martindale.com/attorney/alejandro-j-blanco-dalmau-157142514/',\n",
       " 'https://www.martindale.com/attorney/arturo-g-ortiz-rodriguez-1573016/',\n",
       " 'https://www.martindale.com/attorney/plinio-perez-marrero-1573695/',\n",
       " 'https://www.martindale.com/attorney/normary-figueroa-2825371/',\n",
       " 'https://www.martindale.com/attorney/nylca-j-munoz-3666589/',\n",
       " 'https://www.martindale.com/attorney/juan-l-duquela-fuentes-2969064/',\n",
       " 'https://www.martindale.com/attorney/lillian-teresa-de-la-cruz-torres-1571998/',\n",
       " 'https://www.martindale.com/attorney/marie-e-lopez-adames-1571921/',\n",
       " 'https://www.martindale.com/attorney/jose-r-ortiz-velez-1573848/',\n",
       " 'https://www.martindale.com/attorney/juan-carlos-pou-1573851/',\n",
       " 'https://www.martindale.com/attorney/pablo-hymovitz-3568886/',\n",
       " 'https://www.martindale.com/attorney/sonia-b-alfaro-de-la-vega-2093366/',\n",
       " 'https://www.martindale.com/attorney/manuel-a-pietrantoni-168322626/',\n",
       " 'https://www.martindale.com/attorney/luis-e-dubon-iii-1572366/',\n",
       " 'https://www.martindale.com/attorney/frances-r-colon-rivera-1572840/',\n",
       " 'https://www.martindale.com/attorney/rafael-a-rivera-rosa-1571464/',\n",
       " 'https://www.martindale.com/attorney/alberto-rodriguez-ramos-1572145/',\n",
       " 'https://www.martindale.com/attorney/edwin-franqui-gonzalez-1571747/',\n",
       " 'https://www.martindale.com/attorney/luis-enrique-vazquez-rodriguez-1573395/',\n",
       " 'https://www.martindale.com/attorney/jose-t-silva-cuetara-1574064/',\n",
       " 'https://www.martindale.com/attorney/maria-b-maldonado-1571201/',\n",
       " 'https://www.martindale.com/attorney/maria-d-bertolez-elvira-1573426/',\n",
       " 'https://www.martindale.com/attorney/arlene-r-perez-borrero-2172421/',\n",
       " 'https://www.martindale.com/attorney/rafael-m-santiago-rosa-1571762/',\n",
       " 'https://www.martindale.com/attorney/ivan-f-gonzalez-carmona-1571494/',\n",
       " 'https://www.martindale.com/attorney/jose-carlos-diaz-vega-1572193/',\n",
       " 'https://www.martindale.com/attorney/veronica-ferraiuoli-hornedo-1573310/',\n",
       " 'https://www.martindale.com/attorney/rafael-e-barreto-sola-1572007/',\n",
       " 'https://www.martindale.com/attorney/jose-a-masini-soler-1573118/',\n",
       " 'https://www.martindale.com/attorney/myriam-e-matos-bermudez-35683030/',\n",
       " 'https://www.martindale.com/attorney/javier-inclan-300309206/',\n",
       " 'https://www.martindale.com/attorney/ramon-e-gomez-colon-1573467/',\n",
       " 'https://www.martindale.com/attorney/ian-p-carvajal-1571639/',\n",
       " 'https://www.martindale.com/attorney/rosalie-irizarry-silvestrini-esq-167972218/',\n",
       " 'https://www.martindale.com/attorney/jose-de-la-cruz-skerrett-2039489/',\n",
       " 'https://www.martindale.com/attorney/jorge-e-galva-1571206/',\n",
       " 'https://www.martindale.com/attorney/jorge-m-izquierdo-san-miguel-1573639/',\n",
       " 'https://www.martindale.com/attorney/ana-b-rosado-frontanes-2935534/',\n",
       " 'https://www.martindale.com/attorney/edna-e-perez-roman-11054748/',\n",
       " 'https://www.martindale.com/attorney/fernando-j-collazo-valle-2706652/',\n",
       " 'https://www.martindale.com/attorney/nestor-m-mendez-gomez-1573400/',\n",
       " 'https://www.martindale.com/attorney/hector-m-melendez-cano-1572649/',\n",
       " 'https://www.martindale.com/attorney/laura-crumley-4703933/',\n",
       " 'https://www.martindale.com/attorney/victoria-d-pierce-king-1572001/',\n",
       " 'https://www.martindale.com/attorney/maria-luisa-montalvo-1994922/',\n",
       " 'https://www.martindale.com/attorney/luis-d-flores-gonzalez-1571545/',\n",
       " 'https://www.martindale.com/attorney/carlos-e-umplerre-schuck-2024724/',\n",
       " 'https://www.martindale.com/attorney/eduardo-cobian-27060364/',\n",
       " 'https://www.martindale.com/attorney/arlene-de-la-mata-melendez-1571517/',\n",
       " 'https://www.martindale.com/attorney/rodney-w-colon-ortiz-2248658/',\n",
       " 'https://www.martindale.com/attorney/pedro-j-salicrup-1574006/',\n",
       " 'https://www.martindale.com/attorney/jorge-calero-blanco-1573297/',\n",
       " 'https://www.martindale.com/attorney/ramon-coto-ojeda-1573193/',\n",
       " 'https://www.martindale.com/attorney/luis-f-del-valle-emmanuelli-1571467/',\n",
       " 'https://www.martindale.com/attorney/maribel-veaz-morales-2297930/',\n",
       " 'https://www.martindale.com/attorney/ivan-a-ramirez-ramirez-2023427/',\n",
       " 'https://www.martindale.com/attorney/rafael-a-mirabal-conde-1571123/',\n",
       " 'https://www.martindale.com/attorney/sergio-sanchez-pagan-11039080/',\n",
       " 'https://www.martindale.com/attorney/georgette-rodriguez-1572388/',\n",
       " 'https://www.martindale.com/attorney/yolanda-m-roman-gomez-1573916/',\n",
       " 'https://www.martindale.com/attorney/kenneth-c-suria-455394/',\n",
       " 'https://www.martindale.com/attorney/carlos-e-george-2007226/',\n",
       " 'https://www.martindale.com/attorney/rafael-a-nadal-arcelay-1571989/',\n",
       " 'https://www.martindale.com/attorney/antonio-jimenez-miranda-1573480/',\n",
       " 'https://www.martindale.com/attorney/mildred-l-santana-mejias-1572192/',\n",
       " 'https://www.martindale.com/attorney/jorge-r-jimenez-1573767/',\n",
       " 'https://www.martindale.com/attorney/courtney-roberta-carroll-1573648/',\n",
       " 'https://www.martindale.com/attorney/adaljisa-perez-andreu-1573720/',\n",
       " 'https://www.martindale.com/attorney/luis-a-plaza-mariota-1571516/',\n",
       " 'https://www.martindale.com/attorney/elba-marie-baez-rivera-1572250/',\n",
       " 'https://www.martindale.com/attorney/javier-a-rivera-melendez-4644057/',\n",
       " 'https://www.martindale.com/attorney/jose-hector-toledo-toledo-esq-4239936/',\n",
       " 'https://www.martindale.com/attorney/ricardo-luiggi-4720853/',\n",
       " 'https://www.martindale.com/attorney/norah-e-fernandez-vallejo-1573972/',\n",
       " 'https://www.martindale.com/attorney/bruce-j-mcgiverin-1573391/',\n",
       " 'https://www.martindale.com/attorney/herbert-w-brown-iii-1571613/',\n",
       " 'https://www.martindale.com/attorney/maricarmen-calero-font-2777756/',\n",
       " 'https://www.martindale.com/attorney/norberto-perez-4660740/',\n",
       " 'https://www.martindale.com/attorney/carlos-m-declet-1571484/',\n",
       " 'https://www.martindale.com/attorney/nynorsha-lugo-sanchez-2965938/',\n",
       " 'https://www.martindale.com/attorney/vanessa-mullet-sanchez-3667870/',\n",
       " 'https://www.martindale.com/attorney/rosanna-rivera-llantin-2037733/',\n",
       " 'https://www.martindale.com/attorney/caroline-alicea-valentin-2774917/',\n",
       " 'https://www.martindale.com/attorney/mariana-ortiz-colon-4504187/',\n",
       " 'https://www.martindale.com/attorney/vanessa-blanco-mendez-45032586/',\n",
       " 'https://www.martindale.com/attorney/felipe-f-negron-rodriguez-3568878/',\n",
       " 'https://www.martindale.com/attorney/catherine-catala-lasanta-2501686/',\n",
       " 'https://www.martindale.com/attorney/yeline-quinones-ms-4634447/',\n",
       " 'https://www.martindale.com/attorney/gloria-m-sierra-enriquez-1572206/',\n",
       " 'https://www.martindale.com/attorney/ana-t-alemany-martinez-157142422/',\n",
       " 'https://www.martindale.com/attorney/juan-carlos-aviles-feliu-2780968/',\n",
       " 'https://www.martindale.com/attorney/bayoan-muniz-calderon-45031556/',\n",
       " 'https://www.martindale.com/attorney/armando-lasa-ferrer-1571200/',\n",
       " 'https://www.martindale.com/attorney/jose-e-alfaro-delgado-13827998/',\n",
       " 'https://www.martindale.com/attorney/lucas-cordova-ayuso-36857270/',\n",
       " 'https://www.martindale.com/attorney/ileann-marie-canellas-correa-2441571/',\n",
       " 'https://www.martindale.com/attorney/elisa-figueroa-baez-1571495/',\n",
       " 'https://www.martindale.com/attorney/roberto-a-fernandez-quiles-2097337/',\n",
       " 'https://www.martindale.com/attorney/zoraida-buxo-1571670/',\n",
       " 'https://www.martindale.com/attorney/elvira-cancio-1571716/',\n",
       " 'https://www.martindale.com/attorney/maria-de-lourdes-rivera-de-jimenez-36802265/',\n",
       " 'https://www.martindale.com/attorney/pedro-r-vazquez-iii-157095457/',\n",
       " 'https://www.martindale.com/attorney/jose-w-vazquez-1573431/',\n",
       " 'https://www.martindale.com/attorney/sandra-c-malave-hernandez-1572028/',\n",
       " 'https://www.martindale.com/attorney/cynthia-m-gonzalez-aranguren-1574144/',\n",
       " 'https://www.martindale.com/attorney/giselle-colon-de-ferenczi-1573523/',\n",
       " 'https://www.martindale.com/attorney/juan-carlos-berrios-albino-26903273/',\n",
       " 'https://www.martindale.com/attorney/lourdes-i-morera-ledon-1572770/',\n",
       " 'https://www.martindale.com/attorney/victor-m-maldonado-gomez-1572621/',\n",
       " 'https://www.martindale.com/attorney/ada-michelle-lugo-oliveras-2344770/',\n",
       " 'https://www.martindale.com/attorney/antonio-j-ramirez-aponte-1573341/',\n",
       " 'https://www.martindale.com/attorney/michelle-camacho-nieves-4662827/',\n",
       " 'https://www.martindale.com/attorney/maressa-abadia-munoz-1572776/',\n",
       " 'https://www.martindale.com/attorney/david-del-toro-otero-2956150/',\n",
       " 'https://www.martindale.com/attorney/rica-lopez-de-alos-1573304/',\n",
       " 'https://www.martindale.com/attorney/miguel-ortega-nunez-4674603/',\n",
       " 'https://www.martindale.com/attorney/leslie-y-flores-rodriguez-4720850/',\n",
       " 'https://www.martindale.com/attorney/lemuel-cancel-mendez-2092799/',\n",
       " 'https://www.martindale.com/attorney/ramon-lloveras-otero-1573071/',\n",
       " 'https://www.martindale.com/attorney/maria-de-pilar-fas-santiago-2430833/',\n",
       " 'https://www.martindale.com/attorney/carolina-iguina-lopez-13789473/',\n",
       " 'https://www.martindale.com/attorney/stella-maris-molina-rosario-2089136/',\n",
       " 'https://www.martindale.com/attorney/paul-m-vilaro-nelms-1572104/',\n",
       " 'https://www.martindale.com/attorney/patricia-rivera-macmurray-1572294/',\n",
       " 'https://www.martindale.com/attorney/david-maldonado-sanchez-2849209/',\n",
       " 'https://www.martindale.com/attorney/rafael-e-aguilo-velez-1573150/',\n",
       " 'https://www.martindale.com/attorney/minerva-villanueva-rios-2041651/',\n",
       " 'https://www.martindale.com/attorney/luis-rivera-roman-24273969/',\n",
       " 'https://www.martindale.com/attorney/julicel-sepulveda-anavitarte-4294152/',\n",
       " 'https://www.martindale.com/attorney/jorge-c-pizarro-garcia-2041798/',\n",
       " 'https://www.martindale.com/attorney/antonio-fiol-matta-1571436/',\n",
       " 'https://www.martindale.com/attorney/carlos-a-gonzalez-soler-1991082/',\n",
       " 'https://www.martindale.com/attorney/cristina-m-fernandez-neumann-1573349/',\n",
       " 'https://www.martindale.com/attorney/edgardo-pabon-rodriguez-5138059/',\n",
       " 'https://www.martindale.com/attorney/john-f-malley-vega-iii-1573194/',\n",
       " 'https://www.martindale.com/attorney/luis-n-saldana-roman-1571638/',\n",
       " 'https://www.martindale.com/attorney/jaime-mayol-bianchi-1571173/',\n",
       " 'https://www.martindale.com/attorney/ramon-l-ramos-aponte-169079732/',\n",
       " 'https://www.martindale.com/attorney/fernando-sabater-clavell-45032558/',\n",
       " 'https://www.martindale.com/attorney/myrna-ruiz-olmo-4720857/',\n",
       " 'https://www.martindale.com/attorney/ingrid-oms-maldonado-1573525/',\n",
       " 'https://www.martindale.com/attorney/diana-m-batlle-barasorda-1572547/',\n",
       " 'https://www.martindale.com/attorney/rafael-g-rivera-rosario-1572639/',\n",
       " 'https://www.martindale.com/attorney/jaime-brugueras-1572612/',\n",
       " 'https://www.martindale.com/attorney/javier-cuevas-silva-1571993/',\n",
       " 'https://www.martindale.com/attorney/nelson-perez-dominguez-1572251/',\n",
       " 'https://www.martindale.com/attorney/gina-aguilar-gerardino-2101762/',\n",
       " 'https://www.martindale.com/attorney/alberto-j-pico-gonzalez-jr-1572107/',\n",
       " 'https://www.martindale.com/attorney/herman-g-colberg-1573423/',\n",
       " 'https://www.martindale.com/attorney/arlene-v-patino-lorenzo-13230809/',\n",
       " 'https://www.martindale.com/attorney/manuel-sosa-baez-2182906/',\n",
       " 'https://www.martindale.com/attorney/olga-isabel-nigaglioni-cruz-2277901/',\n",
       " 'https://www.martindale.com/attorney/miriam-waleska-sanchez-arroyo-1572349/',\n",
       " 'https://www.martindale.com/attorney/valerie-maldonado-rivera-3655960/',\n",
       " 'https://www.martindale.com/attorney/javier-i-arbona-azizi-2108985/',\n",
       " 'https://www.martindale.com/attorney/jorge-a-salichs-escalona-4504246/',\n",
       " 'https://www.martindale.com/attorney/leah-fawn-walsh-157875053/',\n",
       " 'https://www.martindale.com/attorney/britt-e-arrieta-rivera-28526087/',\n",
       " 'https://www.martindale.com/attorney/johnny-correa-noa-1573970/',\n",
       " 'https://www.martindale.com/attorney/alicia-i-lavergne-ramirez-1572773/',\n",
       " 'https://www.martindale.com/attorney/zelma-davilla-carrasquillo-2529680/',\n",
       " 'https://www.martindale.com/attorney/carmine-castro-1571702/',\n",
       " 'https://www.martindale.com/attorney/joan-mulet-1573290/',\n",
       " 'https://www.martindale.com/attorney/luisa-m-storer-bello-1571469/',\n",
       " 'https://www.martindale.com/attorney/mario-a-arroyo-maymi-3707938/',\n",
       " 'https://www.martindale.com/attorney/sergio-a-ramirez-de-arellano-1573787/',\n",
       " 'https://www.martindale.com/attorney/daniel-quiles-pumarejo-18549008/',\n",
       " 'https://www.martindale.com/attorney/eyck-omar-lugo-rivera-2248858/',\n",
       " 'https://www.martindale.com/attorney/cesar-a-andreu-ramirez-de-arellano-1572008/',\n",
       " 'https://www.martindale.com/attorney/maribel-gonzalez-nieves-1572618/',\n",
       " 'https://www.martindale.com/attorney/david-pujol-pantinat-2590029/',\n",
       " 'https://www.martindale.com/attorney/ghia-m-pieraldi-vassallo-4703937/',\n",
       " 'https://www.martindale.com/attorney/emmalind-garcia-garcia-1573717/',\n",
       " 'https://www.martindale.com/attorney/luis-torres-ramos-2750455/',\n",
       " 'https://www.martindale.com/attorney/giselle-lopez-soler-13986962/',\n",
       " 'https://www.martindale.com/attorney/monica-a-santiago-vazquez-1573619/',\n",
       " 'https://www.martindale.com/attorney/moraima-rios-24406822/',\n",
       " 'https://www.martindale.com/attorney/carlos-a-lazaro-castro-2041626/',\n",
       " 'https://www.martindale.com/attorney/angel-r-jimenez-rodriguez-24070752/',\n",
       " 'https://www.martindale.com/attorney/nanette-m-rodriguez-franceschini-26078869/',\n",
       " 'https://www.martindale.com/attorney/carmen-v-lopez-villafane-1571763/',\n",
       " 'https://www.martindale.com/attorney/oscar-o-melendez-sauri-1571895/',\n",
       " 'https://www.martindale.com/attorney/monique-guillemard-noble-1573526/',\n",
       " 'https://www.martindale.com/attorney/gabriel-i-penagaricano-1573689/',\n",
       " 'https://www.martindale.com/attorney/mario-pabon-rosario-2277865/',\n",
       " 'https://www.martindale.com/attorney/charles-a-cuprill-hernandez-1571336/',\n",
       " 'https://www.martindale.com/attorney/anabel-rodriguez-alonso-1573158/',\n",
       " 'https://www.martindale.com/attorney/nannette-berrios-haddock-2584364/',\n",
       " 'https://www.martindale.com/attorney/roberto-feliberti-cintron-1572009/',\n",
       " 'https://www.martindale.com/attorney/irma-e-castro-dieppa-3960767/',\n",
       " 'https://www.martindale.com/attorney/osvaldo-j-feliu-villegas-3189644/',\n",
       " 'https://www.martindale.com/attorney/linda-s-rodriguez-gardeslen-2039494/',\n",
       " 'https://www.martindale.com/attorney/wilson-galarza-3582957/',\n",
       " 'https://www.martindale.com/attorney/maria-a-casablanca-baldrich-2739255/',\n",
       " 'https://www.martindale.com/attorney/frank-m-gonzalez-acevedo-1571556/',\n",
       " 'https://www.martindale.com/attorney/lemuel-cancel-mendez-2735164/',\n",
       " 'https://www.martindale.com/attorney/jose-l-nieto-159556403/',\n",
       " 'https://www.martindale.com/attorney/joanna-bocanegra-ocasio-1572836/',\n",
       " 'https://www.martindale.com/attorney/maria-c-jimenez-perez-1573439/',\n",
       " 'https://www.martindale.com/attorney/luis-g-rullan-2821862/',\n",
       " 'https://www.martindale.com/attorney/angel-j-pagan-cordero-3358962/',\n",
       " 'https://www.martindale.com/attorney/michelle-rodriguez-miranda-1572917/',\n",
       " 'https://www.martindale.com/attorney/michelle-taveira-tirado-3118045/',\n",
       " 'https://www.martindale.com/attorney/melissa-m-diaz-melendez-4644090/',\n",
       " 'https://www.martindale.com/attorney/jennifer-odell-gonzalez-1572184/',\n",
       " 'https://www.martindale.com/attorney/marta-l-quinones-zambrana-1571994/',\n",
       " 'https://www.martindale.com/attorney/donna-a-maldonado-rivera-2035550/',\n",
       " 'https://www.martindale.com/attorney/gabriel-a-penagaricano-1573196/',\n",
       " 'https://www.martindale.com/attorney/victor-quinones-martinez-33975880/',\n",
       " 'https://www.martindale.com/attorney/francisco-rebollo-casalduc-1573521/',\n",
       " 'https://www.martindale.com/attorney/jose-r-cancio-bigas-1571746/',\n",
       " 'https://www.martindale.com/attorney/elsie-goyco-rodriguez-2662580/',\n",
       " 'https://www.martindale.com/attorney/lynn-doble-salicrup-1573161/',\n",
       " 'https://www.martindale.com/attorney/antonio-j-cruz-bonilla-2038583/',\n",
       " 'https://www.martindale.com/attorney/maria-eugenia-villares-seneriz-2299497/',\n",
       " 'https://www.martindale.com/attorney/maricely-blaimayar-sanchez-5138060/',\n",
       " 'https://www.martindale.com/attorney/graciana-gonzalez-1572291/',\n",
       " 'https://www.martindale.com/attorney/ada-angelica-garcia-medina-law-offices-1573064/',\n",
       " 'https://www.martindale.com/attorney/jose-javier-santos-1573007/',\n",
       " 'https://www.martindale.com/attorney/alexandra-rivera-saez-2540413/',\n",
       " 'https://www.martindale.com/attorney/marilyn-burgos-marques-2007531/',\n",
       " 'https://www.martindale.com/attorney/daniel-garcia-chamorro-1571462/',\n",
       " 'https://www.martindale.com/attorney/debbie-bermudez-1571203/',\n",
       " 'https://www.martindale.com/attorney/carlos-m-hernandez-lopez-1573820/',\n",
       " 'https://www.martindale.com/attorney/vanessa-medina-romero-2504917/',\n",
       " 'https://www.martindale.com/attorney/cecilia-m-suau-bada-157641159/',\n",
       " 'https://www.martindale.com/attorney/pedro-lopez-adames-1572707/',\n",
       " 'https://www.martindale.com/attorney/eric-r-ronda-del-toro-1573963/',\n",
       " 'https://www.martindale.com/attorney/alcides-a-reyes-gilestra-1573157/',\n",
       " 'https://www.martindale.com/attorney/yesika-z-ramos-28828278/',\n",
       " 'https://www.martindale.com/attorney/miguel-a-serrano-urdaz-24486775/',\n",
       " 'https://www.martindale.com/attorney/georganna-lynn-drayton-2068780/',\n",
       " 'https://www.martindale.com/attorney/antonio-m-peluzzo-perotin-1574142/',\n",
       " 'https://www.martindale.com/attorney/ruben-soto-2774175/',\n",
       " 'https://www.martindale.com/attorney/neftali-cruz-perez-1573100/',\n",
       " 'https://www.martindale.com/attorney/fernando-j-lavandero-latimer-1572432/',\n",
       " 'https://www.martindale.com/attorney/carlos-cebollero-1573777/',\n",
       " 'https://www.martindale.com/attorney/sarah-gotos-hernandez-301123318/',\n",
       " 'https://www.martindale.com/attorney/lina-m-soler-rosario-157641147/',\n",
       " 'https://www.martindale.com/attorney/marta-l-rivera-ruiz-3358970/',\n",
       " 'https://www.martindale.com/attorney/carmen-m-ramirez-fiol-404391/',\n",
       " 'https://www.martindale.com/attorney/concepcion-gonzalez-2121820/',\n",
       " 'https://www.martindale.com/attorney/yvonne-m-menendez-calero-2057199/',\n",
       " 'https://www.martindale.com/attorney/maria-e-del-valle-rexach-11857127/',\n",
       " 'https://www.martindale.com/attorney/isabel-c-gandulla-diaz-2101752/',\n",
       " 'https://www.martindale.com/attorney/maria-i-santos-1572555/',\n",
       " 'https://www.martindale.com/attorney/ruy-v-diaz-diaz-1572965/',\n",
       " 'https://www.martindale.com/attorney/jose-e-arroyo-davila-1572787/',\n",
       " 'https://www.martindale.com/attorney/juan-m-frontera-suau-1573154/',\n",
       " 'https://www.martindale.com/attorney/carmen-i-munoz-noya-1573054/',\n",
       " 'https://www.martindale.com/attorney/ernesto-r-irizarry-2486895/',\n",
       " 'https://www.martindale.com/attorney/luis-cotto-roman-2850936/',\n",
       " 'https://www.martindale.com/attorney/corinne-cordero-168607222/',\n",
       " 'https://www.martindale.com/attorney/pedro-e-ortiz-alvarez-1571341/',\n",
       " 'https://www.martindale.com/attorney/jose-a-ocasio-robles-2446411/',\n",
       " 'https://www.martindale.com/attorney/manuel-de-j-sanchez-agostini-5138061/',\n",
       " 'https://www.martindale.com/attorney/f-ariel-aviles-rodriguez-1574080/',\n",
       " 'https://www.martindale.com/attorney/vivian-m-crespo-miranda-2040780/',\n",
       " 'https://www.martindale.com/attorney/armando-j-martinez-vilella-1572385/',\n",
       " 'https://www.martindale.com/attorney/carolina-santa-cruz-sadurni-4644114/',\n",
       " 'https://www.martindale.com/attorney/michael-craig-mccall-1572287/',\n",
       " 'https://www.martindale.com/attorney/jorge-soltero-3807101/',\n",
       " 'https://www.martindale.com/attorney/mario-a-rivera-vega-1572390/',\n",
       " 'https://www.martindale.com/attorney/vanessa-alejandro-rodriguez-24544797/',\n",
       " 'https://www.martindale.com/attorney/maritza-candelaria-bonet-2298496/',\n",
       " 'https://www.martindale.com/attorney/mayra-m-gonzalez-reyes-2007224/',\n",
       " 'https://www.martindale.com/attorney/juan-m-cancio-300784870/',\n",
       " 'https://www.martindale.com/attorney/harry-o-cook-1573228/',\n",
       " 'https://www.martindale.com/attorney/carlos-d-rodriguez-boneta-esq-1571873/',\n",
       " 'https://www.martindale.com/attorney/cristina-l-alcaraz-emmanuelli-1991088/',\n",
       " 'https://www.martindale.com/attorney/betsy-e-gonzalez-rios-1572895/',\n",
       " 'https://www.martindale.com/attorney/sara-e-tolosa-ramirez-1572021/',\n",
       " 'https://www.martindale.com/attorney/pedro-i-torres-amador-1571992/',\n",
       " 'https://www.martindale.com/attorney/roberto-lefranc-romero-1573097/',\n",
       " 'https://www.martindale.com/attorney/gabriel-m-hernandez-gonzalez-1572029/',\n",
       " 'https://www.martindale.com/attorney/alejandro-a-suarez-cabrera-1572017/',\n",
       " 'https://www.martindale.com/attorney/cenia-m-mercado-santana-158692847/',\n",
       " 'https://www.martindale.com/attorney/ana-cruz-neris-1572701/',\n",
       " 'https://www.martindale.com/attorney/vanessa-carballo-santiago-2849132/',\n",
       " 'https://www.martindale.com/attorney/zahira-maldonado-molina-36560337/',\n",
       " 'https://www.martindale.com/attorney/lynn-m-carey-felix-2420825/',\n",
       " 'https://www.martindale.com/attorney/jennie-marielle-espada-ocasio-esq-167698736/',\n",
       " 'https://www.martindale.com/attorney/michael-r-hasse-330322/',\n",
       " 'https://www.martindale.com/attorney/luis-rios-300770328/',\n",
       " 'https://www.martindale.com/attorney/jose-carlos-h-miranda-massari-2035338/',\n",
       " 'https://www.martindale.com/organization/mellado-mellado-villarreal-1260661/san-juan-puerto-rico-1572911-f/?pa=49',\n",
       " 'https://www.martindale.com/attorney/enrique-g-figueroa-llinas-1571907/',\n",
       " 'https://www.martindale.com/attorney/robert-t-collins-viera-1571688/',\n",
       " 'https://www.martindale.com/attorney/tessie-leal-garabis-esq-169104324/',\n",
       " 'https://www.martindale.com/attorney/raed-gonzalez-1667237/',\n",
       " 'https://www.martindale.com/attorney/hector-j-orejuela-davila-168566822/',\n",
       " 'https://www.martindale.com/attorney/john-m-garcia-nokonechna-1571451/',\n",
       " 'https://www.martindale.com/attorney/chungmoon-kristin-choi-3489108/',\n",
       " 'https://www.martindale.com/attorney/alfredo-f-ramirez-macdonald-1573602/',\n",
       " 'https://www.martindale.com/attorney/alberto-baco-bague-1571554/',\n",
       " 'https://www.martindale.com/attorney/edgardo-l-rivera-rivera-1572636/',\n",
       " 'https://www.martindale.com/attorney/doraliz-eileen-ortiz-de-leon-25954747/',\n",
       " 'https://www.martindale.com/attorney/marco-antonio-rigau-1573891/',\n",
       " 'https://www.martindale.com/attorney/jose-j-sanchez-velez-1573636/',\n",
       " 'https://www.martindale.com/attorney/irving-k-hernandez-1571431/',\n",
       " 'https://www.martindale.com/attorney/jose-a-sosa-llorens-1572700/',\n",
       " 'https://www.martindale.com/attorney/carlos-a-steffens-guzman-1573382/',\n",
       " 'https://www.martindale.com/attorney/paul-salamone-velilla-1573456/',\n",
       " 'https://www.martindale.com/attorney/salvador-antonetti-zequeira-1572477/',\n",
       " 'https://www.martindale.com/attorney/fernando-j-rovira-rullan-esq-1573328/',\n",
       " 'https://www.martindale.com/attorney/wilma-rosario-rodriguez-158482733/',\n",
       " 'https://www.martindale.com/attorney/ricardo-diaz-soto-2283828/',\n",
       " 'https://www.martindale.com/attorney/jose-a-ruiz-garcia-2433099/',\n",
       " 'https://www.martindale.com/attorney/jose-r-toro-morales-1573182/',\n",
       " 'https://www.martindale.com/attorney/santiago-f-lampon-gonzalez-1571191/',\n",
       " 'https://www.martindale.com/attorney/gabriella-sofia-paglieri-300304846/',\n",
       " 'https://www.martindale.com/attorney/danilo-m-eboli-1572752/',\n",
       " 'https://www.martindale.com/attorney/elba-l-bermudez-aponte-168529516/',\n",
       " 'https://www.martindale.com/attorney/michelle-k-b-garcia-915320/',\n",
       " 'https://www.martindale.com/attorney/nelson-william-gonzalez-1573776/',\n",
       " 'https://www.martindale.com/attorney/carmen-gabriela-szendrey-ramos-300298708/',\n",
       " 'https://www.martindale.com/attorney/luis-a-aviles-1571578/',\n",
       " 'https://www.martindale.com/attorney/ivan-rios-300887112/',\n",
       " 'https://www.martindale.com/attorney/diego-a-ramos-1572495/',\n",
       " 'https://www.martindale.com/attorney/anita-montaner-sevillano-1573291/',\n",
       " 'https://www.martindale.com/attorney/ana-matilde-nin-torregrosa-1573223/',\n",
       " 'https://www.martindale.com/attorney/julio-pietrantoni-1573609/',\n",
       " 'https://www.martindale.com/attorney/ana-marta-bird-pico-1572450/',\n",
       " 'https://www.martindale.com/attorney/julia-m-garriga-trillo-1573735/',\n",
       " 'https://www.martindale.com/attorney/juan-c-blasini-gonzalez-2892081/',\n",
       " 'https://www.martindale.com/attorney/mauricio-o-muniz-luciano-33933067/',\n",
       " 'https://www.martindale.com/attorney/patricia-r-limeres-vargas-3763397/',\n",
       " 'https://www.martindale.com/attorney/miguel-a-figueroa-iglesias-1571768/',\n",
       " 'https://www.martindale.com/attorney/angelica-t-toro-lavergne-1573324/',\n",
       " 'https://www.martindale.com/attorney/brian-k-tester-94518/',\n",
       " 'https://www.martindale.com/attorney/carlos-a-valldejuly-sastre-1573607/',\n",
       " 'https://www.martindale.com/attorney/sarah-lynn-de-diego-157570719/',\n",
       " 'https://www.martindale.com/attorney/oscar-amador-ramirez-1571510/',\n",
       " 'https://www.martindale.com/attorney/leonardo-andrade-lugo-1572786/',\n",
       " 'https://www.martindale.com/attorney/pablo-rodriguez-sola-1573599/',\n",
       " 'https://www.martindale.com/attorney/paul-ramirez-1114509/',\n",
       " 'https://www.martindale.com/attorney/jorge-j-rexach-vaquer-17550746/',\n",
       " 'https://www.martindale.com/attorney/mariacte-correa-cestero-1573617/',\n",
       " 'https://www.martindale.com/attorney/david-r-bernier-velazquez-2283858/',\n",
       " 'https://www.martindale.com/attorney/edgardo-munoz-maldonado-1571454/',\n",
       " 'https://www.martindale.com/attorney/luis-r-rosas-2035095/',\n",
       " 'https://www.martindale.com/attorney/daniel-ibrahim-torres-vargas-300673224/',\n",
       " 'https://www.martindale.com/attorney/rafael-hernandez-miranda-168321920/',\n",
       " 'https://www.martindale.com/attorney/john-alfred-stewart-300226600/',\n",
       " 'https://www.martindale.com/attorney/jose-r-quinones-coll-1573098/',\n",
       " 'https://www.martindale.com/attorney/mr-andrew-thomas-kagan-168798166/',\n",
       " 'https://www.martindale.com/attorney/j-santiago-semidey-1574040/',\n",
       " 'https://www.martindale.com/attorney/carlos-colon-marchand-1571500/',\n",
       " 'https://www.martindale.com/attorney/jaime-l-sanabria-montanez-13986961/',\n",
       " 'https://www.martindale.com/attorney/manuel-f-villalon-1573556/',\n",
       " 'https://www.martindale.com/attorney/harold-mestey-1573366/',\n",
       " 'https://www.martindale.com/attorney/mr-thomas-m-dunlap-301030230/',\n",
       " 'https://www.martindale.com/attorney/alberto-juan-enrique-aneses-negron-300945728/',\n",
       " 'https://www.martindale.com/attorney/angel-sosa-baez-2477609/',\n",
       " 'https://www.martindale.com/attorney/jorge-souss-40603876/',\n",
       " 'https://www.martindale.com/attorney/edna-laura-perez-nanez-1573367/',\n",
       " 'https://www.martindale.com/attorney/pedro-hernandez-reyes-1571759/',\n",
       " 'https://www.martindale.com/attorney/nailymar-arroyo-300744352/',\n",
       " 'https://www.martindale.com/attorney/daisy-caban-1573740/',\n",
       " 'https://www.martindale.com/attorney/francisco-javier-dox-millan-157207202/',\n",
       " 'https://www.martindale.com/attorney/heidi-serrano-ysern-1571767/',\n",
       " 'https://www.martindale.com/attorney/juan-acosta-reboyras-1573201/',\n",
       " 'https://www.martindale.com/attorney/susan-l-shafer-1574054/',\n",
       " 'https://www.martindale.com/attorney/luis-m-suarez-lozada-1572716/',\n",
       " 'https://www.martindale.com/attorney/juan-ramon-cancio-ortiz-1572137/',\n",
       " 'https://www.martindale.com/attorney/ernesto-n-mayoral-megwinoff-1573237/',\n",
       " 'https://www.martindale.com/attorney/erin-elizabeth-martens-125069/',\n",
       " 'https://www.martindale.com/attorney/jaime-ruiz-saldana-2248752/',\n",
       " 'https://www.martindale.com/attorney/adam-t-ettinger-159483307/',\n",
       " 'https://www.martindale.com/attorney/samuel-t-cespedes-1573212/',\n",
       " 'https://www.martindale.com/attorney/jose-a-miranda-daleccio-1573487/',\n",
       " 'https://www.martindale.com/attorney/juan-c-salichs-pou-1572529/',\n",
       " 'https://www.martindale.com/attorney/moises-edgardo-figueroa-perez-301307872/',\n",
       " 'https://www.martindale.com/attorney/walter-f-chow-1573588/',\n",
       " 'https://www.martindale.com/attorney/luis-edwin-gonzalez-ortiz-1573598/',\n",
       " 'https://www.martindale.com/attorney/arturo-j-garcia-sola-1573231/',\n",
       " 'https://www.martindale.com/attorney/ubaldo-m-fernandez-barrera-168322620/',\n",
       " 'https://www.martindale.com/attorney/edward-m-borges-1572681/',\n",
       " 'https://www.martindale.com/attorney/ricardo-f-casellas-1572500/',\n",
       " 'https://www.martindale.com/attorney/gladys-fontanez-38046894/',\n",
       " 'https://www.martindale.com/attorney/ms-carly-elizabeth-howard-301451782/',\n",
       " 'https://www.martindale.com/attorney/carlos-e-serrano-terron-31928832/',\n",
       " 'https://www.martindale.com/attorney/carlos-a-rodriguez-vidal-1572807/',\n",
       " 'https://www.martindale.com/attorney/margorie-stewart-3912614/',\n",
       " 'https://www.martindale.com/attorney/ricardo-aponte-parsi-2901191/',\n",
       " 'https://www.martindale.com/attorney/marcos-rodriguez-ema-1571938/',\n",
       " 'https://www.martindale.com/attorney/hermann-d-bauer-alvarez-1573624/',\n",
       " 'https://www.martindale.com/attorney/maricarmen-colon-2035094/',\n",
       " 'https://www.martindale.com/attorney/rafael-ramirez-ball-1573203/',\n",
       " 'https://www.martindale.com/attorney/jorge-l-catala-monge-4092005/',\n",
       " 'https://www.martindale.com/attorney/john-l-shapiro-1574058/',\n",
       " 'https://www.martindale.com/attorney/eugenio-c-romero-1572219/',\n",
       " 'https://www.martindale.com/attorney/shylene-de-jesus-rivera-20417047/',\n",
       " 'https://www.martindale.com/attorney/richard-a-lee-1573032/',\n",
       " 'https://www.martindale.com/attorney/j-cristina-alamo-garcia-1571766/',\n",
       " 'https://www.martindale.com/attorney/antonio-l-roig-lorenzo-1573616/',\n",
       " 'https://www.martindale.com/attorney/juan-j-martinez-rodriguez-1573911/',\n",
       " 'https://www.martindale.com/attorney/gary-l-leonard-1572204/',\n",
       " 'https://www.martindale.com/attorney/antonio-j-sifre-sein-1573361/',\n",
       " 'https://www.martindale.com/attorney/yifan-yang-301098974/',\n",
       " 'https://www.martindale.com/attorney/manuel-a-guzman-rodriguez-1573380/',\n",
       " 'https://www.martindale.com/attorney/maria-elena-margarida-2097305/',\n",
       " 'https://www.martindale.com/attorney/gregorio-igartua-1571053/',\n",
       " 'https://www.martindale.com/attorney/guillermo-san-antonio-acha-2314958/',\n",
       " 'https://www.martindale.com/attorney/juan-e-rodriguez-diaz-1572991/',\n",
       " 'https://www.martindale.com/attorney/pedro-j-santa-sanchez-157265900/',\n",
       " 'https://www.martindale.com/attorney/carlos-e-lopez-lopez-1574106/',\n",
       " 'https://www.martindale.com/attorney/christian-m-echavarri-junco-1573601/',\n",
       " 'https://www.martindale.com/attorney/cristina-alamo-1572704/',\n",
       " 'https://www.martindale.com/attorney/fernando-j-bonilla-ortiz-1572572/',\n",
       " 'https://www.martindale.com/attorney/sarah-l-de-diego-301454596/',\n",
       " 'https://www.martindale.com/attorney/gabriel-jose-montilla-1571782/',\n",
       " 'https://www.martindale.com/attorney/john-l-shapiro-2637728/',\n",
       " 'https://www.martindale.com/attorney/diego-o-pagan-gutierrez-1572667/',\n",
       " 'https://www.martindale.com/attorney/juan-m-rodriguez-300780802/',\n",
       " 'https://www.martindale.com/attorney/salvador-j-antonetti-stutts-27049022/',\n",
       " 'https://www.martindale.com/attorney/juan-ramon-miranda-diaz-1571253/',\n",
       " 'https://www.martindale.com/attorney/sean-gregory-king-1605714/',\n",
       " 'https://www.martindale.com/organization/the-lanier-law-firm-p-c-1340948/houston-texas-1674375-f/?pa=167',\n",
       " 'https://www.martindale.com/attorney/juan-m-surillo-pumarada-1571261/',\n",
       " 'https://www.martindale.com/attorney/laura-a-dahdah-de-surillo-1571262/',\n",
       " 'https://www.martindale.com/attorney/noel-e-gonzalez-abella-2023809/',\n",
       " 'https://www.martindale.com/attorney/myrta-e-neives-blas-1571292/',\n",
       " 'https://www.martindale.com/attorney/pablo-r-alvarez-sepulveda-2043218/',\n",
       " 'https://www.martindale.com/attorney/manny-suarez-1571477/',\n",
       " 'https://www.martindale.com/attorney/juan-massa-diaz-1573119/',\n",
       " 'https://www.martindale.com/attorney/ernesto-f-rodriquez-suris-1573862/',\n",
       " 'https://www.martindale.com/attorney/javier-o-ascencio-luciano-2097358/',\n",
       " 'https://www.martindale.com/attorney/efrain-perez-jimenez-1571192/',\n",
       " 'https://www.martindale.com/attorney/lawrence-duffy-1573112/',\n",
       " 'https://www.martindale.com/attorney/liana-i-loyola-2498047/',\n",
       " 'https://www.martindale.com/attorney/elizabeth-a-schiavone-centeno-1571924/',\n",
       " 'https://www.martindale.com/attorney/iris-martinez-juarbe-2445042/',\n",
       " 'https://www.martindale.com/attorney/isabel-abislaiman-quilez-1572778/',\n",
       " 'https://www.martindale.com/attorney/alice-m-velazquez-aponte-395765/',\n",
       " 'https://www.martindale.com/attorney/jose-r-roman-borgos-1573957/',\n",
       " 'https://www.martindale.com/attorney/mariemma-dorna-llompart-1573000/',\n",
       " 'https://www.martindale.com/attorney/armando-del-valle-munoz-1573049/',\n",
       " 'https://www.martindale.com/attorney/lisa-e-bhatia-gautier-1572262/',\n",
       " 'https://www.martindale.com/attorney/andres-j-colberg-trigo-1573050/',\n",
       " 'https://www.martindale.com/attorney/karla-s-mellado-delgado-2826266/',\n",
       " 'https://www.martindale.com/attorney/juan-a-lopez-conway-1571458/',\n",
       " 'https://www.martindale.com/attorney/atty-maria-lourdes-gonzalez-framil-27012545/',\n",
       " 'https://www.martindale.com/attorney/noel-j-torres-colon-1571101/',\n",
       " 'https://www.martindale.com/attorney/rolando-emmanuelli-jimenez-1571319/',\n",
       " 'https://www.martindale.com/attorney/ivan-pasarell-jove-1573051/',\n",
       " 'https://www.martindale.com/attorney/eric-velazquez-flores-1571298/',\n",
       " 'https://www.martindale.com/attorney/mayra-candelaria-jurado-169155088/',\n",
       " 'https://www.martindale.com/attorney/luis-vizcarrondo-ortiz-1574242/',\n",
       " 'https://www.martindale.com/attorney/evelyn-fernandez-santiago-1571254/',\n",
       " 'https://www.martindale.com/attorney/jose-l-delgado-cadilla-1573103/',\n",
       " 'https://www.martindale.com/attorney/pedro-j-cruz-soto-1573969/',\n",
       " 'https://www.martindale.com/attorney/lisa-beth-drucker-1571211/',\n",
       " 'https://www.martindale.com/attorney/david-efron-esq-801659/',\n",
       " 'https://www.martindale.com/attorney/laura-i-santiago-loperena-1573109/',\n",
       " 'https://www.martindale.com/attorney/kayra-d-montanez-3332375/',\n",
       " 'https://www.martindale.com/attorney/arturo-v-bauermeister-169155024/',\n",
       " 'https://www.martindale.com/attorney/yolanda-m-da-silveira-neves-1573046/',\n",
       " 'https://www.martindale.com/attorney/sarita-gallardo-gonzalez-1572284/',\n",
       " 'https://www.martindale.com/attorney/george-mottley-2388380/',\n",
       " 'https://www.martindale.com/attorney/nilda-m-navarro-cabrer-1573568/',\n",
       " 'https://www.martindale.com/attorney/carlos-i-prieto-3970045/',\n",
       " 'https://www.martindale.com/attorney/juan-r-zalduondo-viera-1574195/',\n",
       " 'https://www.martindale.com/attorney/julio-a-diaz-valdes-1573044/',\n",
       " 'https://www.martindale.com/attorney/cristobal-colon-1572118/',\n",
       " 'https://www.martindale.com/attorney/luis-roberto-santos-1571290/',\n",
       " 'https://www.martindale.com/attorney/miguel-a-rivera-arce-3008253/',\n",
       " 'https://www.martindale.com/attorney/carmen-i-balleste-frank-12198026/',\n",
       " 'https://www.martindale.com/attorney/ramon-h-banuchi-eurite-1571236/',\n",
       " 'https://www.martindale.com/attorney/diana-perez-seda-168331120/',\n",
       " 'https://www.martindale.com/attorney/valerie-robles-1571734/',\n",
       " 'https://www.martindale.com/attorney/dimaries-broco-irizarry-3582951/',\n",
       " 'https://www.martindale.com/attorney/jose-r-cancio-gonzalez-1571042/',\n",
       " 'https://www.martindale.com/attorney/eda-mariel-ayala-morales-2107605/',\n",
       " 'https://www.martindale.com/attorney/iris-jannette-cabrera-2483645/',\n",
       " 'https://www.martindale.com/attorney/sigfredo-a-irizarry-1572945/',\n",
       " 'https://www.martindale.com/attorney/miguel-g-laffitte-1572369/',\n",
       " 'https://www.martindale.com/attorney/patricia-varela-harrison-12198027/',\n",
       " 'https://www.martindale.com/attorney/ricardo-pizarro-garcia-1574062/',\n",
       " 'https://www.martindale.com/attorney/liza-m-ramos-santos-36642353/',\n",
       " 'https://www.martindale.com/attorney/ivette-perez-gutierrez-2106188/',\n",
       " 'https://www.martindale.com/attorney/juan-carlos-ramirez-ramos-20420183/',\n",
       " 'https://www.martindale.com/attorney/norberto-medina-zurinaga-1573455/',\n",
       " 'https://www.martindale.com/attorney/luis-ortiz-alvarado-13789401/',\n",
       " 'https://www.martindale.com/attorney/alina-sandoval-matos-3279457/',\n",
       " 'https://www.martindale.com/attorney/federico-comas-montalvo-1571272/',\n",
       " 'https://www.martindale.com/attorney/ernesto-l-polo-300751470/',\n",
       " 'https://www.martindale.com/attorney/victor-j-girona-gonzalez-4660784/',\n",
       " 'https://www.martindale.com/attorney/carolyn-boren-1574149/',\n",
       " 'https://www.martindale.com/attorney/jose-perez-hernandez-1573796/',\n",
       " 'https://www.martindale.com/attorney/nelson-roman-mendez-4651004/',\n",
       " 'https://www.martindale.com/attorney/edwin-ortiz-rivera-1571242/',\n",
       " 'https://www.martindale.com/attorney/cesar-a-hernandez-colon-1571349/',\n",
       " 'https://www.martindale.com/attorney/oreste-v-ramos-1571771/',\n",
       " 'https://www.martindale.com/attorney/ms-yalitza-marie-maldonado-torres-300330376/',\n",
       " 'https://www.martindale.com/attorney/thomas-j-bryan-pico-16299269/',\n",
       " 'https://www.martindale.com/attorney/beatriz-varela-rios-13789472/',\n",
       " 'https://www.martindale.com/attorney/rene-esteves-tristani-1573113/',\n",
       " 'https://www.martindale.com/attorney/donato-rivera-de-jesus-1573763/',\n",
       " 'https://www.martindale.com/attorney/jesus-m-del-valle-1573824/',\n",
       " 'https://www.martindale.com/attorney/jesus-a-castellanos-1572068/',\n",
       " 'https://www.martindale.com/attorney/pablo-r-cancio-1571039/',\n",
       " 'https://www.martindale.com/attorney/ivanisse-morales-tirado-1571764/',\n",
       " 'https://www.martindale.com/attorney/anabel-franceschini-rosa-537570/',\n",
       " 'https://www.martindale.com/attorney/esteban-mujica-cotto-1572253/',\n",
       " 'https://www.martindale.com/attorney/moises-avila-sanchez-1573721/',\n",
       " 'https://www.martindale.com/attorney/angel-gatell-garcia-5556746/',\n",
       " 'https://www.martindale.com/attorney/grecia-diaz-sanchez-301089404/',\n",
       " 'https://www.martindale.com/attorney/enrique-umpierre-suarez-1571780/',\n",
       " 'https://www.martindale.com/attorney/antonio-r-escriba-oliver-1573470/',\n",
       " 'https://www.martindale.com/attorney/herman-lugo-del-toro-1572263/',\n",
       " 'https://www.martindale.com/attorney/jenny-rodriguez-yejo-1571598/',\n",
       " 'https://www.martindale.com/attorney/gilberto-mayo-aguayo-1574159/',\n",
       " 'https://www.martindale.com/attorney/miguel-a-maza-1573021/',\n",
       " 'https://www.martindale.com/attorney/miguel-a-diaz-rivera-1574212/',\n",
       " 'https://www.martindale.com/attorney/eric-vos-300370290/',\n",
       " 'https://www.martindale.com/attorney/rosa-e-permuy-1574197/',\n",
       " 'https://www.martindale.com/attorney/angel-berberena-feliciano-1572854/',\n",
       " 'https://www.martindale.com/attorney/frank-d-inserni-milam-1573781/',\n",
       " 'https://www.martindale.com/attorney/felix-a-colon-serrano-300745708/',\n",
       " 'https://www.martindale.com/attorney/jose-l-iglesias-irizarry-3121763/',\n",
       " 'https://www.martindale.com/attorney/waleska-l-del-valle-rivera-35322112/',\n",
       " 'https://www.martindale.com/attorney/benny-frankie-cerezo-1572099/',\n",
       " 'https://www.martindale.com/attorney/francisco-j-villarrubia-garcia-1573052/',\n",
       " 'https://www.martindale.com/attorney/juan-m-rivera-gonzalez-1573040/',\n",
       " 'https://www.martindale.com/attorney/jose-a-fernandez-paoli-1573104/',\n",
       " 'https://www.martindale.com/attorney/carla-s-loubriel-carrion-167969728/',\n",
       " 'https://www.martindale.com/attorney/orlando-i-martinez-garcia-1571249/',\n",
       " 'https://www.martindale.com/attorney/pablo-g-cancio-reichard-1571040/',\n",
       " 'https://www.martindale.com/attorney/angel-a-morales-lebron-2498091/',\n",
       " 'https://www.martindale.com/attorney/maria-e-rodriguez-lopez-1573106/',\n",
       " 'https://www.martindale.com/attorney/alberto-acevedo-vallejo-1571743/',\n",
       " 'https://www.martindale.com/attorney/luis-e-colon-ramery-1571331/',\n",
       " 'https://www.martindale.com/attorney/beatriz-beato-diaz-1571599/',\n",
       " 'https://www.martindale.com/attorney/xavier-torres-soto-45008577/',\n",
       " 'https://www.martindale.com/attorney/gladys-n-torres-diaz-1571738/',\n",
       " 'https://www.martindale.com/attorney/benjamin-quinones-lebron-13718978/',\n",
       " 'https://www.martindale.com/attorney/vanessa-caraballo-saliva-3279262/',\n",
       " 'https://www.martindale.com/attorney/luis-barcelo-gener-1574233/',\n",
       " 'https://www.martindale.com/attorney/bethzaida-jordan-ramirez-1571295/',\n",
       " 'https://www.martindale.com/attorney/marilyn-burgos-marquez-1573114/',\n",
       " 'https://www.martindale.com/attorney/jenyfer-garcia-soto-4644067/',\n",
       " 'https://www.martindale.com/attorney/ramon-muniz-santiago-908753/',\n",
       " 'https://www.martindale.com/attorney/ivan-diaz-lopez-1571965/',\n",
       " 'https://www.martindale.com/attorney/mariangela-tirado-vales-1572979/',\n",
       " 'https://www.martindale.com/attorney/ruben-rivera-1572849/',\n",
       " 'https://www.martindale.com/attorney/ivan-a-colon-morales-1573821/',\n",
       " 'https://www.martindale.com/attorney/luis-a-sanchez-pont-4560667/',\n",
       " 'https://www.martindale.com/attorney/edgardo-a-vega-lopez-jr-1572962/',\n",
       " 'https://www.martindale.com/attorney/roberto-e-lefranc-morales-1573099/',\n",
       " 'https://www.martindale.com/attorney/juan-carlos-deliz-21265759/',\n",
       " 'https://www.martindale.com/attorney/daniel-f-lopez-romo-1573078/',\n",
       " 'https://www.martindale.com/attorney/jose-l-colon-ramirez-1571117/',\n",
       " 'https://www.martindale.com/attorney/marielisa-font-rodriguez-1572272/',\n",
       " 'https://www.martindale.com/attorney/brenda-i-saenz-700067/',\n",
       " 'https://www.martindale.com/attorney/charles-p-gilmore-1572180/',\n",
       " 'https://www.martindale.com/attorney/carlos-r-sosa-padro-1572002/',\n",
       " 'https://www.martindale.com/attorney/antonio-a-arias-larcada-1573244/',\n",
       " 'https://www.martindale.com/attorney/fausto-david-godreau-zayas-1573845/',\n",
       " 'https://www.martindale.com/attorney/maria-de-lourdes-de-vizcarrondo-lopez-molina-1572386/',\n",
       " 'https://www.martindale.com/attorney/dora-m-penagaricano-suarez-1573249/',\n",
       " 'https://www.martindale.com/attorney/wilda-rodriguez-plaza-1572828/',\n",
       " 'https://www.martindale.com/attorney/jessica-campos-bristol-2396529/',\n",
       " 'https://www.martindale.com/attorney/pedro-d-quiles-mariani-1573494/',\n",
       " 'https://www.martindale.com/attorney/antonio-r-escriba-oliver-157584511/',\n",
       " 'https://www.martindale.com/attorney/alberto-de-diego-collar-1573465/',\n",
       " 'https://www.martindale.com/attorney/ismael-h-herrero-iii-1572368/',\n",
       " 'https://www.martindale.com/attorney/antonio-j-cabreo-muniz-2849149/',\n",
       " 'https://www.martindale.com/attorney/teresa-trujillo-3319044/',\n",
       " 'https://www.martindale.com/attorney/ivan-sanchez-limardo-esq-157515318/',\n",
       " 'https://www.martindale.com/attorney/atty-antonio-l-roig-300189516/',\n",
       " 'https://www.martindale.com/attorney/jesus-santiago-malavet-28975830/',\n",
       " 'https://www.martindale.com/attorney/rafael-h-zapata-yordan-11445849/',\n",
       " 'https://www.martindale.com/attorney/glenn-carl-james-1573988/',\n",
       " 'https://www.martindale.com/attorney/gretchen-negron-2965943/',\n",
       " 'https://www.martindale.com/attorney/guillermo-zuniga-lopez-1572543/',\n",
       " 'https://www.martindale.com/attorney/aurelio-emanuelli-freese-13844110/',\n",
       " 'https://www.martindale.com/attorney/gilberto-maymi-1571179/',\n",
       " 'https://www.martindale.com/attorney/francisco-de-jesus-schuck-1572800/',\n",
       " 'https://www.martindale.com/attorney/eduardo-e-franklin-1573586/',\n",
       " 'https://www.martindale.com/attorney/ricardo-e-soto-miranda-1572549/',\n",
       " 'https://www.martindale.com/attorney/tatiana-roman-orozco-157641049/',\n",
       " 'https://www.martindale.com/attorney/michelle-marichal-soderberg-33933066/',\n",
       " 'https://www.martindale.com/attorney/samuel-rosado-domenech-1573614/',\n",
       " 'https://www.martindale.com/attorney/patricia-george-iguina-3955058/',\n",
       " 'https://www.martindale.com/attorney/luis-daniel-muniz-martinez-3954505/',\n",
       " 'https://www.martindale.com/attorney/francisco-j-rodriguez-bernier-33803835/',\n",
       " 'https://www.martindale.com/attorney/ricardo-j-garcia-negron-157640413/',\n",
       " 'https://www.martindale.com/attorney/peter-s-roisman-1741052/',\n",
       " 'https://www.martindale.com/attorney/yldefonso-lopez-1573377/',\n",
       " 'https://www.martindale.com/attorney/jorge-m-ruiz-montilla-1573342/',\n",
       " 'https://www.martindale.com/attorney/gerardo-j-rivera-fourquet-1573254/',\n",
       " 'https://www.martindale.com/attorney/jose-g-barea-fernandez-3113094/',\n",
       " 'https://www.martindale.com/attorney/manuel-ortiz-garcia-1571772/',\n",
       " 'https://www.martindale.com/attorney/ralph-j-sierra-jr-1571710/',\n",
       " 'https://www.martindale.com/attorney/virgilio-ramos-tomasini-2248610/',\n",
       " 'https://www.martindale.com/attorney/magali-d-cobian-guzman-1571712/',\n",
       " 'https://www.martindale.com/attorney/rafael-escalera-rodriguez-1573709/',\n",
       " 'https://www.martindale.com/attorney/roberto-santana-aparicio-1572342/',\n",
       " 'https://www.martindale.com/attorney/brunilda-rodriguez-velez-1572162/',\n",
       " 'https://www.martindale.com/attorney/edgar-cartagena-1572802/',\n",
       " 'https://www.martindale.com/attorney/john-t-belk-1571713/',\n",
       " 'https://www.martindale.com/attorney/xenia-velez-silva-1573373/',\n",
       " 'https://www.martindale.com/attorney/ramon-e-dapena-157379933/',\n",
       " 'https://www.martindale.com/attorney/angel-s-ruiz-rodriguez-1572146/',\n",
       " 'https://www.martindale.com/attorney/ramon-e-dapena-33975881/',\n",
       " 'https://www.martindale.com/attorney/ricky-pamblanco-300734930/',\n",
       " 'https://www.martindale.com/attorney/jose-emmanuel-santiago-300733624/',\n",
       " 'https://www.martindale.com/attorney/eyal-samuel-rosenstock-300597330/',\n",
       " 'https://www.martindale.com/attorney/francisco-j-reyes-300761952/',\n",
       " 'https://www.martindale.com/attorney/juan-jose-nolla-acosta-2521947/',\n",
       " 'https://www.martindale.com/attorney/alejandro-m-guzman-300781496/',\n",
       " 'https://www.martindale.com/attorney/luis-f-antonetti-1572798/',\n",
       " 'https://www.martindale.com/attorney/anibal-escanellas-rivera-1573738/',\n",
       " 'https://www.martindale.com/attorney/gary-h-montilla-brogan-3568842/',\n",
       " 'https://www.martindale.com/attorney/fred-gautier-lugo-esq-157515022/',\n",
       " 'https://www.martindale.com/attorney/raymond-e-morales-1571439/',\n",
       " 'https://www.martindale.com/attorney/alfredo-m-hopgood-jovet-1573241/',\n",
       " 'https://www.martindale.com/attorney/marco-rosado-conde-1571754/',\n",
       " 'https://www.martindale.com/attorney/yldefonso-lopez-morales-1573611/',\n",
       " 'https://www.martindale.com/attorney/vivian-i-neptune-rivera-1572553/',\n",
       " 'https://www.martindale.com/attorney/yassmin-gonzalez-velez-2289813/',\n",
       " 'https://www.martindale.com/attorney/annette-nogueras-castro-1572613/',\n",
       " 'https://www.martindale.com/attorney/lidia-gonzalez-1572609/',\n",
       " 'https://www.martindale.com/attorney/hector-santaella-sante-2780970/',\n",
       " 'https://www.martindale.com/attorney/maria-soledad-ramirez-becerra-1573984/',\n",
       " 'https://www.martindale.com/attorney/antonio-l-garcia-ramirez-2525526/',\n",
       " 'https://www.martindale.com/attorney/carlos-a-del-valle-cruz-1573055/',\n",
       " 'https://www.martindale.com/attorney/artemio-rivera-rivera-1572872/',\n",
       " 'https://www.martindale.com/attorney/diana-m-espinosa-28828277/',\n",
       " 'https://www.martindale.com/attorney/enrique-r-padro-2525671/',\n",
       " 'https://www.martindale.com/attorney/elaine-maldonado-matias-1573296/',\n",
       " 'https://www.martindale.com/attorney/maria-t-ferran-perez-benitoa-1573968/',\n",
       " 'https://www.martindale.com/attorney/lillian-mendoza-1573365/',\n",
       " 'https://www.martindale.com/attorney/juan-j-casillas-ayala-1994825/',\n",
       " 'https://www.martindale.com/attorney/maria-eugenia-castro-colon-1572998/',\n",
       " 'https://www.martindale.com/attorney/zuleka-llovet-zurinaga-1573830/',\n",
       " 'https://www.martindale.com/attorney/miguel-palou-sabater-1573215/',\n",
       " 'https://www.martindale.com/attorney/maria-t-juan-urrutia-1573292/',\n",
       " 'https://www.martindale.com/attorney/edwin-j-seda-fernandez-1572754/',\n",
       " 'https://www.martindale.com/attorney/jose-a-bague-soto-1573923/',\n",
       " 'https://www.martindale.com/attorney/marie-l-cortes-cortes-2700357/',\n",
       " 'https://www.martindale.com/attorney/gerardo-j-hernandez-1572417/',\n",
       " 'https://www.martindale.com/attorney/nelson-robles-diaz-1573043/',\n",
       " ...]"
      ]
     },
     "execution_count": 116,
     "metadata": {},
     "output_type": "execute_result"
    }
   ],
   "source": [
    "urls_total"
   ]
  },
  {
   "cell_type": "code",
   "execution_count": 115,
   "id": "40f55bf0",
   "metadata": {},
   "outputs": [],
   "source": [
    "with open(\"urls_region_PR.pkl\", \"wb\") as f:\n",
    "    pickle.dump(urls_total, f)"
   ]
  },
  {
   "cell_type": "code",
   "execution_count": null,
   "id": "437a9d43",
   "metadata": {},
   "outputs": [],
   "source": [
    "### Prueba scrapper 1 url\n",
    "#url = \"https://www.martindale.com/attorney/carlos-villegas-del-valle-301593670/#officeLocation\"\n",
    "#url = \"https://www.martindale.com/attorney/rafael-g-rivera-rosario-1572639/\"\n",
    "url = \"https://www.martindale.com/attorney/jairo-jay-mellado-villarreal-1572914/\"\n",
    "\n",
    "resultados = []\n",
    "count = 1\n",
    "driver = setup_driver()\n",
    "wait = WebDriverWait(driver, 15)\n",
    "info_attorney = {}\n",
    "inicio = time.time()\n",
    "for i in range(1):\n",
    "    try:\n",
    "        html = get_html(driver,url)\n",
    "        soup = BeautifulSoup(html, 'html.parser')\n",
    "        \n",
    "        profile_content = soup.select_one('div.attorney-profile-content.profile-content')\n",
    "        if not profile_content:\n",
    "            print(f\"Perfil no encontrado para {url}\")\n",
    "            pass\n",
    "\n",
    "        # Obtencion de elementos princiaples de cada pagina\n",
    "        attorney_card = profile_content.select_one(\".masthead-content\")\n",
    "        firm = attorney_card.find(\"span\").get_text()\n",
    "        url_martindale_firm = attorney_card.find(\"a\")[\"href\"]\n",
    "\n",
    "        # En caso de que no haya un link de firma, el primer link sera la caja de rewiew que redirige a la misma pagina, por eso el #\n",
    "        if \"#\" in url_martindale_firm:\n",
    "            url_martindale_firm = None\n",
    "\n",
    "        # Estructura del diccionario\n",
    "        info_attorney[\"url_martindale\"] = url #URL interna de martindale para cada abogado\n",
    "        info_attorney[\"name\"] = profile_content.find('h1').get_text(strip=True) #Nombre del abogado\n",
    "        info_attorney[\"firm\"] = firm\n",
    "        info_attorney[\"url_firm_martindale\"] = url_martindale_firm\n",
    "\n",
    "        # Busqueda de la sección de links de contacto, no todas las paginas tienen esta sección. por eso se usa try/except \n",
    "        try: \n",
    "            web_bar = profile_content.select_one(\"section.sticky-menu-all:nth-child(2) > nav:nth-child(1)\")\n",
    "            website_firm = web_bar.select('a')[1][\"href\"]\n",
    "            info_attorney[\"website_firm\"] = website_firm if website_firm else None\n",
    "        except Exception as e:\n",
    "            #print(f\"Error al extraer website: {e}\")\n",
    "            info_attorney[\"website\"] = \"\"\n",
    "\n",
    "        #Extraccion de los tags relevantes de cada pagina\n",
    "        main_content_table = soup.find_all(\"div\", class_=\"small-12 columns\")[0]\n",
    "        for section_div in main_content_table.find_all(\"div\", recursive=False):\n",
    "            content_div = section_div.find(\"div\", class_=\"toggle-area__content\")\n",
    "            h2_key = section_div.find(\"h2\") #Titulo de sección por separado\n",
    "            if h2_key and content_div:\n",
    "                h2_key = h2_key.get_text(strip=True)\n",
    "                if \"Areas of Practice\" in h2_key:\n",
    "                    h2_key = \"Areas of Practice\"\n",
    "                print(h2_key)\n",
    "                info_attorney[h2_key] = \"\" #inicializar keys que se encuentran\n",
    "\n",
    "                # Biography and practice areas \n",
    "                child_text = content_div.find('div', class_='truncate-text')\n",
    "                if child_text:\n",
    "                    info_attorney[h2_key] = child_text.get_text(strip=True)\n",
    "                Aoe_area = content_div.find('div', class_='row collapse')\n",
    "                if Aoe_area:\n",
    "                    ul_info = Aoe_area.find('ul')\n",
    "                    if ul_info:\n",
    "                        items = [li.get_text(strip=True) for li in ul_info.find_all('li')]\n",
    "                        info_attorney[h2_key] = ', '.join(items)\n",
    "\n",
    "                # Education and credentials\n",
    "                EnC_area = content_div.find_all(\n",
    "                    lambda tag: tag.name == 'div' and \n",
    "                    all(cls in tag.get('class', []) for cls in ['row', 'collapse', 'experience-section', 'clearfix'])\n",
    "                )\n",
    "                for text in EnC_area:\n",
    "                    text_info = text.get_text(strip=True)\n",
    "                    for line in text_info.split('\\n'):\n",
    "                        if ':' in line:\n",
    "                            k, v = map(str.strip, line.split(\":\", 1))\n",
    "                            info_attorney[k] = v\n",
    "                        else:\n",
    "                            info_attorney[h2_key] = line.strip()\n",
    "                \n",
    "                # Peer rewiew - Pendiente\n",
    "                PrA_section = content_div.find(\"section\", class_=\"profile-peer-reviews\")\n",
    "                if PrA_section: \n",
    "                    rewiew_area = PrA_section.find('div', class_=\"review-top review-top-peer-reviews\")\n",
    "                    rewiew_list = PrA_section.find('div', class_=\"attorney-reviews-list attorney-peer-reviews-list\")\n",
    "                    if rewiew_area and rewiew_list:\n",
    "                        text_rewiew_area = rewiew_area.find_all('span')[2].get_text().strip().splitlines()\n",
    "                        stars = text_rewiew_area[0].split(\"/\")[0].strip()   \n",
    "                        reviews = text_rewiew_area[1].strip(\"()\").split()[0]\n",
    "                        info_attorney[\"profile_peer_review_star\"] = stars\n",
    "                        info_attorney[\"profile_peer_review_count\"] = reviews\n",
    "                    \n",
    "                # Location\n",
    "                firm_offices = content_div.find('ul', id='firmOffices')\n",
    "                if firm_offices:\n",
    "                    location_items = firm_offices.find_all('div', class_='office-address')\n",
    "                    if location_items:\n",
    "                        info_attorney[\"Location\"] = location_items[0].get_text(strip=True)\n",
    "        if info_attorney:\n",
    "            resultados.append(info_attorney)\n",
    "        count += 1 \n",
    "        driver.quit()\n",
    "        False\n",
    "    except (NoSuchElementException, TimeoutException) as e:\n",
    "        print(f\"Error procesando {url}: {str(e)}\")\n",
    "        driver.quit()\n",
    "    driver.quit()\n",
    "    final = time.time() - inicio\n",
    "    print(f\"Tiempo por iteración: {final}\")\n"
   ]
  },
  {
   "cell_type": "markdown",
   "id": "d16e4571",
   "metadata": {},
   "source": [
    "# Corrida final, extracción de datos lista de urls final con filtros aplicados"
   ]
  },
  {
   "cell_type": "code",
   "execution_count": 117,
   "id": "9e8aea39",
   "metadata": {},
   "outputs": [
    {
     "name": "stdout",
     "output_type": "stream",
     "text": [
      "2464\n"
     ]
    }
   ],
   "source": [
    "### carga de listado de urls\n",
    "with open(\"urls_region_PR.pkl\", \"rb\") as f:\n",
    "    urls_total = pickle.load(f) # Carga de lista de diccionarios de abogados de primera iteración, ya la lista no es 0.\n",
    "    # Esta variable va a ser mas general por lo que se va a emplear mas adelante. o asignar a la primera corrida. \n",
    "print(len(urls_total))\n",
    "datos_PR = []\n",
    "datos_parciales = []\n"
   ]
  },
  {
   "cell_type": "code",
   "execution_count": 320,
   "id": "47eddd02",
   "metadata": {},
   "outputs": [
    {
     "name": "stdout",
     "output_type": "stream",
     "text": [
      "accediendo a 2442: https://www.martindale.com/attorney/hector-m-laffitte-11861386/\n",
      "accediendo a 2443: https://www.martindale.com/attorney/ms-lilli-w-marder-esq-799259/\n",
      "accediendo a 2444: https://www.martindale.com/attorney/charles-wayne-jimenez-1574274/\n",
      "accediendo a 2445: https://www.martindale.com/attorney/marisa-brugueras-1573031/\n",
      "accediendo a 2446: https://www.martindale.com/attorney/myria-a-rodriguez-28972826/\n",
      "accediendo a 2447: https://www.martindale.com/attorney/roberto-r-ramos-antonmattei-2849199/\n",
      "accediendo a 2448: https://www.martindale.com/attorney/melissa-lopez-diaz-2849165/\n",
      "accediendo a 2449: https://www.martindale.com/attorney/melvin-a-padilla-feliciano-1573675/\n",
      "accediendo a 2450: https://www.martindale.com/attorney/janitza-m-garcia-marrero-3666579/\n",
      "accediendo a 2451: https://www.martindale.com/attorney/laura-gonzalez-bothwell-1572220/\n",
      "accediendo a 2452: https://www.martindale.com/attorney/florencio-g-vega-diaz-jr-1574121/\n",
      "accediendo a 2453: https://www.martindale.com/attorney/jorge-r-davila-1572930/\n",
      "accediendo a 2454: https://www.martindale.com/attorney/carlos-quilichini-teissonniere-1573453/\n",
      "accediendo a 2455: https://www.martindale.com/attorney/louise-shaw-livingston-231132/\n",
      "accediendo a 2456: https://www.martindale.com/attorney/maria-d-pizarro-figueroa-1571170/\n",
      "accediendo a 2457: https://www.martindale.com/attorney/jorge-bauermeister-1572735/\n",
      "accediendo a 2458: https://www.martindale.com/attorney/veronica-olivieri-barreto-1572841/\n",
      "accediendo a 2459: https://www.martindale.com/attorney/soledad-reichard-megwinoff-1573277/\n",
      "accediendo a 2460: https://www.martindale.com/attorney/tatiana-leal-gonzalez-300327664/\n",
      "accediendo a 2461: https://www.martindale.com/attorney/miguel-a-ceceres-colon-2227072/\n",
      "accediendo a 2462: https://www.martindale.com/attorney/denise-alberty-4719359/\n",
      "accediendo a 2463: https://www.martindale.com/attorney/maria-del-pilar-bobonis-zequeira-1574183/\n"
     ]
    }
   ],
   "source": [
    "datos_parciales = scrape_abogados(urls_total[2442:])\n",
    "#Si falla, revisar en que iteración fue para continuar en la lista de urls_totales\n"
   ]
  },
  {
   "cell_type": "code",
   "execution_count": 321,
   "id": "8b4d7ee2",
   "metadata": {},
   "outputs": [],
   "source": [
    "datos_PR = datos_PR + datos_parciales"
   ]
  },
  {
   "cell_type": "code",
   "execution_count": 322,
   "id": "e1313c83",
   "metadata": {},
   "outputs": [
    {
     "data": {
      "text/plain": [
       "2677"
      ]
     },
     "execution_count": 322,
     "metadata": {},
     "output_type": "execute_result"
    }
   ],
   "source": [
    "len(datos_PR)"
   ]
  },
  {
   "cell_type": "code",
   "execution_count": 323,
   "id": "826040b0",
   "metadata": {},
   "outputs": [
    {
     "data": {
      "text/plain": [
       "2677"
      ]
     },
     "execution_count": 323,
     "metadata": {},
     "output_type": "execute_result"
    }
   ],
   "source": [
    "with open(\"data_attornies.pkl\", \"wb\") as f:\n",
    "    pickle.dump(datos_PR, f)\n",
    "len(datos_PR)"
   ]
  },
  {
   "cell_type": "code",
   "execution_count": 326,
   "id": "80fcc989",
   "metadata": {},
   "outputs": [
    {
     "data": {
      "text/plain": [
       "216"
      ]
     },
     "execution_count": 326,
     "metadata": {},
     "output_type": "execute_result"
    }
   ],
   "source": [
    "with open(\"data_attornies.pkl\", \"rb\") as f:\n",
    "    A = pickle.load(f) # Carga de lista de diccionarios de abogados de primera iteración, ya la lista no es 0.\n",
    "with open(\"practice_area_set.pkl\", \"rb\") as f:\n",
    "    B = pickle.load(f) # Carga de lista de diccionarios de abogados de primera iteración, ya la lista no es 0.\n",
    "with open(\"urls_region_PR.pkl\", \"rb\") as f:\n",
    "    C = pickle.load(f) # Carga de lista de diccionarios de abogados de primera iteración, ya la lista no es 0.\n",
    "\n",
    "len(B)"
   ]
  }
 ],
 "metadata": {
  "kernelspec": {
   "display_name": ".venv",
   "language": "python",
   "name": "python3"
  },
  "language_info": {
   "codemirror_mode": {
    "name": "ipython",
    "version": 3
   },
   "file_extension": ".py",
   "mimetype": "text/x-python",
   "name": "python",
   "nbconvert_exporter": "python",
   "pygments_lexer": "ipython3",
   "version": "3.13.5"
  }
 },
 "nbformat": 4,
 "nbformat_minor": 5
}
